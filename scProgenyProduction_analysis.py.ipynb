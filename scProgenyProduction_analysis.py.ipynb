{
 "cells": [
  {
   "cell_type": "markdown",
   "metadata": {},
   "source": [
    "# single-cell Progeny Production analysis\n",
    "This notebook provides a central place to integrate and analyze transcriptome and progeny production data."
   ]
  },
  {
   "cell_type": "markdown",
   "metadata": {},
   "source": [
    "## Notebook setup\n",
    "First give paths and values to all variables. Then, load in data."
   ]
  },
  {
   "cell_type": "markdown",
   "metadata": {},
   "source": [
    "Python imports:"
   ]
  },
  {
   "cell_type": "code",
   "execution_count": null,
   "metadata": {},
   "outputs": [],
   "source": [
    "from IPython.display import display\n",
    "\n",
    "from dms_variants.constants import CBPALETTE\n",
    "\n",
    "from alignparse import *\n",
    "\n",
    "from Bio.Seq import Seq\n",
    "\n",
    "import numpy\n",
    "\n",
    "import pandas as pd\n",
    "\n",
    "import plotnine as p9\n",
    "\n",
    "import scanpy\n",
    "\n",
    "import scipy\n",
    "\n",
    "import statsmodels.stats.multitest\n",
    "\n",
    "import subprocess"
   ]
  },
  {
   "cell_type": "markdown",
   "metadata": {},
   "source": [
    "Input data paths. Currently hardcoded."
   ]
  },
  {
   "cell_type": "code",
   "execution_count": null,
   "metadata": {},
   "outputs": [],
   "source": [
    "matrix = '/fh/fast/bloom_j/computational_notebooks/bdadonai/2020/viral_long_read_sequencing/barcoded_flu_pdmH1N1/results/aligned_fastq10x/scProgenyProduction_trial3/Solo.out/GeneFull/filtered/matrix.mtx'\n",
    "cell_barcodes = '/fh/fast/bloom_j/computational_notebooks/bdadonai/2020/viral_long_read_sequencing/barcoded_flu_pdmH1N1/results/aligned_fastq10x/scProgenyProduction_trial3/Solo.out/GeneFull/filtered/barcodes.tsv'\n",
    "features = '/fh/fast/bloom_j/computational_notebooks/bdadonai/2020/viral_long_read_sequencing/barcoded_flu_pdmH1N1/results/aligned_fastq10x/scProgenyProduction_trial3/Solo.out/GeneFull/filtered/features.tsv'\n",
    "viral_tag_by_cell_csv = '/fh/fast/bloom_j/computational_notebooks/bdadonai/2020/viral_long_read_sequencing/barcoded_flu_pdmH1N1/results/viral_tags_bcs_in_cells/scProgenyProduction_trial3_cell_barcodes_with_viral_tags.csv.gz'\n",
    "viral_bc_background_freq_csv = '/fh/fast/bloom_j/computational_notebooks/bdadonai/2020/viral_long_read_sequencing/barcoded_flu_pdmH1N1/results/viral_fastq10x/scProgenyProduction_trial3_viral_bc_background_freq.csv.gz'\n",
    "viral_bc_in_progeny_freq_csv = '/fh/fast/bloom_j/computational_notebooks/bdadonai/2020/viral_long_read_sequencing/barcoded_flu_pdmH1N1/results/viral_progeny/scProgenyProduction_trial3_viral_bc_in_progeny_freq.csv.gz'\n",
    "pacbio_mutations_csv = '/fh/fast/bloom_j/computational_notebooks/bdadonai/2020/viral_long_read_sequencing/barcoded_flu_pdmH1N1/results/pacbio/scProgenyProduction_trial3_consensus_UMI_mutations.csv.gz'\n",
    "coinfected_cells_csv = '/fh/fast/bloom_j/computational_notebooks/bdadonai/2020/viral_long_read_sequencing/barcoded_flu_pdmH1N1/results/viral_fastq10x/scProgenyProduction_trial3_coinfected_cells.csv.gz'\n",
    "consensus_muts_by_cell_csv = 'results/pacbio/scProgenyProduction_trial3_consensus_muts_by_cell.csv"
   ]
  },
  {
   "cell_type": "markdown",
   "metadata": {},
   "source": [
    "Global variables for this notebook:"
   ]
  },
  {
   "cell_type": "code",
   "execution_count": null,
   "metadata": {},
   "outputs": [],
   "source": [
    "expt = 'scProgenyProduction_trial3'\n",
    "plot = 'results/viral_fastq10x/scProgenyProduction_trial3_viral_bc_correlations.pdf'\n",
    "viral_genes = ['fluPB2', 'fluPB1', 'fluPA', 'fluHA', 'fluNA', 'fluNP', 'fluM', 'fluNS']\n",
    "barcoded_viral_genes = ['fluHA', 'fluNA']"
   ]
  },
  {
   "cell_type": "markdown",
   "metadata": {},
   "source": [
    "Style parameters. *N.b.* `CBPALETTE` is defined in imports above."
   ]
  },
  {
   "cell_type": "code",
   "execution_count": null,
   "metadata": {},
   "outputs": [],
   "source": [
    "p9.theme_set(p9.theme_classic())\n",
    "CBPALETTE_rich = ['#D81B60', '#1E88E5', '#FFC107', '#004D40']"
   ]
  },
  {
   "cell_type": "markdown",
   "metadata": {},
   "source": [
    "### Load data"
   ]
  },
  {
   "cell_type": "markdown",
   "metadata": {},
   "source": [
    "**Transcriptome** viral barcode frequencies:"
   ]
  },
  {
   "cell_type": "code",
   "execution_count": null,
   "metadata": {},
   "outputs": [],
   "source": [
    "transcriptome_viral_bc_freqs = pd.read_csv(viral_bc_background_freq_csv)\n",
    "assert set(transcriptome_viral_bc_freqs['gene']) == set(barcoded_viral_genes), \\\n",
    "       \"Barcoded genes in barcode counts do not match expectation.\"\n",
    "display(transcriptome_viral_bc_freqs)"
   ]
  },
  {
   "cell_type": "markdown",
   "metadata": {},
   "source": [
    "**Progeny** viral barcode frequencies:"
   ]
  },
  {
   "cell_type": "code",
   "execution_count": null,
   "metadata": {},
   "outputs": [],
   "source": [
    "progeny_viral_bc_freqs = pd.read_csv(viral_bc_in_progeny_freq_csv)\n",
    "assert set(progeny_viral_bc_freqs['gene']) == set(barcoded_viral_genes), \\\n",
    "       \"Barcoded genes in barcode counts do not match expectation.\"\n",
    "progeny_viral_bc_freqs = (progeny_viral_bc_freqs\n",
    "                          .rename(columns={'barcode': 'viral_barcode',\n",
    "                                           'tag': 'infecting_viral_tag',\n",
    "                                           'mean_count': 'count_progeny',\n",
    "                                           'mean_freq': 'freq_progeny'}))\n",
    "display(progeny_viral_bc_freqs)"
   ]
  },
  {
   "cell_type": "markdown",
   "metadata": {},
   "source": [
    "Cell-gene matrix:"
   ]
  },
  {
   "cell_type": "code",
   "execution_count": null,
   "metadata": {},
   "outputs": [],
   "source": [
    "adata = scanpy.read_mtx(matrix)\n",
    "adata.var = pd.read_csv(cell_barcodes,\n",
    "                        names=['cell_barcode'])\n",
    "adata.obs = pd.read_csv(features,\n",
    "                        sep='\\t',\n",
    "                        names=['ensemble_id', 'gene', 'feature_type'])\n",
    "\n",
    "print(f\"Read cell-gene matrix of {adata.n_vars} cells and {adata.n_obs} genes\")\n",
    "\n",
    "assert set(viral_genes).issubset(set(adata.obs['gene'])), 'lack viral genes'"
   ]
  },
  {
   "cell_type": "markdown",
   "metadata": {},
   "source": [
    "### Cross-check data\n",
    "Use assert statements to ensure that that the number and identity of cell barcodes is identical between data sources."
   ]
  },
  {
   "cell_type": "code",
   "execution_count": null,
   "metadata": {},
   "outputs": [],
   "source": [
    "assert transcriptome_viral_bc_freqs['cell_barcode'].nunique() == \\\n",
    "       adata.var['cell_barcode'].nunique(), \\\n",
    "       \"Number of cells discrepancy\"\n",
    "\n",
    "assert set(transcriptome_viral_bc_freqs['cell_barcode']) == \\\n",
    "       set(adata.var['cell_barcode']), \\\n",
    "       \"Cell barcodes do not match between data sources\""
   ]
  },
  {
   "cell_type": "markdown",
   "metadata": {},
   "source": [
    "### Plot raw data\n",
    "Plot data from each source without filtering or processing. This is mostly for exploration and transparency."
   ]
  },
  {
   "cell_type": "markdown",
   "metadata": {},
   "source": [
    "#### Viral barcode transcription"
   ]
  },
  {
   "cell_type": "code",
   "execution_count": null,
   "metadata": {},
   "outputs": [],
   "source": [
    "fig = (p9.ggplot((transcriptome_viral_bc_freqs\n",
    "                  .query('viral_barcode.notnull()',\n",
    "                         engine='python')),\n",
    "                 p9.aes(x='viral_bc_UMIs')) +\n",
    "       p9.geom_histogram(bins=30) +\n",
    "       p9.facet_grid('~gene') +\n",
    "       p9.ggtitle(f'Viral barcode transcription') +\n",
    "       p9.labs(x='UMIs',\n",
    "               y='number of viral barcodes') +\n",
    "       p9.scale_x_log10() +\n",
    "       p9.theme(figure_size=(6, 3),\n",
    "                plot_title=p9.element_text(size=12),\n",
    "                axis_title=p9.element_text(size=10),\n",
    "                legend_title=p9.element_text(size=10),\n",
    "                legend_title_align='center'))\n",
    "display(fig)"
   ]
  },
  {
   "cell_type": "code",
   "execution_count": null,
   "metadata": {},
   "outputs": [],
   "source": [
    "fig = (p9.ggplot((transcriptome_viral_bc_freqs\n",
    "                  .query('viral_barcode.notnull()',\n",
    "                         engine='python')),\n",
    "                 p9.aes(x='frac_viral_bc_UMIs')) +\n",
    "       p9.geom_histogram(bins=30) +\n",
    "       p9.facet_grid('~gene') +\n",
    "       p9.ggtitle(f'Viral barcode transcription') +\n",
    "       p9.labs(x='fraction of total UMIs in cell',\n",
    "               y='number of viral barcodes') +\n",
    "       p9.scale_x_log10() +\n",
    "       p9.theme(figure_size=(6, 3),\n",
    "                plot_title=p9.element_text(size=12),\n",
    "                axis_title=p9.element_text(size=10),\n",
    "                legend_title=p9.element_text(size=10),\n",
    "                legend_title_align='center'))\n",
    "display(fig)"
   ]
  },
  {
   "cell_type": "markdown",
   "metadata": {},
   "source": [
    "#### Progeny production"
   ]
  },
  {
   "cell_type": "code",
   "execution_count": null,
   "metadata": {},
   "outputs": [],
   "source": [
    "fig = (p9.ggplot(progeny_viral_bc_freqs,\n",
    "                 p9.aes(x='count_progeny')) +\n",
    "       p9.geom_histogram(bins=30) +\n",
    "       p9.facet_grid('source~gene') +\n",
    "       p9.ggtitle(f'Viral barcodes in progeny') +\n",
    "       p9.labs(x='average reads in progeny (two replicates)',\n",
    "               y='number of viral barcodes') +\n",
    "       p9.scale_x_log10() +\n",
    "       p9.theme(figure_size=(6, 6),\n",
    "                plot_title=p9.element_text(size=12),\n",
    "                axis_title=p9.element_text(size=10),\n",
    "                legend_title=p9.element_text(size=10),\n",
    "                legend_title_align='center'))\n",
    "display(fig)"
   ]
  },
  {
   "cell_type": "code",
   "execution_count": null,
   "metadata": {},
   "outputs": [],
   "source": [
    "fig = (p9.ggplot(progeny_viral_bc_freqs,\n",
    "                 p9.aes(x='freq_progeny')) +\n",
    "       p9.geom_histogram(bins=30) +\n",
    "       p9.facet_grid('source~gene') +\n",
    "       p9.ggtitle(f'Viral barcodes in progeny') +\n",
    "       p9.labs(x='average fraction of reads in progeny (two replicates)',\n",
    "               y='number of viral barcodes') +\n",
    "       p9.scale_x_log10() +\n",
    "       p9.theme(figure_size=(6, 6),\n",
    "                plot_title=p9.element_text(size=12),\n",
    "                axis_title=p9.element_text(size=10),\n",
    "                legend_title=p9.element_text(size=10),\n",
    "                legend_title_align='center'))\n",
    "display(fig)"
   ]
  },
  {
   "cell_type": "markdown",
   "metadata": {},
   "source": [
    "### Process data\n",
    "Next, I will merge the data into a few useable dataframes. I will perform calculations on these data that will help us visualize technical error and filter."
   ]
  },
  {
   "cell_type": "markdown",
   "metadata": {},
   "source": [
    "#### Merge all viral barcode data into a central dataframe called `viral_bc_freqs`\n",
    "\n",
    "Structure of the final dataframe should be as follows:\n",
    "1. Cell barcode\n",
    "2. Infected\n",
    "3. Infecting viral tag\n",
    "4. Gene\n",
    "5. Viral barcode\n",
    "6. Count in the transcriptome (`viral_bc_UMIs`)\n",
    "7. Frequency in transcriptome (`frac_viral_bc_UMIs`)\n",
    "8. Progeny sample source (`source`)\n",
    "8. Count in the progeny sequencing (`count_progeny`)\n",
    "9. Frequency in progeny sequencing (`freq_progeny`)"
   ]
  },
  {
   "cell_type": "markdown",
   "metadata": {},
   "source": [
    "First, make two copies of the data in `transcritome_viral_bc_freqs`. Assign one to each progeny source (`supernatant` or `second_infection`)."
   ]
  },
  {
   "cell_type": "code",
   "execution_count": null,
   "metadata": {},
   "outputs": [],
   "source": [
    "transcriptome_viral_bc_freqs = (\n",
    "    pd.concat([transcriptome_viral_bc_freqs\n",
    "               .assign(source=source)\n",
    "               for source in ['supernatant', 'second_infection']]))\n",
    "transcriptome_viral_bc_freqs"
   ]
  },
  {
   "cell_type": "markdown",
   "metadata": {},
   "source": [
    "Then, do the merge"
   ]
  },
  {
   "cell_type": "code",
   "execution_count": null,
   "metadata": {},
   "outputs": [],
   "source": [
    "viral_bc_freqs = pd.merge(\n",
    "    left=transcriptome_viral_bc_freqs,\n",
    "    right=progeny_viral_bc_freqs,\n",
    "    how='outer',\n",
    "    on=['viral_barcode', 'gene', 'infecting_viral_tag', 'source'])\n",
    "\n",
    "viral_bc_freqs"
   ]
  },
  {
   "cell_type": "markdown",
   "metadata": {},
   "source": [
    "Fill `NA` values in progeny with `0`. It is meaningful if a viral barcode is seen in the transcriptome but absent from the supernatant; no progeny was produced by that infected cell."
   ]
  },
  {
   "cell_type": "code",
   "execution_count": null,
   "metadata": {},
   "outputs": [],
   "source": [
    "viral_bc_freqs = viral_bc_freqs\n",
    "\n",
    "viral_bc_freqs[['count_progeny', 'freq_progeny']] = (\n",
    "    viral_bc_freqs[['count_progeny', 'freq_progeny']]\n",
    "    .fillna(0)\n",
    ")\n",
    "\n",
    "viral_bc_freqs"
   ]
  },
  {
   "cell_type": "markdown",
   "metadata": {},
   "source": [
    "Get total UMIs per cell. Get viral UMI counts and fractions per cell. Assert that these match what is already found in `viral_bc_freqs`:"
   ]
  },
  {
   "cell_type": "code",
   "execution_count": null,
   "metadata": {},
   "outputs": [],
   "source": [
    "umi_counts = (\n",
    "    adata.var\n",
    "    .assign(total_UMIs=numpy.sum(adata.X, axis=0).A1.astype(int),\n",
    "            viral_UMIs=numpy.sum(adata[adata.obs['gene']\n",
    "                                       .isin(viral_genes), ].X,\n",
    "                                 axis=0).A1.astype(int),\n",
    "            )\n",
    "    )\n",
    "\n",
    "viral_bc_freqs = pd.merge(\n",
    "    left=viral_bc_freqs,\n",
    "    right=umi_counts,\n",
    "    how='outer',\n",
    "    on=['cell_barcode'])\n",
    "\n",
    "test_viral_frac_UMIs = pd.Series(\n",
    "    viral_bc_freqs['viral_UMIs'] / viral_bc_freqs['total_UMIs'],\n",
    "    name='frac_viral_UMIs')\n",
    "\n",
    "pd.testing.assert_series_equal(\n",
    "    test_viral_frac_UMIs, viral_bc_freqs['frac_viral_UMIs'])\n",
    "\n",
    "viral_bc_freqs"
   ]
  },
  {
   "cell_type": "markdown",
   "metadata": {},
   "source": [
    "Do a quick check to make sure that the transcriptome measures ('infected', 'infecting_viral_tag', 'frac_viral_UMIs', 'total_UMIs', and 'viral_UMIs') are all the same for each cell barcode."
   ]
  },
  {
   "cell_type": "code",
   "execution_count": null,
   "metadata": {},
   "outputs": [],
   "source": [
    "per_cell_measures = ['infected',\n",
    "                     'infecting_viral_tag',\n",
    "                     'frac_viral_UMIs',\n",
    "                     'total_UMIs',\n",
    "                     'viral_UMIs']\n",
    "\n",
    "print('Checking that every cell is consistent '\n",
    "      'with regard to the following measures:')\n",
    "for measure in per_cell_measures:\n",
    "    print('\\n'+measure)\n",
    "    print(all(viral_bc_freqs.groupby('cell_barcode')\n",
    "              [f'{measure}'].nunique() == 1))\n",
    "    assert all(viral_bc_freqs.groupby('cell_barcode') \\\n",
    "               [f'{measure}'].nunique() == 1)"
   ]
  },
  {
   "cell_type": "markdown",
   "metadata": {},
   "source": [
    "#### Raw correlation of viral transcription and progeny production\n",
    "Plot raw data:"
   ]
  },
  {
   "cell_type": "code",
   "execution_count": null,
   "metadata": {},
   "outputs": [],
   "source": [
    "fig = (p9.ggplot((viral_bc_freqs.fillna(0)),\n",
    "                 p9.aes(x='frac_viral_bc_UMIs',\n",
    "                        y='freq_progeny')) +\n",
    "       p9.geom_point(alpha=0.3) +\n",
    "       p9.facet_grid('source~gene') +\n",
    "       p9.ggtitle('viral barcode transcription and progeny production\\n'\n",
    "                  f'{expt}') +\n",
    "       p9.scale_x_log10() +\n",
    "       p9.scale_y_log10() +\n",
    "       p9.labs(x='fraction of total UMIs in cell',\n",
    "               y='fraction of total reads in progeny') +\n",
    "       p9.theme(figure_size=(6, 6),\n",
    "                plot_title=p9.element_text(size=9),\n",
    "                axis_title=p9.element_text(size=9),\n",
    "                legend_title=p9.element_text(size=9),\n",
    "                legend_title_align='center'))\n",
    "display(fig)"
   ]
  },
  {
   "cell_type": "markdown",
   "metadata": {},
   "source": [
    "#### Plot annotated by infection status"
   ]
  },
  {
   "cell_type": "code",
   "execution_count": null,
   "metadata": {},
   "outputs": [],
   "source": [
    "fig = (p9.ggplot((viral_bc_freqs.fillna(0)),\n",
    "                 p9.aes(x='frac_viral_bc_UMIs',\n",
    "                        y='freq_progeny',\n",
    "                        color='infected')) +\n",
    "       p9.geom_point(alpha=0.3) +\n",
    "       p9.facet_grid('source~gene') +\n",
    "       p9.ggtitle('viral barcode transcription and progeny production\\n'\n",
    "                  f'{expt}') +\n",
    "       p9.scale_x_log10() +\n",
    "       p9.scale_y_log10() +\n",
    "       p9.labs(x='fraction of total UMIs in cell',\n",
    "               y='fraction of total reads in progeny') +\n",
    "       p9.theme(figure_size=(6, 6),\n",
    "                plot_title=p9.element_text(size=9),\n",
    "                axis_title=p9.element_text(size=9),\n",
    "                legend_title=p9.element_text(size=9),\n",
    "                legend_title_align='center') +\n",
    "       p9.scale_color_manual(values=['orange','grey']))\n",
    "display(fig)"
   ]
  },
  {
   "cell_type": "markdown",
   "metadata": {},
   "source": [
    "#### Plot annotated by variant"
   ]
  },
  {
   "cell_type": "code",
   "execution_count": null,
   "metadata": {},
   "outputs": [],
   "source": [
    "fig = (p9.ggplot((viral_bc_freqs.fillna(0)),\n",
    "                 p9.aes(x='frac_viral_bc_UMIs',\n",
    "                        y='freq_progeny',\n",
    "                        color='infecting_viral_tag')) +\n",
    "       p9.geom_point(alpha=0.2) +\n",
    "       p9.facet_grid('source~gene') +\n",
    "       p9.ggtitle('viral barcode transcription and supernatant progeny production\\n'\n",
    "                  f'{expt}') +\n",
    "       p9.scale_x_log10() +\n",
    "       p9.scale_y_log10() +\n",
    "       p9.labs(x='fraction of total UMIs in cell',\n",
    "               y='fraction of total reads in progeny') +\n",
    "       p9.theme(figure_size=(6, 6),\n",
    "                plot_title=p9.element_text(size=9),\n",
    "                axis_title=p9.element_text(size=9),\n",
    "                legend_title=p9.element_text(size=9),\n",
    "                legend_title_align='center') +\n",
    "       p9.scale_color_manual(CBPALETTE_rich[0:]))\n",
    "display(fig)"
   ]
  },
  {
   "cell_type": "markdown",
   "metadata": {},
   "source": [
    "#### Significant viral barcodes found above background frequency in uninfected cells\n",
    "During viral barcode processing from the transcriptome, the frequency of viral barcodes is calculated in uninfected cells. A poisson distribution is built around the expected number of UMIs for each cell-gene, and viral barcodes are called as significant if they reject the null hypothesis that they are pulled from this distribution."
   ]
  },
  {
   "cell_type": "code",
   "execution_count": null,
   "metadata": {},
   "outputs": [],
   "source": [
    "fig = (p9.ggplot((viral_bc_freqs.fillna(0)),\n",
    "                 p9.aes(x='frac_viral_bc_UMIs',\n",
    "                        y='freq_progeny',\n",
    "                        color='reject_uninfected')) +\n",
    "       p9.geom_point(alpha=0.3) +\n",
    "       p9.facet_grid('source~gene') +\n",
    "       p9.ggtitle('viral barcode above background frequency'\n",
    "                  f'{expt}\\n') +\n",
    "       p9.scale_x_log10() +\n",
    "       p9.scale_y_log10() +\n",
    "       p9.labs(x='fraction of total UMIs in cell',\n",
    "               y='fraction of total reads in progeny') +\n",
    "       p9.theme(figure_size=(6, 6),\n",
    "                plot_title=p9.element_text(size=9),\n",
    "                axis_title=p9.element_text(size=9),\n",
    "                legend_title=p9.element_text(size=9),\n",
    "                legend_title_align='center') +\n",
    "       p9.scale_color_manual(values=['orange','grey']))\n",
    "display(fig)"
   ]
  },
  {
   "cell_type": "markdown",
   "metadata": {},
   "source": [
    "#### Viral barcode sharing across cells\n",
    "How often is a significant viral barcode found in more than one cell? This should be very unlikely in a low MOI infection."
   ]
  },
  {
   "cell_type": "code",
   "execution_count": null,
   "metadata": {},
   "outputs": [],
   "source": [
    "n_cell_bc = (viral_bc_freqs\n",
    "             .query('(reject_uninfected == True) and '\n",
    "                    '(cell_barcode.notna())',\n",
    "                    engine='python')\n",
    "             .groupby(['infecting_viral_tag',\n",
    "                       'gene',\n",
    "                       'viral_barcode',\n",
    "                       'reject_uninfected'])\n",
    "             ['cell_barcode']\n",
    "             .nunique()\n",
    "             .reset_index()\n",
    "             .rename(columns={'cell_barcode': 'n_cell_bc'}))\n",
    "\n",
    "n_cell_bc\n",
    "\n",
    "viral_bc_freqs = pd.merge(\n",
    "    viral_bc_freqs,\n",
    "    n_cell_bc,\n",
    "    on=['infecting_viral_tag',\n",
    "        'gene',\n",
    "        'viral_barcode',\n",
    "        'reject_uninfected'],\n",
    "    how='left')\n",
    "\n",
    "viral_bc_freqs"
   ]
  },
  {
   "cell_type": "markdown",
   "metadata": {},
   "source": [
    "Plot distribution of cell barcode per viral barcode."
   ]
  },
  {
   "cell_type": "code",
   "execution_count": null,
   "metadata": {},
   "outputs": [],
   "source": [
    "fig = (p9.ggplot(viral_bc_freqs\n",
    "                 .query('(reject_uninfected == True) and '\n",
    "                        '(cell_barcode.notna())',\n",
    "                        engine='python')) +\n",
    "       p9.geom_histogram(p9.aes(x='n_cell_bc'),\n",
    "                         binwidth=1,\n",
    "                         position='dodge') +\n",
    "       p9.facet_grid('~gene') +\n",
    "       p9.ggtitle('Number of cells per viral barcode\\n'\n",
    "                  f'{expt}') +\n",
    "       p9.xlab('number of cells viral barcode is found in') +\n",
    "       p9.theme(figure_size=(5, 2),\n",
    "                plot_title=p9.element_text(size=11),\n",
    "                axis_title=p9.element_text(size=10),\n",
    "                legend_title=p9.element_text(size=10),\n",
    "                legend_title_align='center'))\n",
    "display(fig)"
   ]
  },
  {
   "cell_type": "markdown",
   "metadata": {},
   "source": [
    "Now I will label viral barcodes that are found in more than 1 cells."
   ]
  },
  {
   "cell_type": "code",
   "execution_count": null,
   "metadata": {},
   "outputs": [],
   "source": [
    "viral_bc_freqs['gt1_cell'] = (\n",
    "    viral_bc_freqs['n_cell_bc'] > 1)\n",
    "\n",
    "viral_bc_freqs"
   ]
  },
  {
   "cell_type": "markdown",
   "metadata": {},
   "source": [
    "Plot number of viral barcodes that were found in more than 1 cell:"
   ]
  },
  {
   "cell_type": "code",
   "execution_count": null,
   "metadata": {},
   "outputs": [],
   "source": [
    "fig = (p9.ggplot((viral_bc_freqs\n",
    "                  .query('(reject_uninfected == True) and '\n",
    "                         '(cell_barcode.notna())',\n",
    "                         engine='python')),\n",
    "                 p9.aes(x='infecting_viral_tag',\n",
    "                        fill='gt1_cell')) +\n",
    "       p9.geom_bar(stat='count', position='dodge') +\n",
    "       p9.ggtitle('viral barcodes found in more than 1 cell\\n'\n",
    "                  f'{expt}') +\n",
    "       p9.facet_grid('~gene') +\n",
    "       p9.theme(figure_size=(4, 2),\n",
    "                plot_title=p9.element_text(size=10),\n",
    "                axis_title=p9.element_text(size=10),\n",
    "                legend_title=p9.element_text(size=9),\n",
    "                legend_title_align='center') +\n",
    "       p9.scale_fill_manual(CBPALETTE[0:]))\n",
    "display(fig)"
   ]
  },
  {
   "cell_type": "code",
   "execution_count": null,
   "metadata": {},
   "outputs": [],
   "source": [
    "fig = (p9.ggplot((viral_bc_freqs\n",
    "                  .query('(reject_uninfected == True) and '\n",
    "                         '(cell_barcode.notna())',\n",
    "                         engine='python')),\n",
    "                 p9.aes(x='infected',\n",
    "                        fill='gt1_cell')) +\n",
    "       p9.geom_bar(stat='count', position='dodge') +\n",
    "       p9.ggtitle('viral barcodes found in more than 1 cell\\n'\n",
    "                  f'{expt}') +\n",
    "       p9.facet_grid('~gene') +\n",
    "       p9.theme(figure_size=(4, 2),\n",
    "                plot_title=p9.element_text(size=10),\n",
    "                axis_title=p9.element_text(size=10),\n",
    "                legend_title=p9.element_text(size=9),\n",
    "                legend_title_align='center') +\n",
    "       p9.scale_fill_manual(CBPALETTE[0:]))\n",
    "display(fig)"
   ]
  },
  {
   "cell_type": "markdown",
   "metadata": {},
   "source": [
    "#### Plot annotated with significant viral barcodes found in more than one cell"
   ]
  },
  {
   "cell_type": "code",
   "execution_count": null,
   "metadata": {},
   "outputs": [],
   "source": [
    "fig = (p9.ggplot(viral_bc_freqs.fillna(0),\n",
    "                 p9.aes(x='frac_viral_bc_UMIs',\n",
    "                        y='freq_progeny',\n",
    "                        color='gt1_cell')) +\n",
    "       p9.geom_point(alpha=0.3) +\n",
    "       p9.facet_grid('source~gene') +\n",
    "       p9.ggtitle(f'{expt}') +\n",
    "       p9.scale_x_log10() +\n",
    "       p9.scale_y_log10() +\n",
    "       p9.labs(x='fraction of total UMIs in cell',\n",
    "               y='fraction of total reads in supernatant') +\n",
    "       p9.theme(figure_size=(6, 6),\n",
    "                plot_title=p9.element_text(size=9),\n",
    "                axis_title=p9.element_text(size=9),\n",
    "                legend_title=p9.element_text(size=9),\n",
    "                legend_title_align='center') +\n",
    "       p9.scale_color_manual(values=['grey','orange']))\n",
    "display(fig)"
   ]
  },
  {
   "cell_type": "markdown",
   "metadata": {},
   "source": [
    "#### Viral barcodes per cell\n",
    "Count the number of significant viral barcodes (above background) in each cell on each segment."
   ]
  },
  {
   "cell_type": "code",
   "execution_count": null,
   "metadata": {},
   "outputs": [],
   "source": [
    "n_viral_bc = (viral_bc_freqs\n",
    "             .query('(reject_uninfected == True) and '\n",
    "                    '(cell_barcode.notna())',\n",
    "                    engine='python')\n",
    "             .groupby(['infecting_viral_tag',\n",
    "                       'gene',\n",
    "                       'cell_barcode',\n",
    "                       'reject_uninfected'])\n",
    "             ['viral_barcode']\n",
    "             .nunique()\n",
    "             .reset_index()\n",
    "             .rename(columns={'viral_barcode': 'n_viral_bc'}))\n",
    "\n",
    "viral_bc_freqs = pd.merge(\n",
    "    viral_bc_freqs,\n",
    "    n_viral_bc,\n",
    "    on=['infecting_viral_tag',\n",
    "        'gene',\n",
    "        'cell_barcode',\n",
    "        'reject_uninfected'],\n",
    "    how='left')\n",
    "\n",
    "viral_bc_freqs"
   ]
  },
  {
   "cell_type": "markdown",
   "metadata": {},
   "source": [
    "Plot distribution of viral barcode per cell."
   ]
  },
  {
   "cell_type": "code",
   "execution_count": null,
   "metadata": {},
   "outputs": [],
   "source": [
    "fig = (p9.ggplot(viral_bc_freqs\n",
    "                 .query('(reject_uninfected == True) and '\n",
    "                        '(cell_barcode.notna())',\n",
    "                        engine='python')) +\n",
    "       p9.geom_histogram(p9.aes(x='n_viral_bc'),\n",
    "                         binwidth=1,\n",
    "                         position='dodge') +\n",
    "       p9.facet_grid('~gene') +\n",
    "       p9.ggtitle('Number of significant viral barcodes per cell\\n'\n",
    "                  f'{expt}') +\n",
    "       p9.xlab('number of significant viral barcodes in cell') +\n",
    "       p9.ylab('number of cells') +\n",
    "       p9.theme(figure_size=(5, 2),\n",
    "                plot_title=p9.element_text(size=11),\n",
    "                axis_title=p9.element_text(size=10),\n",
    "                legend_title=p9.element_text(size=10),\n",
    "                legend_title_align='center'))\n",
    "display(fig)"
   ]
  },
  {
   "cell_type": "markdown",
   "metadata": {},
   "source": [
    "### Annotate cells as coinfected\n",
    "I will label a cell as coinfected if either `fluHA` segment or `fluNA` segment has more than 1 significant viral barcode."
   ]
  },
  {
   "cell_type": "code",
   "execution_count": null,
   "metadata": {},
   "outputs": [],
   "source": [
    "coinfected_cells = (\n",
    "    viral_bc_freqs\n",
    "    .query('infected == True')\n",
    "    [['cell_barcode',\n",
    "      'infecting_viral_tag',\n",
    "      'gene',\n",
    "      'n_viral_bc']]\n",
    "    .drop_duplicates()\n",
    "    .dropna()\n",
    "    .pivot(\n",
    "       index=['cell_barcode', 'infecting_viral_tag'],\n",
    "       columns=['gene'],\n",
    "       values='n_viral_bc')\n",
    "    .reset_index()\n",
    "    .rename(columns={'gene':''})\n",
    "    .fillna(0)\n",
    ")\n",
    "\n",
    "coinfected_cells['coinfected'] = (\n",
    "    (coinfected_cells['fluHA'] > 1) |\n",
    "    (coinfected_cells['fluNA'] > 1)\n",
    ")\n",
    "\n",
    "coinfected_cells"
   ]
  },
  {
   "cell_type": "markdown",
   "metadata": {},
   "source": [
    "Plot number of cells called as coinfected:"
   ]
  },
  {
   "cell_type": "code",
   "execution_count": null,
   "metadata": {},
   "outputs": [],
   "source": [
    "fig = (p9.ggplot(coinfected_cells,\n",
    "                 p9.aes(x='infecting_viral_tag',\n",
    "                        fill='coinfected')) +\n",
    "              p9.geom_bar(stat='count', position='dodge') +\n",
    "              p9.ggtitle('infected cell has more than 1 viral bc\\n'\n",
    "                         f'{expt}') +\n",
    "              p9.theme(figure_size=(4, 2),\n",
    "                       plot_title=p9.element_text(size=10),\n",
    "                       axis_title=p9.element_text(size=10),\n",
    "                       legend_title=p9.element_text(size=9),\n",
    "                       legend_title_align='center') +\n",
    "              p9.scale_fill_manual(CBPALETTE[0:]))\n",
    "display(fig)"
   ]
  },
  {
   "cell_type": "markdown",
   "metadata": {},
   "source": [
    "Plot number of viral barcodes on each barcoded segment:"
   ]
  },
  {
   "cell_type": "code",
   "execution_count": null,
   "metadata": {},
   "outputs": [],
   "source": [
    "fig = (p9.ggplot(coinfected_cells,\n",
    "                 p9.aes(x='fluHA',\n",
    "                        y='fluNA',\n",
    "                        color='coinfected')) +\n",
    "       p9.geom_jitter(alpha=0.1) +\n",
    "       p9.ggtitle('unique viral barcodes\\n'\n",
    "                  f'{expt}') +\n",
    "       p9.theme(figure_size=(2, 2),\n",
    "                plot_title=p9.element_text(size=9),\n",
    "                axis_title=p9.element_text(size=9),\n",
    "                legend_title=p9.element_text(size=9),\n",
    "                legend_title_align='center') +\n",
    "       p9.scale_color_manual(values=['grey','orange']))\n",
    "display(fig)"
   ]
  },
  {
   "cell_type": "markdown",
   "metadata": {},
   "source": [
    "Integrate coinfection call into viral_bc_freqs:"
   ]
  },
  {
   "cell_type": "code",
   "execution_count": null,
   "metadata": {},
   "outputs": [],
   "source": [
    "viral_bc_freqs =(\n",
    "  pd.merge(\n",
    "    left=viral_bc_freqs,\n",
    "    right=coinfected_cells[['cell_barcode', 'coinfected']],\n",
    "    how='left',\n",
    "    on=['cell_barcode'],\n",
    "    validate='many_to_one'))\n",
    "\n",
    "viral_bc_freqs['coinfected'] = viral_bc_freqs['coinfected'].fillna(False)\n",
    "\n",
    "viral_bc_freqs[['infected','coinfected']].value_counts()"
   ]
  },
  {
   "cell_type": "markdown",
   "metadata": {},
   "source": [
    "#### Plot annotated highlighting cells with more than 1 significant viral barcode"
   ]
  },
  {
   "cell_type": "code",
   "execution_count": null,
   "metadata": {},
   "outputs": [],
   "source": [
    "fig = (p9.ggplot(viral_bc_freqs.fillna(0),\n",
    "                 p9.aes(x='frac_viral_bc_UMIs',\n",
    "                        y='freq_progeny',\n",
    "                        color='coinfected')) +\n",
    "       p9.geom_point(alpha=0.3) +\n",
    "       p9.facet_grid('source~gene') +\n",
    "       p9.ggtitle(f'{expt}') +\n",
    "       p9.scale_x_log10() +\n",
    "       p9.scale_y_log10() +\n",
    "       p9.labs(x='fraction of total UMIs in cell',\n",
    "               y='fraction of total reads in supernatant') +\n",
    "       p9.theme(figure_size=(6, 6),\n",
    "                plot_title=p9.element_text(size=9),\n",
    "                axis_title=p9.element_text(size=9),\n",
    "                legend_title=p9.element_text(size=9),\n",
    "                legend_title_align='center') +\n",
    "       p9.scale_color_manual(values=['grey','orange']))\n",
    "display(fig)"
   ]
  },
  {
   "cell_type": "markdown",
   "metadata": {},
   "source": [
    "#### Viral barcode rank in cell\n",
    "I will rank each viral barcode in each cell-gene. I will see what fraction of all viral barcode UMIs each viral barcode accounts for.\n",
    "\n",
    "To do this, I will:\n",
    "* Group viral barcodes by cell-gene\n",
    "* Sum fraction of cell UMIs that are assigned to **significant** viral barcodes in that cell-gene\n",
    "* Rank only viral barcodes **that are significant above uninfected background**"
   ]
  },
  {
   "cell_type": "markdown",
   "metadata": {},
   "source": [
    "Sum all **significant** viral bc freqs for each cell-gene:"
   ]
  },
  {
   "cell_type": "code",
   "execution_count": null,
   "metadata": {},
   "outputs": [],
   "source": [
    "viral_bc_freqs = (\n",
    "    viral_bc_freqs\n",
    "    .assign(\n",
    "        cell_total_frac_viral_bc_UMIs=lambda x: x\n",
    "                                                .query('reject_uninfected == True')\n",
    "                                                .groupby(['cell_barcode',\n",
    "                                                          'gene',\n",
    "                                                          'source'])\n",
    "                                                ['frac_viral_bc_UMIs']\n",
    "                                                .transform('sum')))\n",
    "\n",
    "viral_bc_freqs"
   ]
  },
  {
   "cell_type": "markdown",
   "metadata": {},
   "source": [
    "Calculate proportion of total significant viral bc UMI fraction in cell-gene that is derived from each significant viral bc:"
   ]
  },
  {
   "cell_type": "code",
   "execution_count": null,
   "metadata": {},
   "outputs": [],
   "source": [
    "viral_bc_freqs = (\n",
    "    viral_bc_freqs\n",
    "    .assign(\n",
    "        prop_cell_viral_bc_UMIs=lambda x: x['frac_viral_bc_UMIs'] /\n",
    "                                          x['cell_total_frac_viral_bc_UMIs']))\n",
    "\n",
    "viral_bc_freqs"
   ]
  },
  {
   "cell_type": "markdown",
   "metadata": {},
   "source": [
    "Rank significant viral barcodes within each cell-gene:"
   ]
  },
  {
   "cell_type": "code",
   "execution_count": null,
   "metadata": {},
   "outputs": [],
   "source": [
    "viral_bc_freqs = (\n",
    "    viral_bc_freqs\n",
    "    .assign(viral_bc_rank=lambda x: x.groupby(['cell_barcode', 'gene', 'source'])\n",
    "                                     ['prop_cell_viral_bc_UMIs']\n",
    "                                     .rank('dense', ascending=False)))\n",
    "\n",
    "viral_bc_freqs"
   ]
  },
  {
   "cell_type": "code",
   "execution_count": null,
   "metadata": {},
   "outputs": [],
   "source": [
    "fig = (p9.ggplot(viral_bc_freqs\n",
    "                 .query('(reject_uninfected == True) and '\n",
    "                        '(cell_barcode.notna())',\n",
    "                        engine='python')) +\n",
    "       p9.geom_histogram(p9.aes(x='viral_bc_rank'),\n",
    "                         binwidth=1,\n",
    "                         position='dodge') +\n",
    "       p9.facet_grid('~gene') +\n",
    "       p9.ggtitle('Number of viral barcodes per cell\\n'\n",
    "                  f'{expt}') +\n",
    "       p9.xlab('viral barcode rank in cell-gene') +\n",
    "       p9.ylab('count of viral barcodes') +\n",
    "       p9.theme(figure_size=(5, 2),\n",
    "                plot_title=p9.element_text(size=11),\n",
    "                axis_title=p9.element_text(size=10),\n",
    "                legend_title=p9.element_text(size=10),\n",
    "                legend_title_align='center'))\n",
    "display(fig)"
   ]
  },
  {
   "cell_type": "code",
   "execution_count": null,
   "metadata": {},
   "outputs": [],
   "source": [
    "fig = (p9.ggplot((viral_bc_freqs),\n",
    "                 p9.aes(x='viral_bc_rank',\n",
    "                        y='prop_cell_viral_bc_UMIs')) +\n",
    "       p9.geom_point(alpha=0.01) +\n",
    "       p9.facet_grid('~gene') +\n",
    "       p9.ggtitle(f'{expt}') +\n",
    "       p9.labs(x='rank of viral bc in cell-gene',\n",
    "               y='proportion of viral bc UMIs in cell-gene') +\n",
    "       p9.theme(figure_size=(6, 3),\n",
    "                plot_title=p9.element_text(size=9),\n",
    "                axis_title=p9.element_text(size=9),\n",
    "                legend_title=p9.element_text(size=9),\n",
    "                legend_title_align='center') +\n",
    "      p9.scale_color_discrete(guide=False))\n",
    "display(fig)"
   ]
  },
  {
   "cell_type": "code",
   "execution_count": null,
   "metadata": {},
   "outputs": [],
   "source": []
  },
  {
   "cell_type": "markdown",
   "metadata": {},
   "source": [
    "**Sanity check: viral rank vs number of viral barcodes per cell.**\n",
    "\n",
    "The `n_significant_viral_bc_per_cell` histogram and `significant_viral_bc_rank_per_cell` histgoram do not look identical. I think some significant viral barcodes may be assigned duplicate ranks. I should check this and make sure it makes sense.\n",
    "\n",
    "Result: Yes, sometimes low frequency viral barcodes in a cell have the same number of UMIs and get assigned identical ranks."
   ]
  },
  {
   "cell_type": "code",
   "execution_count": null,
   "metadata": {},
   "outputs": [],
   "source": [
    "viral_bc_freqs.query('n_viral_bc > 3')"
   ]
  },
  {
   "cell_type": "markdown",
   "metadata": {},
   "source": [
    "#### Annotate most abundant viral barcode for each cell-gene:"
   ]
  },
  {
   "cell_type": "code",
   "execution_count": null,
   "metadata": {},
   "outputs": [],
   "source": [
    "viral_bc_freqs['top_viral_bc'] = (viral_bc_freqs['viral_bc_rank'] == 1)\n",
    "viral_bc_freqs['top_viral_bc'].value_counts()"
   ]
  },
  {
   "cell_type": "markdown",
   "metadata": {},
   "source": [
    "#### Plot with most abundant viral barcode annotated:"
   ]
  },
  {
   "cell_type": "code",
   "execution_count": null,
   "metadata": {},
   "outputs": [],
   "source": [
    "fig = (p9.ggplot(viral_bc_freqs.fillna(0),\n",
    "                 p9.aes(x='frac_viral_bc_UMIs',\n",
    "                        y='freq_progeny',\n",
    "                        color='top_viral_bc')) +\n",
    "       p9.geom_point(alpha=0.3) +\n",
    "       p9.facet_grid('source~gene') +\n",
    "       p9.ggtitle(f'{expt}') +\n",
    "       p9.scale_x_log10() +\n",
    "       p9.scale_y_log10() +\n",
    "       p9.labs(x='viral bc fraction of all UMIs in cell',\n",
    "               y='fraction of reads in progeny') +\n",
    "       p9.theme(figure_size=(6, 6),\n",
    "                plot_title=p9.element_text(size=9),\n",
    "                axis_title=p9.element_text(size=9),\n",
    "                legend_title=p9.element_text(size=9),\n",
    "                legend_title_align='center') +\n",
    "       p9.scale_color_manual(values=['orange','grey']))\n",
    "display(fig)"
   ]
  },
  {
   "cell_type": "markdown",
   "metadata": {},
   "source": [
    "#### Viral burden\n",
    "Plot the viral burden (total fraction of viral UMIs in cell) against the supernatant frequency of the most abundant viral barcode for that cell."
   ]
  },
  {
   "cell_type": "code",
   "execution_count": null,
   "metadata": {},
   "outputs": [],
   "source": [
    "fig = (p9.ggplot(viral_bc_freqs\n",
    "                 .fillna(0)\n",
    "                 .query('(infected == True) and'\n",
    "                        '(top_viral_bc == True)'),\n",
    "                 p9.aes(x='frac_viral_UMIs',\n",
    "                        y='frac_viral_bc_UMIs')) +\n",
    "       p9.geom_point(alpha=0.1) +\n",
    "       p9.facet_grid('~gene') +\n",
    "       p9.ggtitle('viral burden vs freq of top viral barcode in cell\\n'\n",
    "                  f'{expt}') +\n",
    "       p9.scale_x_log10() +\n",
    "       p9.scale_y_log10() +\n",
    "       p9.labs(x='viral burden (viral UMIs / total UMIs in cell)',\n",
    "               y='top viral bc frac (viral bc UMIs / total UMIs in cell)') +\n",
    "       p9.theme(figure_size=(6, 3),\n",
    "                plot_title=p9.element_text(size=9),\n",
    "                axis_title=p9.element_text(size=9),\n",
    "                legend_title=p9.element_text(size=9),\n",
    "                legend_title_align='center'))\n",
    "display(fig)"
   ]
  },
  {
   "cell_type": "markdown",
   "metadata": {},
   "source": [
    "**Total UMIs per cell**\n",
    "\n",
    "Plot the frequency of the top viral barcode as a function of total UMIs in a cell"
   ]
  },
  {
   "cell_type": "code",
   "execution_count": null,
   "metadata": {},
   "outputs": [],
   "source": [
    "fig = (p9.ggplot(viral_bc_freqs\n",
    "                 .fillna(0)\n",
    "                 .query('(infected == True) and'\n",
    "                        '(top_viral_bc == True)'),\n",
    "                 p9.aes(x='total_UMIs',\n",
    "                        y='frac_viral_bc_UMIs')) +\n",
    "       p9.geom_point(alpha=0.1) +\n",
    "       p9.facet_grid('~gene') +\n",
    "       p9.ggtitle('capture efficiency vs freq of top viral barcode in cell\\n'\n",
    "                  f'{expt}') +\n",
    "       p9.scale_x_log10() +\n",
    "       p9.scale_y_log10() +\n",
    "       p9.labs(x='total UMIs in cell',\n",
    "               y='top viral bc frac (viral bc UMIs / total UMIs in cell)') +\n",
    "       p9.theme(figure_size=(6, 3),\n",
    "                plot_title=p9.element_text(size=9),\n",
    "                axis_title=p9.element_text(size=9),\n",
    "                legend_title=p9.element_text(size=9),\n",
    "                legend_title_align='center'))\n",
    "display(fig)"
   ]
  },
  {
   "cell_type": "markdown",
   "metadata": {},
   "source": [
    "Plot only the top viral barcode for each cell-gene:"
   ]
  },
  {
   "cell_type": "code",
   "execution_count": null,
   "metadata": {},
   "outputs": [],
   "source": [
    "fig = (p9.ggplot(viral_bc_freqs\n",
    "                 .fillna(0)\n",
    "                 .query('top_viral_bc == True',\n",
    "                        engine='python'),\n",
    "                 p9.aes(x='frac_viral_UMIs',\n",
    "                        y='freq_progeny')) +\n",
    "       p9.geom_point(alpha=0.3) +\n",
    "       p9.facet_grid('source~gene') +\n",
    "       p9.ggtitle(f'top viral bc\\n'\n",
    "                   'supernatant frequency vs viral burden\\n'\n",
    "                  f'{expt}') +\n",
    "       p9.scale_x_log10() +\n",
    "       p9.scale_y_log10() +\n",
    "       p9.labs(x='viral burden (viral UMIs / total UMIs in cell',\n",
    "               y='fraction of total reads in supernatant') +\n",
    "       p9.theme(figure_size=(6, 6),\n",
    "                plot_title=p9.element_text(size=9),\n",
    "                axis_title=p9.element_text(size=9),\n",
    "                legend_title=p9.element_text(size=9),\n",
    "                legend_title_align='center'))\n",
    "display(fig)"
   ]
  },
  {
   "cell_type": "markdown",
   "metadata": {},
   "source": [
    "#### Correlation of fluHA and fluNA top viral barcodes in each cell\n",
    "Check to see if cells associated with high fluHA also produce high fluNA values. \n",
    "\n",
    "First, pivot table so supernatant frequency of top fluHA viral barcode and top fluNA viral barcode are put in column alongside cell barcode. Fill NA values with zero because this means it was not observed in sequencing, so the frequency is meaningfully zero."
   ]
  },
  {
   "cell_type": "markdown",
   "metadata": {},
   "source": [
    "**Viral barcode transcription:**"
   ]
  },
  {
   "cell_type": "code",
   "execution_count": null,
   "metadata": {},
   "outputs": [],
   "source": [
    "high_transcription = (pd.pivot_table(\n",
    "    viral_bc_freqs\n",
    "    .query('top_viral_bc == True '),\n",
    "    index=['cell_barcode',\n",
    "           'infected',\n",
    "           'infecting_viral_tag'],\n",
    "    values='frac_viral_bc_UMIs',\n",
    "    columns='gene')\n",
    "                .reset_index()\n",
    "                .fillna(0))\n",
    "\n",
    "high_transcription"
   ]
  },
  {
   "cell_type": "markdown",
   "metadata": {},
   "source": [
    "Plot correlation:"
   ]
  },
  {
   "cell_type": "code",
   "execution_count": null,
   "metadata": {},
   "outputs": [],
   "source": [
    "fig = (p9.ggplot(high_transcription,\n",
    "                 p9.aes(x='fluHA',\n",
    "                        y='fluNA')) +\n",
    "       p9.geom_point(alpha=0.3) +\n",
    "       p9.ggtitle(f'{expt}') +\n",
    "       p9.scale_x_log10() +\n",
    "       p9.scale_y_log10() +\n",
    "       p9.labs(x='HA transcriptome barcode UMI freq',\n",
    "               y='NA transcriptome barcode UMI freq') +\n",
    "       p9.theme(figure_size=(3, 3),\n",
    "                plot_title=p9.element_text(size=9),\n",
    "                axis_title=p9.element_text(size=9),\n",
    "                legend_title=p9.element_text(size=9),\n",
    "                legend_title_align='center') +\n",
    "       p9.scale_color_manual(values=['grey','orange']))\n",
    "display(fig)"
   ]
  },
  {
   "cell_type": "markdown",
   "metadata": {},
   "source": [
    "**Supernatant progeny production:**"
   ]
  },
  {
   "cell_type": "code",
   "execution_count": null,
   "metadata": {},
   "outputs": [],
   "source": [
    "high_progeny = (pd.pivot_table(\n",
    "    viral_bc_freqs.query('top_viral_bc == True '),\n",
    "    index=['cell_barcode',\n",
    "           'infected',\n",
    "           'infecting_viral_tag',\n",
    "           'source'],\n",
    "    values='freq_progeny',\n",
    "    columns='gene')\n",
    "                .reset_index()\n",
    "                .fillna(0))\n",
    "\n",
    "high_progeny"
   ]
  },
  {
   "cell_type": "markdown",
   "metadata": {},
   "source": [
    "Plot correlation:"
   ]
  },
  {
   "cell_type": "code",
   "execution_count": null,
   "metadata": {},
   "outputs": [],
   "source": [
    "fig = (p9.ggplot(high_progeny.\n",
    "                 fillna(0),\n",
    "                 p9.aes(x='fluHA',\n",
    "                        y='fluNA')) +\n",
    "       p9.geom_point(alpha=0.3) +\n",
    "       p9.facet_grid('~source') +\n",
    "       p9.ggtitle('progeny frequencies of top viral barcode in cell\\n'\n",
    "                  f'{expt}') +\n",
    "       p9.scale_x_log10() +\n",
    "       p9.scale_y_log10() +\n",
    "       p9.labs(x='HA progeny barcode freq',\n",
    "               y='NA progeny barcode freq') +\n",
    "       p9.theme(figure_size=(6, 3),\n",
    "                plot_title=p9.element_text(size=9),\n",
    "                axis_title=p9.element_text(size=9),\n",
    "                legend_title=p9.element_text(size=9),\n",
    "                legend_title_align='center') +\n",
    "       p9.scale_color_manual(values=['grey','orange']))\n",
    "display(fig)"
   ]
  },
  {
   "cell_type": "markdown",
   "metadata": {},
   "source": [
    "## Viral gene expression"
   ]
  },
  {
   "cell_type": "markdown",
   "metadata": {},
   "source": [
    "#### Viral genes in each cell\n",
    "Extract the UMI counts for each viral gene in each cell from `adata.obs`"
   ]
  },
  {
   "cell_type": "code",
   "execution_count": null,
   "metadata": {},
   "outputs": [],
   "source": [
    "#### Viral genes in each cell\n",
    "viral_gene_expression = (\n",
    "    adata.var\n",
    "    .assign(total_UMIs=numpy.sum(adata.X, axis=0).A1.astype(int),\n",
    "            viral_UMIs=numpy.sum(adata[adata.obs['gene']\n",
    "                                   .isin(viral_genes), ].X,\n",
    "                                 axis=0).A1.astype(int),\n",
    "            fluPB2=numpy.sum(adata[adata.obs['gene'] == 'fluPB2', ]\n",
    "                             .X, axis=0).A1.astype(int),\n",
    "            fluPB1=numpy.sum(adata[adata.obs['gene'] == 'fluPB1', ]\n",
    "                             .X, axis=0).A1.astype(int),\n",
    "            fluPA=numpy.sum(adata[adata.obs['gene'] == 'fluPA', ]\n",
    "                             .X, axis=0).A1.astype(int),\n",
    "            fluHA=numpy.sum(adata[adata.obs['gene'] == 'fluHA', ]\n",
    "                             .X, axis=0).A1.astype(int),\n",
    "            fluNP=numpy.sum(adata[adata.obs['gene'] == 'fluNP', ]\n",
    "                             .X, axis=0).A1.astype(int),\n",
    "            fluNA=numpy.sum(adata[adata.obs['gene'] == 'fluNA', ]\n",
    "                             .X, axis=0).A1.astype(int),\n",
    "            fluM=numpy.sum(adata[adata.obs['gene'] == 'fluM', ]\n",
    "                             .X, axis=0).A1.astype(int),\n",
    "            fluNS=numpy.sum(adata[adata.obs['gene'] == 'fluNS', ]\n",
    "                             .X, axis=0).A1.astype(int),\n",
    "           )\n",
    ")\n",
    "\n",
    "viral_gene_expression"
   ]
  },
  {
   "cell_type": "markdown",
   "metadata": {},
   "source": [
    "Bring in infection status and tag information:"
   ]
  },
  {
   "cell_type": "code",
   "execution_count": null,
   "metadata": {},
   "outputs": [],
   "source": [
    "viral_gene_expression = pd.merge(\n",
    "    left=viral_gene_expression,\n",
    "    right=(viral_bc_freqs\n",
    "           .query('cell_barcode.notnull()',\n",
    "                  engine='python')\n",
    "           [['cell_barcode',\n",
    "             'infected',\n",
    "             'infecting_viral_tag']]\n",
    "           .drop_duplicates()),\n",
    "    on='cell_barcode',\n",
    "    how='left',\n",
    "    validate='one_to_one'\n",
    "    )\n",
    "\n",
    "viral_gene_expression"
   ]
  },
  {
   "cell_type": "markdown",
   "metadata": {},
   "source": [
    "Pivot the table so that gene is a column, and the UMI counts for each gene for each cell is a row"
   ]
  },
  {
   "cell_type": "code",
   "execution_count": null,
   "metadata": {},
   "outputs": [],
   "source": [
    "viral_gene_expression_long = viral_gene_expression.melt(\n",
    "    id_vars=['cell_barcode',\n",
    "             'infected',\n",
    "             'infecting_viral_tag',\n",
    "             'total_UMIs',\n",
    "             'viral_UMIs'],\n",
    "    var_name='gene',\n",
    "    value_name='gene_UMIs'\n",
    ")\n",
    "\n",
    "viral_gene_expression_long"
   ]
  },
  {
   "cell_type": "markdown",
   "metadata": {},
   "source": [
    "Check that total number of rows is = total number of cells * total number of genes, for both infected and uninfected:"
   ]
  },
  {
   "cell_type": "code",
   "execution_count": null,
   "metadata": {},
   "outputs": [],
   "source": [
    "assert (len(viral_gene_expression_long) ==\n",
    "        len(viral_gene_expression_long['cell_barcode'].drop_duplicates()) *\n",
    "        len(viral_genes)), \"not 8 genes for every cell\""
   ]
  },
  {
   "cell_type": "markdown",
   "metadata": {},
   "source": [
    "Check that the extracted gene_UMIs sum to the total viral UMIs for each cell:"
   ]
  },
  {
   "cell_type": "code",
   "execution_count": null,
   "metadata": {},
   "outputs": [],
   "source": [
    "pd.testing.assert_frame_equal(\n",
    "    (viral_gene_expression_long[['cell_barcode',\n",
    "                                 'viral_UMIs']]\n",
    "     .drop_duplicates()),\n",
    "    (viral_gene_expression_long\n",
    "     .groupby('cell_barcode')\n",
    "     ['gene_UMIs']\n",
    "     .sum()\n",
    "     .to_frame()\n",
    "     .reset_index()\n",
    "     .rename(columns={'gene_UMIs': 'viral_UMIs'})),\n",
    "    check_names=False,\n",
    "    check_index_type=False\n",
    ")"
   ]
  },
  {
   "cell_type": "markdown",
   "metadata": {},
   "source": [
    "Calculate the fraction of all UMIs assigned to each viral gene individually, and in aggregate:"
   ]
  },
  {
   "cell_type": "code",
   "execution_count": null,
   "metadata": {},
   "outputs": [],
   "source": [
    "viral_gene_expression_long['frac_viral_UMIs'] = (\n",
    "    viral_gene_expression_long['viral_UMIs'] /\n",
    "    viral_gene_expression_long['total_UMIs'])\n",
    "\n",
    "viral_gene_expression_long['frac_gene_UMIs'] = (\n",
    "    viral_gene_expression_long['gene_UMIs'] /\n",
    "    viral_gene_expression_long['total_UMIs'])\n",
    "\n",
    "viral_gene_expression_long"
   ]
  },
  {
   "cell_type": "markdown",
   "metadata": {},
   "source": [
    "Plot distribution of absolute UMI counts for each gene:"
   ]
  },
  {
   "cell_type": "code",
   "execution_count": null,
   "metadata": {},
   "outputs": [],
   "source": [
    "fig = (p9.ggplot(viral_gene_expression_long,\n",
    "                 p9.aes(x='gene_UMIs')) +\n",
    "       p9.geom_histogram(bins=20) +\n",
    "       p9.facet_grid('gene~') +\n",
    "       p9.ggtitle('viral gene expression\\n'\n",
    "                  'absolute UMI counts\\n'\n",
    "                  'per cell\\n'\n",
    "                  f'{expt}') +\n",
    "       p9.labs(x='UMIs from gene in cell',\n",
    "               y='cells') +\n",
    "       p9.theme(figure_size=(4, 6),\n",
    "                plot_title=p9.element_text(size=12),\n",
    "                axis_title=p9.element_text(size=10),\n",
    "                legend_title=p9.element_text(size=10),\n",
    "                legend_title_align='center'))\n",
    "display(fig)"
   ]
  },
  {
   "cell_type": "markdown",
   "metadata": {},
   "source": [
    "Plot on log scale:"
   ]
  },
  {
   "cell_type": "code",
   "execution_count": null,
   "metadata": {},
   "outputs": [],
   "source": [
    "fig = (p9.ggplot(viral_gene_expression_long,\n",
    "                 p9.aes(x='gene_UMIs')) +\n",
    "       p9.geom_histogram(bins=20) +\n",
    "       p9.facet_grid('gene~') +\n",
    "       p9.ggtitle('viral gene expression\\n'\n",
    "                  'absolute UMI counts\\n'\n",
    "                  'per cell\\n'\n",
    "                  f'{expt}') +\n",
    "       p9.labs(x='UMIs from gene in cell',\n",
    "               y='cells') +\n",
    "       p9.scale_x_log10() +\n",
    "       p9.theme(figure_size=(4, 6),\n",
    "                plot_title=p9.element_text(size=12),\n",
    "                axis_title=p9.element_text(size=10),\n",
    "                legend_title=p9.element_text(size=10),\n",
    "                legend_title_align='center'))\n",
    "display(fig)"
   ]
  },
  {
   "cell_type": "markdown",
   "metadata": {},
   "source": [
    "Plot distribution of fraction of UMIs from each viral gene:"
   ]
  },
  {
   "cell_type": "code",
   "execution_count": null,
   "metadata": {},
   "outputs": [],
   "source": [
    "fig = (p9.ggplot(viral_gene_expression_long,\n",
    "                 p9.aes(x='frac_gene_UMIs')) +\n",
    "       p9.geom_histogram(bins=20) +\n",
    "       p9.facet_grid('gene~') +\n",
    "       p9.ggtitle('viral gene expression\\n'\n",
    "                  'fraction of UMIs in cell\\n'\n",
    "                  f'{expt}') +\n",
    "       p9.labs(x='fraction of UMIs in cell from gene',\n",
    "               y='cells') +\n",
    "       p9.theme(figure_size=(4, 6),\n",
    "                plot_title=p9.element_text(size=12),\n",
    "                axis_title=p9.element_text(size=10),\n",
    "                legend_title=p9.element_text(size=10),\n",
    "                legend_title_align='center'))\n",
    "display(fig)"
   ]
  },
  {
   "cell_type": "markdown",
   "metadata": {},
   "source": [
    "Plot on log scale:"
   ]
  },
  {
   "cell_type": "code",
   "execution_count": null,
   "metadata": {},
   "outputs": [],
   "source": [
    "fig = (p9.ggplot(viral_gene_expression_long,\n",
    "                 p9.aes(x='frac_gene_UMIs')) +\n",
    "       p9.geom_histogram(bins=20) +\n",
    "       p9.facet_grid('gene~') +\n",
    "       p9.ggtitle('viral gene expression\\n'\n",
    "                  'fraction of UMIs in cell\\n'\n",
    "                  f'{expt}') +\n",
    "       p9.labs(x='fraction of UMIs in cell from gene',\n",
    "               y='cells') +\n",
    "       p9.scale_x_log10() +\n",
    "       p9.theme(figure_size=(4, 6),\n",
    "                plot_title=p9.element_text(size=12),\n",
    "                axis_title=p9.element_text(size=10),\n",
    "                legend_title=p9.element_text(size=10),\n",
    "                legend_title_align='center'))\n",
    "display(fig)"
   ]
  },
  {
   "cell_type": "markdown",
   "metadata": {},
   "source": [
    "What is the relationship between absolute UMI counts and fraction of all UMIs in cell for each gene?"
   ]
  },
  {
   "cell_type": "code",
   "execution_count": null,
   "metadata": {},
   "outputs": [],
   "source": [
    "fig = (p9.ggplot(viral_gene_expression_long,\n",
    "                 p9.aes(x='gene_UMIs',\n",
    "                        y='frac_gene_UMIs')) +\n",
    "       p9.geom_point(alpha=0.1) +\n",
    "       p9.facet_grid('infected~gene') +\n",
    "       p9.ggtitle('viral gene expression\\n'\n",
    "                  'fraction of UMIs vs absolute UMIs\\n'\n",
    "                  f'{expt}') +\n",
    "       p9.labs(x='UMIs from gene in cell',\n",
    "               y='fraction of UMIs in cell from gene') +\n",
    "       p9.scale_x_log10() +\n",
    "       p9.scale_y_log10() +\n",
    "       p9.theme(figure_size=(8, 3),\n",
    "                plot_title=p9.element_text(size=12),\n",
    "                axis_title=p9.element_text(size=10),\n",
    "                legend_title=p9.element_text(size=10),\n",
    "                legend_title_align='center'))\n",
    "display(fig)"
   ]
  },
  {
   "cell_type": "markdown",
   "metadata": {},
   "source": [
    "Distribution of viral gene expression in infected and **uninfected** cells:\n",
    "\n",
    "**N.b.** Plot 0 values on far left of axis, 100-fold lower than lowest real value:"
   ]
  },
  {
   "cell_type": "code",
   "execution_count": null,
   "metadata": {},
   "outputs": [],
   "source": [
    "zero_pseudocount = (min(viral_gene_expression_long\n",
    "                        .query('frac_gene_UMIs > 0')\n",
    "                        ['frac_gene_UMIs']) /\n",
    "                    100)\n",
    "zero_pseudocount\n",
    "\n",
    "fig = (p9.ggplot((viral_gene_expression_long\n",
    "                  .replace(to_replace={'frac_gene_UMIs':0},\n",
    "                           value=zero_pseudocount)),\n",
    "                 p9.aes(x='frac_gene_UMIs')) +\n",
    "       p9.geom_histogram(bins=20) +\n",
    "       p9.facet_grid('infected~gene') +\n",
    "       p9.ggtitle(f'viral gene expression\\n'\n",
    "                  f'per gene\\n'\n",
    "                  f'{expt}') +\n",
    "       p9.labs(x='fraction of total UMIs in cell') +\n",
    "       p9.theme(figure_size=(10, 3),\n",
    "                plot_title=p9.element_text(size=12),\n",
    "                axis_title=p9.element_text(size=10),\n",
    "                legend_title=p9.element_text(size=10),\n",
    "                legend_title_align='center') +\n",
    "       p9.scale_x_log10())\n",
    "display(fig)"
   ]
  },
  {
   "cell_type": "code",
   "execution_count": null,
   "metadata": {},
   "outputs": [],
   "source": [
    "fig = (p9.ggplot((viral_gene_expression_long),\n",
    "                  p9.aes(x='factor(gene)',\n",
    "                         y='gene_UMIs')) +\n",
    "              p9.geom_boxplot() +\n",
    "              p9.facet_grid('infected~') +\n",
    "              p9.ggtitle('absolute expression of viral genes in cell\\n'\n",
    "                         f'{expt}') +\n",
    "              p9.xlab('gene') +\n",
    "              p9.ylab('number of UMIs') +\n",
    "              p9.scale_y_log10() +\n",
    "              p9.theme(figure_size=(6, 4),\n",
    "                       plot_title=p9.element_text(size=10),\n",
    "                       axis_title=p9.element_text(size=10),\n",
    "                       legend_title=p9.element_text(size=9),\n",
    "                       legend_title_align='center'))\n",
    "display(fig)"
   ]
  },
  {
   "cell_type": "code",
   "execution_count": null,
   "metadata": {},
   "outputs": [],
   "source": [
    "fig = (p9.ggplot((viral_gene_expression_long),\n",
    "                  p9.aes(x='factor(gene)',\n",
    "                         y='frac_gene_UMIs')) +\n",
    "              p9.geom_boxplot() +\n",
    "              p9.facet_grid('infected~') +\n",
    "              p9.ggtitle('expression of viral genes in cell\\n'\n",
    "                         f'{expt}') +\n",
    "              p9.xlab('gene') +\n",
    "              p9.ylab('fraction of UMIs in cell') +\n",
    "              p9.scale_y_log10() +\n",
    "              p9.theme(figure_size=(6, 4),\n",
    "                       plot_title=p9.element_text(size=10),\n",
    "                       axis_title=p9.element_text(size=10),\n",
    "                       legend_title=p9.element_text(size=9),\n",
    "                       legend_title_align='center'))\n",
    "display(fig)"
   ]
  },
  {
   "cell_type": "markdown",
   "metadata": {},
   "source": [
    "#### Proportion of viral UMIs from each gene\n",
    "\n",
    "Next, within each cell, I will calculate the proportion of all viral UMIs derived from each gene. "
   ]
  },
  {
   "cell_type": "code",
   "execution_count": null,
   "metadata": {},
   "outputs": [],
   "source": [
    "viral_gene_expression_long['prop_viral_UMIs'] = (\n",
    "    viral_gene_expression_long['gene_UMIs'] /\n",
    "    viral_gene_expression_long['viral_UMIs']\n",
    ")\n",
    "\n",
    "viral_gene_expression_long"
   ]
  },
  {
   "cell_type": "markdown",
   "metadata": {},
   "source": [
    "Check that the proportion sums to 1 for every cell:"
   ]
  },
  {
   "cell_type": "code",
   "execution_count": null,
   "metadata": {},
   "outputs": [],
   "source": [
    "test_prop_sum_df = pd.merge(\n",
    "    left=viral_gene_expression_long,\n",
    "    right=(viral_gene_expression_long\n",
    "           .groupby('cell_barcode')\n",
    "           ['prop_viral_UMIs']\n",
    "           .sum()\n",
    "           .round(4)),\n",
    "    suffixes=[None,'_sum'],\n",
    "    on='cell_barcode',\n",
    ")\n",
    "\n",
    "test_prop_sum_df['sum_OK'] = test_prop_sum_df.apply(\n",
    "    lambda x: (x['prop_viral_UMIs_sum'] == 1) or (x['viral_UMIs'] == 0),\n",
    "    axis=1)\n",
    "                              \n",
    "assert (test_prop_sum_df['sum_OK'] == True).all(), \\\n",
    "    \"problem summing viral gene proportions\"\n",
    "\n",
    "test_prop_sum_df\n"
   ]
  },
  {
   "cell_type": "code",
   "execution_count": null,
   "metadata": {},
   "outputs": [],
   "source": [
    "fig = (p9.ggplot((viral_gene_expression_long),\n",
    "                  p9.aes(x='factor(gene)',\n",
    "                         y='prop_viral_UMIs')) +\n",
    "              p9.geom_boxplot() +\n",
    "              p9.ggtitle('relative expression of viral genes in cell\\n'\n",
    "                         f'{expt}') +\n",
    "              p9.facet_grid('infected~') +\n",
    "              p9.xlab('gene') +\n",
    "              p9.ylab('proportion of viral UMIs from gene') +\n",
    "              p9.theme(figure_size=(6, 4),\n",
    "                       plot_title=p9.element_text(size=10),\n",
    "                       axis_title=p9.element_text(size=10),\n",
    "                       legend_title=p9.element_text(size=9),\n",
    "                       legend_title_align='center'))\n",
    "display(fig)"
   ]
  },
  {
   "cell_type": "markdown",
   "metadata": {},
   "source": [
    "### Call presence/absence of viral genes"
   ]
  },
  {
   "cell_type": "markdown",
   "metadata": {},
   "source": [
    "Next I will extract the 90 percentile value from the uninfected cells. We were very conservative in calling cells as infected (likely there are some infected cells in the population labelled \"uninfected\"). A priori, we expect most infected cells to express most viral genes. So we can be more lenient in what we use as a cutoff in calling a gene present.\n",
    "\n",
    "For low expressing genes (e.g. the polymerase complex), the 95th percentile is a value of 0, and this threshold does not work well. Instead, we will simply call genes without **any** UMIs as absent, and genes with at least 1 UMI as present.  In some previous analyses (e.g. [Russel et al. 2018](https://elifesciences.org/articles/32303)) a single transcript was used to call the presence of a gene in infected cells."
   ]
  },
  {
   "cell_type": "code",
   "execution_count": null,
   "metadata": {},
   "outputs": [],
   "source": [
    "limit_percentile = 0.9\n",
    "limit = dict()\n",
    "\n",
    "for gene in viral_genes:\n",
    "    limit[gene] = (viral_gene_expression_long\n",
    "                   .query('(infecting_viral_tag == \"none\") '\n",
    "                          f'and (gene == \"{gene}\")')\n",
    "                   ['frac_gene_UMIs']\n",
    "                   .quantile(limit_percentile))\n",
    "\n",
    "limit = pd.DataFrame.from_dict(limit, orient='index')\n",
    "limit = limit.reset_index()\n",
    "limit = limit.rename(columns={0: 'limit_frac',\n",
    "                              'index': 'gene'})\n",
    "\n",
    "limit"
   ]
  },
  {
   "cell_type": "code",
   "execution_count": null,
   "metadata": {},
   "outputs": [],
   "source": [
    "fig = (p9.ggplot(viral_gene_expression_long,\n",
    "                 p9.aes(x='frac_gene_UMIs')) +\n",
    "       p9.geom_histogram(bins=20) +\n",
    "       p9.geom_vline(limit,\n",
    "                     p9.aes(xintercept='limit_frac'),\n",
    "                     linetype='dashed',\n",
    "                     color='#3A3B3C',\n",
    "                     size=0.5) +\n",
    "       p9.facet_grid('infected~gene') +\n",
    "       p9.ggtitle(f'viral gene expression\\n'\n",
    "                  f'per gene\\n'\n",
    "                  f'{expt}') +\n",
    "       p9.labs(x='fraction of total UMIs in cell') +\n",
    "       p9.theme(figure_size=(10, 3),\n",
    "                plot_title=p9.element_text(size=12),\n",
    "                axis_title=p9.element_text(size=10),\n",
    "                legend_title=p9.element_text(size=10),\n",
    "                legend_title_align='center') +\n",
    "       p9.scale_x_log10())\n",
    "display(fig)"
   ]
  },
  {
   "cell_type": "markdown",
   "metadata": {},
   "source": [
    "Build a poisson distribution around this value. I will perform a statistical test to see if the value seen for each gene in infected cells falls within this distribution or rejects the null hypothesis.\n",
    "\n",
    "Now calculate the expected number of UMIs for each gene using this upper bound limit. For every cell and gene, I will simply multiply the total number of UMIs by this limit value."
   ]
  },
  {
   "cell_type": "code",
   "execution_count": null,
   "metadata": {},
   "outputs": [],
   "source": [
    "viral_gene_expression_long = pd.merge(\n",
    "    left=viral_gene_expression_long,\n",
    "    right=limit,\n",
    "    on=['gene'],\n",
    "    how='left'\n",
    "    )"
   ]
  },
  {
   "cell_type": "markdown",
   "metadata": {},
   "source": [
    "Calculate the expected number of UMIs corresponding to this limit fraction for each cell."
   ]
  },
  {
   "cell_type": "code",
   "execution_count": null,
   "metadata": {},
   "outputs": [],
   "source": [
    "viral_gene_expression_long['limit_UMIs'] = (viral_gene_expression_long['total_UMIs'] *\n",
    "                                            viral_gene_expression_long['limit_frac'])\n",
    "viral_gene_expression_long"
   ]
  },
  {
   "cell_type": "markdown",
   "metadata": {},
   "source": [
    "Calculate the p-value that a gene is present above the background distribution (poisson distribution with mu = `limit_UMIs`).\n",
    "\n",
    "A few notes on how this is calculated:  \n",
    "* We want the probability of yielding greater than **or equal to** the observed number of UMIs for each gene.\n",
    "* `P = scipy.stats.poisson.cdf(k = x, mu = l)` returns the probability of yielding less than or equal to the observed number of UMIs (`x`) for each gene.\n",
    "* To get the probability of yielding **greater than** `x`, we simply take `1 - P`.\n",
    "* Because the Poisson distribution functions on integers, to get the probability of yielding a value greater than **or equal to**, we simply calcuate P on `x - 1`.\n",
    "\n",
    "The final expression to return the **probability of yielding greater than or equal to the observed number of UMIs** is:  \n",
    "`P = 1 - scipy.stats.poisson.cdf(k = (x-1), mu = l)`"
   ]
  },
  {
   "cell_type": "code",
   "execution_count": null,
   "metadata": {},
   "outputs": [],
   "source": [
    "p_cutoff = 0.05\n",
    "\n",
    "viral_gene_expression_long['null_P'] = (\n",
    "    1 - scipy.stats.poisson.cdf(\n",
    "        k=(viral_gene_expression_long['gene_UMIs']-1),\n",
    "        mu=viral_gene_expression_long['limit_UMIs']))\n",
    "\n",
    "viral_gene_expression_long['gene_present'] = (\n",
    "    (viral_gene_expression_long['gene_UMIs'] > 0)\n",
    "    & (viral_gene_expression_long['null_P'] < p_cutoff))\n",
    "\n",
    "viral_gene_expression_long"
   ]
  },
  {
   "cell_type": "markdown",
   "metadata": {},
   "source": [
    "Plot the proportion of viral UMIs from each gene against the p value for every cell:"
   ]
  },
  {
   "cell_type": "code",
   "execution_count": null,
   "metadata": {},
   "outputs": [],
   "source": [
    "fig = (p9.ggplot((viral_gene_expression_long),\n",
    "                 p9.aes(x='frac_gene_UMIs',\n",
    "                        y='null_P',\n",
    "                        color='gene_present')) +\n",
    "       p9.geom_point() +\n",
    "       p9.facet_grid('infected~gene') +\n",
    "       p9.theme(figure_size=(15, 5),\n",
    "                plot_title=p9.element_text(size=12),\n",
    "                axis_title=p9.element_text(size=10),\n",
    "                legend_title=p9.element_text(size=10),\n",
    "                legend_title_align='center') +\n",
    "       p9.scale_color_manual([CBPALETTE[1],CBPALETTE[0]]) +\n",
    "       p9.scale_x_log10()\n",
    "       )\n",
    "display(fig)"
   ]
  },
  {
   "cell_type": "markdown",
   "metadata": {},
   "source": [
    "Color the proportion histogram by present/absent call:"
   ]
  },
  {
   "cell_type": "code",
   "execution_count": null,
   "metadata": {
    "scrolled": true
   },
   "outputs": [],
   "source": [
    "fig = (p9.ggplot((viral_gene_expression_long\n",
    "                  .replace(to_replace={'frac_gene_UMIs':0},\n",
    "                           value=zero_pseudocount)),\n",
    "                 p9.aes(x='frac_gene_UMIs',\n",
    "                        fill='gene_present')) +\n",
    "       p9.geom_histogram(bins=20) +\n",
    "       p9.facet_grid('infected~gene') +\n",
    "       p9.ggtitle(f'viral gene expression\\n'\n",
    "                  f'per gene\\n'\n",
    "                  f'{expt}') +\n",
    "       p9.labs(x='fraction of total UMIs in cell') +\n",
    "       p9.theme(figure_size=(10, 3),\n",
    "                plot_title=p9.element_text(size=12),\n",
    "                axis_title=p9.element_text(size=10),\n",
    "                legend_title=p9.element_text(size=10),\n",
    "                legend_title_align='center') +\n",
    "       p9.scale_x_log10() +\n",
    "       p9.scale_fill_manual([CBPALETTE[1],CBPALETTE[0]])\n",
    "       )\n",
    "display(fig)"
   ]
  },
  {
   "cell_type": "markdown",
   "metadata": {},
   "source": [
    "In general, expression of all viral genes correlates with one another.  Let's check to see if we are correctly excluding viral genes that violate this correlation:"
   ]
  },
  {
   "cell_type": "code",
   "execution_count": null,
   "metadata": {},
   "outputs": [],
   "source": [
    "fig = (p9.ggplot((viral_gene_expression_long\n",
    "                  .query('infected == True')),\n",
    "                 p9.aes(x='frac_viral_UMIs',\n",
    "                        y='frac_gene_UMIs',\n",
    "                        color='gene_present')) +\n",
    "       p9.geom_point(alpha=0.1) +\n",
    "       p9.facet_grid('~gene') +\n",
    "       p9.ggtitle(f'viral gene expression\\n'\n",
    "                  f'vs viral burden\\n'\n",
    "                  f'{expt}') +\n",
    "       p9.labs(x='fraction viral UMIs in cell',\n",
    "               y='fraction of UMIs assigned to gene') +\n",
    "       p9.scale_x_log10() +\n",
    "       p9.scale_y_log10() +\n",
    "       p9.theme(figure_size=(12, 2),\n",
    "                plot_title=p9.element_text(size=12),\n",
    "                axis_title=p9.element_text(size=10),\n",
    "                legend_title=p9.element_text(size=10),\n",
    "                legend_title_align='center') +\n",
    "       p9.scale_color_manual([CBPALETTE[1],CBPALETTE[0]]))\n",
    "display(fig)"
   ]
  },
  {
   "cell_type": "markdown",
   "metadata": {},
   "source": [
    "Annotate the fraction of cells that have each viral gene:"
   ]
  },
  {
   "cell_type": "code",
   "execution_count": null,
   "metadata": {},
   "outputs": [],
   "source": [
    "has_gene = pd.DataFrame(\n",
    "    viral_gene_expression_long\n",
    "    .query('infecting_viral_tag != \"both\"')\n",
    "    .groupby(['infected',\n",
    "              'gene'])\n",
    "    ['gene_present']\n",
    "    .value_counts(normalize=True)\n",
    "    .reset_index(name='prop_cells'))\n",
    "\n",
    "has_gene"
   ]
  },
  {
   "cell_type": "markdown",
   "metadata": {},
   "source": [
    "Plot this fraction for each gene and infecting viral tag:"
   ]
  },
  {
   "cell_type": "code",
   "execution_count": null,
   "metadata": {},
   "outputs": [],
   "source": [
    "fig = (p9.ggplot((has_gene),\n",
    "                  p9.aes(x='gene',\n",
    "                         y='prop_cells',\n",
    "                         fill='gene_present')) +\n",
    "              p9.geom_bar(stat='identity') +\n",
    "              p9.ggtitle('gene is present above uninfected background\\n'\n",
    "                         f'{expt}') +\n",
    "              p9.ylab('prop cells') +\n",
    "              p9.facet_grid('infected~') +\n",
    "              p9.theme(figure_size=(4, 4),\n",
    "                       plot_title=p9.element_text(size=10),\n",
    "                       axis_title=p9.element_text(size=10),\n",
    "                       legend_title=p9.element_text(size=9),\n",
    "                       legend_title_align='center') +\n",
    "              p9.scale_fill_manual([CBPALETTE[1],CBPALETTE[0]]))\n",
    "display(fig)"
   ]
  },
  {
   "cell_type": "markdown",
   "metadata": {},
   "source": [
    "Tabulate the number of viral genes present in each cell"
   ]
  },
  {
   "cell_type": "code",
   "execution_count": null,
   "metadata": {},
   "outputs": [],
   "source": [
    "n_viral_genes = (pd.pivot_table(\n",
    "    viral_gene_expression_long,\n",
    "    index=['cell_barcode',\n",
    "           'infected',\n",
    "           'infecting_viral_tag',\n",
    "           'total_UMIs'],\n",
    "    values='gene_present',\n",
    "    aggfunc=numpy.sum)\n",
    "                 .reset_index()\n",
    "                 .rename(columns={'gene_present':'n_viral_genes_present'}))\n",
    "\n",
    "n_viral_genes"
   ]
  },
  {
   "cell_type": "code",
   "execution_count": null,
   "metadata": {},
   "outputs": [],
   "source": [
    "fig = (p9.ggplot((n_viral_genes\n",
    "                  .query('infected == True and '\n",
    "                         'infecting_viral_tag != \"both\"')),\n",
    "                  p9.aes(x='n_viral_genes_present')) +\n",
    "              p9.geom_bar(stat='count') +\n",
    "              p9.ggtitle('viral genes in infected cells\\n'\n",
    "                         f'{expt}') +\n",
    "              p9.ylab('n cells') +\n",
    "              p9.theme(figure_size=(6, 2),\n",
    "                       plot_title=p9.element_text(size=10),\n",
    "                       axis_title=p9.element_text(size=10),\n",
    "                       legend_title=p9.element_text(size=9),\n",
    "                       legend_title_align='center') +\n",
    "              p9.scale_fill_manual(CBPALETTE[0:]))\n",
    "display(fig)"
   ]
  },
  {
   "cell_type": "markdown",
   "metadata": {},
   "source": [
    "Add this information to viral_bc_freqs dataframe"
   ]
  },
  {
   "cell_type": "code",
   "execution_count": null,
   "metadata": {},
   "outputs": [],
   "source": [
    "viral_bc_freqs = pd.merge(\n",
    "    left=viral_bc_freqs,\n",
    "    right=n_viral_genes,\n",
    "    on=['cell_barcode',\n",
    "        'infected',\n",
    "        'infecting_viral_tag'],\n",
    "    how='left')\n",
    "\n",
    "viral_bc_freqs"
   ]
  },
  {
   "cell_type": "markdown",
   "metadata": {},
   "source": [
    "Plot the distribution of viral burden in infected cells binned by number of viral genes present."
   ]
  },
  {
   "cell_type": "code",
   "execution_count": null,
   "metadata": {
    "scrolled": true
   },
   "outputs": [],
   "source": [
    "fig = (p9.ggplot((viral_bc_freqs\n",
    "                  .query('infected == True and '\n",
    "                         'infecting_viral_tag != \"both\"')),\n",
    "                  p9.aes(x='factor(n_viral_genes_present)',\n",
    "                         y='frac_viral_UMIs')) +\n",
    "              p9.geom_boxplot() +\n",
    "              p9.ggtitle('viral genes in infected cells\\n'\n",
    "                         f'{expt}') +\n",
    "              p9.xlab('n viral genes in cell') +\n",
    "              p9.ylab('frac viral UMIs in cell') +\n",
    "              p9.theme(figure_size=(6, 2),\n",
    "                       plot_title=p9.element_text(size=10),\n",
    "                       axis_title=p9.element_text(size=10),\n",
    "                       legend_title=p9.element_text(size=9),\n",
    "                       legend_title_align='center') +\n",
    "              p9.scale_fill_manual(CBPALETTE[0:]))\n",
    "display(fig)"
   ]
  },
  {
   "cell_type": "markdown",
   "metadata": {},
   "source": [
    "Color the transcription-progeny plot by the number of viral genes present"
   ]
  },
  {
   "cell_type": "code",
   "execution_count": null,
   "metadata": {},
   "outputs": [],
   "source": [
    "fig = (p9.ggplot(viral_bc_freqs\n",
    "                 .query('top_viral_bc == True',\n",
    "                        engine='python'),\n",
    "                 p9.aes(x='frac_viral_UMIs',\n",
    "                        y='freq_progeny',\n",
    "                        color='n_viral_genes_present')) +\n",
    "       p9.geom_point(alpha=0.3) +\n",
    "       p9.facet_grid('source~gene') +\n",
    "       p9.ggtitle(f'{expt}') +\n",
    "       p9.scale_x_log10() +\n",
    "       p9.scale_y_log10() +\n",
    "       p9.labs(x='viral burden (viral UMIs / total UMIs in cell',\n",
    "               y='fraction of total reads in progeny') +\n",
    "       p9.theme(figure_size=(6, 6),\n",
    "                plot_title=p9.element_text(size=9),\n",
    "                axis_title=p9.element_text(size=9),\n",
    "                legend_title=p9.element_text(size=9),\n",
    "                legend_title_align='center'))\n",
    "display(fig)\n"
   ]
  },
  {
   "cell_type": "markdown",
   "metadata": {},
   "source": [
    "### Viral gene presence/absence as a function of other metrics\n",
    "\n",
    "Plot relationship between n viral genes and viral burden"
   ]
  },
  {
   "cell_type": "code",
   "execution_count": null,
   "metadata": {},
   "outputs": [],
   "source": [
    "fig = (p9.ggplot(viral_bc_freqs,\n",
    "                 p9.aes(x='n_viral_genes_present',\n",
    "                        y='frac_viral_UMIs')) +\n",
    "       p9.geom_point(alpha=0.005) +\n",
    "       p9.ggtitle(f'{expt}') +\n",
    "       p9.scale_y_log10() +\n",
    "       p9.labs(x='n viral genes present',\n",
    "               y='viral burden (viral UMIs / total UMIs in cell)') +\n",
    "       p9.theme(figure_size=(3, 3),\n",
    "                plot_title=p9.element_text(size=9),\n",
    "                axis_title=p9.element_text(size=9),\n",
    "                legend_title=p9.element_text(size=9),\n",
    "                legend_title_align='center'))\n",
    "display(fig)"
   ]
  },
  {
   "cell_type": "markdown",
   "metadata": {},
   "source": [
    "Plot relationship between n viral genes and viral progeny production in sup"
   ]
  },
  {
   "cell_type": "code",
   "execution_count": null,
   "metadata": {},
   "outputs": [],
   "source": [
    "fig = (p9.ggplot((viral_bc_freqs\n",
    "                 .query('top_viral_bc == True')),\n",
    "                 p9.aes(x='n_viral_genes_present',\n",
    "                        y='freq_progeny')) +\n",
    "       p9.geom_point(alpha=0.3) +\n",
    "       p9.facet_grid('~source') +\n",
    "       p9.ggtitle(f'{expt}') +\n",
    "       p9.scale_y_log10() +\n",
    "       p9.labs(x='n viral genes present',\n",
    "               y='fraction of total reads in progeny') +\n",
    "       p9.theme(figure_size=(6, 3),\n",
    "                plot_title=p9.element_text(size=9),\n",
    "                axis_title=p9.element_text(size=9),\n",
    "                legend_title=p9.element_text(size=9),\n",
    "                legend_title_align='center'))\n",
    "display(fig)"
   ]
  },
  {
   "cell_type": "markdown",
   "metadata": {},
   "source": [
    "Check to see how viral gene presence/absence relates to the total number of UMIs generated for that cell to assess capture:"
   ]
  },
  {
   "cell_type": "code",
   "execution_count": null,
   "metadata": {},
   "outputs": [],
   "source": [
    "fig = (p9.ggplot(n_viral_genes,\n",
    "                 p9.aes(x='total_UMIs',\n",
    "                        y='n_viral_genes_present')) +\n",
    "       p9.geom_point(alpha=0.3) +\n",
    "       p9.facet_grid('~infected') +\n",
    "       p9.ggtitle(f'number of viral genes present in cell\\n'\n",
    "                  f'vs. total UMIs in cell'\n",
    "                  f'{expt}') +\n",
    "       p9.scale_x_log10() +\n",
    "       p9.labs(x='total_UMIs',\n",
    "               y='n viral genes present') +\n",
    "       p9.theme(figure_size=(6, 3),\n",
    "                plot_title=p9.element_text(size=9),\n",
    "                axis_title=p9.element_text(size=9),\n",
    "                legend_title=p9.element_text(size=9),\n",
    "                legend_title_align='center'))\n",
    "display(fig)"
   ]
  },
  {
   "cell_type": "markdown",
   "metadata": {},
   "source": [
    "### All viral genes\n",
    "Annotate cells that have all genes:"
   ]
  },
  {
   "cell_type": "code",
   "execution_count": null,
   "metadata": {},
   "outputs": [],
   "source": [
    "n_viral_genes['all_genes'] = (n_viral_genes['n_viral_genes_present'] == 8)\n",
    "n_viral_genes"
   ]
  },
  {
   "cell_type": "markdown",
   "metadata": {},
   "source": [
    "Add this info to viral_bc_freqs"
   ]
  },
  {
   "cell_type": "code",
   "execution_count": null,
   "metadata": {},
   "outputs": [],
   "source": [
    "viral_bc_freqs = pd.merge(\n",
    "    left=viral_bc_freqs,\n",
    "    right=n_viral_genes,\n",
    "    on=['cell_barcode',\n",
    "        'infected',\n",
    "        'infecting_viral_tag',\n",
    "        'n_viral_genes_present'],\n",
    "    how='left')\n",
    "\n",
    "viral_bc_freqs"
   ]
  },
  {
   "cell_type": "markdown",
   "metadata": {},
   "source": [
    "Plot transcription vs progeny, annotated by complete genome:"
   ]
  },
  {
   "cell_type": "code",
   "execution_count": null,
   "metadata": {},
   "outputs": [],
   "source": [
    "fig = (p9.ggplot(viral_bc_freqs\n",
    "                 .fillna(0)\n",
    "                 .query('top_viral_bc == True',\n",
    "                        engine='python'),\n",
    "                 p9.aes(x='frac_viral_UMIs',\n",
    "                        y='freq_progeny',\n",
    "                        color='all_genes')) +\n",
    "       p9.geom_point(alpha=0.3) +\n",
    "       p9.facet_grid('source~gene') +\n",
    "       p9.ggtitle(f'{expt}') +\n",
    "       p9.scale_x_log10() +\n",
    "       p9.scale_y_log10() +\n",
    "       p9.labs(x='viral burden (viral UMIs / total UMIs in cell',\n",
    "               y='fraction of total reads in progeny') +\n",
    "       p9.theme(figure_size=(6, 6),\n",
    "                plot_title=p9.element_text(size=9),\n",
    "                axis_title=p9.element_text(size=9),\n",
    "                legend_title=p9.element_text(size=9),\n",
    "                legend_title_align='center') +\n",
    "       p9.scale_color_manual(values=['grey','orange']))\n",
    "display(fig)"
   ]
  },
  {
   "cell_type": "markdown",
   "metadata": {},
   "source": [
    "#### Annotate whether cells contribute progeny\n",
    "If you simply take `freq_progeny > 0`, the result will be on a per viral bc basis.\n",
    "\n",
    "We want to define this on a per cell-gene basis and a per cell basis. Progeny contribution is first defined on a per cell-gene basis (fluHA or fluNA). Then, on a per cell basis (cell barcode with any progeny on either fluHA or fluNA).\n",
    "\n",
    "All contribute_progeny calls are made separately for second infection and supernatant sources."
   ]
  },
  {
   "cell_type": "code",
   "execution_count": null,
   "metadata": {},
   "outputs": [],
   "source": [
    "contribute_progeny_df = (\n",
    "    viral_bc_freqs[['cell_barcode',\n",
    "                    'gene',\n",
    "                    'source',\n",
    "                    'viral_barcode',\n",
    "                    'count_progeny']])\n",
    "\n",
    "# sum progeny for gene and source\n",
    "contribute_progeny_df = pd.merge(\n",
    "    left=contribute_progeny_df,\n",
    "    right=(contribute_progeny_df\n",
    "           .groupby(['cell_barcode',\n",
    "                     'source',\n",
    "                     'gene'])\n",
    "           ['count_progeny']\n",
    "           .sum()\n",
    "           .reset_index()\n",
    "           .rename(columns={'count_progeny':'gene_source_progeny_sum'})),\n",
    "    on=['cell_barcode',\n",
    "        'source',\n",
    "        'gene'],\n",
    "    how='left')\n",
    "\n",
    "contribute_progeny_df['contributes_gene_source_progeny'] = (\n",
    "    contribute_progeny_df['gene_source_progeny_sum'] > 0\n",
    ")\n",
    "\n",
    "# sum progeny for source\n",
    "contribute_progeny_df = pd.merge(\n",
    "    left=contribute_progeny_df,\n",
    "    right=(contribute_progeny_df\n",
    "           .groupby(['cell_barcode',\n",
    "                     'source'])\n",
    "           ['count_progeny']\n",
    "           .sum()\n",
    "           .reset_index()\n",
    "           .rename(columns={'count_progeny':'source_progeny_sum'})),\n",
    "    on=['cell_barcode',\n",
    "        'source'],\n",
    "    how='left')\n",
    "\n",
    "contribute_progeny_df['contributes_source_progeny'] = (\n",
    "    contribute_progeny_df['source_progeny_sum'] > 0\n",
    ")\n",
    "\n",
    "contribute_progeny_df"
   ]
  },
  {
   "cell_type": "code",
   "execution_count": null,
   "metadata": {},
   "outputs": [],
   "source": [
    "contribute_progeny_df.query('cell_barcode == \"TTTGGAGGTATCGTTG\"')"
   ]
  },
  {
   "cell_type": "markdown",
   "metadata": {},
   "source": [
    "Integrate this data back into `viral_bc_freqs`"
   ]
  },
  {
   "cell_type": "code",
   "execution_count": null,
   "metadata": {},
   "outputs": [],
   "source": [
    "viral_bc_freqs = (pd.merge(\n",
    "                    left=viral_bc_freqs,\n",
    "                    right=contribute_progeny_df,\n",
    "                    on=['cell_barcode',\n",
    "                        'gene',\n",
    "                        'source',\n",
    "                        'viral_barcode',\n",
    "                        'count_progeny'],\n",
    "                    how='left')\n",
    "                  .drop_duplicates())\n",
    "viral_bc_freqs"
   ]
  },
  {
   "cell_type": "code",
   "execution_count": null,
   "metadata": {},
   "outputs": [],
   "source": [
    "fig = (p9.ggplot(viral_bc_freqs\n",
    "                 .query('top_viral_bc == True',\n",
    "                        engine='python'),\n",
    "                 p9.aes(x='frac_viral_UMIs',\n",
    "                        y='freq_progeny',\n",
    "                        color='contributes_gene_source_progeny')) +\n",
    "       p9.geom_point(alpha=0.3) +\n",
    "       p9.facet_grid('source~gene') +\n",
    "       p9.ggtitle(f'{expt}') +\n",
    "       p9.scale_x_log10() +\n",
    "       p9.scale_y_log10() +\n",
    "       p9.labs(x='viral burden (viral UMIs / total UMIs in cell',\n",
    "               y='fraction of total reads in progeny') +\n",
    "       p9.theme(figure_size=(6, 6),\n",
    "                plot_title=p9.element_text(size=9),\n",
    "                axis_title=p9.element_text(size=9),\n",
    "                legend_title=p9.element_text(size=9),\n",
    "                legend_title_align='center') +\n",
    "       p9.scale_color_manual(values=['grey','orange']))\n",
    "\n",
    "display(fig)"
   ]
  },
  {
   "cell_type": "code",
   "execution_count": null,
   "metadata": {},
   "outputs": [],
   "source": [
    "fig = (p9.ggplot(viral_bc_freqs\n",
    "                 .query('top_viral_bc == True',\n",
    "                        engine='python'),\n",
    "                 p9.aes(x='frac_viral_UMIs',\n",
    "                        y='freq_progeny',\n",
    "                        color='contributes_source_progeny')) +\n",
    "       p9.geom_point(alpha=0.3) +\n",
    "       p9.facet_grid('~source') +\n",
    "       p9.ggtitle(f'{expt}') +\n",
    "       p9.scale_x_log10() +\n",
    "       p9.scale_y_log10() +\n",
    "       p9.labs(x='viral burden (viral UMIs / total UMIs in cell',\n",
    "               y='fraction of total reads in progeny') +\n",
    "       p9.theme(figure_size=(6, 3),\n",
    "                plot_title=p9.element_text(size=9),\n",
    "                axis_title=p9.element_text(size=9),\n",
    "                legend_title=p9.element_text(size=9),\n",
    "                legend_title_align='center') +\n",
    "       p9.scale_color_manual(values=['grey','orange']))\n",
    "\n",
    "display(fig)"
   ]
  },
  {
   "cell_type": "code",
   "execution_count": null,
   "metadata": {},
   "outputs": [],
   "source": [
    "fig = (p9.ggplot(viral_bc_freqs\n",
    "                 .query('top_viral_bc == True',\n",
    "                        engine='python'),\n",
    "                 p9.aes(x='contributes_source_progeny',\n",
    "                        y='frac_viral_UMIs',\n",
    "                        fill='contributes_source_progeny')) +\n",
    "       p9.geom_boxplot() +\n",
    "       p9.facet_grid('~source') +\n",
    "       p9.scale_y_log10() +\n",
    "       p9.ggtitle(f'{expt}') +\n",
    "       p9.labs(y='viral burden (viral UMIs / total UMIs in cell',\n",
    "               x='contributes progeny') +\n",
    "       p9.theme(figure_size=(6, 3),\n",
    "                plot_title=p9.element_text(size=9),\n",
    "                axis_title=p9.element_text(size=9),\n",
    "                legend_title=p9.element_text(size=9),\n",
    "                legend_title_align='center') +\n",
    "       p9.scale_fill_manual(values=['grey','orange']))\n",
    "\n",
    "display(fig)"
   ]
  },
  {
   "cell_type": "markdown",
   "metadata": {},
   "source": [
    "Plot density plots and histogram of cells that contribute progeny vs don't contribute progeny\n",
    "\n",
    "*NB I think this counts each viral bc as its own entity. Therefore, counts are not unique cell barcodes, but rather skewed by cells with high numbers of viral bc (significant or not). This plot is bad.*"
   ]
  },
  {
   "cell_type": "code",
   "execution_count": null,
   "metadata": {},
   "outputs": [],
   "source": [
    "# fig = (p9.ggplot(viral_bc_freqs\n",
    "#                  .fillna(0)\n",
    "#                  .query('top_viral_bc == True',\n",
    "#                         engine='python'),\n",
    "#                  p9.aes(x='frac_viral_UMIs',\n",
    "#                         fill='contributes_gene_source_progeny')) +\n",
    "#        p9.geom_density(alpha=0.2) +\n",
    "#        p9.facet_grid('source~gene') +\n",
    "#        p9.ggtitle(f'{expt}') +\n",
    "#        p9.scale_x_log10() +\n",
    "#        p9.labs(x='viral burden (viral UMIs / total UMIs in cell',\n",
    "#                y='frac cells') +\n",
    "#        p9.theme(figure_size=(6, 6),\n",
    "#                 plot_title=p9.element_text(size=9),\n",
    "#                 axis_title=p9.element_text(size=9),\n",
    "#                 legend_title=p9.element_text(size=9),\n",
    "#                 legend_title_align='center') +\n",
    "#        p9.scale_fill_manual(values=['grey','orange']))\n",
    "\n",
    "# display(fig)"
   ]
  },
  {
   "cell_type": "code",
   "execution_count": null,
   "metadata": {},
   "outputs": [],
   "source": [
    "# fig = (p9.ggplot(viral_bc_freqs\n",
    "#                  .query('top_viral_bc == True',\n",
    "#                         engine='python'),\n",
    "#                  p9.aes(x='frac_viral_UMIs',\n",
    "#                         fill='contributes_gene_source_progeny')) +\n",
    "#        p9.geom_histogram() +\n",
    "#        p9.facet_grid('source~gene') +\n",
    "#        p9.ggtitle(f'{expt}') +\n",
    "#        p9.scale_x_log10() +\n",
    "#        p9.scale_y_log10() +\n",
    "#        p9.labs(x='viral burden (viral UMIs / total UMIs in cell',\n",
    "#                y='n cells') +\n",
    "#        p9.theme(figure_size=(6, 6),\n",
    "#                 plot_title=p9.element_text(size=9),\n",
    "#                 axis_title=p9.element_text(size=9),\n",
    "#                 legend_title=p9.element_text(size=9),\n",
    "#                 legend_title_align='center') +\n",
    "#        p9.scale_fill_manual(values=['grey','orange']))\n",
    "\n",
    "# display(fig)"
   ]
  },
  {
   "cell_type": "markdown",
   "metadata": {},
   "source": [
    "Look at the proportion of infected cells that contribute progeny vs those that don't and how that relates to having all viral genes. A priori, I would expect many more cells that contribute progeny to have all 8 genes than cells that don't."
   ]
  },
  {
   "cell_type": "code",
   "execution_count": null,
   "metadata": {},
   "outputs": [],
   "source": [
    "progeny_full_genome = pd.DataFrame(\n",
    "    viral_bc_freqs\n",
    "    .query('infected == True and '\n",
    "           'infecting_viral_tag != \"both\"')\n",
    "    .groupby(['source', 'contributes_source_progeny', 'all_genes'])\n",
    "    ['cell_barcode']\n",
    "    .nunique()\n",
    "    .reset_index(name='n_cells'))\n",
    "\n",
    "progeny_full_genome = (progeny_full_genome.pivot(\n",
    "    index=['source','all_genes'],\n",
    "    columns='contributes_source_progeny',\n",
    "    values='n_cells'))\n",
    "\n",
    "progeny_full_genome"
   ]
  },
  {
   "cell_type": "markdown",
   "metadata": {},
   "source": [
    "Run a chi-square test to see if the ratio of cells with a full genome differs in cells that contribute progeny vs cells that do not."
   ]
  },
  {
   "cell_type": "code",
   "execution_count": null,
   "metadata": {},
   "outputs": [],
   "source": [
    "for source in ['supernatant', 'second_infection']:\n",
    "    chi_data = (progeny_full_genome\n",
    "                .query(f'source == \"{source}\"'))\n",
    "    chi_result = (scipy\n",
    "                  .stats\n",
    "                  .chi2_contingency(observed=chi_data))\n",
    "                \n",
    "    print(f'Progeny source: {source}')\n",
    "    print('Is the probability of contributing progeny different '\n",
    "          'for cells with all 8 genes vs cells missing some genes?')\n",
    "\n",
    "    print(f'The p-value of observing these values by chance is {chi_result[1]:.10f}.\\n')"
   ]
  },
  {
   "cell_type": "markdown",
   "metadata": {},
   "source": [
    "Visualize this data as a fraction of cells with or without all genes:"
   ]
  },
  {
   "cell_type": "code",
   "execution_count": null,
   "metadata": {},
   "outputs": [],
   "source": [
    "## Need help figuring out how to summarize this data for plotting.\n",
    "\n",
    "# progeny_full_genome_normalized = pd.DataFrame(\n",
    "#     viral_bc_freqs\n",
    "#     .query('infected == True and '\n",
    "#            'infecting_viral_tag != \"both\"')\n",
    "#     .groupby(['source', 'contribute_progeny'])\n",
    "#     ['all_genes']\n",
    "#     .value_counts(normalize=True)\n",
    "#     .reset_index(name='prop_cells'))\n",
    "# progeny_full_genome_normalized\n",
    "\n",
    "# fig = (p9.ggplot((progeny_full_genome_normalized),\n",
    "#                   p9.aes(x='contribute_progeny',\n",
    "#                          y='prop_cells',\n",
    "#                          fill='all_genes')) +\n",
    "#               p9.geom_bar(stat='identity') +\n",
    "#               p9.facet_grid('source~') +\n",
    "#               p9.ggtitle('infected cells\\n'\n",
    "#                          f'{expt}') +\n",
    "#               p9.labs(x='cell contributes progeny', y='prop cells') + \n",
    "#               p9.theme(figure_size=(3, 4),\n",
    "#                        plot_title=p9.element_text(size=10),\n",
    "#                        axis_title=p9.element_text(size=10),\n",
    "#                        legend_title=p9.element_text(size=9),\n",
    "#                        legend_title_align='center') +\n",
    "#               p9.scale_fill_manual(CBPALETTE[0:]))\n",
    "# display(fig)"
   ]
  },
  {
   "cell_type": "markdown",
   "metadata": {},
   "source": [
    "Plot the distribution of viral genes present in each cell, colored by whether they contribute progeny or not."
   ]
  },
  {
   "cell_type": "code",
   "execution_count": null,
   "metadata": {},
   "outputs": [],
   "source": [
    "n_genes_summarized = (\n",
    "    viral_bc_freqs\n",
    "    .query('infected == True and '\n",
    "           'infecting_viral_tag != \"both\"')\n",
    "    .groupby(['source', 'contributes_source_progeny', 'n_viral_genes_present'])\n",
    "    ['cell_barcode']\n",
    "    .nunique()\n",
    "    .reset_index(name='n_cells')\n",
    ")\n",
    "\n",
    "n_genes_normalized = pd.merge(\n",
    "    left=n_genes_summarized,\n",
    "    right=(n_genes_summarized\n",
    "           .groupby(['source','contributes_source_progeny'])\n",
    "           ['n_cells']\n",
    "           .sum()\n",
    "           .reset_index()\n",
    "           .rename(columns={'n_cells':'total'})),\n",
    "    on=['source', 'contributes_source_progeny'],\n",
    "    how='left',\n",
    "    validate='many_to_one'\n",
    ")\n",
    "\n",
    "n_genes_normalized['frac_cells'] = (n_genes_normalized['n_cells'] /\n",
    "                                    n_genes_normalized['total'])\n",
    "\n",
    "n_genes_normalized"
   ]
  },
  {
   "cell_type": "code",
   "execution_count": null,
   "metadata": {},
   "outputs": [],
   "source": [
    "fig = (p9.ggplot(n_genes_normalized,\n",
    "                 p9.aes(x='n_viral_genes_present',\n",
    "                        y='frac_cells',\n",
    "                        fill='contributes_source_progeny')) +\n",
    "              p9.geom_bar(stat='identity', position='dodge') +\n",
    "              p9.facet_grid('source~') +\n",
    "              p9.ggtitle('viral genes in cell\\n'\n",
    "                         f'{expt}') +\n",
    "              p9.ylab('proportion of cells') +\n",
    "              p9.theme(figure_size=(6, 4),\n",
    "                       plot_title=p9.element_text(size=10),\n",
    "                       axis_title=p9.element_text(size=10),\n",
    "                       legend_title=p9.element_text(size=9),\n",
    "                       legend_title_align='center') +\n",
    "              p9.scale_fill_manual(CBPALETTE[0:]))\n",
    "display(fig)"
   ]
  },
  {
   "cell_type": "markdown",
   "metadata": {},
   "source": [
    "## What is the effect of each gene on viral outcomes"
   ]
  },
  {
   "cell_type": "markdown",
   "metadata": {},
   "source": [
    "Relationship between each gene's expression adn viral burden"
   ]
  },
  {
   "cell_type": "code",
   "execution_count": null,
   "metadata": {},
   "outputs": [],
   "source": [
    "fig = (p9.ggplot((viral_gene_expression_long\n",
    "                  .query('infected == True')),\n",
    "                 p9.aes(x='frac_gene_UMIs',\n",
    "                        y='frac_viral_UMIs',\n",
    "                        color='gene_present')) +\n",
    "       p9.geom_point(alpha=0.1) +\n",
    "       p9.facet_grid('~gene') +\n",
    "       p9.ggtitle(f'viral gene expression\\n'\n",
    "                  f'vs viral burden\\n'\n",
    "                  f'{expt}') +\n",
    "       p9.labs(x='fraction of UMIs assigned to gene',\n",
    "               y='fraction viral UMIs in cell') +\n",
    "       p9.scale_x_log10() +\n",
    "       p9.scale_y_log10() +\n",
    "       p9.theme(figure_size=(12, 2),\n",
    "                plot_title=p9.element_text(size=12),\n",
    "                axis_title=p9.element_text(size=10),\n",
    "                legend_title=p9.element_text(size=10),\n",
    "                legend_title_align='center') +\n",
    "       p9.scale_color_manual([CBPALETTE[1],CBPALETTE[0]]))\n",
    "display(fig)"
   ]
  },
  {
   "cell_type": "markdown",
   "metadata": {},
   "source": [
    "Bring in progeny production information:"
   ]
  },
  {
   "cell_type": "code",
   "execution_count": null,
   "metadata": {},
   "outputs": [],
   "source": [
    "(viral_bc_freqs[['cell_barcode',\n",
    "                           'source',\n",
    "                           'contributes_source_progeny']]\n",
    "           .drop_duplicates())"
   ]
  },
  {
   "cell_type": "code",
   "execution_count": null,
   "metadata": {},
   "outputs": [],
   "source": [
    "viral_gene_expression_long = pd.merge(\n",
    "    left=viral_gene_expression_long,\n",
    "    right=(viral_bc_freqs[['cell_barcode',\n",
    "                           'source',\n",
    "                           'contributes_source_progeny']]\n",
    "           .drop_duplicates()),\n",
    "    on=['cell_barcode'],\n",
    "    how='left'\n",
    ")\n",
    "\n",
    "viral_gene_expression_long"
   ]
  },
  {
   "cell_type": "code",
   "execution_count": null,
   "metadata": {},
   "outputs": [],
   "source": [
    "each_gene_progeny = (viral_gene_expression_long\n",
    "                     .query('infected == True and '\n",
    "                            'infecting_viral_tag != \"both\"')\n",
    "                     .groupby(['source', 'gene','gene_present'])\n",
    "                     ['contributes_source_progeny']\n",
    "                     .value_counts()\n",
    "                     .reset_index(name='n_cells'))\n",
    "\n",
    "each_gene_progeny_normalized = pd.merge(\n",
    "    left=each_gene_progeny,\n",
    "    right=(each_gene_progeny\n",
    "           .groupby(['source','gene','contributes_source_progeny'])\n",
    "           ['n_cells']\n",
    "           .sum()\n",
    "           .reset_index()\n",
    "           .rename(columns={'n_cells':'total'})),\n",
    "    on=['source', 'gene', 'contributes_source_progeny'],\n",
    "    how='left',\n",
    "    validate='many_to_one'\n",
    ")\n",
    "\n",
    "each_gene_progeny_normalized['frac_cells'] = (each_gene_progeny_normalized['n_cells'] /\n",
    "                                              each_gene_progeny_normalized['total'])\n",
    "\n",
    "\n",
    "each_gene_progeny_normalized"
   ]
  },
  {
   "cell_type": "code",
   "execution_count": null,
   "metadata": {},
   "outputs": [],
   "source": [
    "fig = (p9.ggplot(each_gene_progeny_normalized,\n",
    "                 p9.aes(x='factor(contributes_source_progeny)',\n",
    "                        y='frac_cells',\n",
    "                        fill='gene_present')) +\n",
    "       p9.geom_bar(stat='identity') +\n",
    "       p9.facet_grid('source~gene') +\n",
    "       p9.ggtitle(f'viral gene expression\\n'\n",
    "                  f'vs viral burden\\n'\n",
    "                  f'{expt}') +\n",
    "       p9.labs(x='countributes progeny',\n",
    "               y='n_cells') +\n",
    "       p9.theme(figure_size=(12, 4),\n",
    "                plot_title=p9.element_text(size=12),\n",
    "                axis_title=p9.element_text(size=10),\n",
    "                legend_title=p9.element_text(size=10),\n",
    "                legend_title_align='center') +\n",
    "       p9.scale_fill_manual([CBPALETTE[1],CBPALETTE[0]]))\n",
    "display(fig)"
   ]
  },
  {
   "cell_type": "markdown",
   "metadata": {},
   "source": [
    "### Complementation by co-infection\n",
    "Summarize presence/absence of each viral gene by whether the cell was infected by 1 virion or > 1 virion."
   ]
  },
  {
   "cell_type": "markdown",
   "metadata": {},
   "source": [
    "Bring in coinfection information:"
   ]
  },
  {
   "cell_type": "code",
   "execution_count": null,
   "metadata": {},
   "outputs": [],
   "source": [
    "(viral_bc_freqs[['cell_barcode',\n",
    "                 'gene',\n",
    "                 'coinfected']]\n",
    " .drop_duplicates()\n",
    " .rename(columns={'gene':'viral_bc_segment'}))"
   ]
  },
  {
   "cell_type": "code",
   "execution_count": null,
   "metadata": {},
   "outputs": [],
   "source": [
    "viral_gene_expression_long = pd.merge(\n",
    "    left=viral_gene_expression_long,\n",
    "    right=(viral_bc_freqs[['cell_barcode',\n",
    "                 'gene',\n",
    "                 'coinfected']]\n",
    "           .drop_duplicates()\n",
    "           .rename(columns={'gene':'viral_bc_segment'})),\n",
    "    on=['cell_barcode'],\n",
    "    how='left'\n",
    ")\n",
    "\n",
    "viral_gene_expression_long"
   ]
  },
  {
   "cell_type": "code",
   "execution_count": null,
   "metadata": {},
   "outputs": [],
   "source": [
    "each_gene_coinfected = (\n",
    "    viral_gene_expression_long\n",
    "    .query('infected == True and '\n",
    "           'infecting_viral_tag != \"both\"')\n",
    "    .groupby(['gene', 'gene_present', 'viral_bc_segment'])\n",
    "    ['coinfected']\n",
    "    .value_counts()\n",
    "    .reset_index(name='n_cells'))\n",
    "\n",
    "each_gene_coinfected_normalized = pd.merge(\n",
    "    left=each_gene_coinfected,\n",
    "    right=(each_gene_coinfected\n",
    "           .groupby(['gene',\n",
    "                     'viral_bc_segment',\n",
    "                     'coinfected'])\n",
    "           ['n_cells']\n",
    "           .sum()\n",
    "           .reset_index()\n",
    "           .rename(columns={'n_cells':'total'})),\n",
    "    on=['gene', 'viral_bc_segment', 'coinfected'],\n",
    "    how='left',\n",
    "    validate='many_to_one'\n",
    ")\n",
    "\n",
    "each_gene_coinfected_normalized['frac_cells'] = (\n",
    "    each_gene_coinfected_normalized['n_cells'] /\n",
    "    each_gene_coinfected_normalized['total'])\n",
    "\n",
    "\n",
    "each_gene_coinfected_normalized"
   ]
  },
  {
   "cell_type": "code",
   "execution_count": null,
   "metadata": {},
   "outputs": [],
   "source": [
    "fig = (p9.ggplot(each_gene_coinfected_normalized,\n",
    "                 p9.aes(x='factor(coinfected)',\n",
    "                        y='frac_cells',\n",
    "                        fill='gene_present')) +\n",
    "       p9.geom_bar(stat='identity') +\n",
    "       p9.facet_grid('~gene') +\n",
    "       p9.ggtitle(f'viral gene expression\\n'\n",
    "                  f'by complementation\\n'\n",
    "                  f'{expt}') +\n",
    "       p9.labs(x='coinfected',\n",
    "               y='n_cells') +\n",
    "       p9.theme(figure_size=(12, 2),\n",
    "                plot_title=p9.element_text(size=12),\n",
    "                axis_title=p9.element_text(size=10),\n",
    "                legend_title=p9.element_text(size=10),\n",
    "                legend_title_align='center') +\n",
    "       p9.scale_fill_manual([CBPALETTE[1],CBPALETTE[0]]))\n",
    "display(fig)"
   ]
  },
  {
   "cell_type": "code",
   "execution_count": null,
   "metadata": {},
   "outputs": [],
   "source": [
    "fig = (p9.ggplot(viral_bc_freqs[['cell_barcode', 'coinfected', 'source', 'contributes_source_progeny']].drop_duplicates(),\n",
    "                 p9.aes(x='factor(contributes_source_progeny)',\n",
    "                        fill='coinfected')) +\n",
    "       p9.geom_bar(stat='count') +\n",
    "       p9.facet_grid('~source') +\n",
    "       p9.scale_y_log10() +\n",
    "       p9.ggtitle(f'progeny production\\n'\n",
    "                  f'by coinfection\\n'\n",
    "                  f'{expt}') +\n",
    "       p9.labs(x='contributes progeny',\n",
    "               y='n_cells') +\n",
    "       p9.theme(figure_size=(6, 3),\n",
    "                plot_title=p9.element_text(size=12),\n",
    "                axis_title=p9.element_text(size=10),\n",
    "                legend_title=p9.element_text(size=10),\n",
    "                legend_title_align='center') +\n",
    "       p9.scale_fill_manual([CBPALETTE[1],CBPALETTE[0]]))\n",
    "display(fig)"
   ]
  },
  {
   "cell_type": "markdown",
   "metadata": {},
   "source": [
    "Plot number of viral genes detected in each cell by coinfection status:"
   ]
  },
  {
   "cell_type": "code",
   "execution_count": null,
   "metadata": {},
   "outputs": [],
   "source": [
    "n_genes_coinfection_summarized = (\n",
    "    viral_bc_freqs\n",
    "    .query('infected == True and '\n",
    "           'infecting_viral_tag != \"both\"')\n",
    "    .groupby(['gene', 'coinfected', 'n_viral_genes_present'])\n",
    "    ['cell_barcode']\n",
    "    .nunique()\n",
    "    .reset_index(name='n_cells')\n",
    ")\n",
    "\n",
    "n_genes_coinfection_normalized = pd.merge(\n",
    "    left=n_genes_coinfection_summarized,\n",
    "    right=(n_genes_coinfection_summarized\n",
    "           .groupby(['gene', 'coinfected'])\n",
    "           ['n_cells']\n",
    "           .sum()\n",
    "           .reset_index()\n",
    "           .rename(columns={'n_cells':'total'})),\n",
    "    on=['gene', 'coinfected'],\n",
    "    how='left',\n",
    "    validate='many_to_one'\n",
    ")\n",
    "\n",
    "n_genes_coinfection_normalized['frac_cells'] = (\n",
    "    n_genes_coinfection_normalized['n_cells'] /\n",
    "    n_genes_coinfection_normalized['total'])\n",
    "\n",
    "n_genes_coinfection_normalized"
   ]
  },
  {
   "cell_type": "code",
   "execution_count": null,
   "metadata": {},
   "outputs": [],
   "source": [
    "fig = (p9.ggplot(n_genes_coinfection_normalized,\n",
    "                 p9.aes(x='n_viral_genes_present',\n",
    "                        y='frac_cells',\n",
    "                        fill='coinfected')) +\n",
    "              p9.geom_bar(stat='identity', position='dodge') +\n",
    "              p9.ggtitle('viral genes in cell\\n'\n",
    "                         f'{expt}') +\n",
    "              p9.ylab('proportion of cells') +\n",
    "              p9.theme(figure_size=(6, 2),\n",
    "                       plot_title=p9.element_text(size=10),\n",
    "                       axis_title=p9.element_text(size=10),\n",
    "                       legend_title=p9.element_text(size=9),\n",
    "                       legend_title_align='center') +\n",
    "              p9.scale_fill_manual(CBPALETTE[0:]))\n",
    "display(fig)"
   ]
  },
  {
   "cell_type": "markdown",
   "metadata": {},
   "source": [
    "## Pac Bio Mutations"
   ]
  },
  {
   "cell_type": "markdown",
   "metadata": {},
   "source": [
    "Import called mutations from valid PacBio CCS's:"
   ]
  },
  {
   "cell_type": "code",
   "execution_count": null,
   "metadata": {},
   "outputs": [],
   "source": [
    "pacbio_mutations = pd.read_csv(pacbio_mutations_csv, na_filter=False)\n",
    "pacbio_mutations = pacbio_mutations.rename(\n",
    "    columns={'cellbarcode_sequence': 'cell_barcode',\n",
    "             'transcript': 'gene',\n",
    "             'UMI_sequence': 'UMI',\n",
    "             'viral_barcode_sequence': 'viral_barcode',\n",
    "             'all_mutations_delsMerge': 'mutations'})\n",
    "\n",
    "display(pacbio_mutations)"
   ]
  },
  {
   "cell_type": "markdown",
   "metadata": {},
   "source": [
    "Count the number of genes detected in each cell:"
   ]
  },
  {
   "cell_type": "code",
   "execution_count": null,
   "metadata": {},
   "outputs": [],
   "source": [
    "n_genes_pacbio = (pacbio_mutations\n",
    "                  .groupby('cell_barcode')['gene']\n",
    "                  .nunique()\n",
    "                  .reset_index()\n",
    "                  .rename(columns={'gene': 'n_genes_detected'}))\n",
    "\n",
    "pacbio_mutations = pd.merge(\n",
    "    left=pacbio_mutations,\n",
    "    right=n_genes_pacbio,\n",
    "    on=['cell_barcode'],\n",
    "    how='left',\n",
    "    validate='many_to_one'\n",
    ")"
   ]
  },
  {
   "cell_type": "code",
   "execution_count": null,
   "metadata": {},
   "outputs": [],
   "source": [
    "pacbio_genes_per_cell = (\n",
    "    pacbio_mutations\n",
    "   .groupby('n_genes_detected')\n",
    "   ['cell_barcode']\n",
    "   .nunique()\n",
    "   .reset_index()\n",
    "   .rename(columns={'cell_barcode': 'n_cells'}))\n",
    "\n",
    "assert  pacbio_genes_per_cell['n_cells'].sum() == \\\n",
    "        pacbio_mutations['cell_barcode'].nunique() , \\\n",
    "        \"Total number of cells has changed during this operation\"\n",
    "\n",
    "fig = (p9.ggplot(pacbio_genes_per_cell,\n",
    "                 p9.aes(x='n_genes_detected',\n",
    "                        y='n_cells')) +\n",
    "              p9.geom_bar(stat='identity') +\n",
    "              p9.ggtitle('viral genes detected in PacBio data\\n'\n",
    "                         f'{expt}') +\n",
    "              p9.scale_x_continuous(breaks=range(0,10)) +\n",
    "              p9.ylab('n cells') +\n",
    "              p9.theme(figure_size=(6, 2),\n",
    "                       plot_title=p9.element_text(size=10),\n",
    "                       axis_title=p9.element_text(size=10),\n",
    "                       legend_title=p9.element_text(size=9),\n",
    "                       legend_title_align='center'))\n",
    "display(fig)"
   ]
  },
  {
   "cell_type": "markdown",
   "metadata": {},
   "source": [
    "Which gene is missing when not all genes are detected?"
   ]
  },
  {
   "cell_type": "code",
   "execution_count": null,
   "metadata": {},
   "outputs": [],
   "source": [
    "transcriptome_genes_detected = (\n",
    "    viral_gene_expression_long\n",
    "    .query('infected == True and '\n",
    "           'gene_present == True')\n",
    "    [['cell_barcode', 'gene']]\n",
    "    .drop_duplicates())\n",
    "transcriptome_genes_detected['transcriptome_detected'] = True\n",
    "\n",
    "pacbio_genes_detected = (\n",
    "    pacbio_mutations[['cell_barcode', 'gene']]\n",
    "    .drop_duplicates())\n",
    "pacbio_genes_detected['pacbio_detected'] = True"
   ]
  },
  {
   "cell_type": "code",
   "execution_count": null,
   "metadata": {},
   "outputs": [],
   "source": [
    "genes_detected = (pd.merge(\n",
    "    left=transcriptome_genes_detected,\n",
    "    right=pacbio_genes_detected,\n",
    "    how='outer',\n",
    "    on=['cell_barcode', 'gene'])\n",
    "    .fillna(False)\n",
    ")\n",
    "\n",
    "display(genes_detected)"
   ]
  },
  {
   "cell_type": "code",
   "execution_count": null,
   "metadata": {},
   "outputs": [],
   "source": [
    "conditions = [\n",
    "    ((genes_detected['transcriptome_detected'] == True) & \n",
    "     (genes_detected['pacbio_detected'] == False)),\n",
    "    ((genes_detected['transcriptome_detected'] == False) &\n",
    "     (genes_detected['pacbio_detected'] == True)),\n",
    "    ((genes_detected['transcriptome_detected'] == True) &\n",
    "     (genes_detected['pacbio_detected'] == True))\n",
    "]\n",
    "values = ['transcriptome', 'pacbio', 'both']\n",
    "\n",
    "genes_detected['gene_detected'] = numpy.select(conditions, values)\n",
    "genes_detected"
   ]
  },
  {
   "cell_type": "markdown",
   "metadata": {},
   "source": [
    "What is the concordance of detection for each gene?"
   ]
  },
  {
   "cell_type": "code",
   "execution_count": null,
   "metadata": {},
   "outputs": [],
   "source": [
    "n_infected_cells = genes_detected['cell_barcode'].nunique()\n",
    "fig = (p9.ggplot(genes_detected,\n",
    "                 p9.aes(x='factor(gene)',\n",
    "                        fill='gene_detected')) +\n",
    "       p9.geom_bar(stat='count') +\n",
    "       p9.ggtitle(f'viral gene detection\\n'\n",
    "                  f'{expt}') +\n",
    "       p9.labs(y='n_cells\\n'\n",
    "                 f'max = infected = {n_infected_cells}') +\n",
    "       p9.theme(figure_size=(12, 2),\n",
    "                plot_title=p9.element_text(size=12),\n",
    "                axis_title=p9.element_text(size=10),\n",
    "                legend_title=p9.element_text(size=10),\n",
    "                legend_title_align='center') +\n",
    "       p9.scale_fill_manual(CBPALETTE[0:]))\n",
    "display(fig)"
   ]
  },
  {
   "cell_type": "markdown",
   "metadata": {},
   "source": [
    "### Per-cell variant frequencies\n",
    "Examine viral genes in each cell to see if variants are found above treshold frequencies (e.g. 50%)."
   ]
  },
  {
   "cell_type": "code",
   "execution_count": null,
   "metadata": {},
   "outputs": [],
   "source": [
    "pacbio_mutations"
   ]
  },
  {
   "cell_type": "markdown",
   "metadata": {},
   "source": [
    "Convert from haplotype to mutation. Drop WT rows."
   ]
  },
  {
   "cell_type": "code",
   "execution_count": null,
   "metadata": {},
   "outputs": [],
   "source": [
    "mut_data = (pacbio_mutations\n",
    "            .copy()\n",
    "            .drop(columns=['variant_call_support', 'n_genes_detected']))\n",
    "mut_data['muts_split'] = (mut_data['mutations']\n",
    "                          .transform(lambda x: x.split(' ')))\n",
    "mut_data = mut_data.explode('muts_split')\n",
    "mut_data = mut_data.query('muts_split != \"\"')\n",
    "\n",
    "mut_data"
   ]
  },
  {
   "cell_type": "markdown",
   "metadata": {},
   "source": [
    "Get n UMIs with each mutation:"
   ]
  },
  {
   "cell_type": "code",
   "execution_count": null,
   "metadata": {},
   "outputs": [],
   "source": [
    "mut_UMIs = (\n",
    "    mut_data\n",
    "    .groupby(['cell_barcode','gene','muts_split'])\n",
    "    ['UMI']\n",
    "    .nunique()\n",
    "    .reset_index()\n",
    "    .rename(columns={'muts_split': 'mutation',\n",
    "                     'UMI': 'variant_call_support'}))\n",
    "\n",
    "mut_UMIs"
   ]
  },
  {
   "cell_type": "markdown",
   "metadata": {},
   "source": [
    "Get fraction of UMIs in each cell with each mutation:"
   ]
  },
  {
   "cell_type": "code",
   "execution_count": null,
   "metadata": {},
   "outputs": [],
   "source": [
    "mut_frequencies = pd.merge(\n",
    "    left=mut_UMIs,\n",
    "    right=(pacbio_mutations  #  Must be original dataframe to include WT UMIs\n",
    "           .groupby(['cell_barcode', 'gene'])\n",
    "           ['UMI']\n",
    "           .nunique()\n",
    "           .reset_index()\n",
    "           .rename(columns={'UMI': 'total_UMIs'})),\n",
    "    how='left',\n",
    "    on=['cell_barcode', 'gene'],\n",
    "    validate='many_to_one'\n",
    ")\n",
    "mut_frequencies['frac_UMIs'] = (\n",
    "    mut_frequencies['variant_call_support'] /\n",
    "    mut_frequencies['total_UMIs'])\n",
    "\n",
    "\n",
    "mut_frequencies"
   ]
  },
  {
   "cell_type": "markdown",
   "metadata": {},
   "source": [
    "Call consensus mutations:"
   ]
  },
  {
   "cell_type": "code",
   "execution_count": null,
   "metadata": {},
   "outputs": [],
   "source": [
    "mut_frequencies['freq_50_mut'] = (\n",
    "    mut_frequencies['frac_UMIs'] > 0.5\n",
    ")\n",
    "\n",
    "mut_frequencies['freq_25_mut'] = (\n",
    "    mut_frequencies['frac_UMIs'] > 0.25\n",
    ")\n",
    "\n",
    "mut_frequencies"
   ]
  },
  {
   "cell_type": "code",
   "execution_count": null,
   "metadata": {},
   "outputs": [],
   "source": [
    "fig = (p9.ggplot(mut_frequencies,\n",
    "                 p9.aes(x='frac_UMIs')) +\n",
    "              p9.geom_histogram(binwidth=0.05) +\n",
    "              p9.facet_grid('gene~') +\n",
    "              p9.scale_y_log10() +\n",
    "              p9.labs(x='mutation frequency in cell (frac UMIs)',\n",
    "                      y='n mutations') +\n",
    "              p9.theme(figure_size=(4, 8),\n",
    "                       plot_title=p9.element_text(size=10),\n",
    "                       axis_title=p9.element_text(size=10),\n",
    "                       legend_title=p9.element_text(size=9),\n",
    "                       legend_title_align='center') +\n",
    "              p9.scale_fill_manual(CBPALETTE[0:]))\n",
    "display(fig)"
   ]
  },
  {
   "cell_type": "code",
   "execution_count": null,
   "metadata": {},
   "outputs": [],
   "source": [
    "freq_50_muts_by_cell = (\n",
    "    mut_frequencies\n",
    "    .query('freq_50_mut == True')\n",
    "    .groupby(['cell_barcode', 'gene'])\n",
    "    .agg({'mutation': lambda x: \" \".join(x)})\n",
    "    .rename(columns={'mutation': 'freq_50_mutations'})\n",
    "    .reset_index())\n",
    "\n",
    "freq_25_muts_by_cell = (\n",
    "    mut_frequencies\n",
    "    .query('freq_25_mut == True')\n",
    "    .groupby(['cell_barcode', 'gene'])\n",
    "    .agg({'mutation': lambda x: \" \".join(x)})\n",
    "    .rename(columns={'mutation': 'freq_25_mutations'})\n",
    "    .reset_index())\n",
    "\n",
    "mut_freqs_by_cell = pd.merge(\n",
    "    left=freq_50_muts_by_cell,\n",
    "    right=freq_25_muts_by_cell,\n",
    "    on=['cell_barcode', 'gene'],\n",
    "    how='outer'\n",
    ")\n",
    "\n",
    "consensus_muts_by_cell = pd.merge(\n",
    "    left=pacbio_genes_detected[['cell_barcode', 'gene']],\n",
    "    right=mut_freqs_by_cell,\n",
    "    on=['cell_barcode', 'gene'],\n",
    "    how='outer',\n",
    "    validate='one_to_many'\n",
    ")\n",
    "\n",
    "consensus_muts_by_cell = consensus_muts_by_cell.fillna(\"None\")\n",
    "\n",
    "consensus_muts_by_cell"
   ]
  },
  {
   "cell_type": "code",
   "execution_count": null,
   "metadata": {},
   "outputs": [],
   "source": [
    "contribute_progeny = (\n",
    " viral_bc_freqs\n",
    " .query('(cell_barcode.notnull()) & infected == True', engine='python')\n",
    " [['cell_barcode',\n",
    "   'infected',\n",
    "   'frac_viral_UMIs',\n",
    "   'n_viral_genes_present',\n",
    "   'source',\n",
    "   'contributes_source_progeny']]\n",
    " .pivot_table('contributes_source_progeny',\n",
    "              ['cell_barcode', 'infected', 'frac_viral_UMIs', 'n_viral_genes_present'],\n",
    "              'source')\n",
    " .reset_index()\n",
    " [['cell_barcode', 'supernatant']])\n",
    "\n",
    "contribute_progeny"
   ]
  },
  {
   "cell_type": "code",
   "execution_count": null,
   "metadata": {},
   "outputs": [],
   "source": [
    "consensus_muts_by_cell = pd.merge(\n",
    "    left=consensus_muts_by_cell,\n",
    "    right=contribute_progeny,\n",
    "    on=['cell_barcode'],\n",
    "    how='left',\n",
    "    validate='many_to_one'\n",
    ")\n",
    "\n",
    "consensus_muts_by_cell"
   ]
  },
  {
   "cell_type": "markdown",
   "metadata": {},
   "source": [
    "Export to CSV:"
   ]
  },
  {
   "cell_type": "code",
   "execution_count": null,
   "metadata": {},
   "outputs": [],
   "source": [
    "(consensus_muts_by_cell\n",
    " [['supernatant', 'cell_barcode', 'gene', 'freq_50_mutations']]\n",
    " .sort_values(by=['supernatant', 'cell_barcode', 'gene'])\n",
    " .to_csv(consensus_muts_by_cell_csv, index=False)\n",
    ")"
   ]
  },
  {
   "cell_type": "code",
   "execution_count": null,
   "metadata": {},
   "outputs": [],
   "source": [
    "consensus_muts_by_cell['WT'] = (\n",
    "    consensus_muts_by_cell['freq_50_mutations'] == \"None\"\n",
    ")"
   ]
  },
  {
   "cell_type": "code",
   "execution_count": null,
   "metadata": {},
   "outputs": [],
   "source": [
    "n_infected_cells = genes_detected['cell_barcode'].nunique()\n",
    "fig = (p9.ggplot(consensus_muts_by_cell,\n",
    "                 p9.aes(x='gene',\n",
    "                        fill='WT')) +\n",
    "       p9.geom_bar(stat='count') +\n",
    "       p9.ggtitle(f'Consenus Mutations per gene/cell\\n'\n",
    "                  f'{expt}') +\n",
    "       p9.labs(y='n_cells\\n'\n",
    "                 f'max = infected = {n_infected_cells}') +\n",
    "       p9.theme(figure_size=(6, 2),\n",
    "                plot_title=p9.element_text(size=10),\n",
    "                axis_title=p9.element_text(size=8),\n",
    "                legend_title=p9.element_text(size=8),\n",
    "                legend_title_align='center') +\n",
    "       p9.scale_fill_manual([CBPALETTE[1], CBPALETTE[0]]))\n",
    "display(fig)"
   ]
  },
  {
   "cell_type": "code",
   "execution_count": null,
   "metadata": {},
   "outputs": [],
   "source": []
  }
 ],
 "metadata": {
  "kernelspec": {
   "display_name": "Python 3",
   "language": "python",
   "name": "python3"
  },
  "language_info": {
   "codemirror_mode": {
    "name": "ipython",
    "version": 3
   },
   "file_extension": ".py",
   "mimetype": "text/x-python",
   "name": "python",
   "nbconvert_exporter": "python",
   "pygments_lexer": "ipython3",
   "version": "3.8.6"
  }
 },
 "nbformat": 4,
 "nbformat_minor": 4
}
