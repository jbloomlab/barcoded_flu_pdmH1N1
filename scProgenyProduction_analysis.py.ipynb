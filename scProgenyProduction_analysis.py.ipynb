{
 "cells": [
  {
   "cell_type": "markdown",
   "metadata": {},
   "source": [
    "# single-cell Progeny Production analysis\n",
    "This notebook provides a central place to integrate and analyze transcriptome and progeny production data."
   ]
  },
  {
   "cell_type": "markdown",
   "metadata": {},
   "source": [
    "## Notebook setup\n",
    "First give paths and values to all variables. Then, load in data."
   ]
  },
  {
   "cell_type": "markdown",
   "metadata": {},
   "source": [
    "Python imports:"
   ]
  },
  {
   "cell_type": "code",
   "execution_count": 1,
   "metadata": {},
   "outputs": [],
   "source": [
    "from IPython.display import display\n",
    "\n",
    "from dms_variants.constants import CBPALETTE\n",
    "\n",
    "import numpy\n",
    "\n",
    "import pandas as pd\n",
    "\n",
    "import plotnine as p9\n",
    "\n",
    "import scanpy\n",
    "\n",
    "import scipy\n",
    "\n",
    "import statsmodels.stats.multitest\n",
    "\n",
    "import subprocess"
   ]
  },
  {
   "cell_type": "markdown",
   "metadata": {},
   "source": [
    "Input data paths. Currently hardcoded."
   ]
  },
  {
   "cell_type": "code",
   "execution_count": 2,
   "metadata": {},
   "outputs": [],
   "source": [
    "matrix = 'results/aligned_fastq10x/scProgenyProduction_trial3/Solo.out/GeneFull/filtered/matrix.mtx'\n",
    "cell_barcodes = 'results/aligned_fastq10x/scProgenyProduction_trial3/Solo.out/GeneFull/filtered/barcodes.tsv'\n",
    "features = 'results/aligned_fastq10x/scProgenyProduction_trial3/Solo.out/GeneFull/filtered/features.tsv'\n",
    "viral_tag_by_cell_csv = 'results/viral_tags_bcs_in_cells/scProgenyProduction_trial3_cell_barcodes_with_viral_tags.csv.gz'\n",
    "viral_bc_background_freq_csv = 'results/viral_fastq10x/scProgenyProduction_trial3_viral_bc_background_freq.csv.gz'\n",
    "viral_bc_in_progeny_freq_csv = 'results/viral_progeny/scProgenyProduction_trial3_viral_bc_in_progeny_freq.csv.gz'"
   ]
  },
  {
   "cell_type": "markdown",
   "metadata": {},
   "source": [
    "Global variables for this notebook:"
   ]
  },
  {
   "cell_type": "code",
   "execution_count": 3,
   "metadata": {},
   "outputs": [],
   "source": [
    "expt = 'scProgenyProduction_trial3'\n",
    "plot = 'results/viral_fastq10x/scProgenyProduction_trial3_viral_bc_correlations.pdf'\n",
    "viral_genes = ['fluPB2', 'fluPB1', 'fluPA', 'fluHA', 'fluNA', 'fluNP', 'fluM', 'fluNS']\n",
    "barcoded_viral_genes = ['fluHA', 'fluNA']"
   ]
  },
  {
   "cell_type": "markdown",
   "metadata": {},
   "source": [
    "Style parameters. *N.b.* `CBPALETTE` is defined in imports above."
   ]
  },
  {
   "cell_type": "code",
   "execution_count": 4,
   "metadata": {},
   "outputs": [],
   "source": [
    "p9.theme_set(p9.theme_classic())"
   ]
  },
  {
   "cell_type": "markdown",
   "metadata": {},
   "source": [
    "### Load data"
   ]
  },
  {
   "cell_type": "markdown",
   "metadata": {},
   "source": [
    "**Transcriptome** viral barcode frequencies:"
   ]
  },
  {
   "cell_type": "code",
   "execution_count": 5,
   "metadata": {},
   "outputs": [
    {
     "data": {
      "text/html": [
       "<div>\n",
       "<style scoped>\n",
       "    .dataframe tbody tr th:only-of-type {\n",
       "        vertical-align: middle;\n",
       "    }\n",
       "\n",
       "    .dataframe tbody tr th {\n",
       "        vertical-align: top;\n",
       "    }\n",
       "\n",
       "    .dataframe thead th {\n",
       "        text-align: right;\n",
       "    }\n",
       "</style>\n",
       "<table border=\"1\" class=\"dataframe\">\n",
       "  <thead>\n",
       "    <tr style=\"text-align: right;\">\n",
       "      <th></th>\n",
       "      <th>cell_barcode</th>\n",
       "      <th>infected</th>\n",
       "      <th>infecting_viral_tag</th>\n",
       "      <th>frac_viral_UMIs</th>\n",
       "      <th>gene</th>\n",
       "      <th>viral_barcode</th>\n",
       "      <th>viral_bc_UMIs</th>\n",
       "      <th>frac_viral_bc_UMIs</th>\n",
       "      <th>reject_uninfected</th>\n",
       "    </tr>\n",
       "  </thead>\n",
       "  <tbody>\n",
       "    <tr>\n",
       "      <th>0</th>\n",
       "      <td>AAACCCAGTAACAAGT</td>\n",
       "      <td>False</td>\n",
       "      <td>none</td>\n",
       "      <td>0.000048</td>\n",
       "      <td>fluHA</td>\n",
       "      <td>NaN</td>\n",
       "      <td>0</td>\n",
       "      <td>0.000000</td>\n",
       "      <td>False</td>\n",
       "    </tr>\n",
       "    <tr>\n",
       "      <th>1</th>\n",
       "      <td>AAACCCATCATTGCTT</td>\n",
       "      <td>False</td>\n",
       "      <td>none</td>\n",
       "      <td>0.000051</td>\n",
       "      <td>fluHA</td>\n",
       "      <td>NaN</td>\n",
       "      <td>0</td>\n",
       "      <td>0.000000</td>\n",
       "      <td>False</td>\n",
       "    </tr>\n",
       "    <tr>\n",
       "      <th>2</th>\n",
       "      <td>AAACGAAAGATGTTGA</td>\n",
       "      <td>False</td>\n",
       "      <td>none</td>\n",
       "      <td>0.000204</td>\n",
       "      <td>fluHA</td>\n",
       "      <td>NaN</td>\n",
       "      <td>0</td>\n",
       "      <td>0.000000</td>\n",
       "      <td>False</td>\n",
       "    </tr>\n",
       "    <tr>\n",
       "      <th>3</th>\n",
       "      <td>AAACGAAGTACTTCCC</td>\n",
       "      <td>True</td>\n",
       "      <td>both</td>\n",
       "      <td>0.448272</td>\n",
       "      <td>fluHA</td>\n",
       "      <td>NaN</td>\n",
       "      <td>0</td>\n",
       "      <td>0.000000</td>\n",
       "      <td>False</td>\n",
       "    </tr>\n",
       "    <tr>\n",
       "      <th>4</th>\n",
       "      <td>AAACGAAGTAGACGTG</td>\n",
       "      <td>True</td>\n",
       "      <td>wt</td>\n",
       "      <td>0.040116</td>\n",
       "      <td>fluHA</td>\n",
       "      <td>AAGTAAGCGACATGAG</td>\n",
       "      <td>93</td>\n",
       "      <td>0.001731</td>\n",
       "      <td>True</td>\n",
       "    </tr>\n",
       "    <tr>\n",
       "      <th>...</th>\n",
       "      <td>...</td>\n",
       "      <td>...</td>\n",
       "      <td>...</td>\n",
       "      <td>...</td>\n",
       "      <td>...</td>\n",
       "      <td>...</td>\n",
       "      <td>...</td>\n",
       "      <td>...</td>\n",
       "      <td>...</td>\n",
       "    </tr>\n",
       "    <tr>\n",
       "      <th>9185</th>\n",
       "      <td>TTTGATCTCCCGTTCA</td>\n",
       "      <td>False</td>\n",
       "      <td>none</td>\n",
       "      <td>0.000109</td>\n",
       "      <td>fluNA</td>\n",
       "      <td>NaN</td>\n",
       "      <td>0</td>\n",
       "      <td>0.000000</td>\n",
       "      <td>False</td>\n",
       "    </tr>\n",
       "    <tr>\n",
       "      <th>9186</th>\n",
       "      <td>TTTGATCTCGCATTGA</td>\n",
       "      <td>True</td>\n",
       "      <td>wt</td>\n",
       "      <td>0.063156</td>\n",
       "      <td>fluNA</td>\n",
       "      <td>NaN</td>\n",
       "      <td>0</td>\n",
       "      <td>0.000000</td>\n",
       "      <td>False</td>\n",
       "    </tr>\n",
       "    <tr>\n",
       "      <th>9187</th>\n",
       "      <td>TTTGGAGAGTTGCCTA</td>\n",
       "      <td>False</td>\n",
       "      <td>none</td>\n",
       "      <td>0.000070</td>\n",
       "      <td>fluNA</td>\n",
       "      <td>NaN</td>\n",
       "      <td>0</td>\n",
       "      <td>0.000000</td>\n",
       "      <td>False</td>\n",
       "    </tr>\n",
       "    <tr>\n",
       "      <th>9188</th>\n",
       "      <td>TTTGGAGGTATCGTTG</td>\n",
       "      <td>True</td>\n",
       "      <td>wt</td>\n",
       "      <td>0.024534</td>\n",
       "      <td>fluNA</td>\n",
       "      <td>ACATCTTATTTACACG</td>\n",
       "      <td>15</td>\n",
       "      <td>0.000230</td>\n",
       "      <td>True</td>\n",
       "    </tr>\n",
       "    <tr>\n",
       "      <th>9189</th>\n",
       "      <td>TTTGTTGAGTGCAGCA</td>\n",
       "      <td>False</td>\n",
       "      <td>none</td>\n",
       "      <td>0.000068</td>\n",
       "      <td>fluNA</td>\n",
       "      <td>NaN</td>\n",
       "      <td>0</td>\n",
       "      <td>0.000000</td>\n",
       "      <td>False</td>\n",
       "    </tr>\n",
       "  </tbody>\n",
       "</table>\n",
       "<p>9190 rows × 9 columns</p>\n",
       "</div>"
      ],
      "text/plain": [
       "          cell_barcode  infected infecting_viral_tag  frac_viral_UMIs   gene  \\\n",
       "0     AAACCCAGTAACAAGT     False                none         0.000048  fluHA   \n",
       "1     AAACCCATCATTGCTT     False                none         0.000051  fluHA   \n",
       "2     AAACGAAAGATGTTGA     False                none         0.000204  fluHA   \n",
       "3     AAACGAAGTACTTCCC      True                both         0.448272  fluHA   \n",
       "4     AAACGAAGTAGACGTG      True                  wt         0.040116  fluHA   \n",
       "...                ...       ...                 ...              ...    ...   \n",
       "9185  TTTGATCTCCCGTTCA     False                none         0.000109  fluNA   \n",
       "9186  TTTGATCTCGCATTGA      True                  wt         0.063156  fluNA   \n",
       "9187  TTTGGAGAGTTGCCTA     False                none         0.000070  fluNA   \n",
       "9188  TTTGGAGGTATCGTTG      True                  wt         0.024534  fluNA   \n",
       "9189  TTTGTTGAGTGCAGCA     False                none         0.000068  fluNA   \n",
       "\n",
       "         viral_barcode  viral_bc_UMIs  frac_viral_bc_UMIs  reject_uninfected  \n",
       "0                  NaN              0            0.000000              False  \n",
       "1                  NaN              0            0.000000              False  \n",
       "2                  NaN              0            0.000000              False  \n",
       "3                  NaN              0            0.000000              False  \n",
       "4     AAGTAAGCGACATGAG             93            0.001731               True  \n",
       "...                ...            ...                 ...                ...  \n",
       "9185               NaN              0            0.000000              False  \n",
       "9186               NaN              0            0.000000              False  \n",
       "9187               NaN              0            0.000000              False  \n",
       "9188  ACATCTTATTTACACG             15            0.000230               True  \n",
       "9189               NaN              0            0.000000              False  \n",
       "\n",
       "[9190 rows x 9 columns]"
      ]
     },
     "metadata": {},
     "output_type": "display_data"
    }
   ],
   "source": [
    "transcriptome_viral_bc_freqs = pd.read_csv(viral_bc_background_freq_csv)\n",
    "assert set(transcriptome_viral_bc_freqs['gene']) == set(barcoded_viral_genes), \\\n",
    "       \"Barcoded genes in barcode counts do not match expectation.\"\n",
    "display(transcriptome_viral_bc_freqs)"
   ]
  },
  {
   "cell_type": "markdown",
   "metadata": {},
   "source": [
    "**Progeny** viral barcode frequencies:"
   ]
  },
  {
   "cell_type": "code",
   "execution_count": 6,
   "metadata": {},
   "outputs": [
    {
     "data": {
      "text/html": [
       "<div>\n",
       "<style scoped>\n",
       "    .dataframe tbody tr th:only-of-type {\n",
       "        vertical-align: middle;\n",
       "    }\n",
       "\n",
       "    .dataframe tbody tr th {\n",
       "        vertical-align: top;\n",
       "    }\n",
       "\n",
       "    .dataframe thead th {\n",
       "        text-align: right;\n",
       "    }\n",
       "</style>\n",
       "<table border=\"1\" class=\"dataframe\">\n",
       "  <thead>\n",
       "    <tr style=\"text-align: right;\">\n",
       "      <th></th>\n",
       "      <th>source</th>\n",
       "      <th>infecting_viral_tag</th>\n",
       "      <th>gene</th>\n",
       "      <th>viral_barcode</th>\n",
       "      <th>mean_count</th>\n",
       "      <th>mean_freq</th>\n",
       "    </tr>\n",
       "  </thead>\n",
       "  <tbody>\n",
       "    <tr>\n",
       "      <th>0</th>\n",
       "      <td>second_infection</td>\n",
       "      <td>syn</td>\n",
       "      <td>fluHA</td>\n",
       "      <td>AAAACCTTCCGTACGT</td>\n",
       "      <td>1172.0</td>\n",
       "      <td>6.696768e-04</td>\n",
       "    </tr>\n",
       "    <tr>\n",
       "      <th>1</th>\n",
       "      <td>second_infection</td>\n",
       "      <td>syn</td>\n",
       "      <td>fluHA</td>\n",
       "      <td>AAAAGATCTTCGGTTT</td>\n",
       "      <td>529.0</td>\n",
       "      <td>8.867890e-04</td>\n",
       "    </tr>\n",
       "    <tr>\n",
       "      <th>2</th>\n",
       "      <td>second_infection</td>\n",
       "      <td>syn</td>\n",
       "      <td>fluHA</td>\n",
       "      <td>AAAAGGAAAGAAGTGC</td>\n",
       "      <td>1015.0</td>\n",
       "      <td>8.053109e-04</td>\n",
       "    </tr>\n",
       "    <tr>\n",
       "      <th>3</th>\n",
       "      <td>second_infection</td>\n",
       "      <td>syn</td>\n",
       "      <td>fluHA</td>\n",
       "      <td>AAAATAAAATAATGTT</td>\n",
       "      <td>33.0</td>\n",
       "      <td>1.885609e-05</td>\n",
       "    </tr>\n",
       "    <tr>\n",
       "      <th>4</th>\n",
       "      <td>second_infection</td>\n",
       "      <td>syn</td>\n",
       "      <td>fluHA</td>\n",
       "      <td>AAAATATACGTAAATC</td>\n",
       "      <td>0.5</td>\n",
       "      <td>2.856983e-07</td>\n",
       "    </tr>\n",
       "    <tr>\n",
       "      <th>...</th>\n",
       "      <td>...</td>\n",
       "      <td>...</td>\n",
       "      <td>...</td>\n",
       "      <td>...</td>\n",
       "      <td>...</td>\n",
       "      <td>...</td>\n",
       "    </tr>\n",
       "    <tr>\n",
       "      <th>11347</th>\n",
       "      <td>supernatant</td>\n",
       "      <td>wt</td>\n",
       "      <td>fluNA</td>\n",
       "      <td>TTTTCGTGAAAAGAGA</td>\n",
       "      <td>2638.5</td>\n",
       "      <td>1.747121e-03</td>\n",
       "    </tr>\n",
       "    <tr>\n",
       "      <th>11348</th>\n",
       "      <td>supernatant</td>\n",
       "      <td>wt</td>\n",
       "      <td>fluNA</td>\n",
       "      <td>TTTTGCTTCGAGATAG</td>\n",
       "      <td>22633.5</td>\n",
       "      <td>1.264800e-02</td>\n",
       "    </tr>\n",
       "    <tr>\n",
       "      <th>11349</th>\n",
       "      <td>supernatant</td>\n",
       "      <td>wt</td>\n",
       "      <td>fluNA</td>\n",
       "      <td>TTTTGGTTGTGAGGTG</td>\n",
       "      <td>0.5</td>\n",
       "      <td>2.399886e-07</td>\n",
       "    </tr>\n",
       "    <tr>\n",
       "      <th>11350</th>\n",
       "      <td>supernatant</td>\n",
       "      <td>wt</td>\n",
       "      <td>fluNA</td>\n",
       "      <td>TTTTGTTACATCATCT</td>\n",
       "      <td>0.5</td>\n",
       "      <td>2.399886e-07</td>\n",
       "    </tr>\n",
       "    <tr>\n",
       "      <th>11351</th>\n",
       "      <td>supernatant</td>\n",
       "      <td>wt</td>\n",
       "      <td>fluNA</td>\n",
       "      <td>TTTTTAGGGGTAACTG</td>\n",
       "      <td>0.5</td>\n",
       "      <td>2.399886e-07</td>\n",
       "    </tr>\n",
       "  </tbody>\n",
       "</table>\n",
       "<p>11352 rows × 6 columns</p>\n",
       "</div>"
      ],
      "text/plain": [
       "                 source infecting_viral_tag   gene     viral_barcode  \\\n",
       "0      second_infection                 syn  fluHA  AAAACCTTCCGTACGT   \n",
       "1      second_infection                 syn  fluHA  AAAAGATCTTCGGTTT   \n",
       "2      second_infection                 syn  fluHA  AAAAGGAAAGAAGTGC   \n",
       "3      second_infection                 syn  fluHA  AAAATAAAATAATGTT   \n",
       "4      second_infection                 syn  fluHA  AAAATATACGTAAATC   \n",
       "...                 ...                 ...    ...               ...   \n",
       "11347       supernatant                  wt  fluNA  TTTTCGTGAAAAGAGA   \n",
       "11348       supernatant                  wt  fluNA  TTTTGCTTCGAGATAG   \n",
       "11349       supernatant                  wt  fluNA  TTTTGGTTGTGAGGTG   \n",
       "11350       supernatant                  wt  fluNA  TTTTGTTACATCATCT   \n",
       "11351       supernatant                  wt  fluNA  TTTTTAGGGGTAACTG   \n",
       "\n",
       "       mean_count     mean_freq  \n",
       "0          1172.0  6.696768e-04  \n",
       "1           529.0  8.867890e-04  \n",
       "2          1015.0  8.053109e-04  \n",
       "3            33.0  1.885609e-05  \n",
       "4             0.5  2.856983e-07  \n",
       "...           ...           ...  \n",
       "11347      2638.5  1.747121e-03  \n",
       "11348     22633.5  1.264800e-02  \n",
       "11349         0.5  2.399886e-07  \n",
       "11350         0.5  2.399886e-07  \n",
       "11351         0.5  2.399886e-07  \n",
       "\n",
       "[11352 rows x 6 columns]"
      ]
     },
     "metadata": {},
     "output_type": "display_data"
    }
   ],
   "source": [
    "progeny_viral_bc_freqs = pd.read_csv(viral_bc_in_progeny_freq_csv)\n",
    "assert set(progeny_viral_bc_freqs['gene']) == set(barcoded_viral_genes), \\\n",
    "       \"Barcoded genes in barcode counts do not match expectation.\"\n",
    "progeny_viral_bc_freqs = (progeny_viral_bc_freqs\n",
    "                          .rename(columns={'barcode': 'viral_barcode',\n",
    "                                           'tag': 'infecting_viral_tag'}))\n",
    "display(progeny_viral_bc_freqs)"
   ]
  },
  {
   "cell_type": "markdown",
   "metadata": {},
   "source": [
    "Cell-gene matrix:"
   ]
  },
  {
   "cell_type": "code",
   "execution_count": null,
   "metadata": {},
   "outputs": [],
   "source": [
    "adata = scanpy.read_mtx(matrix)\n",
    "adata.var = pd.read_csv(cell_barcodes,\n",
    "                        names=['cell_barcode'])\n",
    "adata.obs = pd.read_csv(features,\n",
    "                        sep='\\t',\n",
    "                        names=['ensemble_id', 'gene', 'feature_type'])\n",
    "\n",
    "print(f\"Read cell-gene matrix of {adata.n_vars} cells and {adata.n_obs} genes\")\n",
    "\n",
    "assert set(viral_genes).issubset(set(adata.obs['gene'])), 'lack viral genes'"
   ]
  },
  {
   "cell_type": "markdown",
   "metadata": {},
   "source": [
    "### Cross-check data\n",
    "Use assert statements to ensure that that the number and identity of cell barcodes is identical between data sources."
   ]
  },
  {
   "cell_type": "code",
   "execution_count": null,
   "metadata": {},
   "outputs": [],
   "source": [
    "assert transcriptome_viral_bc_freqs['cell_barcode'].nunique() == \\\n",
    "       adata.var['cell_barcode'].nunique(), \\\n",
    "       \"Number of cells discrepancy\"\n",
    "\n",
    "assert set(transcriptome_viral_bc_freqs['cell_barcode']) == \\\n",
    "       set(adata.var['cell_barcode']), \\\n",
    "       \"Cell barcodes do not match between data sources\""
   ]
  },
  {
   "cell_type": "markdown",
   "metadata": {},
   "source": [
    "### Plot raw data\n",
    "Plot data from each source without filtering or processing. This is mostly for exploration and transparency."
   ]
  },
  {
   "cell_type": "markdown",
   "metadata": {},
   "source": [
    "#### Viral barcode transcription"
   ]
  },
  {
   "cell_type": "code",
   "execution_count": null,
   "metadata": {},
   "outputs": [],
   "source": [
    "fig = (p9.ggplot((transcriptome_viral_bc_freqs\n",
    "                  .query('viral_barcode.notnull()',\n",
    "                         engine='python')),\n",
    "                 p9.aes(x='viral_bc_UMIs')) +\n",
    "       p9.geom_histogram(bins=30) +\n",
    "       p9.facet_grid('~gene') +\n",
    "       p9.ggtitle(f'Viral barcode transcription') +\n",
    "       p9.labs(x='UMIs',\n",
    "               y='number of viral barcodes') +\n",
    "       p9.scale_x_log10() +\n",
    "       p9.theme(figure_size=(6, 3),\n",
    "                plot_title=p9.element_text(size=12),\n",
    "                axis_title=p9.element_text(size=10),\n",
    "                legend_title=p9.element_text(size=10),\n",
    "                legend_title_align='center'))\n",
    "display(fig)"
   ]
  },
  {
   "cell_type": "code",
   "execution_count": null,
   "metadata": {},
   "outputs": [],
   "source": [
    "fig = (p9.ggplot((transcriptome_viral_bc_freqs\n",
    "                  .query('viral_barcode.notnull()',\n",
    "                         engine='python')),\n",
    "                 p9.aes(x='frac_viral_bc_UMIs')) +\n",
    "       p9.geom_histogram(bins=30) +\n",
    "       p9.facet_grid('~gene') +\n",
    "       p9.ggtitle(f'Viral barcode transcription') +\n",
    "       p9.labs(x='fraction of total UMIs in cell',\n",
    "               y='number of viral barcodes') +\n",
    "       p9.scale_x_log10() +\n",
    "       p9.theme(figure_size=(6, 3),\n",
    "                plot_title=p9.element_text(size=12),\n",
    "                axis_title=p9.element_text(size=10),\n",
    "                legend_title=p9.element_text(size=10),\n",
    "                legend_title_align='center'))\n",
    "display(fig)"
   ]
  },
  {
   "cell_type": "markdown",
   "metadata": {},
   "source": [
    "#### Progeny production"
   ]
  },
  {
   "cell_type": "code",
   "execution_count": null,
   "metadata": {},
   "outputs": [],
   "source": [
    "fig = (p9.ggplot(progeny_viral_bc_freqs,\n",
    "                 p9.aes(x='count_sup')) +\n",
    "       p9.geom_histogram(bins=30) +\n",
    "       p9.facet_grid('~gene') +\n",
    "       p9.ggtitle(f'Viral barcodes in supernatant') +\n",
    "       p9.labs(x='average reads in supernatant (two replicates)',\n",
    "               y='number of viral barcodes') +\n",
    "       p9.scale_x_log10() +\n",
    "       p9.theme(figure_size=(6, 3),\n",
    "                plot_title=p9.element_text(size=12),\n",
    "                axis_title=p9.element_text(size=10),\n",
    "                legend_title=p9.element_text(size=10),\n",
    "                legend_title_align='center'))\n",
    "display(fig)"
   ]
  },
  {
   "cell_type": "code",
   "execution_count": null,
   "metadata": {},
   "outputs": [],
   "source": [
    "fig = (p9.ggplot(progeny_viral_bc_freqs,\n",
    "                 p9.aes(x='freq_sup')) +\n",
    "       p9.geom_histogram(bins=30) +\n",
    "       p9.facet_grid('~gene') +\n",
    "       p9.ggtitle(f'Viral barcodes in supernatant') +\n",
    "       p9.labs(x='average fraction of reads in supernatant (two replicates)',\n",
    "               y='number of viral barcodes') +\n",
    "       p9.scale_x_log10() +\n",
    "       p9.theme(figure_size=(6, 3),\n",
    "                plot_title=p9.element_text(size=12),\n",
    "                axis_title=p9.element_text(size=10),\n",
    "                legend_title=p9.element_text(size=10),\n",
    "                legend_title_align='center'))\n",
    "display(fig)"
   ]
  },
  {
   "cell_type": "markdown",
   "metadata": {},
   "source": [
    "### Process data\n",
    "Next, I will merge the data into a few useable dataframes. I will perform calculations on these data that will help us visualize technical error and filter."
   ]
  },
  {
   "cell_type": "markdown",
   "metadata": {},
   "source": [
    "#### Merge all viral barcode data into a central dataframe called `viral_bc_freqs`\n",
    "\n",
    "Structure of the final dataframe should be as follows:\n",
    "1. Cell barcode\n",
    "2. Infected\n",
    "3. Infecting viral tag\n",
    "4. Gene\n",
    "5. Viral barcode\n",
    "6. Count in the transcriptome (`viral_bc_UMIs`)\n",
    "7. Frequency in transcriptome (`frac_viral_bc_UMIs`)\n",
    "8. Count in the supernatant sequencing (`count_sup`)\n",
    "9. Frequency in supernatant sequencing (`freq_sup`)"
   ]
  },
  {
   "cell_type": "code",
   "execution_count": null,
   "metadata": {},
   "outputs": [],
   "source": [
    "viral_bc_freqs = pd.merge(\n",
    "    left=transcriptome_viral_bc_freqs,\n",
    "    right=progeny_viral_bc_freqs,\n",
    "    how='outer',\n",
    "    on=['viral_barcode', 'gene', 'infecting_viral_tag'])\n",
    "\n",
    "viral_bc_freqs"
   ]
  },
  {
   "cell_type": "markdown",
   "metadata": {},
   "source": [
    "Fill `NA` values in supernatant with `0`. It is meaningful if a viral barcode is seen in the transcriptome but absent from the supernatant; no progeny was produced by that infected cell."
   ]
  },
  {
   "cell_type": "code",
   "execution_count": null,
   "metadata": {},
   "outputs": [],
   "source": [
    "viral_bc_freqs[['count_sup', 'freq_sup']] = (\n",
    "    viral_bc_freqs[['count_sup', 'freq_sup']]\n",
    "    .fillna(0)\n",
    ")\n",
    "\n",
    "viral_bc_freqs"
   ]
  },
  {
   "cell_type": "markdown",
   "metadata": {},
   "source": [
    "Get total UMIs per cell. Get viral UMI counts and fractions per cell. Assert that these match what is already found in `viral_bc_freqs`:"
   ]
  },
  {
   "cell_type": "code",
   "execution_count": null,
   "metadata": {},
   "outputs": [],
   "source": [
    "umi_counts = (\n",
    "    adata.var\n",
    "    .assign(total_UMIs=numpy.sum(adata.X, axis=0).A1.astype(int),\n",
    "            viral_UMIs=numpy.sum(adata[adata.obs['gene']\n",
    "                                       .isin(viral_genes), ].X,\n",
    "                                 axis=0).A1.astype(int),\n",
    "            )\n",
    "    )\n",
    "\n",
    "viral_bc_freqs = pd.merge(\n",
    "    left=viral_bc_freqs,\n",
    "    right=umi_counts,\n",
    "    how='outer',\n",
    "    on=['cell_barcode'])\n",
    "\n",
    "test_viral_frac_UMIs = pd.Series(\n",
    "    viral_bc_freqs['viral_UMIs'] / viral_bc_freqs['total_UMIs'],\n",
    "    name='frac_viral_UMIs')\n",
    "\n",
    "pd.testing.assert_series_equal(\n",
    "    test_viral_frac_UMIs, viral_bc_freqs['frac_viral_UMIs'])\n",
    "\n",
    "viral_bc_freqs"
   ]
  },
  {
   "cell_type": "markdown",
   "metadata": {},
   "source": [
    "#### Raw correlation of viral transcription and progeny production\n",
    "Plot raw data:"
   ]
  },
  {
   "cell_type": "code",
   "execution_count": null,
   "metadata": {},
   "outputs": [],
   "source": [
    "fig = (p9.ggplot(viral_bc_freqs.fillna(0),\n",
    "                 p9.aes(x='frac_viral_bc_UMIs',\n",
    "                        y='freq_sup')) +\n",
    "       p9.geom_point(alpha=0.3) +\n",
    "       p9.facet_grid('~gene') +\n",
    "       p9.ggtitle('viral barcode transcription and supernatant progeny production\\n'\n",
    "                  f'{expt}') +\n",
    "       p9.scale_x_log10() +\n",
    "       p9.scale_y_log10() +\n",
    "       p9.labs(x='fraction of total UMIs in cell',\n",
    "               y='fraction of total reads in supernatant') +\n",
    "       p9.theme(figure_size=(6, 3),\n",
    "                plot_title=p9.element_text(size=9),\n",
    "                axis_title=p9.element_text(size=9),\n",
    "                legend_title=p9.element_text(size=9),\n",
    "                legend_title_align='center'))\n",
    "display(fig)"
   ]
  },
  {
   "cell_type": "markdown",
   "metadata": {},
   "source": [
    "#### Plot annotated by infection status"
   ]
  },
  {
   "cell_type": "code",
   "execution_count": null,
   "metadata": {},
   "outputs": [],
   "source": [
    "fig = (p9.ggplot(viral_bc_freqs.fillna(0),\n",
    "                 p9.aes(x='frac_viral_bc_UMIs',\n",
    "                        y='freq_sup',\n",
    "                        color='infected')) +\n",
    "       p9.geom_point(alpha=0.3) +\n",
    "       p9.facet_grid('~gene') +\n",
    "       p9.ggtitle('viral barcode transcription and supernatant progeny production\\n'\n",
    "                  f'{expt}') +\n",
    "       p9.scale_x_log10() +\n",
    "       p9.scale_y_log10() +\n",
    "       p9.labs(x='fraction of total UMIs in cell',\n",
    "               y='fraction of total reads in supernatant') +\n",
    "       p9.theme(figure_size=(6, 3),\n",
    "                plot_title=p9.element_text(size=9),\n",
    "                axis_title=p9.element_text(size=9),\n",
    "                legend_title=p9.element_text(size=9),\n",
    "                legend_title_align='center') +\n",
    "       p9.scale_color_manual(values=['orange','grey']))\n",
    "display(fig)"
   ]
  },
  {
   "cell_type": "markdown",
   "metadata": {},
   "source": [
    "#### Plot annotated by variant"
   ]
  },
  {
   "cell_type": "code",
   "execution_count": null,
   "metadata": {},
   "outputs": [],
   "source": [
    "fig = (p9.ggplot(viral_bc_freqs.fillna(0),\n",
    "                 p9.aes(x='frac_viral_bc_UMIs',\n",
    "                        y='freq_sup',\n",
    "                        color='infecting_viral_tag')) +\n",
    "       p9.geom_point(alpha=0.2) +\n",
    "       p9.facet_grid('~gene') +\n",
    "       p9.ggtitle('viral barcode transcription and supernatant progeny production\\n'\n",
    "                  f'{expt}') +\n",
    "       p9.scale_x_log10() +\n",
    "       p9.scale_y_log10() +\n",
    "       p9.labs(x='fraction of total UMIs in cell',\n",
    "               y='fraction of total reads in supernatant') +\n",
    "       p9.theme(figure_size=(6, 3),\n",
    "                plot_title=p9.element_text(size=9),\n",
    "                axis_title=p9.element_text(size=9),\n",
    "                legend_title=p9.element_text(size=9),\n",
    "                legend_title_align='center') +\n",
    "       p9.scale_color_manual(values=['green','grey','orange','blue']))\n",
    "display(fig)"
   ]
  },
  {
   "cell_type": "markdown",
   "metadata": {},
   "source": [
    "#### Significant viral barcodes found above background frequency in uninfected cells\n",
    "During viral barcode processing from the transcriptome, the frequency of viral barcodes is calculated in uninfected cells. A poisson distribution is built around the expected number of UMIs for each cell-gene, and viral barcodes are called as significant if they reject the null hypothesis that they are pulled from this distribution."
   ]
  },
  {
   "cell_type": "code",
   "execution_count": null,
   "metadata": {},
   "outputs": [],
   "source": [
    "fig = (p9.ggplot(viral_bc_freqs.fillna(0),\n",
    "                 p9.aes(x='frac_viral_bc_UMIs',\n",
    "                        y='freq_sup',\n",
    "                        color='reject_uninfected')) +\n",
    "       p9.geom_point(alpha=0.3) +\n",
    "       p9.facet_grid('~gene') +\n",
    "       p9.ggtitle('viral barcode above background frequency'\n",
    "                  f'{expt}\\n') +\n",
    "       p9.scale_x_log10() +\n",
    "       p9.scale_y_log10() +\n",
    "       p9.labs(x='fraction of total UMIs in cell',\n",
    "               y='fraction of total reads in supernatant') +\n",
    "       p9.theme(figure_size=(6, 3),\n",
    "                plot_title=p9.element_text(size=9),\n",
    "                axis_title=p9.element_text(size=9),\n",
    "                legend_title=p9.element_text(size=9),\n",
    "                legend_title_align='center') +\n",
    "       p9.scale_color_manual(values=['orange','grey']))\n",
    "display(fig)"
   ]
  },
  {
   "cell_type": "markdown",
   "metadata": {},
   "source": [
    "#### Viral barcode sharing across cells\n",
    "How often is a significant viral barcode found in more than one cell? This should be very unlikely in a low MOI infection."
   ]
  },
  {
   "cell_type": "code",
   "execution_count": null,
   "metadata": {},
   "outputs": [],
   "source": [
    "n_cell_bc = (viral_bc_freqs\n",
    "             .query('(reject_uninfected == True) and '\n",
    "                    '(cell_barcode.notna())',\n",
    "                    engine='python')\n",
    "             .groupby(['infecting_viral_tag',\n",
    "                       'gene',\n",
    "                       'viral_barcode',\n",
    "                       'reject_uninfected'])\n",
    "             ['cell_barcode']\n",
    "             .nunique()\n",
    "             .reset_index()\n",
    "             .rename(columns={'cell_barcode': 'n_cell_bc'}))\n",
    "\n",
    "n_cell_bc\n",
    "\n",
    "viral_bc_freqs = pd.merge(\n",
    "    viral_bc_freqs,\n",
    "    n_cell_bc,\n",
    "    on=['infecting_viral_tag',\n",
    "        'gene',\n",
    "        'viral_barcode',\n",
    "        'reject_uninfected'],\n",
    "    how='left')\n",
    "\n",
    "viral_bc_freqs"
   ]
  },
  {
   "cell_type": "markdown",
   "metadata": {},
   "source": [
    "Plot distribution of cell barcode per viral barcode."
   ]
  },
  {
   "cell_type": "code",
   "execution_count": null,
   "metadata": {},
   "outputs": [],
   "source": [
    "fig = (p9.ggplot(viral_bc_freqs\n",
    "                 .query('(reject_uninfected == True) and '\n",
    "                        '(cell_barcode.notna())',\n",
    "                        engine='python')) +\n",
    "       p9.geom_histogram(p9.aes(x='n_cell_bc'),\n",
    "                         binwidth=1,\n",
    "                         position='dodge') +\n",
    "       p9.facet_grid('~gene') +\n",
    "       p9.ggtitle('Number of cells per viral barcode\\n'\n",
    "                  f'{expt}') +\n",
    "       p9.xlab('number of cells viral barcode is found in') +\n",
    "       p9.theme(figure_size=(5, 2),\n",
    "                plot_title=p9.element_text(size=11),\n",
    "                axis_title=p9.element_text(size=10),\n",
    "                legend_title=p9.element_text(size=10),\n",
    "                legend_title_align='center'))\n",
    "display(fig)"
   ]
  },
  {
   "cell_type": "markdown",
   "metadata": {},
   "source": [
    "Now I will label viral barcodes that are found in more than 1 cells."
   ]
  },
  {
   "cell_type": "code",
   "execution_count": null,
   "metadata": {},
   "outputs": [],
   "source": [
    "viral_bc_freqs['gt1_cell'] = (\n",
    "    viral_bc_freqs['n_cell_bc'] > 1)\n",
    "\n",
    "viral_bc_freqs"
   ]
  },
  {
   "cell_type": "markdown",
   "metadata": {},
   "source": [
    "Plot number of viral barcodes that were found in more than 1 cell:"
   ]
  },
  {
   "cell_type": "code",
   "execution_count": null,
   "metadata": {},
   "outputs": [],
   "source": [
    "fig = (p9.ggplot((viral_bc_freqs\n",
    "                  .query('(reject_uninfected == True) and '\n",
    "                         '(cell_barcode.notna())',\n",
    "                         engine='python')),\n",
    "                 p9.aes(x='infecting_viral_tag',\n",
    "                        fill='gt1_cell')) +\n",
    "       p9.geom_bar(stat='count', position='dodge') +\n",
    "       p9.ggtitle('viral barcodes found in more than 1 cell\\n'\n",
    "                  f'{expt}') +\n",
    "       p9.facet_grid('~gene') +\n",
    "       p9.theme(figure_size=(4, 2),\n",
    "                plot_title=p9.element_text(size=10),\n",
    "                axis_title=p9.element_text(size=10),\n",
    "                legend_title=p9.element_text(size=9),\n",
    "                legend_title_align='center') +\n",
    "       p9.scale_fill_manual(CBPALETTE[0:]))\n",
    "display(fig)"
   ]
  },
  {
   "cell_type": "markdown",
   "metadata": {},
   "source": [
    "#### Plot annotated with significant viral barcodes found in more than one cell"
   ]
  },
  {
   "cell_type": "code",
   "execution_count": null,
   "metadata": {},
   "outputs": [],
   "source": [
    "fig = (p9.ggplot(viral_bc_freqs.fillna(0),\n",
    "                 p9.aes(x='frac_viral_bc_UMIs',\n",
    "                        y='freq_sup',\n",
    "                        color='gt1_cell')) +\n",
    "       p9.geom_point(alpha=0.3) +\n",
    "       p9.facet_grid('~gene') +\n",
    "       p9.ggtitle(f'{expt}') +\n",
    "       p9.scale_x_log10() +\n",
    "       p9.scale_y_log10() +\n",
    "       p9.labs(x='fraction of total UMIs in cell',\n",
    "               y='fraction of total reads in supernatant') +\n",
    "       p9.theme(figure_size=(6, 3),\n",
    "                plot_title=p9.element_text(size=9),\n",
    "                axis_title=p9.element_text(size=9),\n",
    "                legend_title=p9.element_text(size=9),\n",
    "                legend_title_align='center') +\n",
    "       p9.scale_color_manual(values=['grey','orange']))\n",
    "display(fig)"
   ]
  },
  {
   "cell_type": "markdown",
   "metadata": {},
   "source": [
    "#### Viral barcodes per cell\n",
    "Count the number of significant viral barcodes (above background) in each cell on each segment."
   ]
  },
  {
   "cell_type": "code",
   "execution_count": null,
   "metadata": {},
   "outputs": [],
   "source": [
    "n_viral_bc = (viral_bc_freqs\n",
    "             .query('(reject_uninfected == True) and '\n",
    "                    '(cell_barcode.notna())',\n",
    "                    engine='python')\n",
    "             .groupby(['infecting_viral_tag',\n",
    "                       'gene',\n",
    "                       'cell_barcode',\n",
    "                       'reject_uninfected'])\n",
    "             ['viral_barcode']\n",
    "             .nunique()\n",
    "             .reset_index()\n",
    "             .rename(columns={'viral_barcode': 'n_viral_bc'}))\n",
    "\n",
    "viral_bc_freqs = pd.merge(\n",
    "    viral_bc_freqs,\n",
    "    n_viral_bc,\n",
    "    on=['infecting_viral_tag',\n",
    "        'gene',\n",
    "        'cell_barcode',\n",
    "        'reject_uninfected'],\n",
    "    how='left')\n",
    "\n",
    "viral_bc_freqs"
   ]
  },
  {
   "cell_type": "markdown",
   "metadata": {},
   "source": [
    "Plot distribution of viral barcode per cell."
   ]
  },
  {
   "cell_type": "code",
   "execution_count": null,
   "metadata": {},
   "outputs": [],
   "source": [
    "fig = (p9.ggplot(viral_bc_freqs\n",
    "                 .query('(reject_uninfected == True) and '\n",
    "                        '(cell_barcode.notna())',\n",
    "                        engine='python')) +\n",
    "       p9.geom_histogram(p9.aes(x='n_viral_bc'),\n",
    "                         binwidth=1,\n",
    "                         position='dodge') +\n",
    "       p9.facet_grid('~gene') +\n",
    "       p9.ggtitle('Number of significant viral barcodes per cell\\n'\n",
    "                  f'{expt}') +\n",
    "       p9.xlab('number of significant viral barcodes in cell') +\n",
    "       p9.ylab('number of cells') +\n",
    "       p9.theme(figure_size=(5, 2),\n",
    "                plot_title=p9.element_text(size=11),\n",
    "                axis_title=p9.element_text(size=10),\n",
    "                legend_title=p9.element_text(size=10),\n",
    "                legend_title_align='center'))\n",
    "display(fig)"
   ]
  },
  {
   "cell_type": "markdown",
   "metadata": {},
   "source": [
    "Now I will label cells that have more than 1 viral barcode on a segment."
   ]
  },
  {
   "cell_type": "code",
   "execution_count": null,
   "metadata": {},
   "outputs": [],
   "source": [
    "viral_bc_freqs['gt1_viral_bc'] = (\n",
    "    viral_bc_freqs['n_viral_bc'] > 1)\n",
    "\n",
    "viral_bc_freqs"
   ]
  },
  {
   "cell_type": "markdown",
   "metadata": {},
   "source": [
    "Plot number of cells with more than 1 significant viral barcode"
   ]
  },
  {
   "cell_type": "code",
   "execution_count": null,
   "metadata": {},
   "outputs": [],
   "source": [
    "fig = (p9.ggplot((viral_bc_freqs\n",
    "                         .query('(reject_uninfected == True) and '\n",
    "                                '(cell_barcode.notna())',\n",
    "                                engine='python')),\n",
    "                        p9.aes(x='infecting_viral_tag',\n",
    "                               fill='gt1_viral_bc')) +\n",
    "              p9.geom_bar(stat='count', position='dodge') +\n",
    "              p9.ggtitle('cell-gene has more than 1 viral bc\\n'\n",
    "                         f'{expt}') +\n",
    "              p9.facet_grid('~gene') +\n",
    "              p9.theme(figure_size=(4, 2),\n",
    "                       plot_title=p9.element_text(size=10),\n",
    "                       axis_title=p9.element_text(size=10),\n",
    "                       legend_title=p9.element_text(size=9),\n",
    "                       legend_title_align='center') +\n",
    "              p9.scale_fill_manual(CBPALETTE[0:]))\n",
    "display(fig)"
   ]
  },
  {
   "cell_type": "markdown",
   "metadata": {},
   "source": [
    "#### Plot annotated highlighting cells with more than 1 significant viral barcode"
   ]
  },
  {
   "cell_type": "code",
   "execution_count": null,
   "metadata": {},
   "outputs": [],
   "source": [
    "fig = (p9.ggplot(viral_bc_freqs.fillna(0),\n",
    "                 p9.aes(x='frac_viral_bc_UMIs',\n",
    "                        y='freq_sup',\n",
    "                        color='gt1_viral_bc')) +\n",
    "       p9.geom_point(alpha=0.3) +\n",
    "       p9.facet_grid('~gene') +\n",
    "       p9.ggtitle(f'{expt}') +\n",
    "       p9.scale_x_log10() +\n",
    "       p9.scale_y_log10() +\n",
    "       p9.labs(x='fraction of total UMIs in cell',\n",
    "               y='fraction of total reads in supernatant') +\n",
    "       p9.theme(figure_size=(6, 3),\n",
    "                plot_title=p9.element_text(size=9),\n",
    "                axis_title=p9.element_text(size=9),\n",
    "                legend_title=p9.element_text(size=9),\n",
    "                legend_title_align='center') +\n",
    "       p9.scale_color_manual(values=['grey','orange']))\n",
    "display(fig)"
   ]
  },
  {
   "cell_type": "markdown",
   "metadata": {},
   "source": [
    "#### Viral barcode rank in cell\n",
    "I will rank each viral barcode in each cell-gene. I will see what fraction of all viral barcode UMIs each viral barcode accounts for.\n",
    "\n",
    "To do this, I will:\n",
    "* Group viral barcodes by cell-gene\n",
    "* Sum fraction of cell UMIs that are assigned to **significant** viral barcodes in that cell-gene\n",
    "* Rank only viral barcodes **that are significant above uninfected background**"
   ]
  },
  {
   "cell_type": "markdown",
   "metadata": {},
   "source": [
    "Sum all **significant** viral bc freqs for each cell-gene:"
   ]
  },
  {
   "cell_type": "code",
   "execution_count": null,
   "metadata": {},
   "outputs": [],
   "source": [
    "viral_bc_freqs = (\n",
    "    viral_bc_freqs\n",
    "    .assign(\n",
    "        cell_total_frac_viral_bc_UMIs=lambda x: x\n",
    "                                                .query('reject_uninfected == True')\n",
    "                                                .groupby(['cell_barcode',\n",
    "                                                          'gene'])\n",
    "                                                ['frac_viral_bc_UMIs']\n",
    "                                                .transform('sum')))\n",
    "\n",
    "viral_bc_freqs"
   ]
  },
  {
   "cell_type": "markdown",
   "metadata": {},
   "source": [
    "Calculate proportion of total significant viral bc UMI fraction in cell-gene that is derived from each significant viral bc:"
   ]
  },
  {
   "cell_type": "code",
   "execution_count": null,
   "metadata": {},
   "outputs": [],
   "source": [
    "viral_bc_freqs = (\n",
    "    viral_bc_freqs\n",
    "    .assign(\n",
    "        prop_cell_viral_bc_UMIs=lambda x: x['frac_viral_bc_UMIs'] /\n",
    "                                          x['cell_total_frac_viral_bc_UMIs']))\n",
    "\n",
    "viral_bc_freqs"
   ]
  },
  {
   "cell_type": "markdown",
   "metadata": {},
   "source": [
    "Rank significant viral barcodes within each cell-gene:"
   ]
  },
  {
   "cell_type": "code",
   "execution_count": null,
   "metadata": {},
   "outputs": [],
   "source": [
    "viral_bc_freqs = (\n",
    "    viral_bc_freqs\n",
    "    .assign(viral_bc_rank=lambda x: x.groupby(['cell_barcode', 'gene'])\n",
    "                                     ['prop_cell_viral_bc_UMIs']\n",
    "                                     .rank('dense', ascending=False)))\n",
    "\n",
    "viral_bc_freqs"
   ]
  },
  {
   "cell_type": "code",
   "execution_count": null,
   "metadata": {},
   "outputs": [],
   "source": [
    "fig = (p9.ggplot(viral_bc_freqs\n",
    "                 .query('(reject_uninfected == True) and '\n",
    "                        '(cell_barcode.notna())',\n",
    "                        engine='python')) +\n",
    "       p9.geom_histogram(p9.aes(x='viral_bc_rank'),\n",
    "                         binwidth=1,\n",
    "                         position='dodge') +\n",
    "       p9.facet_grid('~gene') +\n",
    "       p9.ggtitle('Number of viral barcodes per cell\\n'\n",
    "                  f'{expt}') +\n",
    "       p9.xlab('viral barcode rank in cell-gene') +\n",
    "       p9.ylab('count of viral barcodes') +\n",
    "       p9.theme(figure_size=(5, 2),\n",
    "                plot_title=p9.element_text(size=11),\n",
    "                axis_title=p9.element_text(size=10),\n",
    "                legend_title=p9.element_text(size=10),\n",
    "                legend_title_align='center'))\n",
    "display(fig)"
   ]
  },
  {
   "cell_type": "code",
   "execution_count": null,
   "metadata": {},
   "outputs": [],
   "source": [
    "fig = (p9.ggplot((viral_bc_freqs),\n",
    "                 p9.aes(x='viral_bc_rank',\n",
    "                        y='prop_cell_viral_bc_UMIs')) +\n",
    "       p9.geom_point(alpha=0.1) +\n",
    "       p9.facet_grid('~gene') +\n",
    "       p9.ggtitle(f'{expt}') +\n",
    "       p9.labs(x='rank of viral bc in cell-gene',\n",
    "               y='proportion of viral bc UMIs in cell-gene') +\n",
    "       p9.theme(figure_size=(6, 3),\n",
    "                plot_title=p9.element_text(size=9),\n",
    "                axis_title=p9.element_text(size=9),\n",
    "                legend_title=p9.element_text(size=9),\n",
    "                legend_title_align='center') +\n",
    "      p9.scale_color_discrete(guide=False))\n",
    "display(fig)"
   ]
  },
  {
   "cell_type": "markdown",
   "metadata": {},
   "source": [
    "**Sanity check: viral rank vs number of viral barcodes per cell.**\n",
    "\n",
    "The `n_significant_viral_bc_per_cell` histogram and `significant_viral_bc_rank_per_cell` histgoram do not look identical. I think some significant viral barcodes may be assigned duplicate ranks. I should check this and make sure it makes sense.\n",
    "\n",
    "Result: Yes, sometimes low frequency viral barcodes in a cell have the same number of UMIs and get assigned identical ranks."
   ]
  },
  {
   "cell_type": "code",
   "execution_count": null,
   "metadata": {},
   "outputs": [],
   "source": [
    "viral_bc_freqs.query('n_viral_bc > 3')"
   ]
  },
  {
   "cell_type": "markdown",
   "metadata": {},
   "source": [
    "#### Annotate most abundant viral barcode for each cell-gene:"
   ]
  },
  {
   "cell_type": "code",
   "execution_count": null,
   "metadata": {},
   "outputs": [],
   "source": [
    "viral_bc_freqs['top_viral_bc'] = (viral_bc_freqs['viral_bc_rank'] == 1)\n",
    "viral_bc_freqs['top_viral_bc'].value_counts()"
   ]
  },
  {
   "cell_type": "markdown",
   "metadata": {},
   "source": [
    "#### Plot with most abundant viral barcode annotated:"
   ]
  },
  {
   "cell_type": "code",
   "execution_count": null,
   "metadata": {},
   "outputs": [],
   "source": [
    "fig = (p9.ggplot(viral_bc_freqs.fillna(0),\n",
    "                 p9.aes(x='frac_viral_bc_UMIs',\n",
    "                        y='freq_sup',\n",
    "                        color='top_viral_bc')) +\n",
    "       p9.geom_point(alpha=0.3) +\n",
    "       p9.facet_grid('~gene') +\n",
    "       p9.ggtitle(f'{expt}') +\n",
    "       p9.scale_x_log10() +\n",
    "       p9.scale_y_log10() +\n",
    "       p9.labs(x='viral bc fraction of all UMIs in cell',\n",
    "               y='fraction of reads in supernatant') +\n",
    "       p9.theme(figure_size=(6, 3),\n",
    "                plot_title=p9.element_text(size=9),\n",
    "                axis_title=p9.element_text(size=9),\n",
    "                legend_title=p9.element_text(size=9),\n",
    "                legend_title_align='center') +\n",
    "       p9.scale_color_manual(values=['orange','grey']))\n",
    "display(fig)"
   ]
  },
  {
   "cell_type": "markdown",
   "metadata": {},
   "source": [
    "#### Viral burden\n",
    "Plot the viral burden (total fraction of viral UMIs in cell) against the supernatant frequency of the most abundant viral barcode for that cell."
   ]
  },
  {
   "cell_type": "code",
   "execution_count": null,
   "metadata": {},
   "outputs": [],
   "source": [
    "fig = (p9.ggplot(viral_bc_freqs\n",
    "                 .fillna(0)\n",
    "                 .query('(infected == True) and'\n",
    "                        '(top_viral_bc == True)'),\n",
    "                 p9.aes(x='frac_viral_UMIs',\n",
    "                        y='frac_viral_bc_UMIs')) +\n",
    "       p9.geom_point(alpha=0.3) +\n",
    "       p9.facet_grid('~gene') +\n",
    "       p9.ggtitle('viral burden vs freq of top viral barcode in cell\\n'\n",
    "                  f'{expt}') +\n",
    "       p9.scale_x_log10() +\n",
    "       p9.scale_y_log10() +\n",
    "       p9.labs(x='viral burden (viral UMIs / total UMIs in cell)',\n",
    "               y='top viral bc frac (viral bc UMIs / total UMIs in cell)') +\n",
    "       p9.theme(figure_size=(6, 3),\n",
    "                plot_title=p9.element_text(size=9),\n",
    "                axis_title=p9.element_text(size=9),\n",
    "                legend_title=p9.element_text(size=9),\n",
    "                legend_title_align='center'))\n",
    "display(fig)"
   ]
  },
  {
   "cell_type": "markdown",
   "metadata": {},
   "source": [
    "**Total UMIs per cell**\n",
    "\n",
    "Plot the frequency of the top viral barcode as a function of total UMIs in a cell"
   ]
  },
  {
   "cell_type": "code",
   "execution_count": null,
   "metadata": {},
   "outputs": [],
   "source": [
    "fig = (p9.ggplot(viral_bc_freqs\n",
    "                 .fillna(0)\n",
    "                 .query('(infected == True) and'\n",
    "                        '(top_viral_bc == True)'),\n",
    "                 p9.aes(x='total_UMIs',\n",
    "                        y='frac_viral_bc_UMIs')) +\n",
    "       p9.geom_point(alpha=0.3) +\n",
    "       p9.facet_grid('~gene') +\n",
    "       p9.ggtitle('capture efficiency vs freq of top viral barcode in cell\\n'\n",
    "                  f'{expt}') +\n",
    "       p9.scale_x_log10() +\n",
    "       p9.scale_y_log10() +\n",
    "       p9.labs(x='total UMIs in cell',\n",
    "               y='top viral bc frac (viral bc UMIs / total UMIs in cell)') +\n",
    "       p9.theme(figure_size=(6, 3),\n",
    "                plot_title=p9.element_text(size=9),\n",
    "                axis_title=p9.element_text(size=9),\n",
    "                legend_title=p9.element_text(size=9),\n",
    "                legend_title_align='center'))\n",
    "display(fig)"
   ]
  },
  {
   "cell_type": "markdown",
   "metadata": {},
   "source": [
    "Plot only the top viral barcode for each cell-gene:"
   ]
  },
  {
   "cell_type": "code",
   "execution_count": null,
   "metadata": {},
   "outputs": [],
   "source": [
    "fig = (p9.ggplot(viral_bc_freqs\n",
    "                 .fillna(0)\n",
    "                 .query('top_viral_bc == True',\n",
    "                        engine='python'),\n",
    "                 p9.aes(x='frac_viral_UMIs',\n",
    "                        y='freq_sup')) +\n",
    "       p9.geom_point(alpha=0.3) +\n",
    "       p9.facet_grid('~gene') +\n",
    "       p9.ggtitle(f'top viral bc\\n'\n",
    "                   'supernatant frequency vs viral burden\\n'\n",
    "                  f'{expt}') +\n",
    "       p9.scale_x_log10() +\n",
    "       p9.scale_y_log10() +\n",
    "       p9.labs(x='viral burden (viral UMIs / total UMIs in cell',\n",
    "               y='fraction of total reads in supernatant') +\n",
    "       p9.theme(figure_size=(6, 3),\n",
    "                plot_title=p9.element_text(size=9),\n",
    "                axis_title=p9.element_text(size=9),\n",
    "                legend_title=p9.element_text(size=9),\n",
    "                legend_title_align='center'))\n",
    "display(fig)"
   ]
  },
  {
   "cell_type": "markdown",
   "metadata": {},
   "source": [
    "#### Correlation of fluHA and fluNA top viral barcodes in each cell\n",
    "Check to see if cells associated with high fluHA also produce high fluNA values. \n",
    "\n",
    "First, pivot table so supernatant frequency of top fluHA viral barcode and top fluNA viral barcode are put in column alongside cell barcode. Fill NA values with zero because this means it was not observed in sequencing, so the frequency is meaningfully zero."
   ]
  },
  {
   "cell_type": "markdown",
   "metadata": {},
   "source": [
    "**Viral barcode transcription:**"
   ]
  },
  {
   "cell_type": "code",
   "execution_count": null,
   "metadata": {},
   "outputs": [],
   "source": [
    "high_transcription = (pd.pivot_table(\n",
    "    viral_bc_freqs.query('top_viral_bc == True '),\n",
    "    index=['cell_barcode',\n",
    "           'infected',\n",
    "           'infecting_viral_tag'],\n",
    "    values='frac_viral_bc_UMIs',\n",
    "    columns='gene')\n",
    "                .reset_index()\n",
    "                .fillna(0))\n",
    "\n",
    "high_transcription"
   ]
  },
  {
   "cell_type": "markdown",
   "metadata": {},
   "source": [
    "Plot correlation:"
   ]
  },
  {
   "cell_type": "code",
   "execution_count": null,
   "metadata": {},
   "outputs": [],
   "source": [
    "fig = (p9.ggplot(high_transcription,\n",
    "                 p9.aes(x='fluHA',\n",
    "                        y='fluNA')) +\n",
    "       p9.geom_point(alpha=0.3) +\n",
    "       p9.ggtitle(f'{expt}') +\n",
    "       p9.scale_x_log10() +\n",
    "       p9.scale_y_log10() +\n",
    "       p9.labs(x='HA transcriptome barcode UMI freq',\n",
    "               y='NA transcriptome barcode UMI freq') +\n",
    "       p9.theme(figure_size=(3, 3),\n",
    "                plot_title=p9.element_text(size=9),\n",
    "                axis_title=p9.element_text(size=9),\n",
    "                legend_title=p9.element_text(size=9),\n",
    "                legend_title_align='center') +\n",
    "       p9.scale_color_manual(values=['grey','orange']))\n",
    "display(fig)"
   ]
  },
  {
   "cell_type": "markdown",
   "metadata": {},
   "source": [
    "**Supernatant progeny production:**"
   ]
  },
  {
   "cell_type": "code",
   "execution_count": null,
   "metadata": {},
   "outputs": [],
   "source": [
    "high_progeny = (pd.pivot_table(\n",
    "    viral_bc_freqs.query('top_viral_bc == True '),\n",
    "    index=['cell_barcode',\n",
    "           'infected',\n",
    "           'infecting_viral_tag'],\n",
    "    values='freq_sup',\n",
    "    columns='gene')\n",
    "                .reset_index()\n",
    "                .fillna(0))\n",
    "\n",
    "high_progeny"
   ]
  },
  {
   "cell_type": "markdown",
   "metadata": {},
   "source": [
    "Plot correlation:"
   ]
  },
  {
   "cell_type": "code",
   "execution_count": null,
   "metadata": {},
   "outputs": [],
   "source": [
    "fig = (p9.ggplot(high_progeny.\n",
    "                 fillna(0),\n",
    "                 p9.aes(x='fluHA',\n",
    "                        y='fluNA')) +\n",
    "       p9.geom_point(alpha=0.3) +\n",
    "       p9.ggtitle('supernatant frequencies of top viral barcode in cell\\n'\n",
    "                  f'{expt}') +\n",
    "       p9.scale_x_log10() +\n",
    "       p9.scale_y_log10() +\n",
    "       p9.labs(x='HA supernatant barcode freq',\n",
    "               y='NA supernatant barcode freq') +\n",
    "       p9.theme(figure_size=(3, 3),\n",
    "                plot_title=p9.element_text(size=9),\n",
    "                axis_title=p9.element_text(size=9),\n",
    "                legend_title=p9.element_text(size=9),\n",
    "                legend_title_align='center') +\n",
    "       p9.scale_color_manual(values=['grey','orange']))\n",
    "display(fig)"
   ]
  },
  {
   "cell_type": "markdown",
   "metadata": {},
   "source": [
    "## Viral gene expression"
   ]
  },
  {
   "cell_type": "markdown",
   "metadata": {},
   "source": [
    "#### Bulk viral gene expression \n",
    "\n",
    "Simply look at the read counts assigned to each viral gene in the BAM file."
   ]
  },
  {
   "cell_type": "code",
   "execution_count": null,
   "metadata": {},
   "outputs": [],
   "source": [
    "bam_file = 'results/aligned_fastq10x/' + expt + '/Aligned.sortedByCoord.out.bam'\n",
    "bam_file\n",
    "\n",
    "idxstats_tsv = 'results/viral_fastq10x/' + expt + 'idxstats.tsv'\n",
    "print(f'The BAM file being read is {bam_file}')\n",
    "print(f'The contig stats will be stored in {idxstats_tsv}')"
   ]
  },
  {
   "cell_type": "code",
   "execution_count": null,
   "metadata": {},
   "outputs": [],
   "source": [
    "cmd = ['samtools',\n",
    "       'idxstats',\n",
    "       bam_file]\n",
    "\n",
    "with open(idxstats_tsv, 'w') as f:\n",
    "    subprocess.check_call(cmd, stdout=f)\n",
    "\n",
    "with open(idxstats_tsv, 'r') as f:\n",
    "    bulk_gex = pd.read_csv(f, sep='\\t', header=None)\n",
    "    bulk_gex.rename(columns={0:'ref_id',\n",
    "                             1:'contig_len',\n",
    "                             2:'mapped_reads',\n",
    "                             3:'unmapped_reads'},\n",
    "                    inplace=True)\n",
    "\n",
    "bulk_gex"
   ]
  },
  {
   "cell_type": "code",
   "execution_count": null,
   "metadata": {},
   "outputs": [],
   "source": [
    "bulk_gex.query(f'ref_id in {viral_genes}')"
   ]
  },
  {
   "cell_type": "code",
   "execution_count": null,
   "metadata": {},
   "outputs": [],
   "source": [
    "fig = (p9.ggplot((bulk_gex.query(f'ref_id in {viral_genes}')),\n",
    "                  p9.aes(x='factor(ref_id)',\n",
    "                         y='mapped_reads')) +\n",
    "              p9.geom_bar(stat='identity') +\n",
    "              p9.ggtitle('bulk expression of viral genes\\n'\n",
    "                         'in aligned BAM file\\n'\n",
    "                         f'{expt}') +\n",
    "              p9.xlab('gene') +\n",
    "              p9.ylab('number of reads') +\n",
    "              p9.theme(figure_size=(4, 3),\n",
    "                       plot_title=p9.element_text(size=10),\n",
    "                       axis_title=p9.element_text(size=10),\n",
    "                       legend_title=p9.element_text(size=9),\n",
    "                       legend_title_align='center') +\n",
    "              p9.scale_x_discrete())\n",
    "display(fig)"
   ]
  },
  {
   "cell_type": "markdown",
   "metadata": {},
   "source": [
    "#### Viral genes in each cell\n",
    "Extract the UMI counts for each viral gene in each cell from `adata.obs`"
   ]
  },
  {
   "cell_type": "code",
   "execution_count": null,
   "metadata": {},
   "outputs": [],
   "source": [
    "#### Viral genes in each cell\n",
    "viral_gene_expression = (\n",
    "    adata.var\n",
    "    .assign(total_UMIs=numpy.sum(adata.X, axis=0).A1.astype(int),\n",
    "            viral_UMIs=numpy.sum(adata[adata.obs['gene']\n",
    "                                   .isin(viral_genes), ].X,\n",
    "                                 axis=0).A1.astype(int),\n",
    "            fluPB2=numpy.sum(adata[adata.obs['gene'] == 'fluPB2', ]\n",
    "                             .X, axis=0).A1.astype(int),\n",
    "            fluPB1=numpy.sum(adata[adata.obs['gene'] == 'fluPB1', ]\n",
    "                             .X, axis=0).A1.astype(int),\n",
    "            fluPA=numpy.sum(adata[adata.obs['gene'] == 'fluPA', ]\n",
    "                             .X, axis=0).A1.astype(int),\n",
    "            fluHA=numpy.sum(adata[adata.obs['gene'] == 'fluHA', ]\n",
    "                             .X, axis=0).A1.astype(int),\n",
    "            fluNP=numpy.sum(adata[adata.obs['gene'] == 'fluNP', ]\n",
    "                             .X, axis=0).A1.astype(int),\n",
    "            fluNA=numpy.sum(adata[adata.obs['gene'] == 'fluNA', ]\n",
    "                             .X, axis=0).A1.astype(int),\n",
    "            fluM=numpy.sum(adata[adata.obs['gene'] == 'fluM', ]\n",
    "                             .X, axis=0).A1.astype(int),\n",
    "            fluNS=numpy.sum(adata[adata.obs['gene'] == 'fluNS', ]\n",
    "                             .X, axis=0).A1.astype(int),\n",
    "           )\n",
    ")\n",
    "\n",
    "viral_gene_expression"
   ]
  },
  {
   "cell_type": "markdown",
   "metadata": {},
   "source": [
    "Bring in infection status and tag information:"
   ]
  },
  {
   "cell_type": "code",
   "execution_count": null,
   "metadata": {},
   "outputs": [],
   "source": [
    "viral_gene_expression = pd.merge(\n",
    "    left=viral_gene_expression,\n",
    "    right=(viral_bc_freqs\n",
    "           .query('cell_barcode.notnull()',\n",
    "                  engine='python')\n",
    "           [['cell_barcode',\n",
    "             'infected',\n",
    "             'infecting_viral_tag']]\n",
    "           .drop_duplicates()),\n",
    "    on='cell_barcode',\n",
    "    how='left',\n",
    "    validate='one_to_one'\n",
    "    )\n",
    "\n",
    "viral_gene_expression"
   ]
  },
  {
   "cell_type": "markdown",
   "metadata": {},
   "source": [
    "Pivot the table so that gene is a column, and the UMI counts for each gene for each cell is a row"
   ]
  },
  {
   "cell_type": "code",
   "execution_count": null,
   "metadata": {},
   "outputs": [],
   "source": [
    "viral_gene_expression_long = viral_gene_expression.melt(\n",
    "    id_vars=['cell_barcode',\n",
    "             'infected',\n",
    "             'infecting_viral_tag',\n",
    "             'total_UMIs',\n",
    "             'viral_UMIs'],\n",
    "    var_name='gene',\n",
    "    value_name='gene_UMIs'\n",
    ")\n",
    "\n",
    "viral_gene_expression_long"
   ]
  },
  {
   "cell_type": "markdown",
   "metadata": {},
   "source": [
    "Check that total number of rows is = total number of cells * total number of genes, for both infected and uninfected:"
   ]
  },
  {
   "cell_type": "code",
   "execution_count": null,
   "metadata": {},
   "outputs": [],
   "source": [
    "assert (len(viral_gene_expression_long) ==\n",
    "        len(viral_gene_expression_long['cell_barcode'].drop_duplicates()) *\n",
    "        len(viral_genes)), \"not 8 genes for every cell\""
   ]
  },
  {
   "cell_type": "markdown",
   "metadata": {},
   "source": [
    "Check that the extracted gene_UMIs sum to the total viral UMIs for each cell:"
   ]
  },
  {
   "cell_type": "code",
   "execution_count": null,
   "metadata": {},
   "outputs": [],
   "source": [
    "pd.testing.assert_frame_equal(\n",
    "    (viral_gene_expression_long[['cell_barcode',\n",
    "                                 'viral_UMIs']]\n",
    "     .drop_duplicates()),\n",
    "    (viral_gene_expression_long\n",
    "     .groupby('cell_barcode')\n",
    "     ['gene_UMIs']\n",
    "     .sum()\n",
    "     .to_frame()\n",
    "     .reset_index()\n",
    "     .rename(columns={'gene_UMIs': 'viral_UMIs'})),\n",
    "    check_names=False,\n",
    "    check_index_type=False\n",
    ")"
   ]
  },
  {
   "cell_type": "markdown",
   "metadata": {},
   "source": [
    "Calculate the fraction of all UMIs assigned to each viral gene individually, and in aggregate:"
   ]
  },
  {
   "cell_type": "code",
   "execution_count": null,
   "metadata": {},
   "outputs": [],
   "source": [
    "viral_gene_expression_long['frac_viral_UMIs'] = (\n",
    "    viral_gene_expression_long['viral_UMIs'] /\n",
    "    viral_gene_expression_long['total_UMIs'])\n",
    "\n",
    "viral_gene_expression_long['frac_gene_UMIs'] = (\n",
    "    viral_gene_expression_long['gene_UMIs'] /\n",
    "    viral_gene_expression_long['total_UMIs'])\n",
    "\n",
    "viral_gene_expression_long"
   ]
  },
  {
   "cell_type": "markdown",
   "metadata": {},
   "source": [
    "Plot distribution of absolute UMI counts for each gene:"
   ]
  },
  {
   "cell_type": "code",
   "execution_count": null,
   "metadata": {},
   "outputs": [],
   "source": [
    "fig = (p9.ggplot(viral_gene_expression_long,\n",
    "                 p9.aes(x='gene_UMIs')) +\n",
    "       p9.geom_histogram(bins=20) +\n",
    "       p9.facet_grid('gene~') +\n",
    "       p9.ggtitle('viral gene expression\\n'\n",
    "                  'absolute UMI counts\\n'\n",
    "                  'per cell\\n'\n",
    "                  f'{expt}') +\n",
    "       p9.labs(x='UMIs from gene in cell',\n",
    "               y='cells') +\n",
    "       p9.theme(figure_size=(4, 6),\n",
    "                plot_title=p9.element_text(size=12),\n",
    "                axis_title=p9.element_text(size=10),\n",
    "                legend_title=p9.element_text(size=10),\n",
    "                legend_title_align='center'))\n",
    "display(fig)"
   ]
  },
  {
   "cell_type": "markdown",
   "metadata": {},
   "source": [
    "Plot on log scale:"
   ]
  },
  {
   "cell_type": "code",
   "execution_count": null,
   "metadata": {},
   "outputs": [],
   "source": [
    "fig = (p9.ggplot(viral_gene_expression_long,\n",
    "                 p9.aes(x='gene_UMIs')) +\n",
    "       p9.geom_histogram(bins=20) +\n",
    "       p9.facet_grid('gene~') +\n",
    "       p9.ggtitle('viral gene expression\\n'\n",
    "                  'absolute UMI counts\\n'\n",
    "                  'per cell\\n'\n",
    "                  f'{expt}') +\n",
    "       p9.labs(x='UMIs from gene in cell',\n",
    "               y='cells') +\n",
    "       p9.scale_x_log10() +\n",
    "       p9.theme(figure_size=(4, 6),\n",
    "                plot_title=p9.element_text(size=12),\n",
    "                axis_title=p9.element_text(size=10),\n",
    "                legend_title=p9.element_text(size=10),\n",
    "                legend_title_align='center'))\n",
    "display(fig)"
   ]
  },
  {
   "cell_type": "markdown",
   "metadata": {},
   "source": [
    "Plot distribution of fraction of UMIs from each viral gene:"
   ]
  },
  {
   "cell_type": "code",
   "execution_count": null,
   "metadata": {},
   "outputs": [],
   "source": [
    "fig = (p9.ggplot(viral_gene_expression_long,\n",
    "                 p9.aes(x='frac_gene_UMIs')) +\n",
    "       p9.geom_histogram(bins=20) +\n",
    "       p9.facet_grid('gene~') +\n",
    "       p9.ggtitle('viral gene expression\\n'\n",
    "                  'fraction of UMIs in cell\\n'\n",
    "                  f'{expt}') +\n",
    "       p9.labs(x='fraction of UMIs in cell from gene',\n",
    "               y='cells') +\n",
    "       p9.theme(figure_size=(4, 6),\n",
    "                plot_title=p9.element_text(size=12),\n",
    "                axis_title=p9.element_text(size=10),\n",
    "                legend_title=p9.element_text(size=10),\n",
    "                legend_title_align='center'))\n",
    "display(fig)"
   ]
  },
  {
   "cell_type": "markdown",
   "metadata": {},
   "source": [
    "Plot on log scale:"
   ]
  },
  {
   "cell_type": "code",
   "execution_count": null,
   "metadata": {},
   "outputs": [],
   "source": [
    "fig = (p9.ggplot(viral_gene_expression_long,\n",
    "                 p9.aes(x='frac_gene_UMIs')) +\n",
    "       p9.geom_histogram(bins=20) +\n",
    "       p9.facet_grid('gene~') +\n",
    "       p9.ggtitle('viral gene expression\\n'\n",
    "                  'fraction of UMIs in cell\\n'\n",
    "                  f'{expt}') +\n",
    "       p9.labs(x='fraction of UMIs in cell from gene',\n",
    "               y='cells') +\n",
    "       p9.scale_x_log10() +\n",
    "       p9.theme(figure_size=(4, 6),\n",
    "                plot_title=p9.element_text(size=12),\n",
    "                axis_title=p9.element_text(size=10),\n",
    "                legend_title=p9.element_text(size=10),\n",
    "                legend_title_align='center'))\n",
    "display(fig)"
   ]
  },
  {
   "cell_type": "markdown",
   "metadata": {},
   "source": [
    "What is the relationship between absolute UMI counts and fraction of all UMIs in cell for each gene?"
   ]
  },
  {
   "cell_type": "code",
   "execution_count": null,
   "metadata": {},
   "outputs": [],
   "source": [
    "fig = (p9.ggplot(viral_gene_expression_long,\n",
    "                 p9.aes(x='gene_UMIs',\n",
    "                        y='frac_gene_UMIs')) +\n",
    "       p9.geom_point(alpha=0.1) +\n",
    "       p9.facet_grid('infected~gene') +\n",
    "       p9.ggtitle('viral gene expression\\n'\n",
    "                  'fraction of UMIs vs absolute UMIs\\n'\n",
    "                  f'{expt}') +\n",
    "       p9.labs(x='UMIs from gene in cell',\n",
    "               y='fraction of UMIs in cell from gene') +\n",
    "       p9.scale_x_log10() +\n",
    "       p9.scale_y_log10() +\n",
    "       p9.theme(figure_size=(8, 3),\n",
    "                plot_title=p9.element_text(size=12),\n",
    "                axis_title=p9.element_text(size=10),\n",
    "                legend_title=p9.element_text(size=10),\n",
    "                legend_title_align='center'))\n",
    "display(fig)"
   ]
  },
  {
   "cell_type": "markdown",
   "metadata": {},
   "source": [
    "Distribution of viral gene expression in infected and **uninfected** cells:\n",
    "\n",
    "**N.b.** Plot 0 values on far left of axis, 100-fold lower than lowest real value:"
   ]
  },
  {
   "cell_type": "code",
   "execution_count": null,
   "metadata": {},
   "outputs": [],
   "source": [
    "zero_pseudocount = (min(viral_gene_expression_long\n",
    "                        .query('frac_gene_UMIs > 0')\n",
    "                        ['frac_gene_UMIs']) /\n",
    "                    100)\n",
    "zero_pseudocount\n",
    "\n",
    "fig = (p9.ggplot((viral_gene_expression_long\n",
    "                  .replace(to_replace={'frac_gene_UMIs':0},\n",
    "                           value=zero_pseudocount)),\n",
    "                 p9.aes(x='frac_gene_UMIs')) +\n",
    "       p9.geom_histogram(bins=20) +\n",
    "       p9.facet_grid('infected~gene') +\n",
    "       p9.ggtitle(f'viral gene expression\\n'\n",
    "                  f'per gene\\n'\n",
    "                  f'{expt}') +\n",
    "       p9.labs(x='fraction of total UMIs in cell') +\n",
    "       p9.theme(figure_size=(10, 3),\n",
    "                plot_title=p9.element_text(size=12),\n",
    "                axis_title=p9.element_text(size=10),\n",
    "                legend_title=p9.element_text(size=10),\n",
    "                legend_title_align='center') +\n",
    "       p9.scale_x_log10())\n",
    "display(fig)"
   ]
  },
  {
   "cell_type": "code",
   "execution_count": null,
   "metadata": {},
   "outputs": [],
   "source": [
    "fig = (p9.ggplot((viral_gene_expression_long),\n",
    "                  p9.aes(x='factor(gene)',\n",
    "                         y='gene_UMIs')) +\n",
    "              p9.geom_boxplot() +\n",
    "              p9.facet_grid('infected~') +\n",
    "              p9.ggtitle('absolute expression of viral genes in cell\\n'\n",
    "                         f'{expt}') +\n",
    "              p9.xlab('gene') +\n",
    "              p9.ylab('number of UMIs') +\n",
    "              p9.scale_y_log10() +\n",
    "              p9.theme(figure_size=(6, 4),\n",
    "                       plot_title=p9.element_text(size=10),\n",
    "                       axis_title=p9.element_text(size=10),\n",
    "                       legend_title=p9.element_text(size=9),\n",
    "                       legend_title_align='center'))\n",
    "display(fig)"
   ]
  },
  {
   "cell_type": "code",
   "execution_count": null,
   "metadata": {},
   "outputs": [],
   "source": [
    "fig = (p9.ggplot((viral_gene_expression_long),\n",
    "                  p9.aes(x='factor(gene)',\n",
    "                         y='frac_gene_UMIs')) +\n",
    "              p9.geom_boxplot() +\n",
    "              p9.facet_grid('infected~') +\n",
    "              p9.ggtitle('expression of viral genes in cell\\n'\n",
    "                         f'{expt}') +\n",
    "              p9.xlab('gene') +\n",
    "              p9.ylab('fraction of UMIs in cell') +\n",
    "              p9.scale_y_log10() +\n",
    "              p9.theme(figure_size=(6, 4),\n",
    "                       plot_title=p9.element_text(size=10),\n",
    "                       axis_title=p9.element_text(size=10),\n",
    "                       legend_title=p9.element_text(size=9),\n",
    "                       legend_title_align='center'))\n",
    "display(fig)"
   ]
  },
  {
   "cell_type": "markdown",
   "metadata": {},
   "source": [
    "#### Proportion of viral UMIs from each gene\n",
    "\n",
    "Next, within each cell, I will calculate the proportion of all viral UMIs derived from each gene. "
   ]
  },
  {
   "cell_type": "code",
   "execution_count": null,
   "metadata": {},
   "outputs": [],
   "source": [
    "viral_gene_expression_long['prop_viral_UMIs'] = (\n",
    "    viral_gene_expression_long['gene_UMIs'] /\n",
    "    viral_gene_expression_long['viral_UMIs']\n",
    ")\n",
    "\n",
    "viral_gene_expression_long"
   ]
  },
  {
   "cell_type": "markdown",
   "metadata": {},
   "source": [
    "Check that the proportion sums to 1 for every cell:"
   ]
  },
  {
   "cell_type": "code",
   "execution_count": null,
   "metadata": {},
   "outputs": [],
   "source": [
    "test_prop_sum_df = pd.merge(\n",
    "    left=viral_gene_expression_long,\n",
    "    right=(viral_gene_expression_long\n",
    "           .groupby('cell_barcode')\n",
    "           ['prop_viral_UMIs']\n",
    "           .sum()\n",
    "           .round(4)),\n",
    "    suffixes=[None,'_sum'],\n",
    "    on='cell_barcode',\n",
    ")\n",
    "\n",
    "test_prop_sum_df['sum_OK'] = test_prop_sum_df.apply(\n",
    "    lambda x: (x['prop_viral_UMIs_sum'] == 1) or (x['viral_UMIs'] == 0),\n",
    "    axis=1)\n",
    "                              \n",
    "assert (test_prop_sum_df['sum_OK'] == True).all(), \\\n",
    "    \"problem summing viral gene proportions\"\n",
    "\n",
    "test_prop_sum_df\n"
   ]
  },
  {
   "cell_type": "code",
   "execution_count": null,
   "metadata": {},
   "outputs": [],
   "source": [
    "fig = (p9.ggplot((viral_gene_expression_long),\n",
    "                  p9.aes(x='factor(gene)',\n",
    "                         y='prop_viral_UMIs')) +\n",
    "              p9.geom_boxplot() +\n",
    "              p9.ggtitle('relative expression of viral genes in cell\\n'\n",
    "                         f'{expt}') +\n",
    "              p9.facet_grid('infected~') +\n",
    "              p9.xlab('gene') +\n",
    "              p9.ylab('proportion of viral UMIs from gene') +\n",
    "              p9.theme(figure_size=(6, 4),\n",
    "                       plot_title=p9.element_text(size=10),\n",
    "                       axis_title=p9.element_text(size=10),\n",
    "                       legend_title=p9.element_text(size=9),\n",
    "                       legend_title_align='center'))\n",
    "display(fig)"
   ]
  },
  {
   "cell_type": "markdown",
   "metadata": {},
   "source": [
    "### Call presence/absence of viral genes"
   ]
  },
  {
   "cell_type": "markdown",
   "metadata": {},
   "source": [
    "Next I will extract the 95th percentile value from the uninfected cells. We were very conservative in calling cells as infected (likely there are some infected cells in the population labelled \"uninfected\"). A priori, we expect most infected cells to express most viral genes. So we can be more lenient in what we use as a cutoff in calling a gene present.\n",
    "\n",
    "For low expressing genes (e.g. the polymerase complex), the 95th percentile is a value of 0, and this threshold does not work well. Instead, we will simply call genes without **any** UMIs as absent, and genes with at least 1 UMI as present.  In some previous analyses (e.g. [Russel et al. 2018](https://elifesciences.org/articles/32303)) a single transcript was used to call the presence of a gene in infected cells."
   ]
  },
  {
   "cell_type": "code",
   "execution_count": null,
   "metadata": {},
   "outputs": [],
   "source": [
    "limit_percentile = 0.95\n",
    "limit = dict()\n",
    "\n",
    "for gene in viral_genes:\n",
    "    limit[gene] = (viral_gene_expression_long\n",
    "                   .query('(infecting_viral_tag == \"none\") '\n",
    "                          f'and (gene == \"{gene}\")')\n",
    "                   ['frac_gene_UMIs']\n",
    "                   .quantile(limit_percentile))\n",
    "\n",
    "limit = pd.DataFrame.from_dict(limit, orient='index')\n",
    "limit = limit.reset_index()\n",
    "limit = limit.rename(columns={0: 'limit_frac',\n",
    "                              'index': 'gene'})\n",
    "\n",
    "limit"
   ]
  },
  {
   "cell_type": "code",
   "execution_count": null,
   "metadata": {},
   "outputs": [],
   "source": [
    "fig = (p9.ggplot(viral_gene_expression_long,\n",
    "                 p9.aes(x='frac_gene_UMIs')) +\n",
    "       p9.geom_histogram(bins=20) +\n",
    "       p9.geom_vline(limit,\n",
    "                     p9.aes(xintercept='limit_frac'),\n",
    "                     linetype='dashed',\n",
    "                     color='#3A3B3C',\n",
    "                     size=0.5) +\n",
    "       p9.facet_grid('infected~gene') +\n",
    "       p9.ggtitle(f'viral gene expression\\n'\n",
    "                  f'per gene\\n'\n",
    "                  f'{expt}') +\n",
    "       p9.labs(x='fraction of total UMIs in cell') +\n",
    "       p9.theme(figure_size=(10, 3),\n",
    "                plot_title=p9.element_text(size=12),\n",
    "                axis_title=p9.element_text(size=10),\n",
    "                legend_title=p9.element_text(size=10),\n",
    "                legend_title_align='center') +\n",
    "       p9.scale_x_log10())\n",
    "display(fig)"
   ]
  },
  {
   "cell_type": "markdown",
   "metadata": {},
   "source": [
    "Build a poisson distribution around this value. I will perform a statistical test to see if the value seen for each gene in infected cells falls within this distribution or rejects the null hypothesis.\n",
    "\n",
    "Now calculate the expected number of UMIs for each gene using this upper bound limit. For every cell and gene, I will simply multiply the total number of UMIs by this limit value."
   ]
  },
  {
   "cell_type": "code",
   "execution_count": null,
   "metadata": {},
   "outputs": [],
   "source": [
    "viral_gene_expression_long = pd.merge(\n",
    "    left=viral_gene_expression_long,\n",
    "    right=limit,\n",
    "    on=['gene'],\n",
    "    how='left'\n",
    "    )"
   ]
  },
  {
   "cell_type": "markdown",
   "metadata": {},
   "source": [
    "Calculate the expected number of UMIs corresponding to this 90th percentile proportion for each cell."
   ]
  },
  {
   "cell_type": "code",
   "execution_count": null,
   "metadata": {},
   "outputs": [],
   "source": [
    "viral_gene_expression_long['limit_UMIs'] = (viral_gene_expression_long['total_UMIs'] *\n",
    "                                            viral_gene_expression_long['limit_frac'])\n",
    "viral_gene_expression_long"
   ]
  },
  {
   "cell_type": "markdown",
   "metadata": {},
   "source": [
    "Calculate the p-value that a gene is present above the background distribution (poisson distribution with mu = `limit_UMIs`).\n",
    "\n",
    "A few notes on how this is calculated:  \n",
    "* We want the probability of yielding greater than **or equal to** the observed number of UMIs for each gene.\n",
    "* `P = scipy.stats.poisson.cdf(k = x, mu = l)` returns the probability of yielding less than or equal to the observed number of UMIs (`x`) for each gene.\n",
    "* To get the probability of yielding **greater than** `x`, we simply take `1 - P`.\n",
    "* Because the Poisson distribution functions on integers, to get the probability of yielding a value greater than **or equal to**, we simply calcuate P on `x - 1`.\n",
    "\n",
    "The final expression to return the **probability of yielding greater than or equal to the observed number of UMIs** is:  \n",
    "`P = 1 - scipy.stats.poisson.cdf(k = (x-1), mu = l)`"
   ]
  },
  {
   "cell_type": "code",
   "execution_count": null,
   "metadata": {},
   "outputs": [],
   "source": [
    "p_cutoff = 0.01\n",
    "\n",
    "viral_gene_expression_long['null_P'] = (\n",
    "    1 - scipy.stats.poisson.cdf(\n",
    "        k=(viral_gene_expression_long['gene_UMIs']-1),\n",
    "        mu=viral_gene_expression_long['limit_UMIs']))\n",
    "\n",
    "viral_gene_expression_long['gene_present'] = (\n",
    "    (viral_gene_expression_long['gene_UMIs'] > 0)\n",
    "    & (viral_gene_expression_long['null_P'] < p_cutoff))\n",
    "\n",
    "viral_gene_expression_long"
   ]
  },
  {
   "cell_type": "markdown",
   "metadata": {},
   "source": [
    "Plot the proportion of viral UMIs from each gene against the p value for every cell:"
   ]
  },
  {
   "cell_type": "code",
   "execution_count": null,
   "metadata": {},
   "outputs": [],
   "source": [
    "fig = (p9.ggplot((viral_gene_expression_long),\n",
    "                 p9.aes(x='frac_gene_UMIs',\n",
    "                        y='null_P',\n",
    "                        color='gene_present')) +\n",
    "       p9.geom_point() +\n",
    "       p9.facet_grid('infected~gene') +\n",
    "       p9.theme(figure_size=(15, 5),\n",
    "                plot_title=p9.element_text(size=12),\n",
    "                axis_title=p9.element_text(size=10),\n",
    "                legend_title=p9.element_text(size=10),\n",
    "                legend_title_align='center') +\n",
    "       p9.scale_color_manual([CBPALETTE[1],CBPALETTE[0]]) +\n",
    "       p9.scale_x_log10()\n",
    "       )\n",
    "display(fig)"
   ]
  },
  {
   "cell_type": "markdown",
   "metadata": {},
   "source": [
    "Color the proportion histogram by present/absent call:"
   ]
  },
  {
   "cell_type": "code",
   "execution_count": null,
   "metadata": {},
   "outputs": [],
   "source": [
    "fig = (p9.ggplot((viral_gene_expression_long\n",
    "                  .replace(to_replace={'frac_gene_UMIs':0},\n",
    "                           value=zero_pseudocount)),\n",
    "                 p9.aes(x='frac_gene_UMIs',\n",
    "                        fill='gene_present')) +\n",
    "       p9.geom_histogram(bins=20) +\n",
    "       p9.facet_grid('infected~gene') +\n",
    "       p9.ggtitle(f'viral gene expression\\n'\n",
    "                  f'per gene\\n'\n",
    "                  f'{expt}') +\n",
    "       p9.labs(x='fraction of total UMIs in cell') +\n",
    "       p9.theme(figure_size=(10, 3),\n",
    "                plot_title=p9.element_text(size=12),\n",
    "                axis_title=p9.element_text(size=10),\n",
    "                legend_title=p9.element_text(size=10),\n",
    "                legend_title_align='center') +\n",
    "       p9.scale_x_log10() +\n",
    "       p9.scale_fill_manual([CBPALETTE[1],CBPALETTE[0]])\n",
    "       )\n",
    "display(fig)"
   ]
  },
  {
   "cell_type": "markdown",
   "metadata": {},
   "source": [
    "Annotate the fraction of cells that have each viral gene:"
   ]
  },
  {
   "cell_type": "code",
   "execution_count": null,
   "metadata": {},
   "outputs": [],
   "source": [
    "has_gene = pd.DataFrame(\n",
    "    viral_gene_expression_long\n",
    "    .query('infecting_viral_tag != \"both\"')\n",
    "    .groupby(['infected',\n",
    "              'gene'])\n",
    "    ['gene_present']\n",
    "    .value_counts(normalize=True)\n",
    "    .reset_index(name='prop_cells'))\n",
    "\n",
    "has_gene"
   ]
  },
  {
   "cell_type": "markdown",
   "metadata": {},
   "source": [
    "Plot this fraction for each gene and infecting viral tag:"
   ]
  },
  {
   "cell_type": "code",
   "execution_count": null,
   "metadata": {},
   "outputs": [],
   "source": [
    "fig = (p9.ggplot((has_gene),\n",
    "                  p9.aes(x='gene',\n",
    "                         y='prop_cells',\n",
    "                         fill='gene_present')) +\n",
    "              p9.geom_bar(stat='identity') +\n",
    "              p9.ggtitle('gene is present above uninfected background\\n'\n",
    "                         f'{expt}') +\n",
    "              p9.ylab('prop cells') +\n",
    "              p9.facet_grid('infected~') +\n",
    "              p9.theme(figure_size=(8, 6),\n",
    "                       plot_title=p9.element_text(size=10),\n",
    "                       axis_title=p9.element_text(size=10),\n",
    "                       legend_title=p9.element_text(size=9),\n",
    "                       legend_title_align='center') +\n",
    "              p9.scale_fill_manual([CBPALETTE[1],CBPALETTE[0]]))\n",
    "display(fig)"
   ]
  },
  {
   "cell_type": "markdown",
   "metadata": {},
   "source": [
    "Tabulate the number of viral genes present in each cell"
   ]
  },
  {
   "cell_type": "code",
   "execution_count": null,
   "metadata": {},
   "outputs": [],
   "source": [
    "n_viral_genes = (pd.pivot_table(\n",
    "    viral_gene_expression_long,\n",
    "    index=['cell_barcode',\n",
    "           'infected',\n",
    "           'infecting_viral_tag',\n",
    "           'total_UMIs'],\n",
    "    values='gene_present',\n",
    "    aggfunc=numpy.sum)\n",
    "                 .reset_index()\n",
    "                 .rename(columns={'gene_present':'n_viral_genes_present'}))\n",
    "\n",
    "n_viral_genes"
   ]
  },
  {
   "cell_type": "code",
   "execution_count": null,
   "metadata": {},
   "outputs": [],
   "source": [
    "fig = (p9.ggplot((n_viral_genes\n",
    "                  .query('infected == True and '\n",
    "                         'infecting_viral_tag != \"both\"')),\n",
    "                  p9.aes(x='n_viral_genes_present')) +\n",
    "              p9.geom_bar(stat='count') +\n",
    "              p9.ggtitle('viral genes in infected cells\\n'\n",
    "                         f'{expt}') +\n",
    "              p9.ylab('n cells') +\n",
    "              p9.theme(figure_size=(6, 2),\n",
    "                       plot_title=p9.element_text(size=10),\n",
    "                       axis_title=p9.element_text(size=10),\n",
    "                       legend_title=p9.element_text(size=9),\n",
    "                       legend_title_align='center') +\n",
    "              p9.scale_fill_manual(CBPALETTE[0:]))\n",
    "display(fig)"
   ]
  },
  {
   "cell_type": "markdown",
   "metadata": {},
   "source": [
    "Add this information to viral_bc_freqs dataframe"
   ]
  },
  {
   "cell_type": "code",
   "execution_count": null,
   "metadata": {},
   "outputs": [],
   "source": [
    "viral_bc_freqs = pd.merge(\n",
    "    left=viral_bc_freqs,\n",
    "    right=n_viral_genes,\n",
    "    on=['cell_barcode',\n",
    "        'infected',\n",
    "        'infecting_viral_tag'],\n",
    "    how='left')\n",
    "\n",
    "viral_bc_freqs"
   ]
  },
  {
   "cell_type": "markdown",
   "metadata": {},
   "source": [
    "Plot the distribution of viral burden in infected cells binned by number of viral genes present."
   ]
  },
  {
   "cell_type": "code",
   "execution_count": null,
   "metadata": {
    "scrolled": true
   },
   "outputs": [],
   "source": [
    "fig = (p9.ggplot((viral_bc_freqs\n",
    "                  .query('infected == True and '\n",
    "                         'infecting_viral_tag != \"both\"')),\n",
    "                  p9.aes(x='factor(n_viral_genes_present)',\n",
    "                         y='frac_viral_UMIs')) +\n",
    "              p9.geom_boxplot() +\n",
    "              p9.ggtitle('viral genes in infected cells\\n'\n",
    "                         f'{expt}') +\n",
    "              p9.xlab('n viral genes in cell') +\n",
    "              p9.ylab('frac viral UMIs in cell') +\n",
    "              p9.theme(figure_size=(6, 2),\n",
    "                       plot_title=p9.element_text(size=10),\n",
    "                       axis_title=p9.element_text(size=10),\n",
    "                       legend_title=p9.element_text(size=9),\n",
    "                       legend_title_align='center') +\n",
    "              p9.scale_fill_manual(CBPALETTE[0:]))\n",
    "display(fig)"
   ]
  },
  {
   "cell_type": "markdown",
   "metadata": {},
   "source": [
    "Color the transcription-progeny plot by the number of viral genes present"
   ]
  },
  {
   "cell_type": "code",
   "execution_count": null,
   "metadata": {},
   "outputs": [],
   "source": [
    "fig = (p9.ggplot(viral_bc_freqs\n",
    "                 .fillna(0)\n",
    "                 .query('top_viral_bc == True',\n",
    "                        engine='python'),\n",
    "                 p9.aes(x='frac_viral_UMIs',\n",
    "                        y='freq_sup',\n",
    "                        color='n_viral_genes_present')) +\n",
    "       p9.geom_point(alpha=0.3) +\n",
    "       p9.facet_grid('~gene') +\n",
    "       p9.ggtitle(f'{expt}') +\n",
    "       p9.scale_x_log10() +\n",
    "       p9.scale_y_log10() +\n",
    "       p9.labs(x='viral burden (viral UMIs / total UMIs in cell',\n",
    "               y='fraction of total reads in supernatant') +\n",
    "       p9.theme(figure_size=(6, 3),\n",
    "                plot_title=p9.element_text(size=9),\n",
    "                axis_title=p9.element_text(size=9),\n",
    "                legend_title=p9.element_text(size=9),\n",
    "                legend_title_align='center'))\n",
    "display(fig)\n"
   ]
  },
  {
   "cell_type": "markdown",
   "metadata": {},
   "source": [
    "### Viral gene presence/absence as a function of other metrics\n",
    "\n",
    "Plot relationship between n viral genes and viral burden"
   ]
  },
  {
   "cell_type": "code",
   "execution_count": null,
   "metadata": {},
   "outputs": [],
   "source": [
    "fig = (p9.ggplot(viral_bc_freqs.query('top_viral_bc == True'),\n",
    "                 p9.aes(x='frac_viral_UMIs',\n",
    "                        y='n_viral_genes_present')) +\n",
    "       p9.geom_point(alpha=0.2) +\n",
    "       p9.ggtitle(f'{expt}') +\n",
    "       p9.scale_x_log10() +\n",
    "       p9.labs(x='viral burden (viral UMIs / total UMIs in cell)',\n",
    "               y='n viral genes present') +\n",
    "       p9.theme(figure_size=(3, 3),\n",
    "                plot_title=p9.element_text(size=9),\n",
    "                axis_title=p9.element_text(size=9),\n",
    "                legend_title=p9.element_text(size=9),\n",
    "                legend_title_align='center'))\n",
    "display(fig)"
   ]
  },
  {
   "cell_type": "markdown",
   "metadata": {},
   "source": [
    "Plot relationship between n viral genes and viral progeny production in sup"
   ]
  },
  {
   "cell_type": "code",
   "execution_count": null,
   "metadata": {},
   "outputs": [],
   "source": [
    "fig = (p9.ggplot((viral_bc_freqs\n",
    "                 .query('top_viral_bc == True')),\n",
    "                 p9.aes(x='freq_sup',\n",
    "                        y='n_viral_genes_present')) +\n",
    "       p9.geom_point(alpha=0.3) +\n",
    "       p9.ggtitle(f'{expt}') +\n",
    "       p9.scale_x_log10() +\n",
    "       p9.labs(x='fraction of total reads in supernatant',\n",
    "               y='n viral genes present') +\n",
    "       p9.theme(figure_size=(3, 3),\n",
    "                plot_title=p9.element_text(size=9),\n",
    "                axis_title=p9.element_text(size=9),\n",
    "                legend_title=p9.element_text(size=9),\n",
    "                legend_title_align='center'))\n",
    "display(fig)"
   ]
  },
  {
   "cell_type": "markdown",
   "metadata": {},
   "source": [
    "Check to see how viral gene presence/absence relates to the total number of UMIs generated for that cell to assess capture:"
   ]
  },
  {
   "cell_type": "code",
   "execution_count": null,
   "metadata": {},
   "outputs": [],
   "source": [
    "fig = (p9.ggplot(n_viral_genes,\n",
    "                 p9.aes(x='total_UMIs',\n",
    "                        y='n_viral_genes_present')) +\n",
    "       p9.geom_point(alpha=0.3) +\n",
    "       p9.facet_grid('~infected') +\n",
    "       p9.ggtitle(f'number of viral genes present in cell\\n'\n",
    "                  f'vs. total UMIs in cell'\n",
    "                  f'{expt}') +\n",
    "       p9.scale_x_log10() +\n",
    "       p9.labs(x='total_UMIs',\n",
    "               y='n viral genes present') +\n",
    "       p9.theme(figure_size=(6, 3),\n",
    "                plot_title=p9.element_text(size=9),\n",
    "                axis_title=p9.element_text(size=9),\n",
    "                legend_title=p9.element_text(size=9),\n",
    "                legend_title_align='center'))\n",
    "display(fig)"
   ]
  },
  {
   "cell_type": "code",
   "execution_count": null,
   "metadata": {
    "scrolled": false
   },
   "outputs": [],
   "source": [
    "fig = (p9.ggplot(viral_gene_expression_long,\n",
    "                 p9.aes(x='frac_viral_UMIs',\n",
    "                        y='frac_gene_UMIs',\n",
    "                        color='infecting_viral_tag')) +\n",
    "       p9.geom_point(alpha=0.1) +\n",
    "       p9.facet_grid('infected~gene') +\n",
    "       p9.ggtitle(f'viral gene expression\\n'\n",
    "                  f'vs viral burden\\n'\n",
    "                  f'{expt}') +\n",
    "       p9.labs(x='fraction viral UMIs in cell',\n",
    "               y='fraction of UMIs assigned to gene') +\n",
    "       p9.theme(figure_size=(10, 3),\n",
    "                plot_title=p9.element_text(size=12),\n",
    "                axis_title=p9.element_text(size=10),\n",
    "                legend_title=p9.element_text(size=10),\n",
    "                legend_title_align='center') +\n",
    "       p9.scale_color_manual(CBPALETTE[0:]))\n",
    "display(fig)"
   ]
  },
  {
   "cell_type": "markdown",
   "metadata": {},
   "source": [
    "### All viral genes\n",
    "Annotate cells that have all genes:"
   ]
  },
  {
   "cell_type": "code",
   "execution_count": null,
   "metadata": {},
   "outputs": [],
   "source": [
    "n_viral_genes['all_genes'] = (n_viral_genes['n_viral_genes_present'] == 8)\n",
    "n_viral_genes"
   ]
  },
  {
   "cell_type": "markdown",
   "metadata": {},
   "source": [
    "Add this info to viral_bc_freqs"
   ]
  },
  {
   "cell_type": "code",
   "execution_count": null,
   "metadata": {},
   "outputs": [],
   "source": [
    "viral_bc_freqs = pd.merge(\n",
    "    left=viral_bc_freqs,\n",
    "    right=n_viral_genes,\n",
    "    on=['cell_barcode',\n",
    "        'infected',\n",
    "        'infecting_viral_tag',\n",
    "        'n_viral_genes_present'],\n",
    "    how='left')\n",
    "\n",
    "viral_bc_freqs"
   ]
  },
  {
   "cell_type": "markdown",
   "metadata": {},
   "source": [
    "Plot transcription vs progeny, annotated by complete genome:"
   ]
  },
  {
   "cell_type": "code",
   "execution_count": null,
   "metadata": {},
   "outputs": [],
   "source": [
    "fig = (p9.ggplot(viral_bc_freqs\n",
    "                 .fillna(0)\n",
    "                 .query('top_viral_bc == True',\n",
    "                        engine='python'),\n",
    "                 p9.aes(x='frac_viral_UMIs',\n",
    "                        y='freq_sup',\n",
    "                        color='all_genes')) +\n",
    "       p9.geom_point(alpha=0.3) +\n",
    "       p9.facet_grid('~gene') +\n",
    "       p9.ggtitle(f'{expt}') +\n",
    "       p9.scale_x_log10() +\n",
    "       p9.scale_y_log10() +\n",
    "       p9.labs(x='viral burden (viral UMIs / total UMIs in cell',\n",
    "               y='fraction of total reads in supernatant') +\n",
    "       p9.theme(figure_size=(6, 3),\n",
    "                plot_title=p9.element_text(size=9),\n",
    "                axis_title=p9.element_text(size=9),\n",
    "                legend_title=p9.element_text(size=9),\n",
    "                legend_title_align='center') +\n",
    "       p9.scale_color_manual(values=['grey','orange']))\n",
    "display(fig)"
   ]
  },
  {
   "cell_type": "markdown",
   "metadata": {},
   "source": [
    "#### Annotate whether cells contribute progeny"
   ]
  },
  {
   "cell_type": "code",
   "execution_count": null,
   "metadata": {},
   "outputs": [],
   "source": [
    "viral_bc_freqs['contribute_progeny'] = (viral_bc_freqs['freq_sup'] > 0)\n",
    "viral_bc_freqs"
   ]
  },
  {
   "cell_type": "code",
   "execution_count": null,
   "metadata": {},
   "outputs": [],
   "source": [
    "fig = (p9.ggplot(viral_bc_freqs\n",
    "                 .fillna(0)\n",
    "                 .query('top_viral_bc == True',\n",
    "                        engine='python'),\n",
    "                 p9.aes(x='frac_viral_UMIs',\n",
    "                        y='freq_sup',\n",
    "                        color='contribute_progeny')) +\n",
    "       p9.geom_point(alpha=0.3) +\n",
    "       p9.facet_grid('~gene') +\n",
    "       p9.ggtitle(f'{expt}') +\n",
    "       p9.scale_x_log10() +\n",
    "       p9.scale_y_log10() +\n",
    "       p9.labs(x='viral burden (viral UMIs / total UMIs in cell',\n",
    "               y='fraction of total reads in supernatant') +\n",
    "       p9.theme(figure_size=(6, 3),\n",
    "                plot_title=p9.element_text(size=9),\n",
    "                axis_title=p9.element_text(size=9),\n",
    "                legend_title=p9.element_text(size=9),\n",
    "                legend_title_align='center') +\n",
    "       p9.scale_color_manual(values=['grey','orange']))\n",
    "\n",
    "display(fig)"
   ]
  },
  {
   "cell_type": "markdown",
   "metadata": {},
   "source": [
    "Plot density plots and histogram of cells that contribute progeny vs don't contribute progeny"
   ]
  },
  {
   "cell_type": "code",
   "execution_count": null,
   "metadata": {},
   "outputs": [],
   "source": [
    "fig = (p9.ggplot(viral_bc_freqs\n",
    "                 .fillna(0)\n",
    "                 .query('top_viral_bc == True',\n",
    "                        engine='python'),\n",
    "                 p9.aes(x='frac_viral_UMIs',\n",
    "                        fill='contribute_progeny')) +\n",
    "       p9.geom_density(alpha=0.2) +\n",
    "       p9.facet_grid('~gene') +\n",
    "       p9.ggtitle(f'{expt}') +\n",
    "       p9.scale_x_log10() +\n",
    "       p9.labs(x='viral burden (viral UMIs / total UMIs in cell',\n",
    "               y='frac cells') +\n",
    "       p9.theme(figure_size=(6, 3),\n",
    "                plot_title=p9.element_text(size=9),\n",
    "                axis_title=p9.element_text(size=9),\n",
    "                legend_title=p9.element_text(size=9),\n",
    "                legend_title_align='center') +\n",
    "       p9.scale_fill_manual(values=['grey','orange']))\n",
    "\n",
    "display(fig)"
   ]
  },
  {
   "cell_type": "code",
   "execution_count": null,
   "metadata": {},
   "outputs": [],
   "source": [
    "fig = (p9.ggplot(viral_bc_freqs\n",
    "                 .fillna(0)\n",
    "                 .query('top_viral_bc == True',\n",
    "                        engine='python'),\n",
    "                 p9.aes(x='frac_viral_UMIs',\n",
    "                        fill='contribute_progeny')) +\n",
    "       p9.geom_histogram() +\n",
    "       p9.facet_grid('~gene') +\n",
    "       p9.ggtitle(f'{expt}') +\n",
    "       p9.scale_x_log10() +\n",
    "       p9.scale_y_log10() +\n",
    "       p9.labs(x='viral burden (viral UMIs / total UMIs in cell',\n",
    "               y='n cells') +\n",
    "       p9.theme(figure_size=(6, 3),\n",
    "                plot_title=p9.element_text(size=9),\n",
    "                axis_title=p9.element_text(size=9),\n",
    "                legend_title=p9.element_text(size=9),\n",
    "                legend_title_align='center') +\n",
    "       p9.scale_fill_manual(values=['grey','orange']))\n",
    "\n",
    "display(fig)"
   ]
  },
  {
   "cell_type": "markdown",
   "metadata": {},
   "source": [
    "Look at the proportion of infected cells that contribute progeny vs those that don't and how that relates to having all viral genes. A priori, I would expect many more cells that contribute progeny to have all 8 genes than cells that don't."
   ]
  },
  {
   "cell_type": "code",
   "execution_count": null,
   "metadata": {},
   "outputs": [],
   "source": [
    "progeny_full_genome = pd.DataFrame(\n",
    "    viral_bc_freqs\n",
    "    .query('infected == True and '\n",
    "           'infecting_viral_tag != \"both\"')\n",
    "    .groupby(['contribute_progeny'])\n",
    "    ['all_genes']\n",
    "    .value_counts(normalize=False)\n",
    "    .reset_index(name='n_cells'))\n",
    "\n",
    "progeny_full_genome = (progeny_full_genome.pivot(\n",
    "    index='all_genes',\n",
    "    columns='contribute_progeny',\n",
    "    values='n_cells'))\n",
    "\n",
    "progeny_full_genome"
   ]
  },
  {
   "cell_type": "markdown",
   "metadata": {},
   "source": [
    "Run a chi-square test to see if the ratio of cells with a full genome differs in cells that contribute progeny vs cells that do not."
   ]
  },
  {
   "cell_type": "code",
   "execution_count": null,
   "metadata": {},
   "outputs": [],
   "source": [
    "chi_result = (scipy\n",
    "              .stats\n",
    "              .chi2_contingency(observed=progeny_full_genome))\n",
    "\n",
    "print('Is the probability of contributing progeny different '\n",
    "      'for cells with all 8 genes vs cells missing some genes?')\n",
    "\n",
    "print(f'The p-value of observing these values by chance is {chi_result[1]:.4f}.')"
   ]
  },
  {
   "cell_type": "markdown",
   "metadata": {},
   "source": [
    "Visualize this data as a fractionn of cells with or without all genes:"
   ]
  },
  {
   "cell_type": "code",
   "execution_count": null,
   "metadata": {},
   "outputs": [],
   "source": [
    "progeny_full_genome_normalized = pd.DataFrame(\n",
    "    viral_bc_freqs\n",
    "    .query('infected == True and '\n",
    "           'infecting_viral_tag != \"both\"')\n",
    "    .groupby(['all_genes'])\n",
    "    ['contribute_progeny']\n",
    "    .value_counts(normalize=True)\n",
    "    .reset_index(name='prop_cells'))\n",
    "progeny_full_genome_normalized\n",
    "\n",
    "fig = (p9.ggplot((progeny_full_genome_normalized),\n",
    "                  p9.aes(x='all_genes',\n",
    "                         y='prop_cells',\n",
    "                         fill='contribute_progeny')) +\n",
    "              p9.geom_bar(stat='identity') +\n",
    "              p9.ggtitle('infected cells\\n'\n",
    "                         f'{expt}') +\n",
    "              p9.labs(x='cell has all 8 viral genes', y='prop cells') + \n",
    "              p9.theme(figure_size=(3, 2),\n",
    "                       plot_title=p9.element_text(size=10),\n",
    "                       axis_title=p9.element_text(size=10),\n",
    "                       legend_title=p9.element_text(size=9),\n",
    "                       legend_title_align='center') +\n",
    "              p9.scale_fill_manual(CBPALETTE[0:]))\n",
    "display(fig)"
   ]
  },
  {
   "cell_type": "markdown",
   "metadata": {},
   "source": [
    "Plot the distribution of viral genes present in each cell, colored by whether they contribute progeny or not."
   ]
  },
  {
   "cell_type": "code",
   "execution_count": null,
   "metadata": {},
   "outputs": [],
   "source": [
    "n_genes_normalized = (\n",
    "    viral_bc_freqs\n",
    "    .query('infected == True and '\n",
    "           'infecting_viral_tag != \"both\"')\n",
    "    .groupby(['contribute_progeny'])\n",
    "    ['n_viral_genes_present']\n",
    "    .value_counts()\n",
    "    .reset_index(name='n_cells')\n",
    ")\n",
    "\n",
    "n_genes_normalized = pd.merge(\n",
    "    left=n_genes_normalized,\n",
    "    right=(n_genes_normalized\n",
    "           .groupby('contribute_progeny')\n",
    "           ['n_cells']\n",
    "           .sum()\n",
    "           .reset_index()\n",
    "           .rename(columns={'n_cells':'total'})),\n",
    "    on='contribute_progeny',\n",
    "    how='left',\n",
    "    validate='many_to_one'\n",
    ")\n",
    "\n",
    "n_genes_normalized['frac_cells'] = (n_genes_normalized['n_cells'] /\n",
    "                                    n_genes_normalized['total'])\n",
    "\n",
    "n_genes_normalized"
   ]
  },
  {
   "cell_type": "code",
   "execution_count": null,
   "metadata": {},
   "outputs": [],
   "source": [
    "\n",
    "fig = (p9.ggplot(n_genes_normalized,\n",
    "                 p9.aes(x='n_viral_genes_present',\n",
    "                        y='frac_cells',\n",
    "                        fill='contribute_progeny')) +\n",
    "              p9.geom_bar(stat='identity', position='dodge') +\n",
    "              p9.ggtitle('viral genes in cell\\n'\n",
    "                         f'{expt}') +\n",
    "              p9.ylab('proportion of cells') +\n",
    "              p9.theme(figure_size=(6, 2),\n",
    "                       plot_title=p9.element_text(size=10),\n",
    "                       axis_title=p9.element_text(size=10),\n",
    "                       legend_title=p9.element_text(size=9),\n",
    "                       legend_title_align='center') +\n",
    "              p9.scale_fill_manual(CBPALETTE[0:]))\n",
    "display(fig)"
   ]
  },
  {
   "cell_type": "code",
   "execution_count": null,
   "metadata": {},
   "outputs": [],
   "source": []
  },
  {
   "cell_type": "code",
   "execution_count": null,
   "metadata": {},
   "outputs": [],
   "source": []
  }
 ],
 "metadata": {
  "kernelspec": {
   "display_name": "Python 3",
   "language": "python",
   "name": "python3"
  },
  "language_info": {
   "codemirror_mode": {
    "name": "ipython",
    "version": 3
   },
   "file_extension": ".py",
   "mimetype": "text/x-python",
   "name": "python",
   "nbconvert_exporter": "python",
   "pygments_lexer": "ipython3",
   "version": "3.8.6"
  }
 },
 "nbformat": 4,
 "nbformat_minor": 4
}
