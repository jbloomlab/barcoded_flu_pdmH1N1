{
 "cells": [
  {
   "cell_type": "markdown",
   "metadata": {},
   "source": [
    "# single-cell Progeny Production analysis\n",
    "This notebook provides a central place to integrate and analyze transcriptome and progeny production data."
   ]
  },
  {
   "cell_type": "markdown",
   "metadata": {},
   "source": [
    "## Notebook setup\n",
    "First give paths and values to all variables. Then, load in data."
   ]
  },
  {
   "cell_type": "markdown",
   "metadata": {},
   "source": [
    "Python imports:"
   ]
  },
  {
   "cell_type": "code",
   "execution_count": 1,
   "metadata": {},
   "outputs": [],
   "source": [
    "from IPython.display import display\n",
    "\n",
    "from dms_variants.constants import CBPALETTE\n",
    "\n",
    "import numpy\n",
    "\n",
    "import pandas as pd\n",
    "\n",
    "import plotnine as p9\n",
    "\n",
    "import scanpy\n",
    "\n",
    "import scipy\n",
    "\n",
    "import statsmodels.stats.multitest"
   ]
  },
  {
   "cell_type": "markdown",
   "metadata": {},
   "source": [
    "Input data paths. Currently hardcoded."
   ]
  },
  {
   "cell_type": "code",
   "execution_count": 2,
   "metadata": {},
   "outputs": [],
   "source": [
    "matrix = 'results/aligned_fastq10x/scProgenyProduction_trial3/Solo.out/GeneFull/filtered/matrix.mtx'\n",
    "cell_barcodes = 'results/aligned_fastq10x/scProgenyProduction_trial3/Solo.out/GeneFull/filtered/barcodes.tsv'\n",
    "features = 'results/aligned_fastq10x/scProgenyProduction_trial3/Solo.out/GeneFull/filtered/features.tsv'\n",
    "viral_tag_by_cell_csv = 'results/viral_tags_bcs_in_cells/scProgenyProduction_trial3_cell_barcodes_with_viral_tags.csv.gz'\n",
    "viral_bc_background_freq_csv = 'results/viral_fastq10x/scProgenyProduction_trial3_viral_bc_background_freq.csv.gz'\n",
    "viral_bc_in_progeny_freq_csv = 'results/viral_progeny/scProgenyProduction_trial3_viral_bc_in_progeny_freq.csv.gz'"
   ]
  },
  {
   "cell_type": "markdown",
   "metadata": {},
   "source": [
    "Global variables for this notebook:"
   ]
  },
  {
   "cell_type": "code",
   "execution_count": 3,
   "metadata": {},
   "outputs": [],
   "source": [
    "expt = 'scProgenyProduction_trial3'\n",
    "plot = 'results/viral_fastq10x/scProgenyProduction_trial3_viral_bc_correlations.pdf'\n",
    "viral_genes = ['fluPB2', 'fluPB1', 'fluPA', 'fluHA', 'fluNA', 'fluNP', 'fluM', 'fluNS']\n",
    "barcoded_viral_genes = ['fluHA', 'fluNA']"
   ]
  },
  {
   "cell_type": "markdown",
   "metadata": {},
   "source": [
    "Style parameters. *N.b.* `CBPALETTE` is defined in imports above."
   ]
  },
  {
   "cell_type": "code",
   "execution_count": 4,
   "metadata": {},
   "outputs": [],
   "source": [
    "p9.theme_set(p9.theme_classic())"
   ]
  },
  {
   "cell_type": "markdown",
   "metadata": {},
   "source": [
    "### Load data"
   ]
  },
  {
   "cell_type": "markdown",
   "metadata": {},
   "source": [
    "Cell barcodes and infecting viral tags:"
   ]
  },
  {
   "cell_type": "code",
   "execution_count": 5,
   "metadata": {},
   "outputs": [
    {
     "data": {
      "text/html": [
       "<div>\n",
       "<style scoped>\n",
       "    .dataframe tbody tr th:only-of-type {\n",
       "        vertical-align: middle;\n",
       "    }\n",
       "\n",
       "    .dataframe tbody tr th {\n",
       "        vertical-align: top;\n",
       "    }\n",
       "\n",
       "    .dataframe thead th {\n",
       "        text-align: right;\n",
       "    }\n",
       "</style>\n",
       "<table border=\"1\" class=\"dataframe\">\n",
       "  <thead>\n",
       "    <tr style=\"text-align: right;\">\n",
       "      <th></th>\n",
       "      <th>cell_barcode</th>\n",
       "      <th>infected</th>\n",
       "      <th>infecting_viral_tag</th>\n",
       "    </tr>\n",
       "  </thead>\n",
       "  <tbody>\n",
       "    <tr>\n",
       "      <th>0</th>\n",
       "      <td>AAACCCAGTAACAAGT</td>\n",
       "      <td>False</td>\n",
       "      <td>none</td>\n",
       "    </tr>\n",
       "    <tr>\n",
       "      <th>1</th>\n",
       "      <td>AAACCCATCATTGCTT</td>\n",
       "      <td>False</td>\n",
       "      <td>none</td>\n",
       "    </tr>\n",
       "    <tr>\n",
       "      <th>2</th>\n",
       "      <td>AAACGAAAGATGTTGA</td>\n",
       "      <td>False</td>\n",
       "      <td>none</td>\n",
       "    </tr>\n",
       "    <tr>\n",
       "      <th>3</th>\n",
       "      <td>AAACGAAGTACTTCCC</td>\n",
       "      <td>True</td>\n",
       "      <td>both</td>\n",
       "    </tr>\n",
       "    <tr>\n",
       "      <th>4</th>\n",
       "      <td>AAACGAAGTAGACGTG</td>\n",
       "      <td>True</td>\n",
       "      <td>wt</td>\n",
       "    </tr>\n",
       "    <tr>\n",
       "      <th>...</th>\n",
       "      <td>...</td>\n",
       "      <td>...</td>\n",
       "      <td>...</td>\n",
       "    </tr>\n",
       "    <tr>\n",
       "      <th>3363</th>\n",
       "      <td>TTTGATCTCCCGTTCA</td>\n",
       "      <td>False</td>\n",
       "      <td>none</td>\n",
       "    </tr>\n",
       "    <tr>\n",
       "      <th>3364</th>\n",
       "      <td>TTTGATCTCGCATTGA</td>\n",
       "      <td>True</td>\n",
       "      <td>wt</td>\n",
       "    </tr>\n",
       "    <tr>\n",
       "      <th>3365</th>\n",
       "      <td>TTTGGAGAGTTGCCTA</td>\n",
       "      <td>False</td>\n",
       "      <td>none</td>\n",
       "    </tr>\n",
       "    <tr>\n",
       "      <th>3366</th>\n",
       "      <td>TTTGGAGGTATCGTTG</td>\n",
       "      <td>True</td>\n",
       "      <td>wt</td>\n",
       "    </tr>\n",
       "    <tr>\n",
       "      <th>3367</th>\n",
       "      <td>TTTGTTGAGTGCAGCA</td>\n",
       "      <td>False</td>\n",
       "      <td>none</td>\n",
       "    </tr>\n",
       "  </tbody>\n",
       "</table>\n",
       "<p>3368 rows × 3 columns</p>\n",
       "</div>"
      ],
      "text/plain": [
       "          cell_barcode  infected infecting_viral_tag\n",
       "0     AAACCCAGTAACAAGT     False                none\n",
       "1     AAACCCATCATTGCTT     False                none\n",
       "2     AAACGAAAGATGTTGA     False                none\n",
       "3     AAACGAAGTACTTCCC      True                both\n",
       "4     AAACGAAGTAGACGTG      True                  wt\n",
       "...                ...       ...                 ...\n",
       "3363  TTTGATCTCCCGTTCA     False                none\n",
       "3364  TTTGATCTCGCATTGA      True                  wt\n",
       "3365  TTTGGAGAGTTGCCTA     False                none\n",
       "3366  TTTGGAGGTATCGTTG      True                  wt\n",
       "3367  TTTGTTGAGTGCAGCA     False                none\n",
       "\n",
       "[3368 rows x 3 columns]"
      ]
     },
     "metadata": {},
     "output_type": "display_data"
    }
   ],
   "source": [
    "all_cells = pd.read_csv(viral_tag_by_cell_csv)\n",
    "all_cells = all_cells[['cell_barcode',\n",
    "                       'infected',\n",
    "                       'infecting_viral_tag']]\n",
    "display(all_cells)"
   ]
  },
  {
   "cell_type": "markdown",
   "metadata": {},
   "source": [
    "**Transcriptome** viral barcode frequencies:"
   ]
  },
  {
   "cell_type": "code",
   "execution_count": 6,
   "metadata": {},
   "outputs": [
    {
     "data": {
      "text/html": [
       "<div>\n",
       "<style scoped>\n",
       "    .dataframe tbody tr th:only-of-type {\n",
       "        vertical-align: middle;\n",
       "    }\n",
       "\n",
       "    .dataframe tbody tr th {\n",
       "        vertical-align: top;\n",
       "    }\n",
       "\n",
       "    .dataframe thead th {\n",
       "        text-align: right;\n",
       "    }\n",
       "</style>\n",
       "<table border=\"1\" class=\"dataframe\">\n",
       "  <thead>\n",
       "    <tr style=\"text-align: right;\">\n",
       "      <th></th>\n",
       "      <th>cell_barcode</th>\n",
       "      <th>infected</th>\n",
       "      <th>infecting_viral_tag</th>\n",
       "      <th>frac_viral_UMIs</th>\n",
       "      <th>gene</th>\n",
       "      <th>viral_barcode</th>\n",
       "      <th>viral_bc_UMIs</th>\n",
       "      <th>frac_viral_bc_UMIs</th>\n",
       "      <th>reject_uninfected</th>\n",
       "    </tr>\n",
       "  </thead>\n",
       "  <tbody>\n",
       "    <tr>\n",
       "      <th>0</th>\n",
       "      <td>AAACCCAGTAACAAGT</td>\n",
       "      <td>False</td>\n",
       "      <td>none</td>\n",
       "      <td>0.000048</td>\n",
       "      <td>fluHA</td>\n",
       "      <td>NaN</td>\n",
       "      <td>0</td>\n",
       "      <td>0.000000</td>\n",
       "      <td>False</td>\n",
       "    </tr>\n",
       "    <tr>\n",
       "      <th>1</th>\n",
       "      <td>AAACCCATCATTGCTT</td>\n",
       "      <td>False</td>\n",
       "      <td>none</td>\n",
       "      <td>0.000051</td>\n",
       "      <td>fluHA</td>\n",
       "      <td>NaN</td>\n",
       "      <td>0</td>\n",
       "      <td>0.000000</td>\n",
       "      <td>False</td>\n",
       "    </tr>\n",
       "    <tr>\n",
       "      <th>2</th>\n",
       "      <td>AAACGAAAGATGTTGA</td>\n",
       "      <td>False</td>\n",
       "      <td>none</td>\n",
       "      <td>0.000204</td>\n",
       "      <td>fluHA</td>\n",
       "      <td>NaN</td>\n",
       "      <td>0</td>\n",
       "      <td>0.000000</td>\n",
       "      <td>False</td>\n",
       "    </tr>\n",
       "    <tr>\n",
       "      <th>3</th>\n",
       "      <td>AAACGAAGTACTTCCC</td>\n",
       "      <td>True</td>\n",
       "      <td>both</td>\n",
       "      <td>0.448272</td>\n",
       "      <td>fluHA</td>\n",
       "      <td>NaN</td>\n",
       "      <td>0</td>\n",
       "      <td>0.000000</td>\n",
       "      <td>False</td>\n",
       "    </tr>\n",
       "    <tr>\n",
       "      <th>4</th>\n",
       "      <td>AAACGAAGTAGACGTG</td>\n",
       "      <td>True</td>\n",
       "      <td>wt</td>\n",
       "      <td>0.040116</td>\n",
       "      <td>fluHA</td>\n",
       "      <td>AAGTAAGCGACATGAG</td>\n",
       "      <td>93</td>\n",
       "      <td>0.001731</td>\n",
       "      <td>True</td>\n",
       "    </tr>\n",
       "    <tr>\n",
       "      <th>...</th>\n",
       "      <td>...</td>\n",
       "      <td>...</td>\n",
       "      <td>...</td>\n",
       "      <td>...</td>\n",
       "      <td>...</td>\n",
       "      <td>...</td>\n",
       "      <td>...</td>\n",
       "      <td>...</td>\n",
       "      <td>...</td>\n",
       "    </tr>\n",
       "    <tr>\n",
       "      <th>9185</th>\n",
       "      <td>TTTGATCTCCCGTTCA</td>\n",
       "      <td>False</td>\n",
       "      <td>none</td>\n",
       "      <td>0.000109</td>\n",
       "      <td>fluNA</td>\n",
       "      <td>NaN</td>\n",
       "      <td>0</td>\n",
       "      <td>0.000000</td>\n",
       "      <td>False</td>\n",
       "    </tr>\n",
       "    <tr>\n",
       "      <th>9186</th>\n",
       "      <td>TTTGATCTCGCATTGA</td>\n",
       "      <td>True</td>\n",
       "      <td>wt</td>\n",
       "      <td>0.063156</td>\n",
       "      <td>fluNA</td>\n",
       "      <td>NaN</td>\n",
       "      <td>0</td>\n",
       "      <td>0.000000</td>\n",
       "      <td>False</td>\n",
       "    </tr>\n",
       "    <tr>\n",
       "      <th>9187</th>\n",
       "      <td>TTTGGAGAGTTGCCTA</td>\n",
       "      <td>False</td>\n",
       "      <td>none</td>\n",
       "      <td>0.000070</td>\n",
       "      <td>fluNA</td>\n",
       "      <td>NaN</td>\n",
       "      <td>0</td>\n",
       "      <td>0.000000</td>\n",
       "      <td>False</td>\n",
       "    </tr>\n",
       "    <tr>\n",
       "      <th>9188</th>\n",
       "      <td>TTTGGAGGTATCGTTG</td>\n",
       "      <td>True</td>\n",
       "      <td>wt</td>\n",
       "      <td>0.024534</td>\n",
       "      <td>fluNA</td>\n",
       "      <td>ACATCTTATTTACACG</td>\n",
       "      <td>15</td>\n",
       "      <td>0.000230</td>\n",
       "      <td>True</td>\n",
       "    </tr>\n",
       "    <tr>\n",
       "      <th>9189</th>\n",
       "      <td>TTTGTTGAGTGCAGCA</td>\n",
       "      <td>False</td>\n",
       "      <td>none</td>\n",
       "      <td>0.000068</td>\n",
       "      <td>fluNA</td>\n",
       "      <td>NaN</td>\n",
       "      <td>0</td>\n",
       "      <td>0.000000</td>\n",
       "      <td>False</td>\n",
       "    </tr>\n",
       "  </tbody>\n",
       "</table>\n",
       "<p>9190 rows × 9 columns</p>\n",
       "</div>"
      ],
      "text/plain": [
       "          cell_barcode  infected infecting_viral_tag  frac_viral_UMIs   gene  \\\n",
       "0     AAACCCAGTAACAAGT     False                none         0.000048  fluHA   \n",
       "1     AAACCCATCATTGCTT     False                none         0.000051  fluHA   \n",
       "2     AAACGAAAGATGTTGA     False                none         0.000204  fluHA   \n",
       "3     AAACGAAGTACTTCCC      True                both         0.448272  fluHA   \n",
       "4     AAACGAAGTAGACGTG      True                  wt         0.040116  fluHA   \n",
       "...                ...       ...                 ...              ...    ...   \n",
       "9185  TTTGATCTCCCGTTCA     False                none         0.000109  fluNA   \n",
       "9186  TTTGATCTCGCATTGA      True                  wt         0.063156  fluNA   \n",
       "9187  TTTGGAGAGTTGCCTA     False                none         0.000070  fluNA   \n",
       "9188  TTTGGAGGTATCGTTG      True                  wt         0.024534  fluNA   \n",
       "9189  TTTGTTGAGTGCAGCA     False                none         0.000068  fluNA   \n",
       "\n",
       "         viral_barcode  viral_bc_UMIs  frac_viral_bc_UMIs  reject_uninfected  \n",
       "0                  NaN              0            0.000000              False  \n",
       "1                  NaN              0            0.000000              False  \n",
       "2                  NaN              0            0.000000              False  \n",
       "3                  NaN              0            0.000000              False  \n",
       "4     AAGTAAGCGACATGAG             93            0.001731               True  \n",
       "...                ...            ...                 ...                ...  \n",
       "9185               NaN              0            0.000000              False  \n",
       "9186               NaN              0            0.000000              False  \n",
       "9187               NaN              0            0.000000              False  \n",
       "9188  ACATCTTATTTACACG             15            0.000230               True  \n",
       "9189               NaN              0            0.000000              False  \n",
       "\n",
       "[9190 rows x 9 columns]"
      ]
     },
     "metadata": {},
     "output_type": "display_data"
    }
   ],
   "source": [
    "transcriptome_viral_bc_freqs = pd.read_csv(viral_bc_background_freq_csv)\n",
    "assert set(transcriptome_viral_bc_freqs['gene']) == set(barcoded_viral_genes), \\\n",
    "       \"Barcoded genes in barcode counts do not match expectation.\"\n",
    "display(transcriptome_viral_bc_freqs)"
   ]
  },
  {
   "cell_type": "markdown",
   "metadata": {},
   "source": [
    "**Progeny** viral barcode frequencies:\n",
    "\n",
    "*N.b. For now just work with supernatant data. Remove second_infection frequencies.*"
   ]
  },
  {
   "cell_type": "code",
   "execution_count": 7,
   "metadata": {},
   "outputs": [
    {
     "data": {
      "text/html": [
       "<div>\n",
       "<style scoped>\n",
       "    .dataframe tbody tr th:only-of-type {\n",
       "        vertical-align: middle;\n",
       "    }\n",
       "\n",
       "    .dataframe tbody tr th {\n",
       "        vertical-align: top;\n",
       "    }\n",
       "\n",
       "    .dataframe thead th {\n",
       "        text-align: right;\n",
       "    }\n",
       "</style>\n",
       "<table border=\"1\" class=\"dataframe\">\n",
       "  <thead>\n",
       "    <tr style=\"text-align: right;\">\n",
       "      <th></th>\n",
       "      <th>infecting_viral_tag</th>\n",
       "      <th>gene</th>\n",
       "      <th>viral_barcode</th>\n",
       "      <th>freq_progeny</th>\n",
       "    </tr>\n",
       "  </thead>\n",
       "  <tbody>\n",
       "    <tr>\n",
       "      <th>0</th>\n",
       "      <td>syn</td>\n",
       "      <td>fluHA</td>\n",
       "      <td>AAAAAAGCACGAGCAG</td>\n",
       "      <td>2.507618e-07</td>\n",
       "    </tr>\n",
       "    <tr>\n",
       "      <th>1</th>\n",
       "      <td>syn</td>\n",
       "      <td>fluHA</td>\n",
       "      <td>AAAAAATCCTTCAGCA</td>\n",
       "      <td>2.574453e-07</td>\n",
       "    </tr>\n",
       "    <tr>\n",
       "      <th>2</th>\n",
       "      <td>syn</td>\n",
       "      <td>fluHA</td>\n",
       "      <td>AAAAAATGGCGACGCT</td>\n",
       "      <td>2.574453e-07</td>\n",
       "    </tr>\n",
       "    <tr>\n",
       "      <th>3</th>\n",
       "      <td>syn</td>\n",
       "      <td>fluHA</td>\n",
       "      <td>AAAAAATTGGTTTACT</td>\n",
       "      <td>2.574453e-07</td>\n",
       "    </tr>\n",
       "    <tr>\n",
       "      <th>4</th>\n",
       "      <td>syn</td>\n",
       "      <td>fluHA</td>\n",
       "      <td>AAAAACACTCACAAGT</td>\n",
       "      <td>2.574453e-07</td>\n",
       "    </tr>\n",
       "    <tr>\n",
       "      <th>...</th>\n",
       "      <td>...</td>\n",
       "      <td>...</td>\n",
       "      <td>...</td>\n",
       "      <td>...</td>\n",
       "    </tr>\n",
       "    <tr>\n",
       "      <th>61196</th>\n",
       "      <td>wt</td>\n",
       "      <td>fluNA</td>\n",
       "      <td>TTTTTCCCTTACATAT</td>\n",
       "      <td>2.399886e-07</td>\n",
       "    </tr>\n",
       "    <tr>\n",
       "      <th>61197</th>\n",
       "      <td>wt</td>\n",
       "      <td>fluNA</td>\n",
       "      <td>TTTTTCTTACGATCAC</td>\n",
       "      <td>2.399886e-07</td>\n",
       "    </tr>\n",
       "    <tr>\n",
       "      <th>61198</th>\n",
       "      <td>wt</td>\n",
       "      <td>fluNA</td>\n",
       "      <td>TTTTTCTTCGAGATAG</td>\n",
       "      <td>3.062051e-06</td>\n",
       "    </tr>\n",
       "    <tr>\n",
       "      <th>61199</th>\n",
       "      <td>wt</td>\n",
       "      <td>fluNA</td>\n",
       "      <td>TTTTTGGGATCATTGC</td>\n",
       "      <td>1.142142e-06</td>\n",
       "    </tr>\n",
       "    <tr>\n",
       "      <th>61200</th>\n",
       "      <td>wt</td>\n",
       "      <td>fluNA</td>\n",
       "      <td>TTTTTTTACTCAGAAT</td>\n",
       "      <td>4.799773e-07</td>\n",
       "    </tr>\n",
       "  </tbody>\n",
       "</table>\n",
       "<p>61201 rows × 4 columns</p>\n",
       "</div>"
      ],
      "text/plain": [
       "      infecting_viral_tag   gene     viral_barcode  freq_progeny\n",
       "0                     syn  fluHA  AAAAAAGCACGAGCAG  2.507618e-07\n",
       "1                     syn  fluHA  AAAAAATCCTTCAGCA  2.574453e-07\n",
       "2                     syn  fluHA  AAAAAATGGCGACGCT  2.574453e-07\n",
       "3                     syn  fluHA  AAAAAATTGGTTTACT  2.574453e-07\n",
       "4                     syn  fluHA  AAAAACACTCACAAGT  2.574453e-07\n",
       "...                   ...    ...               ...           ...\n",
       "61196                  wt  fluNA  TTTTTCCCTTACATAT  2.399886e-07\n",
       "61197                  wt  fluNA  TTTTTCTTACGATCAC  2.399886e-07\n",
       "61198                  wt  fluNA  TTTTTCTTCGAGATAG  3.062051e-06\n",
       "61199                  wt  fluNA  TTTTTGGGATCATTGC  1.142142e-06\n",
       "61200                  wt  fluNA  TTTTTTTACTCAGAAT  4.799773e-07\n",
       "\n",
       "[61201 rows x 4 columns]"
      ]
     },
     "metadata": {},
     "output_type": "display_data"
    }
   ],
   "source": [
    "progeny_viral_bc_freqs = pd.read_csv(viral_bc_in_progeny_freq_csv)\n",
    "assert set(progeny_viral_bc_freqs['gene']) == set(barcoded_viral_genes), \\\n",
    "       \"Barcoded genes in barcode counts do not match expectation.\"\n",
    "progeny_viral_bc_freqs = (progeny_viral_bc_freqs\n",
    "                          .rename(columns={'barcode': 'viral_barcode',\n",
    "                                           'tag': 'infecting_viral_tag',\n",
    "                                           'mean_freq': 'freq_progeny',\n",
    "                                           'mean_count': 'sup_count'}))\n",
    "progeny_viral_bc_freqs = (progeny_viral_bc_freqs\n",
    "                          .query('source == \"supernatant\"'))\n",
    "progeny_viral_bc_freqs = progeny_viral_bc_freqs.drop(columns = 'source')\n",
    "display(progeny_viral_bc_freqs)"
   ]
  },
  {
   "cell_type": "markdown",
   "metadata": {},
   "source": [
    "Cell-gene matrix:"
   ]
  },
  {
   "cell_type": "code",
   "execution_count": 8,
   "metadata": {},
   "outputs": [
    {
     "name": "stdout",
     "output_type": "stream",
     "text": [
      "Read cell-gene matrix of 3368 cells and 30959 genes\n"
     ]
    }
   ],
   "source": [
    "adata = scanpy.read_mtx(matrix)\n",
    "adata.var = pd.read_csv(cell_barcodes,\n",
    "                        names=['cell_barcode'])\n",
    "adata.obs = pd.read_csv(features,\n",
    "                        sep='\\t',\n",
    "                        names=['ensemble_id', 'gene', 'feature_type'])\n",
    "\n",
    "print(f\"Read cell-gene matrix of {adata.n_vars} cells and {adata.n_obs} genes\")\n",
    "\n",
    "assert set(viral_genes).issubset(set(adata.obs['gene'])), 'lack viral genes'"
   ]
  },
  {
   "cell_type": "markdown",
   "metadata": {},
   "source": [
    "### Cross-check data\n",
    "Use assert statements to ensure that that the number and identity of cell barcodes is identical between data sources and that the infecting viral tag assigned to each cells matches."
   ]
  },
  {
   "cell_type": "code",
   "execution_count": 12,
   "metadata": {},
   "outputs": [],
   "source": [
    "assert all_cells['cell_barcode'].nunique() == \\\n",
    "       transcriptome_viral_bc_freqs['cell_barcode'].nunique() == \\\n",
    "       adata.var['cell_barcode'].nunique(), \\\n",
    "       \"Number of cells discrepancy\"\n",
    "\n",
    "assert set(all_cells['cell_barcode']) == \\\n",
    "       set(transcriptome_viral_bc_freqs['cell_barcode']) == \\\n",
    "       set(adata.var['cell_barcode']), \\\n",
    "       \"Cell barcodes do not match between data sources\"\n",
    "\n",
    "assert all_cells.reset_index(drop=True) \\\n",
    "       .equals((transcriptome_viral_bc_freqs[['cell_barcode',\n",
    "                                              'infected',\n",
    "                                              'infecting_viral_tag']]\n",
    "                .drop_duplicates()\n",
    "                .reset_index(drop=True))), \\\n",
    "       \"Infecting viral tag or status not consistent between data sources\""
   ]
  },
  {
   "cell_type": "markdown",
   "metadata": {},
   "source": [
    "### Plot raw data\n",
    "Plot data from each source without filtering or processing. This is mostly for exploration and transparency."
   ]
  },
  {
   "cell_type": "markdown",
   "metadata": {},
   "source": [
    "#### Viral barcode transcription\n",
    "***Note:*** `NA` values (0 counts) in the transcriptome data are plotted on the far left side of this graph at `1e-8`."
   ]
  },
  {
   "cell_type": "code",
   "execution_count": 20,
   "metadata": {},
   "outputs": [
    {
     "data": {
      "image/png": "[encoded data removed]",
      "text/plain": [
       "<Figure size 600x300 with 2 Axes>"
      ]
     },
     "metadata": {},
     "output_type": "display_data"
    },
    {
     "data": {
      "text/plain": [
       "<ggplot: (8774933433061)>"
      ]
     },
     "metadata": {},
     "output_type": "display_data"
    }
   ],
   "source": [
    "fig = (p9.ggplot((transcriptome_viral_bc_freqs.fillna(1e-8)),\n",
    "                 p9.aes(x='frac_viral_bc_UMIs')) +\n",
    "       p9.geom_histogram(bins=30) +\n",
    "       p9.facet_grid('~gene') +\n",
    "       p9.ggtitle(f'Viral barcode transcription') +\n",
    "       p9.labs(x='fraction of total UMIs in cell') +\n",
    "       p9.theme(figure_size=(6, 3),\n",
    "                plot_title=p9.element_text(size=12),\n",
    "                axis_title=p9.element_text(size=10),\n",
    "                legend_title=p9.element_text(size=10),\n",
    "                legend_title_align='center'))\n",
    "display(fig)"
   ]
  },
  {
   "cell_type": "code",
   "execution_count": null,
   "metadata": {},
   "outputs": [],
   "source": []
  }
 ],
 "metadata": {
  "kernelspec": {
   "display_name": "Python 3",
   "language": "python",
   "name": "python3"
  },
  "language_info": {
   "codemirror_mode": {
    "name": "ipython",
    "version": 3
   },
   "file_extension": ".py",
   "mimetype": "text/x-python",
   "name": "python",
   "nbconvert_exporter": "python",
   "pygments_lexer": "ipython3",
   "version": "3.8.6"
  }
 },
 "nbformat": 4,
 "nbformat_minor": 4
}
