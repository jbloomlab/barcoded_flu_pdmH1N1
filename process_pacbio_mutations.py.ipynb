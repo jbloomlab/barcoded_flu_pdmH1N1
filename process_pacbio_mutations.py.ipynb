{
 "cells": [
  {
   "cell_type": "code",
   "execution_count": 1,
   "metadata": {
    "execution": {
     "iopub.execute_input": "2022-01-19T01:42:34.432207Z",
     "iopub.status.busy": "2022-01-19T01:42:34.431335Z",
     "iopub.status.idle": "2022-01-19T01:42:34.482336Z",
     "shell.execute_reply": "2022-01-19T01:42:34.481276Z"
    },
    "tags": [
     "snakemake-job-properties"
    ]
   },
   "outputs": [],
   "source": [
    "\n",
    "######## snakemake preamble start (automatically inserted, do not edit) ########\n",
    "import sys; sys.path.extend(['/fh/fast/bloom_j/software/miniconda3/envs/barcoded_flu_pdmH1N1/lib/python3.8/site-packages', '/fh/fast/bloom_j/computational_notebooks/dbacsik/2019/flu_pdmH1N1_barcode_hashing/notebooks']); import pickle; snakemake = pickle.loads(b\"\\x80\\x04\\x95\\xcb\\x1d\\x00\\x00\\x00\\x00\\x00\\x00\\x8c\\x10snakemake.script\\x94\\x8c\\tSnakemake\\x94\\x93\\x94)\\x81\\x94}\\x94(\\x8c\\x05input\\x94\\x8c\\x0csnakemake.io\\x94\\x8c\\nInputFiles\\x94\\x93\\x94)\\x81\\x94(\\x8cAresults/pacbio/scProgenyProduction_trial3_mutations_str_ex.csv.gz\\x94\\x8c_results/viral_tags_bcs_in_cells/scProgenyProduction_trial3_cell_barcodes_with_viral_tags.csv.gz\\x94e}\\x94(\\x8c\\x06_names\\x94}\\x94(\\x8c\\x0bmutation_df\\x94K\\x00N\\x86\\x94\\x8c\\x10cell_annotations\\x94K\\x01N\\x86\\x94u\\x8c\\x12_allowed_overrides\\x94]\\x94(\\x8c\\x05index\\x94\\x8c\\x04sort\\x94eh\\x15\\x8c\\tfunctools\\x94\\x8c\\x07partial\\x94\\x93\\x94h\\x06\\x8c\\x19Namedlist._used_attribute\\x94\\x93\\x94\\x85\\x94R\\x94(h\\x1b)}\\x94\\x8c\\x05_name\\x94h\\x15sNt\\x94bh\\x16h\\x19h\\x1b\\x85\\x94R\\x94(h\\x1b)}\\x94h\\x1fh\\x16sNt\\x94bh\\x0fh\\nh\\x11h\\x0bub\\x8c\\x06output\\x94h\\x06\\x8c\\x0bOutputFiles\\x94\\x93\\x94)\\x81\\x94\\x8c>results/pacbio/scProgenyProduction_trial3_UMI_mutations.csv.gz\\x94a}\\x94(h\\r}\\x94\\x8c\\x11UMI_mutations_csv\\x94K\\x00N\\x86\\x94sh\\x13]\\x94(h\\x15h\\x16eh\\x15h\\x19h\\x1b\\x85\\x94R\\x94(h\\x1b)}\\x94h\\x1fh\\x15sNt\\x94bh\\x16h\\x19h\\x1b\\x85\\x94R\\x94(h\\x1b)}\\x94h\\x1fh\\x16sNt\\x94bh,h)ub\\x8c\\x06params\\x94h\\x06\\x8c\\x06Params\\x94\\x93\\x94)\\x81\\x94}\\x94(h\\r}\\x94h\\x13]\\x94(h\\x15h\\x16eh\\x15h\\x19h\\x1b\\x85\\x94R\\x94(h\\x1b)}\\x94h\\x1fh\\x15sNt\\x94bh\\x16h\\x19h\\x1b\\x85\\x94R\\x94(h\\x1b)}\\x94h\\x1fh\\x16sNt\\x94bub\\x8c\\twildcards\\x94h\\x06\\x8c\\tWildcards\\x94\\x93\\x94)\\x81\\x94\\x8c\\x1ascProgenyProduction_trial3\\x94a}\\x94(h\\r}\\x94\\x8c\\x04expt\\x94K\\x00N\\x86\\x94sh\\x13]\\x94(h\\x15h\\x16eh\\x15h\\x19h\\x1b\\x85\\x94R\\x94(h\\x1b)}\\x94h\\x1fh\\x15sNt\\x94bh\\x16h\\x19h\\x1b\\x85\\x94R\\x94(h\\x1b)}\\x94h\\x1fh\\x16sNt\\x94b\\x8c\\x04expt\\x94hJub\\x8c\\x07threads\\x94K\\x01\\x8c\\tresources\\x94h\\x06\\x8c\\tResources\\x94\\x93\\x94)\\x81\\x94(K\\x01K\\x01e}\\x94(h\\r}\\x94(\\x8c\\x06_cores\\x94K\\x00N\\x86\\x94\\x8c\\x06_nodes\\x94K\\x01N\\x86\\x94uh\\x13]\\x94(h\\x15h\\x16eh\\x15h\\x19h\\x1b\\x85\\x94R\\x94(h\\x1b)}\\x94h\\x1fh\\x15sNt\\x94bh\\x16h\\x19h\\x1b\\x85\\x94R\\x94(h\\x1b)}\\x94h\\x1fh\\x16sNt\\x94bh`K\\x01hbK\\x01ub\\x8c\\x03log\\x94h\\x06\\x8c\\x03Log\\x94\\x93\\x94)\\x81\\x94\\x8cFresults/logs/process_pacbio_mutations_scProgenyProduction_trial3.ipynb\\x94a}\\x94(h\\r}\\x94\\x8c\\x08notebook\\x94K\\x00N\\x86\\x94sh\\x13]\\x94(h\\x15h\\x16eh\\x15h\\x19h\\x1b\\x85\\x94R\\x94(h\\x1b)}\\x94h\\x1fh\\x15sNt\\x94bh\\x16h\\x19h\\x1b\\x85\\x94R\\x94(h\\x1b)}\\x94h\\x1fh\\x16sNt\\x94bhthqub\\x8c\\x06config\\x94}\\x94(\\x8c\\x08max_cpus\\x94K\\x10\\x8c\\x07log_dir\\x94\\x8c\\x0cresults/logs\\x94\\x8c\\x0cfastq10x_dir\\x94\\x8c\\x10results/fastq10x\\x94\\x8c\\npacbio_dir\\x94\\x8c\\x0eresults/pacbio\\x94\\x8c\\x0emkfastq10x_dir\\x94\\x8c\\x1fresults/fastq10x/mkfastq_output\\x94\\x8c\\ngenome_dir\\x94\\x8c\\x0fresults/genomes\\x94\\x8c\\trefgenome\\x94\\x8c\\x19results/genomes/refgenome\\x94\\x8c\\x14aligned_fastq10x_dir\\x94\\x8c\\x18results/aligned_fastq10x\\x94\\x8c\\x12viral_fastq10x_dir\\x94\\x8c\\x16results/viral_fastq10x\\x94\\x8c\\x1bviral_tags_bcs_in_cells_dir\\x94\\x8c\\x1fresults/viral_tags_bcs_in_cells\\x94\\x8c\\x11viral_progeny_dir\\x94\\x8c\\x15results/viral_progeny\\x94\\x8c\\x13align_and_parse_dir\\x94\\x8c#results/pacbio/CA09_align_and_parse\\x94\\x8c\\x0fcell_genome_ftp\\x94\\x8cmftp://ftp.ensembl.org/pub/release-98/fasta/canis_familiaris/dna/Canis_familiaris.CanFam3.1.dna.toplevel.fa.gz\\x94\\x8c\\x0ccell_gtf_ftp\\x94\\x8c^ftp://ftp.ensembl.org/pub/release-98/gtf/canis_familiaris/Canis_familiaris.CanFam3.1.98.gtf.gz\\x94\\x8c\\x0cviral_genome\\x94\\x8c!data/flu_sequences/flu-CA09.fasta\\x94\\x8c\\tviral_gtf\\x94\\x8c\\x1fdata/flu_sequences/flu-CA09.gtf\\x94\\x8c\\rviral_genbank\\x94\\x8c\\x1edata/flu_sequences/flu-CA09.gb\\x94\\x8c\\x14viral_tag_identities\\x94\\x8c+data/flu_sequences/flu-CA09_viral_tags.yaml\\x94\\x8c\\x0fviral_amplicons\\x94\\x8c.data/flu_sequences/pacbio_amplicons/fluCA09.gb\\x94\\x8c\\x11amplicon_features\\x94\\x8c9data/flu_sequences/pacbio_amplicons/fluCA09_features.yaml\\x94\\x8c\\x1eamplicon_linearization_primers\\x94\\x8c=data/flu_sequences/pacbio_amplicons/linearization_primers.tsv\\x94\\x8c\\x15amplicon_to_reference\\x94\\x8c=data/flu_sequences/pacbio_amplicons/amplicon_to_reference.csv\\x94\\x8c\\x0escoreGapNoncan\\x94J\\xfc\\xff\\xff\\xff\\x8c\\x0cscoreGapGCAG\\x94J\\xfc\\xff\\xff\\xff\\x8c\\x0cscoreGapATAC\\x94J\\xfc\\xff\\xff\\xff\\x8c\\x14cb_whitelist_10x_url\\x94\\x8ckhttps://github.com/10XGenomics/cellranger/raw/master/lib/python/cellranger/barcodes/3M-february-2018.txt.gz\\x94\\x8c\\x10cb_whitelist_10x\\x94\\x8c-results/aligned_fastq10x/cb_whitelist_10x.txt\\x94\\x8c\\ncb_len_10x\\x94K\\x10\\x8c\\x0bumi_len_10x\\x94K\\x0c\\x8c\\x14total_UMI_deviations\\x94G@\\x04\\x00\\x00\\x00\\x00\\x00\\x00\\x8c\\x13infection_threshold\\x94G?\\x84z\\xe1G\\xae\\x14{\\x8c\\rviral_tag_fdr\\x94G?\\x1a6\\xe2\\xeb\\x1cC-\\x8c\\x1dviral_barcode_upstream_length\\x94K\\x1c\\x8c\\x16viral_barcode_mismatch\\x94K\\x00\\x8c\\x12viral_barcode_minq\\x94K\\x1e\\x8c\\x17progeny_detection_limit\\x94\\x8c\\x041e-5\\x94\\x8c\\x0cviral_bc_fdr\\x94G?\\x1a6\\xe2\\xeb\\x1cC-\\x8c\\x0eccs_min_length\\x94K2\\x8c\\x0eccs_max_length\\x94M\\x88\\x13\\x8c\\nccs_min_rq\\x94G?\\xef\\xf7\\xce\\xd9\\x16\\x87+\\x8c\\x0bexperiments\\x94}\\x94\\x8c\\x1ascProgenyProduction_trial3\\x94}\\x94(\\x8c\\x0bdescription\\x94X\\x1b\\x01\\x00\\x00Single-cell transcriptomics performed on even lower MOI-infected sample. Innoculum volumes based on `scProgenyProduction_trial1` and `scProgenyProduction_trial2` data. Loaded all collected cells from two 24-well wells, each infected with either wildtype or dblySn viral tag variants.\\x94\\x8c\\tlab_notes\\x94\\x8c0https://benchling.com/s/etr-N4laiIAy3AUePJdig7wR\\x94\\x8c\\rexpect_ncells\\x94M\\x10'\\x8c\\x0ftranscriptomics\\x94}\\x94(\\x8c\\x08datetime\\x94\\x8c\\x04date\\x94\\x93\\x94C\\x04\\x07\\xe5\\x03\\x0c\\x94\\x85\\x94R\\x94}\\x94(\\x8c\\x05index\\x94\\x8c\\x08SI-TT-A3\\x94\\x8c\\nbcl_folder\\x94\\x8c_/shared/ngs/illumina/bloom_lab/210312_D00300_1192_BHKHNYBCX3/raw/210312_D00300_1192_BHKHNYBCX3/\\x94\\x8c\\x04lane\\x94K\\x01\\x8c\\x10index_sequencing\\x94\\x8c\\x06single\\x94uh\\xceC\\x04\\x07\\xe5\\x04\\t\\x94\\x85\\x94R\\x94}\\x94(\\x8c\\x05index\\x94\\x8c\\x08SI-TT-A3\\x94\\x8c\\nbcl_folder\\x94\\x8c_/shared/ngs/illumina/bloom_lab/210409_D00300_1210_BHKC7KBCX3/raw/210409_D00300_1210_BHKC7KBCX3/\\x94\\x8c\\x04lane\\x94\\x8c\\x01*\\x94\\x8c\\x10index_sequencing\\x94\\x8c\\x06single\\x94uh\\xceC\\x04\\x07\\xe5\\x08\\x19\\x94\\x85\\x94R\\x94}\\x94(\\x8c\\x05index\\x94\\x8c\\x08SI-TT-A3\\x94\\x8c\\nbcl_folder\\x94\\x8c_/shared/ngs/illumina/bloom_lab/210825_D00300_1310_BHMH5TBCX3/raw/210825_D00300_1310_BHMH5TBCX3/\\x94\\x8c\\x04lane\\x94h\\xe3\\x8c\\x10index_sequencing\\x94\\x8c\\x04none\\x94uh\\xceC\\x04\\x07\\xe5\\t\\x0f\\x94\\x85\\x94R\\x94}\\x94(\\x8c\\x05index\\x94\\x8c\\x08SI-TT-A3\\x94\\x8c\\nbcl_folder\\x94\\x8cY/shared/ngs/illumina/bloom_lab/210915_VH00699_2_AAAMCL7M5/raw/210915_VH00699_2_AAAMCL7M5/\\x94\\x8c\\x04lane\\x94h\\xe3\\x8c\\x10index_sequencing\\x94\\x8c\\x04none\\x94uu\\x8c\\x17pacbio_viral_sequencing\\x94}\\x94\\x8c\\x1c2021-08-05_all_segments_run1\\x94\\x8cp/fh/fast/bloom_j/SR/ngs/pacbio/210730_SequelIIe/r64272e_20210730_182729/1_A01/m64272e_210730_193026.subreads.bam\\x94s\\x8c\\x0eviral_barcodes\\x94}\\x94(\\x8c\\x0bsupernatant\\x94}\\x94(\\x8c\\x02wt\\x94}\\x94(\\x8c\\x05fluHA\\x94}\\x94(\\x8c\\x0breplicate_1\\x94}\\x94h\\xceC\\x04\\x07\\xe5\\x04\\x08\\x94\\x85\\x94R\\x94\\x8c\\x90/shared/ngs/illumina/bloom_lab/210408_M04866_0464_000000000-JL5M4_new-demux/Data/Intensities/BaseCalls/WT-sup-fluHA-rep1_S9_L001_R1_001.fastq.gz\\x94s\\x8c\\x0breplicate_2\\x94}\\x94h\\xceC\\x04\\x07\\xe5\\x04\\x08\\x94\\x85\\x94R\\x94\\x8c\\x91/shared/ngs/illumina/bloom_lab/210408_M04866_0464_000000000-JL5M4_new-demux/Data/Intensities/BaseCalls/WT-sup-fluHA-rep2_S13_L001_R1_001.fastq.gz\\x94su\\x8c\\x05fluNA\\x94}\\x94(\\x8c\\x0breplicate_1\\x94}\\x94h\\xceC\\x04\\x07\\xe5\\x04\\x08\\x94\\x85\\x94R\\x94\\x8c\\x90/shared/ngs/illumina/bloom_lab/210408_M04866_0464_000000000-JL5M4_new-demux/Data/Intensities/BaseCalls/WT-sup-fluNA-rep1_S1_L001_R1_001.fastq.gz\\x94s\\x8c\\x0breplicate_2\\x94}\\x94h\\xceC\\x04\\x07\\xe5\\x05\\x11\\x94\\x85\\x94R\\x94\\x8c\\x86/shared/ngs/illumina/bloom_lab/210517_M03100_0681_000000000-JL4TM/Data/Intensities/BaseCalls/WT-sup-fluNA-rep2_S1_L001_R1_001.fastq.gz\\x94suu\\x8c\\x03syn\\x94}\\x94(\\x8c\\x05fluHA\\x94}\\x94(\\x8c\\x0breplicate_1\\x94}\\x94h\\xceC\\x04\\x07\\xe5\\x04\\x08\\x94\\x85\\x94R\\x94\\x8c\\x95/shared/ngs/illumina/bloom_lab/210408_M04866_0464_000000000-JL5M4_new-demux/Data/Intensities/BaseCalls/dblSyn-sup-fluHA-rep1_S10_L001_R1_001.fastq.gz\\x94s\\x8c\\x0breplicate_2\\x94}\\x94h\\xceC\\x04\\x07\\xe5\\x04\\x08\\x94\\x85\\x94R\\x94\\x8c\\x95/shared/ngs/illumina/bloom_lab/210408_M04866_0464_000000000-JL5M4_new-demux/Data/Intensities/BaseCalls/dblSyn-sup-fluHA-rep2_S14_L001_R1_001.fastq.gz\\x94su\\x8c\\x05fluNA\\x94}\\x94(\\x8c\\x0breplicate_1\\x94}\\x94h\\xceC\\x04\\x07\\xe5\\x04\\x08\\x94\\x85\\x94R\\x94\\x8c\\x94/shared/ngs/illumina/bloom_lab/210408_M04866_0464_000000000-JL5M4_new-demux/Data/Intensities/BaseCalls/dblSyn-sup-fluNA-rep1_S2_L001_R1_001.fastq.gz\\x94s\\x8c\\x0breplicate_2\\x94}\\x94h\\xceC\\x04\\x07\\xe5\\x04\\x08\\x94\\x85\\x94R\\x94\\x8c\\x94/shared/ngs/illumina/bloom_lab/210408_M04866_0464_000000000-JL5M4_new-demux/Data/Intensities/BaseCalls/dblSyn-sup-fluNA-rep2_S6_L001_R1_001.fastq.gz\\x94suuu\\x8c\\x10second_infection\\x94}\\x94(\\x8c\\x02wt\\x94}\\x94(\\x8c\\x05fluHA\\x94}\\x94(\\x8c\\x0breplicate_1\\x94}\\x94h\\xceC\\x04\\x07\\xe5\\x05\\x11\\x94\\x85\\x94R\\x94\\x8c\\x85/shared/ngs/illumina/bloom_lab/210517_M03100_0681_000000000-JL4TM/Data/Intensities/BaseCalls/WT-SI-fluHA-rep1_S2_L001_R1_001.fastq.gz\\x94s\\x8c\\x0breplicate_2\\x94}\\x94h\\xceC\\x04\\x07\\xe5\\x05\\x11\\x94\\x85\\x94R\\x94\\x8c\\x85/shared/ngs/illumina/bloom_lab/210517_M03100_0681_000000000-JL4TM/Data/Intensities/BaseCalls/WT-SI-fluHA-rep2_S3_L001_R1_001.fastq.gz\\x94su\\x8c\\x05fluNA\\x94}\\x94(\\x8c\\x0breplicate_1\\x94}\\x94h\\xceC\\x04\\x07\\xe5\\x05\\x11\\x94\\x85\\x94R\\x94\\x8c\\x86/shared/ngs/illumina/bloom_lab/210517_M03100_0681_000000000-JL4TM/Data/Intensities/BaseCalls/WT-SI-fluNA-rep1_S11_L001_R1_001.fastq.gz\\x94s\\x8c\\x0breplicate_2\\x94}\\x94h\\xceC\\x04\\x07\\xe5\\x05\\x11\\x94\\x85\\x94R\\x94\\x8c\\x86/shared/ngs/illumina/bloom_lab/210517_M03100_0681_000000000-JL4TM/Data/Intensities/BaseCalls/WT-SI-fluNA-rep2_S12_L001_R1_001.fastq.gz\\x94suu\\x8c\\x03syn\\x94}\\x94(\\x8c\\x05fluHA\\x94}\\x94(\\x8c\\x0breplicate_1\\x94}\\x94h\\xceC\\x04\\x07\\xe5\\x05\\x11\\x94\\x85\\x94R\\x94\\x8c\\x89/shared/ngs/illumina/bloom_lab/210517_M03100_0681_000000000-JL4TM/Data/Intensities/BaseCalls/dblSyn-SI-fluHA-rep1_S4_L001_R1_001.fastq.gz\\x94s\\x8c\\x0breplicate_2\\x94}\\x94h\\xceC\\x04\\x07\\xe5\\x05\\x11\\x94\\x85\\x94R\\x94\\x8c\\x89/shared/ngs/illumina/bloom_lab/210517_M03100_0681_000000000-JL4TM/Data/Intensities/BaseCalls/dblSyn-SI-fluHA-rep2_S5_L001_R1_001.fastq.gz\\x94su\\x8c\\x05fluNA\\x94}\\x94(\\x8c\\x0breplicate_1\\x94}\\x94h\\xceC\\x04\\x07\\xe5\\x05\\x11\\x94\\x85\\x94R\\x94\\x8c\\x8a/shared/ngs/illumina/bloom_lab/210517_M03100_0681_000000000-JL4TM/Data/Intensities/BaseCalls/dblSyn-SI-fluNA-rep1_S13_L001_R1_001.fastq.gz\\x94s\\x8c\\x0breplicate_2\\x94}\\x94h\\xceC\\x04\\x07\\xe5\\x05\\x11\\x94\\x85\\x94R\\x94\\x8c\\x8a/shared/ngs/illumina/bloom_lab/210517_M03100_0681_000000000-JL4TM/Data/Intensities/BaseCalls/dblSyn-SI-fluNA-rep2_S14_L001_R1_001.fastq.gz\\x94suuuuusu\\x8c\\x04rule\\x94\\x8c\\x18process_pacbio_mutations\\x94\\x8c\\x0fbench_iteration\\x94N\\x8c\\tscriptdir\\x94\\x8c[/fh/fast/bloom_j/computational_notebooks/dbacsik/2019/flu_pdmH1N1_barcode_hashing/notebooks\\x94ub.\"); from snakemake.logging import logger; logger.printshellcmds = False; import os; os.chdir('/fh/fast/bloom_j/computational_notebooks/dbacsik/2019/flu_pdmH1N1_barcode_hashing');\n",
    "######## snakemake preamble end #########\n"
   ]
  },
  {
   "cell_type": "markdown",
   "metadata": {},
   "source": [
    "# Process pacbio mutations"
   ]
  },
  {
   "cell_type": "markdown",
   "metadata": {},
   "source": [
    "This notebook groups PacBio data by cell_barcode, gene, and UMI and plots the number of CCS per cell_barcode-gene-UMI. It then deduplicates mutations in the same CCS and combine adjacent indels. Finally, it exports a processed CSV with the following columns:\n",
    "* cell_barcode\n",
    "* gene\n",
    "* UMI\n",
    "* mutations\n",
    "* query_name (PacBio CCS ID)"
   ]
  },
  {
   "cell_type": "code",
   "execution_count": 2,
   "metadata": {
    "execution": {
     "iopub.execute_input": "2022-01-19T01:42:34.487652Z",
     "iopub.status.busy": "2022-01-19T01:42:34.486908Z",
     "iopub.status.idle": "2022-01-19T01:42:37.821549Z",
     "shell.execute_reply": "2022-01-19T01:42:37.822226Z"
    }
   },
   "outputs": [],
   "source": [
    "from Bio.Seq import Seq\n",
    "\n",
    "import alignparse.ccs\n",
    "import alignparse.consensus\n",
    "import alignparse.utils\n",
    "\n",
    "import numpy as np\n",
    "\n",
    "import pandas as pd\n",
    "\n",
    "import plotnine as p9"
   ]
  },
  {
   "cell_type": "code",
   "execution_count": 3,
   "metadata": {
    "execution": {
     "iopub.execute_input": "2022-01-19T01:42:37.826978Z",
     "iopub.status.busy": "2022-01-19T01:42:37.826424Z",
     "iopub.status.idle": "2022-01-19T01:42:37.829064Z",
     "shell.execute_reply": "2022-01-19T01:42:37.828506Z"
    }
   },
   "outputs": [],
   "source": [
    "mutation_df = snakemake.input.mutation_df\n",
    "cell_annotations_csv = snakemake.input.cell_annotations\n",
    "UMI_mutations_csv = snakemake.output.UMI_mutations_csv"
   ]
  },
  {
   "cell_type": "code",
   "execution_count": 4,
   "metadata": {
    "execution": {
     "iopub.execute_input": "2022-01-19T01:42:37.834108Z",
     "iopub.status.busy": "2022-01-19T01:42:37.832910Z",
     "iopub.status.idle": "2022-01-19T01:42:51.475418Z",
     "shell.execute_reply": "2022-01-19T01:42:51.474353Z"
    }
   },
   "outputs": [],
   "source": [
    "mutations = pd.read_csv(mutation_df, compression='gzip', low_memory=False)\n",
    "cell_barcodes = pd.read_csv(cell_annotations_csv, compression='gzip', low_memory=False)"
   ]
  },
  {
   "cell_type": "markdown",
   "metadata": {},
   "source": [
    "I'm removing mutations in 3' termini becasue they are protein noncoding and mostly are due to poly-d(T) primer misaliggnment to poly(A) tail."
   ]
  },
  {
   "cell_type": "code",
   "execution_count": 5,
   "metadata": {
    "execution": {
     "iopub.execute_input": "2022-01-19T01:42:51.481796Z",
     "iopub.status.busy": "2022-01-19T01:42:51.480838Z",
     "iopub.status.idle": "2022-01-19T01:43:05.124098Z",
     "shell.execute_reply": "2022-01-19T01:43:05.123654Z"
    }
   },
   "outputs": [],
   "source": [
    "# create column that removed termini3 mutations\n",
    "mutations['all_mutations_orf_numbered_noT3'] = (\n",
    "    mutations\n",
    "    .apply(lambda row: str(row['all_mutations_orf_numbered'])\n",
    "           .replace(str(row['termini3_mutations_orf_numbered']), ''),\n",
    "           axis=1)\n",
    ")"
   ]
  },
  {
   "cell_type": "code",
   "execution_count": 6,
   "metadata": {
    "execution": {
     "iopub.execute_input": "2022-01-19T01:43:06.127289Z",
     "iopub.status.busy": "2022-01-19T01:43:05.538513Z",
     "iopub.status.idle": "2022-01-19T01:43:06.885426Z",
     "shell.execute_reply": "2022-01-19T01:43:06.886408Z"
    }
   },
   "outputs": [],
   "source": [
    "filter_col = [col for col in mutations\n",
    "              if col.startswith('variant_tag')]\n",
    "\n",
    "mutations = mutations.drop(columns=filter_col)\n",
    "mutations = mutations.drop(columns=['name'])"
   ]
  },
  {
   "cell_type": "code",
   "execution_count": 7,
   "metadata": {
    "execution": {
     "iopub.execute_input": "2022-01-19T01:43:06.903726Z",
     "iopub.status.busy": "2022-01-19T01:43:06.902402Z",
     "iopub.status.idle": "2022-01-19T01:43:06.904475Z",
     "shell.execute_reply": "2022-01-19T01:43:06.905310Z"
    }
   },
   "outputs": [],
   "source": [
    "col_one_list = mutations['cellbarcode_sequence'].tolist()"
   ]
  },
  {
   "cell_type": "code",
   "execution_count": 8,
   "metadata": {
    "execution": {
     "iopub.execute_input": "2022-01-19T01:43:06.983366Z",
     "iopub.status.busy": "2022-01-19T01:43:06.946928Z",
     "iopub.status.idle": "2022-01-19T01:43:09.656396Z",
     "shell.execute_reply": "2022-01-19T01:43:09.657405Z"
    }
   },
   "outputs": [],
   "source": [
    "barcode_list = []\n",
    "for barcode in col_one_list:\n",
    "    seq = Seq(barcode)\n",
    "    rv_barcode = seq.reverse_complement()\n",
    "    rv_barcode = str(rv_barcode)\n",
    "    barcode_list.append(rv_barcode)\n",
    "barcode_list\n",
    "mutations['cellbarcode_rv'] = (\n",
    "    pd.DataFrame(barcode_list, columns=['cellbarcode_rv'])\n",
    ")"
   ]
  },
  {
   "cell_type": "code",
   "execution_count": 9,
   "metadata": {
    "execution": {
     "iopub.execute_input": "2022-01-19T01:43:09.765454Z",
     "iopub.status.busy": "2022-01-19T01:43:09.764437Z",
     "iopub.status.idle": "2022-01-19T01:43:14.225979Z",
     "shell.execute_reply": "2022-01-19T01:43:14.225511Z"
    }
   },
   "outputs": [],
   "source": [
    "df_merged = pd.merge(mutations, cell_barcodes,\n",
    "                     how='left', left_on=['cellbarcode_rv'],\n",
    "                     right_on=['cell_barcode'])"
   ]
  },
  {
   "cell_type": "markdown",
   "metadata": {},
   "source": [
    "We only want to look at CCSs that don't have strandexchange issues, so we filter out CCSs with chimeric tags."
   ]
  },
  {
   "cell_type": "code",
   "execution_count": 10,
   "metadata": {
    "execution": {
     "iopub.execute_input": "2022-01-19T01:43:14.289553Z",
     "iopub.status.busy": "2022-01-19T01:43:14.288685Z",
     "iopub.status.idle": "2022-01-19T01:43:16.891588Z",
     "shell.execute_reply": "2022-01-19T01:43:16.893154Z"
    }
   },
   "outputs": [],
   "source": [
    "df_merged = df_merged.loc[df_merged['tag_status'] != 'chimeric tags']"
   ]
  },
  {
   "cell_type": "markdown",
   "metadata": {},
   "source": [
    "## CCSs in infected and uninfected cells"
   ]
  },
  {
   "cell_type": "code",
   "execution_count": 11,
   "metadata": {
    "execution": {
     "iopub.execute_input": "2022-01-19T01:43:16.960872Z",
     "iopub.status.busy": "2022-01-19T01:43:16.959958Z",
     "iopub.status.idle": "2022-01-19T01:43:17.029261Z",
     "shell.execute_reply": "2022-01-19T01:43:17.029883Z"
    }
   },
   "outputs": [
    {
     "name": "stdout",
     "output_type": "stream",
     "text": [
      "How many CCSs are called in infected vs uninfected cells:\n"
     ]
    },
    {
     "data": {
      "text/html": [
       "<div>\n",
       "<style scoped>\n",
       "    .dataframe tbody tr th:only-of-type {\n",
       "        vertical-align: middle;\n",
       "    }\n",
       "\n",
       "    .dataframe tbody tr th {\n",
       "        vertical-align: top;\n",
       "    }\n",
       "\n",
       "    .dataframe thead th {\n",
       "        text-align: right;\n",
       "    }\n",
       "</style>\n",
       "<table border=\"1\" class=\"dataframe\">\n",
       "  <thead>\n",
       "    <tr style=\"text-align: right;\">\n",
       "      <th></th>\n",
       "      <th>infected</th>\n",
       "    </tr>\n",
       "    <tr>\n",
       "      <th>infected</th>\n",
       "      <th></th>\n",
       "    </tr>\n",
       "  </thead>\n",
       "  <tbody>\n",
       "    <tr>\n",
       "      <th>ambiguous</th>\n",
       "      <td>14607</td>\n",
       "    </tr>\n",
       "    <tr>\n",
       "      <th>infected</th>\n",
       "      <td>1179478</td>\n",
       "    </tr>\n",
       "    <tr>\n",
       "      <th>uninfected</th>\n",
       "      <td>16723</td>\n",
       "    </tr>\n",
       "  </tbody>\n",
       "</table>\n",
       "</div>"
      ],
      "text/plain": [
       "            infected\n",
       "infected            \n",
       "ambiguous      14607\n",
       "infected     1179478\n",
       "uninfected     16723"
      ]
     },
     "execution_count": 1,
     "metadata": {},
     "output_type": "execute_result"
    }
   ],
   "source": [
    "print('How many CCSs are called in infected vs uninfected cells:')\n",
    "df_merged.groupby(['infected']).agg({'infected': 'count'})"
   ]
  },
  {
   "cell_type": "markdown",
   "metadata": {},
   "source": [
    "### CCSs in uninfected cells"
   ]
  },
  {
   "cell_type": "code",
   "execution_count": 12,
   "metadata": {
    "execution": {
     "iopub.execute_input": "2022-01-19T01:43:17.091912Z",
     "iopub.status.busy": "2022-01-19T01:43:17.091379Z",
     "iopub.status.idle": "2022-01-19T01:43:17.144708Z",
     "shell.execute_reply": "2022-01-19T01:43:17.143950Z"
    }
   },
   "outputs": [],
   "source": [
    "uninfected = df_merged.loc[df_merged['infected'] == 'uninfected']\n",
    "uninfected_barcode_count = (\n",
    "                            uninfected\n",
    "                            .groupby(['cell_barcode'])\n",
    "                            .agg({'cell_barcode': 'count'})\n",
    ")\n",
    "uninfected_barcode_count.columns = ['count']"
   ]
  },
  {
   "cell_type": "code",
   "execution_count": 13,
   "metadata": {
    "execution": {
     "iopub.execute_input": "2022-01-19T01:43:17.162368Z",
     "iopub.status.busy": "2022-01-19T01:43:17.161549Z",
     "iopub.status.idle": "2022-01-19T01:43:17.776987Z",
     "shell.execute_reply": "2022-01-19T01:43:17.777667Z"
    }
   },
   "outputs": [
    {
     "name": "stdout",
     "output_type": "stream",
     "text": [
      "In total we find 2572 unique barcodes that are counted as uninfected based on illumina sequencing \n",
      "This is how CCSs are distributed in uninfected cells:\n"
     ]
    },
    {
     "data": {
      "image/png": "[encoded data removed]",
      "text/plain": [
       "<Figure size 640x480 with 1 Axes>"
      ]
     },
     "metadata": {},
     "output_type": "display_data"
    }
   ],
   "source": [
    "p = (\n",
    "    p9.ggplot(uninfected_barcode_count,\n",
    "              p9.aes(x='count'))\n",
    "    + p9.geom_histogram(bins=80)\n",
    "    + p9.theme(axis_text_x=p9.element_text(angle=90),\n",
    "               panel_grid_major_x=p9.element_blank()\n",
    "               )\n",
    "    + p9.theme_bw()\n",
    "    + p9.xlab(\"CCS count\")\n",
    "    + p9.ylab(\"n cell barcodes\")\n",
    ")\n",
    "_ = p.draw()\n",
    "print('In total we find', len(uninfected_barcode_count.index),\n",
    "      'unique barcodes that are counted',\n",
    "      'as uninfected based on illumina sequencing ')\n",
    "print('This is how CCSs are distributed in uninfected cells:')"
   ]
  },
  {
   "cell_type": "markdown",
   "metadata": {},
   "source": [
    "### CCSs in ambiguous cells"
   ]
  },
  {
   "cell_type": "code",
   "execution_count": 14,
   "metadata": {
    "execution": {
     "iopub.execute_input": "2022-01-19T01:43:17.849247Z",
     "iopub.status.busy": "2022-01-19T01:43:17.848376Z",
     "iopub.status.idle": "2022-01-19T01:43:17.894817Z",
     "shell.execute_reply": "2022-01-19T01:43:17.895742Z"
    }
   },
   "outputs": [],
   "source": [
    "ambiguous = df_merged.loc[df_merged['infected'] == 'ambiguous']\n",
    "ambiguous_barcode_count = (\n",
    "                            ambiguous\n",
    "                            .groupby(['cell_barcode'])\n",
    "                            .agg({'cell_barcode': 'count'})\n",
    ")\n",
    "ambiguous_barcode_count.columns = ['count']"
   ]
  },
  {
   "cell_type": "code",
   "execution_count": 15,
   "metadata": {
    "execution": {
     "iopub.execute_input": "2022-01-19T01:43:17.949085Z",
     "iopub.status.busy": "2022-01-19T01:43:17.923296Z",
     "iopub.status.idle": "2022-01-19T01:43:18.324459Z",
     "shell.execute_reply": "2022-01-19T01:43:18.325413Z"
    }
   },
   "outputs": [
    {
     "name": "stdout",
     "output_type": "stream",
     "text": [
      "In total we find 87 unique barcodes that are counted as ambiguous based on illumina sequencing \n",
      "This is how CCSs are distributed in ambiguous cells:\n"
     ]
    },
    {
     "data": {
      "image/png": "[encoded data removed]",
      "text/plain": [
       "<Figure size 640x480 with 1 Axes>"
      ]
     },
     "metadata": {},
     "output_type": "display_data"
    }
   ],
   "source": [
    "p = (\n",
    "    p9.ggplot(ambiguous_barcode_count,\n",
    "              p9.aes(x='count'))\n",
    "    + p9.geom_histogram(bins=80)\n",
    "    + p9.theme(axis_text_x=p9.element_text(angle=90),\n",
    "               panel_grid_major_x=p9.element_blank()\n",
    "               )\n",
    "    + p9.theme_bw()\n",
    "    + p9.xlab(\"CCS count\")\n",
    "    + p9.ylab(\"n cell barcodes\")\n",
    ")\n",
    "_ = p.draw()\n",
    "print('In total we find', len(ambiguous_barcode_count.index),\n",
    "      'unique barcodes that are counted',\n",
    "      'as ambiguous based on illumina sequencing ')\n",
    "print('This is how CCSs are distributed in ambiguous cells:')"
   ]
  },
  {
   "cell_type": "markdown",
   "metadata": {},
   "source": [
    "### CCSs in infected cells"
   ]
  },
  {
   "cell_type": "code",
   "execution_count": 16,
   "metadata": {
    "execution": {
     "iopub.execute_input": "2022-01-19T01:43:18.394216Z",
     "iopub.status.busy": "2022-01-19T01:43:18.393186Z",
     "iopub.status.idle": "2022-01-19T01:43:18.952234Z",
     "shell.execute_reply": "2022-01-19T01:43:18.951302Z"
    }
   },
   "outputs": [],
   "source": [
    "infected = df_merged.loc[df_merged['infected'] == 'infected']\n",
    "\n",
    "infected_barcode_count = (\n",
    "                          infected\n",
    "                          .groupby(['cell_barcode'])\n",
    "                          .agg({'cell_barcode': 'count'})\n",
    ")\n",
    "infected_barcode_count = (\n",
    "                          infected_barcode_count\n",
    "                          .rename(columns={'cell_barcode': 'count'})\n",
    ")"
   ]
  },
  {
   "cell_type": "code",
   "execution_count": 17,
   "metadata": {
    "execution": {
     "iopub.execute_input": "2022-01-19T01:43:18.977309Z",
     "iopub.status.busy": "2022-01-19T01:43:18.976362Z",
     "iopub.status.idle": "2022-01-19T01:43:19.396644Z",
     "shell.execute_reply": "2022-01-19T01:43:19.395837Z"
    }
   },
   "outputs": [
    {
     "name": "stdout",
     "output_type": "stream",
     "text": [
      "In total we find 410 unique infected barcodes\n",
      "This is how CCSs are distributed per cell barcode:\n"
     ]
    },
    {
     "data": {
      "image/png": "[encoded data removed]",
      "text/plain": [
       "<Figure size 640x480 with 1 Axes>"
      ]
     },
     "metadata": {},
     "output_type": "display_data"
    }
   ],
   "source": [
    "p = (\n",
    "    p9.ggplot(infected_barcode_count,\n",
    "              p9.aes(x='count'))\n",
    "    + p9.geom_histogram(bins=100)\n",
    "    + p9.theme(axis_text_x=p9.element_text(angle=90),\n",
    "               panel_grid_major_x=p9.element_blank()\n",
    "               )\n",
    "    + p9.theme_bw()\n",
    "    + p9.xlab(\"CCS count\")\n",
    "    + p9.ylab(\"n cell barcodes\")\n",
    ")\n",
    "_ = p.draw()\n",
    "\n",
    "print('In total we find', len(infected_barcode_count.index),\n",
    "      'unique infected barcodes')\n",
    "print('This is how CCSs are distributed per cell barcode:')"
   ]
  },
  {
   "cell_type": "markdown",
   "metadata": {},
   "source": [
    "## UMI counts"
   ]
  },
  {
   "cell_type": "markdown",
   "metadata": {},
   "source": [
    "Here we count the number of CCS belonging to each cell_barcode-gene-UMI. This represents a individual transcript in a cell, and more CCS's provide stronger support for the sequence of that transcript."
   ]
  },
  {
   "cell_type": "code",
   "execution_count": 18,
   "metadata": {
    "execution": {
     "iopub.execute_input": "2022-01-19T01:43:19.469235Z",
     "iopub.status.busy": "2022-01-19T01:43:19.468406Z",
     "iopub.status.idle": "2022-01-19T01:43:21.216316Z",
     "shell.execute_reply": "2022-01-19T01:43:21.215550Z"
    }
   },
   "outputs": [
    {
     "data": {
      "text/html": [
       "<div>\n",
       "<style scoped>\n",
       "    .dataframe tbody tr th:only-of-type {\n",
       "        vertical-align: middle;\n",
       "    }\n",
       "\n",
       "    .dataframe tbody tr th {\n",
       "        vertical-align: top;\n",
       "    }\n",
       "\n",
       "    .dataframe thead th {\n",
       "        text-align: right;\n",
       "    }\n",
       "</style>\n",
       "<table border=\"1\" class=\"dataframe\">\n",
       "  <thead>\n",
       "    <tr style=\"text-align: right;\">\n",
       "      <th></th>\n",
       "      <th>cell_barcode</th>\n",
       "      <th>gene</th>\n",
       "      <th>UMI_sequence</th>\n",
       "      <th>count</th>\n",
       "    </tr>\n",
       "  </thead>\n",
       "  <tbody>\n",
       "    <tr>\n",
       "      <th>0</th>\n",
       "      <td>AAACCCATCATTGCTT</td>\n",
       "      <td>fluNA</td>\n",
       "      <td>ACCAGGTAGAGT</td>\n",
       "      <td>1</td>\n",
       "    </tr>\n",
       "    <tr>\n",
       "      <th>1</th>\n",
       "      <td>AAACCCATCATTGCTT</td>\n",
       "      <td>fluNP</td>\n",
       "      <td>TGTAGCATCATC</td>\n",
       "      <td>1</td>\n",
       "    </tr>\n",
       "    <tr>\n",
       "      <th>2</th>\n",
       "      <td>AAACCCATCATTGCTT</td>\n",
       "      <td>fluNS</td>\n",
       "      <td>ATTAAATGAGAA</td>\n",
       "      <td>1</td>\n",
       "    </tr>\n",
       "    <tr>\n",
       "      <th>3</th>\n",
       "      <td>AAACCCATCATTGCTT</td>\n",
       "      <td>fluPB1</td>\n",
       "      <td>CGCTGGGTTCGA</td>\n",
       "      <td>1</td>\n",
       "    </tr>\n",
       "    <tr>\n",
       "      <th>4</th>\n",
       "      <td>AAACCCATCATTGCTT</td>\n",
       "      <td>fluPB1</td>\n",
       "      <td>TAAACGGGGGGT</td>\n",
       "      <td>1</td>\n",
       "    </tr>\n",
       "  </tbody>\n",
       "</table>\n",
       "</div>"
      ],
      "text/plain": [
       "       cell_barcode    gene  UMI_sequence  count\n",
       "0  AAACCCATCATTGCTT   fluNA  ACCAGGTAGAGT      1\n",
       "1  AAACCCATCATTGCTT   fluNP  TGTAGCATCATC      1\n",
       "2  AAACCCATCATTGCTT   fluNS  ATTAAATGAGAA      1\n",
       "3  AAACCCATCATTGCTT  fluPB1  CGCTGGGTTCGA      1\n",
       "4  AAACCCATCATTGCTT  fluPB1  TAAACGGGGGGT      1"
      ]
     },
     "execution_count": 1,
     "metadata": {},
     "output_type": "execute_result"
    }
   ],
   "source": [
    "UMI_count = (\n",
    "    df_merged\n",
    "    .groupby(['cell_barcode', 'gene', 'UMI_sequence'])\n",
    "    .agg({'UMI_sequence': 'count'})\n",
    ")\n",
    "UMI_count.columns = ['count']\n",
    "UMI_count = UMI_count.reset_index()\n",
    "UMI_count.head()"
   ]
  },
  {
   "cell_type": "code",
   "execution_count": 19,
   "metadata": {
    "execution": {
     "iopub.execute_input": "2022-01-19T01:43:21.228652Z",
     "iopub.status.busy": "2022-01-19T01:43:21.227887Z",
     "iopub.status.idle": "2022-01-19T01:43:22.134733Z",
     "shell.execute_reply": "2022-01-19T01:43:22.135627Z"
    }
   },
   "outputs": [
    {
     "name": "stdout",
     "output_type": "stream",
     "text": [
      "max number of CCSs per UMI is 50\n"
     ]
    },
    {
     "data": {
      "image/png": "[encoded data removed]",
      "text/plain": [
       "<Figure size 640x480 with 1 Axes>"
      ]
     },
     "metadata": {},
     "output_type": "display_data"
    }
   ],
   "source": [
    "p = (\n",
    "    p9.ggplot(UMI_count,\n",
    "              p9.aes(x='count'))\n",
    "    + p9.geom_histogram(bins=80)\n",
    "    + p9.theme(axis_text_x=p9.element_text(angle=90),\n",
    "               panel_grid_major_x=p9.element_blank()\n",
    "               )\n",
    "    + p9.theme_bw()\n",
    "    + p9.xlab(\"CCSs per cell_barcode-gene-UMI\")\n",
    "    + p9.ylab(\"number of UMIs\")\n",
    ")\n",
    "_ = p.draw()\n",
    "\n",
    "print('max number of CCSs per UMI is', UMI_count['count'].max())"
   ]
  },
  {
   "cell_type": "code",
   "execution_count": 20,
   "metadata": {
    "execution": {
     "iopub.execute_input": "2022-01-19T01:43:22.139451Z",
     "iopub.status.busy": "2022-01-19T01:43:22.138821Z",
     "iopub.status.idle": "2022-01-19T01:43:22.182662Z",
     "shell.execute_reply": "2022-01-19T01:43:22.183575Z"
    }
   },
   "outputs": [
    {
     "name": "stdout",
     "output_type": "stream",
     "text": [
      "Here's how many CCSs each cell_barcode-gene-UMI has:\n"
     ]
    },
    {
     "data": {
      "text/html": [
       "<div>\n",
       "<style scoped>\n",
       "    .dataframe tbody tr th:only-of-type {\n",
       "        vertical-align: middle;\n",
       "    }\n",
       "\n",
       "    .dataframe tbody tr th {\n",
       "        vertical-align: top;\n",
       "    }\n",
       "\n",
       "    .dataframe thead th {\n",
       "        text-align: right;\n",
       "    }\n",
       "</style>\n",
       "<table border=\"1\" class=\"dataframe\">\n",
       "  <thead>\n",
       "    <tr style=\"text-align: right;\">\n",
       "      <th></th>\n",
       "      <th>no of UMIs</th>\n",
       "    </tr>\n",
       "    <tr>\n",
       "      <th>no_of_CCSs</th>\n",
       "      <th></th>\n",
       "    </tr>\n",
       "  </thead>\n",
       "  <tbody>\n",
       "    <tr>\n",
       "      <th>1</th>\n",
       "      <td>373545</td>\n",
       "    </tr>\n",
       "    <tr>\n",
       "      <th>2</th>\n",
       "      <td>90446</td>\n",
       "    </tr>\n",
       "    <tr>\n",
       "      <th>3</th>\n",
       "      <td>36579</td>\n",
       "    </tr>\n",
       "    <tr>\n",
       "      <th>4</th>\n",
       "      <td>18077</td>\n",
       "    </tr>\n",
       "    <tr>\n",
       "      <th>5</th>\n",
       "      <td>10819</td>\n",
       "    </tr>\n",
       "    <tr>\n",
       "      <th>6</th>\n",
       "      <td>7280</td>\n",
       "    </tr>\n",
       "    <tr>\n",
       "      <th>7</th>\n",
       "      <td>5676</td>\n",
       "    </tr>\n",
       "    <tr>\n",
       "      <th>8</th>\n",
       "      <td>4509</td>\n",
       "    </tr>\n",
       "    <tr>\n",
       "      <th>9</th>\n",
       "      <td>3796</td>\n",
       "    </tr>\n",
       "    <tr>\n",
       "      <th>10</th>\n",
       "      <td>3222</td>\n",
       "    </tr>\n",
       "    <tr>\n",
       "      <th>11</th>\n",
       "      <td>2689</td>\n",
       "    </tr>\n",
       "    <tr>\n",
       "      <th>12</th>\n",
       "      <td>2327</td>\n",
       "    </tr>\n",
       "    <tr>\n",
       "      <th>13</th>\n",
       "      <td>1944</td>\n",
       "    </tr>\n",
       "    <tr>\n",
       "      <th>14</th>\n",
       "      <td>1656</td>\n",
       "    </tr>\n",
       "    <tr>\n",
       "      <th>15</th>\n",
       "      <td>1333</td>\n",
       "    </tr>\n",
       "    <tr>\n",
       "      <th>16</th>\n",
       "      <td>1145</td>\n",
       "    </tr>\n",
       "    <tr>\n",
       "      <th>17</th>\n",
       "      <td>943</td>\n",
       "    </tr>\n",
       "    <tr>\n",
       "      <th>18</th>\n",
       "      <td>721</td>\n",
       "    </tr>\n",
       "    <tr>\n",
       "      <th>19</th>\n",
       "      <td>595</td>\n",
       "    </tr>\n",
       "    <tr>\n",
       "      <th>20</th>\n",
       "      <td>446</td>\n",
       "    </tr>\n",
       "    <tr>\n",
       "      <th>21</th>\n",
       "      <td>375</td>\n",
       "    </tr>\n",
       "    <tr>\n",
       "      <th>22</th>\n",
       "      <td>294</td>\n",
       "    </tr>\n",
       "    <tr>\n",
       "      <th>23</th>\n",
       "      <td>252</td>\n",
       "    </tr>\n",
       "    <tr>\n",
       "      <th>24</th>\n",
       "      <td>169</td>\n",
       "    </tr>\n",
       "    <tr>\n",
       "      <th>25</th>\n",
       "      <td>137</td>\n",
       "    </tr>\n",
       "    <tr>\n",
       "      <th>26</th>\n",
       "      <td>126</td>\n",
       "    </tr>\n",
       "    <tr>\n",
       "      <th>27</th>\n",
       "      <td>81</td>\n",
       "    </tr>\n",
       "    <tr>\n",
       "      <th>28</th>\n",
       "      <td>64</td>\n",
       "    </tr>\n",
       "    <tr>\n",
       "      <th>29</th>\n",
       "      <td>53</td>\n",
       "    </tr>\n",
       "    <tr>\n",
       "      <th>30</th>\n",
       "      <td>32</td>\n",
       "    </tr>\n",
       "    <tr>\n",
       "      <th>31</th>\n",
       "      <td>22</td>\n",
       "    </tr>\n",
       "    <tr>\n",
       "      <th>32</th>\n",
       "      <td>21</td>\n",
       "    </tr>\n",
       "    <tr>\n",
       "      <th>33</th>\n",
       "      <td>18</td>\n",
       "    </tr>\n",
       "    <tr>\n",
       "      <th>34</th>\n",
       "      <td>11</td>\n",
       "    </tr>\n",
       "    <tr>\n",
       "      <th>35</th>\n",
       "      <td>10</td>\n",
       "    </tr>\n",
       "    <tr>\n",
       "      <th>36</th>\n",
       "      <td>2</td>\n",
       "    </tr>\n",
       "    <tr>\n",
       "      <th>37</th>\n",
       "      <td>8</td>\n",
       "    </tr>\n",
       "    <tr>\n",
       "      <th>38</th>\n",
       "      <td>2</td>\n",
       "    </tr>\n",
       "    <tr>\n",
       "      <th>39</th>\n",
       "      <td>4</td>\n",
       "    </tr>\n",
       "    <tr>\n",
       "      <th>40</th>\n",
       "      <td>3</td>\n",
       "    </tr>\n",
       "    <tr>\n",
       "      <th>41</th>\n",
       "      <td>1</td>\n",
       "    </tr>\n",
       "    <tr>\n",
       "      <th>50</th>\n",
       "      <td>1</td>\n",
       "    </tr>\n",
       "  </tbody>\n",
       "</table>\n",
       "</div>"
      ],
      "text/plain": [
       "            no of UMIs\n",
       "no_of_CCSs            \n",
       "1               373545\n",
       "2                90446\n",
       "3                36579\n",
       "4                18077\n",
       "5                10819\n",
       "6                 7280\n",
       "7                 5676\n",
       "8                 4509\n",
       "9                 3796\n",
       "10                3222\n",
       "11                2689\n",
       "12                2327\n",
       "13                1944\n",
       "14                1656\n",
       "15                1333\n",
       "16                1145\n",
       "17                 943\n",
       "18                 721\n",
       "19                 595\n",
       "20                 446\n",
       "21                 375\n",
       "22                 294\n",
       "23                 252\n",
       "24                 169\n",
       "25                 137\n",
       "26                 126\n",
       "27                  81\n",
       "28                  64\n",
       "29                  53\n",
       "30                  32\n",
       "31                  22\n",
       "32                  21\n",
       "33                  18\n",
       "34                  11\n",
       "35                  10\n",
       "36                   2\n",
       "37                   8\n",
       "38                   2\n",
       "39                   4\n",
       "40                   3\n",
       "41                   1\n",
       "50                   1"
      ]
     },
     "execution_count": 1,
     "metadata": {},
     "output_type": "execute_result"
    }
   ],
   "source": [
    "UMI_count_table = (\n",
    "                  UMI_count\n",
    "                  .rename(columns={'count': 'no_of_CCSs'})\n",
    "                  .groupby(['no_of_CCSs'])\n",
    "                  .agg({'no_of_CCSs': 'count'})\n",
    ")\n",
    "print('Here\\'s how many CCSs each cell_barcode-gene-UMI has:')\n",
    "UMI_count_table.rename(columns={'no_of_CCSs': 'no of UMIs'})"
   ]
  },
  {
   "cell_type": "markdown",
   "metadata": {},
   "source": [
    "## ONLY OUTPUT Data from infected cells"
   ]
  },
  {
   "cell_type": "markdown",
   "metadata": {},
   "source": [
    "# Deduplicate mutations"
   ]
  },
  {
   "cell_type": "markdown",
   "metadata": {},
   "source": [
    "Becasue we used overlapping primers for linearization PCR, sometimes the same mutation is called twice in a single CCs. Here we remove any mutations that are duplicates in the same UMI."
   ]
  },
  {
   "cell_type": "code",
   "execution_count": 21,
   "metadata": {
    "execution": {
     "iopub.execute_input": "2022-01-19T01:43:22.260051Z",
     "iopub.status.busy": "2022-01-19T01:43:22.259535Z",
     "iopub.status.idle": "2022-01-19T01:43:26.025972Z",
     "shell.execute_reply": "2022-01-19T01:43:26.026872Z"
    }
   },
   "outputs": [
    {
     "name": "stderr",
     "output_type": "stream",
     "text": [
      "<ipython-input-1-f1df238f4d3c>:7: SettingWithCopyWarning: \n",
      "A value is trying to be set on a copy of a slice from a DataFrame.\n",
      "Try using .loc[row_indexer,col_indexer] = value instead\n",
      "\n",
      "See the caveats in the documentation: https://pandas.pydata.org/pandas-docs/stable/user_guide/indexing.html#returning-a-view-versus-a-copy\n"
     ]
    }
   ],
   "source": [
    "# remove duplicate mutation strings\n",
    "all_mutations_dupRM = (\n",
    "    infected['all_mutations_orf_numbered_noT3']\n",
    "    .str.replace(r'\\b(\\w+)(\\s+\\1)+\\b', r'\\1')\n",
    ")\n",
    "\n",
    "infected['all_mutations_orf_numbered_noT3_dupRM'] = all_mutations_dupRM"
   ]
  },
  {
   "cell_type": "markdown",
   "metadata": {},
   "source": [
    "# Combine adjacent indels\n",
    "Sometimes consecutive deletions are called as separate mutations by alignparse, so we apply `merge_dels` function to `all_mutations_orf_numbered_noT3_dupRM` column to merge consecutive deletions into a single deletion."
   ]
  },
  {
   "cell_type": "code",
   "execution_count": 22,
   "metadata": {
    "execution": {
     "iopub.execute_input": "2022-01-19T01:43:26.031471Z",
     "iopub.status.busy": "2022-01-19T01:43:26.030842Z",
     "iopub.status.idle": "2022-01-19T01:43:40.237599Z",
     "shell.execute_reply": "2022-01-19T01:43:40.238404Z"
    }
   },
   "outputs": [],
   "source": [
    "infected = infected.replace(np.nan, '', regex=True)\n",
    "infected['all_mutations_orf_numbered_noT3_dupRM'] = (\n",
    "    infected['all_mutations_orf_numbered_noT3_dupRM']\n",
    "    .str.replace('nan', '[]')\n",
    ")\n",
    "\n",
    "infected['all_mutations_delsMerge'] = (\n",
    "    infected['all_mutations_orf_numbered_noT3_dupRM']\n",
    "    .apply(alignparse.utils.merge_dels)\n",
    ")"
   ]
  },
  {
   "cell_type": "markdown",
   "metadata": {},
   "source": [
    "# Organize output and save"
   ]
  },
  {
   "cell_type": "code",
   "execution_count": 23,
   "metadata": {
    "execution": {
     "iopub.execute_input": "2022-01-19T01:43:40.245306Z",
     "iopub.status.busy": "2022-01-19T01:43:40.244539Z",
     "iopub.status.idle": "2022-01-19T01:43:43.391292Z",
     "shell.execute_reply": "2022-01-19T01:43:43.392151Z"
    }
   },
   "outputs": [
    {
     "data": {
      "text/html": [
       "<div>\n",
       "<style scoped>\n",
       "    .dataframe tbody tr th:only-of-type {\n",
       "        vertical-align: middle;\n",
       "    }\n",
       "\n",
       "    .dataframe tbody tr th {\n",
       "        vertical-align: top;\n",
       "    }\n",
       "\n",
       "    .dataframe thead th {\n",
       "        text-align: right;\n",
       "    }\n",
       "</style>\n",
       "<table border=\"1\" class=\"dataframe\">\n",
       "  <thead>\n",
       "    <tr style=\"text-align: right;\">\n",
       "      <th></th>\n",
       "      <th>cell_barcode</th>\n",
       "      <th>gene</th>\n",
       "      <th>UMI</th>\n",
       "      <th>mutations</th>\n",
       "      <th>query_name</th>\n",
       "    </tr>\n",
       "  </thead>\n",
       "  <tbody>\n",
       "    <tr>\n",
       "      <th>0</th>\n",
       "      <td>TATTTCGGTGCCTAAT</td>\n",
       "      <td>fluHA</td>\n",
       "      <td>TGGGCGTGAATA</td>\n",
       "      <td></td>\n",
       "      <td>m64272e_210730_193026/322/ccs</td>\n",
       "    </tr>\n",
       "    <tr>\n",
       "      <th>1</th>\n",
       "      <td>TATTTCGGTGCCTAAT</td>\n",
       "      <td>fluHA</td>\n",
       "      <td>ACACGTCCTTGA</td>\n",
       "      <td></td>\n",
       "      <td>m64272e_210730_193026/620/ccs</td>\n",
       "    </tr>\n",
       "    <tr>\n",
       "      <th>2</th>\n",
       "      <td>TGATTTCCATTGCAAC</td>\n",
       "      <td>fluHA</td>\n",
       "      <td>GACGATCTTGGA</td>\n",
       "      <td>T578C</td>\n",
       "      <td>m64272e_210730_193026/1250/ccs</td>\n",
       "    </tr>\n",
       "    <tr>\n",
       "      <th>3</th>\n",
       "      <td>GTCGTTCTCGTTTACT</td>\n",
       "      <td>fluHA</td>\n",
       "      <td>ATTCTAGGGGTC</td>\n",
       "      <td>C63T G1907A ins1907CA G1909A</td>\n",
       "      <td>m64272e_210730_193026/2656/ccs</td>\n",
       "    </tr>\n",
       "    <tr>\n",
       "      <th>4</th>\n",
       "      <td>GTCATTTGTCTACACA</td>\n",
       "      <td>fluHA</td>\n",
       "      <td>AATAGAAAGATG</td>\n",
       "      <td>ins495CAA del1014to1014</td>\n",
       "      <td>m64272e_210730_193026/2675/ccs</td>\n",
       "    </tr>\n",
       "    <tr>\n",
       "      <th>...</th>\n",
       "      <td>...</td>\n",
       "      <td>...</td>\n",
       "      <td>...</td>\n",
       "      <td>...</td>\n",
       "      <td>...</td>\n",
       "    </tr>\n",
       "    <tr>\n",
       "      <th>1420807</th>\n",
       "      <td>AACCAACAGGGTCTTT</td>\n",
       "      <td>fluPB2</td>\n",
       "      <td>ATACTAACTCGA</td>\n",
       "      <td>C812T C1636T</td>\n",
       "      <td>m64272e_210730_193026/180553635/ccs</td>\n",
       "    </tr>\n",
       "    <tr>\n",
       "      <th>1420808</th>\n",
       "      <td>CGATGGCCAAAGAGTT</td>\n",
       "      <td>fluPB2</td>\n",
       "      <td>CTAACCAGGGGG</td>\n",
       "      <td></td>\n",
       "      <td>m64272e_210730_193026/180553782/ccs</td>\n",
       "    </tr>\n",
       "    <tr>\n",
       "      <th>1420809</th>\n",
       "      <td>GTAGAAACACCTAAAC</td>\n",
       "      <td>fluPB2</td>\n",
       "      <td>ATGGAGCCGTGA</td>\n",
       "      <td>A556G del558to2280</td>\n",
       "      <td>m64272e_210730_193026/180553898/ccs</td>\n",
       "    </tr>\n",
       "    <tr>\n",
       "      <th>1420810</th>\n",
       "      <td>GCCATTCAGGTGGCTA</td>\n",
       "      <td>fluPB2</td>\n",
       "      <td>GGATTGATCTTT</td>\n",
       "      <td>del1015to2280</td>\n",
       "      <td>m64272e_210730_193026/180554062/ccs</td>\n",
       "    </tr>\n",
       "    <tr>\n",
       "      <th>1420812</th>\n",
       "      <td>GTCATTTGTCTACACA</td>\n",
       "      <td>fluPB2</td>\n",
       "      <td>TAAGAACCGAAT</td>\n",
       "      <td>del2221to2280 ins2221TCTAGCATACTTACTGACAGCCAGA...</td>\n",
       "      <td>m64272e_210730_193026/180554193/ccs</td>\n",
       "    </tr>\n",
       "  </tbody>\n",
       "</table>\n",
       "<p>1179478 rows × 5 columns</p>\n",
       "</div>"
      ],
      "text/plain": [
       "             cell_barcode    gene           UMI  \\\n",
       "0        TATTTCGGTGCCTAAT   fluHA  TGGGCGTGAATA   \n",
       "1        TATTTCGGTGCCTAAT   fluHA  ACACGTCCTTGA   \n",
       "2        TGATTTCCATTGCAAC   fluHA  GACGATCTTGGA   \n",
       "3        GTCGTTCTCGTTTACT   fluHA  ATTCTAGGGGTC   \n",
       "4        GTCATTTGTCTACACA   fluHA  AATAGAAAGATG   \n",
       "...                   ...     ...           ...   \n",
       "1420807  AACCAACAGGGTCTTT  fluPB2  ATACTAACTCGA   \n",
       "1420808  CGATGGCCAAAGAGTT  fluPB2  CTAACCAGGGGG   \n",
       "1420809  GTAGAAACACCTAAAC  fluPB2  ATGGAGCCGTGA   \n",
       "1420810  GCCATTCAGGTGGCTA  fluPB2  GGATTGATCTTT   \n",
       "1420812  GTCATTTGTCTACACA  fluPB2  TAAGAACCGAAT   \n",
       "\n",
       "                                                 mutations  \\\n",
       "0                                                            \n",
       "1                                                            \n",
       "2                                                    T578C   \n",
       "3                             C63T G1907A ins1907CA G1909A   \n",
       "4                                  ins495CAA del1014to1014   \n",
       "...                                                    ...   \n",
       "1420807                                       C812T C1636T   \n",
       "1420808                                                      \n",
       "1420809                                 A556G del558to2280   \n",
       "1420810                                      del1015to2280   \n",
       "1420812  del2221to2280 ins2221TCTAGCATACTTACTGACAGCCAGA...   \n",
       "\n",
       "                                  query_name  \n",
       "0              m64272e_210730_193026/322/ccs  \n",
       "1              m64272e_210730_193026/620/ccs  \n",
       "2             m64272e_210730_193026/1250/ccs  \n",
       "3             m64272e_210730_193026/2656/ccs  \n",
       "4             m64272e_210730_193026/2675/ccs  \n",
       "...                                      ...  \n",
       "1420807  m64272e_210730_193026/180553635/ccs  \n",
       "1420808  m64272e_210730_193026/180553782/ccs  \n",
       "1420809  m64272e_210730_193026/180553898/ccs  \n",
       "1420810  m64272e_210730_193026/180554062/ccs  \n",
       "1420812  m64272e_210730_193026/180554193/ccs  \n",
       "\n",
       "[1179478 rows x 5 columns]"
      ]
     },
     "metadata": {},
     "output_type": "display_data"
    }
   ],
   "source": [
    "output_df = (\n",
    "    infected\n",
    "    [['cell_barcode',\n",
    "      'gene',\n",
    "      'UMI_sequence',\n",
    "      'all_mutations_delsMerge',\n",
    "      'query_name']]\n",
    "    .drop_duplicates())\n",
    "output_df = output_df.rename(columns={'UMI_sequence':'UMI',\n",
    "                                      'all_mutations_delsMerge':'mutations'})\n",
    "display(output_df)"
   ]
  },
  {
   "cell_type": "code",
   "execution_count": 24,
   "metadata": {
    "execution": {
     "iopub.execute_input": "2022-01-19T01:43:43.396766Z",
     "iopub.status.busy": "2022-01-19T01:43:43.396024Z",
     "iopub.status.idle": "2022-01-19T01:43:59.903648Z",
     "shell.execute_reply": "2022-01-19T01:43:59.904469Z"
    }
   },
   "outputs": [],
   "source": [
    "output_df.to_csv(UMI_mutations_csv,\n",
    "                 index=False,\n",
    "                 compression='gzip')"
   ]
  },
  {
   "cell_type": "code",
   "execution_count": null,
   "metadata": {},
   "outputs": [],
   "source": []
  }
 ],
 "metadata": {
  "kernelspec": {
   "display_name": "Python 3",
   "language": "python",
   "name": "python3"
  },
  "language_info": {
   "codemirror_mode": {
    "name": "ipython",
    "version": 3
   },
   "file_extension": ".py",
   "mimetype": "text/x-python",
   "name": "python",
   "nbconvert_exporter": "python",
   "pygments_lexer": "ipython3",
   "version": "3.8.6"
  }
 },
 "nbformat": 4,
 "nbformat_minor": 4
}
