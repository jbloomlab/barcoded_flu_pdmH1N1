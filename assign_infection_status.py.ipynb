{
 "cells": [
  {
   "cell_type": "code",
   "execution_count": 4,
   "metadata": {},
   "outputs": [],
   "source": [
    "######## snakemake preamble start (automatically inserted, do not edit) ########\n",
    "import sys; sys.path.extend(['/fh/fast/bloom_j/software/miniconda3/envs/barcoded_flu_pdmH1N1/lib/python3.8/site-packages', '/fh/fast/bloom_j/computational_notebooks/dbacsik/2019/flu_pdmH1N1_barcode_hashing/notebooks']); import pickle; snakemake = pickle.loads(b'\\x80\\x04\\x95mD\\x00\\x00\\x00\\x00\\x00\\x00\\x8c\\x10snakemake.script\\x94\\x8c\\tSnakemake\\x94\\x93\\x94)\\x81\\x94}\\x94(\\x8c\\x05input\\x94\\x8c\\x0csnakemake.io\\x94\\x8c\\nInputFiles\\x94\\x93\\x94)\\x81\\x94(\\x8cJresults/viral_fastq10x/scProgenyProduction_trial3_viral_tag_by_cell.csv.gz\\x94\\x8cYresults/aligned_fastq10x/scProgenyProduction_trial3/Solo.out/GeneFull/filtered/matrix.mtx\\x94\\x8c[results/aligned_fastq10x/scProgenyProduction_trial3/Solo.out/GeneFull/filtered/features.tsv\\x94\\x8c[results/aligned_fastq10x/scProgenyProduction_trial3/Solo.out/GeneFull/filtered/barcodes.tsv\\x94\\x8c-notebooks/assign_viral_tags_to_cells.py.ipynb\\x94e}\\x94(\\x8c\\x06_names\\x94}\\x94(\\x8c\\x15viral_tag_by_cell_csv\\x94K\\x00N\\x86\\x94\\x8c\\x06matrix\\x94K\\x01N\\x86\\x94\\x8c\\x08features\\x94K\\x02N\\x86\\x94\\x8c\\rcell_barcodes\\x94K\\x03N\\x86\\x94\\x8c\\x08notebook\\x94K\\x04N\\x86\\x94u\\x8c\\x12_allowed_overrides\\x94]\\x94(\\x8c\\x05index\\x94\\x8c\\x04sort\\x94eh\\x1e\\x8c\\tfunctools\\x94\\x8c\\x07partial\\x94\\x93\\x94h\\x06\\x8c\\x19Namedlist._used_attribute\\x94\\x93\\x94\\x85\\x94R\\x94(h$)}\\x94\\x8c\\x05_name\\x94h\\x1esNt\\x94bh\\x1fh\"h$\\x85\\x94R\\x94(h$)}\\x94h(h\\x1fsNt\\x94bh\\x12h\\nh\\x14h\\x0bh\\x16h\\x0ch\\x18h\\rh\\x1ah\\x0eub\\x8c\\x06output\\x94h\\x06\\x8c\\x0bOutputFiles\\x94\\x93\\x94)\\x81\\x94(\\x8c_results/viral_tags_bcs_in_cells/scProgenyProduction_trial3_cell_barcodes_with_viral_tags.csv.gz\\x94\\x8cYresults/viral_tags_bcs_in_cells/scProgenyProduction_trial3_assign_viral_tags_to_cells.svg\\x94e}\\x94(h\\x10}\\x94(\\x8c\\x10cell_annotations\\x94K\\x00N\\x86\\x94\\x8c\\x04plot\\x94K\\x01N\\x86\\x94uh\\x1c]\\x94(h\\x1eh\\x1feh\\x1eh\"h$\\x85\\x94R\\x94(h$)}\\x94h(h\\x1esNt\\x94bh\\x1fh\"h$\\x85\\x94R\\x94(h$)}\\x94h(h\\x1fsNt\\x94bh6h2h8h3ub\\x8c\\x06params\\x94h\\x06\\x8c\\x06Params\\x94\\x93\\x94)\\x81\\x94(]\\x94(\\x8c\\x06fluPB2\\x94\\x8c\\x06fluPB1\\x94\\x8c\\x05fluPA\\x94\\x8c\\x05fluHA\\x94\\x8c\\x05fluNP\\x94\\x8c\\x05fluNA\\x94\\x8c\\x04fluM\\x94\\x8c\\x05fluNS\\x94e]\\x94(\\x8c\\x03syn\\x94\\x8c\\x02wt\\x94eG?\\x1a6\\xe2\\xeb\\x1cC-e}\\x94(h\\x10}\\x94(\\x8c\\x0bviral_genes\\x94K\\x00N\\x86\\x94\\x8c\\nviral_tags\\x94K\\x01N\\x86\\x94\\x8c\\x03fdr\\x94K\\x02N\\x86\\x94uh\\x1c]\\x94(h\\x1eh\\x1feh\\x1eh\"h$\\x85\\x94R\\x94(h$)}\\x94h(h\\x1esNt\\x94bh\\x1fh\"h$\\x85\\x94R\\x94(h$)}\\x94h(h\\x1fsNt\\x94bhUhGhWhPhYG?\\x1a6\\xe2\\xeb\\x1cC-ub\\x8c\\twildcards\\x94h\\x06\\x8c\\tWildcards\\x94\\x93\\x94)\\x81\\x94\\x8c\\x1ascProgenyProduction_trial3\\x94a}\\x94(h\\x10}\\x94\\x8c\\x04expt\\x94K\\x00N\\x86\\x94sh\\x1c]\\x94(h\\x1eh\\x1feh\\x1eh\"h$\\x85\\x94R\\x94(h$)}\\x94h(h\\x1esNt\\x94bh\\x1fh\"h$\\x85\\x94R\\x94(h$)}\\x94h(h\\x1fsNt\\x94b\\x8c\\x04expt\\x94hhub\\x8c\\x07threads\\x94K\\x01\\x8c\\tresources\\x94h\\x06\\x8c\\tResources\\x94\\x93\\x94)\\x81\\x94(K\\x01K\\x01e}\\x94(h\\x10}\\x94(\\x8c\\x06_cores\\x94K\\x00N\\x86\\x94\\x8c\\x06_nodes\\x94K\\x01N\\x86\\x94uh\\x1c]\\x94(h\\x1eh\\x1feh\\x1eh\"h$\\x85\\x94R\\x94(h$)}\\x94h(h\\x1esNt\\x94bh\\x1fh\"h$\\x85\\x94R\\x94(h$)}\\x94h(h\\x1fsNt\\x94bh~K\\x01h\\x80K\\x01ub\\x8c\\x03log\\x94h\\x06\\x8c\\x03Log\\x94\\x93\\x94)\\x81\\x94\\x8cHresults/logs/assign_viral_tags_to_cells_scProgenyProduction_trial3.ipynb\\x94a}\\x94(h\\x10}\\x94h\\x1aK\\x00N\\x86\\x94sh\\x1c]\\x94(h\\x1eh\\x1feh\\x1eh\"h$\\x85\\x94R\\x94(h$)}\\x94h(h\\x1esNt\\x94bh\\x1fh\"h$\\x85\\x94R\\x94(h$)}\\x94h(h\\x1fsNt\\x94bh\\x1ah\\x8fub\\x8c\\x06config\\x94}\\x94(\\x8c\\x08max_cpus\\x94K\\x10\\x8c\\x07log_dir\\x94\\x8c\\x0cresults/logs\\x94\\x8c\\x0cfastq10x_dir\\x94\\x8c\\x10results/fastq10x\\x94\\x8c\\npacbio_dir\\x94\\x8c\\x0eresults/pacbio\\x94\\x8c\\x0emkfastq10x_dir\\x94\\x8c\\x1fresults/fastq10x/mkfastq_output\\x94\\x8c\\ngenome_dir\\x94\\x8c\\x0fresults/genomes\\x94\\x8c\\trefgenome\\x94\\x8c\\x19results/genomes/refgenome\\x94\\x8c\\x14aligned_fastq10x_dir\\x94\\x8c\\x18results/aligned_fastq10x\\x94\\x8c\\x12viral_fastq10x_dir\\x94\\x8c\\x16results/viral_fastq10x\\x94\\x8c\\x1bviral_tags_bcs_in_cells_dir\\x94\\x8c\\x1fresults/viral_tags_bcs_in_cells\\x94\\x8c\\x11viral_progeny_dir\\x94\\x8c\\x15results/viral_progeny\\x94\\x8c\\x13align_and_parse_dir\\x94\\x8c#results/pacbio/CA09_align_and_parse\\x94\\x8c\\x0fcell_genome_ftp\\x94\\x8cmftp://ftp.ensembl.org/pub/release-98/fasta/canis_familiaris/dna/Canis_familiaris.CanFam3.1.dna.toplevel.fa.gz\\x94\\x8c\\x0ccell_gtf_ftp\\x94\\x8c^ftp://ftp.ensembl.org/pub/release-98/gtf/canis_familiaris/Canis_familiaris.CanFam3.1.98.gtf.gz\\x94\\x8c\\x0cviral_genome\\x94\\x8c!data/flu_sequences/flu-CA09.fasta\\x94\\x8c\\tviral_gtf\\x94\\x8c\\x1fdata/flu_sequences/flu-CA09.gtf\\x94\\x8c\\rviral_genbank\\x94\\x8c\\x1edata/flu_sequences/flu-CA09.gb\\x94\\x8c\\x14viral_tag_identities\\x94\\x8c+data/flu_sequences/flu-CA09_viral_tags.yaml\\x94\\x8c\\x0fviral_amplicons\\x94\\x8c.data/flu_sequences/pacbio_amplicons/fluCA09.gb\\x94\\x8c\\x11amplicon_features\\x94\\x8c9data/flu_sequences/pacbio_amplicons/fluCA09_features.yaml\\x94\\x8c\\x1eamplicon_linearization_primers\\x94\\x8c=data/flu_sequences/pacbio_amplicons/linearization_primers.tsv\\x94\\x8c\\x15amplicon_to_reference\\x94\\x8c=data/flu_sequences/pacbio_amplicons/amplicon_to_reference.csv\\x94\\x8c\\x0escoreGapNoncan\\x94J\\xfc\\xff\\xff\\xff\\x8c\\x0cscoreGapGCAG\\x94J\\xfc\\xff\\xff\\xff\\x8c\\x0cscoreGapATAC\\x94J\\xfc\\xff\\xff\\xff\\x8c\\x14cb_whitelist_10x_url\\x94\\x8ckhttps://github.com/10XGenomics/cellranger/raw/master/lib/python/cellranger/barcodes/3M-february-2018.txt.gz\\x94\\x8c\\x10cb_whitelist_10x\\x94\\x8c-results/aligned_fastq10x/cb_whitelist_10x.txt\\x94\\x8c\\ncb_len_10x\\x94K\\x10\\x8c\\x0bumi_len_10x\\x94K\\x0c\\x8c\"infection_calling_by_viral_tag_fdr\\x94G?\\x1a6\\xe2\\xeb\\x1cC-\\x8c\\x1dviral_barcode_upstream_length\\x94K\\x1c\\x8c\\x16viral_barcode_mismatch\\x94K\\x00\\x8c\\x12viral_barcode_minq\\x94K\\x1e\\x8c\\x0cviral_bc_fdr\\x94G?\\x1a6\\xe2\\xeb\\x1cC-\\x8c\\x0eccs_min_length\\x94K2\\x8c\\x0eccs_max_length\\x94M\\x88\\x13\\x8c\\nccs_min_rq\\x94G?\\xef\\xf7\\xce\\xd9\\x16\\x87+\\x8c\\x0bexperiments\\x94}\\x94(\\x8c\\x0ehashing_lowMOI\\x94}\\x94(\\x8c\\x0bdescription\\x94X*\\x01\\x00\\x00Single-cell transcriptomics using the wildtype and dblySyn viral tag variants. Infection volume was chosen based on the results of `hashing_trial1` and flow cytometry. The incolum volume for the wildtype tag variant was about 12-fold higher, and for the dblSyn tag variant was about 24-fold higher.\\x94\\x8c\\tlab_notes\\x94\\x8c0https://benchling.com/s/etr-W8urOmOAQ7L6U4HAXMNy\\x94\\x8c\\rexpect_ncells\\x94M\\x88\\x13\\x8c\\x0ftranscriptomics\\x94}\\x94(\\x8c\\x08datetime\\x94\\x8c\\x04date\\x94\\x93\\x94C\\x04\\x07\\xe4\\x06\\x02\\x94\\x85\\x94R\\x94}\\x94(\\x8c\\x05index\\x94\\x8c\\x08SI-GA-B3\\x94\\x8c\\nbcl_folder\\x94\\x8cG/home/solexa/ngs/illumina/bloom_lab/200602_M03100_0578_000000000-J3464/\\x94\\x8c\\x04lane\\x94\\x8c\\x01*\\x94\\x8c\\x10index_sequencing\\x94\\x8c\\x06single\\x94uh\\xe7C\\x04\\x07\\xe4\\x07\\x01\\x94\\x85\\x94R\\x94}\\x94(\\x8c\\x05index\\x94\\x8c\\x08SI-GA-B3\\x94\\x8c\\nbcl_folder\\x94\\x8c^/shared/ngs/illumina/agreaney/200701_D00300_0988_BHGFGMBCX3/raw/200701_D00300_0988_BHGFGMBCX3/\\x94\\x8c\\x04lane\\x94K\\x02\\x8c\\x10index_sequencing\\x94\\x8c\\x06single\\x94uh\\xe7C\\x04\\x07\\xe4\\x08\\x1a\\x94\\x85\\x94R\\x94}\\x94(\\x8c\\x05index\\x94\\x8c\\x08SI-GA-B3\\x94\\x8c\\nbcl_folder\\x94\\x8ci/shared/ngs/illumina/bloom_lab/bloom_lab/200826_D00300_1040_BHHGLWBCX3/raw/200826_D00300_1040_BHHGLWBCX3/\\x94\\x8c\\x04lane\\x94h\\xf1\\x8c\\x10index_sequencing\\x94\\x8c\\x06single\\x94uh\\xe7C\\x04\\x07\\xe5\\x03\\x0c\\x94\\x85\\x94R\\x94}\\x94(\\x8c\\x05index\\x94\\x8c\\x08SI-GA-B3\\x94\\x8c\\nbcl_folder\\x94\\x8c_/shared/ngs/illumina/bloom_lab/210312_D00300_1192_BHKHNYBCX3/raw/210312_D00300_1192_BHKHNYBCX3/\\x94\\x8c\\x04lane\\x94K\\x01\\x8c\\x10index_sequencing\\x94\\x8c\\x06single\\x94uuu\\x8c\\x0fhashing_highMOI\\x94}\\x94(\\x8c\\x0bdescription\\x94\\x8c\\x9aSingle-cell transcriptomics using the wildtype and dblSyn viral tag variants at a high MOI. Infection volume was based on the results of `hashing_trial2`.\\x94\\x8c\\tlab_notes\\x94\\x8c0https://benchling.com/s/etr-ToK66qT0Mfmf6FsexKo4\\x94\\x8c\\rexpect_ncells\\x94M\\x88\\x13\\x8c\\x0ftranscriptomics\\x94}\\x94(h\\xe7C\\x04\\x07\\xe4\\x07\\x18\\x94\\x85\\x94R\\x94}\\x94(\\x8c\\x05index\\x94\\x8c\\x08SI-GA-B5\\x94\\x8c\\nbcl_folder\\x94\\x8cB/shared/ngs/illumina/bloom_lab/200724_M03100_0593_000000000-J33YK/\\x94\\x8c\\x04lane\\x94h\\xf1\\x8c\\x10index_sequencing\\x94\\x8c\\x06single\\x94uh\\xe7C\\x04\\x07\\xe4\\x08\\x1a\\x94\\x85\\x94R\\x94}\\x94(\\x8c\\x05index\\x94\\x8c\\x08SI-GA-B5\\x94\\x8c\\nbcl_folder\\x94\\x8ci/shared/ngs/illumina/bloom_lab/bloom_lab/200826_D00300_1040_BHHGLWBCX3/raw/200826_D00300_1040_BHHGLWBCX3/\\x94\\x8c\\x04lane\\x94h\\xf1\\x8c\\x10index_sequencing\\x94\\x8c\\x06single\\x94uh\\xe7C\\x04\\x07\\xe5\\x03\\x0c\\x94\\x85\\x94R\\x94}\\x94(\\x8c\\x05index\\x94\\x8c\\x08SI-GA-B5\\x94\\x8c\\nbcl_folder\\x94\\x8c_/shared/ngs/illumina/bloom_lab/210312_D00300_1192_BHKHNYBCX3/raw/210312_D00300_1192_BHKHNYBCX3/\\x94\\x8c\\x04lane\\x94K\\x02\\x8c\\x10index_sequencing\\x94\\x8c\\x06single\\x94uu\\x8c\\x17pacbio_viral_sequencing\\x94}\\x94\\x8c\\x1c2020-10-20_all_segments_run1\\x94\\x8cw/fh/fast/bloom_j/SR/ngs/pacbio/201019_BernadetaDadonaite/r54228_20201020_192758/1_A01/m54228_201020_194205.subreads.bam\\x94su\\x8c\\x1ascProgenyProduction_trial1\\x94}\\x94(\\x8c\\x0bdescription\\x94\\x8c\\xe7Single-cell transcriptomics performed on low MOI-infected sample. Innoculum volumes based on `hashing_trial2` data. Loaded all collected cells from two 24-well wells, each infected with either wildtype or dblySn viral tag variants.\\x94\\x8c\\tlab_notes\\x94\\x8c0https://benchling.com/s/etr-20lOO7l1FdEJJIpxV6vD\\x94\\x8c\\rexpect_ncells\\x94M\\x10\\'\\x8c\\x0ftranscriptomics\\x94}\\x94h\\xe7C\\x04\\x07\\xe4\\t\\x19\\x94\\x85\\x94R\\x94}\\x94(\\x8c\\x05index\\x94\\x8c\\x08SI-GA-B8\\x94\\x8c\\nbcl_folder\\x94\\x8c_/shared/ngs/illumina/bloom_lab/200925_D00300_1065_AHHL7NBCX3/raw/200925_D00300_1065_AHHL7NBCX3/\\x94\\x8c\\x04lane\\x94K\\x02\\x8c\\x10index_sequencing\\x94\\x8c\\x06single\\x94us\\x8c\\x0eviral_barcodes\\x94}\\x94(\\x8c\\x0bsupernatant\\x94}\\x94(\\x8c\\x02wt\\x94}\\x94(\\x8c\\x05fluHA\\x94}\\x94(\\x8c\\x0breplicate_1\\x94}\\x94h\\xe7C\\x04\\x07\\xe4\\n\\r\\x94\\x85\\x94R\\x94\\x8c\\x8a/shared/ngs/illumina/bloom_lab/201013_M03100_0625_000000000-JB2KP/Data/Intensities/BaseCalls/Trial1-WT-Sup-fluHA-A_S1_L001_R1_001.fastq.gz\\x94s\\x8c\\x0breplicate_2\\x94}\\x94h\\xe7C\\x04\\x07\\xe4\\n\\r\\x94\\x85\\x94R\\x94\\x8c\\x8a/shared/ngs/illumina/bloom_lab/201013_M03100_0625_000000000-JB2KP/Data/Intensities/BaseCalls/Trial1-WT-Sup-fluHA-B_S2_L001_R1_001.fastq.gz\\x94su\\x8c\\x05fluNA\\x94}\\x94(\\x8c\\x0breplicate_1\\x94}\\x94h\\xe7C\\x04\\x07\\xe4\\n\\r\\x94\\x85\\x94R\\x94\\x8c\\x8b/shared/ngs/illumina/bloom_lab/201013_M03100_0625_000000000-JB2KP/Data/Intensities/BaseCalls/Trial1-WT-Sup-fluNA-A_S17_L001_R1_001.fastq.gz\\x94s\\x8c\\x0breplicate_2\\x94}\\x94h\\xe7C\\x04\\x07\\xe4\\n\\r\\x94\\x85\\x94R\\x94\\x8c\\x8b/shared/ngs/illumina/bloom_lab/201013_M03100_0625_000000000-JB2KP/Data/Intensities/BaseCalls/Trial1-WT-Sup-fluNA-B_S18_L001_R1_001.fastq.gz\\x94suu\\x8c\\x03syn\\x94}\\x94(\\x8c\\x05fluHA\\x94}\\x94(\\x8c\\x0breplicate_1\\x94}\\x94h\\xe7C\\x04\\x07\\xe4\\n\\r\\x94\\x85\\x94R\\x94\\x8c\\x8e/shared/ngs/illumina/bloom_lab/201013_M03100_0625_000000000-JB2KP/Data/Intensities/BaseCalls/Trial1-dblSyn-Sup-fluHA-A_S3_L001_R1_001.fastq.gz\\x94s\\x8c\\x0breplicate_2\\x94}\\x94h\\xe7C\\x04\\x07\\xe4\\n\\r\\x94\\x85\\x94R\\x94\\x8c\\x8e/shared/ngs/illumina/bloom_lab/201013_M03100_0625_000000000-JB2KP/Data/Intensities/BaseCalls/Trial1-dblSyn-Sup-fluHA-B_S4_L001_R1_001.fastq.gz\\x94su\\x8c\\x05fluNA\\x94}\\x94(\\x8c\\x0breplicate_1\\x94}\\x94h\\xe7C\\x04\\x07\\xe4\\n\\r\\x94\\x85\\x94R\\x94\\x8c\\x8f/shared/ngs/illumina/bloom_lab/201013_M03100_0625_000000000-JB2KP/Data/Intensities/BaseCalls/Trial1-dblSyn-Sup-fluNA-A_S19_L001_R1_001.fastq.gz\\x94s\\x8c\\x0breplicate_2\\x94}\\x94h\\xe7C\\x04\\x07\\xe4\\n\\r\\x94\\x85\\x94R\\x94\\x8c\\x8f/shared/ngs/illumina/bloom_lab/201013_M03100_0625_000000000-JB2KP/Data/Intensities/BaseCalls/Trial1-dblSyn-Sup-fluNA-B_S20_L001_R1_001.fastq.gz\\x94suuu\\x8c\\x10second_infection\\x94}\\x94(\\x8c\\x02wt\\x94}\\x94(\\x8c\\x05fluHA\\x94}\\x94(\\x8c\\x0breplicate_1\\x94}\\x94h\\xe7C\\x04\\x07\\xe4\\n\\r\\x94\\x85\\x94R\\x94\\x8c\\x90/shared/ngs/illumina/bloom_lab/201013_M03100_0625_000000000-JB2KP/Data/Intensities/BaseCalls/Trial1-WT-SecondInf-fluHA-A_S5_L001_R1_001.fastq.gz\\x94s\\x8c\\x0breplicate_2\\x94}\\x94h\\xe7C\\x04\\x07\\xe4\\n\\r\\x94\\x85\\x94R\\x94\\x8c\\x90/shared/ngs/illumina/bloom_lab/201013_M03100_0625_000000000-JB2KP/Data/Intensities/BaseCalls/Trial1-WT-SecondInf-fluHA-B_S6_L001_R1_001.fastq.gz\\x94su\\x8c\\x05fluNA\\x94}\\x94(\\x8c\\x0breplicate_1\\x94}\\x94h\\xe7C\\x04\\x07\\xe4\\n\\r\\x94\\x85\\x94R\\x94\\x8c\\x91/shared/ngs/illumina/bloom_lab/201013_M03100_0625_000000000-JB2KP/Data/Intensities/BaseCalls/Trial1-WT-SecondInf-fluNA-A_S21_L001_R1_001.fastq.gz\\x94s\\x8c\\x0breplicate_2\\x94}\\x94h\\xe7C\\x04\\x07\\xe4\\n\\r\\x94\\x85\\x94R\\x94\\x8c\\x91/shared/ngs/illumina/bloom_lab/201013_M03100_0625_000000000-JB2KP/Data/Intensities/BaseCalls/Trial1-WT-SecondInf-fluNA-B_S22_L001_R1_001.fastq.gz\\x94suu\\x8c\\x03syn\\x94}\\x94(\\x8c\\x05fluHA\\x94}\\x94(\\x8c\\x0breplicate_1\\x94}\\x94h\\xe7C\\x04\\x07\\xe4\\n\\r\\x94\\x85\\x94R\\x94\\x8c\\x94/shared/ngs/illumina/bloom_lab/201013_M03100_0625_000000000-JB2KP/Data/Intensities/BaseCalls/Trial1-dblSyn-SecondInf-fluHA-A_S7_L001_R1_001.fastq.gz\\x94s\\x8c\\x0breplicate_2\\x94}\\x94h\\xe7C\\x04\\x07\\xe4\\n\\r\\x94\\x85\\x94R\\x94\\x8c\\x94/shared/ngs/illumina/bloom_lab/201013_M03100_0625_000000000-JB2KP/Data/Intensities/BaseCalls/Trial1-dblSyn-SecondInf-fluHA-B_S8_L001_R1_001.fastq.gz\\x94su\\x8c\\x05fluNA\\x94}\\x94(\\x8c\\x0breplicate_1\\x94}\\x94h\\xe7C\\x04\\x07\\xe4\\n\\r\\x94\\x85\\x94R\\x94\\x8c\\x95/shared/ngs/illumina/bloom_lab/201013_M03100_0625_000000000-JB2KP/Data/Intensities/BaseCalls/Trial1-dblSyn-SecondInf-fluNA-A_S23_L001_R1_001.fastq.gz\\x94s\\x8c\\x0breplicate_2\\x94}\\x94h\\xe7C\\x04\\x07\\xe4\\n\\r\\x94\\x85\\x94R\\x94\\x8c\\x95/shared/ngs/illumina/bloom_lab/201013_M03100_0625_000000000-JB2KP/Data/Intensities/BaseCalls/Trial1-dblSyn-SecondInf-fluNA-B_S24_L001_R1_001.fastq.gz\\x94suuuuu\\x8c\\x1ascProgenyProduction_trial2\\x94}\\x94(\\x8c\\x0bdescription\\x94\\x8c\\xe7Single-cell transcriptomics performed on low MOI-infected sample. Innoculum volumes based on `hashing_trial2` data. Loaded all collected cells from two 24-well wells, each infected with either wildtype or dblySn viral tag variants.\\x94\\x8c\\tlab_notes\\x94\\x8c0https://benchling.com/s/etr-73UD4Mx8uXn1xcxlV1ym\\x94\\x8c\\rexpect_ncells\\x94M\\x10\\'\\x8c\\x0ftranscriptomics\\x94}\\x94h\\xe7C\\x04\\x07\\xe4\\t\\x19\\x94\\x85\\x94R\\x94}\\x94(\\x8c\\x05index\\x94\\x8c\\x08SI-GA-B9\\x94\\x8c\\nbcl_folder\\x94\\x8c_/shared/ngs/illumina/bloom_lab/200925_D00300_1065_AHHL7NBCX3/raw/200925_D00300_1065_AHHL7NBCX3/\\x94\\x8c\\x04lane\\x94h\\xf1\\x8c\\x10index_sequencing\\x94\\x8c\\x06single\\x94us\\x8c\\x0eviral_barcodes\\x94}\\x94(\\x8c\\x0bsupernatant\\x94}\\x94(\\x8c\\x02wt\\x94}\\x94(\\x8c\\x05fluHA\\x94}\\x94(\\x8c\\x0breplicate_1\\x94}\\x94h\\xe7C\\x04\\x07\\xe4\\n\\r\\x94\\x85\\x94R\\x94\\x8c\\x8a/shared/ngs/illumina/bloom_lab/201013_M03100_0625_000000000-JB2KP/Data/Intensities/BaseCalls/Trial2-WT-Sup-fluHA-A_S9_L001_R1_001.fastq.gz\\x94s\\x8c\\x0breplicate_2\\x94}\\x94h\\xe7C\\x04\\x07\\xe4\\n\\r\\x94\\x85\\x94R\\x94\\x8c\\x8b/shared/ngs/illumina/bloom_lab/201013_M03100_0625_000000000-JB2KP/Data/Intensities/BaseCalls/Trial2-WT-Sup-fluHA-B_S10_L001_R1_001.fastq.gz\\x94su\\x8c\\x05fluNA\\x94}\\x94(\\x8c\\x0breplicate_1\\x94}\\x94h\\xe7C\\x04\\x07\\xe4\\n\\r\\x94\\x85\\x94R\\x94\\x8c\\x8b/shared/ngs/illumina/bloom_lab/201013_M03100_0625_000000000-JB2KP/Data/Intensities/BaseCalls/Trial2-WT-Sup-fluNA-A_S25_L001_R1_001.fastq.gz\\x94s\\x8c\\x0breplicate_2\\x94}\\x94h\\xe7C\\x04\\x07\\xe4\\n\\r\\x94\\x85\\x94R\\x94\\x8c\\x8b/shared/ngs/illumina/bloom_lab/201013_M03100_0625_000000000-JB2KP/Data/Intensities/BaseCalls/Trial2-WT-Sup-fluNA-B_S26_L001_R1_001.fastq.gz\\x94suu\\x8c\\x03syn\\x94}\\x94(\\x8c\\x05fluHA\\x94}\\x94(\\x8c\\x0breplicate_1\\x94}\\x94h\\xe7C\\x04\\x07\\xe4\\n\\r\\x94\\x85\\x94R\\x94\\x8c\\x8f/shared/ngs/illumina/bloom_lab/201013_M03100_0625_000000000-JB2KP/Data/Intensities/BaseCalls/Trial2-dblSyn-Sup-fluHA-A_S11_L001_R1_001.fastq.gz\\x94s\\x8c\\x0breplicate_2\\x94}\\x94h\\xe7C\\x04\\x07\\xe4\\n\\r\\x94\\x85\\x94R\\x94\\x8c\\x8f/shared/ngs/illumina/bloom_lab/201013_M03100_0625_000000000-JB2KP/Data/Intensities/BaseCalls/Trial2-dblSyn-Sup-fluHA-B_S12_L001_R1_001.fastq.gz\\x94su\\x8c\\x05fluNA\\x94}\\x94(\\x8c\\x0breplicate_1\\x94}\\x94h\\xe7C\\x04\\x07\\xe4\\n\\r\\x94\\x85\\x94R\\x94\\x8c\\x8f/shared/ngs/illumina/bloom_lab/201013_M03100_0625_000000000-JB2KP/Data/Intensities/BaseCalls/Trial2-dblSyn-Sup-fluNA-A_S27_L001_R1_001.fastq.gz\\x94s\\x8c\\x0breplicate_2\\x94}\\x94h\\xe7C\\x04\\x07\\xe4\\n\\r\\x94\\x85\\x94R\\x94\\x8c\\x8f/shared/ngs/illumina/bloom_lab/201013_M03100_0625_000000000-JB2KP/Data/Intensities/BaseCalls/Trial2-dblSyn-Sup-fluNA-B_S28_L001_R1_001.fastq.gz\\x94suuu\\x8c\\x10second_infection\\x94}\\x94(\\x8c\\x02wt\\x94}\\x94(\\x8c\\x05fluHA\\x94}\\x94(\\x8c\\x0breplicate_1\\x94}\\x94h\\xe7C\\x04\\x07\\xe4\\n\\r\\x94\\x85\\x94R\\x94\\x8c\\x91/shared/ngs/illumina/bloom_lab/201013_M03100_0625_000000000-JB2KP/Data/Intensities/BaseCalls/Trial2-WT-SecondInf-fluHA-A_S13_L001_R1_001.fastq.gz\\x94s\\x8c\\x0breplicate_2\\x94}\\x94h\\xe7C\\x04\\x07\\xe4\\n\\r\\x94\\x85\\x94R\\x94\\x8c\\x91/shared/ngs/illumina/bloom_lab/201013_M03100_0625_000000000-JB2KP/Data/Intensities/BaseCalls/Trial2-WT-SecondInf-fluHA-B_S14_L001_R1_001.fastq.gz\\x94su\\x8c\\x05fluNA\\x94}\\x94(\\x8c\\x0breplicate_1\\x94}\\x94h\\xe7C\\x04\\x07\\xe4\\n\\r\\x94\\x85\\x94R\\x94\\x8c\\x91/shared/ngs/illumina/bloom_lab/201013_M03100_0625_000000000-JB2KP/Data/Intensities/BaseCalls/Trial2-WT-SecondInf-fluNA-A_S29_L001_R1_001.fastq.gz\\x94s\\x8c\\x0breplicate_2\\x94}\\x94h\\xe7C\\x04\\x07\\xe4\\n\\r\\x94\\x85\\x94R\\x94\\x8c\\x91/shared/ngs/illumina/bloom_lab/201013_M03100_0625_000000000-JB2KP/Data/Intensities/BaseCalls/Trial2-WT-SecondInf-fluNA-B_S30_L001_R1_001.fastq.gz\\x94suu\\x8c\\x03syn\\x94}\\x94(\\x8c\\x05fluHA\\x94}\\x94(\\x8c\\x0breplicate_1\\x94}\\x94h\\xe7C\\x04\\x07\\xe4\\n\\r\\x94\\x85\\x94R\\x94\\x8c\\x95/shared/ngs/illumina/bloom_lab/201013_M03100_0625_000000000-JB2KP/Data/Intensities/BaseCalls/Trial2-dblSyn-SecondInf-fluHA-A_S15_L001_R1_001.fastq.gz\\x94s\\x8c\\x0breplicate_2\\x94}\\x94h\\xe7C\\x04\\x07\\xe4\\n\\r\\x94\\x85\\x94R\\x94\\x8c\\x95/shared/ngs/illumina/bloom_lab/201013_M03100_0625_000000000-JB2KP/Data/Intensities/BaseCalls/Trial2-dblSyn-SecondInf-fluHA-B_S16_L001_R1_001.fastq.gz\\x94su\\x8c\\x05fluNA\\x94}\\x94(\\x8c\\x0breplicate_1\\x94}\\x94h\\xe7C\\x04\\x07\\xe4\\n\\r\\x94\\x85\\x94R\\x94\\x8c\\x95/shared/ngs/illumina/bloom_lab/201013_M03100_0625_000000000-JB2KP/Data/Intensities/BaseCalls/Trial2-dblSyn-SecondInf-fluNA-A_S31_L001_R1_001.fastq.gz\\x94s\\x8c\\x0breplicate_2\\x94}\\x94h\\xe7C\\x04\\x07\\xe4\\n\\r\\x94\\x85\\x94R\\x94\\x8c\\x95/shared/ngs/illumina/bloom_lab/201013_M03100_0625_000000000-JB2KP/Data/Intensities/BaseCalls/Trial2-dblSyn-SecondInf-fluNA-B_S32_L001_R1_001.fastq.gz\\x94suuuuu\\x8c\\x1ascProgenyProduction_trial3\\x94}\\x94(\\x8c\\x0bdescription\\x94X\\x1b\\x01\\x00\\x00Single-cell transcriptomics performed on even lower MOI-infected sample. Innoculum volumes based on `scProgenyProduction_trial1` and `scProgenyProduction_trial2` data. Loaded all collected cells from two 24-well wells, each infected with either wildtype or dblySn viral tag variants.\\x94\\x8c\\tlab_notes\\x94\\x8c0https://benchling.com/s/etr-N4laiIAy3AUePJdig7wR\\x94\\x8c\\rexpect_ncells\\x94M\\x10\\'\\x8c\\x0ftranscriptomics\\x94}\\x94(h\\xe7C\\x04\\x07\\xe5\\x03\\x0c\\x94\\x85\\x94R\\x94}\\x94(\\x8c\\x05index\\x94\\x8c\\x08SI-TT-A3\\x94\\x8c\\nbcl_folder\\x94\\x8c_/shared/ngs/illumina/bloom_lab/210312_D00300_1192_BHKHNYBCX3/raw/210312_D00300_1192_BHKHNYBCX3/\\x94\\x8c\\x04lane\\x94K\\x01\\x8c\\x10index_sequencing\\x94\\x8c\\x06single\\x94uh\\xe7C\\x04\\x07\\xe5\\x04\\t\\x94\\x85\\x94R\\x94}\\x94(\\x8c\\x05index\\x94\\x8c\\x08SI-TT-A3\\x94\\x8c\\nbcl_folder\\x94\\x8c_/shared/ngs/illumina/bloom_lab/210409_D00300_1210_BHKC7KBCX3/raw/210409_D00300_1210_BHKC7KBCX3/\\x94\\x8c\\x04lane\\x94h\\xf1\\x8c\\x10index_sequencing\\x94\\x8c\\x06single\\x94uh\\xe7C\\x04\\x07\\xe5\\x08\\x19\\x94\\x85\\x94R\\x94}\\x94(\\x8c\\x05index\\x94\\x8c\\x08SI-TT-A3\\x94\\x8c\\nbcl_folder\\x94\\x8c_/shared/ngs/illumina/bloom_lab/210825_D00300_1310_BHMH5TBCX3/raw/210825_D00300_1310_BHMH5TBCX3/\\x94\\x8c\\x04lane\\x94h\\xf1\\x8c\\x10index_sequencing\\x94\\x8c\\x04none\\x94uh\\xe7C\\x04\\x07\\xe5\\t\\x0f\\x94\\x85\\x94R\\x94}\\x94(\\x8c\\x05index\\x94\\x8c\\x08SI-TT-A3\\x94\\x8c\\nbcl_folder\\x94\\x8cY/shared/ngs/illumina/bloom_lab/210915_VH00699_2_AAAMCL7M5/raw/210915_VH00699_2_AAAMCL7M5/\\x94\\x8c\\x04lane\\x94h\\xf1\\x8c\\x10index_sequencing\\x94\\x8c\\x04none\\x94uu\\x8c\\x17pacbio_viral_sequencing\\x94}\\x94\\x8c\\x1c2021-08-05_all_segments_run1\\x94\\x8cp/fh/fast/bloom_j/SR/ngs/pacbio/210730_SequelIIe/r64272e_20210730_182729/1_A01/m64272e_210730_193026.subreads.bam\\x94s\\x8c\\x0eviral_barcodes\\x94}\\x94(\\x8c\\x0bsupernatant\\x94}\\x94(\\x8c\\x02wt\\x94}\\x94(\\x8c\\x05fluHA\\x94}\\x94(\\x8c\\x0breplicate_1\\x94}\\x94h\\xe7C\\x04\\x07\\xe5\\x04\\x08\\x94\\x85\\x94R\\x94\\x8c\\x90/shared/ngs/illumina/bloom_lab/210408_M04866_0464_000000000-JL5M4_new-demux/Data/Intensities/BaseCalls/WT-sup-fluHA-rep1_S9_L001_R1_001.fastq.gz\\x94s\\x8c\\x0breplicate_2\\x94}\\x94h\\xe7C\\x04\\x07\\xe5\\x04\\x08\\x94\\x85\\x94R\\x94\\x8c\\x91/shared/ngs/illumina/bloom_lab/210408_M04866_0464_000000000-JL5M4_new-demux/Data/Intensities/BaseCalls/WT-sup-fluHA-rep2_S13_L001_R1_001.fastq.gz\\x94su\\x8c\\x05fluNA\\x94}\\x94(\\x8c\\x0breplicate_1\\x94}\\x94h\\xe7C\\x04\\x07\\xe5\\x04\\x08\\x94\\x85\\x94R\\x94\\x8c\\x90/shared/ngs/illumina/bloom_lab/210408_M04866_0464_000000000-JL5M4_new-demux/Data/Intensities/BaseCalls/WT-sup-fluNA-rep1_S1_L001_R1_001.fastq.gz\\x94s\\x8c\\x0breplicate_2\\x94}\\x94h\\xe7C\\x04\\x07\\xe5\\x05\\x11\\x94\\x85\\x94R\\x94\\x8c\\x86/shared/ngs/illumina/bloom_lab/210517_M03100_0681_000000000-JL4TM/Data/Intensities/BaseCalls/WT-sup-fluNA-rep2_S1_L001_R1_001.fastq.gz\\x94suu\\x8c\\x03syn\\x94}\\x94(\\x8c\\x05fluHA\\x94}\\x94(\\x8c\\x0breplicate_1\\x94}\\x94h\\xe7C\\x04\\x07\\xe5\\x04\\x08\\x94\\x85\\x94R\\x94\\x8c\\x95/shared/ngs/illumina/bloom_lab/210408_M04866_0464_000000000-JL5M4_new-demux/Data/Intensities/BaseCalls/dblSyn-sup-fluHA-rep1_S10_L001_R1_001.fastq.gz\\x94s\\x8c\\x0breplicate_2\\x94}\\x94h\\xe7C\\x04\\x07\\xe5\\x04\\x08\\x94\\x85\\x94R\\x94\\x8c\\x95/shared/ngs/illumina/bloom_lab/210408_M04866_0464_000000000-JL5M4_new-demux/Data/Intensities/BaseCalls/dblSyn-sup-fluHA-rep2_S14_L001_R1_001.fastq.gz\\x94su\\x8c\\x05fluNA\\x94}\\x94(\\x8c\\x0breplicate_1\\x94}\\x94h\\xe7C\\x04\\x07\\xe5\\x04\\x08\\x94\\x85\\x94R\\x94\\x8c\\x94/shared/ngs/illumina/bloom_lab/210408_M04866_0464_000000000-JL5M4_new-demux/Data/Intensities/BaseCalls/dblSyn-sup-fluNA-rep1_S2_L001_R1_001.fastq.gz\\x94s\\x8c\\x0breplicate_2\\x94}\\x94h\\xe7C\\x04\\x07\\xe5\\x04\\x08\\x94\\x85\\x94R\\x94\\x8c\\x94/shared/ngs/illumina/bloom_lab/210408_M04866_0464_000000000-JL5M4_new-demux/Data/Intensities/BaseCalls/dblSyn-sup-fluNA-rep2_S6_L001_R1_001.fastq.gz\\x94suuu\\x8c\\x10second_infection\\x94}\\x94(\\x8c\\x02wt\\x94}\\x94(\\x8c\\x05fluHA\\x94}\\x94(\\x8c\\x0breplicate_1\\x94}\\x94h\\xe7C\\x04\\x07\\xe5\\x05\\x11\\x94\\x85\\x94R\\x94\\x8c\\x85/shared/ngs/illumina/bloom_lab/210517_M03100_0681_000000000-JL4TM/Data/Intensities/BaseCalls/WT-SI-fluHA-rep1_S2_L001_R1_001.fastq.gz\\x94s\\x8c\\x0breplicate_2\\x94}\\x94h\\xe7C\\x04\\x07\\xe5\\x05\\x11\\x94\\x85\\x94R\\x94\\x8c\\x85/shared/ngs/illumina/bloom_lab/210517_M03100_0681_000000000-JL4TM/Data/Intensities/BaseCalls/WT-SI-fluHA-rep2_S3_L001_R1_001.fastq.gz\\x94su\\x8c\\x05fluNA\\x94}\\x94(\\x8c\\x0breplicate_1\\x94}\\x94h\\xe7C\\x04\\x07\\xe5\\x05\\x11\\x94\\x85\\x94R\\x94\\x8c\\x86/shared/ngs/illumina/bloom_lab/210517_M03100_0681_000000000-JL4TM/Data/Intensities/BaseCalls/WT-SI-fluNA-rep1_S11_L001_R1_001.fastq.gz\\x94s\\x8c\\x0breplicate_2\\x94}\\x94h\\xe7C\\x04\\x07\\xe5\\x05\\x11\\x94\\x85\\x94R\\x94\\x8c\\x86/shared/ngs/illumina/bloom_lab/210517_M03100_0681_000000000-JL4TM/Data/Intensities/BaseCalls/WT-SI-fluNA-rep2_S12_L001_R1_001.fastq.gz\\x94suu\\x8c\\x03syn\\x94}\\x94(\\x8c\\x05fluHA\\x94}\\x94(\\x8c\\x0breplicate_1\\x94}\\x94h\\xe7C\\x04\\x07\\xe5\\x05\\x11\\x94\\x85\\x94R\\x94\\x8c\\x89/shared/ngs/illumina/bloom_lab/210517_M03100_0681_000000000-JL4TM/Data/Intensities/BaseCalls/dblSyn-SI-fluHA-rep1_S4_L001_R1_001.fastq.gz\\x94s\\x8c\\x0breplicate_2\\x94}\\x94h\\xe7C\\x04\\x07\\xe5\\x05\\x11\\x94\\x85\\x94R\\x94\\x8c\\x89/shared/ngs/illumina/bloom_lab/210517_M03100_0681_000000000-JL4TM/Data/Intensities/BaseCalls/dblSyn-SI-fluHA-rep2_S5_L001_R1_001.fastq.gz\\x94su\\x8c\\x05fluNA\\x94}\\x94(\\x8c\\x0breplicate_1\\x94}\\x94h\\xe7C\\x04\\x07\\xe5\\x05\\x11\\x94\\x85\\x94R\\x94\\x8c\\x8a/shared/ngs/illumina/bloom_lab/210517_M03100_0681_000000000-JL4TM/Data/Intensities/BaseCalls/dblSyn-SI-fluNA-rep1_S13_L001_R1_001.fastq.gz\\x94s\\x8c\\x0breplicate_2\\x94}\\x94h\\xe7C\\x04\\x07\\xe5\\x05\\x11\\x94\\x85\\x94R\\x94\\x8c\\x8a/shared/ngs/illumina/bloom_lab/210517_M03100_0681_000000000-JL4TM/Data/Intensities/BaseCalls/dblSyn-SI-fluNA-rep2_S14_L001_R1_001.fastq.gz\\x94suuuuuuu\\x8c\\x04rule\\x94\\x8c\\x1aassign_viral_tags_to_cells\\x94\\x8c\\x0fbench_iteration\\x94N\\x8c\\tscriptdir\\x94\\x8c[/fh/fast/bloom_j/computational_notebooks/dbacsik/2019/flu_pdmH1N1_barcode_hashing/notebooks\\x94ub.'); from snakemake.logging import logger; logger.printshellcmds = False; import os; os.chdir('/fh/fast/bloom_j/computational_notebooks/dbacsik/2019/flu_pdmH1N1_barcode_hashing');\n",
    "######## snakemake preamble end #########\n"
   ]
  },
  {
   "cell_type": "markdown",
   "metadata": {},
   "source": [
    "# Assign infection status\n",
    "This Python Jupyter notebook uses the fraction of viral UMIs to determine which cells were infected.\n",
    "\n",
    "Import Python modules:"
   ]
  },
  {
   "cell_type": "code",
   "execution_count": 18,
   "metadata": {},
   "outputs": [],
   "source": [
    "from IPython.display import display\n",
    "\n",
    "from dms_variants.constants import CBPALETTE\n",
    "\n",
    "import kneed\n",
    "\n",
    "import numpy\n",
    "\n",
    "import pandas as pd\n",
    "\n",
    "import plotnine as p9\n",
    "\n",
    "import scanpy"
   ]
  },
  {
   "cell_type": "markdown",
   "metadata": {},
   "source": [
    "Get `snakemake` variables [as described here](https://snakemake.readthedocs.io/en/stable/snakefiles/rules.html#jupyter-notebook-integration):"
   ]
  },
  {
   "cell_type": "code",
   "execution_count": 133,
   "metadata": {},
   "outputs": [],
   "source": [
    "matrix = snakemake.input.matrix\n",
    "features = snakemake.input.features\n",
    "cell_barcodes = snakemake.input.cell_barcodes\n",
    "infection_status_csv = 'results/viral_fastq10x/scProgenyProduction_trial3_infection_status.csv.gz'\n",
    "plot = 'results/viral_fastq10x/scProgenyProduction_trial3_infection_status.svg'\n",
    "viral_genes = snakemake.params.viral_genes\n",
    "expt = snakemake.wildcards.expt"
   ]
  },
  {
   "cell_type": "markdown",
   "metadata": {},
   "source": [
    "Style parameters:"
   ]
  },
  {
   "cell_type": "code",
   "execution_count": 38,
   "metadata": {},
   "outputs": [],
   "source": [
    "p9.theme_set(p9.theme_classic())"
   ]
  },
  {
   "cell_type": "markdown",
   "metadata": {},
   "source": [
    "Read the cell-gene matrix into an [AnnData](https://anndata.readthedocs.io/) object:"
   ]
  },
  {
   "cell_type": "code",
   "execution_count": 7,
   "metadata": {},
   "outputs": [
    {
     "name": "stdout",
     "output_type": "stream",
     "text": [
      "Read cell-gene matrix of 3372 cells and 30959 genes\n"
     ]
    }
   ],
   "source": [
    "adata = scanpy.read_mtx(matrix)\n",
    "adata.var = pd.read_csv(cell_barcodes,\n",
    "                        names=['cell_barcode'])\n",
    "adata.obs = pd.read_csv(features,\n",
    "                        sep='\\t',\n",
    "                        names=['ensemble_id', 'gene', 'feature_type'])\n",
    "\n",
    "print(f\"Read cell-gene matrix of {adata.n_vars} cells and {adata.n_obs} genes\")\n",
    "\n",
    "assert set(viral_genes).issubset(set(adata.obs['gene'])), 'lack viral genes'"
   ]
  },
  {
   "cell_type": "markdown",
   "metadata": {},
   "source": [
    "Now get for each cell:\n",
    " - total UMI corrected reads\n",
    " - UMI corrected viral and cellular\n",
    " - fraction of UMIs that are viral and cellular"
   ]
  },
  {
   "cell_type": "code",
   "execution_count": 10,
   "metadata": {},
   "outputs": [
    {
     "data": {
      "text/html": [
       "<div>\n",
       "<style scoped>\n",
       "    .dataframe tbody tr th:only-of-type {\n",
       "        vertical-align: middle;\n",
       "    }\n",
       "\n",
       "    .dataframe tbody tr th {\n",
       "        vertical-align: top;\n",
       "    }\n",
       "\n",
       "    .dataframe thead th {\n",
       "        text-align: right;\n",
       "    }\n",
       "</style>\n",
       "<table border=\"1\" class=\"dataframe\">\n",
       "  <thead>\n",
       "    <tr style=\"text-align: right;\">\n",
       "      <th></th>\n",
       "      <th>cell_barcode</th>\n",
       "      <th>total_UMIs</th>\n",
       "      <th>viral_UMIs</th>\n",
       "      <th>cellular_UMIs</th>\n",
       "      <th>frac_viral_UMIs</th>\n",
       "      <th>frac_cellular_UMIs</th>\n",
       "    </tr>\n",
       "  </thead>\n",
       "  <tbody>\n",
       "    <tr>\n",
       "      <th>0</th>\n",
       "      <td>AAACCCAGTAACAAGT</td>\n",
       "      <td>47873</td>\n",
       "      <td>6</td>\n",
       "      <td>47867</td>\n",
       "      <td>0.000125</td>\n",
       "      <td>0.999875</td>\n",
       "    </tr>\n",
       "    <tr>\n",
       "      <th>1</th>\n",
       "      <td>AAACCCATCATTGCTT</td>\n",
       "      <td>90114</td>\n",
       "      <td>10</td>\n",
       "      <td>90104</td>\n",
       "      <td>0.000111</td>\n",
       "      <td>0.999889</td>\n",
       "    </tr>\n",
       "    <tr>\n",
       "      <th>2</th>\n",
       "      <td>AAACGAAAGATGTTGA</td>\n",
       "      <td>111630</td>\n",
       "      <td>18</td>\n",
       "      <td>111612</td>\n",
       "      <td>0.000161</td>\n",
       "      <td>0.999839</td>\n",
       "    </tr>\n",
       "    <tr>\n",
       "      <th>3</th>\n",
       "      <td>AAACGAAGTACTTCCC</td>\n",
       "      <td>56828</td>\n",
       "      <td>24082</td>\n",
       "      <td>32746</td>\n",
       "      <td>0.423770</td>\n",
       "      <td>0.576230</td>\n",
       "    </tr>\n",
       "    <tr>\n",
       "      <th>4</th>\n",
       "      <td>AAACGAAGTAGACGTG</td>\n",
       "      <td>124341</td>\n",
       "      <td>4654</td>\n",
       "      <td>119687</td>\n",
       "      <td>0.037429</td>\n",
       "      <td>0.962571</td>\n",
       "    </tr>\n",
       "    <tr>\n",
       "      <th>...</th>\n",
       "      <td>...</td>\n",
       "      <td>...</td>\n",
       "      <td>...</td>\n",
       "      <td>...</td>\n",
       "      <td>...</td>\n",
       "      <td>...</td>\n",
       "    </tr>\n",
       "    <tr>\n",
       "      <th>3367</th>\n",
       "      <td>TTTGATCTCCCGTTCA</td>\n",
       "      <td>63150</td>\n",
       "      <td>3</td>\n",
       "      <td>63147</td>\n",
       "      <td>0.000048</td>\n",
       "      <td>0.999952</td>\n",
       "    </tr>\n",
       "    <tr>\n",
       "      <th>3368</th>\n",
       "      <td>TTTGATCTCGCATTGA</td>\n",
       "      <td>170914</td>\n",
       "      <td>10415</td>\n",
       "      <td>160499</td>\n",
       "      <td>0.060937</td>\n",
       "      <td>0.939063</td>\n",
       "    </tr>\n",
       "    <tr>\n",
       "      <th>3369</th>\n",
       "      <td>TTTGGAGAGTTGCCTA</td>\n",
       "      <td>65941</td>\n",
       "      <td>12</td>\n",
       "      <td>65929</td>\n",
       "      <td>0.000182</td>\n",
       "      <td>0.999818</td>\n",
       "    </tr>\n",
       "    <tr>\n",
       "      <th>3370</th>\n",
       "      <td>TTTGGAGGTATCGTTG</td>\n",
       "      <td>150130</td>\n",
       "      <td>3526</td>\n",
       "      <td>146604</td>\n",
       "      <td>0.023486</td>\n",
       "      <td>0.976514</td>\n",
       "    </tr>\n",
       "    <tr>\n",
       "      <th>3371</th>\n",
       "      <td>TTTGTTGAGTGCAGCA</td>\n",
       "      <td>135009</td>\n",
       "      <td>8</td>\n",
       "      <td>135001</td>\n",
       "      <td>0.000059</td>\n",
       "      <td>0.999941</td>\n",
       "    </tr>\n",
       "  </tbody>\n",
       "</table>\n",
       "<p>3372 rows × 6 columns</p>\n",
       "</div>"
      ],
      "text/plain": [
       "          cell_barcode  total_UMIs  viral_UMIs  cellular_UMIs  \\\n",
       "0     AAACCCAGTAACAAGT       47873           6          47867   \n",
       "1     AAACCCATCATTGCTT       90114          10          90104   \n",
       "2     AAACGAAAGATGTTGA      111630          18         111612   \n",
       "3     AAACGAAGTACTTCCC       56828       24082          32746   \n",
       "4     AAACGAAGTAGACGTG      124341        4654         119687   \n",
       "...                ...         ...         ...            ...   \n",
       "3367  TTTGATCTCCCGTTCA       63150           3          63147   \n",
       "3368  TTTGATCTCGCATTGA      170914       10415         160499   \n",
       "3369  TTTGGAGAGTTGCCTA       65941          12          65929   \n",
       "3370  TTTGGAGGTATCGTTG      150130        3526         146604   \n",
       "3371  TTTGTTGAGTGCAGCA      135009           8         135001   \n",
       "\n",
       "      frac_viral_UMIs  frac_cellular_UMIs  \n",
       "0            0.000125            0.999875  \n",
       "1            0.000111            0.999889  \n",
       "2            0.000161            0.999839  \n",
       "3            0.423770            0.576230  \n",
       "4            0.037429            0.962571  \n",
       "...               ...                 ...  \n",
       "3367         0.000048            0.999952  \n",
       "3368         0.060937            0.939063  \n",
       "3369         0.000182            0.999818  \n",
       "3370         0.023486            0.976514  \n",
       "3371         0.000059            0.999941  \n",
       "\n",
       "[3372 rows x 6 columns]"
      ]
     },
     "metadata": {},
     "output_type": "display_data"
    }
   ],
   "source": [
    "umi_counts = (\n",
    "    adata.var\n",
    "    .assign(total_UMIs=numpy.sum(adata.X, axis=0).A1.astype(int),\n",
    "            viral_UMIs=numpy.sum(adata[adata.obs['gene']\n",
    "                                       .isin(viral_genes), ].X,\n",
    "                                 axis=0).A1.astype(int),\n",
    "            cellular_UMIs=numpy.sum(adata[~adata.obs['gene']\n",
    "                                          .isin(viral_genes), ].X,\n",
    "                                    axis=0).A1.astype(int),\n",
    "            frac_viral_UMIs=lambda x: x['viral_UMIs'] / x['total_UMIs'],\n",
    "            frac_cellular_UMIs=lambda x: x['cellular_UMIs'] / x['total_UMIs'],\n",
    "            )\n",
    "    )\n",
    "display(umi_counts)"
   ]
  },
  {
   "cell_type": "code",
   "execution_count": 12,
   "metadata": {},
   "outputs": [
    {
     "data": {
      "text/html": [
       "<div>\n",
       "<style scoped>\n",
       "    .dataframe tbody tr th:only-of-type {\n",
       "        vertical-align: middle;\n",
       "    }\n",
       "\n",
       "    .dataframe tbody tr th {\n",
       "        vertical-align: top;\n",
       "    }\n",
       "\n",
       "    .dataframe thead th {\n",
       "        text-align: right;\n",
       "    }\n",
       "</style>\n",
       "<table border=\"1\" class=\"dataframe\">\n",
       "  <thead>\n",
       "    <tr style=\"text-align: right;\">\n",
       "      <th></th>\n",
       "      <th>cell_barcode</th>\n",
       "      <th>total_UMIs</th>\n",
       "      <th>viral_UMIs</th>\n",
       "      <th>cellular_UMIs</th>\n",
       "      <th>frac_viral_UMIs</th>\n",
       "      <th>frac_cellular_UMIs</th>\n",
       "      <th>rank_viral_burden</th>\n",
       "    </tr>\n",
       "  </thead>\n",
       "  <tbody>\n",
       "    <tr>\n",
       "      <th>1497</th>\n",
       "      <td>CTGCTCAGTAGCTAAA</td>\n",
       "      <td>87869</td>\n",
       "      <td>58975</td>\n",
       "      <td>28894</td>\n",
       "      <td>0.671170</td>\n",
       "      <td>0.328830</td>\n",
       "      <td>1.0</td>\n",
       "    </tr>\n",
       "    <tr>\n",
       "      <th>1374</th>\n",
       "      <td>CTACTATCAGGTCCGT</td>\n",
       "      <td>36463</td>\n",
       "      <td>24258</td>\n",
       "      <td>12205</td>\n",
       "      <td>0.665277</td>\n",
       "      <td>0.334723</td>\n",
       "      <td>2.0</td>\n",
       "    </tr>\n",
       "    <tr>\n",
       "      <th>1948</th>\n",
       "      <td>GGAACCCTCGGTCGAC</td>\n",
       "      <td>35834</td>\n",
       "      <td>23823</td>\n",
       "      <td>12011</td>\n",
       "      <td>0.664816</td>\n",
       "      <td>0.335184</td>\n",
       "      <td>3.0</td>\n",
       "    </tr>\n",
       "    <tr>\n",
       "      <th>2616</th>\n",
       "      <td>TATGTTCCACCCTTGT</td>\n",
       "      <td>82542</td>\n",
       "      <td>53598</td>\n",
       "      <td>28944</td>\n",
       "      <td>0.649342</td>\n",
       "      <td>0.350658</td>\n",
       "      <td>4.0</td>\n",
       "    </tr>\n",
       "    <tr>\n",
       "      <th>886</th>\n",
       "      <td>CACGGGTTCCTGTAAG</td>\n",
       "      <td>82578</td>\n",
       "      <td>52101</td>\n",
       "      <td>30477</td>\n",
       "      <td>0.630931</td>\n",
       "      <td>0.369069</td>\n",
       "      <td>5.0</td>\n",
       "    </tr>\n",
       "    <tr>\n",
       "      <th>...</th>\n",
       "      <td>...</td>\n",
       "      <td>...</td>\n",
       "      <td>...</td>\n",
       "      <td>...</td>\n",
       "      <td>...</td>\n",
       "      <td>...</td>\n",
       "      <td>...</td>\n",
       "    </tr>\n",
       "    <tr>\n",
       "      <th>2083</th>\n",
       "      <td>GGTCTGGGTGAGAGGG</td>\n",
       "      <td>18017</td>\n",
       "      <td>0</td>\n",
       "      <td>18017</td>\n",
       "      <td>0.000000</td>\n",
       "      <td>1.000000</td>\n",
       "      <td>3368.0</td>\n",
       "    </tr>\n",
       "    <tr>\n",
       "      <th>2234</th>\n",
       "      <td>GTCGCGACAACTTGCA</td>\n",
       "      <td>44803</td>\n",
       "      <td>0</td>\n",
       "      <td>44803</td>\n",
       "      <td>0.000000</td>\n",
       "      <td>1.000000</td>\n",
       "      <td>3369.0</td>\n",
       "    </tr>\n",
       "    <tr>\n",
       "      <th>3182</th>\n",
       "      <td>TTATTGCAGGCGAAGG</td>\n",
       "      <td>23504</td>\n",
       "      <td>0</td>\n",
       "      <td>23504</td>\n",
       "      <td>0.000000</td>\n",
       "      <td>1.000000</td>\n",
       "      <td>3370.0</td>\n",
       "    </tr>\n",
       "    <tr>\n",
       "      <th>3287</th>\n",
       "      <td>TTGCGTCGTTTGTGGT</td>\n",
       "      <td>29390</td>\n",
       "      <td>0</td>\n",
       "      <td>29390</td>\n",
       "      <td>0.000000</td>\n",
       "      <td>1.000000</td>\n",
       "      <td>3371.0</td>\n",
       "    </tr>\n",
       "    <tr>\n",
       "      <th>3317</th>\n",
       "      <td>TTGTGTTGTACCGTCG</td>\n",
       "      <td>54957</td>\n",
       "      <td>0</td>\n",
       "      <td>54957</td>\n",
       "      <td>0.000000</td>\n",
       "      <td>1.000000</td>\n",
       "      <td>3372.0</td>\n",
       "    </tr>\n",
       "  </tbody>\n",
       "</table>\n",
       "<p>3372 rows × 7 columns</p>\n",
       "</div>"
      ],
      "text/plain": [
       "          cell_barcode  total_UMIs  viral_UMIs  cellular_UMIs  \\\n",
       "1497  CTGCTCAGTAGCTAAA       87869       58975          28894   \n",
       "1374  CTACTATCAGGTCCGT       36463       24258          12205   \n",
       "1948  GGAACCCTCGGTCGAC       35834       23823          12011   \n",
       "2616  TATGTTCCACCCTTGT       82542       53598          28944   \n",
       "886   CACGGGTTCCTGTAAG       82578       52101          30477   \n",
       "...                ...         ...         ...            ...   \n",
       "2083  GGTCTGGGTGAGAGGG       18017           0          18017   \n",
       "2234  GTCGCGACAACTTGCA       44803           0          44803   \n",
       "3182  TTATTGCAGGCGAAGG       23504           0          23504   \n",
       "3287  TTGCGTCGTTTGTGGT       29390           0          29390   \n",
       "3317  TTGTGTTGTACCGTCG       54957           0          54957   \n",
       "\n",
       "      frac_viral_UMIs  frac_cellular_UMIs  rank_viral_burden  \n",
       "1497         0.671170            0.328830                1.0  \n",
       "1374         0.665277            0.334723                2.0  \n",
       "1948         0.664816            0.335184                3.0  \n",
       "2616         0.649342            0.350658                4.0  \n",
       "886          0.630931            0.369069                5.0  \n",
       "...               ...                 ...                ...  \n",
       "2083         0.000000            1.000000             3368.0  \n",
       "2234         0.000000            1.000000             3369.0  \n",
       "3182         0.000000            1.000000             3370.0  \n",
       "3287         0.000000            1.000000             3371.0  \n",
       "3317         0.000000            1.000000             3372.0  \n",
       "\n",
       "[3372 rows x 7 columns]"
      ]
     },
     "metadata": {},
     "output_type": "display_data"
    }
   ],
   "source": [
    "umi_counts['rank_viral_burden'] = umi_counts['frac_viral_UMIs'].rank(method='first', ascending=False)\n",
    "display(umi_counts.sort_values(by='rank_viral_burden'))"
   ]
  },
  {
   "cell_type": "markdown",
   "metadata": {},
   "source": [
    "## Assign infection status\n",
    "\n",
    "We will use two thresholds to label cells' infection status. The first is a threshold for cell that are clearly infected. The second is a threshold for cells that are ambiguous. These cells could either have been infected and expressed low levels of viral transcripts or the droplet may have incorporated many viral transcripts from the ambient supernatant."
   ]
  },
  {
   "cell_type": "code",
   "execution_count": 126,
   "metadata": {},
   "outputs": [
    {
     "data": {
      "text/plain": [
       "False        2734\n",
       "True          540\n",
       "ambiguous      98\n",
       "Name: infected, dtype: int64"
      ]
     },
     "execution_count": 126,
     "metadata": {},
     "output_type": "execute_result"
    }
   ],
   "source": [
    "infected_threshold = 5e-3\n",
    "ambiguous_threshold = infected_threshold / 10\n",
    "\n",
    "def assign_infection_status(x):\n",
    "    if x['frac_viral_UMIs'] > infected_threshold:\n",
    "        return True\n",
    "    elif (x['frac_viral_UMIs'] <= infected_threshold) & \\\n",
    "         (x['frac_viral_UMIs'] > ambiguous_threshold):\n",
    "        return 'ambiguous'\n",
    "    else:\n",
    "        return False\n",
    "    \n",
    "umi_counts['infected'] = umi_counts.apply(assign_infection_status, axis=1)\n",
    "umi_counts['infected'].value_counts()"
   ]
  },
  {
   "cell_type": "code",
   "execution_count": 127,
   "metadata": {},
   "outputs": [
    {
     "name": "stderr",
     "output_type": "stream",
     "text": [
      "/fh/fast/bloom_j/software/miniconda3/envs/barcoded_flu_pdmH1N1/lib/python3.8/site-packages/pandas/core/series.py:726: RuntimeWarning: divide by zero encountered in log10\n"
     ]
    },
    {
     "data": {
      "image/png": "[encoded data removed]",
      "text/plain": [
       "<Figure size 400x200 with 1 Axes>"
      ]
     },
     "metadata": {},
     "output_type": "display_data"
    },
    {
     "data": {
      "text/plain": [
       "<ggplot: (8749640043141)>"
      ]
     },
     "metadata": {},
     "output_type": "display_data"
    }
   ],
   "source": [
    "viral_burden_knee_plot = (\n",
    "    p9.ggplot(\n",
    "        (umi_counts),\n",
    "        p9.aes(x='rank_viral_burden',\n",
    "               y='frac_viral_UMIs',\n",
    "               color='factor(infected)')) +\n",
    "    p9.geom_point(alpha=0.1) +\n",
    "    p9.scale_y_log10() +\n",
    "    p9.theme(figure_size=(4, 2),\n",
    "             plot_title=p9.element_text(size=9),\n",
    "             axis_title=p9.element_text(size=9),\n",
    "             legend_title=p9.element_text(size=9),\n",
    "             legend_title_align='center') +\n",
    "    p9.scale_color_manual(CBPALETTE)\n",
    ")\n",
    "display(viral_burden_knee_plot)"
   ]
  },
  {
   "cell_type": "markdown",
   "metadata": {},
   "source": [
    "Examine relationship between total UMIs and viral UMIs"
   ]
  },
  {
   "cell_type": "code",
   "execution_count": 128,
   "metadata": {},
   "outputs": [
    {
     "name": "stderr",
     "output_type": "stream",
     "text": [
      "/fh/fast/bloom_j/software/miniconda3/envs/barcoded_flu_pdmH1N1/lib/python3.8/site-packages/pandas/core/series.py:726: RuntimeWarning: divide by zero encountered in log10\n"
     ]
    },
    {
     "data": {
      "image/png": "[encoded data removed]",
      "text/plain": [
       "<Figure size 400x300 with 1 Axes>"
      ]
     },
     "metadata": {},
     "output_type": "display_data"
    },
    {
     "data": {
      "text/plain": [
       "<ggplot: (8749630666602)>"
      ]
     },
     "metadata": {},
     "output_type": "display_data"
    }
   ],
   "source": [
    "capture_efficiency_plot = (\n",
    "    p9.ggplot(\n",
    "        (umi_counts),\n",
    "        p9.aes(x='total_UMIs',\n",
    "               y='viral_UMIs',\n",
    "               color='factor(infected)')) +\n",
    "    p9.geom_point(alpha=0.2) +\n",
    "    p9.scale_x_log10() +\n",
    "    p9.scale_y_log10() +\n",
    "    p9.ggtitle('Viral UMIs as a function of total UMIs captured') +\n",
    "    p9.theme(figure_size=(4, 3),\n",
    "             plot_title=p9.element_text(size=9),\n",
    "             axis_title=p9.element_text(size=9),\n",
    "             legend_title=p9.element_text(size=9),\n",
    "             legend_title_align='center') +\n",
    "    p9.scale_color_manual(CBPALETTE)\n",
    ")\n",
    "display(capture_efficiency_plot)"
   ]
  },
  {
   "cell_type": "markdown",
   "metadata": {},
   "source": [
    "Export knee plot"
   ]
  },
  {
   "cell_type": "code",
   "execution_count": 134,
   "metadata": {},
   "outputs": [
    {
     "name": "stdout",
     "output_type": "stream",
     "text": [
      "Saving knee plot to results/viral_fastq10x/scProgenyProduction_trial3_infection_status.svg\n"
     ]
    },
    {
     "name": "stderr",
     "output_type": "stream",
     "text": [
      "/fh/fast/bloom_j/software/miniconda3/envs/barcoded_flu_pdmH1N1/lib/python3.8/site-packages/plotnine/ggplot.py:727: PlotnineWarning: Saving 4 x 2 in image.\n",
      "/fh/fast/bloom_j/software/miniconda3/envs/barcoded_flu_pdmH1N1/lib/python3.8/site-packages/plotnine/ggplot.py:730: PlotnineWarning: Filename: results/viral_fastq10x/scProgenyProduction_trial3_infection_status.svg\n",
      "/fh/fast/bloom_j/software/miniconda3/envs/barcoded_flu_pdmH1N1/lib/python3.8/site-packages/pandas/core/series.py:726: RuntimeWarning: divide by zero encountered in log10\n"
     ]
    }
   ],
   "source": [
    "print(f\"Saving knee plot to {plot}\")\n",
    "viral_burden_knee_plot.save(plot)"
   ]
  },
  {
   "cell_type": "markdown",
   "metadata": {},
   "source": [
    "Export infection status and UMI counts in a CSV:"
   ]
  },
  {
   "cell_type": "code",
   "execution_count": 129,
   "metadata": {},
   "outputs": [
    {
     "data": {
      "text/html": [
       "<div>\n",
       "<style scoped>\n",
       "    .dataframe tbody tr th:only-of-type {\n",
       "        vertical-align: middle;\n",
       "    }\n",
       "\n",
       "    .dataframe tbody tr th {\n",
       "        vertical-align: top;\n",
       "    }\n",
       "\n",
       "    .dataframe thead th {\n",
       "        text-align: right;\n",
       "    }\n",
       "</style>\n",
       "<table border=\"1\" class=\"dataframe\">\n",
       "  <thead>\n",
       "    <tr style=\"text-align: right;\">\n",
       "      <th></th>\n",
       "      <th>cell_barcode</th>\n",
       "      <th>total_UMIs</th>\n",
       "      <th>viral_UMIs</th>\n",
       "      <th>cellular_UMIs</th>\n",
       "      <th>frac_viral_UMIs</th>\n",
       "      <th>infected</th>\n",
       "    </tr>\n",
       "  </thead>\n",
       "  <tbody>\n",
       "    <tr>\n",
       "      <th>0</th>\n",
       "      <td>AAACCCAGTAACAAGT</td>\n",
       "      <td>47873</td>\n",
       "      <td>6</td>\n",
       "      <td>47867</td>\n",
       "      <td>0.000125</td>\n",
       "      <td>False</td>\n",
       "    </tr>\n",
       "    <tr>\n",
       "      <th>1</th>\n",
       "      <td>AAACCCATCATTGCTT</td>\n",
       "      <td>90114</td>\n",
       "      <td>10</td>\n",
       "      <td>90104</td>\n",
       "      <td>0.000111</td>\n",
       "      <td>False</td>\n",
       "    </tr>\n",
       "    <tr>\n",
       "      <th>2</th>\n",
       "      <td>AAACGAAAGATGTTGA</td>\n",
       "      <td>111630</td>\n",
       "      <td>18</td>\n",
       "      <td>111612</td>\n",
       "      <td>0.000161</td>\n",
       "      <td>False</td>\n",
       "    </tr>\n",
       "    <tr>\n",
       "      <th>3</th>\n",
       "      <td>AAACGAAGTACTTCCC</td>\n",
       "      <td>56828</td>\n",
       "      <td>24082</td>\n",
       "      <td>32746</td>\n",
       "      <td>0.423770</td>\n",
       "      <td>True</td>\n",
       "    </tr>\n",
       "    <tr>\n",
       "      <th>4</th>\n",
       "      <td>AAACGAAGTAGACGTG</td>\n",
       "      <td>124341</td>\n",
       "      <td>4654</td>\n",
       "      <td>119687</td>\n",
       "      <td>0.037429</td>\n",
       "      <td>True</td>\n",
       "    </tr>\n",
       "    <tr>\n",
       "      <th>...</th>\n",
       "      <td>...</td>\n",
       "      <td>...</td>\n",
       "      <td>...</td>\n",
       "      <td>...</td>\n",
       "      <td>...</td>\n",
       "      <td>...</td>\n",
       "    </tr>\n",
       "    <tr>\n",
       "      <th>3367</th>\n",
       "      <td>TTTGATCTCCCGTTCA</td>\n",
       "      <td>63150</td>\n",
       "      <td>3</td>\n",
       "      <td>63147</td>\n",
       "      <td>0.000048</td>\n",
       "      <td>False</td>\n",
       "    </tr>\n",
       "    <tr>\n",
       "      <th>3368</th>\n",
       "      <td>TTTGATCTCGCATTGA</td>\n",
       "      <td>170914</td>\n",
       "      <td>10415</td>\n",
       "      <td>160499</td>\n",
       "      <td>0.060937</td>\n",
       "      <td>True</td>\n",
       "    </tr>\n",
       "    <tr>\n",
       "      <th>3369</th>\n",
       "      <td>TTTGGAGAGTTGCCTA</td>\n",
       "      <td>65941</td>\n",
       "      <td>12</td>\n",
       "      <td>65929</td>\n",
       "      <td>0.000182</td>\n",
       "      <td>False</td>\n",
       "    </tr>\n",
       "    <tr>\n",
       "      <th>3370</th>\n",
       "      <td>TTTGGAGGTATCGTTG</td>\n",
       "      <td>150130</td>\n",
       "      <td>3526</td>\n",
       "      <td>146604</td>\n",
       "      <td>0.023486</td>\n",
       "      <td>True</td>\n",
       "    </tr>\n",
       "    <tr>\n",
       "      <th>3371</th>\n",
       "      <td>TTTGTTGAGTGCAGCA</td>\n",
       "      <td>135009</td>\n",
       "      <td>8</td>\n",
       "      <td>135001</td>\n",
       "      <td>0.000059</td>\n",
       "      <td>False</td>\n",
       "    </tr>\n",
       "  </tbody>\n",
       "</table>\n",
       "<p>3372 rows × 6 columns</p>\n",
       "</div>"
      ],
      "text/plain": [
       "          cell_barcode  total_UMIs  viral_UMIs  cellular_UMIs  \\\n",
       "0     AAACCCAGTAACAAGT       47873           6          47867   \n",
       "1     AAACCCATCATTGCTT       90114          10          90104   \n",
       "2     AAACGAAAGATGTTGA      111630          18         111612   \n",
       "3     AAACGAAGTACTTCCC       56828       24082          32746   \n",
       "4     AAACGAAGTAGACGTG      124341        4654         119687   \n",
       "...                ...         ...         ...            ...   \n",
       "3367  TTTGATCTCCCGTTCA       63150           3          63147   \n",
       "3368  TTTGATCTCGCATTGA      170914       10415         160499   \n",
       "3369  TTTGGAGAGTTGCCTA       65941          12          65929   \n",
       "3370  TTTGGAGGTATCGTTG      150130        3526         146604   \n",
       "3371  TTTGTTGAGTGCAGCA      135009           8         135001   \n",
       "\n",
       "      frac_viral_UMIs infected  \n",
       "0            0.000125    False  \n",
       "1            0.000111    False  \n",
       "2            0.000161    False  \n",
       "3            0.423770     True  \n",
       "4            0.037429     True  \n",
       "...               ...      ...  \n",
       "3367         0.000048    False  \n",
       "3368         0.060937     True  \n",
       "3369         0.000182    False  \n",
       "3370         0.023486     True  \n",
       "3371         0.000059    False  \n",
       "\n",
       "[3372 rows x 6 columns]"
      ]
     },
     "metadata": {},
     "output_type": "display_data"
    },
    {
     "name": "stdout",
     "output_type": "stream",
     "text": [
      "Saving viral-tag annotated cell barcodes to results/viral_fastq10x/scProgenyProduction_trial3_infection_status.csv.gz\n"
     ]
    }
   ],
   "source": [
    "infection_status_curated = (\n",
    "    umi_counts\n",
    "    [['cell_barcode', 'total_UMIs', 'viral_UMIs',\n",
    "      'cellular_UMIs', 'frac_viral_UMIs',\n",
    "      'infected']]\n",
    "    )\n",
    "\n",
    "display(infection_status_curated)\n",
    "\n",
    "assert (infection_status_curated['cell_barcode'] ==\n",
    "        adata.var['cell_barcode']).all(), 'cell barcodes out of order'\n",
    "\n",
    "print(f\"Saving viral-tag annotated cell barcodes to {infection_status_csv}\")\n",
    "infection_status_curated.to_csv(infection_status_csv,\n",
    "                          compression='gzip',\n",
    "                          index=False)"
   ]
  },
  {
   "cell_type": "code",
   "execution_count": null,
   "metadata": {},
   "outputs": [],
   "source": []
  }
 ],
 "metadata": {
  "kernelspec": {
   "display_name": "Python 3",
   "language": "python",
   "name": "python3"
  },
  "language_info": {
   "codemirror_mode": {
    "name": "ipython",
    "version": 3
   },
   "file_extension": ".py",
   "mimetype": "text/x-python",
   "name": "python",
   "nbconvert_exporter": "python",
   "pygments_lexer": "ipython3",
   "version": "3.8.6"
  }
 },
 "nbformat": 4,
 "nbformat_minor": 4
}
