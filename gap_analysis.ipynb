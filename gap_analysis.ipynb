{
 "cells": [
  {
   "cell_type": "markdown",
   "metadata": {
    "tags": []
   },
   "source": [
    "# Analysis of gapped reads in 10X scRNA sequencing data\n",
    "This Python Jupyter notebook examines where the 10X aligned FASTQ reads fall on the viral genes (coverage). After identifying large gaps in many reads, I estimate the size of the molecules those gaps come from, as well as check for common sequence motifs related to the gaps."
   ]
  },
  {
   "cell_type": "markdown",
   "metadata": {
    "tags": []
   },
   "source": [
    "## Parameters\n",
    "First, set the parameters for the notebook, such as to specify the input files and output plots.\n",
    "This is done in the next cell, which is tagged as a `parameters` cell to enable [papermill parameterization](https://papermill.readthedocs.io/en/latest/usage-parameterize.html):"
   ]
  },
  {
   "cell_type": "code",
   "execution_count": 6,
   "metadata": {
    "tags": [
     "parameters"
    ]
   },
   "outputs": [],
   "source": [
    "# parameters cell; in order for notebook to run this cell must define:\n",
    "#  - samples_10x: list of 10X samples\n",
    "#  - input_fastq10x_bams: list of BAM file with alignments of 10X reads for each sample\n",
    "#  - input_fastq10x_bais: BAM indices for each file in `input_fastq10x_bam`\n",
    "#  - input_viral_genbank: Genbank file with annotated viral genes\n",
    "#  - output_viraltag_locs: output file with location of viral tags (1, ..., numbering)\n",
    "#  - output_viralbc_locs: output file with location of viral barcodes (1, ..., numbering)"
   ]
  },
  {
   "cell_type": "code",
   "execution_count": 7,
   "metadata": {},
   "outputs": [],
   "source": [
    "# hardcoded parameters cell\n",
    "samples_10x = ['pilot_20200116'] #list of 10X samples\n",
    "input_fastq10x_bams = ['results/aligned_fastq10x/pilot_20200116/Aligned.sortedByCoord.out.bam'] #list of BAM file with alignments of 10X reads for each sample\n",
    "input_fastq10x_bais = ['results/aligned_fastq10x/pilot_20200116/Aligned.sortedByCoord.out.bam.bai'] #BAM indices for each file in `input_fastq10x_bam`\n",
    "input_viral_genbank = 'data/flu_sequences/flu-CA09.gb' #Genbank file with annotated viral genes\n",
    "output_viraltag_locs = 'viraltag_locs_tmp.csv' #output file with location of viral tags (1, ..., numbering)\n",
    "output_viralbc_locs = 'viralbc_locs_tmp.csv' #output file with location of viral barcodes (1, ..., numbering)"
   ]
  },
  {
   "cell_type": "markdown",
   "metadata": {
    "tags": []
   },
   "source": [
    "Check input lists all the right length, then make dicts that map sample names to BAM and BAM index files:"
   ]
  },
  {
   "cell_type": "code",
   "execution_count": 8,
   "metadata": {
    "tags": []
   },
   "outputs": [],
   "source": [
    "assert len(samples_10x) == len(input_fastq10x_bams) == len(input_fastq10x_bais)\n",
    "\n",
    "fastq10x_bams = dict(zip(samples_10x, input_fastq10x_bams))\n",
    "fastq10x_bais = dict(zip(samples_10x, input_fastq10x_bais))"
   ]
  },
  {
   "cell_type": "markdown",
   "metadata": {
    "tags": []
   },
   "source": [
    "## Import Python modules\n",
    "We use [pysam](https://pysam.readthedocs.io/) to plot process the BAM files, [dna_features_viewer](https://edinburgh-genome-foundry.github.io/DnaFeaturesViewer/) for genes, and [plotnine](https://plotnine.readthedocs.io/) for some ggplot2-style plotting:"
   ]
  },
  {
   "cell_type": "code",
   "execution_count": 51,
   "metadata": {
    "tags": []
   },
   "outputs": [],
   "source": [
    "import collections\n",
    "import itertools\n",
    "\n",
    "import Bio.SeqIO\n",
    "\n",
    "from IPython.display import display, HTML\n",
    "\n",
    "import mizani\n",
    "\n",
    "import pandas as pd\n",
    "\n",
    "from plotnine import *\n",
    "\n",
    "from pymodules.plot_viral_genes import plot_genes_and_coverage\n",
    "\n",
    "import pysam\n",
    "\n",
    "import warnings\n",
    "import matplotlib.cbook\n",
    "warnings.filterwarnings(\"ignore\", category=DeprecationWarning)\n",
    "warnings.filterwarnings(\"ignore\",category=matplotlib.cbook.mplDeprecation)"
   ]
  },
  {
   "cell_type": "markdown",
   "metadata": {
    "tags": []
   },
   "source": [
    "Color-blind palette:"
   ]
  },
  {
   "cell_type": "code",
   "execution_count": 10,
   "metadata": {
    "tags": []
   },
   "outputs": [],
   "source": [
    "cbpalette = ('#999999', '#E69F00', '#56B4E9', '#009E73',\n",
    "             '#F0E442', '#0072B2', '#D55E00', '#CC79A7')"
   ]
  },
  {
   "cell_type": "markdown",
   "metadata": {
    "tags": []
   },
   "source": [
    "Set [plotnine theme](https://plotnine.readthedocs.io/en/stable/api.html#themes):"
   ]
  },
  {
   "cell_type": "code",
   "execution_count": 11,
   "metadata": {
    "tags": []
   },
   "outputs": [],
   "source": [
    "_ = theme_set(theme_classic)"
   ]
  },
  {
   "cell_type": "markdown",
   "metadata": {
    "tags": []
   },
   "source": [
    "## Read the viral genes\n",
    "Get all the viral genes as [BioPython SeqRecords](https://biopython.org/wiki/SeqRecord):"
   ]
  },
  {
   "cell_type": "code",
   "execution_count": 12,
   "metadata": {
    "tags": []
   },
   "outputs": [
    {
     "name": "stdout",
     "output_type": "stream",
     "text": [
      "Reading viral genes from data/flu_sequences/flu-CA09.gb\n",
      "Found 8 viral genes:\n",
      "\tfluPB2\n",
      "\tfluPB1\n",
      "\tfluPA\n",
      "\tfluHA\n",
      "\tfluNP\n",
      "\tfluNA\n",
      "\tfluM\n",
      "\tfluNS\n"
     ]
    }
   ],
   "source": [
    "print(f\"Reading viral genes from {input_viral_genbank}\")\n",
    "viral_genes = list(Bio.SeqIO.parse(input_viral_genbank, 'genbank'))\n",
    "viral_gene_names = [s.id for s in viral_genes]\n",
    "print(f\"Found {len(viral_gene_names)} viral genes:\\n\\t\" +\n",
    "      '\\n\\t'.join(viral_gene_names))\n",
    "assert len(viral_genes) == len(set(viral_gene_names)), 'viral gene names not unique'"
   ]
  },
  {
   "cell_type": "markdown",
   "metadata": {
    "tags": []
   },
   "source": [
    "## Get viral tag and barcode locations\n",
    "Get the locations of the viral tags and barcodes for each gene in 1-based indexing inclusive of the first and last number (so the type of numbering that Genbank files use):"
   ]
  },
  {
   "cell_type": "code",
   "execution_count": 13,
   "metadata": {
    "tags": []
   },
   "outputs": [
    {
     "name": "stdout",
     "output_type": "stream",
     "text": [
      "\n",
      "Viral tag locations; writing to viraltag_locs_tmp.csv\n"
     ]
    },
    {
     "data": {
      "text/html": [
       "<table border=\"1\" class=\"dataframe\">\n",
       "  <thead>\n",
       "    <tr style=\"text-align: right;\">\n",
       "      <th>gene</th>\n",
       "      <th>tag_name</th>\n",
       "      <th>start</th>\n",
       "      <th>end</th>\n",
       "    </tr>\n",
       "  </thead>\n",
       "  <tbody>\n",
       "    <tr>\n",
       "      <td>fluPB2</td>\n",
       "      <td>viral_tag_1</td>\n",
       "      <td>201</td>\n",
       "      <td>201</td>\n",
       "    </tr>\n",
       "    <tr>\n",
       "      <td>fluPB2</td>\n",
       "      <td>viral_tag_2</td>\n",
       "      <td>2190</td>\n",
       "      <td>2190</td>\n",
       "    </tr>\n",
       "    <tr>\n",
       "      <td>fluPB1</td>\n",
       "      <td>viral_tag_1</td>\n",
       "      <td>192</td>\n",
       "      <td>192</td>\n",
       "    </tr>\n",
       "    <tr>\n",
       "      <td>fluPB1</td>\n",
       "      <td>viral_tag_2</td>\n",
       "      <td>2205</td>\n",
       "      <td>2205</td>\n",
       "    </tr>\n",
       "    <tr>\n",
       "      <td>fluPA</td>\n",
       "      <td>viral_tag_1</td>\n",
       "      <td>123</td>\n",
       "      <td>123</td>\n",
       "    </tr>\n",
       "    <tr>\n",
       "      <td>fluPA</td>\n",
       "      <td>viral_tag_2</td>\n",
       "      <td>2104</td>\n",
       "      <td>2104</td>\n",
       "    </tr>\n",
       "    <tr>\n",
       "      <td>fluHA</td>\n",
       "      <td>viral_tag_1</td>\n",
       "      <td>249</td>\n",
       "      <td>249</td>\n",
       "    </tr>\n",
       "    <tr>\n",
       "      <td>fluHA</td>\n",
       "      <td>viral_tag_2</td>\n",
       "      <td>1686</td>\n",
       "      <td>1686</td>\n",
       "    </tr>\n",
       "    <tr>\n",
       "      <td>fluNP</td>\n",
       "      <td>viral_tag_1</td>\n",
       "      <td>132</td>\n",
       "      <td>132</td>\n",
       "    </tr>\n",
       "    <tr>\n",
       "      <td>fluNP</td>\n",
       "      <td>viral_tag_2</td>\n",
       "      <td>1407</td>\n",
       "      <td>1407</td>\n",
       "    </tr>\n",
       "    <tr>\n",
       "      <td>fluNA</td>\n",
       "      <td>viral_tag_1</td>\n",
       "      <td>242</td>\n",
       "      <td>242</td>\n",
       "    </tr>\n",
       "    <tr>\n",
       "      <td>fluNA</td>\n",
       "      <td>viral_tag_2</td>\n",
       "      <td>818</td>\n",
       "      <td>818</td>\n",
       "    </tr>\n",
       "    <tr>\n",
       "      <td>fluNA</td>\n",
       "      <td>viral_tag_3</td>\n",
       "      <td>827</td>\n",
       "      <td>827</td>\n",
       "    </tr>\n",
       "    <tr>\n",
       "      <td>fluNA</td>\n",
       "      <td>viral_tag_4</td>\n",
       "      <td>828</td>\n",
       "      <td>828</td>\n",
       "    </tr>\n",
       "    <tr>\n",
       "      <td>fluNA</td>\n",
       "      <td>viral_tag_5</td>\n",
       "      <td>829</td>\n",
       "      <td>829</td>\n",
       "    </tr>\n",
       "    <tr>\n",
       "      <td>fluNA</td>\n",
       "      <td>viral_tag_6</td>\n",
       "      <td>830</td>\n",
       "      <td>830</td>\n",
       "    </tr>\n",
       "    <tr>\n",
       "      <td>fluNA</td>\n",
       "      <td>viral_tag_7</td>\n",
       "      <td>1247</td>\n",
       "      <td>1247</td>\n",
       "    </tr>\n",
       "    <tr>\n",
       "      <td>fluNA</td>\n",
       "      <td>viral_tag_8</td>\n",
       "      <td>1400</td>\n",
       "      <td>1400</td>\n",
       "    </tr>\n",
       "    <tr>\n",
       "      <td>fluM</td>\n",
       "      <td>viral_tag_1</td>\n",
       "      <td>100</td>\n",
       "      <td>100</td>\n",
       "    </tr>\n",
       "    <tr>\n",
       "      <td>fluM</td>\n",
       "      <td>viral_tag_2</td>\n",
       "      <td>950</td>\n",
       "      <td>950</td>\n",
       "    </tr>\n",
       "    <tr>\n",
       "      <td>fluNS</td>\n",
       "      <td>viral_tag_1</td>\n",
       "      <td>80</td>\n",
       "      <td>80</td>\n",
       "    </tr>\n",
       "    <tr>\n",
       "      <td>fluNS</td>\n",
       "      <td>viral_tag_2</td>\n",
       "      <td>804</td>\n",
       "      <td>804</td>\n",
       "    </tr>\n",
       "  </tbody>\n",
       "</table>"
      ],
      "text/plain": [
       "<IPython.core.display.HTML object>"
      ]
     },
     "metadata": {},
     "output_type": "display_data"
    },
    {
     "name": "stdout",
     "output_type": "stream",
     "text": [
      "\n",
      "Viral barcode locations; writing to viralbc_locs_tmp.csv\n"
     ]
    },
    {
     "data": {
      "text/html": [
       "<table border=\"1\" class=\"dataframe\">\n",
       "  <thead>\n",
       "    <tr style=\"text-align: right;\">\n",
       "      <th>gene</th>\n",
       "      <th>start</th>\n",
       "      <th>end</th>\n",
       "    </tr>\n",
       "  </thead>\n",
       "  <tbody>\n",
       "    <tr>\n",
       "      <td>fluHA</td>\n",
       "      <td>1828</td>\n",
       "      <td>1843</td>\n",
       "    </tr>\n",
       "    <tr>\n",
       "      <td>fluNA</td>\n",
       "      <td>1551</td>\n",
       "      <td>1566</td>\n",
       "    </tr>\n",
       "  </tbody>\n",
       "</table>"
      ],
      "text/plain": [
       "<IPython.core.display.HTML object>"
      ]
     },
     "metadata": {},
     "output_type": "display_data"
    }
   ],
   "source": [
    "viraltag_df = []\n",
    "viralbc_df = []\n",
    "for seqrecord in viral_genes:\n",
    "    for f in seqrecord.features:\n",
    "        if f.type == 'viral_barcode':\n",
    "            viralbc_df.append([seqrecord.id, int(f.location.start) + 1, int(f.location.end)])\n",
    "        elif 'tag' in f.type:\n",
    "            viraltag_df.append((seqrecord.id, f.type, int(f.location.start) + 1, int(f.location.end)))\n",
    "            \n",
    "viraltag_df = pd.DataFrame.from_records(viraltag_df,\n",
    "                                        columns=['gene', 'tag_name', 'start', 'end'])\n",
    "assert len(viraltag_df) == len(viraltag_df.drop_duplicates())\n",
    "print(f\"\\nViral tag locations; writing to {output_viraltag_locs}\")\n",
    "viraltag_df.to_csv(output_viraltag_locs, index=False)\n",
    "display(HTML(viraltag_df.to_html(index=False)))\n",
    "\n",
    "viralbc_df = pd.DataFrame.from_records(viralbc_df,\n",
    "                                       columns=['gene', 'start', 'end'])\n",
    "assert len(viralbc_df) == len(viralbc_df.drop_duplicates())\n",
    "print(f\"\\nViral barcode locations; writing to {output_viralbc_locs}\")\n",
    "viralbc_df.to_csv(output_viralbc_locs, index=False)\n",
    "display(HTML(viralbc_df.to_html(index=False)))"
   ]
  },
  {
   "cell_type": "markdown",
   "metadata": {
    "tags": []
   },
   "source": [
    "## Get alignment statistics for each gene and sample\n",
    "Use [pysam](https://pysam.readthedocs.io/) to get the following dataframes:\n",
    " - `nreads_df`: total number of reads aligned to each gene in each sample, and total number of reads with gaps.\n",
    " - `coverage_df`: coverage at each site for each viral gene in each sample\n",
    " - `read_len_df`: distribution of lengths of the **aligned** portion of reads (not including soft-clipped bases) for each gene in each sample\n",
    " - `gapped_coverage_df`: like `coverage_df` but only includes reads with a gap.\n",
    " - `gapped_reads_df`: has dettailed information (including cigar string and read sequence) for each gapped read.\n",
    " \n",
    "In computing these statistics, a read is considered to have a gap if it has a substantial number of sites (set by the `gapped_sites_threshold` variable below) that are gapped in the alignment.\n",
    "Gaps are considered anything annotated as either a `D` (deletion) or `N` (intron) in the cigar string.\n",
    "The rationale is that reads with reasonably long gaps might be spanning internal deletion junctions in viral genes."
   ]
  },
  {
   "cell_type": "markdown",
   "metadata": {},
   "source": [
    "### Optimize gap threshold size\n",
    "Not sure what common gap sizes are in our data. Want to see how calling of gapped reads responds to changing the gap size threshold."
   ]
  },
  {
   "cell_type": "code",
   "execution_count": 14,
   "metadata": {
    "tags": []
   },
   "outputs": [
    {
     "name": "stdout",
     "output_type": "stream",
     "text": [
      "Calculating number of gapped reads in fluHA from pilot_20200116 using a threshold of 1 deleted bases.\n",
      "Calculating number of gapped reads in fluNA from pilot_20200116 using a threshold of 1 deleted bases.\n",
      "Calculating number of gapped reads in fluHA from pilot_20200116 using a threshold of 2 deleted bases.\n",
      "Calculating number of gapped reads in fluNA from pilot_20200116 using a threshold of 2 deleted bases.\n",
      "Calculating number of gapped reads in fluHA from pilot_20200116 using a threshold of 5 deleted bases.\n",
      "Calculating number of gapped reads in fluNA from pilot_20200116 using a threshold of 5 deleted bases.\n",
      "Calculating number of gapped reads in fluHA from pilot_20200116 using a threshold of 10 deleted bases.\n",
      "Calculating number of gapped reads in fluNA from pilot_20200116 using a threshold of 10 deleted bases.\n",
      "Calculating number of gapped reads in fluHA from pilot_20200116 using a threshold of 20 deleted bases.\n",
      "Calculating number of gapped reads in fluNA from pilot_20200116 using a threshold of 20 deleted bases.\n",
      "Calculating number of gapped reads in fluHA from pilot_20200116 using a threshold of 100 deleted bases.\n",
      "Calculating number of gapped reads in fluNA from pilot_20200116 using a threshold of 100 deleted bases.\n",
      "Calculating number of gapped reads in fluHA from pilot_20200116 using a threshold of 500 deleted bases.\n",
      "Calculating number of gapped reads in fluNA from pilot_20200116 using a threshold of 500 deleted bases.\n",
      "Calculating number of gapped reads in fluHA from pilot_20200116 using a threshold of 1000 deleted bases.\n",
      "Calculating number of gapped reads in fluNA from pilot_20200116 using a threshold of 1000 deleted bases.\n",
      "\n",
      "`gap_threshold_df`:\n"
     ]
    },
    {
     "data": {
      "text/html": [
       "<table border=\"1\" class=\"dataframe\">\n",
       "  <thead>\n",
       "    <tr style=\"text-align: right;\">\n",
       "      <th>gene</th>\n",
       "      <th>sample</th>\n",
       "      <th>threshold</th>\n",
       "      <th>n_reads</th>\n",
       "      <th>n_gapped_reads</th>\n",
       "    </tr>\n",
       "  </thead>\n",
       "  <tbody>\n",
       "    <tr>\n",
       "      <td>fluHA</td>\n",
       "      <td>pilot_20200116</td>\n",
       "      <td>1</td>\n",
       "      <td>120650</td>\n",
       "      <td>13115</td>\n",
       "    </tr>\n",
       "    <tr>\n",
       "      <td>fluNA</td>\n",
       "      <td>pilot_20200116</td>\n",
       "      <td>1</td>\n",
       "      <td>7209</td>\n",
       "      <td>2217</td>\n",
       "    </tr>\n",
       "    <tr>\n",
       "      <td>fluHA</td>\n",
       "      <td>pilot_20200116</td>\n",
       "      <td>2</td>\n",
       "      <td>120650</td>\n",
       "      <td>12322</td>\n",
       "    </tr>\n",
       "    <tr>\n",
       "      <td>fluNA</td>\n",
       "      <td>pilot_20200116</td>\n",
       "      <td>2</td>\n",
       "      <td>7209</td>\n",
       "      <td>2130</td>\n",
       "    </tr>\n",
       "    <tr>\n",
       "      <td>fluHA</td>\n",
       "      <td>pilot_20200116</td>\n",
       "      <td>5</td>\n",
       "      <td>120650</td>\n",
       "      <td>12246</td>\n",
       "    </tr>\n",
       "    <tr>\n",
       "      <td>fluNA</td>\n",
       "      <td>pilot_20200116</td>\n",
       "      <td>5</td>\n",
       "      <td>7209</td>\n",
       "      <td>2115</td>\n",
       "    </tr>\n",
       "    <tr>\n",
       "      <td>fluHA</td>\n",
       "      <td>pilot_20200116</td>\n",
       "      <td>10</td>\n",
       "      <td>120650</td>\n",
       "      <td>12235</td>\n",
       "    </tr>\n",
       "    <tr>\n",
       "      <td>fluNA</td>\n",
       "      <td>pilot_20200116</td>\n",
       "      <td>10</td>\n",
       "      <td>7209</td>\n",
       "      <td>2113</td>\n",
       "    </tr>\n",
       "    <tr>\n",
       "      <td>fluHA</td>\n",
       "      <td>pilot_20200116</td>\n",
       "      <td>20</td>\n",
       "      <td>120650</td>\n",
       "      <td>12008</td>\n",
       "    </tr>\n",
       "    <tr>\n",
       "      <td>fluNA</td>\n",
       "      <td>pilot_20200116</td>\n",
       "      <td>20</td>\n",
       "      <td>7209</td>\n",
       "      <td>2113</td>\n",
       "    </tr>\n",
       "    <tr>\n",
       "      <td>fluHA</td>\n",
       "      <td>pilot_20200116</td>\n",
       "      <td>100</td>\n",
       "      <td>120650</td>\n",
       "      <td>7816</td>\n",
       "    </tr>\n",
       "    <tr>\n",
       "      <td>fluNA</td>\n",
       "      <td>pilot_20200116</td>\n",
       "      <td>100</td>\n",
       "      <td>7209</td>\n",
       "      <td>2096</td>\n",
       "    </tr>\n",
       "    <tr>\n",
       "      <td>fluHA</td>\n",
       "      <td>pilot_20200116</td>\n",
       "      <td>500</td>\n",
       "      <td>120650</td>\n",
       "      <td>7021</td>\n",
       "    </tr>\n",
       "    <tr>\n",
       "      <td>fluNA</td>\n",
       "      <td>pilot_20200116</td>\n",
       "      <td>500</td>\n",
       "      <td>7209</td>\n",
       "      <td>2070</td>\n",
       "    </tr>\n",
       "    <tr>\n",
       "      <td>fluHA</td>\n",
       "      <td>pilot_20200116</td>\n",
       "      <td>1000</td>\n",
       "      <td>120650</td>\n",
       "      <td>6885</td>\n",
       "    </tr>\n",
       "    <tr>\n",
       "      <td>fluNA</td>\n",
       "      <td>pilot_20200116</td>\n",
       "      <td>1000</td>\n",
       "      <td>7209</td>\n",
       "      <td>2046</td>\n",
       "    </tr>\n",
       "  </tbody>\n",
       "</table>"
      ],
      "text/plain": [
       "<IPython.core.display.HTML object>"
      ]
     },
     "metadata": {},
     "output_type": "display_data"
    }
   ],
   "source": [
    "# count a read as contributing to `gapped_coverage_list` if it has at\n",
    "# least this many gapped sites (deletion or intron operations)\n",
    "gapped_sites_threshold = [1,2,5,10,20,100,500,1000]\n",
    "gap_threshold_list = []\n",
    "\n",
    "for threshold in gapped_sites_threshold:\n",
    "\n",
    "    for viral_gene, sample10x in itertools.product(viral_genes, samples_10x):\n",
    "        gene_name = viral_gene.id\n",
    "        if gene_name in ['fluHA', 'fluNA']:\n",
    "            bam = fastq10x_bams[sample10x]\n",
    "            bai = fastq10x_bais[sample10x]\n",
    "            print(f\"Calculating number of gapped reads in {gene_name} from {sample10x} using a \"\n",
    "                  f\"threshold of {threshold} deleted bases.\")\n",
    "\n",
    "            with pysam.AlignmentFile(bam, mode='rb', index_filename=bai) as bamfile:\n",
    "                if len(viral_gene) != bamfile.get_reference_length(gene_name):\n",
    "                    raise ValueError(f\"length of {gene_name} not as expected in {bam}\")\n",
    "\n",
    "                read_lens = collections.defaultdict(int)\n",
    "                n_gapped_reads = 0\n",
    "                for read in bamfile.fetch(contig=gene_name):\n",
    "                    read_lens[read.query_alignment_length] += 1\n",
    "                    cs = read.cigarstring\n",
    "                    if ((('D' in cs) or ('N' in cs)) and (sum(read.get_cigar_stats()[0][2: 4]) >=\n",
    "                                                          threshold)):\n",
    "                        n_gapped_reads += 1\n",
    "\n",
    "                gap_threshold_list.append(\n",
    "                        pd.DataFrame({'gene': [gene_name],\n",
    "                                      'sample': [sample10x],\n",
    "                                      'threshold': threshold,\n",
    "                                      'n_reads': [bamfile.count(contig=gene_name)],\n",
    "                                      'n_gapped_reads': [n_gapped_reads],\n",
    "                                      })\n",
    "                        )\n",
    "\n",
    "\n",
    "gap_threshold_df = (pd.concat(gap_threshold_list, sort=False, ignore_index=True)\n",
    "             .assign(gene=lambda x: pd.Categorical(x['gene'],\n",
    "                                                   ['fluHA','fluNA'],\n",
    "                                                   ordered=True))\n",
    "             )\n",
    "print('\\n`gap_threshold_df`:')\n",
    "display(HTML(gap_threshold_df.to_html(index=False)))"
   ]
  },
  {
   "cell_type": "code",
   "execution_count": null,
   "metadata": {},
   "outputs": [],
   "source": [
    "p = (ggplot(gap_threshold_df, aes('threshold', 'n_gapped_reads')) +\n",
    "     geom_bar(stat='identity') +\n",
    "     facet_wrap('~gene') +\n",
    "     theme(figure_size=(0.4 * len(gap_threshold_df.gene), 2),\n",
    "           axis_text_x=element_text(angle=90)) +\n",
    "     scale_y_continuous(labels=mizani.formatters.scientific_format(),\n",
    "                        name='number gapped reads') +\n",
    "     scale_x_log10()\n",
    "     )\n",
    "\n",
    "_ = p.draw()"
   ]
  },
  {
   "cell_type": "markdown",
   "metadata": {},
   "source": [
    "**Conclusion:**  It looks like there are **two classes of deletions in the fluHA reads**. There is one class of deletions that fall between 1 and 20 bp. There is another class of deletions that are larger than 20 bp.\n",
    "\n",
    "**There is only one class of deletions in the fluNA reads:** they are nearly all at least 1000 kb long.\n",
    "\n",
    "Based on these results, I think it is **reasonable to use any threshold less than 20 bp.** I will continue using 10 bp."
   ]
  },
  {
   "cell_type": "markdown",
   "metadata": {},
   "source": [
    "## Calculate alignment statistics for each read.\n",
    "\n",
    "Use these to calculate gene-by-gene statistics of number of gapped reads. Also, export a dataframe with details about each gapped read."
   ]
  },
  {
   "cell_type": "code",
   "execution_count": 15,
   "metadata": {
    "tags": []
   },
   "outputs": [
    {
     "name": "stdout",
     "output_type": "stream",
     "text": [
      "Getting statistics for fluPB2 in pilot_20200116 from results/aligned_fastq10x/pilot_20200116/Aligned.sortedByCoord.out.bam\n",
      "Getting statistics for fluPB1 in pilot_20200116 from results/aligned_fastq10x/pilot_20200116/Aligned.sortedByCoord.out.bam\n",
      "Getting statistics for fluPA in pilot_20200116 from results/aligned_fastq10x/pilot_20200116/Aligned.sortedByCoord.out.bam\n",
      "Getting statistics for fluHA in pilot_20200116 from results/aligned_fastq10x/pilot_20200116/Aligned.sortedByCoord.out.bam\n",
      "Getting statistics for fluNP in pilot_20200116 from results/aligned_fastq10x/pilot_20200116/Aligned.sortedByCoord.out.bam\n",
      "Getting statistics for fluNA in pilot_20200116 from results/aligned_fastq10x/pilot_20200116/Aligned.sortedByCoord.out.bam\n",
      "Getting statistics for fluM in pilot_20200116 from results/aligned_fastq10x/pilot_20200116/Aligned.sortedByCoord.out.bam\n",
      "Getting statistics for fluNS in pilot_20200116 from results/aligned_fastq10x/pilot_20200116/Aligned.sortedByCoord.out.bam\n",
      "\n",
      "`nreads_df`:\n"
     ]
    },
    {
     "data": {
      "text/html": [
       "<table border=\"1\" class=\"dataframe\">\n",
       "  <thead>\n",
       "    <tr style=\"text-align: right;\">\n",
       "      <th>gene</th>\n",
       "      <th>sample</th>\n",
       "      <th>n_reads</th>\n",
       "      <th>n_gapped_reads</th>\n",
       "    </tr>\n",
       "  </thead>\n",
       "  <tbody>\n",
       "    <tr>\n",
       "      <td>fluPB2</td>\n",
       "      <td>pilot_20200116</td>\n",
       "      <td>16451</td>\n",
       "      <td>261</td>\n",
       "    </tr>\n",
       "    <tr>\n",
       "      <td>fluPB1</td>\n",
       "      <td>pilot_20200116</td>\n",
       "      <td>55543</td>\n",
       "      <td>131</td>\n",
       "    </tr>\n",
       "    <tr>\n",
       "      <td>fluPA</td>\n",
       "      <td>pilot_20200116</td>\n",
       "      <td>9455</td>\n",
       "      <td>117</td>\n",
       "    </tr>\n",
       "    <tr>\n",
       "      <td>fluHA</td>\n",
       "      <td>pilot_20200116</td>\n",
       "      <td>120650</td>\n",
       "      <td>12235</td>\n",
       "    </tr>\n",
       "    <tr>\n",
       "      <td>fluNP</td>\n",
       "      <td>pilot_20200116</td>\n",
       "      <td>324037</td>\n",
       "      <td>1249</td>\n",
       "    </tr>\n",
       "    <tr>\n",
       "      <td>fluNA</td>\n",
       "      <td>pilot_20200116</td>\n",
       "      <td>7209</td>\n",
       "      <td>2113</td>\n",
       "    </tr>\n",
       "    <tr>\n",
       "      <td>fluM</td>\n",
       "      <td>pilot_20200116</td>\n",
       "      <td>632562</td>\n",
       "      <td>4902</td>\n",
       "    </tr>\n",
       "    <tr>\n",
       "      <td>fluNS</td>\n",
       "      <td>pilot_20200116</td>\n",
       "      <td>360041</td>\n",
       "      <td>8896</td>\n",
       "    </tr>\n",
       "  </tbody>\n",
       "</table>"
      ],
      "text/plain": [
       "<IPython.core.display.HTML object>"
      ]
     },
     "metadata": {},
     "output_type": "display_data"
    },
    {
     "name": "stdout",
     "output_type": "stream",
     "text": [
      "\n",
      "First few lines of `coverage_df`:\n"
     ]
    },
    {
     "data": {
      "text/html": [
       "<table border=\"1\" class=\"dataframe\">\n",
       "  <thead>\n",
       "    <tr style=\"text-align: right;\">\n",
       "      <th>A</th>\n",
       "      <th>C</th>\n",
       "      <th>G</th>\n",
       "      <th>T</th>\n",
       "      <th>coverage</th>\n",
       "      <th>site</th>\n",
       "      <th>gene</th>\n",
       "      <th>sample</th>\n",
       "    </tr>\n",
       "  </thead>\n",
       "  <tbody>\n",
       "    <tr>\n",
       "      <td>102</td>\n",
       "      <td>0</td>\n",
       "      <td>0</td>\n",
       "      <td>0</td>\n",
       "      <td>102</td>\n",
       "      <td>1</td>\n",
       "      <td>fluPB2</td>\n",
       "      <td>pilot_20200116</td>\n",
       "    </tr>\n",
       "    <tr>\n",
       "      <td>0</td>\n",
       "      <td>0</td>\n",
       "      <td>346</td>\n",
       "      <td>0</td>\n",
       "      <td>346</td>\n",
       "      <td>2</td>\n",
       "      <td>fluPB2</td>\n",
       "      <td>pilot_20200116</td>\n",
       "    </tr>\n",
       "    <tr>\n",
       "      <td>0</td>\n",
       "      <td>338</td>\n",
       "      <td>0</td>\n",
       "      <td>0</td>\n",
       "      <td>338</td>\n",
       "      <td>3</td>\n",
       "      <td>fluPB2</td>\n",
       "      <td>pilot_20200116</td>\n",
       "    </tr>\n",
       "    <tr>\n",
       "      <td>0</td>\n",
       "      <td>0</td>\n",
       "      <td>358</td>\n",
       "      <td>0</td>\n",
       "      <td>358</td>\n",
       "      <td>4</td>\n",
       "      <td>fluPB2</td>\n",
       "      <td>pilot_20200116</td>\n",
       "    </tr>\n",
       "    <tr>\n",
       "      <td>352</td>\n",
       "      <td>0</td>\n",
       "      <td>0</td>\n",
       "      <td>1</td>\n",
       "      <td>353</td>\n",
       "      <td>5</td>\n",
       "      <td>fluPB2</td>\n",
       "      <td>pilot_20200116</td>\n",
       "    </tr>\n",
       "  </tbody>\n",
       "</table>"
      ],
      "text/plain": [
       "<IPython.core.display.HTML object>"
      ]
     },
     "metadata": {},
     "output_type": "display_data"
    },
    {
     "name": "stdout",
     "output_type": "stream",
     "text": [
      "\n",
      "First few lines of `gapped_coverage_df`:\n"
     ]
    },
    {
     "data": {
      "text/html": [
       "<table border=\"1\" class=\"dataframe\">\n",
       "  <thead>\n",
       "    <tr style=\"text-align: right;\">\n",
       "      <th>gene</th>\n",
       "      <th>sample</th>\n",
       "      <th>site</th>\n",
       "      <th>coverage</th>\n",
       "    </tr>\n",
       "  </thead>\n",
       "  <tbody>\n",
       "    <tr>\n",
       "      <td>fluPB2</td>\n",
       "      <td>pilot_20200116</td>\n",
       "      <td>1</td>\n",
       "      <td>38</td>\n",
       "    </tr>\n",
       "    <tr>\n",
       "      <td>fluPB2</td>\n",
       "      <td>pilot_20200116</td>\n",
       "      <td>2</td>\n",
       "      <td>118</td>\n",
       "    </tr>\n",
       "    <tr>\n",
       "      <td>fluPB2</td>\n",
       "      <td>pilot_20200116</td>\n",
       "      <td>3</td>\n",
       "      <td>118</td>\n",
       "    </tr>\n",
       "    <tr>\n",
       "      <td>fluPB2</td>\n",
       "      <td>pilot_20200116</td>\n",
       "      <td>4</td>\n",
       "      <td>119</td>\n",
       "    </tr>\n",
       "    <tr>\n",
       "      <td>fluPB2</td>\n",
       "      <td>pilot_20200116</td>\n",
       "      <td>5</td>\n",
       "      <td>119</td>\n",
       "    </tr>\n",
       "  </tbody>\n",
       "</table>"
      ],
      "text/plain": [
       "<IPython.core.display.HTML object>"
      ]
     },
     "metadata": {},
     "output_type": "display_data"
    },
    {
     "name": "stdout",
     "output_type": "stream",
     "text": [
      "\n",
      "First few lines of `read_len_df`:\n"
     ]
    },
    {
     "data": {
      "text/html": [
       "<table border=\"1\" class=\"dataframe\">\n",
       "  <thead>\n",
       "    <tr style=\"text-align: right;\">\n",
       "      <th>gene</th>\n",
       "      <th>sample</th>\n",
       "      <th>aligned_read_length</th>\n",
       "      <th>nreads</th>\n",
       "    </tr>\n",
       "  </thead>\n",
       "  <tbody>\n",
       "    <tr>\n",
       "      <td>fluPB2</td>\n",
       "      <td>pilot_20200116</td>\n",
       "      <td>166</td>\n",
       "      <td>2</td>\n",
       "    </tr>\n",
       "    <tr>\n",
       "      <td>fluPB2</td>\n",
       "      <td>pilot_20200116</td>\n",
       "      <td>167</td>\n",
       "      <td>4</td>\n",
       "    </tr>\n",
       "    <tr>\n",
       "      <td>fluPB2</td>\n",
       "      <td>pilot_20200116</td>\n",
       "      <td>168</td>\n",
       "      <td>9</td>\n",
       "    </tr>\n",
       "    <tr>\n",
       "      <td>fluPB2</td>\n",
       "      <td>pilot_20200116</td>\n",
       "      <td>169</td>\n",
       "      <td>16</td>\n",
       "    </tr>\n",
       "    <tr>\n",
       "      <td>fluPB2</td>\n",
       "      <td>pilot_20200116</td>\n",
       "      <td>170</td>\n",
       "      <td>2</td>\n",
       "    </tr>\n",
       "  </tbody>\n",
       "</table>"
      ],
      "text/plain": [
       "<IPython.core.display.HTML object>"
      ]
     },
     "metadata": {},
     "output_type": "display_data"
    },
    {
     "name": "stdout",
     "output_type": "stream",
     "text": [
      "\n",
      "Last few lines of `molecule_size_df`:\n"
     ]
    },
    {
     "data": {
      "text/html": [
       "<table border=\"1\" class=\"dataframe\">\n",
       "  <thead>\n",
       "    <tr style=\"text-align: right;\">\n",
       "      <th>gene</th>\n",
       "      <th>sample</th>\n",
       "      <th>estimated_molecule_size</th>\n",
       "      <th>nreads</th>\n",
       "    </tr>\n",
       "  </thead>\n",
       "  <tbody>\n",
       "    <tr>\n",
       "      <td>fluNS</td>\n",
       "      <td>pilot_20200116</td>\n",
       "      <td>885</td>\n",
       "      <td>1</td>\n",
       "    </tr>\n",
       "    <tr>\n",
       "      <td>fluNS</td>\n",
       "      <td>pilot_20200116</td>\n",
       "      <td>887</td>\n",
       "      <td>7</td>\n",
       "    </tr>\n",
       "    <tr>\n",
       "      <td>fluNS</td>\n",
       "      <td>pilot_20200116</td>\n",
       "      <td>888</td>\n",
       "      <td>76</td>\n",
       "    </tr>\n",
       "    <tr>\n",
       "      <td>fluNS</td>\n",
       "      <td>pilot_20200116</td>\n",
       "      <td>889</td>\n",
       "      <td>1292</td>\n",
       "    </tr>\n",
       "    <tr>\n",
       "      <td>fluNS</td>\n",
       "      <td>pilot_20200116</td>\n",
       "      <td>890</td>\n",
       "      <td>349747</td>\n",
       "    </tr>\n",
       "  </tbody>\n",
       "</table>"
      ],
      "text/plain": [
       "<IPython.core.display.HTML object>"
      ]
     },
     "metadata": {},
     "output_type": "display_data"
    },
    {
     "name": "stdout",
     "output_type": "stream",
     "text": [
      "\n",
      "First few lines of `gapped_reads_df`:\n"
     ]
    },
    {
     "data": {
      "text/html": [
       "<table border=\"1\" class=\"dataframe\">\n",
       "  <thead>\n",
       "    <tr style=\"text-align: right;\">\n",
       "      <th>read_id</th>\n",
       "      <th>sample</th>\n",
       "      <th>gene</th>\n",
       "      <th>start_position</th>\n",
       "      <th>end_position</th>\n",
       "      <th>cigar_string</th>\n",
       "      <th>num_deletions</th>\n",
       "      <th>read_sequence</th>\n",
       "    </tr>\n",
       "  </thead>\n",
       "  <tbody>\n",
       "    <tr>\n",
       "      <td>3268</td>\n",
       "      <td>pilot_20200116</td>\n",
       "      <td>fluPB2</td>\n",
       "      <td>0</td>\n",
       "      <td>599</td>\n",
       "      <td>37S156M369N75M4S</td>\n",
       "      <td>1</td>\n",
       "      <td>CAGTGGTATCAACGCAGAGTACATGGGGGCGGCGTGAAGCGAAAGCAGGTCAATTATATTCAATATGGAGAGAATAAAAGAACTGAGAGATCTAATGTCGCAGTCCCGCACTCGCGAGATACTCACTAAGACCACTGTGGACCATATGGCCATAATCAAAAAGTACACATCAGGAAGGCAAGAGAAGAACCCCGTTTTCCCAAATGAAGTGGGGGCAAGAATACTGACATCAGAGTCACAGCTGGAAAAAAAAAAAAAAAAAAAAAAAAAAA</td>\n",
       "    </tr>\n",
       "    <tr>\n",
       "      <td>3268</td>\n",
       "      <td>pilot_20200116</td>\n",
       "      <td>fluPB2</td>\n",
       "      <td>0</td>\n",
       "      <td>2239</td>\n",
       "      <td>35S134M2003N103M</td>\n",
       "      <td>1</td>\n",
       "      <td>GTGGTATCAACGCAGAGTACATGGGAGCGTATCGTAGCGAAAGCAGGTCAATTATATTCAATATGGAGAGAATAAAAGAACTGAGAGATCTAATGTCGCAGTCCCGCACTCGCGAGATACTCACTAAGACCACTGTGGACCATATGGCCATAATCAAAAAGTACACATCATGGCCCAGCATTAAGCATCAATGAACTGAGCAATCTTGCAAAAGGAGAGAAGGCTAATGTGCTAATTGGGCAAGGGGACGTAGTGTTGGTAATGAAACGAAA</td>\n",
       "    </tr>\n",
       "    <tr>\n",
       "      <td>3268</td>\n",
       "      <td>pilot_20200116</td>\n",
       "      <td>fluPB2</td>\n",
       "      <td>0</td>\n",
       "      <td>2316</td>\n",
       "      <td>28S198M2073N46M</td>\n",
       "      <td>1</td>\n",
       "      <td>AACGCAGAGTACATGGGGAGCCAAATACAGCGAAAGCAGGTCAATTATATTCAATATGGAGAGAATAAAAGAACTGAGAGATCTAATGTCGCAGTCCCGCACTCGCGAGATACTCACTAAGACCACTGTGGACCATATGGCCATAATCAAAAAGTACACATCAGGAAGGCAAGAGAAGAACCCCGCACTCAGAATGAAGTGGATGATGGCAATGAGATACCCAATTACAGCGACCAAAAGAATTCGGATGGCCATCAATTAGTGTCGAATAG</td>\n",
       "    </tr>\n",
       "    <tr>\n",
       "      <td>3268</td>\n",
       "      <td>pilot_20200116</td>\n",
       "      <td>fluPB2</td>\n",
       "      <td>0</td>\n",
       "      <td>2235</td>\n",
       "      <td>39S134M2003N99M</td>\n",
       "      <td>1</td>\n",
       "      <td>CAGTGGTATCAACGCAGAGTACATGGGAAACAGCGGAACAGCGAAAGCAGGTCAATTATATTCAATATGGAGAGAATAAAAGAACTGAGAGATCTAATGTCGCAGTCCCGCACTCGCGAGATACTCACTAAGACCACTGTGGACCATATGGCCATAATCAAAAAGTACACATCATGGCCCAGCATTAAGCATCAATGAACTGAGCAATCTTGCAAAAGGAGAGAAGGCTAATGTGCTAATTGGGCAAGGGGACGTAGTGTTGGTAATGAAAC</td>\n",
       "    </tr>\n",
       "    <tr>\n",
       "      <td>3268</td>\n",
       "      <td>pilot_20200116</td>\n",
       "      <td>fluPB2</td>\n",
       "      <td>0</td>\n",
       "      <td>2236</td>\n",
       "      <td>38S134M2003N100M</td>\n",
       "      <td>1</td>\n",
       "      <td>GCAAGTGGTATCAACGCAGAGTACATGGGGAGAGGGAGAGCGAAAGCAGGTCAATTATATTCAATATGGAGAGAATAAAAGAACTGAGAGATCTAATGTCGCAGTCCCGCACTCGCGAGATACTCACTAAGACCACTGTGGACCATATGGCCATAATCAAAAAGTACACATCATGGCCCAGCATTAAGCATCAATGAACTGAGCAATCTTGCAAAAGGAGAGAAGGCTAATGTGCTAATTGGGCAAGGGGACGTAGTGTTGGTAATGAAACG</td>\n",
       "    </tr>\n",
       "  </tbody>\n",
       "</table>"
      ],
      "text/plain": [
       "<IPython.core.display.HTML object>"
      ]
     },
     "metadata": {},
     "output_type": "display_data"
    }
   ],
   "source": [
    "# count a read as contributing to `gapped_coverage_list` if it has at\n",
    "# least this many gapped sites (deletion or intron operations)\n",
    "gapped_sites_threshold = 10\n",
    "clipped_sites_threshold = 4\n",
    "\n",
    "coverage_list = []\n",
    "nreads_list = []\n",
    "read_len_list = []\n",
    "molecule_size_list = []\n",
    "gapped_coverage_list = []\n",
    "gapped_reads_list = []\n",
    "\n",
    "for viral_gene, sample10x in itertools.product(viral_genes, samples_10x):\n",
    "    gene_name = viral_gene.id\n",
    "    bam = fastq10x_bams[sample10x]\n",
    "    bai = fastq10x_bais[sample10x]\n",
    "    print(f\"Getting statistics for {gene_name} in {sample10x} from {bam}\")\n",
    "\n",
    "    with pysam.AlignmentFile(bam, mode='rb', index_filename=bai) as bamfile:\n",
    "        if len(viral_gene) != bamfile.get_reference_length(gene_name):\n",
    "            raise ValueError(f\"length of {gene_name} not as expected in {bam}\")\n",
    "\n",
    "        coverage_list.append(\n",
    "                pd.DataFrame(dict(zip('ACGT',\n",
    "                                      bamfile.count_coverage(contig=gene_name))))\n",
    "                .assign(coverage=lambda x: x.sum(axis=1),\n",
    "                        site=lambda x: x.index + 1,\n",
    "                        gene=gene_name,\n",
    "                        sample=sample10x)\n",
    "                )\n",
    "\n",
    "        read_lens = collections.defaultdict(int)\n",
    "        molecule_sizes = collections.defaultdict(int)\n",
    "        n_gapped_reads = 0\n",
    "        n_softclipped_reads = 0\n",
    "        gapped_coverage = collections.Counter({i:0 for i in range(len(viral_gene))})\n",
    "        for read in bamfile.fetch(contig=gene_name):\n",
    "            read_lens[read.query_alignment_length] += 1\n",
    "            cs = read.cigarstring\n",
    "            gap_size = sum(read.get_cigar_stats()[0][2: 4])\n",
    "            estimated_molecule_size = len(viral_gene) - gap_size\n",
    "            molecule_sizes[estimated_molecule_size] += 1\n",
    "            if (('D' in cs) or ('N' in cs)) and (gap_size >= gapped_sites_threshold):\n",
    "                gapped_coverage.update(read.get_reference_positions())\n",
    "                n_gapped_reads += 1\n",
    "                gapped_reads_list.append(\n",
    "                    pd.DataFrame({'read_id': read.reference_id,\n",
    "                                  'sample': [sample10x],\n",
    "                                  'gene': [gene_name],\n",
    "                                  'start_position': min(read.get_reference_positions()),\n",
    "                                  'end_position': max(read.get_reference_positions()),\n",
    "                                  'cigar_string': read.cigarstring,\n",
    "                                  'num_deletions': read.cigarstring.count('N') + read.cigarstring.count('D'),\n",
    "                                  'read_sequence': read.get_forward_sequence()\n",
    "                                }))\n",
    "            \n",
    "                        \n",
    "        nreads_list.append(\n",
    "                pd.DataFrame({'gene': [gene_name],\n",
    "                              'sample': [sample10x],\n",
    "                              'n_reads': [bamfile.count(contig=gene_name)],\n",
    "                              'n_gapped_reads': [n_gapped_reads],\n",
    "                              })\n",
    "                ) \n",
    "\n",
    "        read_len_list.append(\n",
    "                pd.DataFrame.from_records(list(read_lens.items()),\n",
    "                                          columns=['aligned_read_length', 'nreads'])\n",
    "                .assign(gene=gene_name,\n",
    "                        sample=sample10x)\n",
    "                .sort_values('aligned_read_length')\n",
    "                [['gene', 'sample', 'aligned_read_length', 'nreads']]\n",
    "                )\n",
    "                                                   \n",
    "        molecule_size_list.append(\n",
    "                pd.DataFrame.from_records(list(molecule_sizes.items()),\n",
    "                                          columns=['estimated_molecule_size', 'nreads'])\n",
    "                .assign(gene=gene_name,\n",
    "                        sample=sample10x)\n",
    "                .sort_values('estimated_molecule_size')\n",
    "                [['gene', 'sample', 'estimated_molecule_size', 'nreads']]\n",
    "                )\n",
    "\n",
    "        gapped_coverage_list.append(\n",
    "                pd.DataFrame.from_records(list(gapped_coverage.items()),\n",
    "                                          columns=['site', 'coverage'])\n",
    "                .assign(site=lambda x: x['site'] + 1,\n",
    "                        gene=gene_name,\n",
    "                        sample=sample10x)\n",
    "                [['gene', 'sample', 'site', 'coverage']]\n",
    "                )\n",
    "\n",
    "\n",
    "nreads_df = (pd.concat(nreads_list, sort=False, ignore_index=True)\n",
    "             .assign(gene=lambda x: pd.Categorical(x['gene'],\n",
    "                                                   viral_gene_names,\n",
    "                                                   ordered=True))\n",
    "             )\n",
    "print('\\n`nreads_df`:')\n",
    "display(HTML(nreads_df.to_html(index=False)))\n",
    "\n",
    "coverage_df = (pd.concat(coverage_list, sort=False, ignore_index=True)\n",
    "               .assign(gene=lambda x: pd.Categorical(x['gene'],\n",
    "                                                     viral_gene_names,\n",
    "                                                     ordered=True))\n",
    "               )\n",
    "print('\\nFirst few lines of `coverage_df`:')\n",
    "display(HTML(coverage_df.head().to_html(index=False)))\n",
    "\n",
    "gapped_coverage_df = (pd.concat(gapped_coverage_list, sort=False,\n",
    "                                ignore_index=True)\n",
    "                      .assign(gene=lambda x: pd.Categorical(x['gene'],\n",
    "                                                            viral_gene_names,\n",
    "                                                            ordered=True))\n",
    "                      )\n",
    "print('\\nFirst few lines of `gapped_coverage_df`:')\n",
    "display(HTML(gapped_coverage_df.head().to_html(index=False)))\n",
    "\n",
    "read_len_df = (pd.concat(read_len_list, sort=False, ignore_index=True)\n",
    "              .assign(gene=lambda x: pd.Categorical(x['gene'],\n",
    "                                                    viral_gene_names,\n",
    "                                                    ordered=True))\n",
    "              )\n",
    "print('\\nFirst few lines of `read_len_df`:')\n",
    "display(HTML(read_len_df.head().to_html(index=False)))\n",
    "\n",
    "molecule_size_df = (pd.concat(molecule_size_list, sort=False, ignore_index=True)\n",
    "              .assign(gene=lambda x: pd.Categorical(x['gene'],\n",
    "                                                    viral_gene_names,\n",
    "                                                    ordered=True))\n",
    "              )\n",
    "print('\\nLast few lines of `molecule_size_df`:')\n",
    "display(HTML(molecule_size_df.tail().to_html(index=False)))\n",
    "\n",
    "gapped_reads_df = (pd.concat(gapped_reads_list, sort=False,\n",
    "                                ignore_index=True)\n",
    "                      .assign(gene=lambda x: pd.Categorical(x['gene'],\n",
    "                                                            viral_gene_names,\n",
    "                                                            ordered=True))\n",
    "                      )\n",
    "print('\\nFirst few lines of `gapped_reads_df`:')\n",
    "display(HTML(gapped_reads_df.head().to_html(index=False)))"
   ]
  },
  {
   "cell_type": "markdown",
   "metadata": {
    "tags": []
   },
   "source": [
    "Sanity check to make sure we got the right number of sites for each gene in `coverage_df` and `gapped_coverage_df`:"
   ]
  },
  {
   "cell_type": "code",
   "execution_count": 16,
   "metadata": {
    "tags": []
   },
   "outputs": [
    {
     "name": "stdout",
     "output_type": "stream",
     "text": [
      "coverage_df: fluPB2 passed filter.\n",
      "gapped_coverage_df: fluPB2 passed filter.\n",
      "coverage_df: fluPB1 passed filter.\n",
      "gapped_coverage_df: fluPB1 passed filter.\n",
      "coverage_df: fluPA passed filter.\n",
      "gapped_coverage_df: fluPA passed filter.\n",
      "coverage_df: fluHA passed filter.\n",
      "gapped_coverage_df: fluHA passed filter.\n",
      "coverage_df: fluNP passed filter.\n",
      "gapped_coverage_df: fluNP passed filter.\n",
      "coverage_df: fluNA passed filter.\n",
      "gapped_coverage_df: fluNA passed filter.\n",
      "coverage_df: fluM passed filter.\n",
      "gapped_coverage_df: fluM passed filter.\n",
      "coverage_df: fluNS passed filter.\n",
      "gapped_coverage_df: fluNS passed filter.\n"
     ]
    }
   ],
   "source": [
    "for viral_gene in viral_genes:\n",
    "    gene_name = viral_gene.id\n",
    "    for df in [coverage_df, gapped_coverage_df]:\n",
    "        df_name = [x for x in globals() if globals()[x] is df][0]\n",
    "        lengths = (df\n",
    "                   .query('gene == @gene_name')\n",
    "                   .groupby('sample')\n",
    "                   .size()\n",
    "                   .values\n",
    "                   )\n",
    "        if not all(lengths == len(viral_gene)):\n",
    "            raise ValueError(f\"{df_name}: coverage not for expected number sites for {gene_name}.\")\n",
    "        else:\n",
    "            print(f'{df_name}: {viral_gene.id} passed filter.')"
   ]
  },
  {
   "cell_type": "markdown",
   "metadata": {
    "tags": []
   },
   "source": [
    "Sanity check to make sure `nreads_df`, `read_len_df`, and `molecule_size_df` have same number of reads:"
   ]
  },
  {
   "cell_type": "code",
   "execution_count": 40,
   "metadata": {
    "tags": []
   },
   "outputs": [
    {
     "name": "stdout",
     "output_type": "stream",
     "text": [
      "Pass.\n"
     ]
    }
   ],
   "source": [
    "nreads_n = nreads_df.sort_values(['gene', 'sample'])['n_reads'].values\n",
    "read_len_n = (read_len_df\n",
    "             .groupby(['gene', 'sample'])\n",
    "             .aggregate({'nreads': 'sum'})\n",
    "             ['nreads']\n",
    "             .values\n",
    "             )\n",
    "molecule_size_n = (molecule_size_df\n",
    "             .groupby(['gene', 'sample'])\n",
    "             .aggregate({'nreads': 'sum'})\n",
    "             ['nreads']\n",
    "             .values\n",
    "             )\n",
    "\n",
    "if not all((nreads_n == read_len_n)) and all((nreads_n == molecule_size_n)) and all((read_len_n == molecule_size_n)):\n",
    "    raise ValueError('nreads differ for `nreads_df`, `read_len_df`, and `molecule_size_n`')\n",
    "else:\n",
    "    print('Pass.')"
   ]
  },
  {
   "cell_type": "markdown",
   "metadata": {
    "tags": []
   },
   "source": [
    "## Plot statistics about reads\n",
    "Plot the total number of aligned reads for each viral gene:"
   ]
  },
  {
   "cell_type": "code",
   "execution_count": 41,
   "metadata": {
    "tags": []
   },
   "outputs": [
    {
     "data": {
      "image/png": "[encoded data removed]",
      "text/plain": [
       "<Figure size 250x200 with 1 Axes>"
      ]
     },
     "metadata": {},
     "output_type": "display_data"
    }
   ],
   "source": [
    "p = (ggplot(nreads_df, aes('gene', 'n_reads')) +\n",
    "     geom_bar(stat='identity') +\n",
    "     facet_wrap('~ sample', nrow=1) +\n",
    "     theme(figure_size=(2.5 * len(samples_10x), 2),\n",
    "           axis_text_x=element_text(angle=90)) +\n",
    "     scale_y_continuous(labels=mizani.formatters.scientific_format(),\n",
    "                        name='number aligned reads')\n",
    "     )\n",
    "\n",
    "_ = p.draw()"
   ]
  },
  {
   "cell_type": "markdown",
   "metadata": {},
   "source": [
    "### Fraction of reads that are gapped\n",
    "Plot the fraction of all reads that are gapped for each viral gene:"
   ]
  },
  {
   "cell_type": "code",
   "execution_count": 42,
   "metadata": {},
   "outputs": [
    {
     "data": {
      "image/png": "[encoded data removed]",
      "text/plain": [
       "<Figure size 250x200 with 1 Axes>"
      ]
     },
     "metadata": {},
     "output_type": "display_data"
    }
   ],
   "source": [
    "p = (ggplot(nreads_df.assign(frac=lambda x: x['n_gapped_reads'] / x['n_reads']),\n",
    "            aes('gene', 'frac')) +\n",
    "     geom_bar(stat='identity') +\n",
    "     facet_wrap('~ sample', nrow=1) +\n",
    "     theme(figure_size=(2.5 * len(samples_10x), 2),\n",
    "           axis_text_x=element_text(angle=90)) +\n",
    "     ylab('fraction gapped reads')\n",
    "     )\n",
    "\n",
    "_ = p.draw()"
   ]
  },
  {
   "cell_type": "markdown",
   "metadata": {
    "tags": []
   },
   "source": [
    "### Lengths of aligned reads for each viral gene\n",
    "Plot the distribution of the lengths of the **aligned** portions of each read for each viral gene:"
   ]
  },
  {
   "cell_type": "code",
   "execution_count": 43,
   "metadata": {
    "tags": []
   },
   "outputs": [
    {
     "data": {
      "image/png": "[encoded data removed]",
      "text/plain": [
       "<Figure size 300x1200 with 8 Axes>"
      ]
     },
     "metadata": {},
     "output_type": "display_data"
    }
   ],
   "source": [
    "p = (ggplot(read_len_df, aes('aligned_read_length', 'nreads')) +\n",
    "     geom_bar(stat='identity') +\n",
    "     facet_grid('gene ~ sample', scales='free_y') +\n",
    "     theme(figure_size=(3 * len(samples_10x), 1.5 * len(viral_gene_names)),\n",
    "           axis_text_x=element_text(angle=90)) +\n",
    "     scale_y_continuous(labels=mizani.formatters.scientific_format())\n",
    "     )\n",
    "\n",
    "_ = p.draw()"
   ]
  },
  {
   "cell_type": "markdown",
   "metadata": {},
   "source": [
    "### Plot estimated molecule sizes for each viral gene\n",
    "Plot the distribution of the lengths of the **estimated** mRNA size for each viral gene. This assumes that all portions of the molecule which are not covered by a given read is ungapped.\n",
    "\n",
    "In the plot below I increased the bar size to 50 nt, to make it easier to see the bars. There are many "
   ]
  },
  {
   "cell_type": "code",
   "execution_count": 59,
   "metadata": {
    "scrolled": true
   },
   "outputs": [
    {
     "name": "stderr",
     "output_type": "stream",
     "text": [
      "/fh/fast/bloom_j/software/conda_v2/envs/BloomLab/lib/python3.6/site-packages/plotnine/positions/position.py:204: PlotnineWarning: position_stack requires non-overlapping x intervals\n",
      "  warn(msg.format(cls.__name__), PlotnineWarning)\n"
     ]
    },
    {
     "data": {
      "image/png": "[encoded data removed]",
      "text/plain": [
       "<Figure size 300x1200 with 8 Axes>"
      ]
     },
     "metadata": {},
     "output_type": "display_data"
    }
   ],
   "source": [
    "p = (ggplot(molecule_size_df, aes('estimated_molecule_size', 'nreads')) +\n",
    "     geom_col(width=50) +\n",
    "     facet_grid('gene ~ sample', scales='free_y') +\n",
    "     theme(figure_size=(3 * len(samples_10x), 1.5 * len(viral_gene_names)),\n",
    "           axis_text_x=element_text(angle=90)) +\n",
    "     scale_y_continuous(labels=mizani.formatters.scientific_format())\n",
    "     )\n",
    "\n",
    "_ = p.draw()"
   ]
  },
  {
   "cell_type": "markdown",
   "metadata": {
    "tags": []
   },
   "source": [
    "## Coverage per site, including over viral tags and barcodes\n",
    "Now plot coverage per site alongside gene structure.\n",
    "In this plot, we indicate the viral tags (blue) and viral barcodes (orange):"
   ]
  },
  {
   "cell_type": "code",
   "execution_count": null,
   "metadata": {},
   "outputs": [],
   "source": [
    "fig, _ = plot_genes_and_coverage(viral_genes, coverage_df)"
   ]
  },
  {
   "cell_type": "markdown",
   "metadata": {},
   "source": [
    "In the above plot, reads that align not at the 3' end have two likely causes:\n",
    " - Premature polyadenylation or mis-priming by oligo-dT primers cause the 3' primer to anneal before the end of the gene.\n",
    " - An internal deletion in the viral gene.\n",
    "\n",
    "We can get some sense of these by plotting the coverage indicating observed mutations (an enrichment of `A` mutations before a peak could indicate the polyA explanation) and coverage only from the gapped reads (which could indicate an internal deletion in the viral gene).\n",
    "\n",
    "First make the plot showing mutant nucleotides at each site:"
   ]
  },
  {
   "cell_type": "code",
   "execution_count": null,
   "metadata": {},
   "outputs": [],
   "source": [
    "fig, _ = plot_genes_and_coverage(viral_genes, coverage_df, color_mutations=True)"
   ]
  },
  {
   "cell_type": "markdown",
   "metadata": {},
   "source": [
    "Now plot coverage for **just** the gapped reads:"
   ]
  },
  {
   "cell_type": "code",
   "execution_count": null,
   "metadata": {},
   "outputs": [],
   "source": [
    "fig, _ = plot_genes_and_coverage(viral_genes, gapped_coverage_df)"
   ]
  },
  {
   "cell_type": "markdown",
   "metadata": {},
   "source": [
    "## Number of deletions in gapped reads\n",
    "I want to see if gapped reads have just one gap, or multiple."
   ]
  },
  {
   "cell_type": "code",
   "execution_count": null,
   "metadata": {},
   "outputs": [],
   "source": [
    "p = (ggplot(gapped_reads_df, aes('num_deletions')) +\n",
    "     geom_histogram(binwidth=1) +\n",
    "     facet_wrap('~gene', nrow=1) +\n",
    "     theme(figure_size=(2*len(gapped_reads_df['gene'].unique()), 2),\n",
    "           axis_text_x=element_text(angle=90)) +\n",
    "     scale_y_continuous(labels=mizani.formatters.scientific_format(),\n",
    "                        name='number of reads') +\n",
    "     scale_x_continuous(name='number of gaps')\n",
    "     )\n",
    "\n",
    "_ = p.draw()"
   ]
  },
  {
   "cell_type": "code",
   "execution_count": null,
   "metadata": {},
   "outputs": [],
   "source": []
  }
 ],
 "metadata": {
  "kernelspec": {
   "display_name": "Python 3",
   "language": "python",
   "name": "python3"
  },
  "language_info": {
   "codemirror_mode": {
    "name": "ipython",
    "version": 3
   },
   "file_extension": ".py",
   "mimetype": "text/x-python",
   "name": "python",
   "nbconvert_exporter": "python",
   "pygments_lexer": "ipython3",
   "version": "3.6.7"
  },
  "nbformat": 4,
  "nbformat_minor": 4
 },
 "nbformat": 4,
 "nbformat_minor": 4
}
