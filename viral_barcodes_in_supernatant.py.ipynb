{
 "cells": [
  {
   "cell_type": "markdown",
   "metadata": {},
   "source": [
    "# Extract viral barcodes from viral barcode sequencing data\n",
    "This Python Jupyter notebook uses the raw viral barcode seqeuncing data to parse viral barcodes for each read.\n",
    "\n",
    "Import Python modules:"
   ]
  },
  {
   "cell_type": "code",
   "execution_count": 1,
   "metadata": {},
   "outputs": [],
   "source": [
    "import pandas as pd\n",
    "\n",
    "from pymodules.tags_and_barcodes import parse_barcodes_supernatant\n",
    "\n",
    "import pysam"
   ]
  },
  {
   "cell_type": "markdown",
   "metadata": {},
   "source": [
    "Temporarily hardcode inputs for development:"
   ]
  },
  {
   "cell_type": "code",
   "execution_count": 2,
   "metadata": {},
   "outputs": [],
   "source": [
    "expt = 'scProgenyProduction_trial1'\n",
    "fastqs = [('supernatant','wildtype','fluHA','replicate_1','/shared/ngs/illumina/bloom_lab/201013_M03100_0625_000000000-JB2KP/Data/Intensities/BaseCalls/Trial1-WT-Sup-fluHA-A_S1_L001_R1_001.fastq.gz'),\n",
    "          ('supernatant','wildtype','fluHA','replicate_2','/shared/ngs/illumina/bloom_lab/201013_M03100_0625_000000000-JB2KP/Data/Intensities/BaseCalls/Trial1-WT-Sup-fluHA-B_S2_L001_R1_001.fastq.gz')]\n",
    "fastqs_df = pd.DataFrame.from_records(fastqs,\n",
    "                                     columns=['source', 'tag', 'gene', 'replicate', 'fastq_path'])\n",
    "viral_bc_locs = [('fluHA',0,16),\n",
    "                 ('fluNA',0,16)]\n",
    "bc_locs_df = pd.DataFrame.from_records(viral_bc_locs,\n",
    "                                     columns=['gene', 'start', 'end'])\n",
    "viral_bc_counts_csv = 'results/viral_fastq10x/scProgenyProduction_trial1_viral_bc_counts.csv.gz'"
   ]
  },
  {
   "cell_type": "markdown",
   "metadata": {},
   "source": [
    "Get `snakemake` variables [as described here](https://snakemake.readthedocs.io/en/stable/snakefiles/rules.html#jupyter-notebook-integration):"
   ]
  },
  {
   "cell_type": "code",
   "execution_count": 3,
   "metadata": {},
   "outputs": [],
   "source": [
    "# bam = snakemake.input.bam\n",
    "# bai = snakemake.input.bai\n",
    "# cell_barcodes = snakemake.input.cell_barcodes\n",
    "# viral_bc_locs = snakemake.input.viral_bc_locs\n",
    "# viral_bc_by_cell_umi_csv = snakemake.output.viral_bc_by_cell_umi_csv\n",
    "# expt = snakemake.wildcards.expt"
   ]
  },
  {
   "cell_type": "markdown",
   "metadata": {},
   "source": [
    "Read the viral barcode locations:"
   ]
  },
  {
   "cell_type": "code",
   "execution_count": 4,
   "metadata": {},
   "outputs": [
    {
     "data": {
      "text/html": [
       "<div>\n",
       "<style scoped>\n",
       "    .dataframe tbody tr th:only-of-type {\n",
       "        vertical-align: middle;\n",
       "    }\n",
       "\n",
       "    .dataframe tbody tr th {\n",
       "        vertical-align: top;\n",
       "    }\n",
       "\n",
       "    .dataframe thead th {\n",
       "        text-align: right;\n",
       "    }\n",
       "</style>\n",
       "<table border=\"1\" class=\"dataframe\">\n",
       "  <thead>\n",
       "    <tr style=\"text-align: right;\">\n",
       "      <th></th>\n",
       "      <th>gene</th>\n",
       "      <th>start</th>\n",
       "      <th>end</th>\n",
       "    </tr>\n",
       "  </thead>\n",
       "  <tbody>\n",
       "    <tr>\n",
       "      <th>0</th>\n",
       "      <td>fluHA</td>\n",
       "      <td>0</td>\n",
       "      <td>16</td>\n",
       "    </tr>\n",
       "    <tr>\n",
       "      <th>1</th>\n",
       "      <td>fluNA</td>\n",
       "      <td>0</td>\n",
       "      <td>16</td>\n",
       "    </tr>\n",
       "  </tbody>\n",
       "</table>\n",
       "</div>"
      ],
      "text/plain": [
       "    gene  start  end\n",
       "0  fluHA      0   16\n",
       "1  fluNA      0   16"
      ]
     },
     "metadata": {},
     "output_type": "display_data"
    }
   ],
   "source": [
    "# print(f\"Reading viral barcode locations from {viral_bc_locs}\")\n",
    "# #bc_locs_df = pd.read_csv(viral_bc_locs)\n",
    "# bc_locs_df = pd.DataFrame()\n",
    "display(bc_locs_df)\n",
    "\n",
    "if len(bc_locs_df) != bc_locs_df['gene'].nunique():\n",
    "    raise ValueError('code assumes at most one barcode per gene')"
   ]
  },
  {
   "cell_type": "markdown",
   "metadata": {},
   "source": [
    "Now we get the viral barcodes.\n",
    "Specifically, parse the FASTQ file, and for each read we extract the viral barcode based on position in the sequence."
   ]
  },
  {
   "cell_type": "code",
   "execution_count": 21,
   "metadata": {},
   "outputs": [
    {
     "name": "stdout",
     "output_type": "stream",
     "text": [
      "Parsing viral barcodes for \n",
      " \twildtype fluHA supernatant replicate_1\n",
      " \tfrom Trial1-WT-Sup-fluHA-A_S1_L001_R1_001.fastq.gz:\n",
      "Parsed viral barcodes 760633 reads.\n",
      "\n",
      "Parsing viral barcodes for \n",
      " \twildtype fluHA supernatant replicate_2\n",
      " \tfrom Trial1-WT-Sup-fluHA-B_S2_L001_R1_001.fastq.gz:\n",
      "Parsed viral barcodes 691137 reads.\n",
      "\n"
     ]
    }
   ],
   "source": [
    "viral_barcodes_by_read = pd.DataFrame({}, columns=['source', 'tag', 'gene', 'replicate', 'read_id',  'viral_barcode'])\n",
    "\n",
    "for i, row in fastqs_df.iterrows():\n",
    "    print(f\"Parsing viral barcodes for \\n\",\n",
    "          f\"\\t{row['tag']} {row['gene']} {row['source']} {row['replicate']}\\n\",\n",
    "          f\"\\tfrom {row['fastq_path'].split('/')[-1]}:\")\n",
    "\n",
    "    with pysam.FastxFile(row['fastq_path']) as fastq_iterator:\n",
    "        viral_barcodes = parse_barcodes_supernatant(readiterator=fastq_iterator,\n",
    "                                                    start=bc_locs_df.query(f'gene == \"{row[\"gene\"]}\"')['start'][0],\n",
    "                                                    end=bc_locs_df.query(f'gene == \"{row[\"gene\"]}\"')['end'][0]). \\\n",
    "                                                    assign(source = row['source'],\n",
    "                                                           tag = row['tag'],\n",
    "                                                           gene = row['gene'],\n",
    "                                                           replicate = row['replicate'])\n",
    "        viral_barcodes_by_read = viral_barcodes_by_read.append(viral_barcodes)\n",
    "        print(f\"Parsed viral barcodes {len(viral_barcodes)} reads.\\n\")"
   ]
  },
  {
   "cell_type": "markdown",
   "metadata": {},
   "source": [
    "Next, I will count the number of reads I see each viral barcode in, within each sequencing sample. To do this, I group by source, tag, gene, and replicate (which defines a sequencing sample), and simply count the number of times I see each barcode."
   ]
  },
  {
   "cell_type": "code",
   "execution_count": 22,
   "metadata": {},
   "outputs": [],
   "source": [
    "viral_bc_counts = pd.DataFrame(viral_barcodes_by_read.groupby(['source','tag','gene','replicate'])['viral_barcode'] \\\n",
    "             .value_counts()) \\\n",
    "             .rename(columns={'viral_barcode':'count'}) \\\n",
    "             .reset_index()"
   ]
  },
  {
   "cell_type": "markdown",
   "metadata": {},
   "source": [
    "Write the viral barcodes to the output CSV file:"
   ]
  },
  {
   "cell_type": "code",
   "execution_count": 6,
   "metadata": {},
   "outputs": [
    {
     "ename": "NameError",
     "evalue": "name 'viral_bc_by_cell_umi_csv' is not defined",
     "output_type": "error",
     "traceback": [
      "\u001b[0;31m---------------------------------------------------------------------------\u001b[0m",
      "\u001b[0;31mNameError\u001b[0m                                 Traceback (most recent call last)",
      "\u001b[0;32m<ipython-input-6-421be93fc7da>\u001b[0m in \u001b[0;36m<module>\u001b[0;34m\u001b[0m\n\u001b[0;32m----> 1\u001b[0;31m \u001b[0mprint\u001b[0m\u001b[0;34m(\u001b[0m\u001b[0;34mf\"Writing viral barcodes to {viral_bc_by_cell_umi_csv}\"\u001b[0m\u001b[0;34m)\u001b[0m\u001b[0;34m\u001b[0m\u001b[0;34m\u001b[0m\u001b[0m\n\u001b[0m\u001b[1;32m      2\u001b[0m \u001b[0;34m\u001b[0m\u001b[0m\n\u001b[1;32m      3\u001b[0m bcs_by_umi.to_csv(viral_bc_by_cell_umi_csv,\n\u001b[1;32m      4\u001b[0m                   \u001b[0mindex\u001b[0m\u001b[0;34m=\u001b[0m\u001b[0;32mFalse\u001b[0m\u001b[0;34m,\u001b[0m\u001b[0;34m\u001b[0m\u001b[0;34m\u001b[0m\u001b[0m\n\u001b[1;32m      5\u001b[0m                   compression='gzip')\n",
      "\u001b[0;31mNameError\u001b[0m: name 'viral_bc_by_cell_umi_csv' is not defined"
     ]
    }
   ],
   "source": [
    "print(f\"Writing viral barcodes to {viral_bc_counts_csv}\")\n",
    "\n",
    "viral_bc.to_csv(viral_bc_counts_csv,\n",
    "                  index=False,\n",
    "                  compression='gzip')"
   ]
  },
  {
   "cell_type": "code",
   "execution_count": null,
   "metadata": {},
   "outputs": [],
   "source": []
  },
  {
   "cell_type": "code",
   "execution_count": null,
   "metadata": {},
   "outputs": [],
   "source": [
    "row"
   ]
  },
  {
   "cell_type": "code",
   "execution_count": null,
   "metadata": {},
   "outputs": [],
   "source": []
  }
 ],
 "metadata": {
  "kernelspec": {
   "display_name": "Python 3",
   "language": "python",
   "name": "python3"
  },
  "language_info": {
   "codemirror_mode": {
    "name": "ipython",
    "version": 3
   },
   "file_extension": ".py",
   "mimetype": "text/x-python",
   "name": "python",
   "nbconvert_exporter": "python",
   "pygments_lexer": "ipython3",
   "version": "3.8.5"
  }
 },
 "nbformat": 4,
 "nbformat_minor": 4
}
