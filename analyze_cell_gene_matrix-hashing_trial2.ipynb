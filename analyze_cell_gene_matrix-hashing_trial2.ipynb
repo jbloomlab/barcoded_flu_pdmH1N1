{
 "cells": [
  {
   "cell_type": "markdown",
   "metadata": {},
   "source": [
    "# Analyze cell-gene matrix\n",
    "This Python Jupyter notebook processes the cell-gene matrix for basic purposes such as removing doublets and examining the amount of viral products per cell."
   ]
  },
  {
   "cell_type": "markdown",
   "metadata": {},
   "source": [
    "## Parameters\n",
    "First, set the parameters for the notebook, such as to specify the input files and output plots.\n",
    "This is done in the next cell, which is tagged as a `parameters` cell to enable [papermill parameterization](https://papermill.readthedocs.io/en/latest/usage-parameterize.html):"
   ]
  },
  {
   "cell_type": "code",
   "execution_count": 1,
   "metadata": {
    "tags": [
     "parameters"
    ]
   },
   "outputs": [],
   "source": [
    "# parameters cell; in order for notebook to run this cell must define:\n",
    "#  - input_matrix: filtered gene-barcode matrix from `STARsolo`\n",
    "#  - input_features: list of features (genes) from `STARsolo`\n",
    "#  - input_barcodes: list of cell barcodes from `STARsolo`\n",
    "#  - input_viral_gtf: GTF file giving names of viral genes\n",
    "#  - input_viraltag_counts: CSV file giving counts of viral variant tags, parsed by `viraltag_count` notebook\n",
    "#  - input_viralbc_counts: CSV file giving counts of viral barcodes, parsed by `viraltag_count` notebook\n",
    "#  - input_gapped_reads: CSV file giving info for all reads with deletions, parsed by 'gap_analysis' notebook\n",
    "#  - input_gapped_reads_summary: CSV file with counts of gapped reads grouped by cell bc and gene, parsed by 'gap_analysis' notebook"
   ]
  },
  {
   "cell_type": "code",
   "execution_count": 2,
   "metadata": {},
   "outputs": [],
   "source": [
    "# Parameters\n",
    "sample = \"hashing_trial2\"\n",
    "input_matrix = \"results/aligned_fastq10x/hashing_trial2/Solo.out/GeneFull/raw/matrix.mtx\"\n",
    "input_features = \"results/aligned_fastq10x/hashing_trial2/Solo.out/GeneFull/raw/features.tsv\"\n",
    "input_barcodes = \"results/aligned_fastq10x/hashing_trial2/Solo.out/GeneFull/raw/barcodes.tsv\"\n",
    "input_viral_gtf = \"data/flu_sequences/flu-CA09.gtf\"\n",
    "input_viraltag_counts = \"results/viral_fastq10x/viraltag_counts_hashing_trial2.csv\"\n",
    "input_viralbc_counts = \"results/viral_fastq10x/viralbc_counts_hashing_trial2.csv\"\n",
    "input_gapped_reads = \"results/viral_fastq10x/gapped_reads.csv\"\n",
    "input_gapped_reads_summmary = \"results/viral_fastq10x/gapped_reads_summary.csv\""
   ]
  },
  {
   "cell_type": "markdown",
   "metadata": {},
   "source": [
    "## Import Python modules\n",
    "We use [anndata](https://anndata.readthedocs.io/) and [scanpy](https://scanpy.readthedocs.io/) for most the data processing, and [plotnine](https://plotnine.readthedocs.io/) for ggplot2-style plotting:"
   ]
  },
  {
   "cell_type": "code",
   "execution_count": 3,
   "metadata": {},
   "outputs": [],
   "source": [
    "import os\n",
    "\n",
    "import anndata\n",
    "import BCBio.GFF\n",
    "from IPython.display import display, HTML\n",
    "import numpy\n",
    "import math\n",
    "from scipy.stats import poisson\n",
    "from scipy.stats import variation\n",
    "import pandas as pd\n",
    "from plotnine import *\n",
    "import scanpy as sc"
   ]
  },
  {
   "cell_type": "markdown",
   "metadata": {},
   "source": [
    "Set [scanpy](https://scanpy.readthedocs.io/) to provide lots of information including hints:"
   ]
  },
  {
   "cell_type": "code",
   "execution_count": 4,
   "metadata": {},
   "outputs": [],
   "source": [
    "sc.settings.verbosity = 3  # verbosity: errors (0), warnings (1), info (2), hints (3)"
   ]
  },
  {
   "cell_type": "markdown",
   "metadata": {},
   "source": [
    "Versions of key [scanpy](https://scanpy.readthedocs.io/) packages:"
   ]
  },
  {
   "cell_type": "code",
   "execution_count": 5,
   "metadata": {},
   "outputs": [
    {
     "name": "stdout",
     "output_type": "stream",
     "text": [
      "scanpy==1.4.6 anndata==0.7.1 umap==0.3.10 numpy==1.17.0 scipy==1.4.1 pandas==0.25.3 scikit-learn==0.21.3 statsmodels==0.10.1\n"
     ]
    }
   ],
   "source": [
    "sc.logging.print_versions()"
   ]
  },
  {
   "cell_type": "markdown",
   "metadata": {},
   "source": [
    "Color-blind palette:"
   ]
  },
  {
   "cell_type": "code",
   "execution_count": 6,
   "metadata": {},
   "outputs": [],
   "source": [
    "cbpalette = ('#999999', '#E69F00', '#56B4E9', '#009E73',\n",
    "             '#F0E442', '#0072B2', '#D55E00', '#CC79A7')"
   ]
  },
  {
   "cell_type": "markdown",
   "metadata": {},
   "source": [
    "Set [plotnine theme](https://plotnine.readthedocs.io/en/stable/api.html#themes):"
   ]
  },
  {
   "cell_type": "code",
   "execution_count": 7,
   "metadata": {},
   "outputs": [],
   "source": [
    "_ = theme_set(theme_classic)"
   ]
  },
  {
   "cell_type": "markdown",
   "metadata": {},
   "source": [
    "## Read the cell-gene matrix\n",
    "Read the cell-gene matrix into an [AnnData](https://anndata.readthedocs.io/) annotated data object.\n",
    "We can't _quite_ use the [scanpy read_10x_mtx](https://icb-scanpy.readthedocs-hosted.com/en/stable/api/scanpy.api.read_10x_mtx.html) function as the `STARsolo` output isn't in quite the right format, so instead we write our own code that accomplishes the same:"
   ]
  },
  {
   "cell_type": "code",
   "execution_count": 8,
   "metadata": {},
   "outputs": [
    {
     "name": "stdout",
     "output_type": "stream",
     "text": [
      "Reading cell-gene matrix from results/aligned_fastq10x/hashing_trial2/Solo.out/GeneFull/raw/matrix.mtx\n",
      "Reading features (genes) from results/aligned_fastq10x/hashing_trial2/Solo.out/GeneFull/raw/features.tsv\n",
      "Reading barcodes (cells) from results/aligned_fastq10x/hashing_trial2/Solo.out/GeneFull/raw/barcodes.tsv\n",
      "\n",
      "Info on created annotated data object:\n",
      "AnnData object with n_obs × n_vars = 6794880 × 30959 \n",
      "    var: 'gene_ids'\n"
     ]
    }
   ],
   "source": [
    "print(f\"Reading cell-gene matrix from {input_matrix}\")\n",
    "adata = anndata.read_mtx(input_matrix).T\n",
    "\n",
    "print(f\"Reading features (genes) from {input_features}\")\n",
    "genes = pd.read_csv(input_features, header=None, sep='\\t')\n",
    "adata.var_names = (anndata.utils.make_index_unique(pd.Index(genes[1]))\n",
    "                   .rename('gene_symbols')\n",
    "                   )\n",
    "adata.var['gene_ids'] = genes[0].values\n",
    "\n",
    "print(f\"Reading barcodes (cells) from {input_barcodes}\")\n",
    "cells = pd.read_csv(input_barcodes, header=None, sep='\\t')[0]\n",
    "adata.obs_names = cells.rename('cell_barcodes')\n",
    "\n",
    "print(f\"\\nInfo on created annotated data object:\\n{adata}\")"
   ]
  },
  {
   "cell_type": "markdown",
   "metadata": {},
   "source": [
    "## Basic analysis of total and viral UMIs per cell"
   ]
  },
  {
   "cell_type": "markdown",
   "metadata": {},
   "source": [
    "### Total UMIs per cell\n",
    "Annotate and plot total UMIs per cell:"
   ]
  },
  {
   "cell_type": "code",
   "execution_count": 9,
   "metadata": {},
   "outputs": [
    {
     "data": {
      "image/png": "[encoded data removed]",
      "text/plain": [
       "<Figure size 300x180 with 1 Axes>"
      ]
     },
     "metadata": {},
     "output_type": "display_data"
    }
   ],
   "source": [
    "adata.obs['total_UMIs'] = numpy.sum(adata.X, axis=1).A1\n",
    "\n",
    "p = (ggplot(adata.obs, aes('total_UMIs')) +\n",
    "     geom_histogram(bins=50) +\n",
    "     theme(figure_size=(3, 1.8)) +\n",
    "     xlab('total UMIs per cell') +\n",
    "     ylab('number of cells')\n",
    "     )\n",
    "_ = p.draw()"
   ]
  },
  {
   "cell_type": "markdown",
   "metadata": {},
   "source": [
    "### Viral UMIs per cell\n",
    "First get the viral transcripts:"
   ]
  },
  {
   "cell_type": "code",
   "execution_count": 10,
   "metadata": {},
   "outputs": [
    {
     "name": "stdout",
     "output_type": "stream",
     "text": [
      "Reading names of viral transcripts from data/flu_sequences/flu-CA09.gtf\n",
      "The viral transcripts are as follows:\n",
      "\tfluHA\n",
      "\tfluM\n",
      "\tfluNA\n",
      "\tfluNP\n",
      "\tfluNS\n",
      "\tfluPA\n",
      "\tfluPB1\n",
      "\tfluPB2\n"
     ]
    }
   ],
   "source": [
    "print(f\"Reading names of viral transcripts from {input_viral_gtf}\")\n",
    "with open(input_viral_gtf) as f:\n",
    "    viral_genes = [seqrecord.id for seqrecord in BCBio.GFF.parse(f)]\n",
    "    \n",
    "print('The viral transcripts are as follows:\\n\\t' + '\\n\\t'.join(viral_genes))\n",
    "\n",
    "assert set(viral_genes) <= set(adata.var_names), \"missing some viral genes\""
   ]
  },
  {
   "cell_type": "markdown",
   "metadata": {},
   "source": [
    "Now annotate and plot total viral UMIs per cell:"
   ]
  },
  {
   "cell_type": "code",
   "execution_count": 11,
   "metadata": {},
   "outputs": [
    {
     "data": {
      "image/png": "[encoded data removed]",
      "text/plain": [
       "<Figure size 300x180 with 1 Axes>"
      ]
     },
     "metadata": {},
     "output_type": "display_data"
    }
   ],
   "source": [
    "adata.obs['viral_UMIs'] = numpy.sum(adata[:, viral_genes].X, axis=1).A1\n",
    "\n",
    "p = (ggplot(adata.obs, aes('viral_UMIs')) +\n",
    "     geom_histogram(bins=50) +\n",
    "     theme(figure_size=(3, 1.8)) +\n",
    "     xlab('viral UMIs per cell') +\n",
    "     ylab('number of cells')\n",
    "     )\n",
    "_ = p.draw()"
   ]
  },
  {
   "cell_type": "markdown",
   "metadata": {},
   "source": [
    "Also annotate total cellular (non viral) UMIs per cell:"
   ]
  },
  {
   "cell_type": "code",
   "execution_count": 12,
   "metadata": {},
   "outputs": [],
   "source": [
    "adata.obs['cellular_UMIs'] = adata.obs['total_UMIs'] - adata.obs['viral_UMIs']"
   ]
  },
  {
   "cell_type": "markdown",
   "metadata": {},
   "source": [
    "And annotate the fraction of UMIs that are viral:"
   ]
  },
  {
   "cell_type": "code",
   "execution_count": 13,
   "metadata": {},
   "outputs": [],
   "source": [
    "adata.obs['viral_UMI_frac'] = adata.obs['viral_UMIs'] / adata.obs['total_UMIs']"
   ]
  },
  {
   "cell_type": "markdown",
   "metadata": {},
   "source": [
    "### Bulk Metrics of Viral Load\n",
    "Want to know how many reads are coming from virus, rather than host, in this datset overall."
   ]
  },
  {
   "cell_type": "code",
   "execution_count": 15,
   "metadata": {},
   "outputs": [
    {
     "name": "stdout",
     "output_type": "stream",
     "text": [
      "The total fraction of viral UMIs in this dataset is: 0.022\n",
      "\n",
      "There are 23462 unfiltered cells with a high viral burden (more than 10% of UMIs come from virus).\n",
      "In these cells, the average proportion of UMIs from virus is: 0.580\n"
     ]
    }
   ],
   "source": [
    "bulk_viral_UMIs = adata.obs['viral_UMIs'].sum()\n",
    "bulk_cellular_UMIs = adata.obs['cellular_UMIs'].sum()\n",
    "bulk_total_UMIs = adata.obs['total_UMIs'].sum()\n",
    "#assert bulk_total_UMIs == bulk_viral_UMIs + bulk_cellular_UMIs, \"Error calculating bulk metrics.\"\n",
    "\n",
    "print(f\"The total fraction of viral UMIs in this dataset is: {bulk_viral_UMIs/bulk_total_UMIs:.3f}\")\n",
    "\n",
    "high_virus_cells = adata.obs.query('viral_UMI_frac > 0.1')\n",
    "print(f\"\\nThere are {len(high_virus_cells)} unfiltered cells with a high viral burden (more than 10% of UMIs come from virus).\")\n",
    "print(f\"In these cells, the average proportion of UMIs from virus is: {high_virus_cells['viral_UMI_frac'].mean():.3f}\")"
   ]
  },
  {
   "cell_type": "markdown",
   "metadata": {},
   "source": [
    "### Correlation between viral and total/cellular UMIs\n",
    "Below calculate the correlation between the viral and total and cellular mRNAs:"
   ]
  },
  {
   "cell_type": "code",
   "execution_count": 16,
   "metadata": {},
   "outputs": [
    {
     "data": {
      "image/png": "[encoded data removed]",
      "text/plain": [
       "<Figure size 220x220 with 1 Axes>"
      ]
     },
     "metadata": {},
     "output_type": "display_data"
    },
    {
     "data": {
      "image/png": "[encoded data removed]",
      "text/plain": [
       "<Figure size 220x220 with 1 Axes>"
      ]
     },
     "metadata": {},
     "output_type": "display_data"
    }
   ],
   "source": [
    "for x in ['total_UMIs', 'cellular_UMIs']:\n",
    "    \n",
    "    corr = adata.obs[x].corr(adata.obs['viral_UMIs'], method='pearson')\n",
    "    \n",
    "    p = (ggplot(adata.obs, aes(x, 'viral_UMIs')) +\n",
    "         geom_point(alpha=0.15) +\n",
    "         theme(figure_size=(2.2, 2.2)) +\n",
    "         xlab(x.replace('_', ' ')) +\n",
    "         ylab('viral UMIs') +\n",
    "         ggtitle(f\"Correlation: {corr:.2f}\")\n",
    "         )\n",
    "    _ = p.draw()"
   ]
  },
  {
   "cell_type": "markdown",
   "metadata": {},
   "source": [
    "### Filter cells on total cellular UMIs\n",
    "We filter cells that have unusually low or high number of UMIs.\n",
    "We mark as `filtered` cells that fail the filter:"
   ]
  },
  {
   "cell_type": "code",
   "execution_count": 17,
   "metadata": {},
   "outputs": [
    {
     "name": "stdout",
     "output_type": "stream",
     "text": [
      "Average of 7.8 cellular UMIs / cell.\n",
      "Marking as filtered if <3.1 or >19.5 cellular UMIs.\n"
     ]
    }
   ],
   "source": [
    "mean_cell_UMIs = adata.obs['cellular_UMIs'].mean()\n",
    "limits = (mean_cell_UMIs / 2.5, mean_cell_UMIs * 2.5)\n",
    "\n",
    "print(f\"Average of {mean_cell_UMIs:.1f} cellular UMIs / cell.\\nMarking as \"\n",
    "      f\"filtered if <{limits[0]:.1f} or >{limits[1]:.1f} cellular UMIs.\")\n",
    "\n",
    "adata.obs = (\n",
    "    adata.obs\n",
    "    .assign(filtered=lambda x: ((x['cellular_UMIs'] < limits[0]) |\n",
    "                                (x['cellular_UMIs'] > limits[1])),\n",
    "            filtered_desc=lambda x: numpy.where(x['filtered'] != True, 'retained',\n",
    "                                    numpy.where(x['cellular_UMIs'] < limits[0],\n",
    "                                    'too few cellular UMIs', 'too many cellular UMIs')),\n",
    "            )\n",
    "    )"
   ]
  },
  {
   "cell_type": "markdown",
   "metadata": {},
   "source": [
    "Plot cellular and viral mRNAs in filtered versus retained cells"
   ]
  },
  {
   "cell_type": "code",
   "execution_count": null,
   "metadata": {},
   "outputs": [],
   "source": [
    "p = (ggplot(\n",
    "        adata.obs.assign(ncells=lambda x: x.groupby('filtered_desc')\n",
    "                                           ['filtered']\n",
    "                                           .transform('count'),\n",
    "                         cell_group=lambda x: x['filtered_desc'] + ' (' + \n",
    "                                              x['ncells'].astype(str) + ' cells)'\n",
    "                         ),\n",
    "        aes('cellular_UMIs', 'viral_UMIs', color='cell_group')) +\n",
    "     geom_point(alpha=0.15) +\n",
    "     theme(figure_size=(2.2, 2.2),\n",
    "           legend_title=element_blank()) +\n",
    "     xlab('cellular UMIs') +\n",
    "     ylab('viral UMIs') +\n",
    "     scale_color_manual(values=cbpalette[1:]) +\n",
    "     guides(color=guide_legend(override_aes={'alpha': 1}))\n",
    "     )\n",
    "_ = p.draw()"
   ]
  },
  {
   "cell_type": "markdown",
   "metadata": {},
   "source": [
    "From here on out, we will restrict analyses to the non-filtered cells. A few of the plots *seem* redundant with those shown above, but those were done before filtering."
   ]
  },
  {
   "cell_type": "markdown",
   "metadata": {},
   "source": [
    "### Fraction of UMIs derived from virus in individual cells\n",
    "Make a basic plot of the fraction of UMIs derived from virus:"
   ]
  },
  {
   "cell_type": "code",
   "execution_count": null,
   "metadata": {},
   "outputs": [],
   "source": [
    "p = (ggplot(adata.obs.query('not filtered'), aes('viral_UMI_frac')) +\n",
    "     geom_histogram(bins=50) +\n",
    "     theme(figure_size=(3, 1.8)) +\n",
    "     xlab('fraction of UMIs from virus') +\n",
    "     ylab('number of cells')\n",
    "     )\n",
    "_ = p.draw()"
   ]
  },
  {
   "cell_type": "markdown",
   "metadata": {},
   "source": [
    "### Fraction of cells infected\n",
    "Want a simple estimate of what proportion of all filtered cells are infected. For now, I will simply use a cutoff of >=1% of UMIs come from viral genes."
   ]
  },
  {
   "cell_type": "code",
   "execution_count": null,
   "metadata": {},
   "outputs": [],
   "source": [
    "single_cells = len(adata.obs.query('(not filtered)'))\n",
    "infected_cells = len(adata.obs.query('(not filtered) & (viral_UMI_frac > 0.01)'))\n",
    "frac_infected = infected_cells / single_cells * 100\n",
    "\n",
    "print(f\"The total number of single cells is: {single_cells} cells.\")\n",
    "print(f\"Of these, {infected_cells} are likely bona fide infected cells. These droplets derive at least 1% of their UMIs from viral genes.\")\n",
    "print(f\"This is {frac_infected:.1f}% of cells in the dataset.\")"
   ]
  },
  {
   "cell_type": "markdown",
   "metadata": {},
   "source": [
    "I will make a plot of these cells showing the fraction of UMI from virus in each."
   ]
  },
  {
   "cell_type": "code",
   "execution_count": null,
   "metadata": {},
   "outputs": [],
   "source": [
    "working_df = adata.obs.query('(not filtered) & (viral_UMI_frac > 0.01)')\n",
    "working_df = working_df.sort_values(by=['viral_UMI_frac'], ascending=False)\n",
    "working_df['viral_UMI_frac_rank'] = working_df.reset_index().index + 1\n",
    "\n",
    "p = (ggplot(working_df, \n",
    "            aes(x='viral_UMI_frac_rank', y='viral_UMI_frac')) +\n",
    "     geom_bar(stat='identity', width=1) +\n",
    "     theme(figure_size=(10, 4)) +\n",
    "     xlab('viral burden rank') +\n",
    "     ylab('fraction of UMIs from virus')\n",
    "     )\n",
    "_ = p.draw()"
   ]
  },
  {
   "cell_type": "markdown",
   "metadata": {},
   "source": [
    "### Fraction of cells with high viral burden\n",
    "What proportion of cells have a high proportion of viral UMIs? Say, 10% of UMIs from virus?"
   ]
  },
  {
   "cell_type": "code",
   "execution_count": null,
   "metadata": {},
   "outputs": [],
   "source": [
    "high_virus_cells = adata.obs.query('(viral_UMI_frac > 0.1) & (not filtered)')\n",
    "n_high_virus_cells = len(high_virus_cells)\n",
    "\n",
    "print(f\"There are {n_high_virus_cells} cells that passed filtering with a high viral burden (more than 10% of UMIs come from virus).\")\n",
    "print(f\"This represents {n_high_virus_cells/infected_cells*100:.1f}% of infected cells and {n_high_virus_cells/single_cells*100:.1f}% of all cells in the datset.\")\n",
    "print(f\"In these cells, the average proportion of UMIs from virus is: {high_virus_cells['viral_UMI_frac'].mean():.3f}\")"
   ]
  },
  {
   "cell_type": "code",
   "execution_count": null,
   "metadata": {},
   "outputs": [],
   "source": [
    "working_df = pd.DataFrame({'group':['single_cells','infected_cells','high_virus_cells'],\n",
    "                           'n_cells':[f'{single_cells}',f'{infected_cells}',f'{n_high_virus_cells}'],\n",
    "                           'dummy':[1,1,1]\n",
    "                          })\n",
    "\n",
    "cat_dtype = pd.api.types.CategoricalDtype(\n",
    "    categories=working_df['group'], ordered=True)\n",
    "working_df['group'] = working_df['group'].astype(cat_dtype)\n",
    "working_df['n_cells'] = working_df['n_cells'].astype(float)\n",
    "working_df['frac_cells'] = working_df['n_cells'] / float(working_df.query('group == \"single_cells\"')['n_cells'])\n",
    "print(working_df)\n",
    "\n",
    "\n",
    "p = (ggplot(working_df, \n",
    "            aes(x='dummy', y='frac_cells', fill='group')) +\n",
    "     geom_bar(stat='identity', position='dodge') +\n",
    "     coord_flip() +\n",
    "     theme(figure_size=(4, 1.5)) +\n",
    "     ylab('fraction of cells') +\n",
    "     xlab('') +\n",
    "     scale_fill_manual(cbpalette[0:])\n",
    "     )\n",
    "_ = p.draw()"
   ]
  },
  {
   "cell_type": "markdown",
   "metadata": {},
   "source": [
    "## Parsing Viral Tags\n",
    "\n",
    "### Variant infecting each cell -- unfiltered cell barcodes\n",
    "I'd like to label each cell as being infected by WT or dblSyn virus. I expect some leakage of transcripts from droplet to droplet, so there may be a few reads of the opposite type. Overall, I expect most cells which are truly infected will have the vast majority of their reads from one variant or the other.\n",
    "\n",
    "#### Loading tag counts\n",
    "A lot of cell barcodes have no value for either the WT tag count or the dblSyn tag count, or both. To deal with this, **I will add replace these values with 0 right away.** This solves an error that was previously introduced, where any cell with an `NaN` value for either variant could not be processed correctly.\n",
    "\n",
    "#### Cutoffs for purity\n",
    "I will call cell as infected by either WT or dblSyn variant of virus, based on ratio of tag counts. I made arbitrary cutoffs using 0.3 and .7 as the ratios. These are at least reciprocal. I will interpret any ratio between these cutoffs is mixed."
   ]
  },
  {
   "cell_type": "code",
   "execution_count": null,
   "metadata": {},
   "outputs": [],
   "source": [
    "# Load counts of each viral tag from `viraltag_counts.csv`\n",
    "print(f\"Reading viral tag counts from {input_viraltag_counts}\")\n",
    "tag_counts_df = pd.read_csv(input_viraltag_counts)\n",
    "\n",
    "tag_counts_df = tag_counts_df.rename(columns={'cell_barcode':'cell_barcodes'})\n",
    "\n",
    "tag_counts_df = tag_counts_df.groupby(['cell_barcodes','tag_variant']).sum()\n",
    "tag_counts_df = tag_counts_df.reset_index(level=['cell_barcodes','tag_variant'])\n",
    "tag_counts_df = tag_counts_df.pivot_table('count', ['cell_barcodes'], 'tag_variant')\n",
    "tag_counts_df = tag_counts_df.fillna(0)"
   ]
  },
  {
   "cell_type": "code",
   "execution_count": null,
   "metadata": {},
   "outputs": [],
   "source": [
    "tag_counts_df.loc[tag_counts_df['wt'] > tag_counts_df['syn'], 'major_species'] = 'wt'\n",
    "tag_counts_df.loc[tag_counts_df['wt'] < tag_counts_df['syn'], 'major_species'] = 'syn'\n",
    "tag_counts_df.loc[tag_counts_df['wt'] == tag_counts_df['syn'], 'major_species'] = 'mixed'"
   ]
  },
  {
   "cell_type": "code",
   "execution_count": null,
   "metadata": {},
   "outputs": [],
   "source": [
    "fraction_cutoff = 0.75 #Set a 25% contamination fraction as the cutoff for mixed calls.\n",
    "\n",
    "tag_counts_df['total_tags'] = (tag_counts_df['syn'] + tag_counts_df['wt'])\n",
    "\n",
    "tag_counts_df.loc[tag_counts_df['major_species'] == 'wt', 'major_species_frac'] = tag_counts_df['wt'] / tag_counts_df['total_tags']\n",
    "tag_counts_df.loc[tag_counts_df['major_species'] == 'syn', 'major_species_frac'] = tag_counts_df['syn'] / tag_counts_df['total_tags']\n",
    "tag_counts_df.loc[tag_counts_df['major_species'] == 'mixed', 'major_species_frac'] = tag_counts_df['wt'] / tag_counts_df['total_tags']\n",
    "\n",
    "tag_counts_df['variant'] = 'mixed'\n",
    "\n",
    "tag_counts_df.loc[tag_counts_df['major_species_frac'] > fraction_cutoff, 'variant'] = tag_counts_df['major_species']\n",
    "tag_counts_df.loc[tag_counts_df['total_tags'] == 0, 'variant'] = 'no tags'\n",
    "tag_counts_df = tag_counts_df.reset_index()\n",
    "tag_counts_df = tag_counts_df.sort_values(by=['major_species_frac'], ascending=False)\n",
    "tag_counts_df['major_species_frac_rank'] = tag_counts_df.reset_index().index + 1"
   ]
  },
  {
   "cell_type": "code",
   "execution_count": null,
   "metadata": {
    "scrolled": true
   },
   "outputs": [],
   "source": [
    "p = (ggplot(tag_counts_df, \n",
    "            aes(x='major_species_frac_rank', y='major_species_frac', fill='variant')) +\n",
    "     geom_bar(stat='identity', width=1) +\n",
    "     theme(figure_size=(8, 3)) +\n",
    "     ggtitle('Fraction of viral tags from each variant\\nAll cells with viral tags') +\n",
    "     xlab('cell rank (least contaminating tags to most)') +\n",
    "     ylab('fraction of tags from majority variant') +\n",
    "     scale_fill_manual(values=cbpalette[1:])\n",
    "     )\n",
    "_ = p.draw()"
   ]
  },
  {
   "cell_type": "markdown",
   "metadata": {},
   "source": [
    "### Variant infecting cells called as \"infected\"\n",
    "Now, I will take the tag count and variant identity information I just calculated and merge it with the infection status information I calculated above. This will give the variant call for each \"true\" infected cell."
   ]
  },
  {
   "cell_type": "code",
   "execution_count": null,
   "metadata": {},
   "outputs": [],
   "source": [
    "adata.obs = adata.obs.merge(tag_counts_df, on='cell_barcodes', how='outer')\n",
    "adata.obs"
   ]
  },
  {
   "cell_type": "code",
   "execution_count": null,
   "metadata": {},
   "outputs": [],
   "source": [
    "single_cells = len(adata.obs.query('(not filtered)'))\n",
    "    \n",
    "print(f\"The total number of retained single cells is: {single_cells} cells.\")\n",
    "print(f\"I assume half of these ({single_cells/2:.0f} cells) were from the well infected\",\n",
    "      \"with WT virus and half were from the well infected with dblSyn.\\n\")\n",
    "\n",
    "for var in ['wt','syn', 'mixed', 'no tags']:\n",
    "    var_infected_cells = len(adata.obs.query('(not filtered) & (viral_UMI_frac > 0.01) & (variant == @var)'))\n",
    "    var_frac_infected = var_infected_cells / (single_cells / 2) * 100\n",
    "\n",
    "    if var == 'wt' or var == 'syn':\n",
    "        print(f\"There were {var_infected_cells} cells called as infected with {var} virus.\")\n",
    "        print(f\"Assuming half the total single cells came from this sample well, {var_frac_infected:.0f}% of the cells in that well were infected.\\n\")\n",
    "    else:\n",
    "        print(f\"There were {var_infected_cells} droplets called as {var}.\")\n",
    "    "
   ]
  },
  {
   "cell_type": "markdown",
   "metadata": {},
   "source": [
    "Plot the proportions of tag counts for each true infected cell."
   ]
  },
  {
   "cell_type": "code",
   "execution_count": null,
   "metadata": {},
   "outputs": [],
   "source": [
    "working_df = adata.obs.query('(not filtered) & (viral_UMI_frac > 0.01)')\n",
    "working_df = working_df.sort_values(by=['major_species_frac'], ascending=False)\n",
    "working_df['major_species_frac_rank'] = working_df.reset_index().index + 1\n",
    "p = (ggplot(working_df, \n",
    "            aes(x='major_species_frac_rank', y='major_species_frac', fill='variant')) +\n",
    "     geom_bar(stat='identity', width=1) +\n",
    "     theme(figure_size=(8, 3)) +\n",
    "     ggtitle('Fraction of viral tags from each variant\\ninfected cells with viral tags') +\n",
    "     xlab('cell rank (least contaminating tags to most)') +\n",
    "     ylab('fraction of tags from majority variant') +\n",
    "     scale_fill_manual(values=cbpalette[1:])\n",
    "     )\n",
    "_ = p.draw()"
   ]
  },
  {
   "cell_type": "markdown",
   "metadata": {},
   "source": [
    "## Parsing viral barcodes\n",
    "I would like to know how many virions infected each cell in this dataset.\n",
    "\n",
    "#### Loading barcodes\n",
    "The barcodes are parsed in the `count_viralbc_fastq10x` notebook. This, in turn, calls the `extract_tags` functions to identify reads that align and cover the position of the viral barcode in the reference genome. The barcodes are checked for quality and then exported.\n",
    "\n",
    "I will import the barcode counts from the `viralbc_counts` CSV. This file lists the counts for each cell/segment/viral barcode combination.\n",
    "\n",
    "#### Counting viral barcodes per cell -- unfiltered cell barcodes\n",
    "For each cell, I will count the number of \"true\" viral barcodes that are present for each segment. I have a few naiive assumptions:\n",
    "* If capture is good for both segments, I expect the number of barcodes on HA to (usually) match the number of barcodes on NA.\n",
    "* At a rate of ~20% of cells infected, assuming poisson occupancy, I expect ~18% of cells to have only 1 viral barcode, and about 2% of cells to have >1 viral barcodes.\n",
    "* These cells were infected in a large dish with a large viral innoculum. With the diversity of the viral barcodes in the viral stock, it is likely that the same barcode will show up in multiple cells.\n",
    "\n",
    "I will define \"true\" barcodes as barcodes that are seen in more than X UMI for a given cell/segment combination. The counts for these data are generally quite low right now. Jesse shared the advice that at low counts, using integers of counts is a better method than percentages. This makes sense given that a single count is a large percentage of these data. To see how filtering varies with cutoff choice, I will test a few different cutoffs and plot them side by side."
   ]
  },
  {
   "cell_type": "code",
   "execution_count": null,
   "metadata": {},
   "outputs": [],
   "source": [
    "# Load counts of each viral barcode from `viraltag_counts.csv`\n",
    "print(f\"Reading viral barcode counts from {input_viralbc_counts}\")\n",
    "bc_counts_df = pd.read_csv(input_viralbc_counts)\n",
    "\n",
    "bc_counts_df = bc_counts_df.rename(columns={'cell_barcode':'cell_barcodes'})\n",
    "\n",
    "print(bc_counts_df.head())\n",
    "#print(bc_counts_df.size)"
   ]
  },
  {
   "cell_type": "markdown",
   "metadata": {},
   "source": [
    "First, I will filter this data by a variety of cutoffs. I will append each filter result to the dataframe."
   ]
  },
  {
   "cell_type": "code",
   "execution_count": null,
   "metadata": {},
   "outputs": [],
   "source": [
    "cutoffs = [2,3,5,10]\n",
    "\n",
    "working_df = bc_counts_df.copy(deep=True)\n",
    "for cutoff in cutoffs:\n",
    "\n",
    "    print(f\"Marking as filtered if less than {cutoff:.0f} UMIs for a given barcode in a cell.\")\n",
    "\n",
    "    working_df['cutoff'] = cutoff\n",
    "    working_df['filtered'] = working_df['count'] < cutoff\n",
    "    #print(working_df.head())\n",
    "    \n",
    "    bc_counts_df = bc_counts_df.append(working_df)\n",
    "    \n",
    "bc_counts_df['cutoff'] = bc_counts_df['cutoff'].fillna(0)\n",
    "bc_counts_df['filtered'] = bc_counts_df['filtered'].fillna(False)\n",
    "\n",
    "bc_counts_df = bc_counts_df.reset_index()\n",
    "bc_counts_df = bc_counts_df.drop(labels=['index'],axis=1)\n",
    "\n",
    "#print(bc_counts_df.size)"
   ]
  },
  {
   "cell_type": "code",
   "execution_count": null,
   "metadata": {},
   "outputs": [],
   "source": [
    "bc_counts_df.head()"
   ]
  },
  {
   "cell_type": "code",
   "execution_count": null,
   "metadata": {},
   "outputs": [],
   "source": [
    "p = (ggplot(bc_counts_df, aes('cutoff', color='filtered')) +\n",
    "     geom_point(stat='count') +\n",
    "     geom_line(stat='count') +\n",
    "     facet_wrap('~gene') +\n",
    "     theme(figure_size=(6, 3),\n",
    "           axis_text_x=element_text(angle=90)) +\n",
    "     scale_y_continuous() +\n",
    "     ylab('viral barcodes\\npassing filter')\n",
    "     )\n",
    "\n",
    "_ = p.draw()"
   ]
  },
  {
   "cell_type": "markdown",
   "metadata": {},
   "source": [
    "Then, I will count the number of unique viral barcodes associated with each cell barcode-gene combination:"
   ]
  },
  {
   "cell_type": "code",
   "execution_count": null,
   "metadata": {},
   "outputs": [],
   "source": [
    "viralbc_per_cell_df = bc_counts_df[bc_counts_df['filtered'] == False].groupby(['cell_barcodes','gene','cutoff']).count()\n",
    "viralbc_per_cell_df =  viralbc_per_cell_df.reset_index(level=['cell_barcodes','gene','cutoff'])\n",
    "viralbc_per_cell_df = viralbc_per_cell_df.drop(labels=['count','filtered'],axis=1)\n",
    "viralbc_per_cell_df = viralbc_per_cell_df.rename(columns={'viral_barcode':'n_viralbc'})\n",
    "viralbc_per_cell_df['n_viralbc'] = viralbc_per_cell_df['n_viralbc'].astype(int)\n",
    "viralbc_per_cell_df.head()"
   ]
  },
  {
   "cell_type": "markdown",
   "metadata": {},
   "source": [
    "Then, I'll examine the distributions of cell barcodes per cell. Want to find a cutoff range that is fairly stable and does not change the distribtuion much."
   ]
  },
  {
   "cell_type": "code",
   "execution_count": null,
   "metadata": {},
   "outputs": [],
   "source": [
    "p = (ggplot(viralbc_per_cell_df, aes('n_viralbc')) +\n",
    "     geom_histogram(binwidth=1) +\n",
    "     facet_grid('gene~cutoff') +\n",
    "     scale_x_continuous(breaks=list(range(0,36)), limits = [-0.5,10.5]) +\n",
    "     theme(figure_size=(9, 4),\n",
    "           axis_text_x=element_text(angle=90)) +\n",
    "     ylab('number of cells') +\n",
    "     xlab('number of viral barcodes')\n",
    "     )\n",
    "\n",
    "_ = p.draw()"
   ]
  },
  {
   "cell_type": "code",
   "execution_count": null,
   "metadata": {},
   "outputs": [],
   "source": [
    "max(viralbc_per_cell_df['n_viralbc'])"
   ]
  },
  {
   "cell_type": "markdown",
   "metadata": {},
   "source": [
    "ggplot throws an error for \"non-finite values\". This is because some cells are counted as having up to 36 viral barcodes, and that is outside the limits of the plot. That is fine -- they are probably not real, and there are so few cells in this range that they cannot be visualized anyway."
   ]
  },
  {
   "cell_type": "markdown",
   "metadata": {},
   "source": [
    "### Choosing an empirical cutoff for viral barcode UMI counts\n",
    "Based on the plots above, filtering is somewhat stable using a cutoff in the range `3-10`. No filtering produces a lot of cell which are called as having `>2` virions infecting. The number of filtered barcodes changes rather dramatically by changing the cutoff from `2` to `3`, but the number of virions infecting each cell histogram does not change much. Converseley, the number of filtered barcodes does not change much  from `3` to `10`.\n",
    "\n",
    "**For this first pass, I will choose a cutoff of `3`. It is an intermediate filtering plot and histogram that looks pretty similar to 5, but yields more total cells and more co-infected cells.**"
   ]
  },
  {
   "cell_type": "code",
   "execution_count": null,
   "metadata": {},
   "outputs": [],
   "source": [
    "cutoff_choice = 3\n",
    "\n",
    "viralbc_per_cell_df = viralbc_per_cell_df[viralbc_per_cell_df['cutoff'] == cutoff_choice]\n",
    "#viralbc_per_cell_df.head()"
   ]
  },
  {
   "cell_type": "code",
   "execution_count": null,
   "metadata": {},
   "outputs": [],
   "source": [
    "viralbc_per_cell_df = viralbc_per_cell_df.pivot_table(index='cell_barcodes', columns='gene', values='n_viralbc')\n",
    "viralbc_per_cell_df = viralbc_per_cell_df.rename(columns={'fluHA':'ha_n_viralbc', 'fluNA':'na_n_viralbc'})\n",
    "viralbc_per_cell_df.head()"
   ]
  },
  {
   "cell_type": "markdown",
   "metadata": {},
   "source": [
    "### Viral barcode count for cells called as infected\n",
    "Now, I will take the viral barcode count information I just calculated and merge it with the infection status information I calculated above. This will give the variant call for each \"true\" infected cell.\n",
    "\n",
    "**N.b.** Many cells have `NaN` values for one (or both) of the barcoded segments. These represent cells where a barcode was either not picked up or did not pass the filtering above. I could fill these in with `0`, which would make downstream plotting easier. However, putting a value on this is a bit less representative, so for now, I will leave them as `NaN`."
   ]
  },
  {
   "cell_type": "code",
   "execution_count": null,
   "metadata": {},
   "outputs": [],
   "source": [
    "adata.obs = adata.obs.merge(viralbc_per_cell_df, on='cell_barcodes', how='outer')\n",
    "adata.obs.query('(not filtered) & (viral_UMI_frac > 0.01)').head()"
   ]
  },
  {
   "cell_type": "code",
   "execution_count": null,
   "metadata": {},
   "outputs": [],
   "source": [
    "max_ha_n_viralbc = int(adata.obs.query('(not filtered)')['ha_n_viralbc'].max())\n",
    "    \n",
    "print(f\"The total number of retained single cells is: {single_cells} cells.\")\n",
    "print(f\"The total number of infected  cells is: {infected_cells} cells.\")\n",
    "print(f\"The fraction of infected  cells is: {frac_infected:.1f}% of cells.\")\n",
    "                       \n",
    "print(f\"\\nThe highest number of viral barcodes found in a true infected cell is {max_ha_n_viralbc} viral barcodes.\\n\")\n",
    "\n",
    "\n",
    "# cells_with_x_virions = len(adata.obs.query('(not filtered) & (viral_UMI_frac > 0.01) & (ha_n_viralbc.isnull())', engine='python'))\n",
    "# frac_x_virions = cells_with_x_virions / (single_cells) * 100\n",
    "# print(f\"There are {cells_with_x_virions} true infected cells that could not have any viral barcodes called.\")\n",
    "# print(f\"This is {frac_x_virions:.1f}% of all cells in the dataset.\\n\")\n",
    "\n",
    "# for x in range(1, max_ha_n_viralbc+1):\n",
    "#     cells_with_x_virions = len(adata.obs.query(f'(not filtered) & (viral_UMI_frac > 0.01) & (ha_n_viralbc == {x})'))\n",
    "#     frac_x_virions = cells_with_x_virions / (single_cells) * 100\n",
    "#     print(f\"There are {cells_with_x_virions} true infected cells with {x} viral barcodes present in the HA segment of that cell.\")\n",
    "#     print(f\"This is {frac_x_virions:.1f}% of all (infected and unifected) cells in the dataset.\\n\")\n",
    "    "
   ]
  },
  {
   "cell_type": "markdown",
   "metadata": {},
   "source": [
    "#### Plot viral barcode distributions in infected cells\n",
    "Now I would like to plot the viral barcodes a few ways.\n",
    "* First, I would like to compare HA and NA viral barcode distributions.\n",
    "* Second, I would like to compare HA and NA viral barcode counts within each cell.\n",
    "* Third, I would like to compare the number of distribution of viral barcodes in these data to the expectation of viral barcode counts under an assumption of poisson occupancy.\n",
    "\n"
   ]
  },
  {
   "cell_type": "code",
   "execution_count": null,
   "metadata": {},
   "outputs": [],
   "source": [
    "# I should really melt this dataframe so that I can facet this plot, rather than doing it twice.\n",
    "# The melt syntax is tripping me up, so for now I'm just going to do it by hand.\n",
    "\n",
    "working_df = adata.obs.query('(not filtered) & (viral_UMI_frac > 0.01)')\n",
    "working_df['ha_n_viralbc'] = working_df['ha_n_viralbc'].fillna(0)\n",
    "working_df['na_n_viralbc'] = working_df['na_n_viralbc'].fillna(0)\n",
    "\n",
    "p = (ggplot(working_df, aes('ha_n_viralbc', fill='variant')) +\n",
    "     geom_histogram(binwidth=1) +\n",
    "     scale_x_continuous(breaks=list(range(0,5)), limits=[-.5,4.5]) +\n",
    "     theme(figure_size=(3, 2),\n",
    "           axis_text_x=element_text(angle=90)) +\n",
    "     ggtitle('Number of viral barcodes call on HA segment\\nof true infected cells') +\n",
    "     ylab('number of cells') +\n",
    "     xlab('number of viral barcodes') +\n",
    "     scale_fill_manual(values=cbpalette[1:])\n",
    "     )\n",
    "\n",
    "_ = p.draw()"
   ]
  },
  {
   "cell_type": "code",
   "execution_count": null,
   "metadata": {},
   "outputs": [],
   "source": [
    "p = (ggplot(working_df, aes('na_n_viralbc', fill='variant')) +\n",
    "     geom_histogram(binwidth=1) +\n",
    "     scale_x_continuous(breaks=list(range(0,5)), limits=[-.5,4.5]) +\n",
    "     theme(figure_size=(3, 2),\n",
    "           axis_text_x=element_text(angle=90)) +\n",
    "     ggtitle('Number of viral barcodes call on NA segment\\nof true infected cells') +\n",
    "     ylab('number of cells') +\n",
    "     xlab('number of viral barcodes') +\n",
    "     scale_fill_manual(values=cbpalette[1:])\n",
    "     )\n",
    "\n",
    "_ = p.draw()"
   ]
  },
  {
   "cell_type": "code",
   "execution_count": null,
   "metadata": {},
   "outputs": [],
   "source": [
    "p = (ggplot(working_df, aes(x='ha_n_viralbc', y='na_n_viralbc', color='variant')) +\n",
    "     geom_jitter(width=0.15, height=0.15) +\n",
    "     theme(figure_size=(5, 3.5),\n",
    "           axis_text_x=element_text(angle=90)) +\n",
    "     scale_x_continuous(breaks=list(range(0,5)), limits=[-.5,4.5]) +\n",
    "     scale_y_continuous(breaks=list(range(0,5)), limits=[-.5,4.5]) +\n",
    "     ggtitle('Number of viral barcodes called\\nin true infected cells') +\n",
    "     xlab('number of viral barcodes on HA segment') +\n",
    "     ylab('number of viral barcodes on NA segment') +\n",
    "     scale_color_manual(values=cbpalette[1:])\n",
    "     )\n",
    "\n",
    "_ = p.draw()"
   ]
  },
  {
   "cell_type": "markdown",
   "metadata": {},
   "source": [
    "### How are viral barcodes shared across cells?\n",
    "I see that most cells have 0 or 1 viral barcodes. Are most viral barcodes only found in 1 cell?\n",
    "\n",
    "#### Viral barcode sharing in all cells -- unfiltered\n",
    "First, I will calculate the distribution for the raw data -- all barcode counts, filtered by various cutoffs."
   ]
  },
  {
   "cell_type": "code",
   "execution_count": null,
   "metadata": {},
   "outputs": [],
   "source": [
    "cells_per_viralbc_df = bc_counts_df[bc_counts_df['filtered'] == False].groupby(['viral_barcode','gene','cutoff']).count()\n",
    "cells_per_viralbc_df =  cells_per_viralbc_df.reset_index(level=['viral_barcode','gene','cutoff'])\n",
    "cells_per_viralbc_df = cells_per_viralbc_df.drop(labels=['count','filtered'],axis=1)\n",
    "cells_per_viralbc_df = cells_per_viralbc_df.rename(columns={'cell_barcodes':'n_cells'})\n",
    "cells_per_viralbc_df['n_cells'] = cells_per_viralbc_df['n_cells'].astype(int)\n",
    "cells_per_viralbc_df.head()"
   ]
  },
  {
   "cell_type": "code",
   "execution_count": null,
   "metadata": {},
   "outputs": [],
   "source": [
    "#What is the maximum number of cells a viral barcode is found in (Raw Counts Data)?\n",
    "cells_per_viralbc_df['n_cells'].max()"
   ]
  },
  {
   "cell_type": "code",
   "execution_count": null,
   "metadata": {},
   "outputs": [],
   "source": [
    "p = (ggplot(cells_per_viralbc_df, aes('n_cells')) +\n",
    "     geom_histogram(binwidth=1) +\n",
    "     facet_grid('gene~cutoff') +\n",
    "     scale_x_continuous(breaks=list(range(0,36)), limits = [-0.5,10.5]) +\n",
    "     theme(figure_size=(9, 4),\n",
    "           axis_text_x=element_text(angle=90)) +\n",
    "     ylab('number of viral barcodes') +\n",
    "     xlab('found in number of cells')\n",
    "     )\n",
    "\n",
    "_ = p.draw()"
   ]
  },
  {
   "cell_type": "markdown",
   "metadata": {},
   "source": [
    "#### Viral barcode sharing in true infected cells\n",
    "Next, I will add these data to the adata.obs dataframe and see how many of the infected cells I am analyzing in this dataset share viral barcodes with another cell."
   ]
  },
  {
   "cell_type": "code",
   "execution_count": null,
   "metadata": {},
   "outputs": [],
   "source": [
    "#Merge raw bc counts, as I need cell barcode information, viral barcode information, and gene information.\n",
    "#These are note present in above summary dataframes.\n",
    "\n",
    "working_df = bc_counts_df.copy()\n",
    "working_df = working_df.query(f'(not filtered) & (cutoff == {cutoff_choice})')\n",
    "working_df = working_df.drop(labels=['count','cutoff','filtered'], axis=1)\n",
    "\n",
    "working_df = working_df.merge(adata.obs, on='cell_barcodes', how='outer')\n",
    "working_df = working_df.query('(not filtered) & (viral_UMI_frac > 0.01)')\n",
    "\n",
    "working_df.head()                 "
   ]
  },
  {
   "cell_type": "code",
   "execution_count": null,
   "metadata": {},
   "outputs": [],
   "source": [
    "#Get counts of how many cells are associated with each viral barcode/gene combination.\n",
    "\n",
    "working_df = working_df.reset_index()\n",
    "working_df = working_df.drop(labels='index', axis=1)\n",
    "working_df = working_df.groupby(['viral_barcode','gene']).count()\n",
    "working_df = working_df.reset_index()\n",
    "working_df = working_df[['viral_barcode','gene', 'cell_barcodes']]\n",
    "working_df = working_df.rename(columns = {'cell_barcodes':'n_cells'})\n",
    "#working_df.head()"
   ]
  },
  {
   "cell_type": "code",
   "execution_count": null,
   "metadata": {},
   "outputs": [],
   "source": [
    "# Plot the results.\n",
    "\n",
    "p = (ggplot(working_df, aes('n_cells')) +\n",
    "     geom_histogram(binwidth=1) +\n",
    "     facet_grid('~gene') +\n",
    "     scale_x_continuous(breaks=list(range(0,36)), limits = [-0.5,10.5]) +\n",
    "     theme(figure_size=(7, 2),\n",
    "           axis_text_x=element_text(angle=90)) +\n",
    "     ggtitle('Viral barcode sharing across infected cells') +\n",
    "     ylab('number of viral barcodes') +\n",
    "     xlab('found in number of cells')\n",
    "     )\n",
    "\n",
    "_ = p.draw()"
   ]
  },
  {
   "cell_type": "markdown",
   "metadata": {},
   "source": [
    "### Single-virion infections and co-infected cells\n",
    "I will  label cells as uninfected, infected by 1 virion, or infected by more than one virion. My definition for each category is as follows:  \n",
    "* uninfected (<1% of UMIs from viral reads)\n",
    "* infected by 1 virion (maximum of 1 viral barcode, when cosidering **both** HA and NA segments)\n",
    "* infected by >1 virion (>1 viral barcode on **either** HA or NA segment).\n",
    "\n",
    "Then, I will plot some simple summary statistics to see how they vary by group."
   ]
  },
  {
   "cell_type": "markdown",
   "metadata": {},
   "source": [
    "#### Count virions and label cells"
   ]
  },
  {
   "cell_type": "code",
   "execution_count": null,
   "metadata": {},
   "outputs": [],
   "source": [
    "def count_virions(row):\n",
    "    #print(row['ha_n_viralbc'], row['na_n_viralbc'])\n",
    "    if numpy.isnan(row['ha_n_viralbc']) and numpy.isnan(row['na_n_viralbc']):\n",
    "        return 0\n",
    "    elif row['ha_n_viralbc'] > 1 or row['na_n_viralbc'] > 1:\n",
    "        return max(row['ha_n_viralbc'],row['na_n_viralbc'])\n",
    "    else:\n",
    "        return 1\n",
    "\n",
    "adata.obs['n_virions'] = adata.obs.apply(lambda row: count_virions(row), axis=1)"
   ]
  },
  {
   "cell_type": "code",
   "execution_count": null,
   "metadata": {},
   "outputs": [],
   "source": [
    "p = (ggplot(adata.obs.query('(not filtered) and (viral_UMI_frac > 0.01)'), aes('n_virions', fill='variant')) +\n",
    "     geom_histogram(binwidth=1) +\n",
    "     scale_x_continuous(breaks=list(range(0,6)), limits=[-.5,5.5]) +\n",
    "     theme(figure_size=(4, 2.5),\n",
    "           axis_text_x=element_text(angle=90)) +\n",
    "     ggtitle('Number virions infecting\\ncells with >1% UMI from virus') +\n",
    "     ylab('number of cells') +\n",
    "     xlab('number of virions in cell') +\n",
    "     scale_fill_manual(values=cbpalette[1:])\n",
    "     )\n",
    "\n",
    "_ = p.draw()"
   ]
  },
  {
   "cell_type": "code",
   "execution_count": null,
   "metadata": {},
   "outputs": [],
   "source": [
    "max(adata.obs.query('not filtered')['n_virions'])"
   ]
  },
  {
   "cell_type": "markdown",
   "metadata": {},
   "source": [
    "Once again, there is an error thrown because a few cells with high numbers of virions are cut off on this plot."
   ]
  },
  {
   "cell_type": "markdown",
   "metadata": {},
   "source": [
    "#### Do viral barcode distributions fit a Poisson model?\n",
    "I'd like to compare the distribution of barcode counts to a null of model. Assuming poisson occupancy of virus in cells, given the overall infection rate, how many cells would we expect to have 0 viral barcodes, 1 viral barcodes, 2 viral barcodes, etc...\n",
    "\n",
    "**Calculating mu from observed number of infected cells**\n",
    "\n",
    "Our `frac_infected` variable gives the number of cells that we have called as infected. This includes cells that were infected by a single virion `(k=1)`, as well as cells that were infected by any other number of virions `(k>=1)`. At low MOI, this value is very close to the average MOI (called `poisson_u` in my code below). However, at higher MOI, these values deviate substantially, as more and more cells are infected by multiple virions.\n",
    "\n",
    "To calculate the MOI, or average number of virions per cell, of the observed data, I will work backwards from the poisson formula. \n",
    "\n",
    "```\n",
    "P(k=poisson_k|poisson_u) = (numpy.e**(-1*poisson_u)) * (poisson_u**poisson_k) / math.factorial(poisson_k)\n",
    "\n",
    "```\n",
    "\n",
    "Thankfully, working with a distinction between 0 and 1 simplifies the math quite a bit:\n",
    "\n",
    "```\n",
    "P(k>=1|poisson_u) = frac_infected\n",
    "P(k=0|poisson_u) = 1 - P(k>=1|poisson_u)\n",
    "frac_not_infected = 1 - frac_infected\n",
    "\n",
    "frac_not_infected = P(k=0|poisson_u) = (numpy.e**(-1*poisson_u)) * (poisson_u**0) / math.factorial(0)\n",
    "\n",
    "(poisson_u**0) = 1\n",
    "math.factorial(0) = 1\n",
    "\n",
    "frac_not_infected = numpy.e**(-1*poisson_u)\n",
    "math.log(frac_not_infected) = -1*poisson_u\n",
    "poisson_u = -1 * math.log(frac_not_infected).\n",
    "```\n",
    "\n",
    "The average of the poisson distribution (or MOI) is simply the `-log` of `1 - the fraction infected` (observed)."
   ]
  },
  {
   "cell_type": "code",
   "execution_count": null,
   "metadata": {},
   "outputs": [],
   "source": [
    "# Calculate poisson expectation\n",
    "poisson_expectation = list()\n",
    "\n",
    "for k in range(0, max_ha_n_viralbc+1):\n",
    "\n",
    "    poisson_k = k\n",
    "    frac_not_infected = 1 - frac_infected/100\n",
    "    poisson_u = -1 * math.log(frac_not_infected)\n",
    "            \n",
    "#     print(\"Calculating poisson probabilities of viral barcode counts with:\\n\",\n",
    "#          f\"Poisson random variable X = {poisson_k}\\n\",\n",
    "#          f\"Infection rate = {frac_infected/100:.3f};\\t\",\n",
    "#          f\"Poisson u = {poisson_u:0.3f}\")\n",
    "\n",
    "    r = poisson.pmf(k=poisson_k, mu=poisson_u)\n",
    "#     print(f\" The expected proportion of cells with {poisson_k} viral barcodes is {r:.2f}.\")\n",
    "#     print(f\" This is {r*single_cells:.0f} of all {single_cells} cells in the dataset.\\n\")\n",
    "    \n",
    "    poisson_expectation.append({'n_viralbc':poisson_k,\n",
    "                                'n_cells': int(r*single_cells),\n",
    "                               })\n",
    "\n",
    "poisson_expectation = pd.DataFrame(poisson_expectation)\n",
    "poisson_expectation['source'] = 'poisson model'"
   ]
  },
  {
   "cell_type": "code",
   "execution_count": null,
   "metadata": {},
   "outputs": [],
   "source": [
    "# p = (ggplot(poisson_expectation, aes(x='n_viralbc', y='n_cells')) +\n",
    "#      geom_bar(stat='identity') +\n",
    "#      scale_x_continuous(limits=[-0.5,4.5]) +\n",
    "#      theme(figure_size=(5, 3.5),\n",
    "#            axis_text_x=element_text(angle=90)) +\n",
    "#      ggtitle('Numnber of viral barcodes expected\\nunder Poisson model') +\n",
    "#      ylab('number of cells') +\n",
    "#      xlab('number of viral barcodes') +\n",
    "#      annotate('text', x=4, y= 2800, label=f'MOI = {poisson_u:.3f}')\n",
    "#      )\n",
    "\n",
    "# _ = p.draw()"
   ]
  },
  {
   "cell_type": "code",
   "execution_count": null,
   "metadata": {},
   "outputs": [],
   "source": [
    "#Compare to observed results\n",
    "working_df = pd.DataFrame()\n",
    "working_df['n_cells'] = adata.obs.query('(not filtered)')['n_virions'].value_counts(dropna=False)\n",
    "working_df['source'] = 'observed'\n",
    "    \n",
    "working_df = working_df.reset_index().rename(columns={'index': 'n_viralbc'})\n",
    "\n",
    "working_df = working_df.append(poisson_expectation)\n",
    "working_df = working_df.fillna(0)\n",
    "\n",
    "#working_df"
   ]
  },
  {
   "cell_type": "markdown",
   "metadata": {},
   "source": [
    "Finally, plot the observed distribuiont of viral barcodes per cell alongside the poisson expectation, given the fraction of cells called as infected."
   ]
  },
  {
   "cell_type": "code",
   "execution_count": null,
   "metadata": {},
   "outputs": [],
   "source": [
    "p = (ggplot(working_df, aes(x='n_viralbc', y='n_cells', fill='source')) +\n",
    "     geom_bar(stat='identity', position='dodge') +\n",
    "     scale_x_continuous(limits=[-0.5,4.5]) +\n",
    "     theme(figure_size=(5, 3.5),\n",
    "           axis_text_x=element_text(angle=90)) +\n",
    "     ggtitle('Number of viral barcodes observed vs.\\n number expected under Poisson model') +\n",
    "     ylab('number of cells') +\n",
    "     xlab('number of viral barcodes') +\n",
    "     annotate('text', x=4, y= 2800, label=f'MOI = {poisson_u:.3f}') +\n",
    "     scale_fill_manual(values=['#20a0c5','#444444'])\n",
    "     )\n",
    "\n",
    "_ = p.draw()"
   ]
  },
  {
   "cell_type": "code",
   "execution_count": null,
   "metadata": {},
   "outputs": [],
   "source": [
    "def cell_infection_status(row):\n",
    "    #print(row['ha_n_viralbc'], row['na_n_viralbc'])\n",
    "    if row['viral_UMI_frac'] <= 0.01:\n",
    "        return 'uninfected'\n",
    "    else:\n",
    "        if row['n_virions'] == 0:\n",
    "            return 'no viral bc detected'\n",
    "        elif row['n_virions'] == 1:\n",
    "            return 'single virion'\n",
    "        else:\n",
    "            return 'co-infected'\n",
    "\n",
    "adata.obs['infection_status'] = adata.obs.apply(lambda row: cell_infection_status(row), axis=1)\n",
    "adata.obs['infection_status'] = pd.Categorical(adata.obs['infection_status'], categories = ['uninfected','single virion','co-infected','no viral bc detected'], ordered = True)"
   ]
  },
  {
   "cell_type": "markdown",
   "metadata": {},
   "source": [
    "#### Number of cells called as singly-infected or co-infected"
   ]
  },
  {
   "cell_type": "code",
   "execution_count": null,
   "metadata": {},
   "outputs": [],
   "source": [
    "p = (ggplot(adata.obs.query('(not filtered) and (infection_status != \"uninfected\")'), aes('infection_status', fill='variant')) +\n",
    "     geom_bar(stat='count') +\n",
    "     theme(figure_size=(4, 2.5),\n",
    "           axis_text_x=element_text(angle=90)) +\n",
    "     ggtitle('Number of cells infected by single virion or co-infected') +\n",
    "     ylab('number of cells') +\n",
    "     xlab('number of virions in cell') +\n",
    "     scale_fill_manual(values=cbpalette[1:])\n",
    "     )\n",
    "\n",
    "_ = p.draw()"
   ]
  },
  {
   "cell_type": "code",
   "execution_count": null,
   "metadata": {},
   "outputs": [],
   "source": [
    "#### Total UMIs by infection status"
   ]
  },
  {
   "cell_type": "code",
   "execution_count": null,
   "metadata": {},
   "outputs": [],
   "source": [
    "p = (ggplot(adata.obs.query('(not filtered) and (infection_status != \"uninfected\")'), aes(x='infection_status', y='total_UMIs', fill='infection_status')) +\n",
    "     geom_boxplot() +\n",
    "     theme(figure_size=(4, 2.5),\n",
    "           axis_text_x=element_text(angle=90)) +\n",
    "     ggtitle('Total UMIs by infection status') +\n",
    "     ylab('number of UMIs per cell') +\n",
    "     xlab('infection status') +\n",
    "     scale_fill_manual(values=cbpalette[0:])\n",
    "     )\n",
    "\n",
    "_ = p.draw()"
   ]
  },
  {
   "cell_type": "code",
   "execution_count": null,
   "metadata": {},
   "outputs": [],
   "source": [
    "#### Number of viral UMIs by infection status"
   ]
  },
  {
   "cell_type": "code",
   "execution_count": null,
   "metadata": {},
   "outputs": [],
   "source": [
    "p = (ggplot(adata.obs.query('(not filtered) and (infection_status != \"uninfected\")'), aes(x='infection_status', y='viral_UMIs', fill='infection_status')) +\n",
    "     geom_boxplot() +\n",
    "     theme(figure_size=(4, 2.5),\n",
    "           axis_text_x=element_text(angle=90)) +\n",
    "     ggtitle('Viral UMIs by infection status') +\n",
    "     ylab('number of UMIs per cell') +\n",
    "     xlab('infection status') +\n",
    "     scale_fill_manual(values=cbpalette[0:])\n",
    "     )\n",
    "\n",
    "_ = p.draw()"
   ]
  },
  {
   "cell_type": "markdown",
   "metadata": {},
   "source": [
    "#### Fraction of viral UMIs by infection status"
   ]
  },
  {
   "cell_type": "code",
   "execution_count": null,
   "metadata": {},
   "outputs": [],
   "source": [
    "p = (ggplot(adata.obs.query('(not filtered) and (infection_status != \"uninfected\")'), aes(x='infection_status', y='viral_UMI_frac', fill='infection_status')) +\n",
    "     geom_boxplot() +\n",
    "     theme(figure_size=(4, 2.5),\n",
    "           axis_text_x=element_text(angle=90)) +\n",
    "     ggtitle('Fraction of UMIs from virus\\nby infection status') +\n",
    "     ylab('fraction of UMIs from virus') +\n",
    "     xlab('infection status') +\n",
    "     scale_fill_manual(values=cbpalette[0:])\n",
    "     )\n",
    "\n",
    "_ = p.draw()"
   ]
  },
  {
   "cell_type": "markdown",
   "metadata": {},
   "source": [
    "#### Distribution of viral UMI fraction by infection status"
   ]
  },
  {
   "cell_type": "code",
   "execution_count": null,
   "metadata": {},
   "outputs": [],
   "source": [
    "working_df = adata.obs.query('(not filtered) & (viral_UMI_frac > 0.01)')\n",
    "working_df = working_df.sort_values(by=['viral_UMI_frac'], ascending=False)\n",
    "working_df['viral_UMI_frac_rank'] = working_df.reset_index().index + 1\n",
    "\n",
    "p = (ggplot(working_df, \n",
    "            aes('viral_UMI_frac', fill='infection_status')) +\n",
    "     geom_histogram(binwidth=0.02) +\n",
    "     theme(figure_size=(6, 3)) +\n",
    "     xlab('fraction of UMIs from virus') +\n",
    "     ylab('number of cells') +\n",
    "     scale_fill_manual(cbpalette[1:])\n",
    "     )\n",
    "_ = p.draw()"
   ]
  },
  {
   "cell_type": "markdown",
   "metadata": {},
   "source": [
    "#### Coefficient of variation by infection status\n",
    "The coefficient of variation is calculated as the standard deviation divided by the mean."
   ]
  },
  {
   "cell_type": "code",
   "execution_count": null,
   "metadata": {},
   "outputs": [],
   "source": [
    "working_df.groupby('infection_status')['viral_UMI_frac'].std() / working_df.groupby('infection_status')['viral_UMI_frac'].mean()"
   ]
  },
  {
   "cell_type": "markdown",
   "metadata": {},
   "source": [
    "#### Fraction viral UMI by number of infecting virions"
   ]
  },
  {
   "cell_type": "code",
   "execution_count": null,
   "metadata": {},
   "outputs": [],
   "source": [
    "p = (ggplot(adata.obs.query('(not filtered) and (infection_status != \"uninfected\")'), aes(x='n_virions', y='viral_UMI_frac', fill='infection_status')) +\n",
    "     geom_jitter(width=0.3, alpha=0.7) +\n",
    "     theme(figure_size=(3, 2.5),\n",
    "           axis_text_x=element_text(angle=90)) +\n",
    "     scale_x_continuous(breaks=list(range(0,6)), limits = [-0.5,5.5]) +\n",
    "     ggtitle('Fraction of UMIs from virus\\nby number of infecting virions') +\n",
    "     ylab('fraction of UMIs from virus') +\n",
    "     xlab('number of virions infecting cell') +\n",
    "     scale_fill_manual(values=cbpalette[0:])\n",
    "     )\n",
    "\n",
    "_ = p.draw()"
   ]
  },
  {
   "cell_type": "markdown",
   "metadata": {},
   "source": [
    "#### Viral gene expression\n",
    "\n",
    "How does expression of viral genes compare across cells that are singly-infected or co-infected?"
   ]
  },
  {
   "cell_type": "code",
   "execution_count": null,
   "metadata": {},
   "outputs": [],
   "source": [
    "adata.obs_names = adata.obs_names.astype(str) #Convert obsnames to string type for subsetting"
   ]
  },
  {
   "cell_type": "code",
   "execution_count": null,
   "metadata": {},
   "outputs": [],
   "source": [
    "#Let's make a copy of the adata object that only includes cells that werent' filtered out.\n",
    "#This will be easier to work with.\n",
    "filtered_cells = adata[adata.obs['filtered']==False, :]"
   ]
  },
  {
   "cell_type": "code",
   "execution_count": null,
   "metadata": {},
   "outputs": [],
   "source": [
    "sc.pl.stacked_violin(filtered_cells, viral_genes, groupby='infection_status', figsize=[10,8])"
   ]
  },
  {
   "cell_type": "markdown",
   "metadata": {},
   "source": [
    "#### Clustering cells by transcriptomes"
   ]
  },
  {
   "cell_type": "code",
   "execution_count": null,
   "metadata": {},
   "outputs": [],
   "source": [
    "sc.pp.neighbors(filtered_cells)\n",
    "sc.tl.umap(filtered_cells)\n",
    "\n",
    "sc.set_figure_params(figsize=[10,8])"
   ]
  },
  {
   "cell_type": "code",
   "execution_count": null,
   "metadata": {},
   "outputs": [],
   "source": [
    "sc.pl.umap(filtered_cells, color=['viral_UMI_frac'],\n",
    "           title=['Cells clustered by PCA\\nand colored by fraction viral UMIs'],\n",
    "          color_map='tab10')"
   ]
  },
  {
   "cell_type": "code",
   "execution_count": null,
   "metadata": {},
   "outputs": [],
   "source": [
    "sc.pl.umap(filtered_cells, color=['infection_status'],\n",
    "           title=['Cells clustered by PCA\\nand colored by infection_status'],\n",
    "          palette=cbpalette[0:])"
   ]
  },
  {
   "cell_type": "markdown",
   "metadata": {},
   "source": [
    "## Assessing Mutation Profiles\n",
    "How are mutations -- deletions and SNVs -- distributed accross cells?"
   ]
  },
  {
   "cell_type": "markdown",
   "metadata": {},
   "source": [
    "### Integrating deletion information\n",
    "Deleted reads are parsed by the `gap_analysis` notebook. Currently, this notebook uses a rough empirical cutoff to label reads that have deletions >10 nt by Illumina sequencing. Then, two CSVs are exported for further analysis. These CSVs contain gapped reads from *all* samples processed in the snakemake pipeline.    \n",
    "`gapped_reads.csv` lists each read, its CIGAR string, its starting and ending position (mapping), and the cell barcode it is associated with.\n",
    "`gapped_reads_summary.csv` lists each viral gene for each cell barcode and the number of gapped UMIs for that gene.\n",
    "\n",
    "Below, I will load `gapped_reads_summary` and collapse this information down to the cell-bc level (rather than cell-bc gene level). Then, I will calculate the cell-wide fraction of gapped viral reads.\n",
    "\n",
    "Then, I will add this data as an observation to the adata scanpy object."
   ]
  },
  {
   "cell_type": "code",
   "execution_count": null,
   "metadata": {},
   "outputs": [],
   "source": [
    "gapped_reads_summary = pd.read_csv(input_gapped_reads_summmary)\n",
    "gapped_reads_summary = gapped_reads_summary.drop(['Unnamed: 0'], axis=1)\n",
    "gapped_reads_summary = gapped_reads_summary.rename(columns={'sample_':'sample','cell_bc_':'cell_barcodes'})\n",
    "gapped_reads_summary = gapped_reads_summary.query('sample == @sample')\n",
    "gapped_reads_summary['n_gapped_flu_reads'], gapped_reads_summary['n_raw_flu_reads'] = gapped_reads_summary.iloc[:,10:18].sum(axis=1), gapped_reads_summary.iloc[:,18:26].sum(axis=1)\n",
    "gapped_reads_summary['frac_gapped_flu_reads'] = gapped_reads_summary['n_gapped_flu_reads'] / gapped_reads_summary['n_raw_flu_reads']\n",
    "#gapped_reads_summary = gapped_reads_summary.fillna(0)\n",
    "\n",
    "gapped_reads_summary.head()\n",
    "\n",
    "#gapped_reads_summary.describe()\n"
   ]
  },
  {
   "cell_type": "code",
   "execution_count": null,
   "metadata": {},
   "outputs": [],
   "source": [
    "adata.obs = adata.obs.merge(gapped_reads_summary, on='cell_barcodes', how='left')\n",
    "adata.obs.iloc[:,19:] = adata.obs.iloc[:,19:].fillna(0)"
   ]
  },
  {
   "cell_type": "code",
   "execution_count": null,
   "metadata": {},
   "outputs": [],
   "source": [
    "adata.obs"
   ]
  },
  {
   "cell_type": "markdown",
   "metadata": {},
   "source": [
    "### Viral deletion QC\n",
    "I'll examine a few metrics to see how technical artifacts might affect deletion rates.\n",
    "* Do my raw viral read counts correlate with the UMIs in the cell-gene matrix?\n",
    "* Are cells with a large fraction of deletions filtered out?\n",
    "* Are cells with a large fraction of deletions a result of low coverage of flu genes?\n",
    "* What threshold should I use to call a deletion fraction \"true\"?"
   ]
  },
  {
   "cell_type": "code",
   "execution_count": null,
   "metadata": {},
   "outputs": [],
   "source": [
    "p = (ggplot(adata.obs, \n",
    "            aes(x='viral_UMIs',y='n_raw_flu_reads',color='filtered')) +\n",
    "     geom_point() +\n",
    "     theme(figure_size=(4, 4)) +\n",
    "     scale_color_manual(values=cbpalette[0:])\n",
    "     )\n",
    "_ = p.draw()"
   ]
  },
  {
   "cell_type": "code",
   "execution_count": null,
   "metadata": {},
   "outputs": [],
   "source": [
    "p = (ggplot(adata.obs, \n",
    "            aes(x='viral_UMIs',y='n_raw_flu_reads',color='infection_status')) +\n",
    "     geom_point() +\n",
    "     theme(figure_size=(4, 4)) +\n",
    "     scale_color_manual(values=cbpalette[0:])\n",
    "     )\n",
    "_ = p.draw()"
   ]
  },
  {
   "cell_type": "code",
   "execution_count": null,
   "metadata": {},
   "outputs": [],
   "source": [
    "p = (ggplot(adata.obs, \n",
    "            aes(x='viral_UMIs',y='n_raw_flu_reads',color='frac_gapped_flu_reads')) +\n",
    "     geom_point() +\n",
    "     theme(figure_size=(4, 4))\n",
    "     )\n",
    "_ = p.draw()"
   ]
  },
  {
   "cell_type": "code",
   "execution_count": null,
   "metadata": {},
   "outputs": [],
   "source": [
    "p = (ggplot(adata.obs.query('n_raw_flu_reads > 0'),\n",
    "            aes(x='filtered', y='frac_gapped_flu_reads', fill = 'filtered')) +\n",
    "     geom_boxplot() +\n",
    "     theme(figure_size=(4, 2.5)) +\n",
    "     ggtitle('Fraction of gapped reads by filter status') +\n",
    "     ylab('fraction of flu reads that are gapped') +\n",
    "     xlab('filtered') +\n",
    "     scale_fill_manual(values=cbpalette[0:])\n",
    "     )\n",
    "\n",
    "_ = p.draw(position_dodge2(width = 0.1))"
   ]
  },
  {
   "cell_type": "code",
   "execution_count": null,
   "metadata": {},
   "outputs": [],
   "source": [
    "p = (ggplot(adata.obs.query('not filtered'), \n",
    "            aes(x='n_raw_flu_reads',y='frac_gapped_flu_reads', color='infection_status')) +\n",
    "     geom_point() +\n",
    "     theme(figure_size=(6, 3)) +\n",
    "     scale_x_log10() +\n",
    "     scale_color_manual(values=cbpalette[0:])\n",
    "     )\n",
    "_ = p.draw()"
   ]
  },
  {
   "cell_type": "code",
   "execution_count": null,
   "metadata": {},
   "outputs": [],
   "source": [
    "raw_flu_read_threshold = 20"
   ]
  },
  {
   "cell_type": "markdown",
   "metadata": {},
   "source": [
    "### Distribution of viral deletions\n",
    "What does the distribution of deletions in viral reads looks like in infected cells?"
   ]
  },
  {
   "cell_type": "code",
   "execution_count": null,
   "metadata": {},
   "outputs": [],
   "source": [
    "p = (ggplot(adata.obs.query(f'n_raw_flu_reads > {raw_flu_read_threshold}'), \n",
    "            aes(x='frac_gapped_flu_reads', fill='filtered')) +\n",
    "     geom_histogram(bins = 240) +\n",
    "     theme(figure_size=(6, 3)) +\n",
    "     xlab('fraction of gapped viral reads') +\n",
    "     ylab('n cells') +\n",
    "     scale_fill_manual(cbpalette[0:])\n",
    "     )\n",
    "_ = p.draw()"
   ]
  },
  {
   "cell_type": "code",
   "execution_count": null,
   "metadata": {},
   "outputs": [],
   "source": [
    "# Same plot excluding filtered\n",
    "p = (ggplot(adata.obs.query(f'n_raw_flu_reads > {raw_flu_read_threshold} and not filtered'), \n",
    "            aes(x='frac_gapped_flu_reads', fill = 'infection_status')) +\n",
    "     geom_histogram(bins = 40) +\n",
    "     theme(figure_size=(6, 3)) +\n",
    "     xlab('fraction of gapped viral reads') +\n",
    "     ylab('n cells') +\n",
    "     scale_fill_manual(cbpalette[1:])\n",
    "     )\n",
    "_ = p.draw()"
   ]
  },
  {
   "cell_type": "markdown",
   "metadata": {},
   "source": [
    "### Relationship between viral burden and deletion rate\n",
    "Are cells with more viral reads more likely to have more deletions?"
   ]
  },
  {
   "cell_type": "code",
   "execution_count": null,
   "metadata": {},
   "outputs": [],
   "source": [
    "# Same plot excluding 0 values\n",
    "p = (ggplot(adata.obs.query(f'n_raw_flu_reads > {raw_flu_read_threshold} and not filtered'), \n",
    "            aes(x='viral_UMI_frac', y='frac_gapped_flu_reads', color='infection_status')) +\n",
    "     geom_point() +\n",
    "     theme(figure_size=(6, 3)) +\n",
    "     xlab('fraction of viral UMIs') +\n",
    "     ylab('fraction of gapped viral reads') +\n",
    "     scale_color_manual(cbpalette[1:])\n",
    "     )\n",
    "_ = p.draw()"
   ]
  },
  {
   "cell_type": "markdown",
   "metadata": {},
   "source": [
    "### Relationship between infection status and deletion rate\n",
    "Are co-infected cells more likely to have high deletion rates?"
   ]
  },
  {
   "cell_type": "code",
   "execution_count": null,
   "metadata": {},
   "outputs": [],
   "source": [
    "p = (ggplot(adata.obs.query(f'n_raw_flu_reads > {raw_flu_read_threshold} and not filtered'),\n",
    "            aes(x='infection_status', y='frac_gapped_flu_reads', fill='infection_status')) +\n",
    "     geom_boxplot() +\n",
    "     theme(figure_size=(4, 2.5),\n",
    "           axis_text_x=element_text(angle=90)) +\n",
    "     ggtitle('Fraction of gapped viral reads\\nby infection status') +\n",
    "     ylab('fraction of gapped viral reads') +\n",
    "     xlab('infection status') +\n",
    "     scale_fill_manual(values=cbpalette[0:]) +\n",
    "     scale_y_log10()\n",
    "     )\n",
    "\n",
    "_ = p.draw(position_dodge2(width = 0.1))"
   ]
  },
  {
   "cell_type": "code",
   "execution_count": null,
   "metadata": {},
   "outputs": [],
   "source": [
    "p = (ggplot(adata.obs.query(f'n_raw_flu_reads > {raw_flu_read_threshold} and not filtered'),\n",
    "            aes(x='frac_gapped_flu_reads', fill='infection_status')) +\n",
    "     geom_histogram(binwidth=0.05) +\n",
    "     theme(figure_size=(4, 2.5),\n",
    "           axis_text_x=element_text(angle=90)) +\n",
    "     ggtitle('Fraction of gapped viral reads\\nby infection status') +\n",
    "     xlab('fraction of gapped viral reads') +\n",
    "     scale_fill_manual(values=cbpalette[0:]) +\n",
    "     scale_x_log10()\n",
    "     )\n",
    "\n",
    "_ = p.draw(position_dodge2(width = 0.1))"
   ]
  },
  {
   "cell_type": "code",
   "execution_count": null,
   "metadata": {},
   "outputs": [],
   "source": [
    "p = (ggplot(adata.obs.query(f'n_raw_flu_reads > {raw_flu_read_threshold} and not filtered and viral_UMI_frac > 0.1'),\n",
    "            aes(x='infection_status', y='frac_gapped_flu_reads', fill='infection_status')) +\n",
    "     geom_boxplot() +\n",
    "     theme(figure_size=(4, 2.5),\n",
    "           axis_text_x=element_text(angle=90)) +\n",
    "     ggtitle('Fraction of gapped viral reads\\nby infection status\\nin cells with >10% viral UMIs') +\n",
    "     ylab('fraction of gapped viral reads') +\n",
    "     xlab('infection status') +\n",
    "     scale_fill_manual(values=cbpalette[0:]) +\n",
    "     scale_y_log10()\n",
    "     )\n",
    "\n",
    "_ = p.draw(position_dodge2(width = 0.1))"
   ]
  },
  {
   "cell_type": "code",
   "execution_count": null,
   "metadata": {},
   "outputs": [],
   "source": [
    "p = (ggplot(adata.obs.query(f'n_raw_flu_reads > {raw_flu_read_threshold} and not filtered and viral_UMI_frac > 0.1'),\n",
    "            aes(x='frac_gapped_flu_reads', fill='infection_status')) +\n",
    "     geom_histogram(binwidth=0.05) +\n",
    "     theme(figure_size=(4, 2.5),\n",
    "           axis_text_x=element_text(angle=90)) +\n",
    "     ggtitle('Fraction of gapped viral reads\\nby infection status\\nin cells with >10% viral UMIs') +\n",
    "     xlab('fraction of gapped viral reads') +\n",
    "     scale_fill_manual(values=cbpalette[0:]) +\n",
    "     scale_x_log10()\n",
    "     )\n",
    "\n",
    "_ = p.draw(position_dodge2(width = 0.1))"
   ]
  },
  {
   "cell_type": "markdown",
   "metadata": {},
   "source": [
    "### Relationship between infection status and polymerase deletions\n",
    "I expect to see an enrichment of polymerase deletions in co-infected cells, because large deletions that knock out pol function should only be detectable in the presence of a complementing polymerase complex."
   ]
  },
  {
   "cell_type": "code",
   "execution_count": null,
   "metadata": {},
   "outputs": [],
   "source": [
    "p = (ggplot(adata.obs.query(f'n_raw_flu_reads > {raw_flu_read_threshold} and not filtered'),\n",
    "            aes(x='infection_status', y='frac_gapped_fluPB2', fill='infection_status')) +\n",
    "     geom_boxplot() +\n",
    "     theme(figure_size=(4, 2.5),\n",
    "           axis_text_x=element_text(angle=90)) +\n",
    "     ggtitle('Fraction of gapped PB2 reads\\nby infection status') +\n",
    "     ylab('fraction of gapped PB2 reads') +\n",
    "     xlab('infection status') +\n",
    "     scale_fill_manual(values=cbpalette[0:]) +\n",
    "     scale_y_log10()\n",
    "     )\n",
    "\n",
    "_ = p.draw(position_dodge2(width = 0.1))"
   ]
  },
  {
   "cell_type": "code",
   "execution_count": null,
   "metadata": {},
   "outputs": [],
   "source": [
    "p = (ggplot(adata.obs.query(f'n_raw_flu_reads > {raw_flu_read_threshold} and not filtered'),\n",
    "            aes(x='frac_gapped_fluPB2', fill='infection_status')) +\n",
    "     geom_histogram(bins=20) +\n",
    "     theme(figure_size=(4, 2.5),\n",
    "           axis_text_x=element_text(angle=90)) +\n",
    "     ggtitle('Fraction of gapped PB2 reads\\nby infection status') +\n",
    "     xlab('fraction of gapped viral reads') +\n",
    "     scale_fill_manual(values=cbpalette[0:]) +\n",
    "     scale_x_log10()\n",
    "     )\n",
    "\n",
    "_ = p.draw(position_dodge2(width = 0.1))"
   ]
  },
  {
   "cell_type": "code",
   "execution_count": null,
   "metadata": {},
   "outputs": [],
   "source": [
    "p = (ggplot(adata.obs.query(f'n_raw_flu_reads > {raw_flu_read_threshold} and not filtered'),\n",
    "            aes(x='infection_status', y='frac_gapped_fluPB1', fill='infection_status')) +\n",
    "     geom_boxplot() +\n",
    "     theme(figure_size=(4, 2.5),\n",
    "           axis_text_x=element_text(angle=90)) +\n",
    "     ggtitle('Fraction of gapped PB1 reads\\nby infection status') +\n",
    "     ylab('fraction of gapped PB1 reads') +\n",
    "     xlab('infection status') +\n",
    "     scale_fill_manual(values=cbpalette[0:]) +\n",
    "     scale_y_log10()\n",
    "     )\n",
    "\n",
    "_ = p.draw(position_dodge2(width = 0.1))"
   ]
  },
  {
   "cell_type": "code",
   "execution_count": null,
   "metadata": {},
   "outputs": [],
   "source": [
    "p = (ggplot(adata.obs.query(f'n_raw_flu_reads > {raw_flu_read_threshold} and not filtered'),\n",
    "            aes(x='frac_gapped_fluPB1', fill='infection_status')) +\n",
    "     geom_histogram(bins=40) +\n",
    "     theme(figure_size=(4, 2.5),\n",
    "           axis_text_x=element_text(angle=90)) +\n",
    "     ggtitle('Fraction of gapped PB1 reads\\nby infection status') +\n",
    "     xlab('fraction of gapped viral reads') +\n",
    "     scale_fill_manual(values=cbpalette[0:]) +\n",
    "     scale_x_log10()\n",
    "     )\n",
    "\n",
    "_ = p.draw(position_dodge2(width = 0.1))"
   ]
  },
  {
   "cell_type": "code",
   "execution_count": null,
   "metadata": {},
   "outputs": [],
   "source": [
    "p = (ggplot(adata.obs.query(f'n_raw_flu_reads > {raw_flu_read_threshold} and not filtered'),\n",
    "            aes(x='infection_status', y='frac_gapped_fluPA', fill='infection_status')) +\n",
    "     geom_boxplot() +\n",
    "     theme(figure_size=(4, 2.5),\n",
    "           axis_text_x=element_text(angle=90)) +\n",
    "     ggtitle('Fraction of gapped PA reads\\nby infection status') +\n",
    "     ylab('fraction of gapped PA reads') +\n",
    "     xlab('infection status') +\n",
    "     scale_fill_manual(values=cbpalette[0:]) +\n",
    "     scale_y_log10()\n",
    "     )\n",
    "\n",
    "_ = p.draw(position_dodge2(width = 0.1))"
   ]
  },
  {
   "cell_type": "code",
   "execution_count": null,
   "metadata": {},
   "outputs": [],
   "source": [
    "p = (ggplot(adata.obs.query(f'n_raw_flu_reads > {raw_flu_read_threshold} and not filtered'),\n",
    "            aes(x='frac_gapped_fluPA', fill='infection_status')) +\n",
    "     geom_histogram(bins=40) +\n",
    "     theme(figure_size=(4, 2.5),\n",
    "           axis_text_x=element_text(angle=90)) +\n",
    "     ggtitle('Fraction of gapped PA reads\\nby infection status') +\n",
    "     xlab('fraction of gapped viral reads') +\n",
    "     scale_fill_manual(values=cbpalette[0:])\n",
    "     )\n",
    "\n",
    "_ = p.draw(position_dodge2(width = 0.1))"
   ]
  },
  {
   "cell_type": "code",
   "execution_count": null,
   "metadata": {},
   "outputs": [],
   "source": []
  }
 ],
 "metadata": {
  "kernelspec": {
   "display_name": "Python 3",
   "language": "python",
   "name": "python3"
  },
  "language_info": {
   "codemirror_mode": {
    "name": "ipython",
    "version": 3
   },
   "file_extension": ".py",
   "mimetype": "text/x-python",
   "name": "python",
   "nbconvert_exporter": "python",
   "pygments_lexer": "ipython3",
   "version": "3.6.7"
  }
 },
 "nbformat": 4,
 "nbformat_minor": 4
}
