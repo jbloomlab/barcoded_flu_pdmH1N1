{
 "cells": [
  {
   "cell_type": "markdown",
   "metadata": {},
   "source": [
    "# Correct viral barcodes to reduce replication, PCR, and sequencing errors\n",
    "This Python Jupyter notebook uses `UMI_tools` directional adjacency method to correct viral barcodes that are likely derived from errors in the replication or sequencing library preparation process.\n",
    "\n",
    "## Notes about UMI_tools\n",
    "* Using directional adjacency method. This has been demonstrated on simulated data to produce a more accurate result than other heuristics.\n",
    "* Sequence must be input as byte. See definition here: https://stackoverflow.com/questions/6269765/what-does-the-b-character-do-in-front-of-a-string-literal\n",
    "\n",
    "Import Python modules:"
   ]
  },
  {
   "cell_type": "code",
   "execution_count": 6,
   "metadata": {},
   "outputs": [],
   "source": [
    "from IPython.display import display\n",
    "\n",
    "from dms_variants.constants import CBPALETTE\n",
    "\n",
    "import gzip\n",
    "\n",
    "import pandas as pd\n",
    "\n",
    "import plotnine as p9\n",
    "\n",
    "from umi_tools import UMIClusterer"
   ]
  },
  {
   "cell_type": "markdown",
   "metadata": {},
   "source": [
    "Get `snakemake` variables [as described here](https://snakemake.readthedocs.io/en/stable/snakefiles/rules.html#jupyter-notebook-integration):"
   ]
  },
  {
   "cell_type": "code",
   "execution_count": 4,
   "metadata": {},
   "outputs": [],
   "source": [
    "viral_bc_in_progeny_freq_csv = 'results/viral_progeny/scProgenyProduction_trial1_viral_bc_in_progeny_freq.csv.gz'"
   ]
  },
  {
   "cell_type": "markdown",
   "metadata": {},
   "source": [
    "Import barcode frequency data"
   ]
  },
  {
   "cell_type": "code",
   "execution_count": 17,
   "metadata": {},
   "outputs": [
    {
     "data": {
      "text/html": [
       "<div>\n",
       "<style scoped>\n",
       "    .dataframe tbody tr th:only-of-type {\n",
       "        vertical-align: middle;\n",
       "    }\n",
       "\n",
       "    .dataframe tbody tr th {\n",
       "        vertical-align: top;\n",
       "    }\n",
       "\n",
       "    .dataframe thead th {\n",
       "        text-align: right;\n",
       "    }\n",
       "</style>\n",
       "<table border=\"1\" class=\"dataframe\">\n",
       "  <thead>\n",
       "    <tr style=\"text-align: right;\">\n",
       "      <th></th>\n",
       "      <th>source</th>\n",
       "      <th>tag</th>\n",
       "      <th>gene</th>\n",
       "      <th>barcode</th>\n",
       "      <th>mean_freq</th>\n",
       "    </tr>\n",
       "  </thead>\n",
       "  <tbody>\n",
       "    <tr>\n",
       "      <th>0</th>\n",
       "      <td>second_infection</td>\n",
       "      <td>syn</td>\n",
       "      <td>fluHA</td>\n",
       "      <td>AAAAAACGAAGGGATT</td>\n",
       "      <td>7.869666e-07</td>\n",
       "    </tr>\n",
       "    <tr>\n",
       "      <th>1</th>\n",
       "      <td>second_infection</td>\n",
       "      <td>syn</td>\n",
       "      <td>fluHA</td>\n",
       "      <td>AAAAAACGAATGGATC</td>\n",
       "      <td>8.755249e-07</td>\n",
       "    </tr>\n",
       "    <tr>\n",
       "      <th>2</th>\n",
       "      <td>second_infection</td>\n",
       "      <td>syn</td>\n",
       "      <td>fluHA</td>\n",
       "      <td>AAAAAACGAATGGATT</td>\n",
       "      <td>3.381641e-04</td>\n",
       "    </tr>\n",
       "    <tr>\n",
       "      <th>3</th>\n",
       "      <td>second_infection</td>\n",
       "      <td>syn</td>\n",
       "      <td>fluHA</td>\n",
       "      <td>AAAAAATATTCATACG</td>\n",
       "      <td>7.869666e-07</td>\n",
       "    </tr>\n",
       "    <tr>\n",
       "      <th>4</th>\n",
       "      <td>second_infection</td>\n",
       "      <td>syn</td>\n",
       "      <td>fluHA</td>\n",
       "      <td>AAAAAATCGGTAGAGG</td>\n",
       "      <td>7.869666e-07</td>\n",
       "    </tr>\n",
       "    <tr>\n",
       "      <th>...</th>\n",
       "      <td>...</td>\n",
       "      <td>...</td>\n",
       "      <td>...</td>\n",
       "      <td>...</td>\n",
       "      <td>...</td>\n",
       "    </tr>\n",
       "    <tr>\n",
       "      <th>103158</th>\n",
       "      <td>supernatant</td>\n",
       "      <td>wt</td>\n",
       "      <td>fluNA</td>\n",
       "      <td>TTTTTACTTTACGAGC</td>\n",
       "      <td>8.823851e-07</td>\n",
       "    </tr>\n",
       "    <tr>\n",
       "      <th>103159</th>\n",
       "      <td>supernatant</td>\n",
       "      <td>wt</td>\n",
       "      <td>fluNA</td>\n",
       "      <td>TTTTTCGTAAAACTAT</td>\n",
       "      <td>1.182396e-04</td>\n",
       "    </tr>\n",
       "    <tr>\n",
       "      <th>103160</th>\n",
       "      <td>supernatant</td>\n",
       "      <td>wt</td>\n",
       "      <td>fluNA</td>\n",
       "      <td>TTTTTGACTCGAAGTA</td>\n",
       "      <td>4.362519e-04</td>\n",
       "    </tr>\n",
       "    <tr>\n",
       "      <th>103161</th>\n",
       "      <td>supernatant</td>\n",
       "      <td>wt</td>\n",
       "      <td>fluNA</td>\n",
       "      <td>TTTTTGGAATACGCAA</td>\n",
       "      <td>1.226515e-04</td>\n",
       "    </tr>\n",
       "    <tr>\n",
       "      <th>103162</th>\n",
       "      <td>supernatant</td>\n",
       "      <td>wt</td>\n",
       "      <td>fluNA</td>\n",
       "      <td>TTTTTTCTTTACAAGC</td>\n",
       "      <td>8.823851e-07</td>\n",
       "    </tr>\n",
       "  </tbody>\n",
       "</table>\n",
       "<p>103163 rows × 5 columns</p>\n",
       "</div>"
      ],
      "text/plain": [
       "                  source  tag   gene           barcode     mean_freq\n",
       "0       second_infection  syn  fluHA  AAAAAACGAAGGGATT  7.869666e-07\n",
       "1       second_infection  syn  fluHA  AAAAAACGAATGGATC  8.755249e-07\n",
       "2       second_infection  syn  fluHA  AAAAAACGAATGGATT  3.381641e-04\n",
       "3       second_infection  syn  fluHA  AAAAAATATTCATACG  7.869666e-07\n",
       "4       second_infection  syn  fluHA  AAAAAATCGGTAGAGG  7.869666e-07\n",
       "...                  ...  ...    ...               ...           ...\n",
       "103158       supernatant   wt  fluNA  TTTTTACTTTACGAGC  8.823851e-07\n",
       "103159       supernatant   wt  fluNA  TTTTTCGTAAAACTAT  1.182396e-04\n",
       "103160       supernatant   wt  fluNA  TTTTTGACTCGAAGTA  4.362519e-04\n",
       "103161       supernatant   wt  fluNA  TTTTTGGAATACGCAA  1.226515e-04\n",
       "103162       supernatant   wt  fluNA  TTTTTTCTTTACAAGC  8.823851e-07\n",
       "\n",
       "[103163 rows x 5 columns]"
      ]
     },
     "metadata": {},
     "output_type": "display_data"
    }
   ],
   "source": [
    "viral_bc_df = pd.read_csv(gzip.open(viral_bc_in_progeny_freq_csv))\n",
    "display(viral_bc_df)"
   ]
  },
  {
   "cell_type": "markdown",
   "metadata": {},
   "source": [
    "Cluster barcodes within each sample"
   ]
  },
  {
   "cell_type": "code",
   "execution_count": 37,
   "metadata": {},
   "outputs": [
    {
     "name": "stdout",
     "output_type": "stream",
     "text": [
      "{'AAAAAACGAAGGGATT': 7.869665743817199e-07, 'AAAAAACGAATGGATC': 8.755248771638597e-07, 'AAAAAACGAATGGATT': 0.00033816405663403715, 'AAAAAATATTCATACG': 7.869665743817199e-07, 'AAAAAATCGGTAGAGG': 7.869665743817199e-07, 'AAAAAATCGGTAGTAA': 7.869665743817199e-07, 'AAAAAATCGGTAGTGG': 0.0002460386766780882, 'AAAAACCAAATTATTT': 5.85313758645663e-05, 'AAAAACCAATCCCCCA': 9.124985507878503e-05, 'AAAAACCTGAACAATC': 0.0002941422541688128}\n"
     ]
    },
    {
     "ename": "TypeError",
     "evalue": "expected bytes, str found",
     "output_type": "error",
     "traceback": [
      "\u001b[0;31m---------------------------------------------------------------------------\u001b[0m",
      "\u001b[0;31mTypeError\u001b[0m                                 Traceback (most recent call last)",
      "\u001b[0;31mTypeError\u001b[0m: expected bytes, str found"
     ]
    },
    {
     "name": "stderr",
     "output_type": "stream",
     "text": [
      "Exception ignored in: 'umi_tools._dedup_umi.edit_distance'\n",
      "Traceback (most recent call last):\n",
      "  File \"/fh/fast/bloom_j/software/miniconda3/envs/barcoded_flu_pdmH1N1/lib/python3.8/site-packages/umi_tools/network.py\", line 199, in _get_adj_list_directional\n",
      "    if edit_distance(umi1, umi2) <= threshold:\n",
      "TypeError: expected bytes, str found\n"
     ]
    },
    {
     "ename": "TypeError",
     "evalue": "expected bytes, str found",
     "output_type": "error",
     "traceback": [
      "\u001b[0;31m---------------------------------------------------------------------------\u001b[0m",
      "\u001b[0;31mTypeError\u001b[0m                                 Traceback (most recent call last)",
      "\u001b[0;31mTypeError\u001b[0m: expected bytes, str found"
     ]
    },
    {
     "name": "stderr",
     "output_type": "stream",
     "text": [
      "Exception ignored in: 'umi_tools._dedup_umi.edit_distance'\n",
      "Traceback (most recent call last):\n",
      "  File \"/fh/fast/bloom_j/software/miniconda3/envs/barcoded_flu_pdmH1N1/lib/python3.8/site-packages/umi_tools/network.py\", line 199, in _get_adj_list_directional\n",
      "    if edit_distance(umi1, umi2) <= threshold:\n",
      "TypeError: expected bytes, str found\n"
     ]
    },
    {
     "ename": "TypeError",
     "evalue": "expected bytes, str found",
     "output_type": "error",
     "traceback": [
      "\u001b[0;31m---------------------------------------------------------------------------\u001b[0m",
      "\u001b[0;31mTypeError\u001b[0m                                 Traceback (most recent call last)",
      "\u001b[0;31mTypeError\u001b[0m: expected bytes, str found"
     ]
    },
    {
     "name": "stderr",
     "output_type": "stream",
     "text": [
      "Exception ignored in: 'umi_tools._dedup_umi.edit_distance'\n",
      "Traceback (most recent call last):\n",
      "  File \"/fh/fast/bloom_j/software/miniconda3/envs/barcoded_flu_pdmH1N1/lib/python3.8/site-packages/umi_tools/network.py\", line 199, in _get_adj_list_directional\n",
      "    if edit_distance(umi1, umi2) <= threshold:\n",
      "TypeError: expected bytes, str found\n"
     ]
    },
    {
     "ename": "TypeError",
     "evalue": "expected bytes, str found",
     "output_type": "error",
     "traceback": [
      "\u001b[0;31m---------------------------------------------------------------------------\u001b[0m",
      "\u001b[0;31mTypeError\u001b[0m                                 Traceback (most recent call last)",
      "\u001b[0;31mTypeError\u001b[0m: expected bytes, str found"
     ]
    },
    {
     "name": "stderr",
     "output_type": "stream",
     "text": [
      "Exception ignored in: 'umi_tools._dedup_umi.edit_distance'\n",
      "Traceback (most recent call last):\n",
      "  File \"/fh/fast/bloom_j/software/miniconda3/envs/barcoded_flu_pdmH1N1/lib/python3.8/site-packages/umi_tools/network.py\", line 199, in _get_adj_list_directional\n",
      "    if edit_distance(umi1, umi2) <= threshold:\n",
      "TypeError: expected bytes, str found\n"
     ]
    },
    {
     "ename": "TypeError",
     "evalue": "expected bytes, str found",
     "output_type": "error",
     "traceback": [
      "\u001b[0;31m---------------------------------------------------------------------------\u001b[0m",
      "\u001b[0;31mTypeError\u001b[0m                                 Traceback (most recent call last)",
      "\u001b[0;31mTypeError\u001b[0m: expected bytes, str found"
     ]
    },
    {
     "name": "stderr",
     "output_type": "stream",
     "text": [
      "Exception ignored in: 'umi_tools._dedup_umi.edit_distance'\n",
      "Traceback (most recent call last):\n",
      "  File \"/fh/fast/bloom_j/software/miniconda3/envs/barcoded_flu_pdmH1N1/lib/python3.8/site-packages/umi_tools/network.py\", line 199, in _get_adj_list_directional\n",
      "    if edit_distance(umi1, umi2) <= threshold:\n",
      "TypeError: expected bytes, str found\n"
     ]
    },
    {
     "ename": "TypeError",
     "evalue": "expected bytes, str found",
     "output_type": "error",
     "traceback": [
      "\u001b[0;31m---------------------------------------------------------------------------\u001b[0m",
      "\u001b[0;31mTypeError\u001b[0m                                 Traceback (most recent call last)",
      "\u001b[0;31mTypeError\u001b[0m: expected bytes, str found"
     ]
    },
    {
     "name": "stderr",
     "output_type": "stream",
     "text": [
      "Exception ignored in: 'umi_tools._dedup_umi.edit_distance'\n",
      "Traceback (most recent call last):\n",
      "  File \"/fh/fast/bloom_j/software/miniconda3/envs/barcoded_flu_pdmH1N1/lib/python3.8/site-packages/umi_tools/network.py\", line 199, in _get_adj_list_directional\n",
      "    if edit_distance(umi1, umi2) <= threshold:\n",
      "TypeError: expected bytes, str found\n"
     ]
    },
    {
     "ename": "TypeError",
     "evalue": "expected bytes, str found",
     "output_type": "error",
     "traceback": [
      "\u001b[0;31m---------------------------------------------------------------------------\u001b[0m",
      "\u001b[0;31mTypeError\u001b[0m                                 Traceback (most recent call last)",
      "\u001b[0;31mTypeError\u001b[0m: expected bytes, str found"
     ]
    },
    {
     "name": "stderr",
     "output_type": "stream",
     "text": [
      "Exception ignored in: 'umi_tools._dedup_umi.edit_distance'\n",
      "Traceback (most recent call last):\n",
      "  File \"/fh/fast/bloom_j/software/miniconda3/envs/barcoded_flu_pdmH1N1/lib/python3.8/site-packages/umi_tools/network.py\", line 199, in _get_adj_list_directional\n",
      "    if edit_distance(umi1, umi2) <= threshold:\n",
      "TypeError: expected bytes, str found\n"
     ]
    },
    {
     "ename": "TypeError",
     "evalue": "expected bytes, str found",
     "output_type": "error",
     "traceback": [
      "\u001b[0;31m---------------------------------------------------------------------------\u001b[0m",
      "\u001b[0;31mTypeError\u001b[0m                                 Traceback (most recent call last)",
      "\u001b[0;31mTypeError\u001b[0m: expected bytes, str found"
     ]
    },
    {
     "name": "stderr",
     "output_type": "stream",
     "text": [
      "Exception ignored in: 'umi_tools._dedup_umi.edit_distance'\n",
      "Traceback (most recent call last):\n",
      "  File \"/fh/fast/bloom_j/software/miniconda3/envs/barcoded_flu_pdmH1N1/lib/python3.8/site-packages/umi_tools/network.py\", line 199, in _get_adj_list_directional\n",
      "    if edit_distance(umi1, umi2) <= threshold:\n",
      "TypeError: expected bytes, str found\n"
     ]
    },
    {
     "ename": "TypeError",
     "evalue": "expected bytes, str found",
     "output_type": "error",
     "traceback": [
      "\u001b[0;31m---------------------------------------------------------------------------\u001b[0m",
      "\u001b[0;31mTypeError\u001b[0m                                 Traceback (most recent call last)",
      "\u001b[0;31mTypeError\u001b[0m: expected bytes, str found"
     ]
    },
    {
     "name": "stderr",
     "output_type": "stream",
     "text": [
      "Exception ignored in: 'umi_tools._dedup_umi.edit_distance'\n",
      "Traceback (most recent call last):\n",
      "  File \"/fh/fast/bloom_j/software/miniconda3/envs/barcoded_flu_pdmH1N1/lib/python3.8/site-packages/umi_tools/network.py\", line 199, in _get_adj_list_directional\n",
      "    if edit_distance(umi1, umi2) <= threshold:\n",
      "TypeError: expected bytes, str found\n"
     ]
    },
    {
     "ename": "TypeError",
     "evalue": "expected bytes, str found",
     "output_type": "error",
     "traceback": [
      "\u001b[0;31m---------------------------------------------------------------------------\u001b[0m",
      "\u001b[0;31mTypeError\u001b[0m                                 Traceback (most recent call last)",
      "\u001b[0;31mTypeError\u001b[0m: expected bytes, str found"
     ]
    },
    {
     "name": "stderr",
     "output_type": "stream",
     "text": [
      "Exception ignored in: 'umi_tools._dedup_umi.edit_distance'\n",
      "Traceback (most recent call last):\n",
      "  File \"/fh/fast/bloom_j/software/miniconda3/envs/barcoded_flu_pdmH1N1/lib/python3.8/site-packages/umi_tools/network.py\", line 199, in _get_adj_list_directional\n",
      "    if edit_distance(umi1, umi2) <= threshold:\n",
      "TypeError: expected bytes, str found\n"
     ]
    },
    {
     "ename": "TypeError",
     "evalue": "expected bytes, str found",
     "output_type": "error",
     "traceback": [
      "\u001b[0;31m---------------------------------------------------------------------------\u001b[0m",
      "\u001b[0;31mTypeError\u001b[0m                                 Traceback (most recent call last)",
      "\u001b[0;31mTypeError\u001b[0m: expected bytes, str found"
     ]
    },
    {
     "name": "stderr",
     "output_type": "stream",
     "text": [
      "Exception ignored in: 'umi_tools._dedup_umi.edit_distance'\n",
      "Traceback (most recent call last):\n",
      "  File \"/fh/fast/bloom_j/software/miniconda3/envs/barcoded_flu_pdmH1N1/lib/python3.8/site-packages/umi_tools/network.py\", line 199, in _get_adj_list_directional\n",
      "    if edit_distance(umi1, umi2) <= threshold:\n",
      "TypeError: expected bytes, str found\n"
     ]
    },
    {
     "ename": "TypeError",
     "evalue": "expected bytes, str found",
     "output_type": "error",
     "traceback": [
      "\u001b[0;31m---------------------------------------------------------------------------\u001b[0m",
      "\u001b[0;31mTypeError\u001b[0m                                 Traceback (most recent call last)",
      "\u001b[0;31mTypeError\u001b[0m: expected bytes, str found"
     ]
    },
    {
     "name": "stderr",
     "output_type": "stream",
     "text": [
      "Exception ignored in: 'umi_tools._dedup_umi.edit_distance'\n",
      "Traceback (most recent call last):\n",
      "  File \"/fh/fast/bloom_j/software/miniconda3/envs/barcoded_flu_pdmH1N1/lib/python3.8/site-packages/umi_tools/network.py\", line 199, in _get_adj_list_directional\n",
      "    if edit_distance(umi1, umi2) <= threshold:\n",
      "TypeError: expected bytes, str found\n"
     ]
    },
    {
     "ename": "TypeError",
     "evalue": "expected bytes, str found",
     "output_type": "error",
     "traceback": [
      "\u001b[0;31m---------------------------------------------------------------------------\u001b[0m",
      "\u001b[0;31mTypeError\u001b[0m                                 Traceback (most recent call last)",
      "\u001b[0;31mTypeError\u001b[0m: expected bytes, str found"
     ]
    },
    {
     "name": "stderr",
     "output_type": "stream",
     "text": [
      "Exception ignored in: 'umi_tools._dedup_umi.edit_distance'\n",
      "Traceback (most recent call last):\n",
      "  File \"/fh/fast/bloom_j/software/miniconda3/envs/barcoded_flu_pdmH1N1/lib/python3.8/site-packages/umi_tools/network.py\", line 199, in _get_adj_list_directional\n",
      "    if edit_distance(umi1, umi2) <= threshold:\n",
      "TypeError: expected bytes, str found\n"
     ]
    },
    {
     "ename": "TypeError",
     "evalue": "expected bytes, str found",
     "output_type": "error",
     "traceback": [
      "\u001b[0;31m---------------------------------------------------------------------------\u001b[0m",
      "\u001b[0;31mTypeError\u001b[0m                                 Traceback (most recent call last)",
      "\u001b[0;31mTypeError\u001b[0m: expected bytes, str found"
     ]
    },
    {
     "name": "stderr",
     "output_type": "stream",
     "text": [
      "Exception ignored in: 'umi_tools._dedup_umi.edit_distance'\n",
      "Traceback (most recent call last):\n",
      "  File \"/fh/fast/bloom_j/software/miniconda3/envs/barcoded_flu_pdmH1N1/lib/python3.8/site-packages/umi_tools/network.py\", line 199, in _get_adj_list_directional\n",
      "    if edit_distance(umi1, umi2) <= threshold:\n",
      "TypeError: expected bytes, str found\n"
     ]
    },
    {
     "ename": "TypeError",
     "evalue": "expected bytes, str found",
     "output_type": "error",
     "traceback": [
      "\u001b[0;31m---------------------------------------------------------------------------\u001b[0m",
      "\u001b[0;31mTypeError\u001b[0m                                 Traceback (most recent call last)",
      "\u001b[0;31mTypeError\u001b[0m: expected bytes, str found"
     ]
    },
    {
     "name": "stderr",
     "output_type": "stream",
     "text": [
      "Exception ignored in: 'umi_tools._dedup_umi.edit_distance'\n",
      "Traceback (most recent call last):\n",
      "  File \"/fh/fast/bloom_j/software/miniconda3/envs/barcoded_flu_pdmH1N1/lib/python3.8/site-packages/umi_tools/network.py\", line 199, in _get_adj_list_directional\n",
      "    if edit_distance(umi1, umi2) <= threshold:\n",
      "TypeError: expected bytes, str found\n"
     ]
    },
    {
     "ename": "TypeError",
     "evalue": "expected bytes, str found",
     "output_type": "error",
     "traceback": [
      "\u001b[0;31m---------------------------------------------------------------------------\u001b[0m",
      "\u001b[0;31mTypeError\u001b[0m                                 Traceback (most recent call last)",
      "\u001b[0;31mTypeError\u001b[0m: expected bytes, str found"
     ]
    },
    {
     "name": "stderr",
     "output_type": "stream",
     "text": [
      "Exception ignored in: 'umi_tools._dedup_umi.edit_distance'\n",
      "Traceback (most recent call last):\n",
      "  File \"/fh/fast/bloom_j/software/miniconda3/envs/barcoded_flu_pdmH1N1/lib/python3.8/site-packages/umi_tools/network.py\", line 199, in _get_adj_list_directional\n",
      "    if edit_distance(umi1, umi2) <= threshold:\n",
      "TypeError: expected bytes, str found\n"
     ]
    },
    {
     "ename": "TypeError",
     "evalue": "expected bytes, str found",
     "output_type": "error",
     "traceback": [
      "\u001b[0;31m---------------------------------------------------------------------------\u001b[0m",
      "\u001b[0;31mTypeError\u001b[0m                                 Traceback (most recent call last)",
      "\u001b[0;31mTypeError\u001b[0m: expected bytes, str found"
     ]
    },
    {
     "name": "stderr",
     "output_type": "stream",
     "text": [
      "Exception ignored in: 'umi_tools._dedup_umi.edit_distance'\n",
      "Traceback (most recent call last):\n",
      "  File \"/fh/fast/bloom_j/software/miniconda3/envs/barcoded_flu_pdmH1N1/lib/python3.8/site-packages/umi_tools/network.py\", line 199, in _get_adj_list_directional\n",
      "    if edit_distance(umi1, umi2) <= threshold:\n",
      "TypeError: expected bytes, str found\n"
     ]
    },
    {
     "ename": "TypeError",
     "evalue": "expected bytes, str found",
     "output_type": "error",
     "traceback": [
      "\u001b[0;31m---------------------------------------------------------------------------\u001b[0m",
      "\u001b[0;31mTypeError\u001b[0m                                 Traceback (most recent call last)",
      "\u001b[0;31mTypeError\u001b[0m: expected bytes, str found"
     ]
    },
    {
     "name": "stderr",
     "output_type": "stream",
     "text": [
      "Exception ignored in: 'umi_tools._dedup_umi.edit_distance'\n",
      "Traceback (most recent call last):\n",
      "  File \"/fh/fast/bloom_j/software/miniconda3/envs/barcoded_flu_pdmH1N1/lib/python3.8/site-packages/umi_tools/network.py\", line 199, in _get_adj_list_directional\n",
      "    if edit_distance(umi1, umi2) <= threshold:\n",
      "TypeError: expected bytes, str found\n"
     ]
    },
    {
     "ename": "TypeError",
     "evalue": "expected bytes, str found",
     "output_type": "error",
     "traceback": [
      "\u001b[0;31m---------------------------------------------------------------------------\u001b[0m",
      "\u001b[0;31mTypeError\u001b[0m                                 Traceback (most recent call last)",
      "\u001b[0;31mTypeError\u001b[0m: expected bytes, str found"
     ]
    },
    {
     "name": "stderr",
     "output_type": "stream",
     "text": [
      "Exception ignored in: 'umi_tools._dedup_umi.edit_distance'\n",
      "Traceback (most recent call last):\n",
      "  File \"/fh/fast/bloom_j/software/miniconda3/envs/barcoded_flu_pdmH1N1/lib/python3.8/site-packages/umi_tools/network.py\", line 199, in _get_adj_list_directional\n",
      "    if edit_distance(umi1, umi2) <= threshold:\n",
      "TypeError: expected bytes, str found\n"
     ]
    },
    {
     "ename": "TypeError",
     "evalue": "expected bytes, str found",
     "output_type": "error",
     "traceback": [
      "\u001b[0;31m---------------------------------------------------------------------------\u001b[0m",
      "\u001b[0;31mTypeError\u001b[0m                                 Traceback (most recent call last)",
      "\u001b[0;31mTypeError\u001b[0m: expected bytes, str found"
     ]
    },
    {
     "name": "stderr",
     "output_type": "stream",
     "text": [
      "Exception ignored in: 'umi_tools._dedup_umi.edit_distance'\n",
      "Traceback (most recent call last):\n",
      "  File \"/fh/fast/bloom_j/software/miniconda3/envs/barcoded_flu_pdmH1N1/lib/python3.8/site-packages/umi_tools/network.py\", line 199, in _get_adj_list_directional\n",
      "    if edit_distance(umi1, umi2) <= threshold:\n",
      "TypeError: expected bytes, str found\n"
     ]
    },
    {
     "ename": "TypeError",
     "evalue": "expected bytes, str found",
     "output_type": "error",
     "traceback": [
      "\u001b[0;31m---------------------------------------------------------------------------\u001b[0m",
      "\u001b[0;31mTypeError\u001b[0m                                 Traceback (most recent call last)",
      "\u001b[0;31mTypeError\u001b[0m: expected bytes, str found"
     ]
    },
    {
     "name": "stderr",
     "output_type": "stream",
     "text": [
      "Exception ignored in: 'umi_tools._dedup_umi.edit_distance'\n",
      "Traceback (most recent call last):\n",
      "  File \"/fh/fast/bloom_j/software/miniconda3/envs/barcoded_flu_pdmH1N1/lib/python3.8/site-packages/umi_tools/network.py\", line 199, in _get_adj_list_directional\n",
      "    if edit_distance(umi1, umi2) <= threshold:\n",
      "TypeError: expected bytes, str found\n"
     ]
    },
    {
     "ename": "TypeError",
     "evalue": "expected bytes, str found",
     "output_type": "error",
     "traceback": [
      "\u001b[0;31m---------------------------------------------------------------------------\u001b[0m",
      "\u001b[0;31mTypeError\u001b[0m                                 Traceback (most recent call last)",
      "\u001b[0;31mTypeError\u001b[0m: expected bytes, str found"
     ]
    },
    {
     "name": "stderr",
     "output_type": "stream",
     "text": [
      "Exception ignored in: 'umi_tools._dedup_umi.edit_distance'\n",
      "Traceback (most recent call last):\n",
      "  File \"/fh/fast/bloom_j/software/miniconda3/envs/barcoded_flu_pdmH1N1/lib/python3.8/site-packages/umi_tools/network.py\", line 199, in _get_adj_list_directional\n",
      "    if edit_distance(umi1, umi2) <= threshold:\n",
      "TypeError: expected bytes, str found\n"
     ]
    },
    {
     "ename": "TypeError",
     "evalue": "expected bytes, str found",
     "output_type": "error",
     "traceback": [
      "\u001b[0;31m---------------------------------------------------------------------------\u001b[0m",
      "\u001b[0;31mTypeError\u001b[0m                                 Traceback (most recent call last)",
      "\u001b[0;31mTypeError\u001b[0m: expected bytes, str found"
     ]
    },
    {
     "name": "stderr",
     "output_type": "stream",
     "text": [
      "Exception ignored in: 'umi_tools._dedup_umi.edit_distance'\n",
      "Traceback (most recent call last):\n",
      "  File \"/fh/fast/bloom_j/software/miniconda3/envs/barcoded_flu_pdmH1N1/lib/python3.8/site-packages/umi_tools/network.py\", line 199, in _get_adj_list_directional\n",
      "    if edit_distance(umi1, umi2) <= threshold:\n",
      "TypeError: expected bytes, str found\n"
     ]
    },
    {
     "ename": "TypeError",
     "evalue": "expected bytes, str found",
     "output_type": "error",
     "traceback": [
      "\u001b[0;31m---------------------------------------------------------------------------\u001b[0m",
      "\u001b[0;31mTypeError\u001b[0m                                 Traceback (most recent call last)",
      "\u001b[0;31mTypeError\u001b[0m: expected bytes, str found"
     ]
    },
    {
     "name": "stderr",
     "output_type": "stream",
     "text": [
      "Exception ignored in: 'umi_tools._dedup_umi.edit_distance'\n",
      "Traceback (most recent call last):\n",
      "  File \"/fh/fast/bloom_j/software/miniconda3/envs/barcoded_flu_pdmH1N1/lib/python3.8/site-packages/umi_tools/network.py\", line 199, in _get_adj_list_directional\n",
      "    if edit_distance(umi1, umi2) <= threshold:\n",
      "TypeError: expected bytes, str found\n"
     ]
    },
    {
     "ename": "TypeError",
     "evalue": "expected bytes, str found",
     "output_type": "error",
     "traceback": [
      "\u001b[0;31m---------------------------------------------------------------------------\u001b[0m",
      "\u001b[0;31mTypeError\u001b[0m                                 Traceback (most recent call last)",
      "\u001b[0;31mTypeError\u001b[0m: expected bytes, str found"
     ]
    },
    {
     "name": "stderr",
     "output_type": "stream",
     "text": [
      "Exception ignored in: 'umi_tools._dedup_umi.edit_distance'\n",
      "Traceback (most recent call last):\n",
      "  File \"/fh/fast/bloom_j/software/miniconda3/envs/barcoded_flu_pdmH1N1/lib/python3.8/site-packages/umi_tools/network.py\", line 199, in _get_adj_list_directional\n",
      "    if edit_distance(umi1, umi2) <= threshold:\n",
      "TypeError: expected bytes, str found\n"
     ]
    },
    {
     "ename": "TypeError",
     "evalue": "expected bytes, str found",
     "output_type": "error",
     "traceback": [
      "\u001b[0;31m---------------------------------------------------------------------------\u001b[0m",
      "\u001b[0;31mTypeError\u001b[0m                                 Traceback (most recent call last)",
      "\u001b[0;31mTypeError\u001b[0m: expected bytes, str found"
     ]
    },
    {
     "name": "stderr",
     "output_type": "stream",
     "text": [
      "Exception ignored in: 'umi_tools._dedup_umi.edit_distance'\n",
      "Traceback (most recent call last):\n",
      "  File \"/fh/fast/bloom_j/software/miniconda3/envs/barcoded_flu_pdmH1N1/lib/python3.8/site-packages/umi_tools/network.py\", line 199, in _get_adj_list_directional\n",
      "    if edit_distance(umi1, umi2) <= threshold:\n",
      "TypeError: expected bytes, str found\n"
     ]
    },
    {
     "ename": "TypeError",
     "evalue": "expected bytes, str found",
     "output_type": "error",
     "traceback": [
      "\u001b[0;31m---------------------------------------------------------------------------\u001b[0m",
      "\u001b[0;31mTypeError\u001b[0m                                 Traceback (most recent call last)",
      "\u001b[0;31mTypeError\u001b[0m: expected bytes, str found"
     ]
    },
    {
     "name": "stderr",
     "output_type": "stream",
     "text": [
      "Exception ignored in: 'umi_tools._dedup_umi.edit_distance'\n",
      "Traceback (most recent call last):\n",
      "  File \"/fh/fast/bloom_j/software/miniconda3/envs/barcoded_flu_pdmH1N1/lib/python3.8/site-packages/umi_tools/network.py\", line 199, in _get_adj_list_directional\n",
      "    if edit_distance(umi1, umi2) <= threshold:\n",
      "TypeError: expected bytes, str found\n"
     ]
    },
    {
     "ename": "TypeError",
     "evalue": "expected bytes, str found",
     "output_type": "error",
     "traceback": [
      "\u001b[0;31m---------------------------------------------------------------------------\u001b[0m",
      "\u001b[0;31mTypeError\u001b[0m                                 Traceback (most recent call last)",
      "\u001b[0;31mTypeError\u001b[0m: expected bytes, str found"
     ]
    },
    {
     "name": "stderr",
     "output_type": "stream",
     "text": [
      "Exception ignored in: 'umi_tools._dedup_umi.edit_distance'\n",
      "Traceback (most recent call last):\n",
      "  File \"/fh/fast/bloom_j/software/miniconda3/envs/barcoded_flu_pdmH1N1/lib/python3.8/site-packages/umi_tools/network.py\", line 199, in _get_adj_list_directional\n",
      "    if edit_distance(umi1, umi2) <= threshold:\n",
      "TypeError: expected bytes, str found\n"
     ]
    },
    {
     "ename": "TypeError",
     "evalue": "expected bytes, str found",
     "output_type": "error",
     "traceback": [
      "\u001b[0;31m---------------------------------------------------------------------------\u001b[0m",
      "\u001b[0;31mTypeError\u001b[0m                                 Traceback (most recent call last)",
      "\u001b[0;31mTypeError\u001b[0m: expected bytes, str found"
     ]
    },
    {
     "name": "stderr",
     "output_type": "stream",
     "text": [
      "Exception ignored in: 'umi_tools._dedup_umi.edit_distance'\n",
      "Traceback (most recent call last):\n",
      "  File \"/fh/fast/bloom_j/software/miniconda3/envs/barcoded_flu_pdmH1N1/lib/python3.8/site-packages/umi_tools/network.py\", line 199, in _get_adj_list_directional\n",
      "    if edit_distance(umi1, umi2) <= threshold:\n",
      "TypeError: expected bytes, str found\n"
     ]
    },
    {
     "ename": "TypeError",
     "evalue": "expected bytes, str found",
     "output_type": "error",
     "traceback": [
      "\u001b[0;31m---------------------------------------------------------------------------\u001b[0m",
      "\u001b[0;31mTypeError\u001b[0m                                 Traceback (most recent call last)",
      "\u001b[0;31mTypeError\u001b[0m: expected bytes, str found"
     ]
    },
    {
     "name": "stderr",
     "output_type": "stream",
     "text": [
      "Exception ignored in: 'umi_tools._dedup_umi.edit_distance'\n",
      "Traceback (most recent call last):\n",
      "  File \"/fh/fast/bloom_j/software/miniconda3/envs/barcoded_flu_pdmH1N1/lib/python3.8/site-packages/umi_tools/network.py\", line 199, in _get_adj_list_directional\n",
      "    if edit_distance(umi1, umi2) <= threshold:\n",
      "TypeError: expected bytes, str found\n"
     ]
    },
    {
     "ename": "TypeError",
     "evalue": "expected bytes, str found",
     "output_type": "error",
     "traceback": [
      "\u001b[0;31m---------------------------------------------------------------------------\u001b[0m",
      "\u001b[0;31mTypeError\u001b[0m                                 Traceback (most recent call last)",
      "\u001b[0;31mTypeError\u001b[0m: expected bytes, str found"
     ]
    },
    {
     "name": "stderr",
     "output_type": "stream",
     "text": [
      "Exception ignored in: 'umi_tools._dedup_umi.edit_distance'\n",
      "Traceback (most recent call last):\n",
      "  File \"/fh/fast/bloom_j/software/miniconda3/envs/barcoded_flu_pdmH1N1/lib/python3.8/site-packages/umi_tools/network.py\", line 199, in _get_adj_list_directional\n",
      "    if edit_distance(umi1, umi2) <= threshold:\n",
      "TypeError: expected bytes, str found\n"
     ]
    },
    {
     "ename": "TypeError",
     "evalue": "expected bytes, str found",
     "output_type": "error",
     "traceback": [
      "\u001b[0;31m---------------------------------------------------------------------------\u001b[0m",
      "\u001b[0;31mTypeError\u001b[0m                                 Traceback (most recent call last)",
      "\u001b[0;31mTypeError\u001b[0m: expected bytes, str found"
     ]
    },
    {
     "name": "stderr",
     "output_type": "stream",
     "text": [
      "Exception ignored in: 'umi_tools._dedup_umi.edit_distance'\n",
      "Traceback (most recent call last):\n",
      "  File \"/fh/fast/bloom_j/software/miniconda3/envs/barcoded_flu_pdmH1N1/lib/python3.8/site-packages/umi_tools/network.py\", line 199, in _get_adj_list_directional\n",
      "    if edit_distance(umi1, umi2) <= threshold:\n",
      "TypeError: expected bytes, str found\n"
     ]
    },
    {
     "ename": "TypeError",
     "evalue": "expected bytes, str found",
     "output_type": "error",
     "traceback": [
      "\u001b[0;31m---------------------------------------------------------------------------\u001b[0m",
      "\u001b[0;31mTypeError\u001b[0m                                 Traceback (most recent call last)",
      "\u001b[0;31mTypeError\u001b[0m: expected bytes, str found"
     ]
    },
    {
     "name": "stderr",
     "output_type": "stream",
     "text": [
      "Exception ignored in: 'umi_tools._dedup_umi.edit_distance'\n",
      "Traceback (most recent call last):\n",
      "  File \"/fh/fast/bloom_j/software/miniconda3/envs/barcoded_flu_pdmH1N1/lib/python3.8/site-packages/umi_tools/network.py\", line 199, in _get_adj_list_directional\n",
      "    if edit_distance(umi1, umi2) <= threshold:\n",
      "TypeError: expected bytes, str found\n"
     ]
    },
    {
     "ename": "TypeError",
     "evalue": "expected bytes, str found",
     "output_type": "error",
     "traceback": [
      "\u001b[0;31m---------------------------------------------------------------------------\u001b[0m",
      "\u001b[0;31mTypeError\u001b[0m                                 Traceback (most recent call last)",
      "\u001b[0;31mTypeError\u001b[0m: expected bytes, str found"
     ]
    },
    {
     "name": "stderr",
     "output_type": "stream",
     "text": [
      "Exception ignored in: 'umi_tools._dedup_umi.edit_distance'\n",
      "Traceback (most recent call last):\n",
      "  File \"/fh/fast/bloom_j/software/miniconda3/envs/barcoded_flu_pdmH1N1/lib/python3.8/site-packages/umi_tools/network.py\", line 199, in _get_adj_list_directional\n",
      "    if edit_distance(umi1, umi2) <= threshold:\n",
      "TypeError: expected bytes, str found\n"
     ]
    },
    {
     "ename": "TypeError",
     "evalue": "expected bytes, str found",
     "output_type": "error",
     "traceback": [
      "\u001b[0;31m---------------------------------------------------------------------------\u001b[0m",
      "\u001b[0;31mTypeError\u001b[0m                                 Traceback (most recent call last)",
      "\u001b[0;31mTypeError\u001b[0m: expected bytes, str found"
     ]
    },
    {
     "name": "stderr",
     "output_type": "stream",
     "text": [
      "Exception ignored in: 'umi_tools._dedup_umi.edit_distance'\n",
      "Traceback (most recent call last):\n",
      "  File \"/fh/fast/bloom_j/software/miniconda3/envs/barcoded_flu_pdmH1N1/lib/python3.8/site-packages/umi_tools/network.py\", line 199, in _get_adj_list_directional\n",
      "    if edit_distance(umi1, umi2) <= threshold:\n",
      "TypeError: expected bytes, str found\n"
     ]
    },
    {
     "ename": "TypeError",
     "evalue": "expected bytes, str found",
     "output_type": "error",
     "traceback": [
      "\u001b[0;31m---------------------------------------------------------------------------\u001b[0m",
      "\u001b[0;31mTypeError\u001b[0m                                 Traceback (most recent call last)",
      "\u001b[0;31mTypeError\u001b[0m: expected bytes, str found"
     ]
    },
    {
     "name": "stderr",
     "output_type": "stream",
     "text": [
      "Exception ignored in: 'umi_tools._dedup_umi.edit_distance'\n",
      "Traceback (most recent call last):\n",
      "  File \"/fh/fast/bloom_j/software/miniconda3/envs/barcoded_flu_pdmH1N1/lib/python3.8/site-packages/umi_tools/network.py\", line 199, in _get_adj_list_directional\n",
      "    if edit_distance(umi1, umi2) <= threshold:\n",
      "TypeError: expected bytes, str found\n"
     ]
    },
    {
     "ename": "TypeError",
     "evalue": "expected bytes, str found",
     "output_type": "error",
     "traceback": [
      "\u001b[0;31m---------------------------------------------------------------------------\u001b[0m",
      "\u001b[0;31mTypeError\u001b[0m                                 Traceback (most recent call last)",
      "\u001b[0;31mTypeError\u001b[0m: expected bytes, str found"
     ]
    },
    {
     "name": "stderr",
     "output_type": "stream",
     "text": [
      "Exception ignored in: 'umi_tools._dedup_umi.edit_distance'\n",
      "Traceback (most recent call last):\n",
      "  File \"/fh/fast/bloom_j/software/miniconda3/envs/barcoded_flu_pdmH1N1/lib/python3.8/site-packages/umi_tools/network.py\", line 199, in _get_adj_list_directional\n",
      "    if edit_distance(umi1, umi2) <= threshold:\n",
      "TypeError: expected bytes, str found\n"
     ]
    },
    {
     "ename": "TypeError",
     "evalue": "expected bytes, str found",
     "output_type": "error",
     "traceback": [
      "\u001b[0;31m---------------------------------------------------------------------------\u001b[0m",
      "\u001b[0;31mTypeError\u001b[0m                                 Traceback (most recent call last)",
      "\u001b[0;31mTypeError\u001b[0m: expected bytes, str found"
     ]
    },
    {
     "name": "stderr",
     "output_type": "stream",
     "text": [
      "Exception ignored in: 'umi_tools._dedup_umi.edit_distance'\n",
      "Traceback (most recent call last):\n",
      "  File \"/fh/fast/bloom_j/software/miniconda3/envs/barcoded_flu_pdmH1N1/lib/python3.8/site-packages/umi_tools/network.py\", line 199, in _get_adj_list_directional\n",
      "    if edit_distance(umi1, umi2) <= threshold:\n",
      "TypeError: expected bytes, str found\n"
     ]
    },
    {
     "ename": "TypeError",
     "evalue": "expected bytes, str found",
     "output_type": "error",
     "traceback": [
      "\u001b[0;31m---------------------------------------------------------------------------\u001b[0m",
      "\u001b[0;31mTypeError\u001b[0m                                 Traceback (most recent call last)",
      "\u001b[0;31mTypeError\u001b[0m: expected bytes, str found"
     ]
    },
    {
     "name": "stderr",
     "output_type": "stream",
     "text": [
      "Exception ignored in: 'umi_tools._dedup_umi.edit_distance'\n",
      "Traceback (most recent call last):\n",
      "  File \"/fh/fast/bloom_j/software/miniconda3/envs/barcoded_flu_pdmH1N1/lib/python3.8/site-packages/umi_tools/network.py\", line 199, in _get_adj_list_directional\n",
      "    if edit_distance(umi1, umi2) <= threshold:\n",
      "TypeError: expected bytes, str found\n"
     ]
    },
    {
     "ename": "TypeError",
     "evalue": "expected bytes, str found",
     "output_type": "error",
     "traceback": [
      "\u001b[0;31m---------------------------------------------------------------------------\u001b[0m",
      "\u001b[0;31mTypeError\u001b[0m                                 Traceback (most recent call last)",
      "\u001b[0;31mTypeError\u001b[0m: expected bytes, str found"
     ]
    },
    {
     "name": "stderr",
     "output_type": "stream",
     "text": [
      "Exception ignored in: 'umi_tools._dedup_umi.edit_distance'\n",
      "Traceback (most recent call last):\n",
      "  File \"/fh/fast/bloom_j/software/miniconda3/envs/barcoded_flu_pdmH1N1/lib/python3.8/site-packages/umi_tools/network.py\", line 199, in _get_adj_list_directional\n",
      "    if edit_distance(umi1, umi2) <= threshold:\n",
      "TypeError: expected bytes, str found\n"
     ]
    },
    {
     "ename": "TypeError",
     "evalue": "expected bytes, str found",
     "output_type": "error",
     "traceback": [
      "\u001b[0;31m---------------------------------------------------------------------------\u001b[0m",
      "\u001b[0;31mTypeError\u001b[0m                                 Traceback (most recent call last)",
      "\u001b[0;31mTypeError\u001b[0m: expected bytes, str found"
     ]
    },
    {
     "name": "stderr",
     "output_type": "stream",
     "text": [
      "Exception ignored in: 'umi_tools._dedup_umi.edit_distance'\n",
      "Traceback (most recent call last):\n",
      "  File \"/fh/fast/bloom_j/software/miniconda3/envs/barcoded_flu_pdmH1N1/lib/python3.8/site-packages/umi_tools/network.py\", line 199, in _get_adj_list_directional\n",
      "    if edit_distance(umi1, umi2) <= threshold:\n",
      "TypeError: expected bytes, str found\n"
     ]
    },
    {
     "ename": "TypeError",
     "evalue": "expected bytes, str found",
     "output_type": "error",
     "traceback": [
      "\u001b[0;31m---------------------------------------------------------------------------\u001b[0m",
      "\u001b[0;31mTypeError\u001b[0m                                 Traceback (most recent call last)",
      "\u001b[0;31mTypeError\u001b[0m: expected bytes, str found"
     ]
    },
    {
     "name": "stderr",
     "output_type": "stream",
     "text": [
      "Exception ignored in: 'umi_tools._dedup_umi.edit_distance'\n",
      "Traceback (most recent call last):\n",
      "  File \"/fh/fast/bloom_j/software/miniconda3/envs/barcoded_flu_pdmH1N1/lib/python3.8/site-packages/umi_tools/network.py\", line 199, in _get_adj_list_directional\n",
      "    if edit_distance(umi1, umi2) <= threshold:\n",
      "TypeError: expected bytes, str found\n"
     ]
    },
    {
     "ename": "TypeError",
     "evalue": "expected bytes, str found",
     "output_type": "error",
     "traceback": [
      "\u001b[0;31m---------------------------------------------------------------------------\u001b[0m",
      "\u001b[0;31mTypeError\u001b[0m                                 Traceback (most recent call last)",
      "\u001b[0;31mTypeError\u001b[0m: expected bytes, str found"
     ]
    },
    {
     "name": "stderr",
     "output_type": "stream",
     "text": [
      "Exception ignored in: 'umi_tools._dedup_umi.edit_distance'\n",
      "Traceback (most recent call last):\n",
      "  File \"/fh/fast/bloom_j/software/miniconda3/envs/barcoded_flu_pdmH1N1/lib/python3.8/site-packages/umi_tools/network.py\", line 199, in _get_adj_list_directional\n",
      "    if edit_distance(umi1, umi2) <= threshold:\n",
      "TypeError: expected bytes, str found\n"
     ]
    },
    {
     "ename": "TypeError",
     "evalue": "expected bytes, str found",
     "output_type": "error",
     "traceback": [
      "\u001b[0;31m---------------------------------------------------------------------------\u001b[0m",
      "\u001b[0;31mTypeError\u001b[0m                                 Traceback (most recent call last)",
      "\u001b[0;31mTypeError\u001b[0m: expected bytes, str found"
     ]
    },
    {
     "name": "stderr",
     "output_type": "stream",
     "text": [
      "Exception ignored in: 'umi_tools._dedup_umi.edit_distance'\n",
      "Traceback (most recent call last):\n",
      "  File \"/fh/fast/bloom_j/software/miniconda3/envs/barcoded_flu_pdmH1N1/lib/python3.8/site-packages/umi_tools/network.py\", line 199, in _get_adj_list_directional\n",
      "    if edit_distance(umi1, umi2) <= threshold:\n",
      "TypeError: expected bytes, str found\n"
     ]
    },
    {
     "ename": "TypeError",
     "evalue": "expected bytes, str found",
     "output_type": "error",
     "traceback": [
      "\u001b[0;31m---------------------------------------------------------------------------\u001b[0m",
      "\u001b[0;31mTypeError\u001b[0m                                 Traceback (most recent call last)",
      "\u001b[0;31mTypeError\u001b[0m: expected bytes, str found"
     ]
    },
    {
     "name": "stderr",
     "output_type": "stream",
     "text": [
      "Exception ignored in: 'umi_tools._dedup_umi.edit_distance'\n",
      "Traceback (most recent call last):\n",
      "  File \"/fh/fast/bloom_j/software/miniconda3/envs/barcoded_flu_pdmH1N1/lib/python3.8/site-packages/umi_tools/network.py\", line 199, in _get_adj_list_directional\n",
      "    if edit_distance(umi1, umi2) <= threshold:\n",
      "TypeError: expected bytes, str found\n"
     ]
    },
    {
     "name": "stdout",
     "output_type": "stream",
     "text": [
      "[['AAAAAACGAATGGATT', 'AAAAACCTGAACAATC', 'AAAAAATCGGTAGTGG', 'AAAAACCAATCCCCCA', 'AAAAACCAAATTATTT', 'AAAAAACGAATGGATC', 'AAAAAACGAAGGGATT', 'AAAAAATCGGTAGTAA', 'AAAAAATCGGTAGAGG', 'AAAAAATATTCATACG']]\n",
      "{'AAAAAACGAAGGGATT': 7.869665743817199e-07, 'AAAAAACGAATGGATC': 8.755248771638597e-07, 'AAAAAACGAATGGATT': 0.00033816405663403715, 'AAAAAATATTCATACG': 7.869665743817199e-07, 'AAAAAATCGGTAGAGG': 7.869665743817199e-07, 'AAAAAATCGGTAGTAA': 7.869665743817199e-07, 'AAAAAATCGGTAGTGG': 0.0002460386766780882, 'AAAAACCAAATTATTT': 5.85313758645663e-05, 'AAAAACCAATCCCCCA': 9.124985507878503e-05, 'AAAAACCTGAACAATC': 0.0002941422541688128}\n"
     ]
    },
    {
     "ename": "TypeError",
     "evalue": "expected bytes, str found",
     "output_type": "error",
     "traceback": [
      "\u001b[0;31m---------------------------------------------------------------------------\u001b[0m",
      "\u001b[0;31mTypeError\u001b[0m                                 Traceback (most recent call last)",
      "\u001b[0;31mTypeError\u001b[0m: expected bytes, str found"
     ]
    },
    {
     "name": "stderr",
     "output_type": "stream",
     "text": [
      "Exception ignored in: 'umi_tools._dedup_umi.edit_distance'\n",
      "Traceback (most recent call last):\n",
      "  File \"/fh/fast/bloom_j/software/miniconda3/envs/barcoded_flu_pdmH1N1/lib/python3.8/site-packages/umi_tools/network.py\", line 199, in _get_adj_list_directional\n",
      "    if edit_distance(umi1, umi2) <= threshold:\n",
      "TypeError: expected bytes, str found\n"
     ]
    },
    {
     "ename": "TypeError",
     "evalue": "expected bytes, str found",
     "output_type": "error",
     "traceback": [
      "\u001b[0;31m---------------------------------------------------------------------------\u001b[0m",
      "\u001b[0;31mTypeError\u001b[0m                                 Traceback (most recent call last)",
      "\u001b[0;31mTypeError\u001b[0m: expected bytes, str found"
     ]
    },
    {
     "name": "stderr",
     "output_type": "stream",
     "text": [
      "Exception ignored in: 'umi_tools._dedup_umi.edit_distance'\n",
      "Traceback (most recent call last):\n",
      "  File \"/fh/fast/bloom_j/software/miniconda3/envs/barcoded_flu_pdmH1N1/lib/python3.8/site-packages/umi_tools/network.py\", line 199, in _get_adj_list_directional\n",
      "    if edit_distance(umi1, umi2) <= threshold:\n",
      "TypeError: expected bytes, str found\n"
     ]
    },
    {
     "ename": "TypeError",
     "evalue": "expected bytes, str found",
     "output_type": "error",
     "traceback": [
      "\u001b[0;31m---------------------------------------------------------------------------\u001b[0m",
      "\u001b[0;31mTypeError\u001b[0m                                 Traceback (most recent call last)",
      "\u001b[0;31mTypeError\u001b[0m: expected bytes, str found"
     ]
    },
    {
     "name": "stderr",
     "output_type": "stream",
     "text": [
      "Exception ignored in: 'umi_tools._dedup_umi.edit_distance'\n",
      "Traceback (most recent call last):\n",
      "  File \"/fh/fast/bloom_j/software/miniconda3/envs/barcoded_flu_pdmH1N1/lib/python3.8/site-packages/umi_tools/network.py\", line 199, in _get_adj_list_directional\n",
      "    if edit_distance(umi1, umi2) <= threshold:\n",
      "TypeError: expected bytes, str found\n"
     ]
    },
    {
     "ename": "TypeError",
     "evalue": "expected bytes, str found",
     "output_type": "error",
     "traceback": [
      "\u001b[0;31m---------------------------------------------------------------------------\u001b[0m",
      "\u001b[0;31mTypeError\u001b[0m                                 Traceback (most recent call last)",
      "\u001b[0;31mTypeError\u001b[0m: expected bytes, str found"
     ]
    },
    {
     "name": "stderr",
     "output_type": "stream",
     "text": [
      "Exception ignored in: 'umi_tools._dedup_umi.edit_distance'\n",
      "Traceback (most recent call last):\n",
      "  File \"/fh/fast/bloom_j/software/miniconda3/envs/barcoded_flu_pdmH1N1/lib/python3.8/site-packages/umi_tools/network.py\", line 199, in _get_adj_list_directional\n",
      "    if edit_distance(umi1, umi2) <= threshold:\n",
      "TypeError: expected bytes, str found\n"
     ]
    },
    {
     "ename": "TypeError",
     "evalue": "expected bytes, str found",
     "output_type": "error",
     "traceback": [
      "\u001b[0;31m---------------------------------------------------------------------------\u001b[0m",
      "\u001b[0;31mTypeError\u001b[0m                                 Traceback (most recent call last)",
      "\u001b[0;31mTypeError\u001b[0m: expected bytes, str found"
     ]
    },
    {
     "name": "stderr",
     "output_type": "stream",
     "text": [
      "Exception ignored in: 'umi_tools._dedup_umi.edit_distance'\n",
      "Traceback (most recent call last):\n",
      "  File \"/fh/fast/bloom_j/software/miniconda3/envs/barcoded_flu_pdmH1N1/lib/python3.8/site-packages/umi_tools/network.py\", line 199, in _get_adj_list_directional\n",
      "    if edit_distance(umi1, umi2) <= threshold:\n",
      "TypeError: expected bytes, str found\n"
     ]
    },
    {
     "ename": "TypeError",
     "evalue": "expected bytes, str found",
     "output_type": "error",
     "traceback": [
      "\u001b[0;31m---------------------------------------------------------------------------\u001b[0m",
      "\u001b[0;31mTypeError\u001b[0m                                 Traceback (most recent call last)",
      "\u001b[0;31mTypeError\u001b[0m: expected bytes, str found"
     ]
    },
    {
     "name": "stderr",
     "output_type": "stream",
     "text": [
      "Exception ignored in: 'umi_tools._dedup_umi.edit_distance'\n",
      "Traceback (most recent call last):\n",
      "  File \"/fh/fast/bloom_j/software/miniconda3/envs/barcoded_flu_pdmH1N1/lib/python3.8/site-packages/umi_tools/network.py\", line 199, in _get_adj_list_directional\n",
      "    if edit_distance(umi1, umi2) <= threshold:\n",
      "TypeError: expected bytes, str found\n"
     ]
    },
    {
     "ename": "TypeError",
     "evalue": "expected bytes, str found",
     "output_type": "error",
     "traceback": [
      "\u001b[0;31m---------------------------------------------------------------------------\u001b[0m",
      "\u001b[0;31mTypeError\u001b[0m                                 Traceback (most recent call last)",
      "\u001b[0;31mTypeError\u001b[0m: expected bytes, str found"
     ]
    },
    {
     "name": "stderr",
     "output_type": "stream",
     "text": [
      "Exception ignored in: 'umi_tools._dedup_umi.edit_distance'\n",
      "Traceback (most recent call last):\n",
      "  File \"/fh/fast/bloom_j/software/miniconda3/envs/barcoded_flu_pdmH1N1/lib/python3.8/site-packages/umi_tools/network.py\", line 199, in _get_adj_list_directional\n",
      "    if edit_distance(umi1, umi2) <= threshold:\n",
      "TypeError: expected bytes, str found\n"
     ]
    },
    {
     "ename": "TypeError",
     "evalue": "expected bytes, str found",
     "output_type": "error",
     "traceback": [
      "\u001b[0;31m---------------------------------------------------------------------------\u001b[0m",
      "\u001b[0;31mTypeError\u001b[0m                                 Traceback (most recent call last)",
      "\u001b[0;31mTypeError\u001b[0m: expected bytes, str found"
     ]
    },
    {
     "name": "stderr",
     "output_type": "stream",
     "text": [
      "Exception ignored in: 'umi_tools._dedup_umi.edit_distance'\n",
      "Traceback (most recent call last):\n",
      "  File \"/fh/fast/bloom_j/software/miniconda3/envs/barcoded_flu_pdmH1N1/lib/python3.8/site-packages/umi_tools/network.py\", line 199, in _get_adj_list_directional\n",
      "    if edit_distance(umi1, umi2) <= threshold:\n",
      "TypeError: expected bytes, str found\n"
     ]
    },
    {
     "ename": "TypeError",
     "evalue": "expected bytes, str found",
     "output_type": "error",
     "traceback": [
      "\u001b[0;31m---------------------------------------------------------------------------\u001b[0m",
      "\u001b[0;31mTypeError\u001b[0m                                 Traceback (most recent call last)",
      "\u001b[0;31mTypeError\u001b[0m: expected bytes, str found"
     ]
    },
    {
     "name": "stderr",
     "output_type": "stream",
     "text": [
      "Exception ignored in: 'umi_tools._dedup_umi.edit_distance'\n",
      "Traceback (most recent call last):\n",
      "  File \"/fh/fast/bloom_j/software/miniconda3/envs/barcoded_flu_pdmH1N1/lib/python3.8/site-packages/umi_tools/network.py\", line 199, in _get_adj_list_directional\n",
      "    if edit_distance(umi1, umi2) <= threshold:\n",
      "TypeError: expected bytes, str found\n"
     ]
    },
    {
     "ename": "TypeError",
     "evalue": "expected bytes, str found",
     "output_type": "error",
     "traceback": [
      "\u001b[0;31m---------------------------------------------------------------------------\u001b[0m",
      "\u001b[0;31mTypeError\u001b[0m                                 Traceback (most recent call last)",
      "\u001b[0;31mTypeError\u001b[0m: expected bytes, str found"
     ]
    },
    {
     "name": "stderr",
     "output_type": "stream",
     "text": [
      "Exception ignored in: 'umi_tools._dedup_umi.edit_distance'\n",
      "Traceback (most recent call last):\n",
      "  File \"/fh/fast/bloom_j/software/miniconda3/envs/barcoded_flu_pdmH1N1/lib/python3.8/site-packages/umi_tools/network.py\", line 199, in _get_adj_list_directional\n",
      "    if edit_distance(umi1, umi2) <= threshold:\n",
      "TypeError: expected bytes, str found\n"
     ]
    },
    {
     "ename": "TypeError",
     "evalue": "expected bytes, str found",
     "output_type": "error",
     "traceback": [
      "\u001b[0;31m---------------------------------------------------------------------------\u001b[0m",
      "\u001b[0;31mTypeError\u001b[0m                                 Traceback (most recent call last)",
      "\u001b[0;31mTypeError\u001b[0m: expected bytes, str found"
     ]
    },
    {
     "name": "stderr",
     "output_type": "stream",
     "text": [
      "Exception ignored in: 'umi_tools._dedup_umi.edit_distance'\n",
      "Traceback (most recent call last):\n",
      "  File \"/fh/fast/bloom_j/software/miniconda3/envs/barcoded_flu_pdmH1N1/lib/python3.8/site-packages/umi_tools/network.py\", line 199, in _get_adj_list_directional\n",
      "    if edit_distance(umi1, umi2) <= threshold:\n",
      "TypeError: expected bytes, str found\n"
     ]
    },
    {
     "ename": "TypeError",
     "evalue": "expected bytes, str found",
     "output_type": "error",
     "traceback": [
      "\u001b[0;31m---------------------------------------------------------------------------\u001b[0m",
      "\u001b[0;31mTypeError\u001b[0m                                 Traceback (most recent call last)",
      "\u001b[0;31mTypeError\u001b[0m: expected bytes, str found"
     ]
    },
    {
     "name": "stderr",
     "output_type": "stream",
     "text": [
      "Exception ignored in: 'umi_tools._dedup_umi.edit_distance'\n",
      "Traceback (most recent call last):\n",
      "  File \"/fh/fast/bloom_j/software/miniconda3/envs/barcoded_flu_pdmH1N1/lib/python3.8/site-packages/umi_tools/network.py\", line 199, in _get_adj_list_directional\n",
      "    if edit_distance(umi1, umi2) <= threshold:\n",
      "TypeError: expected bytes, str found\n"
     ]
    },
    {
     "ename": "TypeError",
     "evalue": "expected bytes, str found",
     "output_type": "error",
     "traceback": [
      "\u001b[0;31m---------------------------------------------------------------------------\u001b[0m",
      "\u001b[0;31mTypeError\u001b[0m                                 Traceback (most recent call last)",
      "\u001b[0;31mTypeError\u001b[0m: expected bytes, str found"
     ]
    },
    {
     "name": "stderr",
     "output_type": "stream",
     "text": [
      "Exception ignored in: 'umi_tools._dedup_umi.edit_distance'\n",
      "Traceback (most recent call last):\n",
      "  File \"/fh/fast/bloom_j/software/miniconda3/envs/barcoded_flu_pdmH1N1/lib/python3.8/site-packages/umi_tools/network.py\", line 199, in _get_adj_list_directional\n",
      "    if edit_distance(umi1, umi2) <= threshold:\n",
      "TypeError: expected bytes, str found\n"
     ]
    },
    {
     "ename": "TypeError",
     "evalue": "expected bytes, str found",
     "output_type": "error",
     "traceback": [
      "\u001b[0;31m---------------------------------------------------------------------------\u001b[0m",
      "\u001b[0;31mTypeError\u001b[0m                                 Traceback (most recent call last)",
      "\u001b[0;31mTypeError\u001b[0m: expected bytes, str found"
     ]
    },
    {
     "name": "stderr",
     "output_type": "stream",
     "text": [
      "Exception ignored in: 'umi_tools._dedup_umi.edit_distance'\n",
      "Traceback (most recent call last):\n",
      "  File \"/fh/fast/bloom_j/software/miniconda3/envs/barcoded_flu_pdmH1N1/lib/python3.8/site-packages/umi_tools/network.py\", line 199, in _get_adj_list_directional\n",
      "    if edit_distance(umi1, umi2) <= threshold:\n",
      "TypeError: expected bytes, str found\n"
     ]
    },
    {
     "ename": "TypeError",
     "evalue": "expected bytes, str found",
     "output_type": "error",
     "traceback": [
      "\u001b[0;31m---------------------------------------------------------------------------\u001b[0m",
      "\u001b[0;31mTypeError\u001b[0m                                 Traceback (most recent call last)",
      "\u001b[0;31mTypeError\u001b[0m: expected bytes, str found"
     ]
    },
    {
     "name": "stderr",
     "output_type": "stream",
     "text": [
      "Exception ignored in: 'umi_tools._dedup_umi.edit_distance'\n",
      "Traceback (most recent call last):\n",
      "  File \"/fh/fast/bloom_j/software/miniconda3/envs/barcoded_flu_pdmH1N1/lib/python3.8/site-packages/umi_tools/network.py\", line 199, in _get_adj_list_directional\n",
      "    if edit_distance(umi1, umi2) <= threshold:\n",
      "TypeError: expected bytes, str found\n"
     ]
    },
    {
     "ename": "TypeError",
     "evalue": "expected bytes, str found",
     "output_type": "error",
     "traceback": [
      "\u001b[0;31m---------------------------------------------------------------------------\u001b[0m",
      "\u001b[0;31mTypeError\u001b[0m                                 Traceback (most recent call last)",
      "\u001b[0;31mTypeError\u001b[0m: expected bytes, str found"
     ]
    },
    {
     "name": "stderr",
     "output_type": "stream",
     "text": [
      "Exception ignored in: 'umi_tools._dedup_umi.edit_distance'\n",
      "Traceback (most recent call last):\n",
      "  File \"/fh/fast/bloom_j/software/miniconda3/envs/barcoded_flu_pdmH1N1/lib/python3.8/site-packages/umi_tools/network.py\", line 199, in _get_adj_list_directional\n",
      "    if edit_distance(umi1, umi2) <= threshold:\n",
      "TypeError: expected bytes, str found\n"
     ]
    },
    {
     "ename": "TypeError",
     "evalue": "expected bytes, str found",
     "output_type": "error",
     "traceback": [
      "\u001b[0;31m---------------------------------------------------------------------------\u001b[0m",
      "\u001b[0;31mTypeError\u001b[0m                                 Traceback (most recent call last)",
      "\u001b[0;31mTypeError\u001b[0m: expected bytes, str found"
     ]
    },
    {
     "name": "stderr",
     "output_type": "stream",
     "text": [
      "Exception ignored in: 'umi_tools._dedup_umi.edit_distance'\n",
      "Traceback (most recent call last):\n",
      "  File \"/fh/fast/bloom_j/software/miniconda3/envs/barcoded_flu_pdmH1N1/lib/python3.8/site-packages/umi_tools/network.py\", line 199, in _get_adj_list_directional\n",
      "    if edit_distance(umi1, umi2) <= threshold:\n",
      "TypeError: expected bytes, str found\n"
     ]
    },
    {
     "ename": "TypeError",
     "evalue": "expected bytes, str found",
     "output_type": "error",
     "traceback": [
      "\u001b[0;31m---------------------------------------------------------------------------\u001b[0m",
      "\u001b[0;31mTypeError\u001b[0m                                 Traceback (most recent call last)",
      "\u001b[0;31mTypeError\u001b[0m: expected bytes, str found"
     ]
    },
    {
     "name": "stderr",
     "output_type": "stream",
     "text": [
      "Exception ignored in: 'umi_tools._dedup_umi.edit_distance'\n",
      "Traceback (most recent call last):\n",
      "  File \"/fh/fast/bloom_j/software/miniconda3/envs/barcoded_flu_pdmH1N1/lib/python3.8/site-packages/umi_tools/network.py\", line 199, in _get_adj_list_directional\n",
      "    if edit_distance(umi1, umi2) <= threshold:\n",
      "TypeError: expected bytes, str found\n"
     ]
    },
    {
     "ename": "TypeError",
     "evalue": "expected bytes, str found",
     "output_type": "error",
     "traceback": [
      "\u001b[0;31m---------------------------------------------------------------------------\u001b[0m",
      "\u001b[0;31mTypeError\u001b[0m                                 Traceback (most recent call last)",
      "\u001b[0;31mTypeError\u001b[0m: expected bytes, str found"
     ]
    },
    {
     "name": "stderr",
     "output_type": "stream",
     "text": [
      "Exception ignored in: 'umi_tools._dedup_umi.edit_distance'\n",
      "Traceback (most recent call last):\n",
      "  File \"/fh/fast/bloom_j/software/miniconda3/envs/barcoded_flu_pdmH1N1/lib/python3.8/site-packages/umi_tools/network.py\", line 199, in _get_adj_list_directional\n",
      "    if edit_distance(umi1, umi2) <= threshold:\n",
      "TypeError: expected bytes, str found\n"
     ]
    },
    {
     "ename": "TypeError",
     "evalue": "expected bytes, str found",
     "output_type": "error",
     "traceback": [
      "\u001b[0;31m---------------------------------------------------------------------------\u001b[0m",
      "\u001b[0;31mTypeError\u001b[0m                                 Traceback (most recent call last)",
      "\u001b[0;31mTypeError\u001b[0m: expected bytes, str found"
     ]
    },
    {
     "name": "stderr",
     "output_type": "stream",
     "text": [
      "Exception ignored in: 'umi_tools._dedup_umi.edit_distance'\n",
      "Traceback (most recent call last):\n",
      "  File \"/fh/fast/bloom_j/software/miniconda3/envs/barcoded_flu_pdmH1N1/lib/python3.8/site-packages/umi_tools/network.py\", line 199, in _get_adj_list_directional\n",
      "    if edit_distance(umi1, umi2) <= threshold:\n",
      "TypeError: expected bytes, str found\n"
     ]
    },
    {
     "ename": "TypeError",
     "evalue": "expected bytes, str found",
     "output_type": "error",
     "traceback": [
      "\u001b[0;31m---------------------------------------------------------------------------\u001b[0m",
      "\u001b[0;31mTypeError\u001b[0m                                 Traceback (most recent call last)",
      "\u001b[0;31mTypeError\u001b[0m: expected bytes, str found"
     ]
    },
    {
     "name": "stderr",
     "output_type": "stream",
     "text": [
      "Exception ignored in: 'umi_tools._dedup_umi.edit_distance'\n",
      "Traceback (most recent call last):\n",
      "  File \"/fh/fast/bloom_j/software/miniconda3/envs/barcoded_flu_pdmH1N1/lib/python3.8/site-packages/umi_tools/network.py\", line 199, in _get_adj_list_directional\n",
      "    if edit_distance(umi1, umi2) <= threshold:\n",
      "TypeError: expected bytes, str found\n"
     ]
    },
    {
     "ename": "TypeError",
     "evalue": "expected bytes, str found",
     "output_type": "error",
     "traceback": [
      "\u001b[0;31m---------------------------------------------------------------------------\u001b[0m",
      "\u001b[0;31mTypeError\u001b[0m                                 Traceback (most recent call last)",
      "\u001b[0;31mTypeError\u001b[0m: expected bytes, str found"
     ]
    },
    {
     "name": "stderr",
     "output_type": "stream",
     "text": [
      "Exception ignored in: 'umi_tools._dedup_umi.edit_distance'\n",
      "Traceback (most recent call last):\n",
      "  File \"/fh/fast/bloom_j/software/miniconda3/envs/barcoded_flu_pdmH1N1/lib/python3.8/site-packages/umi_tools/network.py\", line 199, in _get_adj_list_directional\n",
      "    if edit_distance(umi1, umi2) <= threshold:\n",
      "TypeError: expected bytes, str found\n"
     ]
    },
    {
     "ename": "TypeError",
     "evalue": "expected bytes, str found",
     "output_type": "error",
     "traceback": [
      "\u001b[0;31m---------------------------------------------------------------------------\u001b[0m",
      "\u001b[0;31mTypeError\u001b[0m                                 Traceback (most recent call last)",
      "\u001b[0;31mTypeError\u001b[0m: expected bytes, str found"
     ]
    },
    {
     "name": "stderr",
     "output_type": "stream",
     "text": [
      "Exception ignored in: 'umi_tools._dedup_umi.edit_distance'\n",
      "Traceback (most recent call last):\n",
      "  File \"/fh/fast/bloom_j/software/miniconda3/envs/barcoded_flu_pdmH1N1/lib/python3.8/site-packages/umi_tools/network.py\", line 199, in _get_adj_list_directional\n",
      "    if edit_distance(umi1, umi2) <= threshold:\n",
      "TypeError: expected bytes, str found\n"
     ]
    },
    {
     "ename": "TypeError",
     "evalue": "expected bytes, str found",
     "output_type": "error",
     "traceback": [
      "\u001b[0;31m---------------------------------------------------------------------------\u001b[0m",
      "\u001b[0;31mTypeError\u001b[0m                                 Traceback (most recent call last)",
      "\u001b[0;31mTypeError\u001b[0m: expected bytes, str found"
     ]
    },
    {
     "name": "stderr",
     "output_type": "stream",
     "text": [
      "Exception ignored in: 'umi_tools._dedup_umi.edit_distance'\n",
      "Traceback (most recent call last):\n",
      "  File \"/fh/fast/bloom_j/software/miniconda3/envs/barcoded_flu_pdmH1N1/lib/python3.8/site-packages/umi_tools/network.py\", line 199, in _get_adj_list_directional\n",
      "    if edit_distance(umi1, umi2) <= threshold:\n",
      "TypeError: expected bytes, str found\n"
     ]
    },
    {
     "ename": "TypeError",
     "evalue": "expected bytes, str found",
     "output_type": "error",
     "traceback": [
      "\u001b[0;31m---------------------------------------------------------------------------\u001b[0m",
      "\u001b[0;31mTypeError\u001b[0m                                 Traceback (most recent call last)",
      "\u001b[0;31mTypeError\u001b[0m: expected bytes, str found"
     ]
    },
    {
     "name": "stderr",
     "output_type": "stream",
     "text": [
      "Exception ignored in: 'umi_tools._dedup_umi.edit_distance'\n",
      "Traceback (most recent call last):\n",
      "  File \"/fh/fast/bloom_j/software/miniconda3/envs/barcoded_flu_pdmH1N1/lib/python3.8/site-packages/umi_tools/network.py\", line 199, in _get_adj_list_directional\n",
      "    if edit_distance(umi1, umi2) <= threshold:\n",
      "TypeError: expected bytes, str found\n"
     ]
    },
    {
     "ename": "TypeError",
     "evalue": "expected bytes, str found",
     "output_type": "error",
     "traceback": [
      "\u001b[0;31m---------------------------------------------------------------------------\u001b[0m",
      "\u001b[0;31mTypeError\u001b[0m                                 Traceback (most recent call last)",
      "\u001b[0;31mTypeError\u001b[0m: expected bytes, str found"
     ]
    },
    {
     "name": "stderr",
     "output_type": "stream",
     "text": [
      "Exception ignored in: 'umi_tools._dedup_umi.edit_distance'\n",
      "Traceback (most recent call last):\n",
      "  File \"/fh/fast/bloom_j/software/miniconda3/envs/barcoded_flu_pdmH1N1/lib/python3.8/site-packages/umi_tools/network.py\", line 199, in _get_adj_list_directional\n",
      "    if edit_distance(umi1, umi2) <= threshold:\n",
      "TypeError: expected bytes, str found\n"
     ]
    },
    {
     "ename": "TypeError",
     "evalue": "expected bytes, str found",
     "output_type": "error",
     "traceback": [
      "\u001b[0;31m---------------------------------------------------------------------------\u001b[0m",
      "\u001b[0;31mTypeError\u001b[0m                                 Traceback (most recent call last)",
      "\u001b[0;31mTypeError\u001b[0m: expected bytes, str found"
     ]
    },
    {
     "name": "stderr",
     "output_type": "stream",
     "text": [
      "Exception ignored in: 'umi_tools._dedup_umi.edit_distance'\n",
      "Traceback (most recent call last):\n",
      "  File \"/fh/fast/bloom_j/software/miniconda3/envs/barcoded_flu_pdmH1N1/lib/python3.8/site-packages/umi_tools/network.py\", line 199, in _get_adj_list_directional\n",
      "    if edit_distance(umi1, umi2) <= threshold:\n",
      "TypeError: expected bytes, str found\n"
     ]
    },
    {
     "ename": "TypeError",
     "evalue": "expected bytes, str found",
     "output_type": "error",
     "traceback": [
      "\u001b[0;31m---------------------------------------------------------------------------\u001b[0m",
      "\u001b[0;31mTypeError\u001b[0m                                 Traceback (most recent call last)",
      "\u001b[0;31mTypeError\u001b[0m: expected bytes, str found"
     ]
    },
    {
     "name": "stderr",
     "output_type": "stream",
     "text": [
      "Exception ignored in: 'umi_tools._dedup_umi.edit_distance'\n",
      "Traceback (most recent call last):\n",
      "  File \"/fh/fast/bloom_j/software/miniconda3/envs/barcoded_flu_pdmH1N1/lib/python3.8/site-packages/umi_tools/network.py\", line 199, in _get_adj_list_directional\n",
      "    if edit_distance(umi1, umi2) <= threshold:\n",
      "TypeError: expected bytes, str found\n"
     ]
    },
    {
     "ename": "TypeError",
     "evalue": "expected bytes, str found",
     "output_type": "error",
     "traceback": [
      "\u001b[0;31m---------------------------------------------------------------------------\u001b[0m",
      "\u001b[0;31mTypeError\u001b[0m                                 Traceback (most recent call last)",
      "\u001b[0;31mTypeError\u001b[0m: expected bytes, str found"
     ]
    },
    {
     "name": "stderr",
     "output_type": "stream",
     "text": [
      "Exception ignored in: 'umi_tools._dedup_umi.edit_distance'\n",
      "Traceback (most recent call last):\n",
      "  File \"/fh/fast/bloom_j/software/miniconda3/envs/barcoded_flu_pdmH1N1/lib/python3.8/site-packages/umi_tools/network.py\", line 199, in _get_adj_list_directional\n",
      "    if edit_distance(umi1, umi2) <= threshold:\n",
      "TypeError: expected bytes, str found\n"
     ]
    },
    {
     "ename": "TypeError",
     "evalue": "expected bytes, str found",
     "output_type": "error",
     "traceback": [
      "\u001b[0;31m---------------------------------------------------------------------------\u001b[0m",
      "\u001b[0;31mTypeError\u001b[0m                                 Traceback (most recent call last)",
      "\u001b[0;31mTypeError\u001b[0m: expected bytes, str found"
     ]
    },
    {
     "name": "stderr",
     "output_type": "stream",
     "text": [
      "Exception ignored in: 'umi_tools._dedup_umi.edit_distance'\n",
      "Traceback (most recent call last):\n",
      "  File \"/fh/fast/bloom_j/software/miniconda3/envs/barcoded_flu_pdmH1N1/lib/python3.8/site-packages/umi_tools/network.py\", line 199, in _get_adj_list_directional\n",
      "    if edit_distance(umi1, umi2) <= threshold:\n",
      "TypeError: expected bytes, str found\n"
     ]
    },
    {
     "ename": "TypeError",
     "evalue": "expected bytes, str found",
     "output_type": "error",
     "traceback": [
      "\u001b[0;31m---------------------------------------------------------------------------\u001b[0m",
      "\u001b[0;31mTypeError\u001b[0m                                 Traceback (most recent call last)",
      "\u001b[0;31mTypeError\u001b[0m: expected bytes, str found"
     ]
    },
    {
     "name": "stderr",
     "output_type": "stream",
     "text": [
      "Exception ignored in: 'umi_tools._dedup_umi.edit_distance'\n",
      "Traceback (most recent call last):\n",
      "  File \"/fh/fast/bloom_j/software/miniconda3/envs/barcoded_flu_pdmH1N1/lib/python3.8/site-packages/umi_tools/network.py\", line 199, in _get_adj_list_directional\n",
      "    if edit_distance(umi1, umi2) <= threshold:\n",
      "TypeError: expected bytes, str found\n"
     ]
    },
    {
     "ename": "TypeError",
     "evalue": "expected bytes, str found",
     "output_type": "error",
     "traceback": [
      "\u001b[0;31m---------------------------------------------------------------------------\u001b[0m",
      "\u001b[0;31mTypeError\u001b[0m                                 Traceback (most recent call last)",
      "\u001b[0;31mTypeError\u001b[0m: expected bytes, str found"
     ]
    },
    {
     "name": "stderr",
     "output_type": "stream",
     "text": [
      "Exception ignored in: 'umi_tools._dedup_umi.edit_distance'\n",
      "Traceback (most recent call last):\n",
      "  File \"/fh/fast/bloom_j/software/miniconda3/envs/barcoded_flu_pdmH1N1/lib/python3.8/site-packages/umi_tools/network.py\", line 199, in _get_adj_list_directional\n",
      "    if edit_distance(umi1, umi2) <= threshold:\n",
      "TypeError: expected bytes, str found\n"
     ]
    },
    {
     "ename": "TypeError",
     "evalue": "expected bytes, str found",
     "output_type": "error",
     "traceback": [
      "\u001b[0;31m---------------------------------------------------------------------------\u001b[0m",
      "\u001b[0;31mTypeError\u001b[0m                                 Traceback (most recent call last)",
      "\u001b[0;31mTypeError\u001b[0m: expected bytes, str found"
     ]
    },
    {
     "name": "stderr",
     "output_type": "stream",
     "text": [
      "Exception ignored in: 'umi_tools._dedup_umi.edit_distance'\n",
      "Traceback (most recent call last):\n",
      "  File \"/fh/fast/bloom_j/software/miniconda3/envs/barcoded_flu_pdmH1N1/lib/python3.8/site-packages/umi_tools/network.py\", line 199, in _get_adj_list_directional\n",
      "    if edit_distance(umi1, umi2) <= threshold:\n",
      "TypeError: expected bytes, str found\n"
     ]
    },
    {
     "ename": "TypeError",
     "evalue": "expected bytes, str found",
     "output_type": "error",
     "traceback": [
      "\u001b[0;31m---------------------------------------------------------------------------\u001b[0m",
      "\u001b[0;31mTypeError\u001b[0m                                 Traceback (most recent call last)",
      "\u001b[0;31mTypeError\u001b[0m: expected bytes, str found"
     ]
    },
    {
     "name": "stderr",
     "output_type": "stream",
     "text": [
      "Exception ignored in: 'umi_tools._dedup_umi.edit_distance'\n",
      "Traceback (most recent call last):\n",
      "  File \"/fh/fast/bloom_j/software/miniconda3/envs/barcoded_flu_pdmH1N1/lib/python3.8/site-packages/umi_tools/network.py\", line 199, in _get_adj_list_directional\n",
      "    if edit_distance(umi1, umi2) <= threshold:\n",
      "TypeError: expected bytes, str found\n"
     ]
    },
    {
     "ename": "TypeError",
     "evalue": "expected bytes, str found",
     "output_type": "error",
     "traceback": [
      "\u001b[0;31m---------------------------------------------------------------------------\u001b[0m",
      "\u001b[0;31mTypeError\u001b[0m                                 Traceback (most recent call last)",
      "\u001b[0;31mTypeError\u001b[0m: expected bytes, str found"
     ]
    },
    {
     "name": "stderr",
     "output_type": "stream",
     "text": [
      "Exception ignored in: 'umi_tools._dedup_umi.edit_distance'\n",
      "Traceback (most recent call last):\n",
      "  File \"/fh/fast/bloom_j/software/miniconda3/envs/barcoded_flu_pdmH1N1/lib/python3.8/site-packages/umi_tools/network.py\", line 199, in _get_adj_list_directional\n",
      "    if edit_distance(umi1, umi2) <= threshold:\n",
      "TypeError: expected bytes, str found\n"
     ]
    },
    {
     "ename": "TypeError",
     "evalue": "expected bytes, str found",
     "output_type": "error",
     "traceback": [
      "\u001b[0;31m---------------------------------------------------------------------------\u001b[0m",
      "\u001b[0;31mTypeError\u001b[0m                                 Traceback (most recent call last)",
      "\u001b[0;31mTypeError\u001b[0m: expected bytes, str found"
     ]
    },
    {
     "name": "stderr",
     "output_type": "stream",
     "text": [
      "Exception ignored in: 'umi_tools._dedup_umi.edit_distance'\n",
      "Traceback (most recent call last):\n",
      "  File \"/fh/fast/bloom_j/software/miniconda3/envs/barcoded_flu_pdmH1N1/lib/python3.8/site-packages/umi_tools/network.py\", line 199, in _get_adj_list_directional\n",
      "    if edit_distance(umi1, umi2) <= threshold:\n",
      "TypeError: expected bytes, str found\n"
     ]
    },
    {
     "ename": "TypeError",
     "evalue": "expected bytes, str found",
     "output_type": "error",
     "traceback": [
      "\u001b[0;31m---------------------------------------------------------------------------\u001b[0m",
      "\u001b[0;31mTypeError\u001b[0m                                 Traceback (most recent call last)",
      "\u001b[0;31mTypeError\u001b[0m: expected bytes, str found"
     ]
    },
    {
     "name": "stderr",
     "output_type": "stream",
     "text": [
      "Exception ignored in: 'umi_tools._dedup_umi.edit_distance'\n",
      "Traceback (most recent call last):\n",
      "  File \"/fh/fast/bloom_j/software/miniconda3/envs/barcoded_flu_pdmH1N1/lib/python3.8/site-packages/umi_tools/network.py\", line 199, in _get_adj_list_directional\n",
      "    if edit_distance(umi1, umi2) <= threshold:\n",
      "TypeError: expected bytes, str found\n"
     ]
    },
    {
     "ename": "TypeError",
     "evalue": "expected bytes, str found",
     "output_type": "error",
     "traceback": [
      "\u001b[0;31m---------------------------------------------------------------------------\u001b[0m",
      "\u001b[0;31mTypeError\u001b[0m                                 Traceback (most recent call last)",
      "\u001b[0;31mTypeError\u001b[0m: expected bytes, str found"
     ]
    },
    {
     "name": "stderr",
     "output_type": "stream",
     "text": [
      "Exception ignored in: 'umi_tools._dedup_umi.edit_distance'\n",
      "Traceback (most recent call last):\n",
      "  File \"/fh/fast/bloom_j/software/miniconda3/envs/barcoded_flu_pdmH1N1/lib/python3.8/site-packages/umi_tools/network.py\", line 199, in _get_adj_list_directional\n",
      "    if edit_distance(umi1, umi2) <= threshold:\n",
      "TypeError: expected bytes, str found\n"
     ]
    },
    {
     "ename": "TypeError",
     "evalue": "expected bytes, str found",
     "output_type": "error",
     "traceback": [
      "\u001b[0;31m---------------------------------------------------------------------------\u001b[0m",
      "\u001b[0;31mTypeError\u001b[0m                                 Traceback (most recent call last)",
      "\u001b[0;31mTypeError\u001b[0m: expected bytes, str found"
     ]
    },
    {
     "name": "stderr",
     "output_type": "stream",
     "text": [
      "Exception ignored in: 'umi_tools._dedup_umi.edit_distance'\n",
      "Traceback (most recent call last):\n",
      "  File \"/fh/fast/bloom_j/software/miniconda3/envs/barcoded_flu_pdmH1N1/lib/python3.8/site-packages/umi_tools/network.py\", line 199, in _get_adj_list_directional\n",
      "    if edit_distance(umi1, umi2) <= threshold:\n",
      "TypeError: expected bytes, str found\n"
     ]
    },
    {
     "ename": "TypeError",
     "evalue": "expected bytes, str found",
     "output_type": "error",
     "traceback": [
      "\u001b[0;31m---------------------------------------------------------------------------\u001b[0m",
      "\u001b[0;31mTypeError\u001b[0m                                 Traceback (most recent call last)",
      "\u001b[0;31mTypeError\u001b[0m: expected bytes, str found"
     ]
    },
    {
     "name": "stderr",
     "output_type": "stream",
     "text": [
      "Exception ignored in: 'umi_tools._dedup_umi.edit_distance'\n",
      "Traceback (most recent call last):\n",
      "  File \"/fh/fast/bloom_j/software/miniconda3/envs/barcoded_flu_pdmH1N1/lib/python3.8/site-packages/umi_tools/network.py\", line 199, in _get_adj_list_directional\n",
      "    if edit_distance(umi1, umi2) <= threshold:\n",
      "TypeError: expected bytes, str found\n"
     ]
    },
    {
     "ename": "TypeError",
     "evalue": "expected bytes, str found",
     "output_type": "error",
     "traceback": [
      "\u001b[0;31m---------------------------------------------------------------------------\u001b[0m",
      "\u001b[0;31mTypeError\u001b[0m                                 Traceback (most recent call last)",
      "\u001b[0;31mTypeError\u001b[0m: expected bytes, str found"
     ]
    },
    {
     "name": "stderr",
     "output_type": "stream",
     "text": [
      "Exception ignored in: 'umi_tools._dedup_umi.edit_distance'\n",
      "Traceback (most recent call last):\n",
      "  File \"/fh/fast/bloom_j/software/miniconda3/envs/barcoded_flu_pdmH1N1/lib/python3.8/site-packages/umi_tools/network.py\", line 199, in _get_adj_list_directional\n",
      "    if edit_distance(umi1, umi2) <= threshold:\n",
      "TypeError: expected bytes, str found\n"
     ]
    },
    {
     "ename": "TypeError",
     "evalue": "expected bytes, str found",
     "output_type": "error",
     "traceback": [
      "\u001b[0;31m---------------------------------------------------------------------------\u001b[0m",
      "\u001b[0;31mTypeError\u001b[0m                                 Traceback (most recent call last)",
      "\u001b[0;31mTypeError\u001b[0m: expected bytes, str found"
     ]
    },
    {
     "name": "stderr",
     "output_type": "stream",
     "text": [
      "Exception ignored in: 'umi_tools._dedup_umi.edit_distance'\n",
      "Traceback (most recent call last):\n",
      "  File \"/fh/fast/bloom_j/software/miniconda3/envs/barcoded_flu_pdmH1N1/lib/python3.8/site-packages/umi_tools/network.py\", line 199, in _get_adj_list_directional\n",
      "    if edit_distance(umi1, umi2) <= threshold:\n",
      "TypeError: expected bytes, str found\n"
     ]
    },
    {
     "ename": "TypeError",
     "evalue": "expected bytes, str found",
     "output_type": "error",
     "traceback": [
      "\u001b[0;31m---------------------------------------------------------------------------\u001b[0m",
      "\u001b[0;31mTypeError\u001b[0m                                 Traceback (most recent call last)",
      "\u001b[0;31mTypeError\u001b[0m: expected bytes, str found"
     ]
    },
    {
     "name": "stderr",
     "output_type": "stream",
     "text": [
      "Exception ignored in: 'umi_tools._dedup_umi.edit_distance'\n",
      "Traceback (most recent call last):\n",
      "  File \"/fh/fast/bloom_j/software/miniconda3/envs/barcoded_flu_pdmH1N1/lib/python3.8/site-packages/umi_tools/network.py\", line 199, in _get_adj_list_directional\n",
      "    if edit_distance(umi1, umi2) <= threshold:\n",
      "TypeError: expected bytes, str found\n"
     ]
    },
    {
     "ename": "TypeError",
     "evalue": "expected bytes, str found",
     "output_type": "error",
     "traceback": [
      "\u001b[0;31m---------------------------------------------------------------------------\u001b[0m",
      "\u001b[0;31mTypeError\u001b[0m                                 Traceback (most recent call last)",
      "\u001b[0;31mTypeError\u001b[0m: expected bytes, str found"
     ]
    },
    {
     "name": "stderr",
     "output_type": "stream",
     "text": [
      "Exception ignored in: 'umi_tools._dedup_umi.edit_distance'\n",
      "Traceback (most recent call last):\n",
      "  File \"/fh/fast/bloom_j/software/miniconda3/envs/barcoded_flu_pdmH1N1/lib/python3.8/site-packages/umi_tools/network.py\", line 199, in _get_adj_list_directional\n",
      "    if edit_distance(umi1, umi2) <= threshold:\n",
      "TypeError: expected bytes, str found\n"
     ]
    },
    {
     "ename": "TypeError",
     "evalue": "expected bytes, str found",
     "output_type": "error",
     "traceback": [
      "\u001b[0;31m---------------------------------------------------------------------------\u001b[0m",
      "\u001b[0;31mTypeError\u001b[0m                                 Traceback (most recent call last)",
      "\u001b[0;31mTypeError\u001b[0m: expected bytes, str found"
     ]
    },
    {
     "name": "stderr",
     "output_type": "stream",
     "text": [
      "Exception ignored in: 'umi_tools._dedup_umi.edit_distance'\n",
      "Traceback (most recent call last):\n",
      "  File \"/fh/fast/bloom_j/software/miniconda3/envs/barcoded_flu_pdmH1N1/lib/python3.8/site-packages/umi_tools/network.py\", line 199, in _get_adj_list_directional\n",
      "    if edit_distance(umi1, umi2) <= threshold:\n",
      "TypeError: expected bytes, str found\n"
     ]
    },
    {
     "name": "stdout",
     "output_type": "stream",
     "text": [
      "[['AAAAAACGAATGGATT', 'AAAAACCTGAACAATC', 'AAAAAATCGGTAGTGG', 'AAAAACCAATCCCCCA', 'AAAAACCAAATTATTT', 'AAAAAACGAATGGATC', 'AAAAAACGAAGGGATT', 'AAAAAATCGGTAGTAA', 'AAAAAATCGGTAGAGG', 'AAAAAATATTCATACG']]\n",
      "{'AAAAAACGAAGGGATT': 7.869665743817199e-07, 'AAAAAACGAATGGATC': 8.755248771638597e-07, 'AAAAAACGAATGGATT': 0.00033816405663403715, 'AAAAAATATTCATACG': 7.869665743817199e-07, 'AAAAAATCGGTAGAGG': 7.869665743817199e-07, 'AAAAAATCGGTAGTAA': 7.869665743817199e-07, 'AAAAAATCGGTAGTGG': 0.0002460386766780882, 'AAAAACCAAATTATTT': 5.85313758645663e-05, 'AAAAACCAATCCCCCA': 9.124985507878503e-05, 'AAAAACCTGAACAATC': 0.0002941422541688128}\n"
     ]
    },
    {
     "ename": "TypeError",
     "evalue": "expected bytes, str found",
     "output_type": "error",
     "traceback": [
      "\u001b[0;31m---------------------------------------------------------------------------\u001b[0m",
      "\u001b[0;31mTypeError\u001b[0m                                 Traceback (most recent call last)",
      "\u001b[0;31mTypeError\u001b[0m: expected bytes, str found"
     ]
    },
    {
     "name": "stderr",
     "output_type": "stream",
     "text": [
      "Exception ignored in: 'umi_tools._dedup_umi.edit_distance'\n",
      "Traceback (most recent call last):\n",
      "  File \"/fh/fast/bloom_j/software/miniconda3/envs/barcoded_flu_pdmH1N1/lib/python3.8/site-packages/umi_tools/network.py\", line 199, in _get_adj_list_directional\n",
      "    if edit_distance(umi1, umi2) <= threshold:\n",
      "TypeError: expected bytes, str found\n"
     ]
    },
    {
     "ename": "TypeError",
     "evalue": "expected bytes, str found",
     "output_type": "error",
     "traceback": [
      "\u001b[0;31m---------------------------------------------------------------------------\u001b[0m",
      "\u001b[0;31mTypeError\u001b[0m                                 Traceback (most recent call last)",
      "\u001b[0;31mTypeError\u001b[0m: expected bytes, str found"
     ]
    },
    {
     "name": "stderr",
     "output_type": "stream",
     "text": [
      "Exception ignored in: 'umi_tools._dedup_umi.edit_distance'\n",
      "Traceback (most recent call last):\n",
      "  File \"/fh/fast/bloom_j/software/miniconda3/envs/barcoded_flu_pdmH1N1/lib/python3.8/site-packages/umi_tools/network.py\", line 199, in _get_adj_list_directional\n",
      "    if edit_distance(umi1, umi2) <= threshold:\n",
      "TypeError: expected bytes, str found\n"
     ]
    },
    {
     "ename": "TypeError",
     "evalue": "expected bytes, str found",
     "output_type": "error",
     "traceback": [
      "\u001b[0;31m---------------------------------------------------------------------------\u001b[0m",
      "\u001b[0;31mTypeError\u001b[0m                                 Traceback (most recent call last)",
      "\u001b[0;31mTypeError\u001b[0m: expected bytes, str found"
     ]
    },
    {
     "name": "stderr",
     "output_type": "stream",
     "text": [
      "Exception ignored in: 'umi_tools._dedup_umi.edit_distance'\n",
      "Traceback (most recent call last):\n",
      "  File \"/fh/fast/bloom_j/software/miniconda3/envs/barcoded_flu_pdmH1N1/lib/python3.8/site-packages/umi_tools/network.py\", line 199, in _get_adj_list_directional\n",
      "    if edit_distance(umi1, umi2) <= threshold:\n",
      "TypeError: expected bytes, str found\n"
     ]
    },
    {
     "ename": "TypeError",
     "evalue": "expected bytes, str found",
     "output_type": "error",
     "traceback": [
      "\u001b[0;31m---------------------------------------------------------------------------\u001b[0m",
      "\u001b[0;31mTypeError\u001b[0m                                 Traceback (most recent call last)",
      "\u001b[0;31mTypeError\u001b[0m: expected bytes, str found"
     ]
    },
    {
     "name": "stderr",
     "output_type": "stream",
     "text": [
      "Exception ignored in: 'umi_tools._dedup_umi.edit_distance'\n",
      "Traceback (most recent call last):\n",
      "  File \"/fh/fast/bloom_j/software/miniconda3/envs/barcoded_flu_pdmH1N1/lib/python3.8/site-packages/umi_tools/network.py\", line 199, in _get_adj_list_directional\n",
      "    if edit_distance(umi1, umi2) <= threshold:\n",
      "TypeError: expected bytes, str found\n"
     ]
    },
    {
     "ename": "TypeError",
     "evalue": "expected bytes, str found",
     "output_type": "error",
     "traceback": [
      "\u001b[0;31m---------------------------------------------------------------------------\u001b[0m",
      "\u001b[0;31mTypeError\u001b[0m                                 Traceback (most recent call last)",
      "\u001b[0;31mTypeError\u001b[0m: expected bytes, str found"
     ]
    },
    {
     "name": "stderr",
     "output_type": "stream",
     "text": [
      "Exception ignored in: 'umi_tools._dedup_umi.edit_distance'\n",
      "Traceback (most recent call last):\n",
      "  File \"/fh/fast/bloom_j/software/miniconda3/envs/barcoded_flu_pdmH1N1/lib/python3.8/site-packages/umi_tools/network.py\", line 199, in _get_adj_list_directional\n",
      "    if edit_distance(umi1, umi2) <= threshold:\n",
      "TypeError: expected bytes, str found\n"
     ]
    },
    {
     "ename": "TypeError",
     "evalue": "expected bytes, str found",
     "output_type": "error",
     "traceback": [
      "\u001b[0;31m---------------------------------------------------------------------------\u001b[0m",
      "\u001b[0;31mTypeError\u001b[0m                                 Traceback (most recent call last)",
      "\u001b[0;31mTypeError\u001b[0m: expected bytes, str found"
     ]
    },
    {
     "name": "stderr",
     "output_type": "stream",
     "text": [
      "Exception ignored in: 'umi_tools._dedup_umi.edit_distance'\n",
      "Traceback (most recent call last):\n",
      "  File \"/fh/fast/bloom_j/software/miniconda3/envs/barcoded_flu_pdmH1N1/lib/python3.8/site-packages/umi_tools/network.py\", line 199, in _get_adj_list_directional\n",
      "    if edit_distance(umi1, umi2) <= threshold:\n",
      "TypeError: expected bytes, str found\n"
     ]
    },
    {
     "ename": "TypeError",
     "evalue": "expected bytes, str found",
     "output_type": "error",
     "traceback": [
      "\u001b[0;31m---------------------------------------------------------------------------\u001b[0m",
      "\u001b[0;31mTypeError\u001b[0m                                 Traceback (most recent call last)",
      "\u001b[0;31mTypeError\u001b[0m: expected bytes, str found"
     ]
    },
    {
     "name": "stderr",
     "output_type": "stream",
     "text": [
      "Exception ignored in: 'umi_tools._dedup_umi.edit_distance'\n",
      "Traceback (most recent call last):\n",
      "  File \"/fh/fast/bloom_j/software/miniconda3/envs/barcoded_flu_pdmH1N1/lib/python3.8/site-packages/umi_tools/network.py\", line 199, in _get_adj_list_directional\n",
      "    if edit_distance(umi1, umi2) <= threshold:\n",
      "TypeError: expected bytes, str found\n"
     ]
    },
    {
     "ename": "TypeError",
     "evalue": "expected bytes, str found",
     "output_type": "error",
     "traceback": [
      "\u001b[0;31m---------------------------------------------------------------------------\u001b[0m",
      "\u001b[0;31mTypeError\u001b[0m                                 Traceback (most recent call last)",
      "\u001b[0;31mTypeError\u001b[0m: expected bytes, str found"
     ]
    },
    {
     "name": "stderr",
     "output_type": "stream",
     "text": [
      "Exception ignored in: 'umi_tools._dedup_umi.edit_distance'\n",
      "Traceback (most recent call last):\n",
      "  File \"/fh/fast/bloom_j/software/miniconda3/envs/barcoded_flu_pdmH1N1/lib/python3.8/site-packages/umi_tools/network.py\", line 199, in _get_adj_list_directional\n",
      "    if edit_distance(umi1, umi2) <= threshold:\n",
      "TypeError: expected bytes, str found\n"
     ]
    },
    {
     "ename": "TypeError",
     "evalue": "expected bytes, str found",
     "output_type": "error",
     "traceback": [
      "\u001b[0;31m---------------------------------------------------------------------------\u001b[0m",
      "\u001b[0;31mTypeError\u001b[0m                                 Traceback (most recent call last)",
      "\u001b[0;31mTypeError\u001b[0m: expected bytes, str found"
     ]
    },
    {
     "name": "stderr",
     "output_type": "stream",
     "text": [
      "Exception ignored in: 'umi_tools._dedup_umi.edit_distance'\n",
      "Traceback (most recent call last):\n",
      "  File \"/fh/fast/bloom_j/software/miniconda3/envs/barcoded_flu_pdmH1N1/lib/python3.8/site-packages/umi_tools/network.py\", line 199, in _get_adj_list_directional\n",
      "    if edit_distance(umi1, umi2) <= threshold:\n",
      "TypeError: expected bytes, str found\n"
     ]
    },
    {
     "ename": "TypeError",
     "evalue": "expected bytes, str found",
     "output_type": "error",
     "traceback": [
      "\u001b[0;31m---------------------------------------------------------------------------\u001b[0m",
      "\u001b[0;31mTypeError\u001b[0m                                 Traceback (most recent call last)",
      "\u001b[0;31mTypeError\u001b[0m: expected bytes, str found"
     ]
    },
    {
     "name": "stderr",
     "output_type": "stream",
     "text": [
      "Exception ignored in: 'umi_tools._dedup_umi.edit_distance'\n",
      "Traceback (most recent call last):\n",
      "  File \"/fh/fast/bloom_j/software/miniconda3/envs/barcoded_flu_pdmH1N1/lib/python3.8/site-packages/umi_tools/network.py\", line 199, in _get_adj_list_directional\n",
      "    if edit_distance(umi1, umi2) <= threshold:\n",
      "TypeError: expected bytes, str found\n"
     ]
    },
    {
     "ename": "TypeError",
     "evalue": "expected bytes, str found",
     "output_type": "error",
     "traceback": [
      "\u001b[0;31m---------------------------------------------------------------------------\u001b[0m",
      "\u001b[0;31mTypeError\u001b[0m                                 Traceback (most recent call last)",
      "\u001b[0;31mTypeError\u001b[0m: expected bytes, str found"
     ]
    },
    {
     "name": "stderr",
     "output_type": "stream",
     "text": [
      "Exception ignored in: 'umi_tools._dedup_umi.edit_distance'\n",
      "Traceback (most recent call last):\n",
      "  File \"/fh/fast/bloom_j/software/miniconda3/envs/barcoded_flu_pdmH1N1/lib/python3.8/site-packages/umi_tools/network.py\", line 199, in _get_adj_list_directional\n",
      "    if edit_distance(umi1, umi2) <= threshold:\n",
      "TypeError: expected bytes, str found\n"
     ]
    },
    {
     "ename": "TypeError",
     "evalue": "expected bytes, str found",
     "output_type": "error",
     "traceback": [
      "\u001b[0;31m---------------------------------------------------------------------------\u001b[0m",
      "\u001b[0;31mTypeError\u001b[0m                                 Traceback (most recent call last)",
      "\u001b[0;31mTypeError\u001b[0m: expected bytes, str found"
     ]
    },
    {
     "name": "stderr",
     "output_type": "stream",
     "text": [
      "Exception ignored in: 'umi_tools._dedup_umi.edit_distance'\n",
      "Traceback (most recent call last):\n",
      "  File \"/fh/fast/bloom_j/software/miniconda3/envs/barcoded_flu_pdmH1N1/lib/python3.8/site-packages/umi_tools/network.py\", line 199, in _get_adj_list_directional\n",
      "    if edit_distance(umi1, umi2) <= threshold:\n",
      "TypeError: expected bytes, str found\n"
     ]
    },
    {
     "ename": "TypeError",
     "evalue": "expected bytes, str found",
     "output_type": "error",
     "traceback": [
      "\u001b[0;31m---------------------------------------------------------------------------\u001b[0m",
      "\u001b[0;31mTypeError\u001b[0m                                 Traceback (most recent call last)",
      "\u001b[0;31mTypeError\u001b[0m: expected bytes, str found"
     ]
    },
    {
     "name": "stderr",
     "output_type": "stream",
     "text": [
      "Exception ignored in: 'umi_tools._dedup_umi.edit_distance'\n",
      "Traceback (most recent call last):\n",
      "  File \"/fh/fast/bloom_j/software/miniconda3/envs/barcoded_flu_pdmH1N1/lib/python3.8/site-packages/umi_tools/network.py\", line 199, in _get_adj_list_directional\n",
      "    if edit_distance(umi1, umi2) <= threshold:\n",
      "TypeError: expected bytes, str found\n"
     ]
    },
    {
     "ename": "TypeError",
     "evalue": "expected bytes, str found",
     "output_type": "error",
     "traceback": [
      "\u001b[0;31m---------------------------------------------------------------------------\u001b[0m",
      "\u001b[0;31mTypeError\u001b[0m                                 Traceback (most recent call last)",
      "\u001b[0;31mTypeError\u001b[0m: expected bytes, str found"
     ]
    },
    {
     "name": "stderr",
     "output_type": "stream",
     "text": [
      "Exception ignored in: 'umi_tools._dedup_umi.edit_distance'\n",
      "Traceback (most recent call last):\n",
      "  File \"/fh/fast/bloom_j/software/miniconda3/envs/barcoded_flu_pdmH1N1/lib/python3.8/site-packages/umi_tools/network.py\", line 199, in _get_adj_list_directional\n",
      "    if edit_distance(umi1, umi2) <= threshold:\n",
      "TypeError: expected bytes, str found\n"
     ]
    },
    {
     "ename": "TypeError",
     "evalue": "expected bytes, str found",
     "output_type": "error",
     "traceback": [
      "\u001b[0;31m---------------------------------------------------------------------------\u001b[0m",
      "\u001b[0;31mTypeError\u001b[0m                                 Traceback (most recent call last)",
      "\u001b[0;31mTypeError\u001b[0m: expected bytes, str found"
     ]
    },
    {
     "name": "stderr",
     "output_type": "stream",
     "text": [
      "Exception ignored in: 'umi_tools._dedup_umi.edit_distance'\n",
      "Traceback (most recent call last):\n",
      "  File \"/fh/fast/bloom_j/software/miniconda3/envs/barcoded_flu_pdmH1N1/lib/python3.8/site-packages/umi_tools/network.py\", line 199, in _get_adj_list_directional\n",
      "    if edit_distance(umi1, umi2) <= threshold:\n",
      "TypeError: expected bytes, str found\n"
     ]
    },
    {
     "ename": "TypeError",
     "evalue": "expected bytes, str found",
     "output_type": "error",
     "traceback": [
      "\u001b[0;31m---------------------------------------------------------------------------\u001b[0m",
      "\u001b[0;31mTypeError\u001b[0m                                 Traceback (most recent call last)",
      "\u001b[0;31mTypeError\u001b[0m: expected bytes, str found"
     ]
    },
    {
     "name": "stderr",
     "output_type": "stream",
     "text": [
      "Exception ignored in: 'umi_tools._dedup_umi.edit_distance'\n",
      "Traceback (most recent call last):\n",
      "  File \"/fh/fast/bloom_j/software/miniconda3/envs/barcoded_flu_pdmH1N1/lib/python3.8/site-packages/umi_tools/network.py\", line 199, in _get_adj_list_directional\n",
      "    if edit_distance(umi1, umi2) <= threshold:\n",
      "TypeError: expected bytes, str found\n"
     ]
    },
    {
     "ename": "TypeError",
     "evalue": "expected bytes, str found",
     "output_type": "error",
     "traceback": [
      "\u001b[0;31m---------------------------------------------------------------------------\u001b[0m",
      "\u001b[0;31mTypeError\u001b[0m                                 Traceback (most recent call last)",
      "\u001b[0;31mTypeError\u001b[0m: expected bytes, str found"
     ]
    },
    {
     "name": "stderr",
     "output_type": "stream",
     "text": [
      "Exception ignored in: 'umi_tools._dedup_umi.edit_distance'\n",
      "Traceback (most recent call last):\n",
      "  File \"/fh/fast/bloom_j/software/miniconda3/envs/barcoded_flu_pdmH1N1/lib/python3.8/site-packages/umi_tools/network.py\", line 199, in _get_adj_list_directional\n",
      "    if edit_distance(umi1, umi2) <= threshold:\n",
      "TypeError: expected bytes, str found\n"
     ]
    },
    {
     "ename": "TypeError",
     "evalue": "expected bytes, str found",
     "output_type": "error",
     "traceback": [
      "\u001b[0;31m---------------------------------------------------------------------------\u001b[0m",
      "\u001b[0;31mTypeError\u001b[0m                                 Traceback (most recent call last)",
      "\u001b[0;31mTypeError\u001b[0m: expected bytes, str found"
     ]
    },
    {
     "name": "stderr",
     "output_type": "stream",
     "text": [
      "Exception ignored in: 'umi_tools._dedup_umi.edit_distance'\n",
      "Traceback (most recent call last):\n",
      "  File \"/fh/fast/bloom_j/software/miniconda3/envs/barcoded_flu_pdmH1N1/lib/python3.8/site-packages/umi_tools/network.py\", line 199, in _get_adj_list_directional\n",
      "    if edit_distance(umi1, umi2) <= threshold:\n",
      "TypeError: expected bytes, str found\n"
     ]
    },
    {
     "ename": "TypeError",
     "evalue": "expected bytes, str found",
     "output_type": "error",
     "traceback": [
      "\u001b[0;31m---------------------------------------------------------------------------\u001b[0m",
      "\u001b[0;31mTypeError\u001b[0m                                 Traceback (most recent call last)",
      "\u001b[0;31mTypeError\u001b[0m: expected bytes, str found"
     ]
    },
    {
     "name": "stderr",
     "output_type": "stream",
     "text": [
      "Exception ignored in: 'umi_tools._dedup_umi.edit_distance'\n",
      "Traceback (most recent call last):\n",
      "  File \"/fh/fast/bloom_j/software/miniconda3/envs/barcoded_flu_pdmH1N1/lib/python3.8/site-packages/umi_tools/network.py\", line 199, in _get_adj_list_directional\n",
      "    if edit_distance(umi1, umi2) <= threshold:\n",
      "TypeError: expected bytes, str found\n"
     ]
    },
    {
     "ename": "TypeError",
     "evalue": "expected bytes, str found",
     "output_type": "error",
     "traceback": [
      "\u001b[0;31m---------------------------------------------------------------------------\u001b[0m",
      "\u001b[0;31mTypeError\u001b[0m                                 Traceback (most recent call last)",
      "\u001b[0;31mTypeError\u001b[0m: expected bytes, str found"
     ]
    },
    {
     "name": "stderr",
     "output_type": "stream",
     "text": [
      "Exception ignored in: 'umi_tools._dedup_umi.edit_distance'\n",
      "Traceback (most recent call last):\n",
      "  File \"/fh/fast/bloom_j/software/miniconda3/envs/barcoded_flu_pdmH1N1/lib/python3.8/site-packages/umi_tools/network.py\", line 199, in _get_adj_list_directional\n",
      "    if edit_distance(umi1, umi2) <= threshold:\n",
      "TypeError: expected bytes, str found\n"
     ]
    },
    {
     "ename": "TypeError",
     "evalue": "expected bytes, str found",
     "output_type": "error",
     "traceback": [
      "\u001b[0;31m---------------------------------------------------------------------------\u001b[0m",
      "\u001b[0;31mTypeError\u001b[0m                                 Traceback (most recent call last)",
      "\u001b[0;31mTypeError\u001b[0m: expected bytes, str found"
     ]
    },
    {
     "name": "stderr",
     "output_type": "stream",
     "text": [
      "Exception ignored in: 'umi_tools._dedup_umi.edit_distance'\n",
      "Traceback (most recent call last):\n",
      "  File \"/fh/fast/bloom_j/software/miniconda3/envs/barcoded_flu_pdmH1N1/lib/python3.8/site-packages/umi_tools/network.py\", line 199, in _get_adj_list_directional\n",
      "    if edit_distance(umi1, umi2) <= threshold:\n",
      "TypeError: expected bytes, str found\n"
     ]
    },
    {
     "ename": "TypeError",
     "evalue": "expected bytes, str found",
     "output_type": "error",
     "traceback": [
      "\u001b[0;31m---------------------------------------------------------------------------\u001b[0m",
      "\u001b[0;31mTypeError\u001b[0m                                 Traceback (most recent call last)",
      "\u001b[0;31mTypeError\u001b[0m: expected bytes, str found"
     ]
    },
    {
     "name": "stderr",
     "output_type": "stream",
     "text": [
      "Exception ignored in: 'umi_tools._dedup_umi.edit_distance'\n",
      "Traceback (most recent call last):\n",
      "  File \"/fh/fast/bloom_j/software/miniconda3/envs/barcoded_flu_pdmH1N1/lib/python3.8/site-packages/umi_tools/network.py\", line 199, in _get_adj_list_directional\n",
      "    if edit_distance(umi1, umi2) <= threshold:\n",
      "TypeError: expected bytes, str found\n"
     ]
    },
    {
     "ename": "TypeError",
     "evalue": "expected bytes, str found",
     "output_type": "error",
     "traceback": [
      "\u001b[0;31m---------------------------------------------------------------------------\u001b[0m",
      "\u001b[0;31mTypeError\u001b[0m                                 Traceback (most recent call last)",
      "\u001b[0;31mTypeError\u001b[0m: expected bytes, str found"
     ]
    },
    {
     "name": "stderr",
     "output_type": "stream",
     "text": [
      "Exception ignored in: 'umi_tools._dedup_umi.edit_distance'\n",
      "Traceback (most recent call last):\n",
      "  File \"/fh/fast/bloom_j/software/miniconda3/envs/barcoded_flu_pdmH1N1/lib/python3.8/site-packages/umi_tools/network.py\", line 199, in _get_adj_list_directional\n",
      "    if edit_distance(umi1, umi2) <= threshold:\n",
      "TypeError: expected bytes, str found\n"
     ]
    },
    {
     "ename": "TypeError",
     "evalue": "expected bytes, str found",
     "output_type": "error",
     "traceback": [
      "\u001b[0;31m---------------------------------------------------------------------------\u001b[0m",
      "\u001b[0;31mTypeError\u001b[0m                                 Traceback (most recent call last)",
      "\u001b[0;31mTypeError\u001b[0m: expected bytes, str found"
     ]
    },
    {
     "name": "stderr",
     "output_type": "stream",
     "text": [
      "Exception ignored in: 'umi_tools._dedup_umi.edit_distance'\n",
      "Traceback (most recent call last):\n",
      "  File \"/fh/fast/bloom_j/software/miniconda3/envs/barcoded_flu_pdmH1N1/lib/python3.8/site-packages/umi_tools/network.py\", line 199, in _get_adj_list_directional\n",
      "    if edit_distance(umi1, umi2) <= threshold:\n",
      "TypeError: expected bytes, str found\n"
     ]
    },
    {
     "ename": "TypeError",
     "evalue": "expected bytes, str found",
     "output_type": "error",
     "traceback": [
      "\u001b[0;31m---------------------------------------------------------------------------\u001b[0m",
      "\u001b[0;31mTypeError\u001b[0m                                 Traceback (most recent call last)",
      "\u001b[0;31mTypeError\u001b[0m: expected bytes, str found"
     ]
    },
    {
     "name": "stderr",
     "output_type": "stream",
     "text": [
      "Exception ignored in: 'umi_tools._dedup_umi.edit_distance'\n",
      "Traceback (most recent call last):\n",
      "  File \"/fh/fast/bloom_j/software/miniconda3/envs/barcoded_flu_pdmH1N1/lib/python3.8/site-packages/umi_tools/network.py\", line 199, in _get_adj_list_directional\n",
      "    if edit_distance(umi1, umi2) <= threshold:\n",
      "TypeError: expected bytes, str found\n"
     ]
    },
    {
     "ename": "TypeError",
     "evalue": "expected bytes, str found",
     "output_type": "error",
     "traceback": [
      "\u001b[0;31m---------------------------------------------------------------------------\u001b[0m",
      "\u001b[0;31mTypeError\u001b[0m                                 Traceback (most recent call last)",
      "\u001b[0;31mTypeError\u001b[0m: expected bytes, str found"
     ]
    },
    {
     "name": "stderr",
     "output_type": "stream",
     "text": [
      "Exception ignored in: 'umi_tools._dedup_umi.edit_distance'\n",
      "Traceback (most recent call last):\n",
      "  File \"/fh/fast/bloom_j/software/miniconda3/envs/barcoded_flu_pdmH1N1/lib/python3.8/site-packages/umi_tools/network.py\", line 199, in _get_adj_list_directional\n",
      "    if edit_distance(umi1, umi2) <= threshold:\n",
      "TypeError: expected bytes, str found\n"
     ]
    },
    {
     "ename": "TypeError",
     "evalue": "expected bytes, str found",
     "output_type": "error",
     "traceback": [
      "\u001b[0;31m---------------------------------------------------------------------------\u001b[0m",
      "\u001b[0;31mTypeError\u001b[0m                                 Traceback (most recent call last)",
      "\u001b[0;31mTypeError\u001b[0m: expected bytes, str found"
     ]
    },
    {
     "name": "stderr",
     "output_type": "stream",
     "text": [
      "Exception ignored in: 'umi_tools._dedup_umi.edit_distance'\n",
      "Traceback (most recent call last):\n",
      "  File \"/fh/fast/bloom_j/software/miniconda3/envs/barcoded_flu_pdmH1N1/lib/python3.8/site-packages/umi_tools/network.py\", line 199, in _get_adj_list_directional\n",
      "    if edit_distance(umi1, umi2) <= threshold:\n",
      "TypeError: expected bytes, str found\n"
     ]
    },
    {
     "ename": "TypeError",
     "evalue": "expected bytes, str found",
     "output_type": "error",
     "traceback": [
      "\u001b[0;31m---------------------------------------------------------------------------\u001b[0m",
      "\u001b[0;31mTypeError\u001b[0m                                 Traceback (most recent call last)",
      "\u001b[0;31mTypeError\u001b[0m: expected bytes, str found"
     ]
    },
    {
     "name": "stderr",
     "output_type": "stream",
     "text": [
      "Exception ignored in: 'umi_tools._dedup_umi.edit_distance'\n",
      "Traceback (most recent call last):\n",
      "  File \"/fh/fast/bloom_j/software/miniconda3/envs/barcoded_flu_pdmH1N1/lib/python3.8/site-packages/umi_tools/network.py\", line 199, in _get_adj_list_directional\n",
      "    if edit_distance(umi1, umi2) <= threshold:\n",
      "TypeError: expected bytes, str found\n"
     ]
    },
    {
     "ename": "TypeError",
     "evalue": "expected bytes, str found",
     "output_type": "error",
     "traceback": [
      "\u001b[0;31m---------------------------------------------------------------------------\u001b[0m",
      "\u001b[0;31mTypeError\u001b[0m                                 Traceback (most recent call last)",
      "\u001b[0;31mTypeError\u001b[0m: expected bytes, str found"
     ]
    },
    {
     "name": "stderr",
     "output_type": "stream",
     "text": [
      "Exception ignored in: 'umi_tools._dedup_umi.edit_distance'\n",
      "Traceback (most recent call last):\n",
      "  File \"/fh/fast/bloom_j/software/miniconda3/envs/barcoded_flu_pdmH1N1/lib/python3.8/site-packages/umi_tools/network.py\", line 199, in _get_adj_list_directional\n",
      "    if edit_distance(umi1, umi2) <= threshold:\n",
      "TypeError: expected bytes, str found\n"
     ]
    },
    {
     "ename": "TypeError",
     "evalue": "expected bytes, str found",
     "output_type": "error",
     "traceback": [
      "\u001b[0;31m---------------------------------------------------------------------------\u001b[0m",
      "\u001b[0;31mTypeError\u001b[0m                                 Traceback (most recent call last)",
      "\u001b[0;31mTypeError\u001b[0m: expected bytes, str found"
     ]
    },
    {
     "name": "stderr",
     "output_type": "stream",
     "text": [
      "Exception ignored in: 'umi_tools._dedup_umi.edit_distance'\n",
      "Traceback (most recent call last):\n",
      "  File \"/fh/fast/bloom_j/software/miniconda3/envs/barcoded_flu_pdmH1N1/lib/python3.8/site-packages/umi_tools/network.py\", line 199, in _get_adj_list_directional\n",
      "    if edit_distance(umi1, umi2) <= threshold:\n",
      "TypeError: expected bytes, str found\n"
     ]
    },
    {
     "ename": "TypeError",
     "evalue": "expected bytes, str found",
     "output_type": "error",
     "traceback": [
      "\u001b[0;31m---------------------------------------------------------------------------\u001b[0m",
      "\u001b[0;31mTypeError\u001b[0m                                 Traceback (most recent call last)",
      "\u001b[0;31mTypeError\u001b[0m: expected bytes, str found"
     ]
    },
    {
     "name": "stderr",
     "output_type": "stream",
     "text": [
      "Exception ignored in: 'umi_tools._dedup_umi.edit_distance'\n",
      "Traceback (most recent call last):\n",
      "  File \"/fh/fast/bloom_j/software/miniconda3/envs/barcoded_flu_pdmH1N1/lib/python3.8/site-packages/umi_tools/network.py\", line 199, in _get_adj_list_directional\n",
      "    if edit_distance(umi1, umi2) <= threshold:\n",
      "TypeError: expected bytes, str found\n"
     ]
    },
    {
     "ename": "TypeError",
     "evalue": "expected bytes, str found",
     "output_type": "error",
     "traceback": [
      "\u001b[0;31m---------------------------------------------------------------------------\u001b[0m",
      "\u001b[0;31mTypeError\u001b[0m                                 Traceback (most recent call last)",
      "\u001b[0;31mTypeError\u001b[0m: expected bytes, str found"
     ]
    },
    {
     "name": "stderr",
     "output_type": "stream",
     "text": [
      "Exception ignored in: 'umi_tools._dedup_umi.edit_distance'\n",
      "Traceback (most recent call last):\n",
      "  File \"/fh/fast/bloom_j/software/miniconda3/envs/barcoded_flu_pdmH1N1/lib/python3.8/site-packages/umi_tools/network.py\", line 199, in _get_adj_list_directional\n",
      "    if edit_distance(umi1, umi2) <= threshold:\n",
      "TypeError: expected bytes, str found\n"
     ]
    },
    {
     "ename": "TypeError",
     "evalue": "expected bytes, str found",
     "output_type": "error",
     "traceback": [
      "\u001b[0;31m---------------------------------------------------------------------------\u001b[0m",
      "\u001b[0;31mTypeError\u001b[0m                                 Traceback (most recent call last)",
      "\u001b[0;31mTypeError\u001b[0m: expected bytes, str found"
     ]
    },
    {
     "name": "stderr",
     "output_type": "stream",
     "text": [
      "Exception ignored in: 'umi_tools._dedup_umi.edit_distance'\n",
      "Traceback (most recent call last):\n",
      "  File \"/fh/fast/bloom_j/software/miniconda3/envs/barcoded_flu_pdmH1N1/lib/python3.8/site-packages/umi_tools/network.py\", line 199, in _get_adj_list_directional\n",
      "    if edit_distance(umi1, umi2) <= threshold:\n",
      "TypeError: expected bytes, str found\n"
     ]
    },
    {
     "ename": "TypeError",
     "evalue": "expected bytes, str found",
     "output_type": "error",
     "traceback": [
      "\u001b[0;31m---------------------------------------------------------------------------\u001b[0m",
      "\u001b[0;31mTypeError\u001b[0m                                 Traceback (most recent call last)",
      "\u001b[0;31mTypeError\u001b[0m: expected bytes, str found"
     ]
    },
    {
     "name": "stderr",
     "output_type": "stream",
     "text": [
      "Exception ignored in: 'umi_tools._dedup_umi.edit_distance'\n",
      "Traceback (most recent call last):\n",
      "  File \"/fh/fast/bloom_j/software/miniconda3/envs/barcoded_flu_pdmH1N1/lib/python3.8/site-packages/umi_tools/network.py\", line 199, in _get_adj_list_directional\n",
      "    if edit_distance(umi1, umi2) <= threshold:\n",
      "TypeError: expected bytes, str found\n"
     ]
    },
    {
     "ename": "TypeError",
     "evalue": "expected bytes, str found",
     "output_type": "error",
     "traceback": [
      "\u001b[0;31m---------------------------------------------------------------------------\u001b[0m",
      "\u001b[0;31mTypeError\u001b[0m                                 Traceback (most recent call last)",
      "\u001b[0;31mTypeError\u001b[0m: expected bytes, str found"
     ]
    },
    {
     "name": "stderr",
     "output_type": "stream",
     "text": [
      "Exception ignored in: 'umi_tools._dedup_umi.edit_distance'\n",
      "Traceback (most recent call last):\n",
      "  File \"/fh/fast/bloom_j/software/miniconda3/envs/barcoded_flu_pdmH1N1/lib/python3.8/site-packages/umi_tools/network.py\", line 199, in _get_adj_list_directional\n",
      "    if edit_distance(umi1, umi2) <= threshold:\n",
      "TypeError: expected bytes, str found\n"
     ]
    },
    {
     "ename": "TypeError",
     "evalue": "expected bytes, str found",
     "output_type": "error",
     "traceback": [
      "\u001b[0;31m---------------------------------------------------------------------------\u001b[0m",
      "\u001b[0;31mTypeError\u001b[0m                                 Traceback (most recent call last)",
      "\u001b[0;31mTypeError\u001b[0m: expected bytes, str found"
     ]
    },
    {
     "name": "stderr",
     "output_type": "stream",
     "text": [
      "Exception ignored in: 'umi_tools._dedup_umi.edit_distance'\n",
      "Traceback (most recent call last):\n",
      "  File \"/fh/fast/bloom_j/software/miniconda3/envs/barcoded_flu_pdmH1N1/lib/python3.8/site-packages/umi_tools/network.py\", line 199, in _get_adj_list_directional\n",
      "    if edit_distance(umi1, umi2) <= threshold:\n",
      "TypeError: expected bytes, str found\n"
     ]
    },
    {
     "ename": "TypeError",
     "evalue": "expected bytes, str found",
     "output_type": "error",
     "traceback": [
      "\u001b[0;31m---------------------------------------------------------------------------\u001b[0m",
      "\u001b[0;31mTypeError\u001b[0m                                 Traceback (most recent call last)",
      "\u001b[0;31mTypeError\u001b[0m: expected bytes, str found"
     ]
    },
    {
     "name": "stderr",
     "output_type": "stream",
     "text": [
      "Exception ignored in: 'umi_tools._dedup_umi.edit_distance'\n",
      "Traceback (most recent call last):\n",
      "  File \"/fh/fast/bloom_j/software/miniconda3/envs/barcoded_flu_pdmH1N1/lib/python3.8/site-packages/umi_tools/network.py\", line 199, in _get_adj_list_directional\n",
      "    if edit_distance(umi1, umi2) <= threshold:\n",
      "TypeError: expected bytes, str found\n"
     ]
    },
    {
     "ename": "TypeError",
     "evalue": "expected bytes, str found",
     "output_type": "error",
     "traceback": [
      "\u001b[0;31m---------------------------------------------------------------------------\u001b[0m",
      "\u001b[0;31mTypeError\u001b[0m                                 Traceback (most recent call last)",
      "\u001b[0;31mTypeError\u001b[0m: expected bytes, str found"
     ]
    },
    {
     "name": "stderr",
     "output_type": "stream",
     "text": [
      "Exception ignored in: 'umi_tools._dedup_umi.edit_distance'\n",
      "Traceback (most recent call last):\n",
      "  File \"/fh/fast/bloom_j/software/miniconda3/envs/barcoded_flu_pdmH1N1/lib/python3.8/site-packages/umi_tools/network.py\", line 199, in _get_adj_list_directional\n",
      "    if edit_distance(umi1, umi2) <= threshold:\n",
      "TypeError: expected bytes, str found\n"
     ]
    },
    {
     "ename": "TypeError",
     "evalue": "expected bytes, str found",
     "output_type": "error",
     "traceback": [
      "\u001b[0;31m---------------------------------------------------------------------------\u001b[0m",
      "\u001b[0;31mTypeError\u001b[0m                                 Traceback (most recent call last)",
      "\u001b[0;31mTypeError\u001b[0m: expected bytes, str found"
     ]
    },
    {
     "name": "stderr",
     "output_type": "stream",
     "text": [
      "Exception ignored in: 'umi_tools._dedup_umi.edit_distance'\n",
      "Traceback (most recent call last):\n",
      "  File \"/fh/fast/bloom_j/software/miniconda3/envs/barcoded_flu_pdmH1N1/lib/python3.8/site-packages/umi_tools/network.py\", line 199, in _get_adj_list_directional\n",
      "    if edit_distance(umi1, umi2) <= threshold:\n",
      "TypeError: expected bytes, str found\n"
     ]
    },
    {
     "ename": "TypeError",
     "evalue": "expected bytes, str found",
     "output_type": "error",
     "traceback": [
      "\u001b[0;31m---------------------------------------------------------------------------\u001b[0m",
      "\u001b[0;31mTypeError\u001b[0m                                 Traceback (most recent call last)",
      "\u001b[0;31mTypeError\u001b[0m: expected bytes, str found"
     ]
    },
    {
     "name": "stderr",
     "output_type": "stream",
     "text": [
      "Exception ignored in: 'umi_tools._dedup_umi.edit_distance'\n",
      "Traceback (most recent call last):\n",
      "  File \"/fh/fast/bloom_j/software/miniconda3/envs/barcoded_flu_pdmH1N1/lib/python3.8/site-packages/umi_tools/network.py\", line 199, in _get_adj_list_directional\n",
      "    if edit_distance(umi1, umi2) <= threshold:\n",
      "TypeError: expected bytes, str found\n"
     ]
    },
    {
     "ename": "TypeError",
     "evalue": "expected bytes, str found",
     "output_type": "error",
     "traceback": [
      "\u001b[0;31m---------------------------------------------------------------------------\u001b[0m",
      "\u001b[0;31mTypeError\u001b[0m                                 Traceback (most recent call last)",
      "\u001b[0;31mTypeError\u001b[0m: expected bytes, str found"
     ]
    },
    {
     "name": "stderr",
     "output_type": "stream",
     "text": [
      "Exception ignored in: 'umi_tools._dedup_umi.edit_distance'\n",
      "Traceback (most recent call last):\n",
      "  File \"/fh/fast/bloom_j/software/miniconda3/envs/barcoded_flu_pdmH1N1/lib/python3.8/site-packages/umi_tools/network.py\", line 199, in _get_adj_list_directional\n",
      "    if edit_distance(umi1, umi2) <= threshold:\n",
      "TypeError: expected bytes, str found\n"
     ]
    },
    {
     "ename": "TypeError",
     "evalue": "expected bytes, str found",
     "output_type": "error",
     "traceback": [
      "\u001b[0;31m---------------------------------------------------------------------------\u001b[0m",
      "\u001b[0;31mTypeError\u001b[0m                                 Traceback (most recent call last)",
      "\u001b[0;31mTypeError\u001b[0m: expected bytes, str found"
     ]
    },
    {
     "name": "stderr",
     "output_type": "stream",
     "text": [
      "Exception ignored in: 'umi_tools._dedup_umi.edit_distance'\n",
      "Traceback (most recent call last):\n",
      "  File \"/fh/fast/bloom_j/software/miniconda3/envs/barcoded_flu_pdmH1N1/lib/python3.8/site-packages/umi_tools/network.py\", line 199, in _get_adj_list_directional\n",
      "    if edit_distance(umi1, umi2) <= threshold:\n",
      "TypeError: expected bytes, str found\n"
     ]
    },
    {
     "ename": "TypeError",
     "evalue": "expected bytes, str found",
     "output_type": "error",
     "traceback": [
      "\u001b[0;31m---------------------------------------------------------------------------\u001b[0m",
      "\u001b[0;31mTypeError\u001b[0m                                 Traceback (most recent call last)",
      "\u001b[0;31mTypeError\u001b[0m: expected bytes, str found"
     ]
    },
    {
     "name": "stderr",
     "output_type": "stream",
     "text": [
      "Exception ignored in: 'umi_tools._dedup_umi.edit_distance'\n",
      "Traceback (most recent call last):\n",
      "  File \"/fh/fast/bloom_j/software/miniconda3/envs/barcoded_flu_pdmH1N1/lib/python3.8/site-packages/umi_tools/network.py\", line 199, in _get_adj_list_directional\n",
      "    if edit_distance(umi1, umi2) <= threshold:\n",
      "TypeError: expected bytes, str found\n"
     ]
    },
    {
     "ename": "TypeError",
     "evalue": "expected bytes, str found",
     "output_type": "error",
     "traceback": [
      "\u001b[0;31m---------------------------------------------------------------------------\u001b[0m",
      "\u001b[0;31mTypeError\u001b[0m                                 Traceback (most recent call last)",
      "\u001b[0;31mTypeError\u001b[0m: expected bytes, str found"
     ]
    },
    {
     "name": "stderr",
     "output_type": "stream",
     "text": [
      "Exception ignored in: 'umi_tools._dedup_umi.edit_distance'\n",
      "Traceback (most recent call last):\n",
      "  File \"/fh/fast/bloom_j/software/miniconda3/envs/barcoded_flu_pdmH1N1/lib/python3.8/site-packages/umi_tools/network.py\", line 199, in _get_adj_list_directional\n",
      "    if edit_distance(umi1, umi2) <= threshold:\n",
      "TypeError: expected bytes, str found\n"
     ]
    },
    {
     "ename": "TypeError",
     "evalue": "expected bytes, str found",
     "output_type": "error",
     "traceback": [
      "\u001b[0;31m---------------------------------------------------------------------------\u001b[0m",
      "\u001b[0;31mTypeError\u001b[0m                                 Traceback (most recent call last)",
      "\u001b[0;31mTypeError\u001b[0m: expected bytes, str found"
     ]
    },
    {
     "name": "stderr",
     "output_type": "stream",
     "text": [
      "Exception ignored in: 'umi_tools._dedup_umi.edit_distance'\n",
      "Traceback (most recent call last):\n",
      "  File \"/fh/fast/bloom_j/software/miniconda3/envs/barcoded_flu_pdmH1N1/lib/python3.8/site-packages/umi_tools/network.py\", line 199, in _get_adj_list_directional\n",
      "    if edit_distance(umi1, umi2) <= threshold:\n",
      "TypeError: expected bytes, str found\n"
     ]
    },
    {
     "name": "stdout",
     "output_type": "stream",
     "text": [
      "[['AAAAAACGAATGGATT', 'AAAAACCTGAACAATC', 'AAAAAATCGGTAGTGG', 'AAAAACCAATCCCCCA', 'AAAAACCAAATTATTT', 'AAAAAACGAATGGATC', 'AAAAAACGAAGGGATT', 'AAAAAATCGGTAGTAA', 'AAAAAATCGGTAGAGG', 'AAAAAATATTCATACG']]\n",
      "{'AAAAAACGAAGGGATT': 7.869665743817199e-07, 'AAAAAACGAATGGATC': 8.755248771638597e-07, 'AAAAAACGAATGGATT': 0.00033816405663403715, 'AAAAAATATTCATACG': 7.869665743817199e-07, 'AAAAAATCGGTAGAGG': 7.869665743817199e-07, 'AAAAAATCGGTAGTAA': 7.869665743817199e-07, 'AAAAAATCGGTAGTGG': 0.0002460386766780882, 'AAAAACCAAATTATTT': 5.85313758645663e-05, 'AAAAACCAATCCCCCA': 9.124985507878503e-05, 'AAAAACCTGAACAATC': 0.0002941422541688128}\n"
     ]
    },
    {
     "ename": "TypeError",
     "evalue": "expected bytes, str found",
     "output_type": "error",
     "traceback": [
      "\u001b[0;31m---------------------------------------------------------------------------\u001b[0m",
      "\u001b[0;31mTypeError\u001b[0m                                 Traceback (most recent call last)",
      "\u001b[0;31mTypeError\u001b[0m: expected bytes, str found"
     ]
    },
    {
     "name": "stderr",
     "output_type": "stream",
     "text": [
      "Exception ignored in: 'umi_tools._dedup_umi.edit_distance'\n",
      "Traceback (most recent call last):\n",
      "  File \"/fh/fast/bloom_j/software/miniconda3/envs/barcoded_flu_pdmH1N1/lib/python3.8/site-packages/umi_tools/network.py\", line 199, in _get_adj_list_directional\n",
      "    if edit_distance(umi1, umi2) <= threshold:\n",
      "TypeError: expected bytes, str found\n"
     ]
    },
    {
     "ename": "TypeError",
     "evalue": "expected bytes, str found",
     "output_type": "error",
     "traceback": [
      "\u001b[0;31m---------------------------------------------------------------------------\u001b[0m",
      "\u001b[0;31mTypeError\u001b[0m                                 Traceback (most recent call last)",
      "\u001b[0;31mTypeError\u001b[0m: expected bytes, str found"
     ]
    },
    {
     "name": "stderr",
     "output_type": "stream",
     "text": [
      "Exception ignored in: 'umi_tools._dedup_umi.edit_distance'\n",
      "Traceback (most recent call last):\n",
      "  File \"/fh/fast/bloom_j/software/miniconda3/envs/barcoded_flu_pdmH1N1/lib/python3.8/site-packages/umi_tools/network.py\", line 199, in _get_adj_list_directional\n",
      "    if edit_distance(umi1, umi2) <= threshold:\n",
      "TypeError: expected bytes, str found\n"
     ]
    },
    {
     "ename": "TypeError",
     "evalue": "expected bytes, str found",
     "output_type": "error",
     "traceback": [
      "\u001b[0;31m---------------------------------------------------------------------------\u001b[0m",
      "\u001b[0;31mTypeError\u001b[0m                                 Traceback (most recent call last)",
      "\u001b[0;31mTypeError\u001b[0m: expected bytes, str found"
     ]
    },
    {
     "name": "stderr",
     "output_type": "stream",
     "text": [
      "Exception ignored in: 'umi_tools._dedup_umi.edit_distance'\n",
      "Traceback (most recent call last):\n",
      "  File \"/fh/fast/bloom_j/software/miniconda3/envs/barcoded_flu_pdmH1N1/lib/python3.8/site-packages/umi_tools/network.py\", line 199, in _get_adj_list_directional\n",
      "    if edit_distance(umi1, umi2) <= threshold:\n",
      "TypeError: expected bytes, str found\n"
     ]
    },
    {
     "ename": "TypeError",
     "evalue": "expected bytes, str found",
     "output_type": "error",
     "traceback": [
      "\u001b[0;31m---------------------------------------------------------------------------\u001b[0m",
      "\u001b[0;31mTypeError\u001b[0m                                 Traceback (most recent call last)",
      "\u001b[0;31mTypeError\u001b[0m: expected bytes, str found"
     ]
    },
    {
     "name": "stderr",
     "output_type": "stream",
     "text": [
      "Exception ignored in: 'umi_tools._dedup_umi.edit_distance'\n",
      "Traceback (most recent call last):\n",
      "  File \"/fh/fast/bloom_j/software/miniconda3/envs/barcoded_flu_pdmH1N1/lib/python3.8/site-packages/umi_tools/network.py\", line 199, in _get_adj_list_directional\n",
      "    if edit_distance(umi1, umi2) <= threshold:\n",
      "TypeError: expected bytes, str found\n"
     ]
    },
    {
     "ename": "TypeError",
     "evalue": "expected bytes, str found",
     "output_type": "error",
     "traceback": [
      "\u001b[0;31m---------------------------------------------------------------------------\u001b[0m",
      "\u001b[0;31mTypeError\u001b[0m                                 Traceback (most recent call last)",
      "\u001b[0;31mTypeError\u001b[0m: expected bytes, str found"
     ]
    },
    {
     "name": "stderr",
     "output_type": "stream",
     "text": [
      "Exception ignored in: 'umi_tools._dedup_umi.edit_distance'\n",
      "Traceback (most recent call last):\n",
      "  File \"/fh/fast/bloom_j/software/miniconda3/envs/barcoded_flu_pdmH1N1/lib/python3.8/site-packages/umi_tools/network.py\", line 199, in _get_adj_list_directional\n",
      "    if edit_distance(umi1, umi2) <= threshold:\n",
      "TypeError: expected bytes, str found\n"
     ]
    },
    {
     "ename": "TypeError",
     "evalue": "expected bytes, str found",
     "output_type": "error",
     "traceback": [
      "\u001b[0;31m---------------------------------------------------------------------------\u001b[0m",
      "\u001b[0;31mTypeError\u001b[0m                                 Traceback (most recent call last)",
      "\u001b[0;31mTypeError\u001b[0m: expected bytes, str found"
     ]
    },
    {
     "name": "stderr",
     "output_type": "stream",
     "text": [
      "Exception ignored in: 'umi_tools._dedup_umi.edit_distance'\n",
      "Traceback (most recent call last):\n",
      "  File \"/fh/fast/bloom_j/software/miniconda3/envs/barcoded_flu_pdmH1N1/lib/python3.8/site-packages/umi_tools/network.py\", line 199, in _get_adj_list_directional\n",
      "    if edit_distance(umi1, umi2) <= threshold:\n",
      "TypeError: expected bytes, str found\n"
     ]
    },
    {
     "ename": "TypeError",
     "evalue": "expected bytes, str found",
     "output_type": "error",
     "traceback": [
      "\u001b[0;31m---------------------------------------------------------------------------\u001b[0m",
      "\u001b[0;31mTypeError\u001b[0m                                 Traceback (most recent call last)",
      "\u001b[0;31mTypeError\u001b[0m: expected bytes, str found"
     ]
    },
    {
     "name": "stderr",
     "output_type": "stream",
     "text": [
      "Exception ignored in: 'umi_tools._dedup_umi.edit_distance'\n",
      "Traceback (most recent call last):\n",
      "  File \"/fh/fast/bloom_j/software/miniconda3/envs/barcoded_flu_pdmH1N1/lib/python3.8/site-packages/umi_tools/network.py\", line 199, in _get_adj_list_directional\n",
      "    if edit_distance(umi1, umi2) <= threshold:\n",
      "TypeError: expected bytes, str found\n"
     ]
    },
    {
     "ename": "TypeError",
     "evalue": "expected bytes, str found",
     "output_type": "error",
     "traceback": [
      "\u001b[0;31m---------------------------------------------------------------------------\u001b[0m",
      "\u001b[0;31mTypeError\u001b[0m                                 Traceback (most recent call last)",
      "\u001b[0;31mTypeError\u001b[0m: expected bytes, str found"
     ]
    },
    {
     "name": "stderr",
     "output_type": "stream",
     "text": [
      "Exception ignored in: 'umi_tools._dedup_umi.edit_distance'\n",
      "Traceback (most recent call last):\n",
      "  File \"/fh/fast/bloom_j/software/miniconda3/envs/barcoded_flu_pdmH1N1/lib/python3.8/site-packages/umi_tools/network.py\", line 199, in _get_adj_list_directional\n",
      "    if edit_distance(umi1, umi2) <= threshold:\n",
      "TypeError: expected bytes, str found\n"
     ]
    },
    {
     "ename": "TypeError",
     "evalue": "expected bytes, str found",
     "output_type": "error",
     "traceback": [
      "\u001b[0;31m---------------------------------------------------------------------------\u001b[0m",
      "\u001b[0;31mTypeError\u001b[0m                                 Traceback (most recent call last)",
      "\u001b[0;31mTypeError\u001b[0m: expected bytes, str found"
     ]
    },
    {
     "name": "stderr",
     "output_type": "stream",
     "text": [
      "Exception ignored in: 'umi_tools._dedup_umi.edit_distance'\n",
      "Traceback (most recent call last):\n",
      "  File \"/fh/fast/bloom_j/software/miniconda3/envs/barcoded_flu_pdmH1N1/lib/python3.8/site-packages/umi_tools/network.py\", line 199, in _get_adj_list_directional\n",
      "    if edit_distance(umi1, umi2) <= threshold:\n",
      "TypeError: expected bytes, str found\n"
     ]
    },
    {
     "ename": "TypeError",
     "evalue": "expected bytes, str found",
     "output_type": "error",
     "traceback": [
      "\u001b[0;31m---------------------------------------------------------------------------\u001b[0m",
      "\u001b[0;31mTypeError\u001b[0m                                 Traceback (most recent call last)",
      "\u001b[0;31mTypeError\u001b[0m: expected bytes, str found"
     ]
    },
    {
     "name": "stderr",
     "output_type": "stream",
     "text": [
      "Exception ignored in: 'umi_tools._dedup_umi.edit_distance'\n",
      "Traceback (most recent call last):\n",
      "  File \"/fh/fast/bloom_j/software/miniconda3/envs/barcoded_flu_pdmH1N1/lib/python3.8/site-packages/umi_tools/network.py\", line 199, in _get_adj_list_directional\n",
      "    if edit_distance(umi1, umi2) <= threshold:\n",
      "TypeError: expected bytes, str found\n"
     ]
    },
    {
     "ename": "TypeError",
     "evalue": "expected bytes, str found",
     "output_type": "error",
     "traceback": [
      "\u001b[0;31m---------------------------------------------------------------------------\u001b[0m",
      "\u001b[0;31mTypeError\u001b[0m                                 Traceback (most recent call last)",
      "\u001b[0;31mTypeError\u001b[0m: expected bytes, str found"
     ]
    },
    {
     "name": "stderr",
     "output_type": "stream",
     "text": [
      "Exception ignored in: 'umi_tools._dedup_umi.edit_distance'\n",
      "Traceback (most recent call last):\n",
      "  File \"/fh/fast/bloom_j/software/miniconda3/envs/barcoded_flu_pdmH1N1/lib/python3.8/site-packages/umi_tools/network.py\", line 199, in _get_adj_list_directional\n",
      "    if edit_distance(umi1, umi2) <= threshold:\n",
      "TypeError: expected bytes, str found\n"
     ]
    },
    {
     "ename": "TypeError",
     "evalue": "expected bytes, str found",
     "output_type": "error",
     "traceback": [
      "\u001b[0;31m---------------------------------------------------------------------------\u001b[0m",
      "\u001b[0;31mTypeError\u001b[0m                                 Traceback (most recent call last)",
      "\u001b[0;31mTypeError\u001b[0m: expected bytes, str found"
     ]
    },
    {
     "name": "stderr",
     "output_type": "stream",
     "text": [
      "Exception ignored in: 'umi_tools._dedup_umi.edit_distance'\n",
      "Traceback (most recent call last):\n",
      "  File \"/fh/fast/bloom_j/software/miniconda3/envs/barcoded_flu_pdmH1N1/lib/python3.8/site-packages/umi_tools/network.py\", line 199, in _get_adj_list_directional\n",
      "    if edit_distance(umi1, umi2) <= threshold:\n",
      "TypeError: expected bytes, str found\n"
     ]
    },
    {
     "ename": "TypeError",
     "evalue": "expected bytes, str found",
     "output_type": "error",
     "traceback": [
      "\u001b[0;31m---------------------------------------------------------------------------\u001b[0m",
      "\u001b[0;31mTypeError\u001b[0m                                 Traceback (most recent call last)",
      "\u001b[0;31mTypeError\u001b[0m: expected bytes, str found"
     ]
    },
    {
     "name": "stderr",
     "output_type": "stream",
     "text": [
      "Exception ignored in: 'umi_tools._dedup_umi.edit_distance'\n",
      "Traceback (most recent call last):\n",
      "  File \"/fh/fast/bloom_j/software/miniconda3/envs/barcoded_flu_pdmH1N1/lib/python3.8/site-packages/umi_tools/network.py\", line 199, in _get_adj_list_directional\n",
      "    if edit_distance(umi1, umi2) <= threshold:\n",
      "TypeError: expected bytes, str found\n"
     ]
    },
    {
     "ename": "TypeError",
     "evalue": "expected bytes, str found",
     "output_type": "error",
     "traceback": [
      "\u001b[0;31m---------------------------------------------------------------------------\u001b[0m",
      "\u001b[0;31mTypeError\u001b[0m                                 Traceback (most recent call last)",
      "\u001b[0;31mTypeError\u001b[0m: expected bytes, str found"
     ]
    },
    {
     "name": "stderr",
     "output_type": "stream",
     "text": [
      "Exception ignored in: 'umi_tools._dedup_umi.edit_distance'\n",
      "Traceback (most recent call last):\n",
      "  File \"/fh/fast/bloom_j/software/miniconda3/envs/barcoded_flu_pdmH1N1/lib/python3.8/site-packages/umi_tools/network.py\", line 199, in _get_adj_list_directional\n",
      "    if edit_distance(umi1, umi2) <= threshold:\n",
      "TypeError: expected bytes, str found\n"
     ]
    },
    {
     "ename": "TypeError",
     "evalue": "expected bytes, str found",
     "output_type": "error",
     "traceback": [
      "\u001b[0;31m---------------------------------------------------------------------------\u001b[0m",
      "\u001b[0;31mTypeError\u001b[0m                                 Traceback (most recent call last)",
      "\u001b[0;31mTypeError\u001b[0m: expected bytes, str found"
     ]
    },
    {
     "name": "stderr",
     "output_type": "stream",
     "text": [
      "Exception ignored in: 'umi_tools._dedup_umi.edit_distance'\n",
      "Traceback (most recent call last):\n",
      "  File \"/fh/fast/bloom_j/software/miniconda3/envs/barcoded_flu_pdmH1N1/lib/python3.8/site-packages/umi_tools/network.py\", line 199, in _get_adj_list_directional\n",
      "    if edit_distance(umi1, umi2) <= threshold:\n",
      "TypeError: expected bytes, str found\n"
     ]
    },
    {
     "ename": "TypeError",
     "evalue": "expected bytes, str found",
     "output_type": "error",
     "traceback": [
      "\u001b[0;31m---------------------------------------------------------------------------\u001b[0m",
      "\u001b[0;31mTypeError\u001b[0m                                 Traceback (most recent call last)",
      "\u001b[0;31mTypeError\u001b[0m: expected bytes, str found"
     ]
    },
    {
     "name": "stderr",
     "output_type": "stream",
     "text": [
      "Exception ignored in: 'umi_tools._dedup_umi.edit_distance'\n",
      "Traceback (most recent call last):\n",
      "  File \"/fh/fast/bloom_j/software/miniconda3/envs/barcoded_flu_pdmH1N1/lib/python3.8/site-packages/umi_tools/network.py\", line 199, in _get_adj_list_directional\n",
      "    if edit_distance(umi1, umi2) <= threshold:\n",
      "TypeError: expected bytes, str found\n"
     ]
    },
    {
     "ename": "TypeError",
     "evalue": "expected bytes, str found",
     "output_type": "error",
     "traceback": [
      "\u001b[0;31m---------------------------------------------------------------------------\u001b[0m",
      "\u001b[0;31mTypeError\u001b[0m                                 Traceback (most recent call last)",
      "\u001b[0;31mTypeError\u001b[0m: expected bytes, str found"
     ]
    },
    {
     "name": "stderr",
     "output_type": "stream",
     "text": [
      "Exception ignored in: 'umi_tools._dedup_umi.edit_distance'\n",
      "Traceback (most recent call last):\n",
      "  File \"/fh/fast/bloom_j/software/miniconda3/envs/barcoded_flu_pdmH1N1/lib/python3.8/site-packages/umi_tools/network.py\", line 199, in _get_adj_list_directional\n",
      "    if edit_distance(umi1, umi2) <= threshold:\n",
      "TypeError: expected bytes, str found\n"
     ]
    },
    {
     "ename": "TypeError",
     "evalue": "expected bytes, str found",
     "output_type": "error",
     "traceback": [
      "\u001b[0;31m---------------------------------------------------------------------------\u001b[0m",
      "\u001b[0;31mTypeError\u001b[0m                                 Traceback (most recent call last)",
      "\u001b[0;31mTypeError\u001b[0m: expected bytes, str found"
     ]
    },
    {
     "name": "stderr",
     "output_type": "stream",
     "text": [
      "Exception ignored in: 'umi_tools._dedup_umi.edit_distance'\n",
      "Traceback (most recent call last):\n",
      "  File \"/fh/fast/bloom_j/software/miniconda3/envs/barcoded_flu_pdmH1N1/lib/python3.8/site-packages/umi_tools/network.py\", line 199, in _get_adj_list_directional\n",
      "    if edit_distance(umi1, umi2) <= threshold:\n",
      "TypeError: expected bytes, str found\n"
     ]
    },
    {
     "ename": "TypeError",
     "evalue": "expected bytes, str found",
     "output_type": "error",
     "traceback": [
      "\u001b[0;31m---------------------------------------------------------------------------\u001b[0m",
      "\u001b[0;31mTypeError\u001b[0m                                 Traceback (most recent call last)",
      "\u001b[0;31mTypeError\u001b[0m: expected bytes, str found"
     ]
    },
    {
     "name": "stderr",
     "output_type": "stream",
     "text": [
      "Exception ignored in: 'umi_tools._dedup_umi.edit_distance'\n",
      "Traceback (most recent call last):\n",
      "  File \"/fh/fast/bloom_j/software/miniconda3/envs/barcoded_flu_pdmH1N1/lib/python3.8/site-packages/umi_tools/network.py\", line 199, in _get_adj_list_directional\n",
      "    if edit_distance(umi1, umi2) <= threshold:\n",
      "TypeError: expected bytes, str found\n"
     ]
    },
    {
     "ename": "TypeError",
     "evalue": "expected bytes, str found",
     "output_type": "error",
     "traceback": [
      "\u001b[0;31m---------------------------------------------------------------------------\u001b[0m",
      "\u001b[0;31mTypeError\u001b[0m                                 Traceback (most recent call last)",
      "\u001b[0;31mTypeError\u001b[0m: expected bytes, str found"
     ]
    },
    {
     "name": "stderr",
     "output_type": "stream",
     "text": [
      "Exception ignored in: 'umi_tools._dedup_umi.edit_distance'\n",
      "Traceback (most recent call last):\n",
      "  File \"/fh/fast/bloom_j/software/miniconda3/envs/barcoded_flu_pdmH1N1/lib/python3.8/site-packages/umi_tools/network.py\", line 199, in _get_adj_list_directional\n",
      "    if edit_distance(umi1, umi2) <= threshold:\n",
      "TypeError: expected bytes, str found\n"
     ]
    },
    {
     "ename": "TypeError",
     "evalue": "expected bytes, str found",
     "output_type": "error",
     "traceback": [
      "\u001b[0;31m---------------------------------------------------------------------------\u001b[0m",
      "\u001b[0;31mTypeError\u001b[0m                                 Traceback (most recent call last)",
      "\u001b[0;31mTypeError\u001b[0m: expected bytes, str found"
     ]
    },
    {
     "name": "stderr",
     "output_type": "stream",
     "text": [
      "Exception ignored in: 'umi_tools._dedup_umi.edit_distance'\n",
      "Traceback (most recent call last):\n",
      "  File \"/fh/fast/bloom_j/software/miniconda3/envs/barcoded_flu_pdmH1N1/lib/python3.8/site-packages/umi_tools/network.py\", line 199, in _get_adj_list_directional\n",
      "    if edit_distance(umi1, umi2) <= threshold:\n",
      "TypeError: expected bytes, str found\n"
     ]
    },
    {
     "ename": "TypeError",
     "evalue": "expected bytes, str found",
     "output_type": "error",
     "traceback": [
      "\u001b[0;31m---------------------------------------------------------------------------\u001b[0m",
      "\u001b[0;31mTypeError\u001b[0m                                 Traceback (most recent call last)",
      "\u001b[0;31mTypeError\u001b[0m: expected bytes, str found"
     ]
    },
    {
     "name": "stderr",
     "output_type": "stream",
     "text": [
      "Exception ignored in: 'umi_tools._dedup_umi.edit_distance'\n",
      "Traceback (most recent call last):\n",
      "  File \"/fh/fast/bloom_j/software/miniconda3/envs/barcoded_flu_pdmH1N1/lib/python3.8/site-packages/umi_tools/network.py\", line 199, in _get_adj_list_directional\n",
      "    if edit_distance(umi1, umi2) <= threshold:\n",
      "TypeError: expected bytes, str found\n"
     ]
    },
    {
     "ename": "TypeError",
     "evalue": "expected bytes, str found",
     "output_type": "error",
     "traceback": [
      "\u001b[0;31m---------------------------------------------------------------------------\u001b[0m",
      "\u001b[0;31mTypeError\u001b[0m                                 Traceback (most recent call last)",
      "\u001b[0;31mTypeError\u001b[0m: expected bytes, str found"
     ]
    },
    {
     "name": "stderr",
     "output_type": "stream",
     "text": [
      "Exception ignored in: 'umi_tools._dedup_umi.edit_distance'\n",
      "Traceback (most recent call last):\n",
      "  File \"/fh/fast/bloom_j/software/miniconda3/envs/barcoded_flu_pdmH1N1/lib/python3.8/site-packages/umi_tools/network.py\", line 199, in _get_adj_list_directional\n",
      "    if edit_distance(umi1, umi2) <= threshold:\n",
      "TypeError: expected bytes, str found\n"
     ]
    },
    {
     "ename": "TypeError",
     "evalue": "expected bytes, str found",
     "output_type": "error",
     "traceback": [
      "\u001b[0;31m---------------------------------------------------------------------------\u001b[0m",
      "\u001b[0;31mTypeError\u001b[0m                                 Traceback (most recent call last)",
      "\u001b[0;31mTypeError\u001b[0m: expected bytes, str found"
     ]
    },
    {
     "name": "stderr",
     "output_type": "stream",
     "text": [
      "Exception ignored in: 'umi_tools._dedup_umi.edit_distance'\n",
      "Traceback (most recent call last):\n",
      "  File \"/fh/fast/bloom_j/software/miniconda3/envs/barcoded_flu_pdmH1N1/lib/python3.8/site-packages/umi_tools/network.py\", line 199, in _get_adj_list_directional\n",
      "    if edit_distance(umi1, umi2) <= threshold:\n",
      "TypeError: expected bytes, str found\n"
     ]
    },
    {
     "ename": "TypeError",
     "evalue": "expected bytes, str found",
     "output_type": "error",
     "traceback": [
      "\u001b[0;31m---------------------------------------------------------------------------\u001b[0m",
      "\u001b[0;31mTypeError\u001b[0m                                 Traceback (most recent call last)",
      "\u001b[0;31mTypeError\u001b[0m: expected bytes, str found"
     ]
    },
    {
     "name": "stderr",
     "output_type": "stream",
     "text": [
      "Exception ignored in: 'umi_tools._dedup_umi.edit_distance'\n",
      "Traceback (most recent call last):\n",
      "  File \"/fh/fast/bloom_j/software/miniconda3/envs/barcoded_flu_pdmH1N1/lib/python3.8/site-packages/umi_tools/network.py\", line 199, in _get_adj_list_directional\n",
      "    if edit_distance(umi1, umi2) <= threshold:\n",
      "TypeError: expected bytes, str found\n"
     ]
    },
    {
     "ename": "TypeError",
     "evalue": "expected bytes, str found",
     "output_type": "error",
     "traceback": [
      "\u001b[0;31m---------------------------------------------------------------------------\u001b[0m",
      "\u001b[0;31mTypeError\u001b[0m                                 Traceback (most recent call last)",
      "\u001b[0;31mTypeError\u001b[0m: expected bytes, str found"
     ]
    },
    {
     "name": "stderr",
     "output_type": "stream",
     "text": [
      "Exception ignored in: 'umi_tools._dedup_umi.edit_distance'\n",
      "Traceback (most recent call last):\n",
      "  File \"/fh/fast/bloom_j/software/miniconda3/envs/barcoded_flu_pdmH1N1/lib/python3.8/site-packages/umi_tools/network.py\", line 199, in _get_adj_list_directional\n",
      "    if edit_distance(umi1, umi2) <= threshold:\n",
      "TypeError: expected bytes, str found\n"
     ]
    },
    {
     "ename": "TypeError",
     "evalue": "expected bytes, str found",
     "output_type": "error",
     "traceback": [
      "\u001b[0;31m---------------------------------------------------------------------------\u001b[0m",
      "\u001b[0;31mTypeError\u001b[0m                                 Traceback (most recent call last)",
      "\u001b[0;31mTypeError\u001b[0m: expected bytes, str found"
     ]
    },
    {
     "name": "stderr",
     "output_type": "stream",
     "text": [
      "Exception ignored in: 'umi_tools._dedup_umi.edit_distance'\n",
      "Traceback (most recent call last):\n",
      "  File \"/fh/fast/bloom_j/software/miniconda3/envs/barcoded_flu_pdmH1N1/lib/python3.8/site-packages/umi_tools/network.py\", line 199, in _get_adj_list_directional\n",
      "    if edit_distance(umi1, umi2) <= threshold:\n",
      "TypeError: expected bytes, str found\n"
     ]
    },
    {
     "ename": "TypeError",
     "evalue": "expected bytes, str found",
     "output_type": "error",
     "traceback": [
      "\u001b[0;31m---------------------------------------------------------------------------\u001b[0m",
      "\u001b[0;31mTypeError\u001b[0m                                 Traceback (most recent call last)",
      "\u001b[0;31mTypeError\u001b[0m: expected bytes, str found"
     ]
    },
    {
     "name": "stderr",
     "output_type": "stream",
     "text": [
      "Exception ignored in: 'umi_tools._dedup_umi.edit_distance'\n",
      "Traceback (most recent call last):\n",
      "  File \"/fh/fast/bloom_j/software/miniconda3/envs/barcoded_flu_pdmH1N1/lib/python3.8/site-packages/umi_tools/network.py\", line 199, in _get_adj_list_directional\n",
      "    if edit_distance(umi1, umi2) <= threshold:\n",
      "TypeError: expected bytes, str found\n"
     ]
    },
    {
     "ename": "TypeError",
     "evalue": "expected bytes, str found",
     "output_type": "error",
     "traceback": [
      "\u001b[0;31m---------------------------------------------------------------------------\u001b[0m",
      "\u001b[0;31mTypeError\u001b[0m                                 Traceback (most recent call last)",
      "\u001b[0;31mTypeError\u001b[0m: expected bytes, str found"
     ]
    },
    {
     "name": "stderr",
     "output_type": "stream",
     "text": [
      "Exception ignored in: 'umi_tools._dedup_umi.edit_distance'\n",
      "Traceback (most recent call last):\n",
      "  File \"/fh/fast/bloom_j/software/miniconda3/envs/barcoded_flu_pdmH1N1/lib/python3.8/site-packages/umi_tools/network.py\", line 199, in _get_adj_list_directional\n",
      "    if edit_distance(umi1, umi2) <= threshold:\n",
      "TypeError: expected bytes, str found\n"
     ]
    },
    {
     "ename": "TypeError",
     "evalue": "expected bytes, str found",
     "output_type": "error",
     "traceback": [
      "\u001b[0;31m---------------------------------------------------------------------------\u001b[0m",
      "\u001b[0;31mTypeError\u001b[0m                                 Traceback (most recent call last)",
      "\u001b[0;31mTypeError\u001b[0m: expected bytes, str found"
     ]
    },
    {
     "name": "stderr",
     "output_type": "stream",
     "text": [
      "Exception ignored in: 'umi_tools._dedup_umi.edit_distance'\n",
      "Traceback (most recent call last):\n",
      "  File \"/fh/fast/bloom_j/software/miniconda3/envs/barcoded_flu_pdmH1N1/lib/python3.8/site-packages/umi_tools/network.py\", line 199, in _get_adj_list_directional\n",
      "    if edit_distance(umi1, umi2) <= threshold:\n",
      "TypeError: expected bytes, str found\n"
     ]
    },
    {
     "ename": "TypeError",
     "evalue": "expected bytes, str found",
     "output_type": "error",
     "traceback": [
      "\u001b[0;31m---------------------------------------------------------------------------\u001b[0m",
      "\u001b[0;31mTypeError\u001b[0m                                 Traceback (most recent call last)",
      "\u001b[0;31mTypeError\u001b[0m: expected bytes, str found"
     ]
    },
    {
     "name": "stderr",
     "output_type": "stream",
     "text": [
      "Exception ignored in: 'umi_tools._dedup_umi.edit_distance'\n",
      "Traceback (most recent call last):\n",
      "  File \"/fh/fast/bloom_j/software/miniconda3/envs/barcoded_flu_pdmH1N1/lib/python3.8/site-packages/umi_tools/network.py\", line 199, in _get_adj_list_directional\n",
      "    if edit_distance(umi1, umi2) <= threshold:\n",
      "TypeError: expected bytes, str found\n"
     ]
    },
    {
     "ename": "TypeError",
     "evalue": "expected bytes, str found",
     "output_type": "error",
     "traceback": [
      "\u001b[0;31m---------------------------------------------------------------------------\u001b[0m",
      "\u001b[0;31mTypeError\u001b[0m                                 Traceback (most recent call last)",
      "\u001b[0;31mTypeError\u001b[0m: expected bytes, str found"
     ]
    },
    {
     "name": "stderr",
     "output_type": "stream",
     "text": [
      "Exception ignored in: 'umi_tools._dedup_umi.edit_distance'\n",
      "Traceback (most recent call last):\n",
      "  File \"/fh/fast/bloom_j/software/miniconda3/envs/barcoded_flu_pdmH1N1/lib/python3.8/site-packages/umi_tools/network.py\", line 199, in _get_adj_list_directional\n",
      "    if edit_distance(umi1, umi2) <= threshold:\n",
      "TypeError: expected bytes, str found\n"
     ]
    },
    {
     "ename": "TypeError",
     "evalue": "expected bytes, str found",
     "output_type": "error",
     "traceback": [
      "\u001b[0;31m---------------------------------------------------------------------------\u001b[0m",
      "\u001b[0;31mTypeError\u001b[0m                                 Traceback (most recent call last)",
      "\u001b[0;31mTypeError\u001b[0m: expected bytes, str found"
     ]
    },
    {
     "name": "stderr",
     "output_type": "stream",
     "text": [
      "Exception ignored in: 'umi_tools._dedup_umi.edit_distance'\n",
      "Traceback (most recent call last):\n",
      "  File \"/fh/fast/bloom_j/software/miniconda3/envs/barcoded_flu_pdmH1N1/lib/python3.8/site-packages/umi_tools/network.py\", line 199, in _get_adj_list_directional\n",
      "    if edit_distance(umi1, umi2) <= threshold:\n",
      "TypeError: expected bytes, str found\n"
     ]
    },
    {
     "ename": "TypeError",
     "evalue": "expected bytes, str found",
     "output_type": "error",
     "traceback": [
      "\u001b[0;31m---------------------------------------------------------------------------\u001b[0m",
      "\u001b[0;31mTypeError\u001b[0m                                 Traceback (most recent call last)",
      "\u001b[0;31mTypeError\u001b[0m: expected bytes, str found"
     ]
    },
    {
     "name": "stderr",
     "output_type": "stream",
     "text": [
      "Exception ignored in: 'umi_tools._dedup_umi.edit_distance'\n",
      "Traceback (most recent call last):\n",
      "  File \"/fh/fast/bloom_j/software/miniconda3/envs/barcoded_flu_pdmH1N1/lib/python3.8/site-packages/umi_tools/network.py\", line 199, in _get_adj_list_directional\n",
      "    if edit_distance(umi1, umi2) <= threshold:\n",
      "TypeError: expected bytes, str found\n"
     ]
    },
    {
     "ename": "TypeError",
     "evalue": "expected bytes, str found",
     "output_type": "error",
     "traceback": [
      "\u001b[0;31m---------------------------------------------------------------------------\u001b[0m",
      "\u001b[0;31mTypeError\u001b[0m                                 Traceback (most recent call last)",
      "\u001b[0;31mTypeError\u001b[0m: expected bytes, str found"
     ]
    },
    {
     "name": "stderr",
     "output_type": "stream",
     "text": [
      "Exception ignored in: 'umi_tools._dedup_umi.edit_distance'\n",
      "Traceback (most recent call last):\n",
      "  File \"/fh/fast/bloom_j/software/miniconda3/envs/barcoded_flu_pdmH1N1/lib/python3.8/site-packages/umi_tools/network.py\", line 199, in _get_adj_list_directional\n",
      "    if edit_distance(umi1, umi2) <= threshold:\n",
      "TypeError: expected bytes, str found\n"
     ]
    },
    {
     "ename": "TypeError",
     "evalue": "expected bytes, str found",
     "output_type": "error",
     "traceback": [
      "\u001b[0;31m---------------------------------------------------------------------------\u001b[0m",
      "\u001b[0;31mTypeError\u001b[0m                                 Traceback (most recent call last)",
      "\u001b[0;31mTypeError\u001b[0m: expected bytes, str found"
     ]
    },
    {
     "name": "stderr",
     "output_type": "stream",
     "text": [
      "Exception ignored in: 'umi_tools._dedup_umi.edit_distance'\n",
      "Traceback (most recent call last):\n",
      "  File \"/fh/fast/bloom_j/software/miniconda3/envs/barcoded_flu_pdmH1N1/lib/python3.8/site-packages/umi_tools/network.py\", line 199, in _get_adj_list_directional\n",
      "    if edit_distance(umi1, umi2) <= threshold:\n",
      "TypeError: expected bytes, str found\n"
     ]
    },
    {
     "ename": "TypeError",
     "evalue": "expected bytes, str found",
     "output_type": "error",
     "traceback": [
      "\u001b[0;31m---------------------------------------------------------------------------\u001b[0m",
      "\u001b[0;31mTypeError\u001b[0m                                 Traceback (most recent call last)",
      "\u001b[0;31mTypeError\u001b[0m: expected bytes, str found"
     ]
    },
    {
     "name": "stderr",
     "output_type": "stream",
     "text": [
      "Exception ignored in: 'umi_tools._dedup_umi.edit_distance'\n",
      "Traceback (most recent call last):\n",
      "  File \"/fh/fast/bloom_j/software/miniconda3/envs/barcoded_flu_pdmH1N1/lib/python3.8/site-packages/umi_tools/network.py\", line 199, in _get_adj_list_directional\n",
      "    if edit_distance(umi1, umi2) <= threshold:\n",
      "TypeError: expected bytes, str found\n"
     ]
    },
    {
     "ename": "TypeError",
     "evalue": "expected bytes, str found",
     "output_type": "error",
     "traceback": [
      "\u001b[0;31m---------------------------------------------------------------------------\u001b[0m",
      "\u001b[0;31mTypeError\u001b[0m                                 Traceback (most recent call last)",
      "\u001b[0;31mTypeError\u001b[0m: expected bytes, str found"
     ]
    },
    {
     "name": "stderr",
     "output_type": "stream",
     "text": [
      "Exception ignored in: 'umi_tools._dedup_umi.edit_distance'\n",
      "Traceback (most recent call last):\n",
      "  File \"/fh/fast/bloom_j/software/miniconda3/envs/barcoded_flu_pdmH1N1/lib/python3.8/site-packages/umi_tools/network.py\", line 199, in _get_adj_list_directional\n",
      "    if edit_distance(umi1, umi2) <= threshold:\n",
      "TypeError: expected bytes, str found\n"
     ]
    },
    {
     "ename": "TypeError",
     "evalue": "expected bytes, str found",
     "output_type": "error",
     "traceback": [
      "\u001b[0;31m---------------------------------------------------------------------------\u001b[0m",
      "\u001b[0;31mTypeError\u001b[0m                                 Traceback (most recent call last)",
      "\u001b[0;31mTypeError\u001b[0m: expected bytes, str found"
     ]
    },
    {
     "name": "stderr",
     "output_type": "stream",
     "text": [
      "Exception ignored in: 'umi_tools._dedup_umi.edit_distance'\n",
      "Traceback (most recent call last):\n",
      "  File \"/fh/fast/bloom_j/software/miniconda3/envs/barcoded_flu_pdmH1N1/lib/python3.8/site-packages/umi_tools/network.py\", line 199, in _get_adj_list_directional\n",
      "    if edit_distance(umi1, umi2) <= threshold:\n",
      "TypeError: expected bytes, str found\n"
     ]
    },
    {
     "ename": "TypeError",
     "evalue": "expected bytes, str found",
     "output_type": "error",
     "traceback": [
      "\u001b[0;31m---------------------------------------------------------------------------\u001b[0m",
      "\u001b[0;31mTypeError\u001b[0m                                 Traceback (most recent call last)",
      "\u001b[0;31mTypeError\u001b[0m: expected bytes, str found"
     ]
    },
    {
     "name": "stderr",
     "output_type": "stream",
     "text": [
      "Exception ignored in: 'umi_tools._dedup_umi.edit_distance'\n",
      "Traceback (most recent call last):\n",
      "  File \"/fh/fast/bloom_j/software/miniconda3/envs/barcoded_flu_pdmH1N1/lib/python3.8/site-packages/umi_tools/network.py\", line 199, in _get_adj_list_directional\n",
      "    if edit_distance(umi1, umi2) <= threshold:\n",
      "TypeError: expected bytes, str found\n"
     ]
    },
    {
     "ename": "TypeError",
     "evalue": "expected bytes, str found",
     "output_type": "error",
     "traceback": [
      "\u001b[0;31m---------------------------------------------------------------------------\u001b[0m",
      "\u001b[0;31mTypeError\u001b[0m                                 Traceback (most recent call last)",
      "\u001b[0;31mTypeError\u001b[0m: expected bytes, str found"
     ]
    },
    {
     "name": "stderr",
     "output_type": "stream",
     "text": [
      "Exception ignored in: 'umi_tools._dedup_umi.edit_distance'\n",
      "Traceback (most recent call last):\n",
      "  File \"/fh/fast/bloom_j/software/miniconda3/envs/barcoded_flu_pdmH1N1/lib/python3.8/site-packages/umi_tools/network.py\", line 199, in _get_adj_list_directional\n",
      "    if edit_distance(umi1, umi2) <= threshold:\n",
      "TypeError: expected bytes, str found\n"
     ]
    },
    {
     "ename": "TypeError",
     "evalue": "expected bytes, str found",
     "output_type": "error",
     "traceback": [
      "\u001b[0;31m---------------------------------------------------------------------------\u001b[0m",
      "\u001b[0;31mTypeError\u001b[0m                                 Traceback (most recent call last)",
      "\u001b[0;31mTypeError\u001b[0m: expected bytes, str found"
     ]
    },
    {
     "name": "stderr",
     "output_type": "stream",
     "text": [
      "Exception ignored in: 'umi_tools._dedup_umi.edit_distance'\n",
      "Traceback (most recent call last):\n",
      "  File \"/fh/fast/bloom_j/software/miniconda3/envs/barcoded_flu_pdmH1N1/lib/python3.8/site-packages/umi_tools/network.py\", line 199, in _get_adj_list_directional\n",
      "    if edit_distance(umi1, umi2) <= threshold:\n",
      "TypeError: expected bytes, str found\n"
     ]
    },
    {
     "ename": "TypeError",
     "evalue": "expected bytes, str found",
     "output_type": "error",
     "traceback": [
      "\u001b[0;31m---------------------------------------------------------------------------\u001b[0m",
      "\u001b[0;31mTypeError\u001b[0m                                 Traceback (most recent call last)",
      "\u001b[0;31mTypeError\u001b[0m: expected bytes, str found"
     ]
    },
    {
     "name": "stderr",
     "output_type": "stream",
     "text": [
      "Exception ignored in: 'umi_tools._dedup_umi.edit_distance'\n",
      "Traceback (most recent call last):\n",
      "  File \"/fh/fast/bloom_j/software/miniconda3/envs/barcoded_flu_pdmH1N1/lib/python3.8/site-packages/umi_tools/network.py\", line 199, in _get_adj_list_directional\n",
      "    if edit_distance(umi1, umi2) <= threshold:\n",
      "TypeError: expected bytes, str found\n"
     ]
    },
    {
     "ename": "TypeError",
     "evalue": "expected bytes, str found",
     "output_type": "error",
     "traceback": [
      "\u001b[0;31m---------------------------------------------------------------------------\u001b[0m",
      "\u001b[0;31mTypeError\u001b[0m                                 Traceback (most recent call last)",
      "\u001b[0;31mTypeError\u001b[0m: expected bytes, str found"
     ]
    },
    {
     "name": "stderr",
     "output_type": "stream",
     "text": [
      "Exception ignored in: 'umi_tools._dedup_umi.edit_distance'\n",
      "Traceback (most recent call last):\n",
      "  File \"/fh/fast/bloom_j/software/miniconda3/envs/barcoded_flu_pdmH1N1/lib/python3.8/site-packages/umi_tools/network.py\", line 199, in _get_adj_list_directional\n",
      "    if edit_distance(umi1, umi2) <= threshold:\n",
      "TypeError: expected bytes, str found\n"
     ]
    },
    {
     "ename": "TypeError",
     "evalue": "expected bytes, str found",
     "output_type": "error",
     "traceback": [
      "\u001b[0;31m---------------------------------------------------------------------------\u001b[0m",
      "\u001b[0;31mTypeError\u001b[0m                                 Traceback (most recent call last)",
      "\u001b[0;31mTypeError\u001b[0m: expected bytes, str found"
     ]
    },
    {
     "name": "stderr",
     "output_type": "stream",
     "text": [
      "Exception ignored in: 'umi_tools._dedup_umi.edit_distance'\n",
      "Traceback (most recent call last):\n",
      "  File \"/fh/fast/bloom_j/software/miniconda3/envs/barcoded_flu_pdmH1N1/lib/python3.8/site-packages/umi_tools/network.py\", line 199, in _get_adj_list_directional\n",
      "    if edit_distance(umi1, umi2) <= threshold:\n",
      "TypeError: expected bytes, str found\n"
     ]
    },
    {
     "name": "stdout",
     "output_type": "stream",
     "text": [
      "[['AAAAAACGAATGGATT', 'AAAAACCTGAACAATC', 'AAAAAATCGGTAGTGG', 'AAAAACCAATCCCCCA', 'AAAAACCAAATTATTT', 'AAAAAACGAATGGATC', 'AAAAAACGAAGGGATT', 'AAAAAATCGGTAGTAA', 'AAAAAATCGGTAGAGG', 'AAAAAATATTCATACG']]\n",
      "{'AAAAAACGAAGGGATT': 7.869665743817199e-07, 'AAAAAACGAATGGATC': 8.755248771638597e-07, 'AAAAAACGAATGGATT': 0.00033816405663403715, 'AAAAAATATTCATACG': 7.869665743817199e-07, 'AAAAAATCGGTAGAGG': 7.869665743817199e-07, 'AAAAAATCGGTAGTAA': 7.869665743817199e-07, 'AAAAAATCGGTAGTGG': 0.0002460386766780882, 'AAAAACCAAATTATTT': 5.85313758645663e-05, 'AAAAACCAATCCCCCA': 9.124985507878503e-05, 'AAAAACCTGAACAATC': 0.0002941422541688128}\n"
     ]
    },
    {
     "ename": "TypeError",
     "evalue": "expected bytes, str found",
     "output_type": "error",
     "traceback": [
      "\u001b[0;31m---------------------------------------------------------------------------\u001b[0m",
      "\u001b[0;31mTypeError\u001b[0m                                 Traceback (most recent call last)",
      "\u001b[0;31mTypeError\u001b[0m: expected bytes, str found"
     ]
    },
    {
     "name": "stderr",
     "output_type": "stream",
     "text": [
      "Exception ignored in: 'umi_tools._dedup_umi.edit_distance'\n",
      "Traceback (most recent call last):\n",
      "  File \"/fh/fast/bloom_j/software/miniconda3/envs/barcoded_flu_pdmH1N1/lib/python3.8/site-packages/umi_tools/network.py\", line 199, in _get_adj_list_directional\n",
      "    if edit_distance(umi1, umi2) <= threshold:\n",
      "TypeError: expected bytes, str found\n"
     ]
    },
    {
     "ename": "TypeError",
     "evalue": "expected bytes, str found",
     "output_type": "error",
     "traceback": [
      "\u001b[0;31m---------------------------------------------------------------------------\u001b[0m",
      "\u001b[0;31mTypeError\u001b[0m                                 Traceback (most recent call last)",
      "\u001b[0;31mTypeError\u001b[0m: expected bytes, str found"
     ]
    },
    {
     "name": "stderr",
     "output_type": "stream",
     "text": [
      "Exception ignored in: 'umi_tools._dedup_umi.edit_distance'\n",
      "Traceback (most recent call last):\n",
      "  File \"/fh/fast/bloom_j/software/miniconda3/envs/barcoded_flu_pdmH1N1/lib/python3.8/site-packages/umi_tools/network.py\", line 199, in _get_adj_list_directional\n",
      "    if edit_distance(umi1, umi2) <= threshold:\n",
      "TypeError: expected bytes, str found\n"
     ]
    },
    {
     "ename": "TypeError",
     "evalue": "expected bytes, str found",
     "output_type": "error",
     "traceback": [
      "\u001b[0;31m---------------------------------------------------------------------------\u001b[0m",
      "\u001b[0;31mTypeError\u001b[0m                                 Traceback (most recent call last)",
      "\u001b[0;31mTypeError\u001b[0m: expected bytes, str found"
     ]
    },
    {
     "name": "stderr",
     "output_type": "stream",
     "text": [
      "Exception ignored in: 'umi_tools._dedup_umi.edit_distance'\n",
      "Traceback (most recent call last):\n",
      "  File \"/fh/fast/bloom_j/software/miniconda3/envs/barcoded_flu_pdmH1N1/lib/python3.8/site-packages/umi_tools/network.py\", line 199, in _get_adj_list_directional\n",
      "    if edit_distance(umi1, umi2) <= threshold:\n",
      "TypeError: expected bytes, str found\n"
     ]
    },
    {
     "ename": "TypeError",
     "evalue": "expected bytes, str found",
     "output_type": "error",
     "traceback": [
      "\u001b[0;31m---------------------------------------------------------------------------\u001b[0m",
      "\u001b[0;31mTypeError\u001b[0m                                 Traceback (most recent call last)",
      "\u001b[0;31mTypeError\u001b[0m: expected bytes, str found"
     ]
    },
    {
     "name": "stderr",
     "output_type": "stream",
     "text": [
      "Exception ignored in: 'umi_tools._dedup_umi.edit_distance'\n",
      "Traceback (most recent call last):\n",
      "  File \"/fh/fast/bloom_j/software/miniconda3/envs/barcoded_flu_pdmH1N1/lib/python3.8/site-packages/umi_tools/network.py\", line 199, in _get_adj_list_directional\n",
      "    if edit_distance(umi1, umi2) <= threshold:\n",
      "TypeError: expected bytes, str found\n"
     ]
    },
    {
     "ename": "TypeError",
     "evalue": "expected bytes, str found",
     "output_type": "error",
     "traceback": [
      "\u001b[0;31m---------------------------------------------------------------------------\u001b[0m",
      "\u001b[0;31mTypeError\u001b[0m                                 Traceback (most recent call last)",
      "\u001b[0;31mTypeError\u001b[0m: expected bytes, str found"
     ]
    },
    {
     "name": "stderr",
     "output_type": "stream",
     "text": [
      "Exception ignored in: 'umi_tools._dedup_umi.edit_distance'\n",
      "Traceback (most recent call last):\n",
      "  File \"/fh/fast/bloom_j/software/miniconda3/envs/barcoded_flu_pdmH1N1/lib/python3.8/site-packages/umi_tools/network.py\", line 199, in _get_adj_list_directional\n",
      "    if edit_distance(umi1, umi2) <= threshold:\n",
      "TypeError: expected bytes, str found\n"
     ]
    },
    {
     "ename": "TypeError",
     "evalue": "expected bytes, str found",
     "output_type": "error",
     "traceback": [
      "\u001b[0;31m---------------------------------------------------------------------------\u001b[0m",
      "\u001b[0;31mTypeError\u001b[0m                                 Traceback (most recent call last)",
      "\u001b[0;31mTypeError\u001b[0m: expected bytes, str found"
     ]
    },
    {
     "name": "stderr",
     "output_type": "stream",
     "text": [
      "Exception ignored in: 'umi_tools._dedup_umi.edit_distance'\n",
      "Traceback (most recent call last):\n",
      "  File \"/fh/fast/bloom_j/software/miniconda3/envs/barcoded_flu_pdmH1N1/lib/python3.8/site-packages/umi_tools/network.py\", line 199, in _get_adj_list_directional\n",
      "    if edit_distance(umi1, umi2) <= threshold:\n",
      "TypeError: expected bytes, str found\n"
     ]
    },
    {
     "ename": "TypeError",
     "evalue": "expected bytes, str found",
     "output_type": "error",
     "traceback": [
      "\u001b[0;31m---------------------------------------------------------------------------\u001b[0m",
      "\u001b[0;31mTypeError\u001b[0m                                 Traceback (most recent call last)",
      "\u001b[0;31mTypeError\u001b[0m: expected bytes, str found"
     ]
    },
    {
     "name": "stderr",
     "output_type": "stream",
     "text": [
      "Exception ignored in: 'umi_tools._dedup_umi.edit_distance'\n",
      "Traceback (most recent call last):\n",
      "  File \"/fh/fast/bloom_j/software/miniconda3/envs/barcoded_flu_pdmH1N1/lib/python3.8/site-packages/umi_tools/network.py\", line 199, in _get_adj_list_directional\n",
      "    if edit_distance(umi1, umi2) <= threshold:\n",
      "TypeError: expected bytes, str found\n"
     ]
    },
    {
     "ename": "TypeError",
     "evalue": "expected bytes, str found",
     "output_type": "error",
     "traceback": [
      "\u001b[0;31m---------------------------------------------------------------------------\u001b[0m",
      "\u001b[0;31mTypeError\u001b[0m                                 Traceback (most recent call last)",
      "\u001b[0;31mTypeError\u001b[0m: expected bytes, str found"
     ]
    },
    {
     "name": "stderr",
     "output_type": "stream",
     "text": [
      "Exception ignored in: 'umi_tools._dedup_umi.edit_distance'\n",
      "Traceback (most recent call last):\n",
      "  File \"/fh/fast/bloom_j/software/miniconda3/envs/barcoded_flu_pdmH1N1/lib/python3.8/site-packages/umi_tools/network.py\", line 199, in _get_adj_list_directional\n",
      "    if edit_distance(umi1, umi2) <= threshold:\n",
      "TypeError: expected bytes, str found\n"
     ]
    },
    {
     "ename": "TypeError",
     "evalue": "expected bytes, str found",
     "output_type": "error",
     "traceback": [
      "\u001b[0;31m---------------------------------------------------------------------------\u001b[0m",
      "\u001b[0;31mTypeError\u001b[0m                                 Traceback (most recent call last)",
      "\u001b[0;31mTypeError\u001b[0m: expected bytes, str found"
     ]
    },
    {
     "name": "stderr",
     "output_type": "stream",
     "text": [
      "Exception ignored in: 'umi_tools._dedup_umi.edit_distance'\n",
      "Traceback (most recent call last):\n",
      "  File \"/fh/fast/bloom_j/software/miniconda3/envs/barcoded_flu_pdmH1N1/lib/python3.8/site-packages/umi_tools/network.py\", line 199, in _get_adj_list_directional\n",
      "    if edit_distance(umi1, umi2) <= threshold:\n",
      "TypeError: expected bytes, str found\n"
     ]
    },
    {
     "ename": "TypeError",
     "evalue": "expected bytes, str found",
     "output_type": "error",
     "traceback": [
      "\u001b[0;31m---------------------------------------------------------------------------\u001b[0m",
      "\u001b[0;31mTypeError\u001b[0m                                 Traceback (most recent call last)",
      "\u001b[0;31mTypeError\u001b[0m: expected bytes, str found"
     ]
    },
    {
     "name": "stderr",
     "output_type": "stream",
     "text": [
      "Exception ignored in: 'umi_tools._dedup_umi.edit_distance'\n",
      "Traceback (most recent call last):\n",
      "  File \"/fh/fast/bloom_j/software/miniconda3/envs/barcoded_flu_pdmH1N1/lib/python3.8/site-packages/umi_tools/network.py\", line 199, in _get_adj_list_directional\n",
      "    if edit_distance(umi1, umi2) <= threshold:\n",
      "TypeError: expected bytes, str found\n"
     ]
    },
    {
     "ename": "TypeError",
     "evalue": "expected bytes, str found",
     "output_type": "error",
     "traceback": [
      "\u001b[0;31m---------------------------------------------------------------------------\u001b[0m",
      "\u001b[0;31mTypeError\u001b[0m                                 Traceback (most recent call last)",
      "\u001b[0;31mTypeError\u001b[0m: expected bytes, str found"
     ]
    },
    {
     "name": "stderr",
     "output_type": "stream",
     "text": [
      "Exception ignored in: 'umi_tools._dedup_umi.edit_distance'\n",
      "Traceback (most recent call last):\n",
      "  File \"/fh/fast/bloom_j/software/miniconda3/envs/barcoded_flu_pdmH1N1/lib/python3.8/site-packages/umi_tools/network.py\", line 199, in _get_adj_list_directional\n",
      "    if edit_distance(umi1, umi2) <= threshold:\n",
      "TypeError: expected bytes, str found\n"
     ]
    },
    {
     "ename": "TypeError",
     "evalue": "expected bytes, str found",
     "output_type": "error",
     "traceback": [
      "\u001b[0;31m---------------------------------------------------------------------------\u001b[0m",
      "\u001b[0;31mTypeError\u001b[0m                                 Traceback (most recent call last)",
      "\u001b[0;31mTypeError\u001b[0m: expected bytes, str found"
     ]
    },
    {
     "name": "stderr",
     "output_type": "stream",
     "text": [
      "Exception ignored in: 'umi_tools._dedup_umi.edit_distance'\n",
      "Traceback (most recent call last):\n",
      "  File \"/fh/fast/bloom_j/software/miniconda3/envs/barcoded_flu_pdmH1N1/lib/python3.8/site-packages/umi_tools/network.py\", line 199, in _get_adj_list_directional\n",
      "    if edit_distance(umi1, umi2) <= threshold:\n",
      "TypeError: expected bytes, str found\n"
     ]
    },
    {
     "ename": "TypeError",
     "evalue": "expected bytes, str found",
     "output_type": "error",
     "traceback": [
      "\u001b[0;31m---------------------------------------------------------------------------\u001b[0m",
      "\u001b[0;31mTypeError\u001b[0m                                 Traceback (most recent call last)",
      "\u001b[0;31mTypeError\u001b[0m: expected bytes, str found"
     ]
    },
    {
     "name": "stderr",
     "output_type": "stream",
     "text": [
      "Exception ignored in: 'umi_tools._dedup_umi.edit_distance'\n",
      "Traceback (most recent call last):\n",
      "  File \"/fh/fast/bloom_j/software/miniconda3/envs/barcoded_flu_pdmH1N1/lib/python3.8/site-packages/umi_tools/network.py\", line 199, in _get_adj_list_directional\n",
      "    if edit_distance(umi1, umi2) <= threshold:\n",
      "TypeError: expected bytes, str found\n"
     ]
    },
    {
     "ename": "TypeError",
     "evalue": "expected bytes, str found",
     "output_type": "error",
     "traceback": [
      "\u001b[0;31m---------------------------------------------------------------------------\u001b[0m",
      "\u001b[0;31mTypeError\u001b[0m                                 Traceback (most recent call last)",
      "\u001b[0;31mTypeError\u001b[0m: expected bytes, str found"
     ]
    },
    {
     "name": "stderr",
     "output_type": "stream",
     "text": [
      "Exception ignored in: 'umi_tools._dedup_umi.edit_distance'\n",
      "Traceback (most recent call last):\n",
      "  File \"/fh/fast/bloom_j/software/miniconda3/envs/barcoded_flu_pdmH1N1/lib/python3.8/site-packages/umi_tools/network.py\", line 199, in _get_adj_list_directional\n",
      "    if edit_distance(umi1, umi2) <= threshold:\n",
      "TypeError: expected bytes, str found\n"
     ]
    },
    {
     "ename": "TypeError",
     "evalue": "expected bytes, str found",
     "output_type": "error",
     "traceback": [
      "\u001b[0;31m---------------------------------------------------------------------------\u001b[0m",
      "\u001b[0;31mTypeError\u001b[0m                                 Traceback (most recent call last)",
      "\u001b[0;31mTypeError\u001b[0m: expected bytes, str found"
     ]
    },
    {
     "name": "stderr",
     "output_type": "stream",
     "text": [
      "Exception ignored in: 'umi_tools._dedup_umi.edit_distance'\n",
      "Traceback (most recent call last):\n",
      "  File \"/fh/fast/bloom_j/software/miniconda3/envs/barcoded_flu_pdmH1N1/lib/python3.8/site-packages/umi_tools/network.py\", line 199, in _get_adj_list_directional\n",
      "    if edit_distance(umi1, umi2) <= threshold:\n",
      "TypeError: expected bytes, str found\n"
     ]
    },
    {
     "ename": "TypeError",
     "evalue": "expected bytes, str found",
     "output_type": "error",
     "traceback": [
      "\u001b[0;31m---------------------------------------------------------------------------\u001b[0m",
      "\u001b[0;31mTypeError\u001b[0m                                 Traceback (most recent call last)",
      "\u001b[0;31mTypeError\u001b[0m: expected bytes, str found"
     ]
    },
    {
     "name": "stderr",
     "output_type": "stream",
     "text": [
      "Exception ignored in: 'umi_tools._dedup_umi.edit_distance'\n",
      "Traceback (most recent call last):\n",
      "  File \"/fh/fast/bloom_j/software/miniconda3/envs/barcoded_flu_pdmH1N1/lib/python3.8/site-packages/umi_tools/network.py\", line 199, in _get_adj_list_directional\n",
      "    if edit_distance(umi1, umi2) <= threshold:\n",
      "TypeError: expected bytes, str found\n"
     ]
    },
    {
     "ename": "TypeError",
     "evalue": "expected bytes, str found",
     "output_type": "error",
     "traceback": [
      "\u001b[0;31m---------------------------------------------------------------------------\u001b[0m",
      "\u001b[0;31mTypeError\u001b[0m                                 Traceback (most recent call last)",
      "\u001b[0;31mTypeError\u001b[0m: expected bytes, str found"
     ]
    },
    {
     "name": "stderr",
     "output_type": "stream",
     "text": [
      "Exception ignored in: 'umi_tools._dedup_umi.edit_distance'\n",
      "Traceback (most recent call last):\n",
      "  File \"/fh/fast/bloom_j/software/miniconda3/envs/barcoded_flu_pdmH1N1/lib/python3.8/site-packages/umi_tools/network.py\", line 199, in _get_adj_list_directional\n",
      "    if edit_distance(umi1, umi2) <= threshold:\n",
      "TypeError: expected bytes, str found\n"
     ]
    },
    {
     "ename": "TypeError",
     "evalue": "expected bytes, str found",
     "output_type": "error",
     "traceback": [
      "\u001b[0;31m---------------------------------------------------------------------------\u001b[0m",
      "\u001b[0;31mTypeError\u001b[0m                                 Traceback (most recent call last)",
      "\u001b[0;31mTypeError\u001b[0m: expected bytes, str found"
     ]
    },
    {
     "name": "stderr",
     "output_type": "stream",
     "text": [
      "Exception ignored in: 'umi_tools._dedup_umi.edit_distance'\n",
      "Traceback (most recent call last):\n",
      "  File \"/fh/fast/bloom_j/software/miniconda3/envs/barcoded_flu_pdmH1N1/lib/python3.8/site-packages/umi_tools/network.py\", line 199, in _get_adj_list_directional\n",
      "    if edit_distance(umi1, umi2) <= threshold:\n",
      "TypeError: expected bytes, str found\n"
     ]
    },
    {
     "ename": "TypeError",
     "evalue": "expected bytes, str found",
     "output_type": "error",
     "traceback": [
      "\u001b[0;31m---------------------------------------------------------------------------\u001b[0m",
      "\u001b[0;31mTypeError\u001b[0m                                 Traceback (most recent call last)",
      "\u001b[0;31mTypeError\u001b[0m: expected bytes, str found"
     ]
    },
    {
     "name": "stderr",
     "output_type": "stream",
     "text": [
      "Exception ignored in: 'umi_tools._dedup_umi.edit_distance'\n",
      "Traceback (most recent call last):\n",
      "  File \"/fh/fast/bloom_j/software/miniconda3/envs/barcoded_flu_pdmH1N1/lib/python3.8/site-packages/umi_tools/network.py\", line 199, in _get_adj_list_directional\n",
      "    if edit_distance(umi1, umi2) <= threshold:\n",
      "TypeError: expected bytes, str found\n"
     ]
    },
    {
     "ename": "TypeError",
     "evalue": "expected bytes, str found",
     "output_type": "error",
     "traceback": [
      "\u001b[0;31m---------------------------------------------------------------------------\u001b[0m",
      "\u001b[0;31mTypeError\u001b[0m                                 Traceback (most recent call last)",
      "\u001b[0;31mTypeError\u001b[0m: expected bytes, str found"
     ]
    },
    {
     "name": "stderr",
     "output_type": "stream",
     "text": [
      "Exception ignored in: 'umi_tools._dedup_umi.edit_distance'\n",
      "Traceback (most recent call last):\n",
      "  File \"/fh/fast/bloom_j/software/miniconda3/envs/barcoded_flu_pdmH1N1/lib/python3.8/site-packages/umi_tools/network.py\", line 199, in _get_adj_list_directional\n",
      "    if edit_distance(umi1, umi2) <= threshold:\n",
      "TypeError: expected bytes, str found\n"
     ]
    },
    {
     "ename": "TypeError",
     "evalue": "expected bytes, str found",
     "output_type": "error",
     "traceback": [
      "\u001b[0;31m---------------------------------------------------------------------------\u001b[0m",
      "\u001b[0;31mTypeError\u001b[0m                                 Traceback (most recent call last)",
      "\u001b[0;31mTypeError\u001b[0m: expected bytes, str found"
     ]
    },
    {
     "name": "stderr",
     "output_type": "stream",
     "text": [
      "Exception ignored in: 'umi_tools._dedup_umi.edit_distance'\n",
      "Traceback (most recent call last):\n",
      "  File \"/fh/fast/bloom_j/software/miniconda3/envs/barcoded_flu_pdmH1N1/lib/python3.8/site-packages/umi_tools/network.py\", line 199, in _get_adj_list_directional\n",
      "    if edit_distance(umi1, umi2) <= threshold:\n",
      "TypeError: expected bytes, str found\n"
     ]
    },
    {
     "ename": "TypeError",
     "evalue": "expected bytes, str found",
     "output_type": "error",
     "traceback": [
      "\u001b[0;31m---------------------------------------------------------------------------\u001b[0m",
      "\u001b[0;31mTypeError\u001b[0m                                 Traceback (most recent call last)",
      "\u001b[0;31mTypeError\u001b[0m: expected bytes, str found"
     ]
    },
    {
     "name": "stderr",
     "output_type": "stream",
     "text": [
      "Exception ignored in: 'umi_tools._dedup_umi.edit_distance'\n",
      "Traceback (most recent call last):\n",
      "  File \"/fh/fast/bloom_j/software/miniconda3/envs/barcoded_flu_pdmH1N1/lib/python3.8/site-packages/umi_tools/network.py\", line 199, in _get_adj_list_directional\n",
      "    if edit_distance(umi1, umi2) <= threshold:\n",
      "TypeError: expected bytes, str found\n"
     ]
    },
    {
     "ename": "TypeError",
     "evalue": "expected bytes, str found",
     "output_type": "error",
     "traceback": [
      "\u001b[0;31m---------------------------------------------------------------------------\u001b[0m",
      "\u001b[0;31mTypeError\u001b[0m                                 Traceback (most recent call last)",
      "\u001b[0;31mTypeError\u001b[0m: expected bytes, str found"
     ]
    },
    {
     "name": "stderr",
     "output_type": "stream",
     "text": [
      "Exception ignored in: 'umi_tools._dedup_umi.edit_distance'\n",
      "Traceback (most recent call last):\n",
      "  File \"/fh/fast/bloom_j/software/miniconda3/envs/barcoded_flu_pdmH1N1/lib/python3.8/site-packages/umi_tools/network.py\", line 199, in _get_adj_list_directional\n",
      "    if edit_distance(umi1, umi2) <= threshold:\n",
      "TypeError: expected bytes, str found\n"
     ]
    },
    {
     "ename": "TypeError",
     "evalue": "expected bytes, str found",
     "output_type": "error",
     "traceback": [
      "\u001b[0;31m---------------------------------------------------------------------------\u001b[0m",
      "\u001b[0;31mTypeError\u001b[0m                                 Traceback (most recent call last)",
      "\u001b[0;31mTypeError\u001b[0m: expected bytes, str found"
     ]
    },
    {
     "name": "stderr",
     "output_type": "stream",
     "text": [
      "Exception ignored in: 'umi_tools._dedup_umi.edit_distance'\n",
      "Traceback (most recent call last):\n",
      "  File \"/fh/fast/bloom_j/software/miniconda3/envs/barcoded_flu_pdmH1N1/lib/python3.8/site-packages/umi_tools/network.py\", line 199, in _get_adj_list_directional\n",
      "    if edit_distance(umi1, umi2) <= threshold:\n",
      "TypeError: expected bytes, str found\n"
     ]
    },
    {
     "ename": "TypeError",
     "evalue": "expected bytes, str found",
     "output_type": "error",
     "traceback": [
      "\u001b[0;31m---------------------------------------------------------------------------\u001b[0m",
      "\u001b[0;31mTypeError\u001b[0m                                 Traceback (most recent call last)",
      "\u001b[0;31mTypeError\u001b[0m: expected bytes, str found"
     ]
    },
    {
     "name": "stderr",
     "output_type": "stream",
     "text": [
      "Exception ignored in: 'umi_tools._dedup_umi.edit_distance'\n",
      "Traceback (most recent call last):\n",
      "  File \"/fh/fast/bloom_j/software/miniconda3/envs/barcoded_flu_pdmH1N1/lib/python3.8/site-packages/umi_tools/network.py\", line 199, in _get_adj_list_directional\n",
      "    if edit_distance(umi1, umi2) <= threshold:\n",
      "TypeError: expected bytes, str found\n"
     ]
    },
    {
     "ename": "TypeError",
     "evalue": "expected bytes, str found",
     "output_type": "error",
     "traceback": [
      "\u001b[0;31m---------------------------------------------------------------------------\u001b[0m",
      "\u001b[0;31mTypeError\u001b[0m                                 Traceback (most recent call last)",
      "\u001b[0;31mTypeError\u001b[0m: expected bytes, str found"
     ]
    },
    {
     "name": "stderr",
     "output_type": "stream",
     "text": [
      "Exception ignored in: 'umi_tools._dedup_umi.edit_distance'\n",
      "Traceback (most recent call last):\n",
      "  File \"/fh/fast/bloom_j/software/miniconda3/envs/barcoded_flu_pdmH1N1/lib/python3.8/site-packages/umi_tools/network.py\", line 199, in _get_adj_list_directional\n",
      "    if edit_distance(umi1, umi2) <= threshold:\n",
      "TypeError: expected bytes, str found\n"
     ]
    },
    {
     "ename": "TypeError",
     "evalue": "expected bytes, str found",
     "output_type": "error",
     "traceback": [
      "\u001b[0;31m---------------------------------------------------------------------------\u001b[0m",
      "\u001b[0;31mTypeError\u001b[0m                                 Traceback (most recent call last)",
      "\u001b[0;31mTypeError\u001b[0m: expected bytes, str found"
     ]
    },
    {
     "name": "stderr",
     "output_type": "stream",
     "text": [
      "Exception ignored in: 'umi_tools._dedup_umi.edit_distance'\n",
      "Traceback (most recent call last):\n",
      "  File \"/fh/fast/bloom_j/software/miniconda3/envs/barcoded_flu_pdmH1N1/lib/python3.8/site-packages/umi_tools/network.py\", line 199, in _get_adj_list_directional\n",
      "    if edit_distance(umi1, umi2) <= threshold:\n",
      "TypeError: expected bytes, str found\n"
     ]
    },
    {
     "ename": "TypeError",
     "evalue": "expected bytes, str found",
     "output_type": "error",
     "traceback": [
      "\u001b[0;31m---------------------------------------------------------------------------\u001b[0m",
      "\u001b[0;31mTypeError\u001b[0m                                 Traceback (most recent call last)",
      "\u001b[0;31mTypeError\u001b[0m: expected bytes, str found"
     ]
    },
    {
     "name": "stderr",
     "output_type": "stream",
     "text": [
      "Exception ignored in: 'umi_tools._dedup_umi.edit_distance'\n",
      "Traceback (most recent call last):\n",
      "  File \"/fh/fast/bloom_j/software/miniconda3/envs/barcoded_flu_pdmH1N1/lib/python3.8/site-packages/umi_tools/network.py\", line 199, in _get_adj_list_directional\n",
      "    if edit_distance(umi1, umi2) <= threshold:\n",
      "TypeError: expected bytes, str found\n"
     ]
    },
    {
     "ename": "TypeError",
     "evalue": "expected bytes, str found",
     "output_type": "error",
     "traceback": [
      "\u001b[0;31m---------------------------------------------------------------------------\u001b[0m",
      "\u001b[0;31mTypeError\u001b[0m                                 Traceback (most recent call last)",
      "\u001b[0;31mTypeError\u001b[0m: expected bytes, str found"
     ]
    },
    {
     "name": "stderr",
     "output_type": "stream",
     "text": [
      "Exception ignored in: 'umi_tools._dedup_umi.edit_distance'\n",
      "Traceback (most recent call last):\n",
      "  File \"/fh/fast/bloom_j/software/miniconda3/envs/barcoded_flu_pdmH1N1/lib/python3.8/site-packages/umi_tools/network.py\", line 199, in _get_adj_list_directional\n",
      "    if edit_distance(umi1, umi2) <= threshold:\n",
      "TypeError: expected bytes, str found\n"
     ]
    },
    {
     "ename": "TypeError",
     "evalue": "expected bytes, str found",
     "output_type": "error",
     "traceback": [
      "\u001b[0;31m---------------------------------------------------------------------------\u001b[0m",
      "\u001b[0;31mTypeError\u001b[0m                                 Traceback (most recent call last)",
      "\u001b[0;31mTypeError\u001b[0m: expected bytes, str found"
     ]
    },
    {
     "name": "stderr",
     "output_type": "stream",
     "text": [
      "Exception ignored in: 'umi_tools._dedup_umi.edit_distance'\n",
      "Traceback (most recent call last):\n",
      "  File \"/fh/fast/bloom_j/software/miniconda3/envs/barcoded_flu_pdmH1N1/lib/python3.8/site-packages/umi_tools/network.py\", line 199, in _get_adj_list_directional\n",
      "    if edit_distance(umi1, umi2) <= threshold:\n",
      "TypeError: expected bytes, str found\n"
     ]
    },
    {
     "ename": "TypeError",
     "evalue": "expected bytes, str found",
     "output_type": "error",
     "traceback": [
      "\u001b[0;31m---------------------------------------------------------------------------\u001b[0m",
      "\u001b[0;31mTypeError\u001b[0m                                 Traceback (most recent call last)",
      "\u001b[0;31mTypeError\u001b[0m: expected bytes, str found"
     ]
    },
    {
     "name": "stderr",
     "output_type": "stream",
     "text": [
      "Exception ignored in: 'umi_tools._dedup_umi.edit_distance'\n",
      "Traceback (most recent call last):\n",
      "  File \"/fh/fast/bloom_j/software/miniconda3/envs/barcoded_flu_pdmH1N1/lib/python3.8/site-packages/umi_tools/network.py\", line 199, in _get_adj_list_directional\n",
      "    if edit_distance(umi1, umi2) <= threshold:\n",
      "TypeError: expected bytes, str found\n"
     ]
    },
    {
     "ename": "TypeError",
     "evalue": "expected bytes, str found",
     "output_type": "error",
     "traceback": [
      "\u001b[0;31m---------------------------------------------------------------------------\u001b[0m",
      "\u001b[0;31mTypeError\u001b[0m                                 Traceback (most recent call last)",
      "\u001b[0;31mTypeError\u001b[0m: expected bytes, str found"
     ]
    },
    {
     "name": "stderr",
     "output_type": "stream",
     "text": [
      "Exception ignored in: 'umi_tools._dedup_umi.edit_distance'\n",
      "Traceback (most recent call last):\n",
      "  File \"/fh/fast/bloom_j/software/miniconda3/envs/barcoded_flu_pdmH1N1/lib/python3.8/site-packages/umi_tools/network.py\", line 199, in _get_adj_list_directional\n",
      "    if edit_distance(umi1, umi2) <= threshold:\n",
      "TypeError: expected bytes, str found\n"
     ]
    },
    {
     "ename": "TypeError",
     "evalue": "expected bytes, str found",
     "output_type": "error",
     "traceback": [
      "\u001b[0;31m---------------------------------------------------------------------------\u001b[0m",
      "\u001b[0;31mTypeError\u001b[0m                                 Traceback (most recent call last)",
      "\u001b[0;31mTypeError\u001b[0m: expected bytes, str found"
     ]
    },
    {
     "name": "stderr",
     "output_type": "stream",
     "text": [
      "Exception ignored in: 'umi_tools._dedup_umi.edit_distance'\n",
      "Traceback (most recent call last):\n",
      "  File \"/fh/fast/bloom_j/software/miniconda3/envs/barcoded_flu_pdmH1N1/lib/python3.8/site-packages/umi_tools/network.py\", line 199, in _get_adj_list_directional\n",
      "    if edit_distance(umi1, umi2) <= threshold:\n",
      "TypeError: expected bytes, str found\n"
     ]
    },
    {
     "ename": "TypeError",
     "evalue": "expected bytes, str found",
     "output_type": "error",
     "traceback": [
      "\u001b[0;31m---------------------------------------------------------------------------\u001b[0m",
      "\u001b[0;31mTypeError\u001b[0m                                 Traceback (most recent call last)",
      "\u001b[0;31mTypeError\u001b[0m: expected bytes, str found"
     ]
    },
    {
     "name": "stderr",
     "output_type": "stream",
     "text": [
      "Exception ignored in: 'umi_tools._dedup_umi.edit_distance'\n",
      "Traceback (most recent call last):\n",
      "  File \"/fh/fast/bloom_j/software/miniconda3/envs/barcoded_flu_pdmH1N1/lib/python3.8/site-packages/umi_tools/network.py\", line 199, in _get_adj_list_directional\n",
      "    if edit_distance(umi1, umi2) <= threshold:\n",
      "TypeError: expected bytes, str found\n"
     ]
    },
    {
     "ename": "TypeError",
     "evalue": "expected bytes, str found",
     "output_type": "error",
     "traceback": [
      "\u001b[0;31m---------------------------------------------------------------------------\u001b[0m",
      "\u001b[0;31mTypeError\u001b[0m                                 Traceback (most recent call last)",
      "\u001b[0;31mTypeError\u001b[0m: expected bytes, str found"
     ]
    },
    {
     "name": "stderr",
     "output_type": "stream",
     "text": [
      "Exception ignored in: 'umi_tools._dedup_umi.edit_distance'\n",
      "Traceback (most recent call last):\n",
      "  File \"/fh/fast/bloom_j/software/miniconda3/envs/barcoded_flu_pdmH1N1/lib/python3.8/site-packages/umi_tools/network.py\", line 199, in _get_adj_list_directional\n",
      "    if edit_distance(umi1, umi2) <= threshold:\n",
      "TypeError: expected bytes, str found\n"
     ]
    },
    {
     "ename": "TypeError",
     "evalue": "expected bytes, str found",
     "output_type": "error",
     "traceback": [
      "\u001b[0;31m---------------------------------------------------------------------------\u001b[0m",
      "\u001b[0;31mTypeError\u001b[0m                                 Traceback (most recent call last)",
      "\u001b[0;31mTypeError\u001b[0m: expected bytes, str found"
     ]
    },
    {
     "name": "stderr",
     "output_type": "stream",
     "text": [
      "Exception ignored in: 'umi_tools._dedup_umi.edit_distance'\n",
      "Traceback (most recent call last):\n",
      "  File \"/fh/fast/bloom_j/software/miniconda3/envs/barcoded_flu_pdmH1N1/lib/python3.8/site-packages/umi_tools/network.py\", line 199, in _get_adj_list_directional\n",
      "    if edit_distance(umi1, umi2) <= threshold:\n",
      "TypeError: expected bytes, str found\n"
     ]
    },
    {
     "ename": "TypeError",
     "evalue": "expected bytes, str found",
     "output_type": "error",
     "traceback": [
      "\u001b[0;31m---------------------------------------------------------------------------\u001b[0m",
      "\u001b[0;31mTypeError\u001b[0m                                 Traceback (most recent call last)",
      "\u001b[0;31mTypeError\u001b[0m: expected bytes, str found"
     ]
    },
    {
     "name": "stderr",
     "output_type": "stream",
     "text": [
      "Exception ignored in: 'umi_tools._dedup_umi.edit_distance'\n",
      "Traceback (most recent call last):\n",
      "  File \"/fh/fast/bloom_j/software/miniconda3/envs/barcoded_flu_pdmH1N1/lib/python3.8/site-packages/umi_tools/network.py\", line 199, in _get_adj_list_directional\n",
      "    if edit_distance(umi1, umi2) <= threshold:\n",
      "TypeError: expected bytes, str found\n"
     ]
    },
    {
     "ename": "TypeError",
     "evalue": "expected bytes, str found",
     "output_type": "error",
     "traceback": [
      "\u001b[0;31m---------------------------------------------------------------------------\u001b[0m",
      "\u001b[0;31mTypeError\u001b[0m                                 Traceback (most recent call last)",
      "\u001b[0;31mTypeError\u001b[0m: expected bytes, str found"
     ]
    },
    {
     "name": "stderr",
     "output_type": "stream",
     "text": [
      "Exception ignored in: 'umi_tools._dedup_umi.edit_distance'\n",
      "Traceback (most recent call last):\n",
      "  File \"/fh/fast/bloom_j/software/miniconda3/envs/barcoded_flu_pdmH1N1/lib/python3.8/site-packages/umi_tools/network.py\", line 199, in _get_adj_list_directional\n",
      "    if edit_distance(umi1, umi2) <= threshold:\n",
      "TypeError: expected bytes, str found\n"
     ]
    },
    {
     "ename": "TypeError",
     "evalue": "expected bytes, str found",
     "output_type": "error",
     "traceback": [
      "\u001b[0;31m---------------------------------------------------------------------------\u001b[0m",
      "\u001b[0;31mTypeError\u001b[0m                                 Traceback (most recent call last)",
      "\u001b[0;31mTypeError\u001b[0m: expected bytes, str found"
     ]
    },
    {
     "name": "stderr",
     "output_type": "stream",
     "text": [
      "Exception ignored in: 'umi_tools._dedup_umi.edit_distance'\n",
      "Traceback (most recent call last):\n",
      "  File \"/fh/fast/bloom_j/software/miniconda3/envs/barcoded_flu_pdmH1N1/lib/python3.8/site-packages/umi_tools/network.py\", line 199, in _get_adj_list_directional\n",
      "    if edit_distance(umi1, umi2) <= threshold:\n",
      "TypeError: expected bytes, str found\n"
     ]
    },
    {
     "ename": "TypeError",
     "evalue": "expected bytes, str found",
     "output_type": "error",
     "traceback": [
      "\u001b[0;31m---------------------------------------------------------------------------\u001b[0m",
      "\u001b[0;31mTypeError\u001b[0m                                 Traceback (most recent call last)",
      "\u001b[0;31mTypeError\u001b[0m: expected bytes, str found"
     ]
    },
    {
     "name": "stderr",
     "output_type": "stream",
     "text": [
      "Exception ignored in: 'umi_tools._dedup_umi.edit_distance'\n",
      "Traceback (most recent call last):\n",
      "  File \"/fh/fast/bloom_j/software/miniconda3/envs/barcoded_flu_pdmH1N1/lib/python3.8/site-packages/umi_tools/network.py\", line 199, in _get_adj_list_directional\n",
      "    if edit_distance(umi1, umi2) <= threshold:\n",
      "TypeError: expected bytes, str found\n"
     ]
    },
    {
     "ename": "TypeError",
     "evalue": "expected bytes, str found",
     "output_type": "error",
     "traceback": [
      "\u001b[0;31m---------------------------------------------------------------------------\u001b[0m",
      "\u001b[0;31mTypeError\u001b[0m                                 Traceback (most recent call last)",
      "\u001b[0;31mTypeError\u001b[0m: expected bytes, str found"
     ]
    },
    {
     "name": "stderr",
     "output_type": "stream",
     "text": [
      "Exception ignored in: 'umi_tools._dedup_umi.edit_distance'\n",
      "Traceback (most recent call last):\n",
      "  File \"/fh/fast/bloom_j/software/miniconda3/envs/barcoded_flu_pdmH1N1/lib/python3.8/site-packages/umi_tools/network.py\", line 199, in _get_adj_list_directional\n",
      "    if edit_distance(umi1, umi2) <= threshold:\n",
      "TypeError: expected bytes, str found\n"
     ]
    },
    {
     "ename": "TypeError",
     "evalue": "expected bytes, str found",
     "output_type": "error",
     "traceback": [
      "\u001b[0;31m---------------------------------------------------------------------------\u001b[0m",
      "\u001b[0;31mTypeError\u001b[0m                                 Traceback (most recent call last)",
      "\u001b[0;31mTypeError\u001b[0m: expected bytes, str found"
     ]
    },
    {
     "name": "stderr",
     "output_type": "stream",
     "text": [
      "Exception ignored in: 'umi_tools._dedup_umi.edit_distance'\n",
      "Traceback (most recent call last):\n",
      "  File \"/fh/fast/bloom_j/software/miniconda3/envs/barcoded_flu_pdmH1N1/lib/python3.8/site-packages/umi_tools/network.py\", line 199, in _get_adj_list_directional\n",
      "    if edit_distance(umi1, umi2) <= threshold:\n",
      "TypeError: expected bytes, str found\n"
     ]
    },
    {
     "ename": "TypeError",
     "evalue": "expected bytes, str found",
     "output_type": "error",
     "traceback": [
      "\u001b[0;31m---------------------------------------------------------------------------\u001b[0m",
      "\u001b[0;31mTypeError\u001b[0m                                 Traceback (most recent call last)",
      "\u001b[0;31mTypeError\u001b[0m: expected bytes, str found"
     ]
    },
    {
     "name": "stderr",
     "output_type": "stream",
     "text": [
      "Exception ignored in: 'umi_tools._dedup_umi.edit_distance'\n",
      "Traceback (most recent call last):\n",
      "  File \"/fh/fast/bloom_j/software/miniconda3/envs/barcoded_flu_pdmH1N1/lib/python3.8/site-packages/umi_tools/network.py\", line 199, in _get_adj_list_directional\n",
      "    if edit_distance(umi1, umi2) <= threshold:\n",
      "TypeError: expected bytes, str found\n"
     ]
    },
    {
     "ename": "TypeError",
     "evalue": "expected bytes, str found",
     "output_type": "error",
     "traceback": [
      "\u001b[0;31m---------------------------------------------------------------------------\u001b[0m",
      "\u001b[0;31mTypeError\u001b[0m                                 Traceback (most recent call last)",
      "\u001b[0;31mTypeError\u001b[0m: expected bytes, str found"
     ]
    },
    {
     "name": "stderr",
     "output_type": "stream",
     "text": [
      "Exception ignored in: 'umi_tools._dedup_umi.edit_distance'\n",
      "Traceback (most recent call last):\n",
      "  File \"/fh/fast/bloom_j/software/miniconda3/envs/barcoded_flu_pdmH1N1/lib/python3.8/site-packages/umi_tools/network.py\", line 199, in _get_adj_list_directional\n",
      "    if edit_distance(umi1, umi2) <= threshold:\n",
      "TypeError: expected bytes, str found\n"
     ]
    },
    {
     "ename": "TypeError",
     "evalue": "expected bytes, str found",
     "output_type": "error",
     "traceback": [
      "\u001b[0;31m---------------------------------------------------------------------------\u001b[0m",
      "\u001b[0;31mTypeError\u001b[0m                                 Traceback (most recent call last)",
      "\u001b[0;31mTypeError\u001b[0m: expected bytes, str found"
     ]
    },
    {
     "name": "stderr",
     "output_type": "stream",
     "text": [
      "Exception ignored in: 'umi_tools._dedup_umi.edit_distance'\n",
      "Traceback (most recent call last):\n",
      "  File \"/fh/fast/bloom_j/software/miniconda3/envs/barcoded_flu_pdmH1N1/lib/python3.8/site-packages/umi_tools/network.py\", line 199, in _get_adj_list_directional\n",
      "    if edit_distance(umi1, umi2) <= threshold:\n",
      "TypeError: expected bytes, str found\n"
     ]
    },
    {
     "name": "stdout",
     "output_type": "stream",
     "text": [
      "[['AAAAAACGAATGGATT', 'AAAAACCTGAACAATC', 'AAAAAATCGGTAGTGG', 'AAAAACCAATCCCCCA', 'AAAAACCAAATTATTT', 'AAAAAACGAATGGATC', 'AAAAAACGAAGGGATT', 'AAAAAATCGGTAGTAA', 'AAAAAATCGGTAGAGG', 'AAAAAATATTCATACG']]\n",
      "{'AAAAAACGAAGGGATT': 7.869665743817199e-07, 'AAAAAACGAATGGATC': 8.755248771638597e-07, 'AAAAAACGAATGGATT': 0.00033816405663403715, 'AAAAAATATTCATACG': 7.869665743817199e-07, 'AAAAAATCGGTAGAGG': 7.869665743817199e-07, 'AAAAAATCGGTAGTAA': 7.869665743817199e-07, 'AAAAAATCGGTAGTGG': 0.0002460386766780882, 'AAAAACCAAATTATTT': 5.85313758645663e-05, 'AAAAACCAATCCCCCA': 9.124985507878503e-05, 'AAAAACCTGAACAATC': 0.0002941422541688128}\n"
     ]
    },
    {
     "ename": "TypeError",
     "evalue": "expected bytes, str found",
     "output_type": "error",
     "traceback": [
      "\u001b[0;31m---------------------------------------------------------------------------\u001b[0m",
      "\u001b[0;31mTypeError\u001b[0m                                 Traceback (most recent call last)",
      "\u001b[0;31mTypeError\u001b[0m: expected bytes, str found"
     ]
    },
    {
     "name": "stderr",
     "output_type": "stream",
     "text": [
      "Exception ignored in: 'umi_tools._dedup_umi.edit_distance'\n",
      "Traceback (most recent call last):\n",
      "  File \"/fh/fast/bloom_j/software/miniconda3/envs/barcoded_flu_pdmH1N1/lib/python3.8/site-packages/umi_tools/network.py\", line 199, in _get_adj_list_directional\n",
      "    if edit_distance(umi1, umi2) <= threshold:\n",
      "TypeError: expected bytes, str found\n"
     ]
    },
    {
     "ename": "TypeError",
     "evalue": "expected bytes, str found",
     "output_type": "error",
     "traceback": [
      "\u001b[0;31m---------------------------------------------------------------------------\u001b[0m",
      "\u001b[0;31mTypeError\u001b[0m                                 Traceback (most recent call last)",
      "\u001b[0;31mTypeError\u001b[0m: expected bytes, str found"
     ]
    },
    {
     "name": "stderr",
     "output_type": "stream",
     "text": [
      "Exception ignored in: 'umi_tools._dedup_umi.edit_distance'\n",
      "Traceback (most recent call last):\n",
      "  File \"/fh/fast/bloom_j/software/miniconda3/envs/barcoded_flu_pdmH1N1/lib/python3.8/site-packages/umi_tools/network.py\", line 199, in _get_adj_list_directional\n",
      "    if edit_distance(umi1, umi2) <= threshold:\n",
      "TypeError: expected bytes, str found\n"
     ]
    },
    {
     "ename": "TypeError",
     "evalue": "expected bytes, str found",
     "output_type": "error",
     "traceback": [
      "\u001b[0;31m---------------------------------------------------------------------------\u001b[0m",
      "\u001b[0;31mTypeError\u001b[0m                                 Traceback (most recent call last)",
      "\u001b[0;31mTypeError\u001b[0m: expected bytes, str found"
     ]
    },
    {
     "name": "stderr",
     "output_type": "stream",
     "text": [
      "Exception ignored in: 'umi_tools._dedup_umi.edit_distance'\n",
      "Traceback (most recent call last):\n",
      "  File \"/fh/fast/bloom_j/software/miniconda3/envs/barcoded_flu_pdmH1N1/lib/python3.8/site-packages/umi_tools/network.py\", line 199, in _get_adj_list_directional\n",
      "    if edit_distance(umi1, umi2) <= threshold:\n",
      "TypeError: expected bytes, str found\n"
     ]
    },
    {
     "ename": "TypeError",
     "evalue": "expected bytes, str found",
     "output_type": "error",
     "traceback": [
      "\u001b[0;31m---------------------------------------------------------------------------\u001b[0m",
      "\u001b[0;31mTypeError\u001b[0m                                 Traceback (most recent call last)",
      "\u001b[0;31mTypeError\u001b[0m: expected bytes, str found"
     ]
    },
    {
     "name": "stderr",
     "output_type": "stream",
     "text": [
      "Exception ignored in: 'umi_tools._dedup_umi.edit_distance'\n",
      "Traceback (most recent call last):\n",
      "  File \"/fh/fast/bloom_j/software/miniconda3/envs/barcoded_flu_pdmH1N1/lib/python3.8/site-packages/umi_tools/network.py\", line 199, in _get_adj_list_directional\n",
      "    if edit_distance(umi1, umi2) <= threshold:\n",
      "TypeError: expected bytes, str found\n"
     ]
    },
    {
     "ename": "TypeError",
     "evalue": "expected bytes, str found",
     "output_type": "error",
     "traceback": [
      "\u001b[0;31m---------------------------------------------------------------------------\u001b[0m",
      "\u001b[0;31mTypeError\u001b[0m                                 Traceback (most recent call last)",
      "\u001b[0;31mTypeError\u001b[0m: expected bytes, str found"
     ]
    },
    {
     "name": "stderr",
     "output_type": "stream",
     "text": [
      "Exception ignored in: 'umi_tools._dedup_umi.edit_distance'\n",
      "Traceback (most recent call last):\n",
      "  File \"/fh/fast/bloom_j/software/miniconda3/envs/barcoded_flu_pdmH1N1/lib/python3.8/site-packages/umi_tools/network.py\", line 199, in _get_adj_list_directional\n",
      "    if edit_distance(umi1, umi2) <= threshold:\n",
      "TypeError: expected bytes, str found\n"
     ]
    },
    {
     "ename": "TypeError",
     "evalue": "expected bytes, str found",
     "output_type": "error",
     "traceback": [
      "\u001b[0;31m---------------------------------------------------------------------------\u001b[0m",
      "\u001b[0;31mTypeError\u001b[0m                                 Traceback (most recent call last)",
      "\u001b[0;31mTypeError\u001b[0m: expected bytes, str found"
     ]
    },
    {
     "name": "stderr",
     "output_type": "stream",
     "text": [
      "Exception ignored in: 'umi_tools._dedup_umi.edit_distance'\n",
      "Traceback (most recent call last):\n",
      "  File \"/fh/fast/bloom_j/software/miniconda3/envs/barcoded_flu_pdmH1N1/lib/python3.8/site-packages/umi_tools/network.py\", line 199, in _get_adj_list_directional\n",
      "    if edit_distance(umi1, umi2) <= threshold:\n",
      "TypeError: expected bytes, str found\n"
     ]
    },
    {
     "ename": "TypeError",
     "evalue": "expected bytes, str found",
     "output_type": "error",
     "traceback": [
      "\u001b[0;31m---------------------------------------------------------------------------\u001b[0m",
      "\u001b[0;31mTypeError\u001b[0m                                 Traceback (most recent call last)",
      "\u001b[0;31mTypeError\u001b[0m: expected bytes, str found"
     ]
    },
    {
     "name": "stderr",
     "output_type": "stream",
     "text": [
      "Exception ignored in: 'umi_tools._dedup_umi.edit_distance'\n",
      "Traceback (most recent call last):\n",
      "  File \"/fh/fast/bloom_j/software/miniconda3/envs/barcoded_flu_pdmH1N1/lib/python3.8/site-packages/umi_tools/network.py\", line 199, in _get_adj_list_directional\n",
      "    if edit_distance(umi1, umi2) <= threshold:\n",
      "TypeError: expected bytes, str found\n"
     ]
    },
    {
     "ename": "TypeError",
     "evalue": "expected bytes, str found",
     "output_type": "error",
     "traceback": [
      "\u001b[0;31m---------------------------------------------------------------------------\u001b[0m",
      "\u001b[0;31mTypeError\u001b[0m                                 Traceback (most recent call last)",
      "\u001b[0;31mTypeError\u001b[0m: expected bytes, str found"
     ]
    },
    {
     "name": "stderr",
     "output_type": "stream",
     "text": [
      "Exception ignored in: 'umi_tools._dedup_umi.edit_distance'\n",
      "Traceback (most recent call last):\n",
      "  File \"/fh/fast/bloom_j/software/miniconda3/envs/barcoded_flu_pdmH1N1/lib/python3.8/site-packages/umi_tools/network.py\", line 199, in _get_adj_list_directional\n",
      "    if edit_distance(umi1, umi2) <= threshold:\n",
      "TypeError: expected bytes, str found\n"
     ]
    },
    {
     "ename": "TypeError",
     "evalue": "expected bytes, str found",
     "output_type": "error",
     "traceback": [
      "\u001b[0;31m---------------------------------------------------------------------------\u001b[0m",
      "\u001b[0;31mTypeError\u001b[0m                                 Traceback (most recent call last)",
      "\u001b[0;31mTypeError\u001b[0m: expected bytes, str found"
     ]
    },
    {
     "name": "stderr",
     "output_type": "stream",
     "text": [
      "Exception ignored in: 'umi_tools._dedup_umi.edit_distance'\n",
      "Traceback (most recent call last):\n",
      "  File \"/fh/fast/bloom_j/software/miniconda3/envs/barcoded_flu_pdmH1N1/lib/python3.8/site-packages/umi_tools/network.py\", line 199, in _get_adj_list_directional\n",
      "    if edit_distance(umi1, umi2) <= threshold:\n",
      "TypeError: expected bytes, str found\n"
     ]
    },
    {
     "ename": "TypeError",
     "evalue": "expected bytes, str found",
     "output_type": "error",
     "traceback": [
      "\u001b[0;31m---------------------------------------------------------------------------\u001b[0m",
      "\u001b[0;31mTypeError\u001b[0m                                 Traceback (most recent call last)",
      "\u001b[0;31mTypeError\u001b[0m: expected bytes, str found"
     ]
    },
    {
     "name": "stderr",
     "output_type": "stream",
     "text": [
      "Exception ignored in: 'umi_tools._dedup_umi.edit_distance'\n",
      "Traceback (most recent call last):\n",
      "  File \"/fh/fast/bloom_j/software/miniconda3/envs/barcoded_flu_pdmH1N1/lib/python3.8/site-packages/umi_tools/network.py\", line 199, in _get_adj_list_directional\n",
      "    if edit_distance(umi1, umi2) <= threshold:\n",
      "TypeError: expected bytes, str found\n"
     ]
    },
    {
     "ename": "TypeError",
     "evalue": "expected bytes, str found",
     "output_type": "error",
     "traceback": [
      "\u001b[0;31m---------------------------------------------------------------------------\u001b[0m",
      "\u001b[0;31mTypeError\u001b[0m                                 Traceback (most recent call last)",
      "\u001b[0;31mTypeError\u001b[0m: expected bytes, str found"
     ]
    },
    {
     "name": "stderr",
     "output_type": "stream",
     "text": [
      "Exception ignored in: 'umi_tools._dedup_umi.edit_distance'\n",
      "Traceback (most recent call last):\n",
      "  File \"/fh/fast/bloom_j/software/miniconda3/envs/barcoded_flu_pdmH1N1/lib/python3.8/site-packages/umi_tools/network.py\", line 199, in _get_adj_list_directional\n",
      "    if edit_distance(umi1, umi2) <= threshold:\n",
      "TypeError: expected bytes, str found\n"
     ]
    },
    {
     "ename": "TypeError",
     "evalue": "expected bytes, str found",
     "output_type": "error",
     "traceback": [
      "\u001b[0;31m---------------------------------------------------------------------------\u001b[0m",
      "\u001b[0;31mTypeError\u001b[0m                                 Traceback (most recent call last)",
      "\u001b[0;31mTypeError\u001b[0m: expected bytes, str found"
     ]
    },
    {
     "name": "stderr",
     "output_type": "stream",
     "text": [
      "Exception ignored in: 'umi_tools._dedup_umi.edit_distance'\n",
      "Traceback (most recent call last):\n",
      "  File \"/fh/fast/bloom_j/software/miniconda3/envs/barcoded_flu_pdmH1N1/lib/python3.8/site-packages/umi_tools/network.py\", line 199, in _get_adj_list_directional\n",
      "    if edit_distance(umi1, umi2) <= threshold:\n",
      "TypeError: expected bytes, str found\n"
     ]
    },
    {
     "ename": "TypeError",
     "evalue": "expected bytes, str found",
     "output_type": "error",
     "traceback": [
      "\u001b[0;31m---------------------------------------------------------------------------\u001b[0m",
      "\u001b[0;31mTypeError\u001b[0m                                 Traceback (most recent call last)",
      "\u001b[0;31mTypeError\u001b[0m: expected bytes, str found"
     ]
    },
    {
     "name": "stderr",
     "output_type": "stream",
     "text": [
      "Exception ignored in: 'umi_tools._dedup_umi.edit_distance'\n",
      "Traceback (most recent call last):\n",
      "  File \"/fh/fast/bloom_j/software/miniconda3/envs/barcoded_flu_pdmH1N1/lib/python3.8/site-packages/umi_tools/network.py\", line 199, in _get_adj_list_directional\n",
      "    if edit_distance(umi1, umi2) <= threshold:\n",
      "TypeError: expected bytes, str found\n"
     ]
    },
    {
     "ename": "TypeError",
     "evalue": "expected bytes, str found",
     "output_type": "error",
     "traceback": [
      "\u001b[0;31m---------------------------------------------------------------------------\u001b[0m",
      "\u001b[0;31mTypeError\u001b[0m                                 Traceback (most recent call last)",
      "\u001b[0;31mTypeError\u001b[0m: expected bytes, str found"
     ]
    },
    {
     "name": "stderr",
     "output_type": "stream",
     "text": [
      "Exception ignored in: 'umi_tools._dedup_umi.edit_distance'\n",
      "Traceback (most recent call last):\n",
      "  File \"/fh/fast/bloom_j/software/miniconda3/envs/barcoded_flu_pdmH1N1/lib/python3.8/site-packages/umi_tools/network.py\", line 199, in _get_adj_list_directional\n",
      "    if edit_distance(umi1, umi2) <= threshold:\n",
      "TypeError: expected bytes, str found\n"
     ]
    },
    {
     "ename": "TypeError",
     "evalue": "expected bytes, str found",
     "output_type": "error",
     "traceback": [
      "\u001b[0;31m---------------------------------------------------------------------------\u001b[0m",
      "\u001b[0;31mTypeError\u001b[0m                                 Traceback (most recent call last)",
      "\u001b[0;31mTypeError\u001b[0m: expected bytes, str found"
     ]
    },
    {
     "name": "stderr",
     "output_type": "stream",
     "text": [
      "Exception ignored in: 'umi_tools._dedup_umi.edit_distance'\n",
      "Traceback (most recent call last):\n",
      "  File \"/fh/fast/bloom_j/software/miniconda3/envs/barcoded_flu_pdmH1N1/lib/python3.8/site-packages/umi_tools/network.py\", line 199, in _get_adj_list_directional\n",
      "    if edit_distance(umi1, umi2) <= threshold:\n",
      "TypeError: expected bytes, str found\n"
     ]
    },
    {
     "ename": "TypeError",
     "evalue": "expected bytes, str found",
     "output_type": "error",
     "traceback": [
      "\u001b[0;31m---------------------------------------------------------------------------\u001b[0m",
      "\u001b[0;31mTypeError\u001b[0m                                 Traceback (most recent call last)",
      "\u001b[0;31mTypeError\u001b[0m: expected bytes, str found"
     ]
    },
    {
     "name": "stderr",
     "output_type": "stream",
     "text": [
      "Exception ignored in: 'umi_tools._dedup_umi.edit_distance'\n",
      "Traceback (most recent call last):\n",
      "  File \"/fh/fast/bloom_j/software/miniconda3/envs/barcoded_flu_pdmH1N1/lib/python3.8/site-packages/umi_tools/network.py\", line 199, in _get_adj_list_directional\n",
      "    if edit_distance(umi1, umi2) <= threshold:\n",
      "TypeError: expected bytes, str found\n"
     ]
    },
    {
     "ename": "TypeError",
     "evalue": "expected bytes, str found",
     "output_type": "error",
     "traceback": [
      "\u001b[0;31m---------------------------------------------------------------------------\u001b[0m",
      "\u001b[0;31mTypeError\u001b[0m                                 Traceback (most recent call last)",
      "\u001b[0;31mTypeError\u001b[0m: expected bytes, str found"
     ]
    },
    {
     "name": "stderr",
     "output_type": "stream",
     "text": [
      "Exception ignored in: 'umi_tools._dedup_umi.edit_distance'\n",
      "Traceback (most recent call last):\n",
      "  File \"/fh/fast/bloom_j/software/miniconda3/envs/barcoded_flu_pdmH1N1/lib/python3.8/site-packages/umi_tools/network.py\", line 199, in _get_adj_list_directional\n",
      "    if edit_distance(umi1, umi2) <= threshold:\n",
      "TypeError: expected bytes, str found\n"
     ]
    },
    {
     "ename": "TypeError",
     "evalue": "expected bytes, str found",
     "output_type": "error",
     "traceback": [
      "\u001b[0;31m---------------------------------------------------------------------------\u001b[0m",
      "\u001b[0;31mTypeError\u001b[0m                                 Traceback (most recent call last)",
      "\u001b[0;31mTypeError\u001b[0m: expected bytes, str found"
     ]
    },
    {
     "name": "stderr",
     "output_type": "stream",
     "text": [
      "Exception ignored in: 'umi_tools._dedup_umi.edit_distance'\n",
      "Traceback (most recent call last):\n",
      "  File \"/fh/fast/bloom_j/software/miniconda3/envs/barcoded_flu_pdmH1N1/lib/python3.8/site-packages/umi_tools/network.py\", line 199, in _get_adj_list_directional\n",
      "    if edit_distance(umi1, umi2) <= threshold:\n",
      "TypeError: expected bytes, str found\n"
     ]
    },
    {
     "ename": "TypeError",
     "evalue": "expected bytes, str found",
     "output_type": "error",
     "traceback": [
      "\u001b[0;31m---------------------------------------------------------------------------\u001b[0m",
      "\u001b[0;31mTypeError\u001b[0m                                 Traceback (most recent call last)",
      "\u001b[0;31mTypeError\u001b[0m: expected bytes, str found"
     ]
    },
    {
     "name": "stderr",
     "output_type": "stream",
     "text": [
      "Exception ignored in: 'umi_tools._dedup_umi.edit_distance'\n",
      "Traceback (most recent call last):\n",
      "  File \"/fh/fast/bloom_j/software/miniconda3/envs/barcoded_flu_pdmH1N1/lib/python3.8/site-packages/umi_tools/network.py\", line 199, in _get_adj_list_directional\n",
      "    if edit_distance(umi1, umi2) <= threshold:\n",
      "TypeError: expected bytes, str found\n"
     ]
    },
    {
     "ename": "TypeError",
     "evalue": "expected bytes, str found",
     "output_type": "error",
     "traceback": [
      "\u001b[0;31m---------------------------------------------------------------------------\u001b[0m",
      "\u001b[0;31mTypeError\u001b[0m                                 Traceback (most recent call last)",
      "\u001b[0;31mTypeError\u001b[0m: expected bytes, str found"
     ]
    },
    {
     "name": "stderr",
     "output_type": "stream",
     "text": [
      "Exception ignored in: 'umi_tools._dedup_umi.edit_distance'\n",
      "Traceback (most recent call last):\n",
      "  File \"/fh/fast/bloom_j/software/miniconda3/envs/barcoded_flu_pdmH1N1/lib/python3.8/site-packages/umi_tools/network.py\", line 199, in _get_adj_list_directional\n",
      "    if edit_distance(umi1, umi2) <= threshold:\n",
      "TypeError: expected bytes, str found\n"
     ]
    },
    {
     "ename": "TypeError",
     "evalue": "expected bytes, str found",
     "output_type": "error",
     "traceback": [
      "\u001b[0;31m---------------------------------------------------------------------------\u001b[0m",
      "\u001b[0;31mTypeError\u001b[0m                                 Traceback (most recent call last)",
      "\u001b[0;31mTypeError\u001b[0m: expected bytes, str found"
     ]
    },
    {
     "name": "stderr",
     "output_type": "stream",
     "text": [
      "Exception ignored in: 'umi_tools._dedup_umi.edit_distance'\n",
      "Traceback (most recent call last):\n",
      "  File \"/fh/fast/bloom_j/software/miniconda3/envs/barcoded_flu_pdmH1N1/lib/python3.8/site-packages/umi_tools/network.py\", line 199, in _get_adj_list_directional\n",
      "    if edit_distance(umi1, umi2) <= threshold:\n",
      "TypeError: expected bytes, str found\n"
     ]
    },
    {
     "ename": "TypeError",
     "evalue": "expected bytes, str found",
     "output_type": "error",
     "traceback": [
      "\u001b[0;31m---------------------------------------------------------------------------\u001b[0m",
      "\u001b[0;31mTypeError\u001b[0m                                 Traceback (most recent call last)",
      "\u001b[0;31mTypeError\u001b[0m: expected bytes, str found"
     ]
    },
    {
     "name": "stderr",
     "output_type": "stream",
     "text": [
      "Exception ignored in: 'umi_tools._dedup_umi.edit_distance'\n",
      "Traceback (most recent call last):\n",
      "  File \"/fh/fast/bloom_j/software/miniconda3/envs/barcoded_flu_pdmH1N1/lib/python3.8/site-packages/umi_tools/network.py\", line 199, in _get_adj_list_directional\n",
      "    if edit_distance(umi1, umi2) <= threshold:\n",
      "TypeError: expected bytes, str found\n"
     ]
    },
    {
     "ename": "TypeError",
     "evalue": "expected bytes, str found",
     "output_type": "error",
     "traceback": [
      "\u001b[0;31m---------------------------------------------------------------------------\u001b[0m",
      "\u001b[0;31mTypeError\u001b[0m                                 Traceback (most recent call last)",
      "\u001b[0;31mTypeError\u001b[0m: expected bytes, str found"
     ]
    },
    {
     "name": "stderr",
     "output_type": "stream",
     "text": [
      "Exception ignored in: 'umi_tools._dedup_umi.edit_distance'\n",
      "Traceback (most recent call last):\n",
      "  File \"/fh/fast/bloom_j/software/miniconda3/envs/barcoded_flu_pdmH1N1/lib/python3.8/site-packages/umi_tools/network.py\", line 199, in _get_adj_list_directional\n",
      "    if edit_distance(umi1, umi2) <= threshold:\n",
      "TypeError: expected bytes, str found\n"
     ]
    },
    {
     "ename": "TypeError",
     "evalue": "expected bytes, str found",
     "output_type": "error",
     "traceback": [
      "\u001b[0;31m---------------------------------------------------------------------------\u001b[0m",
      "\u001b[0;31mTypeError\u001b[0m                                 Traceback (most recent call last)",
      "\u001b[0;31mTypeError\u001b[0m: expected bytes, str found"
     ]
    },
    {
     "name": "stderr",
     "output_type": "stream",
     "text": [
      "Exception ignored in: 'umi_tools._dedup_umi.edit_distance'\n",
      "Traceback (most recent call last):\n",
      "  File \"/fh/fast/bloom_j/software/miniconda3/envs/barcoded_flu_pdmH1N1/lib/python3.8/site-packages/umi_tools/network.py\", line 199, in _get_adj_list_directional\n",
      "    if edit_distance(umi1, umi2) <= threshold:\n",
      "TypeError: expected bytes, str found\n"
     ]
    },
    {
     "ename": "TypeError",
     "evalue": "expected bytes, str found",
     "output_type": "error",
     "traceback": [
      "\u001b[0;31m---------------------------------------------------------------------------\u001b[0m",
      "\u001b[0;31mTypeError\u001b[0m                                 Traceback (most recent call last)",
      "\u001b[0;31mTypeError\u001b[0m: expected bytes, str found"
     ]
    },
    {
     "name": "stderr",
     "output_type": "stream",
     "text": [
      "Exception ignored in: 'umi_tools._dedup_umi.edit_distance'\n",
      "Traceback (most recent call last):\n",
      "  File \"/fh/fast/bloom_j/software/miniconda3/envs/barcoded_flu_pdmH1N1/lib/python3.8/site-packages/umi_tools/network.py\", line 199, in _get_adj_list_directional\n",
      "    if edit_distance(umi1, umi2) <= threshold:\n",
      "TypeError: expected bytes, str found\n"
     ]
    },
    {
     "ename": "TypeError",
     "evalue": "expected bytes, str found",
     "output_type": "error",
     "traceback": [
      "\u001b[0;31m---------------------------------------------------------------------------\u001b[0m",
      "\u001b[0;31mTypeError\u001b[0m                                 Traceback (most recent call last)",
      "\u001b[0;31mTypeError\u001b[0m: expected bytes, str found"
     ]
    },
    {
     "name": "stderr",
     "output_type": "stream",
     "text": [
      "Exception ignored in: 'umi_tools._dedup_umi.edit_distance'\n",
      "Traceback (most recent call last):\n",
      "  File \"/fh/fast/bloom_j/software/miniconda3/envs/barcoded_flu_pdmH1N1/lib/python3.8/site-packages/umi_tools/network.py\", line 199, in _get_adj_list_directional\n",
      "    if edit_distance(umi1, umi2) <= threshold:\n",
      "TypeError: expected bytes, str found\n"
     ]
    },
    {
     "ename": "TypeError",
     "evalue": "expected bytes, str found",
     "output_type": "error",
     "traceback": [
      "\u001b[0;31m---------------------------------------------------------------------------\u001b[0m",
      "\u001b[0;31mTypeError\u001b[0m                                 Traceback (most recent call last)",
      "\u001b[0;31mTypeError\u001b[0m: expected bytes, str found"
     ]
    },
    {
     "name": "stderr",
     "output_type": "stream",
     "text": [
      "Exception ignored in: 'umi_tools._dedup_umi.edit_distance'\n",
      "Traceback (most recent call last):\n",
      "  File \"/fh/fast/bloom_j/software/miniconda3/envs/barcoded_flu_pdmH1N1/lib/python3.8/site-packages/umi_tools/network.py\", line 199, in _get_adj_list_directional\n",
      "    if edit_distance(umi1, umi2) <= threshold:\n",
      "TypeError: expected bytes, str found\n"
     ]
    },
    {
     "ename": "TypeError",
     "evalue": "expected bytes, str found",
     "output_type": "error",
     "traceback": [
      "\u001b[0;31m---------------------------------------------------------------------------\u001b[0m",
      "\u001b[0;31mTypeError\u001b[0m                                 Traceback (most recent call last)",
      "\u001b[0;31mTypeError\u001b[0m: expected bytes, str found"
     ]
    },
    {
     "name": "stderr",
     "output_type": "stream",
     "text": [
      "Exception ignored in: 'umi_tools._dedup_umi.edit_distance'\n",
      "Traceback (most recent call last):\n",
      "  File \"/fh/fast/bloom_j/software/miniconda3/envs/barcoded_flu_pdmH1N1/lib/python3.8/site-packages/umi_tools/network.py\", line 199, in _get_adj_list_directional\n",
      "    if edit_distance(umi1, umi2) <= threshold:\n",
      "TypeError: expected bytes, str found\n"
     ]
    },
    {
     "ename": "TypeError",
     "evalue": "expected bytes, str found",
     "output_type": "error",
     "traceback": [
      "\u001b[0;31m---------------------------------------------------------------------------\u001b[0m",
      "\u001b[0;31mTypeError\u001b[0m                                 Traceback (most recent call last)",
      "\u001b[0;31mTypeError\u001b[0m: expected bytes, str found"
     ]
    },
    {
     "name": "stderr",
     "output_type": "stream",
     "text": [
      "Exception ignored in: 'umi_tools._dedup_umi.edit_distance'\n",
      "Traceback (most recent call last):\n",
      "  File \"/fh/fast/bloom_j/software/miniconda3/envs/barcoded_flu_pdmH1N1/lib/python3.8/site-packages/umi_tools/network.py\", line 199, in _get_adj_list_directional\n",
      "    if edit_distance(umi1, umi2) <= threshold:\n",
      "TypeError: expected bytes, str found\n"
     ]
    },
    {
     "ename": "TypeError",
     "evalue": "expected bytes, str found",
     "output_type": "error",
     "traceback": [
      "\u001b[0;31m---------------------------------------------------------------------------\u001b[0m",
      "\u001b[0;31mTypeError\u001b[0m                                 Traceback (most recent call last)",
      "\u001b[0;31mTypeError\u001b[0m: expected bytes, str found"
     ]
    },
    {
     "name": "stderr",
     "output_type": "stream",
     "text": [
      "Exception ignored in: 'umi_tools._dedup_umi.edit_distance'\n",
      "Traceback (most recent call last):\n",
      "  File \"/fh/fast/bloom_j/software/miniconda3/envs/barcoded_flu_pdmH1N1/lib/python3.8/site-packages/umi_tools/network.py\", line 199, in _get_adj_list_directional\n",
      "    if edit_distance(umi1, umi2) <= threshold:\n",
      "TypeError: expected bytes, str found\n"
     ]
    },
    {
     "ename": "TypeError",
     "evalue": "expected bytes, str found",
     "output_type": "error",
     "traceback": [
      "\u001b[0;31m---------------------------------------------------------------------------\u001b[0m",
      "\u001b[0;31mTypeError\u001b[0m                                 Traceback (most recent call last)",
      "\u001b[0;31mTypeError\u001b[0m: expected bytes, str found"
     ]
    },
    {
     "name": "stderr",
     "output_type": "stream",
     "text": [
      "Exception ignored in: 'umi_tools._dedup_umi.edit_distance'\n",
      "Traceback (most recent call last):\n",
      "  File \"/fh/fast/bloom_j/software/miniconda3/envs/barcoded_flu_pdmH1N1/lib/python3.8/site-packages/umi_tools/network.py\", line 199, in _get_adj_list_directional\n",
      "    if edit_distance(umi1, umi2) <= threshold:\n",
      "TypeError: expected bytes, str found\n"
     ]
    },
    {
     "ename": "TypeError",
     "evalue": "expected bytes, str found",
     "output_type": "error",
     "traceback": [
      "\u001b[0;31m---------------------------------------------------------------------------\u001b[0m",
      "\u001b[0;31mTypeError\u001b[0m                                 Traceback (most recent call last)",
      "\u001b[0;31mTypeError\u001b[0m: expected bytes, str found"
     ]
    },
    {
     "name": "stderr",
     "output_type": "stream",
     "text": [
      "Exception ignored in: 'umi_tools._dedup_umi.edit_distance'\n",
      "Traceback (most recent call last):\n",
      "  File \"/fh/fast/bloom_j/software/miniconda3/envs/barcoded_flu_pdmH1N1/lib/python3.8/site-packages/umi_tools/network.py\", line 199, in _get_adj_list_directional\n",
      "    if edit_distance(umi1, umi2) <= threshold:\n",
      "TypeError: expected bytes, str found\n"
     ]
    },
    {
     "ename": "TypeError",
     "evalue": "expected bytes, str found",
     "output_type": "error",
     "traceback": [
      "\u001b[0;31m---------------------------------------------------------------------------\u001b[0m",
      "\u001b[0;31mTypeError\u001b[0m                                 Traceback (most recent call last)",
      "\u001b[0;31mTypeError\u001b[0m: expected bytes, str found"
     ]
    },
    {
     "name": "stderr",
     "output_type": "stream",
     "text": [
      "Exception ignored in: 'umi_tools._dedup_umi.edit_distance'\n",
      "Traceback (most recent call last):\n",
      "  File \"/fh/fast/bloom_j/software/miniconda3/envs/barcoded_flu_pdmH1N1/lib/python3.8/site-packages/umi_tools/network.py\", line 199, in _get_adj_list_directional\n",
      "    if edit_distance(umi1, umi2) <= threshold:\n",
      "TypeError: expected bytes, str found\n"
     ]
    },
    {
     "ename": "TypeError",
     "evalue": "expected bytes, str found",
     "output_type": "error",
     "traceback": [
      "\u001b[0;31m---------------------------------------------------------------------------\u001b[0m",
      "\u001b[0;31mTypeError\u001b[0m                                 Traceback (most recent call last)",
      "\u001b[0;31mTypeError\u001b[0m: expected bytes, str found"
     ]
    },
    {
     "name": "stderr",
     "output_type": "stream",
     "text": [
      "Exception ignored in: 'umi_tools._dedup_umi.edit_distance'\n",
      "Traceback (most recent call last):\n",
      "  File \"/fh/fast/bloom_j/software/miniconda3/envs/barcoded_flu_pdmH1N1/lib/python3.8/site-packages/umi_tools/network.py\", line 199, in _get_adj_list_directional\n",
      "    if edit_distance(umi1, umi2) <= threshold:\n",
      "TypeError: expected bytes, str found\n"
     ]
    },
    {
     "ename": "TypeError",
     "evalue": "expected bytes, str found",
     "output_type": "error",
     "traceback": [
      "\u001b[0;31m---------------------------------------------------------------------------\u001b[0m",
      "\u001b[0;31mTypeError\u001b[0m                                 Traceback (most recent call last)",
      "\u001b[0;31mTypeError\u001b[0m: expected bytes, str found"
     ]
    },
    {
     "name": "stderr",
     "output_type": "stream",
     "text": [
      "Exception ignored in: 'umi_tools._dedup_umi.edit_distance'\n",
      "Traceback (most recent call last):\n",
      "  File \"/fh/fast/bloom_j/software/miniconda3/envs/barcoded_flu_pdmH1N1/lib/python3.8/site-packages/umi_tools/network.py\", line 199, in _get_adj_list_directional\n",
      "    if edit_distance(umi1, umi2) <= threshold:\n",
      "TypeError: expected bytes, str found\n"
     ]
    },
    {
     "ename": "TypeError",
     "evalue": "expected bytes, str found",
     "output_type": "error",
     "traceback": [
      "\u001b[0;31m---------------------------------------------------------------------------\u001b[0m",
      "\u001b[0;31mTypeError\u001b[0m                                 Traceback (most recent call last)",
      "\u001b[0;31mTypeError\u001b[0m: expected bytes, str found"
     ]
    },
    {
     "name": "stderr",
     "output_type": "stream",
     "text": [
      "Exception ignored in: 'umi_tools._dedup_umi.edit_distance'\n",
      "Traceback (most recent call last):\n",
      "  File \"/fh/fast/bloom_j/software/miniconda3/envs/barcoded_flu_pdmH1N1/lib/python3.8/site-packages/umi_tools/network.py\", line 199, in _get_adj_list_directional\n",
      "    if edit_distance(umi1, umi2) <= threshold:\n",
      "TypeError: expected bytes, str found\n"
     ]
    },
    {
     "ename": "TypeError",
     "evalue": "expected bytes, str found",
     "output_type": "error",
     "traceback": [
      "\u001b[0;31m---------------------------------------------------------------------------\u001b[0m",
      "\u001b[0;31mTypeError\u001b[0m                                 Traceback (most recent call last)",
      "\u001b[0;31mTypeError\u001b[0m: expected bytes, str found"
     ]
    },
    {
     "name": "stderr",
     "output_type": "stream",
     "text": [
      "Exception ignored in: 'umi_tools._dedup_umi.edit_distance'\n",
      "Traceback (most recent call last):\n",
      "  File \"/fh/fast/bloom_j/software/miniconda3/envs/barcoded_flu_pdmH1N1/lib/python3.8/site-packages/umi_tools/network.py\", line 199, in _get_adj_list_directional\n",
      "    if edit_distance(umi1, umi2) <= threshold:\n",
      "TypeError: expected bytes, str found\n"
     ]
    },
    {
     "ename": "TypeError",
     "evalue": "expected bytes, str found",
     "output_type": "error",
     "traceback": [
      "\u001b[0;31m---------------------------------------------------------------------------\u001b[0m",
      "\u001b[0;31mTypeError\u001b[0m                                 Traceback (most recent call last)",
      "\u001b[0;31mTypeError\u001b[0m: expected bytes, str found"
     ]
    },
    {
     "name": "stderr",
     "output_type": "stream",
     "text": [
      "Exception ignored in: 'umi_tools._dedup_umi.edit_distance'\n",
      "Traceback (most recent call last):\n",
      "  File \"/fh/fast/bloom_j/software/miniconda3/envs/barcoded_flu_pdmH1N1/lib/python3.8/site-packages/umi_tools/network.py\", line 199, in _get_adj_list_directional\n",
      "    if edit_distance(umi1, umi2) <= threshold:\n",
      "TypeError: expected bytes, str found\n"
     ]
    },
    {
     "ename": "TypeError",
     "evalue": "expected bytes, str found",
     "output_type": "error",
     "traceback": [
      "\u001b[0;31m---------------------------------------------------------------------------\u001b[0m",
      "\u001b[0;31mTypeError\u001b[0m                                 Traceback (most recent call last)",
      "\u001b[0;31mTypeError\u001b[0m: expected bytes, str found"
     ]
    },
    {
     "name": "stderr",
     "output_type": "stream",
     "text": [
      "Exception ignored in: 'umi_tools._dedup_umi.edit_distance'\n",
      "Traceback (most recent call last):\n",
      "  File \"/fh/fast/bloom_j/software/miniconda3/envs/barcoded_flu_pdmH1N1/lib/python3.8/site-packages/umi_tools/network.py\", line 199, in _get_adj_list_directional\n",
      "    if edit_distance(umi1, umi2) <= threshold:\n",
      "TypeError: expected bytes, str found\n"
     ]
    },
    {
     "ename": "TypeError",
     "evalue": "expected bytes, str found",
     "output_type": "error",
     "traceback": [
      "\u001b[0;31m---------------------------------------------------------------------------\u001b[0m",
      "\u001b[0;31mTypeError\u001b[0m                                 Traceback (most recent call last)",
      "\u001b[0;31mTypeError\u001b[0m: expected bytes, str found"
     ]
    },
    {
     "name": "stderr",
     "output_type": "stream",
     "text": [
      "Exception ignored in: 'umi_tools._dedup_umi.edit_distance'\n",
      "Traceback (most recent call last):\n",
      "  File \"/fh/fast/bloom_j/software/miniconda3/envs/barcoded_flu_pdmH1N1/lib/python3.8/site-packages/umi_tools/network.py\", line 199, in _get_adj_list_directional\n",
      "    if edit_distance(umi1, umi2) <= threshold:\n",
      "TypeError: expected bytes, str found\n"
     ]
    },
    {
     "ename": "TypeError",
     "evalue": "expected bytes, str found",
     "output_type": "error",
     "traceback": [
      "\u001b[0;31m---------------------------------------------------------------------------\u001b[0m",
      "\u001b[0;31mTypeError\u001b[0m                                 Traceback (most recent call last)",
      "\u001b[0;31mTypeError\u001b[0m: expected bytes, str found"
     ]
    },
    {
     "name": "stderr",
     "output_type": "stream",
     "text": [
      "Exception ignored in: 'umi_tools._dedup_umi.edit_distance'\n",
      "Traceback (most recent call last):\n",
      "  File \"/fh/fast/bloom_j/software/miniconda3/envs/barcoded_flu_pdmH1N1/lib/python3.8/site-packages/umi_tools/network.py\", line 199, in _get_adj_list_directional\n",
      "    if edit_distance(umi1, umi2) <= threshold:\n",
      "TypeError: expected bytes, str found\n"
     ]
    },
    {
     "ename": "TypeError",
     "evalue": "expected bytes, str found",
     "output_type": "error",
     "traceback": [
      "\u001b[0;31m---------------------------------------------------------------------------\u001b[0m",
      "\u001b[0;31mTypeError\u001b[0m                                 Traceback (most recent call last)",
      "\u001b[0;31mTypeError\u001b[0m: expected bytes, str found"
     ]
    },
    {
     "name": "stderr",
     "output_type": "stream",
     "text": [
      "Exception ignored in: 'umi_tools._dedup_umi.edit_distance'\n",
      "Traceback (most recent call last):\n",
      "  File \"/fh/fast/bloom_j/software/miniconda3/envs/barcoded_flu_pdmH1N1/lib/python3.8/site-packages/umi_tools/network.py\", line 199, in _get_adj_list_directional\n",
      "    if edit_distance(umi1, umi2) <= threshold:\n",
      "TypeError: expected bytes, str found\n"
     ]
    },
    {
     "ename": "TypeError",
     "evalue": "expected bytes, str found",
     "output_type": "error",
     "traceback": [
      "\u001b[0;31m---------------------------------------------------------------------------\u001b[0m",
      "\u001b[0;31mTypeError\u001b[0m                                 Traceback (most recent call last)",
      "\u001b[0;31mTypeError\u001b[0m: expected bytes, str found"
     ]
    },
    {
     "name": "stderr",
     "output_type": "stream",
     "text": [
      "Exception ignored in: 'umi_tools._dedup_umi.edit_distance'\n",
      "Traceback (most recent call last):\n",
      "  File \"/fh/fast/bloom_j/software/miniconda3/envs/barcoded_flu_pdmH1N1/lib/python3.8/site-packages/umi_tools/network.py\", line 199, in _get_adj_list_directional\n",
      "    if edit_distance(umi1, umi2) <= threshold:\n",
      "TypeError: expected bytes, str found\n"
     ]
    },
    {
     "ename": "TypeError",
     "evalue": "expected bytes, str found",
     "output_type": "error",
     "traceback": [
      "\u001b[0;31m---------------------------------------------------------------------------\u001b[0m",
      "\u001b[0;31mTypeError\u001b[0m                                 Traceback (most recent call last)",
      "\u001b[0;31mTypeError\u001b[0m: expected bytes, str found"
     ]
    },
    {
     "name": "stderr",
     "output_type": "stream",
     "text": [
      "Exception ignored in: 'umi_tools._dedup_umi.edit_distance'\n",
      "Traceback (most recent call last):\n",
      "  File \"/fh/fast/bloom_j/software/miniconda3/envs/barcoded_flu_pdmH1N1/lib/python3.8/site-packages/umi_tools/network.py\", line 199, in _get_adj_list_directional\n",
      "    if edit_distance(umi1, umi2) <= threshold:\n",
      "TypeError: expected bytes, str found\n"
     ]
    },
    {
     "ename": "TypeError",
     "evalue": "expected bytes, str found",
     "output_type": "error",
     "traceback": [
      "\u001b[0;31m---------------------------------------------------------------------------\u001b[0m",
      "\u001b[0;31mTypeError\u001b[0m                                 Traceback (most recent call last)",
      "\u001b[0;31mTypeError\u001b[0m: expected bytes, str found"
     ]
    },
    {
     "name": "stderr",
     "output_type": "stream",
     "text": [
      "Exception ignored in: 'umi_tools._dedup_umi.edit_distance'\n",
      "Traceback (most recent call last):\n",
      "  File \"/fh/fast/bloom_j/software/miniconda3/envs/barcoded_flu_pdmH1N1/lib/python3.8/site-packages/umi_tools/network.py\", line 199, in _get_adj_list_directional\n",
      "    if edit_distance(umi1, umi2) <= threshold:\n",
      "TypeError: expected bytes, str found\n"
     ]
    },
    {
     "name": "stdout",
     "output_type": "stream",
     "text": [
      "[['AAAAAACGAATGGATT', 'AAAAACCTGAACAATC', 'AAAAAATCGGTAGTGG', 'AAAAACCAATCCCCCA', 'AAAAACCAAATTATTT', 'AAAAAACGAATGGATC', 'AAAAAACGAAGGGATT', 'AAAAAATCGGTAGTAA', 'AAAAAATCGGTAGAGG', 'AAAAAATATTCATACG']]\n",
      "{'AAAAAACGAAGGGATT': 7.869665743817199e-07, 'AAAAAACGAATGGATC': 8.755248771638597e-07, 'AAAAAACGAATGGATT': 0.00033816405663403715, 'AAAAAATATTCATACG': 7.869665743817199e-07, 'AAAAAATCGGTAGAGG': 7.869665743817199e-07, 'AAAAAATCGGTAGTAA': 7.869665743817199e-07, 'AAAAAATCGGTAGTGG': 0.0002460386766780882, 'AAAAACCAAATTATTT': 5.85313758645663e-05, 'AAAAACCAATCCCCCA': 9.124985507878503e-05, 'AAAAACCTGAACAATC': 0.0002941422541688128}\n"
     ]
    },
    {
     "ename": "TypeError",
     "evalue": "expected bytes, str found",
     "output_type": "error",
     "traceback": [
      "\u001b[0;31m---------------------------------------------------------------------------\u001b[0m",
      "\u001b[0;31mTypeError\u001b[0m                                 Traceback (most recent call last)",
      "\u001b[0;31mTypeError\u001b[0m: expected bytes, str found"
     ]
    },
    {
     "name": "stderr",
     "output_type": "stream",
     "text": [
      "Exception ignored in: 'umi_tools._dedup_umi.edit_distance'\n",
      "Traceback (most recent call last):\n",
      "  File \"/fh/fast/bloom_j/software/miniconda3/envs/barcoded_flu_pdmH1N1/lib/python3.8/site-packages/umi_tools/network.py\", line 199, in _get_adj_list_directional\n",
      "    if edit_distance(umi1, umi2) <= threshold:\n",
      "TypeError: expected bytes, str found\n"
     ]
    },
    {
     "ename": "TypeError",
     "evalue": "expected bytes, str found",
     "output_type": "error",
     "traceback": [
      "\u001b[0;31m---------------------------------------------------------------------------\u001b[0m",
      "\u001b[0;31mTypeError\u001b[0m                                 Traceback (most recent call last)",
      "\u001b[0;31mTypeError\u001b[0m: expected bytes, str found"
     ]
    },
    {
     "name": "stderr",
     "output_type": "stream",
     "text": [
      "Exception ignored in: 'umi_tools._dedup_umi.edit_distance'\n",
      "Traceback (most recent call last):\n",
      "  File \"/fh/fast/bloom_j/software/miniconda3/envs/barcoded_flu_pdmH1N1/lib/python3.8/site-packages/umi_tools/network.py\", line 199, in _get_adj_list_directional\n",
      "    if edit_distance(umi1, umi2) <= threshold:\n",
      "TypeError: expected bytes, str found\n"
     ]
    },
    {
     "ename": "TypeError",
     "evalue": "expected bytes, str found",
     "output_type": "error",
     "traceback": [
      "\u001b[0;31m---------------------------------------------------------------------------\u001b[0m",
      "\u001b[0;31mTypeError\u001b[0m                                 Traceback (most recent call last)",
      "\u001b[0;31mTypeError\u001b[0m: expected bytes, str found"
     ]
    },
    {
     "name": "stderr",
     "output_type": "stream",
     "text": [
      "Exception ignored in: 'umi_tools._dedup_umi.edit_distance'\n",
      "Traceback (most recent call last):\n",
      "  File \"/fh/fast/bloom_j/software/miniconda3/envs/barcoded_flu_pdmH1N1/lib/python3.8/site-packages/umi_tools/network.py\", line 199, in _get_adj_list_directional\n",
      "    if edit_distance(umi1, umi2) <= threshold:\n",
      "TypeError: expected bytes, str found\n"
     ]
    },
    {
     "ename": "TypeError",
     "evalue": "expected bytes, str found",
     "output_type": "error",
     "traceback": [
      "\u001b[0;31m---------------------------------------------------------------------------\u001b[0m",
      "\u001b[0;31mTypeError\u001b[0m                                 Traceback (most recent call last)",
      "\u001b[0;31mTypeError\u001b[0m: expected bytes, str found"
     ]
    },
    {
     "name": "stderr",
     "output_type": "stream",
     "text": [
      "Exception ignored in: 'umi_tools._dedup_umi.edit_distance'\n",
      "Traceback (most recent call last):\n",
      "  File \"/fh/fast/bloom_j/software/miniconda3/envs/barcoded_flu_pdmH1N1/lib/python3.8/site-packages/umi_tools/network.py\", line 199, in _get_adj_list_directional\n",
      "    if edit_distance(umi1, umi2) <= threshold:\n",
      "TypeError: expected bytes, str found\n"
     ]
    },
    {
     "ename": "TypeError",
     "evalue": "expected bytes, str found",
     "output_type": "error",
     "traceback": [
      "\u001b[0;31m---------------------------------------------------------------------------\u001b[0m",
      "\u001b[0;31mTypeError\u001b[0m                                 Traceback (most recent call last)",
      "\u001b[0;31mTypeError\u001b[0m: expected bytes, str found"
     ]
    },
    {
     "name": "stderr",
     "output_type": "stream",
     "text": [
      "Exception ignored in: 'umi_tools._dedup_umi.edit_distance'\n",
      "Traceback (most recent call last):\n",
      "  File \"/fh/fast/bloom_j/software/miniconda3/envs/barcoded_flu_pdmH1N1/lib/python3.8/site-packages/umi_tools/network.py\", line 199, in _get_adj_list_directional\n",
      "    if edit_distance(umi1, umi2) <= threshold:\n",
      "TypeError: expected bytes, str found\n"
     ]
    },
    {
     "ename": "TypeError",
     "evalue": "expected bytes, str found",
     "output_type": "error",
     "traceback": [
      "\u001b[0;31m---------------------------------------------------------------------------\u001b[0m",
      "\u001b[0;31mTypeError\u001b[0m                                 Traceback (most recent call last)",
      "\u001b[0;31mTypeError\u001b[0m: expected bytes, str found"
     ]
    },
    {
     "name": "stderr",
     "output_type": "stream",
     "text": [
      "Exception ignored in: 'umi_tools._dedup_umi.edit_distance'\n",
      "Traceback (most recent call last):\n",
      "  File \"/fh/fast/bloom_j/software/miniconda3/envs/barcoded_flu_pdmH1N1/lib/python3.8/site-packages/umi_tools/network.py\", line 199, in _get_adj_list_directional\n",
      "    if edit_distance(umi1, umi2) <= threshold:\n",
      "TypeError: expected bytes, str found\n"
     ]
    },
    {
     "ename": "TypeError",
     "evalue": "expected bytes, str found",
     "output_type": "error",
     "traceback": [
      "\u001b[0;31m---------------------------------------------------------------------------\u001b[0m",
      "\u001b[0;31mTypeError\u001b[0m                                 Traceback (most recent call last)",
      "\u001b[0;31mTypeError\u001b[0m: expected bytes, str found"
     ]
    },
    {
     "name": "stderr",
     "output_type": "stream",
     "text": [
      "Exception ignored in: 'umi_tools._dedup_umi.edit_distance'\n",
      "Traceback (most recent call last):\n",
      "  File \"/fh/fast/bloom_j/software/miniconda3/envs/barcoded_flu_pdmH1N1/lib/python3.8/site-packages/umi_tools/network.py\", line 199, in _get_adj_list_directional\n",
      "    if edit_distance(umi1, umi2) <= threshold:\n",
      "TypeError: expected bytes, str found\n"
     ]
    },
    {
     "ename": "TypeError",
     "evalue": "expected bytes, str found",
     "output_type": "error",
     "traceback": [
      "\u001b[0;31m---------------------------------------------------------------------------\u001b[0m",
      "\u001b[0;31mTypeError\u001b[0m                                 Traceback (most recent call last)",
      "\u001b[0;31mTypeError\u001b[0m: expected bytes, str found"
     ]
    },
    {
     "name": "stderr",
     "output_type": "stream",
     "text": [
      "Exception ignored in: 'umi_tools._dedup_umi.edit_distance'\n",
      "Traceback (most recent call last):\n",
      "  File \"/fh/fast/bloom_j/software/miniconda3/envs/barcoded_flu_pdmH1N1/lib/python3.8/site-packages/umi_tools/network.py\", line 199, in _get_adj_list_directional\n",
      "    if edit_distance(umi1, umi2) <= threshold:\n",
      "TypeError: expected bytes, str found\n"
     ]
    },
    {
     "ename": "TypeError",
     "evalue": "expected bytes, str found",
     "output_type": "error",
     "traceback": [
      "\u001b[0;31m---------------------------------------------------------------------------\u001b[0m",
      "\u001b[0;31mTypeError\u001b[0m                                 Traceback (most recent call last)",
      "\u001b[0;31mTypeError\u001b[0m: expected bytes, str found"
     ]
    },
    {
     "name": "stderr",
     "output_type": "stream",
     "text": [
      "Exception ignored in: 'umi_tools._dedup_umi.edit_distance'\n",
      "Traceback (most recent call last):\n",
      "  File \"/fh/fast/bloom_j/software/miniconda3/envs/barcoded_flu_pdmH1N1/lib/python3.8/site-packages/umi_tools/network.py\", line 199, in _get_adj_list_directional\n",
      "    if edit_distance(umi1, umi2) <= threshold:\n",
      "TypeError: expected bytes, str found\n"
     ]
    },
    {
     "ename": "TypeError",
     "evalue": "expected bytes, str found",
     "output_type": "error",
     "traceback": [
      "\u001b[0;31m---------------------------------------------------------------------------\u001b[0m",
      "\u001b[0;31mTypeError\u001b[0m                                 Traceback (most recent call last)",
      "\u001b[0;31mTypeError\u001b[0m: expected bytes, str found"
     ]
    },
    {
     "name": "stderr",
     "output_type": "stream",
     "text": [
      "Exception ignored in: 'umi_tools._dedup_umi.edit_distance'\n",
      "Traceback (most recent call last):\n",
      "  File \"/fh/fast/bloom_j/software/miniconda3/envs/barcoded_flu_pdmH1N1/lib/python3.8/site-packages/umi_tools/network.py\", line 199, in _get_adj_list_directional\n",
      "    if edit_distance(umi1, umi2) <= threshold:\n",
      "TypeError: expected bytes, str found\n"
     ]
    },
    {
     "ename": "TypeError",
     "evalue": "expected bytes, str found",
     "output_type": "error",
     "traceback": [
      "\u001b[0;31m---------------------------------------------------------------------------\u001b[0m",
      "\u001b[0;31mTypeError\u001b[0m                                 Traceback (most recent call last)",
      "\u001b[0;31mTypeError\u001b[0m: expected bytes, str found"
     ]
    },
    {
     "name": "stderr",
     "output_type": "stream",
     "text": [
      "Exception ignored in: 'umi_tools._dedup_umi.edit_distance'\n",
      "Traceback (most recent call last):\n",
      "  File \"/fh/fast/bloom_j/software/miniconda3/envs/barcoded_flu_pdmH1N1/lib/python3.8/site-packages/umi_tools/network.py\", line 199, in _get_adj_list_directional\n",
      "    if edit_distance(umi1, umi2) <= threshold:\n",
      "TypeError: expected bytes, str found\n"
     ]
    },
    {
     "ename": "TypeError",
     "evalue": "expected bytes, str found",
     "output_type": "error",
     "traceback": [
      "\u001b[0;31m---------------------------------------------------------------------------\u001b[0m",
      "\u001b[0;31mTypeError\u001b[0m                                 Traceback (most recent call last)",
      "\u001b[0;31mTypeError\u001b[0m: expected bytes, str found"
     ]
    },
    {
     "name": "stderr",
     "output_type": "stream",
     "text": [
      "Exception ignored in: 'umi_tools._dedup_umi.edit_distance'\n",
      "Traceback (most recent call last):\n",
      "  File \"/fh/fast/bloom_j/software/miniconda3/envs/barcoded_flu_pdmH1N1/lib/python3.8/site-packages/umi_tools/network.py\", line 199, in _get_adj_list_directional\n",
      "    if edit_distance(umi1, umi2) <= threshold:\n",
      "TypeError: expected bytes, str found\n"
     ]
    },
    {
     "ename": "TypeError",
     "evalue": "expected bytes, str found",
     "output_type": "error",
     "traceback": [
      "\u001b[0;31m---------------------------------------------------------------------------\u001b[0m",
      "\u001b[0;31mTypeError\u001b[0m                                 Traceback (most recent call last)",
      "\u001b[0;31mTypeError\u001b[0m: expected bytes, str found"
     ]
    },
    {
     "name": "stderr",
     "output_type": "stream",
     "text": [
      "Exception ignored in: 'umi_tools._dedup_umi.edit_distance'\n",
      "Traceback (most recent call last):\n",
      "  File \"/fh/fast/bloom_j/software/miniconda3/envs/barcoded_flu_pdmH1N1/lib/python3.8/site-packages/umi_tools/network.py\", line 199, in _get_adj_list_directional\n",
      "    if edit_distance(umi1, umi2) <= threshold:\n",
      "TypeError: expected bytes, str found\n"
     ]
    },
    {
     "ename": "TypeError",
     "evalue": "expected bytes, str found",
     "output_type": "error",
     "traceback": [
      "\u001b[0;31m---------------------------------------------------------------------------\u001b[0m",
      "\u001b[0;31mTypeError\u001b[0m                                 Traceback (most recent call last)",
      "\u001b[0;31mTypeError\u001b[0m: expected bytes, str found"
     ]
    },
    {
     "name": "stderr",
     "output_type": "stream",
     "text": [
      "Exception ignored in: 'umi_tools._dedup_umi.edit_distance'\n",
      "Traceback (most recent call last):\n",
      "  File \"/fh/fast/bloom_j/software/miniconda3/envs/barcoded_flu_pdmH1N1/lib/python3.8/site-packages/umi_tools/network.py\", line 199, in _get_adj_list_directional\n",
      "    if edit_distance(umi1, umi2) <= threshold:\n",
      "TypeError: expected bytes, str found\n"
     ]
    },
    {
     "ename": "TypeError",
     "evalue": "expected bytes, str found",
     "output_type": "error",
     "traceback": [
      "\u001b[0;31m---------------------------------------------------------------------------\u001b[0m",
      "\u001b[0;31mTypeError\u001b[0m                                 Traceback (most recent call last)",
      "\u001b[0;31mTypeError\u001b[0m: expected bytes, str found"
     ]
    },
    {
     "name": "stderr",
     "output_type": "stream",
     "text": [
      "Exception ignored in: 'umi_tools._dedup_umi.edit_distance'\n",
      "Traceback (most recent call last):\n",
      "  File \"/fh/fast/bloom_j/software/miniconda3/envs/barcoded_flu_pdmH1N1/lib/python3.8/site-packages/umi_tools/network.py\", line 199, in _get_adj_list_directional\n",
      "    if edit_distance(umi1, umi2) <= threshold:\n",
      "TypeError: expected bytes, str found\n"
     ]
    },
    {
     "ename": "TypeError",
     "evalue": "expected bytes, str found",
     "output_type": "error",
     "traceback": [
      "\u001b[0;31m---------------------------------------------------------------------------\u001b[0m",
      "\u001b[0;31mTypeError\u001b[0m                                 Traceback (most recent call last)",
      "\u001b[0;31mTypeError\u001b[0m: expected bytes, str found"
     ]
    },
    {
     "name": "stderr",
     "output_type": "stream",
     "text": [
      "Exception ignored in: 'umi_tools._dedup_umi.edit_distance'\n",
      "Traceback (most recent call last):\n",
      "  File \"/fh/fast/bloom_j/software/miniconda3/envs/barcoded_flu_pdmH1N1/lib/python3.8/site-packages/umi_tools/network.py\", line 199, in _get_adj_list_directional\n",
      "    if edit_distance(umi1, umi2) <= threshold:\n",
      "TypeError: expected bytes, str found\n"
     ]
    },
    {
     "ename": "TypeError",
     "evalue": "expected bytes, str found",
     "output_type": "error",
     "traceback": [
      "\u001b[0;31m---------------------------------------------------------------------------\u001b[0m",
      "\u001b[0;31mTypeError\u001b[0m                                 Traceback (most recent call last)",
      "\u001b[0;31mTypeError\u001b[0m: expected bytes, str found"
     ]
    },
    {
     "name": "stderr",
     "output_type": "stream",
     "text": [
      "Exception ignored in: 'umi_tools._dedup_umi.edit_distance'\n",
      "Traceback (most recent call last):\n",
      "  File \"/fh/fast/bloom_j/software/miniconda3/envs/barcoded_flu_pdmH1N1/lib/python3.8/site-packages/umi_tools/network.py\", line 199, in _get_adj_list_directional\n",
      "    if edit_distance(umi1, umi2) <= threshold:\n",
      "TypeError: expected bytes, str found\n"
     ]
    },
    {
     "ename": "TypeError",
     "evalue": "expected bytes, str found",
     "output_type": "error",
     "traceback": [
      "\u001b[0;31m---------------------------------------------------------------------------\u001b[0m",
      "\u001b[0;31mTypeError\u001b[0m                                 Traceback (most recent call last)",
      "\u001b[0;31mTypeError\u001b[0m: expected bytes, str found"
     ]
    },
    {
     "name": "stderr",
     "output_type": "stream",
     "text": [
      "Exception ignored in: 'umi_tools._dedup_umi.edit_distance'\n",
      "Traceback (most recent call last):\n",
      "  File \"/fh/fast/bloom_j/software/miniconda3/envs/barcoded_flu_pdmH1N1/lib/python3.8/site-packages/umi_tools/network.py\", line 199, in _get_adj_list_directional\n",
      "    if edit_distance(umi1, umi2) <= threshold:\n",
      "TypeError: expected bytes, str found\n"
     ]
    },
    {
     "ename": "TypeError",
     "evalue": "expected bytes, str found",
     "output_type": "error",
     "traceback": [
      "\u001b[0;31m---------------------------------------------------------------------------\u001b[0m",
      "\u001b[0;31mTypeError\u001b[0m                                 Traceback (most recent call last)",
      "\u001b[0;31mTypeError\u001b[0m: expected bytes, str found"
     ]
    },
    {
     "name": "stderr",
     "output_type": "stream",
     "text": [
      "Exception ignored in: 'umi_tools._dedup_umi.edit_distance'\n",
      "Traceback (most recent call last):\n",
      "  File \"/fh/fast/bloom_j/software/miniconda3/envs/barcoded_flu_pdmH1N1/lib/python3.8/site-packages/umi_tools/network.py\", line 199, in _get_adj_list_directional\n",
      "    if edit_distance(umi1, umi2) <= threshold:\n",
      "TypeError: expected bytes, str found\n"
     ]
    },
    {
     "ename": "TypeError",
     "evalue": "expected bytes, str found",
     "output_type": "error",
     "traceback": [
      "\u001b[0;31m---------------------------------------------------------------------------\u001b[0m",
      "\u001b[0;31mTypeError\u001b[0m                                 Traceback (most recent call last)",
      "\u001b[0;31mTypeError\u001b[0m: expected bytes, str found"
     ]
    },
    {
     "name": "stderr",
     "output_type": "stream",
     "text": [
      "Exception ignored in: 'umi_tools._dedup_umi.edit_distance'\n",
      "Traceback (most recent call last):\n",
      "  File \"/fh/fast/bloom_j/software/miniconda3/envs/barcoded_flu_pdmH1N1/lib/python3.8/site-packages/umi_tools/network.py\", line 199, in _get_adj_list_directional\n",
      "    if edit_distance(umi1, umi2) <= threshold:\n",
      "TypeError: expected bytes, str found\n"
     ]
    },
    {
     "ename": "TypeError",
     "evalue": "expected bytes, str found",
     "output_type": "error",
     "traceback": [
      "\u001b[0;31m---------------------------------------------------------------------------\u001b[0m",
      "\u001b[0;31mTypeError\u001b[0m                                 Traceback (most recent call last)",
      "\u001b[0;31mTypeError\u001b[0m: expected bytes, str found"
     ]
    },
    {
     "name": "stderr",
     "output_type": "stream",
     "text": [
      "Exception ignored in: 'umi_tools._dedup_umi.edit_distance'\n",
      "Traceback (most recent call last):\n",
      "  File \"/fh/fast/bloom_j/software/miniconda3/envs/barcoded_flu_pdmH1N1/lib/python3.8/site-packages/umi_tools/network.py\", line 199, in _get_adj_list_directional\n",
      "    if edit_distance(umi1, umi2) <= threshold:\n",
      "TypeError: expected bytes, str found\n"
     ]
    },
    {
     "ename": "TypeError",
     "evalue": "expected bytes, str found",
     "output_type": "error",
     "traceback": [
      "\u001b[0;31m---------------------------------------------------------------------------\u001b[0m",
      "\u001b[0;31mTypeError\u001b[0m                                 Traceback (most recent call last)",
      "\u001b[0;31mTypeError\u001b[0m: expected bytes, str found"
     ]
    },
    {
     "name": "stderr",
     "output_type": "stream",
     "text": [
      "Exception ignored in: 'umi_tools._dedup_umi.edit_distance'\n",
      "Traceback (most recent call last):\n",
      "  File \"/fh/fast/bloom_j/software/miniconda3/envs/barcoded_flu_pdmH1N1/lib/python3.8/site-packages/umi_tools/network.py\", line 199, in _get_adj_list_directional\n",
      "    if edit_distance(umi1, umi2) <= threshold:\n",
      "TypeError: expected bytes, str found\n"
     ]
    },
    {
     "ename": "TypeError",
     "evalue": "expected bytes, str found",
     "output_type": "error",
     "traceback": [
      "\u001b[0;31m---------------------------------------------------------------------------\u001b[0m",
      "\u001b[0;31mTypeError\u001b[0m                                 Traceback (most recent call last)",
      "\u001b[0;31mTypeError\u001b[0m: expected bytes, str found"
     ]
    },
    {
     "name": "stderr",
     "output_type": "stream",
     "text": [
      "Exception ignored in: 'umi_tools._dedup_umi.edit_distance'\n",
      "Traceback (most recent call last):\n",
      "  File \"/fh/fast/bloom_j/software/miniconda3/envs/barcoded_flu_pdmH1N1/lib/python3.8/site-packages/umi_tools/network.py\", line 199, in _get_adj_list_directional\n",
      "    if edit_distance(umi1, umi2) <= threshold:\n",
      "TypeError: expected bytes, str found\n"
     ]
    },
    {
     "ename": "TypeError",
     "evalue": "expected bytes, str found",
     "output_type": "error",
     "traceback": [
      "\u001b[0;31m---------------------------------------------------------------------------\u001b[0m",
      "\u001b[0;31mTypeError\u001b[0m                                 Traceback (most recent call last)",
      "\u001b[0;31mTypeError\u001b[0m: expected bytes, str found"
     ]
    },
    {
     "name": "stderr",
     "output_type": "stream",
     "text": [
      "Exception ignored in: 'umi_tools._dedup_umi.edit_distance'\n",
      "Traceback (most recent call last):\n",
      "  File \"/fh/fast/bloom_j/software/miniconda3/envs/barcoded_flu_pdmH1N1/lib/python3.8/site-packages/umi_tools/network.py\", line 199, in _get_adj_list_directional\n",
      "    if edit_distance(umi1, umi2) <= threshold:\n",
      "TypeError: expected bytes, str found\n"
     ]
    },
    {
     "ename": "TypeError",
     "evalue": "expected bytes, str found",
     "output_type": "error",
     "traceback": [
      "\u001b[0;31m---------------------------------------------------------------------------\u001b[0m",
      "\u001b[0;31mTypeError\u001b[0m                                 Traceback (most recent call last)",
      "\u001b[0;31mTypeError\u001b[0m: expected bytes, str found"
     ]
    },
    {
     "name": "stderr",
     "output_type": "stream",
     "text": [
      "Exception ignored in: 'umi_tools._dedup_umi.edit_distance'\n",
      "Traceback (most recent call last):\n",
      "  File \"/fh/fast/bloom_j/software/miniconda3/envs/barcoded_flu_pdmH1N1/lib/python3.8/site-packages/umi_tools/network.py\", line 199, in _get_adj_list_directional\n",
      "    if edit_distance(umi1, umi2) <= threshold:\n",
      "TypeError: expected bytes, str found\n"
     ]
    },
    {
     "ename": "TypeError",
     "evalue": "expected bytes, str found",
     "output_type": "error",
     "traceback": [
      "\u001b[0;31m---------------------------------------------------------------------------\u001b[0m",
      "\u001b[0;31mTypeError\u001b[0m                                 Traceback (most recent call last)",
      "\u001b[0;31mTypeError\u001b[0m: expected bytes, str found"
     ]
    },
    {
     "name": "stderr",
     "output_type": "stream",
     "text": [
      "Exception ignored in: 'umi_tools._dedup_umi.edit_distance'\n",
      "Traceback (most recent call last):\n",
      "  File \"/fh/fast/bloom_j/software/miniconda3/envs/barcoded_flu_pdmH1N1/lib/python3.8/site-packages/umi_tools/network.py\", line 199, in _get_adj_list_directional\n",
      "    if edit_distance(umi1, umi2) <= threshold:\n",
      "TypeError: expected bytes, str found\n"
     ]
    },
    {
     "ename": "TypeError",
     "evalue": "expected bytes, str found",
     "output_type": "error",
     "traceback": [
      "\u001b[0;31m---------------------------------------------------------------------------\u001b[0m",
      "\u001b[0;31mTypeError\u001b[0m                                 Traceback (most recent call last)",
      "\u001b[0;31mTypeError\u001b[0m: expected bytes, str found"
     ]
    },
    {
     "name": "stderr",
     "output_type": "stream",
     "text": [
      "Exception ignored in: 'umi_tools._dedup_umi.edit_distance'\n",
      "Traceback (most recent call last):\n",
      "  File \"/fh/fast/bloom_j/software/miniconda3/envs/barcoded_flu_pdmH1N1/lib/python3.8/site-packages/umi_tools/network.py\", line 199, in _get_adj_list_directional\n",
      "    if edit_distance(umi1, umi2) <= threshold:\n",
      "TypeError: expected bytes, str found\n"
     ]
    },
    {
     "ename": "TypeError",
     "evalue": "expected bytes, str found",
     "output_type": "error",
     "traceback": [
      "\u001b[0;31m---------------------------------------------------------------------------\u001b[0m",
      "\u001b[0;31mTypeError\u001b[0m                                 Traceback (most recent call last)",
      "\u001b[0;31mTypeError\u001b[0m: expected bytes, str found"
     ]
    },
    {
     "name": "stderr",
     "output_type": "stream",
     "text": [
      "Exception ignored in: 'umi_tools._dedup_umi.edit_distance'\n",
      "Traceback (most recent call last):\n",
      "  File \"/fh/fast/bloom_j/software/miniconda3/envs/barcoded_flu_pdmH1N1/lib/python3.8/site-packages/umi_tools/network.py\", line 199, in _get_adj_list_directional\n",
      "    if edit_distance(umi1, umi2) <= threshold:\n",
      "TypeError: expected bytes, str found\n"
     ]
    },
    {
     "ename": "TypeError",
     "evalue": "expected bytes, str found",
     "output_type": "error",
     "traceback": [
      "\u001b[0;31m---------------------------------------------------------------------------\u001b[0m",
      "\u001b[0;31mTypeError\u001b[0m                                 Traceback (most recent call last)",
      "\u001b[0;31mTypeError\u001b[0m: expected bytes, str found"
     ]
    },
    {
     "name": "stderr",
     "output_type": "stream",
     "text": [
      "Exception ignored in: 'umi_tools._dedup_umi.edit_distance'\n",
      "Traceback (most recent call last):\n",
      "  File \"/fh/fast/bloom_j/software/miniconda3/envs/barcoded_flu_pdmH1N1/lib/python3.8/site-packages/umi_tools/network.py\", line 199, in _get_adj_list_directional\n",
      "    if edit_distance(umi1, umi2) <= threshold:\n",
      "TypeError: expected bytes, str found\n"
     ]
    },
    {
     "ename": "TypeError",
     "evalue": "expected bytes, str found",
     "output_type": "error",
     "traceback": [
      "\u001b[0;31m---------------------------------------------------------------------------\u001b[0m",
      "\u001b[0;31mTypeError\u001b[0m                                 Traceback (most recent call last)",
      "\u001b[0;31mTypeError\u001b[0m: expected bytes, str found"
     ]
    },
    {
     "name": "stderr",
     "output_type": "stream",
     "text": [
      "Exception ignored in: 'umi_tools._dedup_umi.edit_distance'\n",
      "Traceback (most recent call last):\n",
      "  File \"/fh/fast/bloom_j/software/miniconda3/envs/barcoded_flu_pdmH1N1/lib/python3.8/site-packages/umi_tools/network.py\", line 199, in _get_adj_list_directional\n",
      "    if edit_distance(umi1, umi2) <= threshold:\n",
      "TypeError: expected bytes, str found\n"
     ]
    },
    {
     "ename": "TypeError",
     "evalue": "expected bytes, str found",
     "output_type": "error",
     "traceback": [
      "\u001b[0;31m---------------------------------------------------------------------------\u001b[0m",
      "\u001b[0;31mTypeError\u001b[0m                                 Traceback (most recent call last)",
      "\u001b[0;31mTypeError\u001b[0m: expected bytes, str found"
     ]
    },
    {
     "name": "stderr",
     "output_type": "stream",
     "text": [
      "Exception ignored in: 'umi_tools._dedup_umi.edit_distance'\n",
      "Traceback (most recent call last):\n",
      "  File \"/fh/fast/bloom_j/software/miniconda3/envs/barcoded_flu_pdmH1N1/lib/python3.8/site-packages/umi_tools/network.py\", line 199, in _get_adj_list_directional\n",
      "    if edit_distance(umi1, umi2) <= threshold:\n",
      "TypeError: expected bytes, str found\n"
     ]
    },
    {
     "ename": "TypeError",
     "evalue": "expected bytes, str found",
     "output_type": "error",
     "traceback": [
      "\u001b[0;31m---------------------------------------------------------------------------\u001b[0m",
      "\u001b[0;31mTypeError\u001b[0m                                 Traceback (most recent call last)",
      "\u001b[0;31mTypeError\u001b[0m: expected bytes, str found"
     ]
    },
    {
     "name": "stderr",
     "output_type": "stream",
     "text": [
      "Exception ignored in: 'umi_tools._dedup_umi.edit_distance'\n",
      "Traceback (most recent call last):\n",
      "  File \"/fh/fast/bloom_j/software/miniconda3/envs/barcoded_flu_pdmH1N1/lib/python3.8/site-packages/umi_tools/network.py\", line 199, in _get_adj_list_directional\n",
      "    if edit_distance(umi1, umi2) <= threshold:\n",
      "TypeError: expected bytes, str found\n"
     ]
    },
    {
     "ename": "TypeError",
     "evalue": "expected bytes, str found",
     "output_type": "error",
     "traceback": [
      "\u001b[0;31m---------------------------------------------------------------------------\u001b[0m",
      "\u001b[0;31mTypeError\u001b[0m                                 Traceback (most recent call last)",
      "\u001b[0;31mTypeError\u001b[0m: expected bytes, str found"
     ]
    },
    {
     "name": "stderr",
     "output_type": "stream",
     "text": [
      "Exception ignored in: 'umi_tools._dedup_umi.edit_distance'\n",
      "Traceback (most recent call last):\n",
      "  File \"/fh/fast/bloom_j/software/miniconda3/envs/barcoded_flu_pdmH1N1/lib/python3.8/site-packages/umi_tools/network.py\", line 199, in _get_adj_list_directional\n",
      "    if edit_distance(umi1, umi2) <= threshold:\n",
      "TypeError: expected bytes, str found\n"
     ]
    },
    {
     "ename": "TypeError",
     "evalue": "expected bytes, str found",
     "output_type": "error",
     "traceback": [
      "\u001b[0;31m---------------------------------------------------------------------------\u001b[0m",
      "\u001b[0;31mTypeError\u001b[0m                                 Traceback (most recent call last)",
      "\u001b[0;31mTypeError\u001b[0m: expected bytes, str found"
     ]
    },
    {
     "name": "stderr",
     "output_type": "stream",
     "text": [
      "Exception ignored in: 'umi_tools._dedup_umi.edit_distance'\n",
      "Traceback (most recent call last):\n",
      "  File \"/fh/fast/bloom_j/software/miniconda3/envs/barcoded_flu_pdmH1N1/lib/python3.8/site-packages/umi_tools/network.py\", line 199, in _get_adj_list_directional\n",
      "    if edit_distance(umi1, umi2) <= threshold:\n",
      "TypeError: expected bytes, str found\n"
     ]
    },
    {
     "ename": "TypeError",
     "evalue": "expected bytes, str found",
     "output_type": "error",
     "traceback": [
      "\u001b[0;31m---------------------------------------------------------------------------\u001b[0m",
      "\u001b[0;31mTypeError\u001b[0m                                 Traceback (most recent call last)",
      "\u001b[0;31mTypeError\u001b[0m: expected bytes, str found"
     ]
    },
    {
     "name": "stderr",
     "output_type": "stream",
     "text": [
      "Exception ignored in: 'umi_tools._dedup_umi.edit_distance'\n",
      "Traceback (most recent call last):\n",
      "  File \"/fh/fast/bloom_j/software/miniconda3/envs/barcoded_flu_pdmH1N1/lib/python3.8/site-packages/umi_tools/network.py\", line 199, in _get_adj_list_directional\n",
      "    if edit_distance(umi1, umi2) <= threshold:\n",
      "TypeError: expected bytes, str found\n"
     ]
    },
    {
     "ename": "TypeError",
     "evalue": "expected bytes, str found",
     "output_type": "error",
     "traceback": [
      "\u001b[0;31m---------------------------------------------------------------------------\u001b[0m",
      "\u001b[0;31mTypeError\u001b[0m                                 Traceback (most recent call last)",
      "\u001b[0;31mTypeError\u001b[0m: expected bytes, str found"
     ]
    },
    {
     "name": "stderr",
     "output_type": "stream",
     "text": [
      "Exception ignored in: 'umi_tools._dedup_umi.edit_distance'\n",
      "Traceback (most recent call last):\n",
      "  File \"/fh/fast/bloom_j/software/miniconda3/envs/barcoded_flu_pdmH1N1/lib/python3.8/site-packages/umi_tools/network.py\", line 199, in _get_adj_list_directional\n",
      "    if edit_distance(umi1, umi2) <= threshold:\n",
      "TypeError: expected bytes, str found\n"
     ]
    },
    {
     "ename": "TypeError",
     "evalue": "expected bytes, str found",
     "output_type": "error",
     "traceback": [
      "\u001b[0;31m---------------------------------------------------------------------------\u001b[0m",
      "\u001b[0;31mTypeError\u001b[0m                                 Traceback (most recent call last)",
      "\u001b[0;31mTypeError\u001b[0m: expected bytes, str found"
     ]
    },
    {
     "name": "stderr",
     "output_type": "stream",
     "text": [
      "Exception ignored in: 'umi_tools._dedup_umi.edit_distance'\n",
      "Traceback (most recent call last):\n",
      "  File \"/fh/fast/bloom_j/software/miniconda3/envs/barcoded_flu_pdmH1N1/lib/python3.8/site-packages/umi_tools/network.py\", line 199, in _get_adj_list_directional\n",
      "    if edit_distance(umi1, umi2) <= threshold:\n",
      "TypeError: expected bytes, str found\n"
     ]
    },
    {
     "ename": "TypeError",
     "evalue": "expected bytes, str found",
     "output_type": "error",
     "traceback": [
      "\u001b[0;31m---------------------------------------------------------------------------\u001b[0m",
      "\u001b[0;31mTypeError\u001b[0m                                 Traceback (most recent call last)",
      "\u001b[0;31mTypeError\u001b[0m: expected bytes, str found"
     ]
    },
    {
     "name": "stderr",
     "output_type": "stream",
     "text": [
      "Exception ignored in: 'umi_tools._dedup_umi.edit_distance'\n",
      "Traceback (most recent call last):\n",
      "  File \"/fh/fast/bloom_j/software/miniconda3/envs/barcoded_flu_pdmH1N1/lib/python3.8/site-packages/umi_tools/network.py\", line 199, in _get_adj_list_directional\n",
      "    if edit_distance(umi1, umi2) <= threshold:\n",
      "TypeError: expected bytes, str found\n"
     ]
    },
    {
     "ename": "TypeError",
     "evalue": "expected bytes, str found",
     "output_type": "error",
     "traceback": [
      "\u001b[0;31m---------------------------------------------------------------------------\u001b[0m",
      "\u001b[0;31mTypeError\u001b[0m                                 Traceback (most recent call last)",
      "\u001b[0;31mTypeError\u001b[0m: expected bytes, str found"
     ]
    },
    {
     "name": "stderr",
     "output_type": "stream",
     "text": [
      "Exception ignored in: 'umi_tools._dedup_umi.edit_distance'\n",
      "Traceback (most recent call last):\n",
      "  File \"/fh/fast/bloom_j/software/miniconda3/envs/barcoded_flu_pdmH1N1/lib/python3.8/site-packages/umi_tools/network.py\", line 199, in _get_adj_list_directional\n",
      "    if edit_distance(umi1, umi2) <= threshold:\n",
      "TypeError: expected bytes, str found\n"
     ]
    },
    {
     "ename": "TypeError",
     "evalue": "expected bytes, str found",
     "output_type": "error",
     "traceback": [
      "\u001b[0;31m---------------------------------------------------------------------------\u001b[0m",
      "\u001b[0;31mTypeError\u001b[0m                                 Traceback (most recent call last)",
      "\u001b[0;31mTypeError\u001b[0m: expected bytes, str found"
     ]
    },
    {
     "name": "stderr",
     "output_type": "stream",
     "text": [
      "Exception ignored in: 'umi_tools._dedup_umi.edit_distance'\n",
      "Traceback (most recent call last):\n",
      "  File \"/fh/fast/bloom_j/software/miniconda3/envs/barcoded_flu_pdmH1N1/lib/python3.8/site-packages/umi_tools/network.py\", line 199, in _get_adj_list_directional\n",
      "    if edit_distance(umi1, umi2) <= threshold:\n",
      "TypeError: expected bytes, str found\n"
     ]
    },
    {
     "ename": "TypeError",
     "evalue": "expected bytes, str found",
     "output_type": "error",
     "traceback": [
      "\u001b[0;31m---------------------------------------------------------------------------\u001b[0m",
      "\u001b[0;31mTypeError\u001b[0m                                 Traceback (most recent call last)",
      "\u001b[0;31mTypeError\u001b[0m: expected bytes, str found"
     ]
    },
    {
     "name": "stderr",
     "output_type": "stream",
     "text": [
      "Exception ignored in: 'umi_tools._dedup_umi.edit_distance'\n",
      "Traceback (most recent call last):\n",
      "  File \"/fh/fast/bloom_j/software/miniconda3/envs/barcoded_flu_pdmH1N1/lib/python3.8/site-packages/umi_tools/network.py\", line 199, in _get_adj_list_directional\n",
      "    if edit_distance(umi1, umi2) <= threshold:\n",
      "TypeError: expected bytes, str found\n"
     ]
    },
    {
     "ename": "TypeError",
     "evalue": "expected bytes, str found",
     "output_type": "error",
     "traceback": [
      "\u001b[0;31m---------------------------------------------------------------------------\u001b[0m",
      "\u001b[0;31mTypeError\u001b[0m                                 Traceback (most recent call last)",
      "\u001b[0;31mTypeError\u001b[0m: expected bytes, str found"
     ]
    },
    {
     "name": "stderr",
     "output_type": "stream",
     "text": [
      "Exception ignored in: 'umi_tools._dedup_umi.edit_distance'\n",
      "Traceback (most recent call last):\n",
      "  File \"/fh/fast/bloom_j/software/miniconda3/envs/barcoded_flu_pdmH1N1/lib/python3.8/site-packages/umi_tools/network.py\", line 199, in _get_adj_list_directional\n",
      "    if edit_distance(umi1, umi2) <= threshold:\n",
      "TypeError: expected bytes, str found\n"
     ]
    },
    {
     "ename": "TypeError",
     "evalue": "expected bytes, str found",
     "output_type": "error",
     "traceback": [
      "\u001b[0;31m---------------------------------------------------------------------------\u001b[0m",
      "\u001b[0;31mTypeError\u001b[0m                                 Traceback (most recent call last)",
      "\u001b[0;31mTypeError\u001b[0m: expected bytes, str found"
     ]
    },
    {
     "name": "stderr",
     "output_type": "stream",
     "text": [
      "Exception ignored in: 'umi_tools._dedup_umi.edit_distance'\n",
      "Traceback (most recent call last):\n",
      "  File \"/fh/fast/bloom_j/software/miniconda3/envs/barcoded_flu_pdmH1N1/lib/python3.8/site-packages/umi_tools/network.py\", line 199, in _get_adj_list_directional\n",
      "    if edit_distance(umi1, umi2) <= threshold:\n",
      "TypeError: expected bytes, str found\n"
     ]
    },
    {
     "ename": "TypeError",
     "evalue": "expected bytes, str found",
     "output_type": "error",
     "traceback": [
      "\u001b[0;31m---------------------------------------------------------------------------\u001b[0m",
      "\u001b[0;31mTypeError\u001b[0m                                 Traceback (most recent call last)",
      "\u001b[0;31mTypeError\u001b[0m: expected bytes, str found"
     ]
    },
    {
     "name": "stderr",
     "output_type": "stream",
     "text": [
      "Exception ignored in: 'umi_tools._dedup_umi.edit_distance'\n",
      "Traceback (most recent call last):\n",
      "  File \"/fh/fast/bloom_j/software/miniconda3/envs/barcoded_flu_pdmH1N1/lib/python3.8/site-packages/umi_tools/network.py\", line 199, in _get_adj_list_directional\n",
      "    if edit_distance(umi1, umi2) <= threshold:\n",
      "TypeError: expected bytes, str found\n"
     ]
    },
    {
     "ename": "TypeError",
     "evalue": "expected bytes, str found",
     "output_type": "error",
     "traceback": [
      "\u001b[0;31m---------------------------------------------------------------------------\u001b[0m",
      "\u001b[0;31mTypeError\u001b[0m                                 Traceback (most recent call last)",
      "\u001b[0;31mTypeError\u001b[0m: expected bytes, str found"
     ]
    },
    {
     "name": "stderr",
     "output_type": "stream",
     "text": [
      "Exception ignored in: 'umi_tools._dedup_umi.edit_distance'\n",
      "Traceback (most recent call last):\n",
      "  File \"/fh/fast/bloom_j/software/miniconda3/envs/barcoded_flu_pdmH1N1/lib/python3.8/site-packages/umi_tools/network.py\", line 199, in _get_adj_list_directional\n",
      "    if edit_distance(umi1, umi2) <= threshold:\n",
      "TypeError: expected bytes, str found\n"
     ]
    },
    {
     "name": "stdout",
     "output_type": "stream",
     "text": [
      "[['AAAAAACGAATGGATT', 'AAAAACCTGAACAATC', 'AAAAAATCGGTAGTGG', 'AAAAACCAATCCCCCA', 'AAAAACCAAATTATTT', 'AAAAAACGAATGGATC', 'AAAAAACGAAGGGATT', 'AAAAAATCGGTAGTAA', 'AAAAAATCGGTAGAGG', 'AAAAAATATTCATACG']]\n",
      "{'AAAAAACGAAGGGATT': 7.869665743817199e-07, 'AAAAAACGAATGGATC': 8.755248771638597e-07, 'AAAAAACGAATGGATT': 0.00033816405663403715, 'AAAAAATATTCATACG': 7.869665743817199e-07, 'AAAAAATCGGTAGAGG': 7.869665743817199e-07, 'AAAAAATCGGTAGTAA': 7.869665743817199e-07, 'AAAAAATCGGTAGTGG': 0.0002460386766780882, 'AAAAACCAAATTATTT': 5.85313758645663e-05, 'AAAAACCAATCCCCCA': 9.124985507878503e-05, 'AAAAACCTGAACAATC': 0.0002941422541688128}\n"
     ]
    },
    {
     "ename": "TypeError",
     "evalue": "expected bytes, str found",
     "output_type": "error",
     "traceback": [
      "\u001b[0;31m---------------------------------------------------------------------------\u001b[0m",
      "\u001b[0;31mTypeError\u001b[0m                                 Traceback (most recent call last)",
      "\u001b[0;31mTypeError\u001b[0m: expected bytes, str found"
     ]
    },
    {
     "name": "stderr",
     "output_type": "stream",
     "text": [
      "Exception ignored in: 'umi_tools._dedup_umi.edit_distance'\n",
      "Traceback (most recent call last):\n",
      "  File \"/fh/fast/bloom_j/software/miniconda3/envs/barcoded_flu_pdmH1N1/lib/python3.8/site-packages/umi_tools/network.py\", line 199, in _get_adj_list_directional\n",
      "    if edit_distance(umi1, umi2) <= threshold:\n",
      "TypeError: expected bytes, str found\n"
     ]
    },
    {
     "ename": "TypeError",
     "evalue": "expected bytes, str found",
     "output_type": "error",
     "traceback": [
      "\u001b[0;31m---------------------------------------------------------------------------\u001b[0m",
      "\u001b[0;31mTypeError\u001b[0m                                 Traceback (most recent call last)",
      "\u001b[0;31mTypeError\u001b[0m: expected bytes, str found"
     ]
    },
    {
     "name": "stderr",
     "output_type": "stream",
     "text": [
      "Exception ignored in: 'umi_tools._dedup_umi.edit_distance'\n",
      "Traceback (most recent call last):\n",
      "  File \"/fh/fast/bloom_j/software/miniconda3/envs/barcoded_flu_pdmH1N1/lib/python3.8/site-packages/umi_tools/network.py\", line 199, in _get_adj_list_directional\n",
      "    if edit_distance(umi1, umi2) <= threshold:\n",
      "TypeError: expected bytes, str found\n"
     ]
    },
    {
     "ename": "TypeError",
     "evalue": "expected bytes, str found",
     "output_type": "error",
     "traceback": [
      "\u001b[0;31m---------------------------------------------------------------------------\u001b[0m",
      "\u001b[0;31mTypeError\u001b[0m                                 Traceback (most recent call last)",
      "\u001b[0;31mTypeError\u001b[0m: expected bytes, str found"
     ]
    },
    {
     "name": "stderr",
     "output_type": "stream",
     "text": [
      "Exception ignored in: 'umi_tools._dedup_umi.edit_distance'\n",
      "Traceback (most recent call last):\n",
      "  File \"/fh/fast/bloom_j/software/miniconda3/envs/barcoded_flu_pdmH1N1/lib/python3.8/site-packages/umi_tools/network.py\", line 199, in _get_adj_list_directional\n",
      "    if edit_distance(umi1, umi2) <= threshold:\n",
      "TypeError: expected bytes, str found\n"
     ]
    },
    {
     "ename": "TypeError",
     "evalue": "expected bytes, str found",
     "output_type": "error",
     "traceback": [
      "\u001b[0;31m---------------------------------------------------------------------------\u001b[0m",
      "\u001b[0;31mTypeError\u001b[0m                                 Traceback (most recent call last)",
      "\u001b[0;31mTypeError\u001b[0m: expected bytes, str found"
     ]
    },
    {
     "name": "stderr",
     "output_type": "stream",
     "text": [
      "Exception ignored in: 'umi_tools._dedup_umi.edit_distance'\n",
      "Traceback (most recent call last):\n",
      "  File \"/fh/fast/bloom_j/software/miniconda3/envs/barcoded_flu_pdmH1N1/lib/python3.8/site-packages/umi_tools/network.py\", line 199, in _get_adj_list_directional\n",
      "    if edit_distance(umi1, umi2) <= threshold:\n",
      "TypeError: expected bytes, str found\n"
     ]
    },
    {
     "ename": "TypeError",
     "evalue": "expected bytes, str found",
     "output_type": "error",
     "traceback": [
      "\u001b[0;31m---------------------------------------------------------------------------\u001b[0m",
      "\u001b[0;31mTypeError\u001b[0m                                 Traceback (most recent call last)",
      "\u001b[0;31mTypeError\u001b[0m: expected bytes, str found"
     ]
    },
    {
     "name": "stderr",
     "output_type": "stream",
     "text": [
      "Exception ignored in: 'umi_tools._dedup_umi.edit_distance'\n",
      "Traceback (most recent call last):\n",
      "  File \"/fh/fast/bloom_j/software/miniconda3/envs/barcoded_flu_pdmH1N1/lib/python3.8/site-packages/umi_tools/network.py\", line 199, in _get_adj_list_directional\n",
      "    if edit_distance(umi1, umi2) <= threshold:\n",
      "TypeError: expected bytes, str found\n"
     ]
    },
    {
     "ename": "TypeError",
     "evalue": "expected bytes, str found",
     "output_type": "error",
     "traceback": [
      "\u001b[0;31m---------------------------------------------------------------------------\u001b[0m",
      "\u001b[0;31mTypeError\u001b[0m                                 Traceback (most recent call last)",
      "\u001b[0;31mTypeError\u001b[0m: expected bytes, str found"
     ]
    },
    {
     "name": "stderr",
     "output_type": "stream",
     "text": [
      "Exception ignored in: 'umi_tools._dedup_umi.edit_distance'\n",
      "Traceback (most recent call last):\n",
      "  File \"/fh/fast/bloom_j/software/miniconda3/envs/barcoded_flu_pdmH1N1/lib/python3.8/site-packages/umi_tools/network.py\", line 199, in _get_adj_list_directional\n",
      "    if edit_distance(umi1, umi2) <= threshold:\n",
      "TypeError: expected bytes, str found\n"
     ]
    },
    {
     "ename": "TypeError",
     "evalue": "expected bytes, str found",
     "output_type": "error",
     "traceback": [
      "\u001b[0;31m---------------------------------------------------------------------------\u001b[0m",
      "\u001b[0;31mTypeError\u001b[0m                                 Traceback (most recent call last)",
      "\u001b[0;31mTypeError\u001b[0m: expected bytes, str found"
     ]
    },
    {
     "name": "stderr",
     "output_type": "stream",
     "text": [
      "Exception ignored in: 'umi_tools._dedup_umi.edit_distance'\n",
      "Traceback (most recent call last):\n",
      "  File \"/fh/fast/bloom_j/software/miniconda3/envs/barcoded_flu_pdmH1N1/lib/python3.8/site-packages/umi_tools/network.py\", line 199, in _get_adj_list_directional\n",
      "    if edit_distance(umi1, umi2) <= threshold:\n",
      "TypeError: expected bytes, str found\n"
     ]
    },
    {
     "ename": "TypeError",
     "evalue": "expected bytes, str found",
     "output_type": "error",
     "traceback": [
      "\u001b[0;31m---------------------------------------------------------------------------\u001b[0m",
      "\u001b[0;31mTypeError\u001b[0m                                 Traceback (most recent call last)",
      "\u001b[0;31mTypeError\u001b[0m: expected bytes, str found"
     ]
    },
    {
     "name": "stderr",
     "output_type": "stream",
     "text": [
      "Exception ignored in: 'umi_tools._dedup_umi.edit_distance'\n",
      "Traceback (most recent call last):\n",
      "  File \"/fh/fast/bloom_j/software/miniconda3/envs/barcoded_flu_pdmH1N1/lib/python3.8/site-packages/umi_tools/network.py\", line 199, in _get_adj_list_directional\n",
      "    if edit_distance(umi1, umi2) <= threshold:\n",
      "TypeError: expected bytes, str found\n"
     ]
    },
    {
     "ename": "TypeError",
     "evalue": "expected bytes, str found",
     "output_type": "error",
     "traceback": [
      "\u001b[0;31m---------------------------------------------------------------------------\u001b[0m",
      "\u001b[0;31mTypeError\u001b[0m                                 Traceback (most recent call last)",
      "\u001b[0;31mTypeError\u001b[0m: expected bytes, str found"
     ]
    },
    {
     "name": "stderr",
     "output_type": "stream",
     "text": [
      "Exception ignored in: 'umi_tools._dedup_umi.edit_distance'\n",
      "Traceback (most recent call last):\n",
      "  File \"/fh/fast/bloom_j/software/miniconda3/envs/barcoded_flu_pdmH1N1/lib/python3.8/site-packages/umi_tools/network.py\", line 199, in _get_adj_list_directional\n",
      "    if edit_distance(umi1, umi2) <= threshold:\n",
      "TypeError: expected bytes, str found\n"
     ]
    },
    {
     "ename": "TypeError",
     "evalue": "expected bytes, str found",
     "output_type": "error",
     "traceback": [
      "\u001b[0;31m---------------------------------------------------------------------------\u001b[0m",
      "\u001b[0;31mTypeError\u001b[0m                                 Traceback (most recent call last)",
      "\u001b[0;31mTypeError\u001b[0m: expected bytes, str found"
     ]
    },
    {
     "name": "stderr",
     "output_type": "stream",
     "text": [
      "Exception ignored in: 'umi_tools._dedup_umi.edit_distance'\n",
      "Traceback (most recent call last):\n",
      "  File \"/fh/fast/bloom_j/software/miniconda3/envs/barcoded_flu_pdmH1N1/lib/python3.8/site-packages/umi_tools/network.py\", line 199, in _get_adj_list_directional\n",
      "    if edit_distance(umi1, umi2) <= threshold:\n",
      "TypeError: expected bytes, str found\n"
     ]
    },
    {
     "ename": "TypeError",
     "evalue": "expected bytes, str found",
     "output_type": "error",
     "traceback": [
      "\u001b[0;31m---------------------------------------------------------------------------\u001b[0m",
      "\u001b[0;31mTypeError\u001b[0m                                 Traceback (most recent call last)",
      "\u001b[0;31mTypeError\u001b[0m: expected bytes, str found"
     ]
    },
    {
     "name": "stderr",
     "output_type": "stream",
     "text": [
      "Exception ignored in: 'umi_tools._dedup_umi.edit_distance'\n",
      "Traceback (most recent call last):\n",
      "  File \"/fh/fast/bloom_j/software/miniconda3/envs/barcoded_flu_pdmH1N1/lib/python3.8/site-packages/umi_tools/network.py\", line 199, in _get_adj_list_directional\n",
      "    if edit_distance(umi1, umi2) <= threshold:\n",
      "TypeError: expected bytes, str found\n"
     ]
    },
    {
     "ename": "TypeError",
     "evalue": "expected bytes, str found",
     "output_type": "error",
     "traceback": [
      "\u001b[0;31m---------------------------------------------------------------------------\u001b[0m",
      "\u001b[0;31mTypeError\u001b[0m                                 Traceback (most recent call last)",
      "\u001b[0;31mTypeError\u001b[0m: expected bytes, str found"
     ]
    },
    {
     "name": "stderr",
     "output_type": "stream",
     "text": [
      "Exception ignored in: 'umi_tools._dedup_umi.edit_distance'\n",
      "Traceback (most recent call last):\n",
      "  File \"/fh/fast/bloom_j/software/miniconda3/envs/barcoded_flu_pdmH1N1/lib/python3.8/site-packages/umi_tools/network.py\", line 199, in _get_adj_list_directional\n",
      "    if edit_distance(umi1, umi2) <= threshold:\n",
      "TypeError: expected bytes, str found\n"
     ]
    },
    {
     "ename": "TypeError",
     "evalue": "expected bytes, str found",
     "output_type": "error",
     "traceback": [
      "\u001b[0;31m---------------------------------------------------------------------------\u001b[0m",
      "\u001b[0;31mTypeError\u001b[0m                                 Traceback (most recent call last)",
      "\u001b[0;31mTypeError\u001b[0m: expected bytes, str found"
     ]
    },
    {
     "name": "stderr",
     "output_type": "stream",
     "text": [
      "Exception ignored in: 'umi_tools._dedup_umi.edit_distance'\n",
      "Traceback (most recent call last):\n",
      "  File \"/fh/fast/bloom_j/software/miniconda3/envs/barcoded_flu_pdmH1N1/lib/python3.8/site-packages/umi_tools/network.py\", line 199, in _get_adj_list_directional\n",
      "    if edit_distance(umi1, umi2) <= threshold:\n",
      "TypeError: expected bytes, str found\n"
     ]
    },
    {
     "ename": "TypeError",
     "evalue": "expected bytes, str found",
     "output_type": "error",
     "traceback": [
      "\u001b[0;31m---------------------------------------------------------------------------\u001b[0m",
      "\u001b[0;31mTypeError\u001b[0m                                 Traceback (most recent call last)",
      "\u001b[0;31mTypeError\u001b[0m: expected bytes, str found"
     ]
    },
    {
     "name": "stderr",
     "output_type": "stream",
     "text": [
      "Exception ignored in: 'umi_tools._dedup_umi.edit_distance'\n",
      "Traceback (most recent call last):\n",
      "  File \"/fh/fast/bloom_j/software/miniconda3/envs/barcoded_flu_pdmH1N1/lib/python3.8/site-packages/umi_tools/network.py\", line 199, in _get_adj_list_directional\n",
      "    if edit_distance(umi1, umi2) <= threshold:\n",
      "TypeError: expected bytes, str found\n"
     ]
    },
    {
     "ename": "TypeError",
     "evalue": "expected bytes, str found",
     "output_type": "error",
     "traceback": [
      "\u001b[0;31m---------------------------------------------------------------------------\u001b[0m",
      "\u001b[0;31mTypeError\u001b[0m                                 Traceback (most recent call last)",
      "\u001b[0;31mTypeError\u001b[0m: expected bytes, str found"
     ]
    },
    {
     "name": "stderr",
     "output_type": "stream",
     "text": [
      "Exception ignored in: 'umi_tools._dedup_umi.edit_distance'\n",
      "Traceback (most recent call last):\n",
      "  File \"/fh/fast/bloom_j/software/miniconda3/envs/barcoded_flu_pdmH1N1/lib/python3.8/site-packages/umi_tools/network.py\", line 199, in _get_adj_list_directional\n",
      "    if edit_distance(umi1, umi2) <= threshold:\n",
      "TypeError: expected bytes, str found\n"
     ]
    },
    {
     "ename": "TypeError",
     "evalue": "expected bytes, str found",
     "output_type": "error",
     "traceback": [
      "\u001b[0;31m---------------------------------------------------------------------------\u001b[0m",
      "\u001b[0;31mTypeError\u001b[0m                                 Traceback (most recent call last)",
      "\u001b[0;31mTypeError\u001b[0m: expected bytes, str found"
     ]
    },
    {
     "name": "stderr",
     "output_type": "stream",
     "text": [
      "Exception ignored in: 'umi_tools._dedup_umi.edit_distance'\n",
      "Traceback (most recent call last):\n",
      "  File \"/fh/fast/bloom_j/software/miniconda3/envs/barcoded_flu_pdmH1N1/lib/python3.8/site-packages/umi_tools/network.py\", line 199, in _get_adj_list_directional\n",
      "    if edit_distance(umi1, umi2) <= threshold:\n",
      "TypeError: expected bytes, str found\n"
     ]
    },
    {
     "ename": "TypeError",
     "evalue": "expected bytes, str found",
     "output_type": "error",
     "traceback": [
      "\u001b[0;31m---------------------------------------------------------------------------\u001b[0m",
      "\u001b[0;31mTypeError\u001b[0m                                 Traceback (most recent call last)",
      "\u001b[0;31mTypeError\u001b[0m: expected bytes, str found"
     ]
    },
    {
     "name": "stderr",
     "output_type": "stream",
     "text": [
      "Exception ignored in: 'umi_tools._dedup_umi.edit_distance'\n",
      "Traceback (most recent call last):\n",
      "  File \"/fh/fast/bloom_j/software/miniconda3/envs/barcoded_flu_pdmH1N1/lib/python3.8/site-packages/umi_tools/network.py\", line 199, in _get_adj_list_directional\n",
      "    if edit_distance(umi1, umi2) <= threshold:\n",
      "TypeError: expected bytes, str found\n"
     ]
    },
    {
     "ename": "TypeError",
     "evalue": "expected bytes, str found",
     "output_type": "error",
     "traceback": [
      "\u001b[0;31m---------------------------------------------------------------------------\u001b[0m",
      "\u001b[0;31mTypeError\u001b[0m                                 Traceback (most recent call last)",
      "\u001b[0;31mTypeError\u001b[0m: expected bytes, str found"
     ]
    },
    {
     "name": "stderr",
     "output_type": "stream",
     "text": [
      "Exception ignored in: 'umi_tools._dedup_umi.edit_distance'\n",
      "Traceback (most recent call last):\n",
      "  File \"/fh/fast/bloom_j/software/miniconda3/envs/barcoded_flu_pdmH1N1/lib/python3.8/site-packages/umi_tools/network.py\", line 199, in _get_adj_list_directional\n",
      "    if edit_distance(umi1, umi2) <= threshold:\n",
      "TypeError: expected bytes, str found\n"
     ]
    },
    {
     "ename": "TypeError",
     "evalue": "expected bytes, str found",
     "output_type": "error",
     "traceback": [
      "\u001b[0;31m---------------------------------------------------------------------------\u001b[0m",
      "\u001b[0;31mTypeError\u001b[0m                                 Traceback (most recent call last)",
      "\u001b[0;31mTypeError\u001b[0m: expected bytes, str found"
     ]
    },
    {
     "name": "stderr",
     "output_type": "stream",
     "text": [
      "Exception ignored in: 'umi_tools._dedup_umi.edit_distance'\n",
      "Traceback (most recent call last):\n",
      "  File \"/fh/fast/bloom_j/software/miniconda3/envs/barcoded_flu_pdmH1N1/lib/python3.8/site-packages/umi_tools/network.py\", line 199, in _get_adj_list_directional\n",
      "    if edit_distance(umi1, umi2) <= threshold:\n",
      "TypeError: expected bytes, str found\n"
     ]
    },
    {
     "ename": "TypeError",
     "evalue": "expected bytes, str found",
     "output_type": "error",
     "traceback": [
      "\u001b[0;31m---------------------------------------------------------------------------\u001b[0m",
      "\u001b[0;31mTypeError\u001b[0m                                 Traceback (most recent call last)",
      "\u001b[0;31mTypeError\u001b[0m: expected bytes, str found"
     ]
    },
    {
     "name": "stderr",
     "output_type": "stream",
     "text": [
      "Exception ignored in: 'umi_tools._dedup_umi.edit_distance'\n",
      "Traceback (most recent call last):\n",
      "  File \"/fh/fast/bloom_j/software/miniconda3/envs/barcoded_flu_pdmH1N1/lib/python3.8/site-packages/umi_tools/network.py\", line 199, in _get_adj_list_directional\n",
      "    if edit_distance(umi1, umi2) <= threshold:\n",
      "TypeError: expected bytes, str found\n"
     ]
    },
    {
     "ename": "TypeError",
     "evalue": "expected bytes, str found",
     "output_type": "error",
     "traceback": [
      "\u001b[0;31m---------------------------------------------------------------------------\u001b[0m",
      "\u001b[0;31mTypeError\u001b[0m                                 Traceback (most recent call last)",
      "\u001b[0;31mTypeError\u001b[0m: expected bytes, str found"
     ]
    },
    {
     "name": "stderr",
     "output_type": "stream",
     "text": [
      "Exception ignored in: 'umi_tools._dedup_umi.edit_distance'\n",
      "Traceback (most recent call last):\n",
      "  File \"/fh/fast/bloom_j/software/miniconda3/envs/barcoded_flu_pdmH1N1/lib/python3.8/site-packages/umi_tools/network.py\", line 199, in _get_adj_list_directional\n",
      "    if edit_distance(umi1, umi2) <= threshold:\n",
      "TypeError: expected bytes, str found\n"
     ]
    },
    {
     "ename": "TypeError",
     "evalue": "expected bytes, str found",
     "output_type": "error",
     "traceback": [
      "\u001b[0;31m---------------------------------------------------------------------------\u001b[0m",
      "\u001b[0;31mTypeError\u001b[0m                                 Traceback (most recent call last)",
      "\u001b[0;31mTypeError\u001b[0m: expected bytes, str found"
     ]
    },
    {
     "name": "stderr",
     "output_type": "stream",
     "text": [
      "Exception ignored in: 'umi_tools._dedup_umi.edit_distance'\n",
      "Traceback (most recent call last):\n",
      "  File \"/fh/fast/bloom_j/software/miniconda3/envs/barcoded_flu_pdmH1N1/lib/python3.8/site-packages/umi_tools/network.py\", line 199, in _get_adj_list_directional\n",
      "    if edit_distance(umi1, umi2) <= threshold:\n",
      "TypeError: expected bytes, str found\n"
     ]
    },
    {
     "ename": "TypeError",
     "evalue": "expected bytes, str found",
     "output_type": "error",
     "traceback": [
      "\u001b[0;31m---------------------------------------------------------------------------\u001b[0m",
      "\u001b[0;31mTypeError\u001b[0m                                 Traceback (most recent call last)",
      "\u001b[0;31mTypeError\u001b[0m: expected bytes, str found"
     ]
    },
    {
     "name": "stderr",
     "output_type": "stream",
     "text": [
      "Exception ignored in: 'umi_tools._dedup_umi.edit_distance'\n",
      "Traceback (most recent call last):\n",
      "  File \"/fh/fast/bloom_j/software/miniconda3/envs/barcoded_flu_pdmH1N1/lib/python3.8/site-packages/umi_tools/network.py\", line 199, in _get_adj_list_directional\n",
      "    if edit_distance(umi1, umi2) <= threshold:\n",
      "TypeError: expected bytes, str found\n"
     ]
    },
    {
     "ename": "TypeError",
     "evalue": "expected bytes, str found",
     "output_type": "error",
     "traceback": [
      "\u001b[0;31m---------------------------------------------------------------------------\u001b[0m",
      "\u001b[0;31mTypeError\u001b[0m                                 Traceback (most recent call last)",
      "\u001b[0;31mTypeError\u001b[0m: expected bytes, str found"
     ]
    },
    {
     "name": "stderr",
     "output_type": "stream",
     "text": [
      "Exception ignored in: 'umi_tools._dedup_umi.edit_distance'\n",
      "Traceback (most recent call last):\n",
      "  File \"/fh/fast/bloom_j/software/miniconda3/envs/barcoded_flu_pdmH1N1/lib/python3.8/site-packages/umi_tools/network.py\", line 199, in _get_adj_list_directional\n",
      "    if edit_distance(umi1, umi2) <= threshold:\n",
      "TypeError: expected bytes, str found\n"
     ]
    },
    {
     "ename": "TypeError",
     "evalue": "expected bytes, str found",
     "output_type": "error",
     "traceback": [
      "\u001b[0;31m---------------------------------------------------------------------------\u001b[0m",
      "\u001b[0;31mTypeError\u001b[0m                                 Traceback (most recent call last)",
      "\u001b[0;31mTypeError\u001b[0m: expected bytes, str found"
     ]
    },
    {
     "name": "stderr",
     "output_type": "stream",
     "text": [
      "Exception ignored in: 'umi_tools._dedup_umi.edit_distance'\n",
      "Traceback (most recent call last):\n",
      "  File \"/fh/fast/bloom_j/software/miniconda3/envs/barcoded_flu_pdmH1N1/lib/python3.8/site-packages/umi_tools/network.py\", line 199, in _get_adj_list_directional\n",
      "    if edit_distance(umi1, umi2) <= threshold:\n",
      "TypeError: expected bytes, str found\n"
     ]
    },
    {
     "ename": "TypeError",
     "evalue": "expected bytes, str found",
     "output_type": "error",
     "traceback": [
      "\u001b[0;31m---------------------------------------------------------------------------\u001b[0m",
      "\u001b[0;31mTypeError\u001b[0m                                 Traceback (most recent call last)",
      "\u001b[0;31mTypeError\u001b[0m: expected bytes, str found"
     ]
    },
    {
     "name": "stderr",
     "output_type": "stream",
     "text": [
      "Exception ignored in: 'umi_tools._dedup_umi.edit_distance'\n",
      "Traceback (most recent call last):\n",
      "  File \"/fh/fast/bloom_j/software/miniconda3/envs/barcoded_flu_pdmH1N1/lib/python3.8/site-packages/umi_tools/network.py\", line 199, in _get_adj_list_directional\n",
      "    if edit_distance(umi1, umi2) <= threshold:\n",
      "TypeError: expected bytes, str found\n"
     ]
    },
    {
     "ename": "TypeError",
     "evalue": "expected bytes, str found",
     "output_type": "error",
     "traceback": [
      "\u001b[0;31m---------------------------------------------------------------------------\u001b[0m",
      "\u001b[0;31mTypeError\u001b[0m                                 Traceback (most recent call last)",
      "\u001b[0;31mTypeError\u001b[0m: expected bytes, str found"
     ]
    },
    {
     "name": "stderr",
     "output_type": "stream",
     "text": [
      "Exception ignored in: 'umi_tools._dedup_umi.edit_distance'\n",
      "Traceback (most recent call last):\n",
      "  File \"/fh/fast/bloom_j/software/miniconda3/envs/barcoded_flu_pdmH1N1/lib/python3.8/site-packages/umi_tools/network.py\", line 199, in _get_adj_list_directional\n",
      "    if edit_distance(umi1, umi2) <= threshold:\n",
      "TypeError: expected bytes, str found\n"
     ]
    },
    {
     "ename": "TypeError",
     "evalue": "expected bytes, str found",
     "output_type": "error",
     "traceback": [
      "\u001b[0;31m---------------------------------------------------------------------------\u001b[0m",
      "\u001b[0;31mTypeError\u001b[0m                                 Traceback (most recent call last)",
      "\u001b[0;31mTypeError\u001b[0m: expected bytes, str found"
     ]
    },
    {
     "name": "stderr",
     "output_type": "stream",
     "text": [
      "Exception ignored in: 'umi_tools._dedup_umi.edit_distance'\n",
      "Traceback (most recent call last):\n",
      "  File \"/fh/fast/bloom_j/software/miniconda3/envs/barcoded_flu_pdmH1N1/lib/python3.8/site-packages/umi_tools/network.py\", line 199, in _get_adj_list_directional\n",
      "    if edit_distance(umi1, umi2) <= threshold:\n",
      "TypeError: expected bytes, str found\n"
     ]
    },
    {
     "ename": "TypeError",
     "evalue": "expected bytes, str found",
     "output_type": "error",
     "traceback": [
      "\u001b[0;31m---------------------------------------------------------------------------\u001b[0m",
      "\u001b[0;31mTypeError\u001b[0m                                 Traceback (most recent call last)",
      "\u001b[0;31mTypeError\u001b[0m: expected bytes, str found"
     ]
    },
    {
     "name": "stderr",
     "output_type": "stream",
     "text": [
      "Exception ignored in: 'umi_tools._dedup_umi.edit_distance'\n",
      "Traceback (most recent call last):\n",
      "  File \"/fh/fast/bloom_j/software/miniconda3/envs/barcoded_flu_pdmH1N1/lib/python3.8/site-packages/umi_tools/network.py\", line 199, in _get_adj_list_directional\n",
      "    if edit_distance(umi1, umi2) <= threshold:\n",
      "TypeError: expected bytes, str found\n"
     ]
    },
    {
     "ename": "TypeError",
     "evalue": "expected bytes, str found",
     "output_type": "error",
     "traceback": [
      "\u001b[0;31m---------------------------------------------------------------------------\u001b[0m",
      "\u001b[0;31mTypeError\u001b[0m                                 Traceback (most recent call last)",
      "\u001b[0;31mTypeError\u001b[0m: expected bytes, str found"
     ]
    },
    {
     "name": "stderr",
     "output_type": "stream",
     "text": [
      "Exception ignored in: 'umi_tools._dedup_umi.edit_distance'\n",
      "Traceback (most recent call last):\n",
      "  File \"/fh/fast/bloom_j/software/miniconda3/envs/barcoded_flu_pdmH1N1/lib/python3.8/site-packages/umi_tools/network.py\", line 199, in _get_adj_list_directional\n",
      "    if edit_distance(umi1, umi2) <= threshold:\n",
      "TypeError: expected bytes, str found\n"
     ]
    },
    {
     "ename": "TypeError",
     "evalue": "expected bytes, str found",
     "output_type": "error",
     "traceback": [
      "\u001b[0;31m---------------------------------------------------------------------------\u001b[0m",
      "\u001b[0;31mTypeError\u001b[0m                                 Traceback (most recent call last)",
      "\u001b[0;31mTypeError\u001b[0m: expected bytes, str found"
     ]
    },
    {
     "name": "stderr",
     "output_type": "stream",
     "text": [
      "Exception ignored in: 'umi_tools._dedup_umi.edit_distance'\n",
      "Traceback (most recent call last):\n",
      "  File \"/fh/fast/bloom_j/software/miniconda3/envs/barcoded_flu_pdmH1N1/lib/python3.8/site-packages/umi_tools/network.py\", line 199, in _get_adj_list_directional\n",
      "    if edit_distance(umi1, umi2) <= threshold:\n",
      "TypeError: expected bytes, str found\n"
     ]
    },
    {
     "ename": "TypeError",
     "evalue": "expected bytes, str found",
     "output_type": "error",
     "traceback": [
      "\u001b[0;31m---------------------------------------------------------------------------\u001b[0m",
      "\u001b[0;31mTypeError\u001b[0m                                 Traceback (most recent call last)",
      "\u001b[0;31mTypeError\u001b[0m: expected bytes, str found"
     ]
    },
    {
     "name": "stderr",
     "output_type": "stream",
     "text": [
      "Exception ignored in: 'umi_tools._dedup_umi.edit_distance'\n",
      "Traceback (most recent call last):\n",
      "  File \"/fh/fast/bloom_j/software/miniconda3/envs/barcoded_flu_pdmH1N1/lib/python3.8/site-packages/umi_tools/network.py\", line 199, in _get_adj_list_directional\n",
      "    if edit_distance(umi1, umi2) <= threshold:\n",
      "TypeError: expected bytes, str found\n"
     ]
    },
    {
     "ename": "TypeError",
     "evalue": "expected bytes, str found",
     "output_type": "error",
     "traceback": [
      "\u001b[0;31m---------------------------------------------------------------------------\u001b[0m",
      "\u001b[0;31mTypeError\u001b[0m                                 Traceback (most recent call last)",
      "\u001b[0;31mTypeError\u001b[0m: expected bytes, str found"
     ]
    },
    {
     "name": "stderr",
     "output_type": "stream",
     "text": [
      "Exception ignored in: 'umi_tools._dedup_umi.edit_distance'\n",
      "Traceback (most recent call last):\n",
      "  File \"/fh/fast/bloom_j/software/miniconda3/envs/barcoded_flu_pdmH1N1/lib/python3.8/site-packages/umi_tools/network.py\", line 199, in _get_adj_list_directional\n",
      "    if edit_distance(umi1, umi2) <= threshold:\n",
      "TypeError: expected bytes, str found\n"
     ]
    },
    {
     "ename": "TypeError",
     "evalue": "expected bytes, str found",
     "output_type": "error",
     "traceback": [
      "\u001b[0;31m---------------------------------------------------------------------------\u001b[0m",
      "\u001b[0;31mTypeError\u001b[0m                                 Traceback (most recent call last)",
      "\u001b[0;31mTypeError\u001b[0m: expected bytes, str found"
     ]
    },
    {
     "name": "stderr",
     "output_type": "stream",
     "text": [
      "Exception ignored in: 'umi_tools._dedup_umi.edit_distance'\n",
      "Traceback (most recent call last):\n",
      "  File \"/fh/fast/bloom_j/software/miniconda3/envs/barcoded_flu_pdmH1N1/lib/python3.8/site-packages/umi_tools/network.py\", line 199, in _get_adj_list_directional\n",
      "    if edit_distance(umi1, umi2) <= threshold:\n",
      "TypeError: expected bytes, str found\n"
     ]
    },
    {
     "ename": "TypeError",
     "evalue": "expected bytes, str found",
     "output_type": "error",
     "traceback": [
      "\u001b[0;31m---------------------------------------------------------------------------\u001b[0m",
      "\u001b[0;31mTypeError\u001b[0m                                 Traceback (most recent call last)",
      "\u001b[0;31mTypeError\u001b[0m: expected bytes, str found"
     ]
    },
    {
     "name": "stderr",
     "output_type": "stream",
     "text": [
      "Exception ignored in: 'umi_tools._dedup_umi.edit_distance'\n",
      "Traceback (most recent call last):\n",
      "  File \"/fh/fast/bloom_j/software/miniconda3/envs/barcoded_flu_pdmH1N1/lib/python3.8/site-packages/umi_tools/network.py\", line 199, in _get_adj_list_directional\n",
      "    if edit_distance(umi1, umi2) <= threshold:\n",
      "TypeError: expected bytes, str found\n"
     ]
    },
    {
     "ename": "TypeError",
     "evalue": "expected bytes, str found",
     "output_type": "error",
     "traceback": [
      "\u001b[0;31m---------------------------------------------------------------------------\u001b[0m",
      "\u001b[0;31mTypeError\u001b[0m                                 Traceback (most recent call last)",
      "\u001b[0;31mTypeError\u001b[0m: expected bytes, str found"
     ]
    },
    {
     "name": "stderr",
     "output_type": "stream",
     "text": [
      "Exception ignored in: 'umi_tools._dedup_umi.edit_distance'\n",
      "Traceback (most recent call last):\n",
      "  File \"/fh/fast/bloom_j/software/miniconda3/envs/barcoded_flu_pdmH1N1/lib/python3.8/site-packages/umi_tools/network.py\", line 199, in _get_adj_list_directional\n",
      "    if edit_distance(umi1, umi2) <= threshold:\n",
      "TypeError: expected bytes, str found\n"
     ]
    },
    {
     "ename": "TypeError",
     "evalue": "expected bytes, str found",
     "output_type": "error",
     "traceback": [
      "\u001b[0;31m---------------------------------------------------------------------------\u001b[0m",
      "\u001b[0;31mTypeError\u001b[0m                                 Traceback (most recent call last)",
      "\u001b[0;31mTypeError\u001b[0m: expected bytes, str found"
     ]
    },
    {
     "name": "stderr",
     "output_type": "stream",
     "text": [
      "Exception ignored in: 'umi_tools._dedup_umi.edit_distance'\n",
      "Traceback (most recent call last):\n",
      "  File \"/fh/fast/bloom_j/software/miniconda3/envs/barcoded_flu_pdmH1N1/lib/python3.8/site-packages/umi_tools/network.py\", line 199, in _get_adj_list_directional\n",
      "    if edit_distance(umi1, umi2) <= threshold:\n",
      "TypeError: expected bytes, str found\n"
     ]
    },
    {
     "ename": "TypeError",
     "evalue": "expected bytes, str found",
     "output_type": "error",
     "traceback": [
      "\u001b[0;31m---------------------------------------------------------------------------\u001b[0m",
      "\u001b[0;31mTypeError\u001b[0m                                 Traceback (most recent call last)",
      "\u001b[0;31mTypeError\u001b[0m: expected bytes, str found"
     ]
    },
    {
     "name": "stderr",
     "output_type": "stream",
     "text": [
      "Exception ignored in: 'umi_tools._dedup_umi.edit_distance'\n",
      "Traceback (most recent call last):\n",
      "  File \"/fh/fast/bloom_j/software/miniconda3/envs/barcoded_flu_pdmH1N1/lib/python3.8/site-packages/umi_tools/network.py\", line 199, in _get_adj_list_directional\n",
      "    if edit_distance(umi1, umi2) <= threshold:\n",
      "TypeError: expected bytes, str found\n"
     ]
    },
    {
     "ename": "TypeError",
     "evalue": "expected bytes, str found",
     "output_type": "error",
     "traceback": [
      "\u001b[0;31m---------------------------------------------------------------------------\u001b[0m",
      "\u001b[0;31mTypeError\u001b[0m                                 Traceback (most recent call last)",
      "\u001b[0;31mTypeError\u001b[0m: expected bytes, str found"
     ]
    },
    {
     "name": "stderr",
     "output_type": "stream",
     "text": [
      "Exception ignored in: 'umi_tools._dedup_umi.edit_distance'\n",
      "Traceback (most recent call last):\n",
      "  File \"/fh/fast/bloom_j/software/miniconda3/envs/barcoded_flu_pdmH1N1/lib/python3.8/site-packages/umi_tools/network.py\", line 199, in _get_adj_list_directional\n",
      "    if edit_distance(umi1, umi2) <= threshold:\n",
      "TypeError: expected bytes, str found\n"
     ]
    },
    {
     "ename": "TypeError",
     "evalue": "expected bytes, str found",
     "output_type": "error",
     "traceback": [
      "\u001b[0;31m---------------------------------------------------------------------------\u001b[0m",
      "\u001b[0;31mTypeError\u001b[0m                                 Traceback (most recent call last)",
      "\u001b[0;31mTypeError\u001b[0m: expected bytes, str found"
     ]
    },
    {
     "name": "stderr",
     "output_type": "stream",
     "text": [
      "Exception ignored in: 'umi_tools._dedup_umi.edit_distance'\n",
      "Traceback (most recent call last):\n",
      "  File \"/fh/fast/bloom_j/software/miniconda3/envs/barcoded_flu_pdmH1N1/lib/python3.8/site-packages/umi_tools/network.py\", line 199, in _get_adj_list_directional\n",
      "    if edit_distance(umi1, umi2) <= threshold:\n",
      "TypeError: expected bytes, str found\n"
     ]
    },
    {
     "ename": "TypeError",
     "evalue": "expected bytes, str found",
     "output_type": "error",
     "traceback": [
      "\u001b[0;31m---------------------------------------------------------------------------\u001b[0m",
      "\u001b[0;31mTypeError\u001b[0m                                 Traceback (most recent call last)",
      "\u001b[0;31mTypeError\u001b[0m: expected bytes, str found"
     ]
    },
    {
     "name": "stderr",
     "output_type": "stream",
     "text": [
      "Exception ignored in: 'umi_tools._dedup_umi.edit_distance'\n",
      "Traceback (most recent call last):\n",
      "  File \"/fh/fast/bloom_j/software/miniconda3/envs/barcoded_flu_pdmH1N1/lib/python3.8/site-packages/umi_tools/network.py\", line 199, in _get_adj_list_directional\n",
      "    if edit_distance(umi1, umi2) <= threshold:\n",
      "TypeError: expected bytes, str found\n"
     ]
    },
    {
     "ename": "TypeError",
     "evalue": "expected bytes, str found",
     "output_type": "error",
     "traceback": [
      "\u001b[0;31m---------------------------------------------------------------------------\u001b[0m",
      "\u001b[0;31mTypeError\u001b[0m                                 Traceback (most recent call last)",
      "\u001b[0;31mTypeError\u001b[0m: expected bytes, str found"
     ]
    },
    {
     "name": "stderr",
     "output_type": "stream",
     "text": [
      "Exception ignored in: 'umi_tools._dedup_umi.edit_distance'\n",
      "Traceback (most recent call last):\n",
      "  File \"/fh/fast/bloom_j/software/miniconda3/envs/barcoded_flu_pdmH1N1/lib/python3.8/site-packages/umi_tools/network.py\", line 199, in _get_adj_list_directional\n",
      "    if edit_distance(umi1, umi2) <= threshold:\n",
      "TypeError: expected bytes, str found\n"
     ]
    },
    {
     "ename": "TypeError",
     "evalue": "expected bytes, str found",
     "output_type": "error",
     "traceback": [
      "\u001b[0;31m---------------------------------------------------------------------------\u001b[0m",
      "\u001b[0;31mTypeError\u001b[0m                                 Traceback (most recent call last)",
      "\u001b[0;31mTypeError\u001b[0m: expected bytes, str found"
     ]
    },
    {
     "name": "stderr",
     "output_type": "stream",
     "text": [
      "Exception ignored in: 'umi_tools._dedup_umi.edit_distance'\n",
      "Traceback (most recent call last):\n",
      "  File \"/fh/fast/bloom_j/software/miniconda3/envs/barcoded_flu_pdmH1N1/lib/python3.8/site-packages/umi_tools/network.py\", line 199, in _get_adj_list_directional\n",
      "    if edit_distance(umi1, umi2) <= threshold:\n",
      "TypeError: expected bytes, str found\n"
     ]
    },
    {
     "ename": "TypeError",
     "evalue": "expected bytes, str found",
     "output_type": "error",
     "traceback": [
      "\u001b[0;31m---------------------------------------------------------------------------\u001b[0m",
      "\u001b[0;31mTypeError\u001b[0m                                 Traceback (most recent call last)",
      "\u001b[0;31mTypeError\u001b[0m: expected bytes, str found"
     ]
    },
    {
     "name": "stderr",
     "output_type": "stream",
     "text": [
      "Exception ignored in: 'umi_tools._dedup_umi.edit_distance'\n",
      "Traceback (most recent call last):\n",
      "  File \"/fh/fast/bloom_j/software/miniconda3/envs/barcoded_flu_pdmH1N1/lib/python3.8/site-packages/umi_tools/network.py\", line 199, in _get_adj_list_directional\n",
      "    if edit_distance(umi1, umi2) <= threshold:\n",
      "TypeError: expected bytes, str found\n"
     ]
    },
    {
     "ename": "TypeError",
     "evalue": "expected bytes, str found",
     "output_type": "error",
     "traceback": [
      "\u001b[0;31m---------------------------------------------------------------------------\u001b[0m",
      "\u001b[0;31mTypeError\u001b[0m                                 Traceback (most recent call last)",
      "\u001b[0;31mTypeError\u001b[0m: expected bytes, str found"
     ]
    },
    {
     "name": "stderr",
     "output_type": "stream",
     "text": [
      "Exception ignored in: 'umi_tools._dedup_umi.edit_distance'\n",
      "Traceback (most recent call last):\n",
      "  File \"/fh/fast/bloom_j/software/miniconda3/envs/barcoded_flu_pdmH1N1/lib/python3.8/site-packages/umi_tools/network.py\", line 199, in _get_adj_list_directional\n",
      "    if edit_distance(umi1, umi2) <= threshold:\n",
      "TypeError: expected bytes, str found\n"
     ]
    },
    {
     "name": "stdout",
     "output_type": "stream",
     "text": [
      "[['AAAAAACGAATGGATT', 'AAAAACCTGAACAATC', 'AAAAAATCGGTAGTGG', 'AAAAACCAATCCCCCA', 'AAAAACCAAATTATTT', 'AAAAAACGAATGGATC', 'AAAAAACGAAGGGATT', 'AAAAAATCGGTAGTAA', 'AAAAAATCGGTAGAGG', 'AAAAAATATTCATACG']]\n"
     ]
    }
   ],
   "source": [
    "clusterer = UMIClusterer(cluster_method=\"directional\")\n",
    "\n",
    "for (source, tag, gene), df in (viral_bc_df\n",
    "                                .groupby(['source',\n",
    "                                          'tag',\n",
    "                                          'gene'])):\n",
    "    viral_bc_dict = (viral_bc_df[['barcode','mean_freq']][0:10]\n",
    "                     .set_index('barcode')\n",
    "                     .to_dict(orient='dict'))\n",
    "    viral_bc_dict = viral_bc_dict['mean_freq']\n",
    "    print(viral_bc_dict)\n",
    "    bc_groups = clusterer(viral_bc_dict, threshold=1)\n",
    "    print(bc_groups)"
   ]
  },
  {
   "cell_type": "code",
   "execution_count": 58,
   "metadata": {},
   "outputs": [
    {
     "name": "stdout",
     "output_type": "stream",
     "text": [
      "{b'AAAAAACGAAGGGATT': 7.869665743817199e-07, b'AAAAAACGAATGGATC': 8.755248771638597e-07, b'AAAAAACGAATGGATT': 0.00033816405663403715, b'AAAAAATATTCATACG': 7.869665743817199e-07, b'AAAAAATCGGTAGAGG': 7.869665743817199e-07, b'AAAAAATCGGTAGTAA': 7.869665743817199e-07, b'AAAAAATCGGTAGTGG': 0.0002460386766780882, b'AAAAACCAAATTATTT': 5.85313758645663e-05, b'AAAAACCAATCCCCCA': 9.124985507878503e-05, b'AAAAACCTGAACAATC': 0.0002941422541688128}\n"
     ]
    },
    {
     "data": {
      "text/plain": [
       "[[b'AAAAAACGAATGGATT', b'AAAAAACGAATGGATC', b'AAAAAACGAAGGGATT'],\n",
       " [b'AAAAACCTGAACAATC'],\n",
       " [b'AAAAAATCGGTAGTGG', b'AAAAAATCGGTAGAGG'],\n",
       " [b'AAAAACCAATCCCCCA'],\n",
       " [b'AAAAACCAAATTATTT'],\n",
       " [b'AAAAAATATTCATACG'],\n",
       " [b'AAAAAATCGGTAGTAA']]"
      ]
     },
     "execution_count": 58,
     "metadata": {},
     "output_type": "execute_result"
    }
   ],
   "source": [
    "temp_dict = {'AAAAAACGAAGGGATT': 7.869665743817199e-07, 'AAAAAACGAATGGATC': 8.755248771638597e-07, 'AAAAAACGAATGGATT': 0.00033816405663403715, 'AAAAAATATTCATACG': 7.869665743817199e-07, 'AAAAAATCGGTAGAGG': 7.869665743817199e-07, 'AAAAAATCGGTAGTAA': 7.869665743817199e-07, 'AAAAAATCGGTAGTGG': 0.0002460386766780882, 'AAAAACCAAATTATTT': 5.85313758645663e-05, 'AAAAACCAATCCCCCA': 9.124985507878503e-05, 'AAAAACCTGAACAATC': 0.0002941422541688128}\n",
    "# temp_dict = {\"ATAT\": 10,\n",
    "#              \"GTAT\": 5,\n",
    "#              \"CCAT\": 3}\n",
    "byte_dict={}\n",
    "for key, value in temp_dict.items(): \n",
    "    output[key.encode(\"utf-8\")] = float(value)\n",
    "print(output)\n",
    "temp_groups = clusterer(output, threshold=1)\n",
    "temp_groups"
   ]
  },
  {
   "cell_type": "code",
   "execution_count": null,
   "metadata": {},
   "outputs": [],
   "source": []
  }
 ],
 "metadata": {
  "kernelspec": {
   "display_name": "Python 3",
   "language": "python",
   "name": "python3"
  },
  "language_info": {
   "codemirror_mode": {
    "name": "ipython",
    "version": 3
   },
   "file_extension": ".py",
   "mimetype": "text/x-python",
   "name": "python",
   "nbconvert_exporter": "python",
   "pygments_lexer": "ipython3",
   "version": "3.8.6"
  }
 },
 "nbformat": 4,
 "nbformat_minor": 4
}
