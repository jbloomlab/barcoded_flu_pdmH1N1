{
 "cells": [
  {
   "cell_type": "markdown",
   "metadata": {},
   "source": [
    "## CCS stats for PacBio runs¶"
   ]
  },
  {
   "cell_type": "markdown",
   "metadata": {},
   "source": [
    "This notebook summarizes ccs for pacbio runs from hashing experiments."
   ]
  },
  {
   "cell_type": "code",
   "execution_count": 1,
   "metadata": {},
   "outputs": [],
   "source": [
    "import warnings\n",
    "\n",
    "from IPython.display import HTML, display\n",
    "\n",
    "import alignparse\n",
    "import alignparse.ccs\n",
    "\n",
    "import pandas as pd\n",
    "\n",
    "import plotnine as p9"
   ]
  },
  {
   "cell_type": "code",
   "execution_count": 2,
   "metadata": {},
   "outputs": [],
   "source": [
    "warnings.simplefilter('ignore')"
   ]
  },
  {
   "cell_type": "markdown",
   "metadata": {},
   "source": [
    "Get snakemake variables."
   ]
  },
  {
   "cell_type": "code",
   "execution_count": 7,
   "metadata": {},
   "outputs": [],
   "source": [
    "ccs_report = snakemake.input.ccs_report\n",
    "ccs_fastq = snakemake.input.ccs_fastq\n",
    "runs = snakemake.params.runs\n",
    "summary = snakemake.output.summary"
   ]
  },
  {
   "cell_type": "markdown",
   "metadata": {},
   "source": [
    "Create packbio run dataframe"
   ]
  },
  {
   "cell_type": "code",
   "execution_count": 8,
   "metadata": {},
   "outputs": [
    {
     "data": {
      "text/html": [
       "<table border=\"1\" class=\"dataframe\">\n",
       "  <thead>\n",
       "    <tr style=\"text-align: right;\">\n",
       "      <th>name</th>\n",
       "      <th>fastq</th>\n",
       "      <th>report</th>\n",
       "    </tr>\n",
       "  </thead>\n",
       "  <tbody>\n",
       "    <tr>\n",
       "      <td>hashing_highMOI_2020-10-20_all_segments_run1</td>\n",
       "      <td>results/pacbio/hashing_highMOI_2020-10-20_all_segments_run1_ccs.fastq.gz</td>\n",
       "      <td>results/pacbio/hashing_highMOI_2020-10-20_all_segments_run1_report.txt</td>\n",
       "    </tr>\n",
       "  </tbody>\n",
       "</table>"
      ],
      "text/plain": [
       "<IPython.core.display.HTML object>"
      ]
     },
     "metadata": {},
     "output_type": "display_data"
    }
   ],
   "source": [
    "run_df = pd.DataFrame({'name': runs, 'fastq': ccs_fastq, 'report': ccs_report})\n",
    "display(HTML(run_df.to_html(index=False)))"
   ]
  },
  {
   "cell_type": "code",
   "execution_count": null,
   "metadata": {},
   "outputs": [],
   "source": [
    "ccs_summaries = alignparse.ccs.Summaries(run_df)"
   ]
  },
  {
   "cell_type": "markdown",
   "metadata": {},
   "source": [
    "Plot statistics for each ccs run."
   ]
  },
  {
   "cell_type": "code",
   "execution_count": null,
   "metadata": {},
   "outputs": [],
   "source": [
    "plot = ccs_summaries.plot_zmw_stats()\n",
    "plot = plot + p9.theme(panel_grid_major_x=p9.element_blank())\n",
    "_ = plot.draw()"
   ]
  },
  {
   "cell_type": "markdown",
   "metadata": {},
   "source": [
    "Plot statistics on generated CCSs: their length, and accuracy (as reported by the ccs program):"
   ]
  },
  {
   "cell_type": "code",
   "execution_count": null,
   "metadata": {},
   "outputs": [],
   "source": [
    "for variable in ['length', 'accuracy', 'passes']:\n",
    "    if ccs_summaries.has_stat(variable):\n",
    "        p = ccs_summaries.plot_ccs_stats(variable, maxcol=7, bins=25)\n",
    "        p = p + p9.theme(panel_grid_major_x=p9.element_blank())\n",
    "        _ = p.draw()\n",
    "    else:\n",
    "        print(f\"No {variable} statistics available.\")"
   ]
  },
  {
   "cell_type": "markdown",
   "metadata": {},
   "source": [
    "Finally, save ccs statistics."
   ]
  },
  {
   "cell_type": "code",
   "execution_count": null,
   "metadata": {},
   "outputs": [],
   "source": [
    "print(f\"Saving figure to {summary}\")\n",
    "p9.ggsave(plot=plot, filename=summary)"
   ]
  }
 ],
 "metadata": {
  "celltoolbar": "Raw Cell Format",
  "kernelspec": {
   "display_name": "Python 3",
   "language": "python",
   "name": "python3"
  },
  "language_info": {
   "codemirror_mode": {
    "name": "ipython",
    "version": 3
   },
   "file_extension": ".py",
   "mimetype": "text/x-python",
   "name": "python",
   "nbconvert_exporter": "python",
   "pygments_lexer": "ipython3",
   "version": "3.8.6"
  }
 },
 "nbformat": 4,
 "nbformat_minor": 4
}
