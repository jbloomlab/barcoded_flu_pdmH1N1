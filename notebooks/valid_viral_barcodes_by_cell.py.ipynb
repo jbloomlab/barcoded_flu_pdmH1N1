{
 "cells": [
  {
   "cell_type": "markdown",
   "metadata": {},
   "source": [
    "# Viral barcode in each cell\n",
    "This notebook filters viral barcodes in each cell in the 10X transcriptome data"
   ]
  },
  {
   "cell_type": "markdown",
   "metadata": {},
   "source": [
    "## Notebook setup\n",
    "Import python modules:"
   ]
  },
  {
   "cell_type": "code",
   "execution_count": null,
   "metadata": {
    "execution": {
     "iopub.execute_input": "2021-12-15T00:02:59.804757Z",
     "iopub.status.busy": "2021-12-15T00:02:59.803774Z",
     "iopub.status.idle": "2021-12-15T00:03:02.313334Z",
     "shell.execute_reply": "2021-12-15T00:03:02.314212Z"
    }
   },
   "outputs": [],
   "source": [
    "from IPython.display import display\n",
    "\n",
    "from dms_variants.constants import CBPALETTE\n",
    "\n",
    "import pandas as pd\n",
    "\n",
    "import plotnine as p9\n",
    "\n",
    "import scipy\n",
    "\n",
    "import statsmodels.stats.multitest"
   ]
  },
  {
   "cell_type": "markdown",
   "metadata": {},
   "source": [
    "Get `snakemake` variables [as described here](https://snakemake.readthedocs.io/en/stable/snakefiles/rules.html#jupyter-notebook-integration):"
   ]
  },
  {
   "cell_type": "code",
   "execution_count": null,
   "metadata": {
    "execution": {
     "iopub.execute_input": "2021-12-15T00:03:02.317795Z",
     "iopub.status.busy": "2021-12-15T00:03:02.316829Z",
     "iopub.status.idle": "2021-12-15T00:03:02.321539Z",
     "shell.execute_reply": "2021-12-15T00:03:02.322114Z"
    }
   },
   "outputs": [],
   "source": [
    "viral_tag_by_cell_csv = (snakemake\n",
    "                         .input\n",
    "                         .viral_tag_by_cell_csv)\n",
    "viral_bc_by_cell_corrected_csv = (snakemake\n",
    "                                  .input\n",
    "                                  .viral_bc_by_cell_corrected_csv)\n",
    "viral_genes_by_cell_csv = snakemake.input.viral_genes_by_cell_csv\n",
    "valid_viral_barcodes_csv = (\n",
    "    snakemake\n",
    "    .output\n",
    "    .valid_viral_barcodes_csv)\n",
    "plot = snakemake.output.plot\n",
    "expt = snakemake.wildcards.expt\n",
    "barcoded_viral_genes = snakemake.params.barcoded_viral_genes"
   ]
  },
  {
   "cell_type": "markdown",
   "metadata": {},
   "source": [
    "Set base plot style:"
   ]
  },
  {
   "cell_type": "code",
   "execution_count": null,
   "metadata": {
    "execution": {
     "iopub.execute_input": "2021-12-15T00:03:02.325023Z",
     "iopub.status.busy": "2021-12-15T00:03:02.324109Z",
     "iopub.status.idle": "2021-12-15T00:03:02.328920Z",
     "shell.execute_reply": "2021-12-15T00:03:02.329457Z"
    }
   },
   "outputs": [],
   "source": [
    "p9.theme_set(p9.theme_classic())"
   ]
  },
  {
   "cell_type": "markdown",
   "metadata": {},
   "source": [
    "## Organize data"
   ]
  },
  {
   "cell_type": "markdown",
   "metadata": {},
   "source": [
    "Read the viral barcode UMI counts data into a pandas dataframe:"
   ]
  },
  {
   "cell_type": "code",
   "execution_count": null,
   "metadata": {
    "execution": {
     "iopub.execute_input": "2021-12-15T00:03:02.332218Z",
     "iopub.status.busy": "2021-12-15T00:03:02.331380Z",
     "iopub.status.idle": "2021-12-15T00:03:02.360742Z",
     "shell.execute_reply": "2021-12-15T00:03:02.361295Z"
    }
   },
   "outputs": [],
   "source": [
    "viral_bc_counts = pd.read_csv(viral_bc_by_cell_corrected_csv)\n",
    "viral_bc_counts = (viral_bc_counts\n",
    "                   .rename(columns={'count': 'viral_bc_UMIs'}))\n",
    "assert set(viral_bc_counts['gene']) == set(barcoded_viral_genes), \\\n",
    "       \"Barcoded genes in barcode counts do not match expectation.\"\n",
    "display(viral_bc_counts)"
   ]
  },
  {
   "cell_type": "markdown",
   "metadata": {},
   "source": [
    "Read the total number of UMIs per cell into a pandas dataframe. Only keep relevant columns."
   ]
  },
  {
   "cell_type": "code",
   "execution_count": null,
   "metadata": {
    "execution": {
     "iopub.execute_input": "2021-12-15T00:03:02.364138Z",
     "iopub.status.busy": "2021-12-15T00:03:02.363292Z",
     "iopub.status.idle": "2021-12-15T00:03:02.535273Z",
     "shell.execute_reply": "2021-12-15T00:03:02.535826Z"
    }
   },
   "outputs": [],
   "source": [
    "all_cells = pd.read_csv(viral_tag_by_cell_csv)\n",
    "all_cells = all_cells[['cell_barcode',\n",
    "                       'infected',\n",
    "                       'infecting_viral_tag',\n",
    "                       'total_UMIs',\n",
    "                       'viral_UMIs',\n",
    "                       'cellular_UMIs',\n",
    "                       'frac_viral_UMIs']]\n",
    "display(all_cells)"
   ]
  },
  {
   "cell_type": "markdown",
   "metadata": {},
   "source": [
    "Sanity check that `total_UMIs` is equal to `viral_UMIs + cellular_UMIs`:"
   ]
  },
  {
   "cell_type": "code",
   "execution_count": null,
   "metadata": {
    "execution": {
     "iopub.execute_input": "2021-12-15T00:03:02.538683Z",
     "iopub.status.busy": "2021-12-15T00:03:02.537830Z",
     "iopub.status.idle": "2021-12-15T00:03:02.549877Z",
     "shell.execute_reply": "2021-12-15T00:03:02.550533Z"
    }
   },
   "outputs": [],
   "source": [
    "assert bool((all_cells['total_UMIs'] ==\n",
    "             all_cells['viral_UMIs'] +\n",
    "             all_cells['cellular_UMIs'])\n",
    "            .all()), \"UMI counts do not add up\""
   ]
  },
  {
   "cell_type": "markdown",
   "metadata": {},
   "source": [
    "Read the gene presence/absence data"
   ]
  },
  {
   "cell_type": "code",
   "execution_count": null,
   "metadata": {
    "execution": {
     "iopub.execute_input": "2021-12-15T00:03:02.553805Z",
     "iopub.status.busy": "2021-12-15T00:03:02.552799Z",
     "iopub.status.idle": "2021-12-15T00:03:02.675902Z",
     "shell.execute_reply": "2021-12-15T00:03:02.676459Z"
    }
   },
   "outputs": [],
   "source": [
    "viral_genes_by_cell = pd.read_csv(viral_genes_by_cell_csv)\n",
    "display(viral_genes_by_cell)"
   ]
  },
  {
   "cell_type": "markdown",
   "metadata": {},
   "source": [
    "Merge dataframes:"
   ]
  },
  {
   "cell_type": "code",
   "execution_count": null,
   "metadata": {
    "execution": {
     "iopub.execute_input": "2021-12-15T00:03:02.679372Z",
     "iopub.status.busy": "2021-12-15T00:03:02.678508Z",
     "iopub.status.idle": "2021-12-15T00:03:02.741482Z",
     "shell.execute_reply": "2021-12-15T00:03:02.742044Z"
    }
   },
   "outputs": [],
   "source": [
    "viral_bc_frac = pd.merge(\n",
    "    left=pd.concat([all_cells.assign(gene=gene)\n",
    "                    for gene in barcoded_viral_genes]),\n",
    "    right=viral_bc_counts,\n",
    "    how='outer',\n",
    "    on=['cell_barcode', 'gene'],\n",
    "    validate='one_to_many')\n",
    "assert (viral_bc_frac['cell_barcode'].unique() ==\n",
    "        all_cells['cell_barcode'].unique()).all(), \\\n",
    "       \"Cell barcodes in merged dataframe don't \" \\\n",
    "       \"match barcodes in source data.\"\n",
    "assert (viral_bc_frac['viral_barcode'].nunique() ==\n",
    "        viral_bc_counts['viral_barcode'].nunique()), \\\n",
    "       \"Number of viral barcodes in merged dataframe don't \" \\\n",
    "       \"match number of barcodes in source data.\"\n",
    "\n",
    "# Make `infecting_viral_tag` column ordered category\n",
    "viral_bc_frac['infecting_viral_tag'] = (viral_bc_frac['infecting_viral_tag']\n",
    "                                        .astype('category')\n",
    "                                        .cat\n",
    "                                        .reorder_categories(['none',\n",
    "                                                             'wt',\n",
    "                                                             'syn',\n",
    "                                                             'both']))\n",
    "\n",
    "viral_bc_frac = pd.merge(\n",
    "    left=viral_bc_frac,\n",
    "    right=viral_genes_by_cell,\n",
    "    on=['cell_barcode', 'gene'],\n",
    "    how='left',\n",
    "    validate='many_to_one'\n",
    ")\n",
    "\n",
    "display(viral_bc_frac)"
   ]
  },
  {
   "cell_type": "markdown",
   "metadata": {},
   "source": [
    "Calculate **each barcode's** fraction of all UMIs per cell:"
   ]
  },
  {
   "cell_type": "code",
   "execution_count": null,
   "metadata": {
    "execution": {
     "iopub.execute_input": "2021-12-15T00:03:02.744886Z",
     "iopub.status.busy": "2021-12-15T00:03:02.744037Z",
     "iopub.status.idle": "2021-12-15T00:03:02.768797Z",
     "shell.execute_reply": "2021-12-15T00:03:02.769339Z"
    }
   },
   "outputs": [],
   "source": [
    "viral_bc_frac = (\n",
    "    viral_bc_frac\n",
    "    .assign(viral_bc_UMIs=lambda x: (x['viral_bc_UMIs']\n",
    "                                     .fillna(0)\n",
    "                                     .astype(int, errors='raise'))))\n",
    "\n",
    "\n",
    "viral_bc_frac['frac_viral_bc_UMIs'] = (\n",
    "    viral_bc_frac['viral_bc_UMIs'] /\n",
    "    viral_bc_frac['total_UMIs'])\n",
    "\n",
    "display(viral_bc_frac)"
   ]
  },
  {
   "cell_type": "markdown",
   "metadata": {},
   "source": [
    "## Filtering\n",
    "Now, I will filter out viral barcodes in each infected cell. A valid viral barcode meets the following criteria:\n",
    "1. The cell is infected\n",
    "2. The cell expresses the barcoded gene\n",
    "3. There are at least 2 UMIs with the viral barcode in that cell-gene\n",
    "4. The viral barcode is present at a frequency greater than some cutoff percentile observed in uninfected cells."
   ]
  },
  {
   "cell_type": "code",
   "execution_count": null,
   "metadata": {
    "execution": {
     "iopub.execute_input": "2021-12-15T00:03:02.772136Z",
     "iopub.status.busy": "2021-12-15T00:03:02.771318Z",
     "iopub.status.idle": "2021-12-15T00:03:02.774691Z",
     "shell.execute_reply": "2021-12-15T00:03:02.775208Z"
    }
   },
   "outputs": [],
   "source": [
    "filter_query_list = list()"
   ]
  },
  {
   "cell_type": "markdown",
   "metadata": {},
   "source": [
    "### Infected cells\n",
    "Valid viral barcodes must come from infected cells:"
   ]
  },
  {
   "cell_type": "code",
   "execution_count": null,
   "metadata": {
    "execution": {
     "iopub.execute_input": "2021-12-15T00:03:02.777967Z",
     "iopub.status.busy": "2021-12-15T00:03:02.777117Z",
     "iopub.status.idle": "2021-12-15T00:03:04.406545Z",
     "shell.execute_reply": "2021-12-15T00:03:04.407026Z"
    }
   },
   "outputs": [],
   "source": [
    "infected_rank = (viral_bc_frac\n",
    "                 [['cell_barcode',\n",
    "                   'gene',\n",
    "                   'infected',\n",
    "                   'frac_viral_bc_UMIs',]]\n",
    "                 .copy()\n",
    "                 .drop_duplicates())\n",
    "infected_rank['rank'] = (infected_rank\n",
    "                         .groupby('gene')\n",
    "                         ['frac_viral_bc_UMIs']\n",
    "                         .rank(ascending=False, method='first'))\n",
    "\n",
    "fig = (p9.ggplot(infected_rank,\n",
    "                 p9.aes(x='rank',\n",
    "                        y='frac_viral_bc_UMIs',\n",
    "                        color='infected')) +\n",
    "       p9.geom_point(alpha=.3) +\n",
    "       p9.facet_grid('gene~infected') +\n",
    "       p9.scale_y_log10() +\n",
    "       p9.ggtitle('viral bc UMIs in infected and uninfected cells\\n'\n",
    "                  f'{expt}') +\n",
    "       p9.labs(x='viral bc frequency rank') +\n",
    "       p9.theme(figure_size=(6, 4),\n",
    "                plot_title=p9.element_text(size=9),\n",
    "                axis_title=p9.element_text(size=9),\n",
    "                legend_title=p9.element_text(size=9),\n",
    "                legend_title_align='center') +\n",
    "       p9.scale_color_manual(CBPALETTE[0:]))\n",
    "display(fig)"
   ]
  },
  {
   "cell_type": "markdown",
   "metadata": {},
   "source": [
    "Add infection status to filter query:"
   ]
  },
  {
   "cell_type": "code",
   "execution_count": null,
   "metadata": {
    "execution": {
     "iopub.execute_input": "2021-12-15T00:03:04.409530Z",
     "iopub.status.busy": "2021-12-15T00:03:04.408818Z",
     "iopub.status.idle": "2021-12-15T00:03:04.413108Z",
     "shell.execute_reply": "2021-12-15T00:03:04.413531Z"
    }
   },
   "outputs": [],
   "source": [
    "filter_query_list.append('(infected == \"infected\")')\n",
    "filter_query = \" and \".join(filter_query_list)\n",
    "print(\"The filter query is:  \"\n",
    "      f\"{filter_query}\")"
   ]
  },
  {
   "cell_type": "markdown",
   "metadata": {},
   "source": [
    "### Gene expression\n",
    "Plot barcode UMIs per viral barcode in infected cells, annotated with gene expression:"
   ]
  },
  {
   "cell_type": "code",
   "execution_count": null,
   "metadata": {
    "execution": {
     "iopub.execute_input": "2021-12-15T00:03:04.416075Z",
     "iopub.status.busy": "2021-12-15T00:03:04.415232Z",
     "iopub.status.idle": "2021-12-15T00:03:05.149386Z",
     "shell.execute_reply": "2021-12-15T00:03:05.149863Z"
    }
   },
   "outputs": [],
   "source": [
    "gene_expressed_rank = (viral_bc_frac\n",
    "                       .query(filter_query)\n",
    "                       [['cell_barcode',\n",
    "                         'gene',\n",
    "                         'gene_present',\n",
    "                         'frac_viral_bc_UMIs',]]\n",
    "                       .copy()\n",
    "                       .drop_duplicates())\n",
    "gene_expressed_rank['rank'] = (gene_expressed_rank\n",
    "                               .groupby('gene')\n",
    "                               ['frac_viral_bc_UMIs']\n",
    "                               .rank(ascending=False, method='first'))\n",
    "\n",
    "fig = (p9.ggplot(gene_expressed_rank,\n",
    "                 p9.aes(x='rank',\n",
    "                        y='frac_viral_bc_UMIs',\n",
    "                        color='gene_present')) +\n",
    "       p9.geom_point(alpha=0.5) +\n",
    "       p9.facet_grid('gene~') +\n",
    "       p9.scale_y_log10() +\n",
    "       p9.ggtitle('viral bc UMIs on expressed/missing genes\\n'\n",
    "                  'in infected cells\\n'\n",
    "                  f'{expt}') +\n",
    "       p9.labs(x='viral bc frequency rank') +\n",
    "       p9.theme(figure_size=(3, 4),\n",
    "                plot_title=p9.element_text(size=9),\n",
    "                axis_title=p9.element_text(size=9),\n",
    "                legend_title=p9.element_text(size=9),\n",
    "                legend_title_align='center') +\n",
    "       p9.scale_color_manual(CBPALETTE[0:]))\n",
    "display(fig)"
   ]
  },
  {
   "cell_type": "markdown",
   "metadata": {},
   "source": [
    "Add gene expression to filter query:"
   ]
  },
  {
   "cell_type": "code",
   "execution_count": null,
   "metadata": {
    "execution": {
     "iopub.execute_input": "2021-12-15T00:03:05.152362Z",
     "iopub.status.busy": "2021-12-15T00:03:05.151649Z",
     "iopub.status.idle": "2021-12-15T00:03:05.155848Z",
     "shell.execute_reply": "2021-12-15T00:03:05.156306Z"
    }
   },
   "outputs": [],
   "source": [
    "filter_query_list.append('(gene_present == True)')\n",
    "filter_query = \" and \".join(filter_query_list)\n",
    "print(\"The filter query is:  \"\n",
    "      f\"{filter_query}\")"
   ]
  },
  {
   "cell_type": "markdown",
   "metadata": {},
   "source": [
    "### Absolute abundance\n",
    "Label and remove viral barcodes with only 1 UMIs in a given cell:"
   ]
  },
  {
   "cell_type": "code",
   "execution_count": null,
   "metadata": {
    "execution": {
     "iopub.execute_input": "2021-12-15T00:03:05.159342Z",
     "iopub.status.busy": "2021-12-15T00:03:05.158397Z",
     "iopub.status.idle": "2021-12-15T00:03:05.805413Z",
     "shell.execute_reply": "2021-12-15T00:03:05.805873Z"
    }
   },
   "outputs": [],
   "source": [
    "UMI_limit = 1\n",
    "viral_bc_frac['above_UMI_limit'] = viral_bc_frac['viral_bc_UMIs'] > UMI_limit\n",
    "\n",
    "UMI_limit_rank = (viral_bc_frac\n",
    "                  .query(filter_query)\n",
    "                  [['cell_barcode',\n",
    "                    'gene',\n",
    "                    'above_UMI_limit',\n",
    "                    'viral_bc_UMIs',]]\n",
    "                  .copy()\n",
    "                  .drop_duplicates())\n",
    "UMI_limit_rank['rank'] = (UMI_limit_rank\n",
    "                          .groupby('gene')\n",
    "                          ['viral_bc_UMIs']\n",
    "                          .rank(ascending=False, method='first'))\n",
    "\n",
    "fig = (p9.ggplot(UMI_limit_rank,\n",
    "                 p9.aes(x='rank',\n",
    "                        y='viral_bc_UMIs',\n",
    "                        color='above_UMI_limit')) +\n",
    "       p9.geom_point(alpha=0.5) +\n",
    "       p9.geom_hline(yintercept=UMI_limit, linetype='dashed', color=CBPALETTE[2]) +\n",
    "       p9.facet_grid('gene~') +\n",
    "       p9.scale_y_log10() +\n",
    "       p9.ggtitle('viral barcode UMI threshold\\n'\n",
    "                  'in infected cells expressing barcoded gene\\n'\n",
    "                  f'{expt}') +\n",
    "       p9.labs(x='viral bc UMI rank') +\n",
    "       p9.theme(figure_size=(3, 4),\n",
    "                plot_title=p9.element_text(size=9),\n",
    "                axis_title=p9.element_text(size=9),\n",
    "                legend_title=p9.element_text(size=9),\n",
    "                legend_title_align='center') +\n",
    "       p9.scale_color_manual(CBPALETTE[0:]))\n",
    "display(fig)"
   ]
  },
  {
   "cell_type": "markdown",
   "metadata": {},
   "source": [
    "Add absolute abundance to filter query:"
   ]
  },
  {
   "cell_type": "code",
   "execution_count": null,
   "metadata": {
    "execution": {
     "iopub.execute_input": "2021-12-15T00:03:05.808332Z",
     "iopub.status.busy": "2021-12-15T00:03:05.807634Z",
     "iopub.status.idle": "2021-12-15T00:03:05.811899Z",
     "shell.execute_reply": "2021-12-15T00:03:05.812456Z"
    }
   },
   "outputs": [],
   "source": [
    "filter_query_list.append('(above_UMI_limit == True)')\n",
    "filter_query = \" and \".join(filter_query_list)\n",
    "print(\"The filter query is:  \"\n",
    "      f\"{filter_query}\")"
   ]
  },
  {
   "cell_type": "markdown",
   "metadata": {},
   "source": [
    "### Relative abundance\n",
    "Find the 99th percentile of individual viral barcode frequency in uninfected cells. Label and filter out viral barcodes that are less than this frequency."
   ]
  },
  {
   "cell_type": "code",
   "execution_count": null,
   "metadata": {
    "execution": {
     "iopub.execute_input": "2021-12-15T00:03:05.815417Z",
     "iopub.status.busy": "2021-12-15T00:03:05.814481Z",
     "iopub.status.idle": "2021-12-15T00:03:06.507002Z",
     "shell.execute_reply": "2021-12-15T00:03:06.507449Z"
    }
   },
   "outputs": [],
   "source": [
    "limit_percentile = 0.99\n",
    "\n",
    "uninfected_background_frac = {}\n",
    "for gene in barcoded_viral_genes:\n",
    "    limit = (viral_bc_frac\n",
    "             .query('(infecting_viral_tag == \"none\") '\n",
    "                    f'and (gene == \"{gene}\")')\n",
    "             ['frac_viral_bc_UMIs']\n",
    "             .quantile(limit_percentile))\n",
    "    uninfected_background_frac[f'{gene}'] = limit\n",
    "    print(f'The limit for a viral barcode on {gene} is {limit:.5f}.')\n",
    "    \n",
    "# Convert to DataFrame for plotting\n",
    "uninfected_background_frac = (\n",
    "    pd.DataFrame.from_dict(uninfected_background_frac,\n",
    "                           orient='index',\n",
    "                           columns=['uninf_background'])\n",
    "    .reset_index()\n",
    "    .rename(columns={'index': 'gene'}))\n",
    "\n",
    "fig = (p9.ggplot((viral_bc_frac\n",
    "                  .query('infecting_viral_tag == \"none\"')),\n",
    "                 p9.aes(x='frac_viral_bc_UMIs')) +\n",
    "       p9.geom_histogram(bins=50, fill=\"#3a3a3a\") +\n",
    "       p9.geom_vline(uninfected_background_frac,\n",
    "                     p9.aes(xintercept='uninf_background'),\n",
    "                     linetype='dashed',\n",
    "                     color='#3A3B3C',\n",
    "                     size=0.5) +\n",
    "       p9.facet_grid('infecting_viral_tag~gene') +\n",
    "       p9.ggtitle('viral barcode fraction in uninfected cells\\n'\n",
    "                  f'{expt}') +\n",
    "       p9.labs(x='viral barcode frequency',) +\n",
    "       p9.theme(figure_size=(5, 1),\n",
    "                plot_title=p9.element_text(size=10),\n",
    "                axis_title=p9.element_text(size=10),\n",
    "                axis_text=p9.element_text(rotation=45),\n",
    "                legend_title=p9.element_text(size=9),\n",
    "                legend_title_align='center'))\n",
    "display(fig)"
   ]
  },
  {
   "cell_type": "code",
   "execution_count": null,
   "metadata": {
    "execution": {
     "iopub.execute_input": "2021-12-15T00:03:06.509791Z",
     "iopub.status.busy": "2021-12-15T00:03:06.509100Z",
     "iopub.status.idle": "2021-12-15T00:03:06.520048Z",
     "shell.execute_reply": "2021-12-15T00:03:06.520592Z"
    }
   },
   "outputs": [],
   "source": [
    "viral_bc_frac = pd.merge(left=viral_bc_frac,\n",
    "                         right=uninfected_background_frac,\n",
    "                         on='gene',\n",
    "                         how='outer',\n",
    "                         validate='many_to_one')\n",
    "viral_bc_frac['above_uninf_background'] = (viral_bc_frac['frac_viral_bc_UMIs'] >\n",
    "                                           viral_bc_frac['uninf_background'])"
   ]
  },
  {
   "cell_type": "code",
   "execution_count": null,
   "metadata": {
    "execution": {
     "iopub.execute_input": "2021-12-15T00:03:06.523383Z",
     "iopub.status.busy": "2021-12-15T00:03:06.522511Z",
     "iopub.status.idle": "2021-12-15T00:03:07.139899Z",
     "shell.execute_reply": "2021-12-15T00:03:07.140374Z"
    }
   },
   "outputs": [],
   "source": [
    "background_rank = (viral_bc_frac\n",
    "                   .query(filter_query)\n",
    "                   [['cell_barcode',\n",
    "                     'gene',\n",
    "                     'above_uninf_background',\n",
    "                     'frac_viral_bc_UMIs',]]\n",
    "                   .copy()\n",
    "                   .drop_duplicates())\n",
    "background_rank['rank'] = (background_rank\n",
    "                           .groupby('gene')\n",
    "                           ['frac_viral_bc_UMIs']\n",
    "                           .rank(ascending=False, method='first'))\n",
    "\n",
    "fig = (p9.ggplot(background_rank,\n",
    "                 p9.aes(x='rank',\n",
    "                        y='frac_viral_bc_UMIs',\n",
    "                        color='above_uninf_background')) +\n",
    "       p9.geom_point(alpha=0.5) +\n",
    "       p9.geom_hline(uninfected_background_frac,\n",
    "                     p9.aes(yintercept='uninf_background'),\n",
    "                     linetype='dashed',\n",
    "                     color=CBPALETTE[2]) +\n",
    "       p9.facet_grid('gene~') +\n",
    "       p9.scale_y_log10() +\n",
    "       p9.ggtitle(f'{expt}') +\n",
    "       p9.labs(x='viral bc frequency rank') +\n",
    "       p9.theme(figure_size=(3, 4),\n",
    "                plot_title=p9.element_text(size=9),\n",
    "                axis_title=p9.element_text(size=9),\n",
    "                legend_title=p9.element_text(size=9),\n",
    "                legend_title_align='center') +\n",
    "       p9.scale_color_manual(CBPALETTE[0:]))\n",
    "display(fig)"
   ]
  },
  {
   "cell_type": "markdown",
   "metadata": {},
   "source": [
    "Add background frequency to filter query:"
   ]
  },
  {
   "cell_type": "code",
   "execution_count": null,
   "metadata": {
    "execution": {
     "iopub.execute_input": "2021-12-15T00:03:07.143385Z",
     "iopub.status.busy": "2021-12-15T00:03:07.142526Z",
     "iopub.status.idle": "2021-12-15T00:03:07.147545Z",
     "shell.execute_reply": "2021-12-15T00:03:07.148069Z"
    }
   },
   "outputs": [],
   "source": [
    "filter_query_list.append('(above_uninf_background == True)')\n",
    "filter_query = \" and \".join(filter_query_list)\n",
    "print(\"The filter query is:  \"\n",
    "      f\"{filter_query}\")"
   ]
  },
  {
   "cell_type": "markdown",
   "metadata": {},
   "source": [
    "## Assign filter status to each viral barcode"
   ]
  },
  {
   "cell_type": "code",
   "execution_count": null,
   "metadata": {
    "execution": {
     "iopub.execute_input": "2021-12-15T00:03:07.150773Z",
     "iopub.status.busy": "2021-12-15T00:03:07.149930Z",
     "iopub.status.idle": "2021-12-15T00:03:07.180956Z",
     "shell.execute_reply": "2021-12-15T00:03:07.181412Z"
    }
   },
   "outputs": [],
   "source": [
    "viral_bc_frac.loc[viral_bc_frac.eval(filter_query), 'valid_viral_bc'] = True\n",
    "viral_bc_frac['valid_viral_bc'] = viral_bc_frac['valid_viral_bc'].fillna(False)\n",
    "display(viral_bc_frac)"
   ]
  },
  {
   "cell_type": "markdown",
   "metadata": {},
   "source": [
    "## Summary visualizations\n",
    "### Valid viral barcodes in each infected cell"
   ]
  },
  {
   "cell_type": "code",
   "execution_count": null,
   "metadata": {
    "execution": {
     "iopub.execute_input": "2021-12-15T00:03:07.183838Z",
     "iopub.status.busy": "2021-12-15T00:03:07.183126Z",
     "iopub.status.idle": "2021-12-15T00:03:07.926724Z",
     "shell.execute_reply": "2021-12-15T00:03:07.927176Z"
    }
   },
   "outputs": [],
   "source": [
    "valid_rank = (viral_bc_frac\n",
    "              .query('infected == \"infected\"')\n",
    "              [['cell_barcode',\n",
    "                'gene',\n",
    "                'frac_viral_bc_UMIs',\n",
    "                'valid_viral_bc']]\n",
    "              .copy()\n",
    "              .drop_duplicates())\n",
    "valid_rank['rank'] = (valid_rank\n",
    "                      .groupby('gene')\n",
    "                      ['frac_viral_bc_UMIs']\n",
    "                      .rank(ascending=False, method='first'))\n",
    "\n",
    "fig = (p9.ggplot(valid_rank,\n",
    "                 p9.aes(x='rank',\n",
    "                        y='frac_viral_bc_UMIs',\n",
    "                        color='valid_viral_bc')) +\n",
    "       p9.geom_point(alpha=.3) +\n",
    "       p9.facet_grid('gene~') +\n",
    "       p9.scale_y_log10() +\n",
    "       p9.ggtitle('valid and filterd viral barcodes\\n'\n",
    "                  'in infected cells\\n'\n",
    "                  f'{expt}') +\n",
    "       p9.labs(x='viral bc frequency rank') +\n",
    "       p9.theme(figure_size=(3, 4),\n",
    "                plot_title=p9.element_text(size=9),\n",
    "                axis_title=p9.element_text(size=9),\n",
    "                legend_title=p9.element_text(size=9),\n",
    "                legend_title_align='center') +\n",
    "       p9.scale_color_manual(CBPALETTE[0:]))\n",
    "display(fig)"
   ]
  },
  {
   "cell_type": "markdown",
   "metadata": {},
   "source": [
    "### Number of valid viral barcodes per cell"
   ]
  },
  {
   "cell_type": "code",
   "execution_count": null,
   "metadata": {
    "execution": {
     "iopub.execute_input": "2021-12-15T00:03:09.926044Z",
     "iopub.status.busy": "2021-12-15T00:03:09.925356Z",
     "iopub.status.idle": "2021-12-15T00:03:09.935620Z",
     "shell.execute_reply": "2021-12-15T00:03:09.936152Z"
    }
   },
   "outputs": [],
   "source": [
    "n_viral_bc = (viral_bc_frac\n",
    "             .query('(valid_viral_bc == True)',\n",
    "                    engine='python')\n",
    "             .groupby(['cell_barcode',\n",
    "                       'gene',\n",
    "                       'valid_viral_bc'])\n",
    "             ['viral_barcode']\n",
    "             .nunique()\n",
    "             .reset_index()\n",
    "             .rename(columns={'viral_barcode': 'n_viral_bc'}))"
   ]
  },
  {
   "cell_type": "code",
   "execution_count": null,
   "metadata": {
    "execution": {
     "iopub.execute_input": "2021-12-15T00:03:09.938954Z",
     "iopub.status.busy": "2021-12-15T00:03:09.938093Z",
     "iopub.status.idle": "2021-12-15T00:03:10.367423Z",
     "shell.execute_reply": "2021-12-15T00:03:10.367896Z"
    }
   },
   "outputs": [],
   "source": [
    "output_fig = (p9.ggplot(n_viral_bc) +\n",
    "              p9.geom_histogram(p9.aes(x='n_viral_bc'),\n",
    "                                       binwidth=1,\n",
    "                                       position='dodge') +\n",
    "              p9.facet_grid('~gene') +\n",
    "              p9.ggtitle('Number of valid viral barcodes per cell\\n'\n",
    "                         'in infected cells\\n'\n",
    "                         f'{expt}') +\n",
    "              p9.xlab('number of valid viral barcodes in cell') +\n",
    "              p9.ylab('number of cells') +\n",
    "              p9.theme(figure_size=(5, 2),\n",
    "                       plot_title=p9.element_text(size=11),\n",
    "                       axis_title=p9.element_text(size=10),\n",
    "                       legend_title=p9.element_text(size=10),\n",
    "                       legend_title_align='center'))\n",
    "display(output_fig)"
   ]
  },
  {
   "cell_type": "code",
   "execution_count": null,
   "metadata": {
    "execution": {
     "iopub.execute_input": "2021-12-15T00:03:10.370241Z",
     "iopub.status.busy": "2021-12-15T00:03:10.369549Z",
     "iopub.status.idle": "2021-12-15T00:03:10.765155Z",
     "shell.execute_reply": "2021-12-15T00:03:10.765790Z"
    }
   },
   "outputs": [],
   "source": [
    "print(f\"Saving plots to {plot}\")\n",
    "p9.ggsave(plot=output_fig, filename=plot, verbose=False)\n",
    "\n",
    "print(f\"Saving filtered barcodes to {valid_viral_barcodes_csv}\")\n",
    "\n",
    "# Export valid cell barcode-viral barcodes pairs\n",
    "(viral_bc_frac\n",
    " .query('valid_viral_bc == True')\n",
    " .to_csv(valid_viral_barcodes_csv,\n",
    "         columns=['cell_barcode',\n",
    "                  'gene',\n",
    "                  'viral_barcode',\n",
    "                  'valid_viral_bc'],\n",
    "         index=False))"
   ]
  },
  {
   "cell_type": "code",
   "execution_count": null,
   "metadata": {},
   "outputs": [],
   "source": []
  }
 ],
 "metadata": {
  "kernelspec": {
   "display_name": "Python 3",
   "language": "python",
   "name": "python3"
  },
  "language_info": {
   "codemirror_mode": {
    "name": "ipython",
    "version": 3
   },
   "file_extension": ".py",
   "mimetype": "text/x-python",
   "name": "python",
   "nbconvert_exporter": "python",
   "pygments_lexer": "ipython3",
   "version": "3.8.6"
  }
 },
 "nbformat": 4,
 "nbformat_minor": 4
}
