{
 "cells": [
  {
   "cell_type": "markdown",
   "metadata": {},
   "source": [
    "# Viral barcode in each cell\n",
    "This notebook filters viral barcodes in each cell in the 10X transcriptome data"
   ]
  },
  {
   "cell_type": "markdown",
   "metadata": {},
   "source": [
    "## Notebook setup\n",
    "Import python modules:"
   ]
  },
  {
   "cell_type": "code",
   "execution_count": null,
   "metadata": {
    "execution": {
     "iopub.execute_input": "2021-11-19T19:50:34.745846Z",
     "iopub.status.busy": "2021-11-19T19:50:34.744966Z",
     "iopub.status.idle": "2021-11-19T19:50:36.948088Z",
     "shell.execute_reply": "2021-11-19T19:50:36.948729Z"
    }
   },
   "outputs": [],
   "source": [
    "from IPython.display import display\n",
    "\n",
    "from dms_variants.constants import CBPALETTE\n",
    "\n",
    "import pandas as pd\n",
    "\n",
    "import plotnine as p9\n",
    "\n",
    "import scipy\n",
    "\n",
    "import statsmodels.stats.multitest"
   ]
  },
  {
   "cell_type": "markdown",
   "metadata": {},
   "source": [
    "Get `snakemake` variables [as described here](https://snakemake.readthedocs.io/en/stable/snakefiles/rules.html#jupyter-notebook-integration):"
   ]
  },
  {
   "cell_type": "code",
   "execution_count": null,
   "metadata": {
    "execution": {
     "iopub.execute_input": "2021-11-19T19:50:36.951990Z",
     "iopub.status.busy": "2021-11-19T19:50:36.951105Z",
     "iopub.status.idle": "2021-11-19T19:50:36.955717Z",
     "shell.execute_reply": "2021-11-19T19:50:36.956262Z"
    }
   },
   "outputs": [],
   "source": [
    "viral_tag_by_cell_csv = (snakemake\n",
    "                         .input\n",
    "                         .viral_tag_by_cell_csv)\n",
    "viral_bc_by_cell_corrected_csv = (snakemake\n",
    "                                  .input\n",
    "                                  .viral_bc_by_cell_corrected_csv)\n",
    "viral_genes_by_cell_csv = snakemake.input.viral_genes_by_cell_csv\n",
    "valid_viral_barcodes_csv = (\n",
    "    snakemake\n",
    "    .output\n",
    "    .valid_viral_barcodes_csv)\n",
    "plot = snakemake.output.plot\n",
    "expt = snakemake.wildcards.expt\n",
    "barcoded_viral_genes = snakemake.params.barcoded_viral_genes"
   ]
  },
  {
   "cell_type": "markdown",
   "metadata": {},
   "source": [
    "Set base plot style:"
   ]
  },
  {
   "cell_type": "code",
   "execution_count": null,
   "metadata": {
    "execution": {
     "iopub.execute_input": "2021-11-19T19:50:37.157211Z",
     "iopub.status.busy": "2021-11-19T19:50:37.156426Z",
     "iopub.status.idle": "2021-11-19T19:50:37.161287Z",
     "shell.execute_reply": "2021-11-19T19:50:37.161844Z"
    }
   },
   "outputs": [],
   "source": [
    "p9.theme_set(p9.theme_classic())"
   ]
  },
  {
   "cell_type": "markdown",
   "metadata": {},
   "source": [
    "## Organize data"
   ]
  },
  {
   "cell_type": "markdown",
   "metadata": {},
   "source": [
    "Read the viral barcode UMI counts data into a pandas dataframe:"
   ]
  },
  {
   "cell_type": "code",
   "execution_count": null,
   "metadata": {
    "execution": {
     "iopub.execute_input": "2021-11-19T19:50:36.959014Z",
     "iopub.status.busy": "2021-11-19T19:50:36.958168Z",
     "iopub.status.idle": "2021-11-19T19:50:36.987452Z",
     "shell.execute_reply": "2021-11-19T19:50:36.987972Z"
    }
   },
   "outputs": [],
   "source": [
    "viral_bc_counts = pd.read_csv(viral_bc_by_cell_corrected_csv)\n",
    "viral_bc_counts = (viral_bc_counts\n",
    "                   .rename(columns={'count': 'viral_bc_UMIs'}))\n",
    "assert set(viral_bc_counts['gene']) == set(barcoded_viral_genes), \\\n",
    "       \"Barcoded genes in barcode counts do not match expectation.\"\n",
    "display(viral_bc_counts)"
   ]
  },
  {
   "cell_type": "markdown",
   "metadata": {},
   "source": [
    "Read the total number of UMIs per cell into a pandas dataframe. Only keep relevant columns."
   ]
  },
  {
   "cell_type": "code",
   "execution_count": null,
   "metadata": {
    "execution": {
     "iopub.execute_input": "2021-11-19T19:50:36.990652Z",
     "iopub.status.busy": "2021-11-19T19:50:36.989780Z",
     "iopub.status.idle": "2021-11-19T19:50:37.013518Z",
     "shell.execute_reply": "2021-11-19T19:50:37.014025Z"
    }
   },
   "outputs": [],
   "source": [
    "all_cells = pd.read_csv(viral_tag_by_cell_csv)\n",
    "all_cells = all_cells[['cell_barcode',\n",
    "                       'infected',\n",
    "                       'infecting_viral_tag',\n",
    "                       'total_UMIs',\n",
    "                       'viral_UMIs',\n",
    "                       'cellular_UMIs',\n",
    "                       'frac_viral_UMIs']]\n",
    "display(all_cells)"
   ]
  },
  {
   "cell_type": "markdown",
   "metadata": {},
   "source": [
    "Sanity check that `total_UMIs` is equal to `viral_UMIs + cellular_UMIs`:"
   ]
  },
  {
   "cell_type": "code",
   "execution_count": null,
   "metadata": {
    "execution": {
     "iopub.execute_input": "2021-11-19T19:50:37.016630Z",
     "iopub.status.busy": "2021-11-19T19:50:37.015837Z",
     "iopub.status.idle": "2021-11-19T19:50:37.026901Z",
     "shell.execute_reply": "2021-11-19T19:50:37.027477Z"
    }
   },
   "outputs": [],
   "source": [
    "assert bool((all_cells['total_UMIs'] ==\n",
    "             all_cells['viral_UMIs'] +\n",
    "             all_cells['cellular_UMIs'])\n",
    "            .all()), \"UMI counts do not add up\""
   ]
  },
  {
   "cell_type": "markdown",
   "metadata": {},
   "source": [
    "Read the gene presence/absence data"
   ]
  },
  {
   "cell_type": "code",
   "execution_count": null,
   "metadata": {},
   "outputs": [],
   "source": [
    "viral_genes_by_cell = pd.read_csv(viral_genes_by_cell_csv)\n",
    "display(viral_genes_by_cell)"
   ]
  },
  {
   "cell_type": "markdown",
   "metadata": {},
   "source": [
    "Merge dataframes:"
   ]
  },
  {
   "cell_type": "code",
   "execution_count": null,
   "metadata": {
    "execution": {
     "iopub.execute_input": "2021-11-19T19:50:37.030501Z",
     "iopub.status.busy": "2021-11-19T19:50:37.029577Z",
     "iopub.status.idle": "2021-11-19T19:50:37.070493Z",
     "shell.execute_reply": "2021-11-19T19:50:37.071080Z"
    }
   },
   "outputs": [],
   "source": [
    "viral_bc_frac = pd.merge(\n",
    "    left=pd.concat([all_cells.assign(gene=gene)\n",
    "                    for gene in barcoded_viral_genes]),\n",
    "    right=viral_bc_counts,\n",
    "    how='outer',\n",
    "    on=['cell_barcode', 'gene'],\n",
    "    validate='one_to_many')\n",
    "assert (viral_bc_frac['cell_barcode'].unique() ==\n",
    "        all_cells['cell_barcode'].unique()).all(), \\\n",
    "       \"Cell barcodes in merged dataframe don't \" \\\n",
    "       \"match barcodes in source data.\"\n",
    "assert (viral_bc_frac['viral_barcode'].nunique() ==\n",
    "        viral_bc_counts['viral_barcode'].nunique()), \\\n",
    "       \"Number of viral barcodes in merged dataframe don't \" \\\n",
    "       \"match number of barcodes in source data.\"\n",
    "\n",
    "# Make `infecting_viral_tag` column ordered category\n",
    "viral_bc_frac['infecting_viral_tag'] = (viral_bc_frac['infecting_viral_tag']\n",
    "                                        .astype('category')\n",
    "                                        .cat\n",
    "                                        .reorder_categories(['none',\n",
    "                                                             'wt',\n",
    "                                                             'syn',\n",
    "                                                             'both']))\n",
    "\n",
    "viral_bc_frac = pd.merge(\n",
    "    left=viral_bc_frac,\n",
    "    right=viral_genes_by_cell,\n",
    "    on=['cell_barcode', 'gene'],\n",
    "    how='left',\n",
    "    validate='many_to_one'\n",
    ")\n",
    "\n",
    "display(viral_bc_frac)"
   ]
  },
  {
   "cell_type": "markdown",
   "metadata": {},
   "source": [
    "Calculate **each barcode's** fraction of all UMIs per cell:"
   ]
  },
  {
   "cell_type": "code",
   "execution_count": null,
   "metadata": {
    "execution": {
     "iopub.execute_input": "2021-11-19T19:50:37.073838Z",
     "iopub.status.busy": "2021-11-19T19:50:37.073033Z",
     "iopub.status.idle": "2021-11-19T19:50:37.094175Z",
     "shell.execute_reply": "2021-11-19T19:50:37.094719Z"
    }
   },
   "outputs": [],
   "source": [
    "viral_bc_frac = (\n",
    "    viral_bc_frac\n",
    "    .assign(viral_bc_UMIs=lambda x: (x['viral_bc_UMIs']\n",
    "                                     .fillna(0)\n",
    "                                     .astype(int, errors='raise'))))\n",
    "\n",
    "\n",
    "viral_bc_frac['frac_viral_bc_UMIs'] = (\n",
    "    viral_bc_frac['viral_bc_UMIs'] /\n",
    "    viral_bc_frac['total_UMIs'])\n",
    "\n",
    "display(viral_bc_frac)"
   ]
  },
  {
   "cell_type": "markdown",
   "metadata": {},
   "source": [
    "## Filtering\n",
    "Now, I will filter out viral barcodes in each infected cell. A valid viral barcode meets the following criteria:\n",
    "1. The cell is infected\n",
    "2. The cell expresses the barcoded gene\n",
    "3. There are at least 2 UMIs with the viral barcode in that cell-gene\n",
    "4. The viral barcode is present at a frequency greater than some cutoff percentile observed in uninfected cells."
   ]
  },
  {
   "cell_type": "code",
   "execution_count": null,
   "metadata": {},
   "outputs": [],
   "source": [
    "filter_query_list = list()"
   ]
  },
  {
   "cell_type": "markdown",
   "metadata": {},
   "source": [
    "### Infected cells\n",
    "Valid viral barcodes must come from infected cells:"
   ]
  },
  {
   "cell_type": "code",
   "execution_count": null,
   "metadata": {},
   "outputs": [],
   "source": [
    "infected_rank = (viral_bc_frac\n",
    "                 [['cell_barcode',\n",
    "                   'gene',\n",
    "                   'infected',\n",
    "                   'frac_viral_bc_UMIs',]]\n",
    "                 .copy()\n",
    "                 .drop_duplicates())\n",
    "infected_rank['rank'] = (infected_rank\n",
    "                         .groupby('gene')\n",
    "                         ['frac_viral_bc_UMIs']\n",
    "                         .rank(ascending=False, method='first'))\n",
    "\n",
    "fig = (p9.ggplot(infected_rank,\n",
    "                 p9.aes(x='rank',\n",
    "                        y='frac_viral_bc_UMIs',\n",
    "                        color='infected')) +\n",
    "       p9.geom_point(alpha=.3) +\n",
    "       p9.facet_grid('gene~infected') +\n",
    "       p9.scale_y_log10() +\n",
    "       p9.ggtitle('viral bc UMIs in infected and uninfected cells\\n'\n",
    "                  f'{expt}') +\n",
    "       p9.labs(x='viral bc frequency rank') +\n",
    "       p9.theme(figure_size=(6, 4),\n",
    "                plot_title=p9.element_text(size=9),\n",
    "                axis_title=p9.element_text(size=9),\n",
    "                legend_title=p9.element_text(size=9),\n",
    "                legend_title_align='center') +\n",
    "       p9.scale_color_manual(CBPALETTE[0:]))\n",
    "display(fig)"
   ]
  },
  {
   "cell_type": "markdown",
   "metadata": {},
   "source": [
    "Add infection status to filter query:"
   ]
  },
  {
   "cell_type": "code",
   "execution_count": null,
   "metadata": {},
   "outputs": [],
   "source": [
    "filter_query_list.append('(infected == \"infected\")')\n",
    "filter_query = \" and \".join(filter_query_list)\n",
    "print(\"The filter query is:  \"\n",
    "      f\"{filter_query}\")"
   ]
  },
  {
   "cell_type": "markdown",
   "metadata": {},
   "source": [
    "### Gene expression\n",
    "Plot barcode UMIs per viral barcode in infected cells, annotated with gene expression:"
   ]
  },
  {
   "cell_type": "code",
   "execution_count": null,
   "metadata": {},
   "outputs": [],
   "source": [
    "gene_expressed_rank = (viral_bc_frac\n",
    "                       .query(filter_query)\n",
    "                       [['cell_barcode',\n",
    "                         'gene',\n",
    "                         'gene_present',\n",
    "                         'frac_viral_bc_UMIs',]]\n",
    "                       .copy()\n",
    "                       .drop_duplicates())\n",
    "gene_expressed_rank['rank'] = (gene_expressed_rank\n",
    "                               .groupby('gene')\n",
    "                               ['frac_viral_bc_UMIs']\n",
    "                               .rank(ascending=False, method='first'))\n",
    "\n",
    "fig = (p9.ggplot(gene_expressed_rank,\n",
    "                 p9.aes(x='rank',\n",
    "                        y='frac_viral_bc_UMIs',\n",
    "                        color='gene_present')) +\n",
    "       p9.geom_point(alpha=0.5) +\n",
    "       p9.facet_grid('gene~') +\n",
    "       p9.scale_y_log10() +\n",
    "       p9.ggtitle('viral bc UMIs on expressed/missing genes\\n'\n",
    "                  'in infected cells\\n'\n",
    "                  f'{expt}') +\n",
    "       p9.labs(x='viral bc frequency rank') +\n",
    "       p9.theme(figure_size=(3, 4),\n",
    "                plot_title=p9.element_text(size=9),\n",
    "                axis_title=p9.element_text(size=9),\n",
    "                legend_title=p9.element_text(size=9),\n",
    "                legend_title_align='center') +\n",
    "       p9.scale_color_manual(CBPALETTE[0:]))\n",
    "display(fig)"
   ]
  },
  {
   "cell_type": "markdown",
   "metadata": {},
   "source": [
    "Add gene expression to filter query:"
   ]
  },
  {
   "cell_type": "code",
   "execution_count": null,
   "metadata": {},
   "outputs": [],
   "source": [
    "filter_query_list.append('(gene_present == True)')\n",
    "filter_query = \" and \".join(filter_query_list)\n",
    "print(\"The filter query is:  \"\n",
    "      f\"{filter_query}\")"
   ]
  },
  {
   "cell_type": "markdown",
   "metadata": {},
   "source": [
    "### Absolute abundance\n",
    "Label and remove viral barcodes with only 1 UMIs in a given cell:"
   ]
  },
  {
   "cell_type": "code",
   "execution_count": null,
   "metadata": {},
   "outputs": [],
   "source": [
    "UMI_limit = 1\n",
    "viral_bc_frac['above_UMI_limit'] = viral_bc_frac['viral_bc_UMIs'] > UMI_limit\n",
    "\n",
    "UMI_limit_rank = (viral_bc_frac\n",
    "                  .query(filter_query)\n",
    "                  [['cell_barcode',\n",
    "                    'gene',\n",
    "                    'above_UMI_limit',\n",
    "                    'viral_bc_UMIs',]]\n",
    "                  .copy()\n",
    "                  .drop_duplicates())\n",
    "UMI_limit_rank['rank'] = (UMI_limit_rank\n",
    "                          .groupby('gene')\n",
    "                          ['viral_bc_UMIs']\n",
    "                          .rank(ascending=False, method='first'))\n",
    "\n",
    "fig = (p9.ggplot(UMI_limit_rank,\n",
    "                 p9.aes(x='rank',\n",
    "                        y='viral_bc_UMIs',\n",
    "                        color='above_UMI_limit')) +\n",
    "       p9.geom_point(alpha=0.5) +\n",
    "       p9.geom_hline(yintercept=UMI_limit, linetype='dashed', color=CBPALETTE[2]) +\n",
    "       p9.facet_grid('gene~') +\n",
    "       p9.scale_y_log10() +\n",
    "       p9.ggtitle('viral barcode UMI threshold\\n'\n",
    "                  'in infected cells expressing barcoded gene\\n'\n",
    "                  f'{expt}') +\n",
    "       p9.labs(x='viral bc UMI rank') +\n",
    "       p9.theme(figure_size=(3, 4),\n",
    "                plot_title=p9.element_text(size=9),\n",
    "                axis_title=p9.element_text(size=9),\n",
    "                legend_title=p9.element_text(size=9),\n",
    "                legend_title_align='center') +\n",
    "       p9.scale_color_manual(CBPALETTE[0:]))\n",
    "display(fig)"
   ]
  },
  {
   "cell_type": "markdown",
   "metadata": {},
   "source": [
    "Add absolute abundance to filter query:"
   ]
  },
  {
   "cell_type": "code",
   "execution_count": null,
   "metadata": {},
   "outputs": [],
   "source": [
    "filter_query_list.append('(above_UMI_limit == True)')\n",
    "filter_query = \" and \".join(filter_query_list)\n",
    "print(\"The filter query is:  \"\n",
    "      f\"{filter_query}\")"
   ]
  },
  {
   "cell_type": "markdown",
   "metadata": {},
   "source": [
    "### Relative abundance\n",
    "Find the 99th percentile of individual viral barcode frequency in uninfected cells. Label and filter out viral barcodes that are less than this frequency."
   ]
  },
  {
   "cell_type": "code",
   "execution_count": null,
   "metadata": {},
   "outputs": [],
   "source": [
    "limit_percentile = 0.99\n",
    "\n",
    "uninfected_background_frac = {}\n",
    "for gene in barcoded_viral_genes:\n",
    "    limit = (viral_bc_frac\n",
    "             .query('(infecting_viral_tag == \"none\") '\n",
    "                    f'and (gene == \"{gene}\")')\n",
    "             ['frac_viral_bc_UMIs']\n",
    "             .quantile(limit_percentile))\n",
    "    uninfected_background_frac[f'{gene}'] = limit\n",
    "    print(f'The limit for a viral barcode on {gene} is {limit:.5f}.')\n",
    "    \n",
    "# Convert to DataFrame for plotting\n",
    "uninfected_background_frac = (\n",
    "    pd.DataFrame.from_dict(uninfected_background_frac,\n",
    "                           orient='index',\n",
    "                           columns=['uninf_background'])\n",
    "    .reset_index()\n",
    "    .rename(columns={'index': 'gene'}))\n",
    "\n",
    "fig = (p9.ggplot((viral_bc_frac\n",
    "                  .query('infecting_viral_tag == \"none\"')),\n",
    "                 p9.aes(x='frac_viral_bc_UMIs')) +\n",
    "       p9.geom_histogram(bins=50, fill=\"#3a3a3a\") +\n",
    "       p9.geom_vline(uninfected_background_frac,\n",
    "                     p9.aes(xintercept='uninf_background'),\n",
    "                     linetype='dashed',\n",
    "                     color='#3A3B3C',\n",
    "                     size=0.5) +\n",
    "       p9.facet_grid('infecting_viral_tag~gene') +\n",
    "       p9.ggtitle('viral barcode fraction in uninfected cells\\n'\n",
    "                  f'{expt}') +\n",
    "       p9.labs(x='viral barcode frequency',) +\n",
    "       p9.theme(figure_size=(5, 1),\n",
    "                plot_title=p9.element_text(size=10),\n",
    "                axis_title=p9.element_text(size=10),\n",
    "                axis_text=p9.element_text(rotation=45),\n",
    "                legend_title=p9.element_text(size=9),\n",
    "                legend_title_align='center'))\n",
    "display(fig)"
   ]
  },
  {
   "cell_type": "code",
   "execution_count": null,
   "metadata": {},
   "outputs": [],
   "source": [
    "viral_bc_frac = pd.merge(left=viral_bc_frac,\n",
    "                         right=uninfected_background_frac,\n",
    "                         on='gene',\n",
    "                         how='outer',\n",
    "                         validate='many_to_one')\n",
    "viral_bc_frac['above_uninf_background'] = (viral_bc_frac['frac_viral_bc_UMIs'] >\n",
    "                                           viral_bc_frac['uninf_background'])"
   ]
  },
  {
   "cell_type": "code",
   "execution_count": null,
   "metadata": {},
   "outputs": [],
   "source": [
    "background_rank = (viral_bc_frac\n",
    "                   .query(filter_query)\n",
    "                   [['cell_barcode',\n",
    "                     'gene',\n",
    "                     'above_uninf_background',\n",
    "                     'frac_viral_bc_UMIs',]]\n",
    "                   .copy()\n",
    "                   .drop_duplicates())\n",
    "background_rank['rank'] = (background_rank\n",
    "                           .groupby('gene')\n",
    "                           ['frac_viral_bc_UMIs']\n",
    "                           .rank(ascending=False, method='first'))\n",
    "\n",
    "fig = (p9.ggplot(background_rank,\n",
    "                 p9.aes(x='rank',\n",
    "                        y='frac_viral_bc_UMIs',\n",
    "                        color='above_uninf_background')) +\n",
    "       p9.geom_point(alpha=0.5) +\n",
    "       p9.geom_hline(uninfected_background_frac,\n",
    "                     p9.aes(yintercept='uninf_background'),\n",
    "                     linetype='dashed',\n",
    "                     color=CBPALETTE[2]) +\n",
    "       p9.facet_grid('gene~') +\n",
    "       p9.scale_y_log10() +\n",
    "       p9.ggtitle(f'{expt}') +\n",
    "       p9.labs(x='viral bc frequency rank') +\n",
    "       p9.theme(figure_size=(3, 4),\n",
    "                plot_title=p9.element_text(size=9),\n",
    "                axis_title=p9.element_text(size=9),\n",
    "                legend_title=p9.element_text(size=9),\n",
    "                legend_title_align='center') +\n",
    "       p9.scale_color_manual(CBPALETTE[0:]))\n",
    "display(fig)"
   ]
  },
  {
   "cell_type": "markdown",
   "metadata": {},
   "source": [
    "Add background frequency to filter query:"
   ]
  },
  {
   "cell_type": "code",
   "execution_count": null,
   "metadata": {},
   "outputs": [],
   "source": [
    "filter_query_list.append('(above_uninf_background == True)')\n",
    "filter_query = \" and \".join(filter_query_list)\n",
    "print(\"The filter query is:  \"\n",
    "      f\"{filter_query}\")"
   ]
  },
  {
   "cell_type": "markdown",
   "metadata": {},
   "source": [
    "## Assign filter status to each viral barcode"
   ]
  },
  {
   "cell_type": "code",
   "execution_count": null,
   "metadata": {},
   "outputs": [],
   "source": [
    "viral_bc_frac.loc[viral_bc_frac.eval(filter_query), 'valid_viral_bc'] = True\n",
    "viral_bc_frac['valid_viral_bc'] = viral_bc_frac['valid_viral_bc'].fillna(False)\n",
    "display(viral_bc_frac)"
   ]
  },
  {
   "cell_type": "markdown",
   "metadata": {},
   "source": [
    "## Summary visualizations\n",
    "### Valid viral barcodes in each infected cell"
   ]
  },
  {
   "cell_type": "code",
   "execution_count": null,
   "metadata": {},
   "outputs": [],
   "source": [
    "valid_rank = (viral_bc_frac\n",
    "              .query('infected == \"infected\"')\n",
    "              [['cell_barcode',\n",
    "                'gene',\n",
    "                'frac_viral_bc_UMIs',\n",
    "                'valid_viral_bc']]\n",
    "              .copy()\n",
    "              .drop_duplicates())\n",
    "valid_rank['rank'] = (valid_rank\n",
    "                      .groupby('gene')\n",
    "                      ['frac_viral_bc_UMIs']\n",
    "                      .rank(ascending=False, method='first'))\n",
    "\n",
    "fig = (p9.ggplot(valid_rank,\n",
    "                 p9.aes(x='rank',\n",
    "                        y='frac_viral_bc_UMIs',\n",
    "                        color='valid_viral_bc')) +\n",
    "       p9.geom_point(alpha=.3) +\n",
    "       p9.facet_grid('gene~') +\n",
    "       p9.scale_y_log10() +\n",
    "       p9.ggtitle('valid and filterd viral barcodes\\n'\n",
    "                  'in infected cells\\n'\n",
    "                  f'{expt}') +\n",
    "       p9.labs(x='viral bc frequency rank') +\n",
    "       p9.theme(figure_size=(3, 4),\n",
    "                plot_title=p9.element_text(size=9),\n",
    "                axis_title=p9.element_text(size=9),\n",
    "                legend_title=p9.element_text(size=9),\n",
    "                legend_title_align='center') +\n",
    "       p9.scale_color_manual(CBPALETTE[0:]))\n",
    "display(fig)"
   ]
  },
  {
   "cell_type": "markdown",
   "metadata": {},
   "source": [
    "### Valid viral barcodes in each cell\n",
    "Visualize the valid viral barcodes in each cell"
   ]
  },
  {
   "cell_type": "code",
   "execution_count": null,
   "metadata": {},
   "outputs": [],
   "source": [
    "visualization_df = (viral_bc_frac\n",
    "              .query('valid_viral_bc == True')\n",
    "              [['cell_barcode',\n",
    "                'gene',\n",
    "                'viral_barcode',\n",
    "                'frac_viral_bc_UMIs']]\n",
    "              .copy()\n",
    "              .drop_duplicates())\n",
    "visualization_df['sum_frac_cell_gene'] = (visualization_df\n",
    "                                          .groupby(['cell_barcode','gene'])\n",
    "                                          ['frac_viral_bc_UMIs']\n",
    "                                          .transform('sum'))\n",
    "visualization_df['proportion_valid_viral_bcs_cell_gene'] = (\n",
    "    visualization_df['frac_viral_bc_UMIs'] /\n",
    "    visualization_df['sum_frac_cell_gene'])\n",
    "visualization_df['cell_barcode'] = pd.Categorical(visualization_df['cell_barcode'])\n",
    "visualization_df['cell_barcode_dummy'] = visualization_df.cell_barcode.cat.codes\n",
    "visualization_df['viral_bc_rank'] = (visualization_df\n",
    "                                     .groupby(['cell_barcode','gene'])\n",
    "                                     ['proportion_valid_viral_bcs_cell_gene']\n",
    "                                     .rank(ascending=False, method='first'))\n",
    "\n",
    "display(visualization_df)"
   ]
  },
  {
   "cell_type": "code",
   "execution_count": null,
   "metadata": {},
   "outputs": [],
   "source": [
    "fig = (p9.ggplot(visualization_df,\n",
    "                 p9.aes(x='cell_barcode_dummy',\n",
    "                        y='proportion_valid_viral_bcs_cell_gene',\n",
    "                        fill='factor(viral_bc_rank)')) +\n",
    "       p9.geom_bar(stat='identity', width=1) +\n",
    "       p9.facet_grid('gene~') +\n",
    "       p9.ggtitle('valid and filterd viral barcodes\\n'\n",
    "                  'in infected cells\\n'\n",
    "                  f'{expt}') +\n",
    "       p9.labs(x='infected cell arbitrary #') +\n",
    "       p9.theme(figure_size=(6, 4),\n",
    "                plot_title=p9.element_text(size=9),\n",
    "                axis_title=p9.element_text(size=9),\n",
    "                legend_title=p9.element_text(size=9),\n",
    "                legend_title_align='center') +\n",
    "       p9.scale_fill_manual(CBPALETTE[0:]))\n",
    "display(fig)"
   ]
  },
  {
   "cell_type": "markdown",
   "metadata": {},
   "source": [
    "### Number of valid viral barcodes per cell"
   ]
  },
  {
   "cell_type": "code",
   "execution_count": null,
   "metadata": {},
   "outputs": [],
   "source": [
    "n_viral_bc = (viral_bc_frac\n",
    "             .query('(valid_viral_bc == True)',\n",
    "                    engine='python')\n",
    "             .groupby(['cell_barcode',\n",
    "                       'gene',\n",
    "                       'valid_viral_bc'])\n",
    "             ['viral_barcode']\n",
    "             .nunique()\n",
    "             .reset_index()\n",
    "             .rename(columns={'viral_barcode': 'n_viral_bc'}))"
   ]
  },
  {
   "cell_type": "code",
   "execution_count": null,
   "metadata": {},
   "outputs": [],
   "source": [
    "output_fig = (p9.ggplot(n_viral_bc) +\n",
    "              p9.geom_histogram(p9.aes(x='n_viral_bc'),\n",
    "                                       binwidth=1,\n",
    "                                       position='dodge') +\n",
    "              p9.facet_grid('~gene') +\n",
    "              p9.ggtitle('Number of valid viral barcodes per cell\\n'\n",
    "                         'in infected cells\\n'\n",
    "                         f'{expt}') +\n",
    "              p9.xlab('number of valid viral barcodes in cell') +\n",
    "              p9.ylab('number of cells') +\n",
    "              p9.theme(figure_size=(5, 2),\n",
    "                       plot_title=p9.element_text(size=11),\n",
    "                       axis_title=p9.element_text(size=10),\n",
    "                       legend_title=p9.element_text(size=10),\n",
    "                       legend_title_align='center'))\n",
    "display(output_fig)"
   ]
  },
  {
   "cell_type": "code",
   "execution_count": null,
   "metadata": {},
   "outputs": [],
   "source": [
    "print(f\"Saving plots to {plot}\")\n",
    "p9.ggsave(plot=output_fig, filename=plot, verbose=False)\n",
    "\n",
    "print(f\"Saving filtered barcodes to {valid_viral_barcodes_csv}\")\n",
    "\n",
    "# Export valid cell barcode-viral barcodes pairs\n",
    "(viral_bc_frac\n",
    " .query('valid_viral_bc == True')\n",
    " .to_csv(valid_viral_barcodes_csv,\n",
    "         columns=['cell_barcode',\n",
    "                  'gene',\n",
    "                  'viral_barcode',\n",
    "                  'valid_viral_bc'],\n",
    "         index=False))"
   ]
  },
  {
   "cell_type": "code",
   "execution_count": null,
   "metadata": {},
   "outputs": [],
   "source": []
  }
 ],
 "metadata": {
  "kernelspec": {
   "display_name": "Python 3",
   "language": "python",
   "name": "python3"
  },
  "language_info": {
   "codemirror_mode": {
    "name": "ipython",
    "version": 3
   },
   "file_extension": ".py",
   "mimetype": "text/x-python",
   "name": "python",
   "nbconvert_exporter": "python",
   "pygments_lexer": "ipython3",
   "version": "3.8.6"
  }
 },
 "nbformat": 4,
 "nbformat_minor": 4
}
