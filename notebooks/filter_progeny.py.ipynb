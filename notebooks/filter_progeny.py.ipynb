{
 "cells": [
  {
   "cell_type": "markdown",
   "metadata": {},
   "source": [
    "# Filter progeny viral barcodes\n",
    "This notebook filters viral barcodes in progeny samples to identify high-confidence, valid viral barcodes linked to infected cells."
   ]
  },
  {
   "cell_type": "markdown",
   "metadata": {},
   "source": [
    "Import Python modules:"
   ]
  },
  {
   "cell_type": "code",
   "execution_count": null,
   "metadata": {
    "execution": {
     "iopub.execute_input": "2022-12-10T23:30:04.611219Z",
     "iopub.status.busy": "2022-12-10T23:30:04.610347Z",
     "iopub.status.idle": "2022-12-10T23:30:06.930775Z",
     "shell.execute_reply": "2022-12-10T23:30:06.931515Z"
    }
   },
   "outputs": [],
   "source": [
    "import gzip\n",
    "\n",
    "from IPython.display import display\n",
    "\n",
    "from dms_variants.constants import CBPALETTE\n",
    "\n",
    "from scipy.stats.mstats import gmean\n",
    "\n",
    "import numpy as np\n",
    "\n",
    "import pandas as pd\n",
    "\n",
    "import plotnine as p9"
   ]
  },
  {
   "cell_type": "markdown",
   "metadata": {},
   "source": [
    "Get variables from snakemake."
   ]
  },
  {
   "cell_type": "code",
   "execution_count": null,
   "metadata": {
    "execution": {
     "iopub.execute_input": "2022-12-10T23:30:06.935123Z",
     "iopub.status.busy": "2022-12-10T23:30:06.934059Z",
     "iopub.status.idle": "2022-12-10T23:30:06.938422Z",
     "shell.execute_reply": "2022-12-10T23:30:06.938971Z"
    }
   },
   "outputs": [],
   "source": [
    "cell_annotations_csv = snakemake.input.cell_annotations\n",
    "viral_bc_in_progeny_corrected_csv = snakemake.input.viral_bc_in_progeny_corrected_csv\n",
    "viral_barcodes_valid_csv = snakemake.input.viral_barcodes_valid_csv\n",
    "filtered_progeny_viral_bc_csv = snakemake.output.filtered_progeny_viral_bc_csv\n",
    "plot = snakemake.output.plot\n",
    "expt = snakemake.wildcards.expt\n",
    "progeny_detection_limit = float(snakemake.params.progeny_detection_limit)"
   ]
  },
  {
   "cell_type": "markdown",
   "metadata": {},
   "source": [
    "### Load data\n",
    "Load viral barcode counts in progeny."
   ]
  },
  {
   "cell_type": "code",
   "execution_count": null,
   "metadata": {
    "execution": {
     "iopub.execute_input": "2022-12-10T23:30:06.941688Z",
     "iopub.status.busy": "2022-12-10T23:30:06.940833Z",
     "iopub.status.idle": "2022-12-10T23:30:07.028614Z",
     "shell.execute_reply": "2022-12-10T23:30:07.029180Z"
    },
    "scrolled": true
   },
   "outputs": [],
   "source": [
    "viral_progeny = pd.read_csv(viral_bc_in_progeny_corrected_csv)\n",
    "viral_progeny = viral_progeny.rename(columns={'barcode': 'viral_barcode'})\n",
    "viral_progeny = pd.merge(viral_progeny,\n",
    "                    (viral_progeny\n",
    "                     .groupby(['source',\n",
    "                               'tag',\n",
    "                               'gene',\n",
    "                               'replicate'])\n",
    "                     .sum()\n",
    "                     .reset_index()),\n",
    "                    on=['source', 'tag', 'gene', 'replicate'],\n",
    "                    suffixes=('_barcode', '_sample'))\n",
    "viral_progeny['freq'] = (viral_progeny['count_barcode'] /\n",
    "                         viral_progeny['count_sample'])\n",
    "display(viral_progeny)"
   ]
  },
  {
   "cell_type": "markdown",
   "metadata": {},
   "source": [
    "Load viral tags for each cell"
   ]
  },
  {
   "cell_type": "code",
   "execution_count": null,
   "metadata": {
    "execution": {
     "iopub.execute_input": "2022-12-10T23:30:07.032027Z",
     "iopub.status.busy": "2022-12-10T23:30:07.031234Z",
     "iopub.status.idle": "2022-12-10T23:30:07.058399Z",
     "shell.execute_reply": "2022-12-10T23:30:07.058928Z"
    },
    "scrolled": true
   },
   "outputs": [],
   "source": [
    "viral_tags = pd.read_csv(cell_annotations_csv)\n",
    "viral_tags = viral_tags.rename(columns={'infecting_viral_tag': 'tag'})\n",
    "display(viral_tags)"
   ]
  },
  {
   "cell_type": "markdown",
   "metadata": {},
   "source": [
    " Load list of valid viral barcodes and merge in tag info for each cell"
   ]
  },
  {
   "cell_type": "code",
   "execution_count": null,
   "metadata": {
    "execution": {
     "iopub.execute_input": "2022-12-10T23:30:07.061598Z",
     "iopub.status.busy": "2022-12-10T23:30:07.060784Z",
     "iopub.status.idle": "2022-12-10T23:30:07.093386Z",
     "shell.execute_reply": "2022-12-10T23:30:07.093901Z"
    }
   },
   "outputs": [],
   "source": [
    "valid_viral_barcodes = pd.read_csv(viral_barcodes_valid_csv)\n",
    "valid_viral_barcodes = pd.merge(\n",
    "    left=valid_viral_barcodes,\n",
    "    right=viral_tags[['cell_barcode', 'tag']],\n",
    "    how='left',\n",
    "    validate='many_to_one'\n",
    ")\n",
    "valid_viral_barcodes = (\n",
    "    pd.concat([valid_viral_barcodes\n",
    "               .assign(source=source)\n",
    "               for source in ['supernatant', 'second_infection']]))\n",
    "valid_viral_barcodes = (\n",
    "    pd.concat([valid_viral_barcodes\n",
    "               .assign(replicate=replicate)\n",
    "               for replicate in ['replicate_1', 'replicate_2']]))\n",
    "display(valid_viral_barcodes)"
   ]
  },
  {
   "cell_type": "markdown",
   "metadata": {},
   "source": [
    "### Integrate dataframes\n",
    "Merge progeny barcodes with valid barcodes"
   ]
  },
  {
   "cell_type": "code",
   "execution_count": null,
   "metadata": {
    "execution": {
     "iopub.execute_input": "2022-12-10T23:30:07.096590Z",
     "iopub.status.busy": "2022-12-10T23:30:07.095766Z",
     "iopub.status.idle": "2022-12-10T23:30:07.149289Z",
     "shell.execute_reply": "2022-12-10T23:30:07.149819Z"
    }
   },
   "outputs": [],
   "source": [
    "all_progeny_barcodes = pd.merge(\n",
    "    left=viral_progeny,\n",
    "    right=(valid_viral_barcodes[['source',\n",
    "                                 'gene',\n",
    "                                 'tag',\n",
    "                                 'replicate',\n",
    "                                 'viral_barcode',\n",
    "                                 'valid_viral_bc']]\n",
    "           .drop_duplicates()),\n",
    "    how='outer',\n",
    "    on=['source', 'gene', 'tag', 'replicate', 'viral_barcode'],\n",
    "    validate='many_to_one'\n",
    ")\n",
    "all_progeny_barcodes['valid_viral_bc'] = (\n",
    "    all_progeny_barcodes['valid_viral_bc']\n",
    "    .fillna(False))\n",
    "all_progeny_barcodes = all_progeny_barcodes.fillna(0)\n",
    "                          \n",
    "display(all_progeny_barcodes)"
   ]
  },
  {
   "cell_type": "markdown",
   "metadata": {},
   "source": [
    "Set theme for plots."
   ]
  },
  {
   "cell_type": "code",
   "execution_count": null,
   "metadata": {
    "execution": {
     "iopub.execute_input": "2022-12-10T23:30:07.152390Z",
     "iopub.status.busy": "2022-12-10T23:30:07.151617Z",
     "iopub.status.idle": "2022-12-10T23:30:07.156154Z",
     "shell.execute_reply": "2022-12-10T23:30:07.156758Z"
    }
   },
   "outputs": [],
   "source": [
    "p9.theme_set(p9.theme_classic())"
   ]
  },
  {
   "cell_type": "markdown",
   "metadata": {},
   "source": [
    "### Valid viral barcodes from infected cells\n",
    "Plot and filter viral barcodes so only valid viral barcodes found in infected cells are analyzed."
   ]
  },
  {
   "cell_type": "code",
   "execution_count": null,
   "metadata": {
    "execution": {
     "iopub.execute_input": "2022-12-10T23:30:07.159728Z",
     "iopub.status.busy": "2022-12-10T23:30:07.158865Z",
     "iopub.status.idle": "2022-12-10T23:30:08.281256Z",
     "shell.execute_reply": "2022-12-10T23:30:08.281792Z"
    },
    "scrolled": true
   },
   "outputs": [],
   "source": [
    "fig = (p9.ggplot(all_progeny_barcodes,\n",
    "                 p9.aes(x='valid_viral_bc',\n",
    "                        y='freq')) +\n",
    "       p9.geom_jitter(alpha=0.1, width=0.1, height=0) +\n",
    "       p9.facet_grid('source~gene') +\n",
    "       p9.ggtitle('all viral barcodes\\n'\n",
    "                  'faceted by progeny source, valid status in infected cells\\n'\n",
    "                  f'{expt}') +\n",
    "       p9.scale_y_log10() +\n",
    "       p9.theme(figure_size=(3, 4),\n",
    "                plot_title=p9.element_text(size=9),\n",
    "                axis_title=p9.element_text(size=9),\n",
    "                legend_title=p9.element_text(size=9),\n",
    "                legend_title_align='center'))\n",
    "display(fig)"
   ]
  },
  {
   "cell_type": "code",
   "execution_count": null,
   "metadata": {
    "execution": {
     "iopub.execute_input": "2022-12-10T23:30:08.284497Z",
     "iopub.status.busy": "2022-12-10T23:30:08.283643Z",
     "iopub.status.idle": "2022-12-10T23:30:08.292092Z",
     "shell.execute_reply": "2022-12-10T23:30:08.292615Z"
    }
   },
   "outputs": [],
   "source": [
    "valid_progeny_barcodes = (\n",
    "    all_progeny_barcodes.query('valid_viral_bc == True')\n",
    ")"
   ]
  },
  {
   "cell_type": "code",
   "execution_count": null,
   "metadata": {
    "execution": {
     "iopub.execute_input": "2022-12-10T23:30:08.295298Z",
     "iopub.status.busy": "2022-12-10T23:30:08.294481Z",
     "iopub.status.idle": "2022-12-10T23:30:08.694667Z",
     "shell.execute_reply": "2022-12-10T23:30:08.695114Z"
    }
   },
   "outputs": [],
   "source": [
    "fig = (p9.ggplot(valid_progeny_barcodes,\n",
    "                 p9.aes(x='source',\n",
    "                        y='freq')) +\n",
    "       p9.geom_jitter(alpha=0.1, width=0.1, height=0) +\n",
    "       p9.facet_grid('~gene') +\n",
    "       p9.ggtitle('valid viral barcodes\\n'\n",
    "                  f'{expt}') +\n",
    "       p9.labs(y='progeny frequency') +\n",
    "       p9.scale_y_log10() +\n",
    "       p9.theme(figure_size=(3, 2),\n",
    "                plot_title=p9.element_text(size=9),\n",
    "                axis_title=p9.element_text(size=9),\n",
    "                axis_text_x=p9.element_text(rotation=45, ha='right'),\n",
    "                legend_title=p9.element_text(size=9),\n",
    "                legend_title_align='center'))\n",
    "display(fig)"
   ]
  },
  {
   "cell_type": "markdown",
   "metadata": {},
   "source": [
    "### Define limit of detection\n",
    "Some very low frequency viral barcodes in the sequencing samples are likely to be spurious. Here, I will set a detection limit value and make knee plots."
   ]
  },
  {
   "cell_type": "code",
   "execution_count": null,
   "metadata": {
    "execution": {
     "iopub.execute_input": "2022-12-10T23:30:08.697450Z",
     "iopub.status.busy": "2022-12-10T23:30:08.696743Z",
     "iopub.status.idle": "2022-12-10T23:30:09.645508Z",
     "shell.execute_reply": "2022-12-10T23:30:09.645957Z"
    }
   },
   "outputs": [],
   "source": [
    "freq_rank = (valid_progeny_barcodes\n",
    "             .query('source.notnull()', engine='python')\n",
    "                 [['source',\n",
    "                   'gene',\n",
    "                   'tag',\n",
    "                   'replicate',\n",
    "                   'viral_barcode',\n",
    "                   'freq']]\n",
    "                 .copy()\n",
    "                 .drop_duplicates())\n",
    "freq_rank['rank'] = (freq_rank\n",
    "                     .groupby(['source', 'gene'])\n",
    "                         ['freq']\n",
    "                         .rank(ascending=False, method='first'))\n",
    "freq_rank['above_detection_limit'] = (\n",
    "    freq_rank['freq'] > progeny_detection_limit\n",
    ")\n",
    "\n",
    "display(freq_rank)\n",
    "\n",
    "fig = (p9.ggplot(freq_rank,\n",
    "                 p9.aes(x='rank',\n",
    "                        y='freq',\n",
    "                        color='above_detection_limit')) +\n",
    "       p9.geom_point(alpha=0.1) +\n",
    "       p9.geom_hline(yintercept=progeny_detection_limit, linetype='dashed', color=CBPALETTE[2]) +\n",
    "       p9.facet_grid('source~gene') +\n",
    "       p9.ggtitle('valid viral barcodes in progeny\\n'\n",
    "                  f'{expt}') +\n",
    "       p9.scale_y_log10() +\n",
    "       p9.theme(figure_size=(5, 3),\n",
    "                plot_title=p9.element_text(size=9),\n",
    "                axis_title=p9.element_text(size=9),\n",
    "                legend_title=p9.element_text(size=9),\n",
    "                legend_title_align='center') +\n",
    "       p9.scale_color_manual(CBPALETTE[0:]))\n",
    "display(fig)"
   ]
  },
  {
   "cell_type": "markdown",
   "metadata": {},
   "source": [
    "### Replicate correlation\n",
    "Plot correlation of replicates"
   ]
  },
  {
   "cell_type": "code",
   "execution_count": null,
   "metadata": {
    "execution": {
     "iopub.execute_input": "2022-12-10T23:30:09.648484Z",
     "iopub.status.busy": "2022-12-10T23:30:09.647666Z",
     "iopub.status.idle": "2022-12-10T23:30:09.672500Z",
     "shell.execute_reply": "2022-12-10T23:30:09.672997Z"
    }
   },
   "outputs": [],
   "source": [
    "replicates = (\n",
    "    valid_progeny_barcodes\n",
    "    .query('source.notnull()', engine='python')\n",
    "    .pivot(index=['source','tag','gene','viral_barcode'],\n",
    "           columns=['replicate'],\n",
    "           values='freq')\n",
    "    .reset_index()\n",
    ")\n",
    "replicates = replicates.fillna(0)\n",
    "replicates['above_limit_both_replicates'] = (\n",
    "    (replicates['replicate_1'] > progeny_detection_limit) & (replicates['replicate_2'] > progeny_detection_limit)\n",
    ")\n",
    "replicates['contributes_progeny'] = (\n",
    "    (replicates['replicate_1'] > 0) | (replicates['replicate_2'] > 0)\n",
    ")\n",
    "display(replicates)"
   ]
  },
  {
   "cell_type": "code",
   "execution_count": null,
   "metadata": {
    "execution": {
     "iopub.execute_input": "2022-12-10T23:30:09.675488Z",
     "iopub.status.busy": "2022-12-10T23:30:09.674715Z",
     "iopub.status.idle": "2022-12-10T23:30:10.837914Z",
     "shell.execute_reply": "2022-12-10T23:30:10.837583Z"
    }
   },
   "outputs": [],
   "source": [
    "file_labels = {'scProgenyProduction_trial1':'highMOI',\n",
    "                 'scProgenyProduction_trial3':'lowMOI'}\n",
    "replicate_file = f'results/figures/components/{file_labels[expt]}_progeny_replicates.svg'\n",
    "\n",
    "title_labels = {'scProgenyProduction_trial1':'High MOI',\n",
    "                 'scProgenyProduction_trial3':'Low MOI'}\n",
    "\n",
    "facet_labels = {'fluHA': 'HA',\n",
    "                'fluNA': 'NA',\n",
    "                'supernatant': 'physical progeny',\n",
    "                'second_infection': 'infectious progeny'}\n",
    "\n",
    "guide_values = {'scProgenyProduction_trial1': 'legend',\n",
    "                 'scProgenyProduction_trial3': False}\n",
    "\n",
    "fig = (p9.ggplot(replicates,\n",
    "                 p9.aes(x='replicate_1',\n",
    "                        y='replicate_2',\n",
    "                        color='above_limit_both_replicates')) +\n",
    "       p9.geom_point(alpha=0.3, size=2) +\n",
    "       p9.geom_hline(yintercept=progeny_detection_limit, linetype='dashed', color=CBPALETTE[2]) +\n",
    "       p9.geom_vline(xintercept=progeny_detection_limit, linetype='dashed', color=CBPALETTE[2]) +\n",
    "       p9.facet_grid('source~gene',\n",
    "                     labeller = facet_labels) +\n",
    "       p9.ggtitle(f'{title_labels[expt]}'\n",
    "                  ) +\n",
    "       p9.labs(x='replicate 1 frequency',\n",
    "               y='replicate 2 frequency') +\n",
    "       p9.scale_x_log10() +\n",
    "       p9.scale_y_log10() +\n",
    "       p9.theme(figure_size=(5, 2.5*replicates['source'].nunique()),\n",
    "                plot_title=p9.element_text(size=14),\n",
    "                axis_title=p9.element_text(size=12),\n",
    "                axis_text=p9.element_text(size=10, color='black'),\n",
    "                legend_position=(0.5,-0.4),\n",
    "                legend_background=p9.element_rect(color='black', size=0.5),\n",
    "                legend_title=p9.element_text(size=12),\n",
    "                legend_title_align='center',\n",
    "                legend_text=p9.element_text(size=12),\n",
    "                subplots_adjust={'hspace':0.1,\n",
    "                                 'wspace':0.1},\n",
    "                strip_text=p9.element_text(size=10)) +\n",
    "       p9.scale_color_manual([CBPALETTE[1], CBPALETTE[0]],\n",
    "                             name=\"Above limit of detection\\nin both replicates\\n\",\n",
    "                             guide=guide_values[expt]))\n",
    "fig.save(filename = replicate_file)\n",
    "display(fig)"
   ]
  },
  {
   "cell_type": "markdown",
   "metadata": {},
   "source": [
    "Calculate the correlation of progeny barcodes with both replicates found above limit of detection."
   ]
  },
  {
   "cell_type": "code",
   "execution_count": null,
   "metadata": {
    "execution": {
     "iopub.execute_input": "2022-12-10T23:30:10.845631Z",
     "iopub.status.busy": "2022-12-10T23:30:10.845261Z",
     "iopub.status.idle": "2022-12-10T23:30:10.857126Z",
     "shell.execute_reply": "2022-12-10T23:30:10.856550Z"
    },
    "scrolled": true
   },
   "outputs": [],
   "source": [
    "(replicates\n",
    " .query('above_limit_both_replicates == True')\n",
    " .groupby(['source', 'gene'])\n",
    " [['replicate_1', 'replicate_2']]\n",
    " .corr()\n",
    " .reset_index())"
   ]
  },
  {
   "cell_type": "markdown",
   "metadata": {},
   "source": [
    "### Average replicates\n",
    "First, apply quality control to very low frequency sequences. Then, take the geometric mean of the two replicates. Geometeric mean is a better representation of our samples than an arithmetic mean, since they demonstrate bottlenecking."
   ]
  },
  {
   "cell_type": "markdown",
   "metadata": {},
   "source": [
    "Quality control very low frequency measurements:  \n",
    "    1. Assign all frequencies below detection limt to the detection limit value.  \n",
    "    2. Assign all viral barcodes that are missing from a replicate the detection limit value"
   ]
  },
  {
   "cell_type": "code",
   "execution_count": null,
   "metadata": {
    "execution": {
     "iopub.execute_input": "2022-12-10T23:30:10.859648Z",
     "iopub.status.busy": "2022-12-10T23:30:10.858855Z",
     "iopub.status.idle": "2022-12-10T23:30:10.872728Z",
     "shell.execute_reply": "2022-12-10T23:30:10.873211Z"
    }
   },
   "outputs": [],
   "source": [
    "for replicate in ['replicate_1', 'replicate_2']:\n",
    "    replicates[f'{replicate}'] = (\n",
    "        replicates[f'{replicate}']\n",
    "        .apply(lambda x: x if x > progeny_detection_limit else progeny_detection_limit)\n",
    "    )\n",
    "display(replicates)"
   ]
  },
  {
   "cell_type": "markdown",
   "metadata": {},
   "source": [
    "Calculate geometric mean."
   ]
  },
  {
   "cell_type": "code",
   "execution_count": null,
   "metadata": {
    "execution": {
     "iopub.execute_input": "2022-12-10T23:30:10.875609Z",
     "iopub.status.busy": "2022-12-10T23:30:10.874864Z",
     "iopub.status.idle": "2022-12-10T23:30:10.878757Z",
     "shell.execute_reply": "2022-12-10T23:30:10.879308Z"
    }
   },
   "outputs": [],
   "source": [
    "replicates = replicates.assign(\n",
    "    average_freq = lambda x: gmean([x['replicate_1'], x['replicate_2']])\n",
    ")"
   ]
  },
  {
   "cell_type": "code",
   "execution_count": null,
   "metadata": {
    "execution": {
     "iopub.execute_input": "2022-12-10T23:30:10.881936Z",
     "iopub.status.busy": "2022-12-10T23:30:10.881096Z",
     "iopub.status.idle": "2022-12-10T23:30:10.895747Z",
     "shell.execute_reply": "2022-12-10T23:30:10.896226Z"
    }
   },
   "outputs": [],
   "source": [
    "replicates"
   ]
  },
  {
   "cell_type": "code",
   "execution_count": null,
   "metadata": {
    "execution": {
     "iopub.execute_input": "2022-12-10T23:30:10.898612Z",
     "iopub.status.busy": "2022-12-10T23:30:10.897806Z",
     "iopub.status.idle": "2022-12-10T23:30:12.172586Z",
     "shell.execute_reply": "2022-12-10T23:30:12.173069Z"
    }
   },
   "outputs": [],
   "source": [
    "output_fig = (p9.ggplot(replicates,\n",
    "                 p9.aes(x='average_freq')) +\n",
    "       p9.geom_histogram(bins=20) +\n",
    "       p9.geom_vline(xintercept=progeny_detection_limit, linetype='dashed', color=CBPALETTE[2]) +\n",
    "       p9.facet_grid('source~gene') +\n",
    "       p9.ggtitle('valid viral barcodes in progeny\\n'\n",
    "                  'averaged technical replicates\\n'\n",
    "                  f'detection limit = {progeny_detection_limit}\\n'\n",
    "                  f'{expt}') +\n",
    "       p9.labs(x='average frequency',\n",
    "               y='n viral barcodes') +\n",
    "       p9.scale_x_log10() +\n",
    "       p9.theme(figure_size=(6, 4),\n",
    "                plot_title=p9.element_text(size=10),\n",
    "                axis_title=p9.element_text(size=10),\n",
    "                legend_title=p9.element_text(size=10),\n",
    "                legend_title_align='center') + \n",
    "       p9.scale_fill_manual([CBPALETTE[1], CBPALETTE[0]]))\n",
    "display(output_fig)"
   ]
  },
  {
   "cell_type": "markdown",
   "metadata": {},
   "source": [
    "### Export results\n",
    "Export histogram and CSV of average barcode frequency in each progeny sample."
   ]
  },
  {
   "cell_type": "code",
   "execution_count": null,
   "metadata": {
    "execution": {
     "iopub.execute_input": "2022-12-10T23:30:12.175645Z",
     "iopub.status.busy": "2022-12-10T23:30:12.174856Z",
     "iopub.status.idle": "2022-12-10T23:30:13.909561Z",
     "shell.execute_reply": "2022-12-10T23:30:13.910179Z"
    }
   },
   "outputs": [],
   "source": [
    "# save plot\n",
    "print(f\"Saving plot to {plot}\")\n",
    "p9.ggsave(plot=fig, filename=plot, verbose=False)"
   ]
  },
  {
   "cell_type": "code",
   "execution_count": null,
   "metadata": {
    "execution": {
     "iopub.execute_input": "2022-12-10T23:30:13.913063Z",
     "iopub.status.busy": "2022-12-10T23:30:13.912195Z",
     "iopub.status.idle": "2022-12-10T23:30:13.940024Z",
     "shell.execute_reply": "2022-12-10T23:30:13.940479Z"
    }
   },
   "outputs": [],
   "source": [
    "# save CSV\n",
    "(replicates\n",
    " [['source',\n",
    "   'tag',\n",
    "   'gene',\n",
    "   'viral_barcode',\n",
    "   'average_freq']]\n",
    " .to_csv(filtered_progeny_viral_bc_csv))"
   ]
  },
  {
   "cell_type": "code",
   "execution_count": null,
   "metadata": {},
   "outputs": [],
   "source": []
  },
  {
   "cell_type": "code",
   "execution_count": null,
   "metadata": {},
   "outputs": [],
   "source": []
  },
  {
   "cell_type": "code",
   "execution_count": null,
   "metadata": {},
   "outputs": [],
   "source": []
  }
 ],
 "metadata": {
  "kernelspec": {
   "display_name": "Python 3 (ipykernel)",
   "language": "python",
   "name": "python3"
  },
  "language_info": {
   "codemirror_mode": {
    "name": "ipython",
    "version": 3
   },
   "file_extension": ".py",
   "mimetype": "text/x-python",
   "name": "python",
   "nbconvert_exporter": "python",
   "pygments_lexer": "ipython3",
   "version": "3.8.15"
  }
 },
 "nbformat": 4,
 "nbformat_minor": 4
}
