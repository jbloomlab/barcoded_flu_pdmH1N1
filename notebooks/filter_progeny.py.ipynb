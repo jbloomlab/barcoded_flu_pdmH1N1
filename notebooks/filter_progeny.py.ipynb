{
 "cells": [
  {
   "cell_type": "markdown",
   "metadata": {},
   "source": [
    "# Filter progeny viral barcodes\n",
    "This notebook filters viral barcodes in progeny samples to identify high-confidence, valid viral barcodes linked to infected cells."
   ]
  },
  {
   "cell_type": "markdown",
   "metadata": {},
   "source": [
    "Import Python modules:"
   ]
  },
  {
   "cell_type": "code",
   "execution_count": null,
   "metadata": {
    "execution": {
     "iopub.execute_input": "2021-09-02T21:54:03.066039Z",
     "iopub.status.busy": "2021-09-02T21:54:03.064777Z",
     "iopub.status.idle": "2021-09-02T21:54:06.921399Z",
     "shell.execute_reply": "2021-09-02T21:54:06.922343Z"
    }
   },
   "outputs": [],
   "source": [
    "import gzip\n",
    "\n",
    "from IPython.display import display\n",
    "\n",
    "from dms_variants.constants import CBPALETTE\n",
    "\n",
    "from scipy.stats.mstats import gmean\n",
    "\n",
    "import numpy as np\n",
    "\n",
    "import pandas as pd\n",
    "\n",
    "import plotnine as p9"
   ]
  },
  {
   "cell_type": "markdown",
   "metadata": {},
   "source": [
    "Hardcode variables for now:"
   ]
  },
  {
   "cell_type": "code",
   "execution_count": null,
   "metadata": {
    "execution": {
     "iopub.execute_input": "2021-09-02T21:54:06.926245Z",
     "iopub.status.busy": "2021-09-02T21:54:06.925211Z",
     "iopub.status.idle": "2021-09-02T21:54:06.929553Z",
     "shell.execute_reply": "2021-09-02T21:54:06.930151Z"
    }
   },
   "outputs": [],
   "source": [
    "cell_annotations_csv = 'results/viral_tags_bcs_in_cells/scProgenyProduction_trial3_cell_barcodes_with_viral_tags.csv.gz'\n",
    "viral_bc_in_progeny_corrected_csv = snakemake.input.viral_bc_in_progeny_corrected_csv\n",
    "valid_viral_bc_csv = 'results/viral_fastq10x/scProgenyProduction_trial3_valid_viral_bc_by_cell.csv.gz'\n",
    "filtered_progeny_viral_bc_csv = 'results/viral_fastq10x/scProgenyProduction_trial3_filtered_progeny_viral_bc.csv.gz'\n",
    "plot = snakemake.output.plot\n",
    "expt = snakemake.wildcards.expt"
   ]
  },
  {
   "cell_type": "markdown",
   "metadata": {},
   "source": [
    "### Load data\n",
    "Load viral barcode counts in progeny."
   ]
  },
  {
   "cell_type": "code",
   "execution_count": null,
   "metadata": {
    "execution": {
     "iopub.execute_input": "2021-09-02T21:54:06.933345Z",
     "iopub.status.busy": "2021-09-02T21:54:06.932367Z",
     "iopub.status.idle": "2021-09-02T21:54:07.003595Z",
     "shell.execute_reply": "2021-09-02T21:54:07.004230Z"
    },
    "scrolled": true
   },
   "outputs": [],
   "source": [
    "viral_progeny = pd.read_csv(viral_bc_in_progeny_corrected_csv)\n",
    "viral_progeny = viral_progeny.rename(columns={'barcode': 'viral_barcode'})\n",
    "viral_progeny = pd.merge(viral_progeny,\n",
    "                    (viral_progeny\n",
    "                     .groupby(['source',\n",
    "                               'tag',\n",
    "                               'gene',\n",
    "                               'replicate'])\n",
    "                     .sum()\n",
    "                     .reset_index()),\n",
    "                    on=['source', 'tag', 'gene', 'replicate'],\n",
    "                    suffixes=('_barcode', '_sample'))\n",
    "viral_progeny['freq'] = (viral_progeny['count_barcode'] /\n",
    "                         viral_progeny['count_sample'])\n",
    "display(viral_progeny)"
   ]
  },
  {
   "cell_type": "markdown",
   "metadata": {},
   "source": [
    "Load viral tags for each cell"
   ]
  },
  {
   "cell_type": "code",
   "execution_count": null,
   "metadata": {
    "scrolled": true
   },
   "outputs": [],
   "source": [
    "viral_tags = pd.read_csv(cell_annotations_csv)\n",
    "viral_tags = viral_tags.rename(columns={'infecting_viral_tag': 'tag'})\n",
    "display(viral_tags)"
   ]
  },
  {
   "cell_type": "markdown",
   "metadata": {},
   "source": [
    " Load list of valid viral barcodes and merge in tag info for each cell"
   ]
  },
  {
   "cell_type": "code",
   "execution_count": null,
   "metadata": {},
   "outputs": [],
   "source": [
    "valid_viral_barcodes = pd.read_csv(valid_viral_bc_csv)\n",
    "valid_viral_barcodes = pd.merge(\n",
    "    left=valid_viral_barcodes,\n",
    "    right=viral_tags[['cell_barcode', 'tag']],\n",
    "    how='left',\n",
    "    validate='many_to_one'\n",
    ")\n",
    "valid_viral_barcodes = (\n",
    "    pd.concat([valid_viral_barcodes\n",
    "               .assign(source=source)\n",
    "               for source in ['supernatant', 'second_infection']]))\n",
    "valid_viral_barcodes = (\n",
    "    pd.concat([valid_viral_barcodes\n",
    "               .assign(replicate=replicate)\n",
    "               for replicate in ['replicate_1', 'replicate_2']]))\n",
    "display(valid_viral_barcodes)"
   ]
  },
  {
   "cell_type": "markdown",
   "metadata": {},
   "source": [
    "### Integrate dataframes\n",
    "Merge progeny barcodes with valid barcodes"
   ]
  },
  {
   "cell_type": "code",
   "execution_count": null,
   "metadata": {},
   "outputs": [],
   "source": [
    "all_progeny_barcodes = pd.merge(\n",
    "    left=viral_progeny,\n",
    "    right=(valid_viral_barcodes[['source',\n",
    "                                 'gene',\n",
    "                                 'tag',\n",
    "                                 'replicate',\n",
    "                                 'viral_barcode',\n",
    "                                 'valid_viral_bc']]\n",
    "           .drop_duplicates()),\n",
    "    how='outer',\n",
    "    on=['source', 'gene', 'tag', 'replicate', 'viral_barcode'],\n",
    "    validate='many_to_one'\n",
    ")\n",
    "all_progeny_barcodes['valid_viral_bc'] = (\n",
    "    all_progeny_barcodes['valid_viral_bc']\n",
    "    .fillna(False))\n",
    "all_progeny_barcodes = all_progeny_barcodes.fillna(0)\n",
    "                          \n",
    "display(all_progeny_barcodes)"
   ]
  },
  {
   "cell_type": "markdown",
   "metadata": {},
   "source": [
    "Set theme for plots."
   ]
  },
  {
   "cell_type": "code",
   "execution_count": null,
   "metadata": {
    "execution": {
     "iopub.execute_input": "2021-09-02T21:54:07.007265Z",
     "iopub.status.busy": "2021-09-02T21:54:07.006385Z",
     "iopub.status.idle": "2021-09-02T21:54:07.011242Z",
     "shell.execute_reply": "2021-09-02T21:54:07.011768Z"
    }
   },
   "outputs": [],
   "source": [
    "p9.theme_set(p9.theme_classic())"
   ]
  },
  {
   "cell_type": "markdown",
   "metadata": {},
   "source": [
    "### Valid viral barcodes from infected cells\n",
    "Plot and filter viral barcodes so only valid viral barcodes found in infected cells are analyzed."
   ]
  },
  {
   "cell_type": "code",
   "execution_count": null,
   "metadata": {
    "scrolled": true
   },
   "outputs": [],
   "source": [
    "fig = (p9.ggplot(all_progeny_barcodes,\n",
    "                 p9.aes(x='valid_viral_bc',\n",
    "                        y='freq')) +\n",
    "       p9.geom_jitter(alpha=0.1, width=0.1, height=0) +\n",
    "       p9.facet_grid('source~gene') +\n",
    "       p9.ggtitle('all viral barcodes\\n'\n",
    "                  'faceted by progeny source, valid status in infected cells\\n'\n",
    "                  f'{expt}') +\n",
    "       p9.scale_y_log10() +\n",
    "       p9.theme(figure_size=(3, 4),\n",
    "                plot_title=p9.element_text(size=9),\n",
    "                axis_title=p9.element_text(size=9),\n",
    "                legend_title=p9.element_text(size=9),\n",
    "                legend_title_align='center'))\n",
    "display(fig)"
   ]
  },
  {
   "cell_type": "code",
   "execution_count": null,
   "metadata": {},
   "outputs": [],
   "source": [
    "valid_progeny_barcodes = (\n",
    "    all_progeny_barcodes.query('valid_viral_bc == True')\n",
    ")"
   ]
  },
  {
   "cell_type": "code",
   "execution_count": null,
   "metadata": {},
   "outputs": [],
   "source": [
    "fig = (p9.ggplot(valid_progeny_barcodes,\n",
    "                 p9.aes(x='source',\n",
    "                        y='freq')) +\n",
    "       p9.geom_jitter(alpha=0.1, width=0.1, height=0) +\n",
    "       p9.facet_grid('~gene') +\n",
    "       p9.ggtitle('valid viral barcodes\\n'\n",
    "                  f'{expt}') +\n",
    "       p9.labs(y='progeny frequency') +\n",
    "       p9.scale_y_log10() +\n",
    "       p9.theme(figure_size=(3, 2),\n",
    "                plot_title=p9.element_text(size=9),\n",
    "                axis_title=p9.element_text(size=9),\n",
    "                axis_text_x=p9.element_text(rotation=45, ha='right'),\n",
    "                legend_title=p9.element_text(size=9),\n",
    "                legend_title_align='center'))\n",
    "display(fig)"
   ]
  },
  {
   "cell_type": "markdown",
   "metadata": {},
   "source": [
    "### Define limit of detection\n",
    "Some very low frequency viral barcodes in the sequencing samples are likely to be spurious. Here, I will set a detection limit value and make knee plots."
   ]
  },
  {
   "cell_type": "code",
   "execution_count": null,
   "metadata": {},
   "outputs": [],
   "source": [
    "# Set detection limit\n",
    "detection_limit = 1e-5"
   ]
  },
  {
   "cell_type": "code",
   "execution_count": null,
   "metadata": {},
   "outputs": [],
   "source": [
    "freq_rank = (valid_progeny_barcodes\n",
    "             .query('source.notnull()', engine='python')\n",
    "                 [['source',\n",
    "                   'gene',\n",
    "                   'tag',\n",
    "                   'replicate',\n",
    "                   'viral_barcode',\n",
    "                   'freq']]\n",
    "                 .copy()\n",
    "                 .drop_duplicates())\n",
    "freq_rank['rank'] = (freq_rank\n",
    "                     .groupby(['source', 'gene'])\n",
    "                         ['freq']\n",
    "                         .rank(ascending=False, method='first'))\n",
    "freq_rank['above_detection_limit'] = (\n",
    "    freq_rank['freq'] > detection_limit\n",
    ")\n",
    "\n",
    "display(freq_rank)\n",
    "\n",
    "fig = (p9.ggplot(freq_rank,\n",
    "                 p9.aes(x='rank',\n",
    "                        y='freq',\n",
    "                        color='above_detection_limit')) +\n",
    "       p9.geom_point(alpha=0.1) +\n",
    "       p9.geom_hline(yintercept=detection_limit, linetype='dashed', color=CBPALETTE[2]) +\n",
    "       p9.facet_grid('source~gene') +\n",
    "       p9.ggtitle('valid viral barcodes in progeny\\n'\n",
    "                  f'{expt}') +\n",
    "       p9.scale_y_log10() +\n",
    "       p9.theme(figure_size=(5, 3),\n",
    "                plot_title=p9.element_text(size=9),\n",
    "                axis_title=p9.element_text(size=9),\n",
    "                legend_title=p9.element_text(size=9),\n",
    "                legend_title_align='center') +\n",
    "       p9.scale_color_manual(CBPALETTE[0:]))\n",
    "display(fig)"
   ]
  },
  {
   "cell_type": "markdown",
   "metadata": {},
   "source": [
    "### Replicate correlation\n",
    "Plot correlation of replicates"
   ]
  },
  {
   "cell_type": "code",
   "execution_count": null,
   "metadata": {},
   "outputs": [],
   "source": [
    "replicates = (\n",
    "    valid_progeny_barcodes\n",
    "    .query('source.notnull()', engine='python')\n",
    "    .pivot(index=['source','tag','gene','viral_barcode'],\n",
    "           columns=['replicate'],\n",
    "           values='freq')\n",
    "    .reset_index()\n",
    ")\n",
    "replicates = replicates.fillna(0)\n",
    "replicates['above_limit_both_replicates'] = (\n",
    "    (replicates['replicate_1'] > detection_limit) & (replicates['replicate_2'] > detection_limit)\n",
    ")\n",
    "replicates['contributes_progeny'] = (\n",
    "    (replicates['replicate_1'] > 0) | (replicates['replicate_2'] > 0)\n",
    ")\n",
    "display(replicates)"
   ]
  },
  {
   "cell_type": "code",
   "execution_count": null,
   "metadata": {},
   "outputs": [],
   "source": [
    "fig = (p9.ggplot(replicates,\n",
    "                 p9.aes(x='replicate_1',\n",
    "                        y='replicate_2',\n",
    "                        color='above_limit_both_replicates')) +\n",
    "       p9.geom_point(alpha=0.2) +\n",
    "       p9.geom_hline(yintercept=detection_limit, linetype='dashed', color=CBPALETTE[2]) +\n",
    "       p9.geom_vline(xintercept=detection_limit, linetype='dashed', color=CBPALETTE[2]) +\n",
    "       p9.facet_grid('source~gene') +\n",
    "       p9.ggtitle('valid viral barcodes in progeny\\n'\n",
    "                  f'detection limit = {detection_limit}\\n'\n",
    "                  f'{expt}') +\n",
    "       p9.scale_x_log10() +\n",
    "       p9.scale_y_log10() +\n",
    "       p9.theme(figure_size=(4, 4),\n",
    "                plot_title=p9.element_text(size=9),\n",
    "                axis_title=p9.element_text(size=9),\n",
    "                legend_title=p9.element_text(size=9),\n",
    "                legend_title_align='center') +\n",
    "       p9.scale_color_manual([CBPALETTE[1], CBPALETTE[0]]))\n",
    "display(fig)"
   ]
  },
  {
   "cell_type": "markdown",
   "metadata": {},
   "source": [
    "Calculate the correlation of progeny barcodes with both replicates found above limit of detection."
   ]
  },
  {
   "cell_type": "code",
   "execution_count": null,
   "metadata": {
    "scrolled": true
   },
   "outputs": [],
   "source": [
    "(replicates\n",
    " .query('above_limit_both_replicates == True')\n",
    " .groupby(['source', 'gene'])\n",
    " [['replicate_1', 'replicate_2']]\n",
    " .corr()\n",
    " .reset_index())"
   ]
  },
  {
   "cell_type": "markdown",
   "metadata": {},
   "source": [
    "### Average replicates\n",
    "First, apply quality control to very low frequency sequences. Then, take the geometric mean of the two replicates. Geometeric mean is a better representation of our samples than an arithmetic mean, since they demonstrate bottlenecking."
   ]
  },
  {
   "cell_type": "markdown",
   "metadata": {},
   "source": [
    "Quality control very low frequency measurements:  \n",
    "    1. Assign all frequencies below detection limt to the detection limit value.  \n",
    "    2. Assign all viral barcodes that are missing from a replicate the detection limit value"
   ]
  },
  {
   "cell_type": "code",
   "execution_count": null,
   "metadata": {},
   "outputs": [],
   "source": [
    "for replicate in ['replicate_1', 'replicate_2']:\n",
    "    replicates[f'{replicate}'] = (\n",
    "        replicates[f'{replicate}']\n",
    "        .apply(lambda x: x if x > detection_limit else detection_limit)\n",
    "    )\n",
    "display(replicates)"
   ]
  },
  {
   "cell_type": "markdown",
   "metadata": {},
   "source": [
    "Calculate geometric mean."
   ]
  },
  {
   "cell_type": "code",
   "execution_count": null,
   "metadata": {},
   "outputs": [],
   "source": [
    "replicates = replicates.assign(\n",
    "    average_freq = lambda x: gmean([x['replicate_1'], x['replicate_2']])\n",
    ")"
   ]
  },
  {
   "cell_type": "code",
   "execution_count": null,
   "metadata": {},
   "outputs": [],
   "source": [
    "replicates"
   ]
  },
  {
   "cell_type": "code",
   "execution_count": null,
   "metadata": {},
   "outputs": [],
   "source": [
    "output_fig = (p9.ggplot(replicates,\n",
    "                 p9.aes(x='average_freq', fill='contributes_progeny')) +\n",
    "       p9.geom_histogram(bins=20) +\n",
    "       p9.geom_vline(xintercept=detection_limit, linetype='dashed', color=CBPALETTE[2]) +\n",
    "       p9.facet_grid('source~gene') +\n",
    "       p9.ggtitle('valid viral barcodes in progeny\\n'\n",
    "                  'averaged technical replicates\\n'\n",
    "                  f'detection limit = {detection_limit}\\n'\n",
    "                  f'{expt}') +\n",
    "       p9.labs(x='average frequency',\n",
    "               y='n viral barcodes') +\n",
    "       p9.scale_x_log10() +\n",
    "       p9.theme(figure_size=(6, 4),\n",
    "                plot_title=p9.element_text(size=10),\n",
    "                axis_title=p9.element_text(size=10),\n",
    "                legend_title=p9.element_text(size=10),\n",
    "                legend_title_align='center') + \n",
    "       p9.scale_fill_manual([CBPALETTE[1], CBPALETTE[0]]))\n",
    "display(output_fig)"
   ]
  },
  {
   "cell_type": "markdown",
   "metadata": {},
   "source": [
    "### Export results\n",
    "Export histogram and CSV of average barcode frequency in each progeny sample."
   ]
  },
  {
   "cell_type": "code",
   "execution_count": null,
   "metadata": {},
   "outputs": [],
   "source": [
    "# save plot\n",
    "print(f\"Saving plot to {plot}\")\n",
    "p9.ggsave(plot=fig, filename=plot, verbose=False)"
   ]
  },
  {
   "cell_type": "code",
   "execution_count": null,
   "metadata": {},
   "outputs": [],
   "source": [
    "# save CSV\n",
    "(replicates\n",
    " [['source',\n",
    "   'tag',\n",
    "   'gene',\n",
    "   'viral_barcode',\n",
    "   'average_freq']]\n",
    " .to_csv(filtered_progeny_viral_bc_csv))"
   ]
  },
  {
   "cell_type": "code",
   "execution_count": null,
   "metadata": {},
   "outputs": [],
   "source": []
  }
 ],
 "metadata": {
  "kernelspec": {
   "display_name": "Python 3",
   "language": "python",
   "name": "python3"
  },
  "language_info": {
   "codemirror_mode": {
    "name": "ipython",
    "version": 3
   },
   "file_extension": ".py",
   "mimetype": "text/x-python",
   "name": "python",
   "nbconvert_exporter": "python",
   "pygments_lexer": "ipython3",
   "version": "3.8.6"
  }
 },
 "nbformat": 4,
 "nbformat_minor": 4
}
