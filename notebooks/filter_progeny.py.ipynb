{
 "cells": [
  {
   "cell_type": "markdown",
   "metadata": {},
   "source": [
    "# Filter progeny viral barcodes\n",
    "This notebook filters viral barcodes in progeny samples to identify high-confidence, valid viral barcodes linked to infected cells."
   ]
  },
  {
   "cell_type": "markdown",
   "metadata": {},
   "source": [
    "Import Python modules:"
   ]
  },
  {
   "cell_type": "code",
   "execution_count": null,
   "metadata": {
    "execution": {
     "iopub.execute_input": "2022-12-21T19:10:52.960738Z",
     "iopub.status.busy": "2022-12-21T19:10:52.959442Z",
     "iopub.status.idle": "2022-12-21T19:11:00.239974Z",
     "shell.execute_reply": "2022-12-21T19:11:00.240971Z"
    }
   },
   "outputs": [],
   "source": [
    "import gzip\n",
    "\n",
    "from IPython.display import display\n",
    "\n",
    "from dms_variants.constants import CBPALETTE\n",
    "\n",
    "from scipy.stats.mstats import gmean\n",
    "\n",
    "import numpy as np\n",
    "\n",
    "import pandas as pd\n",
    "\n",
    "import plotnine as p9"
   ]
  },
  {
   "cell_type": "markdown",
   "metadata": {},
   "source": [
    "Get variables from snakemake."
   ]
  },
  {
   "cell_type": "code",
   "execution_count": null,
   "metadata": {
    "execution": {
     "iopub.execute_input": "2022-12-21T19:11:00.245259Z",
     "iopub.status.busy": "2022-12-21T19:11:00.244083Z",
     "iopub.status.idle": "2022-12-21T19:11:00.249539Z",
     "shell.execute_reply": "2022-12-21T19:11:00.250246Z"
    }
   },
   "outputs": [],
   "source": [
    "cell_annotations_csv = snakemake.input.cell_annotations\n",
    "viral_bc_in_progeny_corrected_csv = snakemake.input.viral_bc_in_progeny_corrected_csv\n",
    "viral_barcodes_valid_csv = snakemake.input.viral_barcodes_valid_csv\n",
    "filtered_progeny_viral_bc_csv = snakemake.output.filtered_progeny_viral_bc_csv\n",
    "plot = snakemake.output.plot\n",
    "expt = snakemake.wildcards.expt\n",
    "progeny_detection_limit = float(snakemake.params.progeny_detection_limit)"
   ]
  },
  {
   "cell_type": "markdown",
   "metadata": {},
   "source": [
    "Set output folder for figures:"
   ]
  },
  {
   "cell_type": "code",
   "execution_count": null,
   "metadata": {},
   "outputs": [],
   "source": [
    "figure_dir = 'results/figures'\n",
    "if not os.path.exists(figure_dir):\n",
    "    # Create a new directory because it does not exist \n",
    "    os.makedirs(figure_dir)\n",
    "    print(f\"Made `{figure_dir}` directory \")\n",
    "else:\n",
    "    print(f\"Directory `{figure_dir}` already exists.\")\n",
    "fig_components_dir = figure_dir + '/' + 'components'\n",
    "if not os.path.exists(fig_components_dir):\n",
    "    # Create a new directory because it does not exist \n",
    "    os.makedirs(fig_components_dir)\n",
    "    print(f\"Made `{fig_components_dir}` directory \")\n",
    "else:\n",
    "    print(f\"Directory `{fig_components_dir}` already exists.\")"
   ]
  },
  {
   "cell_type": "markdown",
   "metadata": {},
   "source": [
    "### Load data\n",
    "Load viral barcode counts in progeny."
   ]
  },
  {
   "cell_type": "code",
   "execution_count": null,
   "metadata": {
    "execution": {
     "iopub.execute_input": "2022-12-21T19:11:00.253906Z",
     "iopub.status.busy": "2022-12-21T19:11:00.252988Z",
     "iopub.status.idle": "2022-12-21T19:11:00.384256Z",
     "shell.execute_reply": "2022-12-21T19:11:00.384886Z"
    },
    "scrolled": true
   },
   "outputs": [],
   "source": [
    "viral_progeny = pd.read_csv(viral_bc_in_progeny_corrected_csv)\n",
    "viral_progeny = viral_progeny.rename(columns={'barcode': 'viral_barcode'})\n",
    "viral_progeny = pd.merge(viral_progeny,\n",
    "                    (viral_progeny\n",
    "                     .groupby(['source',\n",
    "                               'tag',\n",
    "                               'gene',\n",
    "                               'replicate'])\n",
    "                     .sum()\n",
    "                     .reset_index()),\n",
    "                    on=['source', 'tag', 'gene', 'replicate'],\n",
    "                    suffixes=('_barcode', '_sample'))\n",
    "viral_progeny['freq'] = (viral_progeny['count_barcode'] /\n",
    "                         viral_progeny['count_sample'])\n",
    "display(viral_progeny)"
   ]
  },
  {
   "cell_type": "markdown",
   "metadata": {},
   "source": [
    "Load viral tags for each cell"
   ]
  },
  {
   "cell_type": "code",
   "execution_count": null,
   "metadata": {
    "execution": {
     "iopub.execute_input": "2022-12-21T19:11:00.388138Z",
     "iopub.status.busy": "2022-12-21T19:11:00.387195Z",
     "iopub.status.idle": "2022-12-21T19:11:00.417597Z",
     "shell.execute_reply": "2022-12-21T19:11:00.418213Z"
    },
    "scrolled": true
   },
   "outputs": [],
   "source": [
    "viral_tags = pd.read_csv(cell_annotations_csv)\n",
    "viral_tags = viral_tags.rename(columns={'infecting_viral_tag': 'tag'})\n",
    "display(viral_tags)"
   ]
  },
  {
   "cell_type": "markdown",
   "metadata": {},
   "source": [
    " Load list of valid viral barcodes and merge in tag info for each cell"
   ]
  },
  {
   "cell_type": "code",
   "execution_count": null,
   "metadata": {
    "execution": {
     "iopub.execute_input": "2022-12-21T19:11:00.421302Z",
     "iopub.status.busy": "2022-12-21T19:11:00.420361Z",
     "iopub.status.idle": "2022-12-21T19:11:00.460178Z",
     "shell.execute_reply": "2022-12-21T19:11:00.460793Z"
    }
   },
   "outputs": [],
   "source": [
    "valid_viral_barcodes = pd.read_csv(viral_barcodes_valid_csv)\n",
    "valid_viral_barcodes = pd.merge(\n",
    "    left=valid_viral_barcodes,\n",
    "    right=viral_tags[['cell_barcode', 'tag']],\n",
    "    how='left',\n",
    "    validate='many_to_one'\n",
    ")\n",
    "valid_viral_barcodes = (\n",
    "    pd.concat([valid_viral_barcodes\n",
    "               .assign(source=source)\n",
    "               for source in viral_progeny['source'].unique().tolist()]))\n",
    "valid_viral_barcodes = (\n",
    "    pd.concat([valid_viral_barcodes\n",
    "               .assign(replicate=replicate)\n",
    "               for replicate in ['replicate_1', 'replicate_2']]))\n",
    "display(valid_viral_barcodes)"
   ]
  },
  {
   "cell_type": "markdown",
   "metadata": {},
   "source": [
    "### Integrate dataframes\n",
    "Merge progeny barcodes with valid barcodes"
   ]
  },
  {
   "cell_type": "code",
   "execution_count": null,
   "metadata": {
    "execution": {
     "iopub.execute_input": "2022-12-21T19:11:00.463860Z",
     "iopub.status.busy": "2022-12-21T19:11:00.462959Z",
     "iopub.status.idle": "2022-12-21T19:11:00.572122Z",
     "shell.execute_reply": "2022-12-21T19:11:00.572723Z"
    }
   },
   "outputs": [],
   "source": [
    "all_progeny_barcodes = pd.merge(\n",
    "    left=viral_progeny,\n",
    "    right=(valid_viral_barcodes[['source',\n",
    "                                 'gene',\n",
    "                                 'tag',\n",
    "                                 'replicate',\n",
    "                                 'viral_barcode',\n",
    "                                 'valid_viral_bc']]\n",
    "           .drop_duplicates()),\n",
    "    how='outer',\n",
    "    on=['source', 'gene', 'tag', 'replicate', 'viral_barcode'],\n",
    "    validate='many_to_one'\n",
    ")\n",
    "all_progeny_barcodes['valid_viral_bc'] = (\n",
    "    all_progeny_barcodes['valid_viral_bc']\n",
    "    .fillna(False))\n",
    "all_progeny_barcodes = all_progeny_barcodes.fillna(0)\n",
    "                          \n",
    "display(all_progeny_barcodes)"
   ]
  },
  {
   "cell_type": "markdown",
   "metadata": {},
   "source": [
    "Set theme for plots."
   ]
  },
  {
   "cell_type": "code",
   "execution_count": null,
   "metadata": {
    "execution": {
     "iopub.execute_input": "2022-12-21T19:11:00.575666Z",
     "iopub.status.busy": "2022-12-21T19:11:00.574817Z",
     "iopub.status.idle": "2022-12-21T19:11:00.579774Z",
     "shell.execute_reply": "2022-12-21T19:11:00.580340Z"
    }
   },
   "outputs": [],
   "source": [
    "p9.theme_set(p9.theme_classic())"
   ]
  },
  {
   "cell_type": "markdown",
   "metadata": {},
   "source": [
    "### Valid viral barcodes from infected cells\n",
    "Plot and filter viral barcodes so only valid viral barcodes found in infected cells are analyzed."
   ]
  },
  {
   "cell_type": "code",
   "execution_count": null,
   "metadata": {
    "execution": {
     "iopub.execute_input": "2022-12-21T19:11:00.583393Z",
     "iopub.status.busy": "2022-12-21T19:11:00.582509Z",
     "iopub.status.idle": "2022-12-21T19:11:02.445976Z",
     "shell.execute_reply": "2022-12-21T19:11:02.446505Z"
    },
    "scrolled": true
   },
   "outputs": [],
   "source": [
    "fig = (p9.ggplot(all_progeny_barcodes,\n",
    "                 p9.aes(x='valid_viral_bc',\n",
    "                        y='freq')) +\n",
    "       p9.geom_jitter(alpha=0.1, width=0.1, height=0) +\n",
    "       p9.facet_grid('source~gene') +\n",
    "       p9.ggtitle('all viral barcodes\\n'\n",
    "                  'faceted by progeny source, valid status in infected cells\\n'\n",
    "                  f'{expt}') +\n",
    "       p9.scale_y_log10() +\n",
    "       p9.theme(figure_size=(3, 2*all_progeny_barcodes['source'].nunique()),\n",
    "                plot_title=p9.element_text(size=9),\n",
    "                axis_title=p9.element_text(size=9),\n",
    "                legend_title=p9.element_text(size=9),\n",
    "                legend_title_align='center'))\n",
    "display(fig)"
   ]
  },
  {
   "cell_type": "code",
   "execution_count": null,
   "metadata": {
    "execution": {
     "iopub.execute_input": "2022-12-21T19:11:02.449045Z",
     "iopub.status.busy": "2022-12-21T19:11:02.448309Z",
     "iopub.status.idle": "2022-12-21T19:11:02.460273Z",
     "shell.execute_reply": "2022-12-21T19:11:02.460906Z"
    }
   },
   "outputs": [],
   "source": [
    "valid_progeny_barcodes = (\n",
    "    all_progeny_barcodes.query('valid_viral_bc == True')\n",
    ")"
   ]
  },
  {
   "cell_type": "code",
   "execution_count": null,
   "metadata": {
    "execution": {
     "iopub.execute_input": "2022-12-21T19:11:02.464082Z",
     "iopub.status.busy": "2022-12-21T19:11:02.463145Z",
     "iopub.status.idle": "2022-12-21T19:11:03.019011Z",
     "shell.execute_reply": "2022-12-21T19:11:03.019552Z"
    }
   },
   "outputs": [],
   "source": [
    "fig = (p9.ggplot(valid_progeny_barcodes,\n",
    "                 p9.aes(x='source',\n",
    "                        y='freq')) +\n",
    "       p9.geom_jitter(alpha=0.1, width=0.1, height=0) +\n",
    "       p9.facet_grid('~gene') +\n",
    "       p9.ggtitle('valid viral barcodes\\n'\n",
    "                  f'{expt}') +\n",
    "       p9.labs(y='progeny frequency') +\n",
    "       p9.scale_y_log10() +\n",
    "       p9.theme(figure_size=(3, 2*valid_progeny_barcodes['source'].nunique()),\n",
    "                plot_title=p9.element_text(size=9),\n",
    "                axis_title=p9.element_text(size=9),\n",
    "                axis_text_x=p9.element_text(rotation=45, ha='right'),\n",
    "                legend_title=p9.element_text(size=9),\n",
    "                legend_title_align='center'))\n",
    "display(fig)"
   ]
  },
  {
   "cell_type": "markdown",
   "metadata": {},
   "source": [
    "### Define limit of detection\n",
    "Some very low frequency viral barcodes in the sequencing samples are likely to be spurious. Here, I will set a detection limit value and make knee plots."
   ]
  },
  {
   "cell_type": "code",
   "execution_count": null,
   "metadata": {
    "execution": {
     "iopub.execute_input": "2022-12-21T19:11:03.022796Z",
     "iopub.status.busy": "2022-12-21T19:11:03.021816Z",
     "iopub.status.idle": "2022-12-21T19:11:04.213410Z",
     "shell.execute_reply": "2022-12-21T19:11:04.213882Z"
    }
   },
   "outputs": [],
   "source": [
    "freq_rank = (valid_progeny_barcodes\n",
    "             .query('source.notnull()', engine='python')\n",
    "                 [['source',\n",
    "                   'gene',\n",
    "                   'tag',\n",
    "                   'replicate',\n",
    "                   'viral_barcode',\n",
    "                   'freq']]\n",
    "                 .copy()\n",
    "                 .drop_duplicates())\n",
    "freq_rank['rank'] = (freq_rank\n",
    "                     .groupby(['source', 'gene'])\n",
    "                         ['freq']\n",
    "                         .rank(ascending=False, method='first'))\n",
    "freq_rank['above_detection_limit'] = (\n",
    "    freq_rank['freq'] > progeny_detection_limit\n",
    ")\n",
    "\n",
    "display(freq_rank)\n",
    "\n",
    "fig = (p9.ggplot(freq_rank,\n",
    "                 p9.aes(x='rank',\n",
    "                        y='freq',\n",
    "                        color='above_detection_limit')) +\n",
    "       p9.geom_point(alpha=0.1) +\n",
    "       p9.geom_hline(yintercept=progeny_detection_limit, linetype='dashed', color=CBPALETTE[2]) +\n",
    "       p9.facet_grid('source~gene') +\n",
    "       p9.ggtitle('valid viral barcodes in progeny\\n'\n",
    "                  f'{expt}') +\n",
    "       p9.scale_y_log10() +\n",
    "       p9.theme(figure_size=(5, 1.5*freq_rank['source'].nunique()),\n",
    "                plot_title=p9.element_text(size=9),\n",
    "                axis_title=p9.element_text(size=9),\n",
    "                legend_title=p9.element_text(size=9),\n",
    "                legend_title_align='center') +\n",
    "       p9.scale_color_manual(CBPALETTE[0:]))\n",
    "display(fig)"
   ]
  },
  {
   "cell_type": "markdown",
   "metadata": {},
   "source": [
    "### Replicate correlation\n",
    "Plot correlation of replicates"
   ]
  },
  {
   "cell_type": "code",
   "execution_count": null,
   "metadata": {
    "execution": {
     "iopub.execute_input": "2022-12-21T19:11:04.216429Z",
     "iopub.status.busy": "2022-12-21T19:11:04.215704Z",
     "iopub.status.idle": "2022-12-21T19:11:04.246405Z",
     "shell.execute_reply": "2022-12-21T19:11:04.246913Z"
    }
   },
   "outputs": [],
   "source": [
    "replicates = (\n",
    "    valid_progeny_barcodes\n",
    "    .query('source.notnull()', engine='python')\n",
    "    .pivot(index=['source','tag','gene','viral_barcode'],\n",
    "           columns=['replicate'],\n",
    "           values='freq')\n",
    "    .reset_index()\n",
    ")\n",
    "replicates = replicates.fillna(0)\n",
    "replicates['above_limit_both_replicates'] = (\n",
    "    (replicates['replicate_1'] > progeny_detection_limit) & (replicates['replicate_2'] > progeny_detection_limit)\n",
    ")\n",
    "replicates['contributes_progeny'] = (\n",
    "    (replicates['replicate_1'] > 0) | (replicates['replicate_2'] > 0)\n",
    ")\n",
    "display(replicates)"
   ]
  },
  {
   "cell_type": "code",
   "execution_count": null,
   "metadata": {
    "execution": {
     "iopub.execute_input": "2022-12-21T19:11:04.249545Z",
     "iopub.status.busy": "2022-12-21T19:11:04.248728Z",
     "iopub.status.idle": "2022-12-21T19:11:07.665746Z",
     "shell.execute_reply": "2022-12-21T19:11:07.665445Z"
    }
   },
   "outputs": [],
   "source": [
    "file_labels = {'scProgenyProduction_trial1':'highMOI',\n",
    "                 'scProgenyProduction_trial3':'lowMOI'}\n",
    "replicate_file = f'results/figures/components/{file_labels[expt]}_progeny_replicates.svg'\n",
    "\n",
    "title_labels = {'scProgenyProduction_trial1':'High MOI',\n",
    "                 'scProgenyProduction_trial3':'Low MOI'}\n",
    "\n",
    "facet_labels = {'fluHA': 'HA',\n",
    "                'fluNA': 'NA',\n",
    "                'supernatant': 'physical progeny',\n",
    "                'second_infection': 'infectious progeny'}\n",
    "\n",
    "guide_values = {'scProgenyProduction_trial1': 'legend',\n",
    "                 'scProgenyProduction_trial3': False}\n",
    "\n",
    "fig = (p9.ggplot(replicates,\n",
    "                 p9.aes(x='replicate_1',\n",
    "                        y='replicate_2',\n",
    "                        color='above_limit_both_replicates')) +\n",
    "       p9.geom_point(alpha=0.3, size=2) +\n",
    "       p9.geom_hline(yintercept=progeny_detection_limit, linetype='dashed', color=CBPALETTE[2]) +\n",
    "       p9.geom_vline(xintercept=progeny_detection_limit, linetype='dashed', color=CBPALETTE[2]) +\n",
    "       p9.facet_grid('source~gene',\n",
    "                     labeller = facet_labels) +\n",
    "       p9.ggtitle(f'{title_labels[expt]}'\n",
    "                  ) +\n",
    "       p9.labs(x='replicate 1 frequency',\n",
    "               y='replicate 2 frequency') +\n",
    "       p9.scale_x_log10() +\n",
    "       p9.scale_y_log10() +\n",
    "       p9.theme(figure_size=(5, 2.5*replicates['source'].nunique()),\n",
    "                plot_title=p9.element_text(size=14),\n",
    "                axis_title=p9.element_text(size=12),\n",
    "                axis_text=p9.element_text(size=10, color='black'),\n",
    "                legend_position=(0.5,-0.4),\n",
    "                legend_background=p9.element_rect(color='black', size=0.5),\n",
    "                legend_title=p9.element_text(size=12),\n",
    "                legend_title_align='center',\n",
    "                legend_text=p9.element_text(size=12),\n",
    "                subplots_adjust={'hspace':0.1,\n",
    "                                 'wspace':0.1},\n",
    "                strip_text=p9.element_text(size=10)) +\n",
    "       p9.scale_color_manual([CBPALETTE[1], CBPALETTE[0]],\n",
    "                             name=\"Above limit of detection\\nin both replicates\\n\",\n",
    "                             guide=guide_values[expt]))\n",
    "fig.save(filename = replicate_file)\n",
    "display(fig)"
   ]
  },
  {
   "cell_type": "markdown",
   "metadata": {},
   "source": [
    "Calculate the correlation of progeny barcodes with both replicates found above limit of detection."
   ]
  },
  {
   "cell_type": "code",
   "execution_count": null,
   "metadata": {
    "execution": {
     "iopub.execute_input": "2022-12-21T19:11:07.675136Z",
     "iopub.status.busy": "2022-12-21T19:11:07.674671Z",
     "iopub.status.idle": "2022-12-21T19:11:07.687754Z",
     "shell.execute_reply": "2022-12-21T19:11:07.688375Z"
    },
    "scrolled": true
   },
   "outputs": [],
   "source": [
    "(replicates\n",
    " .query('above_limit_both_replicates == True')\n",
    " .groupby(['source', 'gene'])\n",
    " [['replicate_1', 'replicate_2']]\n",
    " .corr()\n",
    " .reset_index())"
   ]
  },
  {
   "cell_type": "markdown",
   "metadata": {},
   "source": [
    "### Average replicates\n",
    "First, apply quality control to very low frequency sequences. Then, take the geometric mean of the two replicates. Geometeric mean is a better representation of our samples than an arithmetic mean, since they demonstrate bottlenecking."
   ]
  },
  {
   "cell_type": "markdown",
   "metadata": {},
   "source": [
    "Quality control very low frequency measurements:  \n",
    "    1. Assign all frequencies below detection limt to the detection limit value.  \n",
    "    2. Assign all viral barcodes that are missing from a replicate the detection limit value"
   ]
  },
  {
   "cell_type": "code",
   "execution_count": null,
   "metadata": {
    "execution": {
     "iopub.execute_input": "2022-12-21T19:11:07.691675Z",
     "iopub.status.busy": "2022-12-21T19:11:07.690554Z",
     "iopub.status.idle": "2022-12-21T19:11:07.707914Z",
     "shell.execute_reply": "2022-12-21T19:11:07.708430Z"
    }
   },
   "outputs": [],
   "source": [
    "for replicate in ['replicate_1', 'replicate_2']:\n",
    "    replicates[f'{replicate}'] = (\n",
    "        replicates[f'{replicate}']\n",
    "        .apply(lambda x: x if x > progeny_detection_limit else progeny_detection_limit)\n",
    "    )\n",
    "display(replicates)"
   ]
  },
  {
   "cell_type": "markdown",
   "metadata": {},
   "source": [
    "Calculate geometric mean."
   ]
  },
  {
   "cell_type": "code",
   "execution_count": null,
   "metadata": {
    "execution": {
     "iopub.execute_input": "2022-12-21T19:11:07.711034Z",
     "iopub.status.busy": "2022-12-21T19:11:07.710282Z",
     "iopub.status.idle": "2022-12-21T19:11:07.715209Z",
     "shell.execute_reply": "2022-12-21T19:11:07.715800Z"
    }
   },
   "outputs": [],
   "source": [
    "replicates = replicates.assign(\n",
    "    average_freq = lambda x: gmean([x['replicate_1'], x['replicate_2']])\n",
    ")"
   ]
  },
  {
   "cell_type": "code",
   "execution_count": null,
   "metadata": {
    "execution": {
     "iopub.execute_input": "2022-12-21T19:11:07.718661Z",
     "iopub.status.busy": "2022-12-21T19:11:07.717826Z",
     "iopub.status.idle": "2022-12-21T19:11:07.735485Z",
     "shell.execute_reply": "2022-12-21T19:11:07.736129Z"
    }
   },
   "outputs": [],
   "source": [
    "replicates"
   ]
  },
  {
   "cell_type": "code",
   "execution_count": null,
   "metadata": {
    "execution": {
     "iopub.execute_input": "2022-12-21T19:11:07.739266Z",
     "iopub.status.busy": "2022-12-21T19:11:07.738327Z",
     "iopub.status.idle": "2022-12-21T19:11:08.917954Z",
     "shell.execute_reply": "2022-12-21T19:11:08.918499Z"
    }
   },
   "outputs": [],
   "source": [
    "output_fig = (p9.ggplot(replicates,\n",
    "                 p9.aes(x='average_freq')) +\n",
    "       p9.geom_histogram(bins=20) +\n",
    "       p9.geom_vline(xintercept=progeny_detection_limit, linetype='dashed', color=CBPALETTE[2]) +\n",
    "       p9.facet_grid('source~gene') +\n",
    "       p9.ggtitle('valid viral barcodes in progeny\\n'\n",
    "                  'averaged technical replicates\\n'\n",
    "                  f'detection limit = {progeny_detection_limit}\\n'\n",
    "                  f'{expt}') +\n",
    "       p9.labs(x='average frequency',\n",
    "               y='n viral barcodes') +\n",
    "       p9.scale_x_log10() +\n",
    "       p9.theme(figure_size=(6, 2*replicates['source'].nunique()),\n",
    "                plot_title=p9.element_text(size=10),\n",
    "                axis_title=p9.element_text(size=10),\n",
    "                legend_title=p9.element_text(size=10),\n",
    "                legend_title_align='center') + \n",
    "       p9.scale_fill_manual([CBPALETTE[1], CBPALETTE[0]]))\n",
    "display(output_fig)"
   ]
  },
  {
   "cell_type": "markdown",
   "metadata": {},
   "source": [
    "### Export results\n",
    "Export histogram and CSV of average barcode frequency in each progeny sample."
   ]
  },
  {
   "cell_type": "code",
   "execution_count": null,
   "metadata": {
    "execution": {
     "iopub.execute_input": "2022-12-21T19:11:08.921199Z",
     "iopub.status.busy": "2022-12-21T19:11:08.920440Z",
     "iopub.status.idle": "2022-12-21T19:11:10.871603Z",
     "shell.execute_reply": "2022-12-21T19:11:10.872306Z"
    }
   },
   "outputs": [],
   "source": [
    "# save plot\n",
    "print(f\"Saving plot to {plot}\")\n",
    "p9.ggsave(plot=fig, filename=plot, verbose=False)"
   ]
  },
  {
   "cell_type": "code",
   "execution_count": null,
   "metadata": {
    "execution": {
     "iopub.execute_input": "2022-12-21T19:11:10.875737Z",
     "iopub.status.busy": "2022-12-21T19:11:10.874736Z",
     "iopub.status.idle": "2022-12-21T19:11:11.149336Z",
     "shell.execute_reply": "2022-12-21T19:11:11.150041Z"
    }
   },
   "outputs": [],
   "source": [
    "# save CSV\n",
    "(replicates\n",
    " [['source',\n",
    "   'tag',\n",
    "   'gene',\n",
    "   'viral_barcode',\n",
    "   'average_freq']]\n",
    " .to_csv(filtered_progeny_viral_bc_csv))"
   ]
  },
  {
   "cell_type": "code",
   "execution_count": null,
   "metadata": {},
   "outputs": [],
   "source": []
  },
  {
   "cell_type": "code",
   "execution_count": null,
   "metadata": {},
   "outputs": [],
   "source": []
  },
  {
   "cell_type": "code",
   "execution_count": null,
   "metadata": {},
   "outputs": [],
   "source": []
  }
 ],
 "metadata": {
  "kernelspec": {
   "display_name": "Python 3",
   "language": "python",
   "name": "python3"
  },
  "language_info": {
   "codemirror_mode": {
    "name": "ipython",
    "version": 3
   },
   "file_extension": ".py",
   "mimetype": "text/x-python",
   "name": "python",
   "nbconvert_exporter": "python",
   "pygments_lexer": "ipython3",
   "version": "3.8.6"
  }
 },
 "nbformat": 4,
 "nbformat_minor": 4
}
