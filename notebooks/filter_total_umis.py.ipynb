{
 "cells": [
  {
   "cell_type": "markdown",
   "metadata": {},
   "source": [
    "# Filter total UMIs\n",
    "This Python Jupyter notebook uses the total number UMIs to exclude low quality cells and suspected doublets.\n",
    "\n",
    "Import Python modules:"
   ]
  },
  {
   "cell_type": "code",
   "execution_count": null,
   "metadata": {
    "execution": {
     "iopub.execute_input": "2021-11-19T00:48:59.952060Z",
     "iopub.status.busy": "2021-11-19T00:48:59.950567Z",
     "iopub.status.idle": "2021-11-19T00:49:03.490613Z",
     "shell.execute_reply": "2021-11-19T00:49:03.489992Z"
    }
   },
   "outputs": [],
   "source": [
    "from IPython.display import display\n",
    "\n",
    "from dms_variants.constants import CBPALETTE\n",
    "\n",
    "import numpy\n",
    "\n",
    "import pandas as pd\n",
    "\n",
    "import plotnine as p9\n",
    "\n",
    "import scanpy"
   ]
  },
  {
   "cell_type": "markdown",
   "metadata": {},
   "source": [
    "Get `snakemake` variables [as described here](https://snakemake.readthedocs.io/en/stable/snakefiles/rules.html#jupyter-notebook-integration):"
   ]
  },
  {
   "cell_type": "code",
   "execution_count": null,
   "metadata": {
    "execution": {
     "iopub.execute_input": "2021-11-19T00:49:03.498223Z",
     "iopub.status.busy": "2021-11-19T00:49:03.497704Z",
     "iopub.status.idle": "2021-11-19T00:49:03.500504Z",
     "shell.execute_reply": "2021-11-19T00:49:03.501000Z"
    }
   },
   "outputs": [],
   "source": [
    "matrix = snakemake.input.matrix\n",
    "features = snakemake.input.features\n",
    "cell_barcodes = snakemake.input.cell_barcodes\n",
    "total_UMI_deviations = float(snakemake.params.total_UMI_deviations)\n",
    "expt = snakemake.wildcards.expt\n",
    "plot = snakemake.output.plot\n",
    "cell_barcodes_filtered = snakemake.output.cell_barcodes_filtered"
   ]
  },
  {
   "cell_type": "markdown",
   "metadata": {},
   "source": [
    "Style parameters:"
   ]
  },
  {
   "cell_type": "code",
   "execution_count": null,
   "metadata": {
    "execution": {
     "iopub.execute_input": "2021-11-19T00:49:03.507297Z",
     "iopub.status.busy": "2021-11-19T00:49:03.506776Z",
     "iopub.status.idle": "2021-11-19T00:49:03.509232Z",
     "shell.execute_reply": "2021-11-19T00:49:03.508706Z"
    }
   },
   "outputs": [],
   "source": [
    "p9.theme_set(p9.theme_classic())"
   ]
  },
  {
   "cell_type": "markdown",
   "metadata": {},
   "source": [
    "Read the cell-gene matrix into an [AnnData](https://anndata.readthedocs.io/) object:"
   ]
  },
  {
   "cell_type": "code",
   "execution_count": null,
   "metadata": {
    "execution": {
     "iopub.execute_input": "2021-11-19T00:49:03.513847Z",
     "iopub.status.busy": "2021-11-19T00:49:03.513356Z",
     "iopub.status.idle": "2021-11-19T00:49:34.391778Z",
     "shell.execute_reply": "2021-11-19T00:49:34.392541Z"
    }
   },
   "outputs": [],
   "source": [
    "adata = scanpy.read_mtx(matrix)\n",
    "adata.var = pd.read_csv(cell_barcodes,\n",
    "                        names=['cell_barcode'])\n",
    "adata.obs = pd.read_csv(features,\n",
    "                        sep='\\t',\n",
    "                        names=['ensemble_id', 'gene', 'feature_type'])\n",
    "\n",
    "print(f\"Read cell-gene matrix of {adata.n_vars} cells and {adata.n_obs} genes\")"
   ]
  },
  {
   "cell_type": "markdown",
   "metadata": {},
   "source": [
    "Now for each cell get the total UMIs."
   ]
  },
  {
   "cell_type": "code",
   "execution_count": null,
   "metadata": {
    "execution": {
     "iopub.execute_input": "2021-11-19T00:49:34.401420Z",
     "iopub.status.busy": "2021-11-19T00:49:34.400658Z",
     "iopub.status.idle": "2021-11-19T00:49:34.545310Z",
     "shell.execute_reply": "2021-11-19T00:49:34.546911Z"
    }
   },
   "outputs": [],
   "source": [
    "umi_counts = (\n",
    "    adata.var\n",
    "    .assign(total_UMIs=numpy.sum(adata.X, axis=0).A1.astype(int)))\n",
    "display(umi_counts)"
   ]
  },
  {
   "cell_type": "markdown",
   "metadata": {},
   "source": [
    "Log transform the UMIs:"
   ]
  },
  {
   "cell_type": "code",
   "execution_count": null,
   "metadata": {},
   "outputs": [],
   "source": [
    "umi_counts['log_total_UMIs'] = numpy.log10(umi_counts['total_UMIs'])\n",
    "display(umi_counts)"
   ]
  },
  {
   "cell_type": "code",
   "execution_count": null,
   "metadata": {
    "execution": {
     "iopub.execute_input": "2021-11-19T00:49:34.631701Z",
     "iopub.status.busy": "2021-11-19T00:49:34.630777Z",
     "iopub.status.idle": "2021-11-19T00:49:35.054770Z",
     "shell.execute_reply": "2021-11-19T00:49:35.055732Z"
    }
   },
   "outputs": [],
   "source": [
    "total_UMI_histogram = (\n",
    "    p9.ggplot(\n",
    "        (umi_counts),\n",
    "        p9.aes(x='total_UMIs',)) +\n",
    "    p9.geom_histogram(bins=25) +\n",
    "    p9.ggtitle('total_UMIs per cell\\n'\n",
    "               f'{expt}') +\n",
    "    p9.theme(figure_size=(4, 2),\n",
    "             plot_title=p9.element_text(size=9),\n",
    "             axis_title=p9.element_text(size=9),\n",
    "             legend_title=p9.element_text(size=9),\n",
    "             legend_title_align='center') +\n",
    "    p9.scale_color_manual(CBPALETTE)\n",
    ")\n",
    "display(total_UMI_histogram)"
   ]
  },
  {
   "cell_type": "code",
   "execution_count": null,
   "metadata": {},
   "outputs": [],
   "source": [
    "log_total_UMI_histogram = (\n",
    "    p9.ggplot(\n",
    "        (umi_counts),\n",
    "        p9.aes(x='log_total_UMIs',)) +\n",
    "    p9.geom_histogram(bins=25) +\n",
    "    p9.ggtitle('log total_UMIs per cell\\n'\n",
    "               f'{expt}') +\n",
    "    p9.theme(figure_size=(4, 2),\n",
    "             plot_title=p9.element_text(size=9),\n",
    "             axis_title=p9.element_text(size=9),\n",
    "             legend_title=p9.element_text(size=9),\n",
    "             legend_title_align='center') +\n",
    "    p9.scale_color_manual(CBPALETTE)\n",
    ")\n",
    "display(log_total_UMI_histogram)"
   ]
  },
  {
   "cell_type": "markdown",
   "metadata": {},
   "source": [
    "Calculate the median and median absolute deviation of the log-transformed values:"
   ]
  },
  {
   "cell_type": "code",
   "execution_count": null,
   "metadata": {},
   "outputs": [],
   "source": [
    "def median_absolute_deviation(input_series):\n",
    "    median = numpy.median(input_series)\n",
    "    d = numpy.absolute(input_series - median)\n",
    "    mad = numpy.median(d)\n",
    "    output_dict = {'median': median,\n",
    "                   'mad': mad}\n",
    "    return(output_dict)\n",
    "\n",
    "log_total_UMIs_stats = median_absolute_deviation(umi_counts['log_total_UMIs'])\n",
    "print(f'The median value of the log transformed UMI counts is: {log_total_UMIs_stats[\"median\"]}')\n",
    "print(f'The median absolute deviation of the log transformed UMI counts is: {log_total_UMIs_stats[\"mad\"]}')"
   ]
  },
  {
   "cell_type": "markdown",
   "metadata": {},
   "source": [
    "Set the limits for filtering at 3 times the median absolute deviation:"
   ]
  },
  {
   "cell_type": "code",
   "execution_count": null,
   "metadata": {},
   "outputs": [],
   "source": [
    "log_total_UMIs_stats['lower_limit'] = (log_total_UMIs_stats['median'] - \n",
    "                                       (total_UMI_deviations * log_total_UMIs_stats['mad']))\n",
    "log_total_UMIs_stats['upper_limit'] = (log_total_UMIs_stats['median'] + \n",
    "                                       (total_UMI_deviations * log_total_UMIs_stats['mad']))\n",
    "print(f'The lower limit of the log transformed UMI counts is: {log_total_UMIs_stats[\"lower_limit\"]}')\n",
    "print(f'The upper imit of the log transformed UMI counts is: {log_total_UMIs_stats[\"upper_limit\"]}')"
   ]
  },
  {
   "cell_type": "markdown",
   "metadata": {},
   "source": [
    "Annotate excluded cells:"
   ]
  },
  {
   "cell_type": "code",
   "execution_count": null,
   "metadata": {},
   "outputs": [],
   "source": [
    "umi_counts['filtered'] = ((umi_counts['log_total_UMIs'] < log_total_UMIs_stats['lower_limit']) |\n",
    "                          (umi_counts['log_total_UMIs'] > log_total_UMIs_stats['upper_limit']))\n",
    "display(umi_counts)"
   ]
  },
  {
   "cell_type": "markdown",
   "metadata": {},
   "source": [
    "Plot number of excluded cells:"
   ]
  },
  {
   "cell_type": "code",
   "execution_count": null,
   "metadata": {},
   "outputs": [],
   "source": [
    "outcome_plot = (\n",
    "    p9.ggplot(\n",
    "        (umi_counts),\n",
    "        p9.aes(x='filtered',\n",
    "               fill='filtered')) +\n",
    "    p9.geom_bar(stat='count') +\n",
    "    p9.ggtitle('Number of cells filtered on total UMIs\\n'\n",
    "               f'{expt}') +\n",
    "    p9.theme(figure_size=(2, 2),\n",
    "             plot_title=p9.element_text(size=9),\n",
    "             axis_title=p9.element_text(size=9),\n",
    "             legend_title=p9.element_text(size=9),\n",
    "             legend_title_align='center') +\n",
    "    p9.scale_fill_manual(CBPALETTE)\n",
    ")\n",
    "display(outcome_plot)"
   ]
  },
  {
   "cell_type": "markdown",
   "metadata": {},
   "source": [
    "Plot histogram with limits:"
   ]
  },
  {
   "cell_type": "code",
   "execution_count": null,
   "metadata": {},
   "outputs": [],
   "source": [
    "filtered_log_histogram = (\n",
    "    p9.ggplot(\n",
    "        (umi_counts),\n",
    "        p9.aes(x='log_total_UMIs',\n",
    "               fill='filtered')) +\n",
    "    p9.geom_histogram(bins=25) +\n",
    "    p9.geom_vline(xintercept=[log_total_UMIs_stats['lower_limit'],\n",
    "                              log_total_UMIs_stats['upper_limit']],\n",
    "                  linetype='dashed',\n",
    "                  color='green') +\n",
    "    p9.ggtitle('log total_UMIs per cell\\n'\n",
    "               f'{expt}\\n'\n",
    "               f'limit set at {total_UMI_deviations} deviations from median') +\n",
    "    p9.theme(figure_size=(4, 2),\n",
    "             plot_title=p9.element_text(size=9),\n",
    "             axis_title=p9.element_text(size=9),\n",
    "             legend_title=p9.element_text(size=9),\n",
    "             legend_title_align='center') +\n",
    "    p9.scale_fill_manual(CBPALETTE)\n",
    ")\n",
    "display(filtered_log_histogram)"
   ]
  },
  {
   "cell_type": "markdown",
   "metadata": {},
   "source": [
    "Plot histgrom on linear scale annotated with filter status:"
   ]
  },
  {
   "cell_type": "code",
   "execution_count": null,
   "metadata": {},
   "outputs": [],
   "source": [
    "filtered_total_UMI_histgoram = (\n",
    "    p9.ggplot(\n",
    "        (umi_counts),\n",
    "        p9.aes(x='total_UMIs',\n",
    "               fill='filtered')) +\n",
    "    p9.geom_histogram(bins=25) +\n",
    "    p9.ggtitle('total UMIs per cell\\n'\n",
    "               f'{expt}') +\n",
    "    p9.scale_x_continuous(breaks=list(range(0,max(umi_counts['total_UMIs']),50000))) +\n",
    "    p9.theme(figure_size=(6, 2),\n",
    "             plot_title=p9.element_text(size=9),\n",
    "             axis_title=p9.element_text(size=9),\n",
    "             legend_title=p9.element_text(size=9),\n",
    "             legend_title_align='center') +\n",
    "    p9.scale_fill_manual(CBPALETTE)\n",
    ")\n",
    "display(filtered_total_UMI_histgoram)"
   ]
  },
  {
   "cell_type": "markdown",
   "metadata": {},
   "source": [
    "Export log-scale histogram"
   ]
  },
  {
   "cell_type": "code",
   "execution_count": null,
   "metadata": {
    "execution": {
     "iopub.execute_input": "2021-11-19T00:49:35.624133Z",
     "iopub.status.busy": "2021-11-19T00:49:35.621851Z",
     "iopub.status.idle": "2021-11-19T00:49:36.375555Z",
     "shell.execute_reply": "2021-11-19T00:49:36.374444Z"
    }
   },
   "outputs": [],
   "source": [
    "print(f\"Saving histogram to {plot}\")\n",
    "filtered_log_histogram.save(plot)"
   ]
  },
  {
   "cell_type": "markdown",
   "metadata": {},
   "source": [
    "Export filtered list of cell barcodes:"
   ]
  },
  {
   "cell_type": "code",
   "execution_count": null,
   "metadata": {
    "execution": {
     "iopub.execute_input": "2021-11-19T00:49:36.385068Z",
     "iopub.status.busy": "2021-11-19T00:49:36.383764Z",
     "iopub.status.idle": "2021-11-19T00:49:36.444309Z",
     "shell.execute_reply": "2021-11-19T00:49:36.445192Z"
    }
   },
   "outputs": [],
   "source": [
    "cell_barcodes_filtered_list = (\n",
    "    umi_counts.query('filtered == False')\n",
    "    ['cell_barcode']\n",
    "    .reset_index(drop=True)\n",
    "    )\n",
    "\n",
    "display(cell_barcodes_filtered_list)\n",
    "\n",
    "print(f\"Saving filtered cell barcodes to {cell_barcodes_filtered}\")\n",
    "cell_barcodes_filtered_list.to_csv(cell_barcodes_filtered,\n",
    "                                   index=False)"
   ]
  },
  {
   "cell_type": "code",
   "execution_count": null,
   "metadata": {},
   "outputs": [],
   "source": []
  }
 ],
 "metadata": {
  "kernelspec": {
   "display_name": "Python 3",
   "language": "python",
   "name": "python3"
  },
  "language_info": {
   "codemirror_mode": {
    "name": "ipython",
    "version": 3
   },
   "file_extension": ".py",
   "mimetype": "text/x-python",
   "name": "python",
   "nbconvert_exporter": "python",
   "pygments_lexer": "ipython3",
   "version": "3.8.6"
  }
 },
 "nbformat": 4,
 "nbformat_minor": 4
}
