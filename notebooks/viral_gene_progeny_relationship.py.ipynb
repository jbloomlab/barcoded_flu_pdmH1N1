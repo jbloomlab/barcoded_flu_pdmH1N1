{
 "cells": [
  {
   "cell_type": "markdown",
   "metadata": {},
   "source": [
    "# Viral gene-progeny relationship\n",
    "This notebook plots the number of viral genes found in cells that produce or do not produce viral progeny"
   ]
  },
  {
   "cell_type": "markdown",
   "metadata": {},
   "source": [
    "Import python modules:\n"
   ]
  },
  {
   "cell_type": "code",
   "execution_count": null,
   "metadata": {},
   "outputs": [],
   "source": [
    "from IPython.display import display\n",
    "\n",
    "from dms_variants.constants import CBPALETTE\n",
    "\n",
    "import pandas as pd\n",
    "\n",
    "import plotnine as p9"
   ]
  },
  {
   "cell_type": "markdown",
   "metadata": {},
   "source": [
    "Hardcode variables for now:"
   ]
  },
  {
   "cell_type": "code",
   "execution_count": null,
   "metadata": {},
   "outputs": [],
   "source": [
    "viral_genes_by_cell_csv = snakemake.input.viral_genes_by_cell_csv\n",
    "contributes_progeny_by_cell_csv = snakemake.input.contributes_progeny_by_cell_csv\n",
    "expt = snakemake.wildcards.expt\n",
    "plot = snakemake.output.plot"
   ]
  },
  {
   "cell_type": "markdown",
   "metadata": {},
   "source": [
    "Style parameters. *N.b.* `CBPALETTE` is defined in imports above."
   ]
  },
  {
   "cell_type": "code",
   "execution_count": null,
   "metadata": {},
   "outputs": [],
   "source": [
    "p9.theme_set(p9.theme_classic())"
   ]
  },
  {
   "cell_type": "markdown",
   "metadata": {},
   "source": [
    "## Load data\n",
    "Load data on viral genes in each infected cell and whether each infected cell contributes progeny."
   ]
  },
  {
   "cell_type": "markdown",
   "metadata": {},
   "source": [
    "*N.b. viral genes CSV contains info on every cell (both infected and uninfected) in transcriptome*"
   ]
  },
  {
   "cell_type": "code",
   "execution_count": null,
   "metadata": {},
   "outputs": [],
   "source": [
    "viral_genes = pd.read_csv(viral_genes_by_cell_csv)\n",
    "display(viral_genes)"
   ]
  },
  {
   "cell_type": "markdown",
   "metadata": {},
   "source": [
    "*N.b. contributes progeny CSV only has information about **infected** cells*"
   ]
  },
  {
   "cell_type": "code",
   "execution_count": null,
   "metadata": {},
   "outputs": [],
   "source": [
    "contributes_progeny = pd.read_csv(contributes_progeny_by_cell_csv)\n",
    "display(contributes_progeny)"
   ]
  },
  {
   "cell_type": "markdown",
   "metadata": {},
   "source": [
    "Combine dataframes:"
   ]
  },
  {
   "cell_type": "code",
   "execution_count": null,
   "metadata": {},
   "outputs": [],
   "source": [
    "infected_cells_genes_progeny = pd.merge(\n",
    "    left=viral_genes,\n",
    "    right=contributes_progeny,\n",
    "    on='cell_barcode',\n",
    "    how='right'\n",
    ")\n",
    "\n",
    "display(infected_cells_genes_progeny)"
   ]
  },
  {
   "cell_type": "markdown",
   "metadata": {},
   "source": [
    "Plot progeny contribution by each viral gene"
   ]
  },
  {
   "cell_type": "code",
   "execution_count": null,
   "metadata": {},
   "outputs": [],
   "source": [
    "progeny_contribution_by_gene = (\n",
    "    p9.ggplot(infected_cells_genes_progeny,\n",
    "              p9.aes(x='gene_present',\n",
    "                     fill='contributes_progeny')) +\n",
    "    p9.geom_bar(stat='count') +\n",
    "    p9.facet_grid('source~gene') + \n",
    "    p9.ggtitle('Progeny contribution and viral gene detection\\n'\n",
    "               'in each infected cell\\n'\n",
    "               f'{expt}') +\n",
    "    p9.theme(figure_size=(8, 4),\n",
    "                plot_title=p9.element_text(size=9),\n",
    "                axis_title=p9.element_text(size=9),\n",
    "                legend_title=p9.element_text(size=9),\n",
    "                legend_title_align='center') +\n",
    "    p9.scale_fill_manual(CBPALETTE[0:])\n",
    ")\n",
    "\n",
    "display(progeny_contribution_by_gene)"
   ]
  },
  {
   "cell_type": "markdown",
   "metadata": {},
   "source": [
    "### Progeny by viral genes per cell"
   ]
  },
  {
   "cell_type": "markdown",
   "metadata": {},
   "source": [
    "Plot progeny contribution by n viral genes"
   ]
  },
  {
   "cell_type": "code",
   "execution_count": null,
   "metadata": {},
   "outputs": [],
   "source": [
    "n_viral_genes_histogram = (\n",
    "    p9.ggplot((infected_cells_genes_progeny\n",
    "               [['cell_barcode', 'source', 'n_viral_genes', 'contributes_progeny']]\n",
    "               .drop_duplicates()),\n",
    "              p9.aes(x='n_viral_genes',\n",
    "                     fill='contributes_progeny')) +\n",
    "    p9.geom_bar(stat='count', position='dodge') +\n",
    "    p9.facet_grid('source~') + \n",
    "    p9.ggtitle('Progeny contribution and number of viral genes\\n'\n",
    "               'in each infected cell\\n'\n",
    "               f'{expt}') +\n",
    "    p9.labs(x='n viral genes detected',\n",
    "            y='n cells') +\n",
    "    p9.theme(figure_size=(6, 4),\n",
    "                plot_title=p9.element_text(size=9),\n",
    "                axis_title=p9.element_text(size=9),\n",
    "                legend_title=p9.element_text(size=9),\n",
    "                legend_title_align='center') +\n",
    "    p9.scale_fill_manual(CBPALETTE[0:])\n",
    ")\n",
    "\n",
    "display(n_viral_genes_histogram)"
   ]
  },
  {
   "cell_type": "markdown",
   "metadata": {},
   "source": [
    "## Output\n",
    "Export plot and n_viral_genes per infected cell CSV."
   ]
  },
  {
   "cell_type": "code",
   "execution_count": null,
   "metadata": {},
   "outputs": [],
   "source": [
    "# save plot\n",
    "print(f\"Saving plot to {plot}\")\n",
    "p9.ggsave(plot=n_viral_genes_histogram, filename=plot, verbose=False)"
   ]
  }
 ],
 "metadata": {
  "kernelspec": {
   "display_name": "Python 3",
   "language": "python",
   "name": "python3"
  },
  "language_info": {
   "codemirror_mode": {
    "name": "ipython",
    "version": 3
   },
   "file_extension": ".py",
   "mimetype": "text/x-python",
   "name": "python",
   "nbconvert_exporter": "python",
   "pygments_lexer": "ipython3",
   "version": "3.8.6"
  }
 },
 "nbformat": 4,
 "nbformat_minor": 4
}
