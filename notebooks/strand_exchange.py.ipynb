{
 "cells": [
  {
   "cell_type": "markdown",
   "metadata": {},
   "source": [
    "# Quantify strand exchange"
   ]
  },
  {
   "cell_type": "markdown",
   "metadata": {},
   "source": [
    "This notebook examines strand exchange that might happen during PCR or SMRTbell library preparation. We do so by looking at mixin of wildtype and synonymous viral tags in pacbio CCSs. "
   ]
  },
  {
   "cell_type": "code",
   "execution_count": null,
   "metadata": {},
   "outputs": [],
   "source": [
    "from alignparse.constants import CBPALETTE\n",
    "\n",
    "import pandas as pd\n",
    "\n",
    "import plotnine as p9\n",
    "\n",
    "import yaml"
   ]
  },
  {
   "cell_type": "markdown",
   "metadata": {},
   "source": [
    "Import snakemake variables."
   ]
  },
  {
   "cell_type": "code",
   "execution_count": null,
   "metadata": {},
   "outputs": [],
   "source": [
    "viral_tags = snakemake.input.viral_tags\n",
    "ccs_alignments = snakemake.input.ccs_alignments\n",
    "plot_strand_exchange = snakemake.output.plot_strand_exchange"
   ]
  },
  {
   "cell_type": "markdown",
   "metadata": {},
   "source": [
    "Here we load viral tag yalm file and make a dataframe each for `variant_tag_1` and `variant_tag_2` that hold the identitied of `wt` and `syn` tags. "
   ]
  },
  {
   "cell_type": "code",
   "execution_count": null,
   "metadata": {},
   "outputs": [],
   "source": [
    "with open(viral_tags) as file:\n",
    "    tags = yaml.load(file, Loader=yaml.FullLoader)\n",
    "\n",
    "pdtags = pd.DataFrame.from_dict(tags, orient='index')\n",
    "\n",
    "variant_tag_1 = pdtags['viral_tag_1'].apply(pd.Series)\n",
    "\n",
    "variant_tag_2 = pdtags['viral_tag_2'].apply(pd.Series)"
   ]
  },
  {
   "cell_type": "markdown",
   "metadata": {},
   "source": [
    "Open CCS alignment file generated in 'align_pacbio' rule."
   ]
  },
  {
   "cell_type": "code",
   "execution_count": null,
   "metadata": {
    "scrolled": true
   },
   "outputs": [],
   "source": [
    "alignments = pd.read_csv(ccs_alignments, compression='gzip')\n",
    "alignments.head()"
   ]
  },
  {
   "cell_type": "markdown",
   "metadata": {},
   "source": [
    "Here we iterate over each row in alignment file looking at which gene each row holds and extracting the relevant `wt` and `syn` tags for each row from `variant_tag_1` and `variant_tag_2` dataframes generate above. We then attach those tags to end of `alignments` frame."
   ]
  },
  {
   "cell_type": "code",
   "execution_count": null,
   "metadata": {},
   "outputs": [],
   "source": [
    "tag_list = []\n",
    "for _index, row in alignments.iterrows():\n",
    "    gene = row['gene']\n",
    "    variant1_wt = variant_tag_1.loc[gene, 'wt']\n",
    "    variant2_wt = variant_tag_2.loc[gene, 'wt']\n",
    "    variant1_syn = variant_tag_1.loc[gene, 'syn']\n",
    "    variant2_syn = variant_tag_2.loc[gene, 'syn']\n",
    "    tag_list.append([variant1_wt, variant2_wt, variant1_syn, variant2_syn])\n",
    "\n",
    "tag_df = pd.DataFrame(tag_list, columns=[\"variant_tag_1_wt\",\n",
    "                                         \"variant_tag_2_wt\",\n",
    "                                         \"variant_tag_1_syn\",\n",
    "                                         \"variant_tag_2_syn\"])\n",
    "\n",
    "alignments = pd.concat([alignments, tag_df], axis=1, sort=False)"
   ]
  },
  {
   "cell_type": "markdown",
   "metadata": {},
   "source": [
    "Now we will compare tags found in CCSs to the expected `wt` and `syn` tags and generate a list of labels based on the tags found. We will attach this list to the end of `alignments` frame. \n",
    "\n",
    "We use the following tag labels:\n",
    "\n",
    "`wildtype`: CCS has both `wt` tags  \n",
    "`synonymous tags`: CCS has both `syn` tags  \n",
    "`mixed`: CCS has a mixture of `wt` and `syn` tags  \n",
    "`partial wildtype`: CCS has one `wt` tag and the other tag is missing in the read  \n",
    "`partial synonymous`: CCS has one `syn` tag and the other tag is missing in the read  \n",
    "`missing tag`: CCS has no detectable tags  \n",
    "`other`: CCS has tags that don't match neither `wt` nor `syn` tags at any positions  \n",
    "  \n",
    "Note for NEP we only iterate over variant tag 2 because it only has one tag, it's not useful for assessing strand exchange. "
   ]
  },
  {
   "cell_type": "code",
   "execution_count": null,
   "metadata": {},
   "outputs": [],
   "source": [
    "strand_exchange_list = []\n",
    "\n",
    "for _index, row in alignments.iterrows():\n",
    "\n",
    "    if row['transcript'] != 'fluNEP':\n",
    "\n",
    "        if (row['variant_tag_1_sequence'] == row['variant_tag_1_wt']\n",
    "                and row['variant_tag_2_sequence'] == row['variant_tag_2_wt']):\n",
    "            strand_exchange_list.append(\"wildtype\")\n",
    "\n",
    "        elif (row['variant_tag_1_sequence'] == row['variant_tag_1_syn']\n",
    "              and row['variant_tag_2_sequence'] == row['variant_tag_2_syn']):\n",
    "            strand_exchange_list.append(\"synonymous tags\")\n",
    "\n",
    "        elif (row['variant_tag_1_sequence'] == row['variant_tag_1_wt']\n",
    "              and row['variant_tag_2_sequence'] == row['variant_tag_2_syn']\n",
    "              or row['variant_tag_1_sequence'] == row['variant_tag_1_syn']\n",
    "              and row['variant_tag_2_sequence'] == row['variant_tag_2_wt']):\n",
    "            strand_exchange_list.append(\"mixed\")\n",
    "\n",
    "        elif (row['variant_tag_1_sequence'] == row['variant_tag_1_wt']\n",
    "              and pd.isnull(row['variant_tag_2_sequence']) is True\n",
    "              or row['variant_tag_2_sequence'] == row['variant_tag_2_wt']\n",
    "              and pd.isnull(row['variant_tag_1_sequence']) is True):\n",
    "            strand_exchange_list.append(\"partial wildtype\")\n",
    "\n",
    "        elif (row['variant_tag_1_sequence'] == row['variant_tag_1_syn']\n",
    "              and pd.isnull(row['variant_tag_2_sequence']) is True\n",
    "              or row['variant_tag_2_sequence'] == row['variant_tag_2_syn']\n",
    "              and pd.isnull(row['variant_tag_1_sequence']) is True):\n",
    "            strand_exchange_list.append(\"partial synonymous\")\n",
    "\n",
    "        elif (pd.isnull(row['variant_tag_1_sequence']) is True\n",
    "              and pd.isnull(row['variant_tag_2_sequence']) is True):\n",
    "            strand_exchange_list.append(\"missing tag\")\n",
    "\n",
    "        else:\n",
    "            strand_exchange_list.append(\"other\")\n",
    "\n",
    "    if row['transcript'] == 'fluNEP':\n",
    "\n",
    "        if row['variant_tag_2_sequence'] == row['variant_tag_2_wt']:\n",
    "            strand_exchange_list.append(\"wildtype\")\n",
    "\n",
    "        elif row['variant_tag_2_sequence'] == row['variant_tag_2_syn']:\n",
    "            strand_exchange_list.append(\"synonymous tags\")\n",
    "\n",
    "        elif pd.isnull(row['variant_tag_2_sequence']) is True:\n",
    "            strand_exchange_list.append(\"missing tag\")\n",
    "\n",
    "        else:\n",
    "            strand_exchange_list.append(\"other\")\n",
    "\n",
    "# ckeck that our list of generated xc\n",
    "# matches the length of `alignments` file\n",
    "assert len(strand_exchange_list) == len(alignments.index)\n",
    "\n",
    "# bind to alignments\n",
    "alignments['tag_in_css'] = strand_exchange_list"
   ]
  },
  {
   "cell_type": "markdown",
   "metadata": {},
   "source": [
    "Now we will count how many tags fall in each tag label group."
   ]
  },
  {
   "cell_type": "code",
   "execution_count": null,
   "metadata": {
    "scrolled": true
   },
   "outputs": [],
   "source": [
    "tag_in_css_df = (\n",
    "    alignments\n",
    "    .groupby(['tag_in_css', 'gene'])\n",
    "    .count()\n",
    "    .sort_values(by='transcript', ascending=False)\n",
    "    .reset_index()\n",
    "    )"
   ]
  },
  {
   "cell_type": "markdown",
   "metadata": {},
   "source": [
    "And finally we plot how many CCS fall in each tag group."
   ]
  },
  {
   "cell_type": "code",
   "execution_count": null,
   "metadata": {},
   "outputs": [],
   "source": [
    "p = (\n",
    "    p9.ggplot(tag_in_css_df,\n",
    "              p9.aes('gene', 'name', fill='tag_in_css'))\n",
    "    + p9.geom_bar(stat='identity')\n",
    "    + p9.theme(axis_text_x=p9.element_text(angle=90),\n",
    "               panel_grid_major_x=p9.element_blank()\n",
    "               )\n",
    "    + p9.scale_fill_manual(values=CBPALETTE)\n",
    "    + p9.xlab('flu gene')\n",
    "    + p9.ylab('ccs count')\n",
    "    + p9.theme(axis_text_x=p9.element_text(angle=90, hjust=0.5))\n",
    "\n",
    ")\n",
    "_ = p.draw()\n",
    "\n",
    "p9.ggsave(plot=p, filename=plot_strand_exchange, verbose=False)"
   ]
  }
 ],
 "metadata": {
  "kernelspec": {
   "display_name": "Python 3",
   "language": "python",
   "name": "python3"
  },
  "language_info": {
   "codemirror_mode": {
    "name": "ipython",
    "version": 3
   },
   "file_extension": ".py",
   "mimetype": "text/x-python",
   "name": "python",
   "nbconvert_exporter": "python",
   "pygments_lexer": "ipython3",
   "version": "3.8.6"
  }
 },
 "nbformat": 4,
 "nbformat_minor": 4
}
