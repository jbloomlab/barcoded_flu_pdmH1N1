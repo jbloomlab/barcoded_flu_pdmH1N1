{
 "cells": [
  {
   "cell_type": "markdown",
   "metadata": {},
   "source": [
    "# Quantify strand exchange"
   ]
  },
  {
   "cell_type": "markdown",
   "metadata": {},
   "source": [
    "This notebook examines strand exchange that might happen during PCR or SMRTbell library preparation. We do so by looking at mixin of wildtype and synonymous viral tags in pacbio CCSs. "
   ]
  },
  {
   "cell_type": "code",
   "execution_count": null,
   "metadata": {},
   "outputs": [],
   "source": [
    "from alignparse.constants import CBPALETTE\n",
    "\n",
    "import numpy as np\n",
    "\n",
    "import pandas as pd\n",
    "\n",
    "import plotnine as p9\n",
    "\n",
    "import yaml"
   ]
  },
  {
   "cell_type": "markdown",
   "metadata": {},
   "source": [
    "Import snakemake variables."
   ]
  },
  {
   "cell_type": "code",
   "execution_count": null,
   "metadata": {},
   "outputs": [],
   "source": [
    "viral_tags = snakemake.input.viral_tags\n",
    "mutation_df = snakemake.input.mutation_df\n",
    "plot_strand_exchange = snakemake.output.plot_strand_exchange\n",
    "mutation_and_tag_identity_df = snakemake.output.mutation_and_tag_identity_df"
   ]
  },
  {
   "cell_type": "markdown",
   "metadata": {},
   "source": [
    "Here we load viral tag yalm and alignment files."
   ]
  },
  {
   "cell_type": "code",
   "execution_count": null,
   "metadata": {},
   "outputs": [],
   "source": [
    "with open(viral_tags) as file:\n",
    "    tags = yaml.load(file, Loader=yaml.FullLoader)"
   ]
  },
  {
   "cell_type": "markdown",
   "metadata": {},
   "source": [
    "Now we load ccs alignment dataframe with information about tag identities"
   ]
  },
  {
   "cell_type": "code",
   "execution_count": null,
   "metadata": {},
   "outputs": [],
   "source": [
    "alignments = pd.read_csv(mutation_df, compression='gzip', low_memory=False)"
   ]
  },
  {
   "cell_type": "markdown",
   "metadata": {},
   "source": [
    "Here we only select columns with information about the ccs, gene, transcript and tag variant identities."
   ]
  },
  {
   "cell_type": "code",
   "execution_count": null,
   "metadata": {},
   "outputs": [],
   "source": [
    "filter_col_sequence = [col for col in alignments\n",
    "                       if col.startswith('variant_tag')\n",
    "                       and col.endswith('_sequence')]\n",
    "\n",
    "df1 = alignments[['query_name', 'gene', 'transcript']]\n",
    "df2 = alignments[filter_col_sequence]\n",
    "alignments_tags = pd.concat([df1, df2], axis=1, sort=False)\n",
    "\n",
    "alignments_tags.head()"
   ]
  },
  {
   "cell_type": "markdown",
   "metadata": {},
   "source": [
    "Now we will melt our alignment dataframe."
   ]
  },
  {
   "cell_type": "code",
   "execution_count": null,
   "metadata": {},
   "outputs": [],
   "source": [
    "alignments_melt = pd.melt(alignments_tags,\n",
    "                          id_vars=['query_name', 'gene', 'transcript'],\n",
    "                          value_vars=filter_col_sequence,\n",
    "                          var_name='tag_number',\n",
    "                          value_name='tag_identity')\n",
    "\n",
    "alignments_melt.head()"
   ]
  },
  {
   "cell_type": "markdown",
   "metadata": {},
   "source": [
    "Here we have to rename `variant` to `viral` and remove `_sequence` the end of `tag_number` column becasue the tag yalm file has different naming. "
   ]
  },
  {
   "cell_type": "code",
   "execution_count": null,
   "metadata": {},
   "outputs": [],
   "source": [
    "alignments_melt['tag_number'] = (alignments_melt['tag_number']\n",
    "                                 .map(lambda x: x.replace('_sequence', '')))\n",
    "alignments_melt['tag_number'] = (alignments_melt['tag_number']\n",
    "                                 .str.replace('variant', \"viral\"))\n",
    "alignments_melt.head()"
   ]
  },
  {
   "cell_type": "markdown",
   "metadata": {},
   "source": [
    "Now convert tag dictionary into pandas df."
   ]
  },
  {
   "cell_type": "code",
   "execution_count": null,
   "metadata": {},
   "outputs": [],
   "source": [
    "tag_df = pd.DataFrame.from_dict({(i, j): tags[i][j]\n",
    "                                 for i in tags.keys()\n",
    "                                 for j in tags[i].keys()},\n",
    "                                orient='index')\n",
    "tag_df.reset_index(inplace=True)\n",
    "tag_df = tag_df.rename(columns={'level_0': 'gene', 'level_1': 'tag_number'})\n",
    "tag_df.head()"
   ]
  },
  {
   "cell_type": "markdown",
   "metadata": {},
   "source": [
    "We can now merge tag and alignment files by `gene` and `tag_number` columns."
   ]
  },
  {
   "cell_type": "code",
   "execution_count": null,
   "metadata": {},
   "outputs": [],
   "source": [
    "tags_merged = pd.merge(alignments_melt, tag_df,\n",
    "                       how='right', left_on=['gene', 'tag_number'],\n",
    "                       right_on=['gene', 'tag_number'])\n",
    "tags_merged.head()"
   ]
  },
  {
   "cell_type": "markdown",
   "metadata": {},
   "source": [
    "After merging cells with `NaN` in `tag_identity` indicate missing tags in CCSs, I'm going to rename those as `missing`"
   ]
  },
  {
   "cell_type": "code",
   "execution_count": null,
   "metadata": {},
   "outputs": [],
   "source": [
    "tags_merged['tag_identity'] = (tags_merged['tag_identity']\n",
    "                               .fillna(value='missing'))"
   ]
  },
  {
   "cell_type": "code",
   "execution_count": null,
   "metadata": {
    "scrolled": true
   },
   "outputs": [],
   "source": [
    "# create a list of our conditions\n",
    "conditions = [\n",
    "    (tags_merged['tag_identity'] == tags_merged['syn']),\n",
    "    (tags_merged['tag_identity'] == tags_merged['wt']),\n",
    "    (tags_merged['tag_identity'] == 'missing'),\n",
    "    ((tags_merged['tag_identity'] != tags_merged['syn'])\n",
    "     & (tags_merged['tag_identity'] != tags_merged['wt']))\n",
    "    ]\n",
    "\n",
    "# create a list of the values we want to assign for each condition\n",
    "values = ['syn', 'wt', 'missing', 'unknown tag']\n",
    "\n",
    "# create a new column and use np.select to assign values to it\n",
    "tags_merged['tag_variant'] = np.select(conditions, values)\n",
    "\n",
    "# display updated DataFrame\n",
    "tags_merged.head()"
   ]
  },
  {
   "cell_type": "markdown",
   "metadata": {},
   "source": [
    "Now we define `classify_func` that we will use to classify what tags are present in a ccs"
   ]
  },
  {
   "cell_type": "code",
   "execution_count": null,
   "metadata": {},
   "outputs": [],
   "source": [
    "# get the names of valid viral tags\n",
    "dfname_col = tag_df.drop(columns=['gene', 'tag_number'])\n",
    "valid_tags = dfname_col.columns.tolist()\n",
    "\n",
    "\n",
    "def classify_func(unique_tags):\n",
    "    \"\"\"Classify tags\"\"\"\n",
    "    unique_tags = set(unique_tags)\n",
    "    for valid_tag in valid_tags:\n",
    "        if unique_tags == {valid_tag}:\n",
    "            return valid_tag\n",
    "    if 'unknown tag' in unique_tags:\n",
    "        return 'unknown tag'\n",
    "    elif 'missing' in unique_tags:\n",
    "        return 'missing one or more tags'\n",
    "    elif unique_tags == set(valid_tags):\n",
    "        assert len(unique_tags) > 1\n",
    "        return 'chimeric tags'\n",
    "    else:\n",
    "        raise ValueError(f\"Cannot process tags {unique_tags}\")"
   ]
  },
  {
   "cell_type": "code",
   "execution_count": null,
   "metadata": {},
   "outputs": [],
   "source": [
    "strand_exchange_df = (\n",
    "    tags_merged\n",
    "    .groupby(['query_name', 'gene', 'transcript'], as_index=False)\n",
    "    .aggregate(unique_tags=pd.NamedAgg('tag_variant', 'unique'))\n",
    "    .assign(tag_status=lambda x: x['unique_tags'].map(classify_func))\n",
    "           )\n",
    "strand_exchange_df.head()"
   ]
  },
  {
   "cell_type": "markdown",
   "metadata": {},
   "source": [
    "Here we count the types of tags present in ccs"
   ]
  },
  {
   "cell_type": "code",
   "execution_count": null,
   "metadata": {},
   "outputs": [],
   "source": [
    "tag_in_css_df = (\n",
    "    strand_exchange_df\n",
    "    .drop(columns=['unique_tags'])\n",
    "    .groupby(['transcript', 'tag_status'])\n",
    "    .count()\n",
    "    .sort_values(by='transcript', ascending=False)\n",
    "    .reset_index()\n",
    "    )\n",
    "tag_in_css_df.head()"
   ]
  },
  {
   "cell_type": "code",
   "execution_count": null,
   "metadata": {},
   "outputs": [],
   "source": [
    "p = (\n",
    "    p9.ggplot(tag_in_css_df,\n",
    "              p9.aes('transcript', 'query_name', fill='tag_status'))\n",
    "    + p9.geom_bar(stat='identity')\n",
    "    + p9.theme(axis_text_x=p9.element_text(angle=90),\n",
    "               panel_grid_major_x=p9.element_blank()\n",
    "               )\n",
    "    + p9.scale_fill_manual(values=CBPALETTE)\n",
    "    + p9.xlab('flu gene')\n",
    "    + p9.ylab('ccs count')\n",
    "    + p9.theme(axis_text_x=p9.element_text(angle=90, hjust=0.5))\n",
    "\n",
    ")\n",
    "_ = p.draw()\n",
    "\n",
    "p9.ggsave(plot=p, filename=plot_strand_exchange, verbose=False)"
   ]
  },
  {
   "cell_type": "code",
   "execution_count": null,
   "metadata": {},
   "outputs": [],
   "source": [
    "chimera_stats = (\n",
    "    strand_exchange_df\n",
    "    .assign(number=1)\n",
    "    .groupby(['tag_status'])\n",
    "    .agg({'tag_status': 'count'})\n",
    "    .assign(fraction=lambda x: x.tag_status / x.tag_status.sum())\n",
    "    )\n",
    "chimera_stats"
   ]
  },
  {
   "cell_type": "markdown",
   "metadata": {},
   "source": [
    "Finaly we will add the `tag_status` to the alignment dataframe and save it"
   ]
  },
  {
   "cell_type": "code",
   "execution_count": null,
   "metadata": {},
   "outputs": [],
   "source": [
    "assert set(alignments['query_name']) == set(strand_exchange_df['query_name'])\n",
    "\n",
    "merged_df = pd.merge(alignments,\n",
    "                     strand_exchange_df[['query_name',\n",
    "                                         'tag_status']],\n",
    "                     how='left',\n",
    "                     on=['query_name'],\n",
    "                     validate='one_to_one')\n",
    "\n",
    "merged_df.to_csv(mutation_and_tag_identity_df,\n",
    "                 index=False, compression='gzip')"
   ]
  },
  {
   "cell_type": "code",
   "execution_count": null,
   "metadata": {},
   "outputs": [],
   "source": []
  }
 ],
 "metadata": {
  "kernelspec": {
   "display_name": "Python 3",
   "language": "python",
   "name": "python3"
  },
  "language_info": {
   "codemirror_mode": {
    "name": "ipython",
    "version": 3
   },
   "file_extension": ".py",
   "mimetype": "text/x-python",
   "name": "python",
   "nbconvert_exporter": "python",
   "pygments_lexer": "ipython3",
   "version": "3.8.5"
  }
 },
 "nbformat": 4,
 "nbformat_minor": 4
}
