{
 "cells": [
  {
   "cell_type": "markdown",
   "metadata": {},
   "source": [
    "# Extract viral barcodes from aligned 10x transcriptomic data\n",
    "This Python Jupyter notebook uses the aligned 10x transcriptomic data to tally viral barcodes for each 10x cell barcode and UMI.\n",
    "It does this only for the **valid** cell barcodes, and uses the error-corrected cell barcodes and UMIs reported in the BAM file created by `STARsolo`.\n",
    "\n",
    "Import Python modules:"
   ]
  },
  {
   "cell_type": "code",
   "execution_count": null,
   "metadata": {},
   "outputs": [],
   "source": [
    "import pandas as pd\n",
    "\n",
    "from pymodules.tags_and_barcodes import extract_tags\n",
    "\n",
    "import pysam"
   ]
  },
  {
   "cell_type": "markdown",
   "metadata": {},
   "source": [
    "Get `snakemake` variables [as described here](https://snakemake.readthedocs.io/en/stable/snakefiles/rules.html#jupyter-notebook-integration):"
   ]
  },
  {
   "cell_type": "code",
   "execution_count": null,
   "metadata": {},
   "outputs": [],
   "source": [
    "bam = snakemake.input.bam\n",
    "bai = snakemake.input.bai\n",
    "cell_barcodes = snakemake.input.cell_barcodes\n",
    "viral_bc_locs = snakemake.input.viral_bc_locs\n",
    "viral_barcodes_csv = snakemake.output.viral_barcodes_csv\n",
    "expt = snakemake.wildcards.expt"
   ]
  },
  {
   "cell_type": "markdown",
   "metadata": {},
   "source": [
    "Read the viral tag locations:"
   ]
  },
  {
   "cell_type": "code",
   "execution_count": null,
   "metadata": {},
   "outputs": [],
   "source": [
    "print(f\"Reading viral tag locations from {viral_bc_locs}\")\n",
    "bc_locs_df = pd.read_csv(viral_bc_locs)\n",
    "display(bc_locs_df)\n",
    "\n",
    "if len(bc_locs_df) != bc_locs_df['gene'].nunique():\n",
    "    raise ValueError('code assumes at most one barcode per gene')"
   ]
  },
  {
   "cell_type": "markdown",
   "metadata": {},
   "source": [
    "Get set of valid cell barcodes"
   ]
  },
  {
   "cell_type": "code",
   "execution_count": null,
   "metadata": {},
   "outputs": [],
   "source": [
    "print(f\"Reading valid cell barcodes from {cell_barcodes}\")\n",
    "cell_barcode_set = set(pd.read_csv(cell_barcodes, header=None)[0])\n",
    "print(f\"Read {len(cell_barcode_set)} valid barcodes.\")"
   ]
  },
  {
   "cell_type": "markdown",
   "metadata": {},
   "source": [
    "Now we get the viral barcodes.\n",
    "Specifically, parse the BAM file, and for each read mapping to a viral gene with a valid cell barcode and UMI, we see if we can determine the viral barcode identity.\n",
    "The barcodes are grouped by UMI, gene, and cell barcode, and the barcode is labeled as `ambiguous` if no tag identities compose more than 50% of the reads for a UMI / gene in a cell."
   ]
  },
  {
   "cell_type": "code",
   "execution_count": null,
   "metadata": {},
   "outputs": [],
   "source": [
    "print(f\"Parsing viral barcodes from {bam} (index {bai}):\\n\")\n",
    "\n",
    "bcs_by_umi = pd.DataFrame({}, columns=['gene', 'cell_barcode', 'UMI', 'viral_barcode'])\n",
    "\n",
    "with pysam.AlignmentFile(bam, index_filename=bai) as bamfile:\n",
    "    for tup in bc_locs_df.itertuples():\n",
    "        print(f\"Parsing viral barcodes for {tup.gene}... \", sep='')\n",
    "        readiterator = bamfile.fetch(contig=tup.gene,\n",
    "                                     start=tup.start - 1,  # convert 1- to 0-based indexing\n",
    "                                     end=tup.end,\n",
    "                                     )\n",
    "        gene_bcs_by_umi = (\n",
    "                        extract_tags(readiterator, cell_barcode_set, tup.start - 1, tup.end)\n",
    "                        .rename(columns={'tag': 'viral_barcode'})\n",
    "                        [['cell_barcode', 'UMI', 'viral_barcode']]\n",
    "                        )\n",
    "        print(f\"parsed viral barcodes {len(gene_bcs_by_umi)} UMIs.\")\n",
    "        bcs_by_umi = bcs_by_umi.append(gene_bcs_by_umi.assign(gene=tup.gene))\n",
    "    \n",
    "if len(bcs_by_umi) != len(bcs_by_umi\n",
    "                          [['gene', 'cell_barcode', 'UMI']]\n",
    "                          .drop_duplicates()\n",
    "                          ):\n",
    "    raise ValueError('not unique viral barcodes for each gene / cell / UMI')"
   ]
  },
  {
   "cell_type": "markdown",
   "metadata": {},
   "source": [
    "Write the viral barcodes to the output CSV file:"
   ]
  },
  {
   "cell_type": "code",
   "execution_count": null,
   "metadata": {},
   "outputs": [],
   "source": [
    "print(f\"Writing viral barcodes to {viral_barcodes_csv}\")\n",
    "\n",
    "bcs_by_umi.to_csv(viral_barcodes_csv,\n",
    "                  index=False,\n",
    "                  compression='gzip')"
   ]
  }
 ],
 "metadata": {
  "kernelspec": {
   "display_name": "Python 3",
   "language": "python",
   "name": "python3"
  },
  "language_info": {
   "codemirror_mode": {
    "name": "ipython",
    "version": 3
   },
   "file_extension": ".py",
   "mimetype": "text/x-python",
   "name": "python",
   "nbconvert_exporter": "python",
   "pygments_lexer": "ipython3",
   "version": "3.8.6"
  }
 },
 "nbformat": 4,
 "nbformat_minor": 4
}
