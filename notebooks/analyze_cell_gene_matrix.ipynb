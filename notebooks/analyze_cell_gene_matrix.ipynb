{
 "cells": [
  {
   "cell_type": "markdown",
   "metadata": {
    "tags": [
     "parameters"
    ]
   },
   "source": [
    "# Analyze cell-gene matrix\n",
    "This Python Jupyter notebook processes the cell-gene matrix for basic purposes such as removing doublets and examining the amount of viral products per cell."
   ]
  },
  {
   "cell_type": "markdown",
   "metadata": {},
   "source": [
    "\n",
    "## Parameters\n",
    "First, set the parameters for the notebook, such as to specify the input files and output plots.\n",
    "This is done in the next cell, which is tagged as a `parameters` cell to enable [papermill parameterization](https://papermill.readthedocs.io/en/latest/usage-parameterize.html):"
   ]
  },
  {
   "cell_type": "code",
   "execution_count": null,
   "metadata": {
    "tags": [
     "parameters"
    ]
   },
   "outputs": [],
   "source": [
    "# parameters cell; in order for notebook to run this cell must define:\n",
    "#  - input_matrix: filtered gene-barcode matrix from `STARsolo`\n",
    "#  - input_features: list of features (genes) from `STARsolo`\n",
    "#  - input_barcodes: list of cell barcodes from `STARsolo`\n",
    "#  - input_viral_gtf: GTF file giving names of viral genes"
   ]
  },
  {
   "cell_type": "markdown",
   "metadata": {},
   "source": [
    "## Import Python modules\n",
    "We use [anndata](https://anndata.readthedocs.io/) and [scanpy](https://scanpy.readthedocs.io/) for most the data processing, and [plotnine](https://plotnine.readthedocs.io/) for ggplot2-style plotting:"
   ]
  },
  {
   "cell_type": "code",
   "execution_count": null,
   "metadata": {},
   "outputs": [],
   "source": [
    "import os\n",
    "\n",
    "import anndata\n",
    "import BCBio.GFF\n",
    "from IPython.display import display, HTML\n",
    "import numpy\n",
    "import pandas as pd\n",
    "from plotnine import *\n",
    "import scanpy as sc"
   ]
  },
  {
   "cell_type": "markdown",
   "metadata": {},
   "source": [
    "Set [scanpy](https://scanpy.readthedocs.io/) to provide lots of information including hints:"
   ]
  },
  {
   "cell_type": "code",
   "execution_count": null,
   "metadata": {},
   "outputs": [],
   "source": [
    "sc.settings.verbosity = 3  # verbosity: errors (0), warnings (1), info (2), hints (3)"
   ]
  },
  {
   "cell_type": "markdown",
   "metadata": {},
   "source": [
    "Versions of key [scanpy](https://scanpy.readthedocs.io/) packages:"
   ]
  },
  {
   "cell_type": "code",
   "execution_count": null,
   "metadata": {},
   "outputs": [],
   "source": [
    "sc.logging.print_versions()"
   ]
  },
  {
   "cell_type": "markdown",
   "metadata": {},
   "source": [
    "Color-blind palette:"
   ]
  },
  {
   "cell_type": "code",
   "execution_count": null,
   "metadata": {},
   "outputs": [],
   "source": [
    "cbpalette = ('#999999', '#E69F00', '#56B4E9', '#009E73',\n",
    "             '#F0E442', '#0072B2', '#D55E00', '#CC79A7')"
   ]
  },
  {
   "cell_type": "markdown",
   "metadata": {},
   "source": [
    "Set [plotnine theme](https://plotnine.readthedocs.io/en/stable/api.html#themes):"
   ]
  },
  {
   "cell_type": "code",
   "execution_count": null,
   "metadata": {},
   "outputs": [],
   "source": [
    "_ = theme_set(theme_classic)"
   ]
  },
  {
   "cell_type": "markdown",
   "metadata": {},
   "source": [
    "## Read the cell-gene matrix\n",
    "Read the cell-gene matrix into an [AnnData](https://anndata.readthedocs.io/) annotated data object.\n",
    "We can't _quite_ use the [scanpy read_10x_mtx](https://icb-scanpy.readthedocs-hosted.com/en/stable/api/scanpy.api.read_10x_mtx.html) function as the `STARsolo` output isn't in quite the write format, so instead we write our own code that accomplishes the same:"
   ]
  },
  {
   "cell_type": "code",
   "execution_count": null,
   "metadata": {},
   "outputs": [],
   "source": [
    "print(f\"Reading cell-gene matrix from {input_matrix}\")\n",
    "adata = anndata.read_mtx(input_matrix).T\n",
    "\n",
    "print(f\"Reading features (genes) from {input_features}\")\n",
    "genes = pd.read_csv(input_features, header=None, sep='\\t')\n",
    "adata.var_names = (anndata.utils.make_index_unique(pd.Index(genes[1]))\n",
    "                   .rename('gene_symbols')\n",
    "                   )\n",
    "adata.var['gene_ids'] = genes[0].values\n",
    "\n",
    "print(f\"Reading barcodes (cells) from {input_barcodes}\")\n",
    "cells = pd.read_csv(input_barcodes, header=None, sep='\\t')[0]\n",
    "adata.obs_names = cells.rename('cell_barcodes')\n",
    "\n",
    "print(f\"\\nInfo on created annotated data object:\\n{adata}\")"
   ]
  },
  {
   "cell_type": "markdown",
   "metadata": {},
   "source": [
    "## Basic analysis of total and viral UMIs per cell"
   ]
  },
  {
   "cell_type": "markdown",
   "metadata": {},
   "source": [
    "### Total UMIs per cell\n",
    "Annotate and plot total UMIs per cell:"
   ]
  },
  {
   "cell_type": "code",
   "execution_count": null,
   "metadata": {},
   "outputs": [],
   "source": [
    "adata.obs['total_UMIs'] = numpy.sum(adata.X, axis=1).A1\n",
    "\n",
    "p = (ggplot(adata.obs, aes('total_UMIs')) +\n",
    "     geom_histogram(bins=50) +\n",
    "     theme(figure_size=(3, 1.8)) +\n",
    "     xlab('total UMIs per cell') +\n",
    "     ylab('number of cells')\n",
    "     )\n",
    "_ = p.draw()"
   ]
  },
  {
   "cell_type": "markdown",
   "metadata": {},
   "source": [
    "### Viral UMIs per cell\n",
    "First get the viral transcripts:"
   ]
  },
  {
   "cell_type": "code",
   "execution_count": null,
   "metadata": {},
   "outputs": [],
   "source": [
    "print(f\"Reading names of viral transcripts from {input_viral_gtf}\")\n",
    "with open(input_viral_gtf) as f:\n",
    "    viral_genes = [seqrecord.id for seqrecord in BCBio.GFF.parse(f)]\n",
    "    \n",
    "print('The viral transcripts are as follows:\\n\\t' + '\\n\\t'.join(viral_genes))\n",
    "\n",
    "assert set(viral_genes) <= set(adata.var_names), \"missing some viral genes\""
   ]
  },
  {
   "cell_type": "markdown",
   "metadata": {},
   "source": [
    "Now annotate and plot total viral UMIs per cell:"
   ]
  },
  {
   "cell_type": "code",
   "execution_count": null,
   "metadata": {},
   "outputs": [],
   "source": [
    "adata.obs['viral_UMIs'] = numpy.sum(adata[:, viral_genes].X, axis=1).A1\n",
    "\n",
    "p = (ggplot(adata.obs, aes('viral_UMIs')) +\n",
    "     geom_histogram(bins=50) +\n",
    "     theme(figure_size=(3, 1.8)) +\n",
    "     xlab('viral UMIs per cell') +\n",
    "     ylab('number of cells')\n",
    "     )\n",
    "_ = p.draw()"
   ]
  },
  {
   "cell_type": "markdown",
   "metadata": {},
   "source": [
    "Also annotate total cellular (non viral) UMIs per cell:"
   ]
  },
  {
   "cell_type": "code",
   "execution_count": null,
   "metadata": {},
   "outputs": [],
   "source": [
    "adata.obs['cellular_UMIs'] = adata.obs['total_UMIs'] - adata.obs['viral_UMIs']"
   ]
  },
  {
   "cell_type": "markdown",
   "metadata": {},
   "source": [
    "And annotate the fraction of UMIs that are viral:"
   ]
  },
  {
   "cell_type": "code",
   "execution_count": null,
   "metadata": {},
   "outputs": [],
   "source": [
    "adata.obs['viral_UMI_frac'] = adata.obs['viral_UMIs'] / adata.obs['total_UMIs']"
   ]
  },
  {
   "cell_type": "markdown",
   "metadata": {},
   "source": [
    "### Correlation between viral and total/cellular UMIs\n",
    "Below calculate the correlation between the viral and total and cellular mRNAs:"
   ]
  },
  {
   "cell_type": "code",
   "execution_count": null,
   "metadata": {},
   "outputs": [],
   "source": [
    "for x in ['total_UMIs', 'cellular_UMIs']:\n",
    "    \n",
    "    corr = adata.obs[x].corr(adata.obs['viral_UMIs'], method='pearson')\n",
    "    \n",
    "    p = (ggplot(adata.obs, aes(x, 'viral_UMIs')) +\n",
    "         geom_point(alpha=0.15) +\n",
    "         theme(figure_size=(2.2, 2.2)) +\n",
    "         xlab(x.replace('_', ' ')) +\n",
    "         ylab('viral UMIs') +\n",
    "         ggtitle(f\"Correlation: {corr:.2f}\")\n",
    "         )\n",
    "    _ = p.draw()"
   ]
  },
  {
   "cell_type": "markdown",
   "metadata": {},
   "source": [
    "### Filter cells on total cellular UMIs\n",
    "We filter cells that have unusually low or high number of UMIs.\n",
    "We mark as `filtered` cells that fail the filter:"
   ]
  },
  {
   "cell_type": "code",
   "execution_count": null,
   "metadata": {},
   "outputs": [],
   "source": [
    "mean_cell_UMIs = adata.obs['cellular_UMIs'].mean()\n",
    "limits = (mean_cell_UMIs / 2.5, mean_cell_UMIs * 2.5)\n",
    "\n",
    "print(f\"Average of {mean_cell_UMIs:.1f} cellular UMIs / cell.\\nMarking as \"\n",
    "      f\"filtered if <{limits[0]:.1f} or >{limits[1]:.1f} cellular UMIs.\")\n",
    "\n",
    "adata.obs = (\n",
    "    adata.obs\n",
    "    .assign(filtered=lambda x: ((x['cellular_UMIs'] < limits[0]) |\n",
    "                                (x['cellular_UMIs'] > limits[1])),\n",
    "            filtered_desc=lambda x: numpy.where(x['filtered'] != True, 'retained',\n",
    "                                    numpy.where(x['cellular_UMIs'] < limits[0],\n",
    "                                    'too few cellular UMIs', 'too many cellular UMIs')),\n",
    "            )\n",
    "    )"
   ]
  },
  {
   "cell_type": "markdown",
   "metadata": {},
   "source": [
    "Plot cellular and viral mRNAs in filtered versus retained cells"
   ]
  },
  {
   "cell_type": "code",
   "execution_count": null,
   "metadata": {},
   "outputs": [],
   "source": [
    "p = (ggplot(\n",
    "        adata.obs.assign(ncells=lambda x: x.groupby('filtered_desc')\n",
    "                                           ['filtered']\n",
    "                                           .transform('count'),\n",
    "                         cell_group=lambda x: x['filtered_desc'] + ' (' + \n",
    "                                              x['ncells'].astype(str) + ' cells)'\n",
    "                         ),\n",
    "        aes('cellular_UMIs', 'viral_UMIs', color='cell_group')) +\n",
    "     geom_point(alpha=0.15) +\n",
    "     theme(figure_size=(2.2, 2.2),\n",
    "           legend_title=element_blank()) +\n",
    "     xlab('cellular UMIs') +\n",
    "     ylab('viral UMIs') +\n",
    "     scale_color_manual(values=cbpalette[1:]) +\n",
    "     guides(color=guide_legend(override_aes={'alpha': 1}))\n",
    "     )\n",
    "_ = p.draw()"
   ]
  },
  {
   "cell_type": "markdown",
   "metadata": {},
   "source": [
    "From here on out, we will restrict analyses to the non-filtered cells:"
   ]
  },
  {
   "cell_type": "markdown",
   "metadata": {},
   "source": [
    "### Fraction of UMIs derived from virus\n",
    "Make a basic plot of the fraction of UMIs derived from virus:"
   ]
  },
  {
   "cell_type": "code",
   "execution_count": null,
   "metadata": {},
   "outputs": [],
   "source": [
    "p = (ggplot(adata.obs.query('not filtered'), aes('viral_UMI_frac')) +\n",
    "     geom_histogram(bins=50) +\n",
    "     theme(figure_size=(3, 1.8)) +\n",
    "     xlab('fraction of UMIs from virus') +\n",
    "     ylab('number of cells')\n",
    "     )\n",
    "_ = p.draw()"
   ]
  },
  {
   "cell_type": "markdown",
   "metadata": {},
   "source": [
    "Make the same plot filtering on cells with at least 1% of their UMIs from virus.\n",
    "Note that we haven't yet established a rigorous cutoff for which cells are truly infected, but filtering for at least 1% of UMIs from virus probably gets rid of most uninfected cells:"
   ]
  },
  {
   "cell_type": "code",
   "execution_count": null,
   "metadata": {},
   "outputs": [],
   "source": [
    "p = (ggplot(adata.obs.query('(not filtered) & (viral_UMI_frac > 0.01)'), \n",
    "            aes('viral_UMI_frac')) +\n",
    "     geom_histogram(bins=50) +\n",
    "     theme(figure_size=(3, 1.8)) +\n",
    "     xlab('fraction of UMIs from virus') +\n",
    "     ylab('number of cells')\n",
    "     )\n",
    "_ = p.draw()"
   ]
  },
  {
   "cell_type": "markdown",
   "metadata": {},
   "source": [
    "### "
   ]
  }
 ],
 "metadata": {
  "kernelspec": {
   "display_name": "Python 3",
   "language": "python",
   "name": "python3"
  },
  "language_info": {
   "codemirror_mode": {
    "name": "ipython",
    "version": 3
   },
   "file_extension": ".py",
   "mimetype": "text/x-python",
   "name": "python",
   "nbconvert_exporter": "python",
   "pygments_lexer": "ipython3",
   "version": "3.6.7"
  }
 },
 "nbformat": 4,
 "nbformat_minor": 4
}
