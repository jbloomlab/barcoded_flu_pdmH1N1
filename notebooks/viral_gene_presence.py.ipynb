{
 "cells": [
  {
   "cell_type": "markdown",
   "metadata": {},
   "source": [
    "# Viral gene presence\n",
    "This notebook calls the presence or absence of each viral gene in each cell."
   ]
  },
  {
   "cell_type": "markdown",
   "metadata": {},
   "source": [
    "Python imports:"
   ]
  },
  {
   "cell_type": "code",
   "execution_count": null,
   "metadata": {
    "execution": {
     "iopub.execute_input": "2021-11-19T19:44:15.465923Z",
     "iopub.status.busy": "2021-11-19T19:44:15.464946Z",
     "iopub.status.idle": "2021-11-19T19:44:21.407687Z",
     "shell.execute_reply": "2021-11-19T19:44:21.408331Z"
    }
   },
   "outputs": [],
   "source": [
    "from IPython.display import display\n",
    "\n",
    "from dms_variants.constants import CBPALETTE\n",
    "\n",
    "import numpy\n",
    "\n",
    "import pandas as pd\n",
    "\n",
    "import plotnine as p9\n",
    "\n",
    "import scanpy\n",
    "\n",
    "import scipy\n",
    "\n",
    "import statsmodels.stats.multitest"
   ]
  },
  {
   "cell_type": "markdown",
   "metadata": {},
   "source": [
    "Input data paths from snakemake."
   ]
  },
  {
   "cell_type": "code",
   "execution_count": null,
   "metadata": {
    "execution": {
     "iopub.execute_input": "2021-11-19T19:44:21.411431Z",
     "iopub.status.busy": "2021-11-19T19:44:21.410598Z",
     "iopub.status.idle": "2021-11-19T19:44:21.414806Z",
     "shell.execute_reply": "2021-11-19T19:44:21.415309Z"
    }
   },
   "outputs": [],
   "source": [
    "matrix = snakemake.input.matrix\n",
    "cell_barcodes = snakemake.input.cell_barcodes\n",
    "features = snakemake.input.features\n",
    "cell_annotations_csv = snakemake.input.cell_annotations\n",
    "viral_genes_by_cell_csv = snakemake.output.viral_genes_by_cell_csv\n",
    "viral_genes = snakemake.params.viral_genes\n",
    "barcoded_viral_genes = snakemake.params.barcoded_viral_genes\n",
    "plot = snakemake.output.plot\n",
    "expt = snakemake.wildcards.expt"
   ]
  },
  {
   "cell_type": "markdown",
   "metadata": {},
   "source": [
    "Global variables for this notebook:"
   ]
  },
  {
   "cell_type": "markdown",
   "metadata": {},
   "source": [
    "Style parameters. *N.b.* `CBPALETTE` is defined in imports above."
   ]
  },
  {
   "cell_type": "code",
   "execution_count": null,
   "metadata": {
    "execution": {
     "iopub.execute_input": "2021-11-19T19:44:21.417885Z",
     "iopub.status.busy": "2021-11-19T19:44:21.417093Z",
     "iopub.status.idle": "2021-11-19T19:44:21.421738Z",
     "shell.execute_reply": "2021-11-19T19:44:21.422246Z"
    }
   },
   "outputs": [],
   "source": [
    "p9.theme_set(p9.theme_classic())\n",
    "CBPALETTE_rich = ['#D81B60', '#1E88E5', '#FFC107', '#004D40']"
   ]
  },
  {
   "cell_type": "markdown",
   "metadata": {},
   "source": [
    "### Load data\n",
    "Cell infection status and tag labels:"
   ]
  },
  {
   "cell_type": "code",
   "execution_count": null,
   "metadata": {
    "execution": {
     "iopub.execute_input": "2021-11-19T19:44:21.425019Z",
     "iopub.status.busy": "2021-11-19T19:44:21.424157Z",
     "iopub.status.idle": "2021-11-19T19:44:21.455116Z",
     "shell.execute_reply": "2021-11-19T19:44:21.455627Z"
    }
   },
   "outputs": [],
   "source": [
    "cell_annotations = pd.read_csv(cell_annotations_csv)\n",
    "cell_annotations = cell_annotations[['cell_barcode',\n",
    "                                       'infected',\n",
    "                                       'infecting_viral_tag',\n",
    "                                       'total_UMIs',\n",
    "                                       'viral_UMIs',\n",
    "                                       'frac_viral_UMIs']]\n",
    "display(cell_annotations)"
   ]
  },
  {
   "cell_type": "markdown",
   "metadata": {},
   "source": [
    "Cell-gene matrix:"
   ]
  },
  {
   "cell_type": "code",
   "execution_count": null,
   "metadata": {
    "execution": {
     "iopub.execute_input": "2021-11-19T19:44:21.458186Z",
     "iopub.status.busy": "2021-11-19T19:44:21.457379Z",
     "iopub.status.idle": "2021-11-19T19:44:54.107319Z",
     "shell.execute_reply": "2021-11-19T19:44:54.107805Z"
    }
   },
   "outputs": [],
   "source": [
    "adata = scanpy.read_mtx(matrix)\n",
    "adata.var = pd.read_csv(cell_barcodes,\n",
    "                        names=['cell_barcode'])\n",
    "adata.obs = pd.read_csv(features,\n",
    "                        sep='\\t',\n",
    "                        names=['ensemble_id', 'gene', 'feature_type'])\n",
    "\n",
    "print(f\"Read cell-gene matrix of {adata.n_vars} cells and {adata.n_obs} genes\")\n",
    "\n",
    "assert set(viral_genes).issubset(set(adata.obs['gene'])), 'lack viral genes'"
   ]
  },
  {
   "cell_type": "markdown",
   "metadata": {},
   "source": [
    "#### Viral genes in each cell\n",
    "Extract the UMI counts for each viral gene in each cell from `adata.obs`"
   ]
  },
  {
   "cell_type": "code",
   "execution_count": null,
   "metadata": {
    "execution": {
     "iopub.execute_input": "2021-11-19T19:44:54.110560Z",
     "iopub.status.busy": "2021-11-19T19:44:54.109798Z",
     "iopub.status.idle": "2021-11-19T19:44:54.147006Z",
     "shell.execute_reply": "2021-11-19T19:44:54.147475Z"
    }
   },
   "outputs": [],
   "source": [
    "#### Viral genes in each cell\n",
    "viral_gene_expression = (\n",
    "    adata.var\n",
    "    .assign(fluPB2=numpy.sum(adata[adata.obs['gene'] == 'fluPB2', ]\n",
    "                             .X, axis=0).A1.astype(int),\n",
    "            fluPB1=numpy.sum(adata[adata.obs['gene'] == 'fluPB1', ]\n",
    "                             .X, axis=0).A1.astype(int),\n",
    "            fluPA=numpy.sum(adata[adata.obs['gene'] == 'fluPA', ]\n",
    "                             .X, axis=0).A1.astype(int),\n",
    "            fluHA=numpy.sum(adata[adata.obs['gene'] == 'fluHA', ]\n",
    "                             .X, axis=0).A1.astype(int),\n",
    "            fluNP=numpy.sum(adata[adata.obs['gene'] == 'fluNP', ]\n",
    "                             .X, axis=0).A1.astype(int),\n",
    "            fluNA=numpy.sum(adata[adata.obs['gene'] == 'fluNA', ]\n",
    "                             .X, axis=0).A1.astype(int),\n",
    "            fluM=numpy.sum(adata[adata.obs['gene'] == 'fluM', ]\n",
    "                             .X, axis=0).A1.astype(int),\n",
    "            fluNS=numpy.sum(adata[adata.obs['gene'] == 'fluNS', ]\n",
    "                             .X, axis=0).A1.astype(int),\n",
    "           )\n",
    ")\n",
    "\n",
    "viral_gene_expression"
   ]
  },
  {
   "cell_type": "markdown",
   "metadata": {},
   "source": [
    "Merge in infection/infecting viral tag information:"
   ]
  },
  {
   "cell_type": "code",
   "execution_count": null,
   "metadata": {
    "execution": {
     "iopub.execute_input": "2021-11-19T19:44:54.149810Z",
     "iopub.status.busy": "2021-11-19T19:44:54.149103Z",
     "iopub.status.idle": "2021-11-19T19:44:54.172156Z",
     "shell.execute_reply": "2021-11-19T19:44:54.172601Z"
    }
   },
   "outputs": [],
   "source": [
    "viral_gene_expression = pd.merge(\n",
    "    left=cell_annotations,\n",
    "    right=viral_gene_expression,\n",
    "    on=['cell_barcode'],\n",
    "    validate='one_to_one'\n",
    ")\n",
    "\n",
    "display(viral_gene_expression)"
   ]
  },
  {
   "cell_type": "markdown",
   "metadata": {},
   "source": [
    "Check that the individual viral genes sum to total viral UMIs for each cell:"
   ]
  },
  {
   "cell_type": "code",
   "execution_count": null,
   "metadata": {
    "execution": {
     "iopub.execute_input": "2021-11-19T19:44:54.174917Z",
     "iopub.status.busy": "2021-11-19T19:44:54.174203Z",
     "iopub.status.idle": "2021-11-19T19:44:54.181547Z",
     "shell.execute_reply": "2021-11-19T19:44:54.182061Z"
    }
   },
   "outputs": [],
   "source": [
    "assert (viral_gene_expression['viral_UMIs'] == (\n",
    "    viral_gene_expression['fluPB2'] +\n",
    "    viral_gene_expression['fluPB1'] +\n",
    "    viral_gene_expression['fluPA'] +\n",
    "    viral_gene_expression['fluHA'] +\n",
    "    viral_gene_expression['fluNP'] +\n",
    "    viral_gene_expression['fluNA'] +\n",
    "    viral_gene_expression['fluM'] +\n",
    "    viral_gene_expression['fluNS'])).all(), \"Genes do not add to viral total\""
   ]
  },
  {
   "cell_type": "markdown",
   "metadata": {},
   "source": [
    "Pivot the table so that gene is a column, and the UMI counts for each gene for each cell is a row"
   ]
  },
  {
   "cell_type": "code",
   "execution_count": null,
   "metadata": {
    "execution": {
     "iopub.execute_input": "2021-11-19T19:44:54.184585Z",
     "iopub.status.busy": "2021-11-19T19:44:54.183773Z",
     "iopub.status.idle": "2021-11-19T19:44:54.207223Z",
     "shell.execute_reply": "2021-11-19T19:44:54.207654Z"
    }
   },
   "outputs": [],
   "source": [
    "viral_gene_expression_long = viral_gene_expression.melt(\n",
    "    id_vars=['cell_barcode',\n",
    "             'infected',\n",
    "             'infecting_viral_tag',\n",
    "             'total_UMIs',\n",
    "             'viral_UMIs',\n",
    "             'frac_viral_UMIs'],\n",
    "    var_name='gene',\n",
    "    value_name='gene_UMIs'\n",
    ")\n",
    "\n",
    "viral_gene_expression_long['frac_gene_UMIs'] = (\n",
    "    viral_gene_expression_long['gene_UMIs'] /\n",
    "    viral_gene_expression_long['total_UMIs']\n",
    ")\n",
    "\n",
    "viral_gene_expression_long"
   ]
  },
  {
   "cell_type": "markdown",
   "metadata": {},
   "source": [
    "Check that total number of rows is = total number of cells * total number of genes:"
   ]
  },
  {
   "cell_type": "code",
   "execution_count": null,
   "metadata": {
    "execution": {
     "iopub.execute_input": "2021-11-19T19:44:54.209913Z",
     "iopub.status.busy": "2021-11-19T19:44:54.209206Z",
     "iopub.status.idle": "2021-11-19T19:44:54.213219Z",
     "shell.execute_reply": "2021-11-19T19:44:54.213724Z"
    }
   },
   "outputs": [],
   "source": [
    "assert (len(viral_gene_expression_long) ==\n",
    "        len(viral_gene_expression_long['cell_barcode'].drop_duplicates()) *\n",
    "        len(viral_genes)), \"not 8 genes listed for every cell\""
   ]
  },
  {
   "cell_type": "markdown",
   "metadata": {},
   "source": [
    "Check that the extracted gene_UMIs sum to the total viral UMIs for each cell:"
   ]
  },
  {
   "cell_type": "code",
   "execution_count": null,
   "metadata": {
    "execution": {
     "iopub.execute_input": "2021-11-19T19:44:54.216223Z",
     "iopub.status.busy": "2021-11-19T19:44:54.215413Z",
     "iopub.status.idle": "2021-11-19T19:44:54.241969Z",
     "shell.execute_reply": "2021-11-19T19:44:54.242398Z"
    }
   },
   "outputs": [],
   "source": [
    "pd.testing.assert_frame_equal(\n",
    "    (viral_gene_expression_long[['cell_barcode',\n",
    "                                 'viral_UMIs']]\n",
    "     .drop_duplicates()),\n",
    "    (viral_gene_expression_long\n",
    "     .groupby('cell_barcode')\n",
    "     ['gene_UMIs']\n",
    "     .sum()\n",
    "     .to_frame()\n",
    "     .reset_index()\n",
    "     .rename(columns={'gene_UMIs': 'viral_UMIs'})),\n",
    "    check_names=False,\n",
    "    check_index_type=False\n",
    ")"
   ]
  },
  {
   "cell_type": "markdown",
   "metadata": {},
   "source": [
    "### Analyze distributions"
   ]
  },
  {
   "cell_type": "markdown",
   "metadata": {},
   "source": [
    "Plot distribution of absolute UMI counts for each gene:"
   ]
  },
  {
   "cell_type": "code",
   "execution_count": null,
   "metadata": {
    "execution": {
     "iopub.execute_input": "2021-11-19T19:44:54.244681Z",
     "iopub.status.busy": "2021-11-19T19:44:54.243963Z",
     "iopub.status.idle": "2021-11-19T19:44:55.890111Z",
     "shell.execute_reply": "2021-11-19T19:44:55.890567Z"
    }
   },
   "outputs": [],
   "source": [
    "fig = (p9.ggplot(viral_gene_expression_long,\n",
    "                 p9.aes(x='gene_UMIs')) +\n",
    "       p9.geom_histogram(bins=20) +\n",
    "       p9.facet_grid('gene~') +\n",
    "       p9.ggtitle('viral gene expression\\n'\n",
    "                  'absolute UMI counts\\n'\n",
    "                  'per cell\\n'\n",
    "                  f'{expt}') +\n",
    "       p9.labs(x='UMIs from gene in cell',\n",
    "               y='cells') +\n",
    "       p9.scale_x_log10() +\n",
    "       p9.theme(figure_size=(4, 6),\n",
    "                plot_title=p9.element_text(size=12),\n",
    "                axis_title=p9.element_text(size=10),\n",
    "                legend_title=p9.element_text(size=10),\n",
    "                legend_title_align='center'))\n",
    "display(fig)"
   ]
  },
  {
   "cell_type": "markdown",
   "metadata": {},
   "source": [
    "Distribution of viral gene expression in infected and **uninfected** cells:\n",
    "\n",
    "**N.b.** Plot 0 values on far left of axis, 100-fold lower than lowest real value:"
   ]
  },
  {
   "cell_type": "code",
   "execution_count": null,
   "metadata": {
    "execution": {
     "iopub.execute_input": "2021-11-19T19:44:55.893318Z",
     "iopub.status.busy": "2021-11-19T19:44:55.892460Z",
     "iopub.status.idle": "2021-11-19T19:45:00.968389Z",
     "shell.execute_reply": "2021-11-19T19:45:00.968946Z"
    }
   },
   "outputs": [],
   "source": [
    "zero_pseudocount = (min(viral_gene_expression_long\n",
    "                        .query('frac_gene_UMIs > 0')\n",
    "                        ['frac_gene_UMIs']) /\n",
    "                    100)\n",
    "zero_pseudocount\n",
    "\n",
    "fig = (p9.ggplot((viral_gene_expression_long\n",
    "                  .replace(to_replace={'frac_gene_UMIs':0},\n",
    "                           value=zero_pseudocount)),\n",
    "                 p9.aes(x='frac_gene_UMIs')) +\n",
    "       p9.geom_histogram(bins=20) +\n",
    "       p9.facet_grid('infected~gene', scales='free_y') +\n",
    "       p9.ggtitle(f'viral gene expression\\n'\n",
    "                  f'per gene\\n'\n",
    "                  f'{expt}') +\n",
    "       p9.labs(x='fraction of total UMIs in cell') +\n",
    "       p9.scale_x_log10() +\n",
    "       p9.theme(figure_size=(15, 5),\n",
    "                plot_title=p9.element_text(size=12),\n",
    "                axis_title=p9.element_text(size=10),\n",
    "                legend_title=p9.element_text(size=10),\n",
    "                legend_title_align='center'))\n",
    "display(fig)"
   ]
  },
  {
   "cell_type": "markdown",
   "metadata": {},
   "source": [
    "### Call presence/absence\n",
    "Next I will extract a limit percentile value from the uninfected cells. We were very conservative in calling cells as infected (likely there are some infected cells in the population labelled \"uninfected\"). A priori, we expect most infected cells to express most viral genes. So we can be more lenient (lower percentile) in what we use as a cutoff in calling a gene present.\n",
    "\n",
    "For low expressing genes (e.g. the polymerase complex), the limit value is 0, and this threshold does not work well. For these genes, instead, **we simply call genes without any UMIs as absent, and genes with at least 1 UMI as present.**  In some previous analyses (e.g. [Russel et al. 2018](https://elifesciences.org/articles/32303)) a single transcript was used to call the presence of a gene in infected cells."
   ]
  },
  {
   "cell_type": "markdown",
   "metadata": {},
   "source": [
    "Which genes are low expression?"
   ]
  },
  {
   "cell_type": "code",
   "execution_count": null,
   "metadata": {
    "execution": {
     "iopub.execute_input": "2021-11-19T19:45:00.971817Z",
     "iopub.status.busy": "2021-11-19T19:45:00.970997Z",
     "iopub.status.idle": "2021-11-19T19:45:00.979539Z",
     "shell.execute_reply": "2021-11-19T19:45:00.979978Z"
    }
   },
   "outputs": [],
   "source": [
    "viral_gene_expression_long.groupby('gene')['gene_UMIs'].mean()"
   ]
  },
  {
   "cell_type": "code",
   "execution_count": null,
   "metadata": {
    "execution": {
     "iopub.execute_input": "2021-11-19T19:45:00.982256Z",
     "iopub.status.busy": "2021-11-19T19:45:00.981538Z",
     "iopub.status.idle": "2021-11-19T19:45:01.011682Z",
     "shell.execute_reply": "2021-11-19T19:45:01.012305Z"
    }
   },
   "outputs": [],
   "source": [
    "low_expression_genes = ['fluPB2', 'fluPB1', 'fluPA', 'fluNA']\n",
    "limit_percentile = 0.99\n",
    "limit = dict()\n",
    "\n",
    "for gene in viral_genes:\n",
    "    if gene not in low_expression_genes:\n",
    "        limit[gene] = (viral_gene_expression_long\n",
    "                       .query('(infecting_viral_tag == \"none\") '\n",
    "                              f'and (gene == \"{gene}\")')\n",
    "                       ['frac_gene_UMIs']\n",
    "                       .quantile(limit_percentile))\n",
    "\n",
    "limit = pd.DataFrame.from_dict(limit, orient='index')\n",
    "limit = limit.reset_index()\n",
    "limit = limit.rename(columns={0: 'limit_frac',\n",
    "                              'index': 'gene'})\n",
    "\n",
    "display(limit)"
   ]
  },
  {
   "cell_type": "code",
   "execution_count": null,
   "metadata": {
    "execution": {
     "iopub.execute_input": "2021-11-19T19:45:01.015512Z",
     "iopub.status.busy": "2021-11-19T19:45:01.014517Z",
     "iopub.status.idle": "2021-11-19T19:45:06.164117Z",
     "shell.execute_reply": "2021-11-19T19:45:06.164584Z"
    }
   },
   "outputs": [],
   "source": [
    "fig = (p9.ggplot((viral_gene_expression_long\n",
    "                  .replace(to_replace={'frac_gene_UMIs':0},\n",
    "                           value=zero_pseudocount)),\n",
    "                 p9.aes(x='frac_gene_UMIs')) +\n",
    "       p9.geom_histogram(bins=20) +\n",
    "       p9.geom_vline(limit,\n",
    "                     p9.aes(xintercept='limit_frac'),\n",
    "                     linetype='dashed',\n",
    "                     color='#3A3B3C',\n",
    "                     size=0.5) +\n",
    "       p9.facet_grid('infected~gene', scales='free_y') +\n",
    "       p9.ggtitle(f'viral gene expression\\n'\n",
    "                  f'per gene\\n'\n",
    "                  f'{expt}') +\n",
    "       p9.labs(x='fraction of total UMIs in cell') +\n",
    "       p9.theme(figure_size=(10, 3),\n",
    "                plot_title=p9.element_text(size=12),\n",
    "                axis_title=p9.element_text(size=10),\n",
    "                legend_title=p9.element_text(size=10),\n",
    "                legend_title_align='center') +\n",
    "       p9.scale_x_log10())\n",
    "display(fig)"
   ]
  },
  {
   "cell_type": "markdown",
   "metadata": {},
   "source": [
    "Label genes as absent if they fall below this limit."
   ]
  },
  {
   "cell_type": "code",
   "execution_count": null,
   "metadata": {
    "execution": {
     "iopub.execute_input": "2021-11-19T19:45:06.212055Z",
     "iopub.status.busy": "2021-11-19T19:45:06.211351Z",
     "iopub.status.idle": "2021-11-19T19:45:06.234081Z",
     "shell.execute_reply": "2021-11-19T19:45:06.234529Z"
    }
   },
   "outputs": [],
   "source": [
    "viral_gene_expression_long['gene_present'] = (\n",
    "    (viral_gene_expression_long['gene_UMIs'] > 0)\n",
    "    & ((viral_gene_expression_long['frac_gene_UMIs'] > \n",
    "        viral_gene_expression_long['limit_frac'])\n",
    "       | (viral_gene_expression_long['limit_frac'].isnull())))\n",
    "\n",
    "display(viral_gene_expression_long)"
   ]
  },
  {
   "cell_type": "markdown",
   "metadata": {},
   "source": [
    "### Visualize results"
   ]
  },
  {
   "cell_type": "markdown",
   "metadata": {},
   "source": [
    "Color the proportion histogram by present/absent call:"
   ]
  },
  {
   "cell_type": "code",
   "execution_count": null,
   "metadata": {
    "execution": {
     "iopub.execute_input": "2021-11-19T19:45:11.389785Z",
     "iopub.status.busy": "2021-11-19T19:45:11.389456Z",
     "iopub.status.idle": "2021-11-19T19:45:17.054623Z",
     "shell.execute_reply": "2021-11-19T19:45:17.055084Z"
    }
   },
   "outputs": [],
   "source": [
    "fig = (p9.ggplot((viral_gene_expression_long\n",
    "                  .replace(to_replace={'frac_gene_UMIs':0},\n",
    "                           value=zero_pseudocount)),\n",
    "                 p9.aes(x='frac_gene_UMIs',\n",
    "                        fill='gene_present')) +\n",
    "       p9.geom_histogram(bins=20) +\n",
    "       p9.geom_vline(limit,\n",
    "                     p9.aes(xintercept='limit_frac'),\n",
    "                     linetype='dashed',\n",
    "                     color='#3A3B3C',\n",
    "                     size=0.5) +\n",
    "       p9.facet_grid('infected~gene', scales='free_y') +\n",
    "       p9.ggtitle(f'viral gene expression\\n'\n",
    "                  f'per gene\\n'\n",
    "                  f'{expt}') +\n",
    "       p9.labs(x='fraction of total UMIs in cell') +\n",
    "       p9.theme(figure_size=(10, 3),\n",
    "                plot_title=p9.element_text(size=12),\n",
    "                axis_title=p9.element_text(size=10),\n",
    "                legend_title=p9.element_text(size=10),\n",
    "                legend_title_align='center') +\n",
    "       p9.scale_x_log10() +\n",
    "       p9.scale_fill_manual([CBPALETTE[1],CBPALETTE[0]])\n",
    "       )\n",
    "display(fig)"
   ]
  },
  {
   "cell_type": "markdown",
   "metadata": {},
   "source": [
    "In general, expression of all viral genes correlates with one another in infected cells.  Let's check to see if we are correctly excluding viral genes that violate this correlation:"
   ]
  },
  {
   "cell_type": "code",
   "execution_count": null,
   "metadata": {
    "execution": {
     "iopub.execute_input": "2021-11-19T19:45:17.057603Z",
     "iopub.status.busy": "2021-11-19T19:45:17.056850Z",
     "iopub.status.idle": "2021-11-19T19:45:19.560090Z",
     "shell.execute_reply": "2021-11-19T19:45:19.560621Z"
    }
   },
   "outputs": [],
   "source": [
    "gene_expression_plot = (\n",
    "    p9.ggplot((viral_gene_expression_long\n",
    "               .query('infected == \"infected\" and '\n",
    "                      'infecting_viral_tag != \"both\"')),\n",
    "               p9.aes(x='frac_viral_UMIs',\n",
    "                      y='frac_gene_UMIs',\n",
    "                      color='gene_present')) +\n",
    "    p9.geom_point(alpha=0.1) +\n",
    "    p9.geom_smooth((viral_gene_expression_long\n",
    "                    .query('infected == \"infected\" and '\n",
    "                           'infecting_viral_tag != \"both\" and '\n",
    "                           'gene_present == True')),\n",
    "                    p9.aes(x='frac_viral_UMIs',\n",
    "                           y='frac_gene_UMIs'),\n",
    "                    method='lm',\n",
    "                    color=f'{CBPALETTE[2]}',\n",
    "                    se=False,\n",
    "                    linetype='dashed') +\n",
    "    p9.facet_grid('~gene') +\n",
    "    p9.ggtitle(f'viral gene expression\\n'\n",
    "               f'vs viral burden\\n'\n",
    "               f'{expt}') +\n",
    "    p9.labs(x='fraction viral UMIs in cell',\n",
    "            y='fraction of UMIs from gene') +\n",
    "    p9.scale_x_log10() +\n",
    "    p9.scale_y_log10() +\n",
    "    p9.theme(figure_size=(12, 2),\n",
    "             plot_title=p9.element_text(size=12),\n",
    "             axis_title=p9.element_text(size=10),\n",
    "             legend_title=p9.element_text(size=10),\n",
    "             legend_title_align='center') +\n",
    "    p9.scale_color_manual([CBPALETTE[1],CBPALETTE[0]]))\n",
    "\n",
    "\n",
    "display(gene_expression_plot)"
   ]
  },
  {
   "cell_type": "markdown",
   "metadata": {},
   "source": [
    "Export gene expression plot:"
   ]
  },
  {
   "cell_type": "code",
   "execution_count": null,
   "metadata": {
    "execution": {
     "iopub.execute_input": "2021-11-19T19:45:19.563460Z",
     "iopub.status.busy": "2021-11-19T19:45:19.562648Z",
     "iopub.status.idle": "2021-11-19T19:45:22.685265Z",
     "shell.execute_reply": "2021-11-19T19:45:22.685958Z"
    }
   },
   "outputs": [],
   "source": [
    "print(f'Saving figure to {plot}\"')\n",
    "gene_expression_plot.save(plot)\n",
    "print('Done.')"
   ]
  },
  {
   "cell_type": "markdown",
   "metadata": {},
   "source": [
    "Annotate the fraction of cells that have each viral gene:"
   ]
  },
  {
   "cell_type": "code",
   "execution_count": null,
   "metadata": {
    "execution": {
     "iopub.execute_input": "2021-11-19T19:45:22.689653Z",
     "iopub.status.busy": "2021-11-19T19:45:22.688556Z",
     "iopub.status.idle": "2021-11-19T19:45:22.711436Z",
     "shell.execute_reply": "2021-11-19T19:45:22.711872Z"
    }
   },
   "outputs": [],
   "source": [
    "has_gene = pd.DataFrame(\n",
    "    viral_gene_expression_long\n",
    "    .query('infecting_viral_tag != \"both\"')\n",
    "    .groupby(['infected',\n",
    "              'gene'])\n",
    "    ['gene_present']\n",
    "    .value_counts(normalize=True)\n",
    "    .reset_index(name='prop_cells'))\n",
    "\n",
    "display(has_gene)"
   ]
  },
  {
   "cell_type": "markdown",
   "metadata": {},
   "source": [
    "Plot this fraction for each gene and infecting viral tag:"
   ]
  },
  {
   "cell_type": "code",
   "execution_count": null,
   "metadata": {
    "execution": {
     "iopub.execute_input": "2021-11-19T19:45:22.714595Z",
     "iopub.status.busy": "2021-11-19T19:45:22.713769Z",
     "iopub.status.idle": "2021-11-19T19:45:23.215589Z",
     "shell.execute_reply": "2021-11-19T19:45:23.216056Z"
    }
   },
   "outputs": [],
   "source": [
    "fig = (p9.ggplot((has_gene),\n",
    "                  p9.aes(x='gene',\n",
    "                         y='prop_cells',\n",
    "                         fill='gene_present')) +\n",
    "              p9.geom_bar(stat='identity') +\n",
    "              p9.ggtitle('gene is present above uninfected background\\n'\n",
    "                         f'{expt}') +\n",
    "              p9.ylab('proportion of cells') +\n",
    "              p9.facet_grid('infected~') +\n",
    "              p9.theme(figure_size=(4, 4),\n",
    "                       plot_title=p9.element_text(size=10),\n",
    "                       axis_title=p9.element_text(size=10),\n",
    "                       legend_title=p9.element_text(size=9),\n",
    "                       legend_title_align='center') +\n",
    "              p9.scale_fill_manual([CBPALETTE[1],CBPALETTE[0]]))\n",
    "display(fig)"
   ]
  },
  {
   "cell_type": "markdown",
   "metadata": {},
   "source": [
    "### Export annotations\n",
    "Export a CSV with each cell barcode and whether each viral gene is called as present or absent for that cell."
   ]
  },
  {
   "cell_type": "code",
   "execution_count": null,
   "metadata": {
    "execution": {
     "iopub.execute_input": "2021-11-19T19:45:23.218793Z",
     "iopub.status.busy": "2021-11-19T19:45:23.217966Z",
     "iopub.status.idle": "2021-11-19T19:45:23.541828Z",
     "shell.execute_reply": "2021-11-19T19:45:23.542375Z"
    }
   },
   "outputs": [],
   "source": [
    "gene_present_df = (\n",
    "    viral_gene_expression_long[['cell_barcode',\n",
    "                                'gene',\n",
    "                                'frac_gene_UMIs',\n",
    "                                'gene_present']]\n",
    ")\n",
    "display(gene_present_df)\n",
    "print(f'Writing gene presence data to {viral_genes_by_cell_csv}')\n",
    "gene_present_df.to_csv(viral_genes_by_cell_csv, index=False)\n",
    "print('Done.')"
   ]
  },
  {
   "cell_type": "code",
   "execution_count": null,
   "metadata": {},
   "outputs": [],
   "source": []
  }
 ],
 "metadata": {
  "kernelspec": {
   "display_name": "Python 3",
   "language": "python",
   "name": "python3"
  },
  "language_info": {
   "codemirror_mode": {
    "name": "ipython",
    "version": 3
   },
   "file_extension": ".py",
   "mimetype": "text/x-python",
   "name": "python",
   "nbconvert_exporter": "python",
   "pygments_lexer": "ipython3",
   "version": "3.8.6"
  }
 },
 "nbformat": 4,
 "nbformat_minor": 4
}
