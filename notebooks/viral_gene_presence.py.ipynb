{
 "cells": [
  {
   "cell_type": "markdown",
   "metadata": {},
   "source": [
    "# Viral gene presence\n",
    "This notebook calls the presence or absence of each viral gene in each cell."
   ]
  },
  {
   "cell_type": "markdown",
   "metadata": {},
   "source": [
    "Python imports:"
   ]
  },
  {
   "cell_type": "code",
   "execution_count": null,
   "metadata": {
    "execution": {
     "iopub.execute_input": "2021-12-01T19:45:53.878879Z",
     "iopub.status.busy": "2021-12-01T19:45:53.877623Z",
     "iopub.status.idle": "2021-12-01T19:46:03.459879Z",
     "shell.execute_reply": "2021-12-01T19:46:03.460698Z"
    }
   },
   "outputs": [],
   "source": [
    "from IPython.display import display\n",
    "\n",
    "from dms_variants.constants import CBPALETTE\n",
    "\n",
    "import numpy\n",
    "\n",
    "import pandas as pd\n",
    "\n",
    "import plotnine as p9\n",
    "\n",
    "import scanpy\n",
    "\n",
    "import scipy\n",
    "\n",
    "import statsmodels.stats.multitest"
   ]
  },
  {
   "cell_type": "markdown",
   "metadata": {},
   "source": [
    "Input data paths from snakemake."
   ]
  },
  {
   "cell_type": "code",
   "execution_count": null,
   "metadata": {
    "execution": {
     "iopub.execute_input": "2021-12-01T19:46:03.465186Z",
     "iopub.status.busy": "2021-12-01T19:46:03.463963Z",
     "iopub.status.idle": "2021-12-01T19:46:03.469348Z",
     "shell.execute_reply": "2021-12-01T19:46:03.469993Z"
    }
   },
   "outputs": [],
   "source": [
    "matrix = snakemake.input.matrix\n",
    "cell_barcodes = snakemake.input.cell_barcodes\n",
    "cell_barcodes_filtered = snakemake.input.cell_barcodes_filtered\n",
    "features = snakemake.input.features\n",
    "cell_annotations_csv = snakemake.input.cell_annotations\n",
    "viral_genes_by_cell_csv = snakemake.output.viral_genes_by_cell_csv\n",
    "viral_genes = snakemake.params.viral_genes\n",
    "barcoded_viral_genes = snakemake.params.barcoded_viral_genes\n",
    "plot = snakemake.output.plot\n",
    "expt = snakemake.wildcards.expt"
   ]
  },
  {
   "cell_type": "markdown",
   "metadata": {},
   "source": [
    "Global variables for this notebook:"
   ]
  },
  {
   "cell_type": "markdown",
   "metadata": {},
   "source": [
    "Style parameters. *N.b.* `CBPALETTE` is defined in imports above."
   ]
  },
  {
   "cell_type": "code",
   "execution_count": null,
   "metadata": {
    "execution": {
     "iopub.execute_input": "2021-12-01T19:46:03.473615Z",
     "iopub.status.busy": "2021-12-01T19:46:03.472482Z",
     "iopub.status.idle": "2021-12-01T19:46:03.478630Z",
     "shell.execute_reply": "2021-12-01T19:46:03.479301Z"
    }
   },
   "outputs": [],
   "source": [
    "p9.theme_set(p9.theme_classic())\n",
    "CBPALETTE_rich = ['#D81B60', '#1E88E5', '#FFC107', '#004D40']"
   ]
  },
  {
   "cell_type": "markdown",
   "metadata": {},
   "source": [
    "### Load data\n",
    "Cell infection status and tag labels:"
   ]
  },
  {
   "cell_type": "code",
   "execution_count": null,
   "metadata": {
    "execution": {
     "iopub.execute_input": "2021-12-01T19:46:03.483046Z",
     "iopub.status.busy": "2021-12-01T19:46:03.481954Z",
     "iopub.status.idle": "2021-12-01T19:46:03.520122Z",
     "shell.execute_reply": "2021-12-01T19:46:03.520861Z"
    }
   },
   "outputs": [],
   "source": [
    "cell_annotations = pd.read_csv(cell_annotations_csv)\n",
    "cell_annotations = cell_annotations[['cell_barcode',\n",
    "                                       'infected',\n",
    "                                       'infecting_viral_tag',\n",
    "                                       'total_UMIs',\n",
    "                                       'viral_UMIs',\n",
    "                                       'frac_viral_UMIs']]\n",
    "display(cell_annotations)"
   ]
  },
  {
   "cell_type": "markdown",
   "metadata": {},
   "source": [
    "Cell-gene matrix:"
   ]
  },
  {
   "cell_type": "code",
   "execution_count": null,
   "metadata": {
    "execution": {
     "iopub.execute_input": "2021-12-01T19:46:03.524822Z",
     "iopub.status.busy": "2021-12-01T19:46:03.523582Z",
     "iopub.status.idle": "2021-12-01T19:46:35.894134Z",
     "shell.execute_reply": "2021-12-01T19:46:35.894724Z"
    }
   },
   "outputs": [],
   "source": [
    "adata = scanpy.read_mtx(matrix)\n",
    "adata.var = pd.read_csv(cell_barcodes,\n",
    "                        names=['cell_barcode'])\n",
    "adata.obs = pd.read_csv(features,\n",
    "                        sep='\\t',\n",
    "                        names=['ensemble_id', 'gene', 'feature_type'])\n",
    "\n",
    "print(f\"Read cell-gene matrix of {adata.n_vars} cells and {adata.n_obs} genes\")\n",
    "\n",
    "assert set(viral_genes).issubset(set(adata.obs['gene'])), 'lack viral genes'"
   ]
  },
  {
   "cell_type": "markdown",
   "metadata": {},
   "source": [
    "#### Viral genes in each cell\n",
    "Extract the UMI counts for each viral gene in each cell from `adata.obs`"
   ]
  },
  {
   "cell_type": "code",
   "execution_count": null,
   "metadata": {
    "execution": {
     "iopub.execute_input": "2021-12-01T19:46:35.897926Z",
     "iopub.status.busy": "2021-12-01T19:46:35.896969Z",
     "iopub.status.idle": "2021-12-01T19:46:35.938671Z",
     "shell.execute_reply": "2021-12-01T19:46:35.939220Z"
    }
   },
   "outputs": [],
   "source": [
    "#### Viral genes in each cell\n",
    "viral_gene_expression = (\n",
    "    adata.var\n",
    "    .assign(fluPB2=numpy.sum(adata[adata.obs['gene'] == 'fluPB2', ]\n",
    "                             .X, axis=0).A1.astype(int),\n",
    "            fluPB1=numpy.sum(adata[adata.obs['gene'] == 'fluPB1', ]\n",
    "                             .X, axis=0).A1.astype(int),\n",
    "            fluPA=numpy.sum(adata[adata.obs['gene'] == 'fluPA', ]\n",
    "                             .X, axis=0).A1.astype(int),\n",
    "            fluHA=numpy.sum(adata[adata.obs['gene'] == 'fluHA', ]\n",
    "                             .X, axis=0).A1.astype(int),\n",
    "            fluNP=numpy.sum(adata[adata.obs['gene'] == 'fluNP', ]\n",
    "                             .X, axis=0).A1.astype(int),\n",
    "            fluNA=numpy.sum(adata[adata.obs['gene'] == 'fluNA', ]\n",
    "                             .X, axis=0).A1.astype(int),\n",
    "            fluM=numpy.sum(adata[adata.obs['gene'] == 'fluM', ]\n",
    "                             .X, axis=0).A1.astype(int),\n",
    "            fluNS=numpy.sum(adata[adata.obs['gene'] == 'fluNS', ]\n",
    "                             .X, axis=0).A1.astype(int),\n",
    "           )\n",
    ")\n",
    "\n",
    "viral_gene_expression"
   ]
  },
  {
   "cell_type": "code",
   "execution_count": null,
   "metadata": {},
   "outputs": [],
   "source": [
    "# **Restrict analysis to filtered cell barcodes**\n",
    "filtered_cell_barcode_list = pd.read_csv(cell_barcodes_filtered)['cell_barcode'].to_list()\n",
    "viral_gene_expression = viral_gene_expression.query('cell_barcode in @filtered_cell_barcode_list')\n",
    "display(viral_gene_expression)"
   ]
  },
  {
   "cell_type": "markdown",
   "metadata": {},
   "source": [
    "Merge in infection/infecting viral tag information:"
   ]
  },
  {
   "cell_type": "code",
   "execution_count": null,
   "metadata": {
    "execution": {
     "iopub.execute_input": "2021-12-01T19:46:35.942064Z",
     "iopub.status.busy": "2021-12-01T19:46:35.941201Z",
     "iopub.status.idle": "2021-12-01T19:46:35.967612Z",
     "shell.execute_reply": "2021-12-01T19:46:35.968181Z"
    }
   },
   "outputs": [],
   "source": [
    "viral_gene_expression = pd.merge(\n",
    "    left=cell_annotations,\n",
    "    right=viral_gene_expression,\n",
    "    on=['cell_barcode'],\n",
    "    validate='one_to_one'\n",
    ")\n",
    "\n",
    "display(viral_gene_expression)"
   ]
  },
  {
   "cell_type": "markdown",
   "metadata": {},
   "source": [
    "Check that the individual viral genes sum to total viral UMIs for each cell:"
   ]
  },
  {
   "cell_type": "code",
   "execution_count": null,
   "metadata": {
    "execution": {
     "iopub.execute_input": "2021-12-01T19:46:35.971347Z",
     "iopub.status.busy": "2021-12-01T19:46:35.970301Z",
     "iopub.status.idle": "2021-12-01T19:46:35.980042Z",
     "shell.execute_reply": "2021-12-01T19:46:35.980780Z"
    }
   },
   "outputs": [],
   "source": [
    "assert (viral_gene_expression['viral_UMIs'] == (\n",
    "    viral_gene_expression['fluPB2'] +\n",
    "    viral_gene_expression['fluPB1'] +\n",
    "    viral_gene_expression['fluPA'] +\n",
    "    viral_gene_expression['fluHA'] +\n",
    "    viral_gene_expression['fluNP'] +\n",
    "    viral_gene_expression['fluNA'] +\n",
    "    viral_gene_expression['fluM'] +\n",
    "    viral_gene_expression['fluNS'])).all(), \"Genes do not add to viral total\""
   ]
  },
  {
   "cell_type": "markdown",
   "metadata": {},
   "source": [
    "Pivot the table so that gene is a column, and the UMI counts for each gene for each cell is a row"
   ]
  },
  {
   "cell_type": "code",
   "execution_count": null,
   "metadata": {
    "execution": {
     "iopub.execute_input": "2021-12-01T19:46:35.984391Z",
     "iopub.status.busy": "2021-12-01T19:46:35.983250Z",
     "iopub.status.idle": "2021-12-01T19:46:36.009166Z",
     "shell.execute_reply": "2021-12-01T19:46:36.009716Z"
    }
   },
   "outputs": [],
   "source": [
    "viral_gene_expression_long = viral_gene_expression.melt(\n",
    "    id_vars=['cell_barcode',\n",
    "             'infected',\n",
    "             'infecting_viral_tag',\n",
    "             'total_UMIs',\n",
    "             'viral_UMIs',\n",
    "             'frac_viral_UMIs'],\n",
    "    var_name='gene',\n",
    "    value_name='gene_UMIs'\n",
    ")\n",
    "\n",
    "viral_gene_expression_long['frac_gene_UMIs'] = (\n",
    "    viral_gene_expression_long['gene_UMIs'] /\n",
    "    viral_gene_expression_long['total_UMIs']\n",
    ")\n",
    "\n",
    "viral_gene_expression_long"
   ]
  },
  {
   "cell_type": "markdown",
   "metadata": {},
   "source": [
    "Check that total number of rows is = total number of cells * total number of genes:"
   ]
  },
  {
   "cell_type": "code",
   "execution_count": null,
   "metadata": {
    "execution": {
     "iopub.execute_input": "2021-12-01T19:46:36.012620Z",
     "iopub.status.busy": "2021-12-01T19:46:36.011742Z",
     "iopub.status.idle": "2021-12-01T19:46:36.017577Z",
     "shell.execute_reply": "2021-12-01T19:46:36.018209Z"
    }
   },
   "outputs": [],
   "source": [
    "assert (len(viral_gene_expression_long) ==\n",
    "        len(viral_gene_expression_long['cell_barcode'].drop_duplicates()) *\n",
    "        len(viral_genes)), \"not 8 genes listed for every cell\""
   ]
  },
  {
   "cell_type": "markdown",
   "metadata": {},
   "source": [
    "Check that the extracted gene_UMIs sum to the total viral UMIs for each cell:"
   ]
  },
  {
   "cell_type": "code",
   "execution_count": null,
   "metadata": {
    "execution": {
     "iopub.execute_input": "2021-12-01T19:46:36.021477Z",
     "iopub.status.busy": "2021-12-01T19:46:36.020449Z",
     "iopub.status.idle": "2021-12-01T19:46:36.047357Z",
     "shell.execute_reply": "2021-12-01T19:46:36.047929Z"
    }
   },
   "outputs": [],
   "source": [
    "pd.testing.assert_frame_equal(\n",
    "    (viral_gene_expression_long[['cell_barcode',\n",
    "                                 'viral_UMIs']]\n",
    "     .drop_duplicates()),\n",
    "    (viral_gene_expression_long\n",
    "     .groupby('cell_barcode')\n",
    "     ['gene_UMIs']\n",
    "     .sum()\n",
    "     .to_frame()\n",
    "     .reset_index()\n",
    "     .rename(columns={'gene_UMIs': 'viral_UMIs'})),\n",
    "    check_names=False,\n",
    "    check_index_type=False\n",
    ")"
   ]
  },
  {
   "cell_type": "markdown",
   "metadata": {},
   "source": [
    "### Analyze distributions"
   ]
  },
  {
   "cell_type": "markdown",
   "metadata": {},
   "source": [
    "Plot distribution of absolute UMI counts for each gene:"
   ]
  },
  {
   "cell_type": "code",
   "execution_count": null,
   "metadata": {
    "execution": {
     "iopub.execute_input": "2021-12-01T19:46:36.051094Z",
     "iopub.status.busy": "2021-12-01T19:46:36.050062Z",
     "iopub.status.idle": "2021-12-01T19:46:37.810611Z",
     "shell.execute_reply": "2021-12-01T19:46:37.811172Z"
    }
   },
   "outputs": [],
   "source": [
    "fig = (p9.ggplot(viral_gene_expression_long,\n",
    "                 p9.aes(x='gene_UMIs')) +\n",
    "       p9.geom_histogram(bins=20) +\n",
    "       p9.facet_grid('gene~') +\n",
    "       p9.ggtitle('viral gene expression\\n'\n",
    "                  'absolute UMI counts\\n'\n",
    "                  'per cell\\n'\n",
    "                  f'{expt}') +\n",
    "       p9.labs(x='UMIs from gene in cell',\n",
    "               y='cells') +\n",
    "       p9.scale_x_log10() +\n",
    "       p9.theme(figure_size=(4, 6),\n",
    "                plot_title=p9.element_text(size=12),\n",
    "                axis_title=p9.element_text(size=10),\n",
    "                legend_title=p9.element_text(size=10),\n",
    "                legend_title_align='center'))\n",
    "display(fig)"
   ]
  },
  {
   "cell_type": "markdown",
   "metadata": {},
   "source": [
    "Distribution of viral gene expression in infected and **uninfected** cells:\n",
    "\n",
    "**N.b.** Plot 0 values on far left of axis, 100-fold lower than lowest real value:"
   ]
  },
  {
   "cell_type": "code",
   "execution_count": null,
   "metadata": {
    "execution": {
     "iopub.execute_input": "2021-12-01T19:46:37.814401Z",
     "iopub.status.busy": "2021-12-01T19:46:37.813324Z",
     "iopub.status.idle": "2021-12-01T19:46:43.376353Z",
     "shell.execute_reply": "2021-12-01T19:46:43.376934Z"
    }
   },
   "outputs": [],
   "source": [
    "zero_pseudocount = (min(viral_gene_expression_long\n",
    "                        .query('frac_gene_UMIs > 0')\n",
    "                        ['frac_gene_UMIs']) /\n",
    "                    100)\n",
    "zero_pseudocount\n",
    "\n",
    "fig = (p9.ggplot((viral_gene_expression_long\n",
    "                  .replace(to_replace={'frac_gene_UMIs':0},\n",
    "                           value=zero_pseudocount)),\n",
    "                 p9.aes(x='frac_gene_UMIs')) +\n",
    "       p9.geom_histogram(bins=20) +\n",
    "       p9.facet_grid('infected~gene', scales='free_y') +\n",
    "       p9.ggtitle(f'viral gene expression\\n'\n",
    "                  f'per gene\\n'\n",
    "                  f'{expt}') +\n",
    "       p9.labs(x='fraction of total UMIs in cell') +\n",
    "       p9.scale_x_log10() +\n",
    "       p9.theme(figure_size=(15, 5),\n",
    "                plot_title=p9.element_text(size=12),\n",
    "                axis_title=p9.element_text(size=10),\n",
    "                legend_title=p9.element_text(size=10),\n",
    "                legend_title_align='center'))\n",
    "display(fig)"
   ]
  },
  {
   "cell_type": "markdown",
   "metadata": {},
   "source": [
    "### Call presence/absence\n",
    "Next I will extract a limit percentile value from the uninfected cells. We were very conservative in calling cells as infected (likely there are some infected cells in the population labelled \"uninfected\"). A priori, we expect most infected cells to express most viral genes. So we can be more lenient (lower percentile) in what we use as a cutoff in calling a gene present.\n",
    "\n",
    "For low expressing genes (e.g. the polymerase complex), the limit value is 0, and this threshold does not work well. For these genes, instead, **we simply call genes without any UMIs as absent, and genes with at least 1 UMI as present.**  In some previous analyses (e.g. [Russel et al. 2018](https://elifesciences.org/articles/32303)) a single transcript was used to call the presence of a gene in infected cells."
   ]
  },
  {
   "cell_type": "markdown",
   "metadata": {},
   "source": [
    "Which genes are low expression?"
   ]
  },
  {
   "cell_type": "code",
   "execution_count": null,
   "metadata": {
    "execution": {
     "iopub.execute_input": "2021-12-01T19:46:43.380129Z",
     "iopub.status.busy": "2021-12-01T19:46:43.379211Z",
     "iopub.status.idle": "2021-12-01T19:46:43.390046Z",
     "shell.execute_reply": "2021-12-01T19:46:43.390735Z"
    }
   },
   "outputs": [],
   "source": [
    "viral_gene_expression_long.groupby('gene')['gene_UMIs'].mean()"
   ]
  },
  {
   "cell_type": "code",
   "execution_count": null,
   "metadata": {
    "execution": {
     "iopub.execute_input": "2021-12-01T19:46:43.394319Z",
     "iopub.status.busy": "2021-12-01T19:46:43.393197Z",
     "iopub.status.idle": "2021-12-01T19:46:43.427560Z",
     "shell.execute_reply": "2021-12-01T19:46:43.428224Z"
    }
   },
   "outputs": [],
   "source": [
    "low_expression_genes = ['fluPB2', 'fluPB1', 'fluPA', 'fluNA']\n",
    "limit_percentile = 0.99\n",
    "limit = dict()\n",
    "\n",
    "for gene in viral_genes:\n",
    "    if gene not in low_expression_genes:\n",
    "        limit[gene] = (viral_gene_expression_long\n",
    "                       .query('(infecting_viral_tag == \"none\") '\n",
    "                              f'and (gene == \"{gene}\")')\n",
    "                       ['frac_gene_UMIs']\n",
    "                       .quantile(limit_percentile))\n",
    "\n",
    "limit = pd.DataFrame.from_dict(limit, orient='index')\n",
    "limit = limit.reset_index()\n",
    "limit = limit.rename(columns={0: 'limit_frac',\n",
    "                              'index': 'gene'})\n",
    "\n",
    "display(limit)"
   ]
  },
  {
   "cell_type": "code",
   "execution_count": null,
   "metadata": {
    "execution": {
     "iopub.execute_input": "2021-12-01T19:46:43.431909Z",
     "iopub.status.busy": "2021-12-01T19:46:43.430744Z",
     "iopub.status.idle": "2021-12-01T19:46:49.172621Z",
     "shell.execute_reply": "2021-12-01T19:46:49.173201Z"
    }
   },
   "outputs": [],
   "source": [
    "fig = (p9.ggplot((viral_gene_expression_long\n",
    "                  .replace(to_replace={'frac_gene_UMIs':0},\n",
    "                           value=zero_pseudocount)),\n",
    "                 p9.aes(x='frac_gene_UMIs')) +\n",
    "       p9.geom_histogram(bins=20) +\n",
    "       p9.geom_vline(limit,\n",
    "                     p9.aes(xintercept='limit_frac'),\n",
    "                     linetype='dashed',\n",
    "                     color='#3A3B3C',\n",
    "                     size=0.5) +\n",
    "       p9.facet_grid('infected~gene', scales='free_y') +\n",
    "       p9.ggtitle(f'viral gene expression\\n'\n",
    "                  f'per gene\\n'\n",
    "                  f'{expt}') +\n",
    "       p9.labs(x='fraction of total UMIs in cell') +\n",
    "       p9.theme(figure_size=(10, 3),\n",
    "                plot_title=p9.element_text(size=12),\n",
    "                axis_title=p9.element_text(size=10),\n",
    "                legend_title=p9.element_text(size=10),\n",
    "                legend_title_align='center') +\n",
    "       p9.scale_x_log10())\n",
    "display(fig)"
   ]
  },
  {
   "cell_type": "markdown",
   "metadata": {},
   "source": [
    "Merge limit values into `viral_gene_expression_long` df."
   ]
  },
  {
   "cell_type": "code",
   "execution_count": null,
   "metadata": {
    "execution": {
     "iopub.execute_input": "2021-12-01T19:46:49.176805Z",
     "iopub.status.busy": "2021-12-01T19:46:49.175661Z",
     "iopub.status.idle": "2021-12-01T19:46:49.204860Z",
     "shell.execute_reply": "2021-12-01T19:46:49.205433Z"
    }
   },
   "outputs": [],
   "source": [
    "viral_gene_expression_long = pd.merge(\n",
    "    left=viral_gene_expression_long,\n",
    "    right=limit,\n",
    "    on='gene',\n",
    "    how='left',\n",
    "    validate='many_to_one'\n",
    ")\n",
    "\n",
    "display(viral_gene_expression_long)"
   ]
  },
  {
   "cell_type": "markdown",
   "metadata": {},
   "source": [
    "Label genes as absent if they fall below this limit."
   ]
  },
  {
   "cell_type": "code",
   "execution_count": null,
   "metadata": {
    "execution": {
     "iopub.execute_input": "2021-12-01T19:46:49.208555Z",
     "iopub.status.busy": "2021-12-01T19:46:49.207594Z",
     "iopub.status.idle": "2021-12-01T19:46:49.229775Z",
     "shell.execute_reply": "2021-12-01T19:46:49.230371Z"
    }
   },
   "outputs": [],
   "source": [
    "viral_gene_expression_long['gene_present'] = (\n",
    "    (viral_gene_expression_long['gene_UMIs'] > 0)\n",
    "    & ((viral_gene_expression_long['frac_gene_UMIs'] > \n",
    "        viral_gene_expression_long['limit_frac'])\n",
    "       | (viral_gene_expression_long['limit_frac'].isnull())))\n",
    "\n",
    "display(viral_gene_expression_long)"
   ]
  },
  {
   "cell_type": "markdown",
   "metadata": {},
   "source": [
    "### Visualize results"
   ]
  },
  {
   "cell_type": "markdown",
   "metadata": {},
   "source": [
    "Color the proportion histogram by present/absent call:"
   ]
  },
  {
   "cell_type": "code",
   "execution_count": null,
   "metadata": {
    "execution": {
     "iopub.execute_input": "2021-12-01T19:46:49.233454Z",
     "iopub.status.busy": "2021-12-01T19:46:49.232533Z",
     "iopub.status.idle": "2021-12-01T19:46:55.581664Z",
     "shell.execute_reply": "2021-12-01T19:46:55.582226Z"
    }
   },
   "outputs": [],
   "source": [
    "fig = (p9.ggplot((viral_gene_expression_long\n",
    "                  .replace(to_replace={'frac_gene_UMIs':0},\n",
    "                           value=zero_pseudocount)),\n",
    "                 p9.aes(x='frac_gene_UMIs',\n",
    "                        fill='gene_present')) +\n",
    "       p9.geom_histogram(bins=20) +\n",
    "       p9.geom_vline(limit,\n",
    "                     p9.aes(xintercept='limit_frac'),\n",
    "                     linetype='dashed',\n",
    "                     color='#3A3B3C',\n",
    "                     size=0.5) +\n",
    "       p9.facet_grid('infected~gene', scales='free_y') +\n",
    "       p9.ggtitle(f'viral gene expression\\n'\n",
    "                  f'per gene\\n'\n",
    "                  f'{expt}') +\n",
    "       p9.labs(x='fraction of total UMIs in cell') +\n",
    "       p9.theme(figure_size=(10, 3),\n",
    "                plot_title=p9.element_text(size=12),\n",
    "                axis_title=p9.element_text(size=10),\n",
    "                legend_title=p9.element_text(size=10),\n",
    "                legend_title_align='center') +\n",
    "       p9.scale_x_log10() +\n",
    "       p9.scale_fill_manual([CBPALETTE[1],CBPALETTE[0]])\n",
    "       )\n",
    "display(fig)"
   ]
  },
  {
   "cell_type": "markdown",
   "metadata": {},
   "source": [
    "In general, expression of all viral genes correlates with one another in infected cells.  Let's check to see if we are correctly excluding viral genes that violate this correlation:"
   ]
  },
  {
   "cell_type": "code",
   "execution_count": null,
   "metadata": {
    "execution": {
     "iopub.execute_input": "2021-12-01T19:46:55.585434Z",
     "iopub.status.busy": "2021-12-01T19:46:55.584433Z",
     "iopub.status.idle": "2021-12-01T19:46:58.265286Z",
     "shell.execute_reply": "2021-12-01T19:46:58.264952Z"
    }
   },
   "outputs": [],
   "source": [
    "gene_expression_plot = (\n",
    "    p9.ggplot((viral_gene_expression_long\n",
    "               .query('infected == \"infected\" and '\n",
    "                      'infecting_viral_tag != \"both\"')),\n",
    "               p9.aes(x='frac_viral_UMIs',\n",
    "                      y='frac_gene_UMIs',\n",
    "                      color='gene_present')) +\n",
    "    p9.geom_point(alpha=0.1) +\n",
    "    p9.geom_smooth((viral_gene_expression_long\n",
    "                    .query('infected == \"infected\" and '\n",
    "                           'infecting_viral_tag != \"both\" and '\n",
    "                           'gene_present == True')),\n",
    "                    p9.aes(x='frac_viral_UMIs',\n",
    "                           y='frac_gene_UMIs'),\n",
    "                    method='lm',\n",
    "                    color=f'{CBPALETTE[2]}',\n",
    "                    se=False,\n",
    "                    linetype='dashed') +\n",
    "    p9.facet_grid('~gene') +\n",
    "    p9.ggtitle(f'viral gene expression\\n'\n",
    "               f'vs viral burden\\n'\n",
    "               f'{expt}') +\n",
    "    p9.labs(x='fraction viral UMIs in cell',\n",
    "            y='fraction of UMIs from gene') +\n",
    "    p9.scale_x_log10() +\n",
    "    p9.scale_y_log10() +\n",
    "    p9.theme(figure_size=(12, 2),\n",
    "             plot_title=p9.element_text(size=12),\n",
    "             axis_title=p9.element_text(size=10),\n",
    "             legend_title=p9.element_text(size=10),\n",
    "             legend_title_align='center') +\n",
    "    p9.scale_color_manual([CBPALETTE[1],CBPALETTE[0]]))\n",
    "\n",
    "\n",
    "display(gene_expression_plot)"
   ]
  },
  {
   "cell_type": "markdown",
   "metadata": {},
   "source": [
    "Export gene expression plot:"
   ]
  },
  {
   "cell_type": "code",
   "execution_count": null,
   "metadata": {
    "execution": {
     "iopub.execute_input": "2021-12-01T19:46:58.268168Z",
     "iopub.status.busy": "2021-12-01T19:46:58.267238Z",
     "iopub.status.idle": "2021-12-01T19:47:01.497327Z",
     "shell.execute_reply": "2021-12-01T19:47:01.498456Z"
    }
   },
   "outputs": [],
   "source": [
    "print(f'Saving figure to {plot}\"')\n",
    "gene_expression_plot.save(plot)\n",
    "print('Done.')"
   ]
  },
  {
   "cell_type": "markdown",
   "metadata": {},
   "source": [
    "Annotate the fraction of cells that have each viral gene:"
   ]
  },
  {
   "cell_type": "code",
   "execution_count": null,
   "metadata": {
    "execution": {
     "iopub.execute_input": "2021-12-01T19:47:01.503642Z",
     "iopub.status.busy": "2021-12-01T19:47:01.502423Z",
     "iopub.status.idle": "2021-12-01T19:47:01.531637Z",
     "shell.execute_reply": "2021-12-01T19:47:01.532184Z"
    }
   },
   "outputs": [],
   "source": [
    "has_gene = pd.DataFrame(\n",
    "    viral_gene_expression_long\n",
    "    .query('infecting_viral_tag != \"both\"')\n",
    "    .groupby(['infected',\n",
    "              'gene'])\n",
    "    ['gene_present']\n",
    "    .value_counts(normalize=True)\n",
    "    .reset_index(name='prop_cells'))\n",
    "\n",
    "display(has_gene)"
   ]
  },
  {
   "cell_type": "markdown",
   "metadata": {},
   "source": [
    "Plot this fraction for each gene and infecting viral tag:"
   ]
  },
  {
   "cell_type": "code",
   "execution_count": null,
   "metadata": {
    "execution": {
     "iopub.execute_input": "2021-12-01T19:47:01.535226Z",
     "iopub.status.busy": "2021-12-01T19:47:01.534291Z",
     "iopub.status.idle": "2021-12-01T19:47:02.087783Z",
     "shell.execute_reply": "2021-12-01T19:47:02.088325Z"
    }
   },
   "outputs": [],
   "source": [
    "fig = (p9.ggplot((has_gene),\n",
    "                  p9.aes(x='gene',\n",
    "                         y='prop_cells',\n",
    "                         fill='gene_present')) +\n",
    "              p9.geom_bar(stat='identity') +\n",
    "              p9.ggtitle('gene is present above uninfected background\\n'\n",
    "                         f'{expt}') +\n",
    "              p9.ylab('proportion of cells') +\n",
    "              p9.facet_grid('infected~') +\n",
    "              p9.theme(figure_size=(4, 4),\n",
    "                       plot_title=p9.element_text(size=10),\n",
    "                       axis_title=p9.element_text(size=10),\n",
    "                       legend_title=p9.element_text(size=9),\n",
    "                       legend_title_align='center') +\n",
    "              p9.scale_fill_manual([CBPALETTE[1],CBPALETTE[0]]))\n",
    "display(fig)"
   ]
  },
  {
   "cell_type": "markdown",
   "metadata": {},
   "source": [
    "### Count genes per cell\n",
    "Count the number of viral genes called as present in each infected cell."
   ]
  },
  {
   "cell_type": "code",
   "execution_count": null,
   "metadata": {},
   "outputs": [],
   "source": [
    "n_viral_genes_by_cell = (\n",
    "    viral_gene_expression_long\n",
    "    .query('gene_present == True')\n",
    "    .groupby('cell_barcode')\n",
    "    ['gene']\n",
    "    .nunique()\n",
    "    .reset_index()\n",
    "    .drop_duplicates()\n",
    "    .rename(columns={'gene': 'n_viral_genes'}))\n",
    "\n",
    "viral_gene_expression_long = pd.merge(\n",
    "    left=viral_gene_expression_long,\n",
    "    right=n_viral_genes_by_cell,\n",
    "    on='cell_barcode',\n",
    "    how='left'\n",
    ")\n",
    "\n",
    "viral_gene_expression_long['n_viral_genes'] = (\n",
    "    viral_gene_expression_long['n_viral_genes'].fillna(0)\n",
    ")\n",
    "viral_gene_expression_long['n_viral_genes'] = (\n",
    "    viral_gene_expression_long['n_viral_genes'].astype(int)\n",
    ")\n",
    "\n",
    "display(viral_gene_expression_long)"
   ]
  },
  {
   "cell_type": "code",
   "execution_count": null,
   "metadata": {},
   "outputs": [],
   "source": [
    "n_viral_genes_histogram = (\n",
    "    p9.ggplot((viral_gene_expression_long\n",
    "               [['cell_barcode', 'infected', 'n_viral_genes']]\n",
    "               .drop_duplicates()),\n",
    "              p9.aes(x='n_viral_genes',)) +\n",
    "    p9.geom_bar(stat='count', position='dodge') +\n",
    "    p9.facet_grid('infected~', scales='free_y') + \n",
    "    p9.ggtitle('Number of viral genes\\n'\n",
    "               'in each cell\\n'\n",
    "               f'{expt}') +\n",
    "    p9.labs(x='n viral genes detected',\n",
    "            y='n cells') +\n",
    "    p9.theme(figure_size=(4, 4),\n",
    "                plot_title=p9.element_text(size=9),\n",
    "                axis_title=p9.element_text(size=9),\n",
    "                legend_title=p9.element_text(size=9),\n",
    "                legend_title_align='center') +\n",
    "    p9.scale_fill_manual(CBPALETTE[0:])\n",
    ")\n",
    "\n",
    "display(n_viral_genes_histogram)"
   ]
  },
  {
   "cell_type": "markdown",
   "metadata": {},
   "source": [
    "### Export annotations\n",
    "Export a CSV with each cell barcode and whether each viral gene is called as present or absent for that cell."
   ]
  },
  {
   "cell_type": "code",
   "execution_count": null,
   "metadata": {
    "execution": {
     "iopub.execute_input": "2021-12-01T19:47:02.091575Z",
     "iopub.status.busy": "2021-12-01T19:47:02.090547Z",
     "iopub.status.idle": "2021-12-01T19:47:02.397317Z",
     "shell.execute_reply": "2021-12-01T19:47:02.397862Z"
    }
   },
   "outputs": [],
   "source": [
    "gene_present_df = (\n",
    "    viral_gene_expression_long[['cell_barcode',\n",
    "                                'n_viral_genes',\n",
    "                                'gene',\n",
    "                                'frac_gene_UMIs',\n",
    "                                'gene_present',]]\n",
    ")\n",
    "display(gene_present_df)\n",
    "print(f'Writing gene presence data to {viral_genes_by_cell_csv}')\n",
    "gene_present_df.to_csv(viral_genes_by_cell_csv, index=False)\n",
    "print('Done.')"
   ]
  },
  {
   "cell_type": "code",
   "execution_count": null,
   "metadata": {},
   "outputs": [],
   "source": []
  }
 ],
 "metadata": {
  "kernelspec": {
   "display_name": "Python 3",
   "language": "python",
   "name": "python3"
  },
  "language_info": {
   "codemirror_mode": {
    "name": "ipython",
    "version": 3
   },
   "file_extension": ".py",
   "mimetype": "text/x-python",
   "name": "python",
   "nbconvert_exporter": "python",
   "pygments_lexer": "ipython3",
   "version": "3.8.6"
  }
 },
 "nbformat": 4,
 "nbformat_minor": 4
}
