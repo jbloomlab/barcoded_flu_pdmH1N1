{
 "cells": [
  {
   "cell_type": "markdown",
   "metadata": {},
   "source": [
    "# Process viral barcode replicates\n",
    "This notebook plots the correlation between technical replicates of raw viral barcode sequencing data. Then, it calculates the mean frequency of each barcode and exports this value to a CSV. Data source is supernatant or second infection."
   ]
  },
  {
   "cell_type": "markdown",
   "metadata": {},
   "source": [
    "Import Python modules:"
   ]
  },
  {
   "cell_type": "code",
   "execution_count": null,
   "metadata": {
    "execution": {
     "iopub.execute_input": "2020-11-25T20:01:22.222339Z",
     "iopub.status.busy": "2020-11-25T20:01:22.221594Z",
     "iopub.status.idle": "2020-11-25T20:01:29.725667Z",
     "shell.execute_reply": "2020-11-25T20:01:29.726221Z"
    }
   },
   "outputs": [],
   "source": [
    "import gzip\n",
    "import itertools\n",
    "import random\n",
    "\n",
    "from IPython.display import display\n",
    "\n",
    "from dms_variants.constants import CBPALETTE\n",
    "\n",
    "import numpy as np\n",
    "\n",
    "import editdistance\n",
    "\n",
    "import pandas as pd\n",
    "\n",
    "import plotnine as p9"
   ]
  },
  {
   "cell_type": "markdown",
   "metadata": {},
   "source": [
    "Hardcode variables for now:"
   ]
  },
  {
   "cell_type": "code",
   "execution_count": null,
   "metadata": {
    "execution": {
     "iopub.execute_input": "2020-11-25T20:01:29.728886Z",
     "iopub.status.busy": "2020-11-25T20:01:29.728125Z",
     "iopub.status.idle": "2020-11-25T20:01:29.731617Z",
     "shell.execute_reply": "2020-11-25T20:01:29.732111Z"
    }
   },
   "outputs": [],
   "source": [
    "viral_bc_in_progeny_csv = snakemake.input.viral_bc_in_progeny_csv\n",
    "viral_bc_in_progeny_freq_csv = snakemake.output.viral_bc_in_progeny_freq_csv\n",
    "plot = snakemake.output.plot\n",
    "expt = snakemake.wildcards.expt"
   ]
  },
  {
   "cell_type": "markdown",
   "metadata": {},
   "source": [
    "Load viral barcode counts and pivot dataframe so replicates in two columns."
   ]
  },
  {
   "cell_type": "code",
   "execution_count": null,
   "metadata": {
    "execution": {
     "iopub.execute_input": "2020-11-25T20:01:29.734499Z",
     "iopub.status.busy": "2020-11-25T20:01:29.733750Z",
     "iopub.status.idle": "2020-11-25T20:01:30.089506Z",
     "shell.execute_reply": "2020-11-25T20:01:30.090032Z"
    }
   },
   "outputs": [],
   "source": [
    "viral_bc = pd.read_csv(gzip.open(viral_bc_in_progeny_csv))\n",
    "viral_bc = pd.merge(viral_bc,\n",
    "                    (viral_bc\n",
    "                     .groupby(['source',\n",
    "                               'tag',\n",
    "                               'gene',\n",
    "                               'replicate'])\n",
    "                     .sum()\n",
    "                     .reset_index()),\n",
    "                    on=['source', 'tag', 'gene', 'replicate'],\n",
    "                    suffixes=('_barcode', '_total'))\n",
    "viral_bc['freq'] = (viral_bc['count_barcode'] /\n",
    "                    viral_bc['count_total'])\n",
    "display(viral_bc)"
   ]
  },
  {
   "cell_type": "markdown",
   "metadata": {},
   "source": [
    "### Plots\n",
    "Set theme for plots."
   ]
  },
  {
   "cell_type": "code",
   "execution_count": null,
   "metadata": {
    "execution": {
     "iopub.execute_input": "2020-11-25T20:01:30.092608Z",
     "iopub.status.busy": "2020-11-25T20:01:30.091853Z",
     "iopub.status.idle": "2020-11-25T20:01:30.096156Z",
     "shell.execute_reply": "2020-11-25T20:01:30.096636Z"
    }
   },
   "outputs": [],
   "source": [
    "p9.theme_set(p9.theme_classic())"
   ]
  },
  {
   "cell_type": "markdown",
   "metadata": {},
   "source": [
    "Plot number of barcodes identified for each sample:"
   ]
  },
  {
   "cell_type": "code",
   "execution_count": null,
   "metadata": {
    "execution": {
     "iopub.execute_input": "2020-11-25T20:01:30.099018Z",
     "iopub.status.busy": "2020-11-25T20:01:30.098266Z",
     "iopub.status.idle": "2020-11-25T20:01:30.758295Z",
     "shell.execute_reply": "2020-11-25T20:01:30.758795Z"
    }
   },
   "outputs": [],
   "source": [
    "n_barcodes_df = (viral_bc\n",
    "                 .groupby(['source', 'tag', 'gene', 'replicate'])['barcode']\n",
    "                 .nunique()\n",
    "                 .reset_index()\n",
    "                 .rename(columns={'barcode': 'n_unique_barcodes'}))\n",
    "\n",
    "display(n_barcodes_df)\n",
    "\n",
    "fig = (p9.ggplot(n_barcodes_df, p9.aes(x='tag',\n",
    "                                       y='n_unique_barcodes',\n",
    "                                       fill='replicate')) +\n",
    "       p9.geom_bar(stat='identity', position='position_dodge') +\n",
    "       p9.facet_grid('gene~source') +\n",
    "       p9.theme(figure_size=(3*n_barcodes_df['gene'].nunique(),\n",
    "                             1.7*n_barcodes_df['source'].nunique()),\n",
    "                plot_title=p9.element_text(size=10),\n",
    "                axis_title=p9.element_text(size=10),\n",
    "                legend_title=p9.element_text(size=9),\n",
    "                legend_title_align='center') +\n",
    "       p9.scale_fill_manual(CBPALETTE[0:]))\n",
    "fig"
   ]
  },
  {
   "cell_type": "markdown",
   "metadata": {},
   "source": [
    "Plot histogram for each sample:"
   ]
  },
  {
   "cell_type": "code",
   "execution_count": null,
   "metadata": {
    "execution": {
     "iopub.execute_input": "2020-11-25T20:01:30.761394Z",
     "iopub.status.busy": "2020-11-25T20:01:30.760643Z",
     "iopub.status.idle": "2020-11-25T20:01:36.724101Z",
     "shell.execute_reply": "2020-11-25T20:01:36.724601Z"
    }
   },
   "outputs": [],
   "source": [
    "fig = (p9.ggplot(viral_bc, p9.aes(x='freq', fill='replicate')) +\n",
    "       p9.geom_histogram(bins=100) +\n",
    "       p9.facet_grid('gene+tag~source') +\n",
    "       p9.scale_y_log10() +\n",
    "       p9.scale_x_log10() +\n",
    "       p9.theme(figure_size=(3*viral_bc['source'].nunique(),\n",
    "                             2*viral_bc['gene'].nunique()),\n",
    "                plot_title=p9.element_text(size=10),\n",
    "                axis_title=p9.element_text(size=10),\n",
    "                legend_title=p9.element_text(size=9),\n",
    "                legend_title_align='center') +\n",
    "       p9.ylab('n_barcodes') +\n",
    "       p9.scale_fill_manual(CBPALETTE[0:]))\n",
    "fig"
   ]
  },
  {
   "cell_type": "markdown",
   "metadata": {},
   "source": [
    "Plot barcode sharing across tags:"
   ]
  },
  {
   "cell_type": "code",
   "execution_count": null,
   "metadata": {
    "execution": {
     "iopub.execute_input": "2020-11-25T20:01:36.727133Z",
     "iopub.status.busy": "2020-11-25T20:01:36.726367Z",
     "iopub.status.idle": "2020-11-25T20:01:38.995494Z",
     "shell.execute_reply": "2020-11-25T20:01:38.996008Z"
    }
   },
   "outputs": [],
   "source": [
    "shared_tags = (viral_bc\n",
    "               .groupby(['source',\n",
    "                         'gene',\n",
    "                         'barcode'])\n",
    "               .agg({'tag': lambda x: ' and '.join(sorted(set(x)))})\n",
    "               .reset_index())\n",
    "\n",
    "display(shared_tags)\n",
    "\n",
    "\n",
    "fig = (p9.ggplot(shared_tags,\n",
    "                 p9.aes(x='gene',\n",
    "                        fill='tag')) +\n",
    "       p9.geom_bar(stat='count') +\n",
    "       p9.ggtitle(f'barcodes identified in each tag for {expt}') +\n",
    "       p9.ylab('n_barcodes') +\n",
    "       p9.coord_flip() +\n",
    "       p9.facet_grid('source~') +\n",
    "       p9.theme(figure_size=(7,\n",
    "                             2*shared_tags['source'].nunique()),\n",
    "                plot_title=p9.element_text(size=10),\n",
    "                axis_title=p9.element_text(size=10),\n",
    "                legend_title=p9.element_text(size=9),\n",
    "                legend_title_align='center') +\n",
    "       p9.scale_fill_manual(CBPALETTE[0:]))\n",
    "\n",
    "# show plot\n",
    "fig"
   ]
  },
  {
   "cell_type": "markdown",
   "metadata": {},
   "source": [
    "Plot barcode frequency by sharing:"
   ]
  },
  {
   "cell_type": "code",
   "execution_count": null,
   "metadata": {},
   "outputs": [],
   "source": [
    "shared_tags_freq = pd.merge(viral_bc,\n",
    "                            shared_tags,\n",
    "                            on=['source', 'gene', 'barcode'],\n",
    "                            suffixes=[None, 's_present'])\n",
    "\n",
    "display(shared_tags_freq)\n",
    "\n",
    "fig = (p9.ggplot(shared_tags_freq, p9.aes(x='freq', fill='tags_present')) +\n",
    "       p9.geom_histogram(bins=100) +\n",
    "       p9.facet_grid('gene~source') +\n",
    "       p9.scale_y_log10() +\n",
    "       p9.scale_x_log10() +\n",
    "       p9.theme(figure_size=(3*viral_bc['source'].nunique(),\n",
    "                             2*viral_bc['gene'].nunique()),\n",
    "                plot_title=p9.element_text(size=10),\n",
    "                axis_title=p9.element_text(size=10),\n",
    "                legend_title=p9.element_text(size=9),\n",
    "                legend_title_align='center') +\n",
    "       p9.ylab('n_barcodes') +\n",
    "       p9.scale_fill_manual(CBPALETTE[0:]))\n",
    "fig"
   ]
  },
  {
   "cell_type": "markdown",
   "metadata": {},
   "source": [
    "Plot correlation of barcodes in supernatant and in second infection. Color by presence in each (or both) tags."
   ]
  },
  {
   "cell_type": "code",
   "execution_count": null,
   "metadata": {
    "execution": {
     "iopub.execute_input": "2020-11-25T20:01:46.369009Z",
     "iopub.status.busy": "2020-11-25T20:01:46.368215Z",
     "iopub.status.idle": "2020-11-25T20:01:51.917615Z",
     "shell.execute_reply": "2020-11-25T20:01:51.917275Z"
    }
   },
   "outputs": [],
   "source": [
    "tag_freqs = (shared_tags_freq\n",
    "             .pivot_table(index=['gene',\n",
    "                                 'tag',\n",
    "                                 'barcode',\n",
    "                                 'tags_present'],\n",
    "                          columns=['source'],\n",
    "                          values='freq',\n",
    "                          aggfunc=np.mean)\n",
    "             .fillna(0)\n",
    "             .reset_index())\n",
    "\n",
    "display(tag_freqs)\n",
    "\n",
    "fig = (p9.ggplot(tag_freqs,\n",
    "                 p9.aes(x='supernatant',\n",
    "                        y='second_infection',\n",
    "                        color='tags_present')) +\n",
    "       p9.ggtitle(f'{expt}\\n'\n",
    "                  'barcode counts in supernatant '\n",
    "                  'and second infection for shared libraries') +\n",
    "       p9.geom_point(alpha=0.4) +\n",
    "       p9.facet_grid('gene~tag') +\n",
    "       p9.scale_x_log10() +\n",
    "       p9.scale_y_log10() +\n",
    "       p9.scale_color_manual(CBPALETTE[0:]))\n",
    "fig"
   ]
  },
  {
   "cell_type": "markdown",
   "metadata": {},
   "source": [
    "Plot frequencies of barcodes and color by which tag (or both) they are found in:"
   ]
  },
  {
   "cell_type": "code",
   "execution_count": null,
   "metadata": {
    "execution": {
     "iopub.execute_input": "2020-11-25T20:01:38.998895Z",
     "iopub.status.busy": "2020-11-25T20:01:38.997971Z",
     "iopub.status.idle": "2020-11-25T20:01:44.932463Z",
     "shell.execute_reply": "2020-11-25T20:01:44.932121Z"
    }
   },
   "outputs": [],
   "source": [
    "tag_freqs = (shared_tags_freq\n",
    "             .pivot_table(index=['source',\n",
    "                                 'gene',\n",
    "                                 'barcode',\n",
    "                                 'tags_present'],\n",
    "                          columns=['tag'],\n",
    "                          values='freq',\n",
    "                          aggfunc=np.mean)\n",
    "             .fillna(0)\n",
    "             .reset_index())\n",
    "\n",
    "display(tag_freqs)\n",
    "\n",
    "fig = (p9.ggplot(tag_freqs,\n",
    "                 p9.aes(x='wt',\n",
    "                        y='syn',\n",
    "                        color='tags_present')) +\n",
    "       p9.ggtitle(f'{expt}\\n'\n",
    "                  'barcode counts in wt and syn for shared libraries') +\n",
    "       p9.geom_point() +\n",
    "       p9.facet_grid('gene~source') +\n",
    "       p9.scale_x_log10() +\n",
    "       p9.scale_y_log10() +\n",
    "       p9.scale_color_manual(CBPALETTE[1:]))\n",
    "fig"
   ]
  },
  {
   "cell_type": "markdown",
   "metadata": {},
   "source": [
    "Plot frequencies on barcodes that are found in both tags, colored by replicate:"
   ]
  },
  {
   "cell_type": "code",
   "execution_count": null,
   "metadata": {
    "execution": {
     "iopub.execute_input": "2020-11-25T20:01:44.943416Z",
     "iopub.status.busy": "2020-11-25T20:01:44.942982Z",
     "iopub.status.idle": "2020-11-25T20:01:46.365851Z",
     "shell.execute_reply": "2020-11-25T20:01:46.366356Z"
    }
   },
   "outputs": [],
   "source": [
    "tag_freqs = (shared_tags_freq\n",
    "             .query('tags_present == \"syn and wt\"')\n",
    "             .pivot_table(index=['source',\n",
    "                                 'gene',\n",
    "                                 'barcode',\n",
    "                                 'replicate'],\n",
    "                          columns=['tag'],\n",
    "                          values='freq')\n",
    "             .fillna(0)\n",
    "             .reset_index())\n",
    "\n",
    "display(tag_freqs)\n",
    "\n",
    "fig = (p9.ggplot(tag_freqs,\n",
    "                 p9.aes(x='wt',\n",
    "                        y='syn',\n",
    "                        color='replicate')) +\n",
    "       p9.ggtitle(f'{expt}\\n'\n",
    "                  'barcode counts in wt and syn for shared libraries') +\n",
    "       p9.geom_point() +\n",
    "       p9.facet_grid('gene~source') +\n",
    "       p9.scale_x_log10() +\n",
    "       p9.scale_y_log10() +\n",
    "       p9.scale_color_manual(CBPALETTE[1:]))\n",
    "fig"
   ]
  },
  {
   "cell_type": "markdown",
   "metadata": {},
   "source": [
    "Plot correlation of technical replicates"
   ]
  },
  {
   "cell_type": "code",
   "execution_count": null,
   "metadata": {
    "execution": {
     "iopub.execute_input": "2020-11-25T20:01:51.929601Z",
     "iopub.status.busy": "2020-11-25T20:01:51.926084Z",
     "iopub.status.idle": "2020-11-25T20:02:24.003110Z",
     "shell.execute_reply": "2020-11-25T20:02:24.003600Z"
    },
    "scrolled": false
   },
   "outputs": [],
   "source": [
    "# Check that replicates fit hardcoded expectations\n",
    "replicate_names = ['replicate_1', 'replicate_2']\n",
    "n_replicates = len(replicate_names)\n",
    "for (_source, _tag, _gene), df in (viral_bc.groupby(['source',\n",
    "                                                     'tag',\n",
    "                                                     'gene'])):\n",
    "    assert set(df['replicate'].unique()) == set(replicate_names), \\\n",
    "        f\"Code assumes exactly {n_replicates} replicates per sample.\"\n",
    "\n",
    "viral_bc_wide = (viral_bc\n",
    "                 .pivot_table(index=['source',\n",
    "                                     'tag',\n",
    "                                     'gene',\n",
    "                                     'barcode'],\n",
    "                              columns='replicate',\n",
    "                              values='freq')\n",
    "                 .reset_index()\n",
    "                 .fillna(0))\n",
    "\n",
    "viral_bc_wide.columns = ['source',\n",
    "                         'tag',\n",
    "                         'gene',\n",
    "                         'barcode',\n",
    "                         'replicate_1_freq',\n",
    "                         'replicate_2_freq']\n",
    "\n",
    "viral_bc_wide['in_both'] = ((viral_bc_wide['replicate_1_freq'] > 0)\n",
    "                            & (viral_bc_wide['replicate_2_freq'] > 0))\n",
    "\n",
    "display(viral_bc_wide)\n",
    "\n",
    "fig = (p9.ggplot(viral_bc_wide,\n",
    "                 p9.aes(x='replicate_1_freq',\n",
    "                        y='replicate_2_freq',\n",
    "                        color='in_both')) +\n",
    "       p9.ggtitle(f'viral barcode replicates for experiment {expt}') +\n",
    "       p9.geom_point(alpha=0.1) +\n",
    "       p9.facet_grid('source~gene+tag') +\n",
    "       p9.scale_x_log10() +\n",
    "       p9.scale_y_log10() +\n",
    "       p9.theme(figure_size=(3.5*viral_bc_wide['gene'].nunique(),\n",
    "                             2*viral_bc_wide['source'].nunique()),\n",
    "                plot_title=p9.element_text(size=10),\n",
    "                axis_title=p9.element_text(size=10),\n",
    "                legend_title=p9.element_text(size=9),\n",
    "                legend_title_align='center') +\n",
    "       p9.scale_color_manual([CBPALETTE[1], '#000000']))\n",
    "\n",
    "# save plot\n",
    "print(f\"Saving plot to {plot}\")\n",
    "p9.ggsave(plot=fig, filename=plot, verbose=False)\n",
    "\n",
    "# show plot\n",
    "fig"
   ]
  },
  {
   "cell_type": "markdown",
   "metadata": {},
   "source": [
    "Average frequencies and export CSV:"
   ]
  },
  {
   "cell_type": "code",
   "execution_count": null,
   "metadata": {
    "execution": {
     "iopub.execute_input": "2020-11-25T20:02:24.006054Z",
     "iopub.status.busy": "2020-11-25T20:02:24.005319Z",
     "iopub.status.idle": "2020-11-25T20:02:25.199140Z",
     "shell.execute_reply": "2020-11-25T20:02:25.199639Z"
    }
   },
   "outputs": [],
   "source": [
    "viral_bc_wide['mean_freq'] = ((viral_bc_wide['replicate_1_freq']\n",
    "                               + viral_bc_wide['replicate_2_freq'])\n",
    "                              / 2)\n",
    "\n",
    "viral_bc_wide.to_csv(viral_bc_in_progeny_freq_csv,\n",
    "                     columns=['source',\n",
    "                              'tag',\n",
    "                              'gene',\n",
    "                              'barcode',\n",
    "                              'mean_freq'],\n",
    "                     index=False)"
   ]
  },
  {
   "cell_type": "markdown",
   "metadata": {},
   "source": [
    "Calculate and plot edit distance between observed barcodes:"
   ]
  },
  {
   "cell_type": "code",
   "execution_count": null,
   "metadata": {},
   "outputs": [],
   "source": [
    "sample_size = 1000\n",
    "records = []\n",
    "for (source, tag, gene), df in (viral_bc\n",
    "                                .groupby(['source',\n",
    "                                          'tag',\n",
    "                                          'gene'])):\n",
    "    print(f'Calculating hamming distance for {source} {tag} {gene}.'\n",
    "          f'\\n\\tThere are {df[\"barcode\"].nunique()} '\n",
    "          'unique barcodes in dataset.'\n",
    "          f'\\n\\tSampling {sample_size} barcodes for distribution.')\n",
    "    sample = random.sample(list(df['barcode'].unique()), sample_size)\n",
    "    for bc_pair in itertools.combinations(sample, 2):\n",
    "        records.append((source,\n",
    "                        tag,\n",
    "                        gene,\n",
    "                        bc_pair[0],\n",
    "                        bc_pair[1],\n",
    "                        editdistance.eval(bc_pair[0], bc_pair[1])))\n",
    "\n",
    "pairs_df = pd.DataFrame.from_records(records)\n",
    "pairs_df.columns = ['source',\n",
    "                    'tag',\n",
    "                    'gene',\n",
    "                    'seq_1',\n",
    "                    'seq_2',\n",
    "                    'edit_distance']\n",
    "display(pairs_df)\n",
    "\n",
    "fig = (p9.ggplot(pairs_df, p9.aes(x='edit_distance')) +\n",
    "       p9.ggtitle(f'edit distance between barcodes in {expt}') +\n",
    "       p9.geom_histogram(binwidth=1) +\n",
    "       p9.facet_grid('gene+tag~source'))\n",
    "\n",
    "fig"
   ]
  }
 ],
 "metadata": {
  "kernelspec": {
   "display_name": "Python 3",
   "language": "python",
   "name": "python3"
  },
  "language_info": {
   "codemirror_mode": {
    "name": "ipython",
    "version": 3
   },
   "file_extension": ".py",
   "mimetype": "text/x-python",
   "name": "python",
   "nbconvert_exporter": "python",
   "pygments_lexer": "ipython3",
   "version": "3.8.6"
  }
 },
 "nbformat": 4,
 "nbformat_minor": 4
}
