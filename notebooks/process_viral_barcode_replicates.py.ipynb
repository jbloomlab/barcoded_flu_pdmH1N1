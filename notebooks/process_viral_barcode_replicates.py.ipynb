{
 "cells": [
  {
   "cell_type": "code",
   "execution_count": 1,
   "metadata": {
    "execution": {
     "iopub.execute_input": "2021-03-11T20:47:09.431899Z",
     "iopub.status.busy": "2021-03-11T20:47:09.430790Z",
     "iopub.status.idle": "2021-03-11T20:47:09.545749Z",
     "shell.execute_reply": "2021-03-11T20:47:09.544962Z"
    },
    "tags": [
     "snakemake-job-properties"
    ]
   },
   "outputs": [],
   "source": [
    "\n",
    "######## snakemake preamble start (automatically inserted, do not edit) ########\n",
    "import sys; sys.path.extend(['/fh/fast/bloom_j/software/miniconda3/envs/barcoded_flu_pdmH1N1/lib/python3.8/site-packages', '/fh/fast/bloom_j/computational_notebooks/dbacsik/2019/flu_pdmH1N1_barcode_hashing/notebooks']); import pickle; snakemake = pickle.loads(b'\\x80\\x04\\x95\\x84@\\x00\\x00\\x00\\x00\\x00\\x00\\x8c\\x10snakemake.script\\x94\\x8c\\tSnakemake\\x94\\x93\\x94)\\x81\\x94}\\x94(\\x8c\\x05input\\x94\\x8c\\x0csnakemake.io\\x94\\x8c\\nInputFiles\\x94\\x93\\x94)\\x81\\x94(\\x8c]results/viral_progeny/revised_progeny_sequencing_bcTroubleShooting_viral_bc_in_progeny.csv.gz\\x94\\x8c3notebooks/process_viral_barcode_replicates.py.ipynb\\x94e}\\x94(\\x8c\\x06_names\\x94}\\x94(\\x8c\\x17viral_bc_in_progeny_csv\\x94K\\x00N\\x86\\x94\\x8c\\x08notebook\\x94K\\x01N\\x86\\x94u\\x8c\\x12_allowed_overrides\\x94]\\x94(\\x8c\\x05index\\x94\\x8c\\x04sort\\x94eh\\x15\\x8c\\tfunctools\\x94\\x8c\\x07partial\\x94\\x93\\x94h\\x06\\x8c\\x19Namedlist._used_attribute\\x94\\x93\\x94\\x85\\x94R\\x94(h\\x1b)}\\x94\\x8c\\x05_name\\x94h\\x15sNt\\x94bh\\x16h\\x19h\\x1b\\x85\\x94R\\x94(h\\x1b)}\\x94h\\x1fh\\x16sNt\\x94bh\\x0fh\\nh\\x11h\\x0bub\\x8c\\x06output\\x94h\\x06\\x8c\\x0bOutputFiles\\x94\\x93\\x94)\\x81\\x94(\\x8cbresults/viral_progeny/revised_progeny_sequencing_bcTroubleShooting_viral_bc_in_progeny_freq.csv.gz\\x94\\x8cZresults/viral_progeny/revised_progeny_sequencing_bcTroubleShooting_viral_bc_replicates.pdf\\x94e}\\x94(h\\r}\\x94(\\x8c\\x1cviral_bc_in_progeny_freq_csv\\x94K\\x00N\\x86\\x94\\x8c\\x04plot\\x94K\\x01N\\x86\\x94uh\\x13]\\x94(h\\x15h\\x16eh\\x15h\\x19h\\x1b\\x85\\x94R\\x94(h\\x1b)}\\x94h\\x1fh\\x15sNt\\x94bh\\x16h\\x19h\\x1b\\x85\\x94R\\x94(h\\x1b)}\\x94h\\x1fh\\x16sNt\\x94bh-h)h/h*ub\\x8c\\x06params\\x94h\\x06\\x8c\\x06Params\\x94\\x93\\x94)\\x81\\x94}\\x94(h\\r}\\x94h\\x13]\\x94(h\\x15h\\x16eh\\x15h\\x19h\\x1b\\x85\\x94R\\x94(h\\x1b)}\\x94h\\x1fh\\x15sNt\\x94bh\\x16h\\x19h\\x1b\\x85\\x94R\\x94(h\\x1b)}\\x94h\\x1fh\\x16sNt\\x94bub\\x8c\\twildcards\\x94h\\x06\\x8c\\tWildcards\\x94\\x93\\x94)\\x81\\x94\\x8c,revised_progeny_sequencing_bcTroubleShooting\\x94a}\\x94(h\\r}\\x94\\x8c\\x04expt\\x94K\\x00N\\x86\\x94sh\\x13]\\x94(h\\x15h\\x16eh\\x15h\\x19h\\x1b\\x85\\x94R\\x94(h\\x1b)}\\x94h\\x1fh\\x15sNt\\x94bh\\x16h\\x19h\\x1b\\x85\\x94R\\x94(h\\x1b)}\\x94h\\x1fh\\x16sNt\\x94b\\x8c\\x04expt\\x94hMub\\x8c\\x07threads\\x94K\\x01\\x8c\\tresources\\x94h\\x06\\x8c\\tResources\\x94\\x93\\x94)\\x81\\x94(K\\x01K\\x01e}\\x94(h\\r}\\x94(\\x8c\\x06_cores\\x94K\\x00N\\x86\\x94\\x8c\\x06_nodes\\x94K\\x01N\\x86\\x94uh\\x13]\\x94(h\\x15h\\x16eh\\x15h\\x19h\\x1b\\x85\\x94R\\x94(h\\x1b)}\\x94h\\x1fh\\x15sNt\\x94bh\\x16h\\x19h\\x1b\\x85\\x94R\\x94(h\\x1b)}\\x94h\\x1fh\\x16sNt\\x94bhcK\\x01heK\\x01ub\\x8c\\x03log\\x94h\\x06\\x8c\\x03Log\\x94\\x93\\x94)\\x81\\x94\\x8c`results/logs/process_viral_barcode_replicates_revised_progeny_sequencing_bcTroubleShooting.ipynb\\x94a}\\x94(h\\r}\\x94h\\x11K\\x00N\\x86\\x94sh\\x13]\\x94(h\\x15h\\x16eh\\x15h\\x19h\\x1b\\x85\\x94R\\x94(h\\x1b)}\\x94h\\x1fh\\x15sNt\\x94bh\\x16h\\x19h\\x1b\\x85\\x94R\\x94(h\\x1b)}\\x94h\\x1fh\\x16sNt\\x94bh\\x11htub\\x8c\\x06config\\x94}\\x94(\\x8c\\x08max_cpus\\x94K\\x10\\x8c\\x07log_dir\\x94\\x8c\\x0cresults/logs\\x94\\x8c\\x0cfastq10x_dir\\x94\\x8c\\x10results/fastq10x\\x94\\x8c\\npacbio_dir\\x94\\x8c\\x0eresults/pacbio\\x94\\x8c\\x0emkfastq10x_dir\\x94\\x8c\\x1fresults/fastq10x/mkfastq_output\\x94\\x8c\\ngenome_dir\\x94\\x8c\\x0fresults/genomes\\x94\\x8c\\trefgenome\\x94\\x8c\\x19results/genomes/refgenome\\x94\\x8c\\x14aligned_fastq10x_dir\\x94\\x8c\\x18results/aligned_fastq10x\\x94\\x8c\\x12viral_fastq10x_dir\\x94\\x8c\\x16results/viral_fastq10x\\x94\\x8c\\x1bviral_tags_bcs_in_cells_dir\\x94\\x8c\\x1fresults/viral_tags_bcs_in_cells\\x94\\x8c\\x11viral_progeny_dir\\x94\\x8c\\x15results/viral_progeny\\x94\\x8c\\x13align_and_parse_dir\\x94\\x8c#results/pacbio/CA09_align_and_parse\\x94\\x8c\\x0fcell_genome_ftp\\x94\\x8cmftp://ftp.ensembl.org/pub/release-98/fasta/canis_familiaris/dna/Canis_familiaris.CanFam3.1.dna.toplevel.fa.gz\\x94\\x8c\\x0ccell_gtf_ftp\\x94\\x8c^ftp://ftp.ensembl.org/pub/release-98/gtf/canis_familiaris/Canis_familiaris.CanFam3.1.98.gtf.gz\\x94\\x8c\\x0cviral_genome\\x94\\x8c!data/flu_sequences/flu-CA09.fasta\\x94\\x8c\\tviral_gtf\\x94\\x8c\\x1fdata/flu_sequences/flu-CA09.gtf\\x94\\x8c\\rviral_genbank\\x94\\x8c\\x1edata/flu_sequences/flu-CA09.gb\\x94\\x8c\\x14viral_tag_identities\\x94\\x8c+data/flu_sequences/flu-CA09_viral_tags.yaml\\x94\\x8c\\x0fviral_amplicons\\x94\\x8c.data/flu_sequences/pacbio_amplicons/fluCA09.gb\\x94\\x8c\\x11amplicon_features\\x94\\x8c9data/flu_sequences/pacbio_amplicons/fluCA09_features.yaml\\x94\\x8c\\x1eamplicon_linearization_primers\\x94\\x8c=data/flu_sequences/pacbio_amplicons/linearization_primers.tsv\\x94\\x8c\\x15amplicon_to_reference\\x94\\x8c=data/flu_sequences/pacbio_amplicons/amplicon_to_reference.csv\\x94\\x8c\\x0escoreGapNoncan\\x94J\\xfc\\xff\\xff\\xff\\x8c\\x0cscoreGapGCAG\\x94J\\xfc\\xff\\xff\\xff\\x8c\\x0cscoreGapATAC\\x94J\\xfc\\xff\\xff\\xff\\x8c\\x14cb_whitelist_10x_url\\x94\\x8ckhttps://github.com/10XGenomics/cellranger/raw/master/lib/python/cellranger/barcodes/3M-february-2018.txt.gz\\x94\\x8c\\x10cb_whitelist_10x\\x94\\x8c-results/aligned_fastq10x/cb_whitelist_10x.txt\\x94\\x8c\\ncb_len_10x\\x94K\\x10\\x8c\\x0bumi_len_10x\\x94K\\x0c\\x8c\"infection_calling_by_viral_tag_fdr\\x94G?\\x1a6\\xe2\\xeb\\x1cC-\\x8c\\x1dviral_barcode_upstream_length\\x94K\\x1c\\x8c\\x16viral_barcode_mismatch\\x94K\\x00\\x8c\\x12viral_barcode_minq\\x94K\\x1e\\x8c\\x0cviral_bc_fdr\\x94G?\\x1a6\\xe2\\xeb\\x1cC-\\x8c\\x0eccs_min_length\\x94K2\\x8c\\x0eccs_max_length\\x94M\\x88\\x13\\x8c\\nccs_min_rq\\x94G?\\xef\\xf7\\xce\\xd9\\x16\\x87+\\x8c\\x0bexperiments\\x94}\\x94(\\x8c,scProgenyProduction_trial1_bcTroubleShooting\\x94}\\x94(\\x8c\\x0bdescription\\x94\\x8c\\xe7Single-cell transcriptomics performed on low MOI-infected sample. Innoculum volumes based on `hashing_trial2` data. Loaded all collected cells from two 24-well wells, each infected with either wildtype or dblySn viral tag variants.\\x94\\x8c\\tlab_notes\\x94\\x8c0https://benchling.com/s/etr-20lOO7l1FdEJJIpxV6vD\\x94\\x8c\\rexpect_ncells\\x94M\\x10\\'\\x8c\\x0eviral_barcodes\\x94}\\x94(\\x8c\\x07plasmid\\x94}\\x94(\\x8c\\x02wt\\x94}\\x94(\\x8c\\x05fluHA\\x94}\\x94\\x8c\\x0breplicate_1\\x94}\\x94\\x8c\\x08datetime\\x94\\x8c\\x04date\\x94\\x93\\x94C\\x04\\x07\\xe3\\x0c\\x10\\x94\\x85\\x94R\\x94\\x8c\\x84/shared/ngs/illumina/bloom_lab/191206_M03100_0506_000000000-CNPGD/Data/Intensities/BaseCalls/plasmid-bcHA-WT_S1_L001_R1_001.fastq.gz\\x94ss\\x8c\\x05fluNA\\x94}\\x94\\x8c\\x0breplicate_1\\x94}\\x94\\x8c\\t2019-1216\\x94\\x8c\\x84/shared/ngs/illumina/bloom_lab/191206_M03100_0506_000000000-CNPGD/Data/Intensities/BaseCalls/plasmid-bcNA-WT_S3_L001_R1_001.fastq.gz\\x94ssu\\x8c\\x03syn\\x94}\\x94(\\x8c\\x05fluHA\\x94}\\x94\\x8c\\x0breplicate_1\\x94}\\x94h\\xd4C\\x04\\x07\\xe3\\x0c\\x10\\x94\\x85\\x94R\\x94\\x8c\\x88/shared/ngs/illumina/bloom_lab/191206_M03100_0506_000000000-CNPGD/Data/Intensities/BaseCalls/plasmid-bcHA-dblSyn_S2_L001_R1_001.fastq.gz\\x94ss\\x8c\\x05fluNA\\x94}\\x94\\x8c\\x0breplicate_1\\x94}\\x94h\\xd4C\\x04\\x07\\xe3\\x0c\\x10\\x94\\x85\\x94R\\x94\\x8c\\x88/shared/ngs/illumina/bloom_lab/191206_M03100_0506_000000000-CNPGD/Data/Intensities/BaseCalls/plasmid-bcNA-dblSyn_S4_L001_R1_001.fastq.gz\\x94ssuu\\x8c\\x06rescue\\x94}\\x94(\\x8c\\x02wt\\x94}\\x94(\\x8c\\x05fluHA\\x94}\\x94\\x8c\\x0breplicate_1\\x94}\\x94h\\xd4C\\x04\\x07\\xe3\\x0c\\x10\\x94\\x85\\x94R\\x94\\x8c\\x83/shared/ngs/illumina/bloom_lab/191206_M03100_0506_000000000-CNPGD/Data/Intensities/BaseCalls/rescue-bcHA-WT_S5_L001_R1_001.fastq.gz\\x94ss\\x8c\\x05fluNA\\x94}\\x94\\x8c\\x0breplicate_1\\x94}\\x94h\\xd4C\\x04\\x07\\xe3\\x0c\\x10\\x94\\x85\\x94R\\x94\\x8c\\x83/shared/ngs/illumina/bloom_lab/191206_M03100_0506_000000000-CNPGD/Data/Intensities/BaseCalls/rescue-bcNA-WT_S7_L001_R1_001.fastq.gz\\x94ssu\\x8c\\x03syn\\x94}\\x94(\\x8c\\x05fluHA\\x94}\\x94\\x8c\\x0breplicate_1\\x94}\\x94h\\xd4C\\x04\\x07\\xe3\\x0c\\x10\\x94\\x85\\x94R\\x94\\x8c\\x8b/shared/ngs/illumina/bloom_lab/191223_M03100_0515_000000000-CTH55/Data/Intensities/BaseCalls/dblSyn-rescueTrial2-HA_S1_L001_R1_001.fastq.gz\\x94ss\\x8c\\x05fluNA\\x94}\\x94\\x8c\\x0breplicate_1\\x94}\\x94h\\xd4C\\x04\\x07\\xe3\\x0c\\x10\\x94\\x85\\x94R\\x94\\x8c\\x8b/shared/ngs/illumina/bloom_lab/191223_M03100_0515_000000000-CTH55/Data/Intensities/BaseCalls/dblSyn-rescueTrial2-NA_S2_L001_R1_001.fastq.gz\\x94ssuu\\x8c\\x0bsupernatant\\x94}\\x94(\\x8c\\x02wt\\x94}\\x94(\\x8c\\x05fluHA\\x94}\\x94(\\x8c\\x0breplicate_1\\x94}\\x94h\\xd4C\\x04\\x07\\xe4\\n\\r\\x94\\x85\\x94R\\x94\\x8c\\x8a/shared/ngs/illumina/bloom_lab/201013_M03100_0625_000000000-JB2KP/Data/Intensities/BaseCalls/Trial1-WT-Sup-fluHA-A_S1_L001_R1_001.fastq.gz\\x94s\\x8c\\x0breplicate_2\\x94}\\x94h\\xd4C\\x04\\x07\\xe4\\n\\r\\x94\\x85\\x94R\\x94\\x8c\\x8a/shared/ngs/illumina/bloom_lab/201013_M03100_0625_000000000-JB2KP/Data/Intensities/BaseCalls/Trial1-WT-Sup-fluHA-B_S2_L001_R1_001.fastq.gz\\x94su\\x8c\\x05fluNA\\x94}\\x94(\\x8c\\x0breplicate_1\\x94}\\x94h\\xd4C\\x04\\x07\\xe4\\n\\r\\x94\\x85\\x94R\\x94\\x8c\\x8b/shared/ngs/illumina/bloom_lab/201013_M03100_0625_000000000-JB2KP/Data/Intensities/BaseCalls/Trial1-WT-Sup-fluNA-A_S17_L001_R1_001.fastq.gz\\x94s\\x8c\\x0breplicate_2\\x94}\\x94h\\xd4C\\x04\\x07\\xe4\\n\\r\\x94\\x85\\x94R\\x94\\x8c\\x8b/shared/ngs/illumina/bloom_lab/201013_M03100_0625_000000000-JB2KP/Data/Intensities/BaseCalls/Trial1-WT-Sup-fluNA-B_S18_L001_R1_001.fastq.gz\\x94suu\\x8c\\x03syn\\x94}\\x94(\\x8c\\x05fluHA\\x94}\\x94(\\x8c\\x0breplicate_1\\x94}\\x94h\\xd4C\\x04\\x07\\xe4\\n\\r\\x94\\x85\\x94R\\x94\\x8c\\x8e/shared/ngs/illumina/bloom_lab/201013_M03100_0625_000000000-JB2KP/Data/Intensities/BaseCalls/Trial1-dblSyn-Sup-fluHA-A_S3_L001_R1_001.fastq.gz\\x94s\\x8c\\x0breplicate_2\\x94}\\x94h\\xd4C\\x04\\x07\\xe4\\n\\r\\x94\\x85\\x94R\\x94\\x8c\\x8e/shared/ngs/illumina/bloom_lab/201013_M03100_0625_000000000-JB2KP/Data/Intensities/BaseCalls/Trial1-dblSyn-Sup-fluHA-B_S4_L001_R1_001.fastq.gz\\x94su\\x8c\\x05fluNA\\x94}\\x94(\\x8c\\x0breplicate_1\\x94}\\x94h\\xd4C\\x04\\x07\\xe4\\n\\r\\x94\\x85\\x94R\\x94\\x8c\\x8f/shared/ngs/illumina/bloom_lab/201013_M03100_0625_000000000-JB2KP/Data/Intensities/BaseCalls/Trial1-dblSyn-Sup-fluNA-A_S19_L001_R1_001.fastq.gz\\x94s\\x8c\\x0breplicate_2\\x94}\\x94h\\xd4C\\x04\\x07\\xe4\\n\\r\\x94\\x85\\x94R\\x94\\x8c\\x8f/shared/ngs/illumina/bloom_lab/201013_M03100_0625_000000000-JB2KP/Data/Intensities/BaseCalls/Trial1-dblSyn-Sup-fluNA-B_S20_L001_R1_001.fastq.gz\\x94suuu\\x8c\\x10second_infection\\x94}\\x94(\\x8c\\x02wt\\x94}\\x94(\\x8c\\x05fluHA\\x94}\\x94(\\x8c\\x0breplicate_1\\x94}\\x94h\\xd4C\\x04\\x07\\xe4\\n\\r\\x94\\x85\\x94R\\x94\\x8c\\x90/shared/ngs/illumina/bloom_lab/201013_M03100_0625_000000000-JB2KP/Data/Intensities/BaseCalls/Trial1-WT-SecondInf-fluHA-A_S5_L001_R1_001.fastq.gz\\x94s\\x8c\\x0breplicate_2\\x94}\\x94h\\xd4C\\x04\\x07\\xe4\\n\\r\\x94\\x85\\x94R\\x94\\x8c\\x90/shared/ngs/illumina/bloom_lab/201013_M03100_0625_000000000-JB2KP/Data/Intensities/BaseCalls/Trial1-WT-SecondInf-fluHA-B_S6_L001_R1_001.fastq.gz\\x94su\\x8c\\x05fluNA\\x94}\\x94(\\x8c\\x0breplicate_1\\x94}\\x94h\\xd4C\\x04\\x07\\xe4\\n\\r\\x94\\x85\\x94R\\x94\\x8c\\x91/shared/ngs/illumina/bloom_lab/201013_M03100_0625_000000000-JB2KP/Data/Intensities/BaseCalls/Trial1-WT-SecondInf-fluNA-A_S21_L001_R1_001.fastq.gz\\x94s\\x8c\\x0breplicate_2\\x94}\\x94h\\xd4C\\x04\\x07\\xe4\\n\\r\\x94\\x85\\x94R\\x94\\x8c\\x91/shared/ngs/illumina/bloom_lab/201013_M03100_0625_000000000-JB2KP/Data/Intensities/BaseCalls/Trial1-WT-SecondInf-fluNA-B_S22_L001_R1_001.fastq.gz\\x94suu\\x8c\\x03syn\\x94}\\x94(\\x8c\\x05fluHA\\x94}\\x94(\\x8c\\x0breplicate_1\\x94}\\x94h\\xd4C\\x04\\x07\\xe4\\n\\r\\x94\\x85\\x94R\\x94\\x8c\\x94/shared/ngs/illumina/bloom_lab/201013_M03100_0625_000000000-JB2KP/Data/Intensities/BaseCalls/Trial1-dblSyn-SecondInf-fluHA-A_S7_L001_R1_001.fastq.gz\\x94s\\x8c\\x0breplicate_2\\x94}\\x94h\\xd4C\\x04\\x07\\xe4\\n\\r\\x94\\x85\\x94R\\x94\\x8c\\x94/shared/ngs/illumina/bloom_lab/201013_M03100_0625_000000000-JB2KP/Data/Intensities/BaseCalls/Trial1-dblSyn-SecondInf-fluHA-B_S8_L001_R1_001.fastq.gz\\x94su\\x8c\\x05fluNA\\x94}\\x94(\\x8c\\x0breplicate_1\\x94}\\x94h\\xd4C\\x04\\x07\\xe4\\n\\r\\x94\\x85\\x94R\\x94\\x8c\\x95/shared/ngs/illumina/bloom_lab/201013_M03100_0625_000000000-JB2KP/Data/Intensities/BaseCalls/Trial1-dblSyn-SecondInf-fluNA-A_S23_L001_R1_001.fastq.gz\\x94s\\x8c\\x0breplicate_2\\x94}\\x94h\\xd4C\\x04\\x07\\xe4\\n\\r\\x94\\x85\\x94R\\x94\\x8c\\x95/shared/ngs/illumina/bloom_lab/201013_M03100_0625_000000000-JB2KP/Data/Intensities/BaseCalls/Trial1-dblSyn-SecondInf-fluNA-B_S24_L001_R1_001.fastq.gz\\x94suuuuu\\x8c,scProgenyProduction_trial2_bcTroubleShooting\\x94}\\x94(\\x8c\\x0bdescription\\x94\\x8c\\xe7Single-cell transcriptomics performed on low MOI-infected sample. Innoculum volumes based on `hashing_trial2` data. Loaded all collected cells from two 24-well wells, each infected with either wildtype or dblySn viral tag variants.\\x94\\x8c\\tlab_notes\\x94\\x8c0https://benchling.com/s/etr-73UD4Mx8uXn1xcxlV1ym\\x94\\x8c\\rexpect_ncells\\x94M\\x10\\'\\x8c\\x0eviral_barcodes\\x94}\\x94(\\x8c\\x07plasmid\\x94}\\x94(\\x8c\\x02wt\\x94}\\x94(\\x8c\\x05fluHA\\x94}\\x94\\x8c\\x0breplicate_1\\x94}\\x94h\\xd4C\\x04\\x07\\xe3\\x0c\\x10\\x94\\x85\\x94R\\x94\\x8c\\x84/shared/ngs/illumina/bloom_lab/191206_M03100_0506_000000000-CNPGD/Data/Intensities/BaseCalls/plasmid-bcHA-WT_S1_L001_R1_001.fastq.gz\\x94ss\\x8c\\x05fluNA\\x94}\\x94\\x8c\\x0breplicate_1\\x94}\\x94\\x8c\\t2019-1216\\x94\\x8c\\x84/shared/ngs/illumina/bloom_lab/191206_M03100_0506_000000000-CNPGD/Data/Intensities/BaseCalls/plasmid-bcNA-WT_S3_L001_R1_001.fastq.gz\\x94ssu\\x8c\\x03syn\\x94}\\x94(\\x8c\\x05fluHA\\x94}\\x94\\x8c\\x0breplicate_1\\x94}\\x94h\\xd4C\\x04\\x07\\xe3\\x0c\\x10\\x94\\x85\\x94R\\x94\\x8c\\x88/shared/ngs/illumina/bloom_lab/191206_M03100_0506_000000000-CNPGD/Data/Intensities/BaseCalls/plasmid-bcHA-dblSyn_S2_L001_R1_001.fastq.gz\\x94ss\\x8c\\x05fluNA\\x94}\\x94\\x8c\\x0breplicate_1\\x94}\\x94h\\xd4C\\x04\\x07\\xe3\\x0c\\x10\\x94\\x85\\x94R\\x94\\x8c\\x88/shared/ngs/illumina/bloom_lab/191206_M03100_0506_000000000-CNPGD/Data/Intensities/BaseCalls/plasmid-bcNA-dblSyn_S4_L001_R1_001.fastq.gz\\x94ssuu\\x8c\\x06rescue\\x94}\\x94(\\x8c\\x02wt\\x94}\\x94(\\x8c\\x05fluHA\\x94}\\x94\\x8c\\x0breplicate_1\\x94}\\x94h\\xd4C\\x04\\x07\\xe3\\x0c\\x10\\x94\\x85\\x94R\\x94\\x8c\\x83/shared/ngs/illumina/bloom_lab/191206_M03100_0506_000000000-CNPGD/Data/Intensities/BaseCalls/rescue-bcHA-WT_S5_L001_R1_001.fastq.gz\\x94ss\\x8c\\x05fluNA\\x94}\\x94\\x8c\\x0breplicate_1\\x94}\\x94h\\xd4C\\x04\\x07\\xe3\\x0c\\x10\\x94\\x85\\x94R\\x94\\x8c\\x83/shared/ngs/illumina/bloom_lab/191206_M03100_0506_000000000-CNPGD/Data/Intensities/BaseCalls/rescue-bcNA-WT_S7_L001_R1_001.fastq.gz\\x94ssu\\x8c\\x03syn\\x94}\\x94(\\x8c\\x05fluHA\\x94}\\x94\\x8c\\x0breplicate_1\\x94}\\x94h\\xd4C\\x04\\x07\\xe3\\x0c\\x10\\x94\\x85\\x94R\\x94\\x8c\\x8b/shared/ngs/illumina/bloom_lab/191223_M03100_0515_000000000-CTH55/Data/Intensities/BaseCalls/dblSyn-rescueTrial2-HA_S1_L001_R1_001.fastq.gz\\x94ss\\x8c\\x05fluNA\\x94}\\x94\\x8c\\x0breplicate_1\\x94}\\x94h\\xd4C\\x04\\x07\\xe3\\x0c\\x10\\x94\\x85\\x94R\\x94\\x8c\\x8b/shared/ngs/illumina/bloom_lab/191223_M03100_0515_000000000-CTH55/Data/Intensities/BaseCalls/dblSyn-rescueTrial2-NA_S2_L001_R1_001.fastq.gz\\x94ssuu\\x8c\\x0bsupernatant\\x94}\\x94(\\x8c\\x02wt\\x94}\\x94(\\x8c\\x05fluHA\\x94}\\x94(\\x8c\\x0breplicate_1\\x94}\\x94h\\xd4C\\x04\\x07\\xe4\\n\\r\\x94\\x85\\x94R\\x94\\x8c\\x8a/shared/ngs/illumina/bloom_lab/201013_M03100_0625_000000000-JB2KP/Data/Intensities/BaseCalls/Trial2-WT-Sup-fluHA-A_S9_L001_R1_001.fastq.gz\\x94s\\x8c\\x0breplicate_2\\x94}\\x94h\\xd4C\\x04\\x07\\xe4\\n\\r\\x94\\x85\\x94R\\x94\\x8c\\x8b/shared/ngs/illumina/bloom_lab/201013_M03100_0625_000000000-JB2KP/Data/Intensities/BaseCalls/Trial2-WT-Sup-fluHA-B_S10_L001_R1_001.fastq.gz\\x94su\\x8c\\x05fluNA\\x94}\\x94(\\x8c\\x0breplicate_1\\x94}\\x94h\\xd4C\\x04\\x07\\xe4\\n\\r\\x94\\x85\\x94R\\x94\\x8c\\x8b/shared/ngs/illumina/bloom_lab/201013_M03100_0625_000000000-JB2KP/Data/Intensities/BaseCalls/Trial2-WT-Sup-fluNA-A_S25_L001_R1_001.fastq.gz\\x94s\\x8c\\x0breplicate_2\\x94}\\x94h\\xd4C\\x04\\x07\\xe4\\n\\r\\x94\\x85\\x94R\\x94\\x8c\\x8b/shared/ngs/illumina/bloom_lab/201013_M03100_0625_000000000-JB2KP/Data/Intensities/BaseCalls/Trial2-WT-Sup-fluNA-B_S26_L001_R1_001.fastq.gz\\x94suu\\x8c\\x03syn\\x94}\\x94(\\x8c\\x05fluHA\\x94}\\x94(\\x8c\\x0breplicate_1\\x94}\\x94h\\xd4C\\x04\\x07\\xe4\\n\\r\\x94\\x85\\x94R\\x94\\x8c\\x8f/shared/ngs/illumina/bloom_lab/201013_M03100_0625_000000000-JB2KP/Data/Intensities/BaseCalls/Trial2-dblSyn-Sup-fluHA-A_S11_L001_R1_001.fastq.gz\\x94s\\x8c\\x0breplicate_2\\x94}\\x94h\\xd4C\\x04\\x07\\xe4\\n\\r\\x94\\x85\\x94R\\x94\\x8c\\x8f/shared/ngs/illumina/bloom_lab/201013_M03100_0625_000000000-JB2KP/Data/Intensities/BaseCalls/Trial2-dblSyn-Sup-fluHA-B_S12_L001_R1_001.fastq.gz\\x94su\\x8c\\x05fluNA\\x94}\\x94(\\x8c\\x0breplicate_1\\x94}\\x94h\\xd4C\\x04\\x07\\xe4\\n\\r\\x94\\x85\\x94R\\x94\\x8c\\x8f/shared/ngs/illumina/bloom_lab/201013_M03100_0625_000000000-JB2KP/Data/Intensities/BaseCalls/Trial2-dblSyn-Sup-fluNA-A_S27_L001_R1_001.fastq.gz\\x94s\\x8c\\x0breplicate_2\\x94}\\x94h\\xd4C\\x04\\x07\\xe4\\n\\r\\x94\\x85\\x94R\\x94\\x8c\\x8f/shared/ngs/illumina/bloom_lab/201013_M03100_0625_000000000-JB2KP/Data/Intensities/BaseCalls/Trial2-dblSyn-Sup-fluNA-B_S28_L001_R1_001.fastq.gz\\x94suuu\\x8c\\x10second_infection\\x94}\\x94(\\x8c\\x02wt\\x94}\\x94(\\x8c\\x05fluHA\\x94}\\x94(\\x8c\\x0breplicate_1\\x94}\\x94h\\xd4C\\x04\\x07\\xe4\\n\\r\\x94\\x85\\x94R\\x94\\x8c\\x91/shared/ngs/illumina/bloom_lab/201013_M03100_0625_000000000-JB2KP/Data/Intensities/BaseCalls/Trial2-WT-SecondInf-fluHA-A_S13_L001_R1_001.fastq.gz\\x94s\\x8c\\x0breplicate_2\\x94}\\x94h\\xd4C\\x04\\x07\\xe4\\n\\r\\x94\\x85\\x94R\\x94\\x8c\\x91/shared/ngs/illumina/bloom_lab/201013_M03100_0625_000000000-JB2KP/Data/Intensities/BaseCalls/Trial2-WT-SecondInf-fluHA-B_S14_L001_R1_001.fastq.gz\\x94su\\x8c\\x05fluNA\\x94}\\x94(\\x8c\\x0breplicate_1\\x94}\\x94h\\xd4C\\x04\\x07\\xe4\\n\\r\\x94\\x85\\x94R\\x94\\x8c\\x91/shared/ngs/illumina/bloom_lab/201013_M03100_0625_000000000-JB2KP/Data/Intensities/BaseCalls/Trial2-WT-SecondInf-fluNA-A_S29_L001_R1_001.fastq.gz\\x94s\\x8c\\x0breplicate_2\\x94}\\x94h\\xd4C\\x04\\x07\\xe4\\n\\r\\x94\\x85\\x94R\\x94\\x8c\\x91/shared/ngs/illumina/bloom_lab/201013_M03100_0625_000000000-JB2KP/Data/Intensities/BaseCalls/Trial2-WT-SecondInf-fluNA-B_S30_L001_R1_001.fastq.gz\\x94suu\\x8c\\x03syn\\x94}\\x94(\\x8c\\x05fluHA\\x94}\\x94(\\x8c\\x0breplicate_1\\x94}\\x94h\\xd4C\\x04\\x07\\xe4\\n\\r\\x94\\x85\\x94R\\x94\\x8c\\x95/shared/ngs/illumina/bloom_lab/201013_M03100_0625_000000000-JB2KP/Data/Intensities/BaseCalls/Trial2-dblSyn-SecondInf-fluHA-A_S15_L001_R1_001.fastq.gz\\x94s\\x8c\\x0breplicate_2\\x94}\\x94h\\xd4C\\x04\\x07\\xe4\\n\\r\\x94\\x85\\x94R\\x94\\x8c\\x95/shared/ngs/illumina/bloom_lab/201013_M03100_0625_000000000-JB2KP/Data/Intensities/BaseCalls/Trial2-dblSyn-SecondInf-fluHA-B_S16_L001_R1_001.fastq.gz\\x94su\\x8c\\x05fluNA\\x94}\\x94(\\x8c\\x0breplicate_1\\x94}\\x94h\\xd4C\\x04\\x07\\xe4\\n\\r\\x94\\x85\\x94R\\x94\\x8c\\x95/shared/ngs/illumina/bloom_lab/201013_M03100_0625_000000000-JB2KP/Data/Intensities/BaseCalls/Trial2-dblSyn-SecondInf-fluNA-A_S31_L001_R1_001.fastq.gz\\x94s\\x8c\\x0breplicate_2\\x94}\\x94h\\xd4C\\x04\\x07\\xe4\\n\\r\\x94\\x85\\x94R\\x94\\x8c\\x95/shared/ngs/illumina/bloom_lab/201013_M03100_0625_000000000-JB2KP/Data/Intensities/BaseCalls/Trial2-dblSyn-SecondInf-fluNA-B_S32_L001_R1_001.fastq.gz\\x94suuuuu\\x8c,revised_progeny_sequencing_bcTroubleShooting\\x94}\\x94(\\x8c\\x0bdescription\\x94\\x8ciNew version of progeny sequencing library prep. Adjusted annealing/extension parameters and plate layout.\\x94\\x8c\\tlab_notes\\x94\\x8c0https://benchling.com/s/etr-D9bvVlLM3K5lSgeiCGhg\\x94\\x8c\\rexpect_ncells\\x94M\\x10\\'\\x8c\\x0eviral_barcodes\\x94}\\x94(\\x8c\\x07plasmid\\x94}\\x94(\\x8c\\x02wt\\x94}\\x94(\\x8c\\x05fluHA\\x94}\\x94\\x8c\\x0breplicate_1\\x94}\\x94h\\xd4C\\x04\\x07\\xe3\\x0c\\x10\\x94\\x85\\x94R\\x94\\x8c\\x84/shared/ngs/illumina/bloom_lab/191206_M03100_0506_000000000-CNPGD/Data/Intensities/BaseCalls/plasmid-bcHA-WT_S1_L001_R1_001.fastq.gz\\x94ss\\x8c\\x05fluNA\\x94}\\x94\\x8c\\x0breplicate_1\\x94}\\x94\\x8c\\t2019-1216\\x94\\x8c\\x84/shared/ngs/illumina/bloom_lab/191206_M03100_0506_000000000-CNPGD/Data/Intensities/BaseCalls/plasmid-bcNA-WT_S3_L001_R1_001.fastq.gz\\x94ssu\\x8c\\x03syn\\x94}\\x94(\\x8c\\x05fluHA\\x94}\\x94\\x8c\\x0breplicate_1\\x94}\\x94h\\xd4C\\x04\\x07\\xe3\\x0c\\x10\\x94\\x85\\x94R\\x94\\x8c\\x88/shared/ngs/illumina/bloom_lab/191206_M03100_0506_000000000-CNPGD/Data/Intensities/BaseCalls/plasmid-bcHA-dblSyn_S2_L001_R1_001.fastq.gz\\x94ss\\x8c\\x05fluNA\\x94}\\x94\\x8c\\x0breplicate_1\\x94}\\x94h\\xd4C\\x04\\x07\\xe3\\x0c\\x10\\x94\\x85\\x94R\\x94\\x8c\\x88/shared/ngs/illumina/bloom_lab/191206_M03100_0506_000000000-CNPGD/Data/Intensities/BaseCalls/plasmid-bcNA-dblSyn_S4_L001_R1_001.fastq.gz\\x94ssuu\\x8c\\x06rescue\\x94}\\x94(\\x8c\\x02wt\\x94}\\x94(\\x8c\\x05fluHA\\x94}\\x94\\x8c\\x0breplicate_1\\x94}\\x94h\\xd4C\\x04\\x07\\xe3\\x0c\\x10\\x94\\x85\\x94R\\x94\\x8c\\x83/shared/ngs/illumina/bloom_lab/191206_M03100_0506_000000000-CNPGD/Data/Intensities/BaseCalls/rescue-bcHA-WT_S5_L001_R1_001.fastq.gz\\x94ss\\x8c\\x05fluNA\\x94}\\x94\\x8c\\x0breplicate_1\\x94}\\x94h\\xd4C\\x04\\x07\\xe3\\x0c\\x10\\x94\\x85\\x94R\\x94\\x8c\\x83/shared/ngs/illumina/bloom_lab/191206_M03100_0506_000000000-CNPGD/Data/Intensities/BaseCalls/rescue-bcNA-WT_S7_L001_R1_001.fastq.gz\\x94ssu\\x8c\\x03syn\\x94}\\x94(\\x8c\\x05fluHA\\x94}\\x94\\x8c\\x0breplicate_1\\x94}\\x94h\\xd4C\\x04\\x07\\xe3\\x0c\\x10\\x94\\x85\\x94R\\x94\\x8c\\x8b/shared/ngs/illumina/bloom_lab/191223_M03100_0515_000000000-CTH55/Data/Intensities/BaseCalls/dblSyn-rescueTrial2-HA_S1_L001_R1_001.fastq.gz\\x94ss\\x8c\\x05fluNA\\x94}\\x94\\x8c\\x0breplicate_1\\x94}\\x94h\\xd4C\\x04\\x07\\xe3\\x0c\\x10\\x94\\x85\\x94R\\x94\\x8c\\x8b/shared/ngs/illumina/bloom_lab/191223_M03100_0515_000000000-CTH55/Data/Intensities/BaseCalls/dblSyn-rescueTrial2-NA_S2_L001_R1_001.fastq.gz\\x94ssuu\\x8c\\x0bsupernatant\\x94}\\x94(\\x8c\\x02wt\\x94}\\x94\\x8c\\x05fluHA\\x94}\\x94(\\x8c\\x0breplicate_1\\x94}\\x94h\\xd4C\\x04\\x07\\xe5\\x02\\x1a\\x94\\x85\\x94R\\x94\\x8c\\x8f/shared/ngs/illumina/bloom_lab/210226_M03100_0664_000000000-JG4MH/Data/Intensities/BaseCalls/PP-Bottleneck-HA-WT-Sup-B1_S1_L001_R1_001.fastq.gz\\x94s\\x8c\\x0breplicate_2\\x94}\\x94h\\xd4C\\x04\\x07\\xe5\\x02\\x1a\\x94\\x85\\x94R\\x94\\x8c\\x8f/shared/ngs/illumina/bloom_lab/210226_M03100_0664_000000000-JG4MH/Data/Intensities/BaseCalls/PP-Bottleneck-HA-WT-Sup-B2_S2_L001_R1_001.fastq.gz\\x94sus\\x8c\\x03syn\\x94}\\x94\\x8c\\x05fluHA\\x94}\\x94(\\x8c\\x0breplicate_1\\x94}\\x94h\\xd4C\\x04\\x07\\xe5\\x02\\x1a\\x94\\x85\\x94R\\x94\\x8c\\x90/shared/ngs/illumina/bloom_lab/210226_M03100_0664_000000000-JG4MH/Data/Intensities/BaseCalls/PP-Bottleneck-dblSyn-Sup-B1_S5_L001_R1_001.fastq.gz\\x94s\\x8c\\x0breplicate_2\\x94}\\x94h\\xd4C\\x04\\x07\\xe5\\x02\\x1a\\x94\\x85\\x94R\\x94\\x8c\\x90/shared/ngs/illumina/bloom_lab/210226_M03100_0664_000000000-JG4MH/Data/Intensities/BaseCalls/PP-Bottleneck-dblSyn-Sup-B2_S6_L001_R1_001.fastq.gz\\x94susu\\x8c\\x10second_infection\\x94}\\x94(\\x8c\\x02wt\\x94}\\x94\\x8c\\x05fluHA\\x94}\\x94(\\x8c\\x0breplicate_1\\x94}\\x94h\\xd4C\\x04\\x07\\xe5\\x02\\x1a\\x94\\x85\\x94R\\x94\\x8c\\x8b/shared/ngs/illumina/bloom_lab/210226_M03100_0664_000000000-JG4MH/Data/Intensities/BaseCalls/PP-Bottleneck-WT-SI-B1_S3_L001_R1_001.fastq.gz\\x94s\\x8c\\x0breplicate_2\\x94}\\x94h\\xd4C\\x04\\x07\\xe5\\x02\\x1a\\x94\\x85\\x94R\\x94\\x8c\\x8b/shared/ngs/illumina/bloom_lab/210226_M03100_0664_000000000-JG4MH/Data/Intensities/BaseCalls/PP-Bottleneck-WT-SI-B2_S4_L001_R1_001.fastq.gz\\x94sus\\x8c\\x03syn\\x94}\\x94\\x8c\\x05fluHA\\x94}\\x94(\\x8c\\x0breplicate_1\\x94}\\x94h\\xd4C\\x04\\x07\\xe5\\x02\\x1a\\x94\\x85\\x94R\\x94\\x8c\\x8f/shared/ngs/illumina/bloom_lab/210226_M03100_0664_000000000-JG4MH/Data/Intensities/BaseCalls/PP-Bottleneck-dblSyn-SI-B1_S7_L001_R1_001.fastq.gz\\x94s\\x8c\\x0breplicate_2\\x94}\\x94h\\xd4C\\x04\\x07\\xe5\\x02\\x1a\\x94\\x85\\x94R\\x94\\x8c\\x8f/shared/ngs/illumina/bloom_lab/210226_M03100_0664_000000000-JG4MH/Data/Intensities/BaseCalls/PP-Bottleneck-dblSyn-SI-B2_S8_L001_R1_001.fastq.gz\\x94susuuuuu\\x8c\\x04rule\\x94\\x8c process_viral_barcode_replicates\\x94\\x8c\\x0fbench_iteration\\x94N\\x8c\\tscriptdir\\x94\\x8c[/fh/fast/bloom_j/computational_notebooks/dbacsik/2019/flu_pdmH1N1_barcode_hashing/notebooks\\x94ub.'); from snakemake.logging import logger; logger.printshellcmds = False; import os; os.chdir('/fh/fast/bloom_j/computational_notebooks/dbacsik/2019/flu_pdmH1N1_barcode_hashing');\n",
    "######## snakemake preamble end #########\n"
   ]
  },
  {
   "cell_type": "markdown",
   "metadata": {},
   "source": [
    "# Process viral barcode replicates\n",
    "This notebook plots the correlation between technical replicates of raw viral barcode sequencing data. Then, it calculates the mean frequency of each barcode and exports this value to a CSV. Data source is supernatant or second infection."
   ]
  },
  {
   "cell_type": "markdown",
   "metadata": {},
   "source": [
    "Import Python modules:"
   ]
  },
  {
   "cell_type": "code",
   "execution_count": 2,
   "metadata": {
    "execution": {
     "iopub.execute_input": "2021-03-11T20:47:09.552788Z",
     "iopub.status.busy": "2021-03-11T20:47:09.551383Z",
     "iopub.status.idle": "2021-03-11T20:47:15.156533Z",
     "shell.execute_reply": "2021-03-11T20:47:15.157211Z"
    }
   },
   "outputs": [],
   "source": [
    "import gzip\n",
    "import itertools\n",
    "import random\n",
    "\n",
    "from IPython.display import display\n",
    "\n",
    "from dms_variants.constants import CBPALETTE\n",
    "\n",
    "import editdistance\n",
    "\n",
    "import numpy as np\n",
    "\n",
    "import pandas as pd\n",
    "\n",
    "import plotnine as p9"
   ]
  },
  {
   "cell_type": "markdown",
   "metadata": {},
   "source": [
    "Hardcode variables for now:"
   ]
  },
  {
   "cell_type": "code",
   "execution_count": 3,
   "metadata": {
    "execution": {
     "iopub.execute_input": "2021-03-11T20:47:15.164161Z",
     "iopub.status.busy": "2021-03-11T20:47:15.163080Z",
     "iopub.status.idle": "2021-03-11T20:47:15.166083Z",
     "shell.execute_reply": "2021-03-11T20:47:15.165243Z"
    }
   },
   "outputs": [],
   "source": [
    "viral_bc_in_progeny_csv = snakemake.input.viral_bc_in_progeny_csv\n",
    "viral_bc_in_progeny_freq_csv = snakemake.output.viral_bc_in_progeny_freq_csv\n",
    "plot = snakemake.output.plot\n",
    "expt = snakemake.wildcards.expt"
   ]
  },
  {
   "cell_type": "markdown",
   "metadata": {},
   "source": [
    "Load viral barcode counts and pivot dataframe so replicates in two columns."
   ]
  },
  {
   "cell_type": "code",
   "execution_count": 4,
   "metadata": {
    "execution": {
     "iopub.execute_input": "2021-03-11T20:47:15.177688Z",
     "iopub.status.busy": "2021-03-11T20:47:15.177180Z",
     "iopub.status.idle": "2021-03-11T20:47:22.262053Z",
     "shell.execute_reply": "2021-03-11T20:47:22.262758Z"
    }
   },
   "outputs": [
    {
     "data": {
      "text/html": [
       "<div>\n",
       "<style scoped>\n",
       "    .dataframe tbody tr th:only-of-type {\n",
       "        vertical-align: middle;\n",
       "    }\n",
       "\n",
       "    .dataframe tbody tr th {\n",
       "        vertical-align: top;\n",
       "    }\n",
       "\n",
       "    .dataframe thead th {\n",
       "        text-align: right;\n",
       "    }\n",
       "</style>\n",
       "<table border=\"1\" class=\"dataframe\">\n",
       "  <thead>\n",
       "    <tr style=\"text-align: right;\">\n",
       "      <th></th>\n",
       "      <th>source</th>\n",
       "      <th>tag</th>\n",
       "      <th>gene</th>\n",
       "      <th>replicate</th>\n",
       "      <th>barcode</th>\n",
       "      <th>count_barcode</th>\n",
       "      <th>count_total</th>\n",
       "      <th>freq</th>\n",
       "    </tr>\n",
       "  </thead>\n",
       "  <tbody>\n",
       "    <tr>\n",
       "      <th>0</th>\n",
       "      <td>plasmid</td>\n",
       "      <td>syn</td>\n",
       "      <td>fluHA</td>\n",
       "      <td>replicate_1</td>\n",
       "      <td>GAGTAAAATTCCTACT</td>\n",
       "      <td>14</td>\n",
       "      <td>1032246</td>\n",
       "      <td>1.356266e-05</td>\n",
       "    </tr>\n",
       "    <tr>\n",
       "      <th>1</th>\n",
       "      <td>plasmid</td>\n",
       "      <td>syn</td>\n",
       "      <td>fluHA</td>\n",
       "      <td>replicate_1</td>\n",
       "      <td>AATAATGAACAATGAC</td>\n",
       "      <td>13</td>\n",
       "      <td>1032246</td>\n",
       "      <td>1.259390e-05</td>\n",
       "    </tr>\n",
       "    <tr>\n",
       "      <th>2</th>\n",
       "      <td>plasmid</td>\n",
       "      <td>syn</td>\n",
       "      <td>fluHA</td>\n",
       "      <td>replicate_1</td>\n",
       "      <td>ACAGCATAGAAAACGC</td>\n",
       "      <td>13</td>\n",
       "      <td>1032246</td>\n",
       "      <td>1.259390e-05</td>\n",
       "    </tr>\n",
       "    <tr>\n",
       "      <th>3</th>\n",
       "      <td>plasmid</td>\n",
       "      <td>syn</td>\n",
       "      <td>fluHA</td>\n",
       "      <td>replicate_1</td>\n",
       "      <td>ATATGACTAGAGGAAC</td>\n",
       "      <td>13</td>\n",
       "      <td>1032246</td>\n",
       "      <td>1.259390e-05</td>\n",
       "    </tr>\n",
       "    <tr>\n",
       "      <th>4</th>\n",
       "      <td>plasmid</td>\n",
       "      <td>syn</td>\n",
       "      <td>fluHA</td>\n",
       "      <td>replicate_1</td>\n",
       "      <td>TACCACAAAAAAATAA</td>\n",
       "      <td>13</td>\n",
       "      <td>1032246</td>\n",
       "      <td>1.259390e-05</td>\n",
       "    </tr>\n",
       "    <tr>\n",
       "      <th>...</th>\n",
       "      <td>...</td>\n",
       "      <td>...</td>\n",
       "      <td>...</td>\n",
       "      <td>...</td>\n",
       "      <td>...</td>\n",
       "      <td>...</td>\n",
       "      <td>...</td>\n",
       "      <td>...</td>\n",
       "    </tr>\n",
       "    <tr>\n",
       "      <th>4719992</th>\n",
       "      <td>supernatant</td>\n",
       "      <td>wt</td>\n",
       "      <td>fluHA</td>\n",
       "      <td>replicate_2</td>\n",
       "      <td>TTTTTGAGGACTCGTT</td>\n",
       "      <td>1</td>\n",
       "      <td>1377533</td>\n",
       "      <td>7.259354e-07</td>\n",
       "    </tr>\n",
       "    <tr>\n",
       "      <th>4719993</th>\n",
       "      <td>supernatant</td>\n",
       "      <td>wt</td>\n",
       "      <td>fluHA</td>\n",
       "      <td>replicate_2</td>\n",
       "      <td>TTTTTGTATAGACTCA</td>\n",
       "      <td>1</td>\n",
       "      <td>1377533</td>\n",
       "      <td>7.259354e-07</td>\n",
       "    </tr>\n",
       "    <tr>\n",
       "      <th>4719994</th>\n",
       "      <td>supernatant</td>\n",
       "      <td>wt</td>\n",
       "      <td>fluHA</td>\n",
       "      <td>replicate_2</td>\n",
       "      <td>TTTTTGTATAGAGTCC</td>\n",
       "      <td>1</td>\n",
       "      <td>1377533</td>\n",
       "      <td>7.259354e-07</td>\n",
       "    </tr>\n",
       "    <tr>\n",
       "      <th>4719995</th>\n",
       "      <td>supernatant</td>\n",
       "      <td>wt</td>\n",
       "      <td>fluHA</td>\n",
       "      <td>replicate_2</td>\n",
       "      <td>TTTTTGTGTTACTTCG</td>\n",
       "      <td>1</td>\n",
       "      <td>1377533</td>\n",
       "      <td>7.259354e-07</td>\n",
       "    </tr>\n",
       "    <tr>\n",
       "      <th>4719996</th>\n",
       "      <td>supernatant</td>\n",
       "      <td>wt</td>\n",
       "      <td>fluHA</td>\n",
       "      <td>replicate_2</td>\n",
       "      <td>TTTTTTTAAGTACACG</td>\n",
       "      <td>1</td>\n",
       "      <td>1377533</td>\n",
       "      <td>7.259354e-07</td>\n",
       "    </tr>\n",
       "  </tbody>\n",
       "</table>\n",
       "<p>4719997 rows × 8 columns</p>\n",
       "</div>"
      ],
      "text/plain": [
       "              source  tag   gene    replicate           barcode  \\\n",
       "0            plasmid  syn  fluHA  replicate_1  GAGTAAAATTCCTACT   \n",
       "1            plasmid  syn  fluHA  replicate_1  AATAATGAACAATGAC   \n",
       "2            plasmid  syn  fluHA  replicate_1  ACAGCATAGAAAACGC   \n",
       "3            plasmid  syn  fluHA  replicate_1  ATATGACTAGAGGAAC   \n",
       "4            plasmid  syn  fluHA  replicate_1  TACCACAAAAAAATAA   \n",
       "...              ...  ...    ...          ...               ...   \n",
       "4719992  supernatant   wt  fluHA  replicate_2  TTTTTGAGGACTCGTT   \n",
       "4719993  supernatant   wt  fluHA  replicate_2  TTTTTGTATAGACTCA   \n",
       "4719994  supernatant   wt  fluHA  replicate_2  TTTTTGTATAGAGTCC   \n",
       "4719995  supernatant   wt  fluHA  replicate_2  TTTTTGTGTTACTTCG   \n",
       "4719996  supernatant   wt  fluHA  replicate_2  TTTTTTTAAGTACACG   \n",
       "\n",
       "         count_barcode  count_total          freq  \n",
       "0                   14      1032246  1.356266e-05  \n",
       "1                   13      1032246  1.259390e-05  \n",
       "2                   13      1032246  1.259390e-05  \n",
       "3                   13      1032246  1.259390e-05  \n",
       "4                   13      1032246  1.259390e-05  \n",
       "...                ...          ...           ...  \n",
       "4719992              1      1377533  7.259354e-07  \n",
       "4719993              1      1377533  7.259354e-07  \n",
       "4719994              1      1377533  7.259354e-07  \n",
       "4719995              1      1377533  7.259354e-07  \n",
       "4719996              1      1377533  7.259354e-07  \n",
       "\n",
       "[4719997 rows x 8 columns]"
      ]
     },
     "metadata": {},
     "output_type": "display_data"
    }
   ],
   "source": [
    "viral_bc = pd.read_csv(gzip.open(viral_bc_in_progeny_csv))\n",
    "viral_bc = pd.merge(viral_bc,\n",
    "                    (viral_bc\n",
    "                     .groupby(['source',\n",
    "                               'tag',\n",
    "                               'gene',\n",
    "                               'replicate'])\n",
    "                     .sum()\n",
    "                     .reset_index()),\n",
    "                    on=['source', 'tag', 'gene', 'replicate'],\n",
    "                    suffixes=('_barcode', '_total'))\n",
    "viral_bc['freq'] = (viral_bc['count_barcode'] /\n",
    "                    viral_bc['count_total'])\n",
    "display(viral_bc)"
   ]
  },
  {
   "cell_type": "markdown",
   "metadata": {},
   "source": [
    "### Plots\n",
    "Set theme for plots."
   ]
  },
  {
   "cell_type": "code",
   "execution_count": 5,
   "metadata": {
    "execution": {
     "iopub.execute_input": "2021-03-11T20:47:22.270852Z",
     "iopub.status.busy": "2021-03-11T20:47:22.270288Z",
     "iopub.status.idle": "2021-03-11T20:47:22.273203Z",
     "shell.execute_reply": "2021-03-11T20:47:22.273599Z"
    }
   },
   "outputs": [],
   "source": [
    "p9.theme_set(p9.theme_classic())"
   ]
  },
  {
   "cell_type": "markdown",
   "metadata": {},
   "source": [
    "Plot number of barcodes identified for each sample:"
   ]
  },
  {
   "cell_type": "code",
   "execution_count": 6,
   "metadata": {
    "execution": {
     "iopub.execute_input": "2021-03-11T20:47:22.338502Z",
     "iopub.status.busy": "2021-03-11T20:47:22.337406Z",
     "iopub.status.idle": "2021-03-11T20:47:27.031334Z",
     "shell.execute_reply": "2021-03-11T20:47:27.032282Z"
    }
   },
   "outputs": [
    {
     "data": {
      "text/html": [
       "<div>\n",
       "<style scoped>\n",
       "    .dataframe tbody tr th:only-of-type {\n",
       "        vertical-align: middle;\n",
       "    }\n",
       "\n",
       "    .dataframe tbody tr th {\n",
       "        vertical-align: top;\n",
       "    }\n",
       "\n",
       "    .dataframe thead th {\n",
       "        text-align: right;\n",
       "    }\n",
       "</style>\n",
       "<table border=\"1\" class=\"dataframe\">\n",
       "  <thead>\n",
       "    <tr style=\"text-align: right;\">\n",
       "      <th></th>\n",
       "      <th>source</th>\n",
       "      <th>tag</th>\n",
       "      <th>gene</th>\n",
       "      <th>replicate</th>\n",
       "      <th>n_unique_barcodes</th>\n",
       "    </tr>\n",
       "  </thead>\n",
       "  <tbody>\n",
       "    <tr>\n",
       "      <th>0</th>\n",
       "      <td>plasmid</td>\n",
       "      <td>syn</td>\n",
       "      <td>fluHA</td>\n",
       "      <td>replicate_1</td>\n",
       "      <td>957747</td>\n",
       "    </tr>\n",
       "    <tr>\n",
       "      <th>1</th>\n",
       "      <td>plasmid</td>\n",
       "      <td>syn</td>\n",
       "      <td>fluNA</td>\n",
       "      <td>replicate_1</td>\n",
       "      <td>1010667</td>\n",
       "    </tr>\n",
       "    <tr>\n",
       "      <th>2</th>\n",
       "      <td>plasmid</td>\n",
       "      <td>wt</td>\n",
       "      <td>fluHA</td>\n",
       "      <td>replicate_1</td>\n",
       "      <td>970857</td>\n",
       "    </tr>\n",
       "    <tr>\n",
       "      <th>3</th>\n",
       "      <td>plasmid</td>\n",
       "      <td>wt</td>\n",
       "      <td>fluNA</td>\n",
       "      <td>replicate_1</td>\n",
       "      <td>889670</td>\n",
       "    </tr>\n",
       "    <tr>\n",
       "      <th>4</th>\n",
       "      <td>rescue</td>\n",
       "      <td>syn</td>\n",
       "      <td>fluHA</td>\n",
       "      <td>replicate_1</td>\n",
       "      <td>94301</td>\n",
       "    </tr>\n",
       "    <tr>\n",
       "      <th>5</th>\n",
       "      <td>rescue</td>\n",
       "      <td>syn</td>\n",
       "      <td>fluNA</td>\n",
       "      <td>replicate_1</td>\n",
       "      <td>94570</td>\n",
       "    </tr>\n",
       "    <tr>\n",
       "      <th>6</th>\n",
       "      <td>rescue</td>\n",
       "      <td>wt</td>\n",
       "      <td>fluHA</td>\n",
       "      <td>replicate_1</td>\n",
       "      <td>289140</td>\n",
       "    </tr>\n",
       "    <tr>\n",
       "      <th>7</th>\n",
       "      <td>rescue</td>\n",
       "      <td>wt</td>\n",
       "      <td>fluNA</td>\n",
       "      <td>replicate_1</td>\n",
       "      <td>224097</td>\n",
       "    </tr>\n",
       "    <tr>\n",
       "      <th>8</th>\n",
       "      <td>second_infection</td>\n",
       "      <td>syn</td>\n",
       "      <td>fluHA</td>\n",
       "      <td>replicate_1</td>\n",
       "      <td>23933</td>\n",
       "    </tr>\n",
       "    <tr>\n",
       "      <th>9</th>\n",
       "      <td>second_infection</td>\n",
       "      <td>syn</td>\n",
       "      <td>fluHA</td>\n",
       "      <td>replicate_2</td>\n",
       "      <td>26555</td>\n",
       "    </tr>\n",
       "    <tr>\n",
       "      <th>10</th>\n",
       "      <td>second_infection</td>\n",
       "      <td>wt</td>\n",
       "      <td>fluHA</td>\n",
       "      <td>replicate_1</td>\n",
       "      <td>22147</td>\n",
       "    </tr>\n",
       "    <tr>\n",
       "      <th>11</th>\n",
       "      <td>second_infection</td>\n",
       "      <td>wt</td>\n",
       "      <td>fluHA</td>\n",
       "      <td>replicate_2</td>\n",
       "      <td>27867</td>\n",
       "    </tr>\n",
       "    <tr>\n",
       "      <th>12</th>\n",
       "      <td>supernatant</td>\n",
       "      <td>syn</td>\n",
       "      <td>fluHA</td>\n",
       "      <td>replicate_1</td>\n",
       "      <td>21276</td>\n",
       "    </tr>\n",
       "    <tr>\n",
       "      <th>13</th>\n",
       "      <td>supernatant</td>\n",
       "      <td>syn</td>\n",
       "      <td>fluHA</td>\n",
       "      <td>replicate_2</td>\n",
       "      <td>26825</td>\n",
       "    </tr>\n",
       "    <tr>\n",
       "      <th>14</th>\n",
       "      <td>supernatant</td>\n",
       "      <td>wt</td>\n",
       "      <td>fluHA</td>\n",
       "      <td>replicate_1</td>\n",
       "      <td>20707</td>\n",
       "    </tr>\n",
       "    <tr>\n",
       "      <th>15</th>\n",
       "      <td>supernatant</td>\n",
       "      <td>wt</td>\n",
       "      <td>fluHA</td>\n",
       "      <td>replicate_2</td>\n",
       "      <td>19638</td>\n",
       "    </tr>\n",
       "  </tbody>\n",
       "</table>\n",
       "</div>"
      ],
      "text/plain": [
       "              source  tag   gene    replicate  n_unique_barcodes\n",
       "0            plasmid  syn  fluHA  replicate_1             957747\n",
       "1            plasmid  syn  fluNA  replicate_1            1010667\n",
       "2            plasmid   wt  fluHA  replicate_1             970857\n",
       "3            plasmid   wt  fluNA  replicate_1             889670\n",
       "4             rescue  syn  fluHA  replicate_1              94301\n",
       "5             rescue  syn  fluNA  replicate_1              94570\n",
       "6             rescue   wt  fluHA  replicate_1             289140\n",
       "7             rescue   wt  fluNA  replicate_1             224097\n",
       "8   second_infection  syn  fluHA  replicate_1              23933\n",
       "9   second_infection  syn  fluHA  replicate_2              26555\n",
       "10  second_infection   wt  fluHA  replicate_1              22147\n",
       "11  second_infection   wt  fluHA  replicate_2              27867\n",
       "12       supernatant  syn  fluHA  replicate_1              21276\n",
       "13       supernatant  syn  fluHA  replicate_2              26825\n",
       "14       supernatant   wt  fluHA  replicate_1              20707\n",
       "15       supernatant   wt  fluHA  replicate_2              19638"
      ]
     },
     "metadata": {},
     "output_type": "display_data"
    },
    {
     "data": {
      "image/png": "[encoded data removed]",
      "text/plain": [
       "<Figure size 600x680 with 8 Axes>"
      ]
     },
     "metadata": {},
     "output_type": "display_data"
    },
    {
     "data": {
      "text/plain": [
       "<ggplot: (8769349110989)>"
      ]
     },
     "execution_count": 6,
     "metadata": {},
     "output_type": "execute_result"
    }
   ],
   "source": [
    "n_barcodes_df = (viral_bc\n",
    "                 .groupby(['source', 'tag', 'gene', 'replicate'])['barcode']\n",
    "                 .nunique()\n",
    "                 .reset_index()\n",
    "                 .rename(columns={'barcode': 'n_unique_barcodes'}))\n",
    "\n",
    "display(n_barcodes_df)\n",
    "\n",
    "fig = (p9.ggplot(n_barcodes_df, p9.aes(x='tag',\n",
    "                                       y='n_unique_barcodes',\n",
    "                                       fill='replicate')) +\n",
    "       p9.geom_bar(stat='identity', position='position_dodge') +\n",
    "       p9.facet_grid('gene~source') +\n",
    "       p9.theme(figure_size=(3*n_barcodes_df['gene'].nunique(),\n",
    "                             1.7*n_barcodes_df['source'].nunique()),\n",
    "                plot_title=p9.element_text(size=10),\n",
    "                axis_title=p9.element_text(size=10),\n",
    "                legend_title=p9.element_text(size=9),\n",
    "                legend_title_align='center') +\n",
    "       p9.scale_fill_manual(CBPALETTE[0:]))\n",
    "fig"
   ]
  },
  {
   "cell_type": "markdown",
   "metadata": {},
   "source": [
    "Plot histogram for each sample:"
   ]
  },
  {
   "cell_type": "code",
   "execution_count": null,
   "metadata": {
    "execution": {
     "iopub.execute_input": "2021-03-11T20:47:27.177756Z",
     "iopub.status.busy": "2021-03-11T20:47:27.176833Z",
     "iopub.status.idle": "2021-03-11T20:48:11.245336Z",
     "shell.execute_reply": "2021-03-11T20:48:11.244981Z"
    }
   },
   "outputs": [],
   "source": [
    "fig = (p9.ggplot(viral_bc, p9.aes(x='freq', fill='replicate')) +\n",
    "       p9.geom_histogram(bins=100) +\n",
    "       p9.facet_grid('gene+tag~source') +\n",
    "       p9.scale_y_log10() +\n",
    "       p9.scale_x_log10() +\n",
    "       p9.theme(figure_size=(3*viral_bc['source'].nunique(),\n",
    "                             2*viral_bc['gene'].nunique()),\n",
    "                plot_title=p9.element_text(size=10),\n",
    "                axis_title=p9.element_text(size=10),\n",
    "                legend_title=p9.element_text(size=9),\n",
    "                legend_title_align='center') +\n",
    "       p9.ylab('n_barcodes') +\n",
    "       p9.scale_fill_manual(CBPALETTE[0:]))\n",
    "fig"
   ]
  },
  {
   "cell_type": "markdown",
   "metadata": {},
   "source": [
    "Plot number of barcodes shared across tags:"
   ]
  },
  {
   "cell_type": "code",
   "execution_count": null,
   "metadata": {
    "execution": {
     "iopub.execute_input": "2021-03-11T20:48:11.251774Z",
     "iopub.status.busy": "2021-03-11T20:48:11.251422Z",
     "iopub.status.idle": "2021-03-11T20:49:17.023777Z",
     "shell.execute_reply": "2021-03-11T20:49:17.024196Z"
    }
   },
   "outputs": [],
   "source": [
    "shared_tags = (viral_bc\n",
    "               .groupby(['source',\n",
    "                         'gene',\n",
    "                         'barcode'])\n",
    "               .agg({'tag': lambda x: ' and '.join(sorted(set(x)))})\n",
    "               .rename(columns={'tag': 'tags_present'})\n",
    "               .reset_index())\n",
    "\n",
    "display(shared_tags)\n",
    "\n",
    "\n",
    "fig = (p9.ggplot(shared_tags,\n",
    "                 p9.aes(x='gene',\n",
    "                        fill='tags_present')) +\n",
    "       p9.geom_bar(stat='count') +\n",
    "       p9.ggtitle(f'barcodes identified in each tag for {expt}') +\n",
    "       p9.ylab('n_barcodes') +\n",
    "       p9.coord_flip() +\n",
    "       p9.facet_grid('source~') +\n",
    "       p9.theme(figure_size=(7,\n",
    "                             2*shared_tags['source'].nunique()),\n",
    "                plot_title=p9.element_text(size=10),\n",
    "                axis_title=p9.element_text(size=10),\n",
    "                legend_title=p9.element_text(size=9),\n",
    "                legend_title_align='center') +\n",
    "       p9.scale_fill_manual(CBPALETTE[0:]))\n",
    "\n",
    "# show plot\n",
    "fig"
   ]
  },
  {
   "cell_type": "markdown",
   "metadata": {},
   "source": [
    "Plot **fraction** of reads shared across tags:"
   ]
  },
  {
   "cell_type": "markdown",
   "metadata": {},
   "source": [
    "Plot barcode frequency by sharing:"
   ]
  },
  {
   "cell_type": "code",
   "execution_count": null,
   "metadata": {
    "execution": {
     "iopub.execute_input": "2021-03-11T20:49:17.026971Z",
     "iopub.status.busy": "2021-03-11T20:49:17.026259Z",
     "iopub.status.idle": "2021-03-11T20:50:04.711073Z",
     "shell.execute_reply": "2021-03-11T20:50:04.711432Z"
    }
   },
   "outputs": [],
   "source": [
    "shared_tags_freq = pd.merge(viral_bc,\n",
    "                            shared_tags,\n",
    "                            on=['source', 'gene', 'barcode'])\n",
    "\n",
    "display(shared_tags_freq)\n",
    "\n",
    "fig = (p9.ggplot(shared_tags_freq, p9.aes(x='freq', fill='tags_present')) +\n",
    "       p9.geom_histogram(bins=100) +\n",
    "       p9.facet_grid('gene~source') +\n",
    "       p9.scale_y_log10() +\n",
    "       p9.scale_x_log10() +\n",
    "       p9.theme(figure_size=(3*viral_bc['source'].nunique(),\n",
    "                             2*viral_bc['gene'].nunique()),\n",
    "                plot_title=p9.element_text(size=10),\n",
    "                axis_title=p9.element_text(size=10),\n",
    "                legend_title=p9.element_text(size=9),\n",
    "                legend_title_align='center') +\n",
    "       p9.ylab('n_barcodes') +\n",
    "       p9.scale_fill_manual(CBPALETTE[0:]))\n",
    "fig"
   ]
  },
  {
   "cell_type": "markdown",
   "metadata": {},
   "source": [
    "Plot correlation of barcodes in supernatant and in second infection. Color by presence in each (or both) tags."
   ]
  },
  {
   "cell_type": "code",
   "execution_count": null,
   "metadata": {
    "execution": {
     "iopub.execute_input": "2021-03-11T20:50:04.718563Z",
     "iopub.status.busy": "2021-03-11T20:50:04.718208Z",
     "iopub.status.idle": "2021-03-11T20:52:35.226012Z",
     "shell.execute_reply": "2021-03-11T20:52:35.226566Z"
    }
   },
   "outputs": [],
   "source": [
    "tag_freqs = (shared_tags_freq\n",
    "             .pivot_table(index=['gene',\n",
    "                                 'tag',\n",
    "                                 'barcode',\n",
    "                                 'tags_present'],\n",
    "                          columns=['source'],\n",
    "                          values='freq',\n",
    "                          aggfunc=np.mean)\n",
    "             .fillna(0)\n",
    "             .reset_index())\n",
    "\n",
    "display(tag_freqs)\n",
    "\n",
    "fig = (p9.ggplot(tag_freqs,\n",
    "                 p9.aes(x='supernatant',\n",
    "                        y='second_infection',\n",
    "                        color='tags_present')) +\n",
    "       p9.ggtitle(f'{expt}\\n'\n",
    "                  'barcode counts in supernatant '\n",
    "                  'and second infection for shared libraries') +\n",
    "       p9.geom_point(alpha=0.4) +\n",
    "       p9.facet_grid('gene~tag') +\n",
    "       p9.scale_x_log10() +\n",
    "       p9.scale_y_log10() +\n",
    "       p9.scale_color_manual(CBPALETTE[0:]))\n",
    "fig"
   ]
  },
  {
   "cell_type": "markdown",
   "metadata": {},
   "source": [
    "Plot frequencies of barcodes and color by which tag (or both) they are found in:"
   ]
  },
  {
   "cell_type": "code",
   "execution_count": null,
   "metadata": {
    "execution": {
     "iopub.execute_input": "2021-03-11T20:52:35.312944Z",
     "iopub.status.busy": "2021-03-11T20:52:35.312519Z",
     "iopub.status.idle": "2021-03-11T20:55:13.587361Z",
     "shell.execute_reply": "2021-03-11T20:55:13.587712Z"
    }
   },
   "outputs": [],
   "source": [
    "tag_freqs = (shared_tags_freq\n",
    "             .pivot_table(index=['source',\n",
    "                                 'gene',\n",
    "                                 'barcode',\n",
    "                                 'tags_present'],\n",
    "                          columns=['tag'],\n",
    "                          values='freq',\n",
    "                          aggfunc=np.mean)\n",
    "             .fillna(0)\n",
    "             .reset_index())\n",
    "\n",
    "display(tag_freqs)\n",
    "\n",
    "fig = (p9.ggplot(tag_freqs,\n",
    "                 p9.aes(x='wt',\n",
    "                        y='syn',\n",
    "                        color='tags_present')) +\n",
    "       p9.ggtitle(f'{expt}\\n'\n",
    "                  'barcode counts in wt and syn for shared libraries') +\n",
    "       p9.geom_point() +\n",
    "       p9.facet_grid('gene~source') +\n",
    "       p9.scale_x_log10() +\n",
    "       p9.scale_y_log10() +\n",
    "       p9.scale_color_manual(CBPALETTE[1:]))\n",
    "fig"
   ]
  },
  {
   "cell_type": "markdown",
   "metadata": {},
   "source": [
    "Plot frequencies on barcodes that are found in both tags, colored by replicate:"
   ]
  },
  {
   "cell_type": "code",
   "execution_count": null,
   "metadata": {
    "execution": {
     "iopub.execute_input": "2021-03-11T20:55:13.590075Z",
     "iopub.status.busy": "2021-03-11T20:55:13.589740Z",
     "iopub.status.idle": "2021-03-11T20:55:15.663422Z",
     "shell.execute_reply": "2021-03-11T20:55:15.663774Z"
    }
   },
   "outputs": [],
   "source": [
    "tag_freqs = (shared_tags_freq\n",
    "             .query('tags_present == \"syn and wt\"')\n",
    "             .pivot_table(index=['source',\n",
    "                                 'gene',\n",
    "                                 'barcode',\n",
    "                                 'replicate'],\n",
    "                          columns=['tag'],\n",
    "                          values='freq')\n",
    "             .fillna(0)\n",
    "             .reset_index())\n",
    "\n",
    "display(tag_freqs)\n",
    "\n",
    "fig = (p9.ggplot(tag_freqs,\n",
    "                 p9.aes(x='wt',\n",
    "                        y='syn',\n",
    "                        color='replicate')) +\n",
    "       p9.ggtitle(f'{expt}\\n'\n",
    "                  'barcode counts in wt and syn for shared libraries') +\n",
    "       p9.geom_point() +\n",
    "       p9.facet_grid('gene~source') +\n",
    "       p9.scale_x_log10() +\n",
    "       p9.scale_y_log10() +\n",
    "       p9.scale_color_manual(CBPALETTE[1:]))\n",
    "fig"
   ]
  },
  {
   "cell_type": "markdown",
   "metadata": {},
   "source": [
    "Plot correlation of technical replicates"
   ]
  },
  {
   "cell_type": "code",
   "execution_count": null,
   "metadata": {
    "execution": {
     "iopub.execute_input": "2021-03-11T20:55:15.666141Z",
     "iopub.status.busy": "2021-03-11T20:55:15.665656Z",
     "iopub.status.idle": "2021-03-11T21:06:24.309965Z",
     "shell.execute_reply": "2021-03-11T21:06:24.310645Z"
    }
   },
   "outputs": [],
   "source": [
    "# Check that replicates fit hardcoded expectations\n",
    "# replicate_names = ['replicate_1', 'replicate_2']\n",
    "# n_replicates = len(replicate_names)\n",
    "# for (_source, _tag, _gene), df in (viral_bc.groupby(['source',\n",
    "#                                                      'tag',\n",
    "#                                                      'gene'])):\n",
    "#     assert set(df['replicate'].unique()) == set(replicate_names), \\\n",
    "#         f\"Code assumes exactly {n_replicates} replicates per sample.\"\n",
    "\n",
    "viral_bc_wide = (viral_bc\n",
    "                 .pivot_table(index=['source',\n",
    "                                     'tag',\n",
    "                                     'gene',\n",
    "                                     'barcode'],\n",
    "                              columns='replicate',\n",
    "                              values='freq')\n",
    "                 .reset_index()\n",
    "                 .fillna(0))\n",
    "\n",
    "viral_bc_wide.columns = ['source',\n",
    "                         'tag',\n",
    "                         'gene',\n",
    "                         'barcode',\n",
    "                         'replicate_1_freq',\n",
    "                         'replicate_2_freq']\n",
    "\n",
    "viral_bc_wide['in_both'] = ((viral_bc_wide['replicate_1_freq'] > 0)\n",
    "                            & (viral_bc_wide['replicate_2_freq'] > 0))\n",
    "\n",
    "display(viral_bc_wide)\n",
    "\n",
    "fig = (p9.ggplot(viral_bc_wide,\n",
    "                 p9.aes(x='replicate_1_freq',\n",
    "                        y='replicate_2_freq',\n",
    "                        color='in_both')) +\n",
    "       p9.ggtitle(f'viral barcode replicates for experiment {expt}') +\n",
    "       p9.geom_point(alpha=0.1) +\n",
    "       p9.facet_grid('source~gene+tag') +\n",
    "       p9.scale_x_log10() +\n",
    "       p9.scale_y_log10() +\n",
    "       p9.theme(figure_size=(3.5*viral_bc_wide['gene'].nunique(),\n",
    "                             2*viral_bc_wide['source'].nunique()),\n",
    "                plot_title=p9.element_text(size=10),\n",
    "                axis_title=p9.element_text(size=10),\n",
    "                legend_title=p9.element_text(size=9),\n",
    "                legend_title_align='center') +\n",
    "       p9.scale_color_manual([CBPALETTE[1], '#000000']))\n",
    "\n",
    "# save plot\n",
    "print(f\"Saving plot to {plot}\")\n",
    "p9.ggsave(plot=fig, filename=plot, verbose=False)\n",
    "\n",
    "# show plot\n",
    "fig"
   ]
  },
  {
   "cell_type": "markdown",
   "metadata": {},
   "source": [
    "Average frequencies and export CSV:"
   ]
  },
  {
   "cell_type": "code",
   "execution_count": null,
   "metadata": {
    "execution": {
     "iopub.execute_input": "2021-03-11T21:06:24.318135Z",
     "iopub.status.busy": "2021-03-11T21:06:24.317632Z",
     "iopub.status.idle": "2021-03-11T21:07:00.999413Z",
     "shell.execute_reply": "2021-03-11T21:07:00.999869Z"
    }
   },
   "outputs": [],
   "source": [
    "viral_bc_wide['mean_freq'] = ((viral_bc_wide['replicate_1_freq']\n",
    "                               + viral_bc_wide['replicate_2_freq'])\n",
    "                              / 2)\n",
    "\n",
    "viral_bc_wide.to_csv(viral_bc_in_progeny_freq_csv,\n",
    "                     columns=['source',\n",
    "                              'tag',\n",
    "                              'gene',\n",
    "                              'barcode',\n",
    "                              'mean_freq'],\n",
    "                     index=False)"
   ]
  },
  {
   "cell_type": "markdown",
   "metadata": {},
   "source": [
    "Calculate and plot edit distance between observed barcodes:"
   ]
  },
  {
   "cell_type": "code",
   "execution_count": null,
   "metadata": {
    "execution": {
     "iopub.execute_input": "2021-03-11T21:07:01.002493Z",
     "iopub.status.busy": "2021-03-11T21:07:01.002070Z",
     "iopub.status.idle": "2021-03-11T21:07:52.184403Z",
     "shell.execute_reply": "2021-03-11T21:07:52.184782Z"
    }
   },
   "outputs": [],
   "source": [
    "sample_size = 1000\n",
    "records = []\n",
    "for (source, tag, gene), df in (viral_bc\n",
    "                                .groupby(['source',\n",
    "                                          'tag',\n",
    "                                          'gene'])):\n",
    "    print(f'Calculating hamming distance for {source} {tag} {gene}.'\n",
    "          f'\\n\\tThere are {df[\"barcode\"].nunique()} '\n",
    "          'unique barcodes in dataset.'\n",
    "          f'\\n\\tSampling {sample_size} barcodes for distribution.')\n",
    "    sample = random.sample(list(df['barcode'].unique()), sample_size)\n",
    "    for bc_pair in itertools.combinations(sample, 2):\n",
    "        records.append((source,\n",
    "                        tag,\n",
    "                        gene,\n",
    "                        bc_pair[0],\n",
    "                        bc_pair[1],\n",
    "                        editdistance.eval(bc_pair[0], bc_pair[1])))\n",
    "\n",
    "pairs_df = pd.DataFrame.from_records(records)\n",
    "pairs_df.columns = ['source',\n",
    "                    'tag',\n",
    "                    'gene',\n",
    "                    'seq_1',\n",
    "                    'seq_2',\n",
    "                    'edit_distance']\n",
    "display(pairs_df)\n",
    "\n",
    "fig = (p9.ggplot(pairs_df, p9.aes(x='edit_distance')) +\n",
    "       p9.ggtitle(f'edit distance between barcodes in {expt}') +\n",
    "       p9.geom_histogram(binwidth=1) +\n",
    "       p9.facet_grid('gene+tag~source'))\n",
    "\n",
    "fig"
   ]
  }
 ],
 "metadata": {
  "kernelspec": {
   "display_name": "Python 3",
   "language": "python",
   "name": "python3"
  },
  "language_info": {
   "codemirror_mode": {
    "name": "ipython",
    "version": 3
   },
   "file_extension": ".py",
   "mimetype": "text/x-python",
   "name": "python",
   "nbconvert_exporter": "python",
   "pygments_lexer": "ipython3",
   "version": "3.8.5"
  }
 },
 "nbformat": 4,
 "nbformat_minor": 4
}
