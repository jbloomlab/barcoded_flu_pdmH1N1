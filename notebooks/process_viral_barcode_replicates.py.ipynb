{
 "cells": [
  {
   "cell_type": "markdown",
   "metadata": {},
   "source": [
    "# Process viral barcode replicates\n",
    "This notebook plots the correlation between technical replicates of raw viral barcode sequencing data. Then, it calculates the mean frequency of each barcode and exports this value to a CSV. Data source is supernatant or second infection."
   ]
  },
  {
   "cell_type": "markdown",
   "metadata": {},
   "source": [
    "Import Python modules:"
   ]
  },
  {
   "cell_type": "code",
   "execution_count": null,
   "metadata": {},
   "outputs": [],
   "source": [
    "import gzip\n",
    "\n",
    "from IPython.display import display\n",
    "\n",
    "from dms_variants.constants import CBPALETTE\n",
    "\n",
    "import pandas as pd\n",
    "\n",
    "import plotnine as p9"
   ]
  },
  {
   "cell_type": "markdown",
   "metadata": {},
   "source": [
    "Hardcode variables for now:"
   ]
  },
  {
   "cell_type": "code",
   "execution_count": null,
   "metadata": {},
   "outputs": [],
   "source": [
    "viral_bc_in_progeny_csv = snakemake.input.viral_bc_in_progeny_csv\n",
    "viral_bc_in_progeny_freq_csv = snakemake.output.viral_bc_in_progeny_freq_csv\n",
    "plot = snakemake.output.plot\n",
    "expt = snakemake.wildcards.expt"
   ]
  },
  {
   "cell_type": "markdown",
   "metadata": {},
   "source": [
    "Load viral barcode counts and pivot dataframe so replicates in two columns."
   ]
  },
  {
   "cell_type": "code",
   "execution_count": null,
   "metadata": {},
   "outputs": [],
   "source": [
    "viral_bc = pd.read_csv(gzip.open(viral_bc_in_progeny_csv))\n",
    "viral_bc = pd.merge(viral_bc,\n",
    "                    (viral_bc\n",
    "                     .groupby(['source',\n",
    "                               'tag',\n",
    "                               'gene',\n",
    "                               'replicate'])\n",
    "                     .sum()\n",
    "                     .reset_index()),\n",
    "                    on=['source', 'tag', 'gene', 'replicate'],\n",
    "                    suffixes=('_barcode', '_total'))\n",
    "viral_bc['freq'] = (viral_bc['count_barcode'] /\n",
    "                    viral_bc['count_total'])\n",
    "display(viral_bc)"
   ]
  },
  {
   "cell_type": "markdown",
   "metadata": {},
   "source": [
    "### Plots\n",
    "Set theme for plots."
   ]
  },
  {
   "cell_type": "code",
   "execution_count": null,
   "metadata": {},
   "outputs": [],
   "source": [
    "p9.theme_set(p9.theme_classic())"
   ]
  },
  {
   "cell_type": "markdown",
   "metadata": {},
   "source": [
    "Plot number of barcodes identified for each sample:"
   ]
  },
  {
   "cell_type": "code",
   "execution_count": null,
   "metadata": {},
   "outputs": [],
   "source": [
    "n_barcodes_df = (viral_bc\n",
    "                 .groupby(['source', 'tag', 'gene', 'replicate'])['barcode']\n",
    "                 .nunique()\n",
    "                 .reset_index()\n",
    "                 .rename(columns={'barcode': 'n_unique_barcodes'}))\n",
    "\n",
    "display(n_barcodes_df)\n",
    "\n",
    "fig = (p9.ggplot(n_barcodes_df, p9.aes(x='tag',\n",
    "                                       y='n_unique_barcodes',\n",
    "                                       fill='replicate')) +\n",
    "       p9.geom_bar(stat='identity', position='position_dodge') +\n",
    "       p9.facet_grid('gene~source') +\n",
    "       p9.theme(figure_size=(3*n_barcodes_df['gene'].nunique(),\n",
    "                             1.7*n_barcodes_df['source'].nunique()),\n",
    "                plot_title=p9.element_text(size=10),\n",
    "                axis_title=p9.element_text(size=10),\n",
    "                legend_title=p9.element_text(size=9),\n",
    "                legend_title_align='center') +\n",
    "       p9.scale_fill_manual(CBPALETTE[0:]))\n",
    "fig"
   ]
  },
  {
   "cell_type": "markdown",
   "metadata": {},
   "source": [
    "Plot histogram for each sample:"
   ]
  },
  {
   "cell_type": "code",
   "execution_count": null,
   "metadata": {},
   "outputs": [],
   "source": [
    "fig = (p9.ggplot(viral_bc, p9.aes(x='freq')) +\n",
    "       p9.geom_histogram(bins=100) +\n",
    "       p9.facet_grid('gene+tag~source') +\n",
    "       p9.scale_y_log10() +\n",
    "       p9.scale_x_log10() +\n",
    "       p9.theme(figure_size=(3*viral_bc['source'].nunique(),\n",
    "                             2*viral_bc['gene'].nunique()),\n",
    "                plot_title=p9.element_text(size=10),\n",
    "                axis_title=p9.element_text(size=10),\n",
    "                legend_title=p9.element_text(size=9),\n",
    "                legend_title_align='center') +\n",
    "       p9.ylab('n_barcodes'))\n",
    "fig"
   ]
  },
  {
   "cell_type": "markdown",
   "metadata": {},
   "source": [
    "Plot barcode sharing across tags:"
   ]
  },
  {
   "cell_type": "code",
   "execution_count": null,
   "metadata": {},
   "outputs": [],
   "source": [
    "shared_tags = (viral_bc\n",
    "               .groupby(['source',\n",
    "                         'gene',\n",
    "                         'barcode'])\n",
    "               .agg({'tag': lambda x: ' and '.join(sorted(set(x)))})\n",
    "               .reset_index())\n",
    "\n",
    "display(shared_tags)\n",
    "\n",
    "\n",
    "fig = (p9.ggplot(shared_tags,\n",
    "                 p9.aes(x='gene',\n",
    "                        fill='tag')) +\n",
    "       p9.geom_bar(stat='count') +\n",
    "       p9.ggtitle(f'barcodes identified in each tag for {expt}') +\n",
    "       p9.ylab('n_barcodes') +\n",
    "       p9.coord_flip() +\n",
    "       p9.facet_grid('source~') +\n",
    "       p9.theme(figure_size=(7,\n",
    "                             2*shared_tags['source'].nunique()),\n",
    "                plot_title=p9.element_text(size=10),\n",
    "                axis_title=p9.element_text(size=10),\n",
    "                legend_title=p9.element_text(size=9),\n",
    "                legend_title_align='center') +\n",
    "       p9.scale_fill_manual(CBPALETTE[0:]))\n",
    "\n",
    "# show plot\n",
    "fig"
   ]
  },
  {
   "cell_type": "markdown",
   "metadata": {},
   "source": [
    "Focus on barcodes that are found in both tags:"
   ]
  },
  {
   "cell_type": "code",
   "execution_count": null,
   "metadata": {},
   "outputs": [],
   "source": [
    "tag_counts = pd.merge(viral_bc,\n",
    "                      shared_tags.query('tag == \"syn and wt\"'),\n",
    "                      on=['source','gene','barcode'])\n",
    "tag_counts = (tag_counts.pivot_table(index=['source',\n",
    "                                           'gene',\n",
    "                                           'barcode',\n",
    "                                           'replicate'],\n",
    "                                    columns = 'tag_x',\n",
    "                                    values = 'count_barcode')\n",
    "              .fillna(0)\n",
    "              .reset_index())\n",
    "\n",
    "display(tag_counts)\n",
    "\n",
    "fig = (p9.ggplot(tag_counts,\n",
    "                 p9.aes(x='wt',\n",
    "                        y='syn',\n",
    "                        color='replicate')) +\n",
    "       p9.ggtitle(f'{expt}\\nbarcode counts in wt and syn for shared libraries') +\n",
    "       p9.geom_point() +\n",
    "       p9.facet_grid('gene~source') +\n",
    "       p9.scale_x_log10() +\n",
    "       p9.scale_y_log10() +\n",
    "       p9.scale_color_manual(CBPALETTE[1:]))\n",
    "fig"
   ]
  },
  {
   "cell_type": "markdown",
   "metadata": {},
   "source": [
    "Plot correlation of technical replicates"
   ]
  },
  {
   "cell_type": "code",
   "execution_count": null,
   "metadata": {
    "scrolled": false
   },
   "outputs": [],
   "source": [
    "# Check that replicates fit hardcoded expectations\n",
    "replicate_names = ['replicate_1', 'replicate_2']\n",
    "n_replicates = len(replicate_names)\n",
    "for (_source, _tag, _gene), df in (viral_bc.groupby(['source',\n",
    "                                                     'tag',\n",
    "                                                     'gene'])):\n",
    "    assert set(df['replicate'].unique()) == set(replicate_names), \\\n",
    "        f\"Code assumes exactly {n_replicates} replicates per sample.\"\n",
    "\n",
    "viral_bc_wide = (viral_bc\n",
    "                 .pivot_table(index=['source',\n",
    "                                     'tag',\n",
    "                                     'gene',\n",
    "                                     'barcode'],\n",
    "                              columns='replicate',\n",
    "                              values='freq')\n",
    "                 .reset_index()\n",
    "                 .fillna(0))\n",
    "\n",
    "viral_bc_wide.columns = ['source',\n",
    "                         'tag',\n",
    "                         'gene',\n",
    "                         'barcode',\n",
    "                         'replicate_1_freq',\n",
    "                         'replicate_2_freq']\n",
    "\n",
    "viral_bc_wide['in_both'] = ((viral_bc_wide['replicate_1_freq'] > 0)\n",
    "                            & (viral_bc_wide['replicate_2_freq'] > 0))\n",
    "\n",
    "display(viral_bc_wide)\n",
    "\n",
    "fig = (p9.ggplot(viral_bc_wide,\n",
    "                 p9.aes(x='replicate_1_freq',\n",
    "                        y='replicate_2_freq',\n",
    "                        color='in_both')) +\n",
    "       p9.ggtitle(f'viral barcode replicates for experiment {expt}') +\n",
    "       p9.geom_point(alpha=0.1) +\n",
    "       p9.facet_grid('source~gene+tag') +\n",
    "       p9.scale_x_log10() +\n",
    "       p9.scale_y_log10() +\n",
    "       p9.theme(figure_size=(3.5*viral_bc_wide['gene'].nunique(),\n",
    "                             2*viral_bc_wide['source'].nunique()),\n",
    "                plot_title=p9.element_text(size=10),\n",
    "                axis_title=p9.element_text(size=10),\n",
    "                legend_title=p9.element_text(size=9),\n",
    "                legend_title_align='center') +\n",
    "       p9.scale_color_manual([CBPALETTE[1], '#000000']))\n",
    "\n",
    "# save plot\n",
    "print(f\"Saving plot to {plot}\")\n",
    "p9.ggsave(plot=fig, filename=plot, verbose=False)\n",
    "\n",
    "# show plot\n",
    "fig"
   ]
  },
  {
   "cell_type": "markdown",
   "metadata": {},
   "source": [
    "Average frequencies and export CSV:"
   ]
  },
  {
   "cell_type": "code",
   "execution_count": null,
   "metadata": {},
   "outputs": [],
   "source": [
    "viral_bc_wide['mean_freq'] = ((viral_bc_wide['replicate_1_freq']\n",
    "                               + viral_bc_wide['replicate_2_freq'])\n",
    "                              / 2)\n",
    "\n",
    "viral_bc_wide.to_csv(viral_bc_in_progeny_freq_csv,\n",
    "                     columns=['source',\n",
    "                              'tag',\n",
    "                              'gene',\n",
    "                              'barcode',\n",
    "                              'mean_freq'],\n",
    "                     index=False)"
   ]
  },
  {
   "cell_type": "code",
   "execution_count": null,
   "metadata": {},
   "outputs": [],
   "source": []
  }
 ],
 "metadata": {
  "kernelspec": {
   "display_name": "Python 3",
   "language": "python",
   "name": "python3"
  },
  "language_info": {
   "codemirror_mode": {
    "name": "ipython",
    "version": 3
   },
   "file_extension": ".py",
   "mimetype": "text/x-python",
   "name": "python",
   "nbconvert_exporter": "python",
   "pygments_lexer": "ipython3",
   "version": "3.8.5"
  }
 },
 "nbformat": 4,
 "nbformat_minor": 4
}
