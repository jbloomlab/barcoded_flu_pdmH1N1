{
 "cells": [
  {
   "cell_type": "markdown",
   "metadata": {},
   "source": [
    "# Process viral barcode replicates\n",
    "This notebook plots the correlation between technical replicates of raw viral barcode sequencing data. Then, it calculates the mean frequency of each barcode and exports this value to a CSV. Data source is supernatant or second infection."
   ]
  },
  {
   "cell_type": "markdown",
   "metadata": {},
   "source": [
    "Import Python modules:"
   ]
  },
  {
   "cell_type": "code",
   "execution_count": null,
   "metadata": {
    "execution": {
     "iopub.execute_input": "2021-03-11T22:20:15.770105Z",
     "iopub.status.busy": "2021-03-11T22:20:15.769793Z",
     "iopub.status.idle": "2021-03-11T22:20:22.625347Z",
     "shell.execute_reply": "2021-03-11T22:20:22.624831Z"
    }
   },
   "outputs": [],
   "source": [
    "import gzip\n",
    "import itertools\n",
    "import random\n",
    "\n",
    "from IPython.display import display\n",
    "\n",
    "from dms_variants.constants import CBPALETTE\n",
    "\n",
    "import editdistance\n",
    "\n",
    "import numpy as np\n",
    "\n",
    "import pandas as pd\n",
    "\n",
    "import plotnine as p9"
   ]
  },
  {
   "cell_type": "markdown",
   "metadata": {},
   "source": [
    "Hardcode variables for now:"
   ]
  },
  {
   "cell_type": "code",
   "execution_count": null,
   "metadata": {
    "execution": {
     "iopub.execute_input": "2021-03-11T22:20:22.628113Z",
     "iopub.status.busy": "2021-03-11T22:20:22.627811Z",
     "iopub.status.idle": "2021-03-11T22:20:22.629366Z",
     "shell.execute_reply": "2021-03-11T22:20:22.629060Z"
    }
   },
   "outputs": [],
   "source": [
    "viral_bc_in_progeny_csv = snakemake.input.viral_bc_in_progeny_csv\n",
    "viral_bc_in_progeny_freq_csv = snakemake.output.viral_bc_in_progeny_freq_csv\n",
    "plot = snakemake.output.plot\n",
    "expt = snakemake.wildcards.expt"
   ]
  },
  {
   "cell_type": "markdown",
   "metadata": {},
   "source": [
    "Load viral barcode counts and pivot dataframe so replicates in two columns."
   ]
  },
  {
   "cell_type": "code",
   "execution_count": null,
   "metadata": {
    "execution": {
     "iopub.execute_input": "2021-03-11T22:20:22.632276Z",
     "iopub.status.busy": "2021-03-11T22:20:22.631961Z",
     "iopub.status.idle": "2021-03-11T22:20:33.328239Z",
     "shell.execute_reply": "2021-03-11T22:20:33.328772Z"
    }
   },
   "outputs": [],
   "source": [
    "viral_bc = pd.read_csv(gzip.open(viral_bc_in_progeny_csv))\n",
    "viral_bc = pd.merge(viral_bc,\n",
    "                    (viral_bc\n",
    "                     .groupby(['source',\n",
    "                               'tag',\n",
    "                               'gene',\n",
    "                               'replicate'])\n",
    "                     .sum()\n",
    "                     .reset_index()),\n",
    "                    on=['source', 'tag', 'gene', 'replicate'],\n",
    "                    suffixes=('_barcode', '_total'))\n",
    "viral_bc['freq'] = (viral_bc['count_barcode'] /\n",
    "                    viral_bc['count_total'])\n",
    "display(viral_bc)"
   ]
  },
  {
   "cell_type": "markdown",
   "metadata": {},
   "source": [
    "### Plots\n",
    "Set theme for plots."
   ]
  },
  {
   "cell_type": "code",
   "execution_count": null,
   "metadata": {
    "execution": {
     "iopub.execute_input": "2021-03-11T22:20:33.331355Z",
     "iopub.status.busy": "2021-03-11T22:20:33.330662Z",
     "iopub.status.idle": "2021-03-11T22:20:33.335098Z",
     "shell.execute_reply": "2021-03-11T22:20:33.335526Z"
    }
   },
   "outputs": [],
   "source": [
    "p9.theme_set(p9.theme_classic())"
   ]
  },
  {
   "cell_type": "markdown",
   "metadata": {},
   "source": [
    "Plot number of reads for each sample:"
   ]
  },
  {
   "cell_type": "code",
   "execution_count": null,
   "metadata": {},
   "outputs": [],
   "source": [
    "n_reads_df = (viral_bc\n",
    "              .groupby(['source','tag','gene','replicate'])\n",
    "              ['count_barcode']\n",
    "              .sum()\n",
    "              .reset_index()\n",
    "              .rename(columns={'count_barcode': 'n_reads'}))\n",
    "\n",
    "display(n_reads_df)\n",
    "\n",
    "fig = (p9.ggplot(n_reads_df, p9.aes(x='tag',\n",
    "                                       y='n_reads',\n",
    "                                       fill='replicate')) +\n",
    "       p9.geom_bar(stat='identity', position='position_dodge') +\n",
    "       p9.facet_grid('gene~source') +\n",
    "       p9.theme(figure_size=(2*n_reads_df['source'].nunique(),\n",
    "                             1.5*n_reads_df['gene'].nunique()),\n",
    "                plot_title=p9.element_text(size=10),\n",
    "                axis_title=p9.element_text(size=10),\n",
    "                legend_title=p9.element_text(size=9),\n",
    "                legend_title_align='center') +\n",
    "       p9.scale_fill_manual(CBPALETTE[0:]))\n",
    "fig"
   ]
  },
  {
   "cell_type": "markdown",
   "metadata": {},
   "source": [
    "Plot number of barcodes identified for each sample:"
   ]
  },
  {
   "cell_type": "code",
   "execution_count": null,
   "metadata": {
    "execution": {
     "iopub.execute_input": "2021-03-11T22:20:33.337760Z",
     "iopub.status.busy": "2021-03-11T22:20:33.337089Z",
     "iopub.status.idle": "2021-03-11T22:20:39.460243Z",
     "shell.execute_reply": "2021-03-11T22:20:39.460588Z"
    }
   },
   "outputs": [],
   "source": [
    "n_barcodes_df = (viral_bc\n",
    "                 .groupby(['source', 'tag', 'gene', 'replicate'])['barcode']\n",
    "                 .nunique()\n",
    "                 .reset_index()\n",
    "                 .rename(columns={'barcode': 'n_unique_barcodes'}))\n",
    "\n",
    "display(n_barcodes_df)\n",
    "\n",
    "fig = (p9.ggplot(n_barcodes_df, p9.aes(x='tag',\n",
    "                                       y='n_unique_barcodes',\n",
    "                                       fill='replicate')) +\n",
    "       p9.geom_bar(stat='identity', position='position_dodge') +\n",
    "       p9.facet_grid('gene~source') +\n",
    "       p9.theme(figure_size=(2*n_barcodes_df['source'].nunique(),\n",
    "                             1.5*n_barcodes_df['gene'].nunique()),\n",
    "                plot_title=p9.element_text(size=10),\n",
    "                axis_title=p9.element_text(size=10),\n",
    "                legend_title=p9.element_text(size=9),\n",
    "                legend_title_align='center') +\n",
    "       p9.scale_fill_manual(CBPALETTE[0:]))\n",
    "fig"
   ]
  },
  {
   "cell_type": "markdown",
   "metadata": {},
   "source": [
    "Plot histogram for each sample:"
   ]
  },
  {
   "cell_type": "code",
   "execution_count": null,
   "metadata": {
    "execution": {
     "iopub.execute_input": "2021-03-11T22:20:39.462362Z",
     "iopub.status.busy": "2021-03-11T22:20:39.462058Z",
     "iopub.status.idle": "2021-03-11T22:21:48.444779Z",
     "shell.execute_reply": "2021-03-11T22:21:48.445357Z"
    }
   },
   "outputs": [],
   "source": [
    "fig = (p9.ggplot(viral_bc, p9.aes(x='freq', fill='replicate')) +\n",
    "       p9.geom_histogram(bins=100) +\n",
    "       p9.facet_grid('gene+tag~source') +\n",
    "       p9.scale_y_log10() +\n",
    "       p9.scale_x_log10() +\n",
    "       p9.theme(figure_size=(2*viral_bc['source'].nunique(),\n",
    "                             1.5*viral_bc['gene'].nunique()),\n",
    "                plot_title=p9.element_text(size=10),\n",
    "                axis_title=p9.element_text(size=10),\n",
    "                legend_title=p9.element_text(size=9),\n",
    "                legend_title_align='center') +\n",
    "       p9.ylab('n_barcodes') +\n",
    "       p9.scale_fill_manual(CBPALETTE[0:]))\n",
    "fig"
   ]
  },
  {
   "cell_type": "markdown",
   "metadata": {},
   "source": [
    "Plot number of barcodes shared across tags:"
   ]
  },
  {
   "cell_type": "code",
   "execution_count": null,
   "metadata": {
    "execution": {
     "iopub.execute_input": "2021-03-11T22:21:48.447912Z",
     "iopub.status.busy": "2021-03-11T22:21:48.447183Z",
     "iopub.status.idle": "2021-03-11T22:23:19.510704Z",
     "shell.execute_reply": "2021-03-11T22:23:19.511217Z"
    }
   },
   "outputs": [],
   "source": [
    "shared_tags = (viral_bc\n",
    "               .groupby(['source',\n",
    "                         'gene',\n",
    "                         'barcode'])\n",
    "               .agg({'tag': lambda x: ' and '.join(sorted(set(x)))})\n",
    "               .rename(columns={'tag': 'tags_present'})\n",
    "               .reset_index())\n",
    "\n",
    "display(shared_tags)\n",
    "\n",
    "\n",
    "fig = (p9.ggplot(shared_tags,\n",
    "                 p9.aes(x='gene',\n",
    "                        fill='tags_present')) +\n",
    "       p9.geom_bar(stat='count') +\n",
    "       p9.ggtitle(f'barcodes identified in each tag for {expt}') +\n",
    "       p9.ylab('n_barcodes') +\n",
    "       p9.coord_flip() +\n",
    "       p9.facet_grid('source~') +\n",
    "       p9.theme(figure_size=(4*shared_tags['gene'].nunique(),\n",
    "                             1.5*shared_tags['source'].nunique()),\n",
    "                plot_title=p9.element_text(size=10),\n",
    "                axis_title=p9.element_text(size=10),\n",
    "                legend_title=p9.element_text(size=9),\n",
    "                legend_title_align='center') +\n",
    "       p9.scale_fill_manual(CBPALETTE[0:]))\n",
    "\n",
    "# show plot\n",
    "fig"
   ]
  },
  {
   "cell_type": "markdown",
   "metadata": {},
   "source": [
    "Plot **fraction** of reads shared across tags:"
   ]
  },
  {
   "cell_type": "code",
   "execution_count": null,
   "metadata": {},
   "outputs": [],
   "source": [
    "shared_reads = pd.merge(viral_bc,\n",
    "                        shared_tags,\n",
    "                        on=['source','gene','barcode'])\n",
    "\n",
    "shared_reads = pd.merge(shared_reads,\n",
    "                        (n_reads_df\n",
    "                          .groupby(['source','gene'])\n",
    "                          ['n_reads']\n",
    "                          .sum()\n",
    "                          .reset_index()),\n",
    "                        on=['source','gene'])\n",
    "\n",
    "shared_reads['frac_total_reads'] = (shared_reads['count_barcode'] / \n",
    "                                    shared_reads['n_reads'])\n",
    "\n",
    "display(shared_reads)\n",
    "\n",
    "\n",
    "fig = (p9.ggplot(shared_reads,\n",
    "                 p9.aes(x='gene',\n",
    "                        y='frac_total_reads',\n",
    "                        fill='tags_present')) +\n",
    "       p9.geom_bar(stat='identity') +\n",
    "       p9.ggtitle(f'barcodes identified in each tag for {expt}') +\n",
    "       p9.ylab('frac_total_reads') +\n",
    "       p9.coord_flip() +\n",
    "       p9.facet_grid('source~') +\n",
    "       p9.theme(figure_size=(4*shared_tags['gene'].nunique(),\n",
    "                             1.5*shared_tags['source'].nunique()),\n",
    "                plot_title=p9.element_text(size=10),\n",
    "                axis_title=p9.element_text(size=10),\n",
    "                legend_title=p9.element_text(size=9),\n",
    "                legend_title_align='center') +\n",
    "       p9.scale_fill_manual(CBPALETTE[0:]))\n",
    "\n",
    "# show plot\n",
    "fig"
   ]
  },
  {
   "cell_type": "markdown",
   "metadata": {},
   "source": [
    "Plot barcode frequency by sharing:"
   ]
  },
  {
   "cell_type": "code",
   "execution_count": null,
   "metadata": {
    "execution": {
     "iopub.execute_input": "2021-03-11T22:23:19.513821Z",
     "iopub.status.busy": "2021-03-11T22:23:19.513116Z",
     "iopub.status.idle": "2021-03-11T22:24:27.857790Z",
     "shell.execute_reply": "2021-03-11T22:24:27.858137Z"
    }
   },
   "outputs": [],
   "source": [
    "shared_tags_freq = pd.merge(viral_bc,\n",
    "                            shared_tags,\n",
    "                            on=['source', 'gene', 'barcode'])\n",
    "\n",
    "display(shared_tags_freq)\n",
    "\n",
    "fig = (p9.ggplot(shared_tags_freq, p9.aes(x='freq', fill='tags_present')) +\n",
    "       p9.geom_histogram(bins=100) +\n",
    "       p9.facet_grid('gene~source') +\n",
    "       p9.scale_y_log10() +\n",
    "       p9.scale_x_log10() +\n",
    "       p9.theme(figure_size=(2*viral_bc['source'].nunique(),\n",
    "                             1.5*viral_bc['gene'].nunique()),\n",
    "                plot_title=p9.element_text(size=10),\n",
    "                axis_title=p9.element_text(size=10),\n",
    "                legend_title=p9.element_text(size=9),\n",
    "                legend_title_align='center') +\n",
    "       p9.ylab('n_barcodes') +\n",
    "       p9.scale_fill_manual(CBPALETTE[0:]))\n",
    "fig"
   ]
  },
  {
   "cell_type": "markdown",
   "metadata": {},
   "source": [
    "Plot correlation of barcodes in supernatant and in second infection. Color by presence in each (or both) tags."
   ]
  },
  {
   "cell_type": "code",
   "execution_count": null,
   "metadata": {
    "execution": {
     "iopub.execute_input": "2021-03-11T22:24:27.860068Z",
     "iopub.status.busy": "2021-03-11T22:24:27.859695Z",
     "iopub.status.idle": "2021-03-11T22:28:02.148469Z",
     "shell.execute_reply": "2021-03-11T22:28:02.148783Z"
    }
   },
   "outputs": [],
   "source": [
    "tag_freqs = (shared_tags_freq\n",
    "             .pivot_table(index=['gene',\n",
    "                                 'tag',\n",
    "                                 'barcode',\n",
    "                                 'tags_present'],\n",
    "                          columns=['source'],\n",
    "                          values='freq',\n",
    "                          aggfunc=np.mean)\n",
    "             .fillna(0)\n",
    "             .reset_index())\n",
    "\n",
    "display(tag_freqs)\n",
    "\n",
    "fig = (p9.ggplot(tag_freqs,\n",
    "                 p9.aes(x='supernatant',\n",
    "                        y='second_infection',\n",
    "                        color='tags_present')) +\n",
    "       p9.ggtitle(f'{expt}\\n'\n",
    "                  'barcode counts in supernatant '\n",
    "                  'and second infection for shared libraries') +\n",
    "       p9.geom_point(alpha=0.4) +\n",
    "       p9.facet_grid('gene~tag') +\n",
    "       p9.theme(figure_size=(2.5*tag_freqs['tag'].nunique(),\n",
    "                             2.5*tag_freqs['gene'].nunique())) +\n",
    "       p9.scale_x_log10() +\n",
    "       p9.scale_y_log10() +\n",
    "       p9.scale_color_manual(CBPALETTE[0:]))\n",
    "fig"
   ]
  },
  {
   "cell_type": "markdown",
   "metadata": {},
   "source": [
    "Plot frequencies of barcodes and color by which tag (or both) they are found in:"
   ]
  },
  {
   "cell_type": "code",
   "execution_count": null,
   "metadata": {
    "execution": {
     "iopub.execute_input": "2021-03-11T22:28:02.150555Z",
     "iopub.status.busy": "2021-03-11T22:28:02.150255Z",
     "iopub.status.idle": "2021-03-11T22:31:54.290520Z",
     "shell.execute_reply": "2021-03-11T22:31:54.289957Z"
    }
   },
   "outputs": [],
   "source": [
    "tag_freqs = (shared_tags_freq\n",
    "             .pivot_table(index=['source',\n",
    "                                 'gene',\n",
    "                                 'barcode',\n",
    "                                 'tags_present'],\n",
    "                          columns=['tag'],\n",
    "                          values='freq',\n",
    "                          aggfunc=np.mean)\n",
    "             .fillna(0)\n",
    "             .reset_index())\n",
    "\n",
    "display(tag_freqs)\n",
    "\n",
    "fig = (p9.ggplot(tag_freqs,\n",
    "                 p9.aes(x='wt',\n",
    "                        y='syn',\n",
    "                        color='tags_present')) +\n",
    "       p9.ggtitle(f'{expt}\\n'\n",
    "                  'barcode counts in wt and syn for shared libraries') +\n",
    "       p9.geom_point() +\n",
    "       p9.facet_grid('gene~source') +\n",
    "       p9.theme(figure_size=(2.5*tag_freqs['source'].nunique(),\n",
    "                             2.5*tag_freqs['gene'].nunique())) +\n",
    "       p9.scale_x_log10() +\n",
    "       p9.scale_y_log10() +\n",
    "       p9.scale_color_manual(CBPALETTE[1:]))\n",
    "fig"
   ]
  },
  {
   "cell_type": "markdown",
   "metadata": {},
   "source": [
    "Plot frequencies on barcodes that are found in both tags, colored by replicate:"
   ]
  },
  {
   "cell_type": "code",
   "execution_count": null,
   "metadata": {
    "execution": {
     "iopub.execute_input": "2021-03-11T22:31:54.292860Z",
     "iopub.status.busy": "2021-03-11T22:31:54.292147Z",
     "iopub.status.idle": "2021-03-11T22:31:58.497703Z",
     "shell.execute_reply": "2021-03-11T22:31:58.498016Z"
    }
   },
   "outputs": [],
   "source": [
    "tag_freqs = (shared_tags_freq\n",
    "             .query('tags_present == \"syn and wt\"')\n",
    "             .pivot_table(index=['source',\n",
    "                                 'gene',\n",
    "                                 'barcode',\n",
    "                                 'replicate'],\n",
    "                          columns=['tag'],\n",
    "                          values='freq')\n",
    "             .fillna(0)\n",
    "             .reset_index())\n",
    "\n",
    "display(tag_freqs)\n",
    "\n",
    "fig = (p9.ggplot(tag_freqs,\n",
    "                 p9.aes(x='wt',\n",
    "                        y='syn',\n",
    "                        color='replicate')) +\n",
    "       p9.ggtitle(f'{expt}\\n'\n",
    "                  'barcode counts in wt and syn for shared libraries') +\n",
    "       p9.geom_point() +\n",
    "       p9.facet_grid('gene~source') +\n",
    "       p9.theme(figure_size=(2.5*tag_freqs['source'].nunique(),\n",
    "                             2.5*tag_freqs['gene'].nunique())) +\n",
    "       p9.scale_x_log10() +\n",
    "       p9.scale_y_log10() +\n",
    "       p9.scale_color_manual(CBPALETTE[1:]))\n",
    "fig"
   ]
  },
  {
   "cell_type": "markdown",
   "metadata": {},
   "source": [
    "Plot correlation of technical replicates"
   ]
  },
  {
   "cell_type": "code",
   "execution_count": null,
   "metadata": {
    "execution": {
     "iopub.execute_input": "2021-03-11T22:31:58.499811Z",
     "iopub.status.busy": "2021-03-11T22:31:58.499503Z",
     "iopub.status.idle": "2021-03-11T22:48:23.084702Z",
     "shell.execute_reply": "2021-03-11T22:48:23.085048Z"
    }
   },
   "outputs": [],
   "source": [
    "# Check that replicates fit hardcoded expectations\n",
    "# replicate_names = ['replicate_1', 'replicate_2']\n",
    "# n_replicates = len(replicate_names)\n",
    "# for (_source, _tag, _gene), df in (viral_bc.groupby(['source',\n",
    "#                                                      'tag',\n",
    "#                                                      'gene'])):\n",
    "#     assert set(df['replicate'].unique()) == set(replicate_names), \\\n",
    "#         f\"Code assumes exactly {n_replicates} replicates per sample.\"\n",
    "\n",
    "viral_bc_wide = (viral_bc\n",
    "                 .pivot_table(index=['source',\n",
    "                                     'tag',\n",
    "                                     'gene',\n",
    "                                     'barcode'],\n",
    "                              columns='replicate',\n",
    "                              values='freq')\n",
    "                 .reset_index()\n",
    "                 .fillna(0))\n",
    "\n",
    "viral_bc_wide.columns = ['source',\n",
    "                         'tag',\n",
    "                         'gene',\n",
    "                         'barcode',\n",
    "                         'replicate_1_freq',\n",
    "                         'replicate_2_freq']\n",
    "\n",
    "viral_bc_wide['in_both'] = ((viral_bc_wide['replicate_1_freq'] > 0)\n",
    "                            & (viral_bc_wide['replicate_2_freq'] > 0))\n",
    "\n",
    "display(viral_bc_wide)\n",
    "\n",
    "fig = (p9.ggplot(viral_bc_wide,\n",
    "                 p9.aes(x='replicate_1_freq',\n",
    "                        y='replicate_2_freq',\n",
    "                        color='in_both')) +\n",
    "       p9.ggtitle(f'viral barcode replicates for experiment {expt}') +\n",
    "       p9.geom_point(alpha=0.1) +\n",
    "       p9.facet_grid('source~gene+tag') +\n",
    "       p9.scale_x_log10() +\n",
    "       p9.scale_y_log10() +\n",
    "       p9.theme(figure_size=(3.5*viral_bc_wide['gene'].nunique(),\n",
    "                             2*viral_bc_wide['source'].nunique()),\n",
    "                plot_title=p9.element_text(size=10),\n",
    "                axis_title=p9.element_text(size=10),\n",
    "                legend_title=p9.element_text(size=9),\n",
    "                legend_title_align='center') +\n",
    "       p9.scale_color_manual([CBPALETTE[1], '#000000']))\n",
    "\n",
    "# save plot\n",
    "print(f\"Saving plot to {plot}\")\n",
    "p9.ggsave(plot=fig, filename=plot, verbose=False)\n",
    "\n",
    "# show plot\n",
    "fig"
   ]
  },
  {
   "cell_type": "code",
   "execution_count": null,
   "metadata": {},
   "outputs": [],
   "source": [
    "fig = (p9.ggplot((viral_bc_wide\n",
    "                  .query('(source == \"supernatant\") or '\n",
    "                         '(source == \"second_infection\")')),\n",
    "                 p9.aes(x='replicate_1_freq',\n",
    "                        y='replicate_2_freq',\n",
    "                        color='in_both')) +\n",
    "       p9.ggtitle(f'viral barcode replicates for experiment {expt}') +\n",
    "       p9.geom_point(alpha=0.1) +\n",
    "       p9.facet_grid('source~gene+tag') +\n",
    "       p9.scale_x_log10() +\n",
    "       p9.scale_y_log10() +\n",
    "       p9.theme(figure_size=(3.5*viral_bc_wide['gene'].nunique(),\n",
    "                             1*viral_bc_wide['source'].nunique()),\n",
    "                plot_title=p9.element_text(size=10),\n",
    "                axis_title=p9.element_text(size=10),\n",
    "                legend_title=p9.element_text(size=9),\n",
    "                legend_title_align='center') +\n",
    "       p9.scale_color_manual([CBPALETTE[1], '#000000']))\n",
    "\n",
    "# show plot\n",
    "fig"
   ]
  },
  {
   "cell_type": "markdown",
   "metadata": {},
   "source": [
    "Average frequencies and export CSV:"
   ]
  },
  {
   "cell_type": "code",
   "execution_count": null,
   "metadata": {
    "execution": {
     "iopub.execute_input": "2021-03-11T22:48:23.086991Z",
     "iopub.status.busy": "2021-03-11T22:48:23.086697Z",
     "iopub.status.idle": "2021-03-11T22:49:19.529015Z",
     "shell.execute_reply": "2021-03-11T22:49:19.529396Z"
    }
   },
   "outputs": [],
   "source": [
    "viral_bc_wide['mean_freq'] = ((viral_bc_wide['replicate_1_freq']\n",
    "                               + viral_bc_wide['replicate_2_freq'])\n",
    "                              / 2)\n",
    "\n",
    "viral_bc_wide.to_csv(viral_bc_in_progeny_freq_csv,\n",
    "                     columns=['source',\n",
    "                              'tag',\n",
    "                              'gene',\n",
    "                              'barcode',\n",
    "                              'mean_freq'],\n",
    "                     index=False)"
   ]
  },
  {
   "cell_type": "markdown",
   "metadata": {},
   "source": [
    "Calculate and plot edit distance between observed barcodes:"
   ]
  },
  {
   "cell_type": "code",
   "execution_count": null,
   "metadata": {
    "execution": {
     "iopub.execute_input": "2021-03-11T22:49:19.644831Z",
     "iopub.status.busy": "2021-03-11T22:49:19.644471Z",
     "iopub.status.idle": "2021-03-11T22:50:46.933910Z",
     "shell.execute_reply": "2021-03-11T22:50:46.934252Z"
    }
   },
   "outputs": [],
   "source": [
    "sample_size = 1000\n",
    "records = []\n",
    "for (source, tag, gene), df in (viral_bc\n",
    "                                .groupby(['source',\n",
    "                                          'tag',\n",
    "                                          'gene'])):\n",
    "    print(f'Calculating hamming distance for {source} {tag} {gene}.'\n",
    "          f'\\n\\tThere are {df[\"barcode\"].nunique()} '\n",
    "          'unique barcodes in dataset.'\n",
    "          f'\\n\\tSampling {sample_size} barcodes for distribution.')\n",
    "    sample = random.sample(list(df['barcode'].unique()), sample_size)\n",
    "    for bc_pair in itertools.combinations(sample, 2):\n",
    "        records.append((source,\n",
    "                        tag,\n",
    "                        gene,\n",
    "                        bc_pair[0],\n",
    "                        bc_pair[1],\n",
    "                        editdistance.eval(bc_pair[0], bc_pair[1])))\n",
    "\n",
    "pairs_df = pd.DataFrame.from_records(records)\n",
    "pairs_df.columns = ['source',\n",
    "                    'tag',\n",
    "                    'gene',\n",
    "                    'seq_1',\n",
    "                    'seq_2',\n",
    "                    'edit_distance']\n",
    "display(pairs_df)\n",
    "\n",
    "fig = (p9.ggplot(pairs_df, p9.aes(x='edit_distance')) +\n",
    "       p9.ggtitle(f'edit distance between barcodes in {expt}') +\n",
    "       p9.geom_histogram(binwidth=1) +\n",
    "       p9.facet_grid('gene+tag~source'))\n",
    "\n",
    "fig"
   ]
  }
 ],
 "metadata": {
  "kernelspec": {
   "display_name": "Python 3",
   "language": "python",
   "name": "python3"
  },
  "language_info": {
   "codemirror_mode": {
    "name": "ipython",
    "version": 3
   },
   "file_extension": ".py",
   "mimetype": "text/x-python",
   "name": "python",
   "nbconvert_exporter": "python",
   "pygments_lexer": "ipython3",
   "version": "3.8.5"
  }
 },
 "nbformat": 4,
 "nbformat_minor": 4
}
