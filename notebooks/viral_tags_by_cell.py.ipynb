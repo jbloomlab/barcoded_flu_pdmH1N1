{
 "cells": [
  {
   "cell_type": "markdown",
   "metadata": {},
   "source": [
    "# Viral tags by cell from 10x transcriptomics\n",
    "This Python Jupyter notebook aggregates the viral tags by cell in the 10x transcriptomic data, and drops any viral tags that are ambiguous or invalid.\n",
    "\n",
    "Import Python modules:"
   ]
  },
  {
   "cell_type": "code",
   "execution_count": null,
   "metadata": {},
   "outputs": [],
   "source": [
    "import matplotlib.pyplot as plt\n",
    "\n",
    "import pandas as pd"
   ]
  },
  {
   "cell_type": "markdown",
   "metadata": {},
   "source": [
    "Get `snakemake` variables [as described here](https://snakemake.readthedocs.io/en/stable/snakefiles/rules.html#jupyter-notebook-integration):"
   ]
  },
  {
   "cell_type": "code",
   "execution_count": null,
   "metadata": {},
   "outputs": [],
   "source": [
    "viral_tag_by_cell_umi_csv = snakemake.input.viral_tag_by_cell_umi_csv\n",
    "viral_tag_by_cell_csv = snakemake.output.viral_tag_by_cell_csv\n",
    "plot = snakemake.output.plot\n",
    "expt = snakemake.wildcards.expt"
   ]
  },
  {
   "cell_type": "markdown",
   "metadata": {},
   "source": [
    "Read data frame of viral tags by cell and UMI:"
   ]
  },
  {
   "cell_type": "code",
   "execution_count": null,
   "metadata": {},
   "outputs": [],
   "source": [
    "viral_tag_by_cell_umi = pd.read_csv(viral_tag_by_cell_umi_csv)"
   ]
  },
  {
   "cell_type": "markdown",
   "metadata": {},
   "source": [
    "Create data frame where we count viral barcodes by cell (and gene), and then annotate as `not_valid` any tags that are invalid, ambiguous, or disagree within the UMI:"
   ]
  },
  {
   "cell_type": "code",
   "execution_count": null,
   "metadata": {},
   "outputs": [],
   "source": [
    "not_valid_tags = ['ambiguous', 'invalid', 'tags_disagree']\n",
    "valid_tags = [tag for tag in viral_tag_by_cell_umi['tag_variant'].unique()\n",
    "              if tag not in not_valid_tags]\n",
    "\n",
    "viral_tag_by_cell = (\n",
    "    viral_tag_by_cell_umi\n",
    "    .groupby(['gene', 'cell_barcode', 'tag_variant'], as_index=False)\n",
    "    .aggregate(count=pd.NamedAgg('UMI', 'count'))\n",
    "    .assign(not_valid=lambda x: x['tag_variant'].isin(not_valid_tags),\n",
    "            tag_variant=lambda x: pd.Categorical(x['tag_variant'],\n",
    "                                                 valid_tags + not_valid_tags,\n",
    "                                                 ordered=True)\n",
    "            )\n",
    "    )"
   ]
  },
  {
   "cell_type": "markdown",
   "metadata": {},
   "source": [
    "Write output CSV file with the viral tag counts per cell, dropping invalid tags:"
   ]
  },
  {
   "cell_type": "code",
   "execution_count": null,
   "metadata": {},
   "outputs": [],
   "source": [
    "print(f\"Writing per-cell viral tag counts to {viral_tag_by_cell_csv}\")\n",
    "(viral_tag_by_cell\n",
    " .query('not not_valid')\n",
    " .drop(columns='not_valid')\n",
    " .to_csv(viral_tag_by_cell_csv,\n",
    "         compression='gzip',\n",
    "         index=False)\n",
    " )"
   ]
  },
  {
   "cell_type": "markdown",
   "metadata": {
    "execution": {
     "iopub.execute_input": "2020-10-14T19:22:52.223778Z",
     "iopub.status.busy": "2020-10-14T19:22:52.223267Z",
     "iopub.status.idle": "2020-10-14T19:22:52.245096Z",
     "shell.execute_reply": "2020-10-14T19:22:52.244544Z",
     "shell.execute_reply.started": "2020-10-14T19:22:52.223732Z"
    }
   },
   "source": [
    "Make summary plots:"
   ]
  },
  {
   "cell_type": "code",
   "execution_count": null,
   "metadata": {},
   "outputs": [],
   "source": [
    "fig, axes = plt.subplots(nrows=2,\n",
    "                         figsize=(15, 7))\n",
    "\n",
    "fig.suptitle(f\"viral tags in 10x transcriptomics for experiment {expt}\")\n",
    "\n",
    "# number of UMIs with viral the for each gene stratified by whether valid\n",
    "tot_umi_counts = (\n",
    "    viral_tag_by_cell\n",
    "    .groupby(['gene', 'tag_variant'], as_index=False, observed=True)\n",
    "    .aggregate(UMIs=pd.NamedAgg('count', 'sum'))\n",
    "    .pivot_table(index='gene',\n",
    "                 columns='tag_variant')\n",
    "    .fillna(0)\n",
    "    )\n",
    "tot_umi_counts.columns = tot_umi_counts.columns.get_level_values(1)\n",
    "tot_umi_counts.columns.name = None\n",
    "\n",
    "for ax, ytype in zip(axes, ['number', 'fraction']):\n",
    "    if ytype == 'number':\n",
    "        df = tot_umi_counts\n",
    "    elif ytype == 'fraction':\n",
    "        df = tot_umi_counts.div(tot_umi_counts.sum(axis=1), axis=0)\n",
    "    _ = df.plot(kind='bar',\n",
    "                ax=ax,\n",
    "                width=0.8,\n",
    "                ).legend(loc='center left', bbox_to_anchor=(1, 0.5))\n",
    "    ax.set_ylabel(f\"{ytype} UMIs with viral tag\")\n",
    "    ymax = df.max().max()\n",
    "    ax.set_ylim(0, 1.4 * ymax)\n",
    "    for p in ax.patches:\n",
    "        ax.annotate(f\"{p.get_height():.2g}\",\n",
    "                    (p.get_x() + 0.02, p.get_height() + 0.05 * ymax),\n",
    "                    rotation=90,\n",
    "                    color=p.get_facecolor())\n",
    "\n",
    "# save plot\n",
    "fig.tight_layout()\n",
    "print(f\"Saving plot to {plot}\")\n",
    "fig.savefig(plot)"
   ]
  }
 ],
 "metadata": {
  "kernelspec": {
   "display_name": "Python 3",
   "language": "python",
   "name": "python3"
  },
  "language_info": {
   "codemirror_mode": {
    "name": "ipython",
    "version": 3
   },
   "file_extension": ".py",
   "mimetype": "text/x-python",
   "name": "python",
   "nbconvert_exporter": "python",
   "pygments_lexer": "ipython3",
   "version": "3.8.6"
  }
 },
 "nbformat": 4,
 "nbformat_minor": 4
}
