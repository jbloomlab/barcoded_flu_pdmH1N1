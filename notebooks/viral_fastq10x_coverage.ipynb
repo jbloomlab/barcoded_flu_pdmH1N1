{
 "cells": [
  {
   "cell_type": "markdown",
   "metadata": {},
   "source": [
    "# Coverage of viral tags and barcodes by Illumina 10X reads\n",
    "This Python Jupyter notebook examines where the 10X aligned FASTQ reads fall on the viral genes (coverage) with respect to viral barcodes and viral tags.\n",
    "It also writes information on the locations of the viral barcodes and tags in the viral genes."
   ]
  },
  {
   "cell_type": "markdown",
   "metadata": {},
   "source": [
    "## Parameters\n",
    "First, set the parameters for the notebook, such as to specify the input files and output plots.\n",
    "This is done in the next cell, which is tagged as a `parameters` cell to enable [papermill parameterization](https://papermill.readthedocs.io/en/latest/usage-parameterize.html):"
   ]
  },
  {
   "cell_type": "code",
   "execution_count": null,
   "metadata": {
    "tags": [
     "parameters"
    ]
   },
   "outputs": [],
   "source": [
    "# parameters cell; in order for notebook to run this cell must define:\n",
    "#  - samples_10x: list of 10X samples\n",
    "#  - input_fastq10x_bams: list of BAM file with alignments of 10X reads for each sample\n",
    "#  - input_fastq10x_bais: BAM indices for each file in `input_fastq10x_bam`\n",
    "#  - input_viral_genbank: Genbank file with annotated viral genes\n",
    "#  - output_viraltag_locs: output file with location of viral tags (1, ..., numbering)\n",
    "#  - output_viralbac_locs: output file with location of viral barcodes (1, ..., numbering)"
   ]
  },
  {
   "cell_type": "markdown",
   "metadata": {},
   "source": [
    "Check input lists all the right length, then make dicts that map sample names to BAM and BAM index files:"
   ]
  },
  {
   "cell_type": "code",
   "execution_count": null,
   "metadata": {},
   "outputs": [],
   "source": [
    "assert len(samples_10x) == len(input_fastq10x_bams) == len(input_fastq10x_bais)\n",
    "\n",
    "fastq10x_bams = dict(zip(samples_10x, input_fastq10x_bams))\n",
    "fastq10x_bais = dict(zip(samples_10x, input_fastq10x_bais))"
   ]
  },
  {
   "cell_type": "markdown",
   "metadata": {},
   "source": [
    "## Import Python modules\n",
    "We use [pysam](https://pysam.readthedocs.io/) to plot process the BAM files, [dna_features_viewer](https://edinburgh-genome-foundry.github.io/DnaFeaturesViewer/) for genes, and [plotnine](https://plotnine.readthedocs.io/) for some ggplot2-style plotting:"
   ]
  },
  {
   "cell_type": "code",
   "execution_count": null,
   "metadata": {},
   "outputs": [],
   "source": [
    "import collections\n",
    "import itertools\n",
    "\n",
    "import Bio.SeqIO\n",
    "\n",
    "import dna_features_viewer\n",
    "\n",
    "from IPython.display import display, HTML\n",
    "\n",
    "import matplotlib\n",
    "import matplotlib.pyplot as plt\n",
    "\n",
    "import mizani\n",
    "\n",
    "import pandas as pd\n",
    "\n",
    "from plotnine import *\n",
    "\n",
    "import pysam"
   ]
  },
  {
   "cell_type": "markdown",
   "metadata": {},
   "source": [
    "Color-blind palette:"
   ]
  },
  {
   "cell_type": "code",
   "execution_count": null,
   "metadata": {},
   "outputs": [],
   "source": [
    "cbpalette = ('#999999', '#E69F00', '#56B4E9', '#009E73',\n",
    "             '#F0E442', '#0072B2', '#D55E00', '#CC79A7')"
   ]
  },
  {
   "cell_type": "markdown",
   "metadata": {},
   "source": [
    "Set [plotnine theme](https://plotnine.readthedocs.io/en/stable/api.html#themes):"
   ]
  },
  {
   "cell_type": "code",
   "execution_count": null,
   "metadata": {},
   "outputs": [],
   "source": [
    "_ = theme_set(theme_classic)"
   ]
  },
  {
   "cell_type": "markdown",
   "metadata": {},
   "source": [
    "## Read the viral genes\n",
    "Get all the viral genes as [BioPython SeqRecords](https://biopython.org/wiki/SeqRecord):"
   ]
  },
  {
   "cell_type": "code",
   "execution_count": null,
   "metadata": {},
   "outputs": [],
   "source": [
    "print(f\"Reading viral genes from {input_viral_genbank}\")\n",
    "viral_genes = list(Bio.SeqIO.parse(input_viral_genbank, 'genbank'))\n",
    "viral_gene_names = [s.id for s in viral_genes]\n",
    "print(f\"Found {len(viral_gene_names)} viral genes:\\n\\t\" +\n",
    "      '\\n\\t'.join(viral_gene_names))\n",
    "assert len(viral_genes) == len(set(viral_gene_names)), 'viral gene names not unique'"
   ]
  },
  {
   "cell_type": "markdown",
   "metadata": {},
   "source": [
    "## Get viral tag and barcode locations\n",
    "Get the locations of the viral tags and barcodes for each gene in 1-based indexing inclusive of the first and last number (so the type of numbering that Genbank files use):"
   ]
  },
  {
   "cell_type": "code",
   "execution_count": null,
   "metadata": {},
   "outputs": [],
   "source": [
    "viraltag_df = []\n",
    "viralbc_df = []\n",
    "for seqrecord in viral_genes:\n",
    "    for f in seqrecord.features:\n",
    "        if f.type == 'viral_barcode':\n",
    "            viralbc_df.append([seqrecord.id, int(f.location.start) + 1, int(f.location.end)])\n",
    "        elif 'tag' in f.type:\n",
    "            viraltag_df.append((seqrecord.id, f.type, int(f.location.start) + 1, int(f.location.end)))\n",
    "            \n",
    "viraltag_df = pd.DataFrame.from_records(viraltag_df,\n",
    "                                        columns=['gene', 'tag_name', 'start', 'end'])\n",
    "assert len(viraltag_df) == len(viraltag_df.drop_duplicates())\n",
    "print(f\"\\nViral tag locations; writing to {output_viraltag_locs}\")\n",
    "viraltag_df.to_csv(output_viraltag_locs, index=False)\n",
    "display(HTML(viraltag_df.to_html(index=False)))\n",
    "\n",
    "viralbc_df = pd.DataFrame.from_records(viralbc_df,\n",
    "                                       columns=['gene', 'start', 'end'])\n",
    "assert len(viralbc_df) == len(viralbc_df.drop_duplicates())\n",
    "print(f\"\\nViral barcode locations; writing to {output_viralbc_locs}\")\n",
    "viralbc_df.to_csv(output_viralbc_locs, index=False)\n",
    "display(HTML(viralbc_df.to_html(index=False)))"
   ]
  },
  {
   "cell_type": "markdown",
   "metadata": {},
   "source": [
    "## Get alignment statistics for each gene and sample\n",
    "Use [pysam](https://pysam.readthedocs.io/) to get the following dataframes:\n",
    " - `nreads_df`: total number of reads aligned to each gene in each sample\n",
    " - `coverage_df`: coverage at each site for each viral gene in each sample\n",
    " - `readlen_df`: distribution of lengths of the **aligned** portion of reads (not including soft-clipped bases) for each gene in each sample"
   ]
  },
  {
   "cell_type": "code",
   "execution_count": null,
   "metadata": {},
   "outputs": [],
   "source": [
    "coverage_list = []\n",
    "nreads_list = []\n",
    "readlen_list = []\n",
    "\n",
    "for viral_gene, sample10x in itertools.product(viral_genes, samples_10x):\n",
    "    gene_name = viral_gene.id\n",
    "    bam = fastq10x_bams[sample10x]\n",
    "    bai = fastq10x_bais[sample10x]\n",
    "    print(f\"Getting statistics for {gene_name} in {sample10x} from {bam}\")\n",
    "    \n",
    "    with pysam.AlignmentFile(bam, mode='rb', index_filename=bai) as bamfile:\n",
    "        if len(viral_gene) != bamfile.get_reference_length(gene_name):\n",
    "            raise ValueError(f\"length of {gene_name} not as expected in {bam}\")\n",
    "            \n",
    "        nreads_list.append(\n",
    "                pd.DataFrame({'gene': [gene_name],\n",
    "                              'sample': [sample10x],\n",
    "                              'nreads': [bamfile.count(contig=gene_name)],\n",
    "                              })\n",
    "                ) \n",
    "\n",
    "        coverage_list.append(\n",
    "                pd.DataFrame(dict(zip('ACGT',\n",
    "                                      bamfile.count_coverage(contig=gene_name))))\n",
    "                .assign(depth=lambda x: x.sum(axis=1),\n",
    "                        site=lambda x: x.index + 1,\n",
    "                        gene=gene_name,\n",
    "                        sample=sample10x)\n",
    "                [['gene', 'sample', 'site', 'depth']]\n",
    "                )\n",
    "        \n",
    "        readlens = collections.defaultdict(int)\n",
    "        for read in bamfile.fetch(contig=gene_name):\n",
    "            readlens[read.query_alignment_length] += 1\n",
    "        readlen_list.append(\n",
    "                pd.DataFrame.from_records(list(readlens.items()),\n",
    "                                          columns=['aligned_read_length', 'nreads'])\n",
    "                .assign(gene=gene_name,\n",
    "                        sample=sample10x)\n",
    "                .sort_values('aligned_read_length')\n",
    "                [['gene', 'sample', 'aligned_read_length', 'nreads']]\n",
    "                )\n",
    "        \n",
    "nreads_df = (pd.concat(nreads_list, sort=False, ignore_index=True)\n",
    "             .assign(gene=lambda x: pd.Categorical(x['gene'],\n",
    "                                                   viral_gene_names,\n",
    "                                                   ordered=True))\n",
    "             )\n",
    "print('\\nFirst few lines of `nreads_df`:')\n",
    "display(HTML(nreads_df.head().to_html(index=False)))\n",
    "        \n",
    "coverage_df = (pd.concat(coverage_list, sort=False, ignore_index=True)\n",
    "               .assign(gene=lambda x: pd.Categorical(x['gene'],\n",
    "                                                     viral_gene_names,\n",
    "                                                     ordered=True))\n",
    "               )\n",
    "print('\\nFirst few lines of `coverage_df`:')\n",
    "display(HTML(coverage_df.head().to_html(index=False)))\n",
    "\n",
    "readlen_df = (pd.concat(readlen_list, sort=False, ignore_index=True)\n",
    "              .assign(gene=lambda x: pd.Categorical(x['gene'],\n",
    "                                                    viral_gene_names,\n",
    "                                                    ordered=True))\n",
    "              )\n",
    "print('\\nFirst few lines of `readlen_df`:')\n",
    "display(HTML(readlen_df.head().to_html(index=False)))"
   ]
  },
  {
   "cell_type": "markdown",
   "metadata": {},
   "source": [
    "Sanity check to make sure we got the right number of sites for each gene in `coverage_df`:"
   ]
  },
  {
   "cell_type": "code",
   "execution_count": null,
   "metadata": {},
   "outputs": [],
   "source": [
    "for viral_gene in viral_genes:\n",
    "    gene_name = viral_gene.id\n",
    "    lengths = (coverage_df\n",
    "               .query('gene == @gene_name')\n",
    "               .groupby('sample')\n",
    "               .size()\n",
    "               .values\n",
    "               )\n",
    "    if not all(lengths == len(viral_gene)):\n",
    "        raise ValueError(f\"coverage not for expected number sites for {gene_name}\")"
   ]
  },
  {
   "cell_type": "markdown",
   "metadata": {},
   "source": [
    "Sanity check to make sure `nreads_df` and `readlen_df` have same number of reads:"
   ]
  },
  {
   "cell_type": "code",
   "execution_count": null,
   "metadata": {},
   "outputs": [],
   "source": [
    "if not all(nreads_df['nreads'].values == (readlen_df\n",
    "                                          .groupby(['gene', 'sample'],\n",
    "                                                   sort=False)\n",
    "                                          .aggregate({'nreads': 'sum'})\n",
    "                                          ['nreads']\n",
    "                                          .values\n",
    "                                          )):\n",
    "    raise ValueError('nreads differ for `nreads_df` and `readlen_df`')"
   ]
  },
  {
   "cell_type": "markdown",
   "metadata": {},
   "source": [
    "## Total reads per viral gene\n",
    "Plot the total number of aligned reads for each viral gene:"
   ]
  },
  {
   "cell_type": "code",
   "execution_count": null,
   "metadata": {},
   "outputs": [],
   "source": [
    "p = (ggplot(nreads_df, aes('gene', 'nreads')) +\n",
    "     geom_bar(stat='identity') +\n",
    "     facet_wrap('~ sample', nrow=1) +\n",
    "     theme(figure_size=(2.5 * len(samples_10x), 2),\n",
    "           axis_text_x=element_text(angle=90)) +\n",
    "     scale_y_continuous(labels=mizani.formatters.scientific_format(),\n",
    "                        name='number aligned reads')\n",
    "     )\n",
    "\n",
    "_ = p.draw()"
   ]
  },
  {
   "cell_type": "markdown",
   "metadata": {},
   "source": [
    "## Lengths of aligned reads for each viral gene\n",
    "Plot the distribution of the lengths of the **aligned** portions of each read for each viral gene:"
   ]
  },
  {
   "cell_type": "code",
   "execution_count": null,
   "metadata": {},
   "outputs": [],
   "source": [
    "p = (ggplot(readlen_df, aes('aligned_read_length', 'nreads')) +\n",
    "     geom_bar(stat='identity') +\n",
    "     facet_grid('gene ~ sample', scales='free_y') +\n",
    "     theme(figure_size=(2 * len(samples_10x), 1 * len(viral_gene_names)),\n",
    "           axis_text_x=element_text(angle=90)) +\n",
    "     scale_y_continuous(labels=mizani.formatters.scientific_format())\n",
    "     )\n",
    "\n",
    "_ = p.draw()"
   ]
  },
  {
   "cell_type": "markdown",
   "metadata": {},
   "source": [
    "## Coverage per site, including over viral tags and barcodes\n",
    "Now plot depth per site alongside gene structure.\n",
    "In this plot, we indicate the viral tags (blue) and viral barcodes (orange):"
   ]
  },
  {
   "cell_type": "code",
   "execution_count": null,
   "metadata": {},
   "outputs": [],
   "source": [
    "# set up grid of subplots\n",
    "gene_lengths = [len(viral_gene) for viral_gene in viral_genes]\n",
    "gene_image_relheight = 0.2\n",
    "fig, axes = plt.subplots(nrows=1 + len(samples_10x),\n",
    "                         ncols=len(viral_gene_names),\n",
    "                         sharex='col',\n",
    "                         gridspec_kw={'width_ratios': gene_lengths,\n",
    "                                      'height_ratios': [1] + [2.5] * len(samples_10x)},\n",
    "                         figsize=(16, 3 * (len(samples_10x) + gene_image_relheight)),\n",
    "                         squeeze=False,\n",
    "                         )\n",
    "\n",
    "# plot genes in first row, only showing full vRNA, viral barcodes, and tags\n",
    "# first define a translator from the sequence record to graphic record\n",
    "class ViralGeneTranslator(dna_features_viewer.BiopythonTranslator):\n",
    "    \"\"\"Translate BioPython SeqRecord into GraphicRecord.\"\"\" \n",
    "    def compute_feature_color(self, feature):\n",
    "        if feature.type == 'exon':\n",
    "            return cbpalette[0]\n",
    "        elif feature.type == 'viral_barcode':\n",
    "            return cbpalette[1]\n",
    "        elif 'tag' in feature.type:\n",
    "            return cbpalette[2]\n",
    "        else:\n",
    "            return cbpalette[3]\n",
    "\n",
    "    def compute_feature_label(self, feature):\n",
    "        return None\n",
    "    \n",
    "    def compute_filtered_features(self, features):\n",
    "        return [f for f in features \n",
    "                if f.type in ['exon', 'viral_barcode'] or 'tag' in f.type]\n",
    "    \n",
    "# now plot the genes in the first row of the subplots\n",
    "for ax, seqrecord in zip(axes[: 1,].ravel(), viral_genes):\n",
    "    graphic_record = ViralGeneTranslator().translate_record(seqrecord)\n",
    "    for f in graphic_record.features:\n",
    "        f.linecolor = f.color\n",
    "    graphic_record.plot(ax=ax, with_ruler=False, draw_line=False)\n",
    "    ax.set_title(seqrecord.id, fontsize=16)\n",
    "\n",
    "# plot coverage on subplots not in first row\n",
    "for ax, (sample, gene) in zip(axes[1:,].ravel(),\n",
    "                              itertools.product(samples_10x, viral_gene_names)):\n",
    "    \n",
    "    # plot coverage\n",
    "    (coverage_df\n",
    "     .query('(sample == @sample) & (gene == @gene)')\n",
    "     .plot(ax=ax,\n",
    "           x='site',\n",
    "           y='depth',\n",
    "           kind='area',\n",
    "           legend=False,\n",
    "           color=cbpalette[0],\n",
    "           )\n",
    "     )\n",
    "    ax.set_ylabel(None)\n",
    "    ax.set_xlabel(None)\n",
    "    ax.ticklabel_format(axis='y', style='sci', scilimits=(0, 0), useMathText=True)\n",
    "    if sample == samples_10x[-1]:\n",
    "        xticklocs = list(range(1, int(ax.get_xlim()[1]), 250))\n",
    "        ax.set_xticks(ticks=xticklocs)\n",
    "        ax.tick_params(axis='x', labelrotation=90)\n",
    "    else:\n",
    "        ax.set_xticklabels([])\n",
    "\n",
    "    # plot viral barcodes\n",
    "    ymin, ymax = ax.get_ylim()\n",
    "    for tup in viralbc_df.query('gene == @gene').itertuples():\n",
    "        rect = matplotlib.patches.Rectangle(xy=(tup.start, ymin),\n",
    "                                            width=tup.end - tup.start + 1,\n",
    "                                            height=ymax,\n",
    "                                            color=cbpalette[1],\n",
    "                                            zorder=4,\n",
    "                                            alpha=0.5)\n",
    "        ax.add_patch(rect)\n",
    "        \n",
    "    # plot viral tags\n",
    "    ymin, ymax = ax.get_ylim()\n",
    "    for tup in viraltag_df.query('gene == @gene').itertuples():\n",
    "        rect = matplotlib.patches.Rectangle(xy=(tup.start, ymin),\n",
    "                                            width=tup.end - tup.start + 1,\n",
    "                                            height=ymax,\n",
    "                                            color=cbpalette[2],\n",
    "                                            zorder=4,\n",
    "                                            alpha=0.7)\n",
    "        ax.add_patch(rect)\n",
    "        \n",
    "# shared x- and y-labels following here: https://stackoverflow.com/a/53172335\n",
    "fig.add_subplot(111, frameon=False)\n",
    "plt.tick_params(labelcolor='none', top=False, bottom=False, left=False, right=False)\n",
    "plt.xlabel('\\nsite', size=14)\n",
    "plt.ylabel('coverage          ', size=14)\n",
    "\n",
    "fig.tight_layout(w_pad=0)\n",
    "display(fig)\n",
    "plt.close(fig)"
   ]
  }
 ],
 "metadata": {
  "kernelspec": {
   "display_name": "Python 3",
   "language": "python",
   "name": "python3"
  },
  "language_info": {
   "codemirror_mode": {
    "name": "ipython",
    "version": 3
   },
   "file_extension": ".py",
   "mimetype": "text/x-python",
   "name": "python",
   "nbconvert_exporter": "python",
   "pygments_lexer": "ipython3",
   "version": "3.6.7"
  }
 },
 "nbformat": 4,
 "nbformat_minor": 4
}
