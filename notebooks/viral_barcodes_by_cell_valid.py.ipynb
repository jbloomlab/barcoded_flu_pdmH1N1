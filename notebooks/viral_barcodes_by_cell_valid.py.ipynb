{
 "cells": [
  {
   "cell_type": "markdown",
   "metadata": {},
   "source": [
    "# Viral barcode in each cell\n",
    "This notebook filters viral barcodes in each cell in the 10X transcriptome data"
   ]
  },
  {
   "cell_type": "markdown",
   "metadata": {},
   "source": [
    "## Notebook setup\n",
    "Import python modules:"
   ]
  },
  {
   "cell_type": "code",
   "execution_count": null,
   "metadata": {
    "execution": {
     "iopub.execute_input": "2022-01-07T01:14:03.842030Z",
     "iopub.status.busy": "2022-01-07T01:14:03.841283Z",
     "iopub.status.idle": "2022-01-07T01:14:06.714064Z",
     "shell.execute_reply": "2022-01-07T01:14:06.715071Z"
    }
   },
   "outputs": [],
   "source": [
    "from IPython.display import display\n",
    "\n",
    "from dms_variants.constants import CBPALETTE\n",
    "\n",
    "import pandas as pd\n",
    "\n",
    "import plotnine as p9\n",
    "\n",
    "import scipy\n",
    "\n",
    "import statsmodels.stats.multitest"
   ]
  },
  {
   "cell_type": "markdown",
   "metadata": {},
   "source": [
    "Get `snakemake` variables [as described here](https://snakemake.readthedocs.io/en/stable/snakefiles/rules.html#jupyter-notebook-integration):"
   ]
  },
  {
   "cell_type": "code",
   "execution_count": null,
   "metadata": {
    "execution": {
     "iopub.execute_input": "2022-01-07T01:14:06.723727Z",
     "iopub.status.busy": "2022-01-07T01:14:06.722254Z",
     "iopub.status.idle": "2022-01-07T01:14:06.724265Z",
     "shell.execute_reply": "2022-01-07T01:14:06.724800Z"
    }
   },
   "outputs": [],
   "source": [
    "viral_tag_by_cell_csv = (snakemake\n",
    "                         .input\n",
    "                         .viral_tag_by_cell_csv)\n",
    "viral_bc_by_cell_corrected_csv = (snakemake\n",
    "                                  .input\n",
    "                                  .viral_bc_by_cell_corrected_csv)\n",
    "viral_genes_by_cell_csv = snakemake.input.viral_genes_by_cell_csv\n",
    "viral_barcodes_valid_csv = (\n",
    "    snakemake\n",
    "    .output\n",
    "    .viral_barcodes_valid_csv)\n",
    "plot = snakemake.output.plot\n",
    "expt = snakemake.wildcards.expt\n",
    "barcoded_viral_genes = snakemake.params.barcoded_viral_genes"
   ]
  },
  {
   "cell_type": "markdown",
   "metadata": {},
   "source": [
    "Set base plot style:"
   ]
  },
  {
   "cell_type": "code",
   "execution_count": null,
   "metadata": {
    "execution": {
     "iopub.execute_input": "2022-01-07T01:14:06.730089Z",
     "iopub.status.busy": "2022-01-07T01:14:06.729612Z",
     "iopub.status.idle": "2022-01-07T01:14:06.732002Z",
     "shell.execute_reply": "2022-01-07T01:14:06.731504Z"
    }
   },
   "outputs": [],
   "source": [
    "p9.theme_set(p9.theme_classic())"
   ]
  },
  {
   "cell_type": "markdown",
   "metadata": {},
   "source": [
    "## Organize data"
   ]
  },
  {
   "cell_type": "markdown",
   "metadata": {},
   "source": [
    "Read the viral barcode UMI counts data into a pandas dataframe:"
   ]
  },
  {
   "cell_type": "code",
   "execution_count": null,
   "metadata": {
    "execution": {
     "iopub.execute_input": "2022-01-07T01:14:06.736024Z",
     "iopub.status.busy": "2022-01-07T01:14:06.735547Z",
     "iopub.status.idle": "2022-01-07T01:14:06.759862Z",
     "shell.execute_reply": "2022-01-07T01:14:06.760452Z"
    }
   },
   "outputs": [],
   "source": [
    "viral_bc_counts = pd.read_csv(viral_bc_by_cell_corrected_csv)\n",
    "viral_bc_counts = (viral_bc_counts\n",
    "                   .rename(columns={'count': 'viral_bc_UMIs'}))\n",
    "assert set(viral_bc_counts['gene']) == set(barcoded_viral_genes), \\\n",
    "       \"Barcoded genes in barcode counts do not match expectation.\"\n",
    "display(viral_bc_counts)"
   ]
  },
  {
   "cell_type": "markdown",
   "metadata": {},
   "source": [
    "Read the total number of UMIs per cell into a pandas dataframe. Only keep relevant columns."
   ]
  },
  {
   "cell_type": "code",
   "execution_count": null,
   "metadata": {
    "execution": {
     "iopub.execute_input": "2022-01-07T01:14:06.764610Z",
     "iopub.status.busy": "2022-01-07T01:14:06.764035Z",
     "iopub.status.idle": "2022-01-07T01:14:06.787740Z",
     "shell.execute_reply": "2022-01-07T01:14:06.786845Z"
    }
   },
   "outputs": [],
   "source": [
    "all_cells = pd.read_csv(viral_tag_by_cell_csv)\n",
    "all_cells = all_cells[['cell_barcode',\n",
    "                       'infected',\n",
    "                       'infecting_viral_tag',\n",
    "                       'total_UMIs',\n",
    "                       'viral_UMIs',\n",
    "                       'cellular_UMIs',\n",
    "                       'frac_viral_UMIs']]\n",
    "display(all_cells)"
   ]
  },
  {
   "cell_type": "markdown",
   "metadata": {},
   "source": [
    "Sanity check that `total_UMIs` is equal to `viral_UMIs + cellular_UMIs`:"
   ]
  },
  {
   "cell_type": "code",
   "execution_count": null,
   "metadata": {
    "execution": {
     "iopub.execute_input": "2022-01-07T01:14:06.793918Z",
     "iopub.status.busy": "2022-01-07T01:14:06.793074Z",
     "iopub.status.idle": "2022-01-07T01:14:06.801836Z",
     "shell.execute_reply": "2022-01-07T01:14:06.802225Z"
    }
   },
   "outputs": [],
   "source": [
    "assert bool((all_cells['total_UMIs'] ==\n",
    "             all_cells['viral_UMIs'] +\n",
    "             all_cells['cellular_UMIs'])\n",
    "            .all()), \"UMI counts do not add up\""
   ]
  },
  {
   "cell_type": "markdown",
   "metadata": {},
   "source": [
    "Read the gene presence/absence data"
   ]
  },
  {
   "cell_type": "code",
   "execution_count": null,
   "metadata": {
    "execution": {
     "iopub.execute_input": "2022-01-07T01:14:06.805368Z",
     "iopub.status.busy": "2022-01-07T01:14:06.804887Z",
     "iopub.status.idle": "2022-01-07T01:14:06.841550Z",
     "shell.execute_reply": "2022-01-07T01:14:06.842390Z"
    }
   },
   "outputs": [],
   "source": [
    "viral_genes_by_cell = pd.read_csv(viral_genes_by_cell_csv)\n",
    "display(viral_genes_by_cell)"
   ]
  },
  {
   "cell_type": "markdown",
   "metadata": {},
   "source": [
    "Merge dataframes:"
   ]
  },
  {
   "cell_type": "code",
   "execution_count": null,
   "metadata": {
    "execution": {
     "iopub.execute_input": "2022-01-07T01:14:06.849625Z",
     "iopub.status.busy": "2022-01-07T01:14:06.848692Z",
     "iopub.status.idle": "2022-01-07T01:14:06.905420Z",
     "shell.execute_reply": "2022-01-07T01:14:06.906184Z"
    }
   },
   "outputs": [],
   "source": [
    "viral_bc_frac = pd.merge(\n",
    "    left=pd.concat([all_cells.assign(gene=gene)\n",
    "                    for gene in barcoded_viral_genes]),\n",
    "    right=viral_bc_counts,\n",
    "    how='outer',\n",
    "    on=['cell_barcode', 'gene'],\n",
    "    validate='one_to_many')\n",
    "assert (viral_bc_frac['cell_barcode'].unique() ==\n",
    "        all_cells['cell_barcode'].unique()).all(), \\\n",
    "       \"Cell barcodes in merged dataframe don't \" \\\n",
    "       \"match barcodes in source data.\"\n",
    "assert (viral_bc_frac['viral_barcode'].nunique() ==\n",
    "        viral_bc_counts['viral_barcode'].nunique()), \\\n",
    "       \"Number of viral barcodes in merged dataframe don't \" \\\n",
    "       \"match number of barcodes in source data.\"\n",
    "\n",
    "# Make `infecting_viral_tag` column ordered category\n",
    "viral_bc_frac['infecting_viral_tag'] = (viral_bc_frac['infecting_viral_tag']\n",
    "                                        .astype('category')\n",
    "                                        .cat\n",
    "                                        .reorder_categories(['none',\n",
    "                                                             'wt',\n",
    "                                                             'syn',\n",
    "                                                             'both']))\n",
    "\n",
    "viral_bc_frac = pd.merge(\n",
    "    left=viral_bc_frac,\n",
    "    right=viral_genes_by_cell,\n",
    "    on=['cell_barcode', 'gene'],\n",
    "    how='left',\n",
    "    validate='many_to_one'\n",
    ")\n",
    "\n",
    "display(viral_bc_frac)"
   ]
  },
  {
   "cell_type": "markdown",
   "metadata": {},
   "source": [
    "Calculate **each barcode's** fraction of all UMIs per cell:"
   ]
  },
  {
   "cell_type": "code",
   "execution_count": null,
   "metadata": {
    "execution": {
     "iopub.execute_input": "2022-01-07T01:14:06.911528Z",
     "iopub.status.busy": "2022-01-07T01:14:06.911167Z",
     "iopub.status.idle": "2022-01-07T01:14:06.934376Z",
     "shell.execute_reply": "2022-01-07T01:14:06.934730Z"
    }
   },
   "outputs": [],
   "source": [
    "viral_bc_frac = (\n",
    "    viral_bc_frac\n",
    "    .assign(viral_bc_UMIs=lambda x: (x['viral_bc_UMIs']\n",
    "                                     .fillna(0)\n",
    "                                     .astype(int, errors='raise'))))\n",
    "\n",
    "\n",
    "viral_bc_frac['frac_viral_bc_UMIs'] = (\n",
    "    viral_bc_frac['viral_bc_UMIs'] /\n",
    "    viral_bc_frac['total_UMIs'])\n",
    "\n",
    "display(viral_bc_frac)"
   ]
  },
  {
   "cell_type": "markdown",
   "metadata": {},
   "source": [
    "## Filtering\n",
    "Now, I will filter out viral barcodes in each infected cell. A valid viral barcode meets the following criteria:\n",
    "1. The cell is infected\n",
    "2. The cell is not a doublet\n",
    "3. The cell expresses the barcoded gene\n",
    "4. There are at least 2 UMIs with the viral barcode in that cell-gene\n",
    "5. The viral barcode is present at a frequency greater than some cutoff percentile observed in uninfected cells\n",
    "6. The viral barocde contributes at least 10% of the viral barcode UMIs within the cell-gene"
   ]
  },
  {
   "cell_type": "code",
   "execution_count": null,
   "metadata": {
    "execution": {
     "iopub.execute_input": "2022-01-07T01:14:06.937811Z",
     "iopub.status.busy": "2022-01-07T01:14:06.937325Z",
     "iopub.status.idle": "2022-01-07T01:14:06.940026Z",
     "shell.execute_reply": "2022-01-07T01:14:06.940312Z"
    }
   },
   "outputs": [],
   "source": [
    "filter_query_list = list()"
   ]
  },
  {
   "cell_type": "markdown",
   "metadata": {},
   "source": [
    "### Infected cells\n",
    "Valid viral barcodes must come from infected cells:"
   ]
  },
  {
   "cell_type": "code",
   "execution_count": null,
   "metadata": {
    "execution": {
     "iopub.execute_input": "2022-01-07T01:14:06.946281Z",
     "iopub.status.busy": "2022-01-07T01:14:06.945827Z",
     "iopub.status.idle": "2022-01-07T01:14:08.480221Z",
     "shell.execute_reply": "2022-01-07T01:14:08.481179Z"
    }
   },
   "outputs": [],
   "source": [
    "infected_rank = (viral_bc_frac\n",
    "                 [['cell_barcode',\n",
    "                   'gene',\n",
    "                   'infected',\n",
    "                   'frac_viral_bc_UMIs',]]\n",
    "                 .copy()\n",
    "                 .drop_duplicates())\n",
    "infected_rank['rank'] = (infected_rank\n",
    "                         .groupby('gene')\n",
    "                         ['frac_viral_bc_UMIs']\n",
    "                         .rank(ascending=False, method='first'))\n",
    "\n",
    "fig = (p9.ggplot(infected_rank,\n",
    "                 p9.aes(x='rank',\n",
    "                        y='frac_viral_bc_UMIs',\n",
    "                        color='infected')) +\n",
    "       p9.geom_point(alpha=.3) +\n",
    "       p9.facet_grid('gene~infected') +\n",
    "       p9.scale_y_log10() +\n",
    "       p9.ggtitle('viral bc UMIs in infected and uninfected cells\\n'\n",
    "                  f'{expt}') +\n",
    "       p9.labs(x='viral bc frequency rank') +\n",
    "       p9.theme(figure_size=(6, 4),\n",
    "                plot_title=p9.element_text(size=9),\n",
    "                axis_title=p9.element_text(size=9),\n",
    "                legend_title=p9.element_text(size=9),\n",
    "                legend_title_align='center') +\n",
    "       p9.scale_color_manual(CBPALETTE[0:]))\n",
    "display(fig)"
   ]
  },
  {
   "cell_type": "markdown",
   "metadata": {},
   "source": [
    "Add infection status to filter query:"
   ]
  },
  {
   "cell_type": "code",
   "execution_count": null,
   "metadata": {
    "execution": {
     "iopub.execute_input": "2022-01-07T01:14:08.484955Z",
     "iopub.status.busy": "2022-01-07T01:14:08.484431Z",
     "iopub.status.idle": "2022-01-07T01:14:08.487462Z",
     "shell.execute_reply": "2022-01-07T01:14:08.487963Z"
    }
   },
   "outputs": [],
   "source": [
    "filter_query_list.append('(infected == \"infected\")')\n",
    "filter_query = \" and \".join(filter_query_list)\n",
    "print(\"The filter query is:  \"\n",
    "      f\"{filter_query}\")"
   ]
  },
  {
   "cell_type": "markdown",
   "metadata": {},
   "source": [
    "### Not doublet\n",
    "Valid viral barcodes will not be extracted from doublets:"
   ]
  },
  {
   "cell_type": "code",
   "execution_count": null,
   "metadata": {},
   "outputs": [],
   "source": [
    "doublet_rank = (viral_bc_frac\n",
    "                 [['cell_barcode',\n",
    "                   'gene',\n",
    "                   'infecting_viral_tag',\n",
    "                   'frac_viral_bc_UMIs',]]\n",
    "                 .copy()\n",
    "                 .drop_duplicates())\n",
    "doublet_rank['rank'] = (doublet_rank\n",
    "                         .groupby('gene')\n",
    "                         ['frac_viral_bc_UMIs']\n",
    "                         .rank(ascending=False, method='first'))\n",
    "\n",
    "fig = (p9.ggplot(doublet_rank,\n",
    "                 p9.aes(x='rank',\n",
    "                        y='frac_viral_bc_UMIs',\n",
    "                        color='factor(infecting_viral_tag == \"both\")')) +\n",
    "       p9.geom_point(alpha=.1) +\n",
    "       p9.facet_grid('gene~infecting_viral_tag') +\n",
    "       p9.scale_y_log10() +\n",
    "       p9.ggtitle('viral bc UMIs in infected and uninfected cells\\n'\n",
    "                  f'{expt}') +\n",
    "       p9.labs(x='viral bc frequency rank') +\n",
    "       p9.theme(figure_size=(8, 4),\n",
    "                plot_title=p9.element_text(size=9),\n",
    "                axis_title=p9.element_text(size=9),\n",
    "                legend_title=p9.element_text(size=9),\n",
    "                legend_title_align='center') +\n",
    "       p9.scale_color_manual(CBPALETTE[0:]))\n",
    "display(fig)"
   ]
  },
  {
   "cell_type": "markdown",
   "metadata": {},
   "source": [
    "Add doublet status to filter query:"
   ]
  },
  {
   "cell_type": "code",
   "execution_count": null,
   "metadata": {},
   "outputs": [],
   "source": [
    "filter_query_list.append('(infecting_viral_tag != \"both\")')\n",
    "filter_query = \" and \".join(filter_query_list)\n",
    "print(\"The filter query is:  \"\n",
    "      f\"{filter_query}\")"
   ]
  },
  {
   "cell_type": "markdown",
   "metadata": {},
   "source": [
    "### Gene expression\n",
    "Plot barcode UMIs per viral barcode in infected cells, annotated with gene expression:"
   ]
  },
  {
   "cell_type": "code",
   "execution_count": null,
   "metadata": {
    "execution": {
     "iopub.execute_input": "2022-01-07T01:14:08.562164Z",
     "iopub.status.busy": "2022-01-07T01:14:08.495423Z",
     "iopub.status.idle": "2022-01-07T01:14:09.189926Z",
     "shell.execute_reply": "2022-01-07T01:14:09.190845Z"
    }
   },
   "outputs": [],
   "source": [
    "gene_expressed_rank = (viral_bc_frac\n",
    "                       .query(filter_query)\n",
    "                       [['cell_barcode',\n",
    "                         'gene',\n",
    "                         'gene_present',\n",
    "                         'frac_viral_bc_UMIs',]]\n",
    "                       .copy()\n",
    "                       .drop_duplicates())\n",
    "gene_expressed_rank['rank'] = (gene_expressed_rank\n",
    "                               .groupby('gene')\n",
    "                               ['frac_viral_bc_UMIs']\n",
    "                               .rank(ascending=False, method='first'))\n",
    "\n",
    "fig = (p9.ggplot(gene_expressed_rank,\n",
    "                 p9.aes(x='rank',\n",
    "                        y='frac_viral_bc_UMIs',\n",
    "                        color='gene_present')) +\n",
    "       p9.geom_point(alpha=0.5) +\n",
    "       p9.facet_grid('gene~') +\n",
    "       p9.scale_y_log10() +\n",
    "       p9.ggtitle('viral bc UMIs on expressed/missing genes\\n'\n",
    "                  'in infected cells\\n'\n",
    "                  f'{expt}') +\n",
    "       p9.labs(x='viral bc frequency rank') +\n",
    "       p9.theme(figure_size=(3, 4),\n",
    "                plot_title=p9.element_text(size=9),\n",
    "                axis_title=p9.element_text(size=9),\n",
    "                legend_title=p9.element_text(size=9),\n",
    "                legend_title_align='center') +\n",
    "       p9.scale_color_manual(CBPALETTE[0:]))\n",
    "display(fig)"
   ]
  },
  {
   "cell_type": "markdown",
   "metadata": {},
   "source": [
    "Add gene expression to filter query:"
   ]
  },
  {
   "cell_type": "code",
   "execution_count": null,
   "metadata": {
    "execution": {
     "iopub.execute_input": "2022-01-07T01:14:09.194542Z",
     "iopub.status.busy": "2022-01-07T01:14:09.193864Z",
     "iopub.status.idle": "2022-01-07T01:14:09.197503Z",
     "shell.execute_reply": "2022-01-07T01:14:09.197950Z"
    }
   },
   "outputs": [],
   "source": [
    "filter_query_list.append('(gene_present == True)')\n",
    "filter_query = \" and \".join(filter_query_list)\n",
    "print(\"The filter query is:  \"\n",
    "      f\"{filter_query}\")"
   ]
  },
  {
   "cell_type": "markdown",
   "metadata": {},
   "source": [
    "### Absolute abundance\n",
    "Label and remove viral barcodes with only 1 UMIs in a given cell:"
   ]
  },
  {
   "cell_type": "code",
   "execution_count": null,
   "metadata": {
    "execution": {
     "iopub.execute_input": "2022-01-07T01:14:09.207708Z",
     "iopub.status.busy": "2022-01-07T01:14:09.207087Z",
     "iopub.status.idle": "2022-01-07T01:14:09.833690Z",
     "shell.execute_reply": "2022-01-07T01:14:09.834614Z"
    }
   },
   "outputs": [],
   "source": [
    "UMI_limit = 1\n",
    "viral_bc_frac['above_UMI_limit'] = viral_bc_frac['viral_bc_UMIs'] > UMI_limit\n",
    "\n",
    "UMI_limit_rank = (viral_bc_frac\n",
    "                  .query(filter_query)\n",
    "                  [['cell_barcode',\n",
    "                    'gene',\n",
    "                    'above_UMI_limit',\n",
    "                    'viral_bc_UMIs',]]\n",
    "                  .copy()\n",
    "                  .drop_duplicates())\n",
    "UMI_limit_rank['rank'] = (UMI_limit_rank\n",
    "                          .groupby('gene')\n",
    "                          ['viral_bc_UMIs']\n",
    "                          .rank(ascending=False, method='first'))\n",
    "\n",
    "fig = (p9.ggplot(UMI_limit_rank,\n",
    "                 p9.aes(x='rank',\n",
    "                        y='viral_bc_UMIs',\n",
    "                        color='above_UMI_limit')) +\n",
    "       p9.geom_point(alpha=0.5) +\n",
    "       p9.geom_hline(yintercept=UMI_limit, linetype='dashed', color=CBPALETTE[2]) +\n",
    "       p9.facet_grid('gene~') +\n",
    "       p9.scale_y_log10() +\n",
    "       p9.ggtitle('viral barcode UMI threshold\\n'\n",
    "                  'in infected cells expressing barcoded gene\\n'\n",
    "                  f'{expt}') +\n",
    "       p9.labs(x='viral bc UMI rank') +\n",
    "       p9.theme(figure_size=(3, 4),\n",
    "                plot_title=p9.element_text(size=9),\n",
    "                axis_title=p9.element_text(size=9),\n",
    "                legend_title=p9.element_text(size=9),\n",
    "                legend_title_align='center') +\n",
    "       p9.scale_color_manual(CBPALETTE[0:]))\n",
    "display(fig)"
   ]
  },
  {
   "cell_type": "markdown",
   "metadata": {},
   "source": [
    "Add absolute abundance to filter query:"
   ]
  },
  {
   "cell_type": "code",
   "execution_count": null,
   "metadata": {
    "execution": {
     "iopub.execute_input": "2022-01-07T01:14:09.838806Z",
     "iopub.status.busy": "2022-01-07T01:14:09.838415Z",
     "iopub.status.idle": "2022-01-07T01:14:09.842431Z",
     "shell.execute_reply": "2022-01-07T01:14:09.842089Z"
    }
   },
   "outputs": [],
   "source": [
    "filter_query_list.append('(above_UMI_limit == True)')\n",
    "filter_query = \" and \".join(filter_query_list)\n",
    "print(\"The filter query is:  \"\n",
    "      f\"{filter_query}\")"
   ]
  },
  {
   "cell_type": "markdown",
   "metadata": {},
   "source": [
    "### Background frequency\n",
    "Find the 99th percentile of individual viral barcode frequency in uninfected cells. Label and filter out viral barcodes that are less than this frequency."
   ]
  },
  {
   "cell_type": "code",
   "execution_count": null,
   "metadata": {
    "execution": {
     "iopub.execute_input": "2022-01-07T01:14:09.853665Z",
     "iopub.status.busy": "2022-01-07T01:14:09.853137Z",
     "iopub.status.idle": "2022-01-07T01:14:10.555434Z",
     "shell.execute_reply": "2022-01-07T01:14:10.556360Z"
    }
   },
   "outputs": [],
   "source": [
    "limit_percentile = 0.99\n",
    "if len(viral_bc_frac.query('infected == \"uninfected\"')) > 0:\n",
    "    background_population = \"uninfected\"\n",
    "else:\n",
    "    background_population = \"ambiguous\"\n",
    "print(background_population)\n",
    "\n",
    "uninfected_background_frac = {}\n",
    "for gene in barcoded_viral_genes:\n",
    "    limit = (viral_bc_frac\n",
    "             .query(f'(infected == \"{background_population}\") '\n",
    "                    f'and (gene == \"{gene}\")')\n",
    "             ['frac_viral_bc_UMIs']\n",
    "             .quantile(limit_percentile))\n",
    "    uninfected_background_frac[f'{gene}'] = limit\n",
    "    print(f'The limit for a viral barcode on {gene} is {limit:.5f}.')\n",
    "    \n",
    "# Convert to DataFrame for plotting\n",
    "uninfected_background_frac = (\n",
    "    pd.DataFrame.from_dict(uninfected_background_frac,\n",
    "                           orient='index',\n",
    "                           columns=['uninf_background'])\n",
    "    .reset_index()\n",
    "    .rename(columns={'index': 'gene'}))\n",
    "\n",
    "fig = (p9.ggplot((viral_bc_frac\n",
    "                  .query(f'(infected == \"{background_population}\")')),\n",
    "                 p9.aes(x='frac_viral_bc_UMIs')) +\n",
    "       p9.geom_histogram(bins=50, fill=\"#3a3a3a\") +\n",
    "       p9.geom_vline(uninfected_background_frac,\n",
    "                     p9.aes(xintercept='uninf_background'),\n",
    "                     linetype='dashed',\n",
    "                     color='#3A3B3C',\n",
    "                     size=0.5) +\n",
    "       p9.facet_grid('infected~gene') +\n",
    "       p9.ggtitle('viral barcode fraction in uninfected cells\\n'\n",
    "                  f'{expt}') +\n",
    "       p9.labs(x='viral barcode frequency',) +\n",
    "       p9.theme(figure_size=(5, 1),\n",
    "                plot_title=p9.element_text(size=10),\n",
    "                axis_title=p9.element_text(size=10),\n",
    "                axis_text=p9.element_text(rotation=45),\n",
    "                legend_title=p9.element_text(size=9),\n",
    "                legend_title_align='center'))\n",
    "display(fig)"
   ]
  },
  {
   "cell_type": "code",
   "execution_count": null,
   "metadata": {
    "execution": {
     "iopub.execute_input": "2022-01-07T01:14:10.561749Z",
     "iopub.status.busy": "2022-01-07T01:14:10.560840Z",
     "iopub.status.idle": "2022-01-07T01:14:10.570954Z",
     "shell.execute_reply": "2022-01-07T01:14:10.571733Z"
    }
   },
   "outputs": [],
   "source": [
    "viral_bc_frac = pd.merge(left=viral_bc_frac,\n",
    "                         right=uninfected_background_frac,\n",
    "                         on='gene',\n",
    "                         how='outer',\n",
    "                         validate='many_to_one')\n",
    "viral_bc_frac['above_uninf_background'] = (viral_bc_frac['frac_viral_bc_UMIs'] >\n",
    "                                           viral_bc_frac['uninf_background'])"
   ]
  },
  {
   "cell_type": "code",
   "execution_count": null,
   "metadata": {
    "execution": {
     "iopub.execute_input": "2022-01-07T01:14:10.581027Z",
     "iopub.status.busy": "2022-01-07T01:14:10.577593Z",
     "iopub.status.idle": "2022-01-07T01:14:11.178891Z",
     "shell.execute_reply": "2022-01-07T01:14:11.179208Z"
    },
    "scrolled": true
   },
   "outputs": [],
   "source": [
    "background_rank = (viral_bc_frac\n",
    "                   .query(filter_query)\n",
    "                   [['cell_barcode',\n",
    "                     'gene',\n",
    "                     'above_uninf_background',\n",
    "                     'frac_viral_bc_UMIs',]]\n",
    "                   .copy()\n",
    "                   .drop_duplicates())\n",
    "background_rank['rank'] = (background_rank\n",
    "                           .groupby('gene')\n",
    "                           ['frac_viral_bc_UMIs']\n",
    "                           .rank(ascending=False, method='first'))\n",
    "\n",
    "fig = (p9.ggplot(background_rank,\n",
    "                 p9.aes(x='rank',\n",
    "                        y='frac_viral_bc_UMIs',\n",
    "                        color='above_uninf_background')) +\n",
    "       p9.geom_point(alpha=0.5) +\n",
    "       p9.geom_hline(uninfected_background_frac,\n",
    "                     p9.aes(yintercept='uninf_background'),\n",
    "                     linetype='dashed',\n",
    "                     color=CBPALETTE[2]) +\n",
    "       p9.facet_grid('gene~') +\n",
    "       p9.scale_y_log10() +\n",
    "       p9.ggtitle(f'{expt}') +\n",
    "       p9.labs(x='viral bc frequency rank') +\n",
    "       p9.theme(figure_size=(3, 4),\n",
    "                plot_title=p9.element_text(size=9),\n",
    "                axis_title=p9.element_text(size=9),\n",
    "                legend_title=p9.element_text(size=9),\n",
    "                legend_title_align='center') +\n",
    "       p9.scale_color_manual(CBPALETTE[0:]))\n",
    "display(fig)"
   ]
  },
  {
   "cell_type": "markdown",
   "metadata": {},
   "source": [
    "Add background frequency to filter query:"
   ]
  },
  {
   "cell_type": "code",
   "execution_count": null,
   "metadata": {
    "execution": {
     "iopub.execute_input": "2022-01-07T01:14:11.183870Z",
     "iopub.status.busy": "2022-01-07T01:14:11.183572Z",
     "iopub.status.idle": "2022-01-07T01:14:11.187213Z",
     "shell.execute_reply": "2022-01-07T01:14:11.187802Z"
    }
   },
   "outputs": [],
   "source": [
    "filter_query_list.append('(above_uninf_background == True)')\n",
    "filter_query = \" and \".join(filter_query_list)\n",
    "print(\"The filter query is:  \"\n",
    "      f\"{filter_query}\")"
   ]
  },
  {
   "cell_type": "markdown",
   "metadata": {},
   "source": [
    "### Within-cell proportion\n",
    "Require a viral barcode to contribute some threshold proportion of the UMIs within each cell-gene."
   ]
  },
  {
   "cell_type": "markdown",
   "metadata": {},
   "source": [
    "Calculate the proportion of UMIs that come from each viral barcode within an infected cell. For example, in a cell with only one viral barcode, that viral barcode would have a proportion of 1; a cell with a 70%/30% split of two viral barcodes would have proportions of 0.7 and 0.3."
   ]
  },
  {
   "cell_type": "code",
   "execution_count": null,
   "metadata": {
    "execution": {
     "iopub.execute_input": "2022-01-07T01:14:11.197392Z",
     "iopub.status.busy": "2022-01-07T01:14:11.196685Z",
     "iopub.status.idle": "2022-01-07T01:14:11.222377Z",
     "shell.execute_reply": "2022-01-07T01:14:11.221715Z"
    }
   },
   "outputs": [],
   "source": [
    "within_cell_proportion_df = (\n",
    "    viral_bc_frac\n",
    "    .query('infected == \"infected\" and '\n",
    "           'viral_bc_UMIs > 0')\n",
    "    [['cell_barcode',\n",
    "      'gene',\n",
    "      'viral_barcode',\n",
    "      'viral_bc_UMIs']]\n",
    "    .copy()\n",
    "    .drop_duplicates())\n",
    "within_cell_proportion_df['sum_cell_gene'] = (\n",
    "    within_cell_proportion_df\n",
    "    .groupby(['cell_barcode','gene'])\n",
    "    ['viral_bc_UMIs']\n",
    "    .transform('sum'))\n",
    "within_cell_proportion_df['proportion_viral_bcs_cell_gene'] = (\n",
    "    within_cell_proportion_df['viral_bc_UMIs'] /\n",
    "    within_cell_proportion_df['sum_cell_gene'])\n",
    "\n",
    "# Rank viral barcodes by proportion within each cell-gene\n",
    "within_cell_proportion_df['viral_bc_rank'] = (\n",
    "    within_cell_proportion_df\n",
    "    .groupby(['cell_barcode','gene'])\n",
    "    ['proportion_viral_bcs_cell_gene']\n",
    "    .rank(ascending=False, method='first'))\n",
    "\n",
    "# Order cells by proportion of max viral barcode\n",
    "cell_bc_ranks = (within_cell_proportion_df\n",
    "                 .query('viral_bc_rank == 1')\n",
    "                 .groupby(['gene','cell_barcode'])\n",
    "                 ['proportion_viral_bcs_cell_gene']\n",
    "                 .max()\n",
    "                 .reset_index())\n",
    "cell_bc_ranks['cell_rank'] = (cell_bc_ranks\n",
    "                              .groupby('gene')\n",
    "                              ['proportion_viral_bcs_cell_gene']\n",
    "                              .rank(ascending=False, method='first'))\n",
    "within_cell_proportion_df = pd.merge(\n",
    "    left=within_cell_proportion_df,\n",
    "    right=cell_bc_ranks[['gene','cell_barcode','cell_rank']],\n",
    "    how='left',\n",
    "    validate='many_to_one'\n",
    ")"
   ]
  },
  {
   "cell_type": "markdown",
   "metadata": {},
   "source": [
    "Set limit and annotate each viral barcode:"
   ]
  },
  {
   "cell_type": "code",
   "execution_count": null,
   "metadata": {
    "execution": {
     "iopub.execute_input": "2022-01-07T01:14:11.236576Z",
     "iopub.status.busy": "2022-01-07T01:14:11.235832Z",
     "iopub.status.idle": "2022-01-07T01:14:11.241060Z",
     "shell.execute_reply": "2022-01-07T01:14:11.241663Z"
    }
   },
   "outputs": [],
   "source": [
    "within_cell_limit = 0.05\n",
    "within_cell_proportion_df['above_within_cell_limit'] = (\n",
    "    within_cell_proportion_df['proportion_viral_bcs_cell_gene'] >\n",
    "    within_cell_limit)\n",
    "display(within_cell_proportion_df)"
   ]
  },
  {
   "cell_type": "code",
   "execution_count": null,
   "metadata": {
    "execution": {
     "iopub.execute_input": "2022-01-07T01:14:11.253863Z",
     "iopub.status.busy": "2022-01-07T01:14:11.252427Z",
     "iopub.status.idle": "2022-01-07T01:14:11.842095Z",
     "shell.execute_reply": "2022-01-07T01:14:11.842965Z"
    },
    "scrolled": false
   },
   "outputs": [],
   "source": [
    "fig = (p9.ggplot(within_cell_proportion_df,\n",
    "                 p9.aes(x='proportion_viral_bcs_cell_gene',\n",
    "                        fill='factor(above_within_cell_limit)')) +\n",
    "       p9.geom_histogram(position='stack', binwidth=0.05) +\n",
    "       p9.geom_vline(xintercept=within_cell_limit,\n",
    "                     linetype='dashed',\n",
    "                     color=CBPALETTE[2]) +\n",
    "       p9.facet_grid('gene~') +\n",
    "       p9.ggtitle('infected cells with multiple valid viral barcodes\\n'\n",
    "                  'ordered by max viral barcode proportion\\n'\n",
    "                  f'{expt}') +\n",
    "       p9.labs(x='proportion of viral barcode UMIs in cell',\n",
    "               y='n viral barcodes') +\n",
    "       p9.theme(figure_size=(3, 4),\n",
    "                plot_title=p9.element_text(size=9),\n",
    "                axis_title=p9.element_text(size=9),\n",
    "                axis_text=p9.element_text(rotation=45),\n",
    "                legend_title=p9.element_text(size=9),\n",
    "                legend_title_align='center') +\n",
    "       p9.scale_fill_manual(CBPALETTE[0:]))\n",
    "display(fig)"
   ]
  },
  {
   "cell_type": "code",
   "execution_count": null,
   "metadata": {
    "execution": {
     "iopub.execute_input": "2022-01-07T01:14:11.853875Z",
     "iopub.status.busy": "2022-01-07T01:14:11.853009Z",
     "iopub.status.idle": "2022-01-07T01:14:12.464675Z",
     "shell.execute_reply": "2022-01-07T01:14:12.464206Z"
    }
   },
   "outputs": [],
   "source": [
    "fig = (p9.ggplot(within_cell_proportion_df,\n",
    "                 p9.aes(x='cell_rank',\n",
    "                        y='proportion_viral_bcs_cell_gene',\n",
    "                        color='factor(above_within_cell_limit)')) +\n",
    "       p9.geom_point(alpha=0.2) +\n",
    "       p9.geom_hline(yintercept=within_cell_limit,\n",
    "                     linetype='dashed',\n",
    "                     color=CBPALETTE[2]) +\n",
    "       p9.facet_grid('gene~') +\n",
    "       p9.ggtitle('infected cells with multiple valid viral barcodes\\n'\n",
    "                  'ordered by max viral barcode proportion\\n'\n",
    "                  f'{expt}') +\n",
    "       p9.labs(x='infected cell #',\n",
    "               y='proportion of viral barcode UMIs in cell') +\n",
    "       p9.theme(figure_size=(3, 4),\n",
    "                plot_title=p9.element_text(size=9),\n",
    "                axis_title=p9.element_text(size=9),\n",
    "                legend_title=p9.element_text(size=9),\n",
    "                legend_title_align='center') +\n",
    "       p9.scale_color_manual(CBPALETTE[0:]))\n",
    "display(fig)"
   ]
  },
  {
   "cell_type": "markdown",
   "metadata": {},
   "source": [
    "Merge annotations into `viral_bc_frac` dataframe."
   ]
  },
  {
   "cell_type": "code",
   "execution_count": null,
   "metadata": {
    "execution": {
     "iopub.execute_input": "2022-01-07T01:14:12.469320Z",
     "iopub.status.busy": "2022-01-07T01:14:12.468828Z",
     "iopub.status.idle": "2022-01-07T01:14:12.516955Z",
     "shell.execute_reply": "2022-01-07T01:14:12.516165Z"
    }
   },
   "outputs": [],
   "source": [
    "viral_bc_frac = pd.merge(left=viral_bc_frac,\n",
    "                         right=(within_cell_proportion_df\n",
    "                                [['cell_barcode',\n",
    "                                  'gene',\n",
    "                                  'viral_barcode',\n",
    "                                  'proportion_viral_bcs_cell_gene',\n",
    "                                  'above_within_cell_limit']]),\n",
    "                         on=['cell_barcode','gene','viral_barcode'],\n",
    "                         how='outer',\n",
    "                         validate='many_to_one')\n",
    "viral_bc_frac['above_within_cell_limit'] = (\n",
    "    viral_bc_frac['above_within_cell_limit']\n",
    "    .fillna(False)\n",
    ")\n",
    "display(viral_bc_frac)"
   ]
  },
  {
   "cell_type": "markdown",
   "metadata": {},
   "source": [
    "Add within-cell proportion to filter query:"
   ]
  },
  {
   "cell_type": "code",
   "execution_count": null,
   "metadata": {
    "execution": {
     "iopub.execute_input": "2022-01-07T01:14:12.520556Z",
     "iopub.status.busy": "2022-01-07T01:14:12.520014Z",
     "iopub.status.idle": "2022-01-07T01:14:12.521996Z",
     "shell.execute_reply": "2022-01-07T01:14:12.522532Z"
    }
   },
   "outputs": [],
   "source": [
    "filter_query_list.append('(above_within_cell_limit == True)')\n",
    "filter_query = \" and \".join(filter_query_list)\n",
    "print(\"The filter query is:  \"\n",
    "      f\"{filter_query}\")"
   ]
  },
  {
   "cell_type": "markdown",
   "metadata": {},
   "source": [
    "## Assign filter status to each viral barcode"
   ]
  },
  {
   "cell_type": "code",
   "execution_count": null,
   "metadata": {
    "execution": {
     "iopub.execute_input": "2022-01-07T01:14:12.530774Z",
     "iopub.status.busy": "2022-01-07T01:14:12.525305Z",
     "iopub.status.idle": "2022-01-07T01:14:12.557261Z",
     "shell.execute_reply": "2022-01-07T01:14:12.556631Z"
    }
   },
   "outputs": [],
   "source": [
    "viral_bc_frac.loc[viral_bc_frac.eval(filter_query), 'valid_viral_bc'] = True\n",
    "viral_bc_frac['valid_viral_bc'] = viral_bc_frac['valid_viral_bc'].fillna(False)\n",
    "display(viral_bc_frac)"
   ]
  },
  {
   "cell_type": "markdown",
   "metadata": {},
   "source": [
    "## Summary visualizations\n",
    "### Valid viral barcodes in each infected cell"
   ]
  },
  {
   "cell_type": "code",
   "execution_count": null,
   "metadata": {
    "execution": {
     "iopub.execute_input": "2022-01-07T01:14:12.564900Z",
     "iopub.status.busy": "2022-01-07T01:14:12.564301Z",
     "iopub.status.idle": "2022-01-07T01:14:13.166913Z",
     "shell.execute_reply": "2022-01-07T01:14:13.165920Z"
    }
   },
   "outputs": [],
   "source": [
    "valid_rank = (viral_bc_frac\n",
    "              .query('infected == \"infected\"')\n",
    "              [['cell_barcode',\n",
    "                'gene',\n",
    "                'frac_viral_bc_UMIs',\n",
    "                'valid_viral_bc']]\n",
    "              .copy()\n",
    "              .drop_duplicates())\n",
    "valid_rank['rank'] = (valid_rank\n",
    "                      .groupby('gene')\n",
    "                      ['frac_viral_bc_UMIs']\n",
    "                      .rank(ascending=False, method='first'))\n",
    "\n",
    "fig = (p9.ggplot(valid_rank,\n",
    "                 p9.aes(x='rank',\n",
    "                        y='frac_viral_bc_UMIs',\n",
    "                        color='valid_viral_bc')) +\n",
    "       p9.geom_point(alpha=.3) +\n",
    "       p9.facet_grid('gene~') +\n",
    "       p9.scale_y_log10() +\n",
    "       p9.ggtitle('valid and filterd viral barcodes\\n'\n",
    "                  'in infected cells\\n'\n",
    "                  f'{expt}') +\n",
    "       p9.labs(x='viral bc frequency rank') +\n",
    "       p9.theme(figure_size=(3, 4),\n",
    "                plot_title=p9.element_text(size=9),\n",
    "                axis_title=p9.element_text(size=9),\n",
    "                legend_title=p9.element_text(size=9),\n",
    "                legend_title_align='center') +\n",
    "       p9.scale_color_manual(CBPALETTE[0:]))\n",
    "display(fig)"
   ]
  },
  {
   "cell_type": "markdown",
   "metadata": {},
   "source": [
    "### Number of valid viral barcodes per cell"
   ]
  },
  {
   "cell_type": "code",
   "execution_count": null,
   "metadata": {
    "execution": {
     "iopub.execute_input": "2022-01-07T01:14:13.174330Z",
     "iopub.status.busy": "2022-01-07T01:14:13.173492Z",
     "iopub.status.idle": "2022-01-07T01:14:13.181082Z",
     "shell.execute_reply": "2022-01-07T01:14:13.181566Z"
    }
   },
   "outputs": [],
   "source": [
    "n_viral_bc = (viral_bc_frac\n",
    "             .query('(valid_viral_bc == True)',\n",
    "                    engine='python')\n",
    "             .groupby(['cell_barcode',\n",
    "                       'gene',\n",
    "                       'valid_viral_bc'])\n",
    "             ['viral_barcode']\n",
    "             .nunique()\n",
    "             .reset_index()\n",
    "             .rename(columns={'viral_barcode': 'n_viral_bc'}))"
   ]
  },
  {
   "cell_type": "code",
   "execution_count": null,
   "metadata": {
    "execution": {
     "iopub.execute_input": "2022-01-07T01:14:13.193137Z",
     "iopub.status.busy": "2022-01-07T01:14:13.190273Z",
     "iopub.status.idle": "2022-01-07T01:14:13.516860Z",
     "shell.execute_reply": "2022-01-07T01:14:13.517728Z"
    }
   },
   "outputs": [],
   "source": [
    "output_fig = (p9.ggplot(n_viral_bc) +\n",
    "              p9.geom_histogram(p9.aes(x='n_viral_bc'),\n",
    "                                       binwidth=1,\n",
    "                                       position='dodge') +\n",
    "              p9.facet_grid('~gene') +\n",
    "              p9.ggtitle('Number of valid viral barcodes per cell\\n'\n",
    "                         'in infected cells\\n'\n",
    "                         f'{expt}') +\n",
    "              p9.xlab('number of valid viral barcodes in cell') +\n",
    "              p9.ylab('number of cells') +\n",
    "              p9.theme(figure_size=(5, 2),\n",
    "                       plot_title=p9.element_text(size=11),\n",
    "                       axis_title=p9.element_text(size=10),\n",
    "                       legend_title=p9.element_text(size=10),\n",
    "                       legend_title_align='center'))\n",
    "display(output_fig)"
   ]
  },
  {
   "cell_type": "code",
   "execution_count": null,
   "metadata": {
    "execution": {
     "iopub.execute_input": "2022-01-07T01:14:13.536223Z",
     "iopub.status.busy": "2022-01-07T01:14:13.524600Z",
     "iopub.status.idle": "2022-01-07T01:14:13.924002Z",
     "shell.execute_reply": "2022-01-07T01:14:13.923067Z"
    }
   },
   "outputs": [],
   "source": [
    "print(f\"Saving plots to {plot}\")\n",
    "p9.ggsave(plot=output_fig, filename=plot, verbose=False)\n",
    "\n",
    "print(f\"Saving filtered barcodes to {viral_barcodes_valid_csv}\")\n",
    "\n",
    "# Export valid cell barcode-viral barcodes pairs\n",
    "(viral_bc_frac\n",
    " .query('valid_viral_bc == True')\n",
    " .to_csv(viral_barcodes_valid_csv,\n",
    "         columns=['cell_barcode',\n",
    "                  'gene',\n",
    "                  'viral_barcode',\n",
    "                  'viral_bc_UMIs',\n",
    "                  'frac_viral_bc_UMIs',\n",
    "                  'valid_viral_bc'],\n",
    "         index=False))"
   ]
  },
  {
   "cell_type": "code",
   "execution_count": null,
   "metadata": {},
   "outputs": [],
   "source": []
  }
 ],
 "metadata": {
  "kernelspec": {
   "display_name": "Python 3",
   "language": "python",
   "name": "python3"
  },
  "language_info": {
   "codemirror_mode": {
    "name": "ipython",
    "version": 3
   },
   "file_extension": ".py",
   "mimetype": "text/x-python",
   "name": "python",
   "nbconvert_exporter": "python",
   "pygments_lexer": "ipython3",
   "version": "3.8.6"
  }
 },
 "nbformat": 4,
 "nbformat_minor": 4
}
