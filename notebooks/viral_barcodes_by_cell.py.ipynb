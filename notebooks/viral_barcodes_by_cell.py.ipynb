{
 "cells": [
  {
   "cell_type": "markdown",
   "metadata": {},
   "source": [
    "# Viral barcodes by cell from 10x transcriptomics\n",
    "This Python Jupyter notebook counts the viral barcodes by cell in the 10x transcriptomic data, and drops any viral barcodes that are ambiguous (either called as ambiguous due to lack of consensus for UMI, or have a `N` in them).\n",
    "\n",
    "Import Python modules:"
   ]
  },
  {
   "cell_type": "code",
   "execution_count": null,
   "metadata": {},
   "outputs": [],
   "source": [
    "import matplotlib.pyplot as plt\n",
    "\n",
    "import pandas as pd"
   ]
  },
  {
   "cell_type": "markdown",
   "metadata": {},
   "source": [
    "Get `snakemake` variables [as described here](https://snakemake.readthedocs.io/en/stable/snakefiles/rules.html#jupyter-notebook-integration):"
   ]
  },
  {
   "cell_type": "code",
   "execution_count": null,
   "metadata": {},
   "outputs": [],
   "source": [
    "viral_bc_by_cell_umi_csv = snakemake.input.viral_bc_by_cell_umi_csv\n",
    "viral_bc_by_cell_csv = snakemake.output.viral_bc_by_cell_csv\n",
    "plot = snakemake.output.plot\n",
    "expt = snakemake.wildcards.expt"
   ]
  },
  {
   "cell_type": "markdown",
   "metadata": {},
   "source": [
    "Read data frame of viral barcodes by cell and UMI:"
   ]
  },
  {
   "cell_type": "code",
   "execution_count": null,
   "metadata": {},
   "outputs": [],
   "source": [
    "viral_bc_by_cell_umi = pd.read_csv(viral_bc_by_cell_umi_csv)"
   ]
  },
  {
   "cell_type": "markdown",
   "metadata": {},
   "source": [
    "Create data frame where we count viral barcodes by cell (and gene), and then annotate any viral barcodes with `N` nucleotides as ambiguous:"
   ]
  },
  {
   "cell_type": "code",
   "execution_count": null,
   "metadata": {},
   "outputs": [],
   "source": [
    "viral_bc_by_cell = (\n",
    "    viral_bc_by_cell_umi\n",
    "    .groupby(['gene', 'cell_barcode', 'viral_barcode'], as_index=False)\n",
    "    .aggregate(count=pd.NamedAgg('UMI', 'count'))\n",
    "    .assign(viral_barcode=lambda x: x['viral_barcode'].where(~x['viral_barcode'].str.contains('N'),\n",
    "                                                             'ambiguous'),\n",
    "            is_ambiguous=lambda x: x['viral_barcode'] == 'ambiguous',\n",
    "            )\n",
    "    )\n",
    "\n",
    "assert all(viral_bc_by_cell['is_ambiguous'] |\n",
    "           viral_bc_by_cell['viral_barcode'].str.fullmatch('[ACGT]+'))"
   ]
  },
  {
   "cell_type": "markdown",
   "metadata": {},
   "source": [
    "Write output CSV file with the viral barcode counts per cell, dropping ambiguous barcodes:"
   ]
  },
  {
   "cell_type": "code",
   "execution_count": null,
   "metadata": {},
   "outputs": [],
   "source": [
    "print(f\"Writing per-cell viral barcode counts to {viral_bc_by_cell_csv}\")\n",
    "(viral_bc_by_cell\n",
    " .query('not is_ambiguous')\n",
    " .drop(columns='is_ambiguous')\n",
    " .to_csv(viral_bc_by_cell_csv,\n",
    "         compression='gzip',\n",
    "         index=False)\n",
    " )"
   ]
  },
  {
   "cell_type": "markdown",
   "metadata": {
    "execution": {
     "iopub.execute_input": "2020-10-14T19:22:52.223778Z",
     "iopub.status.busy": "2020-10-14T19:22:52.223267Z",
     "iopub.status.idle": "2020-10-14T19:22:52.245096Z",
     "shell.execute_reply": "2020-10-14T19:22:52.244544Z",
     "shell.execute_reply.started": "2020-10-14T19:22:52.223732Z"
    }
   },
   "source": [
    "Make summary plots:"
   ]
  },
  {
   "cell_type": "code",
   "execution_count": null,
   "metadata": {},
   "outputs": [],
   "source": [
    "viral_genes = viral_bc_by_cell['gene'].unique()\n",
    "\n",
    "fig, axes = plt.subplots(ncols=2 + len(viral_genes),\n",
    "                         figsize=(6.5 + 3.25 * len(viral_genes), 4),\n",
    "                         )\n",
    "fig.suptitle(f\"viral barcodes in 10x transcriptomics for experiment {expt}\")\n",
    "\n",
    "# number of UMIs with viral barcode for each gene stratified by whether ambiguous\n",
    "tot_umi_counts = (\n",
    "    viral_bc_by_cell\n",
    "    .groupby(['gene', 'is_ambiguous'], as_index=False)\n",
    "    .aggregate(UMIs=pd.NamedAgg('count', 'sum'))\n",
    "    .assign(is_ambiguous=lambda x: x['is_ambiguous'].map({True: 'ambiguous (discarded)',\n",
    "                                                          False: 'unambiguous (retained)'}))\n",
    "    .pivot_table(index='gene',\n",
    "                 columns='is_ambiguous')\n",
    "    .fillna(0)\n",
    "    )\n",
    "tot_umi_counts.columns = tot_umi_counts.columns.get_level_values(1)\n",
    "tot_umi_counts.columns.name = None\n",
    "_ = tot_umi_counts.plot(kind='bar',\n",
    "                        ax=axes[0],\n",
    "                        ).legend(loc='lower center', bbox_to_anchor=(0.5, 1))\n",
    "axes[0].set_ylabel('UMIs with called viral barcode')\n",
    "ymax = tot_umi_counts.max().max()\n",
    "axes[0].set_ylim(0, 1.5 * ymax)\n",
    "for p in axes[0].patches:\n",
    "    axes[0].annotate(f\"{p.get_height():.2g}\",\n",
    "                     (p.get_x() + 0.1, p.get_height() + 0.05 * ymax),\n",
    "                     rotation=90)\n",
    "\n",
    "# knee plot of number of times each viral barcode is observed (excluding ambiguous barcodes)\n",
    "n_umis = (\n",
    "    viral_bc_by_cell\n",
    "    .query('not is_ambiguous')\n",
    "    .groupby(['gene', 'viral_barcode'], as_index=False)\n",
    "    .aggregate(count=pd.NamedAgg('count', 'sum'))\n",
    "    .sort_values('count', ascending=False)\n",
    "    .assign(rank=lambda x: x.groupby('gene').cumcount() + 1)\n",
    "    .pivot_table(index='rank',\n",
    "                 columns='gene',\n",
    "                 values='count')\n",
    "    )\n",
    "n_umis.columns.name = None\n",
    "_ = n_umis.plot(kind='line',\n",
    "                logx=True,\n",
    "                logy=True,\n",
    "                ax=axes[1],\n",
    "                color=plt.rcParams['axes.prop_cycle'].by_key()['color'][2:],\n",
    "                )\n",
    "axes[1].set_ylabel('UMIs for viral barcode (all cells)')\n",
    "axes[1].set_xlabel('viral barcode rank')\n",
    "axes[1].set_title('knee plot for viral barcodes')\n",
    "\n",
    "# \"purity\" (freq of most abundant viral barcode) vs viral barcode UMIs across cells (excluding ambiguous barcodes)\n",
    "purity = (\n",
    "    viral_bc_by_cell\n",
    "    .query('not is_ambiguous')\n",
    "    .assign(cell_count=lambda x: x.groupby(['gene', 'cell_barcode'])['count'].transform('sum'),\n",
    "            cell_freq=lambda x: x['count'] / x['cell_count'],\n",
    "            )\n",
    "    .groupby(['gene', 'cell_barcode', 'cell_count'], as_index=False)\n",
    "    .aggregate(purity=pd.NamedAgg('cell_freq', 'max'))\n",
    "    )\n",
    "for i, (gene, color) in enumerate(zip(viral_genes,\n",
    "                                      plt.rcParams['axes.prop_cycle'].by_key()['color'][2:])\n",
    "                                  ):\n",
    "    _ = purity.query('gene == @gene').plot(x='cell_count',\n",
    "                                           y='purity',\n",
    "                                           alpha=0.3,\n",
    "                                           kind='scatter',\n",
    "                                           c=color,\n",
    "                                           ax=axes[2 + i],\n",
    "                                           )\n",
    "    axes[2 + i].set_xlabel('UMIs with viral barcode in cell')\n",
    "    axes[2 + i].set_ylabel('freq most abundant barcode')\n",
    "    axes[2 + i].set_title(f\"per-cell purity for {gene}\")\n",
    "    \n",
    "# save plot\n",
    "fig.tight_layout()\n",
    "print(f\"Saving plot to {plot}\")\n",
    "fig.savefig(plot)"
   ]
  }
 ],
 "metadata": {
  "kernelspec": {
   "display_name": "Python 3",
   "language": "python",
   "name": "python3"
  },
  "language_info": {
   "codemirror_mode": {
    "name": "ipython",
    "version": 3
   },
   "file_extension": ".py",
   "mimetype": "text/x-python",
   "name": "python",
   "nbconvert_exporter": "python",
   "pygments_lexer": "ipython3",
   "version": "3.8.5"
  }
 },
 "nbformat": 4,
 "nbformat_minor": 4
}
