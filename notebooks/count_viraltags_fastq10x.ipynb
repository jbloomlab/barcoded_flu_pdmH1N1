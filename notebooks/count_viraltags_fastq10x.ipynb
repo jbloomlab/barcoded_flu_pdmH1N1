{
 "cells": [
  {
   "cell_type": "markdown",
   "metadata": {},
   "source": [
    "# Count viral tags on aligned Illumina 10X reads\n",
    "This Python Jupyter notebook counts the viral tags on aligned Illumina 10X data and outputs the counts of each viral tag variant for each cell barcode and gene into a CSV."
   ]
  },
  {
   "cell_type": "markdown",
   "metadata": {},
   "source": [
    "## Parameters for notebook\n",
    "First, set the parameters for the notebook.\n",
    "That should be done in the next cell, which is tagged as a `parameters` cell to enable [papermill parameterization](https://papermill.readthedocs.io/en/latest/usage-parameterize.html):"
   ]
  },
  {
   "cell_type": "code",
   "execution_count": null,
   "metadata": {
    "tags": [
     "parameters"
    ]
   },
   "outputs": [],
   "source": [
    "# parameters cell; in order for notebook to run this cell must define:\n",
    "#  - input_fastq10x_bam: BAM file with aligned FASTQ 10X reads\n",
    "#  - input_fastq10x_bai: BAM index file for `input_fastq10x_bai`\n",
    "#  - input_viraltag_locs: CSV file giving the location of the viral tags\n",
    "#  - input_viraltag_identities: YAML file giving expected identity of each tag for each tag variant\n",
    "#  - input_cellbarcodes: TSV file giving valid cell barcodes\n",
    "#  - output_viraltag_counts: created CSV file with the counts of each tag variant for each gene"
   ]
  },
  {
   "cell_type": "markdown",
   "metadata": {},
   "source": [
    "## Import Python modules"
   ]
  },
  {
   "cell_type": "code",
   "execution_count": null,
   "metadata": {},
   "outputs": [],
   "source": [
    "import pandas as pd\n",
    "\n",
    "from plotnine import *\n",
    "\n",
    "from pymodules.tags_and_barcodes import extract_tags\n",
    "\n",
    "import pysam\n",
    "\n",
    "import yaml"
   ]
  },
  {
   "cell_type": "markdown",
   "metadata": {},
   "source": [
    "## Read tags and expected identities"
   ]
  },
  {
   "cell_type": "code",
   "execution_count": null,
   "metadata": {},
   "outputs": [],
   "source": [
    "print(f\"Reading expected tag identities from {input_viraltag_identities}\")\n",
    "with open(input_viraltag_identities) as f:\n",
    "    viraltag_identities_dict = yaml.safe_load(f)\n",
    "\n",
    "viraltag_identities_df = (\n",
    "    pd.DataFrame.from_records(\n",
    "        [(gene, tag, tagvariant, nt)\n",
    "         for gene, genetags in viraltag_identities_dict.items()\n",
    "         for tag, tagvals in genetags.items()\n",
    "         for tagvariant, nt in tagvals.items()],\n",
    "        columns=['gene', 'tag', 'tag_variant', 'nucleotide'])\n",
    "    .pivot_table(index=['gene', 'tag'],\n",
    "                  columns='tag_variant',\n",
    "                  values='nucleotide',\n",
    "                  aggfunc='sum')\n",
    "    )\n",
    "\n",
    "print('Here are the tag identities:')\n",
    "viraltag_identities_df"
   ]
  },
  {
   "cell_type": "markdown",
   "metadata": {},
   "source": [
    "Get tag variants and make sure an identity is defined for each tag variant at each tag:"
   ]
  },
  {
   "cell_type": "code",
   "execution_count": null,
   "metadata": {},
   "outputs": [],
   "source": [
    "tag_variants = viraltag_identities_df.columns.tolist()\n",
    "print(f\"Here are the {len(tag_variants)} tag variants: {', '.join(tag_variants)}\")\n",
    "\n",
    "assert viraltag_identities_df.notnull().any(axis=None), 'identities missing for some tags'"
   ]
  },
  {
   "cell_type": "markdown",
   "metadata": {},
   "source": [
    "Read the viral tag locations:"
   ]
  },
  {
   "cell_type": "code",
   "execution_count": null,
   "metadata": {},
   "outputs": [],
   "source": [
    "print(f\"Reading viral tag locations from {input_viraltag_locs}\")\n",
    "viraltag_locs_df = pd.read_csv(input_viraltag_locs)\n",
    "viraltag_locs_df"
   ]
  },
  {
   "cell_type": "markdown",
   "metadata": {},
   "source": [
    "Make sure we have locations and tag identities for same genes:"
   ]
  },
  {
   "cell_type": "code",
   "execution_count": null,
   "metadata": {},
   "outputs": [],
   "source": [
    "tagged_viral_genes = viraltag_locs_df['gene'].unique()\n",
    "assert set(tagged_viral_genes) == set(viraltag_identities_dict)"
   ]
  },
  {
   "cell_type": "markdown",
   "metadata": {},
   "source": [
    "And that for each viral gene we have the same set of tags:"
   ]
  },
  {
   "cell_type": "code",
   "execution_count": null,
   "metadata": {},
   "outputs": [],
   "source": [
    "for gene in tagged_viral_genes:\n",
    "    if (set(viraltag_locs_df.query('gene == @gene')['tag_name']) != set(viraltag_identities_dict[gene])):\n",
    "        raise ValueError(f\"inconsistent tags for {gene}\")"
   ]
  },
  {
   "cell_type": "markdown",
   "metadata": {},
   "source": [
    "## Get set of valid cell barcodes"
   ]
  },
  {
   "cell_type": "code",
   "execution_count": null,
   "metadata": {},
   "outputs": [],
   "source": [
    "print(f\"Reading vaid cell barcodes from {input_cellbarcodes}\")\n",
    "\n",
    "cellbarcodes = set(pd.read_csv(input_cellbarcodes, header=None)[0])\n",
    "\n",
    "print(f\"Read {len(cellbarcodes)} valid barcodes.\")"
   ]
  },
  {
   "cell_type": "markdown",
   "metadata": {},
   "source": [
    "## Count viral tags\n",
    "For each cell barcode and each viral gene, we count the number of unique reads for each viral tag variant.\n",
    "\n",
    "The basic process is as follows:\n",
    " 1. For each viral tag, parse the tag identity for all reads that cover that tag.\n",
    "    The reads are grouped by UMI and cell barcode, and the tag is labeled as `ambiguous` if no tag identities compose more than 50% of the reads for a UMI in a cell.\n",
    " 2. The tags are then assigned to their tag variants, labeling the tag variant as `invalid` if the identity at the tag doesn't belong to an expected tag variant.\n",
    " 3. Unify the tag assigments across tags by looking for UMIs that have several tags covered.\n",
    "    If all of the tags agree on the tag variant, then that's what we assign that UMI.\n",
    "    If the tags disagree, label as `tags_disagree`.\n",
    "    \n",
    "The output of this process is the tidy data frame `tag_variant_counts`:"
   ]
  },
  {
   "cell_type": "code",
   "execution_count": null,
   "metadata": {},
   "outputs": [],
   "source": [
    "print(f\"Parsing reads from {input_fastq10x_bam} (index {input_fastq10x_bai}):\\n\")\n",
    "\n",
    "with pysam.AlignmentFile(input_fastq10x_bam, index_filename=input_fastq10x_bai) as bamfile:\n",
    "    \n",
    "    tag_variant_counts = pd.DataFrame({},\n",
    "                                      columns=['gene', 'cell_barcode', 'tag_variant', 'count'])\n",
    "    \n",
    "    for gene in tagged_viral_genes:\n",
    "        print(f\"Processing tags for {gene}\")\n",
    "        \n",
    "        # parse each tag for the gene\n",
    "        counts_df = pd.DataFrame({}, columns=['cell_barcode', 'UMI', 'tag_variant'])\n",
    "        for tup in viraltag_locs_df.query('gene == @gene').itertuples():\n",
    "            tag_to_variant = {var: tag for tag, var in\n",
    "                                  viraltag_identities_dict[gene][tup.tag_name].items()}\n",
    "            tag_to_variant['ambiguous'] = 'ambiguous'\n",
    "            readiterator = bamfile.fetch(contig=tup.gene,\n",
    "                                         start=tup.start - 1,  # convert 1- to 0-based indexing\n",
    "                                         end=tup.end,\n",
    "                                         )\n",
    "            tag_counts_df = (\n",
    "                        extract_tags(readiterator, cellbarcodes, tup.start - 1, tup.end)\n",
    "                        .assign(tag_variant=lambda x: (x['tag']\n",
    "                                                       .map(tag_to_variant)\n",
    "                                                       .fillna('invalid'))\n",
    "                                 )\n",
    "                        [['cell_barcode', 'UMI', 'tag_variant']]\n",
    "                        )\n",
    "            print(f\"\\tParsed tag {tup.tag_name} for {len(tag_counts_df)} UMIs.\")\n",
    "            counts_df = counts_df.append(tag_counts_df)\n",
    "            \n",
    "        # unify tag variant assignments across tags for gene\n",
    "        tag_variant_counts = tag_variant_counts.append(\n",
    "            counts_df\n",
    "            .groupby(['cell_barcode', 'UMI'])\n",
    "            .aggregate(tag_variant=pd.NamedAgg('tag_variant', 'first'),\n",
    "                       n_tag_variants=pd.NamedAgg('tag_variant', 'nunique'))\n",
    "            .reset_index()\n",
    "            .groupby(['cell_barcode', 'tag_variant', 'n_tag_variants'])\n",
    "            .aggregate(count=pd.NamedAgg('UMI', 'count'))\n",
    "            .reset_index()\n",
    "            .assign(tag_variant=lambda x: x['tag_variant'].where(x['n_tag_variants'] == 1,\n",
    "                                                                 'tags disagree'),\n",
    "                    gene=gene)\n",
    "            [['gene', 'cell_barcode', 'tag_variant', 'count']],\n",
    "            ignore_index=True, sort=False\n",
    "            )     "
   ]
  },
  {
   "cell_type": "markdown",
   "metadata": {},
   "source": [
    "The results are now in the data frame `tag_variant_counts`:"
   ]
  },
  {
   "cell_type": "code",
   "execution_count": null,
   "metadata": {},
   "outputs": [],
   "source": [
    "tag_variant_counts"
   ]
  },
  {
   "cell_type": "markdown",
   "metadata": {},
   "source": [
    "## Summarize the viral tag counts\n",
    "Get the total fraction of each tag variant for each gene across all cell barcodes:"
   ]
  },
  {
   "cell_type": "code",
   "execution_count": null,
   "metadata": {},
   "outputs": [],
   "source": [
    "tag_order = tag_variants + sorted(t for t in tag_variant_counts['tag_variant'].unique()\n",
    "                                  if t not in tag_variants)\n",
    "\n",
    "total_tag_variant_counts = (\n",
    "    tag_variant_counts\n",
    "    .groupby(['gene', 'tag_variant'])\n",
    "    .aggregate({'count': 'sum'})\n",
    "    .reset_index()\n",
    "    .assign(gene=lambda x: pd.Categorical(x['gene'],\n",
    "                                          tagged_viral_genes,\n",
    "                                          ordered=True),\n",
    "            tag_variant=lambda x: pd.Categorical(x['tag_variant'],\n",
    "                                                 tag_order,\n",
    "                                                 ordered=True,\n",
    "                                                 ),\n",
    "            total=lambda x: x.groupby('gene')['count'].transform('sum'),\n",
    "            frac=lambda x: x['count'] / x['total'],\n",
    "            valid_tag=lambda x: x['tag_variant'].isin(tag_variants)\n",
    "            )\n",
    "    )\n",
    "\n",
    "(total_tag_variant_counts\n",
    " .pivot_table(index=['gene', 'total'],\n",
    "              columns='tag_variant',\n",
    "              values='frac',\n",
    "              fill_value=0)\n",
    " .round(3)\n",
    " )"
   ]
  },
  {
   "cell_type": "markdown",
   "metadata": {},
   "source": [
    "Plot number of UMIs with called viral tags for each gene:"
   ]
  },
  {
   "cell_type": "code",
   "execution_count": null,
   "metadata": {},
   "outputs": [],
   "source": [
    "p = (ggplot(total_tag_variant_counts\n",
    "            .groupby(['gene', 'valid_tag'])\n",
    "            .aggregate({'count': 'sum'})\n",
    "            .reset_index(),\n",
    "            aes('gene', 'count', fill='valid_tag')) +\n",
    "     geom_bar(stat='identity', position='dodge') +\n",
    "     theme(figure_size=(0.4 *  len(tagged_viral_genes), 2),\n",
    "           axis_text_x=element_text(angle=90)) +\n",
    "     ylab('UMIs with viral tag') +\n",
    "     scale_fill_manual(values=('#E69F00', '#56B4E9'))\n",
    "     )\n",
    "_ = p.draw()"
   ]
  },
  {
   "cell_type": "markdown",
   "metadata": {},
   "source": [
    "Plot the fraction of called tags that go with each variant for each gene:"
   ]
  },
  {
   "cell_type": "code",
   "execution_count": null,
   "metadata": {},
   "outputs": [],
   "source": [
    "p = (ggplot(total_tag_variant_counts,\n",
    "            aes('tag_variant', 'frac', fill='valid_tag')) +\n",
    "     geom_bar(stat='identity') +\n",
    "     facet_wrap('~ gene', nrow=1) +\n",
    "     theme(figure_size=(1.25 * len(tagged_viral_genes), 2),\n",
    "           axis_text_x=element_text(angle=90)) +\n",
    "     ylab('fraction with tag') +\n",
    "     scale_fill_manual(values=('#E69F00', '#56B4E9'))\n",
    "     )\n",
    "_ = p.draw()"
   ]
  },
  {
   "cell_type": "markdown",
   "metadata": {},
   "source": [
    "## Write counts of valid viral tag variants\n",
    "Finally, we write the counts of the valid viral tag variants to an output CSV file for later use.\n",
    "Note that we **only** write non-zero counts for valid tags and cell barcodes:"
   ]
  },
  {
   "cell_type": "code",
   "execution_count": null,
   "metadata": {},
   "outputs": [],
   "source": [
    "print(f\"Writing counts to {output_viraltag_counts}\")\n",
    "\n",
    "(tag_variant_counts\n",
    " .query('tag_variant in @tag_variants')\n",
    " [['gene', 'cell_barcode', 'tag_variant', 'count']]\n",
    " .to_csv(output_viraltag_counts, index=False)\n",
    " )"
   ]
  }
 ],
 "metadata": {
  "kernelspec": {
   "display_name": "Python 3",
   "language": "python",
   "name": "python3"
  },
  "language_info": {
   "codemirror_mode": {
    "name": "ipython",
    "version": 3
   },
   "file_extension": ".py",
   "mimetype": "text/x-python",
   "name": "python",
   "nbconvert_exporter": "python",
   "pygments_lexer": "ipython3",
   "version": "3.6.7"
  }
 },
 "nbformat": 4,
 "nbformat_minor": 4
}
