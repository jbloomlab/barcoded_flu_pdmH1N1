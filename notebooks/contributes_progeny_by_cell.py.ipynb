{
 "cells": [
  {
   "cell_type": "markdown",
   "metadata": {},
   "source": [
    "# Contributes progeny by cell\n",
    "This notebook annotates each infected cell by whether it contributes any progeny to the supernatant and second_infection"
   ]
  },
  {
   "cell_type": "markdown",
   "metadata": {},
   "source": [
    "Import python modules:\n"
   ]
  },
  {
   "cell_type": "code",
   "execution_count": null,
   "metadata": {
    "execution": {
     "iopub.execute_input": "2022-12-21T19:12:15.505030Z",
     "iopub.status.busy": "2022-12-21T19:12:15.504142Z",
     "iopub.status.idle": "2022-12-21T19:12:21.652412Z",
     "shell.execute_reply": "2022-12-21T19:12:21.653153Z"
    }
   },
   "outputs": [],
   "source": [
    "from IPython.display import display\n",
    "\n",
    "from dms_variants.constants import CBPALETTE\n",
    "\n",
    "import pandas as pd\n",
    "\n",
    "import plotnine as p9"
   ]
  },
  {
   "cell_type": "markdown",
   "metadata": {},
   "source": [
    "Hardcode variables for now:"
   ]
  },
  {
   "cell_type": "code",
   "execution_count": null,
   "metadata": {
    "execution": {
     "iopub.execute_input": "2022-12-21T19:12:21.656765Z",
     "iopub.status.busy": "2022-12-21T19:12:21.655716Z",
     "iopub.status.idle": "2022-12-21T19:12:21.660229Z",
     "shell.execute_reply": "2022-12-21T19:12:21.660759Z"
    }
   },
   "outputs": [],
   "source": [
    "transcription_progeny_csv = snakemake.input.transcription_progeny_csv\n",
    "viral_genes_by_cell_csv = snakemake.input.viral_genes_by_cell_csv\n",
    "expt = snakemake.wildcards.expt\n",
    "plot = snakemake.output.plot\n",
    "progeny_detection_limit = float(snakemake.params.progeny_detection_limit)\n",
    "contributes_progeny_by_cell_csv = snakemake.output.contributes_progeny_by_cell_csv"
   ]
  },
  {
   "cell_type": "markdown",
   "metadata": {},
   "source": [
    "Style parameters. *N.b.* `CBPALETTE` is defined in imports above."
   ]
  },
  {
   "cell_type": "code",
   "execution_count": null,
   "metadata": {
    "execution": {
     "iopub.execute_input": "2022-12-21T19:12:21.663458Z",
     "iopub.status.busy": "2022-12-21T19:12:21.662617Z",
     "iopub.status.idle": "2022-12-21T19:12:21.667220Z",
     "shell.execute_reply": "2022-12-21T19:12:21.667743Z"
    }
   },
   "outputs": [],
   "source": [
    "p9.theme_set(p9.theme_classic())"
   ]
  },
  {
   "cell_type": "markdown",
   "metadata": {},
   "source": [
    "## Load data\n",
    "Load data on viral barcodes in each infected cell and frequency of those viral barcodes in each progeny sample.  "
   ]
  },
  {
   "cell_type": "code",
   "execution_count": null,
   "metadata": {
    "execution": {
     "iopub.execute_input": "2022-12-21T19:12:21.670483Z",
     "iopub.status.busy": "2022-12-21T19:12:21.669617Z",
     "iopub.status.idle": "2022-12-21T19:12:21.705402Z",
     "shell.execute_reply": "2022-12-21T19:12:21.705973Z"
    }
   },
   "outputs": [],
   "source": [
    "viral_barcode_freqs = pd.read_csv(transcription_progeny_csv)\n",
    "display(viral_barcode_freqs)"
   ]
  },
  {
   "cell_type": "markdown",
   "metadata": {},
   "source": [
    "Load viral gene presence/absence data"
   ]
  },
  {
   "cell_type": "code",
   "execution_count": null,
   "metadata": {
    "execution": {
     "iopub.execute_input": "2022-12-21T19:12:21.708688Z",
     "iopub.status.busy": "2022-12-21T19:12:21.707823Z",
     "iopub.status.idle": "2022-12-21T19:12:21.736422Z",
     "shell.execute_reply": "2022-12-21T19:12:21.736910Z"
    }
   },
   "outputs": [],
   "source": [
    "viral_genes_by_cell = pd.read_csv(viral_genes_by_cell_csv)\n",
    "display(viral_genes_by_cell)"
   ]
  },
  {
   "cell_type": "markdown",
   "metadata": {},
   "source": [
    "Merge viral gene data into viral progeny data:"
   ]
  },
  {
   "cell_type": "code",
   "execution_count": null,
   "metadata": {
    "execution": {
     "iopub.execute_input": "2022-12-21T19:12:21.739397Z",
     "iopub.status.busy": "2022-12-21T19:12:21.738612Z",
     "iopub.status.idle": "2022-12-21T19:12:21.768633Z",
     "shell.execute_reply": "2022-12-21T19:12:21.769125Z"
    }
   },
   "outputs": [],
   "source": [
    "viral_barcode_freqs = pd.merge(\n",
    "    left=viral_barcode_freqs,\n",
    "    right=viral_genes_by_cell,\n",
    "    on=['cell_barcode', 'gene'],\n",
    "    how='left',\n",
    "    validate='many_to_one'\n",
    ")\n",
    "display(viral_barcode_freqs)"
   ]
  },
  {
   "cell_type": "markdown",
   "metadata": {},
   "source": [
    "## Detect viral barcodes in cells"
   ]
  },
  {
   "cell_type": "markdown",
   "metadata": {},
   "source": [
    "Annotate whether each cell has a viral barcode detected on each barcoded gene:"
   ]
  },
  {
   "cell_type": "code",
   "execution_count": null,
   "metadata": {
    "execution": {
     "iopub.execute_input": "2022-12-21T19:12:21.771597Z",
     "iopub.status.busy": "2022-12-21T19:12:21.770807Z",
     "iopub.status.idle": "2022-12-21T19:12:21.792943Z",
     "shell.execute_reply": "2022-12-21T19:12:21.793426Z"
    }
   },
   "outputs": [],
   "source": [
    "viral_barcode_freqs = viral_barcode_freqs.assign(\n",
    "    viral_bc_detected=lambda x: x['viral_barcode'].notnull()\n",
    ")\n",
    "display(viral_barcode_freqs)"
   ]
  },
  {
   "cell_type": "code",
   "execution_count": null,
   "metadata": {
    "execution": {
     "iopub.execute_input": "2022-12-21T19:12:21.795916Z",
     "iopub.status.busy": "2022-12-21T19:12:21.795112Z",
     "iopub.status.idle": "2022-12-21T19:12:22.123677Z",
     "shell.execute_reply": "2022-12-21T19:12:22.124235Z"
    }
   },
   "outputs": [],
   "source": [
    "viral_bc_detected_counts_df = (\n",
    "    viral_barcode_freqs\n",
    "    .groupby(['gene', 'viral_bc_detected'])\n",
    "    ['cell_barcode']\n",
    "    .nunique()\n",
    "    .reset_index()\n",
    "    .rename(columns={'cell_barcode': 'n_cells'}))\n",
    "\n",
    "viral_bc_detected_counts = (\n",
    "    p9.ggplot(viral_bc_detected_counts_df,\n",
    "              p9.aes(x='gene',\n",
    "                     y='n_cells',\n",
    "                     fill='viral_bc_detected')) +\n",
    "    p9.geom_bar(stat='identity') +\n",
    "    p9.ggtitle('Valid viral barcode detected in each infected cell\\n'\n",
    "               f'{expt}') +\n",
    "    p9.theme(figure_size=(3, 3),\n",
    "                plot_title=p9.element_text(size=9),\n",
    "                axis_title=p9.element_text(size=9),\n",
    "                legend_title=p9.element_text(size=9),\n",
    "                legend_title_align='center') +\n",
    "    p9.scale_fill_manual([CBPALETTE[1], CBPALETTE[0]]))\n",
    "display(viral_bc_detected_counts)"
   ]
  },
  {
   "cell_type": "markdown",
   "metadata": {},
   "source": [
    "Plot whether missing viral barcodes are the result of that spedcific barcoded segment missing:"
   ]
  },
  {
   "cell_type": "code",
   "execution_count": null,
   "metadata": {
    "execution": {
     "iopub.execute_input": "2022-12-21T19:12:22.127012Z",
     "iopub.status.busy": "2022-12-21T19:12:22.126157Z",
     "iopub.status.idle": "2022-12-21T19:12:22.374044Z",
     "shell.execute_reply": "2022-12-21T19:12:22.374548Z"
    }
   },
   "outputs": [],
   "source": [
    "missing_genes_df = (\n",
    "    viral_barcode_freqs\n",
    "    .query('viral_bc_detected == False')\n",
    "    .groupby(['gene','gene_present'])\n",
    "    ['cell_barcode']\n",
    "    .nunique()\n",
    "    .reset_index()\n",
    "    .rename(columns={'cell_barcode': 'n_cells'}))\n",
    "\n",
    "missing_genes = (\n",
    "    p9.ggplot(missing_genes_df,\n",
    "              p9.aes(x='gene',\n",
    "                     y='n_cells',\n",
    "                     fill='gene_present')) +\n",
    "    p9.geom_bar(stat='identity') +\n",
    "    p9.ggtitle('Missing viral genes in cells without a valid viral barcode detected\\n'\n",
    "               f'{expt}') +\n",
    "    p9.theme(figure_size=(3, 1.5),\n",
    "                plot_title=p9.element_text(size=9),\n",
    "                axis_title=p9.element_text(size=9),\n",
    "                legend_title=p9.element_text(size=9),\n",
    "                legend_title_align='center') +\n",
    "    p9.scale_fill_manual([CBPALETTE[1], CBPALETTE[0]]))\n",
    "display(missing_genes)"
   ]
  },
  {
   "cell_type": "markdown",
   "metadata": {},
   "source": [
    "Annotate whether cell contributes progeny."
   ]
  },
  {
   "cell_type": "code",
   "execution_count": null,
   "metadata": {
    "execution": {
     "iopub.execute_input": "2022-12-21T19:12:22.377227Z",
     "iopub.status.busy": "2022-12-21T19:12:22.376386Z",
     "iopub.status.idle": "2022-12-21T19:12:22.668233Z",
     "shell.execute_reply": "2022-12-21T19:12:22.668736Z"
    },
    "scrolled": true
   },
   "outputs": [],
   "source": [
    "contributes_progeny_by_cell_df = (\n",
    "    viral_barcode_freqs\n",
    "    .query('viral_bc_detected == True')\n",
    "    .groupby(['cell_barcode',\n",
    "              'source'])\n",
    "    ['progeny_freq']\n",
    "    .max()\n",
    "    .reset_index()\n",
    "    .rename(columns={'progeny_freq': 'max_progeny_freq'}))\n",
    "contributes_progeny_by_cell_df['contributes_progeny'] = (\n",
    "    contributes_progeny_by_cell_df['max_progeny_freq'] > progeny_detection_limit\n",
    ")\n",
    "\n",
    "contributes_progeny_by_cell = (\n",
    "    p9.ggplot(contributes_progeny_by_cell_df,\n",
    "              p9.aes(x='source',\n",
    "                     fill='contributes_progeny')) +\n",
    "    p9.geom_bar(stat='count') +\n",
    "    p9.ggtitle('Infected cells with valid viral barcode detected\\n'\n",
    "               'contributes any progeny\\n'\n",
    "               f'{expt}') +\n",
    "    p9.theme(figure_size=(1.5*contributes_progeny_by_cell_df['source'].nunique(),\n",
    "                          3),\n",
    "                plot_title=p9.element_text(size=9),\n",
    "                axis_title=p9.element_text(size=9),\n",
    "                legend_title=p9.element_text(size=9),\n",
    "                legend_title_align='center') +\n",
    "    p9.scale_fill_manual([CBPALETTE[1], CBPALETTE[0]]))\n",
    "display(contributes_progeny_by_cell)"
   ]
  },
  {
   "cell_type": "markdown",
   "metadata": {},
   "source": [
    "Merge back into `viral_barcode_freqs` dataframe.  If viral barcode is not detected on gene, annotate as \"viral barcode not detected\"."
   ]
  },
  {
   "cell_type": "code",
   "execution_count": null,
   "metadata": {
    "execution": {
     "iopub.execute_input": "2022-12-21T19:12:22.671312Z",
     "iopub.status.busy": "2022-12-21T19:12:22.670513Z",
     "iopub.status.idle": "2022-12-21T19:12:22.701350Z",
     "shell.execute_reply": "2022-12-21T19:12:22.701852Z"
    }
   },
   "outputs": [],
   "source": [
    "viral_barcode_freqs = pd.merge(\n",
    "    left=viral_barcode_freqs,\n",
    "    right=contributes_progeny_by_cell_df,\n",
    "    on=['cell_barcode', 'source'],\n",
    "    how='left',\n",
    "    validate='many_to_one'\n",
    ")\n",
    "viral_barcode_freqs['contributes_progeny'] = (\n",
    "    viral_barcode_freqs['contributes_progeny'].fillna(\"valid viral bc not detected\")\n",
    ")\n",
    "\n",
    "display(viral_barcode_freqs)"
   ]
  },
  {
   "cell_type": "markdown",
   "metadata": {},
   "source": [
    "Plot outcome for every cell, ranked by max viral progeny contribution:"
   ]
  },
  {
   "cell_type": "code",
   "execution_count": null,
   "metadata": {
    "execution": {
     "iopub.execute_input": "2022-12-21T19:12:22.704512Z",
     "iopub.status.busy": "2022-12-21T19:12:22.703678Z",
     "iopub.status.idle": "2022-12-21T19:12:23.302983Z",
     "shell.execute_reply": "2022-12-21T19:12:23.303425Z"
    }
   },
   "outputs": [],
   "source": [
    "max_progeny_rank_df = (\n",
    "    viral_barcode_freqs\n",
    "    [['cell_barcode', 'source', 'max_progeny_freq', 'contributes_progeny']]\n",
    "    .drop_duplicates())\n",
    "max_progeny_rank_df['max_progeny_freq'] = max_progeny_rank_df['max_progeny_freq'].fillna(progeny_detection_limit)\n",
    "max_progeny_rank_df['rank'] = (\n",
    "    max_progeny_rank_df\n",
    "    .groupby('source')\n",
    "    ['max_progeny_freq']\n",
    "    .rank(ascending=False,\n",
    "          method='first'))\n",
    "\n",
    "max_progeny_rank = (\n",
    "    p9.ggplot(max_progeny_rank_df,\n",
    "              p9.aes(x='rank',\n",
    "                     y='max_progeny_freq',\n",
    "                     color='factor(contributes_progeny)')) +\n",
    "    p9.geom_point(alpha=0.3) +\n",
    "    p9.facet_grid('~source') +\n",
    "    p9.geom_hline(yintercept=progeny_detection_limit, linetype='dashed', color=CBPALETTE[2]) +\n",
    "    p9.ggtitle('Infected cells contributes any progeny\\n'\n",
    "               f'{expt}') +\n",
    "    p9.scale_y_log10() +\n",
    "    p9.theme(figure_size=(4*max_progeny_rank_df['source'].nunique(),\n",
    "                          2),\n",
    "                plot_title=p9.element_text(size=9),\n",
    "                axis_title=p9.element_text(size=9),\n",
    "                legend_title=p9.element_text(size=9),\n",
    "                legend_title_align='center') +\n",
    "    p9.scale_color_manual(CBPALETTE[0:]))\n",
    "\n",
    "display(max_progeny_rank)"
   ]
  },
  {
   "cell_type": "markdown",
   "metadata": {},
   "source": [
    "### Relationship between viral burden and progeny production"
   ]
  },
  {
   "cell_type": "code",
   "execution_count": null,
   "metadata": {
    "execution": {
     "iopub.execute_input": "2022-12-21T19:12:23.305747Z",
     "iopub.status.busy": "2022-12-21T19:12:23.305022Z",
     "iopub.status.idle": "2022-12-21T19:12:24.112402Z",
     "shell.execute_reply": "2022-12-21T19:12:24.112880Z"
    }
   },
   "outputs": [],
   "source": [
    "viral_burden_contributes_progeny = (\n",
    "    p9.ggplot((viral_barcode_freqs\n",
    "               [['cell_barcode', 'contributes_progeny', 'source', 'frac_viral_UMIs']]\n",
    "               .drop_duplicates()),\n",
    "              p9.aes(x='factor(contributes_progeny)',\n",
    "                     y='frac_viral_UMIs',\n",
    "                     fill='factor(contributes_progeny)')) +\n",
    "    p9.geom_boxplot() +\n",
    "    p9.facet_grid('~source') +\n",
    "    p9.ggtitle('Infected cells with valid viral barcode detected\\n'\n",
    "               'contributes any progeny\\n'\n",
    "               f'{expt}') +\n",
    "    p9.scale_y_log10() +\n",
    "    p9.theme(figure_size=(3*viral_barcode_freqs['source'].nunique(),\n",
    "                          3),\n",
    "                plot_title=p9.element_text(size=9),\n",
    "                axis_title=p9.element_text(size=9),\n",
    "                axis_text_x=p9.element_text(rotation=45),\n",
    "                legend_title=p9.element_text(size=9),\n",
    "                legend_title_align='center') +\n",
    "    p9.scale_fill_manual(CBPALETTE[0:]))\n",
    "display(viral_burden_contributes_progeny)"
   ]
  },
  {
   "cell_type": "markdown",
   "metadata": {},
   "source": [
    "Bin on cells with all 8 genes:"
   ]
  },
  {
   "cell_type": "code",
   "execution_count": null,
   "metadata": {
    "execution": {
     "iopub.execute_input": "2022-12-21T19:12:24.115334Z",
     "iopub.status.busy": "2022-12-21T19:12:24.114630Z",
     "iopub.status.idle": "2022-12-21T19:12:24.695813Z",
     "shell.execute_reply": "2022-12-21T19:12:24.696277Z"
    }
   },
   "outputs": [],
   "source": [
    "viral_burden_contributes_progeny = (\n",
    "    p9.ggplot((viral_barcode_freqs.query('n_viral_genes == 8')\n",
    "               [['cell_barcode', 'contributes_progeny', 'source', 'frac_viral_UMIs']]\n",
    "               .drop_duplicates()),\n",
    "              p9.aes(x='factor(contributes_progeny)',\n",
    "                     y='frac_viral_UMIs',\n",
    "                     fill='factor(contributes_progeny)')) +\n",
    "    p9.geom_boxplot() +\n",
    "    p9.facet_grid('~source') +\n",
    "    p9.ggtitle('Infected cells with 8 viral genes\\n'\n",
    "               'contributes any progeny\\n'\n",
    "               f'{expt}') +\n",
    "    p9.scale_y_log10() +\n",
    "    p9.theme(figure_size=(3*viral_barcode_freqs.query('n_viral_genes == 8')['source'].nunique(),\n",
    "                          3),\n",
    "                plot_title=p9.element_text(size=9),\n",
    "                axis_title=p9.element_text(size=9),\n",
    "                axis_text_x=p9.element_text(rotation=45),\n",
    "                legend_title=p9.element_text(size=9),\n",
    "                legend_title_align='center') +\n",
    "    p9.scale_fill_manual(CBPALETTE[0:]))\n",
    "display(viral_burden_contributes_progeny)"
   ]
  },
  {
   "cell_type": "markdown",
   "metadata": {},
   "source": [
    "## Output"
   ]
  },
  {
   "cell_type": "markdown",
   "metadata": {},
   "source": [
    "Save output figure"
   ]
  },
  {
   "cell_type": "code",
   "execution_count": null,
   "metadata": {
    "execution": {
     "iopub.execute_input": "2022-12-21T19:12:24.698737Z",
     "iopub.status.busy": "2022-12-21T19:12:24.698045Z",
     "iopub.status.idle": "2022-12-21T19:12:24.982942Z",
     "shell.execute_reply": "2022-12-21T19:12:24.983377Z"
    }
   },
   "outputs": [],
   "source": [
    "# save plot\n",
    "print(f\"Saving plot to {plot}\")\n",
    "p9.ggsave(plot=contributes_progeny_by_cell, filename=plot, verbose=False)"
   ]
  },
  {
   "cell_type": "markdown",
   "metadata": {},
   "source": [
    "Export whether each infected cell contributes viral progeny for each source and barcoded gene:"
   ]
  },
  {
   "cell_type": "code",
   "execution_count": null,
   "metadata": {
    "execution": {
     "iopub.execute_input": "2022-12-21T19:12:24.985687Z",
     "iopub.status.busy": "2022-12-21T19:12:24.984994Z",
     "iopub.status.idle": "2022-12-21T19:12:25.005308Z",
     "shell.execute_reply": "2022-12-21T19:12:25.005816Z"
    }
   },
   "outputs": [],
   "source": [
    "output_df = (\n",
    "    viral_barcode_freqs[['cell_barcode', \n",
    "                         'source',\n",
    "                         'max_progeny_freq',\n",
    "                         'contributes_progeny']]\n",
    "    .drop_duplicates())\n",
    "\n",
    "output_df.to_csv(contributes_progeny_by_cell_csv, index=False)"
   ]
  },
  {
   "cell_type": "code",
   "execution_count": null,
   "metadata": {},
   "outputs": [],
   "source": []
  }
 ],
 "metadata": {
  "kernelspec": {
   "display_name": "Python 3",
   "language": "python",
   "name": "python3"
  },
  "language_info": {
   "codemirror_mode": {
    "name": "ipython",
    "version": 3
   },
   "file_extension": ".py",
   "mimetype": "text/x-python",
   "name": "python",
   "nbconvert_exporter": "python",
   "pygments_lexer": "ipython3",
   "version": "3.8.6"
  }
 },
 "nbformat": 4,
 "nbformat_minor": 4
}
