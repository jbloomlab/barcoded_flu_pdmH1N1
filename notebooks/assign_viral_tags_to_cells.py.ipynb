{
 "cells": [
  {
   "cell_type": "markdown",
   "metadata": {},
   "source": [
    "# Call cellular infection status and viral tag assignment for infected cells\n",
    "This Python Jupyter notebook uses the viral tags to determine which cells were infected, and the tag variant of the infecting virus for infected cells.\n",
    "\n",
    "Import Python modules:"
   ]
  },
  {
   "cell_type": "code",
   "execution_count": null,
   "metadata": {},
   "outputs": [],
   "source": [
    "import anndata\n",
    "\n",
    "from dms_variants.constants import CBPALETTE\n",
    "\n",
    "import kneed\n",
    "\n",
    "import matplotlib.pyplot as plt\n",
    "\n",
    "import numpy\n",
    "\n",
    "import pandas as pd\n",
    "\n",
    "import scanpy"
   ]
  },
  {
   "cell_type": "markdown",
   "metadata": {},
   "source": [
    "Get `snakemake` variables [as described here](https://snakemake.readthedocs.io/en/stable/snakefiles/rules.html#jupyter-notebook-integration):"
   ]
  },
  {
   "cell_type": "code",
   "execution_count": null,
   "metadata": {},
   "outputs": [],
   "source": [
    "viral_tag_by_cell_csv = snakemake.input.viral_tag_by_cell_csv\n",
    "matrix = snakemake.input.matrix\n",
    "features = snakemake.input.features\n",
    "cell_barcodes = snakemake.input.cell_barcodes\n",
    "cell_annotations = snakemake.output.cell_annotations\n",
    "plot = snakemake.output.plot\n",
    "viral_genes = snakemake.params.viral_genes\n",
    "viral_tags = snakemake.params.viral_tags\n",
    "expt = snakemake.wildcards.expt"
   ]
  },
  {
   "cell_type": "markdown",
   "metadata": {},
   "source": [
    "This notebook assumes that there are exactly two viral tags, code does not work otherwise:"
   ]
  },
  {
   "cell_type": "code",
   "execution_count": null,
   "metadata": {},
   "outputs": [],
   "source": [
    "if len(viral_tags) != 2:\n",
    "    raise ValueError('code assumes exactly two viral tags')"
   ]
  },
  {
   "cell_type": "markdown",
   "metadata": {},
   "source": [
    "Read the cell-gene matrix into an [AnnData](https://anndata.readthedocs.io/) object:"
   ]
  },
  {
   "cell_type": "code",
   "execution_count": null,
   "metadata": {},
   "outputs": [],
   "source": [
    "adata = scanpy.read_mtx(matrix)\n",
    "adata.var = pd.read_csv(cell_barcodes,\n",
    "                        names=['cell_barcode'])\n",
    "adata.obs = pd.read_csv(features,\n",
    "                        sep='\\t',\n",
    "                        names=['ensemble_id', 'gene', 'feature_type'])\n",
    "\n",
    "print(f\"Read cell-gene matrix of {adata.n_vars} cells and {adata.n_obs} genes\")\n",
    "\n",
    "assert set(viral_genes).issubset(set(adata.obs['gene'])), 'cell-gene matrix missing viral genes'"
   ]
  },
  {
   "cell_type": "markdown",
   "metadata": {},
   "source": [
    "Now get for each cell:\n",
    " - total UMI corrected reads\n",
    " - UMI corrected viral and cellular\n",
    " - fraction of UMIs that are viral and cellular"
   ]
  },
  {
   "cell_type": "code",
   "execution_count": null,
   "metadata": {},
   "outputs": [],
   "source": [
    "umi_counts = (\n",
    "    adata.var\n",
    "    .assign(total_UMIs=numpy.sum(adata.X, axis=0).A1.astype(int),\n",
    "            viral_UMIs=numpy.sum(adata[adata.obs['gene'].isin(viral_genes),].X,\n",
    "                                 axis=0).A1.astype(int),\n",
    "            cellular_UMIs=numpy.sum(adata[~adata.obs['gene'].isin(viral_genes),].X,\n",
    "                                    axis=0).A1.astype(int),\n",
    "            frac_viral_UMIs=lambda x: x['viral_UMIs'] / x['total_UMIs'],\n",
    "            frac_cellular_UMIs=lambda x: x['cellular_UMIs'] / x['total_UMIs'],\n",
    "            )\n",
    "    )"
   ]
  },
  {
   "cell_type": "markdown",
   "metadata": {},
   "source": [
    "Now we make some plots showing the amount of total and viral UMIs per cell.\n",
    "We are going to eventually make a merged plot here, so we create a multi-axis subplots figure and then just start adding plots to it as we go through this notebook:"
   ]
  },
  {
   "cell_type": "code",
   "execution_count": null,
   "metadata": {},
   "outputs": [],
   "source": [
    "fig, axes = plt.subplots(ncols=4,\n",
    "                         nrows=2,\n",
    "                         figsize=(14, 6)\n",
    "                         )\n",
    "fig.suptitle(f\"Calling viral tags and infection status for {expt}\", size=16)\n",
    "i_axis = 0\n",
    "\n",
    "# distribution of total and viral UMIs per cell\n",
    "for umi_type, ax in zip(['total', 'viral'], axes.ravel()):\n",
    "    _ = umi_counts.plot(y=f\"{umi_type}_UMIs\",\n",
    "                        kind='hist',\n",
    "                        bins=25,\n",
    "                        ax=ax,\n",
    "                        legend=False,\n",
    "                        color=CBPALETTE[0],\n",
    "                        )\n",
    "    _ = ax.set_xlabel(f\"{umi_type} UMIs per cell\")\n",
    "    _ = ax.set_ylabel('number of cells')\n",
    "    _ = ax.set_title(f\"{umi_type} UMIs per cell\")\n",
    "    i_axis += 1\n",
    "    \n",
    "# fraction of UMIs that are viral\n",
    "ax = umi_counts.plot(y='frac_viral_UMIs',\n",
    "                     kind='hist',\n",
    "                     bins=25,\n",
    "                     ax=axes.ravel()[i_axis],\n",
    "                     legend=False,\n",
    "                     color=CBPALETTE[0],\n",
    "                     )\n",
    "_ = ax.set_xlabel('fraction of UMIs from virus')\n",
    "_ = ax.set_ylabel('number of cells')\n",
    "_ = ax.set_title('fraction of UMIs from virus')\n",
    "i_axis += 1\n",
    "\n",
    "# correlation of viral and cellular UMIs\n",
    "ax = umi_counts.plot(x='cellular_UMIs',\n",
    "                     y='viral_UMIs',\n",
    "                     kind='scatter',\n",
    "                     ax=axes.ravel()[i_axis],\n",
    "                     alpha=0.1,\n",
    "                     legend=False,\n",
    "                     color=CBPALETTE[0],\n",
    "                     )\n",
    "_ = ax.set_xlabel('cellular UMIs per cell')\n",
    "_ = ax.set_ylabel('viral UMIs per cell')\n",
    "_ = ax.set_title('viral vs cellular UMIs per cell')\n",
    "i_axis += 1\n",
    "\n",
    "# show figure\n",
    "fig.tight_layout()"
   ]
  },
  {
   "cell_type": "markdown",
   "metadata": {},
   "source": [
    "Combine UMI counts with counts of viral tags, indentifying the \"major\" (more abundant) and \"minor\" (less abundant) viral tag for each cell, and also computing their ratio to total UMIs in each cell."
   ]
  },
  {
   "cell_type": "code",
   "execution_count": null,
   "metadata": {},
   "outputs": [],
   "source": [
    "# read tag counts in tidy form\n",
    "tidy_tag_counts = pd.read_csv(viral_tag_by_cell_csv)\n",
    "\n",
    "# check tag count values\n",
    "assert set(tidy_tag_counts['tag_variant']).issubset(set(viral_tags)), 'unrecognized viral tag'\n",
    "assert set(tidy_tag_counts['cell_barcode']).issubset(set(umi_counts['cell_barcode'])), 'unrecognized cell barcode'\n",
    "assert set(tidy_tag_counts['gene']).issubset(set(viral_genes)), 'unrecognized viral gene'\n",
    "\n",
    "# for each cell barcode, identify more abundant (major) and less abundant (minor) tag and get counts\n",
    "tag_counts = (\n",
    "    tidy_tag_counts\n",
    "    # sum counts across viral genes\n",
    "    .groupby(['cell_barcode', 'tag_variant'], as_index=False)\n",
    "    .aggregate(count=pd.NamedAgg('count', 'sum'))\n",
    "    # fill counts of 0 for cells missing any counts for a tag\n",
    "    .merge(pd.concat([pd.DataFrame({'cell_barcode': umi_counts['cell_barcode'],\n",
    "                         'tag_variant': viral_tag})\n",
    "                      for viral_tag in viral_tags]),\n",
    "           how='right', on=['cell_barcode', 'tag_variant'])\n",
    "    .assign(count=lambda x: x['count'].fillna(0).astype(int))\n",
    "    # get major and minor viral tag and their counts\n",
    "    .sort_values('count', ascending=False)\n",
    "    .groupby('cell_barcode', as_index=False)\n",
    "    .aggregate(viral_tag_counts_total=pd.NamedAgg('count', 'sum'),\n",
    "               viral_tag_major=pd.NamedAgg('tag_variant', 'first'),\n",
    "               viral_tag_counts_major=pd.NamedAgg('count', 'max'),\n",
    "               viral_tag_minor=pd.NamedAgg('tag_variant', 'last'),\n",
    "               viral_tag_counts_minor=pd.NamedAgg('count', 'min')\n",
    "               )\n",
    "    # add the UMI counts\n",
    "    .merge(umi_counts, on='cell_barcode', how='outer')\n",
    "    # compute ratio of viral tag to total UMIs\n",
    "    .assign(viral_tag_major_to_total_UMI=lambda x: x['viral_tag_counts_major'] / x['total_UMIs'],\n",
    "            viral_tag_minor_to_total_UMI=lambda x: x['viral_tag_counts_minor'] / x['total_UMIs'])\n",
    "    )\n",
    "\n",
    "assert tag_counts.notnull().all().all()"
   ]
  },
  {
   "cell_type": "markdown",
   "metadata": {},
   "source": [
    "Plot the ratio of minor and major tags to UMIs for each cell, and also the distribution of fraction of UMIs from virus for cells stratified by which viral tag variant is the major one:"
   ]
  },
  {
   "cell_type": "code",
   "execution_count": null,
   "metadata": {},
   "outputs": [],
   "source": [
    "# correlation of minor and major tag counts to total UMI ratios\n",
    "ax = tag_counts.plot(x='viral_tag_major_to_total_UMI',\n",
    "                     y='viral_tag_minor_to_total_UMI',\n",
    "                     kind='scatter',\n",
    "                     ax=axes.ravel()[i_axis],\n",
    "                     alpha=0.1,\n",
    "                     c=CBPALETTE[0],\n",
    "                     legend=False,\n",
    "                     )\n",
    "_ = ax.set_xlabel('major tag counts / total UMIs')\n",
    "_ = ax.set_ylabel('minor tag counts / total UMIs')\n",
    "_ = ax.set_title('major and minor viral tags per cell')\n",
    "i_axis += 1\n",
    "\n",
    "# fraction of UMIs that are viral stratified by which is major tag variant\n",
    "tag_to_color = dict(zip(viral_tags, CBPALETTE[1:]))\n",
    "for tag in viral_tags:\n",
    "    ax = tag_counts.query('viral_tag_major == @tag').plot(\n",
    "                    y='frac_viral_UMIs',\n",
    "                    kind='hist',\n",
    "                    bins=25,\n",
    "                    alpha=0.5,\n",
    "                    color=tag_to_color[tag],\n",
    "                    ax=axes.ravel()[i_axis],\n",
    "                    legend=False,\n",
    "                    )\n",
    "ax.legend(labels=viral_tags, title='major viral tag')\n",
    "_ = ax.set_xlabel('fraction of UMIs from virus')\n",
    "_ = ax.set_ylabel('number of cells')\n",
    "_ = ax.set_title('fraction UMIs from virus by major tag')\n",
    "i_axis += 1\n",
    "\n",
    "# display figure\n",
    "fig.tight_layout()\n",
    "display(fig)"
   ]
  },
  {
   "cell_type": "markdown",
   "metadata": {},
   "source": [
    "Now we identify the cells that are clearly **not** infected with each viral tag variant.\n",
    "The logic is as follows: the cells were independently infected with the two tag variants, and the only mixed right before sequencing.\n",
    "So even in infected cells, the \"minor\" tag variant should always be at the background level expected of uninfected cells.\n",
    "The only exception is for doublets of cells infected with the two tag variants.\n",
    "Therefore, we divide cells by which tag variant is the \"minor\" tag, and then make a knee plot showing the cell rank versus the counts of that tag normalized by total UMIs.\n",
    "This should be a near flat line except for an upward \"knee\" near the end for doublets of cells infected with the two tag variants.\n",
    "We use the [kneed](https://kneed.readthedocs.io/) package to identify this knee, and  then plot the knee plots."
   ]
  },
  {
   "cell_type": "code",
   "execution_count": null,
   "metadata": {},
   "outputs": [],
   "source": [
    "# identify the \"knee\" for each minor viral tag variant\n",
    "knee = {}\n",
    "knee_y = {}\n",
    "for tag, ax in zip(viral_tags, axes.ravel()[i_axis: ]):\n",
    "    \n",
    "    # identify knee\n",
    "    df = (tag_counts\n",
    "          .query('viral_tag_minor == @tag')\n",
    "          .sort_values('viral_tag_minor_to_total_UMI')\n",
    "          .assign(cell_rank=lambda x: x['viral_tag_minor_to_total_UMI'].rank(method='first'))\n",
    "          )\n",
    "    kl = kneed.KneeLocator(x=df['cell_rank'].tolist(),\n",
    "                           y=df['viral_tag_minor_to_total_UMI'].tolist(),\n",
    "                           curve='convex',\n",
    "                           direction='increasing',\n",
    "                           S=3,\n",
    "                           )\n",
    "    knee[tag] = kl.knee\n",
    "    knee_y[tag] = kl.knee_y\n",
    "    \n",
    "    # plot cells above / below knee\n",
    "    ax = df.assign(color=lambda x: (x['viral_tag_minor_to_total_UMI'] < knee_y[tag])\n",
    "                                    .map({True: CBPALETTE[3], False: CBPALETTE[4]})\n",
    "                   ).plot(\n",
    "                x='cell_rank',\n",
    "                y='viral_tag_minor_to_total_UMI',\n",
    "                kind='scatter',\n",
    "                s=1.5,\n",
    "                c='color',\n",
    "                ax=ax)\n",
    "    _ = ax.set_xlabel('cell rank')\n",
    "    _ = ax.set_ylabel('minor tag / total UMIs')\n",
    "    n_below = (df['viral_tag_minor_to_total_UMI'] < knee_y[tag]).sum()\n",
    "    n_above = len(df) - n_below\n",
    "    _ = ax.set_title(f\"{tag} minor tag knee plot:\\n{n_below} below & {n_above} above knee\")\n",
    "    i_axis += 1\n",
    "    ax.axvline(x=knee[tag], color=CBPALETTE[0], alpha=0.5, linestyle='--')\n",
    "    \n",
    "# display figure\n",
    "fig.tight_layout()\n",
    "display(fig)\n",
    "   \n",
    "# annotate tag counts by whether below knee (uninfected with that tag)\n",
    "tag_counts = (\n",
    "    tag_counts\n",
    "    .assign(viral_tag_minor_below_knee=lambda x: x.apply(lambda r: (r['viral_tag_minor_to_total_UMI'] <\n",
    "                                                                    knee_y[r['viral_tag_minor']]),\n",
    "                                                         axis=1))\n",
    "    )"
   ]
  },
  {
   "cell_type": "markdown",
   "metadata": {},
   "source": [
    "Save the output CSV and plot:"
   ]
  },
  {
   "cell_type": "code",
   "execution_count": null,
   "metadata": {},
   "outputs": [],
   "source": [
    "assert (tag_counts['cell_barcode'] == adata.var['cell_barcode']).all()\n",
    "\n",
    "print(f\"Saving viral-tag annotated cell barcodes to {cell_annotations}\")\n",
    "tag_counts.to_csv(cell_annotations,\n",
    "                  compression='gzip',\n",
    "                  index=False)\n",
    "\n",
    "print(f\"Saving plots to {plot}\")\n",
    "fig.savefig(plot)"
   ]
  }
 ],
 "metadata": {
  "kernelspec": {
   "display_name": "Python 3",
   "language": "python",
   "name": "python3"
  },
  "language_info": {
   "codemirror_mode": {
    "name": "ipython",
    "version": 3
   },
   "file_extension": ".py",
   "mimetype": "text/x-python",
   "name": "python",
   "nbconvert_exporter": "python",
   "pygments_lexer": "ipython3",
   "version": "3.8.6"
  }
 },
 "nbformat": 4,
 "nbformat_minor": 4
}
