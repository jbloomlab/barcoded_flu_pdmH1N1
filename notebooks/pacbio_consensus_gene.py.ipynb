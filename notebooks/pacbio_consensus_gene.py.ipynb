{
 "cells": [
  {
   "cell_type": "markdown",
   "metadata": {},
   "source": [
    "# Pacbio consensus UMI\n",
    "This notebook calls consensus muations on PacBio data grouped by by cell_barcode, gene, and UMI. Then, it exports a processed CSV with the following columns:\n",
    "* cell_barcode\n",
    "* gene\n",
    "* UMI\n",
    "* mutation\n",
    "* mutation_CCS"
   ]
  },
  {
   "cell_type": "code",
   "execution_count": null,
   "metadata": {
    "execution": {
     "iopub.execute_input": "2022-05-25T18:46:56.473383Z",
     "iopub.status.busy": "2022-05-25T18:46:56.472391Z",
     "iopub.status.idle": "2022-05-25T18:47:19.490544Z",
     "shell.execute_reply": "2022-05-25T18:47:19.491476Z",
     "shell.execute_reply.started": "2022-05-22T03:52:29.954805Z"
    }
   },
   "outputs": [],
   "source": [
    "import Bio.Seq\n",
    "import Bio.SeqIO\n",
    "\n",
    "from IPython.display import display\n",
    "\n",
    "from dms_variants.constants import CBPALETTE\n",
    "\n",
    "import numpy as np\n",
    "\n",
    "import pandas as pd\n",
    "\n",
    "import plotnine as p9"
   ]
  },
  {
   "cell_type": "code",
   "execution_count": null,
   "metadata": {
    "execution": {
     "iopub.execute_input": "2022-05-25T18:47:19.495697Z",
     "iopub.status.busy": "2022-05-25T18:47:19.494440Z",
     "iopub.status.idle": "2022-05-25T18:47:19.498994Z",
     "shell.execute_reply": "2022-05-25T18:47:19.499550Z",
     "shell.execute_reply.started": "2022-05-22T03:48:20.572647Z"
    }
   },
   "outputs": [],
   "source": [
    "consensus_UMI_csv = snakemake.input.consensus_UMI_csv\n",
    "viral_genbank = snakemake.input.viral_genbank\n",
    "expt = snakemake.wildcards.expt\n",
    "consensus_gene_csv = snakemake.output.consensus_gene_csv"
   ]
  },
  {
   "cell_type": "markdown",
   "metadata": {},
   "source": [
    "Style parameters:"
   ]
  },
  {
   "cell_type": "code",
   "execution_count": null,
   "metadata": {
    "execution": {
     "iopub.execute_input": "2022-05-25T18:47:19.502412Z",
     "iopub.status.busy": "2022-05-25T18:47:19.501533Z",
     "iopub.status.idle": "2022-05-25T18:47:19.506377Z",
     "shell.execute_reply": "2022-05-25T18:47:19.506929Z",
     "shell.execute_reply.started": "2022-05-22T03:36:41.938261Z"
    }
   },
   "outputs": [],
   "source": [
    "p9.theme_set(p9.theme_classic())"
   ]
  },
  {
   "cell_type": "markdown",
   "metadata": {},
   "source": [
    "## Load Data"
   ]
  },
  {
   "cell_type": "code",
   "execution_count": null,
   "metadata": {
    "execution": {
     "iopub.execute_input": "2022-05-25T18:47:19.509722Z",
     "iopub.status.busy": "2022-05-25T18:47:19.508876Z",
     "iopub.status.idle": "2022-05-25T18:47:20.262651Z",
     "shell.execute_reply": "2022-05-25T18:47:20.263330Z",
     "shell.execute_reply.started": "2022-05-22T03:36:41.944778Z"
    }
   },
   "outputs": [],
   "source": [
    "mutations = pd.read_csv(consensus_UMI_csv)\n",
    "mutations['mutation'] = mutations['mutation'].fillna('None')\n",
    "display(mutations)"
   ]
  },
  {
   "cell_type": "markdown",
   "metadata": {},
   "source": [
    "## Process Data"
   ]
  },
  {
   "cell_type": "markdown",
   "metadata": {},
   "source": [
    "Generate list of all cell_barcode-gene:"
   ]
  },
  {
   "cell_type": "code",
   "execution_count": null,
   "metadata": {
    "execution": {
     "iopub.execute_input": "2022-05-25T18:47:20.266363Z",
     "iopub.status.busy": "2022-05-25T18:47:20.265531Z",
     "iopub.status.idle": "2022-05-25T18:47:20.375949Z",
     "shell.execute_reply": "2022-05-25T18:47:20.376427Z",
     "shell.execute_reply.started": "2022-05-22T03:36:42.886126Z"
    }
   },
   "outputs": [],
   "source": [
    "cb_gene = (\n",
    "    mutations\n",
    "    [['cell_barcode',\n",
    "      'gene']]\n",
    "    .drop_duplicates()\n",
    ")\n",
    "display(cb_gene)"
   ]
  },
  {
   "cell_type": "markdown",
   "metadata": {},
   "source": [
    "Count total UMI for cell_barcode-gene:"
   ]
  },
  {
   "cell_type": "code",
   "execution_count": null,
   "metadata": {
    "execution": {
     "iopub.execute_input": "2022-05-25T18:47:20.378753Z",
     "iopub.status.busy": "2022-05-25T18:47:20.378082Z",
     "iopub.status.idle": "2022-05-25T18:47:20.675674Z",
     "shell.execute_reply": "2022-05-25T18:47:20.676126Z",
     "shell.execute_reply.started": "2022-05-22T03:36:43.028056Z"
    }
   },
   "outputs": [],
   "source": [
    "total_UMI_df = (\n",
    "    mutations\n",
    "    .groupby(['cell_barcode', 'gene'])\n",
    "    ['UMI']\n",
    "    .nunique()\n",
    "    .reset_index()\n",
    "    .rename(columns={'UMI': 'total_UMI'}))\n",
    "display(total_UMI_df)"
   ]
  },
  {
   "cell_type": "markdown",
   "metadata": {},
   "source": [
    "Exclude WT UMI:"
   ]
  },
  {
   "cell_type": "code",
   "execution_count": null,
   "metadata": {
    "execution": {
     "iopub.execute_input": "2022-05-25T18:47:20.678404Z",
     "iopub.status.busy": "2022-05-25T18:47:20.677727Z",
     "iopub.status.idle": "2022-05-25T18:47:20.769586Z",
     "shell.execute_reply": "2022-05-25T18:47:20.770097Z",
     "shell.execute_reply.started": "2022-05-22T03:36:43.376664Z"
    }
   },
   "outputs": [],
   "source": [
    "mutations_noWT = mutations.query('mutation != \"WT\"')\n",
    "\n",
    "display(mutations_noWT)"
   ]
  },
  {
   "cell_type": "markdown",
   "metadata": {},
   "source": [
    "Count number of UMI supporting each mutation for cell_barcode-gene:"
   ]
  },
  {
   "cell_type": "code",
   "execution_count": null,
   "metadata": {
    "execution": {
     "iopub.execute_input": "2022-05-25T18:47:20.772498Z",
     "iopub.status.busy": "2022-05-25T18:47:20.771790Z",
     "iopub.status.idle": "2022-05-25T18:47:21.074039Z",
     "shell.execute_reply": "2022-05-25T18:47:21.074598Z",
     "shell.execute_reply.started": "2022-05-22T03:36:43.531565Z"
    }
   },
   "outputs": [],
   "source": [
    "mutation_UMI_df = (\n",
    "    mutations_noWT\n",
    "    .groupby(['cell_barcode', 'gene', 'mutation'])\n",
    "    ['UMI']\n",
    "    .nunique()\n",
    "    .reset_index()\n",
    "    .rename(columns={'UMI': 'mutation_UMI'}))\n",
    "display(mutation_UMI_df)"
   ]
  },
  {
   "cell_type": "markdown",
   "metadata": {},
   "source": [
    "Bring in total UMI counts and calculate fraction of total UMI with each mutation:"
   ]
  },
  {
   "cell_type": "code",
   "execution_count": null,
   "metadata": {
    "execution": {
     "iopub.execute_input": "2022-05-25T18:47:21.077460Z",
     "iopub.status.busy": "2022-05-25T18:47:21.076621Z",
     "iopub.status.idle": "2022-05-25T18:47:21.142114Z",
     "shell.execute_reply": "2022-05-25T18:47:21.142717Z",
     "shell.execute_reply.started": "2022-05-22T03:36:43.846949Z"
    }
   },
   "outputs": [],
   "source": [
    "mutation_frac_df = pd.merge(\n",
    "    left=mutation_UMI_df,\n",
    "    right=total_UMI_df,\n",
    "    on=['cell_barcode', 'gene'],\n",
    "    how='left',\n",
    "    validate='many_to_one')\n",
    "mutation_frac_df['frac_UMI'] = (\n",
    "    mutation_frac_df['mutation_UMI'] /\n",
    "    mutation_frac_df['total_UMI']\n",
    ")\n",
    "mutation_frac_df['support'] = (\n",
    "    mutation_frac_df['mutation_UMI'].astype(str)+'/'+\n",
    "    mutation_frac_df['total_UMI'].astype(str)\n",
    ")\n",
    "display(mutation_frac_df)"
   ]
  },
  {
   "cell_type": "markdown",
   "metadata": {},
   "source": [
    "**Call Consensus Mutations**  \n",
    "Label mutation as consensus if it is found in more than half of UMIs and at least 2 UMIs. These correspond to `frac_UMI > 0.5` and `mutation_UMI >= 2` in our dataframe."
   ]
  },
  {
   "cell_type": "code",
   "execution_count": null,
   "metadata": {
    "execution": {
     "iopub.execute_input": "2022-05-25T18:47:21.145826Z",
     "iopub.status.busy": "2022-05-25T18:47:21.144929Z",
     "iopub.status.idle": "2022-05-25T18:47:21.160394Z",
     "shell.execute_reply": "2022-05-25T18:47:21.160839Z",
     "shell.execute_reply.started": "2022-05-22T03:36:43.963397Z"
    }
   },
   "outputs": [],
   "source": [
    "mutation_frac_df['consensus'] = (\n",
    "    (mutation_frac_df['frac_UMI'] > 0.5) & \n",
    "    (mutation_frac_df['mutation_UMI'] >= 2))\n",
    "display(mutation_frac_df)"
   ]
  },
  {
   "cell_type": "markdown",
   "metadata": {},
   "source": [
    "Plot outcome of consensus calling"
   ]
  },
  {
   "cell_type": "code",
   "execution_count": null,
   "metadata": {
    "execution": {
     "iopub.execute_input": "2022-05-25T18:47:21.163147Z",
     "iopub.status.busy": "2022-05-25T18:47:21.162443Z",
     "iopub.status.idle": "2022-05-25T18:47:22.181942Z",
     "shell.execute_reply": "2022-05-25T18:47:22.182429Z",
     "shell.execute_reply.started": "2022-05-22T03:36:43.981318Z"
    }
   },
   "outputs": [],
   "source": [
    "mutation_frac_histo = (\n",
    "    p9.ggplot(\n",
    "        (mutation_frac_df\n",
    "         [['cell_barcode', 'gene', 'mutation', 'frac_UMI', 'consensus']]\n",
    "         .drop_duplicates()),\n",
    "         p9.aes(x='frac_UMI',\n",
    "                fill='consensus')) +\n",
    "    p9.geom_histogram(bins=20) +\n",
    "    p9.ggtitle('Mutation fractions\\n'\n",
    "               '(excludes WT UMI)\\n'\n",
    "               f'{expt}') +\n",
    "    p9.labs(x='fraction of total UMI for cell_barcode-gene') +\n",
    "    p9.theme(figure_size=(4, 3),\n",
    "             plot_title=p9.element_text(size=9),\n",
    "             axis_title=p9.element_text(size=9),\n",
    "             legend_title=p9.element_text(size=9),\n",
    "             legend_title_align='center') +\n",
    "    p9.scale_fill_manual([CBPALETTE[1], CBPALETTE[0]]))\n",
    "\n",
    "display(mutation_frac_histo)"
   ]
  },
  {
   "cell_type": "markdown",
   "metadata": {},
   "source": [
    "## Merge mutatant and WT UMIs\n",
    "Merge data into single dataframe, `gene_mutations`.  \n",
    "Steps:  \n",
    "1. Filter `mutation_frac_df` for only consensus mutations\n",
    "2. Merge with `cb_gene` dataframe so every `cell_barcode-gene` has at least one row.\n",
    "3. Fill `mutation` column with \"WT\" if a `cell_barcode-gene` does not have any consensus mutations. "
   ]
  },
  {
   "cell_type": "code",
   "execution_count": null,
   "metadata": {
    "execution": {
     "iopub.execute_input": "2022-05-25T18:47:22.185023Z",
     "iopub.status.busy": "2022-05-25T18:47:22.184315Z",
     "iopub.status.idle": "2022-05-25T18:47:22.210814Z",
     "shell.execute_reply": "2022-05-25T18:47:22.211283Z",
     "shell.execute_reply.started": "2022-05-22T03:36:45.453104Z"
    }
   },
   "outputs": [],
   "source": [
    "# Merge in consesnsus mutations\n",
    "gene_mutations = pd.merge(\n",
    "    left=cb_gene,\n",
    "    right=mutation_frac_df.query('consensus == True'),\n",
    "    on=['cell_barcode', 'gene'],\n",
    "    how='left',\n",
    "    validate='one_to_many'\n",
    ")\n",
    "\n",
    "# Fill mutation with WT if no consensus mutation\n",
    "gene_mutations['mutation'] = (\n",
    "    gene_mutations['mutation']\n",
    "    .fillna('WT')\n",
    ")\n",
    "\n",
    "display(gene_mutations)"
   ]
  },
  {
   "cell_type": "markdown",
   "metadata": {},
   "source": [
    "Check that every `cell_barcode-gene-UMI` is represented in final `UMI_mutations` dataframe."
   ]
  },
  {
   "cell_type": "code",
   "execution_count": null,
   "metadata": {
    "execution": {
     "iopub.execute_input": "2022-05-25T18:47:22.213798Z",
     "iopub.status.busy": "2022-05-25T18:47:22.212909Z",
     "iopub.status.idle": "2022-05-25T18:47:22.219029Z",
     "shell.execute_reply": "2022-05-25T18:47:22.219549Z",
     "shell.execute_reply.started": "2022-05-22T03:36:45.492150Z"
    }
   },
   "outputs": [],
   "source": [
    "assert len(gene_mutations[['cell_barcode', 'gene']].drop_duplicates()) == \\\n",
    "    len(cb_gene), \"Missing cell_barcode-gene from df\""
   ]
  },
  {
   "cell_type": "markdown",
   "metadata": {},
   "source": [
    "## Plot outcomes"
   ]
  },
  {
   "cell_type": "markdown",
   "metadata": {},
   "source": [
    "Plot distribution of total UMI per cell_barcode-gene:"
   ]
  },
  {
   "cell_type": "code",
   "execution_count": null,
   "metadata": {
    "execution": {
     "iopub.execute_input": "2022-05-25T18:47:22.222373Z",
     "iopub.status.busy": "2022-05-25T18:47:22.221548Z",
     "iopub.status.idle": "2022-05-25T18:47:22.461740Z",
     "shell.execute_reply": "2022-05-25T18:47:22.462216Z",
     "shell.execute_reply.started": "2022-05-22T03:36:45.501034Z"
    }
   },
   "outputs": [],
   "source": [
    "total_UMI_histo = (\n",
    "    p9.ggplot(\n",
    "        (total_UMI_df),\n",
    "         p9.aes(x='total_UMI')) +\n",
    "    p9.geom_histogram(bins=20) +\n",
    "    p9.ggtitle('n UMI per cell_barcode-gene-UMI\\n'\n",
    "               f'{expt}') +\n",
    "    p9.labs(x='n UMI',\n",
    "            y='n cell_barcode-gene') +\n",
    "    p9.theme(figure_size=(4, 3),\n",
    "             plot_title=p9.element_text(size=9),\n",
    "             axis_title=p9.element_text(size=9),\n",
    "             legend_title=p9.element_text(size=9),\n",
    "             legend_title_align='center'))\n",
    "\n",
    "display(total_UMI_histo)"
   ]
  },
  {
   "cell_type": "markdown",
   "metadata": {},
   "source": [
    "Plot distribution of UMI per mutation:"
   ]
  },
  {
   "cell_type": "code",
   "execution_count": null,
   "metadata": {
    "execution": {
     "iopub.execute_input": "2022-05-25T18:47:22.464657Z",
     "iopub.status.busy": "2022-05-25T18:47:22.463941Z",
     "iopub.status.idle": "2022-05-25T18:47:22.931947Z",
     "shell.execute_reply": "2022-05-25T18:47:22.932448Z",
     "shell.execute_reply.started": "2022-05-22T03:36:45.828140Z"
    }
   },
   "outputs": [],
   "source": [
    "mutation_UMI_histo = (\n",
    "    p9.ggplot(\n",
    "        (mutation_UMI_df\n",
    "         [['cell_barcode', 'gene', 'mutation', 'mutation_UMI']]\n",
    "         .drop_duplicates()),\n",
    "         p9.aes(x='mutation_UMI')) +\n",
    "    p9.geom_histogram(bins=20) +\n",
    "    p9.ggtitle('n UMI per mutation\\n'\n",
    "               '(excludes WT UMI)\\n'\n",
    "               f'{expt}') +\n",
    "    p9.labs(x='n UMI',\n",
    "            y='n cell_barcode-gene-mutation') +\n",
    "    p9.theme(figure_size=(4, 3),\n",
    "             plot_title=p9.element_text(size=9),\n",
    "             axis_title=p9.element_text(size=9),\n",
    "             legend_title=p9.element_text(size=9),\n",
    "             legend_title_align='center'))\n",
    "\n",
    "display(mutation_UMI_histo)"
   ]
  },
  {
   "cell_type": "markdown",
   "metadata": {},
   "source": [
    "Plot frac of UMI for each consensus mutation:"
   ]
  },
  {
   "cell_type": "code",
   "execution_count": null,
   "metadata": {
    "execution": {
     "iopub.execute_input": "2022-05-25T18:47:22.935261Z",
     "iopub.status.busy": "2022-05-25T18:47:22.934369Z",
     "iopub.status.idle": "2022-05-25T18:47:23.204630Z",
     "shell.execute_reply": "2022-05-25T18:47:23.205102Z",
     "shell.execute_reply.started": "2022-05-22T03:36:46.377896Z"
    }
   },
   "outputs": [],
   "source": [
    "consensus_mutations_histo = (\n",
    "    p9.ggplot(\n",
    "        (gene_mutations\n",
    "         [['cell_barcode', 'gene', 'mutation', 'frac_UMI']]\n",
    "         .drop_duplicates()),\n",
    "         p9.aes(x='frac_UMI')) +\n",
    "    p9.geom_histogram(bins=20) +\n",
    "    p9.ggtitle('Consensus mutation fractions\\n'\n",
    "               '(excludes WT genes)\\n'\n",
    "               f'{expt}') +\n",
    "    p9.labs(x='fraction of total UMI for cell_barcode-gene') +\n",
    "    p9.theme(figure_size=(4, 3),\n",
    "             plot_title=p9.element_text(size=9),\n",
    "             axis_title=p9.element_text(size=9),\n",
    "             legend_title=p9.element_text(size=9),\n",
    "             legend_title_align='center') +\n",
    "    p9.scale_color_manual([CBPALETTE[1], CBPALETTE[0]]))\n",
    "\n",
    "display(consensus_mutations_histo)"
   ]
  },
  {
   "cell_type": "markdown",
   "metadata": {},
   "source": [
    "## Organize output and annotate protein mutations \n",
    "Integrate mutations into genotype"
   ]
  },
  {
   "cell_type": "code",
   "execution_count": null,
   "metadata": {
    "execution": {
     "iopub.execute_input": "2022-05-25T18:47:23.207488Z",
     "iopub.status.busy": "2022-05-25T18:47:23.206794Z",
     "iopub.status.idle": "2022-05-25T18:47:23.353525Z",
     "shell.execute_reply": "2022-05-25T18:47:23.354078Z",
     "shell.execute_reply.started": "2022-05-22T03:36:46.713117Z"
    }
   },
   "outputs": [],
   "source": [
    "genotypes = (\n",
    "    gene_mutations\n",
    "    .groupby(['cell_barcode', 'gene'])\n",
    "    ['mutation', 'support']\n",
    "    .agg(list)\n",
    "    .reset_index()\n",
    "    .rename(columns={'mutation': 'consensus_mutations'})\n",
    ")\n",
    "genotypes['consensus_mutations'] = [' '.join(map(str, l)) for l in genotypes['consensus_mutations']]\n",
    "genotypes['support'] = [' '.join(map(str, l)) for l in genotypes['support']]\n",
    "\n",
    "display(genotypes)"
   ]
  },
  {
   "cell_type": "markdown",
   "metadata": {},
   "source": [
    "Bring in support information (total UMI per `cell_barcode-gene`):"
   ]
  },
  {
   "cell_type": "code",
   "execution_count": null,
   "metadata": {
    "execution": {
     "iopub.execute_input": "2022-05-25T18:47:23.356918Z",
     "iopub.status.busy": "2022-05-25T18:47:23.356093Z",
     "iopub.status.idle": "2022-05-25T18:47:23.371744Z",
     "shell.execute_reply": "2022-05-25T18:47:23.372174Z",
     "shell.execute_reply.started": "2022-05-22T03:36:46.892647Z"
    }
   },
   "outputs": [],
   "source": [
    "output_df = pd.merge(\n",
    "    left=genotypes,\n",
    "    right=total_UMI_df,\n",
    "    on=['cell_barcode', 'gene'],\n",
    "    how='left',\n",
    "    validate='one_to_one'\n",
    ")\n",
    "\n",
    "display(output_df)"
   ]
  },
  {
   "cell_type": "markdown",
   "metadata": {},
   "source": [
    "Annotate mutations as to synonymous / nonsynonymous:"
   ]
  },
  {
   "cell_type": "code",
   "execution_count": null,
   "metadata": {
    "execution": {
     "iopub.execute_input": "2022-05-25T18:47:23.374477Z",
     "iopub.status.busy": "2022-05-25T18:47:23.373773Z",
     "iopub.status.idle": "2022-05-25T18:47:23.995645Z",
     "shell.execute_reply": "2022-05-25T18:47:23.996115Z",
     "shell.execute_reply.started": "2022-05-22T03:58:19.974613Z"
    }
   },
   "outputs": [],
   "source": [
    "viral_cds = {\n",
    "    s.id: [f for f in s.features if f.type == \"CDS\"][0].extract(s.seq)\n",
    "    for s in Bio.SeqIO.parse(viral_genbank, \"genbank\")\n",
    "}\n",
    "\n",
    "def annotate_mutations(row):\n",
    "    gene = row[\"gene\"]\n",
    "    cds = viral_cds[gene]\n",
    "    prot = str(cds.translate())\n",
    "    muts = row[\"consensus_mutations\"]\n",
    "    if muts == \"WT\":\n",
    "        return muts\n",
    "    annotated_muts = []\n",
    "    for mut in muts.split():\n",
    "        if mut.startswith(\"ins\") or mut.startswith(\"del\"):\n",
    "            annotated_muts.append(mut)\n",
    "        else:\n",
    "            wt = mut[0]\n",
    "            i = int(mut[1: -1])\n",
    "            m = mut[-1]\n",
    "            if 1 <= i <= len(cds):\n",
    "                mut_cds = list(str(cds))\n",
    "                assert mut_cds[i - 1] == wt\n",
    "                mut_cds[i - 1] = m\n",
    "                mut_cds = Bio.Seq.Seq(\"\".join(mut_cds))\n",
    "                mut_prot = str(mut_cds.translate())\n",
    "                if prot == mut_prot:\n",
    "                    annotated_muts.append(f\"{mut}_synonymous\")\n",
    "                else:\n",
    "                    aamut = [\n",
    "                        f\"{x}{r}{y}\" for r, (x, y) in enumerate(zip(prot, mut_prot), start=1) if x != y\n",
    "                    ]\n",
    "                    assert len(aamut) == 1\n",
    "                    aamut = aamut[0]\n",
    "                    annotated_muts.append(f\"{mut}_{aamut}\")\n",
    "            else:\n",
    "                annotated_muts.append(f\"{mut}_noncoding\")\n",
    "    return \" \".join(annotated_muts)\n",
    "\n",
    "\n",
    "output_df = output_df.assign(\n",
    "    consensus_mutations_annotated=lambda x: x.apply(annotate_mutations, axis=1)\n",
    ")\n",
    "\n",
    "output_df"
   ]
  },
  {
   "cell_type": "markdown",
   "metadata": {},
   "source": [
    "Double check that every cell_barcod-gene is represented in final `output_df`"
   ]
  },
  {
   "cell_type": "code",
   "execution_count": null,
   "metadata": {
    "execution": {
     "iopub.execute_input": "2022-05-25T18:47:23.998472Z",
     "iopub.status.busy": "2022-05-25T18:47:23.997799Z",
     "iopub.status.idle": "2022-05-25T18:47:24.003121Z",
     "shell.execute_reply": "2022-05-25T18:47:24.003645Z",
     "shell.execute_reply.started": "2022-05-22T03:36:46.910282Z"
    }
   },
   "outputs": [],
   "source": [
    "assert len(output_df[['cell_barcode', 'gene']].drop_duplicates()) == \\\n",
    "    len(cb_gene), \"Missing cell_barcode-gene from df\""
   ]
  },
  {
   "cell_type": "markdown",
   "metadata": {},
   "source": [
    "Make sure no na values are included in final `output_df`. Everything should either have a consensus mutation or be annotated as `\"WT\"`"
   ]
  },
  {
   "cell_type": "code",
   "execution_count": null,
   "metadata": {
    "execution": {
     "iopub.execute_input": "2022-05-25T18:47:24.006355Z",
     "iopub.status.busy": "2022-05-25T18:47:24.005530Z",
     "iopub.status.idle": "2022-05-25T18:47:24.010099Z",
     "shell.execute_reply": "2022-05-25T18:47:24.010624Z",
     "shell.execute_reply.started": "2022-05-22T03:36:46.916342Z"
    }
   },
   "outputs": [],
   "source": [
    "assert output_df.notnull().any().any(), \\\n",
    "    \"Found null value in output_df\""
   ]
  },
  {
   "cell_type": "code",
   "execution_count": null,
   "metadata": {
    "execution": {
     "iopub.execute_input": "2022-05-25T18:47:24.013362Z",
     "iopub.status.busy": "2022-05-25T18:47:24.012495Z",
     "iopub.status.idle": "2022-05-25T18:47:24.064378Z",
     "shell.execute_reply": "2022-05-25T18:47:24.064842Z",
     "shell.execute_reply.started": "2022-05-22T03:36:46.920834Z"
    }
   },
   "outputs": [],
   "source": [
    "print(f'Saving gene consensus mutations to {consensus_gene_csv}')\n",
    "output_df.to_csv(consensus_gene_csv, index=False)"
   ]
  },
  {
   "cell_type": "code",
   "execution_count": null,
   "metadata": {},
   "outputs": [],
   "source": []
  }
 ],
 "metadata": {
  "kernelspec": {
   "display_name": "Python 3",
   "language": "python",
   "name": "python3"
  },
  "language_info": {
   "codemirror_mode": {
    "name": "ipython",
    "version": 3
   },
   "file_extension": ".py",
   "mimetype": "text/x-python",
   "name": "python",
   "nbconvert_exporter": "python",
   "pygments_lexer": "ipython3",
   "version": "3.8.6"
  }
 },
 "nbformat": 4,
 "nbformat_minor": 4
}
