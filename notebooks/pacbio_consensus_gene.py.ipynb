{
 "cells": [
  {
   "cell_type": "markdown",
   "metadata": {},
   "source": [
    "# Pacbio consensus UMI\n",
    "This notebook calls consensus muations on PacBio data grouped by by cell_barcode, gene, and UMI. Then, it exports a processed CSV with the following columns:\n",
    "* cell_barcode\n",
    "* gene\n",
    "* UMI\n",
    "* mutation\n",
    "* mutation_CCS"
   ]
  },
  {
   "cell_type": "code",
   "execution_count": null,
   "metadata": {
    "execution": {
     "iopub.execute_input": "2022-01-19T01:52:45.339916Z",
     "iopub.status.busy": "2022-01-19T01:52:45.339257Z",
     "iopub.status.idle": "2022-01-19T01:52:48.297071Z",
     "shell.execute_reply": "2022-01-19T01:52:48.297814Z"
    }
   },
   "outputs": [],
   "source": [
    "from IPython.display import display\n",
    "\n",
    "from dms_variants.constants import CBPALETTE\n",
    "\n",
    "import numpy as np\n",
    "\n",
    "import pandas as pd\n",
    "\n",
    "import plotnine as p9"
   ]
  },
  {
   "cell_type": "code",
   "execution_count": null,
   "metadata": {
    "execution": {
     "iopub.execute_input": "2022-01-19T01:52:48.306749Z",
     "iopub.status.busy": "2022-01-19T01:52:48.302275Z",
     "iopub.status.idle": "2022-01-19T01:52:48.311788Z",
     "shell.execute_reply": "2022-01-19T01:52:48.312672Z"
    }
   },
   "outputs": [],
   "source": [
    "consensus_UMI_csv = snakemake.input.consensus_UMI_csv\n",
    "expt = snakemake.wildcards.expt\n",
    "consensus_gene_csv = snakemake.output.consensus_gene_csv"
   ]
  },
  {
   "cell_type": "markdown",
   "metadata": {},
   "source": [
    "Style parameters:"
   ]
  },
  {
   "cell_type": "code",
   "execution_count": null,
   "metadata": {
    "execution": {
     "iopub.execute_input": "2022-01-19T01:52:48.319988Z",
     "iopub.status.busy": "2022-01-19T01:52:48.319546Z",
     "iopub.status.idle": "2022-01-19T01:52:48.322205Z",
     "shell.execute_reply": "2022-01-19T01:52:48.321805Z"
    }
   },
   "outputs": [],
   "source": [
    "p9.theme_set(p9.theme_classic())"
   ]
  },
  {
   "cell_type": "markdown",
   "metadata": {},
   "source": [
    "## Load Data"
   ]
  },
  {
   "cell_type": "code",
   "execution_count": null,
   "metadata": {
    "execution": {
     "iopub.execute_input": "2022-01-19T01:52:48.326345Z",
     "iopub.status.busy": "2022-01-19T01:52:48.325806Z",
     "iopub.status.idle": "2022-01-19T01:52:50.509426Z",
     "shell.execute_reply": "2022-01-19T01:52:50.510400Z"
    }
   },
   "outputs": [],
   "source": [
    "mutations = pd.read_csv(consensus_UMI_csv)\n",
    "mutations['mutation'] = mutations['mutation'].fillna('None')\n",
    "display(mutations)"
   ]
  },
  {
   "cell_type": "markdown",
   "metadata": {},
   "source": [
    "## Process Data"
   ]
  },
  {
   "cell_type": "markdown",
   "metadata": {},
   "source": [
    "Generate list of all cell_barcode-gene:"
   ]
  },
  {
   "cell_type": "code",
   "execution_count": null,
   "metadata": {},
   "outputs": [],
   "source": [
    "cb_gene = (\n",
    "    mutations\n",
    "    [['cell_barcode',\n",
    "      'gene']]\n",
    "    .drop_duplicates()\n",
    ")\n",
    "display(cb_gene)"
   ]
  },
  {
   "cell_type": "markdown",
   "metadata": {},
   "source": [
    "Count total UMI for cell_barcode-gene:"
   ]
  },
  {
   "cell_type": "code",
   "execution_count": null,
   "metadata": {},
   "outputs": [],
   "source": [
    "total_UMI_df = (\n",
    "    mutations\n",
    "    .groupby(['cell_barcode', 'gene'])\n",
    "    ['UMI']\n",
    "    .nunique()\n",
    "    .reset_index()\n",
    "    .rename(columns={'UMI': 'total_UMI'}))\n",
    "display(total_UMI_df)"
   ]
  },
  {
   "cell_type": "markdown",
   "metadata": {},
   "source": [
    "Exclude WT UMI:"
   ]
  },
  {
   "cell_type": "code",
   "execution_count": null,
   "metadata": {
    "execution": {
     "iopub.execute_input": "2022-01-19T01:52:50.516297Z",
     "iopub.status.busy": "2022-01-19T01:52:50.515324Z",
     "iopub.status.idle": "2022-01-19T01:52:54.615223Z",
     "shell.execute_reply": "2022-01-19T01:52:54.616114Z"
    }
   },
   "outputs": [],
   "source": [
    "mutations_noWT = mutations.query('mutation != \"WT\"')\n",
    "\n",
    "display(mutations_noWT)"
   ]
  },
  {
   "cell_type": "markdown",
   "metadata": {},
   "source": [
    "Count number of UMI supporting each mutation for cell_barcode-gene:"
   ]
  },
  {
   "cell_type": "code",
   "execution_count": null,
   "metadata": {
    "execution": {
     "iopub.execute_input": "2022-01-19T01:52:54.646753Z",
     "iopub.status.busy": "2022-01-19T01:52:54.645863Z",
     "iopub.status.idle": "2022-01-19T01:52:59.659924Z",
     "shell.execute_reply": "2022-01-19T01:52:59.660782Z"
    }
   },
   "outputs": [],
   "source": [
    "mutation_UMI_df = (\n",
    "    mutations_noWT\n",
    "    .groupby(['cell_barcode', 'gene', 'mutation'])\n",
    "    ['UMI']\n",
    "    .nunique()\n",
    "    .reset_index()\n",
    "    .rename(columns={'UMI': 'mutation_UMI'}))\n",
    "display(mutation_UMI_df)"
   ]
  },
  {
   "cell_type": "markdown",
   "metadata": {},
   "source": [
    "Bring in total UMI counts and calculate fraction of total UMI with each mutation:"
   ]
  },
  {
   "cell_type": "code",
   "execution_count": null,
   "metadata": {},
   "outputs": [],
   "source": [
    "mutation_frac_df = pd.merge(\n",
    "    left=mutation_UMI_df,\n",
    "    right=total_UMI_df,\n",
    "    on=['cell_barcode', 'gene'],\n",
    "    how='left',\n",
    "    validate='many_to_one')\n",
    "mutation_frac_df['frac_UMI'] = (\n",
    "    mutation_frac_df['mutation_UMI'] /\n",
    "    mutation_frac_df['total_UMI']\n",
    ")\n",
    "display(mutation_frac_df)"
   ]
  },
  {
   "cell_type": "markdown",
   "metadata": {},
   "source": [
    "**Call Consensus Mutations**  \n",
    "Label mutation as consensus if it is found in >50% of UMI. This corresponds to `frac_UMI > 0.5` in our dataframe."
   ]
  },
  {
   "cell_type": "code",
   "execution_count": null,
   "metadata": {
    "execution": {
     "iopub.execute_input": "2022-01-19T01:53:09.213031Z",
     "iopub.status.busy": "2022-01-19T01:53:09.212290Z",
     "iopub.status.idle": "2022-01-19T01:53:09.230275Z",
     "shell.execute_reply": "2022-01-19T01:53:09.229583Z"
    }
   },
   "outputs": [],
   "source": [
    "mutation_frac_df['consensus'] = (\n",
    "    (mutation_frac_df['frac_UMI'] > 0.5))\n",
    "display(mutation_frac_df)"
   ]
  },
  {
   "cell_type": "markdown",
   "metadata": {},
   "source": [
    "Plot outcome of consensus calling"
   ]
  },
  {
   "cell_type": "code",
   "execution_count": null,
   "metadata": {},
   "outputs": [],
   "source": [
    "mutation_frac_histo = (\n",
    "    p9.ggplot(\n",
    "        (mutation_frac_df\n",
    "         [['cell_barcode', 'gene', 'mutation', 'frac_UMI', 'consensus']]\n",
    "         .drop_duplicates()),\n",
    "         p9.aes(x='frac_UMI',\n",
    "                fill='consensus')) +\n",
    "    p9.geom_histogram(bins=20) +\n",
    "    p9.ggtitle('Mutation fractions\\n'\n",
    "               '(excludes WT UMI)\\n'\n",
    "               f'{expt}') +\n",
    "    p9.labs(x='fraction of total UMI for cell_barcode-gene') +\n",
    "    p9.theme(figure_size=(4, 3),\n",
    "             plot_title=p9.element_text(size=9),\n",
    "             axis_title=p9.element_text(size=9),\n",
    "             legend_title=p9.element_text(size=9),\n",
    "             legend_title_align='center') +\n",
    "    p9.scale_fill_manual([CBPALETTE[1], CBPALETTE[0]]))\n",
    "\n",
    "display(mutation_frac_histo)"
   ]
  },
  {
   "cell_type": "markdown",
   "metadata": {},
   "source": [
    "## Merge mutatant and WT UMIs\n",
    "Merge data into single dataframe, `gene_mutations`.  \n",
    "Steps:  \n",
    "1. Filter `mutation_frac_df` for only consensus mutations\n",
    "2. Merge with `cb_gene` dataframe so every `cell_barcode-gene` has at least one row.\n",
    "3. Fill `mutation` column with \"WT\" if a `cell_barcode-gene` does not have any consensus mutations. "
   ]
  },
  {
   "cell_type": "code",
   "execution_count": null,
   "metadata": {
    "execution": {
     "iopub.execute_input": "2022-01-19T01:52:59.667398Z",
     "iopub.status.busy": "2022-01-19T01:52:59.666495Z",
     "iopub.status.idle": "2022-01-19T01:53:09.165708Z",
     "shell.execute_reply": "2022-01-19T01:53:09.166449Z"
    }
   },
   "outputs": [],
   "source": [
    "# Merge in consesnsus mutations\n",
    "gene_mutations = pd.merge(\n",
    "    left=cb_gene,\n",
    "    right=mutation_frac_df.query('consensus == True'),\n",
    "    on=['cell_barcode', 'gene'],\n",
    "    how='left',\n",
    "    validate='one_to_many'\n",
    ")\n",
    "\n",
    "# Fill muttation with WT if no consensus mutation\n",
    "gene_mutations['mutation'] = (\n",
    "    gene_mutations['mutation']\n",
    "    .fillna('WT')\n",
    ")\n",
    "\n",
    "display(gene_mutations)"
   ]
  },
  {
   "cell_type": "markdown",
   "metadata": {},
   "source": [
    "Check that every `cell_barcode-gene-UMI` is represented in final `UMI_mutations` dataframe."
   ]
  },
  {
   "cell_type": "code",
   "execution_count": null,
   "metadata": {},
   "outputs": [],
   "source": [
    "assert len(gene_mutations[['cell_barcode', 'gene']].drop_duplicates()) == \\\n",
    "    len(cb_gene), \"Missing cell_barcode-gene from df\""
   ]
  },
  {
   "cell_type": "markdown",
   "metadata": {},
   "source": [
    "## Plot outcomes"
   ]
  },
  {
   "cell_type": "markdown",
   "metadata": {},
   "source": [
    "Plot distribution of total UMI per cell_barcode-gene:"
   ]
  },
  {
   "cell_type": "code",
   "execution_count": null,
   "metadata": {
    "execution": {
     "iopub.execute_input": "2022-01-19T01:53:09.236505Z",
     "iopub.status.busy": "2022-01-19T01:53:09.235839Z",
     "iopub.status.idle": "2022-01-19T01:53:10.550673Z",
     "shell.execute_reply": "2022-01-19T01:53:10.551630Z"
    }
   },
   "outputs": [],
   "source": [
    "total_UMI_histo = (\n",
    "    p9.ggplot(\n",
    "        (total_UMI_df),\n",
    "         p9.aes(x='total_UMI')) +\n",
    "    p9.geom_histogram(bins=20) +\n",
    "    p9.ggtitle('n UMI per cell_barcode-gene-UMI\\n'\n",
    "               f'{expt}') +\n",
    "    p9.labs(x='n UMI',\n",
    "            y='n cell_barcode-gene') +\n",
    "    p9.theme(figure_size=(4, 3),\n",
    "             plot_title=p9.element_text(size=9),\n",
    "             axis_title=p9.element_text(size=9),\n",
    "             legend_title=p9.element_text(size=9),\n",
    "             legend_title_align='center'))\n",
    "\n",
    "display(total_UMI_histo)"
   ]
  },
  {
   "cell_type": "markdown",
   "metadata": {},
   "source": [
    "Plot distribution of UMI per mutation:"
   ]
  },
  {
   "cell_type": "code",
   "execution_count": null,
   "metadata": {
    "execution": {
     "iopub.execute_input": "2022-01-19T01:53:10.558899Z",
     "iopub.status.busy": "2022-01-19T01:53:10.557999Z",
     "iopub.status.idle": "2022-01-19T01:53:12.736430Z",
     "shell.execute_reply": "2022-01-19T01:53:12.737364Z"
    }
   },
   "outputs": [],
   "source": [
    "mutation_UMI_histo = (\n",
    "    p9.ggplot(\n",
    "        (mutation_UMI_df\n",
    "         [['cell_barcode', 'gene', 'mutation', 'mutation_UMI']]\n",
    "         .drop_duplicates()),\n",
    "         p9.aes(x='mutation_UMI')) +\n",
    "    p9.geom_histogram(bins=20) +\n",
    "    p9.ggtitle('n UMI per mutation\\n'\n",
    "               '(excludes WT UMI)\\n'\n",
    "               f'{expt}') +\n",
    "    p9.labs(x='n UMI',\n",
    "            y='n cell_barcode-gene-mutation') +\n",
    "    p9.theme(figure_size=(4, 3),\n",
    "             plot_title=p9.element_text(size=9),\n",
    "             axis_title=p9.element_text(size=9),\n",
    "             legend_title=p9.element_text(size=9),\n",
    "             legend_title_align='center'))\n",
    "\n",
    "display(mutation_UMI_histo)"
   ]
  },
  {
   "cell_type": "markdown",
   "metadata": {},
   "source": [
    "Plot frac of UMI for each consensus mutation:"
   ]
  },
  {
   "cell_type": "code",
   "execution_count": null,
   "metadata": {
    "execution": {
     "iopub.execute_input": "2022-01-19T01:53:12.744970Z",
     "iopub.status.busy": "2022-01-19T01:53:12.744032Z",
     "iopub.status.idle": "2022-01-19T01:53:47.793788Z",
     "shell.execute_reply": "2022-01-19T01:53:47.794724Z"
    }
   },
   "outputs": [],
   "source": [
    "consensus_mutations_histo = (\n",
    "    p9.ggplot(\n",
    "        (gene_mutations\n",
    "         [['cell_barcode', 'gene', 'mutation', 'frac_UMI']]\n",
    "         .drop_duplicates()),\n",
    "         p9.aes(x='frac_UMI')) +\n",
    "    p9.geom_histogram(bins=20) +\n",
    "    p9.ggtitle('Consensus mutation fractions\\n'\n",
    "               '(excludes WT genes)\\n'\n",
    "               f'{expt}') +\n",
    "    p9.labs(x='fraction of total UMI for cell_barcode-gene') +\n",
    "    p9.theme(figure_size=(4, 3),\n",
    "             plot_title=p9.element_text(size=9),\n",
    "             axis_title=p9.element_text(size=9),\n",
    "             legend_title=p9.element_text(size=9),\n",
    "             legend_title_align='center') +\n",
    "    p9.scale_color_manual([CBPALETTE[1], CBPALETTE[0]]))\n",
    "\n",
    "display(consensus_mutations_histo)"
   ]
  },
  {
   "cell_type": "code",
   "execution_count": null,
   "metadata": {},
   "outputs": [],
   "source": []
  },
  {
   "cell_type": "markdown",
   "metadata": {},
   "source": [
    "## Organize output  \n",
    "Integrate mutations into genotype"
   ]
  },
  {
   "cell_type": "code",
   "execution_count": null,
   "metadata": {},
   "outputs": [],
   "source": [
    "genotypes = (\n",
    "    gene_mutations\n",
    "    .groupby(['cell_barcode', 'gene'])\n",
    "    ['mutation']\n",
    "    .unique()\n",
    "    .reset_index()\n",
    "    .rename(columns={'mutation': 'consensus_mutations'})\n",
    ")\n",
    "genotypes['consensus_mutations'] = [' '.join(map(str, l)) for l in genotypes['consensus_mutations']]\n",
    "\n",
    "display(genotypes)"
   ]
  },
  {
   "cell_type": "markdown",
   "metadata": {},
   "source": [
    "Bring in support information (total UMI per `cell_barcode-gene`):"
   ]
  },
  {
   "cell_type": "code",
   "execution_count": null,
   "metadata": {
    "execution": {
     "iopub.execute_input": "2022-01-19T01:53:47.800248Z",
     "iopub.status.busy": "2022-01-19T01:53:47.799632Z",
     "iopub.status.idle": "2022-01-19T01:54:00.584386Z",
     "shell.execute_reply": "2022-01-19T01:54:00.585172Z"
    }
   },
   "outputs": [],
   "source": [
    "output_df = pd.merge(\n",
    "    left=genotypes,\n",
    "    right=total_UMI_df,\n",
    "    on=['cell_barcode', 'gene'],\n",
    "    how='left',\n",
    "    validate='one_to_one'\n",
    ")\n",
    "\n",
    "display(output_df)"
   ]
  },
  {
   "cell_type": "markdown",
   "metadata": {},
   "source": [
    "Double check that every cell_barcod-gene is represented in final `output_df`"
   ]
  },
  {
   "cell_type": "code",
   "execution_count": null,
   "metadata": {},
   "outputs": [],
   "source": [
    "assert len(output_df[['cell_barcode', 'gene']].drop_duplicates()) == \\\n",
    "    len(cb_gene), \"Missing cell_barcode-gene from df\""
   ]
  },
  {
   "cell_type": "markdown",
   "metadata": {},
   "source": [
    "Make sure no na values are included in final `output_df`. Everything should either have a consensus mutation or be annotated as `\"WT\"`"
   ]
  },
  {
   "cell_type": "code",
   "execution_count": null,
   "metadata": {},
   "outputs": [],
   "source": [
    "assert output_df.notnull().any().any(), \\\n",
    "    \"Found null value in output_df\""
   ]
  },
  {
   "cell_type": "code",
   "execution_count": null,
   "metadata": {},
   "outputs": [],
   "source": [
    "print(f'Saving gene consensus mutations to {consensus_gene_csv}')\n",
    "output_df.to_csv(consensus_gene_csv, index=False)"
   ]
  },
  {
   "cell_type": "code",
   "execution_count": null,
   "metadata": {},
   "outputs": [],
   "source": []
  }
 ],
 "metadata": {
  "kernelspec": {
   "display_name": "Python 3",
   "language": "python",
   "name": "python3"
  },
  "language_info": {
   "codemirror_mode": {
    "name": "ipython",
    "version": 3
   },
   "file_extension": ".py",
   "mimetype": "text/x-python",
   "name": "python",
   "nbconvert_exporter": "python",
   "pygments_lexer": "ipython3",
   "version": "3.8.6"
  }
 },
 "nbformat": 4,
 "nbformat_minor": 4
}
