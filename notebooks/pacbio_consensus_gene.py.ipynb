{
 "cells": [
  {
   "cell_type": "markdown",
   "metadata": {},
   "source": [
    "# Pacbio consensus gene\n",
    "This notebook calls consensus muations on PacBio data grouped by by cell_barcode and gene. Then, it exports a processed CSV with the following columns:\n",
    "* cell_barcode\n",
    "* gene\n",
    "* mutations"
   ]
  },
  {
   "cell_type": "code",
   "execution_count": null,
   "metadata": {},
   "outputs": [],
   "source": [
    "from IPython.display import display\n",
    "\n",
    "from dms_variants.constants import CBPALETTE\n",
    "\n",
    "import pandas as pd\n",
    "\n",
    "import plotnine as p9"
   ]
  },
  {
   "cell_type": "code",
   "execution_count": null,
   "metadata": {},
   "outputs": [],
   "source": [
    "consensus_UMI_csv = snakemake.input.consensus_UMI_csv\n",
    "expt = snakemake.wildcards.expt\n",
    "consensus_gene_csv = snakemake.output.consensus_gene_csv"
   ]
  },
  {
   "cell_type": "markdown",
   "metadata": {},
   "source": [
    "Style parameters:"
   ]
  },
  {
   "cell_type": "code",
   "execution_count": null,
   "metadata": {},
   "outputs": [],
   "source": [
    "p9.theme_set(p9.theme_classic())"
   ]
  },
  {
   "cell_type": "markdown",
   "metadata": {},
   "source": [
    "## Load Data"
   ]
  },
  {
   "cell_type": "code",
   "execution_count": null,
   "metadata": {},
   "outputs": [],
   "source": [
    "mutations = pd.read_csv(consensus_UMI_csv)\n",
    "mutations['mutation'] = mutations['mutation'].fillna('None')\n",
    "display(mutations)"
   ]
  },
  {
   "cell_type": "markdown",
   "metadata": {},
   "source": [
    "## Process Data"
   ]
  },
  {
   "cell_type": "markdown",
   "metadata": {},
   "source": [
    "Count total UMIs for cell_barcode-gene and count number of UMIs supporting each mutation for cell_barcode-gene:"
   ]
  },
  {
   "cell_type": "code",
   "execution_count": null,
   "metadata": {},
   "outputs": [],
   "source": [
    "mutation_UMIs_df = (\n",
    "    mutations\n",
    "    .groupby(['cell_barcode', 'gene', 'mutation'])\n",
    "    ['UMI']\n",
    "    .nunique()\n",
    "    .reset_index()\n",
    "    .rename(columns={'UMI': 'mutation_UMIs'}))\n",
    "total_UMIs_df = (\n",
    "    mutations\n",
    "    .groupby(['cell_barcode', 'gene'])\n",
    "    ['UMI']\n",
    "    .nunique()\n",
    "    .reset_index()\n",
    "    .rename(columns={'UMI': 'total_UMIs'}))\n",
    "display(mutation_UMIs_df)\n",
    "display(total_UMIs_df)"
   ]
  },
  {
   "cell_type": "markdown",
   "metadata": {},
   "source": [
    "Merge into mutations df:"
   ]
  },
  {
   "cell_type": "code",
   "execution_count": null,
   "metadata": {},
   "outputs": [],
   "source": [
    "mutations = pd.merge(\n",
    "    left=mutations,\n",
    "    right=mutation_UMIs_df,\n",
    "    on=['cell_barcode', 'gene', 'mutation'],\n",
    "    how='left',\n",
    "    validate='many_to_one'\n",
    ")\n",
    "mutations = pd.merge(\n",
    "    left=mutations,\n",
    "    right=total_UMIs_df,\n",
    "    on=['cell_barcode', 'gene'],\n",
    "    how='left',\n",
    "    validate='many_to_one'\n",
    ")\n",
    "display(mutations)"
   ]
  },
  {
   "cell_type": "markdown",
   "metadata": {},
   "source": [
    "Calculate fraction of total UMIs with mutation:"
   ]
  },
  {
   "cell_type": "code",
   "execution_count": null,
   "metadata": {},
   "outputs": [],
   "source": [
    "mutations['frac_UMIs'] = (\n",
    "    mutations['mutation_UMIs'] /\n",
    "    mutations['total_UMIs']\n",
    ")\n",
    "display(mutations)"
   ]
  },
  {
   "cell_type": "markdown",
   "metadata": {},
   "source": [
    "## Call consensus\n",
    "Label consensus mutations if found in >50% of UMIs. This corresponds to `frac_UMIs > 0.5` in our dataframe."
   ]
  },
  {
   "cell_type": "code",
   "execution_count": null,
   "metadata": {},
   "outputs": [],
   "source": [
    "mutations['consensus'] = (\n",
    "    mutations['frac_UMIs'] > 0.5\n",
    ")\n",
    "display(mutations)"
   ]
  },
  {
   "cell_type": "markdown",
   "metadata": {},
   "source": [
    "## Plot outcomes"
   ]
  },
  {
   "cell_type": "markdown",
   "metadata": {},
   "source": [
    "Plot distribution of total UMIs per cell_barcode-gene:"
   ]
  },
  {
   "cell_type": "code",
   "execution_count": null,
   "metadata": {},
   "outputs": [],
   "source": [
    "total_UMIs_histo = (\n",
    "    p9.ggplot(\n",
    "        (mutations\n",
    "         [['cell_barcode', 'gene', 'total_UMIs']]\n",
    "         .drop_duplicates()),\n",
    "         p9.aes(x='total_UMIs')) +\n",
    "    p9.geom_histogram(bins=20) +\n",
    "    p9.ggtitle('n UMIs per cell_barcode-gene\\n'\n",
    "               f'{expt}') +\n",
    "    p9.labs(x='n UMIs',\n",
    "            y='n cell_barcode-gene') +\n",
    "    p9.theme(figure_size=(4, 3),\n",
    "             plot_title=p9.element_text(size=9),\n",
    "             axis_title=p9.element_text(size=9),\n",
    "             legend_title=p9.element_text(size=9),\n",
    "             legend_title_align='center'))\n",
    "\n",
    "display(total_UMIs_histo)"
   ]
  },
  {
   "cell_type": "markdown",
   "metadata": {},
   "source": [
    "Plot distribution of UMIs per mutation:"
   ]
  },
  {
   "cell_type": "code",
   "execution_count": null,
   "metadata": {},
   "outputs": [],
   "source": [
    "mutation_UMIs_histo = (\n",
    "    p9.ggplot(\n",
    "        (mutations\n",
    "         [['cell_barcode', 'gene', 'mutation', 'mutation_UMIs']]\n",
    "         .drop_duplicates()),\n",
    "         p9.aes(x='mutation_UMIs')) +\n",
    "    p9.geom_histogram(bins=20) +\n",
    "    p9.ggtitle('n UMIs per mutation\\n'\n",
    "               f'{expt}') +\n",
    "    p9.labs(x='n UMIs',\n",
    "            y='n cell_barcode-gene-mutation') +\n",
    "    p9.theme(figure_size=(4, 3),\n",
    "             plot_title=p9.element_text(size=9),\n",
    "             axis_title=p9.element_text(size=9),\n",
    "             legend_title=p9.element_text(size=9),\n",
    "             legend_title_align='center'))\n",
    "\n",
    "display(mutation_UMIs_histo)"
   ]
  },
  {
   "cell_type": "markdown",
   "metadata": {},
   "source": [
    "Plot relationship between the two:"
   ]
  },
  {
   "cell_type": "code",
   "execution_count": null,
   "metadata": {},
   "outputs": [],
   "source": [
    "consensus_mutations_scatter = (\n",
    "    p9.ggplot(\n",
    "        (mutations\n",
    "         .query('mutation != \"None\"')\n",
    "         [['cell_barcode', 'gene', 'mutation', 'mutation_UMIs', 'total_UMIs', 'consensus']]\n",
    "         .drop_duplicates()),\n",
    "         p9.aes(x='total_UMIs',\n",
    "                y='mutation_UMIs',\n",
    "                color='consensus')) +\n",
    "    p9.geom_point(alpha=0.2) +\n",
    "    p9.geom_abline(intercept=0, slope=0.5, linetype='dashed', color=CBPALETTE[2]) +\n",
    "    p9.ggtitle('Consensus mutations \\n'\n",
    "               f'{expt}') +\n",
    "    p9.theme(figure_size=(4, 3),\n",
    "             plot_title=p9.element_text(size=9),\n",
    "             axis_title=p9.element_text(size=9),\n",
    "             legend_title=p9.element_text(size=9),\n",
    "             legend_title_align='center') +\n",
    "    p9.scale_color_manual([CBPALETTE[1], CBPALETTE[0]]))\n",
    "\n",
    "display(consensus_mutations_scatter)"
   ]
  },
  {
   "cell_type": "markdown",
   "metadata": {},
   "source": [
    "## Integrate mutations into genotype"
   ]
  },
  {
   "cell_type": "code",
   "execution_count": null,
   "metadata": {},
   "outputs": [],
   "source": [
    "genotypes = (\n",
    "    mutations\n",
    "    .query('consensus == True and mutation != \"None\"')\n",
    "    .groupby(['cell_barcode', 'gene'])\n",
    "    ['mutation']\n",
    "    .unique()\n",
    "    .reset_index()\n",
    "    .rename(columns={'mutation': 'consensus_mutations'})\n",
    ")\n",
    "genotypes['consensus_mutations'] = (\n",
    "    genotypes['consensus_mutations']\n",
    "    .apply(str))\n",
    "\n",
    "display(genotypes)"
   ]
  },
  {
   "cell_type": "markdown",
   "metadata": {},
   "source": [
    "Add back into mutations df"
   ]
  },
  {
   "cell_type": "code",
   "execution_count": null,
   "metadata": {},
   "outputs": [],
   "source": [
    "mutations = pd.merge(\n",
    "    left=mutations,\n",
    "    right=genotypes,\n",
    "    on=['cell_barcode', 'gene'],\n",
    "    how='left',\n",
    "    validate='many_to_one'\n",
    ")\n",
    "mutations['consensus_mutations'] = mutations['consensus_mutations'].fillna('None')\n",
    "display(mutations)"
   ]
  },
  {
   "cell_type": "markdown",
   "metadata": {},
   "source": [
    "Plot number of cell-gene with or without mutation identified:"
   ]
  },
  {
   "cell_type": "code",
   "execution_count": null,
   "metadata": {},
   "outputs": [],
   "source": [
    "consensus_mutations_per_gene = (\n",
    "    p9.ggplot(\n",
    "        (mutations\n",
    "         [['cell_barcode', 'gene', 'consensus_mutations']]\n",
    "         .drop_duplicates()),\n",
    "         p9.aes(x='gene',\n",
    "                fill='factor(consensus_mutations == \"None\")')) +\n",
    "    p9.geom_bar(stat='count') +\n",
    "    p9.ggtitle('WT and mutant gentotypes\\n'\n",
    "               'in infected cells\\n'\n",
    "               f'{expt}') +\n",
    "    p9.labs(y='n cell_barcode-gene') +\n",
    "    p9.theme(figure_size=(4, 3),\n",
    "             plot_title=p9.element_text(size=9),\n",
    "             axis_title=p9.element_text(size=9),\n",
    "             legend_title=p9.element_text(size=9),\n",
    "             legend_title_align='center') +\n",
    "    p9.scale_fill_manual([CBPALETTE[1], CBPALETTE[0]]))\n",
    "\n",
    "display(consensus_mutations_per_gene)"
   ]
  },
  {
   "cell_type": "markdown",
   "metadata": {},
   "source": [
    "Export results"
   ]
  },
  {
   "cell_type": "code",
   "execution_count": null,
   "metadata": {},
   "outputs": [],
   "source": [
    "output_df = (\n",
    "    mutations\n",
    "    [['cell_barcode', 'gene', 'consensus_mutations']]\n",
    "    .drop_duplicates()\n",
    ")\n",
    "display(output_df)\n",
    "\n",
    "print(f'Saving UMI consensus mutations to {consensus_gene_csv}')\n",
    "output_df.to_csv(consensus_gene_csv, index=False)"
   ]
  },
  {
   "cell_type": "code",
   "execution_count": null,
   "metadata": {},
   "outputs": [],
   "source": []
  }
 ],
 "metadata": {
  "kernelspec": {
   "display_name": "Python 3",
   "language": "python",
   "name": "python3"
  },
  "language_info": {
   "codemirror_mode": {
    "name": "ipython",
    "version": 3
   },
   "file_extension": ".py",
   "mimetype": "text/x-python",
   "name": "python",
   "nbconvert_exporter": "python",
   "pygments_lexer": "ipython3",
   "version": "3.8.6"
  }
 },
 "nbformat": 4,
 "nbformat_minor": 4
}
