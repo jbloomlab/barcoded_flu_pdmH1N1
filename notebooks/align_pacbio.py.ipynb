{
 "cells": [
  {
   "cell_type": "markdown",
   "metadata": {},
   "source": [
    "# Align flu pacbio reads"
   ]
  },
  {
   "cell_type": "markdown",
   "metadata": {},
   "source": [
    "This notebook imports, aligns and filters pacbio amplicons. "
   ]
  },
  {
   "cell_type": "code",
   "execution_count": 1,
   "metadata": {},
   "outputs": [],
   "source": [
    "import os\n",
    "import re\n",
    "import warnings\n",
    "\n",
    "from IPython.display import HTML, display\n",
    "\n",
    "import alignparse.ccs\n",
    "import alignparse.consensus\n",
    "import alignparse.minimap2\n",
    "import alignparse.targets\n",
    "from alignparse.constants import CBPALETTE\n",
    "\n",
    "import dms_variants.plotnine_themes\n",
    "import dms_variants.utils\n",
    "\n",
    "import pandas as pd\n",
    "\n",
    "import plotnine as p9"
   ]
  },
  {
   "cell_type": "code",
   "execution_count": 2,
   "metadata": {},
   "outputs": [],
   "source": [
    "warnings.simplefilter('ignore')"
   ]
  },
  {
   "cell_type": "code",
   "execution_count": 3,
   "metadata": {},
   "outputs": [],
   "source": [
    "p9.theme_set(dms_variants.plotnine_themes.theme_graygrid())"
   ]
  },
  {
   "cell_type": "markdown",
   "metadata": {},
   "source": [
    "Import snakemake variables"
   ]
  },
  {
   "cell_type": "code",
   "execution_count": 5,
   "metadata": {},
   "outputs": [],
   "source": [
    "amplicons = snakemake.input.amplicons\n",
    "features = snakemake.input.features\n",
    "plot_amplicons = snakemake.output.plot_amplicons\n",
    "plot_alignment = snakemake.output.plot_alignment\n",
    "ccs_report = snakemake.input.ccs_report\n",
    "ccs_fastq = snakemake.input.ccs_fastq\n",
    "runs = snakemake.params.runs\n",
    "amplicon_to_reference_df = snakemake.input.amplicon_to_reference_df\n",
    "alignment_stats = snakemake.params.alignment_stats\n",
    "mutation_df = snakemake.output.mutation_df\n",
    "threads = snakemake.threads"
   ]
  },
  {
   "cell_type": "markdown",
   "metadata": {},
   "source": [
    "## Import target amplicons\n",
    "Here we import target files for amplicons that where made using primers that either aligned to ends of flu sequences ('termini') or primers aligning approximately to the middle of a segment ('mid')."
   ]
  },
  {
   "cell_type": "code",
   "execution_count": null,
   "metadata": {},
   "outputs": [],
   "source": [
    "targetfile = amplicons\n",
    "\n",
    "nlines_to_show = 100\n",
    "with open(targetfile) as f:\n",
    "    print(''.join(next(f) for _ in range(nlines_to_show)))"
   ]
  },
  {
   "cell_type": "markdown",
   "metadata": {},
   "source": [
    "Feature file defines features in amplicon genbank file."
   ]
  },
  {
   "cell_type": "code",
   "execution_count": null,
   "metadata": {},
   "outputs": [],
   "source": [
    "feature_parse_specs_file = features\n",
    "with open(feature_parse_specs_file) as f:\n",
    "    print(f.read())"
   ]
  },
  {
   "cell_type": "code",
   "execution_count": null,
   "metadata": {},
   "outputs": [],
   "source": [
    "targets = alignparse.targets.Targets(\n",
    "                seqsfile=targetfile,\n",
    "                feature_parse_specs=feature_parse_specs_file,\n",
    "                ignore_feature_parse_specs_keys=['default_2tags',\n",
    "                                                 'default_1tag'],\n",
    "                allow_extra_features=True,\n",
    "                allow_clipped_muts_seqs=True)"
   ]
  },
  {
   "cell_type": "markdown",
   "metadata": {},
   "source": [
    "Now let's plot all segment amplicons and save plots as a figure. "
   ]
  },
  {
   "cell_type": "code",
   "execution_count": null,
   "metadata": {},
   "outputs": [],
   "source": [
    "plot = targets.plot(ax_width=10)"
   ]
  },
  {
   "cell_type": "code",
   "execution_count": null,
   "metadata": {},
   "outputs": [],
   "source": [
    "print(f\"Saving figure to {plot_amplicons}\")\n",
    "plot.savefig(plot_amplicons, format=\"svg\")"
   ]
  },
  {
   "cell_type": "markdown",
   "metadata": {},
   "source": [
    "## Align pacbio reads"
   ]
  },
  {
   "cell_type": "markdown",
   "metadata": {},
   "source": [
    "Create packbio run dataframe"
   ]
  },
  {
   "cell_type": "code",
   "execution_count": null,
   "metadata": {},
   "outputs": [],
   "source": [
    "pacbio_runs = pd.DataFrame(\n",
    "    {'name': runs, 'fastq': ccs_fastq, 'report': ccs_report}\n",
    ")\n",
    "display(HTML(pacbio_runs.to_html(index=False)))"
   ]
  },
  {
   "cell_type": "markdown",
   "metadata": {},
   "source": [
    "Now align all ccs to amplicons and filter for the ones that meet criteria defined in `fluCA09_features.yaml`."
   ]
  },
  {
   "cell_type": "markdown",
   "metadata": {},
   "source": [
    "Create an alignparse.minimap2.Mapper to run minimap2 with minimap [options](https://jbloomlab.github.io/alignparse/alignparse.minimap2.html#alignparse.minimap2.OPTIONS_VIRUS_W_DEL) that allow for large deletions in viral sequences. "
   ]
  },
  {
   "cell_type": "code",
   "execution_count": null,
   "metadata": {},
   "outputs": [],
   "source": [
    "mapper = alignparse.minimap2.Mapper(alignparse.minimap2.OPTIONS_VIRUS_W_DEL)\n",
    "\n",
    "print(f\"Using `minimap2` {mapper.version} with these options:\\n\"\n",
    "      + ' '.join(mapper.options))"
   ]
  },
  {
   "cell_type": "code",
   "execution_count": null,
   "metadata": {},
   "outputs": [],
   "source": [
    "align_and_parse_outdir = os.path.join(alignment_stats)"
   ]
  },
  {
   "cell_type": "code",
   "execution_count": null,
   "metadata": {},
   "outputs": [],
   "source": [
    "readstats, aligned, filtered = targets.align_and_parse(\n",
    "    df=pacbio_runs,\n",
    "    mapper=mapper,\n",
    "    outdir=align_and_parse_outdir,\n",
    "    name_col='name',\n",
    "    queryfile_col='fastq',\n",
    "    overwrite=True,  # overwrite any existing output\n",
    "    to_csv=True,\n",
    "    ncpus=threads,\n",
    ")"
   ]
  },
  {
   "cell_type": "markdown",
   "metadata": {},
   "source": [
    "Here are read alignment statistics telling how many reads have been aligned or filtered out for each reference amplicon."
   ]
  },
  {
   "cell_type": "code",
   "execution_count": null,
   "metadata": {},
   "outputs": [],
   "source": [
    "readstats.head()"
   ]
  },
  {
   "cell_type": "code",
   "execution_count": null,
   "metadata": {},
   "outputs": [],
   "source": [
    "p = (\n",
    "    p9.ggplot(readstats.assign(\n",
    "        category=lambda x: pd.Categorical(x['category'],\n",
    "                                          x['category'].unique(),\n",
    "                                          ordered=True),\n",
    "        is_aligned=lambda x: x['category'].str.contains('aligned'),),\n",
    "        p9.aes('category', 'count', fill='is_aligned'))\n",
    "    + p9.geom_bar(stat='identity')\n",
    "    + p9.facet_wrap('~ name', nrow=1)\n",
    "    + p9.theme(axis_text_x=p9.element_text(angle=90),\n",
    "               panel_grid_major_x=p9.element_blank()\n",
    "               )\n",
    "    + p9.scale_fill_manual(values=CBPALETTE)\n",
    ")\n",
    "_ = p.draw()\n",
    "\n",
    "p9.ggsave(plot=p, filename=plot_alignment, verbose=False)"
   ]
  },
  {
   "cell_type": "markdown",
   "metadata": {},
   "source": [
    "Now lets look at the most common reasons why some reads have been filtered out."
   ]
  },
  {
   "cell_type": "code",
   "execution_count": null,
   "metadata": {},
   "outputs": [],
   "source": [
    "concatenated_ff_df = pd.DataFrame()\n",
    "for filtered_file in filtered:\n",
    "    ff = pd.read_csv(filtered[filtered_file], na_filter=False)\n",
    "    ff['gene'] = filtered_file\n",
    "    concatenated_ff_df = pd.concat([concatenated_ff_df, ff], axis=0)\n",
    "concatenated_ff_df.head()"
   ]
  },
  {
   "cell_type": "code",
   "execution_count": null,
   "metadata": {},
   "outputs": [],
   "source": [
    "p = (\n",
    "    p9.ggplot(concatenated_ff_df, p9.aes('filter_reason'))\n",
    "    + p9.geom_bar()\n",
    "    + p9.facet_wrap('~ gene', ncol=5)\n",
    "    + p9.theme(axis_text_x=p9.element_text(angle=90),\n",
    "               figure_size=(12, 8),\n",
    "               panel_grid_major_x=p9.element_blank(),\n",
    "               )\n",
    "    )\n",
    "_ = p.draw()"
   ]
  },
  {
   "cell_type": "markdown",
   "metadata": {},
   "source": [
    "## Convert amplicon sequence positions to wt"
   ]
  },
  {
   "cell_type": "markdown",
   "metadata": {},
   "source": [
    "Here we import file that contains a lookup table. We will make a dictionary out of it to tell what position in reference sequence is equivalent to position in an amplicon sequence."
   ]
  },
  {
   "cell_type": "code",
   "execution_count": null,
   "metadata": {},
   "outputs": [],
   "source": [
    "amplicon_to_reference = pd.read_csv(amplicon_to_reference_df, na_filter=False)\n",
    "amplicon_to_reference.head()"
   ]
  },
  {
   "cell_type": "markdown",
   "metadata": {},
   "source": [
    "We extract feature names from `amplicon_to_reference` file. The first four columns are `target`, `gene`, `ORF_position`, and `wt_nt` and are not relevant to features, so we will not include them. "
   ]
  },
  {
   "cell_type": "code",
   "execution_count": null,
   "metadata": {},
   "outputs": [],
   "source": [
    "column_names = amplicon_to_reference.columns.tolist()\n",
    "amplicon_features = column_names[4:]\n",
    "print(amplicon_features)"
   ]
  },
  {
   "cell_type": "markdown",
   "metadata": {},
   "source": [
    "Here are the aligned files made by `targets.align_and_parse`."
   ]
  },
  {
   "cell_type": "code",
   "execution_count": null,
   "metadata": {},
   "outputs": [],
   "source": [
    "for aligned_files in aligned:\n",
    "    print(aligned[aligned_files])"
   ]
  },
  {
   "cell_type": "markdown",
   "metadata": {},
   "source": [
    "Here we read in each aligned segment csv file that was made by `targets.align_and_parse`. Then for each amplicon feature we make a dictionry from `amplicon_to_reference` file and use regex to change each nucleotide position in an amplicon to equivalent position in the reference sequence. "
   ]
  },
  {
   "cell_type": "code",
   "execution_count": null,
   "metadata": {},
   "outputs": [],
   "source": [
    "concatenated_amplicons = pd.DataFrame()\n",
    "\n",
    "for alignment in aligned:\n",
    "    af = pd.read_csv(aligned[alignment], na_filter=False)\n",
    "    print('analyzing ' + alignment + ' target using '\n",
    "          + aligned[alignment] + ' dataframe')\n",
    "\n",
    "    if af.empty:\n",
    "        # in case some amplicons have no mutations print warning\n",
    "        print('no mutations found in ' + alignment)\n",
    "\n",
    "    else:\n",
    "        reference = amplicon_to_reference.loc[\n",
    "            (amplicon_to_reference['target'] == alignment),\n",
    "            [\"target\", \"ORF_position\", 'sequenced_ORF_1',\n",
    "             \"sequenced_ORF_2\", \"termini5\", \"termini3\"]\n",
    "        ]\n",
    "\n",
    "        for ap_feature in amplicon_features:\n",
    "            # first we build a dictionary\n",
    "            # to find positions in reference sequence\n",
    "            ref_dict = {}\n",
    "            ref_site_mutation_list = []\n",
    "\n",
    "            for (_target, _feature), df in reference.groupby(['target', ap_feature]):\n",
    "                df['ORF_position'] = df['ORF_position'].astype(str)\n",
    "                feature_num_to_orf_num_dict = (df\n",
    "                                               .query('target == @_target')\n",
    "                                               .query(f'{ap_feature} == @_feature')\n",
    "                                               .set_index(ap_feature)['ORF_position']\n",
    "                                               .to_dict()\n",
    "                                               )\n",
    "                ref_dict.update(feature_num_to_orf_num_dict)\n",
    "\n",
    "            if any(ref_dict) is False:\n",
    "                print(\"no \" + ap_feature + \" in \" + alignment)\n",
    "                continue\n",
    "            # the first element in the dictionary is always\n",
    "            # an empty key that should be deleted\n",
    "            del ref_dict['']\n",
    "\n",
    "            # here we use regex to change amplicon\n",
    "            # positions to positions in refrence\n",
    "            for _index, row in af.iterrows():\n",
    "                feature_col = row[ap_feature + '_mutations']\n",
    "                dictionary = ref_dict\n",
    "                pattern = re.compile(r'(?<!\\d)(' + '|'\n",
    "                                     .join(re.escape(key) for key in dictionary\n",
    "                                           .keys()) + r')(?!\\d)')\n",
    "                result = pattern.sub(lambda x: dictionary[x.group()], feature_col)\n",
    "                ref_site_mutation_list.append(result)\n",
    "\n",
    "            ref_site_mutation_df = pd.DataFrame(ref_site_mutation_list)\n",
    "            # attach reference-numbered mutations\n",
    "            af[ap_feature + '_reference'] = ref_site_mutation_df\n",
    "        af['target'] = alignment\n",
    "        concatenated_amplicons = pd.concat([concatenated_amplicons, af], axis=0)\n",
    "concatenated_amplicons.to_csv(mutation_df, index=False)\n"
   ]
  }
 ],
 "metadata": {
  "kernelspec": {
   "display_name": "Python 3",
   "language": "python",
   "name": "python3"
  },
  "language_info": {
   "codemirror_mode": {
    "name": "ipython",
    "version": 3
   },
   "file_extension": ".py",
   "mimetype": "text/x-python",
   "name": "python",
   "nbconvert_exporter": "python",
   "pygments_lexer": "ipython3",
   "version": "3.8.6"
  }
 },
 "nbformat": 4,
 "nbformat_minor": 4
}
