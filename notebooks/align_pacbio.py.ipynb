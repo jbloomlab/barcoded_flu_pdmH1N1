{
 "cells": [
  {
   "cell_type": "markdown",
   "metadata": {},
   "source": [
    "# Align and call mutations in PacBio sequencing of viral genes."
   ]
  },
  {
   "cell_type": "markdown",
   "metadata": {},
   "source": [
    "This Python Jupyter notebook aligns the PacBio sequencing of the viral genes, calls mutations, and then puts them in numbering based on the viral ORF."
   ]
  },
  {
   "cell_type": "code",
   "execution_count": null,
   "metadata": {
    "execution": {
     "iopub.execute_input": "2022-05-03T18:12:26.206243Z",
     "iopub.status.busy": "2022-05-03T18:12:26.205690Z",
     "iopub.status.idle": "2022-05-03T18:13:29.736690Z",
     "shell.execute_reply": "2022-05-03T18:13:29.735635Z"
    }
   },
   "outputs": [],
   "source": [
    "import os\n",
    "import warnings\n",
    "\n",
    "from IPython.display import HTML, display\n",
    "\n",
    "import alignparse.ccs\n",
    "import alignparse.consensus\n",
    "import alignparse.minimap2\n",
    "import alignparse.targets\n",
    "import alignparse.utils\n",
    "from alignparse.constants import CBPALETTE\n",
    "\n",
    "import dms_variants.plotnine_themes\n",
    "import dms_variants.utils\n",
    "\n",
    "import pandas as pd\n",
    "\n",
    "import plotnine as p9"
   ]
  },
  {
   "cell_type": "code",
   "execution_count": null,
   "metadata": {
    "execution": {
     "iopub.execute_input": "2022-05-03T18:13:29.743293Z",
     "iopub.status.busy": "2022-05-03T18:13:29.742399Z",
     "iopub.status.idle": "2022-05-03T18:13:29.745127Z",
     "shell.execute_reply": "2022-05-03T18:13:29.744337Z"
    }
   },
   "outputs": [],
   "source": [
    "warnings.simplefilter('ignore')"
   ]
  },
  {
   "cell_type": "code",
   "execution_count": null,
   "metadata": {
    "execution": {
     "iopub.execute_input": "2022-05-03T18:13:29.750462Z",
     "iopub.status.busy": "2022-05-03T18:13:29.749688Z",
     "iopub.status.idle": "2022-05-03T18:13:29.752490Z",
     "shell.execute_reply": "2022-05-03T18:13:29.751727Z"
    }
   },
   "outputs": [],
   "source": [
    "p9.theme_set(dms_variants.plotnine_themes.theme_graygrid())"
   ]
  },
  {
   "cell_type": "markdown",
   "metadata": {},
   "source": [
    "Import snakemake variables"
   ]
  },
  {
   "cell_type": "code",
   "execution_count": null,
   "metadata": {
    "execution": {
     "iopub.execute_input": "2022-05-03T18:13:29.758238Z",
     "iopub.status.busy": "2022-05-03T18:13:29.757724Z",
     "iopub.status.idle": "2022-05-03T18:13:29.760271Z",
     "shell.execute_reply": "2022-05-03T18:13:29.759789Z"
    }
   },
   "outputs": [],
   "source": [
    "amplicons = snakemake.input.amplicons\n",
    "features = snakemake.input.features\n",
    "plot_amplicons = snakemake.output.plot_amplicons\n",
    "plot_alignment = snakemake.output.plot_alignment\n",
    "ccs_report = snakemake.input.ccs_report\n",
    "ccs_fastq = snakemake.input.ccs_fastq\n",
    "runs = snakemake.params.runs\n",
    "amplicon_to_reference_df = snakemake.input.amplicon_to_reference_df\n",
    "alignment_stats = snakemake.params.alignment_stats\n",
    "readstats_csv = snakemake.output.readstats_csv\n",
    "filter_reasons_csv = snakemake.output.filter_reasons_csv\n",
    "mutation_df = snakemake.output.mutation_df\n",
    "threads = snakemake.threads"
   ]
  },
  {
   "cell_type": "markdown",
   "metadata": {},
   "source": [
    "## Import target amplicons\n",
    "Here we import target files for amplicons that where made using primers that either aligned to ends of flu sequences ('termini') or primers aligning approximately to the middle of a gene ('mid')."
   ]
  },
  {
   "cell_type": "code",
   "execution_count": null,
   "metadata": {
    "execution": {
     "iopub.execute_input": "2022-05-03T18:13:29.764298Z",
     "iopub.status.busy": "2022-05-03T18:13:29.763840Z",
     "iopub.status.idle": "2022-05-03T18:13:29.799449Z",
     "shell.execute_reply": "2022-05-03T18:13:29.798890Z"
    }
   },
   "outputs": [],
   "source": [
    "targetfile = amplicons\n",
    "\n",
    "nlines_to_show = 100\n",
    "with open(targetfile) as f:\n",
    "    print(''.join(next(f) for _ in range(nlines_to_show)))"
   ]
  },
  {
   "cell_type": "markdown",
   "metadata": {},
   "source": [
    "Feature file defines features in amplicon genbank file."
   ]
  },
  {
   "cell_type": "code",
   "execution_count": null,
   "metadata": {
    "execution": {
     "iopub.execute_input": "2022-05-03T18:13:29.803246Z",
     "iopub.status.busy": "2022-05-03T18:13:29.802785Z",
     "iopub.status.idle": "2022-05-03T18:13:29.808401Z",
     "shell.execute_reply": "2022-05-03T18:13:29.807912Z"
    }
   },
   "outputs": [],
   "source": [
    "feature_parse_specs_file = features\n",
    "with open(feature_parse_specs_file) as f:\n",
    "    print(f.read())"
   ]
  },
  {
   "cell_type": "code",
   "execution_count": null,
   "metadata": {
    "execution": {
     "iopub.execute_input": "2022-05-03T18:13:29.812538Z",
     "iopub.status.busy": "2022-05-03T18:13:29.812014Z",
     "iopub.status.idle": "2022-05-03T18:13:29.891919Z",
     "shell.execute_reply": "2022-05-03T18:13:29.891235Z"
    }
   },
   "outputs": [],
   "source": [
    "targets = alignparse.targets.Targets(\n",
    "                seqsfile=targetfile,\n",
    "                feature_parse_specs=feature_parse_specs_file,\n",
    "                ignore_feature_parse_specs_keys=['default_2tags_no_parsed_ORF_2',\n",
    "                                                 'default_2tags',\n",
    "                                                 'default_8tags'],\n",
    "                allow_extra_features=True,\n",
    "                allow_clipped_muts_seqs=True)"
   ]
  },
  {
   "cell_type": "markdown",
   "metadata": {},
   "source": [
    "Now let's plot all transcript amplicons and save plots as a figure. "
   ]
  },
  {
   "cell_type": "code",
   "execution_count": null,
   "metadata": {
    "execution": {
     "iopub.execute_input": "2022-05-03T18:13:29.907775Z",
     "iopub.status.busy": "2022-05-03T18:13:29.907198Z",
     "iopub.status.idle": "2022-05-03T18:13:36.139476Z",
     "shell.execute_reply": "2022-05-03T18:13:36.140450Z"
    }
   },
   "outputs": [],
   "source": [
    "plot = targets.plot(ax_width=10)"
   ]
  },
  {
   "cell_type": "code",
   "execution_count": null,
   "metadata": {
    "execution": {
     "iopub.execute_input": "2022-05-03T18:13:36.146013Z",
     "iopub.status.busy": "2022-05-03T18:13:36.145635Z",
     "iopub.status.idle": "2022-05-03T18:13:37.578864Z",
     "shell.execute_reply": "2022-05-03T18:13:37.577821Z"
    }
   },
   "outputs": [],
   "source": [
    "print(f\"Saving figure to {plot_amplicons}\")\n",
    "plot.savefig(plot_amplicons, format=\"svg\")"
   ]
  },
  {
   "cell_type": "markdown",
   "metadata": {},
   "source": [
    "## Align pacbio reads"
   ]
  },
  {
   "cell_type": "markdown",
   "metadata": {},
   "source": [
    "Create pacbio run dataframe"
   ]
  },
  {
   "cell_type": "code",
   "execution_count": null,
   "metadata": {
    "execution": {
     "iopub.execute_input": "2022-05-03T18:13:37.585801Z",
     "iopub.status.busy": "2022-05-03T18:13:37.584893Z",
     "iopub.status.idle": "2022-05-03T18:13:37.612751Z",
     "shell.execute_reply": "2022-05-03T18:13:37.612161Z"
    }
   },
   "outputs": [],
   "source": [
    "pacbio_runs = pd.DataFrame(\n",
    "    {'name': runs, 'fastq': ccs_fastq, 'report': ccs_report}\n",
    ")\n",
    "display(HTML(pacbio_runs.to_html(index=False)))"
   ]
  },
  {
   "cell_type": "markdown",
   "metadata": {},
   "source": [
    "Now align all ccs to amplicons and filter for the ones that meet criteria defined in `fluCA09_features.yaml`."
   ]
  },
  {
   "cell_type": "markdown",
   "metadata": {},
   "source": [
    "Create an alignparse.minimap2.Mapper to run minimap2 with minimap [options](https://jbloomlab.github.io/alignparse/alignparse.minimap2.html#alignparse.minimap2.OPTIONS_VIRUS_W_DEL) that allow for large deletions in viral sequences. "
   ]
  },
  {
   "cell_type": "code",
   "execution_count": null,
   "metadata": {
    "execution": {
     "iopub.execute_input": "2022-05-03T18:13:37.623531Z",
     "iopub.status.busy": "2022-05-03T18:13:37.616790Z",
     "iopub.status.idle": "2022-05-03T18:13:37.845065Z",
     "shell.execute_reply": "2022-05-03T18:13:37.844075Z"
    }
   },
   "outputs": [],
   "source": [
    "mapper = alignparse.minimap2.Mapper(alignparse.minimap2.OPTIONS_VIRUS_W_DEL)\n",
    "\n",
    "print(f\"Using `minimap2` {mapper.version} with these options:\\n\"\n",
    "      + ' '.join(mapper.options))"
   ]
  },
  {
   "cell_type": "code",
   "execution_count": null,
   "metadata": {
    "execution": {
     "iopub.execute_input": "2022-05-03T18:13:37.851195Z",
     "iopub.status.busy": "2022-05-03T18:13:37.850293Z",
     "iopub.status.idle": "2022-05-03T18:13:37.852595Z",
     "shell.execute_reply": "2022-05-03T18:13:37.852053Z"
    }
   },
   "outputs": [],
   "source": [
    "align_and_parse_outdir = os.path.join(alignment_stats)"
   ]
  },
  {
   "cell_type": "code",
   "execution_count": null,
   "metadata": {
    "execution": {
     "iopub.execute_input": "2022-05-03T18:13:37.856967Z",
     "iopub.status.busy": "2022-05-03T18:13:37.856431Z",
     "iopub.status.idle": "2022-05-03T23:18:06.227061Z",
     "shell.execute_reply": "2022-05-03T23:18:06.228214Z"
    }
   },
   "outputs": [],
   "source": [
    "readstats, aligned, filtered = targets.align_and_parse(\n",
    "    df=pacbio_runs,\n",
    "    mapper=mapper,\n",
    "    outdir=align_and_parse_outdir,\n",
    "    name_col='name',\n",
    "    queryfile_col='fastq',\n",
    "    overwrite=True,  # overwrite any existing output\n",
    "    to_csv=True,\n",
    "    ncpus=threads,\n",
    ")"
   ]
  },
  {
   "cell_type": "markdown",
   "metadata": {},
   "source": [
    "Save readstats to CSV for future reference."
   ]
  },
  {
   "cell_type": "code",
   "execution_count": null,
   "metadata": {
    "execution": {
     "iopub.execute_input": "2022-05-03T23:18:06.250712Z",
     "iopub.status.busy": "2022-05-03T23:18:06.250131Z",
     "iopub.status.idle": "2022-05-03T23:18:06.401007Z",
     "shell.execute_reply": "2022-05-03T23:18:06.399937Z"
    }
   },
   "outputs": [],
   "source": [
    "readstats.to_csv(readstats_csv)"
   ]
  },
  {
   "cell_type": "code",
   "execution_count": null,
   "metadata": {},
   "outputs": [],
   "source": [
    "readstats = pd.read_csv(readstats_csv)"
   ]
  },
  {
   "cell_type": "markdown",
   "metadata": {},
   "source": [
    "Here are read alignment statistics telling how many reads have been aligned or filtered out for each reference amplicon."
   ]
  },
  {
   "cell_type": "code",
   "execution_count": null,
   "metadata": {
    "execution": {
     "iopub.execute_input": "2022-05-03T23:18:06.242396Z",
     "iopub.status.busy": "2022-05-03T23:18:06.241478Z",
     "iopub.status.idle": "2022-05-03T23:18:06.244968Z",
     "shell.execute_reply": "2022-05-03T23:18:06.245565Z"
    }
   },
   "outputs": [],
   "source": [
    "readstats.head()"
   ]
  },
  {
   "cell_type": "code",
   "execution_count": null,
   "metadata": {
    "execution": {
     "iopub.execute_input": "2022-05-03T23:18:06.414982Z",
     "iopub.status.busy": "2022-05-03T23:18:06.411776Z",
     "iopub.status.idle": "2022-05-03T23:18:08.202717Z",
     "shell.execute_reply": "2022-05-03T23:18:08.203686Z"
    }
   },
   "outputs": [],
   "source": [
    "p = (\n",
    "    p9.ggplot(readstats.assign(\n",
    "        category=lambda x: pd.Categorical(x['category'],\n",
    "                                          x['category'].unique(),\n",
    "                                          ordered=True),\n",
    "        is_aligned=lambda x: x['category'].str.contains('aligned'),),\n",
    "        p9.aes('category', 'count', fill='is_aligned'))\n",
    "    + p9.geom_bar(stat='identity')\n",
    "    + p9.facet_wrap('~ name', nrow=1)\n",
    "    + p9.theme(axis_text_x=p9.element_text(angle=90),\n",
    "               panel_grid_major_x=p9.element_blank(),\n",
    "               figure_size=(10, 5),\n",
    "               )\n",
    "    + p9.scale_fill_manual(values=CBPALETTE)\n",
    ")\n",
    "_ = p.draw()\n",
    "\n",
    "p9.ggsave(plot=p, filename=plot_alignment, verbose=False)"
   ]
  },
  {
   "cell_type": "markdown",
   "metadata": {},
   "source": [
    "Group counts by gene across runs. Plot fraction filtered/aligned:"
   ]
  },
  {
   "cell_type": "code",
   "execution_count": null,
   "metadata": {},
   "outputs": [],
   "source": [
    "readstats[['filtered','gene']] = readstats['category'].str.split(' ', expand=True)"
   ]
  },
  {
   "cell_type": "code",
   "execution_count": null,
   "metadata": {},
   "outputs": [],
   "source": [
    "readstats['count_gene'] = readstats.groupby(['filtered','gene'])['count'].transform('sum')\n",
    "readstats['total_gene'] = readstats.groupby(['gene'])['count'].transform('sum')\n",
    "readstats['frac'] = readstats['count_gene'] / readstats['total_gene']\n",
    "readstats.head()"
   ]
  },
  {
   "cell_type": "markdown",
   "metadata": {},
   "source": [
    "Save fractions to CSV:"
   ]
  },
  {
   "cell_type": "code",
   "execution_count": null,
   "metadata": {},
   "outputs": [],
   "source": [
    "readstats[['gene', 'filtered', 'count', 'total_gene', 'frac']].to_csv('filtered_by_gene.csv')"
   ]
  },
  {
   "cell_type": "markdown",
   "metadata": {},
   "source": [
    "Plot normalized fractions:"
   ]
  },
  {
   "cell_type": "code",
   "execution_count": null,
   "metadata": {},
   "outputs": [],
   "source": [
    "p = (\n",
    "    p9.ggplot((readstats\n",
    "               [['filtered','gene','frac']]\n",
    "               .drop_duplicates()\n",
    "               .query('filtered != \"unmapped\"')),\n",
    "        p9.aes('gene', 'frac', fill='filtered'))\n",
    "    + p9.geom_bar(stat='identity')\n",
    "    + p9.theme(axis_text_x=p9.element_text(angle=90),\n",
    "               panel_grid_major_x=p9.element_blank(),\n",
    "               figure_size=(6, 3),\n",
    "               )\n",
    "    + p9.scale_fill_manual(values=[CBPALETTE[1],CBPALETTE[0]])\n",
    ")\n",
    "_ = p.draw()"
   ]
  },
  {
   "cell_type": "markdown",
   "metadata": {},
   "source": [
    "Now lets look at the most common reasons why some reads have been filtered out."
   ]
  },
  {
   "cell_type": "code",
   "execution_count": null,
   "metadata": {
    "execution": {
     "iopub.execute_input": "2022-05-03T23:18:08.210663Z",
     "iopub.status.busy": "2022-05-03T23:18:08.209751Z",
     "iopub.status.idle": "2022-05-03T23:18:10.403553Z",
     "shell.execute_reply": "2022-05-03T23:18:10.402683Z"
    }
   },
   "outputs": [],
   "source": [
    "concatenated_ff_df = pd.DataFrame()\n",
    "for filtered_file in filtered:\n",
    "    ff = pd.read_csv(filtered[filtered_file], na_filter=False)\n",
    "    ff['gene'] = filtered_file\n",
    "    concatenated_ff_df = pd.concat([concatenated_ff_df, ff], axis=0)"
   ]
  },
  {
   "cell_type": "markdown",
   "metadata": {},
   "source": [
    "Save concatenated_ff_df to CSV for future reference:"
   ]
  },
  {
   "cell_type": "code",
   "execution_count": null,
   "metadata": {
    "execution": {
     "iopub.execute_input": "2022-05-03T23:18:10.411087Z",
     "iopub.status.busy": "2022-05-03T23:18:10.407336Z",
     "iopub.status.idle": "2022-05-03T23:18:14.617481Z",
     "shell.execute_reply": "2022-05-03T23:18:14.616353Z"
    }
   },
   "outputs": [],
   "source": [
    "concatenated_ff_df.to_csv(filter_reasons_csv)"
   ]
  },
  {
   "cell_type": "code",
   "execution_count": null,
   "metadata": {},
   "outputs": [],
   "source": [
    "concatenated_ff_df = pd.read_csv(filter_reasons_csv)"
   ]
  },
  {
   "cell_type": "code",
   "execution_count": null,
   "metadata": {},
   "outputs": [],
   "source": [
    "concatenated_ff_df.head()"
   ]
  },
  {
   "cell_type": "code",
   "execution_count": null,
   "metadata": {
    "execution": {
     "iopub.execute_input": "2022-05-03T23:18:14.703504Z",
     "iopub.status.busy": "2022-05-03T23:18:14.702478Z",
     "iopub.status.idle": "2022-05-03T23:18:25.776173Z",
     "shell.execute_reply": "2022-05-03T23:18:25.777101Z"
    }
   },
   "outputs": [],
   "source": [
    "p = (\n",
    "    p9.ggplot(concatenated_ff_df, p9.aes('filter_reason'))\n",
    "    + p9.geom_bar()\n",
    "    + p9.facet_wrap('~ gene', ncol=5)\n",
    "    + p9.theme(axis_text_x=p9.element_text(angle=90),\n",
    "               figure_size=(18, 8),\n",
    "               panel_grid_major_x=p9.element_blank(),\n",
    "               )\n",
    "    )\n",
    "_ = p.draw()"
   ]
  },
  {
   "cell_type": "markdown",
   "metadata": {},
   "source": [
    "Count number of CCS filtered for each gene. Count number of CCS filtered for each reason."
   ]
  },
  {
   "cell_type": "code",
   "execution_count": null,
   "metadata": {},
   "outputs": [],
   "source": [
    "ff_counts_df = (\n",
    "    concatenated_ff_df\n",
    "    .groupby(['gene','filter_reason'])\n",
    "    .count()\n",
    "    .reset_index()\n",
    "    .rename(columns={'name':'count'})\n",
    "    [['gene','filter_reason','count']])\n",
    "ff_counts_df['total_gene'] = ff_counts_df.groupby(['gene'])['count'].transform('sum')\n",
    "ff_counts_df['frac_filtered_reason'] = ff_counts_df['count'] / ff_counts_df['total_gene']\n",
    "display(ff_counts_df)"
   ]
  },
  {
   "cell_type": "markdown",
   "metadata": {},
   "source": [
    "Save fractions to CSV:"
   ]
  },
  {
   "cell_type": "code",
   "execution_count": null,
   "metadata": {},
   "outputs": [],
   "source": [
    "ff_counts_df.to_csv('filtered_reasons.csv')"
   ]
  },
  {
   "cell_type": "markdown",
   "metadata": {},
   "source": [
    "Plot fraction:"
   ]
  },
  {
   "cell_type": "code",
   "execution_count": null,
   "metadata": {},
   "outputs": [],
   "source": [
    "p = (\n",
    "    p9.ggplot(ff_counts_df, p9.aes(x='filter_reason',\n",
    "                                   y='frac_filtered_reason',\n",
    "                                   fill='filter_reason'))\n",
    "    + p9.geom_bar(stat='identity')\n",
    "    + p9.facet_wrap('~ gene', ncol=4)\n",
    "    + p9.theme(axis_text_x=p9.element_text(angle=90),\n",
    "               figure_size=(18, 10),\n",
    "               panel_grid_major_x=p9.element_blank(),\n",
    "               )\n",
    "    )\n",
    "_ = p.draw()"
   ]
  },
  {
   "cell_type": "code",
   "execution_count": null,
   "metadata": {},
   "outputs": [],
   "source": [
    "p = (\n",
    "    p9.ggplot(ff_counts_df\n",
    "              .query('gene == \"PB2mid\" or gene == \"PB2termini\" '\n",
    "                     'or gene == \"PB1mid\" or gene == \"PB1termini\" '\n",
    "                     'or gene == \"PAmid\" or gene == \"PAtermini\"'),\n",
    "                      p9.aes(x='filter_reason',\n",
    "                                   y='frac_filtered_reason',\n",
    "                                   fill='filter_reason'))\n",
    "    + p9.geom_bar(stat='identity')\n",
    "    + p9.facet_wrap('~ gene', ncol=2)\n",
    "    + p9.theme(axis_text_x=p9.element_text(angle=90),\n",
    "               figure_size=(10, 12),\n",
    "               panel_grid_major_x=p9.element_blank(),\n",
    "               )\n",
    "    )\n",
    "_ = p.draw()"
   ]
  },
  {
   "cell_type": "code",
   "execution_count": null,
   "metadata": {},
   "outputs": [],
   "source": [
    "p = (\n",
    "    p9.ggplot(ff_counts_df\n",
    "              .query('gene == \"NPmid\" or gene == \"NPtermini\" '\n",
    "                     'or gene == \"NSmid\" or gene == \"NStermini\"'),\n",
    "                      p9.aes(x='filter_reason',\n",
    "                                   y='frac_filtered_reason',\n",
    "                                   fill='filter_reason'))\n",
    "    + p9.geom_bar(stat='identity')\n",
    "    + p9.facet_wrap('~ gene', ncol=2)\n",
    "    + p9.theme(axis_text_x=p9.element_text(angle=90),\n",
    "               figure_size=(10, 8),\n",
    "               panel_grid_major_x=p9.element_blank(),\n",
    "               )\n",
    "    )\n",
    "_ = p.draw()"
   ]
  },
  {
   "cell_type": "markdown",
   "metadata": {},
   "source": [
    "## Get all mutations in a common ORF numbering system\n",
    "The above code has called mutations in key features.\n",
    "Now we need to actually convert these into the ORF-based numbering scheme that we care about.\n",
    "\n",
    "First, we read a CSV file that maps the numbering of sites in each feature to the ORF numbering:"
   ]
  },
  {
   "cell_type": "code",
   "execution_count": null,
   "metadata": {
    "execution": {
     "iopub.execute_input": "2022-05-03T23:18:25.786762Z",
     "iopub.status.busy": "2022-05-03T23:18:25.785854Z",
     "iopub.status.idle": "2022-05-03T23:18:25.853362Z",
     "shell.execute_reply": "2022-05-03T23:18:25.852867Z"
    }
   },
   "outputs": [],
   "source": [
    "amplicon_to_reference = pd.read_csv(amplicon_to_reference_df)\n",
    "amplicon_to_reference.head()"
   ]
  },
  {
   "cell_type": "markdown",
   "metadata": {},
   "source": [
    "We extract the names of the features of interest from `amplicon_to_reference`.\n",
    "The first four columns are `target`, `transcript`, `gene`, `wt_nt`, and `ORF_position` and are not relevant to features, so we will not include them. "
   ]
  },
  {
   "cell_type": "code",
   "execution_count": null,
   "metadata": {
    "execution": {
     "iopub.execute_input": "2022-05-03T23:18:25.857386Z",
     "iopub.status.busy": "2022-05-03T23:18:25.856921Z",
     "iopub.status.idle": "2022-05-03T23:18:25.860415Z",
     "shell.execute_reply": "2022-05-03T23:18:25.860013Z"
    }
   },
   "outputs": [],
   "source": [
    "column_names = amplicon_to_reference.columns.tolist()\n",
    "\n",
    "assert amplicon_to_reference.columns.tolist()[:5] \\\n",
    "    == ['target', 'transcript', 'gene', 'wt_nt', 'ORF_position'], \\\n",
    "    amplicon_to_reference\n",
    "\n",
    "parsed_features = column_names[5:]\n",
    "print(parsed_features)"
   ]
  },
  {
   "cell_type": "markdown",
   "metadata": {},
   "source": [
    "Here are the aligned files made by `targets.align_and_parse`."
   ]
  },
  {
   "cell_type": "code",
   "execution_count": null,
   "metadata": {
    "execution": {
     "iopub.execute_input": "2022-05-03T23:18:25.864073Z",
     "iopub.status.busy": "2022-05-03T23:18:25.863612Z",
     "iopub.status.idle": "2022-05-03T23:18:25.868272Z",
     "shell.execute_reply": "2022-05-03T23:18:25.867822Z"
    }
   },
   "outputs": [],
   "source": [
    "for aligned_files in aligned:\n",
    "    print(aligned[aligned_files])"
   ]
  },
  {
   "cell_type": "markdown",
   "metadata": {},
   "source": [
    "Here we read in each aligned transcript CSV file that was made by `targets.align_and_parse`.\n",
    "Then we re-number the mutations from the feature-level numbering in that file to an ORF-specific numbering scheme.\n",
    "Next, we combine all of the mutations from each feature into a single column (`all_mutations_orf_numbered`) that gives all mutations in that CCS, and also add the names of the flu genes and transcripts.\n",
    "Then we write the resulting data frame of mutations to a CSV."
   ]
  },
  {
   "cell_type": "code",
   "execution_count": null,
   "metadata": {
    "execution": {
     "iopub.execute_input": "2022-05-03T23:18:25.879668Z",
     "iopub.status.busy": "2022-05-03T23:18:25.879047Z",
     "iopub.status.idle": "2022-05-03T23:19:58.195535Z",
     "shell.execute_reply": "2022-05-03T23:19:58.194651Z"
    }
   },
   "outputs": [],
   "source": [
    "orf_numbered_alignments = pd.DataFrame()\n",
    "\n",
    "for target, alignments_csv in aligned.items():\n",
    "    \n",
    "    # Load alignments\n",
    "    alignments = pd.read_csv(alignments_csv, na_filter=False)\n",
    "    \n",
    "    print(f\"Analyzing {len(alignments)} aligned CCSs for {target}\")\n",
    "    \n",
    "    # Intersection of parsed_features and this targets' features\n",
    "    t = targets.get_target(target)\n",
    "    target_features = [f.name for f in t.features]\n",
    "    output_features = [p for p in parsed_features if p in target_features]\n",
    "    print(f\"{target} has the following parsed features:\")\n",
    "    for p in output_features:\n",
    "        print(p)\n",
    "    print('\\n')\n",
    "    \n",
    "    for feature in output_features:\n",
    "        number_mapping = (\n",
    "                amplicon_to_reference\n",
    "                .query('target == @target')\n",
    "                .query(f\"{feature}.notnull()\", engine='python')\n",
    "                .assign(feature_num=lambda x: x[feature].astype(int))\n",
    "                )\n",
    "        print(f\"Map for {feature}:\")\n",
    "        print(number_mapping)\n",
    "\n",
    "        renumberer = alignparse.utils.MutationRenumber(\n",
    "                                      number_mapping=number_mapping,\n",
    "                                      old_num_col='feature_num',\n",
    "                                      new_num_col='ORF_position',\n",
    "                                      wt_nt_col='wt_nt',\n",
    "                                      err_suffix=f\" for {feature} in {target}\",\n",
    "                                      )\n",
    "\n",
    "        alignments[f\"{feature}_mutations_orf_numbered\"] = (\n",
    "                    alignments[f\"{feature}_mutations\"]\n",
    "                    .map(renumberer.renumber_muts)\n",
    "                    )\n",
    "\n",
    "    alignments['target'] = target\n",
    "    # aggregate mutations across all features to get all mutations in ORF\n",
    "    alignments = (\n",
    "    alignments.assign(all_mutations_orf_numbered=lambda x: x.apply(\n",
    "                    lambda row: alignparse.utils.sort_mutations([\n",
    "                            row[f\"{feature}_mutations_orf_numbered\"]\n",
    "                            for feature in output_features\n",
    "                            ]),\n",
    "                    axis=1,\n",
    "                    )\n",
    "            )\n",
    "    # merge in the viral trandcript and gene names\n",
    "    .merge(amplicon_to_reference[['target', 'gene',\n",
    "                                  'transcript']].drop_duplicates(),\n",
    "           how='left', on='target')\n",
    "    )\n",
    "    orf_numbered_alignments = orf_numbered_alignments.append(alignments)\n",
    "\n",
    "\n",
    "\n",
    "assert orf_numbered_alignments['gene'].notnull().all()\n",
    "\n",
    "print(f\"\\nWriting ORF-numbered alignments to {mutation_df}\")\n",
    "orf_numbered_alignments.to_csv(mutation_df, index=False, compression='gzip',)"
   ]
  }
 ],
 "metadata": {
  "kernelspec": {
   "display_name": "Python 3",
   "language": "python",
   "name": "python3"
  },
  "language_info": {
   "codemirror_mode": {
    "name": "ipython",
    "version": 3
   },
   "file_extension": ".py",
   "mimetype": "text/x-python",
   "name": "python",
   "nbconvert_exporter": "python",
   "pygments_lexer": "ipython3",
   "version": "3.8.6"
  }
 },
 "nbformat": 4,
 "nbformat_minor": 4
}
