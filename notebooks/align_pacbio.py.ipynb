{
 "cells": [
  {
   "cell_type": "markdown",
   "metadata": {},
   "source": [
    "This notebook imports and aligns pacbio amplicons. "
   ]
  },
  {
   "cell_type": "code",
   "execution_count": 1,
   "metadata": {},
   "outputs": [],
   "source": [
    "import os\n",
    "import warnings\n",
    "\n",
    "from IPython.display import HTML, display\n",
    "\n",
    "import numpy\n",
    "\n",
    "import pandas as pd\n",
    "\n",
    "import alignparse.ccs\n",
    "import alignparse.consensus\n",
    "import alignparse.minimap2\n",
    "import alignparse.targets\n",
    "from alignparse.constants import CBPALETTE\n",
    "\n",
    "import dms_variants.plotnine_themes\n",
    "import dms_variants.utils\n",
    "\n",
    "import plotnine as p9"
   ]
  },
  {
   "cell_type": "code",
   "execution_count": 2,
   "metadata": {},
   "outputs": [],
   "source": [
    "warnings.simplefilter('ignore')"
   ]
  },
  {
   "cell_type": "code",
   "execution_count": 3,
   "metadata": {},
   "outputs": [],
   "source": [
    "p9.theme_set(dms_variants.plotnine_themes.theme_graygrid())"
   ]
  },
  {
   "cell_type": "markdown",
   "metadata": {},
   "source": [
    "Import snakemake variables"
   ]
  },
  {
   "cell_type": "code",
   "execution_count": 4,
   "metadata": {},
   "outputs": [],
   "source": [
    "# amplicons = snakemake.input.amplicons\n",
    "# features = snakemake.input.features\n",
    "# plot_amplicons = snakemake.output.plot_amplicons\n",
    "# ccs_report = snakemake.input.ccs_report\n",
    "# ccs_fastq = snakemake.input.ccs_fastq\n",
    "# runs = snakemake.params.runs\n",
    "# alignment_stats = snakemake.output.alignment_stats\n",
    "\n",
    "amplicons = \"../data/flu_sequences/pacbio_amplicons/fluCA09.gb\"\n",
    "features = \"../data/flu_sequences/pacbio_amplicons/fluCA09_features.yaml\"\n",
    "plot_amplicons = \"../results/pacbio/hashing_highMOI_amplicons.svg\"\n",
    "ccs_report = \"../results/pacbio/hashing_highMOI_2020-10-20_all_segments_run1_report.txt\"\n",
    "ccs_fastq = \"../results/pacbio/hashing_highMOI_2020-10-20_all_segments_run1_ccs.fastq.gz\"\n",
    "runs = [\"hashing_highMOI_2020-10-20_all_segments_run1_ccs\"]\n",
    "outdir= \"../results/pacbio/CA09_align_and_parse\"\n",
    "os.makedirs(outdir, exist_ok=True)\n",
    "outdir= \"../results/pacbio/CA09_align_and_parse\"\n",
    "alignment_stats = outdir\n",
    "\n"
   ]
  },
  {
   "cell_type": "markdown",
   "metadata": {},
   "source": [
    "Here we import targetfiles for amplicons that where made using primers that either aligned to ends of flu sequences ('termini') or primers aligning approximately to the middle of a segment ('mid')."
   ]
  },
  {
   "cell_type": "code",
   "execution_count": 19,
   "metadata": {},
   "outputs": [
    {
     "name": "stdout",
     "output_type": "stream",
     "text": [
      "LOCUS       PB2mid                2424 bp ds-DNA     linear   SYN 02-NOV-2020\n",
      "DEFINITION  PB2mid\n",
      "ACCESSION   PB2mid\n",
      "VERSION     .\n",
      "KEYWORDS    .\n",
      "SOURCE      PB2mid\n",
      "  ORGANISM  \n",
      "FEATURES             Location/Qualifiers\n",
      "     sequenced_mRNA_1 1..1169\n",
      "     variant_tag_2    1052\n",
      "     final_mRNA_nts   1179..1182\n",
      "     polyA            1183..1212\n",
      "     UMI              1213..1224\n",
      "     cellbarcode      1225..1240\n",
      "     Read1            1241..1260\n",
      "     termini5         1261..1287\n",
      "     sequenced_mRNA_2 1288..2424\n",
      "     variant_tag_1    1461\n",
      "ORIGIN\n",
      "        1 cagctattct cagaaaggca accaggagat tgatccagtt gatagtaagc gggagagatg\n",
      "       61 agcagtcaat tgctgaggca ataattgtgg ccatggtatt ctcacaggag gattgcatga\n",
      "      121 tcaaggcagt taggggcgat ctgaactttg tcaatagggc aaaccagcga ctgaacccca\n",
      "      181 tgcaccaact cttgaggcat ttccaaaaag atgcaaaagt gcttttccag aactggggaa\n",
      "      241 ttgaatccat cgacaatgtg atgggaatga tcggaatact gcccgacatg accccaagca\n",
      "      301 cggagatgtc gctgagaggg ataagagtca gcaaaatggg agtagatgaa tactccagca\n",
      "      361 cggagagagt ggtagtgagt attgaccgat ttttaagggt tagagatcaa agagggaacg\n",
      "      421 tactattgtc tcccgaagaa gtcagtgaaa cgcaaggaac tgagaagttg acaataactt\n",
      "      481 attcgtcatc aatgatgtgg gagatcaatg gccctgagtc agtgctagtc aacacttatc\n",
      "      541 aatggataat caggaactgg gaaattgtga aaattcaatg gtcacaagat cccacaatgt\n",
      "      601 tatacaacaa aatggaattt gaaccatttc agtctcttgt ccctaaggca accagaagcc\n",
      "      661 ggtacagtgg attcgtaagg acactgttcc agcaaatgcg ggatgtgctt gggacatttg\n",
      "      721 acactgtcca aataataaaa cttctcccct ttgctgctgc cccaccagaa cagagtagga\n",
      "      781 tgcaattttc ctcattgact gtgaatgtga gaggatcagg gttgaggata ctggtaagag\n",
      "      841 gcaattctcc agtattcaat tacaacaagg caaccaaacg acttacagtt cttggaaagg\n",
      "      901 atgcaggtgc attgactgaa gatccagatg aaggcacatc tggggtggag tctgctgtcc\n",
      "      961 tgagaggatt tctcattttg ggcaaagaag acaagagata tggcccagca ttaagcatca\n",
      "     1021 atgaactgag caatcttgca aaaggagaga argctaatgt gctaattggg caaggggacg\n",
      "     1081 tagtgttggt aatgaaacga aaacgggact ctagcatact tactgacagc cagacagcga\n",
      "     1141 ccaaaagaat tcggatggcc atcaattagt gtcgaatagt ttaaaaaaaa aaaaaaaaaa\n",
      "     1201 aaaaaaaaaa aannnnnnnn nnnnnnnnnn nnnnnnnnnn agatcggaag agcgtcgtgt\n",
      "     1261 agcgaaagca ggtcaattat attcaatatg gagagaataa aagaactgag agatctaatg\n",
      "     1321 tcgcagtccc gcactcgcga gatactcact aagaccactg tggaccatat ggccataatc\n",
      "     1381 aaaaagtaca catcaggaag gcaagagaag aaccccgcac tcagaatgaa gtggatgatg\n",
      "     1441 gcaatgagat acccaattac rgcagacaag agaataatgg acatgattcc agagaggaat\n",
      "     1501 gaacaaggac aaaccctctg gagcaaaaca aacgatgctg gatcagaccg agtgatggta\n",
      "     1561 tcacctctgg ccgtaacatg gtggaatagg aatggcccaa caacaagtac agttcattac\n",
      "     1621 cctaaggtat ataaaactta tttcgaaaag gtcgaaaggt tgaaacatgg taccttcggc\n",
      "     1681 cctgtccact tcagaaatca agttaaaata aggaggagag ttgatacaaa ccctggccat\n",
      "     1741 gcagatctca gtgccaagga ggcacaggat gtgattatgg aagttgtttt cccaaatgaa\n",
      "     1801 gtgggggcaa gaatactgac atcagagtca cagctggcaa taacaaaaga gaagaaagaa\n",
      "     1861 gagctccagg attgtaaaat tgctcccttg atggtggcgt acatgctaga aagagaattg\n",
      "     1921 gtccgtaaaa caaggtttct cccagtagcc ggcggaacag gcagtgttta tattgaagtg\n",
      "     1981 ttgcacttaa cccaagggac gtgctgggag cagatgtaca ctccaggagg agaagtgaga\n",
      "     2041 aatgatgatg ttgaccaaag tttgattatc gctgctagaa acatagtaag aagagcagca\n",
      "     2101 gtgtcagcag acccattagc atctctcttg gaaatgtgcc acagcacaca gattggagga\n",
      "     2161 gtaaggatgg tggacatcct tagacagaat ccaactgagg aacaagccgt agacatatgc\n",
      "     2221 aaggcagcaa tagggttgag gattagctca tctttcagtt ttggtgggtt cactttcaaa\n",
      "     2281 aggacaagcg gatcatcagt caagaaagaa gaagaagtgc taacgggcaa cctccaaaca\n",
      "     2341 ctgaaaataa gagtacatga agggtatgaa gaattcacaa tggttgggag aagagcaaca\n",
      "     2401 gctattctca gaaaggcaac cagg\n",
      "//\n",
      "LOCUS       PB2termini                2430 bp ds-DNA     linear   SYN \n",
      "DEFINITION  PB2termini\n",
      "ACCESSION   PB2termini\n",
      "VERSION     .\n",
      "KEYWORDS    .\n",
      "SOURCE      PB2termini\n",
      "  ORGANISM  \n",
      "FEATURES             Location/Qualifiers\n",
      "     sequenced_mRNA_1   1..2275\n",
      "     variant_tag_1      169\n",
      "     variant_tag_2      2158\n",
      "     final_mRNA_nts     2285..2288\n",
      "     polyA              2289..2318\n",
      "     UMI                2319..2330\n",
      "     cellbarcode        2331..2346\n",
      "     Read1              2347..2366\n",
      "     termini5           2367..2393\n",
      "     sequenced_mRNA_2   2394..2430\n",
      "ORIGIN\n",
      "        1 gagaataaaa gaactgagag atctaatgtc gcagtcccgc actcgcgaga tactcactaa\n",
      "       61 gaccactgtg gaccatatgg ccataatcaa aaagtacaca tcaggaaggc aagagaagaa\n",
      "      121 ccccgcactc agaatgaagt ggatgatggc aatgagatac ccaattacrg cagacaagag\n",
      "      181 aataatggac atgattccag agaggaatga acaaggacaa accctctgga gcaaaacaaa\n",
      "      241 cgatgctgga tcagaccgag tgatggtatc acctctggcc gtaacatggt ggaataggaa\n",
      "      301 tggcccaaca acaagtacag ttcattaccc taaggtatat aaaacttatt tcgaaaaggt\n",
      "      361 cgaaaggttg aaacatggta ccttcggccc tgtccacttc agaaatcaag ttaaaataag\n",
      "      421 gaggagagtt gatacaaacc ctggccatgc agatctcagt gccaaggagg cacaggatgt\n",
      "      481 gattatggaa gttgttttcc caaatgaagt gggggcaaga atactgacat cagagtcaca\n",
      "      541 gctggcaata acaaaagaga agaaagaaga gctccaggat tgtaaaattg ctcccttgat\n",
      "      601 ggtggcgtac atgctagaaa gagaattggt ccgtaaaaca aggtttctcc cagtagccgg\n",
      "      661 cggaacaggc agtgtttata ttgaagtgtt gcacttaacc caagggacgt gctgggagca\n",
      "      721 gatgtacact ccaggaggag aagtgagaaa tgatgatgtt gaccaaagtt tgattatcgc\n",
      "      781 tgctagaaac atagtaagaa gagcagcagt gtcagcagac ccattagcat ctctcttgga\n",
      "      841 aatgtgccac agcacacaga ttggaggagt aaggatggtg gacatcctta gacagaatcc\n",
      "      901 aactgaggaa caagccgtag acatatgcaa ggcagcaata gggttgagga ttagctcatc\n",
      "      961 tttcagtttt ggtgggttca ctttcaaaag gacaagcgga tcatcagtca agaaagaaga\n",
      "     1021 agaagtgcta acgggcaacc tccaaacact gaaaataaga gtacatgaag ggtatgaaga\n",
      "     1081 attcacaatg gttgggagaa gagcaacagc tattctcaga aaggcaacca ggagattgat\n",
      "     1141 ccagttgata gtaagcggga gagatgagca gtcaattgct gaggcaataa ttgtggccat\n",
      "\n"
     ]
    }
   ],
   "source": [
    "targetfile = amplicons\n",
    "\n",
    "nlines_to_show = 100\n",
    "with open(targetfile) as f:\n",
    "    print(''.join(next(f) for _ in range(nlines_to_show)))"
   ]
  },
  {
   "cell_type": "markdown",
   "metadata": {},
   "source": [
    "Feature file defines features in amplicon genbank file. "
   ]
  },
  {
   "cell_type": "code",
   "execution_count": 43,
   "metadata": {},
   "outputs": [
    {
     "name": "stdout",
     "output_type": "stream",
     "text": [
      "# default for genes with two variant tags\n",
      "default_2tags: &default_2tags\n",
      "  query_clip5: 5\n",
      "  query_clip3: 5\n",
      "  sequenced_mRNA_1:\n",
      "    filter:\n",
      "      clip5: 5\n",
      "      mutation_nt_count: null\n",
      "      mutation_op_count: 10\n",
      "    return: [mutations, accuracy]\n",
      "  sequenced_mRNA_2:\n",
      "    filter:\n",
      "      clip3: 5\n",
      "      mutation_nt_count: null\n",
      "      mutation_op_count: 10\n",
      "    return: [mutations, accuracy]  \n",
      "  final_mRNA_nts:\n",
      "    filter:\n",
      "      mutation_nt_count: null\n",
      "      mutation_op_count: 2\n",
      "  polyA:\n",
      "    filter:\n",
      "      mutation_nt_count: null\n",
      "      mutation_op_count: 4\n",
      "  UMI:\n",
      "    return: [sequence, accuracy]\n",
      "  cellbarcode:\n",
      "    return: [sequence, accuracy]\n",
      "  variant_tag_1:\n",
      "    filter:\n",
      "      mutation_nt_count: 1\n",
      "      mutation_op_count: null\n",
      "    return: sequence\n",
      "  variant_tag_2:\n",
      "    filter:\n",
      "      mutation_nt_count: 1\n",
      "      mutation_op_count: null\n",
      "    return: sequence\n",
      "\n",
      "# use defaults to define specs for actual genes\n",
      "PB2mid:\n",
      "  <<: *default_2tags\n",
      "PB2termini:\n",
      "  <<: *default_2tags\n"
     ]
    }
   ],
   "source": [
    "feature_parse_specs_file = features\n",
    "with open(feature_parse_specs_file) as f:\n",
    "    print(f.read())"
   ]
  },
  {
   "cell_type": "code",
   "execution_count": 44,
   "metadata": {},
   "outputs": [],
   "source": [
    "targets = alignparse.targets.Targets(\n",
    "                seqsfile=targetfile,\n",
    "                feature_parse_specs=feature_parse_specs_file,\n",
    "                ignore_feature_parse_specs_keys=['default_2tags'],\n",
    "                allow_extra_features=True,\n",
    "                allow_clipped_muts_seqs=True)"
   ]
  },
  {
   "cell_type": "markdown",
   "metadata": {},
   "source": [
    "Now let's plot all segment amplicons."
   ]
  },
  {
   "cell_type": "code",
   "execution_count": 45,
   "metadata": {},
   "outputs": [
    {
     "data": {
      "image/png": "[encoded data removed]",
      "text/plain": [
       "<Figure size 720x432 with 2 Axes>"
      ]
     },
     "metadata": {},
     "output_type": "display_data"
    }
   ],
   "source": [
    "plot = targets.plot(ax_width=10)"
   ]
  },
  {
   "cell_type": "code",
   "execution_count": 46,
   "metadata": {},
   "outputs": [
    {
     "name": "stdout",
     "output_type": "stream",
     "text": [
      "Saving figure to ../results/pacbio/hashing_highMOI_amplicons.svg\n"
     ]
    }
   ],
   "source": [
    "print(f\"Saving figure to {plot_amplicons}\")\n",
    "plot.savefig(plot_amplicons, format=\"svg\")"
   ]
  },
  {
   "cell_type": "markdown",
   "metadata": {},
   "source": [
    "Create packbio run dataframe"
   ]
  },
  {
   "cell_type": "code",
   "execution_count": 47,
   "metadata": {},
   "outputs": [
    {
     "data": {
      "text/html": [
       "<table border=\"1\" class=\"dataframe\">\n",
       "  <thead>\n",
       "    <tr style=\"text-align: right;\">\n",
       "      <th>name</th>\n",
       "      <th>fastq</th>\n",
       "      <th>report</th>\n",
       "    </tr>\n",
       "  </thead>\n",
       "  <tbody>\n",
       "    <tr>\n",
       "      <td>hashing_highMOI_2020-10-20_all_segments_run1_ccs</td>\n",
       "      <td>../results/pacbio/hashing_highMOI_2020-10-20_all_segments_run1_ccs.fastq.gz</td>\n",
       "      <td>../results/pacbio/hashing_highMOI_2020-10-20_all_segments_run1_report.txt</td>\n",
       "    </tr>\n",
       "  </tbody>\n",
       "</table>"
      ],
      "text/plain": [
       "<IPython.core.display.HTML object>"
      ]
     },
     "metadata": {},
     "output_type": "display_data"
    }
   ],
   "source": [
    "pacbio_runs = pd.DataFrame({'name': runs, 'fastq': ccs_fastq, 'report': ccs_report})\n",
    "display(HTML(pacbio_runs.to_html(index=False)))"
   ]
  },
  {
   "cell_type": "markdown",
   "metadata": {},
   "source": [
    "## Align reads"
   ]
  },
  {
   "cell_type": "markdown",
   "metadata": {},
   "source": [
    "The following section aligns all ccs to amplicons."
   ]
  },
  {
   "cell_type": "markdown",
   "metadata": {},
   "source": [
    "Create an alignparse.minimap2.Mapper to run minimap2 with minimap [options](https://jbloomlab.github.io/alignparse/alignparse.minimap2.html#alignparse.minimap2.OPTIONS_VIRUS_W_DEL) that allow for large deletions in viral sequences. "
   ]
  },
  {
   "cell_type": "code",
   "execution_count": 48,
   "metadata": {},
   "outputs": [
    {
     "name": "stdout",
     "output_type": "stream",
     "text": [
      "Using `minimap2` 2.17-r941 with these options:\n",
      "-xsplice:hq -un -C0 --splice-flank=no -M=1 --for-only --end-seed-pen=2 --end-bonus=2 --secondary=no --cs\n"
     ]
    }
   ],
   "source": [
    "mapper = alignparse.minimap2.Mapper(alignparse.minimap2.OPTIONS_VIRUS_W_DEL)\n",
    "\n",
    "print(f\"Using `minimap2` {mapper.version} with these options:\\n\" +\n",
    "      ' '.join(mapper.options))"
   ]
  },
  {
   "cell_type": "code",
   "execution_count": 49,
   "metadata": {},
   "outputs": [],
   "source": [
    "os.makedirs(alignment_stats, exist_ok=True)\n",
    "\n",
    "align_and_parse_outdir = os.path.join(alignment_stats, \"{runs}\")"
   ]
  },
  {
   "cell_type": "code",
   "execution_count": 50,
   "metadata": {},
   "outputs": [],
   "source": [
    "readstats, aligned, filtered = targets.align_and_parse(\n",
    "        df=pacbio_runs,\n",
    "        mapper=mapper,\n",
    "        outdir=align_and_parse_outdir,\n",
    "        name_col='name',\n",
    "        queryfile_col='fastq',\n",
    "        overwrite=True,  # overwrite any existing output\n",
    "        ncpus=-1,  # use all available CPUs\n",
    "        )"
   ]
  },
  {
   "cell_type": "markdown",
   "metadata": {},
   "source": [
    "Here are read alignment statistics:"
   ]
  },
  {
   "cell_type": "code",
   "execution_count": 51,
   "metadata": {},
   "outputs": [
    {
     "data": {
      "text/html": [
       "<div>\n",
       "<style scoped>\n",
       "    .dataframe tbody tr th:only-of-type {\n",
       "        vertical-align: middle;\n",
       "    }\n",
       "\n",
       "    .dataframe tbody tr th {\n",
       "        vertical-align: top;\n",
       "    }\n",
       "\n",
       "    .dataframe thead th {\n",
       "        text-align: right;\n",
       "    }\n",
       "</style>\n",
       "<table border=\"1\" class=\"dataframe\">\n",
       "  <thead>\n",
       "    <tr style=\"text-align: right;\">\n",
       "      <th></th>\n",
       "      <th>name</th>\n",
       "      <th>category</th>\n",
       "      <th>count</th>\n",
       "    </tr>\n",
       "  </thead>\n",
       "  <tbody>\n",
       "    <tr>\n",
       "      <th>0</th>\n",
       "      <td>hashing_highMOI_2020-10-20_all_segments_run1_ccs</td>\n",
       "      <td>filtered PB2mid</td>\n",
       "      <td>9310</td>\n",
       "    </tr>\n",
       "    <tr>\n",
       "      <th>1</th>\n",
       "      <td>hashing_highMOI_2020-10-20_all_segments_run1_ccs</td>\n",
       "      <td>aligned PB2mid</td>\n",
       "      <td>18461</td>\n",
       "    </tr>\n",
       "    <tr>\n",
       "      <th>2</th>\n",
       "      <td>hashing_highMOI_2020-10-20_all_segments_run1_ccs</td>\n",
       "      <td>filtered PB2termini</td>\n",
       "      <td>3769</td>\n",
       "    </tr>\n",
       "    <tr>\n",
       "      <th>3</th>\n",
       "      <td>hashing_highMOI_2020-10-20_all_segments_run1_ccs</td>\n",
       "      <td>aligned PB2termini</td>\n",
       "      <td>6534</td>\n",
       "    </tr>\n",
       "    <tr>\n",
       "      <th>4</th>\n",
       "      <td>hashing_highMOI_2020-10-20_all_segments_run1_ccs</td>\n",
       "      <td>unmapped</td>\n",
       "      <td>287500</td>\n",
       "    </tr>\n",
       "  </tbody>\n",
       "</table>\n",
       "</div>"
      ],
      "text/plain": [
       "                                               name             category  \\\n",
       "0  hashing_highMOI_2020-10-20_all_segments_run1_ccs      filtered PB2mid   \n",
       "1  hashing_highMOI_2020-10-20_all_segments_run1_ccs       aligned PB2mid   \n",
       "2  hashing_highMOI_2020-10-20_all_segments_run1_ccs  filtered PB2termini   \n",
       "3  hashing_highMOI_2020-10-20_all_segments_run1_ccs   aligned PB2termini   \n",
       "4  hashing_highMOI_2020-10-20_all_segments_run1_ccs             unmapped   \n",
       "\n",
       "    count  \n",
       "0    9310  \n",
       "1   18461  \n",
       "2    3769  \n",
       "3    6534  \n",
       "4  287500  "
      ]
     },
     "execution_count": 51,
     "metadata": {},
     "output_type": "execute_result"
    }
   ],
   "source": [
    "readstats"
   ]
  },
  {
   "cell_type": "code",
   "execution_count": 52,
   "metadata": {},
   "outputs": [
    {
     "data": {
      "image/png": "[encoded data removed]",
      "text/plain": [
       "<Figure size 150x250 with 1 Axes>"
      ]
     },
     "metadata": {
      "needs_background": "light"
     },
     "output_type": "display_data"
    }
   ],
   "source": [
    "p = (\n",
    "    p9.ggplot(readstats.assign(\n",
    "               category=lambda x: pd.Categorical(x['category'],\n",
    "                                                 x['category'].unique(),\n",
    "                                                 ordered=True),\n",
    "               is_aligned=lambda x: x['category'].str.contains('aligned'),\n",
    "               ),\n",
    "           p9.aes('category', 'count', fill='is_aligned')) +\n",
    "    p9.geom_bar(stat='identity') +\n",
    "    p9.facet_wrap('~ name', nrow=1) +\n",
    "    p9.theme(axis_text_x=p9.element_text(angle=90),\n",
    "          figure_size=(0.3 * len(readstats), 2.5),\n",
    "          panel_grid_major_x=p9.element_blank()  # no vertical grid lines\n",
    "          ) +\n",
    "    p9.scale_fill_manual(values=CBPALETTE)\n",
    "    )\n",
    "_ = p.draw()"
   ]
  },
  {
   "cell_type": "code",
   "execution_count": 53,
   "metadata": {},
   "outputs": [
    {
     "name": "stdout",
     "output_type": "stream",
     "text": [
      "First few lines of `filtered` for PB2mid:\n"
     ]
    },
    {
     "data": {
      "text/html": [
       "<div>\n",
       "<style scoped>\n",
       "    .dataframe tbody tr th:only-of-type {\n",
       "        vertical-align: middle;\n",
       "    }\n",
       "\n",
       "    .dataframe tbody tr th {\n",
       "        vertical-align: top;\n",
       "    }\n",
       "\n",
       "    .dataframe thead th {\n",
       "        text-align: right;\n",
       "    }\n",
       "</style>\n",
       "<table border=\"1\" class=\"dataframe\">\n",
       "  <thead>\n",
       "    <tr style=\"text-align: right;\">\n",
       "      <th></th>\n",
       "      <th>name</th>\n",
       "      <th>query_name</th>\n",
       "      <th>filter_reason</th>\n",
       "    </tr>\n",
       "  </thead>\n",
       "  <tbody>\n",
       "    <tr>\n",
       "      <th>0</th>\n",
       "      <td>hashing_highMOI_2020-10-20_all_segments_run1_ccs</td>\n",
       "      <td>m54228_201020_194205/4194428/ccs</td>\n",
       "      <td>query_clip3</td>\n",
       "    </tr>\n",
       "    <tr>\n",
       "      <th>1</th>\n",
       "      <td>hashing_highMOI_2020-10-20_all_segments_run1_ccs</td>\n",
       "      <td>m54228_201020_194205/4194544/ccs</td>\n",
       "      <td>query_clip3</td>\n",
       "    </tr>\n",
       "    <tr>\n",
       "      <th>2</th>\n",
       "      <td>hashing_highMOI_2020-10-20_all_segments_run1_ccs</td>\n",
       "      <td>m54228_201020_194205/4194796/ccs</td>\n",
       "      <td>sequenced_mRNA_1 clip5</td>\n",
       "    </tr>\n",
       "    <tr>\n",
       "      <th>3</th>\n",
       "      <td>hashing_highMOI_2020-10-20_all_segments_run1_ccs</td>\n",
       "      <td>m54228_201020_194205/4194909/ccs</td>\n",
       "      <td>sequenced_mRNA_2 clip3</td>\n",
       "    </tr>\n",
       "    <tr>\n",
       "      <th>4</th>\n",
       "      <td>hashing_highMOI_2020-10-20_all_segments_run1_ccs</td>\n",
       "      <td>m54228_201020_194205/4195166/ccs</td>\n",
       "      <td>UMI mutation_nt_count</td>\n",
       "    </tr>\n",
       "  </tbody>\n",
       "</table>\n",
       "</div>"
      ],
      "text/plain": [
       "                                               name  \\\n",
       "0  hashing_highMOI_2020-10-20_all_segments_run1_ccs   \n",
       "1  hashing_highMOI_2020-10-20_all_segments_run1_ccs   \n",
       "2  hashing_highMOI_2020-10-20_all_segments_run1_ccs   \n",
       "3  hashing_highMOI_2020-10-20_all_segments_run1_ccs   \n",
       "4  hashing_highMOI_2020-10-20_all_segments_run1_ccs   \n",
       "\n",
       "                         query_name           filter_reason  \n",
       "0  m54228_201020_194205/4194428/ccs             query_clip3  \n",
       "1  m54228_201020_194205/4194544/ccs             query_clip3  \n",
       "2  m54228_201020_194205/4194796/ccs  sequenced_mRNA_1 clip5  \n",
       "3  m54228_201020_194205/4194909/ccs  sequenced_mRNA_2 clip3  \n",
       "4  m54228_201020_194205/4195166/ccs   UMI mutation_nt_count  "
      ]
     },
     "metadata": {},
     "output_type": "display_data"
    }
   ],
   "source": [
    "for target in targets.target_names[:1]:\n",
    "    print(f\"First few lines of `filtered` for {target}:\")\n",
    "    display(filtered[target].head())"
   ]
  },
  {
   "cell_type": "code",
   "execution_count": 54,
   "metadata": {},
   "outputs": [
    {
     "data": {
      "image/png": "[encoded data removed]",
      "text/plain": [
       "<Figure size 1200x800 with 2 Axes>"
      ]
     },
     "metadata": {
      "needs_background": "light"
     },
     "output_type": "display_data"
    }
   ],
   "source": [
    "\n",
    "p = (\n",
    "    p9.ggplot(pd.concat([df.assign(gene=gene) for gene, df\n",
    "                      in filtered.items()])\n",
    "             .assign(gene=lambda x: pd.Categorical(x['gene'],\n",
    "                                                   x['gene'].unique(),\n",
    "                                                   ordered=True)),\n",
    "           p9.aes('filter_reason')) +\n",
    "    p9.geom_bar() +\n",
    "    p9.facet_wrap('~ gene', ncol=5) +\n",
    "    p9.theme(axis_text_x=p9.element_text(angle=90),\n",
    "          figure_size=(12, 8),\n",
    "          panel_grid_major_x=p9.element_blank(),  # no vertical grid lines\n",
    "          )\n",
    "    )\n",
    "\n",
    "_ = p.draw()"
   ]
  },
  {
   "cell_type": "code",
   "execution_count": null,
   "metadata": {},
   "outputs": [],
   "source": []
  },
  {
   "cell_type": "code",
   "execution_count": null,
   "metadata": {},
   "outputs": [],
   "source": []
  }
 ],
 "metadata": {
  "kernelspec": {
   "display_name": "Python 3",
   "language": "python",
   "name": "python3"
  },
  "language_info": {
   "codemirror_mode": {
    "name": "ipython",
    "version": 3
   },
   "file_extension": ".py",
   "mimetype": "text/x-python",
   "name": "python",
   "nbconvert_exporter": "python",
   "pygments_lexer": "ipython3",
   "version": "3.8.5"
  }
 },
 "nbformat": 4,
 "nbformat_minor": 4
}
