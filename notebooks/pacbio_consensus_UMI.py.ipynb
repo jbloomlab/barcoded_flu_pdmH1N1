{
 "cells": [
  {
   "cell_type": "markdown",
   "metadata": {},
   "source": [
    "# Pacbio consensus UMI\n",
    "This notebook calls consensus muations on PacBio data grouped by by cell_barcode, gene, and UMI. Then, it exports a processed CSV with the following columns:\n",
    "* cell_barcode\n",
    "* gene\n",
    "* UMI\n",
    "* mutation\n",
    "* mutation_CCS"
   ]
  },
  {
   "cell_type": "code",
   "execution_count": null,
   "metadata": {},
   "outputs": [],
   "source": [
    "from IPython.display import display\n",
    "\n",
    "from dms_variants.constants import CBPALETTE\n",
    "\n",
    "import pandas as pd\n",
    "\n",
    "import plotnine as p9"
   ]
  },
  {
   "cell_type": "code",
   "execution_count": null,
   "metadata": {},
   "outputs": [],
   "source": [
    "UMI_mutations_csv = snakemake.input.UMI_mutations_csv\n",
    "expt = snakemake.wildcards.expt\n",
    "consensus_UMI_csv = snakemake.output.consensus_UMI_csv"
   ]
  },
  {
   "cell_type": "markdown",
   "metadata": {},
   "source": [
    "Style parameters:"
   ]
  },
  {
   "cell_type": "code",
   "execution_count": null,
   "metadata": {},
   "outputs": [],
   "source": [
    "p9.theme_set(p9.theme_classic())"
   ]
  },
  {
   "cell_type": "markdown",
   "metadata": {},
   "source": [
    "## Load Data"
   ]
  },
  {
   "cell_type": "code",
   "execution_count": null,
   "metadata": {},
   "outputs": [],
   "source": [
    "UMI_mutations = pd.read_csv(UMI_mutations_csv)\n",
    "display(UMI_mutations)"
   ]
  },
  {
   "cell_type": "markdown",
   "metadata": {},
   "source": [
    "## Process Data"
   ]
  },
  {
   "cell_type": "markdown",
   "metadata": {},
   "source": [
    "Split each mutation into its own row:"
   ]
  },
  {
   "cell_type": "code",
   "execution_count": null,
   "metadata": {},
   "outputs": [],
   "source": [
    "UMI_mutations['muts_split'] = (UMI_mutations['mutations']\n",
    "                               .apply(lambda x: str(x).split(' ')))\n",
    "UMI_mutations = UMI_mutations.explode('muts_split')\n",
    "\n",
    "display(UMI_mutations)"
   ]
  },
  {
   "cell_type": "markdown",
   "metadata": {},
   "source": [
    "Count total CCS for cell_barcode-gene-UMI and count number of CCS supporting each mutation for cell_barcode-gene-UMI:"
   ]
  },
  {
   "cell_type": "code",
   "execution_count": null,
   "metadata": {},
   "outputs": [],
   "source": [
    "mutation_CCS_df = (\n",
    "    UMI_mutations\n",
    "    .groupby(['cell_barcode', 'gene', 'UMI', 'muts_split'])\n",
    "    ['query_name']\n",
    "    .nunique()\n",
    "    .reset_index()\n",
    "    .rename(columns={'query_name': 'mutation_CCS'}))\n",
    "total_CCS_df = (\n",
    "    UMI_mutations\n",
    "    .groupby(['cell_barcode', 'gene', 'UMI'])\n",
    "    ['query_name']\n",
    "    .nunique()\n",
    "    .reset_index()\n",
    "    .rename(columns={'query_name': 'total_CCS'}))\n",
    "display(mutation_CCS_df)\n",
    "display(total_CCS_df)"
   ]
  },
  {
   "cell_type": "markdown",
   "metadata": {},
   "source": [
    "Merge into UMI_mutations df:"
   ]
  },
  {
   "cell_type": "code",
   "execution_count": null,
   "metadata": {},
   "outputs": [],
   "source": [
    "UMI_mutations = pd.merge(\n",
    "    left=UMI_mutations,\n",
    "    right=mutation_CCS_df,\n",
    "    on=['cell_barcode', 'gene', 'UMI', 'muts_split'],\n",
    "    how='left',\n",
    "    validate='many_to_one'\n",
    ")\n",
    "UMI_mutations = pd.merge(\n",
    "    left=UMI_mutations,\n",
    "    right=total_CCS_df,\n",
    "    on=['cell_barcode', 'gene', 'UMI'],\n",
    "    how='left',\n",
    "    validate='many_to_one'\n",
    ")\n",
    "display(UMI_mutations)"
   ]
  },
  {
   "cell_type": "markdown",
   "metadata": {},
   "source": [
    "Calculate fraction of total CCS with mutation:"
   ]
  },
  {
   "cell_type": "code",
   "execution_count": null,
   "metadata": {},
   "outputs": [],
   "source": [
    "UMI_mutations['frac_CCS'] = (\n",
    "    UMI_mutations['mutation_CCS'] /\n",
    "    UMI_mutations['total_CCS']\n",
    ")\n",
    "display(UMI_mutations)"
   ]
  },
  {
   "cell_type": "markdown",
   "metadata": {},
   "source": [
    "## Call consensus\n",
    "Label consensus mutations if found in >50% of CCS. This corresponds to `frac_CCS > 0.5` in our dataframe."
   ]
  },
  {
   "cell_type": "code",
   "execution_count": null,
   "metadata": {},
   "outputs": [],
   "source": [
    "UMI_mutations['consensus'] = (\n",
    "    UMI_mutations['frac_CCS'] > 0.5\n",
    ")\n",
    "display(UMI_mutations)"
   ]
  },
  {
   "cell_type": "markdown",
   "metadata": {},
   "source": [
    "## Plot outcomes"
   ]
  },
  {
   "cell_type": "markdown",
   "metadata": {},
   "source": [
    "Plot distribution of total CCS per cell_barcode-gene-UMI:"
   ]
  },
  {
   "cell_type": "code",
   "execution_count": null,
   "metadata": {},
   "outputs": [],
   "source": [
    "total_CCS_histo = (\n",
    "    p9.ggplot(\n",
    "        (UMI_mutations\n",
    "         [['cell_barcode', 'gene', 'UMI', 'total_CCS']]\n",
    "         .drop_duplicates()),\n",
    "         p9.aes(x='total_CCS')) +\n",
    "    p9.geom_histogram(stat='count') +\n",
    "    p9.ggtitle('n CCS per cell_barcode-gene-UMI\\n'\n",
    "               f'{expt}') +\n",
    "    p9.labs(x='n CCS',\n",
    "            y='n cell_barcode-gene-UMI') +\n",
    "    p9.theme(figure_size=(4, 3),\n",
    "             plot_title=p9.element_text(size=9),\n",
    "             axis_title=p9.element_text(size=9),\n",
    "             legend_title=p9.element_text(size=9),\n",
    "             legend_title_align='center'))\n",
    "\n",
    "display(total_CCS_histo)"
   ]
  },
  {
   "cell_type": "markdown",
   "metadata": {},
   "source": [
    "Plot distribution of CCS per mutation:"
   ]
  },
  {
   "cell_type": "code",
   "execution_count": null,
   "metadata": {},
   "outputs": [],
   "source": [
    "mutation_CCS_histo = (\n",
    "    p9.ggplot(\n",
    "        (UMI_mutations\n",
    "         [['cell_barcode', 'gene', 'UMI', 'muts_split', 'mutation_CCS']]\n",
    "         .drop_duplicates()),\n",
    "         p9.aes(x='mutation_CCS')) +\n",
    "    p9.geom_histogram(stat='count') +\n",
    "    p9.ggtitle('n CCS per mutation\\n'\n",
    "               f'{expt}') +\n",
    "    p9.labs(x='n CCS',\n",
    "            y='n cell_barcode-gene-UMI-mutation') +\n",
    "    p9.theme(figure_size=(4, 3),\n",
    "             plot_title=p9.element_text(size=9),\n",
    "             axis_title=p9.element_text(size=9),\n",
    "             legend_title=p9.element_text(size=9),\n",
    "             legend_title_align='center'))\n",
    "\n",
    "display(mutation_CCS_histo)"
   ]
  },
  {
   "cell_type": "markdown",
   "metadata": {},
   "source": [
    "Plot relationship between the two:"
   ]
  },
  {
   "cell_type": "code",
   "execution_count": null,
   "metadata": {},
   "outputs": [],
   "source": [
    "consensus_mutations_scatter = (\n",
    "    p9.ggplot(\n",
    "        (UMI_mutations\n",
    "         [['cell_barcode', 'gene', 'UMI', 'muts_split', 'mutation_CCS', 'total_CCS', 'consensus']]\n",
    "         .drop_duplicates()),\n",
    "         p9.aes(x='total_CCS',\n",
    "                y='mutation_CCS',\n",
    "                color='consensus')) +\n",
    "    p9.geom_point(alpha=0.1) +\n",
    "    p9.ggtitle('Consensus mutations \\n'\n",
    "               f'{expt}') +\n",
    "    p9.theme(figure_size=(4, 3),\n",
    "             plot_title=p9.element_text(size=9),\n",
    "             axis_title=p9.element_text(size=9),\n",
    "             legend_title=p9.element_text(size=9),\n",
    "             legend_title_align='center') +\n",
    "    p9.scale_color_manual([CBPALETTE[1], CBPALETTE[0]]))\n",
    "\n",
    "display(consensus_mutations_scatter)"
   ]
  },
  {
   "cell_type": "code",
   "execution_count": null,
   "metadata": {},
   "outputs": [],
   "source": [
    "output_df = (\n",
    "    UMI_mutations\n",
    "    .query('consensus==True')\n",
    "    [['cell_barcode', 'gene', 'UMI', 'muts_split']]\n",
    "    .rename(columns={'muts_split': 'mutation'})\n",
    ")\n",
    "display(output_df)\n",
    "\n",
    "print(f'Saving UMI consensus mutations to {consensus_UMI_csv}')\n",
    "output_df.to_csv(consensus_UMI_csv, index=False)"
   ]
  },
  {
   "cell_type": "code",
   "execution_count": null,
   "metadata": {},
   "outputs": [],
   "source": []
  }
 ],
 "metadata": {
  "kernelspec": {
   "display_name": "Python 3",
   "language": "python",
   "name": "python3"
  },
  "language_info": {
   "codemirror_mode": {
    "name": "ipython",
    "version": 3
   },
   "file_extension": ".py",
   "mimetype": "text/x-python",
   "name": "python",
   "nbconvert_exporter": "python",
   "pygments_lexer": "ipython3",
   "version": "3.8.6"
  }
 },
 "nbformat": 4,
 "nbformat_minor": 4
}
