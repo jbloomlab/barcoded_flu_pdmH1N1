{
 "cells": [
  {
   "cell_type": "markdown",
   "metadata": {},
   "source": [
    "# Pacbio consensus UMI\n",
    "This notebook calls consensus muations on PacBio data grouped by by cell_barcode, gene, and UMI. Then, it exports a processed CSV with the following columns:\n",
    "* cell_barcode\n",
    "* gene\n",
    "* UMI\n",
    "* mutation\n",
    "* mutation_CCS"
   ]
  },
  {
   "cell_type": "code",
   "execution_count": null,
   "metadata": {
    "execution": {
     "iopub.execute_input": "2022-01-19T01:52:45.339916Z",
     "iopub.status.busy": "2022-01-19T01:52:45.339257Z",
     "iopub.status.idle": "2022-01-19T01:52:48.297071Z",
     "shell.execute_reply": "2022-01-19T01:52:48.297814Z"
    }
   },
   "outputs": [],
   "source": [
    "from IPython.display import display\n",
    "\n",
    "from dms_variants.constants import CBPALETTE\n",
    "\n",
    "import numpy as np\n",
    "\n",
    "import pandas as pd\n",
    "\n",
    "import plotnine as p9"
   ]
  },
  {
   "cell_type": "code",
   "execution_count": null,
   "metadata": {
    "execution": {
     "iopub.execute_input": "2022-01-19T01:52:48.306749Z",
     "iopub.status.busy": "2022-01-19T01:52:48.302275Z",
     "iopub.status.idle": "2022-01-19T01:52:48.311788Z",
     "shell.execute_reply": "2022-01-19T01:52:48.312672Z"
    }
   },
   "outputs": [],
   "source": [
    "CCS_mutations_csv = snakemake.input.CCS_mutations_csv\n",
    "expt = snakemake.wildcards.expt\n",
    "consensus_UMI_csv = snakemake.output.consensus_UMI_csv"
   ]
  },
  {
   "cell_type": "markdown",
   "metadata": {},
   "source": [
    "Style parameters:"
   ]
  },
  {
   "cell_type": "code",
   "execution_count": null,
   "metadata": {
    "execution": {
     "iopub.execute_input": "2022-01-19T01:52:48.319988Z",
     "iopub.status.busy": "2022-01-19T01:52:48.319546Z",
     "iopub.status.idle": "2022-01-19T01:52:48.322205Z",
     "shell.execute_reply": "2022-01-19T01:52:48.321805Z"
    }
   },
   "outputs": [],
   "source": [
    "p9.theme_set(p9.theme_classic())"
   ]
  },
  {
   "cell_type": "markdown",
   "metadata": {},
   "source": [
    "## Load Data"
   ]
  },
  {
   "cell_type": "code",
   "execution_count": null,
   "metadata": {
    "execution": {
     "iopub.execute_input": "2022-01-19T01:52:48.326345Z",
     "iopub.status.busy": "2022-01-19T01:52:48.325806Z",
     "iopub.status.idle": "2022-01-19T01:52:50.509426Z",
     "shell.execute_reply": "2022-01-19T01:52:50.510400Z"
    }
   },
   "outputs": [],
   "source": [
    "CCS_mutations = pd.read_csv(CCS_mutations_csv)\n",
    "display(CCS_mutations)"
   ]
  },
  {
   "cell_type": "markdown",
   "metadata": {},
   "source": [
    "## Process Data"
   ]
  },
  {
   "cell_type": "markdown",
   "metadata": {},
   "source": [
    "Generate list of all cell_barcode-gene-UMI:"
   ]
  },
  {
   "cell_type": "code",
   "execution_count": null,
   "metadata": {},
   "outputs": [],
   "source": [
    "cb_gene_UMI = (\n",
    "    CCS_mutations\n",
    "    [['cell_barcode',\n",
    "      'gene',\n",
    "      'UMI']]\n",
    "    .drop_duplicates()\n",
    ")\n",
    "display(cb_gene_UMI)"
   ]
  },
  {
   "cell_type": "markdown",
   "metadata": {},
   "source": [
    "Count total CCS for cell_barcode-gene-UMI:"
   ]
  },
  {
   "cell_type": "code",
   "execution_count": null,
   "metadata": {},
   "outputs": [],
   "source": [
    "total_CCS_df = (\n",
    "    CCS_mutations\n",
    "    .groupby(['cell_barcode', 'gene', 'UMI'])\n",
    "    ['query_name']\n",
    "    .nunique()\n",
    "    .reset_index()\n",
    "    .rename(columns={'query_name': 'total_CCS'}))\n",
    "display(total_CCS_df)"
   ]
  },
  {
   "cell_type": "markdown",
   "metadata": {},
   "source": [
    "Exclude WT CCS and split each mutation into its own row:"
   ]
  },
  {
   "cell_type": "code",
   "execution_count": null,
   "metadata": {
    "execution": {
     "iopub.execute_input": "2022-01-19T01:52:50.516297Z",
     "iopub.status.busy": "2022-01-19T01:52:50.515324Z",
     "iopub.status.idle": "2022-01-19T01:52:54.615223Z",
     "shell.execute_reply": "2022-01-19T01:52:54.616114Z"
    }
   },
   "outputs": [],
   "source": [
    "CCS_mutations_noWT = CCS_mutations.query('mutations.notnull()', engine='python')\n",
    "CCS_mutations_noWT['muts_split'] = (CCS_mutations_noWT['mutations']\n",
    "                                    .apply(lambda x: str(x).split(' ')))\n",
    "CCS_mutations_noWT = CCS_mutations_noWT.explode('muts_split')\n",
    "\n",
    "display(CCS_mutations_noWT)"
   ]
  },
  {
   "cell_type": "markdown",
   "metadata": {},
   "source": [
    "Count number of CCS supporting each mutation for cell_barcode-gene-UMI:"
   ]
  },
  {
   "cell_type": "code",
   "execution_count": null,
   "metadata": {
    "execution": {
     "iopub.execute_input": "2022-01-19T01:52:54.646753Z",
     "iopub.status.busy": "2022-01-19T01:52:54.645863Z",
     "iopub.status.idle": "2022-01-19T01:52:59.659924Z",
     "shell.execute_reply": "2022-01-19T01:52:59.660782Z"
    }
   },
   "outputs": [],
   "source": [
    "mutation_CCS_df = (\n",
    "    CCS_mutations_noWT\n",
    "    .groupby(['cell_barcode', 'gene', 'UMI', 'muts_split'])\n",
    "    ['query_name']\n",
    "    .nunique()\n",
    "    .reset_index()\n",
    "    .rename(columns={'query_name': 'mutation_CCS'}))\n",
    "display(mutation_CCS_df)"
   ]
  },
  {
   "cell_type": "markdown",
   "metadata": {},
   "source": [
    "Bring in total CCS counts and calculate fraction of total CCS with each mutation:"
   ]
  },
  {
   "cell_type": "code",
   "execution_count": null,
   "metadata": {},
   "outputs": [],
   "source": [
    "mutation_frac_df = pd.merge(\n",
    "    left=mutation_CCS_df,\n",
    "    right=total_CCS_df,\n",
    "    on=['cell_barcode', 'gene', 'UMI'],\n",
    "    how='left',\n",
    "    validate='many_to_one')\n",
    "mutation_frac_df['frac_CCS'] = (\n",
    "    mutation_frac_df['mutation_CCS'] /\n",
    "    mutation_frac_df['total_CCS']\n",
    ")\n",
    "display(mutation_frac_df)"
   ]
  },
  {
   "cell_type": "markdown",
   "metadata": {},
   "source": [
    "**Call Consensus Mutations**  \n",
    "Label mutation as consensus if it is found in >50% of CCS. This corresponds to `frac_CCS > 0.5` in our dataframe."
   ]
  },
  {
   "cell_type": "code",
   "execution_count": null,
   "metadata": {
    "execution": {
     "iopub.execute_input": "2022-01-19T01:53:09.213031Z",
     "iopub.status.busy": "2022-01-19T01:53:09.212290Z",
     "iopub.status.idle": "2022-01-19T01:53:09.230275Z",
     "shell.execute_reply": "2022-01-19T01:53:09.229583Z"
    }
   },
   "outputs": [],
   "source": [
    "mutation_frac_df['consensus'] = (\n",
    "    (mutation_frac_df['frac_CCS'] > 0.5))\n",
    "display(mutation_frac_df)"
   ]
  },
  {
   "cell_type": "code",
   "execution_count": null,
   "metadata": {},
   "outputs": [],
   "source": [
    "mutation_frac_histo = (\n",
    "    p9.ggplot(\n",
    "        (mutation_frac_df\n",
    "         [['cell_barcode', 'gene', 'UMI', 'muts_split', 'frac_CCS', 'consensus']]\n",
    "         .drop_duplicates()),\n",
    "         p9.aes(x='frac_CCS',\n",
    "                fill='consensus')) +\n",
    "    p9.geom_histogram(bins=20) +\n",
    "    p9.ggtitle('Mutation fractions\\n'\n",
    "               '(excludes WT UMI)\\n'\n",
    "               f'{expt}') +\n",
    "    p9.labs(x='fraction of total UMI for cell_barcode-gene') +\n",
    "    p9.theme(figure_size=(4, 3),\n",
    "             plot_title=p9.element_text(size=9),\n",
    "             axis_title=p9.element_text(size=9),\n",
    "             legend_title=p9.element_text(size=9),\n",
    "             legend_title_align='center') +\n",
    "    p9.scale_fill_manual([CBPALETTE[1], CBPALETTE[0]]))\n",
    "\n",
    "display(mutation_frac_histo)"
   ]
  },
  {
   "cell_type": "markdown",
   "metadata": {},
   "source": [
    "## Merge mutatant and WT UMIs\n",
    "Merge data into single dataframe, `UMI_mutations`.  \n",
    "Steps:  \n",
    "1. Filter `mutation_frac_df` for only consensus mutations\n",
    "2. Merge with `cb_gene_UMI` dataframe so every `cell_barcode-gene-UMI` has at least one row.\n",
    "3. Fill `muts_split` column with WT if a `cell_barcode-gene-UMI` does not have any consensus mutations. "
   ]
  },
  {
   "cell_type": "code",
   "execution_count": null,
   "metadata": {
    "execution": {
     "iopub.execute_input": "2022-01-19T01:52:59.667398Z",
     "iopub.status.busy": "2022-01-19T01:52:59.666495Z",
     "iopub.status.idle": "2022-01-19T01:53:09.165708Z",
     "shell.execute_reply": "2022-01-19T01:53:09.166449Z"
    }
   },
   "outputs": [],
   "source": [
    "# Merge in consesnsus mutations\n",
    "UMI_mutations = pd.merge(\n",
    "    left=cb_gene_UMI,\n",
    "    right=mutation_frac_df.query('consensus == True'),\n",
    "    on=['cell_barcode', 'gene', 'UMI'],\n",
    "    how='left',\n",
    "    validate='one_to_many'\n",
    ")\n",
    "\n",
    "# Fill muts_split with WT if no consensus mutation\n",
    "UMI_mutations['muts_split'] = (\n",
    "    UMI_mutations['muts_split']\n",
    "    .fillna('WT')\n",
    ")\n",
    "\n",
    "display(UMI_mutations)"
   ]
  },
  {
   "cell_type": "markdown",
   "metadata": {},
   "source": [
    "Check that every `cell_barcode-gene-UMI` is represented in final `UMI_mutations` dataframe."
   ]
  },
  {
   "cell_type": "code",
   "execution_count": null,
   "metadata": {},
   "outputs": [],
   "source": [
    "assert len(UMI_mutations[['cell_barcode', 'gene', 'UMI']].drop_duplicates()) == \\\n",
    "    len(cb_gene_UMI), \"Missing cell_barcode-gene-UMI from df\""
   ]
  },
  {
   "cell_type": "markdown",
   "metadata": {},
   "source": [
    "## Plot outcomes"
   ]
  },
  {
   "cell_type": "markdown",
   "metadata": {},
   "source": [
    "Plot distribution of total CCS per cell_barcode-gene-UMI:"
   ]
  },
  {
   "cell_type": "code",
   "execution_count": null,
   "metadata": {
    "execution": {
     "iopub.execute_input": "2022-01-19T01:53:09.236505Z",
     "iopub.status.busy": "2022-01-19T01:53:09.235839Z",
     "iopub.status.idle": "2022-01-19T01:53:10.550673Z",
     "shell.execute_reply": "2022-01-19T01:53:10.551630Z"
    }
   },
   "outputs": [],
   "source": [
    "total_CCS_histo = (\n",
    "    p9.ggplot(\n",
    "        (total_CCS_df),\n",
    "         p9.aes(x='total_CCS')) +\n",
    "    p9.geom_histogram(stat='count') +\n",
    "    p9.ggtitle('n CCS per cell_barcode-gene-UMI\\n'\n",
    "               f'{expt}') +\n",
    "    p9.labs(x='n CCS',\n",
    "            y='n cell_barcode-gene-UMI') +\n",
    "    p9.theme(figure_size=(4, 3),\n",
    "             plot_title=p9.element_text(size=9),\n",
    "             axis_title=p9.element_text(size=9),\n",
    "             legend_title=p9.element_text(size=9),\n",
    "             legend_title_align='center'))\n",
    "\n",
    "display(total_CCS_histo)"
   ]
  },
  {
   "cell_type": "markdown",
   "metadata": {},
   "source": [
    "Plot distribution of CCS per mutation:"
   ]
  },
  {
   "cell_type": "code",
   "execution_count": null,
   "metadata": {
    "execution": {
     "iopub.execute_input": "2022-01-19T01:53:10.558899Z",
     "iopub.status.busy": "2022-01-19T01:53:10.557999Z",
     "iopub.status.idle": "2022-01-19T01:53:12.736430Z",
     "shell.execute_reply": "2022-01-19T01:53:12.737364Z"
    }
   },
   "outputs": [],
   "source": [
    "mutation_CCS_histo = (\n",
    "    p9.ggplot(\n",
    "        (UMI_mutations\n",
    "         [['cell_barcode', 'gene', 'UMI', 'muts_split', 'mutation_CCS']]\n",
    "         .drop_duplicates()),\n",
    "         p9.aes(x='mutation_CCS')) +\n",
    "    p9.geom_histogram(stat='count') +\n",
    "    p9.ggtitle('n CCS per mutation\\n'\n",
    "               '(excludes WT CCS)\\n'\n",
    "               f'{expt}') +\n",
    "    p9.labs(x='n CCS',\n",
    "            y='n cell_barcode-gene-UMI-mutation') +\n",
    "    p9.theme(figure_size=(4, 3),\n",
    "             plot_title=p9.element_text(size=9),\n",
    "             axis_title=p9.element_text(size=9),\n",
    "             legend_title=p9.element_text(size=9),\n",
    "             legend_title_align='center'))\n",
    "\n",
    "display(mutation_CCS_histo)"
   ]
  },
  {
   "cell_type": "markdown",
   "metadata": {},
   "source": [
    "Plot relationship between the two:"
   ]
  },
  {
   "cell_type": "code",
   "execution_count": null,
   "metadata": {
    "execution": {
     "iopub.execute_input": "2022-01-19T01:53:12.744970Z",
     "iopub.status.busy": "2022-01-19T01:53:12.744032Z",
     "iopub.status.idle": "2022-01-19T01:53:47.793788Z",
     "shell.execute_reply": "2022-01-19T01:53:47.794724Z"
    }
   },
   "outputs": [],
   "source": [
    "consensus_mutations_histo = (\n",
    "    p9.ggplot(\n",
    "        (UMI_mutations\n",
    "         [['cell_barcode', 'gene', 'UMI', 'muts_split', 'frac_CCS']]\n",
    "         .drop_duplicates()),\n",
    "         p9.aes(x='frac_CCS')) +\n",
    "    p9.geom_histogram(bins=20) +\n",
    "    p9.ggtitle('Consensus mutation fractions\\n'\n",
    "               '(excludes WT CCS)\\n'\n",
    "               f'{expt}') +\n",
    "    p9.labs(x='fraction of total CCS for UMI') +\n",
    "    p9.theme(figure_size=(4, 3),\n",
    "             plot_title=p9.element_text(size=9),\n",
    "             axis_title=p9.element_text(size=9),\n",
    "             legend_title=p9.element_text(size=9),\n",
    "             legend_title_align='center') +\n",
    "    p9.scale_color_manual([CBPALETTE[1], CBPALETTE[0]]))\n",
    "\n",
    "display(consensus_mutations_histo)"
   ]
  },
  {
   "cell_type": "markdown",
   "metadata": {},
   "source": [
    "## Output"
   ]
  },
  {
   "cell_type": "code",
   "execution_count": null,
   "metadata": {
    "execution": {
     "iopub.execute_input": "2022-01-19T01:53:47.800248Z",
     "iopub.status.busy": "2022-01-19T01:53:47.799632Z",
     "iopub.status.idle": "2022-01-19T01:54:00.584386Z",
     "shell.execute_reply": "2022-01-19T01:54:00.585172Z"
    }
   },
   "outputs": [],
   "source": [
    "output_df = (\n",
    "    UMI_mutations\n",
    "    [['cell_barcode', 'gene', 'UMI', 'muts_split']]\n",
    "    .rename(columns={'muts_split': 'mutation'})\n",
    ")\n",
    "\n",
    "display(output_df)"
   ]
  },
  {
   "cell_type": "markdown",
   "metadata": {},
   "source": [
    "Double check that every cell_barcod-gene-UMI is represented in final `output_df`"
   ]
  },
  {
   "cell_type": "code",
   "execution_count": null,
   "metadata": {},
   "outputs": [],
   "source": [
    "assert len(output_df[['cell_barcode', 'gene', 'UMI']].drop_duplicates()) == \\\n",
    "    len(cb_gene_UMI), \"Missing cell_barcode-gene-UMI from df\""
   ]
  },
  {
   "cell_type": "markdown",
   "metadata": {},
   "source": [
    "Make sure no na values are included in final `output_df`. Everything should either have a consensus mutation or be annotated as `\"WT\"`"
   ]
  },
  {
   "cell_type": "code",
   "execution_count": null,
   "metadata": {},
   "outputs": [],
   "source": [
    "assert output_df.notnull().any().any(), \\\n",
    "    \"Found null value in output_df\""
   ]
  },
  {
   "cell_type": "code",
   "execution_count": null,
   "metadata": {},
   "outputs": [],
   "source": [
    "print(f'Saving UMI consensus mutations to {consensus_UMI_csv}')\n",
    "output_df.to_csv(consensus_UMI_csv, index=False)"
   ]
  }
 ],
 "metadata": {
  "kernelspec": {
   "display_name": "Python 3",
   "language": "python",
   "name": "python3"
  },
  "language_info": {
   "codemirror_mode": {
    "name": "ipython",
    "version": 3
   },
   "file_extension": ".py",
   "mimetype": "text/x-python",
   "name": "python",
   "nbconvert_exporter": "python",
   "pygments_lexer": "ipython3",
   "version": "3.8.6"
  }
 },
 "nbformat": 4,
 "nbformat_minor": 4
}
