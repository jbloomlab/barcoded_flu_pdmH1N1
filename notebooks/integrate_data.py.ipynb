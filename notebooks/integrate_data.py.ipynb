{
 "cells": [
  {
   "cell_type": "code",
   "execution_count": null,
   "metadata": {
    "execution": {
     "iopub.execute_input": "2022-01-14T04:34:01.413889Z",
     "iopub.status.busy": "2022-01-14T04:34:01.413352Z",
     "iopub.status.idle": "2022-01-14T04:34:01.481789Z",
     "shell.execute_reply": "2022-01-14T04:34:01.482552Z"
    },
    "tags": [
     "snakemake-job-properties"
    ]
   },
   "outputs": [],
   "source": [
    "\n",
    "######## snakemake preamble start (automatically inserted, do not edit) ########\n",
    "import sys; sys.path.extend(['/fh/fast/bloom_j/software/miniconda3/envs/barcoded_flu_pdmH1N1/lib/python3.8/site-packages', '/fh/fast/bloom_j/computational_notebooks/dbacsik/2019/flu_pdmH1N1_barcode_hashing/notebooks']); import pickle; snakemake = pickle.loads(b'\\x80\\x04\\x95\\x84\\x1f\\x00\\x00\\x00\\x00\\x00\\x00\\x8c\\x10snakemake.script\\x94\\x8c\\tSnakemake\\x94\\x93\\x94)\\x81\\x94}\\x94(\\x8c\\x05input\\x94\\x8c\\x0csnakemake.io\\x94\\x8c\\nInputFiles\\x94\\x93\\x94)\\x81\\x94(\\x8c_results/viral_tags_bcs_in_cells/scProgenyProduction_trial3_cell_barcodes_with_viral_tags.csv.gz\\x94\\x8cLresults/viral_fastq10x/scProgenyProduction_trial3_viral_genes_by_cell.csv.gz\\x94\\x8cOresults/viral_fastq10x/scProgenyProduction_trial3_viral_bc_by_cell_valid.csv.gz\\x94\\x8cQresults/viral_progeny/scProgenyProduction_trial3_filtered_progeny_viral_bc.csv.gz\\x94\\x8cTresults/viral_fastq10x/scProgenyProduction_trial3_contributes_progeny_by_cell.csv.gz\\x94e}\\x94(\\x8c\\x06_names\\x94}\\x94(\\x8c\\x10cell_annotations\\x94K\\x00N\\x86\\x94\\x8c\\x17viral_genes_by_cell_csv\\x94K\\x01N\\x86\\x94\\x8c\\x18viral_barcodes_valid_csv\\x94K\\x02N\\x86\\x94\\x8c\\x1dfiltered_progeny_viral_bc_csv\\x94K\\x03N\\x86\\x94\\x8c\\x1fcontributes_progeny_by_cell_csv\\x94K\\x04N\\x86\\x94u\\x8c\\x12_allowed_overrides\\x94]\\x94(\\x8c\\x05index\\x94\\x8c\\x04sort\\x94eh\\x1e\\x8c\\tfunctools\\x94\\x8c\\x07partial\\x94\\x93\\x94h\\x06\\x8c\\x19Namedlist._used_attribute\\x94\\x93\\x94\\x85\\x94R\\x94(h$)}\\x94\\x8c\\x05_name\\x94h\\x1esNt\\x94bh\\x1fh\"h$\\x85\\x94R\\x94(h$)}\\x94h(h\\x1fsNt\\x94bh\\x12h\\nh\\x14h\\x0bh\\x16h\\x0ch\\x18h\\rh\\x1ah\\x0eub\\x8c\\x06output\\x94h\\x06\\x8c\\x0bOutputFiles\\x94\\x93\\x94)\\x81\\x94\\x8cGresults/viral_fastq10x/scProgenyProduction_trial3_integrate_data.csv.gz\\x94a}\\x94(h\\x10}\\x94\\x8c\\x13integrated_data_csv\\x94K\\x00N\\x86\\x94sh\\x1c]\\x94(h\\x1eh\\x1feh\\x1eh\"h$\\x85\\x94R\\x94(h$)}\\x94h(h\\x1esNt\\x94bh\\x1fh\"h$\\x85\\x94R\\x94(h$)}\\x94h(h\\x1fsNt\\x94bh5h2ub\\x8c\\x06params\\x94h\\x06\\x8c\\x06Params\\x94\\x93\\x94)\\x81\\x94]\\x94(\\x8c\\x05fluHA\\x94\\x8c\\x05fluNA\\x94ea}\\x94(h\\x10}\\x94\\x8c\\x14barcoded_viral_genes\\x94K\\x00N\\x86\\x94sh\\x1c]\\x94(h\\x1eh\\x1feh\\x1eh\"h$\\x85\\x94R\\x94(h$)}\\x94h(h\\x1esNt\\x94bh\\x1fh\"h$\\x85\\x94R\\x94(h$)}\\x94h(h\\x1fsNt\\x94bhIhDub\\x8c\\twildcards\\x94h\\x06\\x8c\\tWildcards\\x94\\x93\\x94)\\x81\\x94\\x8c\\x1ascProgenyProduction_trial3\\x94a}\\x94(h\\x10}\\x94\\x8c\\x04expt\\x94K\\x00N\\x86\\x94sh\\x1c]\\x94(h\\x1eh\\x1feh\\x1eh\"h$\\x85\\x94R\\x94(h$)}\\x94h(h\\x1esNt\\x94bh\\x1fh\"h$\\x85\\x94R\\x94(h$)}\\x94h(h\\x1fsNt\\x94b\\x8c\\x04expt\\x94hXub\\x8c\\x07threads\\x94K\\x01\\x8c\\tresources\\x94h\\x06\\x8c\\tResources\\x94\\x93\\x94)\\x81\\x94(K\\x01K\\x01e}\\x94(h\\x10}\\x94(\\x8c\\x06_cores\\x94K\\x00N\\x86\\x94\\x8c\\x06_nodes\\x94K\\x01N\\x86\\x94uh\\x1c]\\x94(h\\x1eh\\x1feh\\x1eh\"h$\\x85\\x94R\\x94(h$)}\\x94h(h\\x1esNt\\x94bh\\x1fh\"h$\\x85\\x94R\\x94(h$)}\\x94h(h\\x1fsNt\\x94bhnK\\x01hpK\\x01ub\\x8c\\x03log\\x94h\\x06\\x8c\\x03Log\\x94\\x93\\x94)\\x81\\x94\\x8c<results/logs/integrate_data_scProgenyProduction_trial3.ipynb\\x94a}\\x94(h\\x10}\\x94\\x8c\\x08notebook\\x94K\\x00N\\x86\\x94sh\\x1c]\\x94(h\\x1eh\\x1feh\\x1eh\"h$\\x85\\x94R\\x94(h$)}\\x94h(h\\x1esNt\\x94bh\\x1fh\"h$\\x85\\x94R\\x94(h$)}\\x94h(h\\x1fsNt\\x94bh\\x82h\\x7fub\\x8c\\x06config\\x94}\\x94(\\x8c\\x08max_cpus\\x94K\\x10\\x8c\\x07log_dir\\x94\\x8c\\x0cresults/logs\\x94\\x8c\\x0cfastq10x_dir\\x94\\x8c\\x10results/fastq10x\\x94\\x8c\\npacbio_dir\\x94\\x8c\\x0eresults/pacbio\\x94\\x8c\\x0emkfastq10x_dir\\x94\\x8c\\x1fresults/fastq10x/mkfastq_output\\x94\\x8c\\ngenome_dir\\x94\\x8c\\x0fresults/genomes\\x94\\x8c\\trefgenome\\x94\\x8c\\x19results/genomes/refgenome\\x94\\x8c\\x14aligned_fastq10x_dir\\x94\\x8c\\x18results/aligned_fastq10x\\x94\\x8c\\x12viral_fastq10x_dir\\x94\\x8c\\x16results/viral_fastq10x\\x94\\x8c\\x1bviral_tags_bcs_in_cells_dir\\x94\\x8c\\x1fresults/viral_tags_bcs_in_cells\\x94\\x8c\\x11viral_progeny_dir\\x94\\x8c\\x15results/viral_progeny\\x94\\x8c\\x13align_and_parse_dir\\x94\\x8c#results/pacbio/CA09_align_and_parse\\x94\\x8c\\x0fcell_genome_ftp\\x94\\x8cmftp://ftp.ensembl.org/pub/release-98/fasta/canis_familiaris/dna/Canis_familiaris.CanFam3.1.dna.toplevel.fa.gz\\x94\\x8c\\x0ccell_gtf_ftp\\x94\\x8c^ftp://ftp.ensembl.org/pub/release-98/gtf/canis_familiaris/Canis_familiaris.CanFam3.1.98.gtf.gz\\x94\\x8c\\x0cviral_genome\\x94\\x8c!data/flu_sequences/flu-CA09.fasta\\x94\\x8c\\tviral_gtf\\x94\\x8c\\x1fdata/flu_sequences/flu-CA09.gtf\\x94\\x8c\\rviral_genbank\\x94\\x8c\\x1edata/flu_sequences/flu-CA09.gb\\x94\\x8c\\x14viral_tag_identities\\x94\\x8c+data/flu_sequences/flu-CA09_viral_tags.yaml\\x94\\x8c\\x0fviral_amplicons\\x94\\x8c.data/flu_sequences/pacbio_amplicons/fluCA09.gb\\x94\\x8c\\x11amplicon_features\\x94\\x8c9data/flu_sequences/pacbio_amplicons/fluCA09_features.yaml\\x94\\x8c\\x1eamplicon_linearization_primers\\x94\\x8c=data/flu_sequences/pacbio_amplicons/linearization_primers.tsv\\x94\\x8c\\x15amplicon_to_reference\\x94\\x8c=data/flu_sequences/pacbio_amplicons/amplicon_to_reference.csv\\x94\\x8c\\x0escoreGapNoncan\\x94J\\xfc\\xff\\xff\\xff\\x8c\\x0cscoreGapGCAG\\x94J\\xfc\\xff\\xff\\xff\\x8c\\x0cscoreGapATAC\\x94J\\xfc\\xff\\xff\\xff\\x8c\\x14cb_whitelist_10x_url\\x94\\x8ckhttps://github.com/10XGenomics/cellranger/raw/master/lib/python/cellranger/barcodes/3M-february-2018.txt.gz\\x94\\x8c\\x10cb_whitelist_10x\\x94\\x8c-results/aligned_fastq10x/cb_whitelist_10x.txt\\x94\\x8c\\ncb_len_10x\\x94K\\x10\\x8c\\x0bumi_len_10x\\x94K\\x0c\\x8c\\x14total_UMI_deviations\\x94G@\\x04\\x00\\x00\\x00\\x00\\x00\\x00\\x8c\\x13infection_threshold\\x94G?\\x84z\\xe1G\\xae\\x14{\\x8c\\rviral_tag_fdr\\x94G?\\x1a6\\xe2\\xeb\\x1cC-\\x8c\\x1dviral_barcode_upstream_length\\x94K\\x1c\\x8c\\x16viral_barcode_mismatch\\x94K\\x00\\x8c\\x12viral_barcode_minq\\x94K\\x1e\\x8c\\x17progeny_detection_limit\\x94\\x8c\\x041e-5\\x94\\x8c\\x0cviral_bc_fdr\\x94G?\\x1a6\\xe2\\xeb\\x1cC-\\x8c\\x0eccs_min_length\\x94K2\\x8c\\x0eccs_max_length\\x94M\\x88\\x13\\x8c\\nccs_min_rq\\x94G?\\xef\\xf7\\xce\\xd9\\x16\\x87+\\x8c\\x0bexperiments\\x94}\\x94\\x8c\\x1ascProgenyProduction_trial3\\x94}\\x94(\\x8c\\x0bdescription\\x94X\\x1b\\x01\\x00\\x00Single-cell transcriptomics performed on even lower MOI-infected sample. Innoculum volumes based on `scProgenyProduction_trial1` and `scProgenyProduction_trial2` data. Loaded all collected cells from two 24-well wells, each infected with either wildtype or dblySn viral tag variants.\\x94\\x8c\\tlab_notes\\x94\\x8c0https://benchling.com/s/etr-N4laiIAy3AUePJdig7wR\\x94\\x8c\\rexpect_ncells\\x94M\\x10\\'\\x8c\\x0ftranscriptomics\\x94}\\x94(\\x8c\\x08datetime\\x94\\x8c\\x04date\\x94\\x93\\x94C\\x04\\x07\\xe5\\x03\\x0c\\x94\\x85\\x94R\\x94}\\x94(\\x8c\\x05index\\x94\\x8c\\x08SI-TT-A3\\x94\\x8c\\nbcl_folder\\x94\\x8c_/shared/ngs/illumina/bloom_lab/210312_D00300_1192_BHKHNYBCX3/raw/210312_D00300_1192_BHKHNYBCX3/\\x94\\x8c\\x04lane\\x94K\\x01\\x8c\\x10index_sequencing\\x94\\x8c\\x06single\\x94uh\\xdcC\\x04\\x07\\xe5\\x04\\t\\x94\\x85\\x94R\\x94}\\x94(\\x8c\\x05index\\x94\\x8c\\x08SI-TT-A3\\x94\\x8c\\nbcl_folder\\x94\\x8c_/shared/ngs/illumina/bloom_lab/210409_D00300_1210_BHKC7KBCX3/raw/210409_D00300_1210_BHKC7KBCX3/\\x94\\x8c\\x04lane\\x94\\x8c\\x01*\\x94\\x8c\\x10index_sequencing\\x94\\x8c\\x06single\\x94uh\\xdcC\\x04\\x07\\xe5\\x08\\x19\\x94\\x85\\x94R\\x94}\\x94(\\x8c\\x05index\\x94\\x8c\\x08SI-TT-A3\\x94\\x8c\\nbcl_folder\\x94\\x8c_/shared/ngs/illumina/bloom_lab/210825_D00300_1310_BHMH5TBCX3/raw/210825_D00300_1310_BHMH5TBCX3/\\x94\\x8c\\x04lane\\x94h\\xf1\\x8c\\x10index_sequencing\\x94\\x8c\\x04none\\x94uh\\xdcC\\x04\\x07\\xe5\\t\\x0f\\x94\\x85\\x94R\\x94}\\x94(\\x8c\\x05index\\x94\\x8c\\x08SI-TT-A3\\x94\\x8c\\nbcl_folder\\x94\\x8cY/shared/ngs/illumina/bloom_lab/210915_VH00699_2_AAAMCL7M5/raw/210915_VH00699_2_AAAMCL7M5/\\x94\\x8c\\x04lane\\x94h\\xf1\\x8c\\x10index_sequencing\\x94\\x8c\\x04none\\x94uu\\x8c\\x17pacbio_viral_sequencing\\x94}\\x94\\x8c\\x1c2021-08-05_all_segments_run1\\x94\\x8cp/fh/fast/bloom_j/SR/ngs/pacbio/210730_SequelIIe/r64272e_20210730_182729/1_A01/m64272e_210730_193026.subreads.bam\\x94s\\x8c\\x0eviral_barcodes\\x94}\\x94(\\x8c\\x0bsupernatant\\x94}\\x94(\\x8c\\x02wt\\x94}\\x94(\\x8c\\x05fluHA\\x94}\\x94(\\x8c\\x0breplicate_1\\x94}\\x94h\\xdcC\\x04\\x07\\xe5\\x04\\x08\\x94\\x85\\x94R\\x94\\x8c\\x90/shared/ngs/illumina/bloom_lab/210408_M04866_0464_000000000-JL5M4_new-demux/Data/Intensities/BaseCalls/WT-sup-fluHA-rep1_S9_L001_R1_001.fastq.gz\\x94s\\x8c\\x0breplicate_2\\x94}\\x94h\\xdcC\\x04\\x07\\xe5\\x04\\x08\\x94\\x85\\x94R\\x94\\x8c\\x91/shared/ngs/illumina/bloom_lab/210408_M04866_0464_000000000-JL5M4_new-demux/Data/Intensities/BaseCalls/WT-sup-fluHA-rep2_S13_L001_R1_001.fastq.gz\\x94su\\x8c\\x05fluNA\\x94}\\x94(\\x8c\\x0breplicate_1\\x94}\\x94h\\xdcC\\x04\\x07\\xe5\\x04\\x08\\x94\\x85\\x94R\\x94\\x8c\\x90/shared/ngs/illumina/bloom_lab/210408_M04866_0464_000000000-JL5M4_new-demux/Data/Intensities/BaseCalls/WT-sup-fluNA-rep1_S1_L001_R1_001.fastq.gz\\x94s\\x8c\\x0breplicate_2\\x94}\\x94h\\xdcC\\x04\\x07\\xe5\\x05\\x11\\x94\\x85\\x94R\\x94\\x8c\\x86/shared/ngs/illumina/bloom_lab/210517_M03100_0681_000000000-JL4TM/Data/Intensities/BaseCalls/WT-sup-fluNA-rep2_S1_L001_R1_001.fastq.gz\\x94suu\\x8c\\x03syn\\x94}\\x94(\\x8c\\x05fluHA\\x94}\\x94(\\x8c\\x0breplicate_1\\x94}\\x94h\\xdcC\\x04\\x07\\xe5\\x04\\x08\\x94\\x85\\x94R\\x94\\x8c\\x95/shared/ngs/illumina/bloom_lab/210408_M04866_0464_000000000-JL5M4_new-demux/Data/Intensities/BaseCalls/dblSyn-sup-fluHA-rep1_S10_L001_R1_001.fastq.gz\\x94s\\x8c\\x0breplicate_2\\x94}\\x94h\\xdcC\\x04\\x07\\xe5\\x04\\x08\\x94\\x85\\x94R\\x94\\x8c\\x95/shared/ngs/illumina/bloom_lab/210408_M04866_0464_000000000-JL5M4_new-demux/Data/Intensities/BaseCalls/dblSyn-sup-fluHA-rep2_S14_L001_R1_001.fastq.gz\\x94su\\x8c\\x05fluNA\\x94}\\x94(\\x8c\\x0breplicate_1\\x94}\\x94h\\xdcC\\x04\\x07\\xe5\\x04\\x08\\x94\\x85\\x94R\\x94\\x8c\\x94/shared/ngs/illumina/bloom_lab/210408_M04866_0464_000000000-JL5M4_new-demux/Data/Intensities/BaseCalls/dblSyn-sup-fluNA-rep1_S2_L001_R1_001.fastq.gz\\x94s\\x8c\\x0breplicate_2\\x94}\\x94h\\xdcC\\x04\\x07\\xe5\\x04\\x08\\x94\\x85\\x94R\\x94\\x8c\\x94/shared/ngs/illumina/bloom_lab/210408_M04866_0464_000000000-JL5M4_new-demux/Data/Intensities/BaseCalls/dblSyn-sup-fluNA-rep2_S6_L001_R1_001.fastq.gz\\x94suuu\\x8c\\x10second_infection\\x94}\\x94(\\x8c\\x02wt\\x94}\\x94(\\x8c\\x05fluHA\\x94}\\x94(\\x8c\\x0breplicate_1\\x94}\\x94h\\xdcC\\x04\\x07\\xe5\\x05\\x11\\x94\\x85\\x94R\\x94\\x8c\\x85/shared/ngs/illumina/bloom_lab/210517_M03100_0681_000000000-JL4TM/Data/Intensities/BaseCalls/WT-SI-fluHA-rep1_S2_L001_R1_001.fastq.gz\\x94s\\x8c\\x0breplicate_2\\x94}\\x94h\\xdcC\\x04\\x07\\xe5\\x05\\x11\\x94\\x85\\x94R\\x94\\x8c\\x85/shared/ngs/illumina/bloom_lab/210517_M03100_0681_000000000-JL4TM/Data/Intensities/BaseCalls/WT-SI-fluHA-rep2_S3_L001_R1_001.fastq.gz\\x94su\\x8c\\x05fluNA\\x94}\\x94(\\x8c\\x0breplicate_1\\x94}\\x94h\\xdcC\\x04\\x07\\xe5\\x05\\x11\\x94\\x85\\x94R\\x94\\x8c\\x86/shared/ngs/illumina/bloom_lab/210517_M03100_0681_000000000-JL4TM/Data/Intensities/BaseCalls/WT-SI-fluNA-rep1_S11_L001_R1_001.fastq.gz\\x94s\\x8c\\x0breplicate_2\\x94}\\x94h\\xdcC\\x04\\x07\\xe5\\x05\\x11\\x94\\x85\\x94R\\x94\\x8c\\x86/shared/ngs/illumina/bloom_lab/210517_M03100_0681_000000000-JL4TM/Data/Intensities/BaseCalls/WT-SI-fluNA-rep2_S12_L001_R1_001.fastq.gz\\x94suu\\x8c\\x03syn\\x94}\\x94(\\x8c\\x05fluHA\\x94}\\x94(\\x8c\\x0breplicate_1\\x94}\\x94h\\xdcC\\x04\\x07\\xe5\\x05\\x11\\x94\\x85\\x94R\\x94\\x8c\\x89/shared/ngs/illumina/bloom_lab/210517_M03100_0681_000000000-JL4TM/Data/Intensities/BaseCalls/dblSyn-SI-fluHA-rep1_S4_L001_R1_001.fastq.gz\\x94s\\x8c\\x0breplicate_2\\x94}\\x94h\\xdcC\\x04\\x07\\xe5\\x05\\x11\\x94\\x85\\x94R\\x94\\x8c\\x89/shared/ngs/illumina/bloom_lab/210517_M03100_0681_000000000-JL4TM/Data/Intensities/BaseCalls/dblSyn-SI-fluHA-rep2_S5_L001_R1_001.fastq.gz\\x94su\\x8c\\x05fluNA\\x94}\\x94(\\x8c\\x0breplicate_1\\x94}\\x94h\\xdcC\\x04\\x07\\xe5\\x05\\x11\\x94\\x85\\x94R\\x94\\x8c\\x8a/shared/ngs/illumina/bloom_lab/210517_M03100_0681_000000000-JL4TM/Data/Intensities/BaseCalls/dblSyn-SI-fluNA-rep1_S13_L001_R1_001.fastq.gz\\x94s\\x8c\\x0breplicate_2\\x94}\\x94h\\xdcC\\x04\\x07\\xe5\\x05\\x11\\x94\\x85\\x94R\\x94\\x8c\\x8a/shared/ngs/illumina/bloom_lab/210517_M03100_0681_000000000-JL4TM/Data/Intensities/BaseCalls/dblSyn-SI-fluNA-rep2_S14_L001_R1_001.fastq.gz\\x94suuuuusu\\x8c\\x04rule\\x94\\x8c\\x0eintegrate_data\\x94\\x8c\\x0fbench_iteration\\x94N\\x8c\\tscriptdir\\x94\\x8c[/fh/fast/bloom_j/computational_notebooks/dbacsik/2019/flu_pdmH1N1_barcode_hashing/notebooks\\x94ub.'); from snakemake.logging import logger; logger.printshellcmds = False; import os; os.chdir('/fh/fast/bloom_j/computational_notebooks/dbacsik/2019/flu_pdmH1N1_barcode_hashing');\n",
    "######## snakemake preamble end #########\n"
   ]
  },
  {
   "cell_type": "markdown",
   "metadata": {},
   "source": [
    "# Integrate data\n",
    "This notebook takes processed data and integrates it into a single dataframe.\n",
    "\n",
    "The general structure of the dataframe is that each cell barcode is listed on a row, and features of that cell are listed in columns. Cells that have more than one valid viral barcode identified may have multiple rows--one for each valid viral barcode."
   ]
  },
  {
   "cell_type": "markdown",
   "metadata": {},
   "source": [
    "Import python modules:\n"
   ]
  },
  {
   "cell_type": "code",
   "execution_count": null,
   "metadata": {
    "execution": {
     "iopub.execute_input": "2022-01-14T04:34:01.486244Z",
     "iopub.status.busy": "2022-01-14T04:34:01.485201Z",
     "iopub.status.idle": "2022-01-14T04:34:01.794361Z",
     "shell.execute_reply": "2022-01-14T04:34:01.795004Z"
    }
   },
   "outputs": [],
   "source": [
    "from IPython.display import display\n",
    "\n",
    "import pandas as pd"
   ]
  },
  {
   "cell_type": "markdown",
   "metadata": {},
   "source": [
    "Variables:"
   ]
  },
  {
   "cell_type": "code",
   "execution_count": null,
   "metadata": {
    "execution": {
     "iopub.execute_input": "2022-01-14T04:34:01.798078Z",
     "iopub.status.busy": "2022-01-14T04:34:01.797208Z",
     "iopub.status.idle": "2022-01-14T04:34:01.801542Z",
     "shell.execute_reply": "2022-01-14T04:34:01.802075Z"
    }
   },
   "outputs": [],
   "source": [
    "# Input sources\n",
    "cell_annotations_csv = snakemake.input.cell_annotations\n",
    "viral_genes_by_cell_csv = snakemake.input.viral_genes_by_cell_csv\n",
    "pacbio_consensus_gene_csv = 'results/pacbio/scProgenyProduction_trial3_consensus_gene.csv.gz' # snakemake.input.pacbio_consensus_gene_csv\n",
    "viral_barcodes_valid_csv = snakemake.input.viral_barcodes_valid_csv\n",
    "filtered_progeny_viral_bc_csv = snakemake.input.filtered_progeny_viral_bc_csv\n",
    "contributes_progeny_by_cell_csv = snakemake.input.contributes_progeny_by_cell_csv\n",
    "\n",
    "# # Params and wildcards\n",
    "barcoded_viral_genes = snakemake.params.barcoded_viral_genes\n",
    "expt = snakemake.wildcards.expt\n",
    "\n",
    "# Output\n",
    "integrated_data_csv = snakemake.output.integrated_data_csv"
   ]
  },
  {
   "cell_type": "markdown",
   "metadata": {},
   "source": [
    "## Load data and transform into wide format\n",
    "Load data from the following sources:  \n",
    "* `cell_annotations_csv` contains a list of all cell barcodes, their infection status/tag, total_UMIs, viral_UMIs, and frac_viral_UMIs  \n",
    "\n",
    "* `viral_genes_by_cell_csv` contains every cell barcode, each viral gene, whether the viral gene is present, the fraction of UMIs from that gene, and the total number of viral genes detected in that cell  \n",
    "\n",
    "* `viral_barcodes_valid_csv` contains each infected cell, the valid viral barcodes detected in that cell, viral_bc_UMIs, and frac_viral_bc_UMIs  \n",
    "\n",
    "* `filtered_progeny_viral_bc_csv` contains the progeny source, the tag of the progeny source, the valid viral barcodes detected in that progeny source, and the frequency of the viral barcodes in that progeny source  \n",
    "\n",
    "* `pacbio_consensus_gene_csv` contains the cell barcode, each viral gene, and the consensus genotype of the viral gene in that cell\n",
    "\n",
    "Some of these dataframes are in a long format, with many rows per cell barcode. I will transform them into a wide format, so that each cell barcode has only one row. The only exception is the viral barcodes, which will have one row per cell barcode-viral barcode pair."
   ]
  },
  {
   "cell_type": "markdown",
   "metadata": {},
   "source": [
    "Load cell barcodes, tags, and basic metrics for every cell in transcriptome:"
   ]
  },
  {
   "cell_type": "code",
   "execution_count": null,
   "metadata": {
    "execution": {
     "iopub.execute_input": "2022-01-14T04:34:01.804854Z",
     "iopub.status.busy": "2022-01-14T04:34:01.804014Z",
     "iopub.status.idle": "2022-01-14T04:34:01.839184Z",
     "shell.execute_reply": "2022-01-14T04:34:01.839783Z"
    }
   },
   "outputs": [],
   "source": [
    "cell_annotations = pd.read_csv(cell_annotations_csv)\n",
    "cell_annotations = (\n",
    "    cell_annotations\n",
    "    [['cell_barcode',\n",
    "      'infected',\n",
    "      'infecting_viral_tag',\n",
    "      'total_UMIs',\n",
    "      'viral_UMIs',\n",
    "      'frac_viral_UMIs']])\n",
    "\n",
    "display(cell_annotations)"
   ]
  },
  {
   "cell_type": "markdown",
   "metadata": {},
   "source": [
    "Load viral genes detected in each cell:"
   ]
  },
  {
   "cell_type": "code",
   "execution_count": null,
   "metadata": {
    "execution": {
     "iopub.execute_input": "2022-01-14T04:34:01.842783Z",
     "iopub.status.busy": "2022-01-14T04:34:01.841898Z",
     "iopub.status.idle": "2022-01-14T04:34:01.905215Z",
     "shell.execute_reply": "2022-01-14T04:34:01.905728Z"
    }
   },
   "outputs": [],
   "source": [
    "viral_genes = pd.read_csv(viral_genes_by_cell_csv)\n",
    "viral_genes = viral_genes.rename(columns={'frac_gene_UMIs': 'frac_UMIs',\n",
    "                                          'gene_present': 'present'})\n",
    "viral_genes = (viral_genes\n",
    "               .pivot(\n",
    "    index=['cell_barcode', 'n_viral_genes'],\n",
    "    columns=['gene'],\n",
    "    values=['frac_UMIs', 'present']))\n",
    "viral_genes.columns = ['_'.join(col).strip() for col in viral_genes.columns.values]\n",
    "viral_genes = viral_genes.reset_index()\n",
    "display(viral_genes)"
   ]
  },
  {
   "cell_type": "markdown",
   "metadata": {},
   "source": [
    "Load viral gene genotypes:"
   ]
  },
  {
   "cell_type": "code",
   "execution_count": null,
   "metadata": {},
   "outputs": [],
   "source": [
    "viral_genotypes = pd.read_csv(pacbio_consensus_gene_csv)\n",
    "viral_genotypes = viral_genotypes.rename(columns={'total_UMI': 'pacbio_UMIs',\n",
    "                                                  'consensus_mutations': 'mutations'})\n",
    "viral_genotypes = (\n",
    "    viral_genotypes\n",
    "    .pivot(index=['cell_barcode'],\n",
    "           columns=['gene'],\n",
    "           values=['mutations', 'pacbio_UMIs']))\n",
    "viral_genotypes.columns = ['_'.join(col).strip() for col in viral_genotypes.columns.values]\n",
    "viral_genotypes = viral_genotypes.reset_index()\n",
    "display(viral_genotypes)"
   ]
  },
  {
   "cell_type": "markdown",
   "metadata": {},
   "source": [
    "Load valid viral barcodes in each infected cell:"
   ]
  },
  {
   "cell_type": "code",
   "execution_count": null,
   "metadata": {
    "execution": {
     "iopub.execute_input": "2022-01-14T04:34:01.908346Z",
     "iopub.status.busy": "2022-01-14T04:34:01.907563Z",
     "iopub.status.idle": "2022-01-14T04:34:01.925007Z",
     "shell.execute_reply": "2022-01-14T04:34:01.925558Z"
    }
   },
   "outputs": [],
   "source": [
    "transcriptome_viral_barcodes = pd.read_csv(viral_barcodes_valid_csv)\n",
    "transcriptome_viral_barcodes = transcriptome_viral_barcodes.drop(columns=['valid_viral_bc'])\n",
    "transcriptome_viral_barcodes = transcriptome_viral_barcodes.rename(columns={'gene': 'barcoded_gene'})\n",
    "assert set(transcriptome_viral_barcodes['barcoded_gene']) == set(barcoded_viral_genes), \\\n",
    "       \"Barcoded genes in barcode counts do not match expectation.\"\n",
    "display(transcriptome_viral_barcodes)"
   ]
  },
  {
   "cell_type": "markdown",
   "metadata": {},
   "source": [
    "Load progeny viral barcode frequencies:"
   ]
  },
  {
   "cell_type": "code",
   "execution_count": null,
   "metadata": {
    "execution": {
     "iopub.execute_input": "2022-01-14T04:34:01.928456Z",
     "iopub.status.busy": "2022-01-14T04:34:01.927588Z",
     "iopub.status.idle": "2022-01-14T04:34:01.954326Z",
     "shell.execute_reply": "2022-01-14T04:34:01.954853Z"
    }
   },
   "outputs": [],
   "source": [
    "progeny_viral_barcodes = pd.read_csv(filtered_progeny_viral_bc_csv)\n",
    "progeny_viral_barcodes = progeny_viral_barcodes.drop(columns=['Unnamed: 0'])\n",
    "progeny_viral_barcodes = (progeny_viral_barcodes\n",
    "                          .rename(columns={'tag': 'infecting_viral_tag',\n",
    "                                           'average_freq': 'freq',\n",
    "                                           'gene': 'barcoded_gene'}))\n",
    "assert set(progeny_viral_barcodes['barcoded_gene']) == set(barcoded_viral_genes), \\\n",
    "       \"Barcoded genes in barcode counts do not match expectation.\"\n",
    "progeny_viral_barcodes = (\n",
    "    progeny_viral_barcodes\n",
    "    .pivot(index=['viral_barcode', 'infecting_viral_tag', 'barcoded_gene'],\n",
    "           columns=['source'],\n",
    "           values=['freq']))\n",
    "progeny_viral_barcodes.columns = ['_'.join(col).strip() for col in progeny_viral_barcodes.columns.values]\n",
    "progeny_viral_barcodes = progeny_viral_barcodes.reset_index()\n",
    "display(progeny_viral_barcodes)"
   ]
  },
  {
   "cell_type": "markdown",
   "metadata": {},
   "source": [
    "Load whether each infected cell contributes any progeny:"
   ]
  },
  {
   "cell_type": "code",
   "execution_count": null,
   "metadata": {
    "execution": {
     "iopub.execute_input": "2022-01-14T04:34:01.957519Z",
     "iopub.status.busy": "2022-01-14T04:34:01.956709Z",
     "iopub.status.idle": "2022-01-14T04:34:01.976932Z",
     "shell.execute_reply": "2022-01-14T04:34:01.977464Z"
    }
   },
   "outputs": [],
   "source": [
    "contributes_progeny = pd.read_csv(contributes_progeny_by_cell_csv)\n",
    "contributes_progeny = contributes_progeny.rename(columns={'gene': 'barcoded_gene',\n",
    "                                                          'max_progeny_freq': 'max_freq'})\n",
    "assert set(transcriptome_viral_barcodes['barcoded_gene']) == set(barcoded_viral_genes), \\\n",
    "       \"Barcoded genes in barcode counts do not match expectation.\"\n",
    "contributes_progeny = (\n",
    "    contributes_progeny\n",
    "    .pivot(index=['cell_barcode'],\n",
    "           columns=['source'],\n",
    "           values=['max_freq', 'contributes_progeny']))\n",
    "contributes_progeny.columns = ['_'.join(col).strip() for col in contributes_progeny.columns.values]\n",
    "contributes_progeny = contributes_progeny.reset_index()\n",
    "display(contributes_progeny)"
   ]
  },
  {
   "cell_type": "markdown",
   "metadata": {},
   "source": [
    "## Integrate data into single dataframe"
   ]
  },
  {
   "cell_type": "markdown",
   "metadata": {},
   "source": [
    "Start with `cell_annotations` dataframe. Bring in viral gene expression information."
   ]
  },
  {
   "cell_type": "code",
   "execution_count": null,
   "metadata": {
    "execution": {
     "iopub.execute_input": "2022-01-14T04:34:01.980241Z",
     "iopub.status.busy": "2022-01-14T04:34:01.979439Z",
     "iopub.status.idle": "2022-01-14T04:34:02.015696Z",
     "shell.execute_reply": "2022-01-14T04:34:02.016229Z"
    }
   },
   "outputs": [],
   "source": [
    "integrated_df = pd.merge(\n",
    "    left=cell_annotations,\n",
    "    right=viral_genes,\n",
    "    on='cell_barcode',\n",
    "    how='outer',\n",
    "    validate='one_to_one'\n",
    ")\n",
    "display(integrated_df)"
   ]
  },
  {
   "cell_type": "markdown",
   "metadata": {},
   "source": [
    "Bring in viral gene genotypes. Many cells do not have pacbio data. For all missing data, fill all counts with 0 and fill all mutations with \"Not Detected\"."
   ]
  },
  {
   "cell_type": "code",
   "execution_count": null,
   "metadata": {},
   "outputs": [],
   "source": [
    "integrated_df = pd.merge(\n",
    "    left=integrated_df,\n",
    "    right=viral_genotypes,\n",
    "    on='cell_barcode',\n",
    "    how='left',\n",
    "    validate='one_to_one'\n",
    ")\n",
    "\n",
    "# Fill empty mutations columns with \"Not Detected\"\n",
    "integrated_df[[col for col in integrated_df if col.startswith('mutations')]] = (\n",
    "     integrated_df[[col for col in integrated_df if col.startswith('mutations')]]\n",
    "     .fillna('Not Detected'))\n",
    "# Fill empty pacbio_UMIs columns with 0\n",
    "integrated_df[[col for col in integrated_df if col.startswith('pacbio_UMIs')]] = (\n",
    "     integrated_df[[col for col in integrated_df if col.startswith('pacbio_UMIs')]]\n",
    "     .fillna(0))\n",
    "\n",
    "display(integrated_df)"
   ]
  },
  {
   "cell_type": "markdown",
   "metadata": {},
   "source": [
    "Bring in valid viral barcodes for cells that have them:"
   ]
  },
  {
   "cell_type": "code",
   "execution_count": null,
   "metadata": {
    "execution": {
     "iopub.execute_input": "2022-01-14T04:34:02.018898Z",
     "iopub.status.busy": "2022-01-14T04:34:02.018089Z",
     "iopub.status.idle": "2022-01-14T04:34:02.053100Z",
     "shell.execute_reply": "2022-01-14T04:34:02.053617Z"
    }
   },
   "outputs": [],
   "source": [
    "integrated_df = pd.merge(\n",
    "    left=integrated_df,\n",
    "    right=transcriptome_viral_barcodes,\n",
    "    on='cell_barcode',\n",
    "    how='left',\n",
    "    validate='one_to_many'\n",
    ")\n",
    "display(integrated_df)"
   ]
  },
  {
   "cell_type": "markdown",
   "metadata": {},
   "source": [
    "Bring in progeny frequencies:"
   ]
  },
  {
   "cell_type": "code",
   "execution_count": null,
   "metadata": {
    "execution": {
     "iopub.execute_input": "2022-01-14T04:34:02.056374Z",
     "iopub.status.busy": "2022-01-14T04:34:02.055572Z",
     "iopub.status.idle": "2022-01-14T04:34:02.091480Z",
     "shell.execute_reply": "2022-01-14T04:34:02.092006Z"
    }
   },
   "outputs": [],
   "source": [
    "integrated_df = pd.merge(\n",
    "    left=integrated_df,\n",
    "    right=progeny_viral_barcodes,\n",
    "    on=['infecting_viral_tag', 'barcoded_gene', 'viral_barcode'],\n",
    "    how='left',\n",
    "    validate='many_to_one'\n",
    ")\n",
    "display(integrated_df)"
   ]
  },
  {
   "cell_type": "markdown",
   "metadata": {},
   "source": [
    "Bring in annotation of whether each infected cell contributes any progeny:"
   ]
  },
  {
   "cell_type": "code",
   "execution_count": null,
   "metadata": {
    "execution": {
     "iopub.execute_input": "2022-01-14T04:34:02.094752Z",
     "iopub.status.busy": "2022-01-14T04:34:02.093808Z",
     "iopub.status.idle": "2022-01-14T04:34:02.132715Z",
     "shell.execute_reply": "2022-01-14T04:34:02.133273Z"
    }
   },
   "outputs": [],
   "source": [
    "integrated_df = pd.merge(\n",
    "    left=integrated_df,\n",
    "    right=contributes_progeny,\n",
    "    on=['cell_barcode'],\n",
    "    how='left',\n",
    "    validate='many_to_one'\n",
    ")\n",
    "display(integrated_df)"
   ]
  },
  {
   "cell_type": "markdown",
   "metadata": {},
   "source": [
    "## Check integrated dataframe"
   ]
  },
  {
   "cell_type": "markdown",
   "metadata": {},
   "source": [
    "Check that the number of total cells has not changed."
   ]
  },
  {
   "cell_type": "code",
   "execution_count": null,
   "metadata": {
    "execution": {
     "iopub.execute_input": "2022-01-14T04:34:02.136220Z",
     "iopub.status.busy": "2022-01-14T04:34:02.135425Z",
     "iopub.status.idle": "2022-01-14T04:34:02.140114Z",
     "shell.execute_reply": "2022-01-14T04:34:02.140644Z"
    }
   },
   "outputs": [],
   "source": [
    "assert integrated_df['cell_barcode'].nunique() == \\\n",
    "    len(cell_annotations['cell_barcode']), \\\n",
    "    \"Total number of cells changed\""
   ]
  },
  {
   "cell_type": "markdown",
   "metadata": {},
   "source": [
    "Check that every viral barcode has a `barcoded_gene`, `frac_viral_bc_UMIS`, `freq_supernatant`, and `freq_second_infection`."
   ]
  },
  {
   "cell_type": "code",
   "execution_count": null,
   "metadata": {
    "execution": {
     "iopub.execute_input": "2022-01-14T04:34:02.143237Z",
     "iopub.status.busy": "2022-01-14T04:34:02.142440Z",
     "iopub.status.idle": "2022-01-14T04:34:02.213699Z",
     "shell.execute_reply": "2022-01-14T04:34:02.214306Z"
    }
   },
   "outputs": [],
   "source": [
    "assert len(integrated_df.query('viral_barcode.notnull()', engine='python')) == \\\n",
    "    len(integrated_df.query('barcoded_gene.notnull()', engine='python')) == \\\n",
    "    len(integrated_df.query('frac_viral_bc_UMIs.notnull()', engine='python')) == \\\n",
    "    len(integrated_df.query('freq_supernatant.notnull()', engine='python')) == \\\n",
    "    len(integrated_df.query('freq_second_infection.notnull()', engine='python')), \\\n",
    "    \"Mismatch in viral barcode data.\""
   ]
  },
  {
   "cell_type": "markdown",
   "metadata": {},
   "source": [
    "## Output integrated dataframe"
   ]
  },
  {
   "cell_type": "code",
   "execution_count": null,
   "metadata": {
    "execution": {
     "iopub.execute_input": "2022-01-14T04:34:02.217132Z",
     "iopub.status.busy": "2022-01-14T04:34:02.216331Z",
     "iopub.status.idle": "2022-01-14T04:34:02.378927Z",
     "shell.execute_reply": "2022-01-14T04:34:02.379503Z"
    }
   },
   "outputs": [],
   "source": [
    "# save CSV\n",
    "integrated_df.to_csv(integrated_data_csv, index=False)"
   ]
  }
 ],
 "metadata": {
  "kernelspec": {
   "display_name": "Python 3",
   "language": "python",
   "name": "python3"
  },
  "language_info": {
   "codemirror_mode": {
    "name": "ipython",
    "version": 3
   },
   "file_extension": ".py",
   "mimetype": "text/x-python",
   "name": "python",
   "nbconvert_exporter": "python",
   "pygments_lexer": "ipython3",
   "version": "3.8.6"
  }
 },
 "nbformat": 4,
 "nbformat_minor": 4
}
