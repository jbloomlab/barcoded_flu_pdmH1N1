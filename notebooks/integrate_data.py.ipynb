{
 "cells": [
  {
   "cell_type": "markdown",
   "metadata": {},
   "source": [
    "# Integrate data\n",
    "This notebook takes processed data and integrates it into a single dataframe.\n",
    "\n",
    "The general structure of the dataframe is that each cell barcode is listed on a row, and features of that cell are listed in columns. Cells that have more than one valid viral barcode identified may have multiple rows--one for each valid viral barcode."
   ]
  },
  {
   "cell_type": "markdown",
   "metadata": {},
   "source": [
    "Import python modules:\n"
   ]
  },
  {
   "cell_type": "code",
   "execution_count": null,
   "metadata": {
    "execution": {
     "iopub.execute_input": "2022-12-21T19:13:09.938164Z",
     "iopub.status.busy": "2022-12-21T19:13:09.937020Z",
     "iopub.status.idle": "2022-12-21T19:13:10.479090Z",
     "shell.execute_reply": "2022-12-21T19:13:10.479826Z"
    }
   },
   "outputs": [],
   "source": [
    "from IPython.display import display\n",
    "\n",
    "import pandas as pd"
   ]
  },
  {
   "cell_type": "markdown",
   "metadata": {},
   "source": [
    "Variables:"
   ]
  },
  {
   "cell_type": "code",
   "execution_count": null,
   "metadata": {
    "execution": {
     "iopub.execute_input": "2022-12-21T19:13:10.483654Z",
     "iopub.status.busy": "2022-12-21T19:13:10.482474Z",
     "iopub.status.idle": "2022-12-21T19:13:10.488123Z",
     "shell.execute_reply": "2022-12-21T19:13:10.488781Z"
    }
   },
   "outputs": [],
   "source": [
    "# Input sources\n",
    "cell_annotations_csv = snakemake.input.cell_annotations\n",
    "viral_genes_by_cell_csv = snakemake.input.viral_genes_by_cell_csv\n",
    "pacbio_consensus_gene_csv = snakemake.input.pacbio_consensus_gene_csv\n",
    "viral_barcodes_valid_csv = snakemake.input.viral_barcodes_valid_csv\n",
    "filtered_progeny_viral_bc_csv = snakemake.input.filtered_progeny_viral_bc_csv\n",
    "contributes_progeny_by_cell_csv = snakemake.input.contributes_progeny_by_cell_csv\n",
    "\n",
    "# # Params and wildcards\n",
    "barcoded_viral_genes = snakemake.params.barcoded_viral_genes\n",
    "expt = snakemake.wildcards.expt\n",
    "\n",
    "# Output\n",
    "integrated_data_csv = snakemake.output.integrated_data_csv"
   ]
  },
  {
   "cell_type": "markdown",
   "metadata": {},
   "source": [
    "## Load data and transform into wide format\n",
    "Load data from the following sources:  \n",
    "* `cell_annotations_csv` contains a list of all cell barcodes, their infection status/tag, total_UMIs, viral_UMIs, and frac_viral_UMIs  \n",
    "\n",
    "* `viral_genes_by_cell_csv` contains every cell barcode, each viral gene, whether the viral gene is present, the fraction of UMIs from that gene, and the total number of viral genes detected in that cell  \n",
    "\n",
    "* `viral_barcodes_valid_csv` contains each infected cell, the valid viral barcodes detected in that cell, viral_bc_UMIs, and frac_viral_bc_UMIs  \n",
    "\n",
    "* `filtered_progeny_viral_bc_csv` contains the progeny source, the tag of the progeny source, the valid viral barcodes detected in that progeny source, and the frequency of the viral barcodes in that progeny source  \n",
    "\n",
    "* `pacbio_consensus_gene_csv` contains the cell barcode, each viral gene, and the consensus genotype of the viral gene in that cell\n",
    "\n",
    "Some of these dataframes are in a long format, with many rows per cell barcode. I will transform them into a wide format, so that each cell barcode has only one row. The only exception is the viral barcodes, which will have one row per cell barcode-viral barcode pair."
   ]
  },
  {
   "cell_type": "markdown",
   "metadata": {},
   "source": [
    "Load cell barcodes, tags, and basic metrics for every cell in transcriptome:"
   ]
  },
  {
   "cell_type": "code",
   "execution_count": null,
   "metadata": {
    "execution": {
     "iopub.execute_input": "2022-12-21T19:13:10.492068Z",
     "iopub.status.busy": "2022-12-21T19:13:10.491077Z",
     "iopub.status.idle": "2022-12-21T19:13:10.521619Z",
     "shell.execute_reply": "2022-12-21T19:13:10.522321Z"
    }
   },
   "outputs": [],
   "source": [
    "cell_annotations = pd.read_csv(cell_annotations_csv)\n",
    "cell_annotations = (\n",
    "    cell_annotations\n",
    "    [['cell_barcode',\n",
    "      'infected',\n",
    "      'infecting_viral_tag',\n",
    "      'total_UMIs',\n",
    "      'viral_UMIs',\n",
    "      'frac_viral_UMIs']])\n",
    "\n",
    "display(cell_annotations)"
   ]
  },
  {
   "cell_type": "markdown",
   "metadata": {},
   "source": [
    "Load viral genes detected in each cell:"
   ]
  },
  {
   "cell_type": "code",
   "execution_count": null,
   "metadata": {
    "execution": {
     "iopub.execute_input": "2022-12-21T19:13:10.525725Z",
     "iopub.status.busy": "2022-12-21T19:13:10.524685Z",
     "iopub.status.idle": "2022-12-21T19:13:10.576772Z",
     "shell.execute_reply": "2022-12-21T19:13:10.577382Z"
    }
   },
   "outputs": [],
   "source": [
    "viral_genes = pd.read_csv(viral_genes_by_cell_csv)\n",
    "viral_genes = viral_genes.rename(columns={'gene_UMIs': 'transcriptome_UMIs',\n",
    "                                          'frac_gene_UMIs': 'frac_UMIs',\n",
    "                                          'gene_present': 'present'})\n",
    "viral_genes = (viral_genes\n",
    "               .pivot(\n",
    "    index=['cell_barcode', 'n_viral_genes'],\n",
    "    columns=['gene'],\n",
    "    values=['transcriptome_UMIs', 'frac_UMIs', 'present']))\n",
    "viral_genes.columns = ['_'.join(col).strip() for col in viral_genes.columns.values]\n",
    "viral_genes = viral_genes.reset_index()\n",
    "display(viral_genes)"
   ]
  },
  {
   "cell_type": "markdown",
   "metadata": {},
   "source": [
    "Load viral gene genotypes if present:"
   ]
  },
  {
   "cell_type": "code",
   "execution_count": null,
   "metadata": {
    "execution": {
     "iopub.execute_input": "2022-12-21T19:13:10.580447Z",
     "iopub.status.busy": "2022-12-21T19:13:10.579528Z",
     "iopub.status.idle": "2022-12-21T19:13:10.588301Z",
     "shell.execute_reply": "2022-12-21T19:13:10.588885Z"
    }
   },
   "outputs": [],
   "source": [
    "def load_genotypes(input_file):\n",
    "    if input_file == []:\n",
    "        print('No viral genotype data.')\n",
    "        return None\n",
    "    else:\n",
    "        viral_genotypes = pd.read_csv(pacbio_consensus_gene_csv)\n",
    "        viral_genotypes = viral_genotypes.rename(columns={'total_UMI': 'pacbio_UMIs',\n",
    "                                                          'consensus_mutations_annotated': 'mutations',\n",
    "                                                          'support': 'mutation_support'})\n",
    "        viral_genotypes = (\n",
    "            viral_genotypes\n",
    "            .pivot(index=['cell_barcode'],\n",
    "                   columns=['gene'],\n",
    "                   values=['mutations', 'pacbio_UMIs', 'mutation_support']))\n",
    "        viral_genotypes.columns = ['_'.join(col).strip() for col in viral_genotypes.columns.values]\n",
    "        viral_genotypes = viral_genotypes.reset_index()\n",
    "        return viral_genotypes\n",
    "\n",
    "viral_genotypes = load_genotypes(pacbio_consensus_gene_csv)\n",
    "display(viral_genotypes)"
   ]
  },
  {
   "cell_type": "markdown",
   "metadata": {},
   "source": [
    "Load valid viral barcodes in each infected cell:"
   ]
  },
  {
   "cell_type": "code",
   "execution_count": null,
   "metadata": {
    "execution": {
     "iopub.execute_input": "2022-12-21T19:13:10.591911Z",
     "iopub.status.busy": "2022-12-21T19:13:10.591002Z",
     "iopub.status.idle": "2022-12-21T19:13:10.612990Z",
     "shell.execute_reply": "2022-12-21T19:13:10.613638Z"
    }
   },
   "outputs": [],
   "source": [
    "transcriptome_viral_barcodes = pd.read_csv(viral_barcodes_valid_csv)\n",
    "transcriptome_viral_barcodes = transcriptome_viral_barcodes.drop(columns=['valid_viral_bc'])\n",
    "transcriptome_viral_barcodes = transcriptome_viral_barcodes.rename(columns={'gene': 'barcoded_gene'})\n",
    "assert set(transcriptome_viral_barcodes['barcoded_gene']) == set(barcoded_viral_genes), \\\n",
    "       \"Barcoded genes in barcode counts do not match expectation.\"\n",
    "display(transcriptome_viral_barcodes)"
   ]
  },
  {
   "cell_type": "markdown",
   "metadata": {},
   "source": [
    "Load progeny viral barcode frequencies:"
   ]
  },
  {
   "cell_type": "code",
   "execution_count": null,
   "metadata": {
    "execution": {
     "iopub.execute_input": "2022-12-21T19:13:10.616881Z",
     "iopub.status.busy": "2022-12-21T19:13:10.615888Z",
     "iopub.status.idle": "2022-12-21T19:13:10.654421Z",
     "shell.execute_reply": "2022-12-21T19:13:10.655142Z"
    }
   },
   "outputs": [],
   "source": [
    "progeny_viral_barcodes = pd.read_csv(filtered_progeny_viral_bc_csv)\n",
    "progeny_viral_barcodes = progeny_viral_barcodes.drop(columns=['Unnamed: 0'])\n",
    "progeny_viral_barcodes = (progeny_viral_barcodes\n",
    "                          .rename(columns={'tag': 'infecting_viral_tag',\n",
    "                                           'average_freq': 'freq',\n",
    "                                           'gene': 'barcoded_gene'}))\n",
    "assert set(progeny_viral_barcodes['barcoded_gene']) == set(barcoded_viral_genes), \\\n",
    "       \"Barcoded genes in barcode counts do not match expectation.\"\n",
    "progeny_viral_barcodes = (\n",
    "    progeny_viral_barcodes\n",
    "    .pivot(index=['viral_barcode', 'infecting_viral_tag', 'barcoded_gene'],\n",
    "           columns=['source'],\n",
    "           values=['freq']))\n",
    "progeny_viral_barcodes.columns = ['_'.join(col).strip() for col in progeny_viral_barcodes.columns.values]\n",
    "progeny_viral_barcodes = progeny_viral_barcodes.reset_index()\n",
    "display(progeny_viral_barcodes)"
   ]
  },
  {
   "cell_type": "markdown",
   "metadata": {},
   "source": [
    "Load whether each infected cell contributes any progeny:"
   ]
  },
  {
   "cell_type": "code",
   "execution_count": null,
   "metadata": {
    "execution": {
     "iopub.execute_input": "2022-12-21T19:13:10.658580Z",
     "iopub.status.busy": "2022-12-21T19:13:10.657598Z",
     "iopub.status.idle": "2022-12-21T19:13:10.681450Z",
     "shell.execute_reply": "2022-12-21T19:13:10.682120Z"
    }
   },
   "outputs": [],
   "source": [
    "contributes_progeny = pd.read_csv(contributes_progeny_by_cell_csv)\n",
    "contributes_progeny = contributes_progeny.rename(columns={'gene': 'barcoded_gene',\n",
    "                                                          'max_progeny_freq': 'max_freq'})\n",
    "assert set(transcriptome_viral_barcodes['barcoded_gene']) == set(barcoded_viral_genes), \\\n",
    "       \"Barcoded genes in barcode counts do not match expectation.\"\n",
    "contributes_progeny = (\n",
    "    contributes_progeny\n",
    "    .pivot(index=['cell_barcode'],\n",
    "           columns=['source'],\n",
    "           values=['max_freq', 'contributes_progeny']))\n",
    "contributes_progeny.columns = ['_'.join(col).strip() for col in contributes_progeny.columns.values]\n",
    "contributes_progeny = contributes_progeny.reset_index()\n",
    "display(contributes_progeny)"
   ]
  },
  {
   "cell_type": "markdown",
   "metadata": {},
   "source": [
    "## Integrate data into single dataframe"
   ]
  },
  {
   "cell_type": "markdown",
   "metadata": {},
   "source": [
    "Start with `cell_annotations` dataframe. Bring in viral gene expression information."
   ]
  },
  {
   "cell_type": "code",
   "execution_count": null,
   "metadata": {
    "execution": {
     "iopub.execute_input": "2022-12-21T19:13:10.685166Z",
     "iopub.status.busy": "2022-12-21T19:13:10.684252Z",
     "iopub.status.idle": "2022-12-21T19:13:10.718214Z",
     "shell.execute_reply": "2022-12-21T19:13:10.718842Z"
    }
   },
   "outputs": [],
   "source": [
    "integrated_df = pd.merge(\n",
    "    left=cell_annotations,\n",
    "    right=viral_genes,\n",
    "    on='cell_barcode',\n",
    "    how='outer',\n",
    "    validate='one_to_one'\n",
    ")\n",
    "display(integrated_df)"
   ]
  },
  {
   "cell_type": "markdown",
   "metadata": {},
   "source": [
    "Bring in viral gene genotypes if present. Even for datasets with pacbio data, many cells do not have pacbio sequences. For missing data, fill all counts with 0 and fill all mutations with \"Not Detected\"."
   ]
  },
  {
   "cell_type": "code",
   "execution_count": null,
   "metadata": {
    "execution": {
     "iopub.execute_input": "2022-12-21T19:13:10.721976Z",
     "iopub.status.busy": "2022-12-21T19:13:10.721034Z",
     "iopub.status.idle": "2022-12-21T19:13:10.728617Z",
     "shell.execute_reply": "2022-12-21T19:13:10.729224Z"
    }
   },
   "outputs": [],
   "source": [
    "if isinstance(viral_genotypes, pd.DataFrame):\n",
    "    integrated_df = pd.merge(\n",
    "        left=integrated_df,\n",
    "        right=viral_genotypes,\n",
    "        on='cell_barcode',\n",
    "        how='left',\n",
    "        validate='one_to_one'\n",
    "    )\n",
    "\n",
    "    # Fill empty mutations columns with \"Not Detected\"\n",
    "    integrated_df[[col for col in integrated_df if col.startswith('mutations')]] = (\n",
    "         integrated_df[[col for col in integrated_df if col.startswith('mutations')]]\n",
    "         .fillna('Not Detected'))\n",
    "    # Fill empty pacbio_UMIs columns with 0\n",
    "    integrated_df[[col for col in integrated_df if col.startswith('pacbio_UMIs')]] = (\n",
    "         integrated_df[[col for col in integrated_df if col.startswith('pacbio_UMIs')]]\n",
    "         .fillna(0))\n",
    "    # Fill NaN support columns with \"Not Applicable\"\n",
    "    integrated_df[[col for col in integrated_df if col.startswith('mutation_support')]] = (\n",
    "         integrated_df[[col for col in integrated_df if col.startswith('mutation_support')]]\n",
    "         .fillna('Not Applicable'))\n",
    "\n",
    "    display(integrated_df)\n",
    "else:\n",
    "    print('No viral genotype data.')"
   ]
  },
  {
   "cell_type": "markdown",
   "metadata": {},
   "source": [
    "Bring in valid viral barcodes for cells that have them:"
   ]
  },
  {
   "cell_type": "code",
   "execution_count": null,
   "metadata": {
    "execution": {
     "iopub.execute_input": "2022-12-21T19:13:10.732282Z",
     "iopub.status.busy": "2022-12-21T19:13:10.731345Z",
     "iopub.status.idle": "2022-12-21T19:13:10.768519Z",
     "shell.execute_reply": "2022-12-21T19:13:10.769166Z"
    }
   },
   "outputs": [],
   "source": [
    "integrated_df = pd.merge(\n",
    "    left=integrated_df,\n",
    "    right=transcriptome_viral_barcodes,\n",
    "    on='cell_barcode',\n",
    "    how='left',\n",
    "    validate='one_to_many'\n",
    ")\n",
    "display(integrated_df)"
   ]
  },
  {
   "cell_type": "markdown",
   "metadata": {},
   "source": [
    "Bring in progeny frequencies:"
   ]
  },
  {
   "cell_type": "code",
   "execution_count": null,
   "metadata": {
    "execution": {
     "iopub.execute_input": "2022-12-21T19:13:10.772319Z",
     "iopub.status.busy": "2022-12-21T19:13:10.771401Z",
     "iopub.status.idle": "2022-12-21T19:13:10.811910Z",
     "shell.execute_reply": "2022-12-21T19:13:10.812528Z"
    }
   },
   "outputs": [],
   "source": [
    "integrated_df = pd.merge(\n",
    "    left=integrated_df,\n",
    "    right=progeny_viral_barcodes,\n",
    "    on=['infecting_viral_tag', 'barcoded_gene', 'viral_barcode'],\n",
    "    how='left',\n",
    "    validate='many_to_one'\n",
    ")\n",
    "display(integrated_df)"
   ]
  },
  {
   "cell_type": "markdown",
   "metadata": {},
   "source": [
    "Bring in annotation of whether each infected cell contributes any progeny:"
   ]
  },
  {
   "cell_type": "code",
   "execution_count": null,
   "metadata": {
    "execution": {
     "iopub.execute_input": "2022-12-21T19:13:10.815605Z",
     "iopub.status.busy": "2022-12-21T19:13:10.814653Z",
     "iopub.status.idle": "2022-12-21T19:13:10.852568Z",
     "shell.execute_reply": "2022-12-21T19:13:10.853227Z"
    }
   },
   "outputs": [],
   "source": [
    "integrated_df = pd.merge(\n",
    "    left=integrated_df,\n",
    "    right=contributes_progeny,\n",
    "    on=['cell_barcode'],\n",
    "    how='left',\n",
    "    validate='many_to_one'\n",
    ")\n",
    "display(integrated_df)"
   ]
  },
  {
   "cell_type": "markdown",
   "metadata": {},
   "source": [
    "## Check integrated dataframe"
   ]
  },
  {
   "cell_type": "markdown",
   "metadata": {},
   "source": [
    "Check that the number of total cells has not changed."
   ]
  },
  {
   "cell_type": "code",
   "execution_count": null,
   "metadata": {
    "execution": {
     "iopub.execute_input": "2022-12-21T19:13:10.856427Z",
     "iopub.status.busy": "2022-12-21T19:13:10.855500Z",
     "iopub.status.idle": "2022-12-21T19:13:10.860102Z",
     "shell.execute_reply": "2022-12-21T19:13:10.860702Z"
    }
   },
   "outputs": [],
   "source": [
    "assert integrated_df['cell_barcode'].nunique() == \\\n",
    "    len(cell_annotations['cell_barcode']), \\\n",
    "    \"Total number of cells changed\""
   ]
  },
  {
   "cell_type": "markdown",
   "metadata": {},
   "source": [
    "Check that every viral barcode has a `barcoded_gene`, `frac_viral_bc_UMIS`, `freq_supernatant`, and `freq_second_infection`."
   ]
  },
  {
   "cell_type": "code",
   "execution_count": null,
   "metadata": {
    "execution": {
     "iopub.execute_input": "2022-12-21T19:13:10.863797Z",
     "iopub.status.busy": "2022-12-21T19:13:10.862879Z",
     "iopub.status.idle": "2022-12-21T19:13:10.968836Z",
     "shell.execute_reply": "2022-12-21T19:13:10.969468Z"
    }
   },
   "outputs": [],
   "source": [
    "assert len(integrated_df.query('viral_barcode.notnull()', engine='python')) == \\\n",
    "    len(integrated_df.query('barcoded_gene.notnull()', engine='python')) == \\\n",
    "    len(integrated_df.query('frac_viral_bc_UMIs.notnull()', engine='python')) == \\\n",
    "    len(integrated_df.query('freq_supernatant.notnull()', engine='python')), \\\n",
    "    \"Mismatch in viral barcode data.\""
   ]
  },
  {
   "cell_type": "markdown",
   "metadata": {},
   "source": [
    "## Output integrated dataframe"
   ]
  },
  {
   "cell_type": "code",
   "execution_count": null,
   "metadata": {
    "execution": {
     "iopub.execute_input": "2022-12-21T19:13:10.972586Z",
     "iopub.status.busy": "2022-12-21T19:13:10.971667Z",
     "iopub.status.idle": "2022-12-21T19:13:11.046544Z",
     "shell.execute_reply": "2022-12-21T19:13:11.047170Z"
    }
   },
   "outputs": [],
   "source": [
    "# save CSV\n",
    "integrated_df.to_csv(integrated_data_csv, index=False)"
   ]
  },
  {
   "cell_type": "code",
   "execution_count": null,
   "metadata": {},
   "outputs": [],
   "source": []
  }
 ],
 "metadata": {
  "kernelspec": {
   "display_name": "Python 3",
   "language": "python",
   "name": "python3"
  },
  "language_info": {
   "codemirror_mode": {
    "name": "ipython",
    "version": 3
   },
   "file_extension": ".py",
   "mimetype": "text/x-python",
   "name": "python",
   "nbconvert_exporter": "python",
   "pygments_lexer": "ipython3",
   "version": "3.8.6"
  }
 },
 "nbformat": 4,
 "nbformat_minor": 4
}
