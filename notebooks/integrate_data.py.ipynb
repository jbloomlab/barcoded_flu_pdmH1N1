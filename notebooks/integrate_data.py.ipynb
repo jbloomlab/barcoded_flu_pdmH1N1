{
 "cells": [
  {
   "cell_type": "markdown",
   "metadata": {},
   "source": [
    "# Integrate data\n",
    "This notebook takes processed data and integrates it into a single dataframe.\n",
    "\n",
    "The general structure of the dataframe is that each cell barcode is listed on a row, and features of that cell are listed in columns. Cells that have more than one valid viral barcode identified may have multiple rows--one for each valid viral barcode."
   ]
  },
  {
   "cell_type": "markdown",
   "metadata": {},
   "source": [
    "Import python modules:\n"
   ]
  },
  {
   "cell_type": "code",
   "execution_count": null,
   "metadata": {
    "execution": {
     "iopub.execute_input": "2022-05-25T18:48:51.687637Z",
     "iopub.status.busy": "2022-05-25T18:48:51.686639Z",
     "iopub.status.idle": "2022-05-25T18:48:52.202464Z",
     "shell.execute_reply": "2022-05-25T18:48:52.203284Z"
    }
   },
   "outputs": [],
   "source": [
    "from IPython.display import display\n",
    "\n",
    "import pandas as pd"
   ]
  },
  {
   "cell_type": "markdown",
   "metadata": {},
   "source": [
    "Variables:"
   ]
  },
  {
   "cell_type": "code",
   "execution_count": null,
   "metadata": {
    "execution": {
     "iopub.execute_input": "2022-05-25T18:48:52.207168Z",
     "iopub.status.busy": "2022-05-25T18:48:52.206024Z",
     "iopub.status.idle": "2022-05-25T18:48:52.211343Z",
     "shell.execute_reply": "2022-05-25T18:48:52.211857Z"
    }
   },
   "outputs": [],
   "source": [
    "# Input sources\n",
    "cell_annotations_csv = snakemake.input.cell_annotations\n",
    "viral_genes_by_cell_csv = snakemake.input.viral_genes_by_cell_csv\n",
    "pacbio_consensus_gene_csv = snakemake.input.pacbio_consensus_gene_csv\n",
    "viral_barcodes_valid_csv = snakemake.input.viral_barcodes_valid_csv\n",
    "filtered_progeny_viral_bc_csv = snakemake.input.filtered_progeny_viral_bc_csv\n",
    "contributes_progeny_by_cell_csv = snakemake.input.contributes_progeny_by_cell_csv\n",
    "\n",
    "# # Params and wildcards\n",
    "barcoded_viral_genes = snakemake.params.barcoded_viral_genes\n",
    "expt = snakemake.wildcards.expt\n",
    "\n",
    "# Output\n",
    "integrated_data_csv = snakemake.output.integrated_data_csv"
   ]
  },
  {
   "cell_type": "markdown",
   "metadata": {},
   "source": [
    "## Load data and transform into wide format\n",
    "Load data from the following sources:  \n",
    "* `cell_annotations_csv` contains a list of all cell barcodes, their infection status/tag, total_UMIs, viral_UMIs, and frac_viral_UMIs  \n",
    "\n",
    "* `viral_genes_by_cell_csv` contains every cell barcode, each viral gene, whether the viral gene is present, the fraction of UMIs from that gene, and the total number of viral genes detected in that cell  \n",
    "\n",
    "* `viral_barcodes_valid_csv` contains each infected cell, the valid viral barcodes detected in that cell, viral_bc_UMIs, and frac_viral_bc_UMIs  \n",
    "\n",
    "* `filtered_progeny_viral_bc_csv` contains the progeny source, the tag of the progeny source, the valid viral barcodes detected in that progeny source, and the frequency of the viral barcodes in that progeny source  \n",
    "\n",
    "* `pacbio_consensus_gene_csv` contains the cell barcode, each viral gene, and the consensus genotype of the viral gene in that cell\n",
    "\n",
    "Some of these dataframes are in a long format, with many rows per cell barcode. I will transform them into a wide format, so that each cell barcode has only one row. The only exception is the viral barcodes, which will have one row per cell barcode-viral barcode pair."
   ]
  },
  {
   "cell_type": "markdown",
   "metadata": {},
   "source": [
    "Load cell barcodes, tags, and basic metrics for every cell in transcriptome:"
   ]
  },
  {
   "cell_type": "code",
   "execution_count": null,
   "metadata": {
    "execution": {
     "iopub.execute_input": "2022-05-25T18:48:52.214468Z",
     "iopub.status.busy": "2022-05-25T18:48:52.213665Z",
     "iopub.status.idle": "2022-05-25T18:48:52.252206Z",
     "shell.execute_reply": "2022-05-25T18:48:52.252778Z"
    }
   },
   "outputs": [],
   "source": [
    "cell_annotations = pd.read_csv(cell_annotations_csv)\n",
    "cell_annotations = (\n",
    "    cell_annotations\n",
    "    [['cell_barcode',\n",
    "      'infected',\n",
    "      'infecting_viral_tag',\n",
    "      'total_UMIs',\n",
    "      'viral_UMIs',\n",
    "      'frac_viral_UMIs']])\n",
    "\n",
    "display(cell_annotations)"
   ]
  },
  {
   "cell_type": "markdown",
   "metadata": {},
   "source": [
    "Load viral genes detected in each cell:"
   ]
  },
  {
   "cell_type": "code",
   "execution_count": null,
   "metadata": {
    "execution": {
     "iopub.execute_input": "2022-05-25T18:48:52.255685Z",
     "iopub.status.busy": "2022-05-25T18:48:52.254805Z",
     "iopub.status.idle": "2022-05-25T18:48:52.375961Z",
     "shell.execute_reply": "2022-05-25T18:48:52.376479Z"
    }
   },
   "outputs": [],
   "source": [
    "viral_genes = pd.read_csv(viral_genes_by_cell_csv)\n",
    "viral_genes = viral_genes.rename(columns={'gene_UMIs': 'transcriptome_UMIs',\n",
    "                                          'frac_gene_UMIs': 'frac_UMIs',\n",
    "                                          'gene_present': 'present'})\n",
    "viral_genes = (viral_genes\n",
    "               .pivot(\n",
    "    index=['cell_barcode', 'n_viral_genes'],\n",
    "    columns=['gene'],\n",
    "    values=['transcriptome_UMIs', 'frac_UMIs', 'present']))\n",
    "viral_genes.columns = ['_'.join(col).strip() for col in viral_genes.columns.values]\n",
    "viral_genes = viral_genes.reset_index()\n",
    "display(viral_genes)"
   ]
  },
  {
   "cell_type": "markdown",
   "metadata": {},
   "source": [
    "Load viral gene genotypes if present:"
   ]
  },
  {
   "cell_type": "code",
   "execution_count": null,
   "metadata": {
    "execution": {
     "iopub.execute_input": "2022-05-25T18:48:52.379192Z",
     "iopub.status.busy": "2022-05-25T18:48:52.378384Z",
     "iopub.status.idle": "2022-05-25T18:48:52.409100Z",
     "shell.execute_reply": "2022-05-25T18:48:52.409605Z"
    }
   },
   "outputs": [],
   "source": [
    "def load_genotypes(input_file):\n",
    "    if input_file == []:\n",
    "        print('No viral genotype data.')\n",
    "        return None\n",
    "    else:\n",
    "        viral_genotypes = pd.read_csv(pacbio_consensus_gene_csv)\n",
    "        viral_genotypes = viral_genotypes.rename(columns={'total_UMI': 'pacbio_UMIs',\n",
    "                                                          'consensus_mutations_annotated': 'mutations',\n",
    "                                                          'support': 'mutation_support'})\n",
    "        viral_genotypes = (\n",
    "            viral_genotypes\n",
    "            .pivot(index=['cell_barcode'],\n",
    "                   columns=['gene'],\n",
    "                   values=['mutations', 'pacbio_UMIs', 'mutation_support']))\n",
    "        viral_genotypes.columns = ['_'.join(col).strip() for col in viral_genotypes.columns.values]\n",
    "        viral_genotypes = viral_genotypes.reset_index()\n",
    "        return viral_genotypes\n",
    "\n",
    "viral_genotypes = load_genotypes(pacbio_consensus_gene_csv)\n",
    "display(viral_genotypes)"
   ]
  },
  {
   "cell_type": "markdown",
   "metadata": {},
   "source": [
    "Load valid viral barcodes in each infected cell:"
   ]
  },
  {
   "cell_type": "code",
   "execution_count": null,
   "metadata": {
    "execution": {
     "iopub.execute_input": "2022-05-25T18:48:52.412206Z",
     "iopub.status.busy": "2022-05-25T18:48:52.411419Z",
     "iopub.status.idle": "2022-05-25T18:48:52.427691Z",
     "shell.execute_reply": "2022-05-25T18:48:52.428207Z"
    }
   },
   "outputs": [],
   "source": [
    "transcriptome_viral_barcodes = pd.read_csv(viral_barcodes_valid_csv)\n",
    "transcriptome_viral_barcodes = transcriptome_viral_barcodes.drop(columns=['valid_viral_bc'])\n",
    "transcriptome_viral_barcodes = transcriptome_viral_barcodes.rename(columns={'gene': 'barcoded_gene'})\n",
    "assert set(transcriptome_viral_barcodes['barcoded_gene']) == set(barcoded_viral_genes), \\\n",
    "       \"Barcoded genes in barcode counts do not match expectation.\"\n",
    "display(transcriptome_viral_barcodes)"
   ]
  },
  {
   "cell_type": "markdown",
   "metadata": {},
   "source": [
    "Load progeny viral barcode frequencies:"
   ]
  },
  {
   "cell_type": "code",
   "execution_count": null,
   "metadata": {
    "execution": {
     "iopub.execute_input": "2022-05-25T18:48:52.430837Z",
     "iopub.status.busy": "2022-05-25T18:48:52.430011Z",
     "iopub.status.idle": "2022-05-25T18:48:52.457157Z",
     "shell.execute_reply": "2022-05-25T18:48:52.457664Z"
    }
   },
   "outputs": [],
   "source": [
    "progeny_viral_barcodes = pd.read_csv(filtered_progeny_viral_bc_csv)\n",
    "progeny_viral_barcodes = progeny_viral_barcodes.drop(columns=['Unnamed: 0'])\n",
    "progeny_viral_barcodes = (progeny_viral_barcodes\n",
    "                          .rename(columns={'tag': 'infecting_viral_tag',\n",
    "                                           'average_freq': 'freq',\n",
    "                                           'gene': 'barcoded_gene'}))\n",
    "assert set(progeny_viral_barcodes['barcoded_gene']) == set(barcoded_viral_genes), \\\n",
    "       \"Barcoded genes in barcode counts do not match expectation.\"\n",
    "progeny_viral_barcodes = (\n",
    "    progeny_viral_barcodes\n",
    "    .pivot(index=['viral_barcode', 'infecting_viral_tag', 'barcoded_gene'],\n",
    "           columns=['source'],\n",
    "           values=['freq']))\n",
    "progeny_viral_barcodes.columns = ['_'.join(col).strip() for col in progeny_viral_barcodes.columns.values]\n",
    "progeny_viral_barcodes = progeny_viral_barcodes.reset_index()\n",
    "display(progeny_viral_barcodes)"
   ]
  },
  {
   "cell_type": "markdown",
   "metadata": {},
   "source": [
    "Load whether each infected cell contributes any progeny:"
   ]
  },
  {
   "cell_type": "code",
   "execution_count": null,
   "metadata": {
    "execution": {
     "iopub.execute_input": "2022-05-25T18:48:52.460387Z",
     "iopub.status.busy": "2022-05-25T18:48:52.459591Z",
     "iopub.status.idle": "2022-05-25T18:48:52.478640Z",
     "shell.execute_reply": "2022-05-25T18:48:52.479141Z"
    }
   },
   "outputs": [],
   "source": [
    "contributes_progeny = pd.read_csv(contributes_progeny_by_cell_csv)\n",
    "contributes_progeny = contributes_progeny.rename(columns={'gene': 'barcoded_gene',\n",
    "                                                          'max_progeny_freq': 'max_freq'})\n",
    "assert set(transcriptome_viral_barcodes['barcoded_gene']) == set(barcoded_viral_genes), \\\n",
    "       \"Barcoded genes in barcode counts do not match expectation.\"\n",
    "contributes_progeny = (\n",
    "    contributes_progeny\n",
    "    .pivot(index=['cell_barcode'],\n",
    "           columns=['source'],\n",
    "           values=['max_freq', 'contributes_progeny']))\n",
    "contributes_progeny.columns = ['_'.join(col).strip() for col in contributes_progeny.columns.values]\n",
    "contributes_progeny = contributes_progeny.reset_index()\n",
    "display(contributes_progeny)"
   ]
  },
  {
   "cell_type": "markdown",
   "metadata": {},
   "source": [
    "## Integrate data into single dataframe"
   ]
  },
  {
   "cell_type": "markdown",
   "metadata": {},
   "source": [
    "Start with `cell_annotations` dataframe. Bring in viral gene expression information."
   ]
  },
  {
   "cell_type": "code",
   "execution_count": null,
   "metadata": {
    "execution": {
     "iopub.execute_input": "2022-05-25T18:48:52.481634Z",
     "iopub.status.busy": "2022-05-25T18:48:52.480855Z",
     "iopub.status.idle": "2022-05-25T18:48:52.519794Z",
     "shell.execute_reply": "2022-05-25T18:48:52.520321Z"
    }
   },
   "outputs": [],
   "source": [
    "integrated_df = pd.merge(\n",
    "    left=cell_annotations,\n",
    "    right=viral_genes,\n",
    "    on='cell_barcode',\n",
    "    how='outer',\n",
    "    validate='one_to_one'\n",
    ")\n",
    "display(integrated_df)"
   ]
  },
  {
   "cell_type": "markdown",
   "metadata": {},
   "source": [
    "Bring in viral gene genotypes if present. Even for datasets with pacbio data, many cells do not have pacbio sequences. For missing data, fill all counts with 0 and fill all mutations with \"Not Detected\"."
   ]
  },
  {
   "cell_type": "code",
   "execution_count": null,
   "metadata": {
    "execution": {
     "iopub.execute_input": "2022-05-25T18:48:52.523098Z",
     "iopub.status.busy": "2022-05-25T18:48:52.522296Z",
     "iopub.status.idle": "2022-05-25T18:48:52.573468Z",
     "shell.execute_reply": "2022-05-25T18:48:52.573997Z"
    }
   },
   "outputs": [],
   "source": [
    "if isinstance(viral_genotypes, pd.DataFrame):\n",
    "    integrated_df = pd.merge(\n",
    "        left=integrated_df,\n",
    "        right=viral_genotypes,\n",
    "        on='cell_barcode',\n",
    "        how='left',\n",
    "        validate='one_to_one'\n",
    "    )\n",
    "\n",
    "    # Fill empty mutations columns with \"Not Detected\"\n",
    "    integrated_df[[col for col in integrated_df if col.startswith('mutations')]] = (\n",
    "         integrated_df[[col for col in integrated_df if col.startswith('mutations')]]\n",
    "         .fillna('Not Detected'))\n",
    "    # Fill empty pacbio_UMIs columns with 0\n",
    "    integrated_df[[col for col in integrated_df if col.startswith('pacbio_UMIs')]] = (\n",
    "         integrated_df[[col for col in integrated_df if col.startswith('pacbio_UMIs')]]\n",
    "         .fillna(0))\n",
    "    # Fill NaN support columns with \"Not Applicable\"\n",
    "    integrated_df[[col for col in integrated_df if col.startswith('mutation_support')]] = (\n",
    "         integrated_df[[col for col in integrated_df if col.startswith('mutation_support')]]\n",
    "         .fillna('Not Applicable'))\n",
    "\n",
    "    display(integrated_df)\n",
    "else:\n",
    "    print('No viral genotype data.')"
   ]
  },
  {
   "cell_type": "markdown",
   "metadata": {},
   "source": [
    "Bring in valid viral barcodes for cells that have them:"
   ]
  },
  {
   "cell_type": "code",
   "execution_count": null,
   "metadata": {
    "execution": {
     "iopub.execute_input": "2022-05-25T18:48:52.576527Z",
     "iopub.status.busy": "2022-05-25T18:48:52.575741Z",
     "iopub.status.idle": "2022-05-25T18:48:52.611863Z",
     "shell.execute_reply": "2022-05-25T18:48:52.612363Z"
    }
   },
   "outputs": [],
   "source": [
    "integrated_df = pd.merge(\n",
    "    left=integrated_df,\n",
    "    right=transcriptome_viral_barcodes,\n",
    "    on='cell_barcode',\n",
    "    how='left',\n",
    "    validate='one_to_many'\n",
    ")\n",
    "display(integrated_df)"
   ]
  },
  {
   "cell_type": "markdown",
   "metadata": {},
   "source": [
    "Bring in progeny frequencies:"
   ]
  },
  {
   "cell_type": "code",
   "execution_count": null,
   "metadata": {
    "execution": {
     "iopub.execute_input": "2022-05-25T18:48:52.614898Z",
     "iopub.status.busy": "2022-05-25T18:48:52.614123Z",
     "iopub.status.idle": "2022-05-25T18:48:52.650691Z",
     "shell.execute_reply": "2022-05-25T18:48:52.651204Z"
    }
   },
   "outputs": [],
   "source": [
    "integrated_df = pd.merge(\n",
    "    left=integrated_df,\n",
    "    right=progeny_viral_barcodes,\n",
    "    on=['infecting_viral_tag', 'barcoded_gene', 'viral_barcode'],\n",
    "    how='left',\n",
    "    validate='many_to_one'\n",
    ")\n",
    "display(integrated_df)"
   ]
  },
  {
   "cell_type": "markdown",
   "metadata": {},
   "source": [
    "Bring in annotation of whether each infected cell contributes any progeny:"
   ]
  },
  {
   "cell_type": "code",
   "execution_count": null,
   "metadata": {
    "execution": {
     "iopub.execute_input": "2022-05-25T18:48:52.653721Z",
     "iopub.status.busy": "2022-05-25T18:48:52.652928Z",
     "iopub.status.idle": "2022-05-25T18:48:52.690819Z",
     "shell.execute_reply": "2022-05-25T18:48:52.691324Z"
    }
   },
   "outputs": [],
   "source": [
    "integrated_df = pd.merge(\n",
    "    left=integrated_df,\n",
    "    right=contributes_progeny,\n",
    "    on=['cell_barcode'],\n",
    "    how='left',\n",
    "    validate='many_to_one'\n",
    ")\n",
    "display(integrated_df)"
   ]
  },
  {
   "cell_type": "markdown",
   "metadata": {},
   "source": [
    "## Check integrated dataframe"
   ]
  },
  {
   "cell_type": "markdown",
   "metadata": {},
   "source": [
    "Check that the number of total cells has not changed."
   ]
  },
  {
   "cell_type": "code",
   "execution_count": null,
   "metadata": {
    "execution": {
     "iopub.execute_input": "2022-05-25T18:48:52.694001Z",
     "iopub.status.busy": "2022-05-25T18:48:52.693179Z",
     "iopub.status.idle": "2022-05-25T18:48:52.697216Z",
     "shell.execute_reply": "2022-05-25T18:48:52.697729Z"
    }
   },
   "outputs": [],
   "source": [
    "assert integrated_df['cell_barcode'].nunique() == \\\n",
    "    len(cell_annotations['cell_barcode']), \\\n",
    "    \"Total number of cells changed\""
   ]
  },
  {
   "cell_type": "markdown",
   "metadata": {},
   "source": [
    "Check that every viral barcode has a `barcoded_gene`, `frac_viral_bc_UMIS`, `freq_supernatant`, and `freq_second_infection`."
   ]
  },
  {
   "cell_type": "code",
   "execution_count": null,
   "metadata": {
    "execution": {
     "iopub.execute_input": "2022-05-25T18:48:52.700232Z",
     "iopub.status.busy": "2022-05-25T18:48:52.699430Z",
     "iopub.status.idle": "2022-05-25T18:48:52.792821Z",
     "shell.execute_reply": "2022-05-25T18:48:52.793434Z"
    }
   },
   "outputs": [],
   "source": [
    "assert len(integrated_df.query('viral_barcode.notnull()', engine='python')) == \\\n",
    "    len(integrated_df.query('barcoded_gene.notnull()', engine='python')) == \\\n",
    "    len(integrated_df.query('frac_viral_bc_UMIs.notnull()', engine='python')) == \\\n",
    "    len(integrated_df.query('freq_supernatant.notnull()', engine='python')) == \\\n",
    "    len(integrated_df.query('freq_second_infection.notnull()', engine='python')), \\\n",
    "    \"Mismatch in viral barcode data.\""
   ]
  },
  {
   "cell_type": "markdown",
   "metadata": {},
   "source": [
    "## Output integrated dataframe"
   ]
  },
  {
   "cell_type": "code",
   "execution_count": null,
   "metadata": {
    "execution": {
     "iopub.execute_input": "2022-05-25T18:48:52.796243Z",
     "iopub.status.busy": "2022-05-25T18:48:52.795440Z",
     "iopub.status.idle": "2022-05-25T18:48:52.887491Z",
     "shell.execute_reply": "2022-05-25T18:48:52.888176Z"
    }
   },
   "outputs": [],
   "source": [
    "# save CSV\n",
    "integrated_df.to_csv(integrated_data_csv, index=False)"
   ]
  },
  {
   "cell_type": "code",
   "execution_count": null,
   "metadata": {},
   "outputs": [],
   "source": []
  }
 ],
 "metadata": {
  "kernelspec": {
   "display_name": "Python 3",
   "language": "python",
   "name": "python3"
  },
  "language_info": {
   "codemirror_mode": {
    "name": "ipython",
    "version": 3
   },
   "file_extension": ".py",
   "mimetype": "text/x-python",
   "name": "python",
   "nbconvert_exporter": "python",
   "pygments_lexer": "ipython3",
   "version": "3.8.6"
  }
 },
 "nbformat": 4,
 "nbformat_minor": 4
}
