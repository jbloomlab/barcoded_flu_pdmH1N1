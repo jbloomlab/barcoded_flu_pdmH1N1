{
 "cells": [
  {
   "cell_type": "markdown",
   "metadata": {},
   "source": [
    "# Extract viral barcodes from progeny viral barcode sequencing data\n",
    "This Python Jupyter notebook parses viral barcodes from progeny sequencing data sources (e.g. supernatant or second infection). For each sequencing sample, the viral barcodes are parsed and tallied.\n",
    "\n",
    "Import Python modules:"
   ]
  },
  {
   "cell_type": "code",
   "execution_count": null,
   "metadata": {
    "execution": {
     "iopub.execute_input": "2020-10-28T02:09:37.926542Z",
     "iopub.status.busy": "2020-10-28T02:09:37.925642Z",
     "iopub.status.idle": "2020-10-28T02:09:38.398663Z",
     "shell.execute_reply": "2020-10-28T02:09:38.399168Z"
    }
   },
   "outputs": [],
   "source": [
    "import Bio.SeqIO\n",
    "\n",
    "from IPython.display import display\n",
    "\n",
    "from dms_variants import illuminabarcodeparser\n",
    "\n",
    "import pandas as pd\n",
    "\n",
    "import plotnine as p9"
   ]
  },
  {
   "cell_type": "markdown",
   "metadata": {},
   "source": [
    "Get `snakemake` variables [as described here](https://snakemake.readthedocs.io/en/stable/snakefiles/rules.html#jupyter-notebook-integration):"
   ]
  },
  {
   "cell_type": "code",
   "execution_count": null,
   "metadata": {
    "execution": {
     "iopub.execute_input": "2020-10-28T02:09:38.402325Z",
     "iopub.status.busy": "2020-10-28T02:09:38.401452Z",
     "iopub.status.idle": "2020-10-28T02:09:38.405944Z",
     "shell.execute_reply": "2020-10-28T02:09:38.406432Z"
    }
   },
   "outputs": [],
   "source": [
    "viral_genbank = snakemake.input.viral_genbank\n",
    "fastq_df = snakemake.params.fastq_df\n",
    "viral_barcode_upstream_length = snakemake.params.viral_barcode_upstream_length\n",
    "viral_barcode_mismatch = snakemake.params.viral_barcode_mismatch\n",
    "viral_barcode_minq = snakemake.params.viral_barcode_minq\n",
    "barcoded_viral_genes = snakemake.params.barcoded_viral_genes\n",
    "viral_bc_in_progeny_csv = snakemake.output.viral_bc_in_progeny_csv\n",
    "viral_bc_fates_csv = snakemake.output.viral_bc_fates_csv\n",
    "plot = snakemake.output.plot\n",
    "expt = snakemake.wildcards.expt"
   ]
  },
  {
   "cell_type": "markdown",
   "metadata": {},
   "source": [
    "Get the upstream sequence for each barcoded gene:"
   ]
  },
  {
   "cell_type": "code",
   "execution_count": null,
   "metadata": {
    "execution": {
     "iopub.execute_input": "2020-10-28T02:09:38.409284Z",
     "iopub.status.busy": "2020-10-28T02:09:38.408427Z",
     "iopub.status.idle": "2020-10-28T02:09:38.450347Z",
     "shell.execute_reply": "2020-10-28T02:09:38.450859Z"
    }
   },
   "outputs": [],
   "source": [
    "barcode_details = []\n",
    "for s in Bio.SeqIO.parse(viral_genbank, 'genbank'):\n",
    "    if s.id in barcoded_viral_genes:\n",
    "        bc_features = [f for f in s.features if f.type == 'viral_barcode']\n",
    "        assert len(bc_features) == 1\n",
    "        bc_feature = bc_features[0]\n",
    "        bc_len = bc_feature.location.end - bc_feature.location.start\n",
    "        upstream_seq_start = (bc_feature.location.start\n",
    "                              - viral_barcode_upstream_length)\n",
    "        upstream_seq_end = bc_feature.location.start\n",
    "        barcode_details.append((s.id,\n",
    "                                bc_len,\n",
    "                                str(s.seq[upstream_seq_start:\n",
    "                                          upstream_seq_end])))\n",
    "\n",
    "barcode_details_df = (pd.DataFrame\n",
    "                      .from_records(barcode_details,\n",
    "                                    columns=['gene',\n",
    "                                             'bc_len',\n",
    "                                             'upstream_seq']))\n",
    "\n",
    "display(barcode_details_df)\n",
    "\n",
    "if len(barcode_details_df) != barcode_details_df['gene'].nunique():\n",
    "    raise ValueError('code assumes at most one barcode per gene')"
   ]
  },
  {
   "cell_type": "markdown",
   "metadata": {},
   "source": [
    "Iterate through sequencing samples and make a list of all FASTQ files:"
   ]
  },
  {
   "cell_type": "code",
   "execution_count": null,
   "metadata": {
    "execution": {
     "iopub.execute_input": "2020-10-28T02:09:38.453740Z",
     "iopub.status.busy": "2020-10-28T02:09:38.452877Z",
     "iopub.status.idle": "2020-10-28T02:16:26.391084Z",
     "shell.execute_reply": "2020-10-28T02:16:26.391685Z"
    }
   },
   "outputs": [],
   "source": [
    "assert len(fastq_df['experiment'].unique()) == 1, \\\n",
    "       \"code assumes dataframe contains 1 experiment\"\n",
    "\n",
    "barcodes_records = []\n",
    "fates_records = []\n",
    "for (source, tag, gene, replicate), df in (fastq_df\n",
    "                                           .groupby(['source',\n",
    "                                                     'tag',\n",
    "                                                     'gene',\n",
    "                                                     'replicate'])):\n",
    "    upstream_seq = (barcode_details_df\n",
    "                    .set_index('gene')\n",
    "                    .at[gene, 'upstream_seq'])\n",
    "    viral_barcode_length = (barcode_details_df\n",
    "                            .set_index('gene')\n",
    "                            .at[gene, 'bc_len'])\n",
    "    viral_barcode_parser = (illuminabarcodeparser\n",
    "                            .IlluminaBarcodeParser(\n",
    "                                bclen=viral_barcode_length,\n",
    "                                upstream=upstream_seq,\n",
    "                                upstream_mismatch=viral_barcode_mismatch,\n",
    "                                bc_orientation='R2',\n",
    "                                minq=viral_barcode_minq))\n",
    "    r1files = df['fastq_path'].tolist()\n",
    "\n",
    "    print(f\"Parsing files for {source} {tag} {gene} {replicate}.\")\n",
    "    ibarcodes, ifates = viral_barcode_parser.parse(r1files)\n",
    "    barcodes_records.append(ibarcodes.assign(source=source,\n",
    "                                             tag=tag,\n",
    "                                             gene=gene,\n",
    "                                             replicate=replicate))\n",
    "    fates_records.append(ifates.assign(source=source,\n",
    "                                       tag=tag,\n",
    "                                       gene=gene,\n",
    "                                       replicate=replicate))\n",
    "\n",
    "\n",
    "barcodes_df = pd.concat(barcodes_records).reset_index()\n",
    "barcodes_df = barcodes_df[['source',\n",
    "                           'tag',\n",
    "                           'gene',\n",
    "                           'replicate',\n",
    "                           'barcode',\n",
    "                           'count']]\n",
    "fates_df = pd.concat(fates_records).reset_index()\n",
    "fates_df = fates_df[['source',\n",
    "                     'tag',\n",
    "                     'gene',\n",
    "                     'replicate',\n",
    "                     'fate',\n",
    "                     'count']]\n",
    "print('Done.')"
   ]
  },
  {
   "cell_type": "markdown",
   "metadata": {},
   "source": [
    "Write the viral barcodes to the output CSV file:"
   ]
  },
  {
   "cell_type": "code",
   "execution_count": null,
   "metadata": {
    "execution": {
     "iopub.execute_input": "2020-10-28T02:16:26.394969Z",
     "iopub.status.busy": "2020-10-28T02:16:26.394048Z",
     "iopub.status.idle": "2020-10-28T02:16:27.587611Z",
     "shell.execute_reply": "2020-10-28T02:16:27.587966Z"
    }
   },
   "outputs": [],
   "source": [
    "print(f\"Writing viral barcodes to {viral_bc_in_progeny_csv}\")\n",
    "\n",
    "barcodes_df.to_csv(viral_bc_in_progeny_csv,\n",
    "                   index=False,\n",
    "                   compression='gzip')\n",
    "\n",
    "print(f\"Writing viral barcode fates to {viral_bc_fates_csv}\")\n",
    "\n",
    "fates_df.to_csv(viral_bc_fates_csv,\n",
    "                index=False,\n",
    "                compression='gzip')"
   ]
  },
  {
   "cell_type": "markdown",
   "metadata": {},
   "source": [
    "Plot fates and save to SVG:"
   ]
  },
  {
   "cell_type": "code",
   "execution_count": null,
   "metadata": {},
   "outputs": [],
   "source": [
    "p9.theme_set(p9.theme_classic())\n",
    "\n",
    "fig = (p9.ggplot(fates_df, p9.aes(x='fate', y='count', fill='replicate')) +\n",
    "       p9.ggtitle(f'viral barcode fates for experiment {expt}') +\n",
    "       p9.geom_bar(stat='identity', position='position_dodge') +\n",
    "       p9.facet_grid('source~gene+tag') +\n",
    "       p9.scale_x_discrete(limits=(fates_df['fate']\n",
    "                                   .unique()\n",
    "                                   .tolist())) +  # Order categorical values\n",
    "       p9.theme(figure_size=(1.5*((fates_df['gene'].nunique() *\n",
    "                                   fates_df['tag'].nunique())),\n",
    "                             1.6*fates_df['source'].nunique()),\n",
    "                axis_text_x=p9.element_text(angle=90),\n",
    "                plot_title=p9.element_text(size=10),\n",
    "                axis_title=p9.element_text(size=10),\n",
    "                legend_title=p9.element_text(size=9),\n",
    "                legend_title_align='center')\n",
    "       )\n",
    "\n",
    "# save plot\n",
    "print(f\"Saving plot to {plot}\")\n",
    "p9.ggsave(plot=fig, filename=plot, verbose=False)\n",
    "\n",
    "# show plot\n",
    "fig"
   ]
  }
 ],
 "metadata": {
  "kernelspec": {
   "display_name": "Python 3",
   "language": "python",
   "name": "python3"
  },
  "language_info": {
   "codemirror_mode": {
    "name": "ipython",
    "version": 3
   },
   "file_extension": ".py",
   "mimetype": "text/x-python",
   "name": "python",
   "nbconvert_exporter": "python",
   "pygments_lexer": "ipython3",
   "version": "3.8.6"
  }
 },
 "nbformat": 4,
 "nbformat_minor": 4
}
