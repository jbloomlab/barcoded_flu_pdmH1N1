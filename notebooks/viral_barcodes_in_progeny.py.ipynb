{
 "cells": [
  {
   "cell_type": "markdown",
   "metadata": {},
   "source": [
    "# Extract viral barcodes from progeny viral barcode sequencing data\n",
    "This Python Jupyter notebook parses viral barcodes from progeny sequencing data sources (e.g. supernatant or second infection). For each sequencing sample, the viral barcodes are parsed and tallied.\n",
    "\n",
    "Import Python modules:"
   ]
  },
  {
   "cell_type": "code",
   "execution_count": null,
   "metadata": {
    "execution": {
     "iopub.execute_input": "2020-10-26T21:30:13.322982Z",
     "iopub.status.busy": "2020-10-26T21:30:13.322046Z",
     "iopub.status.idle": "2020-10-26T21:30:13.504767Z",
     "shell.execute_reply": "2020-10-26T21:30:13.505411Z"
    }
   },
   "outputs": [],
   "source": [
    "import pandas as pd\n",
    "\n",
    "import Bio.SeqIO"
   ]
  },
  {
   "cell_type": "markdown",
   "metadata": {},
   "source": [
    "Get `snakemake` variables [as described here](https://snakemake.readthedocs.io/en/stable/snakefiles/rules.html#jupyter-notebook-integration):"
   ]
  },
  {
   "cell_type": "code",
   "execution_count": null,
   "metadata": {
    "execution": {
     "iopub.execute_input": "2020-10-26T21:30:13.511070Z",
     "iopub.status.busy": "2020-10-26T21:30:13.510139Z",
     "iopub.status.idle": "2020-10-26T21:30:13.513176Z",
     "shell.execute_reply": "2020-10-26T21:30:13.512228Z"
    }
   },
   "outputs": [],
   "source": [
    "viral_bc_locs = snakemake.input.viral_bc_locs\n",
    "viral_genbank = snakemake.input.viral_genbank\n",
    "fastq_df = snakemake.params.fastq_df\n",
    "viral_barcode_upstream_length = snakemake.params.viral_barcode_upstream_length\n",
    "viral_barcode_length = snakemake.params.viral_barcode_length\n",
    "barcoded_viral_genes = snakemake.params.barcoded_viral_genes"
   ]
  },
  {
   "cell_type": "markdown",
   "metadata": {},
   "source": [
    "Read the viral barcode locations:"
   ]
  },
  {
   "cell_type": "code",
   "execution_count": null,
   "metadata": {
    "execution": {
     "iopub.execute_input": "2020-10-26T21:30:13.520410Z",
     "iopub.status.busy": "2020-10-26T21:30:13.519485Z",
     "iopub.status.idle": "2020-10-26T21:30:13.538747Z",
     "shell.execute_reply": "2020-10-26T21:30:13.537967Z"
    }
   },
   "outputs": [],
   "source": [
    "print(f\"Reading viral barcode locations from {viral_bc_locs}\")\n",
    "bc_locs_df = pd.read_csv(viral_bc_locs)\n",
    "display(bc_locs_df)\n",
    "\n",
    "if len(bc_locs_df) != bc_locs_df['gene'].nunique():\n",
    "    raise ValueError('code assumes at most one barcode per gene')\n",
    "\n",
    "for index, row in bc_locs_df.iterrows():\n",
    "    assert ((row['end'] - (row['start']-1)) == viral_barcode_length), \\\n",
    "           'barcode start and end sites do not match expected length'"
   ]
  },
  {
   "cell_type": "markdown",
   "metadata": {},
   "source": [
    "Get the upstream sequence for each barcoded gene:"
   ]
  },
  {
   "cell_type": "code",
   "execution_count": null,
   "metadata": {},
   "outputs": [],
   "source": [
    "upstream_seqs = []\n",
    "for s in Bio.SeqIO.parse(viral_genbank, 'genbank'):\n",
    "    if s.id in barcoded_viral_genes:\n",
    "        bc_features = [f for f in s.features if f.type == 'viral_barcode']\n",
    "        assert len(bc_features) == 1\n",
    "        bc_feature = bc_features[0]\n",
    "        upstream_seq_start = int(bc_locs_df.query('gene == @s.id')['start']) - viral_barcode_upstream_length - 1 #Adjust indexing\n",
    "        upstream_seq_end = int(bc_locs_df.query('gene == @s.id')['start']) - 1 # Exclude final nt site which is in barcode\n",
    "        upstream_seqs.append((s.id,\n",
    "                              str(s.seq[upstream_seq_start:upstream_seq_end])))\n",
    "upstream_seqs_df = pd.DataFrame.from_records(upstream_seqs,\n",
    "                                             columns=['gene', 'upstream_seq'])\n",
    "\n",
    "display(upstream_seqs_df)\n",
    "\n",
    "if len(upstream_seqs_df) != upstream_seqs_df['gene'].nunique():\n",
    "    raise ValueError('code assumes at most one barcode per gene')"
   ]
  },
  {
   "cell_type": "markdown",
   "metadata": {},
   "source": [
    "For now just touch the intended output file so `Snakefile` runs via `snakemake`:"
   ]
  },
  {
   "cell_type": "code",
   "execution_count": null,
   "metadata": {
    "execution": {
     "iopub.execute_input": "2020-10-26T21:30:13.543066Z",
     "iopub.status.busy": "2020-10-26T21:30:13.542334Z",
     "iopub.status.idle": "2020-10-26T21:30:13.547098Z",
     "shell.execute_reply": "2020-10-26T21:30:13.546318Z"
    }
   },
   "outputs": [],
   "source": [
    "from pathlib import Path\n",
    "\n",
    "Path(snakemake.output.viral_bc_in_progeny_csv).touch()"
   ]
  }
 ],
 "metadata": {
  "kernelspec": {
   "display_name": "Python 3",
   "language": "python",
   "name": "python3"
  },
  "language_info": {
   "codemirror_mode": {
    "name": "ipython",
    "version": 3
   },
   "file_extension": ".py",
   "mimetype": "text/x-python",
   "name": "python",
   "nbconvert_exporter": "python",
   "pygments_lexer": "ipython3",
   "version": "3.8.5"
  }
 },
 "nbformat": 4,
 "nbformat_minor": 4
}
