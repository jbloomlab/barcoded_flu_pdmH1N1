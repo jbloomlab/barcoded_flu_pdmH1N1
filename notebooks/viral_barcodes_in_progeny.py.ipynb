{
 "cells": [
  {
   "cell_type": "markdown",
   "metadata": {},
   "source": [
    "# Extract viral barcodes from progeny viral barcode sequencing data\n",
    "This Python Jupyter notebook parses viral barcodes from progeny sequencing data sources (e.g. supernatant or second infection). For each sequencing sample, the viral barcodes are parsed and tallied.\n",
    "\n",
    "Import Python modules:"
   ]
  },
  {
   "cell_type": "code",
   "execution_count": null,
   "metadata": {
    "execution": {
     "iopub.execute_input": "2020-10-27T22:29:25.542746Z",
     "iopub.status.busy": "2020-10-27T22:29:25.541883Z",
     "iopub.status.idle": "2020-10-27T22:29:26.215395Z",
     "shell.execute_reply": "2020-10-27T22:29:26.215953Z"
    }
   },
   "outputs": [],
   "source": [
    "import pandas as pd\n",
    "\n",
    "import Bio.SeqIO\n",
    "\n",
    "from dms_variants import illuminabarcodeparser"
   ]
  },
  {
   "cell_type": "markdown",
   "metadata": {},
   "source": [
    "Get `snakemake` variables [as described here](https://snakemake.readthedocs.io/en/stable/snakefiles/rules.html#jupyter-notebook-integration):"
   ]
  },
  {
   "cell_type": "code",
   "execution_count": null,
   "metadata": {
    "execution": {
     "iopub.execute_input": "2020-10-27T22:29:26.218770Z",
     "iopub.status.busy": "2020-10-27T22:29:26.217946Z",
     "iopub.status.idle": "2020-10-27T22:29:26.222118Z",
     "shell.execute_reply": "2020-10-27T22:29:26.222643Z"
    }
   },
   "outputs": [],
   "source": [
    "viral_genbank = snakemake.input.viral_genbank\n",
    "fastq_df = snakemake.params.fastq_df\n",
    "viral_barcode_upstream_length = snakemake.params.viral_barcode_upstream_length\n",
    "viral_barcode_mismatch_threshold = snakemake.params.viral_barcode_mismatch_threshold\n",
    "barcoded_viral_genes = snakemake.params.barcoded_viral_genes\n",
    "viral_bc_in_progeny_csv = snakemake.output.viral_bc_in_progeny_csv\n",
    "viral_bc_fates_csv = snakemake.output.viral_bc_fates_csv"
   ]
  },
  {
   "cell_type": "markdown",
   "metadata": {},
   "source": [
    "Get the upstream sequence for each barcoded gene:"
   ]
  },
  {
   "cell_type": "code",
   "execution_count": null,
   "metadata": {
    "execution": {
     "iopub.execute_input": "2020-10-27T22:29:26.245500Z",
     "iopub.status.busy": "2020-10-27T22:29:26.245108Z",
     "iopub.status.idle": "2020-10-27T22:29:26.293034Z",
     "shell.execute_reply": "2020-10-27T22:29:26.293496Z"
    }
   },
   "outputs": [],
   "source": [
    "barcode_details = []\n",
    "for s in Bio.SeqIO.parse(viral_genbank, 'genbank'):\n",
    "    if s.id in barcoded_viral_genes:\n",
    "        bc_features = [f for f in s.features if f.type == 'viral_barcode']\n",
    "        assert len(bc_features) == 1\n",
    "        bc_feature = bc_features[0]\n",
    "        bc_len = bc_feature.location.end - bc_feature.location.start\n",
    "        upstream_seq_start = bc_feature.location.start - viral_barcode_upstream_length\n",
    "        upstream_seq_end = bc_feature.location.start\n",
    "        barcode_details.append((s.id,\n",
    "                                bc_len,\n",
    "                                str(s.seq[upstream_seq_start:upstream_seq_end])))\n",
    "barcode_details_df = pd.DataFrame.from_records(barcode_details,\n",
    "                                               columns=['gene', 'bc_len', 'upstream_seq'])\n",
    "\n",
    "display(barcode_details_df)\n",
    "\n",
    "if len(barcode_details_df) != barcode_details_df['gene'].nunique():\n",
    "    raise ValueError('code assumes at most one barcode per gene')"
   ]
  },
  {
   "cell_type": "markdown",
   "metadata": {},
   "source": [
    "Iterate through sequencing samples and make a list of all FASTQ files:"
   ]
  },
  {
   "cell_type": "code",
   "execution_count": null,
   "metadata": {
    "execution": {
     "iopub.execute_input": "2020-10-27T22:29:26.305796Z",
     "iopub.status.busy": "2020-10-27T22:29:26.302160Z",
     "iopub.status.idle": "2020-10-27T22:35:49.621948Z",
     "shell.execute_reply": "2020-10-27T22:35:49.622495Z"
    }
   },
   "outputs": [],
   "source": [
    "assert len(fastq_df['experiment'].unique()) == 1, \"code assumes dataframe contains 1 experiment\"\n",
    "\n",
    "barcodes_records = []\n",
    "fates_records = []\n",
    "for (source, tag, gene, replicate), df in fastq_df.groupby(['source', 'tag', 'gene', 'replicate']):\n",
    "    upstream_seq = barcode_details_df.set_index('gene').at[gene, 'upstream_seq']\n",
    "    viral_barcode_length = barcode_details_df.set_index('gene').at[gene, 'bc_len']\n",
    "    viral_barcode_parser = illuminabarcodeparser.IlluminaBarcodeParser(bclen=viral_barcode_length,\n",
    "                                                                       upstream=upstream_seq,\n",
    "                                                                       upstream_mismatch=viral_barcode_mismatch_threshold,\n",
    "                                                                       bc_orientation='R2')\n",
    "    r1files = df['fastq_path'].tolist()\n",
    "\n",
    "    print(f\"Parsing files for {source} {tag} {gene} {replicate}.\")\n",
    "    ibarcodes, ifates = viral_barcode_parser.parse(r1files)\n",
    "    barcodes_records.append(ibarcodes.assign(source=source,\n",
    "                                             tag=tag,\n",
    "                                             gene=gene,\n",
    "                                             replicate=replicate))\n",
    "    fates_records.append(ifates.assign(source=source,\n",
    "                                       tag=tag,\n",
    "                                       gene=gene,\n",
    "                                       replicate=replicate))\n",
    "\n",
    "\n",
    "barcodes_df = pd.concat(barcodes_records).reset_index()\n",
    "barcodes_df = barcodes_df[['source','tag','gene','replicate','barcode','count']]\n",
    "fates_df = pd.concat(fates_records).reset_index()\n",
    "fates_df = fates_df[['source','tag','gene','replicate','fate','count']]\n",
    "print('Done.')"
   ]
  },
  {
   "cell_type": "markdown",
   "metadata": {},
   "source": [
    "Write the viral barcodes to the output CSV file:"
   ]
  },
  {
   "cell_type": "code",
   "execution_count": null,
   "metadata": {
    "execution": {
     "iopub.execute_input": "2020-10-27T22:35:49.625065Z",
     "iopub.status.busy": "2020-10-27T22:35:49.624328Z",
     "iopub.status.idle": "2020-10-27T22:35:50.776195Z",
     "shell.execute_reply": "2020-10-27T22:35:50.776664Z"
    }
   },
   "outputs": [],
   "source": [
    "print(f\"Writing viral barcodes to {viral_bc_in_progeny_csv}\")\n",
    "\n",
    "barcodes_df.to_csv(viral_bc_in_progeny_csv,\n",
    "                  index=False,\n",
    "                  compression='gzip')\n",
    "\n",
    "print(f\"Writing viral barcode fates to {viral_bc_fates_csv}\")\n",
    "\n",
    "fates_df.to_csv(viral_bc_fates_csv,\n",
    "                  index=False,\n",
    "                  compression='gzip')"
   ]
  }
 ],
 "metadata": {
  "kernelspec": {
   "display_name": "Python 3",
   "language": "python",
   "name": "python3"
  },
  "language_info": {
   "codemirror_mode": {
    "name": "ipython",
    "version": 3
   },
   "file_extension": ".py",
   "mimetype": "text/x-python",
   "name": "python",
   "nbconvert_exporter": "python",
   "pygments_lexer": "ipython3",
   "version": "3.8.6"
  }
 },
 "nbformat": 4,
 "nbformat_minor": 4
}
