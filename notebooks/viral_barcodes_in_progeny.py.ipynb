{
 "cells": [
  {
   "cell_type": "markdown",
   "metadata": {},
   "source": [
    "# Extract viral barcodes from progeny viral barcode sequencing data\n",
    "This Python Jupyter notebook parses viral barcodes from progeny sequencing data sources (e.g. supernatant or second infection). For each sequencing sample, the viral barcodes are parsed and tallied.\n",
    "\n",
    "Import Python modules:"
   ]
  },
  {
   "cell_type": "code",
   "execution_count": null,
   "metadata": {
    "execution": {
     "iopub.execute_input": "2020-10-27T01:01:06.496509Z",
     "iopub.status.busy": "2020-10-27T01:01:06.496036Z",
     "iopub.status.idle": "2020-10-27T01:01:06.638100Z",
     "shell.execute_reply": "2020-10-27T01:01:06.642863Z"
    }
   },
   "outputs": [],
   "source": [
    "import pandas as pd\n",
    "\n",
    "import Bio.SeqIO\n",
    "\n",
    "from dms_variants import illuminabarcodeparser"
   ]
  },
  {
   "cell_type": "markdown",
   "metadata": {},
   "source": [
    "Get `snakemake` variables [as described here](https://snakemake.readthedocs.io/en/stable/snakefiles/rules.html#jupyter-notebook-integration):"
   ]
  },
  {
   "cell_type": "code",
   "execution_count": null,
   "metadata": {
    "execution": {
     "iopub.execute_input": "2020-10-27T01:01:06.647205Z",
     "iopub.status.busy": "2020-10-27T01:01:06.646785Z",
     "iopub.status.idle": "2020-10-27T01:01:06.649681Z",
     "shell.execute_reply": "2020-10-27T01:01:06.650063Z"
    }
   },
   "outputs": [],
   "source": [
    "viral_bc_locs = snakemake.input.viral_bc_locs\n",
    "viral_genbank = snakemake.input.viral_genbank\n",
    "fastq_df = snakemake.params.fastq_df\n",
    "viral_barcode_length = snakemake.params.viral_barcode_length\n",
    "viral_barcode_upstream_length = snakemake.params.viral_barcode_upstream_length\n",
    "viral_barcode_mismatch_threshold = snakemake.params.viral_barcode_mismatch_threshold\n",
    "barcoded_viral_genes = snakemake.params.barcoded_viral_genes\n",
    "viral_bc_in_progeny_csv =snakemake.output.viral_bc_in_progeny_csv"
   ]
  },
  {
   "cell_type": "markdown",
   "metadata": {},
   "source": [
    "Read the viral barcode locations:"
   ]
  },
  {
   "cell_type": "code",
   "execution_count": null,
   "metadata": {
    "execution": {
     "iopub.execute_input": "2020-10-27T01:01:06.655806Z",
     "iopub.status.busy": "2020-10-27T01:01:06.655366Z",
     "iopub.status.idle": "2020-10-27T01:01:06.676375Z",
     "shell.execute_reply": "2020-10-27T01:01:06.676015Z"
    }
   },
   "outputs": [],
   "source": [
    "print(f\"Reading viral barcode locations from {viral_bc_locs}\")\n",
    "bc_locs_df = pd.read_csv(viral_bc_locs)\n",
    "display(bc_locs_df)\n",
    "\n",
    "if len(bc_locs_df) != bc_locs_df['gene'].nunique():\n",
    "    raise ValueError('code assumes at most one barcode per gene')\n",
    "\n",
    "for index, row in bc_locs_df.iterrows():\n",
    "    assert ((row['end'] - (row['start']-1)) == viral_barcode_length), \\\n",
    "           'barcode start and end sites do not match expected length'"
   ]
  },
  {
   "cell_type": "markdown",
   "metadata": {},
   "source": [
    "Get the upstream sequence for each barcoded gene:"
   ]
  },
  {
   "cell_type": "code",
   "execution_count": null,
   "metadata": {
    "execution": {
     "iopub.execute_input": "2020-10-27T01:01:06.684678Z",
     "iopub.status.busy": "2020-10-27T01:01:06.684248Z",
     "iopub.status.idle": "2020-10-27T01:01:06.733449Z",
     "shell.execute_reply": "2020-10-27T01:01:06.733026Z"
    }
   },
   "outputs": [],
   "source": [
    "upstream_seqs = []\n",
    "for s in Bio.SeqIO.parse(viral_genbank, 'genbank'):\n",
    "    if s.id in barcoded_viral_genes:\n",
    "        bc_features = [f for f in s.features if f.type == 'viral_barcode']\n",
    "        assert len(bc_features) == 1\n",
    "        bc_feature = bc_features[0]\n",
    "        upstream_seq_start = int(bc_locs_df.query('gene == @s.id')['start']) - viral_barcode_upstream_length - 1 #Adjust indexing\n",
    "        upstream_seq_end = int(bc_locs_df.query('gene == @s.id')['start']) - 1 # Exclude final nt site which is in barcode\n",
    "        upstream_seqs.append((s.id,\n",
    "                              str(s.seq[upstream_seq_start:upstream_seq_end])))\n",
    "upstream_seqs_df = pd.DataFrame.from_records(upstream_seqs,\n",
    "                                             columns=['gene', 'upstream_seq'])\n",
    "\n",
    "display(upstream_seqs_df)\n",
    "\n",
    "if len(upstream_seqs_df) != upstream_seqs_df['gene'].nunique():\n",
    "    raise ValueError('code assumes at most one barcode per gene')"
   ]
  },
  {
   "cell_type": "markdown",
   "metadata": {},
   "source": [
    "Iterate through sequencing samples and make a list of all FASTQ files:"
   ]
  },
  {
   "cell_type": "code",
   "execution_count": null,
   "metadata": {},
   "outputs": [],
   "source": [
    "assert len(fastq_df['experiment'].unique()) == 1, \"code assumes dataframe contains 1 experiment\"\n",
    "\n",
    "barcodes_records = []\n",
    "fates_records = []\n",
    "for source in fastq_df['source'].unique():\n",
    "    for tag in fastq_df['tag'].unique():\n",
    "        for gene in fastq_df['gene'].unique():\n",
    "            upstream_seq = upstream_seqs_df.query('gene == @gene')['upstream_seq'].to_string(index=False).strip()\n",
    "            viral_barcode_parser = illuminabarcodeparser.IlluminaBarcodeParser(bclen=viral_barcode_length,\n",
    "                                                                               upstream=upstream_seq,\n",
    "                                                                               upstream_mismatch=viral_barcode_mismatch_threshold,\n",
    "                                                                               bc_orientation='R2')\n",
    "            for replicate in fastq_df['replicate'].unique():\n",
    "                r1files = (fastq_df.query('(source == @source) and '\n",
    "                                     '(tag == @tag) and '\n",
    "                                     '(gene == @gene) and '\n",
    "                                     '(replicate == @replicate)')['fastq_path'].tolist())\n",
    "                \n",
    "                print(f\"Parsing files for {source} {tag} {gene} {replicate}.\")\n",
    "                ibarcodes, ifates = viral_barcode_parser.parse(r1files)\n",
    "                barcodes_records.append(ibarcodes.assign(source=source,\n",
    "                                                         tag=tag,\n",
    "                                                         gene=gene,\n",
    "                                                         replicate=replicate))\n",
    "                fates_records.append(ifates.assign(source=source,\n",
    "                                                   tag=tag,\n",
    "                                                   gene=gene,\n",
    "                                                   replicate=replicate))\n",
    "\n",
    "\n",
    "barcodes_df = pd.concat(barcodes_records).reset_index()\n",
    "barcodes_df = barcodes_df[['source','tag','gene','replicate','barcode','count']]\n",
    "fates_df = pd.concat(fates_records).reset_index()\n",
    "fates_df = fates_df[['source','tag','gene','replicate','fate','count']]\n",
    "print('Done.')"
   ]
  },
  {
   "cell_type": "markdown",
   "metadata": {},
   "source": [
    "Write the viral barcodes to the output CSV file:"
   ]
  },
  {
   "cell_type": "code",
   "execution_count": null,
   "metadata": {
    "execution": {
     "iopub.execute_input": "2020-10-27T01:01:06.736496Z",
     "iopub.status.busy": "2020-10-27T01:01:06.736110Z",
     "iopub.status.idle": "2020-10-27T01:01:06.740445Z",
     "shell.execute_reply": "2020-10-27T01:01:06.739998Z"
    }
   },
   "outputs": [],
   "source": [
    "print(f\"Writing viral barcodes to {viral_bc_in_progeny_csv}\")\n",
    "\n",
    "barcodes_df.to_csv(viral_bc_in_progeny_csv,\n",
    "                  index=False,\n",
    "                  compression='gzip')"
   ]
  }
 ],
 "metadata": {
  "kernelspec": {
   "display_name": "Python 3",
   "language": "python",
   "name": "python3"
  },
  "language_info": {
   "codemirror_mode": {
    "name": "ipython",
    "version": 3
   },
   "file_extension": ".py",
   "mimetype": "text/x-python",
   "name": "python",
   "nbconvert_exporter": "python",
   "pygments_lexer": "ipython3",
   "version": "3.8.5"
  }
 },
 "nbformat": 4,
 "nbformat_minor": 4
}
