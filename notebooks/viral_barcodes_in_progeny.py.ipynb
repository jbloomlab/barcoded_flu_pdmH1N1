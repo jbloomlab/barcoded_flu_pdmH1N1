{
 "cells": [
  {
   "cell_type": "markdown",
   "metadata": {},
   "source": [
    "# Extract viral barcodes from progeny viral barcode sequencing data\n",
    "This Python Jupyter notebook parses viral barcodes from progeny sequencing data sources (e.g. supernatant or second infection). For each sequencing sample, the viral barcodes are parsed and tallied.\n",
    "\n",
    "Import Python modules:"
   ]
  },
  {
   "cell_type": "code",
   "execution_count": null,
   "metadata": {
    "execution": {
     "iopub.execute_input": "2022-12-21T18:59:00.192893Z",
     "iopub.status.busy": "2022-12-21T18:59:00.191823Z",
     "iopub.status.idle": "2022-12-21T18:59:21.853553Z",
     "shell.execute_reply": "2022-12-21T18:59:21.854382Z"
    }
   },
   "outputs": [],
   "source": [
    "import Bio.SeqIO\n",
    "\n",
    "from IPython.display import display\n",
    "\n",
    "from dms_variants import illuminabarcodeparser\n",
    "\n",
    "import pandas as pd\n",
    "\n",
    "import plotnine as p9"
   ]
  },
  {
   "cell_type": "markdown",
   "metadata": {},
   "source": [
    "Get `snakemake` variables [as described here](https://snakemake.readthedocs.io/en/stable/snakefiles/rules.html#jupyter-notebook-integration):"
   ]
  },
  {
   "cell_type": "code",
   "execution_count": null,
   "metadata": {
    "execution": {
     "iopub.execute_input": "2022-12-21T18:59:21.858579Z",
     "iopub.status.busy": "2022-12-21T18:59:21.857354Z",
     "iopub.status.idle": "2022-12-21T18:59:21.863437Z",
     "shell.execute_reply": "2022-12-21T18:59:21.864071Z"
    }
   },
   "outputs": [],
   "source": [
    "viral_genbank = snakemake.input.viral_genbank\n",
    "fastq_df = snakemake.params.fastq_df\n",
    "viral_barcode_upstream_length = snakemake.params.viral_barcode_upstream_length\n",
    "viral_barcode_mismatch = snakemake.params.viral_barcode_mismatch\n",
    "viral_barcode_minq = snakemake.params.viral_barcode_minq\n",
    "barcoded_viral_genes = snakemake.params.barcoded_viral_genes\n",
    "viral_bc_in_progeny_csv = snakemake.output.viral_bc_in_progeny_csv\n",
    "viral_bc_fates_csv = snakemake.output.viral_bc_fates_csv\n",
    "plot = snakemake.output.plot\n",
    "expt = snakemake.wildcards.expt"
   ]
  },
  {
   "cell_type": "markdown",
   "metadata": {},
   "source": [
    "Get the upstream sequence for each barcoded gene:"
   ]
  },
  {
   "cell_type": "code",
   "execution_count": null,
   "metadata": {
    "execution": {
     "iopub.execute_input": "2022-12-21T18:59:21.867378Z",
     "iopub.status.busy": "2022-12-21T18:59:21.866411Z",
     "iopub.status.idle": "2022-12-21T18:59:21.914693Z",
     "shell.execute_reply": "2022-12-21T18:59:21.915393Z"
    }
   },
   "outputs": [],
   "source": [
    "barcode_details = []\n",
    "for s in Bio.SeqIO.parse(viral_genbank, 'genbank'):\n",
    "    if s.id in barcoded_viral_genes:\n",
    "        bc_features = [f for f in s.features if f.type == 'viral_barcode']\n",
    "        assert len(bc_features) == 1\n",
    "        bc_feature = bc_features[0]\n",
    "        bc_len = bc_feature.location.end - bc_feature.location.start\n",
    "        upstream_seq_start = (bc_feature.location.start\n",
    "                              - viral_barcode_upstream_length)\n",
    "        upstream_seq_end = bc_feature.location.start\n",
    "        barcode_details.append((s.id,\n",
    "                                bc_len,\n",
    "                                str(s.seq[upstream_seq_start:\n",
    "                                          upstream_seq_end])))\n",
    "\n",
    "barcode_details_df = (pd.DataFrame\n",
    "                      .from_records(barcode_details,\n",
    "                                    columns=['gene',\n",
    "                                             'bc_len',\n",
    "                                             'upstream_seq']))\n",
    "\n",
    "display(barcode_details_df)\n",
    "\n",
    "if len(barcode_details_df) != barcode_details_df['gene'].nunique():\n",
    "    raise ValueError('code assumes at most one barcode per gene')"
   ]
  },
  {
   "cell_type": "markdown",
   "metadata": {},
   "source": [
    "Iterate through sequencing samples and make a list of all FASTQ files:"
   ]
  },
  {
   "cell_type": "code",
   "execution_count": null,
   "metadata": {
    "execution": {
     "iopub.execute_input": "2022-12-21T18:59:21.919023Z",
     "iopub.status.busy": "2022-12-21T18:59:21.917937Z",
     "iopub.status.idle": "2022-12-21T19:03:18.466478Z",
     "shell.execute_reply": "2022-12-21T19:03:18.467155Z"
    }
   },
   "outputs": [],
   "source": [
    "assert len(fastq_df['experiment'].unique()) == 1, \\\n",
    "       \"code assumes dataframe contains 1 experiment\"\n",
    "\n",
    "barcodes_records = []\n",
    "fates_records = []\n",
    "for (source, tag, gene, replicate), df in (fastq_df\n",
    "                                           .groupby(['source',\n",
    "                                                     'tag',\n",
    "                                                     'gene',\n",
    "                                                     'replicate'])):\n",
    "    upstream_seq = (barcode_details_df\n",
    "                    .set_index('gene')\n",
    "                    .at[gene, 'upstream_seq'])\n",
    "    viral_barcode_length = (barcode_details_df\n",
    "                            .set_index('gene')\n",
    "                            .at[gene, 'bc_len'])\n",
    "    viral_barcode_parser = (illuminabarcodeparser\n",
    "                            .IlluminaBarcodeParser(\n",
    "                                bclen=viral_barcode_length,\n",
    "                                upstream=upstream_seq,\n",
    "                                upstream_mismatch=viral_barcode_mismatch,\n",
    "                                bc_orientation='R2',\n",
    "                                minq=viral_barcode_minq))\n",
    "    r1files = df['fastq_path'].tolist()\n",
    "\n",
    "    print(f\"Parsing files for {source} {tag} {gene} {replicate}.\")\n",
    "    ibarcodes, ifates = viral_barcode_parser.parse(r1files)\n",
    "    barcodes_records.append(ibarcodes.assign(source=source,\n",
    "                                             tag=tag,\n",
    "                                             gene=gene,\n",
    "                                             replicate=replicate))\n",
    "    fates_records.append(ifates.assign(source=source,\n",
    "                                       tag=tag,\n",
    "                                       gene=gene,\n",
    "                                       replicate=replicate))\n",
    "\n",
    "\n",
    "barcodes_df = pd.concat(barcodes_records).reset_index()\n",
    "barcodes_df = barcodes_df[['source',\n",
    "                           'tag',\n",
    "                           'gene',\n",
    "                           'replicate',\n",
    "                           'barcode',\n",
    "                           'count']]\n",
    "fates_df = pd.concat(fates_records).reset_index()\n",
    "fates_df = fates_df[['source',\n",
    "                     'tag',\n",
    "                     'gene',\n",
    "                     'replicate',\n",
    "                     'fate',\n",
    "                     'count']]\n",
    "print('Done.')"
   ]
  },
  {
   "cell_type": "markdown",
   "metadata": {},
   "source": [
    "Write the viral barcodes to the output CSV file:"
   ]
  },
  {
   "cell_type": "code",
   "execution_count": null,
   "metadata": {
    "execution": {
     "iopub.execute_input": "2022-12-21T19:03:18.470522Z",
     "iopub.status.busy": "2022-12-21T19:03:18.469535Z",
     "iopub.status.idle": "2022-12-21T19:04:08.533317Z",
     "shell.execute_reply": "2022-12-21T19:04:08.534112Z"
    }
   },
   "outputs": [],
   "source": [
    "print(f\"Writing viral barcodes to {viral_bc_in_progeny_csv}\")\n",
    "\n",
    "barcodes_df.to_csv(viral_bc_in_progeny_csv,\n",
    "                   index=False,\n",
    "                   compression='gzip')\n",
    "\n",
    "print(f\"Writing viral barcode fates to {viral_bc_fates_csv}\")\n",
    "\n",
    "fates_df.to_csv(viral_bc_fates_csv,\n",
    "                index=False,\n",
    "                compression='gzip')"
   ]
  },
  {
   "cell_type": "markdown",
   "metadata": {},
   "source": [
    "Plot fates and save to SVG:"
   ]
  },
  {
   "cell_type": "code",
   "execution_count": null,
   "metadata": {
    "execution": {
     "iopub.execute_input": "2022-12-21T19:04:08.537995Z",
     "iopub.status.busy": "2022-12-21T19:04:08.536806Z",
     "iopub.status.idle": "2022-12-21T19:05:06.669697Z",
     "shell.execute_reply": "2022-12-21T19:05:06.670378Z"
    }
   },
   "outputs": [],
   "source": [
    "p9.theme_set(p9.theme_classic())\n",
    "\n",
    "fig = (p9.ggplot(fates_df, p9.aes(x='fate', y='count', fill='replicate')) +\n",
    "       p9.ggtitle(f'viral barcode fates for experiment {expt}') +\n",
    "       p9.geom_bar(stat='identity', position='position_dodge') +\n",
    "       p9.facet_grid('source~gene+tag') +\n",
    "       p9.scale_x_discrete(limits=(fates_df['fate']\n",
    "                                   .unique()\n",
    "                                   .tolist())) +  # Order categorical values\n",
    "       p9.theme(figure_size=(1.5*((fates_df['gene'].nunique() *\n",
    "                                   fates_df['tag'].nunique())),\n",
    "                             1.6*fates_df['source'].nunique()),\n",
    "                axis_text_x=p9.element_text(angle=90),\n",
    "                plot_title=p9.element_text(size=10),\n",
    "                axis_title=p9.element_text(size=10),\n",
    "                legend_title=p9.element_text(size=9),\n",
    "                legend_title_align='center')\n",
    "       )\n",
    "\n",
    "# save plot\n",
    "print(f\"Saving plot to {plot}\")\n",
    "p9.ggsave(plot=fig, filename=plot, verbose=False)\n",
    "\n",
    "# show plot\n",
    "fig"
   ]
  },
  {
   "cell_type": "markdown",
   "metadata": {},
   "source": [
    "Plot reads per viral barcode in each sample:"
   ]
  },
  {
   "cell_type": "code",
   "execution_count": null,
   "metadata": {
    "execution": {
     "iopub.execute_input": "2022-12-21T19:05:06.673926Z",
     "iopub.status.busy": "2022-12-21T19:05:06.672807Z",
     "iopub.status.idle": "2022-12-21T19:05:10.707812Z",
     "shell.execute_reply": "2022-12-21T19:05:10.708535Z"
    }
   },
   "outputs": [],
   "source": [
    "fig = (p9.ggplot(barcodes_df,\n",
    "                 p9.aes(x='count')) +\n",
    "       p9.ggtitle(f'reads per viral bc for experiment {expt}') +\n",
    "       p9.geom_histogram(bins=50) +\n",
    "       p9.facet_grid('source+tag~gene+replicate') +\n",
    "       p9.theme(figure_size=(2*(barcodes_df['gene'].nunique()*\n",
    "                                barcodes_df['replicate'].nunique()),\n",
    "                             1.25*(barcodes_df['source'].nunique()*\n",
    "                                   barcodes_df['tag'].nunique()))) +\n",
    "       p9.scale_x_log10()\n",
    "      )\n",
    "\n",
    "fig"
   ]
  },
  {
   "cell_type": "markdown",
   "metadata": {},
   "source": [
    "Calculate sequencing saturation and plot:"
   ]
  },
  {
   "cell_type": "code",
   "execution_count": null,
   "metadata": {
    "execution": {
     "iopub.execute_input": "2022-12-21T19:05:10.712425Z",
     "iopub.status.busy": "2022-12-21T19:05:10.711314Z",
     "iopub.status.idle": "2022-12-21T19:05:10.737517Z",
     "shell.execute_reply": "2022-12-21T19:05:10.738110Z"
    }
   },
   "outputs": [],
   "source": [
    "n_reads_df = (barcodes_df\n",
    "              .groupby(['source',\n",
    "                        'tag',\n",
    "                        'gene',\n",
    "                        'replicate'])\n",
    "              ['count']\n",
    "              .sum()\n",
    "              .reset_index()\n",
    "              .rename(columns={'count': 'total_reads'})\n",
    "              )\n",
    "display(n_reads_df)"
   ]
  },
  {
   "cell_type": "code",
   "execution_count": null,
   "metadata": {
    "execution": {
     "iopub.execute_input": "2022-12-21T19:05:10.740986Z",
     "iopub.status.busy": "2022-12-21T19:05:10.740141Z",
     "iopub.status.idle": "2022-12-21T19:05:10.781827Z",
     "shell.execute_reply": "2022-12-21T19:05:10.782528Z"
    }
   },
   "outputs": [],
   "source": [
    "n_unique_viral_bc_df = (barcodes_df\n",
    "                        .groupby(['source',\n",
    "                                  'tag',\n",
    "                                  'gene',\n",
    "                                  'replicate'])\n",
    "                       ['barcode']\n",
    "                       .nunique()\n",
    "                       .reset_index()\n",
    "                       .rename(columns={'barcode': 'n_unique_barcode'})\n",
    "                    )\n",
    "\n",
    "display(n_unique_viral_bc_df)"
   ]
  },
  {
   "cell_type": "code",
   "execution_count": null,
   "metadata": {
    "execution": {
     "iopub.execute_input": "2022-12-21T19:05:10.785987Z",
     "iopub.status.busy": "2022-12-21T19:05:10.784914Z",
     "iopub.status.idle": "2022-12-21T19:05:10.804852Z",
     "shell.execute_reply": "2022-12-21T19:05:10.805604Z"
    }
   },
   "outputs": [],
   "source": [
    "saturation_df = pd.merge(\n",
    "    left=n_unique_viral_bc_df,\n",
    "    right=n_reads_df,\n",
    "    on=['source',\n",
    "        'tag',\n",
    "        'gene',\n",
    "        'replicate'],\n",
    "    how='left',\n",
    "    validate='one_to_one')\n",
    "\n",
    "saturation_df['uniqueness'] = (saturation_df['n_unique_barcode'] /\n",
    "                               saturation_df['total_reads'])\n",
    "\n",
    "saturation_df['saturation'] = 1 - saturation_df['uniqueness']\n",
    "\n",
    "display(saturation_df)"
   ]
  },
  {
   "cell_type": "code",
   "execution_count": null,
   "metadata": {
    "execution": {
     "iopub.execute_input": "2022-12-21T19:05:10.809126Z",
     "iopub.status.busy": "2022-12-21T19:05:10.808035Z",
     "iopub.status.idle": "2022-12-21T19:05:11.242417Z",
     "shell.execute_reply": "2022-12-21T19:05:11.242978Z"
    }
   },
   "outputs": [],
   "source": [
    "p9.theme_set(p9.theme_classic())\n",
    "\n",
    "fig = (p9.ggplot(saturation_df, p9.aes(x='replicate', y='saturation')) +\n",
    "       p9.ggtitle(f'viral barcode saturation for experiment {expt}') +\n",
    "       p9.geom_point() +\n",
    "       p9.ylim([0,1]) +\n",
    "       p9.facet_grid('source~gene+tag') +\n",
    "       p9.theme(figure_size=(1.5*((saturation_df['gene'].nunique() *\n",
    "                                   saturation_df['tag'].nunique())),\n",
    "                             1.8*saturation_df['source'].nunique()),\n",
    "                axis_text_x=p9.element_text(angle=90),\n",
    "                plot_title=p9.element_text(size=10),\n",
    "                axis_title=p9.element_text(size=10),\n",
    "                legend_title=p9.element_text(size=9),\n",
    "                legend_title_align='center')\n",
    "       )\n",
    "\n",
    "fig"
   ]
  },
  {
   "cell_type": "code",
   "execution_count": null,
   "metadata": {},
   "outputs": [],
   "source": []
  }
 ],
 "metadata": {
  "kernelspec": {
   "display_name": "Python 3",
   "language": "python",
   "name": "python3"
  },
  "language_info": {
   "codemirror_mode": {
    "name": "ipython",
    "version": 3
   },
   "file_extension": ".py",
   "mimetype": "text/x-python",
   "name": "python",
   "nbconvert_exporter": "python",
   "pygments_lexer": "ipython3",
   "version": "3.8.6"
  }
 },
 "nbformat": 4,
 "nbformat_minor": 4
}
