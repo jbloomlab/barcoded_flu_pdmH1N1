{
 "cells": [
  {
   "cell_type": "markdown",
   "metadata": {},
   "source": [
    "# Assign infection status\n",
    "This Python Jupyter notebook uses the fraction of viral UMIs to determine which cells were infected.\n",
    "\n",
    "Import Python modules:"
   ]
  },
  {
   "cell_type": "code",
   "execution_count": null,
   "metadata": {
    "execution": {
     "iopub.execute_input": "2022-01-13T06:44:44.795457Z",
     "iopub.status.busy": "2022-01-13T06:44:44.794179Z",
     "iopub.status.idle": "2022-01-13T06:45:05.657739Z",
     "shell.execute_reply": "2022-01-13T06:45:05.658648Z"
    }
   },
   "outputs": [],
   "source": [
    "from IPython.display import display\n",
    "\n",
    "from dms_variants.constants import CBPALETTE\n",
    "\n",
    "import kneed\n",
    "\n",
    "import numpy\n",
    "\n",
    "import pandas as pd\n",
    "\n",
    "import plotnine as p9\n",
    "\n",
    "import scanpy"
   ]
  },
  {
   "cell_type": "markdown",
   "metadata": {},
   "source": [
    "Get `snakemake` variables [as described here](https://snakemake.readthedocs.io/en/stable/snakefiles/rules.html#jupyter-notebook-integration):"
   ]
  },
  {
   "cell_type": "code",
   "execution_count": null,
   "metadata": {
    "execution": {
     "iopub.execute_input": "2022-01-13T06:45:05.662969Z",
     "iopub.status.busy": "2022-01-13T06:45:05.661754Z",
     "iopub.status.idle": "2022-01-13T06:45:05.667397Z",
     "shell.execute_reply": "2022-01-13T06:45:05.667925Z"
    }
   },
   "outputs": [],
   "source": [
    "matrix = snakemake.input.matrix\n",
    "features = snakemake.input.features\n",
    "cell_barcodes = snakemake.input.cell_barcodes\n",
    "cell_barcodes_filtered = snakemake.input.cell_barcodes_filtered\n",
    "infection_status_csv = snakemake.output.infection_status_csv\n",
    "infection_threshold = snakemake.params.infection_threshold\n",
    "plot = snakemake.output.plot\n",
    "viral_genes = snakemake.params.viral_genes\n",
    "expt = snakemake.wildcards.expt"
   ]
  },
  {
   "cell_type": "markdown",
   "metadata": {},
   "source": [
    "Style parameters:"
   ]
  },
  {
   "cell_type": "code",
   "execution_count": null,
   "metadata": {
    "execution": {
     "iopub.execute_input": "2022-01-13T06:45:05.670599Z",
     "iopub.status.busy": "2022-01-13T06:45:05.669773Z",
     "iopub.status.idle": "2022-01-13T06:45:05.674730Z",
     "shell.execute_reply": "2022-01-13T06:45:05.675258Z"
    }
   },
   "outputs": [],
   "source": [
    "p9.theme_set(p9.theme_classic())"
   ]
  },
  {
   "cell_type": "markdown",
   "metadata": {},
   "source": [
    "Read the cell-gene matrix into an [AnnData](https://anndata.readthedocs.io/) object:"
   ]
  },
  {
   "cell_type": "code",
   "execution_count": null,
   "metadata": {
    "execution": {
     "iopub.execute_input": "2022-01-13T06:45:05.677932Z",
     "iopub.status.busy": "2022-01-13T06:45:05.677079Z",
     "iopub.status.idle": "2022-01-13T06:45:35.033621Z",
     "shell.execute_reply": "2022-01-13T06:45:35.034202Z"
    }
   },
   "outputs": [],
   "source": [
    "adata = scanpy.read_mtx(matrix)\n",
    "adata.var = pd.read_csv(cell_barcodes,\n",
    "                        names=['cell_barcode'])\n",
    "adata.obs = pd.read_csv(features,\n",
    "                        sep='\\t',\n",
    "                        names=['ensemble_id', 'gene', 'feature_type'])\n",
    "\n",
    "print(f\"Read cell-gene matrix of {adata.n_vars} cells and {adata.n_obs} genes\")\n",
    "\n",
    "assert set(viral_genes).issubset(set(adata.obs['gene'])), 'lack viral genes'"
   ]
  },
  {
   "cell_type": "markdown",
   "metadata": {},
   "source": [
    "Now get for each cell:\n",
    " - total UMI corrected reads\n",
    " - UMI corrected viral and cellular\n",
    " - fraction of UMIs that are viral and cellular"
   ]
  },
  {
   "cell_type": "code",
   "execution_count": null,
   "metadata": {
    "execution": {
     "iopub.execute_input": "2022-01-13T06:45:35.037202Z",
     "iopub.status.busy": "2022-01-13T06:45:35.036325Z",
     "iopub.status.idle": "2022-01-13T06:45:35.189089Z",
     "shell.execute_reply": "2022-01-13T06:45:35.189793Z"
    }
   },
   "outputs": [],
   "source": [
    "umi_counts = (\n",
    "    adata.var\n",
    "    .assign(total_UMIs=numpy.sum(adata.X, axis=0).A1.astype(int),\n",
    "            viral_UMIs=numpy.sum(adata[adata.obs['gene']\n",
    "                                       .isin(viral_genes), ].X,\n",
    "                                 axis=0).A1.astype(int),\n",
    "            cellular_UMIs=numpy.sum(adata[~adata.obs['gene']\n",
    "                                          .isin(viral_genes), ].X,\n",
    "                                    axis=0).A1.astype(int),\n",
    "            frac_viral_UMIs=lambda x: x['viral_UMIs'] / x['total_UMIs'],\n",
    "            frac_cellular_UMIs=lambda x: x['cellular_UMIs'] / x['total_UMIs'],\n",
    "            )\n",
    "    )\n",
    "display(umi_counts)"
   ]
  },
  {
   "cell_type": "code",
   "execution_count": null,
   "metadata": {
    "scrolled": true
   },
   "outputs": [],
   "source": [
    "# **Restrict analysis to filtered cell barcodes**\n",
    "filtered_cell_barcode_list = pd.read_csv(cell_barcodes_filtered)['cell_barcode'].to_list()\n",
    "umi_counts = umi_counts.query('cell_barcode in @filtered_cell_barcode_list')\n",
    "display(umi_counts)"
   ]
  },
  {
   "cell_type": "markdown",
   "metadata": {},
   "source": [
    "Rank viral burden"
   ]
  },
  {
   "cell_type": "code",
   "execution_count": null,
   "metadata": {
    "execution": {
     "iopub.execute_input": "2022-01-13T06:45:35.193340Z",
     "iopub.status.busy": "2022-01-13T06:45:35.192150Z",
     "iopub.status.idle": "2022-01-13T06:45:35.207337Z",
     "shell.execute_reply": "2022-01-13T06:45:35.207840Z"
    }
   },
   "outputs": [],
   "source": [
    "umi_counts['rank_viral_burden'] = umi_counts['frac_viral_UMIs'].rank(method='first', ascending=False)\n",
    "display(umi_counts.sort_values(by='rank_viral_burden'))"
   ]
  },
  {
   "cell_type": "markdown",
   "metadata": {},
   "source": [
    "## Assign infection status\n",
    "\n",
    "We will use two thresholds to label cells' infection status. The first is a threshold for cell that are clearly infected. The second is a threshold for cells that are ambiguous. These cells could either have been infected and expressed low levels of viral transcripts or the droplet may have incorporated many viral transcripts from the ambient supernatant."
   ]
  },
  {
   "cell_type": "code",
   "execution_count": null,
   "metadata": {
    "execution": {
     "iopub.execute_input": "2022-01-13T06:45:35.210448Z",
     "iopub.status.busy": "2022-01-13T06:45:35.209636Z",
     "iopub.status.idle": "2022-01-13T06:45:35.256372Z",
     "shell.execute_reply": "2022-01-13T06:45:35.256784Z"
    }
   },
   "outputs": [],
   "source": [
    "ambiguous_threshold = infection_threshold / 10\n",
    "\n",
    "def assign_infection_status(x):\n",
    "    if x['frac_viral_UMIs'] > infection_threshold:\n",
    "        return 'infected'\n",
    "    elif (x['frac_viral_UMIs'] <= infection_threshold) & \\\n",
    "         (x['frac_viral_UMIs'] > ambiguous_threshold):\n",
    "        return 'ambiguous'\n",
    "    else:\n",
    "        return 'uninfected'\n",
    "    \n",
    "umi_counts['infected'] = umi_counts.apply(assign_infection_status, axis=1)\n",
    "umi_counts['infected'].value_counts()"
   ]
  },
  {
   "cell_type": "code",
   "execution_count": null,
   "metadata": {
    "execution": {
     "iopub.execute_input": "2022-01-13T06:45:35.259291Z",
     "iopub.status.busy": "2022-01-13T06:45:35.258483Z",
     "iopub.status.idle": "2022-01-13T06:45:35.685349Z",
     "shell.execute_reply": "2022-01-13T06:45:35.685891Z"
    }
   },
   "outputs": [],
   "source": [
    "viral_burden_knee_plot = (\n",
    "    p9.ggplot(\n",
    "        (umi_counts),\n",
    "        p9.aes(x='rank_viral_burden',\n",
    "               y='frac_viral_UMIs',\n",
    "               color='factor(infected)')) +\n",
    "    p9.geom_point(alpha=0.1) +\n",
    "    p9.scale_y_log10() +\n",
    "    p9.ggtitle('fraction of viral UMIs per cell\\n'\n",
    "               f'{expt}') +\n",
    "    p9.theme(figure_size=(4, 2),\n",
    "             plot_title=p9.element_text(size=9),\n",
    "             axis_title=p9.element_text(size=9),\n",
    "             legend_title=p9.element_text(size=9),\n",
    "             legend_title_align='center') +\n",
    "    p9.scale_color_manual(CBPALETTE)\n",
    ")\n",
    "display(viral_burden_knee_plot)"
   ]
  },
  {
   "cell_type": "markdown",
   "metadata": {},
   "source": [
    "Examine relationship between total UMIs and viral UMIs"
   ]
  },
  {
   "cell_type": "code",
   "execution_count": null,
   "metadata": {
    "execution": {
     "iopub.execute_input": "2022-01-13T06:45:35.688636Z",
     "iopub.status.busy": "2022-01-13T06:45:35.687804Z",
     "iopub.status.idle": "2022-01-13T06:45:36.156174Z",
     "shell.execute_reply": "2022-01-13T06:45:36.155479Z"
    }
   },
   "outputs": [],
   "source": [
    "capture_efficiency_plot = (\n",
    "    p9.ggplot(\n",
    "        (umi_counts),\n",
    "        p9.aes(x='total_UMIs',\n",
    "               y='viral_UMIs',\n",
    "               color='factor(infected)')) +\n",
    "    p9.geom_point(alpha=0.2) +\n",
    "    p9.scale_x_log10() +\n",
    "    p9.scale_y_log10() +\n",
    "    p9.ggtitle('Viral UMIs as a function of total UMIs captured\\n'\n",
    "               f'{expt}') +\n",
    "    p9.theme(figure_size=(4, 3),\n",
    "             plot_title=p9.element_text(size=9),\n",
    "             axis_title=p9.element_text(size=9),\n",
    "             legend_title=p9.element_text(size=9),\n",
    "             legend_title_align='center') +\n",
    "    p9.scale_color_manual(CBPALETTE)\n",
    ")\n",
    "display(capture_efficiency_plot)"
   ]
  },
  {
   "cell_type": "markdown",
   "metadata": {},
   "source": [
    "Export knee plot"
   ]
  },
  {
   "cell_type": "code",
   "execution_count": null,
   "metadata": {
    "execution": {
     "iopub.execute_input": "2022-01-13T06:45:36.166901Z",
     "iopub.status.busy": "2022-01-13T06:45:36.166526Z",
     "iopub.status.idle": "2022-01-13T06:45:36.881256Z",
     "shell.execute_reply": "2022-01-13T06:45:36.882339Z"
    }
   },
   "outputs": [],
   "source": [
    "print(f\"Saving knee plot to {plot}\")\n",
    "viral_burden_knee_plot.save(plot)"
   ]
  },
  {
   "cell_type": "markdown",
   "metadata": {},
   "source": [
    "Export infection status and UMI counts in a CSV:"
   ]
  },
  {
   "cell_type": "code",
   "execution_count": null,
   "metadata": {
    "execution": {
     "iopub.execute_input": "2022-01-13T06:45:36.887433Z",
     "iopub.status.busy": "2022-01-13T06:45:36.885887Z",
     "iopub.status.idle": "2022-01-13T06:45:36.955341Z",
     "shell.execute_reply": "2022-01-13T06:45:36.955748Z"
    }
   },
   "outputs": [],
   "source": [
    "infection_status_curated = (\n",
    "    umi_counts\n",
    "    [['cell_barcode', 'total_UMIs', 'viral_UMIs',\n",
    "      'cellular_UMIs', 'frac_viral_UMIs',\n",
    "      'infected']]\n",
    "    )\n",
    "\n",
    "display(infection_status_curated)\n",
    "\n",
    "print(f\"Saving viral-tag annotated cell barcodes to {infection_status_csv}\")\n",
    "infection_status_curated.to_csv(infection_status_csv,\n",
    "                          compression='gzip',\n",
    "                          index=False)"
   ]
  },
  {
   "cell_type": "code",
   "execution_count": null,
   "metadata": {},
   "outputs": [],
   "source": []
  }
 ],
 "metadata": {
  "kernelspec": {
   "display_name": "Python 3",
   "language": "python",
   "name": "python3"
  },
  "language_info": {
   "codemirror_mode": {
    "name": "ipython",
    "version": 3
   },
   "file_extension": ".py",
   "mimetype": "text/x-python",
   "name": "python",
   "nbconvert_exporter": "python",
   "pygments_lexer": "ipython3",
   "version": "3.8.6"
  }
 },
 "nbformat": 4,
 "nbformat_minor": 4
}
