{
 "cells": [
  {
   "cell_type": "markdown",
   "metadata": {},
   "source": [
    "# Extract viral tags from aligned 10x transcriptomic data\n",
    "This Python Jupyter notebook uses the aligned 10x transcriptomic data to tally viral tags for each 10x cell barcode and UMI.\n",
    "It does this only for the **valid** cell barcodes, and uses the error-corrected cell barcodes and UMIs reported in the BAM file created by `STARsolo`.\n",
    "\n",
    "Import Python modules:"
   ]
  },
  {
   "cell_type": "code",
   "execution_count": null,
   "metadata": {},
   "outputs": [],
   "source": [
    "import pandas as pd\n",
    "\n",
    "from pymodules.tags_and_barcodes import extract_tags\n",
    "\n",
    "import pysam\n",
    "\n",
    "import yaml"
   ]
  },
  {
   "cell_type": "markdown",
   "metadata": {},
   "source": [
    "Get `snakemake` variables [as described here](https://snakemake.readthedocs.io/en/stable/snakefiles/rules.html#jupyter-notebook-integration):"
   ]
  },
  {
   "cell_type": "code",
   "execution_count": null,
   "metadata": {},
   "outputs": [],
   "source": [
    "bam = snakemake.input.bam\n",
    "bai = snakemake.input.bai\n",
    "cell_barcodes = snakemake.input.cell_barcodes\n",
    "viral_tag_locs = snakemake.input.viral_tag_locs\n",
    "viral_tag_identities = snakemake.input.viral_tag_identities\n",
    "viral_tag_by_cell_umi_csv = snakemake.output.viral_tag_by_cell_umi_csv\n",
    "expt = snakemake.wildcards.expt"
   ]
  },
  {
   "cell_type": "markdown",
   "metadata": {},
   "source": [
    "Read expected identities for viral tags:"
   ]
  },
  {
   "cell_type": "code",
   "execution_count": null,
   "metadata": {},
   "outputs": [],
   "source": [
    "print(f\"Reading expected tag identities from {viral_tag_identities}\")\n",
    "with open(viral_tag_identities) as f:\n",
    "    tag_identities_dict = yaml.safe_load(f)\n",
    "\n",
    "tag_identities_df = (\n",
    "    pd.DataFrame.from_records(\n",
    "        [(gene, tag, tagvariant, nt)\n",
    "         for gene, genetags in tag_identities_dict.items()\n",
    "         for tag, tagvals in genetags.items()\n",
    "         for tagvariant, nt in tagvals.items()],\n",
    "        columns=['gene', 'tag', 'tag_variant', 'nucleotide'])\n",
    "    .pivot_table(index=['gene', 'tag'],\n",
    "                  columns='tag_variant',\n",
    "                  values='nucleotide',\n",
    "                  aggfunc='sum')\n",
    "    )\n",
    "\n",
    "print('Here are the tag identities:')\n",
    "display(tag_identities_df)\n",
    "\n",
    "assert tag_identities_df.notnull().any(axis=None), 'identities missing for some tags'\n",
    "\n",
    "tag_variants = tag_identities_df.columns.tolist()\n",
    "print(f\"There are {len(tag_variants)} tag variants:\\n  \" + '\\n  '.join(tag_variants))\n",
    "\n",
    "assert 'ambiguous' not in {tag.lower() for tag in tag_variants}, 'cannot have tag variant \"ambiguous\"'"
   ]
  },
  {
   "cell_type": "markdown",
   "metadata": {},
   "source": [
    "Read the viral tag locations:"
   ]
  },
  {
   "cell_type": "code",
   "execution_count": null,
   "metadata": {},
   "outputs": [],
   "source": [
    "print(f\"Reading viral tag locations from {viral_tag_locs}\")\n",
    "tag_locs_df = pd.read_csv(viral_tag_locs)\n",
    "tag_locs_df"
   ]
  },
  {
   "cell_type": "markdown",
   "metadata": {},
   "source": [
    "Make sure we have locations and tag identities for same genes, and for each gene we have the same set of tags:"
   ]
  },
  {
   "cell_type": "code",
   "execution_count": null,
   "metadata": {},
   "outputs": [],
   "source": [
    "tagged_genes = tag_locs_df['gene'].unique()\n",
    "assert set(tagged_genes) == set(tag_identities_dict)\n",
    "\n",
    "for gene in tagged_genes:\n",
    "    if (set(tag_locs_df.query('gene == @gene')['tag_name']) != set(tag_identities_dict[gene])):\n",
    "        raise ValueError(f\"inconsistent tags for {gene}\")"
   ]
  },
  {
   "cell_type": "markdown",
   "metadata": {},
   "source": [
    "Get set of valid cell barcodes"
   ]
  },
  {
   "cell_type": "code",
   "execution_count": null,
   "metadata": {},
   "outputs": [],
   "source": [
    "print(f\"Reading valid cell barcodes from {cell_barcodes}\")\n",
    "cell_barcode_set = set(pd.read_csv(cell_barcodes, header=None)[0])\n",
    "print(f\"Read {len(cell_barcode_set)} valid barcodes.\")"
   ]
  },
  {
   "cell_type": "markdown",
   "metadata": {},
   "source": [
    "Now we get the viral tags.\n",
    "Specifically, parse the BAM file, and for each read mapping to a viral gene with a valid cell barcode and UMI, we see if we can determine the viral tag identity.\n",
    "The basic process is as follows:\n",
    " 1. For each viral tag location, parse the tag identity for all reads for valid cell barcodes that cover that tag.\n",
    "    The reads are grouped by UMI and cell barcode, and the tag is labeled as `ambiguous` if no tag identities compose more than 50% of the reads for a UMI in a cell.\n",
    " 2. The tags are then assigned to their tag variants, labeling the tag variant as `invalid` if the identity at the tag doesn't belong to an expected tag variant.\n",
    " 3. Unify the tag assigments across tag locations within each gene for UMIs that have several tag locations covered.\n",
    "    If all of the tag locations agree on the tag variant, then that's what we assign that UMI.\n",
    "    If the tag locations disagree, label as `tags_disagree`."
   ]
  },
  {
   "cell_type": "code",
   "execution_count": null,
   "metadata": {},
   "outputs": [],
   "source": [
    "print(f\"Parsing viral tags from {bam} (index {bai}):\\n\")\n",
    "\n",
    "tags_by_umi = pd.DataFrame({}, columns=['gene', 'cell_barcode', 'UMI', 'tag_name', 'tag_variant'])\n",
    "\n",
    "with pysam.AlignmentFile(bam, index_filename=bai) as bamfile:\n",
    "    for gene in tagged_genes:\n",
    "        print(f\"Processing viral tags for {gene}\")\n",
    "        # parse each tag for the gene\n",
    "        gene_tags_by_umi = pd.DataFrame({}, columns=['cell_barcode', 'UMI', 'tag_variant'])\n",
    "        for tup in tag_locs_df.query('gene == @gene').itertuples():\n",
    "            tag_to_variant = {var: tag for tag, var in\n",
    "                              tag_identities_dict[gene][tup.tag_name].items()}\n",
    "            tag_to_variant['ambiguous'] = 'ambiguous'\n",
    "            readiterator = bamfile.fetch(contig=tup.gene,\n",
    "                                         start=tup.start - 1,  # convert 1- to 0-based indexing\n",
    "                                         end=tup.end,\n",
    "                                         )\n",
    "            gene_loc_tags_by_umi = (\n",
    "                        extract_tags(readiterator, cell_barcode_set, tup.start - 1, tup.end)\n",
    "                        .assign(tag_variant=lambda x: (x['tag']\n",
    "                                                       .map(tag_to_variant)\n",
    "                                                       .fillna('invalid')),\n",
    "                                tag_name=tup.tag_name,\n",
    "                                )\n",
    "                        [['cell_barcode', 'UMI', 'tag_name', 'tag_variant']]\n",
    "                        )\n",
    "            print(f\"\\tParsed tag {tup.tag_name} for {len(gene_loc_tags_by_umi)} UMIs.\")\n",
    "            gene_tags_by_umi = gene_tags_by_umi.append(gene_loc_tags_by_umi) \n",
    "        tags_by_umi = tags_by_umi.append(gene_tags_by_umi.assign(gene=gene))\n",
    "    \n",
    "if len(tags_by_umi) != len(tags_by_umi\n",
    "                           [['gene', 'cell_barcode', 'UMI', 'tag_name']]\n",
    "                           .drop_duplicates()\n",
    "                           ):\n",
    "    raise ValueError('not unique tag variant call for each gene / cell / UMI / tag')\n",
    "    \n",
    "# unify tag assignments across tag locations for each gene / cell / UMI\n",
    "tags_by_umi = (\n",
    "    tags_by_umi\n",
    "    .groupby(['gene', 'cell_barcode', 'UMI'], as_index=False)\n",
    "    .aggregate(tag_variant=pd.NamedAgg('tag_variant', 'first'),\n",
    "               n_tag_locs_called=pd.NamedAgg('tag_variant', 'count'),\n",
    "               n_tag_variants=pd.NamedAgg('tag_variant', 'nunique'),\n",
    "               )\n",
    "    .assign(tag_variant=lambda x: x['tag_variant'].where(x['n_tag_variants'] == 1,\n",
    "                                                         'tags_disagree'),\n",
    "            )\n",
    "    .drop(columns='n_tag_variants')\n",
    "    )"
   ]
  },
  {
   "cell_type": "markdown",
   "metadata": {},
   "source": [
    "Write the viral tags to the output CSV file:"
   ]
  },
  {
   "cell_type": "code",
   "execution_count": null,
   "metadata": {},
   "outputs": [],
   "source": [
    "print(f\"Writing viral tags to {viral_tag_by_cell_umi_csv}\")\n",
    "\n",
    "tags_by_umi.to_csv(viral_tag_by_cell_umi_csv,\n",
    "                   index=False,\n",
    "                   compression='gzip')"
   ]
  }
 ],
 "metadata": {
  "kernelspec": {
   "display_name": "Python 3",
   "language": "python",
   "name": "python3"
  },
  "language_info": {
   "codemirror_mode": {
    "name": "ipython",
    "version": 3
   },
   "file_extension": ".py",
   "mimetype": "text/x-python",
   "name": "python",
   "nbconvert_exporter": "python",
   "pygments_lexer": "ipython3",
   "version": "3.8.6"
  }
 },
 "nbformat": 4,
 "nbformat_minor": 4
}
