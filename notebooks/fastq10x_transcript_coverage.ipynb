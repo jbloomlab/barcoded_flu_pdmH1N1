{
 "cells": [
  {
   "cell_type": "markdown",
   "metadata": {},
   "source": [
    "# Illumina 10X transcript coverage for selected transcripts\n",
    "This Python Jupyter notebook plots the 10X Illumina coverage for a handful of selected transcripts.\n",
    "These are all the transcripts in the viral GTF plus a handful of additional \"house-keeping\" host transcripts with names hardcoded below."
   ]
  },
  {
   "cell_type": "markdown",
   "metadata": {},
   "source": [
    "## Parameters for notebook\n",
    "First, set the parameters for the notebook.\n",
    "That should be done in the next cell, which is tagged as a `parameters` cell to enable [papermill parameterization](https://papermill.readthedocs.io/en/latest/usage-parameterize.html):"
   ]
  },
  {
   "cell_type": "code",
   "execution_count": null,
   "metadata": {
    "tags": [
     "parameters"
    ]
   },
   "outputs": [],
   "source": [
    "# parameters cell; in order for the notebook to run this cell must define:\n",
    "#  - samples_10x: list of 10X samples\n",
    "#  - input_fastq10x_bams: list of BAM file with alignments of 10X reads for each sample\n",
    "#  - input_fastq10x_bais: BAM indices for each file in `input_fastq10x_bam`\n",
    "#  - input_viral_gtf: GTF file with viral genes\n",
    "#  - input_gtf: GTF with all cellular and viral genes"
   ]
  },
  {
   "cell_type": "markdown",
   "metadata": {},
   "source": [
    "Check input lists to make sure they are same length:"
   ]
  },
  {
   "cell_type": "code",
   "execution_count": null,
   "metadata": {},
   "outputs": [],
   "source": [
    "assert len(samples_10x) == len(input_fastq10x_bams) == len(input_fastq10x_bais)"
   ]
  },
  {
   "cell_type": "markdown",
   "metadata": {},
   "source": [
    "An additional parameter hardcoded for the analysis: get coverage for **transcript** entries with these names in addition to those in `input_viral_gtf`:"
   ]
  },
  {
   "cell_type": "code",
   "execution_count": null,
   "metadata": {},
   "outputs": [],
   "source": [
    "gene_names = ['ACTB-201',\n",
    "              'RPL32-201',\n",
    "              ]"
   ]
  },
  {
   "cell_type": "markdown",
   "metadata": {},
   "source": [
    "## Import Python modules"
   ]
  },
  {
   "cell_type": "code",
   "execution_count": null,
   "metadata": {},
   "outputs": [],
   "source": [
    "import collections\n",
    "import itertools\n",
    "import re\n",
    "\n",
    "import pandas as pd\n",
    "\n",
    "from plotnine import *\n",
    "\n",
    "import pysam"
   ]
  },
  {
   "cell_type": "markdown",
   "metadata": {},
   "source": [
    "## Get entries of interest from the GTF\n",
    "We go through `input_gtf` and get all **transcripts** that are in `gene_names` as well as any entries in `input_viral_gtf`:"
   ]
  },
  {
   "cell_type": "code",
   "execution_count": null,
   "metadata": {},
   "outputs": [],
   "source": [
    "with open(input_viral_gtf) as f:\n",
    "    viral_gtf_lines = set(line for line in f.readlines() if line[0] != '#')\n",
    "\n",
    "print(f\"Read {len(viral_gtf_lines)} entries from {input_viral_gtf}\")\n",
    "\n",
    "gene_name_regex = re.compile(f\"\\\"({'|'.join(gene_names)})\\\"\")\n",
    "\n",
    "print(f\"Searching for transcripts of interest in {input_gtf}\")\n",
    "gtf_entries = []\n",
    "with open(input_gtf) as f:\n",
    "    for line in f:\n",
    "        if line in viral_gtf_lines:\n",
    "            gtf_entries.append(line)\n",
    "        elif gene_name_regex.search(line):\n",
    "            feature_type = line.split('\\t')[2]\n",
    "            if feature_type == 'transcript':\n",
    "                gtf_entries.append(line)\n",
    "print(f\"Overall, found {len(gtf_entries)} GTF lines of interest\")"
   ]
  },
  {
   "cell_type": "markdown",
   "metadata": {},
   "source": [
    "For each GTF entry, get:\n",
    " - name of the transcript: first try `gene_name`, and if that is not unique then try `transcript_name`\n",
    " - contig (chromosome) on which the transcript is found\n",
    " - start of the transcript on contig in 0-based Python indexing\n",
    " - end of the transcript on contig in Python indexing"
   ]
  },
  {
   "cell_type": "code",
   "execution_count": null,
   "metadata": {},
   "outputs": [],
   "source": [
    "contigs = [gtf_entry.split('\\t')[0] for gtf_entry in gtf_entries]\n",
    "starts = [int(gtf_entry.split('\\t')[3]) - 1 for gtf_entry in gtf_entries]\n",
    "ends = [int(gtf_entry.split('\\t')[4]) for gtf_entry in gtf_entries]\n",
    "\n",
    "names = [re.search('gene_name \\\"([\\w\\-]+)\\\"', gtf_entry).group(1)\n",
    "         for gtf_entry in gtf_entries]\n",
    "name_counts = collections.Counter(names)\n",
    "for i, (name, gtf_entry) in enumerate(zip(names, gtf_entries)):\n",
    "    if name_counts[name] > 1:\n",
    "        names[i] = re.search('transcript_name \\\"([\\w\\-]+)\\\"', gtf_entry).group(1)      \n",
    "if len(names) != len(set(names)):\n",
    "    raise ValueError('`gene_names` not unique')\n",
    "    \n",
    "entries_df = pd.DataFrame({'name': names,\n",
    "                           'contig': contigs,\n",
    "                           'start': starts,\n",
    "                           'end': ends})\n",
    "entries_df"
   ]
  },
  {
   "cell_type": "markdown",
   "metadata": {},
   "source": [
    "## Get coverage from BAM file\n",
    "Now we get the coverage over each transcript of interest for each sample into `coverage_df`, and also compute the relative coverage (relative to the site with the highest coverage):"
   ]
  },
  {
   "cell_type": "code",
   "execution_count": null,
   "metadata": {},
   "outputs": [],
   "source": [
    "cols = ['sample', 'gene', 'site', 'dist_from_3end', 'coverage', 'rel_coverage']\n",
    "coverage_list = []\n",
    "\n",
    "for sample, bam, bai in zip(samples_10x,\n",
    "                            input_fastq10x_bams,\n",
    "                            input_fastq10x_bais):\n",
    "    with pysam.AlignmentFile(bam, mode='rb', index_filename=bai) as bamfile:\n",
    "        for tup in entries_df.itertuples():\n",
    "            coverage_list.append(\n",
    "                pd.DataFrame(dict(zip('ACGT',\n",
    "                                      bamfile.count_coverage(contig=tup.contig,\n",
    "                                                             start=tup.start,\n",
    "                                                             stop=tup.end)\n",
    "                                      )\n",
    "                                  )\n",
    "                             )\n",
    "                .assign(coverage=lambda x: x.sum(axis=1),\n",
    "                        rel_coverage=lambda x: x['coverage'] / x['coverage'].max(),\n",
    "                        site=lambda x: x.index + 1,\n",
    "                        dist_from_3end=lambda x: x['site'].max() - x['site'],\n",
    "                        gene=tup.name,\n",
    "                        sample=sample)\n",
    "                [cols],\n",
    "                )\n",
    "            \n",
    "coverage_df = pd.concat(coverage_list, sort=False, ignore_index=True)\n",
    "coverage_df"
   ]
  },
  {
   "cell_type": "markdown",
   "metadata": {},
   "source": [
    "## Plot max coverage for each transcript\n",
    "Coverage at site in transcript with most depth:"
   ]
  },
  {
   "cell_type": "code",
   "execution_count": null,
   "metadata": {},
   "outputs": [],
   "source": [
    "p = (ggplot(coverage_df.groupby(['sample', 'gene'])\n",
    "                       .aggregate(max_coverage=pd.NamedAgg('coverage', 'max'))\n",
    "                       .reset_index(),\n",
    "            aes('gene', 'max_coverage')) +\n",
    "     geom_bar(stat='identity') +\n",
    "     facet_wrap('~ sample', nrow=1) +\n",
    "     theme(figure_size=(0.25 * coverage_df['gene'].nunique() * coverage_df['sample'].nunique(), 2),\n",
    "           axis_text_x=element_text(angle=90),\n",
    "           )\n",
    "     )\n",
    "_ = p.draw()"
   ]
  },
  {
   "cell_type": "markdown",
   "metadata": {},
   "source": [
    "## Plot relative coverage over whole transcript"
   ]
  },
  {
   "cell_type": "code",
   "execution_count": null,
   "metadata": {},
   "outputs": [],
   "source": [
    "p = (ggplot(coverage_df, aes('site', 'rel_coverage')) +\n",
    "     geom_area() +\n",
    "     facet_grid('sample ~ gene', scales='free_x') +\n",
    "     theme(figure_size=(1.5 * coverage_df['gene'].nunique(),\n",
    "                        2 * coverage_df['sample'].nunique()),\n",
    "           axis_text_x=element_text(angle=90))\n",
    "     )\n",
    "_ = p.draw()"
   ]
  },
  {
   "cell_type": "markdown",
   "metadata": {},
   "source": [
    "## Plot relative coverage over just the last 600 nucleotides of each transcript"
   ]
  },
  {
   "cell_type": "code",
   "execution_count": null,
   "metadata": {},
   "outputs": [],
   "source": [
    "p = (ggplot(coverage_df.query('dist_from_3end < 600'),\n",
    "            aes('dist_from_3end', 'rel_coverage')) +\n",
    "     geom_area() +\n",
    "     scale_x_reverse() +\n",
    "     facet_grid('sample ~ gene', scales='free') +\n",
    "     theme(figure_size=(1.5 * coverage_df['gene'].nunique(),\n",
    "                        2 * coverage_df['sample'].nunique()),\n",
    "           axis_text_x=element_text(angle=90))\n",
    "     )\n",
    "_ = p.draw()"
   ]
  },
  {
   "cell_type": "markdown",
   "metadata": {},
   "source": [
    "# "
   ]
  }
 ],
 "metadata": {
  "kernelspec": {
   "display_name": "Python 3",
   "language": "python",
   "name": "python3"
  },
  "language_info": {
   "codemirror_mode": {
    "name": "ipython",
    "version": 3
   },
   "file_extension": ".py",
   "mimetype": "text/x-python",
   "name": "python",
   "nbconvert_exporter": "python",
   "pygments_lexer": "ipython3",
   "version": "3.6.7"
  }
 },
 "nbformat": 4,
 "nbformat_minor": 4
}
