{
 "cells": [
  {
   "cell_type": "markdown",
   "metadata": {},
   "source": [
    "# Summarize and QC `STARsolo` alignments of the transcriptomic data\n",
    "This Python Jupyter notebook summarizes the `STARsolo` alignments of the transcriptomic data.\n",
    "\n",
    "Import Python modules:"
   ]
  },
  {
   "cell_type": "code",
   "execution_count": null,
   "metadata": {},
   "outputs": [],
   "source": [
    "from IPython.display import HTML, display\n",
    "\n",
    "import matplotlib.pyplot as plt\n",
    "\n",
    "import pandas as pd"
   ]
  },
  {
   "cell_type": "markdown",
   "metadata": {},
   "source": [
    "Get `snakemake` variables [as described here](https://snakemake.readthedocs.io/en/stable/snakefiles/rules.html#jupyter-notebook-integration):"
   ]
  },
  {
   "cell_type": "code",
   "execution_count": null,
   "metadata": {},
   "outputs": [],
   "source": [
    "expt = snakemake.wildcards.expt\n",
    "summary = snakemake.input.summary\n",
    "umi_per_cell = snakemake.input.umi_per_cell\n",
    "qc_plot = snakemake.output.qc_plot\n",
    "\n",
    "print(f\"Analyzing transcriptomic stats for experiment {expt}\")"
   ]
  },
  {
   "cell_type": "markdown",
   "metadata": {},
   "source": [
    "Read in the statistics on from the `STARsolo` output files:"
   ]
  },
  {
   "cell_type": "code",
   "execution_count": null,
   "metadata": {},
   "outputs": [],
   "source": [
    "print(f\"Reading STARsolo stats from {summary}\")\n",
    "stats = pd.read_csv(summary, names=['statistic', 'value'])\n",
    "\n",
    "display(HTML(stats.to_html(float_format='%.2g', index=False)))\n",
    "\n",
    "n_cells = int(stats.set_index('statistic').at['Estimated Number of Cells',\n",
    "                                              'value'])"
   ]
  },
  {
   "cell_type": "markdown",
   "metadata": {},
   "source": [
    "Read the number of UMIs per cell barcode:"
   ]
  },
  {
   "cell_type": "code",
   "execution_count": null,
   "metadata": {},
   "outputs": [],
   "source": [
    "print(f\"Reading UMIs per cell barcode from: {umi_per_cell}\")\n",
    "umis = (pd.read_csv(umi_per_cell, names=['number of UMIs'])\n",
    "        .assign(cell_barcode_rank=lambda x: x.index + 1,\n",
    "                is_cell=lambda x: x['cell_barcode_rank'] <= n_cells,\n",
    "                is_cell_color=lambda x: x['is_cell'].map({True: 'orange',\n",
    "                                                          False: 'gray'}))\n",
    "        )"
   ]
  },
  {
   "cell_type": "markdown",
   "metadata": {},
   "source": [
    "Now plot the statistics. In particular:\n",
    " - Make [knee plot](https://liorpachter.wordpress.com/tag/knee-plot) showing how the number of cells was called from the number of UMIs per cell barcode; this is supposed to distinguish true cells from empty droplets.\n",
    " - Plot average number of genes, reads, UMIs per cell\n",
    " - Plot read-level statistics"
   ]
  },
  {
   "cell_type": "code",
   "execution_count": null,
   "metadata": {},
   "outputs": [],
   "source": [
    "fig, axes = plt.subplots(ncols=3,\n",
    "                         figsize=(11, 7.25),\n",
    "                         gridspec_kw={'width_ratios': [1, 1, 1]})\n",
    "fig.suptitle(f\"transcriptomics alignment summary for experiment {expt}\")\n",
    "\n",
    "# make knee plot\n",
    "_ = umis.plot(x='cell_barcode_rank',\n",
    "              y='number of UMIs',\n",
    "              kind='scatter',\n",
    "              c='is_cell_color',\n",
    "              s=1.5,\n",
    "              logx=True,\n",
    "              logy=True,\n",
    "              ax=axes[0],\n",
    "              rasterized=True,\n",
    "              )\n",
    "axes[0].axvline(x=n_cells, linestyle='dashed', color='green',\n",
    "                linewidth=1.5, alpha=0.5)\n",
    "axes[0].title.set_text(f\"knee plot: {n_cells} cells\")\n",
    "\n",
    "# average number of genes, reads, UMIs among called cells\n",
    "stats_per_cell = (\n",
    "    stats\n",
    "    .loc[stats['statistic'].str.contains('per Cell')]\n",
    "    .assign(statistic=lambda x: x['statistic'].str.replace(' per Cell', ''))\n",
    "    )\n",
    "_ = stats_per_cell.plot(x='statistic',\n",
    "                        y='value',\n",
    "                        kind='bar',\n",
    "                        ax=axes[1],\n",
    "                        legend=False,\n",
    "                        )\n",
    "axes[1].set_ylabel('counts per cell')\n",
    "axes[1].set_xlabel('')\n",
    "ymax = stats_per_cell['value'].max()\n",
    "axes[1].set_ylim(0, 1.5 * ymax)\n",
    "# add numbers to bars\n",
    "for p in axes[1].patches:\n",
    "    axes[1].annotate(f\"{p.get_height():.2g}\",\n",
    "                     (p.get_x() + 0.1, p.get_height() + 0.05 * ymax),\n",
    "                     rotation=90)\n",
    "axes[1].title.set_text('per-cell statistics')\n",
    "\n",
    "# Read-level statistics\n",
    "stats_mapping = stats.loc[stats['statistic'].str.contains(\n",
    "                    'Reads Mapped to|Reads With Valid|Fraction of Reads'\n",
    "                    )]\n",
    "_ = stats_mapping.plot(x='statistic',\n",
    "                       y='value',\n",
    "                       kind='bar',\n",
    "                       ax=axes[2],\n",
    "                       legend=False,\n",
    "                       )\n",
    "axes[2].set_ylabel('fraction of reads')\n",
    "axes[2].set_xlabel('')\n",
    "axes[2].set_ylim(0, 1.2 * stats_mapping['value'].max())\n",
    "# add numbers to bars\n",
    "for p in axes[2].patches:\n",
    "    axes[2].annotate(f\"{p.get_height():.2f}\",\n",
    "                     (p.get_x(), 1.05 * p.get_height()))\n",
    "axes[2].title.set_text('read-level statistics')\n",
    "\n",
    "fig.tight_layout()\n",
    "\n",
    "print(f\"Saving plot to {qc_plot}\")\n",
    "fig.savefig(qc_plot)"
   ]
  },
  {
   "cell_type": "code",
   "execution_count": null,
   "metadata": {},
   "outputs": [],
   "source": []
  }
 ],
 "metadata": {
  "kernelspec": {
   "display_name": "Python 3",
   "language": "python",
   "name": "python3"
  },
  "language_info": {
   "codemirror_mode": {
    "name": "ipython",
    "version": 3
   },
   "file_extension": ".py",
   "mimetype": "text/x-python",
   "name": "python",
   "nbconvert_exporter": "python",
   "pygments_lexer": "ipython3",
   "version": "3.8.6"
  }
 },
 "nbformat": 4,
 "nbformat_minor": 4
}
