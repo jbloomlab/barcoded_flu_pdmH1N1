{
 "cells": [
  {
   "cell_type": "markdown",
   "metadata": {},
   "source": [
    "# Quality control of 10x transcriptomic FASTQ files\n",
    "This Python Jupyter notebook performs quality control analysis on the FASTQ files created by [cellranger mkfastq](https://support.10xgenomics.com/single-cell-gene-expression/software/pipelines/latest/using/mkfastq).\n",
    "\n",
    "Import Python modules:"
   ]
  },
  {
   "cell_type": "code",
   "execution_count": null,
   "metadata": {},
   "outputs": [],
   "source": [
    "import os\n",
    "\n",
    "import mizani\n",
    "\n",
    "from IPython.display import display, HTML\n",
    "\n",
    "import pandas as pd\n",
    "\n",
    "from plotnine import *"
   ]
  },
  {
   "cell_type": "markdown",
   "metadata": {},
   "source": [
    "Get `snakemake` variables [as described here](https://snakemake.readthedocs.io/en/stable/snakefiles/rules.html#jupyter-notebook-integration):"
   ]
  },
  {
   "cell_type": "code",
   "execution_count": null,
   "metadata": {},
   "outputs": [],
   "source": [
    "expt = snakemake.params.expt\n",
    "qc_stats = snakemake.input.qc_stats\n",
    "qc_plot = snakemake.output.qc_plot\n",
    "\n",
    "print(f\"Analyzing experiment {expt} using QC stats in the following files:\\n  \" +\n",
    "      '  \\n'.join(qc_stats))"
   ]
  },
  {
   "cell_type": "markdown",
   "metadata": {},
   "source": [
    "Read the QC stats for each run for the experiment:"
   ]
  },
  {
   "cell_type": "code",
   "execution_count": null,
   "metadata": {},
   "outputs": [],
   "source": [
    "stats_df = pd.concat([pd.read_csv(statfile, names=['statistic', 'value'])\n",
    "                        .assign(run10x=os.path.basename(statfile)\n",
    "                                       .replace('_qc_stats.csv', '')\n",
    "                                       .replace(f\"{expt}_\", ''))\n",
    "                      for statfile in qc_stats\n",
    "                      ])\n",
    "\n",
    "print(f\"Statistics for {expt}\")\n",
    "display(HTML(\n",
    "    stats_df\n",
    "    .pivot_table(index='statistic', values='value', columns='run10x')\n",
    "    .to_html()\n",
    "    ))"
   ]
  },
  {
   "cell_type": "markdown",
   "metadata": {},
   "source": [
    "Plot the QC stats:"
   ]
  },
  {
   "cell_type": "code",
   "execution_count": null,
   "metadata": {},
   "outputs": [],
   "source": [
    "p = (ggplot(stats_df, aes('run10x', 'value')) +\n",
    "     geom_point(size=2) +\n",
    "     facet_wrap('~ statistic', ncol=4, scales='free_y') +\n",
    "     theme(axis_text_x=element_text(angle=90),\n",
    "           figure_size=(11 + 0.5 * stats_df['run10x'].nunique(), 4),\n",
    "           subplots_adjust={'wspace': 0.3},) +\n",
    "     expand_limits(y=(0, 1)) +\n",
    "     scale_y_continuous(labels=mizani.formatters.custom_format('{:.2g}')) +\n",
    "     ggtitle(f\"{expt} 10x Illumina FASTQ quality control stats\") +\n",
    "     xlab('Illumina sequencing run')\n",
    "     )\n",
    "_ = p.draw()\n",
    "\n",
    "print(f\"Saving plot to {qc_plot}\")\n",
    "p.save(qc_plot, verbose=False)"
   ]
  }
 ],
 "metadata": {
  "kernelspec": {
   "display_name": "Python 3",
   "language": "python",
   "name": "python3"
  },
  "language_info": {
   "codemirror_mode": {
    "name": "ipython",
    "version": 3
   },
   "file_extension": ".py",
   "mimetype": "text/x-python",
   "name": "python",
   "nbconvert_exporter": "python",
   "pygments_lexer": "ipython3",
   "version": "3.8.6"
  }
 },
 "nbformat": 4,
 "nbformat_minor": 4
}
