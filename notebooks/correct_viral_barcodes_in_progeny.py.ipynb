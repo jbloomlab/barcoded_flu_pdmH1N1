{
 "cells": [
  {
   "cell_type": "markdown",
   "metadata": {},
   "source": [
    "# Correct viral barcodes in progeny\n",
    "This Python Jupyter notebook corrects viral barcodes in the progeny. Viral barcodes are input as read count data.\n",
    "\n",
    "The notebook uses `UMI tools` to correct the viral barcodes. UMI tools outputs a set of corrected viral barcodes for each progeny sample. The notebook then associates each original viral barcode with its corrected viral barcodes and aggregates the counts for the corrected viral barcodes. Finally, the notebook outputs the corrected viral barcode count.\n",
    "\n",
    "**Notes about UMI_tools**\n",
    "* Using directional adjacency method. This has [been demonstrated on simulated data](https://cgatoxford.wordpress.com/2015/08/14/unique-molecular-identifiers-the-problem-the-solution-and-the-proof/) to produce a more accurate estimate of true UMI number than other heuristics.\n",
    "* Sequence must be input as byte. See definition here: https://stackoverflow.com/questions/6269765/what-does-the-b-character-do-in-front-of-a-string-literal\n",
    "* The corrected barcode is returned as the first barcode in the group list. See umi_tools API documentation: https://umi-tools.readthedocs.io/en/latest/API.html\n",
    "\n",
    "## Notebook setup\n",
    "\n",
    "Import Python modules:"
   ]
  },
  {
   "cell_type": "code",
   "execution_count": null,
   "metadata": {
    "execution": {
     "iopub.execute_input": "2022-12-21T19:09:41.401537Z",
     "iopub.status.busy": "2022-12-21T19:09:41.400050Z",
     "iopub.status.idle": "2022-12-21T19:10:03.198382Z",
     "shell.execute_reply": "2022-12-21T19:10:03.199421Z"
    }
   },
   "outputs": [],
   "source": [
    "import gzip\n",
    "\n",
    "from IPython.display import display\n",
    "\n",
    "from dms_variants.constants import CBPALETTE\n",
    "\n",
    "import numpy as np\n",
    "\n",
    "import pandas as pd\n",
    "\n",
    "import plotnine as p9\n",
    "\n",
    "from umi_tools import UMIClusterer"
   ]
  },
  {
   "cell_type": "markdown",
   "metadata": {},
   "source": [
    "Get `snakemake` variables [as described here](https://snakemake.readthedocs.io/en/stable/snakefiles/rules.html#jupyter-notebook-integration):"
   ]
  },
  {
   "cell_type": "code",
   "execution_count": null,
   "metadata": {
    "execution": {
     "iopub.execute_input": "2022-12-21T19:10:03.204483Z",
     "iopub.status.busy": "2022-12-21T19:10:03.202981Z",
     "iopub.status.idle": "2022-12-21T19:10:03.207837Z",
     "shell.execute_reply": "2022-12-21T19:10:03.208401Z"
    }
   },
   "outputs": [],
   "source": [
    "viral_bc_in_progeny_csv = snakemake.input.viral_bc_in_progeny_csv\n",
    "viral_bc_in_progeny_corrected_csv = snakemake.output.viral_bc_in_progeny_corrected_csv\n",
    "plot = snakemake.output.plot\n",
    "expt = snakemake.wildcards.expt"
   ]
  },
  {
   "cell_type": "markdown",
   "metadata": {},
   "source": [
    "Set plot style"
   ]
  },
  {
   "cell_type": "code",
   "execution_count": null,
   "metadata": {
    "execution": {
     "iopub.execute_input": "2022-12-21T19:10:03.211250Z",
     "iopub.status.busy": "2022-12-21T19:10:03.210383Z",
     "iopub.status.idle": "2022-12-21T19:10:03.215264Z",
     "shell.execute_reply": "2022-12-21T19:10:03.215851Z"
    }
   },
   "outputs": [],
   "source": [
    "p9.theme_set(p9.theme_classic())"
   ]
  },
  {
   "cell_type": "markdown",
   "metadata": {},
   "source": [
    "Import barcode frequency data"
   ]
  },
  {
   "cell_type": "code",
   "execution_count": null,
   "metadata": {
    "execution": {
     "iopub.execute_input": "2022-12-21T19:10:03.218993Z",
     "iopub.status.busy": "2022-12-21T19:10:03.218052Z",
     "iopub.status.idle": "2022-12-21T19:10:03.288853Z",
     "shell.execute_reply": "2022-12-21T19:10:03.289500Z"
    }
   },
   "outputs": [],
   "source": [
    "viral_bc_df = pd.read_csv(gzip.open(viral_bc_in_progeny_csv))\n",
    "display(viral_bc_df)"
   ]
  },
  {
   "cell_type": "markdown",
   "metadata": {},
   "source": [
    "## Data processing"
   ]
  },
  {
   "cell_type": "markdown",
   "metadata": {},
   "source": [
    "Cluster barcodes within each cell"
   ]
  },
  {
   "cell_type": "code",
   "execution_count": null,
   "metadata": {
    "execution": {
     "iopub.execute_input": "2022-12-21T19:10:03.292913Z",
     "iopub.status.busy": "2022-12-21T19:10:03.291891Z",
     "iopub.status.idle": "2022-12-21T19:10:06.202009Z",
     "shell.execute_reply": "2022-12-21T19:10:06.202656Z"
    }
   },
   "outputs": [],
   "source": [
    "clusterer = UMIClusterer(cluster_method=\"directional\")\n",
    "\n",
    "lookup_list = []\n",
    "\n",
    "for (source, tag, gene, replicate), df in (viral_bc_df\n",
    "                                           .groupby(['source',\n",
    "                                                     'tag',\n",
    "                                                     'gene',\n",
    "                                                     'replicate'])):\n",
    "    # Convert dataframe to dictionary. Dict requried input for umi_tools.\n",
    "    viral_bc_dict = df.set_index('barcode')['count'].to_dict()\n",
    "\n",
    "    # Convert barcode strings to byte. Byte required dtype for umi_tools.\n",
    "    byte_dict = {}\n",
    "    for key, value in viral_bc_dict.items():\n",
    "        byte_dict[key.encode(\"utf-8\")] = float(value)\n",
    "\n",
    "    # Cluster barcodes\n",
    "    bc_groups = clusterer(byte_dict, threshold=1)\n",
    "    groups_df = pd.DataFrame(bc_groups)\n",
    "    groups_df = (groups_df\n",
    "                 .stack()\n",
    "                 .str\n",
    "                 .decode('utf-8')\n",
    "                 .unstack())  # Convert bytes back to string\n",
    "    groups_df = groups_df.rename(columns={0: 'corrected_viral_bc'})\n",
    "    groups_df = groups_df.set_index('corrected_viral_bc', drop=False)\n",
    "\n",
    "    # Generate lookup table for this sample\n",
    "    temp_lookup_df = (groups_df.melt(ignore_index=False,\n",
    "                                     value_name='original_viral_bc')\n",
    "                      ['original_viral_bc']\n",
    "                      .dropna()\n",
    "                      .reset_index())\n",
    "    temp_lookup_df['source'] = source\n",
    "    temp_lookup_df['tag'] = tag\n",
    "    temp_lookup_df['gene'] = gene\n",
    "    temp_lookup_df['replicate'] = replicate\n",
    "    lookup_list.append(temp_lookup_df)\n",
    "\n",
    "lookup_df = pd.concat(lookup_list)\n",
    "display(lookup_df)"
   ]
  },
  {
   "cell_type": "markdown",
   "metadata": {},
   "source": [
    "Merge corrected barcode data with barcode frequency data."
   ]
  },
  {
   "cell_type": "code",
   "execution_count": null,
   "metadata": {
    "execution": {
     "iopub.execute_input": "2022-12-21T19:10:06.205983Z",
     "iopub.status.busy": "2022-12-21T19:10:06.205062Z",
     "iopub.status.idle": "2022-12-21T19:10:06.375700Z",
     "shell.execute_reply": "2022-12-21T19:10:06.376263Z"
    }
   },
   "outputs": [],
   "source": [
    "viral_bc_df = pd.merge(viral_bc_df,\n",
    "                       lookup_df,\n",
    "                       how='outer',\n",
    "                       left_on=['source', 'tag', 'gene', 'replicate', 'barcode'],\n",
    "                       right_on=['source', 'tag', 'gene', 'replicate', 'original_viral_bc'],\n",
    "                       validate='one_to_one')\n",
    "assert viral_bc_df.isnull().sum().sum() == 0, \\\n",
    "       \"Mismatch between barcode frequencies and \" \\\n",
    "       \"corrected barcodes dataframes\"\n",
    "\n",
    "viral_bc_df = viral_bc_df.drop('barcode', axis=1)"
   ]
  },
  {
   "cell_type": "markdown",
   "metadata": {},
   "source": [
    "Aggregate counts on corrected barcodes."
   ]
  },
  {
   "cell_type": "code",
   "execution_count": null,
   "metadata": {
    "execution": {
     "iopub.execute_input": "2022-12-21T19:10:06.378950Z",
     "iopub.status.busy": "2022-12-21T19:10:06.378159Z",
     "iopub.status.idle": "2022-12-21T19:10:06.539873Z",
     "shell.execute_reply": "2022-12-21T19:10:06.540440Z"
    }
   },
   "outputs": [],
   "source": [
    "viral_bc_df = pd.merge(viral_bc_df,\n",
    "                       (viral_bc_df\n",
    "                        .groupby(['source',\n",
    "                                  'tag',\n",
    "                                  'gene',\n",
    "                                  'replicate',\n",
    "                                  'corrected_viral_bc'])\n",
    "                        .sum()\n",
    "                        .reset_index()),\n",
    "                       on=['source', 'tag', 'gene', 'replicate', 'corrected_viral_bc'],\n",
    "                       suffixes=['_original_viral_bc', '_corrected_viral_bc'],\n",
    "                       validate='many_to_one')\n",
    "assert viral_bc_df.isnull().sum().sum() == 0, \\\n",
    "       \"Mismatch between original barcode frequencies and \" \\\n",
    "       \"corrected barcodes frequencies dataframes\""
   ]
  },
  {
   "cell_type": "markdown",
   "metadata": {},
   "source": [
    "Annotate original barcodes as corrected or not."
   ]
  },
  {
   "cell_type": "code",
   "execution_count": null,
   "metadata": {
    "execution": {
     "iopub.execute_input": "2022-12-21T19:10:06.543146Z",
     "iopub.status.busy": "2022-12-21T19:10:06.542370Z",
     "iopub.status.idle": "2022-12-21T19:10:06.561274Z",
     "shell.execute_reply": "2022-12-21T19:10:06.561893Z"
    }
   },
   "outputs": [],
   "source": [
    "viral_bc_df['corrected'] = (viral_bc_df['corrected_viral_bc']\n",
    "                            != viral_bc_df['original_viral_bc'])\n",
    "\n",
    "display(viral_bc_df)"
   ]
  },
  {
   "cell_type": "markdown",
   "metadata": {},
   "source": [
    "## Visualize Results"
   ]
  },
  {
   "cell_type": "markdown",
   "metadata": {},
   "source": [
    "Plot number of UMIs that underwent correction. Export plot for report."
   ]
  },
  {
   "cell_type": "code",
   "execution_count": null,
   "metadata": {
    "execution": {
     "iopub.execute_input": "2022-12-21T19:10:06.565054Z",
     "iopub.status.busy": "2022-12-21T19:10:06.564090Z",
     "iopub.status.idle": "2022-12-21T19:10:15.461548Z",
     "shell.execute_reply": "2022-12-21T19:10:15.462219Z"
    }
   },
   "outputs": [],
   "source": [
    "fig = (p9.ggplot(viral_bc_df, p9.aes(x='corrected',\n",
    "                                     y='count_original_viral_bc',\n",
    "                                     fill='corrected')) +\n",
    "       p9.geom_bar(stat='identity') +\n",
    "       p9.facet_grid('source+tag~gene+replicate') +\n",
    "       p9.ggtitle('Number of reads corrected\\n'\n",
    "                  f'for {expt}') +\n",
    "       p9.ylab('n reads corrected') +\n",
    "       p9.theme(figure_size=(2*(viral_bc_df['gene'].nunique()),\n",
    "                             1.5*(viral_bc_df['tag'].nunique()*\n",
    "                                  viral_bc_df['source'].nunique())),\n",
    "                axis_text_x=p9.element_text(angle=90),\n",
    "                plot_title=p9.element_text(size=10),\n",
    "                axis_title=p9.element_text(size=10),\n",
    "                legend_title=p9.element_text(size=9),\n",
    "                legend_title_align='center') +\n",
    "       p9.scale_fill_manual(CBPALETTE[0:]))\n",
    "\n",
    "# save plot\n",
    "print(f\"Saving plot to {plot}\")\n",
    "p9.ggsave(plot=fig, filename=plot, verbose=False)\n",
    "print(\"Plot saved.\")\n",
    "\n",
    "# show plot\n",
    "fig.draw()"
   ]
  },
  {
   "cell_type": "markdown",
   "metadata": {},
   "source": [
    "Plot fraction of UMIs corrected **within each progeny sample**."
   ]
  },
  {
   "cell_type": "code",
   "execution_count": null,
   "metadata": {
    "execution": {
     "iopub.execute_input": "2022-12-21T19:10:15.465472Z",
     "iopub.status.busy": "2022-12-21T19:10:15.464524Z",
     "iopub.status.idle": "2022-12-21T19:10:16.025850Z",
     "shell.execute_reply": "2022-12-21T19:10:16.026498Z"
    }
   },
   "outputs": [],
   "source": [
    "correction_ratios_df = (viral_bc_df\n",
    "                        .groupby(['source',\n",
    "                                  'tag',\n",
    "                                  'gene',\n",
    "                                  'replicate',\n",
    "                                  'corrected'])\n",
    "                        .agg(func=np.sum)\n",
    "                        .reset_index()\n",
    "                        .pivot_table(index=['source', 'tag', 'gene', 'replicate'],\n",
    "                                     columns='corrected',\n",
    "                                     values='count_original_viral_bc')\n",
    "                        .reset_index()\n",
    "                        .fillna(0))\n",
    "\n",
    "correction_ratios_df['ratio'] = (correction_ratios_df[True] /\n",
    "                                 (correction_ratios_df[True] +\n",
    "                                  correction_ratios_df[False]))\n",
    "\n",
    "display(correction_ratios_df)\n",
    "\n",
    "fig = (p9.ggplot(correction_ratios_df, p9.aes(x='replicate', y='ratio')) +\n",
    "       p9.geom_point() +\n",
    "       p9.facet_grid('source~tag+gene') +\n",
    "       p9.ggtitle('Fraction of reads corrected\\n'\n",
    "                  f'for {expt}') +\n",
    "       p9.labs(x='gene',\n",
    "               y='frac reads corrected') +\n",
    "       p9.theme(figure_size=(5,\n",
    "                             1.25*viral_bc_df['source'].nunique()),\n",
    "                plot_title=p9.element_text(size=10),\n",
    "                axis_title=p9.element_text(size=10),\n",
    "                legend_title=p9.element_text(size=9),\n",
    "                legend_title_align='center',\n",
    "                axis_text_x=p9.element_text(angle = 90, hjust = 1))\n",
    "       )\n",
    "\n",
    "# show plot\n",
    "fig.draw()"
   ]
  },
  {
   "cell_type": "markdown",
   "metadata": {},
   "source": [
    "## Export corrected barcode frequencies"
   ]
  },
  {
   "cell_type": "code",
   "execution_count": null,
   "metadata": {
    "execution": {
     "iopub.execute_input": "2022-12-21T19:10:16.029603Z",
     "iopub.status.busy": "2022-12-21T19:10:16.028679Z",
     "iopub.status.idle": "2022-12-21T19:10:16.458314Z",
     "shell.execute_reply": "2022-12-21T19:10:16.458984Z"
    }
   },
   "outputs": [],
   "source": [
    "export_df = (viral_bc_df\n",
    "             [['source',\n",
    "               'tag',\n",
    "               'gene',\n",
    "               'replicate',\n",
    "               'corrected_viral_bc',\n",
    "               'count_corrected_viral_bc']]\n",
    "             .reset_index(drop=True)\n",
    "             .drop_duplicates()\n",
    "             .rename(columns={'corrected_viral_bc': 'barcode',\n",
    "                              'count_corrected_viral_bc': 'count'})\n",
    "             )\n",
    "\n",
    "# Write to csv\n",
    "export_df.to_csv(viral_bc_in_progeny_corrected_csv,\n",
    "                 index=False)"
   ]
  },
  {
   "cell_type": "code",
   "execution_count": null,
   "metadata": {},
   "outputs": [],
   "source": []
  }
 ],
 "metadata": {
  "kernelspec": {
   "display_name": "Python 3",
   "language": "python",
   "name": "python3"
  },
  "language_info": {
   "codemirror_mode": {
    "name": "ipython",
    "version": 3
   },
   "file_extension": ".py",
   "mimetype": "text/x-python",
   "name": "python",
   "nbconvert_exporter": "python",
   "pygments_lexer": "ipython3",
   "version": "3.8.6"
  }
 },
 "nbformat": 4,
 "nbformat_minor": 4
}
