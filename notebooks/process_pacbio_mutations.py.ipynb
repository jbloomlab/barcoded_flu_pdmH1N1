{
 "cells": [
  {
   "cell_type": "markdown",
   "metadata": {},
   "source": [
    "# Process pacbio mutations"
   ]
  },
  {
   "cell_type": "markdown",
   "metadata": {},
   "source": [
    "This notebook groups PacBio data by cell_barcode, gene, and UMI and plots the number of CCS per cell_barcode-gene-UMI. It then deduplicates mutations in the same CCS and combine adjacent indels. Finally, it exports a processed CSV with the following columns:\n",
    "* cell_barcode\n",
    "* gene\n",
    "* UMI\n",
    "* mutations\n",
    "* query_name (PacBio CCS ID)"
   ]
  },
  {
   "cell_type": "code",
   "execution_count": null,
   "metadata": {
    "execution": {
     "iopub.execute_input": "2022-01-19T01:42:34.487652Z",
     "iopub.status.busy": "2022-01-19T01:42:34.486908Z",
     "iopub.status.idle": "2022-01-19T01:42:37.821549Z",
     "shell.execute_reply": "2022-01-19T01:42:37.822226Z"
    }
   },
   "outputs": [],
   "source": [
    "from Bio.Seq import Seq\n",
    "\n",
    "import alignparse.ccs\n",
    "import alignparse.consensus\n",
    "import alignparse.utils\n",
    "\n",
    "import numpy as np\n",
    "\n",
    "import pandas as pd\n",
    "\n",
    "import plotnine as p9"
   ]
  },
  {
   "cell_type": "code",
   "execution_count": null,
   "metadata": {
    "execution": {
     "iopub.execute_input": "2022-01-19T01:42:37.826978Z",
     "iopub.status.busy": "2022-01-19T01:42:37.826424Z",
     "iopub.status.idle": "2022-01-19T01:42:37.829064Z",
     "shell.execute_reply": "2022-01-19T01:42:37.828506Z"
    }
   },
   "outputs": [],
   "source": [
    "mutation_df = snakemake.input.mutation_df\n",
    "cell_annotations_csv = snakemake.input.cell_annotations\n",
    "CCS_mutations_csv = snakemake.output.CCS_mutations_csv"
   ]
  },
  {
   "cell_type": "code",
   "execution_count": null,
   "metadata": {
    "execution": {
     "iopub.execute_input": "2022-01-19T01:42:37.834108Z",
     "iopub.status.busy": "2022-01-19T01:42:37.832910Z",
     "iopub.status.idle": "2022-01-19T01:42:51.475418Z",
     "shell.execute_reply": "2022-01-19T01:42:51.474353Z"
    }
   },
   "outputs": [],
   "source": [
    "mutations = pd.read_csv(mutation_df, compression='gzip', low_memory=False)\n",
    "cell_barcodes = pd.read_csv(cell_annotations_csv, compression='gzip', low_memory=False)"
   ]
  },
  {
   "cell_type": "code",
   "execution_count": null,
   "metadata": {
    "execution": {
     "iopub.execute_input": "2022-01-19T01:43:06.127289Z",
     "iopub.status.busy": "2022-01-19T01:43:05.538513Z",
     "iopub.status.idle": "2022-01-19T01:43:06.885426Z",
     "shell.execute_reply": "2022-01-19T01:43:06.886408Z"
    }
   },
   "outputs": [],
   "source": [
    "filter_col = [col for col in mutations\n",
    "              if col.startswith('variant_tag')]\n",
    "\n",
    "mutations = mutations.drop(columns=filter_col)\n",
    "mutations = mutations.drop(columns=['name'])"
   ]
  },
  {
   "cell_type": "code",
   "execution_count": null,
   "metadata": {
    "execution": {
     "iopub.execute_input": "2022-01-19T01:43:06.903726Z",
     "iopub.status.busy": "2022-01-19T01:43:06.902402Z",
     "iopub.status.idle": "2022-01-19T01:43:06.904475Z",
     "shell.execute_reply": "2022-01-19T01:43:06.905310Z"
    }
   },
   "outputs": [],
   "source": [
    "col_one_list = mutations['cellbarcode_sequence'].tolist()"
   ]
  },
  {
   "cell_type": "code",
   "execution_count": null,
   "metadata": {
    "execution": {
     "iopub.execute_input": "2022-01-19T01:43:06.983366Z",
     "iopub.status.busy": "2022-01-19T01:43:06.946928Z",
     "iopub.status.idle": "2022-01-19T01:43:09.656396Z",
     "shell.execute_reply": "2022-01-19T01:43:09.657405Z"
    }
   },
   "outputs": [],
   "source": [
    "barcode_list = []\n",
    "for barcode in col_one_list:\n",
    "    seq = Seq(barcode)\n",
    "    rv_barcode = seq.reverse_complement()\n",
    "    rv_barcode = str(rv_barcode)\n",
    "    barcode_list.append(rv_barcode)\n",
    "barcode_list\n",
    "mutations['cellbarcode_rv'] = (\n",
    "    pd.DataFrame(barcode_list, columns=['cellbarcode_rv'])\n",
    ")"
   ]
  },
  {
   "cell_type": "code",
   "execution_count": null,
   "metadata": {
    "execution": {
     "iopub.execute_input": "2022-01-19T01:43:09.765454Z",
     "iopub.status.busy": "2022-01-19T01:43:09.764437Z",
     "iopub.status.idle": "2022-01-19T01:43:14.225979Z",
     "shell.execute_reply": "2022-01-19T01:43:14.225511Z"
    }
   },
   "outputs": [],
   "source": [
    "df_merged = pd.merge(mutations, cell_barcodes,\n",
    "                     how='left', left_on=['cellbarcode_rv'],\n",
    "                     right_on=['cell_barcode'])"
   ]
  },
  {
   "cell_type": "markdown",
   "metadata": {},
   "source": [
    "We only want to look at CCSs that don't have strandexchange issues, so we filter out CCSs with chimeric tags."
   ]
  },
  {
   "cell_type": "code",
   "execution_count": null,
   "metadata": {
    "execution": {
     "iopub.execute_input": "2022-01-19T01:43:14.289553Z",
     "iopub.status.busy": "2022-01-19T01:43:14.288685Z",
     "iopub.status.idle": "2022-01-19T01:43:16.891588Z",
     "shell.execute_reply": "2022-01-19T01:43:16.893154Z"
    }
   },
   "outputs": [],
   "source": [
    "df_merged = df_merged.loc[df_merged['tag_status'] != 'chimeric tags']"
   ]
  },
  {
   "cell_type": "markdown",
   "metadata": {},
   "source": [
    "## CCSs in infected and uninfected cells"
   ]
  },
  {
   "cell_type": "code",
   "execution_count": null,
   "metadata": {
    "execution": {
     "iopub.execute_input": "2022-01-19T01:43:16.960872Z",
     "iopub.status.busy": "2022-01-19T01:43:16.959958Z",
     "iopub.status.idle": "2022-01-19T01:43:17.029261Z",
     "shell.execute_reply": "2022-01-19T01:43:17.029883Z"
    }
   },
   "outputs": [],
   "source": [
    "print('How many CCSs are called in infected vs uninfected cells:')\n",
    "df_merged.groupby(['infected']).agg({'infected': 'count'})"
   ]
  },
  {
   "cell_type": "markdown",
   "metadata": {},
   "source": [
    "### CCSs in uninfected cells"
   ]
  },
  {
   "cell_type": "code",
   "execution_count": null,
   "metadata": {
    "execution": {
     "iopub.execute_input": "2022-01-19T01:43:17.091912Z",
     "iopub.status.busy": "2022-01-19T01:43:17.091379Z",
     "iopub.status.idle": "2022-01-19T01:43:17.144708Z",
     "shell.execute_reply": "2022-01-19T01:43:17.143950Z"
    }
   },
   "outputs": [],
   "source": [
    "uninfected = df_merged.loc[df_merged['infected'] == 'uninfected']\n",
    "uninfected_barcode_count = (\n",
    "                            uninfected\n",
    "                            .groupby(['cell_barcode'])\n",
    "                            .agg({'cell_barcode': 'count'})\n",
    ")\n",
    "uninfected_barcode_count.columns = ['count']"
   ]
  },
  {
   "cell_type": "code",
   "execution_count": null,
   "metadata": {
    "execution": {
     "iopub.execute_input": "2022-01-19T01:43:17.162368Z",
     "iopub.status.busy": "2022-01-19T01:43:17.161549Z",
     "iopub.status.idle": "2022-01-19T01:43:17.776987Z",
     "shell.execute_reply": "2022-01-19T01:43:17.777667Z"
    }
   },
   "outputs": [],
   "source": [
    "p = (\n",
    "    p9.ggplot(uninfected_barcode_count,\n",
    "              p9.aes(x='count'))\n",
    "    + p9.geom_histogram(bins=80)\n",
    "    + p9.theme(axis_text_x=p9.element_text(angle=90),\n",
    "               panel_grid_major_x=p9.element_blank()\n",
    "               )\n",
    "    + p9.theme_bw()\n",
    "    + p9.xlab(\"CCS count\")\n",
    "    + p9.ylab(\"n cell barcodes\")\n",
    ")\n",
    "_ = p.draw()\n",
    "print('In total we find', len(uninfected_barcode_count.index),\n",
    "      'unique barcodes that are counted',\n",
    "      'as uninfected based on illumina sequencing ')\n",
    "print('This is how CCSs are distributed in uninfected cells:')"
   ]
  },
  {
   "cell_type": "markdown",
   "metadata": {},
   "source": [
    "### CCSs in ambiguous cells"
   ]
  },
  {
   "cell_type": "code",
   "execution_count": null,
   "metadata": {
    "execution": {
     "iopub.execute_input": "2022-01-19T01:43:17.849247Z",
     "iopub.status.busy": "2022-01-19T01:43:17.848376Z",
     "iopub.status.idle": "2022-01-19T01:43:17.894817Z",
     "shell.execute_reply": "2022-01-19T01:43:17.895742Z"
    }
   },
   "outputs": [],
   "source": [
    "ambiguous = df_merged.loc[df_merged['infected'] == 'ambiguous']\n",
    "ambiguous_barcode_count = (\n",
    "                            ambiguous\n",
    "                            .groupby(['cell_barcode'])\n",
    "                            .agg({'cell_barcode': 'count'})\n",
    ")\n",
    "ambiguous_barcode_count.columns = ['count']"
   ]
  },
  {
   "cell_type": "code",
   "execution_count": null,
   "metadata": {
    "execution": {
     "iopub.execute_input": "2022-01-19T01:43:17.949085Z",
     "iopub.status.busy": "2022-01-19T01:43:17.923296Z",
     "iopub.status.idle": "2022-01-19T01:43:18.324459Z",
     "shell.execute_reply": "2022-01-19T01:43:18.325413Z"
    }
   },
   "outputs": [],
   "source": [
    "p = (\n",
    "    p9.ggplot(ambiguous_barcode_count,\n",
    "              p9.aes(x='count'))\n",
    "    + p9.geom_histogram(bins=80)\n",
    "    + p9.theme(axis_text_x=p9.element_text(angle=90),\n",
    "               panel_grid_major_x=p9.element_blank()\n",
    "               )\n",
    "    + p9.theme_bw()\n",
    "    + p9.xlab(\"CCS count\")\n",
    "    + p9.ylab(\"n cell barcodes\")\n",
    ")\n",
    "_ = p.draw()\n",
    "print('In total we find', len(ambiguous_barcode_count.index),\n",
    "      'unique barcodes that are counted',\n",
    "      'as ambiguous based on illumina sequencing ')\n",
    "print('This is how CCSs are distributed in ambiguous cells:')"
   ]
  },
  {
   "cell_type": "markdown",
   "metadata": {},
   "source": [
    "### CCSs in infected cells"
   ]
  },
  {
   "cell_type": "code",
   "execution_count": null,
   "metadata": {
    "execution": {
     "iopub.execute_input": "2022-01-19T01:43:18.394216Z",
     "iopub.status.busy": "2022-01-19T01:43:18.393186Z",
     "iopub.status.idle": "2022-01-19T01:43:18.952234Z",
     "shell.execute_reply": "2022-01-19T01:43:18.951302Z"
    }
   },
   "outputs": [],
   "source": [
    "infected = df_merged.loc[df_merged['infected'] == 'infected']\n",
    "\n",
    "infected_barcode_count = (\n",
    "                          infected\n",
    "                          .groupby(['cell_barcode'])\n",
    "                          .agg({'cell_barcode': 'count'})\n",
    ")\n",
    "infected_barcode_count = (\n",
    "                          infected_barcode_count\n",
    "                          .rename(columns={'cell_barcode': 'count'})\n",
    ")"
   ]
  },
  {
   "cell_type": "code",
   "execution_count": null,
   "metadata": {
    "execution": {
     "iopub.execute_input": "2022-01-19T01:43:18.977309Z",
     "iopub.status.busy": "2022-01-19T01:43:18.976362Z",
     "iopub.status.idle": "2022-01-19T01:43:19.396644Z",
     "shell.execute_reply": "2022-01-19T01:43:19.395837Z"
    }
   },
   "outputs": [],
   "source": [
    "p = (\n",
    "    p9.ggplot(infected_barcode_count,\n",
    "              p9.aes(x='count'))\n",
    "    + p9.geom_histogram(bins=100)\n",
    "    + p9.theme(axis_text_x=p9.element_text(angle=90),\n",
    "               panel_grid_major_x=p9.element_blank()\n",
    "               )\n",
    "    + p9.theme_bw()\n",
    "    + p9.xlab(\"CCS count\")\n",
    "    + p9.ylab(\"n cell barcodes\")\n",
    ")\n",
    "_ = p.draw()\n",
    "\n",
    "print('In total we find', len(infected_barcode_count.index),\n",
    "      'unique infected barcodes')\n",
    "print('This is how CCSs are distributed per cell barcode:')"
   ]
  },
  {
   "cell_type": "markdown",
   "metadata": {},
   "source": [
    "## UMI counts"
   ]
  },
  {
   "cell_type": "markdown",
   "metadata": {},
   "source": [
    "Here we count the number of CCS belonging to each cell_barcode-gene-UMI. This represents a individual transcript in a cell, and more CCS's provide stronger support for the sequence of that transcript."
   ]
  },
  {
   "cell_type": "code",
   "execution_count": null,
   "metadata": {
    "execution": {
     "iopub.execute_input": "2022-01-19T01:43:19.469235Z",
     "iopub.status.busy": "2022-01-19T01:43:19.468406Z",
     "iopub.status.idle": "2022-01-19T01:43:21.216316Z",
     "shell.execute_reply": "2022-01-19T01:43:21.215550Z"
    }
   },
   "outputs": [],
   "source": [
    "UMI_count = (\n",
    "    df_merged\n",
    "    .groupby(['cell_barcode', 'gene', 'UMI_sequence'])\n",
    "    .agg({'UMI_sequence': 'count'})\n",
    ")\n",
    "UMI_count.columns = ['count']\n",
    "UMI_count = UMI_count.reset_index()\n",
    "UMI_count.head()"
   ]
  },
  {
   "cell_type": "code",
   "execution_count": null,
   "metadata": {
    "execution": {
     "iopub.execute_input": "2022-01-19T01:43:21.228652Z",
     "iopub.status.busy": "2022-01-19T01:43:21.227887Z",
     "iopub.status.idle": "2022-01-19T01:43:22.134733Z",
     "shell.execute_reply": "2022-01-19T01:43:22.135627Z"
    }
   },
   "outputs": [],
   "source": [
    "p = (\n",
    "    p9.ggplot(UMI_count,\n",
    "              p9.aes(x='count'))\n",
    "    + p9.geom_histogram(bins=80)\n",
    "    + p9.theme(axis_text_x=p9.element_text(angle=90),\n",
    "               panel_grid_major_x=p9.element_blank()\n",
    "               )\n",
    "    + p9.theme_bw()\n",
    "    + p9.xlab(\"CCSs per cell_barcode-gene-UMI\")\n",
    "    + p9.ylab(\"number of UMIs\")\n",
    ")\n",
    "_ = p.draw()\n",
    "\n",
    "print('max number of CCSs per UMI is', UMI_count['count'].max())"
   ]
  },
  {
   "cell_type": "code",
   "execution_count": null,
   "metadata": {
    "execution": {
     "iopub.execute_input": "2022-01-19T01:43:22.139451Z",
     "iopub.status.busy": "2022-01-19T01:43:22.138821Z",
     "iopub.status.idle": "2022-01-19T01:43:22.182662Z",
     "shell.execute_reply": "2022-01-19T01:43:22.183575Z"
    }
   },
   "outputs": [],
   "source": [
    "UMI_count_table = (\n",
    "                  UMI_count\n",
    "                  .rename(columns={'count': 'no_of_CCSs'})\n",
    "                  .groupby(['no_of_CCSs'])\n",
    "                  .agg({'no_of_CCSs': 'count'})\n",
    ")\n",
    "print('Here\\'s how many CCSs each cell_barcode-gene-UMI has:')\n",
    "UMI_count_table.rename(columns={'no_of_CCSs': 'no of UMIs'})"
   ]
  },
  {
   "cell_type": "markdown",
   "metadata": {},
   "source": [
    "## ONLY OUTPUT Data from infected cells"
   ]
  },
  {
   "cell_type": "markdown",
   "metadata": {},
   "source": [
    "# Combine adjacent indels\n",
    "Sometimes consecutive deletions are called as separate mutations by alignparse, so we apply `merge_dels` function to `all_mutations_orf_numbered_noT3_dupRM` column to merge consecutive deletions into a single deletion."
   ]
  },
  {
   "cell_type": "code",
   "execution_count": null,
   "metadata": {
    "execution": {
     "iopub.execute_input": "2022-01-19T01:43:26.031471Z",
     "iopub.status.busy": "2022-01-19T01:43:26.030842Z",
     "iopub.status.idle": "2022-01-19T01:43:40.237599Z",
     "shell.execute_reply": "2022-01-19T01:43:40.238404Z"
    }
   },
   "outputs": [],
   "source": [
    "infected = infected.replace(np.nan, '', regex=True)\n",
    "infected['all_mutations_orf_numbered'] = (\n",
    "    infected['all_mutations_orf_numbered']\n",
    "    .str.replace('nan', '[]')\n",
    ")\n",
    "\n",
    "infected['all_mutations_delsMerge'] = (\n",
    "    infected['all_mutations_orf_numbered']\n",
    "    .apply(alignparse.utils.merge_dels)\n",
    ")"
   ]
  },
  {
   "cell_type": "markdown",
   "metadata": {},
   "source": [
    "# Organize output and save"
   ]
  },
  {
   "cell_type": "code",
   "execution_count": null,
   "metadata": {
    "execution": {
     "iopub.execute_input": "2022-01-19T01:43:40.245306Z",
     "iopub.status.busy": "2022-01-19T01:43:40.244539Z",
     "iopub.status.idle": "2022-01-19T01:43:43.391292Z",
     "shell.execute_reply": "2022-01-19T01:43:43.392151Z"
    }
   },
   "outputs": [],
   "source": [
    "output_df = (\n",
    "    infected\n",
    "    [['cell_barcode',\n",
    "      'gene',\n",
    "      'UMI_sequence',\n",
    "      'all_mutations_delsMerge',\n",
    "      'query_name']]\n",
    "    .drop_duplicates())\n",
    "output_df = output_df.rename(columns={'UMI_sequence':'UMI',\n",
    "                                      'all_mutations_delsMerge':'mutations'})\n",
    "display(output_df)"
   ]
  },
  {
   "cell_type": "code",
   "execution_count": null,
   "metadata": {
    "execution": {
     "iopub.execute_input": "2022-01-19T01:43:43.396766Z",
     "iopub.status.busy": "2022-01-19T01:43:43.396024Z",
     "iopub.status.idle": "2022-01-19T01:43:59.903648Z",
     "shell.execute_reply": "2022-01-19T01:43:59.904469Z"
    }
   },
   "outputs": [],
   "source": [
    "output_df.to_csv(CCS_mutations_csv,\n",
    "                 index=False,\n",
    "                 compression='gzip')"
   ]
  },
  {
   "cell_type": "code",
   "execution_count": null,
   "metadata": {},
   "outputs": [],
   "source": []
  }
 ],
 "metadata": {
  "kernelspec": {
   "display_name": "Python 3",
   "language": "python",
   "name": "python3"
  },
  "language_info": {
   "codemirror_mode": {
    "name": "ipython",
    "version": 3
   },
   "file_extension": ".py",
   "mimetype": "text/x-python",
   "name": "python",
   "nbconvert_exporter": "python",
   "pygments_lexer": "ipython3",
   "version": "3.8.6"
  }
 },
 "nbformat": 4,
 "nbformat_minor": 4
}
