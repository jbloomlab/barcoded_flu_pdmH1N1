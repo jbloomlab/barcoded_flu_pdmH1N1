{
 "cells": [
  {
   "cell_type": "markdown",
   "metadata": {},
   "source": [
    "# Process pacbio mutations"
   ]
  },
  {
   "cell_type": "markdown",
   "metadata": {},
   "source": [
    "This notebook groups PacBio data by cell_barcode, gene, and UMI and plots the number of CCS per cell_barcode-gene-UMI. It then deduplicates mutations in the same CCS and combine adjacent indels. Finally, it exports a processed CSV with the following columns:\n",
    "* cell_barcode\n",
    "* gene\n",
    "* UMI\n",
    "* mutations\n",
    "* query_name (PacBio CCS ID)"
   ]
  },
  {
   "cell_type": "code",
   "execution_count": null,
   "metadata": {
    "execution": {
     "iopub.execute_input": "2022-01-13T21:11:46.747647Z",
     "iopub.status.busy": "2022-01-13T21:11:46.746811Z",
     "iopub.status.idle": "2022-01-13T21:11:50.487651Z",
     "shell.execute_reply": "2022-01-13T21:11:50.486743Z"
    }
   },
   "outputs": [],
   "source": [
    "from Bio.Seq import Seq\n",
    "\n",
    "import alignparse.ccs\n",
    "import alignparse.consensus\n",
    "import alignparse.utils\n",
    "\n",
    "import numpy as np\n",
    "\n",
    "import pandas as pd\n",
    "\n",
    "import plotnine as p9"
   ]
  },
  {
   "cell_type": "code",
   "execution_count": null,
   "metadata": {
    "execution": {
     "iopub.execute_input": "2022-01-13T21:11:50.493671Z",
     "iopub.status.busy": "2022-01-13T21:11:50.492744Z",
     "iopub.status.idle": "2022-01-13T21:11:50.494779Z",
     "shell.execute_reply": "2022-01-13T21:11:50.495323Z"
    }
   },
   "outputs": [],
   "source": [
    "mutation_df = snakemake.input.mutation_df\n",
    "cell_annotations_csv = snakemake.input.cell_annotations\n",
    "UMI_mutations_csv = snakemake.output.UMI_mutations_csv"
   ]
  },
  {
   "cell_type": "code",
   "execution_count": null,
   "metadata": {
    "execution": {
     "iopub.execute_input": "2022-01-13T21:11:50.500105Z",
     "iopub.status.busy": "2022-01-13T21:11:50.499590Z",
     "iopub.status.idle": "2022-01-13T21:12:03.588253Z",
     "shell.execute_reply": "2022-01-13T21:12:03.587376Z"
    }
   },
   "outputs": [],
   "source": [
    "mutations = pd.read_csv(mutation_df, compression='gzip', low_memory=False)\n",
    "cell_barcodes = pd.read_csv(cell_annotations_csv, compression='gzip', low_memory=False)"
   ]
  },
  {
   "cell_type": "markdown",
   "metadata": {},
   "source": [
    "I'm removing mutations in 3' termini becasue they are protein noncoding and mostly are due to poly-d(T) primer misaliggnment to poly(A) tail."
   ]
  },
  {
   "cell_type": "code",
   "execution_count": null,
   "metadata": {
    "execution": {
     "iopub.execute_input": "2022-01-13T21:12:03.594462Z",
     "iopub.status.busy": "2022-01-13T21:12:03.593759Z",
     "iopub.status.idle": "2022-01-13T21:12:16.689400Z",
     "shell.execute_reply": "2022-01-13T21:12:16.690196Z"
    }
   },
   "outputs": [],
   "source": [
    "# create column that removed termini3 mutations\n",
    "mutations['all_mutations_orf_numbered_noT3'] = (\n",
    "    mutations\n",
    "    .apply(lambda row: str(row['all_mutations_orf_numbered'])\n",
    "           .replace(str(row['termini3_mutations_orf_numbered']), ''),\n",
    "           axis=1)\n",
    ")"
   ]
  },
  {
   "cell_type": "code",
   "execution_count": null,
   "metadata": {
    "execution": {
     "iopub.execute_input": "2022-01-13T21:12:17.446351Z",
     "iopub.status.busy": "2022-01-13T21:12:17.017523Z",
     "iopub.status.idle": "2022-01-13T21:12:18.301258Z",
     "shell.execute_reply": "2022-01-13T21:12:18.300271Z"
    }
   },
   "outputs": [],
   "source": [
    "filter_col = [col for col in mutations\n",
    "              if col.startswith('variant_tag')]\n",
    "\n",
    "mutations = mutations.drop(columns=filter_col)\n",
    "mutations = mutations.drop(columns=['name'])"
   ]
  },
  {
   "cell_type": "code",
   "execution_count": null,
   "metadata": {
    "execution": {
     "iopub.execute_input": "2022-01-13T21:12:18.321509Z",
     "iopub.status.busy": "2022-01-13T21:12:18.320443Z",
     "iopub.status.idle": "2022-01-13T21:12:18.322440Z",
     "shell.execute_reply": "2022-01-13T21:12:18.323519Z"
    }
   },
   "outputs": [],
   "source": [
    "col_one_list = mutations['cellbarcode_sequence'].tolist()"
   ]
  },
  {
   "cell_type": "code",
   "execution_count": null,
   "metadata": {
    "execution": {
     "iopub.execute_input": "2022-01-13T21:12:18.399767Z",
     "iopub.status.busy": "2022-01-13T21:12:18.363200Z",
     "iopub.status.idle": "2022-01-13T21:12:21.040237Z",
     "shell.execute_reply": "2022-01-13T21:12:21.039322Z"
    }
   },
   "outputs": [],
   "source": [
    "barcode_list = []\n",
    "for barcode in col_one_list:\n",
    "    seq = Seq(barcode)\n",
    "    rv_barcode = seq.reverse_complement()\n",
    "    rv_barcode = str(rv_barcode)\n",
    "    barcode_list.append(rv_barcode)\n",
    "barcode_list\n",
    "mutations['cellbarcode_rv'] = (\n",
    "    pd.DataFrame(barcode_list, columns=['cellbarcode_rv'])\n",
    ")"
   ]
  },
  {
   "cell_type": "code",
   "execution_count": null,
   "metadata": {
    "execution": {
     "iopub.execute_input": "2022-01-13T21:12:21.146244Z",
     "iopub.status.busy": "2022-01-13T21:12:21.145187Z",
     "iopub.status.idle": "2022-01-13T21:12:25.288353Z",
     "shell.execute_reply": "2022-01-13T21:12:25.289117Z"
    }
   },
   "outputs": [],
   "source": [
    "df_merged = pd.merge(mutations, cell_barcodes,\n",
    "                     how='left', left_on=['cellbarcode_rv'],\n",
    "                     right_on=['cell_barcode'])"
   ]
  },
  {
   "cell_type": "markdown",
   "metadata": {},
   "source": [
    "We only want to look at CCSs that don't have strandexchange issues, so we filter out CCSs with chimeric tags."
   ]
  },
  {
   "cell_type": "code",
   "execution_count": null,
   "metadata": {
    "execution": {
     "iopub.execute_input": "2022-01-13T21:12:25.352735Z",
     "iopub.status.busy": "2022-01-13T21:12:25.293194Z",
     "iopub.status.idle": "2022-01-13T21:12:26.909314Z",
     "shell.execute_reply": "2022-01-13T21:12:26.908414Z"
    }
   },
   "outputs": [],
   "source": [
    "df_merged = df_merged.loc[df_merged['tag_status'] != 'chimeric tags']"
   ]
  },
  {
   "cell_type": "markdown",
   "metadata": {},
   "source": [
    "## CCSs in infected and uninfected cells"
   ]
  },
  {
   "cell_type": "code",
   "execution_count": null,
   "metadata": {
    "execution": {
     "iopub.execute_input": "2022-01-13T21:12:26.968711Z",
     "iopub.status.busy": "2022-01-13T21:12:26.967957Z",
     "iopub.status.idle": "2022-01-13T21:12:27.033367Z",
     "shell.execute_reply": "2022-01-13T21:12:27.034236Z"
    }
   },
   "outputs": [],
   "source": [
    "print('How many CCSs are called in infected vs uninfected cells:')\n",
    "df_merged.groupby(['infected']).agg({'infected': 'count'})"
   ]
  },
  {
   "cell_type": "markdown",
   "metadata": {},
   "source": [
    "### CCSs in uninfected cells"
   ]
  },
  {
   "cell_type": "code",
   "execution_count": null,
   "metadata": {
    "execution": {
     "iopub.execute_input": "2022-01-13T21:12:27.101745Z",
     "iopub.status.busy": "2022-01-13T21:12:27.100859Z",
     "iopub.status.idle": "2022-01-13T21:12:27.153018Z",
     "shell.execute_reply": "2022-01-13T21:12:27.153636Z"
    }
   },
   "outputs": [],
   "source": [
    "uninfected = df_merged.loc[df_merged['infected'] == 'uninfected']\n",
    "uninfected_barcode_count = (\n",
    "                            uninfected\n",
    "                            .groupby(['cell_barcode'])\n",
    "                            .agg({'cell_barcode': 'count'})\n",
    ")\n",
    "uninfected_barcode_count.columns = ['count']"
   ]
  },
  {
   "cell_type": "code",
   "execution_count": null,
   "metadata": {
    "execution": {
     "iopub.execute_input": "2022-01-13T21:12:27.170884Z",
     "iopub.status.busy": "2022-01-13T21:12:27.170109Z",
     "iopub.status.idle": "2022-01-13T21:12:27.693092Z",
     "shell.execute_reply": "2022-01-13T21:12:27.693823Z"
    }
   },
   "outputs": [],
   "source": [
    "p = (\n",
    "    p9.ggplot(uninfected_barcode_count,\n",
    "              p9.aes(x='count'))\n",
    "    + p9.geom_histogram(bins=80)\n",
    "    + p9.theme(axis_text_x=p9.element_text(angle=90),\n",
    "               panel_grid_major_x=p9.element_blank()\n",
    "               )\n",
    "    + p9.theme_bw()\n",
    "    + p9.xlab(\"CCS count\")\n",
    "    + p9.ylab(\"n cell barcodes\")\n",
    ")\n",
    "_ = p.draw()\n",
    "print('In total we find', len(uninfected_barcode_count.index),\n",
    "      'unique barcodes that are counted',\n",
    "      'as uninfected based on illumina sequencing ')\n",
    "print('This is how CCSs are distributed in uninfected cells:')"
   ]
  },
  {
   "cell_type": "markdown",
   "metadata": {},
   "source": [
    "### CCSs in ambiguous cells"
   ]
  },
  {
   "cell_type": "code",
   "execution_count": null,
   "metadata": {
    "execution": {
     "iopub.execute_input": "2022-01-13T21:12:27.758209Z",
     "iopub.status.busy": "2022-01-13T21:12:27.757440Z",
     "iopub.status.idle": "2022-01-13T21:12:27.805012Z",
     "shell.execute_reply": "2022-01-13T21:12:27.804011Z"
    }
   },
   "outputs": [],
   "source": [
    "ambiguous = df_merged.loc[df_merged['infected'] == 'ambiguous']\n",
    "ambiguous_barcode_count = (\n",
    "                            ambiguous\n",
    "                            .groupby(['cell_barcode'])\n",
    "                            .agg({'cell_barcode': 'count'})\n",
    ")\n",
    "ambiguous_barcode_count.columns = ['count']"
   ]
  },
  {
   "cell_type": "code",
   "execution_count": null,
   "metadata": {
    "execution": {
     "iopub.execute_input": "2022-01-13T21:12:27.828956Z",
     "iopub.status.busy": "2022-01-13T21:12:27.825984Z",
     "iopub.status.idle": "2022-01-13T21:12:28.211378Z",
     "shell.execute_reply": "2022-01-13T21:12:28.210536Z"
    }
   },
   "outputs": [],
   "source": [
    "p = (\n",
    "    p9.ggplot(ambiguous_barcode_count,\n",
    "              p9.aes(x='count'))\n",
    "    + p9.geom_histogram(bins=80)\n",
    "    + p9.theme(axis_text_x=p9.element_text(angle=90),\n",
    "               panel_grid_major_x=p9.element_blank()\n",
    "               )\n",
    "    + p9.theme_bw()\n",
    "    + p9.xlab(\"CCS count\")\n",
    "    + p9.ylab(\"n cell barcodes\")\n",
    ")\n",
    "_ = p.draw()\n",
    "print('In total we find', len(ambiguous_barcode_count.index),\n",
    "      'unique barcodes that are counted',\n",
    "      'as ambiguous based on illumina sequencing ')\n",
    "print('This is how CCSs are distributed in ambiguous cells:')"
   ]
  },
  {
   "cell_type": "markdown",
   "metadata": {},
   "source": [
    "### CCSs in infected cells"
   ]
  },
  {
   "cell_type": "code",
   "execution_count": null,
   "metadata": {
    "execution": {
     "iopub.execute_input": "2022-01-13T21:12:28.294888Z",
     "iopub.status.busy": "2022-01-13T21:12:28.294060Z",
     "iopub.status.idle": "2022-01-13T21:12:28.833219Z",
     "shell.execute_reply": "2022-01-13T21:12:28.832327Z"
    }
   },
   "outputs": [],
   "source": [
    "infected = df_merged.loc[df_merged['infected'] == 'infected']\n",
    "\n",
    "infected_barcode_count = (\n",
    "                          infected\n",
    "                          .groupby(['cell_barcode'])\n",
    "                          .agg({'cell_barcode': 'count'})\n",
    ")\n",
    "infected_barcode_count = (\n",
    "                          infected_barcode_count\n",
    "                          .rename(columns={'cell_barcode': 'count'})\n",
    ")"
   ]
  },
  {
   "cell_type": "code",
   "execution_count": null,
   "metadata": {
    "execution": {
     "iopub.execute_input": "2022-01-13T21:12:28.860177Z",
     "iopub.status.busy": "2022-01-13T21:12:28.859053Z",
     "iopub.status.idle": "2022-01-13T21:12:29.252685Z",
     "shell.execute_reply": "2022-01-13T21:12:29.253585Z"
    }
   },
   "outputs": [],
   "source": [
    "p = (\n",
    "    p9.ggplot(infected_barcode_count,\n",
    "              p9.aes(x='count'))\n",
    "    + p9.geom_histogram(bins=100)\n",
    "    + p9.theme(axis_text_x=p9.element_text(angle=90),\n",
    "               panel_grid_major_x=p9.element_blank()\n",
    "               )\n",
    "    + p9.theme_bw()\n",
    "    + p9.xlab(\"CCS count\")\n",
    "    + p9.ylab(\"n cell barcodes\")\n",
    ")\n",
    "_ = p.draw()\n",
    "\n",
    "print('In total we find', len(infected_barcode_count.index),\n",
    "      'unique infected barcodes')\n",
    "print('This is how CCSs are distributed per cell barcode:')"
   ]
  },
  {
   "cell_type": "markdown",
   "metadata": {},
   "source": [
    "## UMI counts"
   ]
  },
  {
   "cell_type": "markdown",
   "metadata": {},
   "source": [
    "Here we count the number of CCS belonging to each cell_barcode-gene-UMI. This represents a individual transcript in a cell, and more CCS's provide stronger support for the sequence of that transcript."
   ]
  },
  {
   "cell_type": "code",
   "execution_count": null,
   "metadata": {
    "execution": {
     "iopub.execute_input": "2022-01-13T21:12:29.295727Z",
     "iopub.status.busy": "2022-01-13T21:12:29.294715Z",
     "iopub.status.idle": "2022-01-13T21:12:30.767520Z",
     "shell.execute_reply": "2022-01-13T21:12:30.768484Z"
    }
   },
   "outputs": [],
   "source": [
    "UMI_count = (\n",
    "    df_merged\n",
    "    .groupby(['cell_barcode', 'gene', 'UMI_sequence'])\n",
    "    .agg({'UMI_sequence': 'count'})\n",
    ")\n",
    "UMI_count.columns = ['count']\n",
    "UMI_count = UMI_count.reset_index()\n",
    "UMI_count.head()"
   ]
  },
  {
   "cell_type": "code",
   "execution_count": null,
   "metadata": {
    "execution": {
     "iopub.execute_input": "2022-01-13T21:12:30.783806Z",
     "iopub.status.busy": "2022-01-13T21:12:30.782759Z",
     "iopub.status.idle": "2022-01-13T21:12:34.299864Z",
     "shell.execute_reply": "2022-01-13T21:12:34.299166Z"
    }
   },
   "outputs": [],
   "source": [
    "p = (\n",
    "    p9.ggplot(UMI_count,\n",
    "              p9.aes(x='count'))\n",
    "    + p9.geom_histogram(bins=80)\n",
    "    + p9.theme(axis_text_x=p9.element_text(angle=90),\n",
    "               panel_grid_major_x=p9.element_blank()\n",
    "               )\n",
    "    + p9.theme_bw()\n",
    "    + p9.xlab(\"CCSs per cell_barcode-gene-UMI\")\n",
    "    + p9.ylab(\"number of UMIs\")\n",
    ")\n",
    "_ = p.draw()\n",
    "\n",
    "print('max number of CCSs per UMI is', UMI_count['count'].max())"
   ]
  },
  {
   "cell_type": "code",
   "execution_count": null,
   "metadata": {
    "execution": {
     "iopub.execute_input": "2022-01-13T21:12:34.304405Z",
     "iopub.status.busy": "2022-01-13T21:12:34.303785Z",
     "iopub.status.idle": "2022-01-13T21:12:34.324810Z",
     "shell.execute_reply": "2022-01-13T21:12:34.324059Z"
    }
   },
   "outputs": [],
   "source": [
    "UMI_count_table = (\n",
    "                  UMI_count\n",
    "                  .rename(columns={'count': 'no_of_CCSs'})\n",
    "                  .groupby(['no_of_CCSs'])\n",
    "                  .agg({'no_of_CCSs': 'count'})\n",
    ")\n",
    "print('Here\\'s how many CCSs each cell_barcode-gene-UMI has:')\n",
    "UMI_count_table.rename(columns={'no_of_CCSs': 'no of UMIs'})"
   ]
  },
  {
   "cell_type": "markdown",
   "metadata": {},
   "source": [
    "## ONLY OUTPUT Data from infected cells"
   ]
  },
  {
   "cell_type": "markdown",
   "metadata": {},
   "source": [
    "# Deduplicate mutations"
   ]
  },
  {
   "cell_type": "markdown",
   "metadata": {},
   "source": [
    "Becasue we used overlapping primers for linearization PCR, sometimes the same mutation is called twice in a single CCs. Here we remove any mutations that are duplicates in the same UMI."
   ]
  },
  {
   "cell_type": "code",
   "execution_count": null,
   "metadata": {
    "execution": {
     "iopub.execute_input": "2022-01-13T21:12:34.385420Z",
     "iopub.status.busy": "2022-01-13T21:12:34.384650Z",
     "iopub.status.idle": "2022-01-13T21:12:38.777875Z",
     "shell.execute_reply": "2022-01-13T21:12:38.778820Z"
    }
   },
   "outputs": [],
   "source": [
    "# remove duplicate mutation strings\n",
    "all_mutations_dupRM = (\n",
    "    infected['all_mutations_orf_numbered_noT3']\n",
    "    .str.replace(r'\\b(\\w+)(\\s+\\1)+\\b', r'\\1')\n",
    ")\n",
    "\n",
    "infected['all_mutations_orf_numbered_noT3_dupRM'] = all_mutations_dupRM"
   ]
  },
  {
   "cell_type": "markdown",
   "metadata": {},
   "source": [
    "# Combine adjacent indels\n",
    "Sometimes consecutive deletions are called as separate mutations by alignparse, so we apply `merge_dels` function to `all_mutations_orf_numbered_noT3_dupRM` column to merge consecutive deletions into a single deletion."
   ]
  },
  {
   "cell_type": "code",
   "execution_count": null,
   "metadata": {
    "execution": {
     "iopub.execute_input": "2022-01-13T21:12:38.783880Z",
     "iopub.status.busy": "2022-01-13T21:12:38.783236Z",
     "iopub.status.idle": "2022-01-13T21:12:52.045332Z",
     "shell.execute_reply": "2022-01-13T21:12:52.044450Z"
    }
   },
   "outputs": [],
   "source": [
    "infected = infected.replace(np.nan, '', regex=True)\n",
    "infected['all_mutations_orf_numbered_noT3_dupRM'] = (\n",
    "    infected['all_mutations_orf_numbered_noT3_dupRM']\n",
    "    .str.replace('nan', '[]')\n",
    ")\n",
    "\n",
    "infected['all_mutations_delsMerge'] = (\n",
    "    infected['all_mutations_orf_numbered_noT3_dupRM']\n",
    "    .apply(alignparse.utils.merge_dels)\n",
    ")"
   ]
  },
  {
   "cell_type": "markdown",
   "metadata": {},
   "source": [
    "# Organize output and save"
   ]
  },
  {
   "cell_type": "code",
   "execution_count": null,
   "metadata": {},
   "outputs": [],
   "source": [
    "output_df = (\n",
    "    infected\n",
    "    [['cell_barcode',\n",
    "      'gene',\n",
    "      'UMI_sequence',\n",
    "      'all_mutations_delsMerge',\n",
    "      'query_name']]\n",
    "    .drop_duplicates())\n",
    "output_df = output_df.rename(columns={'UMI_sequence':'UMI',\n",
    "                                      'all_mutations_delsMerge':'mutations'})\n",
    "display(output_df)"
   ]
  },
  {
   "cell_type": "code",
   "execution_count": null,
   "metadata": {
    "execution": {
     "iopub.execute_input": "2022-01-13T21:14:13.833692Z",
     "iopub.status.busy": "2022-01-13T21:14:13.832466Z",
     "iopub.status.idle": "2022-01-13T21:14:20.717502Z",
     "shell.execute_reply": "2022-01-13T21:14:20.716477Z"
    }
   },
   "outputs": [],
   "source": [
    "output_df.to_csv(UMI_mutations_csv,\n",
    "                 index=False,\n",
    "                 compression='gzip')"
   ]
  },
  {
   "cell_type": "code",
   "execution_count": null,
   "metadata": {},
   "outputs": [],
   "source": []
  }
 ],
 "metadata": {
  "kernelspec": {
   "display_name": "Python 3",
   "language": "python",
   "name": "python3"
  },
  "language_info": {
   "codemirror_mode": {
    "name": "ipython",
    "version": 3
   },
   "file_extension": ".py",
   "mimetype": "text/x-python",
   "name": "python",
   "nbconvert_exporter": "python",
   "pygments_lexer": "ipython3",
   "version": "3.8.6"
  }
 },
 "nbformat": 4,
 "nbformat_minor": 4
}
