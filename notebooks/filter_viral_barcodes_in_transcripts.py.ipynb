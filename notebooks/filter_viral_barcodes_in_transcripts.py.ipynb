{
 "cells": [
  {
   "cell_type": "markdown",
   "metadata": {},
   "source": [
    "# Filter viral barcodes in transcripts\n",
    "This notebook filters viral barcodes in 10X transcriptome data to remove UMIs that are likely derived from leaked transcripts."
   ]
  },
  {
   "cell_type": "markdown",
   "metadata": {},
   "source": [
    "## Notebook setup\n",
    "Import python modules:"
   ]
  },
  {
   "cell_type": "code",
   "execution_count": null,
   "metadata": {},
   "outputs": [],
   "source": [
    "from IPython.display import display\n",
    "\n",
    "from dms_variants.constants import CBPALETTE\n",
    "\n",
    "import kneed\n",
    "\n",
    "import pandas as pd\n",
    "\n",
    "import plotnine as p9"
   ]
  },
  {
   "cell_type": "markdown",
   "metadata": {},
   "source": [
    "Get `snakemake` variables [as described here](https://snakemake.readthedocs.io/en/stable/snakefiles/rules.html#jupyter-notebook-integration):"
   ]
  },
  {
   "cell_type": "code",
   "execution_count": null,
   "metadata": {},
   "outputs": [],
   "source": [
    "viral_tag_by_cell_csv = (snakemake\n",
    "                         .input\n",
    "                         .viral_tag_by_cell_csv\n",
    "viral_bc_by_cell_corrected_csv = (snakemake\n",
    "                                  .input\n",
    "                                  .viral_bc_by_cell_corrected_csv)\n",
    "viral_bc_by_cell_filtered_csv = (snakemake\n",
    "                                 .output\n",
    "                                 .viral_bc_by_cell_filtered_csv)\n",
    "plot = snakemake.output.plot\n",
    "expt = snakemake.wildcards.expt\n"
   ]
  },
  {
   "cell_type": "markdown",
   "metadata": {},
   "source": [
    "## Organize data"
   ]
  },
  {
   "cell_type": "markdown",
   "metadata": {},
   "source": [
    "Read the viral barcode UMI counts data into a pandas dataframe:"
   ]
  },
  {
   "cell_type": "code",
   "execution_count": null,
   "metadata": {},
   "outputs": [],
   "source": [
    "viral_bc_counts = pd.read_csv(viral_bc_by_cell_corrected_csv)\n",
    "viral_bc_counts = (viral_bc_counts\n",
    "                   .rename(columns={'count': 'bc_UMIs'}))\n",
    "display(viral_bc_counts)"
   ]
  },
  {
   "cell_type": "markdown",
   "metadata": {},
   "source": [
    "Read the total number of UMIs per cell into a pandas dataframe. Only keep relevant columns."
   ]
  },
  {
   "cell_type": "code",
   "execution_count": null,
   "metadata": {},
   "outputs": [],
   "source": [
    "all_cells = pd.read_csv(viral_tag_by_cell_csv)\n",
    "all_cells = all_cells[['cell_barcode',\n",
    "                       'infected',\n",
    "                       'infecting_viral_tag',\n",
    "                       'total_UMIs',\n",
    "                       'viral_UMIs',\n",
    "                       'cellular_UMIs',\n",
    "                       'frac_viral_UMIs']]\n",
    "display(all_cells)"
   ]
  },
  {
   "cell_type": "markdown",
   "metadata": {},
   "source": [
    "Sanity check that `total_UMIs` is equal to `viral_UMIs + cellular_UMIs`:"
   ]
  },
  {
   "cell_type": "code",
   "execution_count": null,
   "metadata": {},
   "outputs": [],
   "source": [
    "assert bool((all_cells['total_UMIs'] ==\n",
    "             all_cells['viral_UMIs'] +\n",
    "             all_cells['cellular_UMIs'])\n",
    "            .all()), \"UMI counts do not add up\""
   ]
  },
  {
   "cell_type": "markdown",
   "metadata": {},
   "source": [
    "Merge dataframes:"
   ]
  },
  {
   "cell_type": "code",
   "execution_count": null,
   "metadata": {},
   "outputs": [],
   "source": [
    "viral_bc_frac = pd.merge(left=viral_bc_counts,\n",
    "                         right=all_cells,\n",
    "                         how='outer',\n",
    "                         on=['cell_barcode'])\n",
    "\n",
    "# Make `infecting_viral_tag` column ordered category\n",
    "viral_bc_frac['infecting_viral_tag'] = (viral_bc_frac['infecting_viral_tag']\n",
    "                                        .astype('category')\n",
    "                                        .cat\n",
    "                                        .reorder_categories(['none',\n",
    "                                                             'wt',\n",
    "                                                             'syn',\n",
    "                                                             'both']))\n",
    "\n",
    "# Fill NaN values with meaningful description\n",
    "viral_bc_frac['gene'] = viral_bc_frac['gene'].fillna('none')\n",
    "viral_bc_frac['viral_barcode'] = viral_bc_frac['viral_barcode'].fillna('none')\n",
    "viral_bc_frac['bc_UMIs'] = viral_bc_frac['bc_UMIs'].fillna(0)\n",
    "\n",
    "display(viral_bc_frac)"
   ]
  },
  {
   "cell_type": "markdown",
   "metadata": {},
   "source": [
    "Sum total number of barcoded UMIs per cell:"
   ]
  },
  {
   "cell_type": "code",
   "execution_count": null,
   "metadata": {},
   "outputs": [],
   "source": [
    "viral_bc_frac = pd.merge(left=viral_bc_frac,\n",
    "                         right=(viral_bc_frac\n",
    "                                .groupby('cell_barcode')\n",
    "                                ['bc_UMIs']\n",
    "                                .sum()\n",
    "                                .reset_index()\n",
    "                                .rename(columns={'bc_UMIs':\n",
    "                                                 'bc_UMIs_in_cell'})),\n",
    "                         on=['cell_barcode'])\n",
    "\n",
    "display(viral_bc_frac)"
   ]
  },
  {
   "cell_type": "markdown",
   "metadata": {},
   "source": [
    "Calculate fraction of all UMIs and fraction of viral UMIs that have barcode."
   ]
  },
  {
   "cell_type": "code",
   "execution_count": null,
   "metadata": {},
   "outputs": [],
   "source": [
    "viral_bc_frac['frac_total_UMIs_wBC'] = (viral_bc_frac['bc_UMIs_in_cell'] /\n",
    "                                        viral_bc_frac['total_UMIs'])\n",
    "viral_bc_frac['frac_viral_UMIs_wBC'] = (viral_bc_frac['bc_UMIs_in_cell'] /\n",
    "                                        viral_bc_frac['viral_UMIs'])\n",
    "display(viral_bc_frac)"
   ]
  },
  {
   "cell_type": "markdown",
   "metadata": {},
   "source": [
    "Calculate **each barcode's** fraction of all UMIs per cell:"
   ]
  },
  {
   "cell_type": "code",
   "execution_count": null,
   "metadata": {},
   "outputs": [],
   "source": [
    "viral_bc_frac['frac_bc_UMIs'] = (viral_bc_frac['bc_UMIs'] /\n",
    "                                 viral_bc_frac['total_UMIs'])\n",
    "\n",
    "display(viral_bc_frac)"
   ]
  },
  {
   "cell_type": "markdown",
   "metadata": {},
   "source": [
    "## Plots\n",
    "Set base plot style:"
   ]
  },
  {
   "cell_type": "code",
   "execution_count": null,
   "metadata": {},
   "outputs": [],
   "source": [
    "p9.theme_set(p9.theme_classic())"
   ]
  },
  {
   "cell_type": "markdown",
   "metadata": {},
   "source": [
    "### Per cell metrics\n",
    "Summary figures that address number and fraction of barcoded viral UMIs **in aggregate for each cell**.\n",
    "\n",
    "Plot number of viral barcode UMIs per cell and fraction of all UMIs with viral barcode per cell."
   ]
  },
  {
   "cell_type": "code",
   "execution_count": null,
   "metadata": {},
   "outputs": [],
   "source": [
    "fig = (p9.ggplot((viral_bc_frac\n",
    "                  .groupby('cell_barcode')\n",
    "                  .max()\n",
    "                  .reset_index()), p9.aes(x='bc_UMIs_in_cell')) +\n",
    "       p9.geom_histogram(bins=20) +\n",
    "       p9.ggtitle('barcode UMI counts per cell\\n'\n",
    "                  f'{expt}') +\n",
    "       p9.theme(figure_size=(2, 2),\n",
    "                plot_title=p9.element_text(size=9),\n",
    "                axis_title=p9.element_text(size=9),\n",
    "                legend_title=p9.element_text(size=9),\n",
    "                legend_title_align='center'))\n",
    "display(fig)"
   ]
  },
  {
   "cell_type": "code",
   "execution_count": null,
   "metadata": {},
   "outputs": [],
   "source": [
    "fig = (p9.ggplot((viral_bc_frac\n",
    "                  .groupby('cell_barcode')\n",
    "                  .max()\n",
    "                  .reset_index()), p9.aes(x='frac_total_UMIs_wBC')) +\n",
    "       p9.geom_histogram(bins=20) +\n",
    "       p9.ggtitle('fraction of barcoded UMIs per cell\\n'\n",
    "                  f'{expt}') +\n",
    "       p9.theme(figure_size=(2, 2),\n",
    "                plot_title=p9.element_text(size=9),\n",
    "                axis_title=p9.element_text(size=9),\n",
    "                legend_title=p9.element_text(size=9),\n",
    "                legend_title_align='center'))\n",
    "display(fig)"
   ]
  },
  {
   "cell_type": "markdown",
   "metadata": {},
   "source": [
    "Plot fraction of barcoded UMIs per cell as a function of viral UMI count and fraction:"
   ]
  },
  {
   "cell_type": "code",
   "execution_count": null,
   "metadata": {},
   "outputs": [],
   "source": [
    "fig = (p9.ggplot((viral_bc_frac\n",
    "                  .groupby('cell_barcode')\n",
    "                  .max()\n",
    "                  .reset_index()), p9.aes(x='viral_UMIs',\n",
    "                                          y='frac_total_UMIs_wBC')) +\n",
    "       p9.geom_point(alpha=0.3) +\n",
    "       p9.ggtitle('fraction of barcoded UMIs per cell\\n'\n",
    "                  'vs total viral UMI count\\n'\n",
    "                  f'{expt}') +\n",
    "       p9.theme(figure_size=(2, 2),\n",
    "                plot_title=p9.element_text(size=9),\n",
    "                axis_title=p9.element_text(size=9),\n",
    "                legend_title=p9.element_text(size=9),\n",
    "                legend_title_align='center'))\n",
    "display(fig)"
   ]
  },
  {
   "cell_type": "code",
   "execution_count": null,
   "metadata": {},
   "outputs": [],
   "source": [
    "fig = (p9.ggplot((viral_bc_frac\n",
    "                  .groupby('cell_barcode')\n",
    "                  .max()\n",
    "                  .reset_index()), p9.aes(x='frac_viral_UMIs',\n",
    "                                          y='frac_total_UMIs_wBC')) +\n",
    "       p9.geom_point(alpha=0.3) +\n",
    "       p9.ggtitle('fraction of barcoded UMIs per cell\\n'\n",
    "                  'vs fraction viral UMIs\\n'\n",
    "                  f'{expt}') +\n",
    "       p9.theme(figure_size=(2, 2),\n",
    "                plot_title=p9.element_text(size=9),\n",
    "                axis_title=p9.element_text(size=9),\n",
    "                legend_title=p9.element_text(size=9),\n",
    "                legend_title_align='center'))\n",
    "display(fig)"
   ]
  },
  {
   "cell_type": "markdown",
   "metadata": {},
   "source": [
    "Plot relationship between viral UMI fraction and fraction of viral UMIs with barcode:"
   ]
  },
  {
   "cell_type": "code",
   "execution_count": null,
   "metadata": {},
   "outputs": [],
   "source": [
    "fig = (p9.ggplot((viral_bc_frac\n",
    "                  .groupby('cell_barcode')\n",
    "                  .max()\n",
    "                  .reset_index()), p9.aes(x='frac_viral_UMIs',\n",
    "                                          y='frac_viral_UMIs_wBC')) +\n",
    "       p9.geom_point(alpha=0.3) +\n",
    "       p9.ggtitle('fraction of barcoded UMIs per cell\\n'\n",
    "                  'vs fraction barcoded UMIs in viral UMIs\\n'\n",
    "                  f'{expt}') +\n",
    "       p9.theme(figure_size=(2, 2),\n",
    "                plot_title=p9.element_text(size=9),\n",
    "                axis_title=p9.element_text(size=9),\n",
    "                legend_title=p9.element_text(size=9),\n",
    "                legend_title_align='center'))\n",
    "display(fig)"
   ]
  },
  {
   "cell_type": "markdown",
   "metadata": {},
   "source": [
    "### Per barcode metrics\n",
    "Figures that show the outcomes **for each barcode individually.**\n",
    "\n",
    "Plot distribution of each barcode's fraction of a cell's total UMIs."
   ]
  },
  {
   "cell_type": "code",
   "execution_count": null,
   "metadata": {},
   "outputs": [],
   "source": [
    "fig = (p9.ggplot(viral_bc_frac, p9.aes(x='frac_bc_UMIs',\n",
    "                                       fill='infecting_viral_tag')) +\n",
    "       p9.geom_histogram(bins=200, position='stack') +\n",
    "       p9.facet_grid('infecting_viral_tag~') +\n",
    "       p9.ggtitle('fraction of all UMIs in cell\\n'\n",
    "                  'from each viral barcode\\n'\n",
    "                  f'{expt}') +\n",
    "       p9.scale_y_log10() +\n",
    "       p9.theme(figure_size=(5,\n",
    "                             1*viral_bc_frac['infecting_viral_tag'].nunique()),\n",
    "                plot_title=p9.element_text(size=10),\n",
    "                axis_title=p9.element_text(size=10),\n",
    "                legend_title=p9.element_text(size=9),\n",
    "                legend_title_align='center') +\n",
    "       p9.scale_fill_manual(CBPALETTE[0:]))\n",
    "display(fig)"
   ]
  },
  {
   "cell_type": "code",
   "execution_count": null,
   "metadata": {},
   "outputs": [],
   "source": [
    "fig = (p9.ggplot(viral_bc_frac, p9.aes(x='frac_bc_UMIs',\n",
    "                                       y='frac_viral_UMIs',\n",
    "                                       color='infecting_viral_tag')) +\n",
    "       p9.geom_point(alpha=0.3) +\n",
    "       p9.facet_grid('infecting_viral_tag~') +\n",
    "       p9.ggtitle('fraction of all UMIs in cell\\n'\n",
    "                  'from each viral barcode\\n'\n",
    "                  'vs fraction of viral UMIs in that cell\\n'\n",
    "                  f'{expt}') +\n",
    "       p9.scale_y_log10() +\n",
    "       p9.scale_x_log10() +\n",
    "       p9.theme(figure_size=(4,\n",
    "                             2*viral_bc_frac['infected'].nunique()),\n",
    "                plot_title=p9.element_text(size=10),\n",
    "                axis_title=p9.element_text(size=10),\n",
    "                legend_title=p9.element_text(size=9),\n",
    "                legend_title_align='center') +\n",
    "       p9.scale_color_manual(CBPALETTE[0:]))\n",
    "display(fig)"
   ]
  },
  {
   "cell_type": "markdown",
   "metadata": {},
   "source": [
    "### Knee plots"
   ]
  },
  {
   "cell_type": "markdown",
   "metadata": {},
   "source": [
    "Rank order barcodes by fraction of total UMIs in their cell:"
   ]
  },
  {
   "cell_type": "code",
   "execution_count": null,
   "metadata": {},
   "outputs": [],
   "source": [
    "viral_bc_frac = (viral_bc_frac\n",
    "                 .sort_values('frac_bc_UMIs', ascending=True)\n",
    "                 .reset_index(drop=True))\n",
    "\n",
    "viral_bc_frac = (viral_bc_frac\n",
    "                 .assign(bc_rank=lambda x: (x['frac_bc_UMIs']\n",
    "                                            .rank(method='first',\n",
    "                                                  ascending=True))))\n",
    "\n",
    "display(viral_bc_frac)"
   ]
  },
  {
   "cell_type": "markdown",
   "metadata": {},
   "source": [
    "Calculate knee using [kneed](https://pypi.org/project/kneed/) package:"
   ]
  },
  {
   "cell_type": "code",
   "execution_count": null,
   "metadata": {},
   "outputs": [],
   "source": [
    "kl = kneed.KneeLocator(x=viral_bc_frac['bc_rank'].tolist(),\n",
    "                       y=viral_bc_frac['frac_bc_UMIs'].tolist(),\n",
    "                       curve='convex',\n",
    "                       direction='increasing',\n",
    "                       S=10\n",
    "                       )\n",
    "\n",
    "viral_bc_frac['below_knee'] = viral_bc_frac['frac_bc_UMIs'] <= kl.knee_y\n",
    "\n",
    "display(viral_bc_frac)\n",
    "\n",
    "print(f'knee rank: {kl.knee}')\n",
    "print(f'fraction of all UMIs at knee: {kl.knee_y}')\n",
    "print(f'barcodes retained: {len(viral_bc_frac.query(\"below_knee == False\"))}')"
   ]
  },
  {
   "cell_type": "markdown",
   "metadata": {},
   "source": [
    "Plot knee plot of each barcode's fraction of all UMIs in cell:"
   ]
  },
  {
   "cell_type": "code",
   "execution_count": null,
   "metadata": {},
   "outputs": [],
   "source": [
    "fig = (p9.ggplot(viral_bc_frac, p9.aes(x='bc_rank',\n",
    "                                       y='frac_bc_UMIs',\n",
    "                                       color='infecting_viral_tag')) +\n",
    "       p9.geom_point() +\n",
    "       p9.geom_vline(xintercept=kl.knee,\n",
    "                     linetype='dashed',\n",
    "                     color='#3A3B3C',\n",
    "                     size=0.5) +\n",
    "       p9.facet_grid('~infected') +\n",
    "       p9.ggtitle('knee plot of viral barcodes\\n'\n",
    "                  'fraction of all UMIs in cell\\n'\n",
    "                  f'{expt}') +\n",
    "       p9.xlab('barcode fraction rank') +\n",
    "       p9.ylab('fraction of all UMIs in cell\\n'\n",
    "               'assigned to barcode') +\n",
    "       p9.theme(figure_size=(6, 2),\n",
    "                plot_title=p9.element_text(size=10),\n",
    "                axis_title=p9.element_text(size=10),\n",
    "                legend_title=p9.element_text(size=9),\n",
    "                legend_title_align='center') +\n",
    "       p9.scale_color_manual(CBPALETTE[0:]))\n",
    "\n",
    "display(fig)"
   ]
  },
  {
   "cell_type": "markdown",
   "metadata": {},
   "source": [
    "Break the plot out by infecting viral tag and viral gene:"
   ]
  },
  {
   "cell_type": "code",
   "execution_count": null,
   "metadata": {},
   "outputs": [],
   "source": [
    "fig = (p9.ggplot(viral_bc_frac, p9.aes(x='bc_rank',\n",
    "                                       y='frac_bc_UMIs',\n",
    "                                       color='below_knee')) +\n",
    "       p9.geom_point() +\n",
    "       p9.geom_vline(xintercept=kl.knee,\n",
    "                     linetype='dashed',\n",
    "                     color='#3A3B3C',\n",
    "                     size=0.5) +\n",
    "       p9.facet_grid('infecting_viral_tag~gene') +\n",
    "       p9.ggtitle('knee plot of viral barcodes\\n'\n",
    "                  'fraction of all UMIs in cell\\n'\n",
    "                  f'{expt}') +\n",
    "       p9.xlab('barcode fraction rank') +\n",
    "       p9.ylab('fraction of all UMIs in cell\\n'\n",
    "               'assigned to barcode') +\n",
    "       p9.theme(figure_size=(6, 5),\n",
    "                plot_title=p9.element_text(size=10),\n",
    "                axis_title=p9.element_text(size=10),\n",
    "                legend_title=p9.element_text(size=9),\n",
    "                legend_title_align='center') +\n",
    "       p9.scale_color_manual(CBPALETTE[0:]))\n",
    "\n",
    "display(fig)"
   ]
  },
  {
   "cell_type": "code",
   "execution_count": null,
   "metadata": {},
   "outputs": [],
   "source": [
    "#  Temporary cell to create files expected by snakemake.\n",
    "#  Not final version\n",
    "\n",
    "print(f\"Saving plots to {plot}\")\n",
    "p9.ggsave(plot=fig, filename=plot, verbose=False)\n",
    "\n",
    "print(f\"Saving filtered barcodes to {viral_bc_by_cell_filtered_csv}\")\n",
    "viral_bc_frac = (viral_bc_frac\n",
    "                 .query('viral_barcode != \"none\"')\n",
    "                 [['cell_barcode',\n",
    "                   'gene',\n",
    "                   'frac_bc_UMIs']]\n",
    "                 .drop_duplicates()\n",
    "                 .rename(columns={'mean_freq_corrected_bc':\n",
    "                                  'freq'}))\n",
    "\n",
    "\n",
    "viral_bc_frac.to_csv(viral_bc_by_cell_filtered_csv,\n",
    "                     columns=['cell_barcode',\n",
    "                              'gene',\n",
    "                              'frac_bc_UMIs'],\n",
    "                     index=False)"
   ]
  },
  {
   "cell_type": "markdown",
   "metadata": {},
   "source": [
    "### "
   ]
  }
 ],
 "metadata": {
  "kernelspec": {
   "display_name": "Python 3",
   "language": "python",
   "name": "python3"
  },
  "language_info": {
   "codemirror_mode": {
    "name": "ipython",
    "version": 3
   },
   "file_extension": ".py",
   "mimetype": "text/x-python",
   "name": "python",
   "nbconvert_exporter": "python",
   "pygments_lexer": "ipython3",
   "version": "3.8.6"
  }
 },
 "nbformat": 4,
 "nbformat_minor": 4
}
