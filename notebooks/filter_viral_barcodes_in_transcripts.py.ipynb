{
 "cells": [
  {
   "cell_type": "markdown",
   "metadata": {},
   "source": [
    "# Filter viral barcodes in transcripts\n",
    "This notebook filters viral barcodes in 10X transcriptome data to remove UMIs that are likely derived from leaked transcripts."
   ]
  },
  {
   "cell_type": "markdown",
   "metadata": {},
   "source": [
    "## Notebook setup\n",
    "Import python modules:"
   ]
  },
  {
   "cell_type": "code",
   "execution_count": null,
   "metadata": {},
   "outputs": [],
   "source": [
    "from IPython.display import display\n",
    "\n",
    "from dms_variants.constants import CBPALETTE\n",
    "\n",
    "import pandas as pd\n",
    "\n",
    "import plotnine as p9\n",
    "\n",
    "import scipy\n",
    "\n",
    "import statsmodels.stats.multitest"
   ]
  },
  {
   "cell_type": "markdown",
   "metadata": {},
   "source": [
    "Get `snakemake` variables [as described here](https://snakemake.readthedocs.io/en/stable/snakefiles/rules.html#jupyter-notebook-integration):"
   ]
  },
  {
   "cell_type": "code",
   "execution_count": null,
   "metadata": {},
   "outputs": [],
   "source": [
    "viral_tag_by_cell_csv = (snakemake\n",
    "                         .input\n",
    "                         .viral_tag_by_cell_csv)\n",
    "viral_bc_by_cell_corrected_csv = (snakemake\n",
    "                                  .input\n",
    "                                  .viral_bc_by_cell_corrected_csv)\n",
    "viral_bc_by_cell_filtered_csv = (snakemake\n",
    "                                 .output\n",
    "                                 .viral_bc_by_cell_filtered_csv)\n",
    "plot = snakemake.output.plot\n",
    "expt = snakemake.wildcards.expt\n",
    "barcoded_viral_genes = snakemake.params.barcoded_viral_genes\n",
    "fdr = snakemake.params.fdr"
   ]
  },
  {
   "cell_type": "markdown",
   "metadata": {},
   "source": [
    "## Organize data"
   ]
  },
  {
   "cell_type": "markdown",
   "metadata": {},
   "source": [
    "Read the viral barcode UMI counts data into a pandas dataframe:"
   ]
  },
  {
   "cell_type": "code",
   "execution_count": null,
   "metadata": {},
   "outputs": [],
   "source": [
    "viral_bc_counts = pd.read_csv(viral_bc_by_cell_corrected_csv)\n",
    "viral_bc_counts = (viral_bc_counts\n",
    "                   .rename(columns={'count': 'viral_bc_UMIs'}))\n",
    "assert set(viral_bc_counts['gene']) == set(barcoded_viral_genes), \\\n",
    "       \"Barcoded genes in barcode counts do not match expectation.\"\n",
    "display(viral_bc_counts)"
   ]
  },
  {
   "cell_type": "markdown",
   "metadata": {},
   "source": [
    "Read the total number of UMIs per cell into a pandas dataframe. Only keep relevant columns."
   ]
  },
  {
   "cell_type": "code",
   "execution_count": null,
   "metadata": {},
   "outputs": [],
   "source": [
    "all_cells = pd.read_csv(viral_tag_by_cell_csv)\n",
    "all_cells = all_cells[['cell_barcode',\n",
    "                       'infected',\n",
    "                       'infecting_viral_tag',\n",
    "                       'total_UMIs',\n",
    "                       'viral_UMIs',\n",
    "                       'cellular_UMIs',\n",
    "                       'frac_viral_UMIs']]\n",
    "display(all_cells)"
   ]
  },
  {
   "cell_type": "markdown",
   "metadata": {},
   "source": [
    "Sanity check that `total_UMIs` is equal to `viral_UMIs + cellular_UMIs`:"
   ]
  },
  {
   "cell_type": "code",
   "execution_count": null,
   "metadata": {},
   "outputs": [],
   "source": [
    "assert bool((all_cells['total_UMIs'] ==\n",
    "             all_cells['viral_UMIs'] +\n",
    "             all_cells['cellular_UMIs'])\n",
    "            .all()), \"UMI counts do not add up\""
   ]
  },
  {
   "cell_type": "markdown",
   "metadata": {},
   "source": [
    "Merge dataframes:"
   ]
  },
  {
   "cell_type": "code",
   "execution_count": null,
   "metadata": {},
   "outputs": [],
   "source": [
    "viral_bc_frac = pd.merge(\n",
    "    left=pd.concat([all_cells.assign(gene=gene)\n",
    "                    for gene in barcoded_viral_genes]),\n",
    "    right=viral_bc_counts,\n",
    "    how='outer',\n",
    "    on=['cell_barcode', 'gene'],\n",
    "    validate='one_to_many')\n",
    "assert (viral_bc_frac['cell_barcode'].unique() ==\n",
    "        all_cells['cell_barcode'].unique()).all(), \\\n",
    "       \"Cell barcodes in merged dataframe don't \" \\\n",
    "       \"match barcodes in source data.\"\n",
    "assert (viral_bc_frac['viral_barcode'].nunique() ==\n",
    "        viral_bc_counts['viral_barcode'].nunique()), \\\n",
    "       \"Number of viral barcodes in merged dataframe don't \" \\\n",
    "       \"match number of barcodes in source data.\"\n",
    "\n",
    "# Make `infecting_viral_tag` column ordered category\n",
    "viral_bc_frac['infecting_viral_tag'] = (viral_bc_frac['infecting_viral_tag']\n",
    "                                        .astype('category')\n",
    "                                        .cat\n",
    "                                        .reorder_categories(['none',\n",
    "                                                             'wt',\n",
    "                                                             'syn',\n",
    "                                                             'both']))\n",
    "\n",
    "display(viral_bc_frac)"
   ]
  },
  {
   "cell_type": "markdown",
   "metadata": {},
   "source": [
    "Calculate **each barcode's** fraction of all UMIs per cell:"
   ]
  },
  {
   "cell_type": "code",
   "execution_count": null,
   "metadata": {},
   "outputs": [],
   "source": [
    "viral_bc_frac = (\n",
    "    viral_bc_frac\n",
    "    .assign(viral_bc_UMIs=lambda x: (x['viral_bc_UMIs']\n",
    "                                     .fillna(0)\n",
    "                                     .astype(int, errors='raise'))))\n",
    "\n",
    "\n",
    "viral_bc_frac['frac_viral_bc_UMIs'] = (\n",
    "    viral_bc_frac['viral_bc_UMIs'] /\n",
    "    viral_bc_frac['total_UMIs'])\n",
    "\n",
    "display(viral_bc_frac)"
   ]
  },
  {
   "cell_type": "markdown",
   "metadata": {},
   "source": [
    "**For each cell, for each gene,** sum the number of viral barcode UMIs."
   ]
  },
  {
   "cell_type": "code",
   "execution_count": null,
   "metadata": {},
   "outputs": [],
   "source": [
    "viral_bc_frac = (\n",
    "    viral_bc_frac\n",
    "    .assign(sum_UMIs_with_viral_bc_for_cell_and_gene=(\n",
    "        lambda x: ((x\n",
    "                    .groupby(['cell_barcode', 'gene'])\n",
    "                    ['viral_bc_UMIs'])\n",
    "                   .transform('sum')))))\n",
    "\n",
    "display(viral_bc_frac)"
   ]
  },
  {
   "cell_type": "markdown",
   "metadata": {},
   "source": [
    "Calculate fraction of all UMIs and fraction of viral UMIs that have barcode for each cell-gene."
   ]
  },
  {
   "cell_type": "code",
   "execution_count": null,
   "metadata": {},
   "outputs": [],
   "source": [
    "viral_bc_frac['frac_total_UMIs_with_viral_bc_for_cell_and_gene'] = (\n",
    "    viral_bc_frac['sum_UMIs_with_viral_bc_for_cell_and_gene'] /\n",
    "    viral_bc_frac['total_UMIs'])\n",
    "viral_bc_frac['frac_viral_UMIs_with_viral_bc_for_cell_and_gene'] = (\n",
    "    viral_bc_frac['sum_UMIs_with_viral_bc_for_cell_and_gene'] /\n",
    "    viral_bc_frac['viral_UMIs'])\n",
    "display(viral_bc_frac.groupby(['cell_barcode', 'gene']).head())"
   ]
  },
  {
   "cell_type": "markdown",
   "metadata": {},
   "source": [
    "## Plots\n",
    "Set base plot style:"
   ]
  },
  {
   "cell_type": "code",
   "execution_count": null,
   "metadata": {},
   "outputs": [],
   "source": [
    "p9.theme_set(p9.theme_classic())"
   ]
  },
  {
   "cell_type": "markdown",
   "metadata": {},
   "source": [
    "### Per cell metrics\n",
    "Summary figures that address number and fraction of barcoded viral UMIs **in aggregate for each cell and gene**.\n",
    "\n",
    "Plot number of UMIs that contain a viral barcode per cell-gene combination and fraction of UMIs that contain a viral barcode per cell-gene combination."
   ]
  },
  {
   "cell_type": "code",
   "execution_count": null,
   "metadata": {},
   "outputs": [],
   "source": [
    "fig = (p9.ggplot((viral_bc_frac\n",
    "                  .drop_duplicates(subset=['cell_barcode', 'gene'])),\n",
    "                 p9.aes(x='sum_UMIs_with_viral_bc_for_cell_and_gene')) +\n",
    "       p9.geom_histogram(bins=20, fill=\"#3a3a3a\") +\n",
    "       p9.facet_grid('~gene') +\n",
    "       p9.ggtitle(f'{expt}') +\n",
    "       p9.labs(x='sum of UMIs with viral bc per cell-gene',) +\n",
    "       p9.scale_y_log10() +\n",
    "       p9.theme(figure_size=(4, 2),\n",
    "                plot_title=p9.element_text(size=9),\n",
    "                axis_title=p9.element_text(size=9),\n",
    "                legend_title=p9.element_text(size=9),\n",
    "                legend_title_align='center'))\n",
    "display(fig)"
   ]
  },
  {
   "cell_type": "code",
   "execution_count": null,
   "metadata": {},
   "outputs": [],
   "source": [
    "fig = (p9.ggplot((viral_bc_frac\n",
    "                  .drop_duplicates(subset=['cell_barcode', 'gene'])),\n",
    "                 p9.aes(x='frac_total_UMIs_with_viral_bc_for_cell_and_gene')) +\n",
    "       p9.geom_histogram(bins=20, fill=\"#3a3a3a\") +\n",
    "       p9.facet_grid('~gene') +\n",
    "       p9.ggtitle(f'{expt}') +\n",
    "       p9.labs(x='fraction of UMIs with viral bc per cell-gene',) +\n",
    "       p9.scale_y_log10() +\n",
    "       p9.theme(figure_size=(4, 2),\n",
    "                plot_title=p9.element_text(size=9),\n",
    "                axis_title=p9.element_text(size=9),\n",
    "                legend_title=p9.element_text(size=9),\n",
    "                legend_title_align='center'))\n",
    "display(fig)"
   ]
  },
  {
   "cell_type": "markdown",
   "metadata": {},
   "source": [
    "Plot fraction of barcoded UMIs per cell-gene as a function of total UMI count:"
   ]
  },
  {
   "cell_type": "code",
   "execution_count": null,
   "metadata": {},
   "outputs": [],
   "source": [
    "fig = (p9.ggplot(viral_bc_frac,\n",
    "                 p9.aes(x='total_UMIs',\n",
    "                        y='frac_total_UMIs_with_viral_bc_for_cell_and_gene')) +\n",
    "       p9.geom_point(alpha=0.01) +\n",
    "       p9.facet_grid('~gene') +\n",
    "       p9.ggtitle(f'{expt}') +\n",
    "       p9.labs(x='total UMIs per cell',\n",
    "               y='fraction of UMIs with viral bc\\nper cell-gene') +\n",
    "       p9.theme(figure_size=(4, 2),\n",
    "                plot_title=p9.element_text(size=9),\n",
    "                axis_title=p9.element_text(size=9),\n",
    "                legend_title=p9.element_text(size=9),\n",
    "                legend_title_align='center'))\n",
    "display(fig)"
   ]
  },
  {
   "cell_type": "markdown",
   "metadata": {},
   "source": [
    "Plot fraction of barcoded UMIs per cell-gene as a function of viral UMI count and viral UMI fraction:"
   ]
  },
  {
   "cell_type": "code",
   "execution_count": null,
   "metadata": {},
   "outputs": [],
   "source": [
    "fig = (p9.ggplot(viral_bc_frac,\n",
    "                 p9.aes(x='viral_UMIs',\n",
    "                        y='frac_total_UMIs_with_viral_bc_for_cell_and_gene')) +\n",
    "       p9.geom_point(alpha=0.01) +\n",
    "       p9.facet_grid('~gene') +\n",
    "       p9.ggtitle(f'{expt}') +\n",
    "       p9.labs(x='viral UMIs per cell',\n",
    "               y='fraction of UMIs with viral bc\\nper cell-gene') +\n",
    "       p9.theme(figure_size=(4, 2),\n",
    "                plot_title=p9.element_text(size=9),\n",
    "                axis_title=p9.element_text(size=9),\n",
    "                legend_title=p9.element_text(size=9),\n",
    "                legend_title_align='center'))\n",
    "display(fig)"
   ]
  },
  {
   "cell_type": "code",
   "execution_count": null,
   "metadata": {},
   "outputs": [],
   "source": [
    "fig = (p9.ggplot(viral_bc_frac,\n",
    "                 p9.aes(x='frac_viral_UMIs',\n",
    "                        y='frac_total_UMIs_with_viral_bc_for_cell_and_gene')) +\n",
    "       p9.geom_point(alpha=0.01) +\n",
    "       p9.facet_grid('~gene') +\n",
    "       p9.ggtitle(f'{expt}') +\n",
    "       p9.labs(x='viral UMI fraction per cell',\n",
    "               y='fraction of UMIs with viral bc\\nper cell-gene') +\n",
    "       p9.theme(figure_size=(4, 2),\n",
    "                plot_title=p9.element_text(size=9),\n",
    "                axis_title=p9.element_text(size=9),\n",
    "                legend_title=p9.element_text(size=9),\n",
    "                legend_title_align='center'))\n",
    "display(fig)"
   ]
  },
  {
   "cell_type": "markdown",
   "metadata": {},
   "source": [
    "Plot relationship between viral UMI fraction and fraction of viral UMIs with barcode:"
   ]
  },
  {
   "cell_type": "code",
   "execution_count": null,
   "metadata": {},
   "outputs": [],
   "source": [
    "fig = (p9.ggplot(viral_bc_frac,\n",
    "                 p9.aes(x='frac_viral_UMIs',\n",
    "                        y='frac_viral_UMIs_with_viral_bc_for_cell_and_gene')) +\n",
    "       p9.geom_point(alpha=0.01) +\n",
    "       p9.facet_grid('~gene') +\n",
    "       p9.ggtitle(f'{expt}') +\n",
    "       p9.labs(x='viral UMI fraction per cell',\n",
    "               y='fraction of viral UMIs\\nwith viral bcper cell-gene') +\n",
    "       p9.theme(figure_size=(4, 2),\n",
    "                plot_title=p9.element_text(size=9),\n",
    "                axis_title=p9.element_text(size=9),\n",
    "                legend_title=p9.element_text(size=9),\n",
    "                legend_title_align='center'))\n",
    "display(fig)"
   ]
  },
  {
   "cell_type": "markdown",
   "metadata": {},
   "source": [
    "### Per barcode metrics\n",
    "Figures that show the outcomes **for each barcode individually.**\n",
    "\n",
    "Plot distribution of each barcode's fraction of a cell's total UMIs."
   ]
  },
  {
   "cell_type": "code",
   "execution_count": null,
   "metadata": {},
   "outputs": [],
   "source": [
    "fig = (p9.ggplot(viral_bc_frac, p9.aes(x='frac_viral_bc_UMIs')) +\n",
    "       p9.geom_histogram(bins=50, fill=\"#3a3a3a\") +\n",
    "       p9.facet_grid('infecting_viral_tag~gene') +\n",
    "       p9.ggtitle('viral barcode distribution\\n'\n",
    "                  f'{expt}') +\n",
    "       p9.labs(x='each viral barcode\\'s fraction of total UMIs',) +\n",
    "       p9.scale_y_log10() +\n",
    "       p9.theme(figure_size=(6, 4),\n",
    "                plot_title=p9.element_text(size=10),\n",
    "                axis_title=p9.element_text(size=10),\n",
    "                legend_title=p9.element_text(size=9),\n",
    "                legend_title_align='center'))\n",
    "display(fig)"
   ]
  },
  {
   "cell_type": "markdown",
   "metadata": {},
   "source": [
    "Plot relationship between viral burden (frac_viral_UMIs) and each viral barcode's fraction of total UMIs:"
   ]
  },
  {
   "cell_type": "code",
   "execution_count": null,
   "metadata": {},
   "outputs": [],
   "source": [
    "fig = (p9.ggplot(viral_bc_frac, p9.aes(x='frac_viral_bc_UMIs',\n",
    "                                       y='frac_viral_UMIs')) +\n",
    "       p9.geom_point(alpha=0.05) +\n",
    "       p9.facet_grid('infecting_viral_tag~gene') +\n",
    "       p9.ggtitle('correlation between viral barcode fraction\\n'\n",
    "                  'and viral burden\\n'\n",
    "                  f'{expt}') +\n",
    "       p9.labs(x='each viral barcode\\'s fraction of total UMIs',\n",
    "               y='viral UMI fraction per cell') +\n",
    "       p9.scale_y_log10() +\n",
    "       p9.scale_x_log10() +\n",
    "       p9.theme(figure_size=(6, 4),\n",
    "                plot_title=p9.element_text(size=10),\n",
    "                axis_title=p9.element_text(size=10),\n",
    "                legend_title=p9.element_text(size=9),\n",
    "                legend_title_align='center'))\n",
    "display(fig)"
   ]
  },
  {
   "cell_type": "markdown",
   "metadata": {},
   "source": [
    "## Statistical Tests\n",
    "I want to perform a statistical test for each barcode to see if I can reject the null hypothesis that it fits the distribution of barcode UMI counts observed in uninfected cells. All barcodes in uninfected cells should be derived from leaked transcripts.\n",
    "\n",
    "The general approach is this:\n",
    "First, extract a mu parameter from distribution of viral barcode fractions in uninfected cells. I will set this arbitrarily at the 95th percentile of the uninfected cell distribution. This will be calculated independently for each barcoded gene.\n",
    "\n",
    "I will use the mu values to build a null distribution of viral barcode counts for each barcoded gene. I will assume that barcode counts in uninfected cells are poisson distributed. Since poisson calculations assume discrete numbers of outcomes, I will work with counts rather than fractions.\n",
    "\n",
    "Then, I will test each viral barcode to see if it falls within the null distribution or not. Barcodes that reject the null hypothesis will be retained. Those that do not reject the null hypothesis will be filtered."
   ]
  },
  {
   "cell_type": "markdown",
   "metadata": {},
   "source": [
    "### Check for sufficient uninfected cells\n",
    "I only want to compare to population of uninfected cells if there are sufficient uninfected cells.\n",
    "\n",
    "For now I will simply hardcode the number at 100."
   ]
  },
  {
   "cell_type": "code",
   "execution_count": null,
   "metadata": {},
   "outputs": [],
   "source": [
    "threshold_uninfected_cells = 100\n",
    "threshold_frac_uninfected_cells = 0.1\n",
    "n_uninfected_cells = (viral_bc_frac\n",
    "                      .query('infecting_viral_tag == \"none\"')\n",
    "                      ['cell_barcode']\n",
    "                      .nunique())\n",
    "frac_uninfected_cells = (n_uninfected_cells /\n",
    "                         (viral_bc_frac\n",
    "                          ['cell_barcode']\n",
    "                          .nunique()))\n",
    "\n",
    "assert n_uninfected_cells > threshold_uninfected_cells, \\\n",
    "    \"Not enough uninfected cells for comparison.\"\n",
    "assert frac_uninfected_cells > threshold_frac_uninfected_cells, \\\n",
    "    \"Fraction of uninfected cells too low for comparison.\"\n",
    "\n",
    "print(f'There are {n_uninfected_cells} uninfected cells. '\n",
    "      f'This is above the threshold of {threshold_uninfected_cells} '\n",
    "      'cells required.')\n",
    "print(f'The fraction of uninfected cells is  {frac_uninfected_cells:.3f}. '\n",
    "      f'This is above the threshold of {threshold_frac_uninfected_cells} '\n",
    "      'cells required.')"
   ]
  },
  {
   "cell_type": "markdown",
   "metadata": {},
   "source": [
    "Calculate cutoff limit percentile for each gene's distribution in uninfected cells and plot. For now hardcoded to 95th percentile:"
   ]
  },
  {
   "cell_type": "code",
   "execution_count": null,
   "metadata": {},
   "outputs": [],
   "source": [
    "limit_percentile = 0.95\n",
    "\n",
    "uninfected_frac_limit = {}\n",
    "for gene in barcoded_viral_genes:\n",
    "    limit = (viral_bc_frac\n",
    "             .query('(infecting_viral_tag == \"none\") '\n",
    "                    f'and (gene == \"{gene}\")')\n",
    "             ['frac_viral_bc_UMIs']\n",
    "             .quantile(limit_percentile))\n",
    "    uninfected_frac_limit[f'{gene}'] = limit\n",
    "    print(f'The limit for a viral barcode on {gene} is {limit:.5f}.')\n",
    "\n",
    "# Convert to DataFrame for plotting\n",
    "uninfected_frac_limit = (pd.DataFrame.from_dict(uninfected_frac_limit,\n",
    "                                                orient='index',\n",
    "                                                columns=['limit'])\n",
    "                         .reset_index()\n",
    "                         .rename(columns={'index': 'gene'}))\n",
    "\n",
    "fig = (p9.ggplot((viral_bc_frac\n",
    "                  .query('infecting_viral_tag == \"none\"')),\n",
    "                 p9.aes(x='frac_viral_bc_UMIs')) +\n",
    "       p9.geom_histogram(bins=60, fill=\"#3a3a3a\") +\n",
    "       p9.geom_vline(uninfected_frac_limit,\n",
    "                     p9.aes(xintercept='limit'),\n",
    "                     linetype='dashed',\n",
    "                     color='#3A3B3C',\n",
    "                     size=0.5) +\n",
    "       p9.facet_grid('infecting_viral_tag~gene') +\n",
    "       p9.ggtitle('viral barcode fraction in uninfected cells\\n'\n",
    "                  f'{expt}') +\n",
    "       p9.labs(x='each viral barcode\\'s fraction of total UMIs',) +\n",
    "       p9.theme(figure_size=(5, 1),\n",
    "                plot_title=p9.element_text(size=10),\n",
    "                axis_title=p9.element_text(size=10),\n",
    "                legend_title=p9.element_text(size=9),\n",
    "                legend_title_align='center'))\n",
    "display(fig)"
   ]
  },
  {
   "cell_type": "markdown",
   "metadata": {},
   "source": [
    "Now calculate the expected number of viral barcode UMIs for each cell-gene using this upper bound limit. For every cell and gene, I will simply multiply the total number of UMIs by this limit value."
   ]
  },
  {
   "cell_type": "code",
   "execution_count": null,
   "metadata": {},
   "outputs": [],
   "source": [
    "viral_bc_frac = pd.merge(left=viral_bc_frac,\n",
    "                         right=uninfected_frac_limit,\n",
    "                         on='gene',\n",
    "                         how='outer',\n",
    "                         validate='many_to_one')\n",
    "\n",
    "viral_bc_frac['expected_limit_viral_bc_UMIs'] = (viral_bc_frac['total_UMIs'] *\n",
    "                                                 viral_bc_frac['limit'])\n",
    "\n",
    "viral_bc_frac"
   ]
  },
  {
   "cell_type": "markdown",
   "metadata": {},
   "source": [
    "Next, I will do the statistical test for each barcode to see if it falls with in the poisson distribution with mu = `expected_limit_viral_bc_UMIs` value.\n",
    "\n",
    "I will account for multiple hypothesis testing by adjust the probability using a false discovery rate specified in the config file."
   ]
  },
  {
   "cell_type": "code",
   "execution_count": null,
   "metadata": {},
   "outputs": [],
   "source": [
    "viral_bc_frac['uninfected_P'] = (\n",
    "    1 - scipy.stats.poisson.cdf(\n",
    "        k=viral_bc_frac['viral_bc_UMIs'],\n",
    "        mu=viral_bc_frac['expected_limit_viral_bc_UMIs']))\n",
    "\n",
    "viral_bc_frac['uninfected_Q'] = (\n",
    "    statsmodels.stats.multitest.fdrcorrection(\n",
    "        pvals=viral_bc_frac['uninfected_P'],\n",
    "        alpha=fdr,\n",
    "        method='indep',\n",
    "        is_sorted=False,\n",
    "        )[1])\n",
    "\n",
    "viral_bc_frac['reject_uninfected'] = (viral_bc_frac['uninfected_Q'] < fdr)\n",
    "\n",
    "display(viral_bc_frac)"
   ]
  },
  {
   "cell_type": "markdown",
   "metadata": {},
   "source": [
    "Plot P values and Q values for each barcode:"
   ]
  },
  {
   "cell_type": "code",
   "execution_count": null,
   "metadata": {},
   "outputs": [],
   "source": [
    "fig = (p9.ggplot(viral_bc_frac) +\n",
    "       p9.geom_histogram(p9.aes(x='uninfected_P'),\n",
    "                         fill=CBPALETTE[0],\n",
    "                         bins=30) +\n",
    "       p9.geom_histogram(p9.aes(x='uninfected_Q'),\n",
    "                         fill=CBPALETTE[1],\n",
    "                         bins=30) +\n",
    "       p9.geom_vline(xintercept=fdr,\n",
    "                     linetype='dashed',\n",
    "                     color='#3A3B3C',\n",
    "                     size=0.5) +\n",
    "       p9.facet_grid('infecting_viral_tag~gene') +\n",
    "       p9.ggtitle('P/Q value that viral barcode falls\\n'\n",
    "                  'within uninfected cell-gene distribution\\n'\n",
    "                  f'{expt}') +\n",
    "       p9.xlab('P/Q value') +\n",
    "       p9.theme(figure_size=(5, 5),\n",
    "                plot_title=p9.element_text(size=11),\n",
    "                axis_title=p9.element_text(size=10),\n",
    "                legend_title=p9.element_text(size=10),\n",
    "                legend_title_align='center'))\n",
    "display(fig)"
   ]
  },
  {
   "cell_type": "markdown",
   "metadata": {},
   "source": [
    "Plot number of viral barcodes where null distribution was rejected:"
   ]
  },
  {
   "cell_type": "code",
   "execution_count": null,
   "metadata": {},
   "outputs": [],
   "source": [
    "fig = (p9.ggplot(viral_bc_frac,\n",
    "                 p9.aes(x='infecting_viral_tag',\n",
    "                        fill='reject_uninfected')) +\n",
    "       p9.geom_bar(stat='count', position='dodge') +\n",
    "       p9.ggtitle('n viral barcodes\\n'\n",
    "                  f'{expt}') +\n",
    "       p9.facet_grid('~gene') +\n",
    "       p9.theme(figure_size=(4, 2),\n",
    "                plot_title=p9.element_text(size=10),\n",
    "                axis_title=p9.element_text(size=10),\n",
    "                legend_title=p9.element_text(size=9),\n",
    "                legend_title_align='center') +\n",
    "       p9.scale_fill_manual(CBPALETTE[0:]))\n",
    "display(fig)"
   ]
  },
  {
   "cell_type": "markdown",
   "metadata": {},
   "source": [
    "## Calculate rate of missed and spurious barcodes\n",
    "Want to know how many cells called as uninfected have >= 1 viral barcodes called as statistically significant.  \n",
    "Likewise, want to know how many cells called as infected have 0 viral barcodes called as statistically significant.\n",
    "\n",
    "I will check whether each cell-gene has any viral barcodes that are called as significant (`reject_uninfected`). This call will be put in a column called `significant_viral_bc_present_in_cell_gene`."
   ]
  },
  {
   "cell_type": "code",
   "execution_count": null,
   "metadata": {},
   "outputs": [],
   "source": [
    "significant_viral_bc_counts = (\n",
    "    viral_bc_frac\n",
    "    .groupby(['cell_barcode',\n",
    "              'infected',\n",
    "              'infecting_viral_tag',\n",
    "              'gene'])\n",
    "    ['reject_uninfected']\n",
    "    .any()\n",
    "    .dropna()\n",
    "    .reset_index()\n",
    "    .rename(columns={\n",
    "        'reject_uninfected': 'significant_viral_bc_present_in_cell_gene'}))\n",
    "\n",
    "# Check that length of significant_viral_bc_counts is 2X length of all cells\n",
    "assert len(significant_viral_bc_counts) == 2 * len(all_cells), \\\n",
    "    \"Number of cells input does not match number of cell-gene \" \\\n",
    "    \"combinations generated\"\n",
    "\n",
    "\n",
    "significant_viral_bc_counts"
   ]
  },
  {
   "cell_type": "code",
   "execution_count": null,
   "metadata": {},
   "outputs": [],
   "source": [
    "output_fig = (p9.ggplot(\n",
    "        significant_viral_bc_counts,\n",
    "        p9.aes(x='infecting_viral_tag',\n",
    "               fill='significant_viral_bc_present_in_cell_gene')) +\n",
    "              p9.geom_bar(stat='count', position='dodge') +\n",
    "              p9.ggtitle('significant viral bc identified in cell-gene\\n'\n",
    "                         f'{expt}') +\n",
    "              p9.ylab('n_cells') +\n",
    "              p9.facet_grid('~gene') +\n",
    "              p9.theme(figure_size=(4, 2),\n",
    "                       plot_title=p9.element_text(size=10),\n",
    "                       axis_title=p9.element_text(size=10),\n",
    "                       legend_title=p9.element_text(size=9),\n",
    "                       legend_title_align='center') +\n",
    "              p9.scale_fill_manual(CBPALETTE[0:]))\n",
    "display(output_fig)"
   ]
  },
  {
   "cell_type": "code",
   "execution_count": null,
   "metadata": {},
   "outputs": [],
   "source": [
    "print(f\"Saving plots to {plot}\")\n",
    "p9.ggsave(plot=output_fig, filename=plot, verbose=False)\n",
    "\n",
    "print(f\"Saving filtered barcodes to {viral_bc_by_cell_filtered_csv}\")\n",
    "\n",
    "# Export all barcodes, and annotate whether uninfected null hypothesis\n",
    "# is rejected. Could imagine filtering on other criteria in future.\n",
    "viral_bc_frac.to_csv(viral_bc_by_cell_filtered_csv,\n",
    "                     columns=['cell_barcode',\n",
    "                              'gene',\n",
    "                              'viral_barcode',\n",
    "                              'frac_viral_bc_UMIs',\n",
    "                              'reject_uninfected'],\n",
    "                     index=False)"
   ]
  }
 ],
 "metadata": {
  "kernelspec": {
   "display_name": "Python 3",
   "language": "python",
   "name": "python3"
  },
  "language_info": {
   "codemirror_mode": {
    "name": "ipython",
    "version": 3
   },
   "file_extension": ".py",
   "mimetype": "text/x-python",
   "name": "python",
   "nbconvert_exporter": "python",
   "pygments_lexer": "ipython3",
   "version": "3.8.6"
  }
 },
 "nbformat": 4,
 "nbformat_minor": 4
}
