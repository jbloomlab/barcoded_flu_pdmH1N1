{
 "cells": [
  {
   "cell_type": "markdown",
   "metadata": {},
   "source": [
    "# Filter viral barcodes in transcripts\n",
    "This notebook filters viral barcodes in 10X transcriptome data to remove UMIs that are likely derived from leaked transcripts."
   ]
  },
  {
   "cell_type": "markdown",
   "metadata": {},
   "source": [
    "## Notebook setup\n",
    "Import python modules:"
   ]
  },
  {
   "cell_type": "code",
   "execution_count": null,
   "metadata": {},
   "outputs": [],
   "source": [
    "from IPython.display import display\n",
    "\n",
    "import pandas as pd\n",
    "\n",
    "import plotnine as p9"
   ]
  },
  {
   "cell_type": "markdown",
   "metadata": {},
   "source": [
    "Get `snakemake` variables [as described here](https://snakemake.readthedocs.io/en/stable/snakefiles/rules.html#jupyter-notebook-integration):"
   ]
  },
  {
   "cell_type": "code",
   "execution_count": null,
   "metadata": {},
   "outputs": [],
   "source": [
    "viral_tag_by_cell_csv = (snakemake\n",
    "                         .input\n",
    "                         .viral_tag_by_cell_csv)\n",
    "viral_bc_by_cell_corrected_csv = (snakemake\n",
    "                                  .input\n",
    "                                  .viral_bc_by_cell_corrected_csv)\n",
    "viral_bc_by_cell_filtered_csv = (snakemake\n",
    "                                 .output\n",
    "                                 .viral_bc_by_cell_filtered_csv)\n",
    "plot = snakemake.output.plot\n",
    "expt = snakemake.wildcards.expt\n",
    "barcoded_viral_genes = snakemake.params.barcoded_viral_genes"
   ]
  },
  {
   "cell_type": "markdown",
   "metadata": {},
   "source": [
    "## Organize data"
   ]
  },
  {
   "cell_type": "markdown",
   "metadata": {},
   "source": [
    "Read the viral barcode UMI counts data into a pandas dataframe:"
   ]
  },
  {
   "cell_type": "code",
   "execution_count": null,
   "metadata": {},
   "outputs": [],
   "source": [
    "viral_bc_counts = pd.read_csv(viral_bc_by_cell_corrected_csv)\n",
    "viral_bc_counts = (viral_bc_counts\n",
    "                   .rename(columns={'count': 'viral_bc_UMIs'}))\n",
    "assert set(viral_bc_counts['gene']) == set(barcoded_viral_genes), \\\n",
    "       \"Barcoded genes in barcode counts do not match expectation.\"\n",
    "display(viral_bc_counts)"
   ]
  },
  {
   "cell_type": "markdown",
   "metadata": {},
   "source": [
    "Read the total number of UMIs per cell into a pandas dataframe. Only keep relevant columns."
   ]
  },
  {
   "cell_type": "code",
   "execution_count": null,
   "metadata": {},
   "outputs": [],
   "source": [
    "all_cells = pd.read_csv(viral_tag_by_cell_csv)\n",
    "all_cells = all_cells[['cell_barcode',\n",
    "                       'infected',\n",
    "                       'infecting_viral_tag',\n",
    "                       'total_UMIs',\n",
    "                       'viral_UMIs',\n",
    "                       'cellular_UMIs',\n",
    "                       'frac_viral_UMIs']]\n",
    "display(all_cells)"
   ]
  },
  {
   "cell_type": "markdown",
   "metadata": {},
   "source": [
    "Sanity check that `total_UMIs` is equal to `viral_UMIs + cellular_UMIs`:"
   ]
  },
  {
   "cell_type": "code",
   "execution_count": null,
   "metadata": {},
   "outputs": [],
   "source": [
    "assert bool((all_cells['total_UMIs'] ==\n",
    "             all_cells['viral_UMIs'] +\n",
    "             all_cells['cellular_UMIs'])\n",
    "            .all()), \"UMI counts do not add up\""
   ]
  },
  {
   "cell_type": "markdown",
   "metadata": {},
   "source": [
    "Merge dataframes:"
   ]
  },
  {
   "cell_type": "code",
   "execution_count": null,
   "metadata": {},
   "outputs": [],
   "source": [
    "viral_bc_frac = pd.merge(\n",
    "    left=pd.concat([all_cells.assign(gene=gene)\n",
    "                    for gene in barcoded_viral_genes]),\n",
    "    right=viral_bc_counts,\n",
    "    how='outer',\n",
    "    on=['cell_barcode', 'gene'],\n",
    "    validate='one_to_many')\n",
    "assert (viral_bc_frac['cell_barcode'].unique() ==\n",
    "        all_cells['cell_barcode'].unique()).all(), \\\n",
    "       \"Cell barcodes in merged dataframe don't \" \\\n",
    "       \"match barcodes in source data.\"\n",
    "assert (viral_bc_frac['viral_barcode'].nunique() ==\n",
    "        viral_bc_counts['viral_barcode'].nunique()), \\\n",
    "       \"Number of viral barcodes in merged dataframe don't \" \\\n",
    "       \"match number of barcodes in source data.\"\n",
    "\n",
    "# Make `infecting_viral_tag` column ordered category\n",
    "viral_bc_frac['infecting_viral_tag'] = (viral_bc_frac['infecting_viral_tag']\n",
    "                                        .astype('category')\n",
    "                                        .cat\n",
    "                                        .reorder_categories(['none',\n",
    "                                                             'wt',\n",
    "                                                             'syn',\n",
    "                                                             'both']))\n",
    "\n",
    "display(viral_bc_frac)"
   ]
  },
  {
   "cell_type": "markdown",
   "metadata": {},
   "source": [
    "Calculate **each barcode's** fraction of all UMIs per cell:"
   ]
  },
  {
   "cell_type": "code",
   "execution_count": null,
   "metadata": {},
   "outputs": [],
   "source": [
    "viral_bc_frac = (\n",
    "    viral_bc_frac\n",
    "    .assign(viral_bc_UMIs=lambda x: (x['viral_bc_UMIs']\n",
    "                                     .fillna(0)\n",
    "                                     .astype(int, errors='raise'))))\n",
    "\n",
    "\n",
    "viral_bc_frac['frac_viral_bc_UMIs'] = (\n",
    "    viral_bc_frac['viral_bc_UMIs'] /\n",
    "    viral_bc_frac['total_UMIs'])\n",
    "\n",
    "display(viral_bc_frac)"
   ]
  },
  {
   "cell_type": "markdown",
   "metadata": {},
   "source": [
    "**For each cell, for each gene,** sum the number of viral barcode UMIs."
   ]
  },
  {
   "cell_type": "code",
   "execution_count": null,
   "metadata": {},
   "outputs": [],
   "source": [
    "viral_bc_frac = (\n",
    "    viral_bc_frac\n",
    "    .assign(sum_UMIs_with_viral_bc_for_cell_and_gene=(\n",
    "        lambda x: ((x\n",
    "                    .groupby(['cell_barcode', 'gene'])\n",
    "                    ['viral_bc_UMIs'])\n",
    "                   .transform('sum')))))\n",
    "\n",
    "display(viral_bc_frac)"
   ]
  },
  {
   "cell_type": "markdown",
   "metadata": {},
   "source": [
    "Calculate fraction of all UMIs and fraction of viral UMIs that have barcode for each cell-gene."
   ]
  },
  {
   "cell_type": "code",
   "execution_count": null,
   "metadata": {},
   "outputs": [],
   "source": [
    "viral_bc_frac['frac_total_UMIs_with_viral_bc_for_cell_and_gene'] = (\n",
    "    viral_bc_frac['sum_UMIs_with_viral_bc_for_cell_and_gene'] /\n",
    "    viral_bc_frac['total_UMIs'])\n",
    "viral_bc_frac['frac_viral_UMIs_with_viral_bc_for_cell_and_gene'] = (\n",
    "    viral_bc_frac['sum_UMIs_with_viral_bc_for_cell_and_gene'] /\n",
    "    viral_bc_frac['viral_UMIs'])\n",
    "display(viral_bc_frac.groupby(['cell_barcode', 'gene']).head())"
   ]
  },
  {
   "cell_type": "markdown",
   "metadata": {},
   "source": [
    "## Plots\n",
    "Set base plot style:"
   ]
  },
  {
   "cell_type": "code",
   "execution_count": null,
   "metadata": {},
   "outputs": [],
   "source": [
    "p9.theme_set(p9.theme_classic())"
   ]
  },
  {
   "cell_type": "markdown",
   "metadata": {},
   "source": [
    "### Per cell metrics\n",
    "Summary figures that address number and fraction of barcoded viral UMIs **in aggregate for each cell and gene**.\n",
    "\n",
    "Plot number of UMIs that contain a viral barcode per cell-gene combination and fraction of UMIs that contain a viral barcode per cell-gene combination."
   ]
  },
  {
   "cell_type": "code",
   "execution_count": null,
   "metadata": {},
   "outputs": [],
   "source": [
    "fig = (p9.ggplot((viral_bc_frac\n",
    "                  .drop_duplicates(subset=['cell_barcode', 'gene'])),\n",
    "                 p9.aes(x='sum_UMIs_with_viral_bc_for_cell_and_gene')) +\n",
    "       p9.geom_histogram(bins=20, fill=\"#3a3a3a\") +\n",
    "       p9.facet_grid('~gene') +\n",
    "       p9.ggtitle(f'{expt}') +\n",
    "       p9.labs(x='sum of UMIs with viral bc per cell-gene',) +\n",
    "       p9.scale_y_log10() +\n",
    "       p9.theme(figure_size=(4, 2),\n",
    "                plot_title=p9.element_text(size=9),\n",
    "                axis_title=p9.element_text(size=9),\n",
    "                legend_title=p9.element_text(size=9),\n",
    "                legend_title_align='center'))\n",
    "display(fig)"
   ]
  },
  {
   "cell_type": "code",
   "execution_count": null,
   "metadata": {},
   "outputs": [],
   "source": [
    "fig = (p9.ggplot((viral_bc_frac\n",
    "                  .drop_duplicates(subset=['cell_barcode', 'gene'])),\n",
    "                 p9.aes(x='frac_total_UMIs_with_viral_bc_for_cell_and_gene')) +\n",
    "       p9.geom_histogram(bins=20, fill=\"#3a3a3a\") +\n",
    "       p9.facet_grid('~gene') +\n",
    "       p9.ggtitle(f'{expt}') +\n",
    "       p9.labs(x='fraction of UMIs with viral bc per cell-gene',) +\n",
    "       p9.scale_y_log10() +\n",
    "       p9.theme(figure_size=(4, 2),\n",
    "                plot_title=p9.element_text(size=9),\n",
    "                axis_title=p9.element_text(size=9),\n",
    "                legend_title=p9.element_text(size=9),\n",
    "                legend_title_align='center'))\n",
    "display(fig)"
   ]
  },
  {
   "cell_type": "markdown",
   "metadata": {},
   "source": [
    "Plot fraction of barcoded UMIs per cell-gene as a function of total UMI count:"
   ]
  },
  {
   "cell_type": "code",
   "execution_count": null,
   "metadata": {},
   "outputs": [],
   "source": [
    "fig = (p9.ggplot(viral_bc_frac,\n",
    "                 p9.aes(x='total_UMIs',\n",
    "                        y='frac_total_UMIs_with_viral_bc_for_cell_and_gene')) +\n",
    "       p9.geom_point(alpha=0.01) +\n",
    "       p9.facet_grid('~gene') +\n",
    "       p9.ggtitle(f'{expt}') +\n",
    "       p9.labs(x='total UMIs per cell',\n",
    "               y='fraction of UMIs with viral bc\\nper cell-gene') +\n",
    "       p9.theme(figure_size=(4, 2),\n",
    "                plot_title=p9.element_text(size=9),\n",
    "                axis_title=p9.element_text(size=9),\n",
    "                legend_title=p9.element_text(size=9),\n",
    "                legend_title_align='center'))\n",
    "display(fig)"
   ]
  },
  {
   "cell_type": "markdown",
   "metadata": {},
   "source": [
    "Plot fraction of barcoded UMIs per cell-gene as a function of viral UMI count and viral UMI fraction:"
   ]
  },
  {
   "cell_type": "code",
   "execution_count": null,
   "metadata": {},
   "outputs": [],
   "source": [
    "fig = (p9.ggplot(viral_bc_frac,\n",
    "                 p9.aes(x='viral_UMIs',\n",
    "                        y='frac_total_UMIs_with_viral_bc_for_cell_and_gene')) +\n",
    "       p9.geom_point(alpha=0.01) +\n",
    "       p9.facet_grid('~gene') +\n",
    "       p9.ggtitle(f'{expt}') +\n",
    "       p9.labs(x='viral UMIs per cell',\n",
    "               y='fraction of UMIs with viral bc\\nper cell-gene') +\n",
    "       p9.theme(figure_size=(4, 2),\n",
    "                plot_title=p9.element_text(size=9),\n",
    "                axis_title=p9.element_text(size=9),\n",
    "                legend_title=p9.element_text(size=9),\n",
    "                legend_title_align='center'))\n",
    "display(fig)"
   ]
  },
  {
   "cell_type": "code",
   "execution_count": null,
   "metadata": {},
   "outputs": [],
   "source": [
    "fig = (p9.ggplot(viral_bc_frac,\n",
    "                 p9.aes(x='frac_viral_UMIs',\n",
    "                        y='frac_total_UMIs_with_viral_bc_for_cell_and_gene')) +\n",
    "       p9.geom_point(alpha=0.01) +\n",
    "       p9.facet_grid('~gene') +\n",
    "       p9.ggtitle(f'{expt}') +\n",
    "       p9.labs(x='viral UMI fraction per cell',\n",
    "               y='fraction of UMIs with viral bc\\nper cell-gene') +\n",
    "       p9.theme(figure_size=(4, 2),\n",
    "                plot_title=p9.element_text(size=9),\n",
    "                axis_title=p9.element_text(size=9),\n",
    "                legend_title=p9.element_text(size=9),\n",
    "                legend_title_align='center'))\n",
    "display(fig)"
   ]
  },
  {
   "cell_type": "markdown",
   "metadata": {},
   "source": [
    "Plot relationship between viral UMI fraction and fraction of viral UMIs with barcode:"
   ]
  },
  {
   "cell_type": "code",
   "execution_count": null,
   "metadata": {},
   "outputs": [],
   "source": [
    "fig = (p9.ggplot(viral_bc_frac,\n",
    "                 p9.aes(x='frac_viral_UMIs',\n",
    "                        y='frac_viral_UMIs_with_viral_bc_for_cell_and_gene')) +\n",
    "       p9.geom_point(alpha=0.01) +\n",
    "       p9.facet_grid('~gene') +\n",
    "       p9.ggtitle(f'{expt}') +\n",
    "       p9.labs(x='viral UMI fraction per cell',\n",
    "               y='fraction of viral UMIs\\nwith viral bcper cell-gene') +\n",
    "       p9.theme(figure_size=(4, 2),\n",
    "                plot_title=p9.element_text(size=9),\n",
    "                axis_title=p9.element_text(size=9),\n",
    "                legend_title=p9.element_text(size=9),\n",
    "                legend_title_align='center'))\n",
    "display(fig)"
   ]
  },
  {
   "cell_type": "markdown",
   "metadata": {},
   "source": [
    "### Per barcode metrics\n",
    "Figures that show the outcomes **for each barcode individually.**\n",
    "\n",
    "Plot distribution of each barcode's fraction of a cell's total UMIs."
   ]
  },
  {
   "cell_type": "code",
   "execution_count": null,
   "metadata": {},
   "outputs": [],
   "source": [
    "fig = (p9.ggplot(viral_bc_frac, p9.aes(x='frac_viral_bc_UMIs')) +\n",
    "       p9.geom_histogram(bins=50, fill=\"#3a3a3a\") +\n",
    "       p9.facet_grid('infecting_viral_tag~gene') +\n",
    "       p9.ggtitle('viral barcode distribution\\n'\n",
    "                  f'{expt}') +\n",
    "       p9.labs(x='each viral barcode\\'s fraction of total UMIs',) +\n",
    "       p9.scale_y_log10() +\n",
    "       p9.theme(figure_size=(6, 4),\n",
    "                plot_title=p9.element_text(size=10),\n",
    "                axis_title=p9.element_text(size=10),\n",
    "                legend_title=p9.element_text(size=9),\n",
    "                legend_title_align='center'))\n",
    "display(fig)"
   ]
  },
  {
   "cell_type": "markdown",
   "metadata": {},
   "source": [
    "Plot relationship between viral burden (frac_viral_UMIs) and each viral barcode's fraction of total UMIs:"
   ]
  },
  {
   "cell_type": "code",
   "execution_count": null,
   "metadata": {},
   "outputs": [],
   "source": [
    "fig = (p9.ggplot(viral_bc_frac, p9.aes(x='frac_viral_bc_UMIs',\n",
    "                                       y='frac_viral_UMIs')) +\n",
    "       p9.geom_point(alpha=0.05) +\n",
    "       p9.facet_grid('infecting_viral_tag~gene') +\n",
    "       p9.ggtitle('correlation between viral barcode fraction\\n'\n",
    "                  'and viral burden\\n'\n",
    "                  f'{expt}') +\n",
    "       p9.labs(x='each viral barcode\\'s fraction of total UMIs',\n",
    "               y='viral UMI fraction per cell') +\n",
    "       p9.scale_y_log10() +\n",
    "       p9.scale_x_log10() +\n",
    "       p9.theme(figure_size=(6, 4),\n",
    "                plot_title=p9.element_text(size=10),\n",
    "                axis_title=p9.element_text(size=10),\n",
    "                legend_title=p9.element_text(size=9),\n",
    "                legend_title_align='center'))\n",
    "display(fig)"
   ]
  },
  {
   "cell_type": "code",
   "execution_count": null,
   "metadata": {},
   "outputs": [],
   "source": [
    "#  Temporary cell to create files expected by snakemake.\n",
    "#  Not final version\n",
    "\n",
    "print(f\"Saving plots to {plot}\")\n",
    "p9.ggsave(plot=fig, filename=plot, verbose=False)\n",
    "\n",
    "print(f\"Saving filtered barcodes to {viral_bc_by_cell_filtered_csv}\")\n",
    "\n",
    "viral_bc_frac.to_csv(viral_bc_by_cell_filtered_csv,\n",
    "                     columns=['cell_barcode',\n",
    "                              'gene',\n",
    "                              'frac_viral_bc_UMIs'],\n",
    "                     index=False)"
   ]
  },
  {
   "cell_type": "code",
   "execution_count": null,
   "metadata": {},
   "outputs": [],
   "source": []
  }
 ],
 "metadata": {
  "kernelspec": {
   "display_name": "Python 3",
   "language": "python",
   "name": "python3"
  },
  "language_info": {
   "codemirror_mode": {
    "name": "ipython",
    "version": 3
   },
   "file_extension": ".py",
   "mimetype": "text/x-python",
   "name": "python",
   "nbconvert_exporter": "python",
   "pygments_lexer": "ipython3",
   "version": "3.8.6"
  }
 },
 "nbformat": 4,
 "nbformat_minor": 4
}
