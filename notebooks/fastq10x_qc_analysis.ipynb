{
 "cells": [
  {
   "cell_type": "markdown",
   "metadata": {},
   "source": [
    "# Quality control analysis of the 10X FASTQ files\n",
    "This Python Jupyter notebook performs quality control analysis on the FASTQ files created by [cellranger mkfastq](https://support.10xgenomics.com/single-cell-gene-expression/software/pipelines/latest/using/mkfastq)."
   ]
  },
  {
   "cell_type": "markdown",
   "metadata": {},
   "source": [
    "## Parameters for notebook\n",
    "First, set the parameters for the notebook.\n",
    "That should be done in the next cell, which is tagged as a `parameters` cell to enable [papermill parameterization](https://papermill.readthedocs.io/en/latest/usage-parameterize.html):"
   ]
  },
  {
   "cell_type": "code",
   "execution_count": null,
   "metadata": {
    "tags": [
     "parameters"
    ]
   },
   "outputs": [],
   "source": [
    "# parameters cell; in order for notebook to run this cell must define:\n",
    "#  - illumina_runs_10x: list of names of Illumina 10X runs\n",
    "#  - input_qc_stats: list of `cellranger mkfastq` QC stats for Illumina 10X runs"
   ]
  },
  {
   "cell_type": "markdown",
   "metadata": {},
   "source": [
    "## Import Python modules\n",
    "We use [plotnine](https://plotnine.readthedocs.io/) for ggplot2-style plotting:"
   ]
  },
  {
   "cell_type": "code",
   "execution_count": null,
   "metadata": {},
   "outputs": [],
   "source": [
    "import mizani\n",
    "from IPython.display import display, HTML\n",
    "import pandas as pd\n",
    "from plotnine import *"
   ]
  },
  {
   "cell_type": "markdown",
   "metadata": {},
   "source": [
    "Set [plotnine theme](https://plotnine.readthedocs.io/en/stable/api.html#themes):"
   ]
  },
  {
   "cell_type": "code",
   "execution_count": null,
   "metadata": {},
   "outputs": [],
   "source": [
    "_ = theme_set(theme_classic)"
   ]
  },
  {
   "cell_type": "markdown",
   "metadata": {},
   "source": [
    "## Read and aggregate stats\n",
    "Read the QC stats for each Illumina run:"
   ]
  },
  {
   "cell_type": "code",
   "execution_count": null,
   "metadata": {},
   "outputs": [],
   "source": [
    "print('Reading 10X FASTQ QC stats from:\\n\\t' +\n",
    "              '\\n\\t'.join(input_qc_stats))\n",
    "stats = pd.concat([(pd.read_csv(statfile,\n",
    "                                names=['statistic', 'value'])\n",
    "                    .assign(run10x=run10x)\n",
    "                    )\n",
    "                   for statfile, run10x in zip(input_qc_stats,\n",
    "                                               illumina_runs_10x)\n",
    "                   ])\n",
    "\n",
    "display(HTML(\n",
    "    stats\n",
    "    .pivot_table(index='statistic', values='value', columns='run10x')\n",
    "    .to_html()\n",
    "    ))"
   ]
  },
  {
   "cell_type": "markdown",
   "metadata": {},
   "source": [
    "## Plot the QC stats"
   ]
  },
  {
   "cell_type": "code",
   "execution_count": null,
   "metadata": {},
   "outputs": [],
   "source": [
    "p = (ggplot(stats, aes('run10x', 'value')) +\n",
    "     geom_point(size=2) +\n",
    "     facet_wrap('~ statistic', ncol=4, scales='free_y') +\n",
    "     theme(axis_text_x=element_text(angle=90),\n",
    "           figure_size=(12, 4), panel_spacing_x=0.6) +\n",
    "           expand_limits(y=(0, 1)) +\n",
    "     scale_y_continuous(labels=mizani.formatters.custom_format('{:.2g}'))\n",
    "     )\n",
    "_ = p.draw()"
   ]
  },
  {
   "cell_type": "code",
   "execution_count": null,
   "metadata": {},
   "outputs": [],
   "source": []
  }
 ],
 "metadata": {
  "kernelspec": {
   "display_name": "Python 3",
   "language": "python",
   "name": "python3"
  },
  "language_info": {
   "codemirror_mode": {
    "name": "ipython",
    "version": 3
   },
   "file_extension": ".py",
   "mimetype": "text/x-python",
   "name": "python",
   "nbconvert_exporter": "python",
   "pygments_lexer": "ipython3",
   "version": "3.6.7"
  }
 },
 "nbformat": 4,
 "nbformat_minor": 4
}
