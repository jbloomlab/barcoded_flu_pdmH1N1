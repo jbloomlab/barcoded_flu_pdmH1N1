{
 "cells": [
  {
   "cell_type": "markdown",
   "metadata": {},
   "source": [
    "# Summarize 10X `STARsolo` alignments\n",
    "This Python Jupyter notebook summarizes the results of the `STARsolo` alignments.\n",
    "It does this by aggregating the statistics for all samples and then making some summary plots."
   ]
  },
  {
   "cell_type": "markdown",
   "metadata": {},
   "source": [
    "## Parameters for notebook\n",
    "First, set the parameters for the notebook.\n",
    "That should be done in the next cell, which is tagged as a `parameters` cell to enable [papermill parameterization](https://papermill.readthedocs.io/en/latest/usage-parameterize.html):"
   ]
  },
  {
   "cell_type": "code",
   "execution_count": null,
   "metadata": {
    "tags": [
     "parameters"
    ]
   },
   "outputs": [],
   "source": [
    "# parameters cell; in order for notebook to run this cell must define:\n",
    "#  - samples_10x: list of samples that were processed with `STARsolo`\n",
    "#  - input_summary: list of `STARsolo` summary CSV files for each sample\n",
    "#  - input_umi_per_cell: list of `STARsolo` UMI counts per cell for each sample"
   ]
  },
  {
   "cell_type": "markdown",
   "metadata": {},
   "source": [
    "## Import Python modules\n",
    "We use [plotnine](https://plotnine.readthedocs.io/) for ggplot2-style plotting:"
   ]
  },
  {
   "cell_type": "code",
   "execution_count": null,
   "metadata": {},
   "outputs": [],
   "source": [
    "from IPython.display import display, HTML\n",
    "import pandas as pd\n",
    "from plotnine import *"
   ]
  },
  {
   "cell_type": "markdown",
   "metadata": {},
   "source": [
    "Set [plotnine theme](https://plotnine.readthedocs.io/en/stable/api.html#themes):"
   ]
  },
  {
   "cell_type": "code",
   "execution_count": null,
   "metadata": {},
   "outputs": [],
   "source": [
    "_ = theme_set(theme_classic)"
   ]
  },
  {
   "cell_type": "markdown",
   "metadata": {},
   "source": [
    "## Aggregate `STARsolo` stats\n",
    "Read in the `STARsolo` stats for each sample:"
   ]
  },
  {
   "cell_type": "code",
   "execution_count": null,
   "metadata": {},
   "outputs": [],
   "source": [
    "print('Reading STARsolo stats from:\\n\\t' + '\\n\\t'.join(input_summary))\n",
    "stats = pd.concat([(pd.read_csv(f, names=['statistic', 'value'])\n",
    "                    .assign(sample=sample)\n",
    "                    )\n",
    "                   for f, sample in zip(input_summary, samples_10x)\n",
    "                   ])\n",
    "\n",
    "display(HTML(stats\n",
    "             .pivot_table(index='statistic', values='value', columns='sample')\n",
    "             .to_html()\n",
    "             ))"
   ]
  },
  {
   "cell_type": "markdown",
   "metadata": {},
   "source": [
    "## Plot cells per sample\n",
    "The number of cell barcodes called as cells for each sample:"
   ]
  },
  {
   "cell_type": "code",
   "execution_count": null,
   "metadata": {},
   "outputs": [],
   "source": [
    "# get cells per sample\n",
    "cells_per_sample = (\n",
    "    stats\n",
    "    .query('statistic == \"Estimated Number of Cells\"')\n",
    "    .rename(columns={'value': 'cells'})\n",
    "    [['sample', 'cells']]\n",
    "    .assign(cells=lambda x: x['cells'].astype(int),\n",
    "            name=lambda x: x['sample'] + ' (' + x['cells'].astype(str) + ' cells)')\n",
    "    )\n",
    "\n",
    "p = (ggplot(cells_per_sample, aes('sample', 'cells')) +\n",
    "     geom_bar(stat='identity') +\n",
    "     geom_text(aes(label='cells'), va='bottom') +\n",
    "     scale_y_continuous(limits=(0, 1.07 * cells_per_sample['cells'].max())) +\n",
    "     theme(figure_size=(0.4 * (1 + len(cells_per_sample)), 2.5),\n",
    "           axis_text_x=element_text(angle=90))\n",
    "     )\n",
    "_ = p.draw()"
   ]
  },
  {
   "cell_type": "markdown",
   "metadata": {},
   "source": [
    "## Knee plot of calling valid cells\n",
    "Make [knee plot](https://liorpachter.wordpress.com/tag/knee-plot) showing how the number of cells was called from the number of UMIs per cell barcode; this is supposed to distinguish true cells from empty droplets:"
   ]
  },
  {
   "cell_type": "code",
   "execution_count": null,
   "metadata": {},
   "outputs": [],
   "source": [
    "print('Reading UMIs per cell barcode from:\\n\\t' +\n",
    "      '\\n\\t'.join(input_umi_per_cell))\n",
    "umis = pd.concat([(pd.read_csv(f, names=['number of UMIs'])\n",
    "                   .assign(cell_barcode_rank=lambda x: x.index + 1,\n",
    "                           sample=sample)\n",
    "                   )\n",
    "                  for f, sample in zip(input_umi_per_cell, samples_10x)\n",
    "                  ])\n",
    "\n",
    "# annotate cell barcodes by whether they are cells, and add sample name with n cells\n",
    "umis = (umis\n",
    "        .merge(cells_per_sample)\n",
    "        .assign(is_cell=lambda x: x['cell_barcode_rank'] <= x['cells'])\n",
    "        )\n",
    "\n",
    "p = (ggplot(umis, aes('cell_barcode_rank', 'number of UMIs',\n",
    "                      color='is_cell')) +\n",
    "     geom_path() +\n",
    "     facet_wrap('~ name', nrow=1) +\n",
    "     theme(figure_size=(3 * umis['name'].nunique(), 2.5)) +\n",
    "     scale_x_log10() +\n",
    "     scale_y_log10() +\n",
    "     geom_vline(aes(xintercept='cells'), data=cells_per_sample,\n",
    "                linetype='dashed', color='#56B4E9') +\n",
    "     scale_color_manual(values=['#000000', '#E69F00'])\n",
    "     )\n",
    "_ = p.draw()"
   ]
  },
  {
   "cell_type": "markdown",
   "metadata": {},
   "source": [
    "## Plot average genes, reads, UMIs per cell\n",
    "Plot the average number of genes, reads, and UMIs per call among the called cells:"
   ]
  },
  {
   "cell_type": "code",
   "execution_count": null,
   "metadata": {},
   "outputs": [],
   "source": [
    "p = (ggplot(stats.loc[stats['statistic'].str.contains('per Cell')],\n",
    "            aes('statistic', 'value')) +\n",
    "     geom_bar(stat='identity') +\n",
    "     facet_wrap('~ sample', nrow=1) +\n",
    "     ylab('count per cell') +\n",
    "     theme(figure_size=(2.5 * stats['sample'].nunique(), 2),\n",
    "           axis_text_x=element_text(angle=90))\n",
    "     )\n",
    "_ = p.draw()"
   ]
  },
  {
   "cell_type": "markdown",
   "metadata": {},
   "source": [
    "## Plot mapping rates\n",
    "Plot the read mapping rates."
   ]
  },
  {
   "cell_type": "code",
   "execution_count": null,
   "metadata": {},
   "outputs": [],
   "source": [
    "p = (ggplot(stats.loc[stats['statistic'].str.contains('Reads Mapped to|Reads With Valid')],\n",
    "            aes('statistic', 'value')) +\n",
    "     geom_bar(stat='identity') +\n",
    "     facet_wrap('~ sample', nrow=1) +\n",
    "     ylab('fraction of reads') +\n",
    "     theme(figure_size=(2 * stats['sample'].nunique(), 2),\n",
    "           axis_text_x=element_text(angle=90)) +\n",
    "     expand_limits(y=(0, 1))\n",
    "     )\n",
    "_ = p.draw()"
   ]
  }
 ],
 "metadata": {
  "kernelspec": {
   "display_name": "Python 3",
   "language": "python",
   "name": "python3"
  },
  "language_info": {
   "codemirror_mode": {
    "name": "ipython",
    "version": 3
   },
   "file_extension": ".py",
   "mimetype": "text/x-python",
   "name": "python",
   "nbconvert_exporter": "python",
   "pygments_lexer": "ipython3",
   "version": "3.6.7"
  }
 },
 "nbformat": 4,
 "nbformat_minor": 4
}
