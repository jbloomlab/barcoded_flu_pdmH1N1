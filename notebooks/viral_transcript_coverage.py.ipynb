{
 "cells": [
  {
   "cell_type": "markdown",
   "metadata": {
    "tags": []
   },
   "source": [
    "# Coverage of viral genes 10x transcriptomic reads\n",
    "This Python Jupyter notebook examines where the aligned 10x transcriptomics reads fall on the viral genes (coverage), including with respect to viral barcodes and viral tags.\n",
    "\n",
    "Import Python modules:"
   ]
  },
  {
   "cell_type": "code",
   "execution_count": null,
   "metadata": {
    "tags": []
   },
   "outputs": [],
   "source": [
    "import collections\n",
    "\n",
    "import Bio.SeqIO\n",
    "\n",
    "from IPython.display import display, HTML\n",
    "\n",
    "import pandas as pd\n",
    "\n",
    "from pymodules.plot_viral_genes import plot_genes_and_coverage\n",
    "\n",
    "import pysam"
   ]
  },
  {
   "cell_type": "markdown",
   "metadata": {},
   "source": [
    "Get `snakemake` variables [as described here](https://snakemake.readthedocs.io/en/stable/snakefiles/rules.html#jupyter-notebook-integration):"
   ]
  },
  {
   "cell_type": "code",
   "execution_count": null,
   "metadata": {},
   "outputs": [],
   "source": [
    "bam = snakemake.input.bam\n",
    "bai = snakemake.input.bai\n",
    "viral_genbank = snakemake.input.viral_genbank\n",
    "plot = snakemake.output.plot\n",
    "expt = snakemake.wildcards.expt"
   ]
  },
  {
   "cell_type": "markdown",
   "metadata": {
    "tags": []
   },
   "source": [
    "Get the viral gene names:"
   ]
  },
  {
   "cell_type": "code",
   "execution_count": null,
   "metadata": {
    "tags": []
   },
   "outputs": [],
   "source": [
    "print(f\"Reading viral genes from {viral_genbank}\")\n",
    "viral_genes = list(Bio.SeqIO.parse(viral_genbank, 'genbank'))\n",
    "viral_gene_names = [s.id for s in viral_genes]\n",
    "print(f\"There are {len(viral_genes)} viral genes:\\n\\t\" +\n",
    "      '\\n\\t'.join(viral_gene_names))\n",
    "assert len(viral_gene_names) == len(set(viral_gene_names)), 'viral gene names not unique'"
   ]
  },
  {
   "cell_type": "markdown",
   "metadata": {
    "tags": []
   },
   "source": [
    "Now get alignment statistics for each gene.\n",
    "Specifically, use [pysam](https://pysam.readthedocs.io/) to get a data frame giving the coverage at each site for each viral gene."
   ]
  },
  {
   "cell_type": "code",
   "execution_count": null,
   "metadata": {
    "tags": []
   },
   "outputs": [],
   "source": [
    "coverage_list = []\n",
    "\n",
    "for gene, gene_name in zip(viral_genes, viral_gene_names):\n",
    "    assert gene.id == gene_name\n",
    "    print(f\"Getting statistics for {gene_name} from {bam}\")\n",
    "    \n",
    "    with pysam.AlignmentFile(bam, mode='rb', index_filename=bai) as bamfile:\n",
    "        if len(gene) != bamfile.get_reference_length(gene_name):\n",
    "            raise ValueError(f\"length of {gene_name} not as expected in {bam}\")\n",
    "            \n",
    "        coverage_list.append(\n",
    "                pd.DataFrame(dict(zip('ACGT',\n",
    "                                      bamfile.count_coverage(contig=gene_name))))\n",
    "                .assign(coverage=lambda x: x.sum(axis=1),\n",
    "                        site=lambda x: x.index + 1,\n",
    "                        gene=gene_name)\n",
    "                )\n",
    "        \n",
    "coverage_df = (pd.concat(coverage_list, sort=False, ignore_index=True)\n",
    "               .assign(gene=lambda x: pd.Categorical(x['gene'],\n",
    "                                                     viral_gene_names,\n",
    "                                                     ordered=True))\n",
    "               )\n",
    "print('\\nFirst few lines of `coverage_df`:')\n",
    "display(HTML(coverage_df.head().to_html(index=False)))"
   ]
  },
  {
   "cell_type": "markdown",
   "metadata": {
    "tags": []
   },
   "source": [
    "Sanity check to make sure we got the right number of sites for each gene in `coverage_df`:"
   ]
  },
  {
   "cell_type": "code",
   "execution_count": null,
   "metadata": {
    "tags": []
   },
   "outputs": [],
   "source": [
    "for gene in viral_genes:\n",
    "    gene_name = gene.id\n",
    "    length = len(coverage_df\n",
    "                 .query('gene == @gene_name')\n",
    "                 )\n",
    "    if length != len(gene):\n",
    "        raise ValueError(f\"coverage not for expected number sites for {gene_name}\")"
   ]
  },
  {
   "cell_type": "markdown",
   "metadata": {
    "tags": []
   },
   "source": [
    "Now plot coverage per site alongside gene structure.\n",
    "In this plot, we indicate the viral tags (blue) and viral barcodes (orange).\n",
    "We also indicate mutations that are observed at each position with colors: for instance, an enrichment of `A` mutations before a peak could indicate premature polyadenylation or oligo-dT mis-priming:"
   ]
  },
  {
   "cell_type": "code",
   "execution_count": null,
   "metadata": {},
   "outputs": [],
   "source": [
    "fig, _ = plot_genes_and_coverage(viral_genes,\n",
    "                                 coverage_df.assign(sample=expt),\n",
    "                                 color_mutations=True,\n",
    "                                 figtitle=f\"coverage of viral genes in 10x transcriptomics for {expt}\")\n",
    "\n",
    "print(f\"Saving figure to {plot}\")\n",
    "fig.savefig(plot)"
   ]
  }
 ],
 "metadata": {
  "kernelspec": {
   "display_name": "Python 3",
   "language": "python",
   "name": "python3"
  },
  "language_info": {
   "codemirror_mode": {
    "name": "ipython",
    "version": 3
   },
   "file_extension": ".py",
   "mimetype": "text/x-python",
   "name": "python",
   "nbconvert_exporter": "python",
   "pygments_lexer": "ipython3",
   "version": "3.8.6"
  },
  "nbformat": 4,
  "nbformat_minor": 4
 },
 "nbformat": 4,
 "nbformat_minor": 4
}
