{
 "cells": [
  {
   "cell_type": "markdown",
   "metadata": {},
   "source": [
    "# Call pacbio consensus UMI sequences"
   ]
  },
  {
   "cell_type": "markdown",
   "metadata": {},
   "source": [
    "This notebook creates a consensus sequences for indivirual UMIs and exports a table with consensus mutations in each UMI."
   ]
  },
  {
   "cell_type": "code",
   "execution_count": null,
   "metadata": {
    "execution": {
     "iopub.execute_input": "2021-08-28T08:42:41.126096Z",
     "iopub.status.busy": "2021-08-28T08:42:41.125090Z",
     "iopub.status.idle": "2021-08-28T08:42:45.087421Z",
     "shell.execute_reply": "2021-08-28T08:42:45.088277Z"
    }
   },
   "outputs": [],
   "source": [
    "from Bio.Seq import Seq\n",
    "\n",
    "import alignparse.ccs\n",
    "import alignparse.consensus\n",
    "import alignparse.utils\n",
    "\n",
    "import numpy as np\n",
    "\n",
    "import pandas as pd\n",
    "\n",
    "import plotnine as p9"
   ]
  },
  {
   "cell_type": "code",
   "execution_count": null,
   "metadata": {
    "execution": {
     "iopub.execute_input": "2021-08-28T08:42:45.092332Z",
     "iopub.status.busy": "2021-08-28T08:42:45.091167Z",
     "iopub.status.idle": "2021-08-28T08:42:45.095902Z",
     "shell.execute_reply": "2021-08-28T08:42:45.096513Z"
    }
   },
   "outputs": [],
   "source": [
    "mutation_df = snakemake.input.mutation_df\n",
    "cell_df = snakemake.input.cell_df\n",
    "consensus_UMI_mutations = snakemake.output.consensus_UMI_mutations"
   ]
  },
  {
   "cell_type": "code",
   "execution_count": null,
   "metadata": {
    "execution": {
     "iopub.execute_input": "2021-08-28T08:42:45.099155Z",
     "iopub.status.busy": "2021-08-28T08:42:45.098369Z",
     "iopub.status.idle": "2021-08-28T08:42:58.470117Z",
     "shell.execute_reply": "2021-08-28T08:42:58.470773Z"
    }
   },
   "outputs": [],
   "source": [
    "mutations = pd.read_csv(mutation_df, compression='gzip', low_memory=False)\n",
    "cell_barcodes = pd.read_csv(cell_df, compression='gzip', low_memory=False)"
   ]
  },
  {
   "cell_type": "markdown",
   "metadata": {},
   "source": [
    "I'm removing mutations in 3' termini becasue they are protein noncoding and mostly are due to poly-d(T) primer misaliggnment to poly(A) tail."
   ]
  },
  {
   "cell_type": "code",
   "execution_count": null,
   "metadata": {
    "execution": {
     "iopub.execute_input": "2021-08-28T08:42:58.474252Z",
     "iopub.status.busy": "2021-08-28T08:42:58.473298Z",
     "iopub.status.idle": "2021-08-28T08:43:11.012537Z",
     "shell.execute_reply": "2021-08-28T08:43:11.013020Z"
    }
   },
   "outputs": [],
   "source": [
    "# create column that removed termini3 mutations\n",
    "mutations['all_mutations_orf_numbered_noT3'] = (\n",
    "    mutations\n",
    "    .apply(lambda row: str(row['all_mutations_orf_numbered'])\n",
    "           .replace(str(row['termini3_mutations_orf_numbered']), ''),\n",
    "           axis=1)\n",
    ")"
   ]
  },
  {
   "cell_type": "code",
   "execution_count": null,
   "metadata": {
    "execution": {
     "iopub.execute_input": "2021-08-28T08:43:11.015294Z",
     "iopub.status.busy": "2021-08-28T08:43:11.014644Z",
     "iopub.status.idle": "2021-08-28T08:43:12.566468Z",
     "shell.execute_reply": "2021-08-28T08:43:12.567016Z"
    }
   },
   "outputs": [],
   "source": [
    "filter_col = [col for col in mutations\n",
    "              if col.startswith('variant_tag')]\n",
    "\n",
    "mutations = mutations.drop(columns=filter_col)\n",
    "mutations = mutations.drop(columns=['name'])"
   ]
  },
  {
   "cell_type": "code",
   "execution_count": null,
   "metadata": {
    "execution": {
     "iopub.execute_input": "2021-08-28T08:43:12.569710Z",
     "iopub.status.busy": "2021-08-28T08:43:12.568928Z",
     "iopub.status.idle": "2021-08-28T08:43:12.583006Z",
     "shell.execute_reply": "2021-08-28T08:43:12.583641Z"
    }
   },
   "outputs": [],
   "source": [
    "col_one_list = mutations['cellbarcode_sequence'].tolist()"
   ]
  },
  {
   "cell_type": "code",
   "execution_count": null,
   "metadata": {
    "execution": {
     "iopub.execute_input": "2021-08-28T08:43:12.586633Z",
     "iopub.status.busy": "2021-08-28T08:43:12.585754Z",
     "iopub.status.idle": "2021-08-28T08:43:15.072517Z",
     "shell.execute_reply": "2021-08-28T08:43:15.073025Z"
    }
   },
   "outputs": [],
   "source": [
    "barcode_list = []\n",
    "for barcode in col_one_list:\n",
    "    seq = Seq(barcode)\n",
    "    rv_barcode = seq.reverse_complement()\n",
    "    rv_barcode = str(rv_barcode)\n",
    "    barcode_list.append(rv_barcode)\n",
    "barcode_list\n",
    "mutations['cellbarcode_rv'] = (\n",
    "    pd.DataFrame(barcode_list, columns=['cellbarcode_rv'])\n",
    ")"
   ]
  },
  {
   "cell_type": "code",
   "execution_count": null,
   "metadata": {
    "execution": {
     "iopub.execute_input": "2021-08-28T08:43:15.075426Z",
     "iopub.status.busy": "2021-08-28T08:43:15.074750Z",
     "iopub.status.idle": "2021-08-28T08:43:19.231874Z",
     "shell.execute_reply": "2021-08-28T08:43:19.232475Z"
    }
   },
   "outputs": [],
   "source": [
    "df_merged = pd.merge(mutations, cell_barcodes,\n",
    "                     how='left', left_on=['cellbarcode_rv'],\n",
    "                     right_on=['cell_barcode'])"
   ]
  },
  {
   "cell_type": "markdown",
   "metadata": {},
   "source": [
    "We only want to look at CCSs that don't have strandexchange issues, so we filter out CCSs with chimeric tags."
   ]
  },
  {
   "cell_type": "code",
   "execution_count": null,
   "metadata": {
    "execution": {
     "iopub.execute_input": "2021-08-28T08:43:19.235328Z",
     "iopub.status.busy": "2021-08-28T08:43:19.234498Z",
     "iopub.status.idle": "2021-08-28T08:43:20.813357Z",
     "shell.execute_reply": "2021-08-28T08:43:20.813851Z"
    }
   },
   "outputs": [],
   "source": [
    "df_merged = df_merged.loc[df_merged['tag_status'] != 'chimeric tags']"
   ]
  },
  {
   "cell_type": "code",
   "execution_count": null,
   "metadata": {
    "execution": {
     "iopub.execute_input": "2021-08-28T08:43:20.816579Z",
     "iopub.status.busy": "2021-08-28T08:43:20.815726Z",
     "iopub.status.idle": "2021-08-28T08:43:20.945472Z",
     "shell.execute_reply": "2021-08-28T08:43:20.946016Z"
    }
   },
   "outputs": [],
   "source": [
    "# change bools to yes/no as flake complains on later filtering\n",
    "df_merged['infected'] = (\n",
    "    df_merged['infected']\n",
    "    .replace({True: 'Yes', False: 'No'})\n",
    ")"
   ]
  },
  {
   "cell_type": "markdown",
   "metadata": {},
   "source": [
    "## CCS with valid cell barcodes\n",
    "We want to count the number of CCS with cell barcodes that are found in the transcriptome data"
   ]
  },
  {
   "cell_type": "code",
   "execution_count": null,
   "metadata": {},
   "outputs": [],
   "source": [
    "print('How many CCS have a cell barcode that is also found in the transcriptome data?')\n",
    "mutations['cellbarcode_rv'].isin(cell_barcodes['cell_barcode']).value_counts()"
   ]
  },
  {
   "cell_type": "markdown",
   "metadata": {},
   "source": [
    "## CCSs in infected and uninfected cells"
   ]
  },
  {
   "cell_type": "code",
   "execution_count": null,
   "metadata": {
    "execution": {
     "iopub.execute_input": "2021-08-28T08:43:20.948854Z",
     "iopub.status.busy": "2021-08-28T08:43:20.947996Z",
     "iopub.status.idle": "2021-08-28T08:43:21.059930Z",
     "shell.execute_reply": "2021-08-28T08:43:21.060483Z"
    }
   },
   "outputs": [],
   "source": [
    "print('How many CCSs are called in infected vs uninfected cells:')\n",
    "df_merged.groupby(['infected']).agg({'infected': 'count'})"
   ]
  },
  {
   "cell_type": "markdown",
   "metadata": {},
   "source": [
    "### CCSs in uninfected cells"
   ]
  },
  {
   "cell_type": "code",
   "execution_count": null,
   "metadata": {
    "execution": {
     "iopub.execute_input": "2021-08-28T08:43:21.063511Z",
     "iopub.status.busy": "2021-08-28T08:43:21.062638Z",
     "iopub.status.idle": "2021-08-28T08:43:21.177239Z",
     "shell.execute_reply": "2021-08-28T08:43:21.177737Z"
    }
   },
   "outputs": [],
   "source": [
    "uninfected = df_merged.loc[df_merged['infected'] == 'No']\n",
    "uninfected_barcode_count = (\n",
    "                            uninfected\n",
    "                            .groupby(['cell_barcode'])\n",
    "                            .agg({'cell_barcode': 'count'})\n",
    ")\n",
    "uninfected_barcode_count.columns = ['count']"
   ]
  },
  {
   "cell_type": "code",
   "execution_count": null,
   "metadata": {
    "execution": {
     "iopub.execute_input": "2021-08-28T08:43:21.180072Z",
     "iopub.status.busy": "2021-08-28T08:43:21.179400Z",
     "iopub.status.idle": "2021-08-28T08:43:21.714694Z",
     "shell.execute_reply": "2021-08-28T08:43:21.715243Z"
    }
   },
   "outputs": [],
   "source": [
    "p = (\n",
    "    p9.ggplot(uninfected_barcode_count,\n",
    "              p9.aes(x='count'))\n",
    "    + p9.geom_histogram(bins=80)\n",
    "    + p9.theme(axis_text_x=p9.element_text(angle=90),\n",
    "               panel_grid_major_x=p9.element_blank()\n",
    "               )\n",
    "    + p9.theme_bw()\n",
    "    + p9.xlab(\"cell barcode count\")\n",
    "    + p9.ylab(\"CCS count\")\n",
    ")\n",
    "_ = p.draw()\n",
    "print('In total we find', len(uninfected_barcode_count.index),\n",
    "      'unique barcodes that are counted',\n",
    "      'as uninfected based on illumina sequencing ')\n",
    "print('This is how CCSs are distributed in uninfected cells:')"
   ]
  },
  {
   "cell_type": "markdown",
   "metadata": {},
   "source": [
    "### CCSs in infected cells"
   ]
  },
  {
   "cell_type": "code",
   "execution_count": null,
   "metadata": {
    "execution": {
     "iopub.execute_input": "2021-08-28T08:43:21.718218Z",
     "iopub.status.busy": "2021-08-28T08:43:21.717369Z",
     "iopub.status.idle": "2021-08-28T08:43:22.276397Z",
     "shell.execute_reply": "2021-08-28T08:43:22.276891Z"
    }
   },
   "outputs": [],
   "source": [
    "infected = df_merged.loc[df_merged['infected'] == 'Yes']\n",
    "\n",
    "infected_barcode_count = (\n",
    "                          infected\n",
    "                          .groupby(['cell_barcode'])\n",
    "                          .agg({'cell_barcode': 'count'})\n",
    ")\n",
    "infected_barcode_count = (\n",
    "                          infected_barcode_count\n",
    "                          .rename(columns={'cell_barcode': 'count'})\n",
    ")"
   ]
  },
  {
   "cell_type": "code",
   "execution_count": null,
   "metadata": {
    "execution": {
     "iopub.execute_input": "2021-08-28T08:43:22.279571Z",
     "iopub.status.busy": "2021-08-28T08:43:22.278692Z",
     "iopub.status.idle": "2021-08-28T08:43:22.669085Z",
     "shell.execute_reply": "2021-08-28T08:43:22.669507Z"
    }
   },
   "outputs": [],
   "source": [
    "p = (\n",
    "    p9.ggplot(infected_barcode_count,\n",
    "              p9.aes(x='count'))\n",
    "    + p9.geom_histogram(bins=100)\n",
    "    + p9.theme(axis_text_x=p9.element_text(angle=90),\n",
    "               panel_grid_major_x=p9.element_blank()\n",
    "               )\n",
    "    + p9.theme_bw()\n",
    "    + p9.xlab(\"cell barcode count\")\n",
    "    + p9.ylab(\"CCS count\")\n",
    ")\n",
    "_ = p.draw()\n",
    "\n",
    "print('In total we find', len(infected_barcode_count.index),\n",
    "      'unique infected barcodes')\n",
    "print('This is how CCSs are distributed per cell barcode:')"
   ]
  },
  {
   "cell_type": "markdown",
   "metadata": {},
   "source": [
    "## UMI counts"
   ]
  },
  {
   "cell_type": "markdown",
   "metadata": {},
   "source": [
    "Here we count unique UMIs. We group by cell barcode + gene + UMI to identify unique UMIs."
   ]
  },
  {
   "cell_type": "code",
   "execution_count": null,
   "metadata": {
    "execution": {
     "iopub.execute_input": "2021-08-28T08:43:22.671793Z",
     "iopub.status.busy": "2021-08-28T08:43:22.671142Z",
     "iopub.status.idle": "2021-08-28T08:43:24.354068Z",
     "shell.execute_reply": "2021-08-28T08:43:24.354510Z"
    }
   },
   "outputs": [],
   "source": [
    "UMI_count = (\n",
    "    df_merged\n",
    "    .groupby(['UMI_sequence', 'cell_barcode', 'gene'])\n",
    "    .agg({'UMI_sequence': 'count'})\n",
    ")\n",
    "UMI_count.columns = ['count']\n",
    "UMI_count.head()"
   ]
  },
  {
   "cell_type": "code",
   "execution_count": null,
   "metadata": {
    "execution": {
     "iopub.execute_input": "2021-08-28T08:43:24.356872Z",
     "iopub.status.busy": "2021-08-28T08:43:24.356169Z",
     "iopub.status.idle": "2021-08-28T08:43:28.015929Z",
     "shell.execute_reply": "2021-08-28T08:43:28.016371Z"
    }
   },
   "outputs": [],
   "source": [
    "p = (\n",
    "    p9.ggplot(UMI_count,\n",
    "              p9.aes(x='count'))\n",
    "    + p9.geom_histogram(bins=80)\n",
    "    + p9.theme(axis_text_x=p9.element_text(angle=90),\n",
    "               panel_grid_major_x=p9.element_blank()\n",
    "               )\n",
    "    + p9.theme_bw()\n",
    "    + p9.xlab(\"CCSs per UMI\")\n",
    "    + p9.ylab(\"number of UMIs\")\n",
    ")\n",
    "_ = p.draw()\n",
    "\n",
    "print('max number of CCSs per UMI is', UMI_count['count'].max())"
   ]
  },
  {
   "cell_type": "code",
   "execution_count": null,
   "metadata": {
    "execution": {
     "iopub.execute_input": "2021-08-28T08:43:28.018652Z",
     "iopub.status.busy": "2021-08-28T08:43:28.017996Z",
     "iopub.status.idle": "2021-08-28T08:43:28.038012Z",
     "shell.execute_reply": "2021-08-28T08:43:28.038451Z"
    }
   },
   "outputs": [],
   "source": [
    "UMI_count_table = (\n",
    "                  UMI_count\n",
    "                  .rename(columns={'count': 'no_of_CCSs'})\n",
    "                  .groupby(['no_of_CCSs'])\n",
    "                  .agg({'no_of_CCSs': 'count'})\n",
    ")\n",
    "print('Here\\'s how many CCSs each UMI has:')\n",
    "UMI_count_table.rename(columns={'no_of_CCSs': 'no of UMIs'})"
   ]
  },
  {
   "cell_type": "markdown",
   "metadata": {},
   "source": [
    "# Call consensus per UMI"
   ]
  },
  {
   "cell_type": "markdown",
   "metadata": {},
   "source": [
    "Here we'll call per UMI consensus only in infected cells. We also remove any mutations that are duplicates in the same UMI (this is becasue we used overlapping primers for linearization PCR)."
   ]
  },
  {
   "cell_type": "code",
   "execution_count": null,
   "metadata": {
    "execution": {
     "iopub.execute_input": "2021-08-28T08:43:28.041208Z",
     "iopub.status.busy": "2021-08-28T08:43:28.040236Z",
     "iopub.status.idle": "2021-08-28T08:43:32.242020Z",
     "shell.execute_reply": "2021-08-28T08:43:32.242445Z"
    }
   },
   "outputs": [],
   "source": [
    "# remove duplicate mutation strings\n",
    "all_mutations_dupRM = (\n",
    "    infected['all_mutations_orf_numbered_noT3']\n",
    "    .str.replace(r'\\b(\\w+)(\\s+\\1)+\\b', r'\\1')\n",
    ")\n",
    "\n",
    "infected['all_mutations_orf_numbered_noT3_dupRM'] = all_mutations_dupRM"
   ]
  },
  {
   "cell_type": "markdown",
   "metadata": {},
   "source": [
    "Sometimes consecutive deletions are called as separate mutations by alignparse, so we apply `merge_dels` function to `all_mutations_orf_numbered_noT3_dupRM` column to merge consecutive."
   ]
  },
  {
   "cell_type": "code",
   "execution_count": null,
   "metadata": {
    "execution": {
     "iopub.execute_input": "2021-08-28T08:43:32.244745Z",
     "iopub.status.busy": "2021-08-28T08:43:32.244084Z",
     "iopub.status.idle": "2021-08-28T08:43:45.342522Z",
     "shell.execute_reply": "2021-08-28T08:43:45.343021Z"
    }
   },
   "outputs": [],
   "source": [
    "infected = infected.replace(np.nan, '', regex=True)\n",
    "infected['all_mutations_orf_numbered_noT3_dupRM'] = (\n",
    "    infected['all_mutations_orf_numbered_noT3_dupRM']\n",
    "    .str.replace('nan', '[]')\n",
    ")\n",
    "\n",
    "infected['all_mutations_delsMerge'] = (\n",
    "    infected['all_mutations_orf_numbered_noT3_dupRM']\n",
    "    .apply(alignparse.utils.merge_dels)\n",
    ")"
   ]
  },
  {
   "cell_type": "markdown",
   "metadata": {},
   "source": [
    "Call consensus on mutations on `all_mutations_delsMerge` column that has mutations in 3' termini removed, duplicated mutations removed, and consecutive deletions merged."
   ]
  },
  {
   "cell_type": "code",
   "execution_count": null,
   "metadata": {
    "execution": {
     "iopub.execute_input": "2021-08-28T08:43:45.345508Z",
     "iopub.status.busy": "2021-08-28T08:43:45.344849Z",
     "iopub.status.idle": "2021-08-28T08:45:05.163035Z",
     "shell.execute_reply": "2021-08-28T08:45:05.163568Z"
    }
   },
   "outputs": [],
   "source": [
    "consensus, dropped = alignparse.consensus.simple_mutconsensus(\n",
    "    infected,\n",
    "    group_cols=['cellbarcode_rv', 'transcript', 'UMI_sequence'],\n",
    "    mutation_col='all_mutations_delsMerge',\n",
    "    max_sub_diffs=5,\n",
    "    max_indel_diffs=10,\n",
    "    max_minor_sub_frac=0.3,\n",
    "    max_minor_indel_frac=0.3,\n",
    "    support_col='variant_call_support'\n",
    ")\n",
    "\n",
    "consensus = (\n",
    "    consensus\n",
    "    .rename(columns={'cellbarcode_rv': 'cellbarcode_sequence'}))\n",
    "dropped = (\n",
    "    dropped\n",
    "    .rename(columns={'cellbarcode_rv': 'cellbarcode_sequence'}))"
   ]
  },
  {
   "cell_type": "code",
   "execution_count": null,
   "metadata": {
    "execution": {
     "iopub.execute_input": "2021-08-28T08:45:05.166142Z",
     "iopub.status.busy": "2021-08-28T08:45:05.165470Z",
     "iopub.status.idle": "2021-08-28T08:45:05.170507Z",
     "shell.execute_reply": "2021-08-28T08:45:05.171031Z"
    }
   },
   "outputs": [],
   "source": [
    "print('We dropped', len(dropped.index),\n",
    "      'UMIs, which were supported by',\n",
    "      dropped['nseqs'].sum(), 'CSSs')"
   ]
  },
  {
   "cell_type": "markdown",
   "metadata": {},
   "source": [
    "Finally, we export the consensus table"
   ]
  },
  {
   "cell_type": "code",
   "execution_count": null,
   "metadata": {
    "execution": {
     "iopub.execute_input": "2021-08-28T08:45:05.982021Z",
     "iopub.status.busy": "2021-08-28T08:45:05.981358Z",
     "iopub.status.idle": "2021-08-28T08:45:12.775114Z",
     "shell.execute_reply": "2021-08-28T08:45:12.775621Z"
    }
   },
   "outputs": [],
   "source": [
    "consensus.to_csv(consensus_UMI_mutations,\n",
    "                 index=False, compression='gzip')"
   ]
  }
 ],
 "metadata": {
  "kernelspec": {
   "display_name": "Python 3",
   "language": "python",
   "name": "python3"
  },
  "language_info": {
   "codemirror_mode": {
    "name": "ipython",
    "version": 3
   },
   "file_extension": ".py",
   "mimetype": "text/x-python",
   "name": "python",
   "nbconvert_exporter": "python",
   "pygments_lexer": "ipython3",
   "version": "3.8.6"
  }
 },
 "nbformat": 4,
 "nbformat_minor": 4
}
