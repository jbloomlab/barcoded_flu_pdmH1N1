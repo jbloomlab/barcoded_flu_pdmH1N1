{
 "cells": [
  {
   "cell_type": "markdown",
   "metadata": {},
   "source": [
    "# Call pacbio consensus UMI sequences"
   ]
  },
  {
   "cell_type": "markdown",
   "metadata": {},
   "source": [
    "This notebook creates a consensus sequences for indivirual UMIs and exports a table with consensus mutations in each UMI."
   ]
  },
  {
   "cell_type": "code",
   "execution_count": null,
   "metadata": {},
   "outputs": [],
   "source": [
    "from Bio.Seq import Seq\n",
    "\n",
    "import alignparse.ccs\n",
    "import alignparse.consensus\n",
    "import alignparse.utils\n",
    "\n",
    "import numpy as np\n",
    "\n",
    "import pandas as pd\n",
    "\n",
    "import plotnine as p9"
   ]
  },
  {
   "cell_type": "code",
   "execution_count": null,
   "metadata": {},
   "outputs": [],
   "source": [
    "mutation_df = snakemake.input.mutation_df\n",
    "cell_df = snakemake.input.cell_df\n",
    "consensus_UMI_mutations = snakemake.output.consensus_UMI_mutations"
   ]
  },
  {
   "cell_type": "code",
   "execution_count": null,
   "metadata": {},
   "outputs": [],
   "source": [
    "mutations = pd.read_csv(mutation_df, compression='gzip', low_memory=False)\n",
    "cell_barcodes = pd.read_csv(cell_df, compression='gzip', low_memory=False)"
   ]
  },
  {
   "cell_type": "markdown",
   "metadata": {},
   "source": [
    "I'm removing mutations in 3' termini becasue they are protein noncoding and mostly are due to poly-d(T) primer misaliggnment to poly(A) tail."
   ]
  },
  {
   "cell_type": "code",
   "execution_count": null,
   "metadata": {},
   "outputs": [],
   "source": [
    "# create column that removed termini3 mutations\n",
    "mutations['all_mutations_orf_numbered_noT3'] = (\n",
    "    mutations\n",
    "    .apply(lambda row: str(row['all_mutations_orf_numbered'])\n",
    "           .replace(str(row['termini3_mutations_orf_numbered']), ''),\n",
    "           axis=1)\n",
    ")"
   ]
  },
  {
   "cell_type": "code",
   "execution_count": null,
   "metadata": {},
   "outputs": [],
   "source": [
    "filter_col = [col for col in mutations\n",
    "              if col.startswith('variant_tag')]\n",
    "\n",
    "mutations = mutations.drop(columns=filter_col)\n",
    "mutations = mutations.drop(columns=['name'])"
   ]
  },
  {
   "cell_type": "code",
   "execution_count": null,
   "metadata": {},
   "outputs": [],
   "source": [
    "col_one_list = mutations['cellbarcode_sequence'].tolist()"
   ]
  },
  {
   "cell_type": "code",
   "execution_count": null,
   "metadata": {},
   "outputs": [],
   "source": [
    "barcode_list = []\n",
    "for barcode in col_one_list:\n",
    "    seq = Seq(barcode)\n",
    "    rv_barcode = seq.reverse_complement()\n",
    "    rv_barcode = str(rv_barcode)\n",
    "    barcode_list.append(rv_barcode)\n",
    "barcode_list\n",
    "mutations['cellbarcode_rv'] = (\n",
    "    pd.DataFrame(barcode_list, columns=['cellbarcode_rv'])\n",
    ")"
   ]
  },
  {
   "cell_type": "code",
   "execution_count": null,
   "metadata": {},
   "outputs": [],
   "source": [
    "df_merged = pd.merge(mutations, cell_barcodes,\n",
    "                     how='left', left_on=['cellbarcode_rv'],\n",
    "                     right_on=['cell_barcode'])"
   ]
  },
  {
   "cell_type": "markdown",
   "metadata": {},
   "source": [
    "We only want to look at CCSs that don't have strandexchange issues, so we filter out CCSs with chimeric tags."
   ]
  },
  {
   "cell_type": "code",
   "execution_count": null,
   "metadata": {},
   "outputs": [],
   "source": [
    "df_merged = df_merged.loc[df_merged['tag_status'] != 'chimeric tags']"
   ]
  },
  {
   "cell_type": "code",
   "execution_count": null,
   "metadata": {},
   "outputs": [],
   "source": [
    "# change bools to yes/no as flake complains on later filtering\n",
    "df_merged['infected'] = (\n",
    "    df_merged['infected']\n",
    "    .replace({True: 'Yes', False: 'No'})\n",
    ")"
   ]
  },
  {
   "cell_type": "markdown",
   "metadata": {},
   "source": [
    "## CCSs in infected and uninfected cells"
   ]
  },
  {
   "cell_type": "code",
   "execution_count": null,
   "metadata": {},
   "outputs": [],
   "source": [
    "print('How many CCSs are called in infected vs uninfected cells:')\n",
    "df_merged.groupby(['infected']).agg({'infected': 'count'})"
   ]
  },
  {
   "cell_type": "markdown",
   "metadata": {},
   "source": [
    "### CCSs in uninfected cells"
   ]
  },
  {
   "cell_type": "code",
   "execution_count": null,
   "metadata": {},
   "outputs": [],
   "source": [
    "uninfected = df_merged.loc[df_merged['infected'] == 'No']\n",
    "uninfected_barcode_count = (\n",
    "                            uninfected\n",
    "                            .groupby(['cell_barcode'])\n",
    "                            .agg({'cell_barcode': 'count'})\n",
    ")\n",
    "uninfected_barcode_count.columns = ['count']"
   ]
  },
  {
   "cell_type": "code",
   "execution_count": null,
   "metadata": {},
   "outputs": [],
   "source": [
    "p = (\n",
    "    p9.ggplot(uninfected_barcode_count,\n",
    "              p9.aes(x='count'))\n",
    "    + p9.geom_histogram(bins=80)\n",
    "    + p9.theme(axis_text_x=p9.element_text(angle=90),\n",
    "               panel_grid_major_x=p9.element_blank()\n",
    "               )\n",
    "    + p9.theme_bw()\n",
    "    + p9.xlab(\"cell barcode count\")\n",
    "    + p9.ylab(\"CCS count\")\n",
    ")\n",
    "_ = p.draw()\n",
    "print('In total we find', len(uninfected_barcode_count.index),\n",
    "      'unique barcodes that are counted',\n",
    "      'as uninfected based on illumina sequencing ')\n",
    "print('This is how CCSs are distributed in uninfected cells:')"
   ]
  },
  {
   "cell_type": "markdown",
   "metadata": {},
   "source": [
    "### CCSs in infected cells"
   ]
  },
  {
   "cell_type": "code",
   "execution_count": null,
   "metadata": {},
   "outputs": [],
   "source": [
    "infected = df_merged.loc[df_merged['infected'] == 'Yes']\n",
    "\n",
    "infected_barcode_count = (\n",
    "                          infected\n",
    "                          .groupby(['cell_barcode'])\n",
    "                          .agg({'cell_barcode': 'count'})\n",
    ")\n",
    "infected_barcode_count = (\n",
    "                          infected_barcode_count\n",
    "                          .rename(columns={'cell_barcode': 'count'})\n",
    ")"
   ]
  },
  {
   "cell_type": "code",
   "execution_count": null,
   "metadata": {},
   "outputs": [],
   "source": [
    "p = (\n",
    "    p9.ggplot(infected_barcode_count,\n",
    "              p9.aes(x='count'))\n",
    "    + p9.geom_histogram(bins=100)\n",
    "    + p9.theme(axis_text_x=p9.element_text(angle=90),\n",
    "               panel_grid_major_x=p9.element_blank()\n",
    "               )\n",
    "    + p9.theme_bw()\n",
    "    + p9.xlab(\"cell barcode count\")\n",
    "    + p9.ylab(\"CCS count\")\n",
    ")\n",
    "_ = p.draw()\n",
    "\n",
    "print('In total we find', len(infected_barcode_count.index),\n",
    "      'unique infected barcodes')\n",
    "print('This is how CCSs are distributed per cell barcode:')"
   ]
  },
  {
   "cell_type": "markdown",
   "metadata": {},
   "source": [
    "## UMI counts"
   ]
  },
  {
   "cell_type": "markdown",
   "metadata": {},
   "source": [
    "Here we count unique UMIs. We group by cell barcode + gene + UMI to identify unique UMIs."
   ]
  },
  {
   "cell_type": "code",
   "execution_count": null,
   "metadata": {},
   "outputs": [],
   "source": [
    "UMI_count = (\n",
    "    df_merged\n",
    "    .groupby(['UMI_sequence', 'cell_barcode', 'gene'])\n",
    "    .agg({'UMI_sequence': 'count'})\n",
    ")\n",
    "UMI_count.columns = ['count']\n",
    "UMI_count.head()"
   ]
  },
  {
   "cell_type": "code",
   "execution_count": null,
   "metadata": {},
   "outputs": [],
   "source": [
    "p = (\n",
    "    p9.ggplot(UMI_count,\n",
    "              p9.aes(x='count'))\n",
    "    + p9.geom_histogram(bins=80)\n",
    "    + p9.theme(axis_text_x=p9.element_text(angle=90),\n",
    "               panel_grid_major_x=p9.element_blank()\n",
    "               )\n",
    "    + p9.theme_bw()\n",
    "    + p9.xlab(\"CCSs per UMI\")\n",
    "    + p9.ylab(\"number of UMIs\")\n",
    ")\n",
    "_ = p.draw()\n",
    "\n",
    "print('max number of CCSs per UMI is', UMI_count['count'].max())"
   ]
  },
  {
   "cell_type": "code",
   "execution_count": null,
   "metadata": {},
   "outputs": [],
   "source": [
    "UMI_count_table = (\n",
    "                  UMI_count\n",
    "                  .rename(columns={'count': 'no_of_CCSs'})\n",
    "                  .groupby(['no_of_CCSs'])\n",
    "                  .agg({'no_of_CCSs': 'count'})\n",
    ")\n",
    "print('Here\\'s how many CCSs each UMI has:')\n",
    "UMI_count_table.rename(columns={'no_of_CCSs': 'no of UMIs'})"
   ]
  },
  {
   "cell_type": "markdown",
   "metadata": {},
   "source": [
    "# Call consensus per UMI"
   ]
  },
  {
   "cell_type": "markdown",
   "metadata": {},
   "source": [
    "Here we'll call per UMI consensus only in infected cells. We also remove any mutations that are duplicates in the same UMI (this is becasue we used overlapping primers for linearization PCR)."
   ]
  },
  {
   "cell_type": "code",
   "execution_count": null,
   "metadata": {},
   "outputs": [],
   "source": [
    "# remove duplicate mutation strings\n",
    "all_mutations_dupRM = (\n",
    "    infected['all_mutations_orf_numbered_noT3']\n",
    "    .str.replace(r'\\b(\\w+)(\\s+\\1)+\\b', r'\\1')\n",
    ")\n",
    "\n",
    "infected['all_mutations_orf_numbered_noT3_dupRM'] = all_mutations_dupRM"
   ]
  },
  {
   "cell_type": "markdown",
   "metadata": {},
   "source": [
    "Sometimes consecutive deletions are called as separate mutations by alignparse, so we apply `merge_dels` function to `all_mutations_orf_numbered_noT3_dupRM` column to merge consecutive."
   ]
  },
  {
   "cell_type": "code",
   "execution_count": null,
   "metadata": {},
   "outputs": [],
   "source": [
    "infected = infected.replace(np.nan, '', regex=True)\n",
    "infected['all_mutations_orf_numbered_noT3_dupRM'] = (\n",
    "    infected['all_mutations_orf_numbered_noT3_dupRM']\n",
    "    .str.replace('nan', '[]')\n",
    ")\n",
    "\n",
    "infected['all_mutations_delsMerge'] = (\n",
    "    infected['all_mutations_orf_numbered_noT3_dupRM']\n",
    "    .apply(alignparse.utils.merge_dels)\n",
    ")"
   ]
  },
  {
   "cell_type": "markdown",
   "metadata": {},
   "source": [
    "Call consensus on mutations on `all_mutations_delsMerge` column that has mutations in 3' termini removed, duplicated mutations removed, and consecutive deletions merged."
   ]
  },
  {
   "cell_type": "code",
   "execution_count": null,
   "metadata": {},
   "outputs": [],
   "source": [
    "consensus, dropped = alignparse.consensus.simple_mutconsensus(\n",
    "    infected,\n",
    "    group_cols=['cellbarcode_sequence', 'transcript', 'UMI_sequence'],\n",
    "    mutation_col='all_mutations_delsMerge',\n",
    "    max_sub_diffs=5,\n",
    "    max_indel_diffs=10,\n",
    "    max_minor_sub_frac=0.3,\n",
    "    max_minor_indel_frac=0.3,\n",
    "    support_col='variant_call_support'\n",
    ")"
   ]
  },
  {
   "cell_type": "code",
   "execution_count": null,
   "metadata": {},
   "outputs": [],
   "source": [
    "print('We dropped', len(dropped.index),\n",
    "      'UMIs, which were supported by',\n",
    "      dropped['nseqs'].sum(), 'CSSs')"
   ]
  },
  {
   "cell_type": "code",
   "execution_count": null,
   "metadata": {},
   "outputs": [],
   "source": [
    "#reverse complement cell barcode\n",
    "consensus['cellbarcode_sequence'] = consensus['cellbarcode_sequence'].apply(lambda x: str(Seq(x).complement())[::-1])"
   ]
  },
  {
   "cell_type": "markdown",
   "metadata": {},
   "source": [
    "Finally, we export the consensus table"
   ]
  },
  {
   "cell_type": "code",
   "execution_count": null,
   "metadata": {},
   "outputs": [],
   "source": [
    "consensus.to_csv(consensus_UMI_mutations,\n",
    "                 index=False, compression='gzip')"
   ]
  }
 ],
 "metadata": {
  "kernelspec": {
   "display_name": "Python 3",
   "language": "python",
   "name": "python3"
  },
  "language_info": {
   "codemirror_mode": {
    "name": "ipython",
    "version": 3
   },
   "file_extension": ".py",
   "mimetype": "text/x-python",
   "name": "python",
   "nbconvert_exporter": "python",
   "pygments_lexer": "ipython3",
   "version": "3.8.5"
  }
 },
 "nbformat": 4,
 "nbformat_minor": 4
}
