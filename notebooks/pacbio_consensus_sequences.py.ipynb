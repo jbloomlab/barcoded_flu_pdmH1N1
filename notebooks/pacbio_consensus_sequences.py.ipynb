{
 "cells": [
  {
   "cell_type": "markdown",
   "metadata": {},
   "source": [
    "# Call pacbio consensus UMI sequences"
   ]
  },
  {
   "cell_type": "markdown",
   "metadata": {},
   "source": [
    "This notebook creates a consensus sequences for indivirual UMIs and exports a table with consensus mutations in each UMI."
   ]
  },
  {
   "cell_type": "code",
   "execution_count": null,
   "metadata": {
    "execution": {
     "iopub.execute_input": "2021-10-15T21:58:41.278643Z",
     "iopub.status.busy": "2021-10-15T21:58:41.277692Z",
     "iopub.status.idle": "2021-10-15T21:58:44.703275Z",
     "shell.execute_reply": "2021-10-15T21:58:44.703945Z"
    }
   },
   "outputs": [],
   "source": [
    "from Bio.Seq import Seq\n",
    "\n",
    "import alignparse.ccs\n",
    "import alignparse.consensus\n",
    "import alignparse.utils\n",
    "\n",
    "import numpy as np\n",
    "\n",
    "import pandas as pd\n",
    "\n",
    "import plotnine as p9"
   ]
  },
  {
   "cell_type": "code",
   "execution_count": null,
   "metadata": {
    "execution": {
     "iopub.execute_input": "2021-10-15T21:58:44.707053Z",
     "iopub.status.busy": "2021-10-15T21:58:44.706155Z",
     "iopub.status.idle": "2021-10-15T21:58:44.709915Z",
     "shell.execute_reply": "2021-10-15T21:58:44.710449Z"
    }
   },
   "outputs": [],
   "source": [
    "mutation_df = snakemake.input.mutation_df\n",
    "cell_df = snakemake.input.cell_df\n",
    "consensus_UMI_mutations = snakemake.output.consensus_UMI_mutations"
   ]
  },
  {
   "cell_type": "code",
   "execution_count": null,
   "metadata": {
    "execution": {
     "iopub.execute_input": "2021-10-15T21:58:44.713119Z",
     "iopub.status.busy": "2021-10-15T21:58:44.712247Z",
     "iopub.status.idle": "2021-10-15T21:58:57.961897Z",
     "shell.execute_reply": "2021-10-15T21:58:57.962543Z"
    }
   },
   "outputs": [],
   "source": [
    "mutations = pd.read_csv(mutation_df, compression='gzip', low_memory=False)\n",
    "cell_barcodes = pd.read_csv(cell_df, compression='gzip', low_memory=False)"
   ]
  },
  {
   "cell_type": "markdown",
   "metadata": {},
   "source": [
    "I'm removing mutations in 3' termini becasue they are protein noncoding and mostly are due to poly-d(T) primer misaliggnment to poly(A) tail."
   ]
  },
  {
   "cell_type": "code",
   "execution_count": null,
   "metadata": {
    "execution": {
     "iopub.execute_input": "2021-10-15T21:58:57.965693Z",
     "iopub.status.busy": "2021-10-15T21:58:57.964832Z",
     "iopub.status.idle": "2021-10-15T21:59:09.869114Z",
     "shell.execute_reply": "2021-10-15T21:59:09.869754Z"
    }
   },
   "outputs": [],
   "source": [
    "# create column that removed termini3 mutations\n",
    "mutations['all_mutations_orf_numbered_noT3'] = (\n",
    "    mutations\n",
    "    .apply(lambda row: str(row['all_mutations_orf_numbered'])\n",
    "           .replace(str(row['termini3_mutations_orf_numbered']), ''),\n",
    "           axis=1)\n",
    ")"
   ]
  },
  {
   "cell_type": "code",
   "execution_count": null,
   "metadata": {
    "execution": {
     "iopub.execute_input": "2021-10-15T21:59:09.872626Z",
     "iopub.status.busy": "2021-10-15T21:59:09.871791Z",
     "iopub.status.idle": "2021-10-15T21:59:11.410409Z",
     "shell.execute_reply": "2021-10-15T21:59:11.410926Z"
    }
   },
   "outputs": [],
   "source": [
    "filter_col = [col for col in mutations\n",
    "              if col.startswith('variant_tag')]\n",
    "\n",
    "mutations = mutations.drop(columns=filter_col)\n",
    "mutations = mutations.drop(columns=['name'])"
   ]
  },
  {
   "cell_type": "code",
   "execution_count": null,
   "metadata": {
    "execution": {
     "iopub.execute_input": "2021-10-15T21:59:11.413482Z",
     "iopub.status.busy": "2021-10-15T21:59:11.412682Z",
     "iopub.status.idle": "2021-10-15T21:59:11.424822Z",
     "shell.execute_reply": "2021-10-15T21:59:11.425251Z"
    }
   },
   "outputs": [],
   "source": [
    "col_one_list = mutations['cellbarcode_sequence'].tolist()"
   ]
  },
  {
   "cell_type": "code",
   "execution_count": null,
   "metadata": {
    "execution": {
     "iopub.execute_input": "2021-10-15T21:59:11.427474Z",
     "iopub.status.busy": "2021-10-15T21:59:11.426796Z",
     "iopub.status.idle": "2021-10-15T21:59:13.915927Z",
     "shell.execute_reply": "2021-10-15T21:59:13.916471Z"
    }
   },
   "outputs": [],
   "source": [
    "barcode_list = []\n",
    "for barcode in col_one_list:\n",
    "    seq = Seq(barcode)\n",
    "    rv_barcode = seq.reverse_complement()\n",
    "    rv_barcode = str(rv_barcode)\n",
    "    barcode_list.append(rv_barcode)\n",
    "barcode_list\n",
    "mutations['cellbarcode_rv'] = (\n",
    "    pd.DataFrame(barcode_list, columns=['cellbarcode_rv'])\n",
    ")"
   ]
  },
  {
   "cell_type": "code",
   "execution_count": null,
   "metadata": {
    "execution": {
     "iopub.execute_input": "2021-10-15T21:59:13.919262Z",
     "iopub.status.busy": "2021-10-15T21:59:13.918446Z",
     "iopub.status.idle": "2021-10-15T21:59:17.887343Z",
     "shell.execute_reply": "2021-10-15T21:59:17.887898Z"
    }
   },
   "outputs": [],
   "source": [
    "df_merged = pd.merge(mutations, cell_barcodes,\n",
    "                     how='left', left_on=['cellbarcode_rv'],\n",
    "                     right_on=['cell_barcode'])"
   ]
  },
  {
   "cell_type": "markdown",
   "metadata": {},
   "source": [
    "We only want to look at CCSs that don't have strandexchange issues, so we filter out CCSs with chimeric tags."
   ]
  },
  {
   "cell_type": "code",
   "execution_count": null,
   "metadata": {
    "execution": {
     "iopub.execute_input": "2021-10-15T21:59:17.890537Z",
     "iopub.status.busy": "2021-10-15T21:59:17.889852Z",
     "iopub.status.idle": "2021-10-15T21:59:19.366217Z",
     "shell.execute_reply": "2021-10-15T21:59:19.366742Z"
    }
   },
   "outputs": [],
   "source": [
    "df_merged = df_merged.loc[df_merged['tag_status'] != 'chimeric tags']"
   ]
  },
  {
   "cell_type": "markdown",
   "metadata": {},
   "source": [
    "## CCSs in infected and uninfected cells"
   ]
  },
  {
   "cell_type": "code",
   "execution_count": null,
   "metadata": {
    "execution": {
     "iopub.execute_input": "2021-10-15T21:59:19.369095Z",
     "iopub.status.busy": "2021-10-15T21:59:19.368439Z",
     "iopub.status.idle": "2021-10-15T21:59:19.480023Z",
     "shell.execute_reply": "2021-10-15T21:59:19.480459Z"
    }
   },
   "outputs": [],
   "source": [
    "print('How many CCSs are called in infected vs uninfected cells:')\n",
    "df_merged.groupby(['infected']).agg({'infected': 'count'})"
   ]
  },
  {
   "cell_type": "markdown",
   "metadata": {},
   "source": [
    "### CCSs in uninfected cells"
   ]
  },
  {
   "cell_type": "code",
   "execution_count": null,
   "metadata": {
    "execution": {
     "iopub.execute_input": "2021-10-15T21:59:19.482629Z",
     "iopub.status.busy": "2021-10-15T21:59:19.481985Z",
     "iopub.status.idle": "2021-10-15T21:59:19.587743Z",
     "shell.execute_reply": "2021-10-15T21:59:19.588174Z"
    }
   },
   "outputs": [],
   "source": [
    "uninfected = df_merged.loc[df_merged['infected'] == 'uninfected']\n",
    "uninfected_barcode_count = (\n",
    "                            uninfected\n",
    "                            .groupby(['cell_barcode'])\n",
    "                            .agg({'cell_barcode': 'count'})\n",
    ")\n",
    "uninfected_barcode_count.columns = ['count']"
   ]
  },
  {
   "cell_type": "code",
   "execution_count": null,
   "metadata": {
    "execution": {
     "iopub.execute_input": "2021-10-15T21:59:19.590373Z",
     "iopub.status.busy": "2021-10-15T21:59:19.589724Z",
     "iopub.status.idle": "2021-10-15T21:59:20.111228Z",
     "shell.execute_reply": "2021-10-15T21:59:20.111680Z"
    }
   },
   "outputs": [],
   "source": [
    "p = (\n",
    "    p9.ggplot(uninfected_barcode_count,\n",
    "              p9.aes(x='count'))\n",
    "    + p9.geom_histogram(bins=80)\n",
    "    + p9.theme(axis_text_x=p9.element_text(angle=90),\n",
    "               panel_grid_major_x=p9.element_blank()\n",
    "               )\n",
    "    + p9.theme_bw()\n",
    "    + p9.xlab(\"cell barcode count\")\n",
    "    + p9.ylab(\"CCS count\")\n",
    ")\n",
    "_ = p.draw()\n",
    "print('In total we find', len(uninfected_barcode_count.index),\n",
    "      'unique barcodes that are counted',\n",
    "      'as uninfected based on illumina sequencing ')\n",
    "print('This is how CCSs are distributed in uninfected cells:')"
   ]
  },
  {
   "cell_type": "markdown",
   "metadata": {},
   "source": [
    "### CCSs in ambiguous cells"
   ]
  },
  {
   "cell_type": "code",
   "execution_count": null,
   "metadata": {
    "execution": {
     "iopub.execute_input": "2021-10-15T21:59:20.114115Z",
     "iopub.status.busy": "2021-10-15T21:59:20.113319Z",
     "iopub.status.idle": "2021-10-15T21:59:20.215103Z",
     "shell.execute_reply": "2021-10-15T21:59:20.215614Z"
    }
   },
   "outputs": [],
   "source": [
    "ambiguous = df_merged.loc[df_merged['infected'] == 'ambiguous']\n",
    "ambiguous_barcode_count = (\n",
    "                            ambiguous\n",
    "                            .groupby(['cell_barcode'])\n",
    "                            .agg({'cell_barcode': 'count'})\n",
    ")\n",
    "ambiguous_barcode_count.columns = ['count']"
   ]
  },
  {
   "cell_type": "code",
   "execution_count": null,
   "metadata": {
    "execution": {
     "iopub.execute_input": "2021-10-15T21:59:20.218416Z",
     "iopub.status.busy": "2021-10-15T21:59:20.217561Z",
     "iopub.status.idle": "2021-10-15T21:59:20.601491Z",
     "shell.execute_reply": "2021-10-15T21:59:20.602037Z"
    }
   },
   "outputs": [],
   "source": [
    "p = (\n",
    "    p9.ggplot(ambiguous_barcode_count,\n",
    "              p9.aes(x='count'))\n",
    "    + p9.geom_histogram(bins=80)\n",
    "    + p9.theme(axis_text_x=p9.element_text(angle=90),\n",
    "               panel_grid_major_x=p9.element_blank()\n",
    "               )\n",
    "    + p9.theme_bw()\n",
    "    + p9.xlab(\"cell barcode count\")\n",
    "    + p9.ylab(\"CCS count\")\n",
    ")\n",
    "_ = p.draw()\n",
    "print('In total we find', len(ambiguous_barcode_count.index),\n",
    "      'unique barcodes that are counted',\n",
    "      'as ambiguous based on illumina sequencing ')\n",
    "print('This is how CCSs are distributed in ambiguous cells:')"
   ]
  },
  {
   "cell_type": "markdown",
   "metadata": {},
   "source": [
    "### CCSs in infected cells"
   ]
  },
  {
   "cell_type": "code",
   "execution_count": null,
   "metadata": {
    "execution": {
     "iopub.execute_input": "2021-10-15T21:59:20.604817Z",
     "iopub.status.busy": "2021-10-15T21:59:20.603975Z",
     "iopub.status.idle": "2021-10-15T21:59:21.179946Z",
     "shell.execute_reply": "2021-10-15T21:59:21.180536Z"
    }
   },
   "outputs": [],
   "source": [
    "infected = df_merged.loc[df_merged['infected'] == 'infected']\n",
    "\n",
    "infected_barcode_count = (\n",
    "                          infected\n",
    "                          .groupby(['cell_barcode'])\n",
    "                          .agg({'cell_barcode': 'count'})\n",
    ")\n",
    "infected_barcode_count = (\n",
    "                          infected_barcode_count\n",
    "                          .rename(columns={'cell_barcode': 'count'})\n",
    ")"
   ]
  },
  {
   "cell_type": "code",
   "execution_count": null,
   "metadata": {
    "execution": {
     "iopub.execute_input": "2021-10-15T21:59:21.183480Z",
     "iopub.status.busy": "2021-10-15T21:59:21.182623Z",
     "iopub.status.idle": "2021-10-15T21:59:21.596061Z",
     "shell.execute_reply": "2021-10-15T21:59:21.596487Z"
    }
   },
   "outputs": [],
   "source": [
    "p = (\n",
    "    p9.ggplot(infected_barcode_count,\n",
    "              p9.aes(x='count'))\n",
    "    + p9.geom_histogram(bins=100)\n",
    "    + p9.theme(axis_text_x=p9.element_text(angle=90),\n",
    "               panel_grid_major_x=p9.element_blank()\n",
    "               )\n",
    "    + p9.theme_bw()\n",
    "    + p9.xlab(\"cell barcode count\")\n",
    "    + p9.ylab(\"CCS count\")\n",
    ")\n",
    "_ = p.draw()\n",
    "\n",
    "print('In total we find', len(infected_barcode_count.index),\n",
    "      'unique infected barcodes')\n",
    "print('This is how CCSs are distributed per cell barcode:')"
   ]
  },
  {
   "cell_type": "markdown",
   "metadata": {},
   "source": [
    "## UMI counts"
   ]
  },
  {
   "cell_type": "markdown",
   "metadata": {},
   "source": [
    "Here we count unique UMIs. We group by cell barcode + gene + UMI to identify unique UMIs."
   ]
  },
  {
   "cell_type": "code",
   "execution_count": null,
   "metadata": {
    "execution": {
     "iopub.execute_input": "2021-10-15T21:59:21.598765Z",
     "iopub.status.busy": "2021-10-15T21:59:21.598107Z",
     "iopub.status.idle": "2021-10-15T21:59:22.977291Z",
     "shell.execute_reply": "2021-10-15T21:59:22.977756Z"
    }
   },
   "outputs": [],
   "source": [
    "UMI_count = (\n",
    "    df_merged\n",
    "    .groupby(['UMI_sequence', 'cell_barcode', 'gene'])\n",
    "    .agg({'UMI_sequence': 'count'})\n",
    ")\n",
    "UMI_count.columns = ['count']\n",
    "UMI_count.head()"
   ]
  },
  {
   "cell_type": "code",
   "execution_count": null,
   "metadata": {
    "execution": {
     "iopub.execute_input": "2021-10-15T21:59:22.980135Z",
     "iopub.status.busy": "2021-10-15T21:59:22.979450Z",
     "iopub.status.idle": "2021-10-15T21:59:26.162103Z",
     "shell.execute_reply": "2021-10-15T21:59:26.162555Z"
    }
   },
   "outputs": [],
   "source": [
    "p = (\n",
    "    p9.ggplot(UMI_count,\n",
    "              p9.aes(x='count'))\n",
    "    + p9.geom_histogram(bins=80)\n",
    "    + p9.theme(axis_text_x=p9.element_text(angle=90),\n",
    "               panel_grid_major_x=p9.element_blank()\n",
    "               )\n",
    "    + p9.theme_bw()\n",
    "    + p9.xlab(\"CCSs per UMI\")\n",
    "    + p9.ylab(\"number of UMIs\")\n",
    ")\n",
    "_ = p.draw()\n",
    "\n",
    "print('max number of CCSs per UMI is', UMI_count['count'].max())"
   ]
  },
  {
   "cell_type": "code",
   "execution_count": null,
   "metadata": {
    "execution": {
     "iopub.execute_input": "2021-10-15T21:59:26.165001Z",
     "iopub.status.busy": "2021-10-15T21:59:26.164183Z",
     "iopub.status.idle": "2021-10-15T21:59:26.183564Z",
     "shell.execute_reply": "2021-10-15T21:59:26.184010Z"
    }
   },
   "outputs": [],
   "source": [
    "UMI_count_table = (\n",
    "                  UMI_count\n",
    "                  .rename(columns={'count': 'no_of_CCSs'})\n",
    "                  .groupby(['no_of_CCSs'])\n",
    "                  .agg({'no_of_CCSs': 'count'})\n",
    ")\n",
    "print('Here\\'s how many CCSs each UMI has:')\n",
    "UMI_count_table.rename(columns={'no_of_CCSs': 'no of UMIs'})"
   ]
  },
  {
   "cell_type": "markdown",
   "metadata": {},
   "source": [
    "# Call consensus per UMI"
   ]
  },
  {
   "cell_type": "markdown",
   "metadata": {},
   "source": [
    "Here we'll call per UMI consensus only in infected cells. We also remove any mutations that are duplicates in the same UMI (this is becasue we used overlapping primers for linearization PCR)."
   ]
  },
  {
   "cell_type": "code",
   "execution_count": null,
   "metadata": {
    "execution": {
     "iopub.execute_input": "2021-10-15T21:59:26.186322Z",
     "iopub.status.busy": "2021-10-15T21:59:26.185652Z",
     "iopub.status.idle": "2021-10-15T21:59:30.238181Z",
     "shell.execute_reply": "2021-10-15T21:59:30.238669Z"
    }
   },
   "outputs": [],
   "source": [
    "# remove duplicate mutation strings\n",
    "all_mutations_dupRM = (\n",
    "    infected['all_mutations_orf_numbered_noT3']\n",
    "    .str.replace(r'\\b(\\w+)(\\s+\\1)+\\b', r'\\1')\n",
    ")\n",
    "\n",
    "infected['all_mutations_orf_numbered_noT3_dupRM'] = all_mutations_dupRM"
   ]
  },
  {
   "cell_type": "markdown",
   "metadata": {},
   "source": [
    "Sometimes consecutive deletions are called as separate mutations by alignparse, so we apply `merge_dels` function to `all_mutations_orf_numbered_noT3_dupRM` column to merge consecutive."
   ]
  },
  {
   "cell_type": "code",
   "execution_count": null,
   "metadata": {
    "execution": {
     "iopub.execute_input": "2021-10-15T21:59:30.241034Z",
     "iopub.status.busy": "2021-10-15T21:59:30.240322Z",
     "iopub.status.idle": "2021-10-15T21:59:43.174251Z",
     "shell.execute_reply": "2021-10-15T21:59:43.174807Z"
    }
   },
   "outputs": [],
   "source": [
    "infected = infected.replace(np.nan, '', regex=True)\n",
    "infected['all_mutations_orf_numbered_noT3_dupRM'] = (\n",
    "    infected['all_mutations_orf_numbered_noT3_dupRM']\n",
    "    .str.replace('nan', '[]')\n",
    ")\n",
    "\n",
    "infected['all_mutations_delsMerge'] = (\n",
    "    infected['all_mutations_orf_numbered_noT3_dupRM']\n",
    "    .apply(alignparse.utils.merge_dels)\n",
    ")"
   ]
  },
  {
   "cell_type": "markdown",
   "metadata": {},
   "source": [
    "Call consensus on mutations on `all_mutations_delsMerge` column that has mutations in 3' termini removed, duplicated mutations removed, and consecutive deletions merged."
   ]
  },
  {
   "cell_type": "code",
   "execution_count": null,
   "metadata": {
    "execution": {
     "iopub.execute_input": "2021-10-15T21:59:43.177494Z",
     "iopub.status.busy": "2021-10-15T21:59:43.176805Z",
     "iopub.status.idle": "2021-10-15T22:01:01.010752Z",
     "shell.execute_reply": "2021-10-15T22:01:01.011321Z"
    }
   },
   "outputs": [],
   "source": [
    "consensus, dropped = alignparse.consensus.simple_mutconsensus(\n",
    "    infected,\n",
    "    group_cols=['cellbarcode_sequence', 'transcript', 'UMI_sequence'],\n",
    "    mutation_col='all_mutations_delsMerge',\n",
    "    max_sub_diffs=5,\n",
    "    max_indel_diffs=10,\n",
    "    max_minor_sub_frac=0.3,\n",
    "    max_minor_indel_frac=0.3,\n",
    "    support_col='variant_call_support'\n",
    ")"
   ]
  },
  {
   "cell_type": "code",
   "execution_count": null,
   "metadata": {
    "execution": {
     "iopub.execute_input": "2021-10-15T22:01:01.013945Z",
     "iopub.status.busy": "2021-10-15T22:01:01.013243Z",
     "iopub.status.idle": "2021-10-15T22:01:01.018406Z",
     "shell.execute_reply": "2021-10-15T22:01:01.018841Z"
    }
   },
   "outputs": [],
   "source": [
    "print('We dropped', len(dropped.index),\n",
    "      'UMIs, which were supported by',\n",
    "      dropped['nseqs'].sum(), 'CSSs')"
   ]
  },
  {
   "cell_type": "code",
   "execution_count": null,
   "metadata": {
    "execution": {
     "iopub.execute_input": "2021-10-15T22:01:01.021514Z",
     "iopub.status.busy": "2021-10-15T22:01:01.020672Z",
     "iopub.status.idle": "2021-10-15T22:01:01.833098Z",
     "shell.execute_reply": "2021-10-15T22:01:01.833714Z"
    }
   },
   "outputs": [],
   "source": [
    "#reverse complement cell barcode\n",
    "consensus['cellbarcode_sequence'] = consensus['cellbarcode_sequence'].apply(lambda x: str(Seq(x).complement())[::-1])"
   ]
  },
  {
   "cell_type": "markdown",
   "metadata": {},
   "source": [
    "Finally, we export the consensus table"
   ]
  },
  {
   "cell_type": "code",
   "execution_count": null,
   "metadata": {
    "execution": {
     "iopub.execute_input": "2021-10-15T22:01:01.836548Z",
     "iopub.status.busy": "2021-10-15T22:01:01.835725Z",
     "iopub.status.idle": "2021-10-15T22:01:08.415085Z",
     "shell.execute_reply": "2021-10-15T22:01:08.415599Z"
    }
   },
   "outputs": [],
   "source": [
    "consensus.to_csv(consensus_UMI_mutations,\n",
    "                 index=False, compression='gzip')"
   ]
  }
 ],
 "metadata": {
  "kernelspec": {
   "display_name": "Python 3",
   "language": "python",
   "name": "python3"
  },
  "language_info": {
   "codemirror_mode": {
    "name": "ipython",
    "version": 3
   },
   "file_extension": ".py",
   "mimetype": "text/x-python",
   "name": "python",
   "nbconvert_exporter": "python",
   "pygments_lexer": "ipython3",
   "version": "3.8.6"
  }
 },
 "nbformat": 4,
 "nbformat_minor": 4
}
