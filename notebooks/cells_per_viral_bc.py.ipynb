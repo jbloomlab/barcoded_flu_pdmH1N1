{
 "cells": [
  {
   "cell_type": "markdown",
   "metadata": {},
   "source": [
    "# Cells per viral barcode\n",
    "This notebook filters calculates and plots the number of cells each viral barcode appears in."
   ]
  },
  {
   "cell_type": "markdown",
   "metadata": {},
   "source": [
    "## Notebook setup\n",
    "Import python modules:"
   ]
  },
  {
   "cell_type": "code",
   "execution_count": null,
   "metadata": {},
   "outputs": [],
   "source": [
    "from IPython.display import display\n",
    "\n",
    "from dms_variants.constants import CBPALETTE\n",
    "\n",
    "import pandas as pd\n",
    "\n",
    "import plotnine as p9"
   ]
  },
  {
   "cell_type": "markdown",
   "metadata": {},
   "source": [
    "Get `snakemake` variables [as described here](https://snakemake.readthedocs.io/en/stable/snakefiles/rules.html#jupyter-notebook-integration):"
   ]
  },
  {
   "cell_type": "code",
   "execution_count": null,
   "metadata": {},
   "outputs": [],
   "source": [
    "viral_bc_background_freq_csv = (snakemake\n",
    "                                .output\n",
    "                                .viral_bc_background_freq_csv)\n",
    "cells_per_viral_bc_csv = (snakemake\n",
    "                          .output\n",
    "                          .cells_per_viral_bc_csv)\n",
    "expt = snakemake.wildcards.expt\n",
    "plot = snakemake.output.plot\n",
    "barcoded_viral_genes = snakemake.params.barcoded_viral_genes"
   ]
  },
  {
   "cell_type": "markdown",
   "metadata": {},
   "source": [
    "## Organize data\n",
    "Read the viral barcode UMI counts data into a pandas dataframe:"
   ]
  },
  {
   "cell_type": "code",
   "execution_count": null,
   "metadata": {},
   "outputs": [],
   "source": [
    "viral_bc_frac = pd.read_csv(viral_bc_background_freq_csv)\n",
    "assert set(viral_bc_frac['gene']) == set(barcoded_viral_genes), \\\n",
    "       \"Barcoded genes in barcode counts do not match expectation.\"\n",
    "\n",
    "display(viral_bc_frac)"
   ]
  },
  {
   "cell_type": "markdown",
   "metadata": {},
   "source": [
    "Set base plot style:"
   ]
  },
  {
   "cell_type": "code",
   "execution_count": null,
   "metadata": {},
   "outputs": [],
   "source": [
    "p9.theme_set(p9.theme_classic())"
   ]
  },
  {
   "cell_type": "markdown",
   "metadata": {},
   "source": [
    "## Cells per viral barcode\n",
    "Next, I want to remove viral barcodes that are found above background in multiple cells. This should be very unlikely in a low MOI infection.\n",
    "\n",
    "Calculate the number of cells each viral barcode is found in:"
   ]
  },
  {
   "cell_type": "code",
   "execution_count": null,
   "metadata": {},
   "outputs": [],
   "source": [
    "n_cell_bc = (viral_bc_frac\n",
    "             .groupby(['infecting_viral_tag',\n",
    "                       'gene',\n",
    "                       'viral_barcode',\n",
    "                       'reject_uninfected'])\n",
    "             ['cell_barcode']\n",
    "             .nunique()\n",
    "             .reset_index()\n",
    "             .rename(columns={'cell_barcode': 'n_cell_bc'}))\n",
    "\n",
    "n_cell_bc\n",
    "\n",
    "viral_bc_frac = pd.merge(\n",
    "    viral_bc_frac,\n",
    "    n_cell_bc,\n",
    "    on=['infecting_viral_tag',\n",
    "        'gene',\n",
    "        'viral_barcode',\n",
    "        'reject_uninfected'],\n",
    "    how='left')\n",
    "\n",
    "viral_bc_frac"
   ]
  },
  {
   "cell_type": "markdown",
   "metadata": {},
   "source": [
    "Plot distribution of cell barcode per viral barcode:"
   ]
  },
  {
   "cell_type": "code",
   "execution_count": null,
   "metadata": {},
   "outputs": [],
   "source": [
    "fig = (p9.ggplot(viral_bc_frac\n",
    "                 .query('reject_uninfected == True')) +\n",
    "       p9.geom_histogram(p9.aes(x='n_cell_bc'),\n",
    "                         binwidth=1,\n",
    "                         position='dodge') +\n",
    "       p9.facet_grid('~gene') +\n",
    "       p9.ggtitle('Number of cells per viral barcode\\n'\n",
    "                  f'{expt}') +\n",
    "       p9.xlab('n_cells') +\n",
    "       p9.theme(figure_size=(5, 2),\n",
    "                plot_title=p9.element_text(size=11),\n",
    "                axis_title=p9.element_text(size=10),\n",
    "                legend_title=p9.element_text(size=10),\n",
    "                legend_title_align='center'))\n",
    "display(fig)"
   ]
  },
  {
   "cell_type": "markdown",
   "metadata": {},
   "source": [
    "### Annotate viral barcodes that are found in more than 1 cell.\n",
    "Now I will label viral barcodes that are found in more than 1 cells."
   ]
  },
  {
   "cell_type": "code",
   "execution_count": null,
   "metadata": {},
   "outputs": [],
   "source": [
    "viral_bc_frac['gt1_cell'] = (viral_bc_frac['n_cell_bc'] > 1)\n",
    "\n",
    "viral_bc_frac"
   ]
  },
  {
   "cell_type": "markdown",
   "metadata": {},
   "source": [
    "Plot number of viral barcodes that were found in too many cells:"
   ]
  },
  {
   "cell_type": "code",
   "execution_count": null,
   "metadata": {},
   "outputs": [],
   "source": [
    "output_fig = (p9.ggplot(viral_bc_frac,\n",
    "                        p9.aes(x='infected',\n",
    "                               fill='gt1_cell')) +\n",
    "              p9.geom_bar(stat='count', position='dodge') +\n",
    "              p9.ggtitle('more than 1 cell per viral barcode\\n'\n",
    "                         f'{expt}') +\n",
    "              p9.facet_grid('~gene') +\n",
    "              p9.theme(figure_size=(4, 2),\n",
    "                       plot_title=p9.element_text(size=10),\n",
    "                       axis_title=p9.element_text(size=10),\n",
    "                       legend_title=p9.element_text(size=9),\n",
    "                       legend_title_align='center') +\n",
    "              p9.scale_fill_manual(CBPALETTE[0:]))\n",
    "display(output_fig)"
   ]
  },
  {
   "cell_type": "markdown",
   "metadata": {},
   "source": [
    "Export plot:"
   ]
  },
  {
   "cell_type": "code",
   "execution_count": null,
   "metadata": {},
   "outputs": [],
   "source": [
    "print(f\"Saving plots to {plot}\")\n",
    "p9.ggsave(plot=output_fig, filename=plot, verbose=False)"
   ]
  },
  {
   "cell_type": "markdown",
   "metadata": {},
   "source": [
    "Export CSV:"
   ]
  },
  {
   "cell_type": "code",
   "execution_count": null,
   "metadata": {},
   "outputs": [],
   "source": [
    "# Export all viral barcodes with new annotation.\n",
    "viral_bc_frac.to_csv(cells_per_viral_bc_csv,\n",
    "                     columns=['cell_barcode',\n",
    "                              'infected',\n",
    "                              'infecting_viral_tag',\n",
    "                              'gene',\n",
    "                              'viral_barcode',\n",
    "                              'frac_viral_bc_UMIs',\n",
    "                              'reject_uninfected',\n",
    "                              'gt1_cell'],\n",
    "                     index=False)"
   ]
  },
  {
   "cell_type": "code",
   "execution_count": null,
   "metadata": {},
   "outputs": [],
   "source": []
  }
 ],
 "metadata": {
  "kernelspec": {
   "display_name": "Python 3",
   "language": "python",
   "name": "python3"
  },
  "language_info": {
   "codemirror_mode": {
    "name": "ipython",
    "version": 3
   },
   "file_extension": ".py",
   "mimetype": "text/x-python",
   "name": "python",
   "nbconvert_exporter": "python",
   "pygments_lexer": "ipython3",
   "version": "3.8.6"
  }
 },
 "nbformat": 4,
 "nbformat_minor": 4
}
