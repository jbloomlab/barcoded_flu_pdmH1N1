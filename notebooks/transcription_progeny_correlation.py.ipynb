{
 "cells": [
  {
   "cell_type": "markdown",
   "metadata": {},
   "source": [
    "# Transcription-Progeny Correlation\n",
    "This notebook plots the correlation between transcription and progeny production for each valid viral barcode in each infected cell "
   ]
  },
  {
   "cell_type": "markdown",
   "metadata": {},
   "source": [
    "Import Python modules:"
   ]
  },
  {
   "cell_type": "code",
   "execution_count": null,
   "metadata": {},
   "outputs": [],
   "source": [
    "from IPython.display import display\n",
    "\n",
    "from dms_variants.constants import CBPALETTE\n",
    "\n",
    "import pandas as pd\n",
    "\n",
    "import plotnine as p9"
   ]
  },
  {
   "cell_type": "markdown",
   "metadata": {},
   "source": [
    "Hardcode variables for now:"
   ]
  },
  {
   "cell_type": "code",
   "execution_count": null,
   "metadata": {},
   "outputs": [],
   "source": [
    "cell_annotations_csv = snakemake.input.cell_annotations\n",
    "viral_barcodes_valid_csv = snakemake.input.viral_barcodes_valid_csv\n",
    "filtered_progeny_viral_bc_csv = snakemake.input.filtered_progeny_viral_bc_csv\n",
    "barcoded_viral_genes = snakemake.params.barcoded_viral_genes\n",
    "expt = expt = snakemake.wildcards.expt\n",
    "plot = snakemake.output.plot\n",
    "transcription_progeny_csv = snakemake.output.transcription_progeny_csv"
   ]
  },
  {
   "cell_type": "markdown",
   "metadata": {},
   "source": [
    "Style parameters. *N.b.* `CBPALETTE` is defined in imports above."
   ]
  },
  {
   "cell_type": "code",
   "execution_count": null,
   "metadata": {},
   "outputs": [],
   "source": [
    "p9.theme_set(p9.theme_classic())"
   ]
  },
  {
   "cell_type": "markdown",
   "metadata": {},
   "source": [
    "### Load data\n",
    "The following data will be loaded:\n",
    "* list of cell barcodes and viral tags\n",
    "* viral barcode transcription measurements\n",
    "* viral progeny measurements"
   ]
  },
  {
   "cell_type": "markdown",
   "metadata": {},
   "source": [
    "Load cell barcodes and viral tags:"
   ]
  },
  {
   "cell_type": "code",
   "execution_count": null,
   "metadata": {},
   "outputs": [],
   "source": [
    "cell_barcodes = pd.read_csv(cell_annotations_csv)\n",
    "cell_barcodes = (\n",
    "    cell_barcodes\n",
    "    [['cell_barcode',\n",
    "      'infected',\n",
    "      'infecting_viral_tag',\n",
    "      'total_UMIs',\n",
    "      'viral_UMIs',\n",
    "      'frac_viral_UMIs']]\n",
    ")\n",
    "display(cell_barcodes)"
   ]
  },
  {
   "cell_type": "markdown",
   "metadata": {},
   "source": [
    "Load viral barcode transcription measurements:"
   ]
  },
  {
   "cell_type": "code",
   "execution_count": null,
   "metadata": {},
   "outputs": [],
   "source": [
    "transcriptome_viral_barcodes = pd.read_csv(viral_barcodes_valid_csv)\n",
    "transcriptome_viral_barcodes = transcriptome_viral_barcodes.drop(columns=['valid_viral_bc'])\n",
    "assert set(transcriptome_viral_barcodes['gene']) == set(barcoded_viral_genes), \\\n",
    "       \"Barcoded genes in barcode counts do not match expectation.\"\n",
    "display(transcriptome_viral_barcodes)"
   ]
  },
  {
   "cell_type": "markdown",
   "metadata": {},
   "source": [
    "Load viral progeny measurements:"
   ]
  },
  {
   "cell_type": "code",
   "execution_count": null,
   "metadata": {},
   "outputs": [],
   "source": [
    "progeny_viral_barcodes = pd.read_csv(filtered_progeny_viral_bc_csv)\n",
    "progeny_viral_barcodes = progeny_viral_barcodes.drop(columns=['Unnamed: 0'])\n",
    "progeny_viral_barcodes = (progeny_viral_barcodes\n",
    "                          .rename(columns={'tag': 'infecting_viral_tag',\n",
    "                                           'average_freq': 'progeny_freq'}))\n",
    "assert set(progeny_viral_barcodes['gene']) == set(barcoded_viral_genes), \\\n",
    "       \"Barcoded genes in barcode counts do not match expectation.\"\n",
    "progeny_sources = list(progeny_viral_barcodes['source'].unique())\n",
    "display(progeny_viral_barcodes)"
   ]
  },
  {
   "cell_type": "markdown",
   "metadata": {},
   "source": [
    "## Integrate data sources.\n",
    "\n",
    "First, make a copy of each cell barcode for each barcoded viral gene and each progeny source:"
   ]
  },
  {
   "cell_type": "code",
   "execution_count": null,
   "metadata": {},
   "outputs": [],
   "source": [
    "viral_barcode_freqs = cell_barcodes.copy()\n",
    "viral_barcode_freqs = (\n",
    "    pd.concat([viral_barcode_freqs\n",
    "               .assign(gene=gene)\n",
    "               for gene in barcoded_viral_genes]))\n",
    "viral_barcode_freqs = (\n",
    "    pd.concat([viral_barcode_freqs\n",
    "               .assign(source=source)\n",
    "               for source in progeny_sources]))\n",
    "assert len(viral_barcode_freqs) == len(cell_barcodes) * \\\n",
    "    len(barcoded_viral_genes) * len(progeny_sources), \\\n",
    "    \"Need one copy of each cell barcode for each data source\"\n",
    "display(viral_barcode_freqs)"
   ]
  },
  {
   "cell_type": "markdown",
   "metadata": {},
   "source": [
    "Merge viral barcode frequencies from the transcriptome:"
   ]
  },
  {
   "cell_type": "code",
   "execution_count": null,
   "metadata": {},
   "outputs": [],
   "source": [
    "viral_barcode_freqs = pd.merge(\n",
    "    left=viral_barcode_freqs,\n",
    "    right=transcriptome_viral_barcodes,\n",
    "    on=['cell_barcode', 'gene'],\n",
    "    how='left'\n",
    "    )\n",
    "display(viral_barcode_freqs)"
   ]
  },
  {
   "cell_type": "markdown",
   "metadata": {},
   "source": [
    "Merge viral barcode frequencies from the progeny:"
   ]
  },
  {
   "cell_type": "code",
   "execution_count": null,
   "metadata": {},
   "outputs": [],
   "source": [
    "viral_barcode_freqs = pd.merge(\n",
    "    left=viral_barcode_freqs,\n",
    "    right=progeny_viral_barcodes,\n",
    "    on=['source', 'infecting_viral_tag', 'gene', 'viral_barcode'],\n",
    "    how='left'\n",
    "    )\n",
    "display(viral_barcode_freqs)"
   ]
  },
  {
   "cell_type": "markdown",
   "metadata": {},
   "source": [
    "## Plot correlation between viral transcription and progeny production:\n",
    "Only look at infected cells that are not doublets:"
   ]
  },
  {
   "cell_type": "code",
   "execution_count": null,
   "metadata": {},
   "outputs": [],
   "source": [
    "infected_cells = (viral_barcode_freqs\n",
    "                  .query('(infected == \"infected\") and '\n",
    "                         '(infecting_viral_tag != \"both\")'))\n",
    "display(infected_cells)"
   ]
  },
  {
   "cell_type": "markdown",
   "metadata": {},
   "source": [
    "Plot the correlation between individual viral barocdes in the transcriptome and the progeny:"
   ]
  },
  {
   "cell_type": "code",
   "execution_count": null,
   "metadata": {},
   "outputs": [],
   "source": [
    "viral_barcode_correlation = (\n",
    "    p9.ggplot((infected_cells),\n",
    "              p9.aes(x='frac_viral_bc_UMIs',\n",
    "                     y='progeny_freq')) +\n",
    "       p9.geom_point(alpha=0.3) +\n",
    "       p9.geom_hline(yintercept=1e-5, linetype='dashed', color=CBPALETTE[2]) +\n",
    "       p9.facet_grid('source~gene') +\n",
    "       p9.ggtitle('viral barcode transcription and progeny production\\n'\n",
    "                  f'{expt}') +\n",
    "       p9.scale_x_log10() +\n",
    "       p9.scale_y_log10() +\n",
    "       p9.labs(x='viral barcode fraction of total UMIs in cell',\n",
    "               y='fraction of total reads in progeny') +\n",
    "       p9.theme(figure_size=(6, 6),\n",
    "                plot_title=p9.element_text(size=9),\n",
    "                axis_title=p9.element_text(size=9),\n",
    "                legend_title=p9.element_text(size=9),\n",
    "                legend_title_align='center'))\n",
    "display(viral_barcode_correlation)"
   ]
  },
  {
   "cell_type": "markdown",
   "metadata": {},
   "source": [
    "Plot the correlation between a cell's total viral burden and progeny production of each infecting viral barcode:"
   ]
  },
  {
   "cell_type": "code",
   "execution_count": null,
   "metadata": {},
   "outputs": [],
   "source": [
    "viral_burden_correlation = (\n",
    "    p9.ggplot((infected_cells),\n",
    "              p9.aes(x='frac_viral_UMIs',\n",
    "                     y='progeny_freq')) +\n",
    "       p9.geom_point(alpha=0.3) +\n",
    "       p9.geom_hline(yintercept=1e-5, linetype='dashed', color=CBPALETTE[2]) +\n",
    "       p9.facet_grid('source~gene') +\n",
    "       p9.ggtitle('viral burden and progeny production\\n'\n",
    "                  f'{expt}') +\n",
    "       p9.scale_x_log10() +\n",
    "       p9.scale_y_log10() +\n",
    "       p9.labs(x='fraction of viral UMIs in cell',\n",
    "               y='fraction of viral barcode reads in progeny') +\n",
    "       p9.theme(figure_size=(6, 6),\n",
    "                plot_title=p9.element_text(size=9),\n",
    "                axis_title=p9.element_text(size=9),\n",
    "                legend_title=p9.element_text(size=9),\n",
    "                legend_title_align='center'))\n",
    "display(viral_burden_correlation)"
   ]
  },
  {
   "cell_type": "markdown",
   "metadata": {},
   "source": [
    "## Output\n",
    "Save the correlation plot and the CSV containing info about viral progeny from infected cells:"
   ]
  },
  {
   "cell_type": "code",
   "execution_count": null,
   "metadata": {},
   "outputs": [],
   "source": [
    "# save plot\n",
    "print(f\"Saving plot to {plot}\")\n",
    "p9.ggsave(plot=viral_barcode_correlation, filename=plot, verbose=False)"
   ]
  },
  {
   "cell_type": "code",
   "execution_count": null,
   "metadata": {},
   "outputs": [],
   "source": [
    "# save CSV\n",
    "infected_cells.to_csv(transcription_progeny_csv, index=False)"
   ]
  },
  {
   "cell_type": "code",
   "execution_count": null,
   "metadata": {},
   "outputs": [],
   "source": []
  }
 ],
 "metadata": {
  "kernelspec": {
   "display_name": "Python 3",
   "language": "python",
   "name": "python3"
  },
  "language_info": {
   "codemirror_mode": {
    "name": "ipython",
    "version": 3
   },
   "file_extension": ".py",
   "mimetype": "text/x-python",
   "name": "python",
   "nbconvert_exporter": "python",
   "pygments_lexer": "ipython3",
   "version": "3.8.6"
  }
 },
 "nbformat": 4,
 "nbformat_minor": 4
}
