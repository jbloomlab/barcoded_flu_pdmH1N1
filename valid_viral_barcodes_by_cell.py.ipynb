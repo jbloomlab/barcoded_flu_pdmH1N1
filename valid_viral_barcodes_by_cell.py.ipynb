{
 "cells": [
  {
   "cell_type": "code",
   "execution_count": 1,
   "metadata": {
    "execution": {
     "iopub.execute_input": "2021-11-19T19:50:34.700826Z",
     "iopub.status.busy": "2021-11-19T19:50:34.700172Z",
     "iopub.status.idle": "2021-11-19T19:50:34.741952Z",
     "shell.execute_reply": "2021-11-19T19:50:34.742654Z"
    },
    "tags": [
     "snakemake-job-properties"
    ]
   },
   "outputs": [],
   "source": [
    "\n",
    "######## snakemake preamble start (automatically inserted, do not edit) ########\n",
    "import sys; sys.path.extend(['/fh/fast/bloom_j/software/miniconda3/envs/barcoded_flu_pdmH1N1/lib/python3.8/site-packages', '/fh/fast/bloom_j/computational_notebooks/dbacsik/2019/flu_pdmH1N1_barcode_hashing/notebooks']); import pickle; snakemake = pickle.loads(b\"\\x80\\x04\\x95\\x1cC\\x00\\x00\\x00\\x00\\x00\\x00\\x8c\\x10snakemake.script\\x94\\x8c\\tSnakemake\\x94\\x93\\x94)\\x81\\x94}\\x94(\\x8c\\x05input\\x94\\x8c\\x0csnakemake.io\\x94\\x8c\\nInputFiles\\x94\\x93\\x94)\\x81\\x94(\\x8c_results/viral_tags_bcs_in_cells/scProgenyProduction_trial3_cell_barcodes_with_viral_tags.csv.gz\\x94\\x8cSresults/viral_fastq10x/scProgenyProduction_trial3_viral_bc_by_cell_corrected.csv.gz\\x94e}\\x94(\\x8c\\x06_names\\x94}\\x94(\\x8c\\x15viral_tag_by_cell_csv\\x94K\\x00N\\x86\\x94\\x8c\\x1eviral_bc_by_cell_corrected_csv\\x94K\\x01N\\x86\\x94u\\x8c\\x12_allowed_overrides\\x94]\\x94(\\x8c\\x05index\\x94\\x8c\\x04sort\\x94eh\\x15\\x8c\\tfunctools\\x94\\x8c\\x07partial\\x94\\x93\\x94h\\x06\\x8c\\x19Namedlist._used_attribute\\x94\\x93\\x94\\x85\\x94R\\x94(h\\x1b)}\\x94\\x8c\\x05_name\\x94h\\x15sNt\\x94bh\\x16h\\x19h\\x1b\\x85\\x94R\\x94(h\\x1b)}\\x94h\\x1fh\\x16sNt\\x94bh\\x0fh\\nh\\x11h\\x0bub\\x8c\\x06output\\x94h\\x06\\x8c\\x0bOutputFiles\\x94\\x93\\x94)\\x81\\x94(\\x8cQresults/viral_fastq10x/scProgenyProduction_trial3_viral_bc_background_freq.csv.gz\\x94\\x8cNresults/viral_fastq10x/scProgenyProduction_trial3_viral_bc_background_freq.pdf\\x94e}\\x94(h\\r}\\x94(\\x8c\\x1cviral_bc_background_freq_csv\\x94K\\x00N\\x86\\x94\\x8c\\x04plot\\x94K\\x01N\\x86\\x94uh\\x13]\\x94(h\\x15h\\x16eh\\x15h\\x19h\\x1b\\x85\\x94R\\x94(h\\x1b)}\\x94h\\x1fh\\x15sNt\\x94bh\\x16h\\x19h\\x1b\\x85\\x94R\\x94(h\\x1b)}\\x94h\\x1fh\\x16sNt\\x94bh-h)h/h*ub\\x8c\\x06params\\x94h\\x06\\x8c\\x06Params\\x94\\x93\\x94)\\x81\\x94(]\\x94(\\x8c\\x05fluHA\\x94\\x8c\\x05fluNA\\x94eG?\\x1a6\\xe2\\xeb\\x1cC-e}\\x94(h\\r}\\x94(\\x8c\\x14barcoded_viral_genes\\x94K\\x00N\\x86\\x94\\x8c\\x03fdr\\x94K\\x01N\\x86\\x94uh\\x13]\\x94(h\\x15h\\x16eh\\x15h\\x19h\\x1b\\x85\\x94R\\x94(h\\x1b)}\\x94h\\x1fh\\x15sNt\\x94bh\\x16h\\x19h\\x1b\\x85\\x94R\\x94(h\\x1b)}\\x94h\\x1fh\\x16sNt\\x94bhCh>hEG?\\x1a6\\xe2\\xeb\\x1cC-ub\\x8c\\twildcards\\x94h\\x06\\x8c\\tWildcards\\x94\\x93\\x94)\\x81\\x94\\x8c\\x1ascProgenyProduction_trial3\\x94a}\\x94(h\\r}\\x94\\x8c\\x04expt\\x94K\\x00N\\x86\\x94sh\\x13]\\x94(h\\x15h\\x16eh\\x15h\\x19h\\x1b\\x85\\x94R\\x94(h\\x1b)}\\x94h\\x1fh\\x15sNt\\x94bh\\x16h\\x19h\\x1b\\x85\\x94R\\x94(h\\x1b)}\\x94h\\x1fh\\x16sNt\\x94b\\x8c\\x04expt\\x94hTub\\x8c\\x07threads\\x94K\\x01\\x8c\\tresources\\x94h\\x06\\x8c\\tResources\\x94\\x93\\x94)\\x81\\x94(K\\x01K\\x01e}\\x94(h\\r}\\x94(\\x8c\\x06_cores\\x94K\\x00N\\x86\\x94\\x8c\\x06_nodes\\x94K\\x01N\\x86\\x94uh\\x13]\\x94(h\\x15h\\x16eh\\x15h\\x19h\\x1b\\x85\\x94R\\x94(h\\x1b)}\\x94h\\x1fh\\x15sNt\\x94bh\\x16h\\x19h\\x1b\\x85\\x94R\\x94(h\\x1b)}\\x94h\\x1fh\\x16sNt\\x94bhjK\\x01hlK\\x01ub\\x8c\\x03log\\x94h\\x06\\x8c\\x03Log\\x94\\x93\\x94)\\x81\\x94\\x8cFresults/logs/viral_bc_background_freq_scProgenyProduction_trial3.ipynb\\x94a}\\x94(h\\r}\\x94\\x8c\\x08notebook\\x94K\\x00N\\x86\\x94sh\\x13]\\x94(h\\x15h\\x16eh\\x15h\\x19h\\x1b\\x85\\x94R\\x94(h\\x1b)}\\x94h\\x1fh\\x15sNt\\x94bh\\x16h\\x19h\\x1b\\x85\\x94R\\x94(h\\x1b)}\\x94h\\x1fh\\x16sNt\\x94bh~h{ub\\x8c\\x06config\\x94}\\x94(\\x8c\\x08max_cpus\\x94K\\x10\\x8c\\x07log_dir\\x94\\x8c\\x0cresults/logs\\x94\\x8c\\x0cfastq10x_dir\\x94\\x8c\\x10results/fastq10x\\x94\\x8c\\npacbio_dir\\x94\\x8c\\x0eresults/pacbio\\x94\\x8c\\x0emkfastq10x_dir\\x94\\x8c\\x1fresults/fastq10x/mkfastq_output\\x94\\x8c\\ngenome_dir\\x94\\x8c\\x0fresults/genomes\\x94\\x8c\\trefgenome\\x94\\x8c\\x19results/genomes/refgenome\\x94\\x8c\\x14aligned_fastq10x_dir\\x94\\x8c\\x18results/aligned_fastq10x\\x94\\x8c\\x12viral_fastq10x_dir\\x94\\x8c\\x16results/viral_fastq10x\\x94\\x8c\\x1bviral_tags_bcs_in_cells_dir\\x94\\x8c\\x1fresults/viral_tags_bcs_in_cells\\x94\\x8c\\x11viral_progeny_dir\\x94\\x8c\\x15results/viral_progeny\\x94\\x8c\\x13align_and_parse_dir\\x94\\x8c#results/pacbio/CA09_align_and_parse\\x94\\x8c\\x0fcell_genome_ftp\\x94\\x8cmftp://ftp.ensembl.org/pub/release-98/fasta/canis_familiaris/dna/Canis_familiaris.CanFam3.1.dna.toplevel.fa.gz\\x94\\x8c\\x0ccell_gtf_ftp\\x94\\x8c^ftp://ftp.ensembl.org/pub/release-98/gtf/canis_familiaris/Canis_familiaris.CanFam3.1.98.gtf.gz\\x94\\x8c\\x0cviral_genome\\x94\\x8c!data/flu_sequences/flu-CA09.fasta\\x94\\x8c\\tviral_gtf\\x94\\x8c\\x1fdata/flu_sequences/flu-CA09.gtf\\x94\\x8c\\rviral_genbank\\x94\\x8c\\x1edata/flu_sequences/flu-CA09.gb\\x94\\x8c\\x14viral_tag_identities\\x94\\x8c+data/flu_sequences/flu-CA09_viral_tags.yaml\\x94\\x8c\\x0fviral_amplicons\\x94\\x8c.data/flu_sequences/pacbio_amplicons/fluCA09.gb\\x94\\x8c\\x11amplicon_features\\x94\\x8c9data/flu_sequences/pacbio_amplicons/fluCA09_features.yaml\\x94\\x8c\\x1eamplicon_linearization_primers\\x94\\x8c=data/flu_sequences/pacbio_amplicons/linearization_primers.tsv\\x94\\x8c\\x15amplicon_to_reference\\x94\\x8c=data/flu_sequences/pacbio_amplicons/amplicon_to_reference.csv\\x94\\x8c\\x0escoreGapNoncan\\x94J\\xfc\\xff\\xff\\xff\\x8c\\x0cscoreGapGCAG\\x94J\\xfc\\xff\\xff\\xff\\x8c\\x0cscoreGapATAC\\x94J\\xfc\\xff\\xff\\xff\\x8c\\x14cb_whitelist_10x_url\\x94\\x8ckhttps://github.com/10XGenomics/cellranger/raw/master/lib/python/cellranger/barcodes/3M-february-2018.txt.gz\\x94\\x8c\\x10cb_whitelist_10x\\x94\\x8c-results/aligned_fastq10x/cb_whitelist_10x.txt\\x94\\x8c\\ncb_len_10x\\x94K\\x10\\x8c\\x0bumi_len_10x\\x94K\\x0c\\x8c\\x13infection_threshold\\x94G?\\x84z\\xe1G\\xae\\x14{\\x8c\\rviral_tag_fdr\\x94G?\\x1a6\\xe2\\xeb\\x1cC-\\x8c\\x1dviral_barcode_upstream_length\\x94K\\x1c\\x8c\\x16viral_barcode_mismatch\\x94K\\x00\\x8c\\x12viral_barcode_minq\\x94K\\x1e\\x8c\\x0cviral_bc_fdr\\x94G?\\x1a6\\xe2\\xeb\\x1cC-\\x8c\\x0eccs_min_length\\x94K2\\x8c\\x0eccs_max_length\\x94M\\x88\\x13\\x8c\\nccs_min_rq\\x94G?\\xef\\xf7\\xce\\xd9\\x16\\x87+\\x8c\\x0bexperiments\\x94}\\x94(\\x8c\\x0ehashing_lowMOI\\x94}\\x94(\\x8c\\x0bdescription\\x94X*\\x01\\x00\\x00Single-cell transcriptomics using the wildtype and dblySyn viral tag variants. Infection volume was chosen based on the results of `hashing_trial1` and flow cytometry. The incolum volume for the wildtype tag variant was about 12-fold higher, and for the dblSyn tag variant was about 24-fold higher.\\x94\\x8c\\tlab_notes\\x94\\x8c0https://benchling.com/s/etr-W8urOmOAQ7L6U4HAXMNy\\x94\\x8c\\rexpect_ncells\\x94M\\x88\\x13\\x8c\\x0ftranscriptomics\\x94}\\x94(\\x8c\\x08datetime\\x94\\x8c\\x04date\\x94\\x93\\x94C\\x04\\x07\\xe4\\x06\\x02\\x94\\x85\\x94R\\x94}\\x94(\\x8c\\x05index\\x94\\x8c\\x08SI-GA-B3\\x94\\x8c\\nbcl_folder\\x94\\x8cG/home/solexa/ngs/illumina/bloom_lab/200602_M03100_0578_000000000-J3464/\\x94\\x8c\\x04lane\\x94\\x8c\\x01*\\x94\\x8c\\x10index_sequencing\\x94\\x8c\\x06single\\x94uh\\xd5C\\x04\\x07\\xe4\\x07\\x01\\x94\\x85\\x94R\\x94}\\x94(\\x8c\\x05index\\x94\\x8c\\x08SI-GA-B3\\x94\\x8c\\nbcl_folder\\x94\\x8c^/shared/ngs/illumina/agreaney/200701_D00300_0988_BHGFGMBCX3/raw/200701_D00300_0988_BHGFGMBCX3/\\x94\\x8c\\x04lane\\x94K\\x02\\x8c\\x10index_sequencing\\x94\\x8c\\x06single\\x94uh\\xd5C\\x04\\x07\\xe4\\x08\\x1a\\x94\\x85\\x94R\\x94}\\x94(\\x8c\\x05index\\x94\\x8c\\x08SI-GA-B3\\x94\\x8c\\nbcl_folder\\x94\\x8ci/shared/ngs/illumina/bloom_lab/bloom_lab/200826_D00300_1040_BHHGLWBCX3/raw/200826_D00300_1040_BHHGLWBCX3/\\x94\\x8c\\x04lane\\x94h\\xdf\\x8c\\x10index_sequencing\\x94\\x8c\\x06single\\x94uh\\xd5C\\x04\\x07\\xe5\\x03\\x0c\\x94\\x85\\x94R\\x94}\\x94(\\x8c\\x05index\\x94\\x8c\\x08SI-GA-B3\\x94\\x8c\\nbcl_folder\\x94\\x8c_/shared/ngs/illumina/bloom_lab/210312_D00300_1192_BHKHNYBCX3/raw/210312_D00300_1192_BHKHNYBCX3/\\x94\\x8c\\x04lane\\x94K\\x01\\x8c\\x10index_sequencing\\x94\\x8c\\x06single\\x94uuu\\x8c\\x0fhashing_highMOI\\x94}\\x94(\\x8c\\x0bdescription\\x94\\x8c\\x9aSingle-cell transcriptomics using the wildtype and dblSyn viral tag variants at a high MOI. Infection volume was based on the results of `hashing_trial2`.\\x94\\x8c\\tlab_notes\\x94\\x8c0https://benchling.com/s/etr-ToK66qT0Mfmf6FsexKo4\\x94\\x8c\\rexpect_ncells\\x94M\\x88\\x13\\x8c\\x0ftranscriptomics\\x94}\\x94(h\\xd5C\\x04\\x07\\xe4\\x07\\x18\\x94\\x85\\x94R\\x94}\\x94(\\x8c\\x05index\\x94\\x8c\\x08SI-GA-B5\\x94\\x8c\\nbcl_folder\\x94\\x8cB/shared/ngs/illumina/bloom_lab/200724_M03100_0593_000000000-J33YK/\\x94\\x8c\\x04lane\\x94h\\xdf\\x8c\\x10index_sequencing\\x94\\x8c\\x06single\\x94uh\\xd5C\\x04\\x07\\xe4\\x08\\x1a\\x94\\x85\\x94R\\x94}\\x94(\\x8c\\x05index\\x94\\x8c\\x08SI-GA-B5\\x94\\x8c\\nbcl_folder\\x94\\x8ci/shared/ngs/illumina/bloom_lab/bloom_lab/200826_D00300_1040_BHHGLWBCX3/raw/200826_D00300_1040_BHHGLWBCX3/\\x94\\x8c\\x04lane\\x94h\\xdf\\x8c\\x10index_sequencing\\x94\\x8c\\x06single\\x94uh\\xd5C\\x04\\x07\\xe5\\x03\\x0c\\x94\\x85\\x94R\\x94}\\x94(\\x8c\\x05index\\x94\\x8c\\x08SI-GA-B5\\x94\\x8c\\nbcl_folder\\x94\\x8c_/shared/ngs/illumina/bloom_lab/210312_D00300_1192_BHKHNYBCX3/raw/210312_D00300_1192_BHKHNYBCX3/\\x94\\x8c\\x04lane\\x94K\\x02\\x8c\\x10index_sequencing\\x94\\x8c\\x06single\\x94uu\\x8c\\x17pacbio_viral_sequencing\\x94}\\x94\\x8c\\x1c2020-10-20_all_segments_run1\\x94\\x8cw/fh/fast/bloom_j/SR/ngs/pacbio/201019_BernadetaDadonaite/r54228_20201020_192758/1_A01/m54228_201020_194205.subreads.bam\\x94su\\x8c\\x1ascProgenyProduction_trial1\\x94}\\x94(\\x8c\\x0bdescription\\x94\\x8c\\xe7Single-cell transcriptomics performed on low MOI-infected sample. Innoculum volumes based on `hashing_trial2` data. Loaded all collected cells from two 24-well wells, each infected with either wildtype or dblySn viral tag variants.\\x94\\x8c\\tlab_notes\\x94\\x8c0https://benchling.com/s/etr-20lOO7l1FdEJJIpxV6vD\\x94\\x8c\\rexpect_ncells\\x94M\\x10'\\x8c\\x0ftranscriptomics\\x94}\\x94h\\xd5C\\x04\\x07\\xe4\\t\\x19\\x94\\x85\\x94R\\x94}\\x94(\\x8c\\x05index\\x94\\x8c\\x08SI-GA-B8\\x94\\x8c\\nbcl_folder\\x94\\x8c_/shared/ngs/illumina/bloom_lab/200925_D00300_1065_AHHL7NBCX3/raw/200925_D00300_1065_AHHL7NBCX3/\\x94\\x8c\\x04lane\\x94K\\x02\\x8c\\x10index_sequencing\\x94\\x8c\\x06single\\x94us\\x8c\\x0eviral_barcodes\\x94}\\x94(\\x8c\\x0bsupernatant\\x94}\\x94(\\x8c\\x02wt\\x94}\\x94(\\x8c\\x05fluHA\\x94}\\x94(\\x8c\\x0breplicate_1\\x94}\\x94h\\xd5C\\x04\\x07\\xe4\\n\\r\\x94\\x85\\x94R\\x94\\x8c\\x8a/shared/ngs/illumina/bloom_lab/201013_M03100_0625_000000000-JB2KP/Data/Intensities/BaseCalls/Trial1-WT-Sup-fluHA-A_S1_L001_R1_001.fastq.gz\\x94s\\x8c\\x0breplicate_2\\x94}\\x94h\\xd5C\\x04\\x07\\xe4\\n\\r\\x94\\x85\\x94R\\x94\\x8c\\x8a/shared/ngs/illumina/bloom_lab/201013_M03100_0625_000000000-JB2KP/Data/Intensities/BaseCalls/Trial1-WT-Sup-fluHA-B_S2_L001_R1_001.fastq.gz\\x94su\\x8c\\x05fluNA\\x94}\\x94(\\x8c\\x0breplicate_1\\x94}\\x94h\\xd5C\\x04\\x07\\xe4\\n\\r\\x94\\x85\\x94R\\x94\\x8c\\x8b/shared/ngs/illumina/bloom_lab/201013_M03100_0625_000000000-JB2KP/Data/Intensities/BaseCalls/Trial1-WT-Sup-fluNA-A_S17_L001_R1_001.fastq.gz\\x94s\\x8c\\x0breplicate_2\\x94}\\x94h\\xd5C\\x04\\x07\\xe4\\n\\r\\x94\\x85\\x94R\\x94\\x8c\\x8b/shared/ngs/illumina/bloom_lab/201013_M03100_0625_000000000-JB2KP/Data/Intensities/BaseCalls/Trial1-WT-Sup-fluNA-B_S18_L001_R1_001.fastq.gz\\x94suu\\x8c\\x03syn\\x94}\\x94(\\x8c\\x05fluHA\\x94}\\x94(\\x8c\\x0breplicate_1\\x94}\\x94h\\xd5C\\x04\\x07\\xe4\\n\\r\\x94\\x85\\x94R\\x94\\x8c\\x8e/shared/ngs/illumina/bloom_lab/201013_M03100_0625_000000000-JB2KP/Data/Intensities/BaseCalls/Trial1-dblSyn-Sup-fluHA-A_S3_L001_R1_001.fastq.gz\\x94s\\x8c\\x0breplicate_2\\x94}\\x94h\\xd5C\\x04\\x07\\xe4\\n\\r\\x94\\x85\\x94R\\x94\\x8c\\x8e/shared/ngs/illumina/bloom_lab/201013_M03100_0625_000000000-JB2KP/Data/Intensities/BaseCalls/Trial1-dblSyn-Sup-fluHA-B_S4_L001_R1_001.fastq.gz\\x94su\\x8c\\x05fluNA\\x94}\\x94(\\x8c\\x0breplicate_1\\x94}\\x94h\\xd5C\\x04\\x07\\xe4\\n\\r\\x94\\x85\\x94R\\x94\\x8c\\x8f/shared/ngs/illumina/bloom_lab/201013_M03100_0625_000000000-JB2KP/Data/Intensities/BaseCalls/Trial1-dblSyn-Sup-fluNA-A_S19_L001_R1_001.fastq.gz\\x94s\\x8c\\x0breplicate_2\\x94}\\x94h\\xd5C\\x04\\x07\\xe4\\n\\r\\x94\\x85\\x94R\\x94\\x8c\\x8f/shared/ngs/illumina/bloom_lab/201013_M03100_0625_000000000-JB2KP/Data/Intensities/BaseCalls/Trial1-dblSyn-Sup-fluNA-B_S20_L001_R1_001.fastq.gz\\x94suuu\\x8c\\x10second_infection\\x94}\\x94(\\x8c\\x02wt\\x94}\\x94(\\x8c\\x05fluHA\\x94}\\x94(\\x8c\\x0breplicate_1\\x94}\\x94h\\xd5C\\x04\\x07\\xe4\\n\\r\\x94\\x85\\x94R\\x94\\x8c\\x90/shared/ngs/illumina/bloom_lab/201013_M03100_0625_000000000-JB2KP/Data/Intensities/BaseCalls/Trial1-WT-SecondInf-fluHA-A_S5_L001_R1_001.fastq.gz\\x94s\\x8c\\x0breplicate_2\\x94}\\x94h\\xd5C\\x04\\x07\\xe4\\n\\r\\x94\\x85\\x94R\\x94\\x8c\\x90/shared/ngs/illumina/bloom_lab/201013_M03100_0625_000000000-JB2KP/Data/Intensities/BaseCalls/Trial1-WT-SecondInf-fluHA-B_S6_L001_R1_001.fastq.gz\\x94su\\x8c\\x05fluNA\\x94}\\x94(\\x8c\\x0breplicate_1\\x94}\\x94h\\xd5C\\x04\\x07\\xe4\\n\\r\\x94\\x85\\x94R\\x94\\x8c\\x91/shared/ngs/illumina/bloom_lab/201013_M03100_0625_000000000-JB2KP/Data/Intensities/BaseCalls/Trial1-WT-SecondInf-fluNA-A_S21_L001_R1_001.fastq.gz\\x94s\\x8c\\x0breplicate_2\\x94}\\x94h\\xd5C\\x04\\x07\\xe4\\n\\r\\x94\\x85\\x94R\\x94\\x8c\\x91/shared/ngs/illumina/bloom_lab/201013_M03100_0625_000000000-JB2KP/Data/Intensities/BaseCalls/Trial1-WT-SecondInf-fluNA-B_S22_L001_R1_001.fastq.gz\\x94suu\\x8c\\x03syn\\x94}\\x94(\\x8c\\x05fluHA\\x94}\\x94(\\x8c\\x0breplicate_1\\x94}\\x94h\\xd5C\\x04\\x07\\xe4\\n\\r\\x94\\x85\\x94R\\x94\\x8c\\x94/shared/ngs/illumina/bloom_lab/201013_M03100_0625_000000000-JB2KP/Data/Intensities/BaseCalls/Trial1-dblSyn-SecondInf-fluHA-A_S7_L001_R1_001.fastq.gz\\x94s\\x8c\\x0breplicate_2\\x94}\\x94h\\xd5C\\x04\\x07\\xe4\\n\\r\\x94\\x85\\x94R\\x94\\x8c\\x94/shared/ngs/illumina/bloom_lab/201013_M03100_0625_000000000-JB2KP/Data/Intensities/BaseCalls/Trial1-dblSyn-SecondInf-fluHA-B_S8_L001_R1_001.fastq.gz\\x94su\\x8c\\x05fluNA\\x94}\\x94(\\x8c\\x0breplicate_1\\x94}\\x94h\\xd5C\\x04\\x07\\xe4\\n\\r\\x94\\x85\\x94R\\x94\\x8c\\x95/shared/ngs/illumina/bloom_lab/201013_M03100_0625_000000000-JB2KP/Data/Intensities/BaseCalls/Trial1-dblSyn-SecondInf-fluNA-A_S23_L001_R1_001.fastq.gz\\x94s\\x8c\\x0breplicate_2\\x94}\\x94h\\xd5C\\x04\\x07\\xe4\\n\\r\\x94\\x85\\x94R\\x94\\x8c\\x95/shared/ngs/illumina/bloom_lab/201013_M03100_0625_000000000-JB2KP/Data/Intensities/BaseCalls/Trial1-dblSyn-SecondInf-fluNA-B_S24_L001_R1_001.fastq.gz\\x94suuuuu\\x8c\\x1ascProgenyProduction_trial2\\x94}\\x94(\\x8c\\x0bdescription\\x94\\x8c\\xe7Single-cell transcriptomics performed on low MOI-infected sample. Innoculum volumes based on `hashing_trial2` data. Loaded all collected cells from two 24-well wells, each infected with either wildtype or dblySn viral tag variants.\\x94\\x8c\\tlab_notes\\x94\\x8c0https://benchling.com/s/etr-73UD4Mx8uXn1xcxlV1ym\\x94\\x8c\\rexpect_ncells\\x94M\\x10'\\x8c\\x0ftranscriptomics\\x94}\\x94h\\xd5C\\x04\\x07\\xe4\\t\\x19\\x94\\x85\\x94R\\x94}\\x94(\\x8c\\x05index\\x94\\x8c\\x08SI-GA-B9\\x94\\x8c\\nbcl_folder\\x94\\x8c_/shared/ngs/illumina/bloom_lab/200925_D00300_1065_AHHL7NBCX3/raw/200925_D00300_1065_AHHL7NBCX3/\\x94\\x8c\\x04lane\\x94h\\xdf\\x8c\\x10index_sequencing\\x94\\x8c\\x06single\\x94us\\x8c\\x0eviral_barcodes\\x94}\\x94(\\x8c\\x0bsupernatant\\x94}\\x94(\\x8c\\x02wt\\x94}\\x94(\\x8c\\x05fluHA\\x94}\\x94(\\x8c\\x0breplicate_1\\x94}\\x94h\\xd5C\\x04\\x07\\xe4\\n\\r\\x94\\x85\\x94R\\x94\\x8c\\x8a/shared/ngs/illumina/bloom_lab/201013_M03100_0625_000000000-JB2KP/Data/Intensities/BaseCalls/Trial2-WT-Sup-fluHA-A_S9_L001_R1_001.fastq.gz\\x94s\\x8c\\x0breplicate_2\\x94}\\x94h\\xd5C\\x04\\x07\\xe4\\n\\r\\x94\\x85\\x94R\\x94\\x8c\\x8b/shared/ngs/illumina/bloom_lab/201013_M03100_0625_000000000-JB2KP/Data/Intensities/BaseCalls/Trial2-WT-Sup-fluHA-B_S10_L001_R1_001.fastq.gz\\x94su\\x8c\\x05fluNA\\x94}\\x94(\\x8c\\x0breplicate_1\\x94}\\x94h\\xd5C\\x04\\x07\\xe4\\n\\r\\x94\\x85\\x94R\\x94\\x8c\\x8b/shared/ngs/illumina/bloom_lab/201013_M03100_0625_000000000-JB2KP/Data/Intensities/BaseCalls/Trial2-WT-Sup-fluNA-A_S25_L001_R1_001.fastq.gz\\x94s\\x8c\\x0breplicate_2\\x94}\\x94h\\xd5C\\x04\\x07\\xe4\\n\\r\\x94\\x85\\x94R\\x94\\x8c\\x8b/shared/ngs/illumina/bloom_lab/201013_M03100_0625_000000000-JB2KP/Data/Intensities/BaseCalls/Trial2-WT-Sup-fluNA-B_S26_L001_R1_001.fastq.gz\\x94suu\\x8c\\x03syn\\x94}\\x94(\\x8c\\x05fluHA\\x94}\\x94(\\x8c\\x0breplicate_1\\x94}\\x94h\\xd5C\\x04\\x07\\xe4\\n\\r\\x94\\x85\\x94R\\x94\\x8c\\x8f/shared/ngs/illumina/bloom_lab/201013_M03100_0625_000000000-JB2KP/Data/Intensities/BaseCalls/Trial2-dblSyn-Sup-fluHA-A_S11_L001_R1_001.fastq.gz\\x94s\\x8c\\x0breplicate_2\\x94}\\x94h\\xd5C\\x04\\x07\\xe4\\n\\r\\x94\\x85\\x94R\\x94\\x8c\\x8f/shared/ngs/illumina/bloom_lab/201013_M03100_0625_000000000-JB2KP/Data/Intensities/BaseCalls/Trial2-dblSyn-Sup-fluHA-B_S12_L001_R1_001.fastq.gz\\x94su\\x8c\\x05fluNA\\x94}\\x94(\\x8c\\x0breplicate_1\\x94}\\x94h\\xd5C\\x04\\x07\\xe4\\n\\r\\x94\\x85\\x94R\\x94\\x8c\\x8f/shared/ngs/illumina/bloom_lab/201013_M03100_0625_000000000-JB2KP/Data/Intensities/BaseCalls/Trial2-dblSyn-Sup-fluNA-A_S27_L001_R1_001.fastq.gz\\x94s\\x8c\\x0breplicate_2\\x94}\\x94h\\xd5C\\x04\\x07\\xe4\\n\\r\\x94\\x85\\x94R\\x94\\x8c\\x8f/shared/ngs/illumina/bloom_lab/201013_M03100_0625_000000000-JB2KP/Data/Intensities/BaseCalls/Trial2-dblSyn-Sup-fluNA-B_S28_L001_R1_001.fastq.gz\\x94suuu\\x8c\\x10second_infection\\x94}\\x94(\\x8c\\x02wt\\x94}\\x94(\\x8c\\x05fluHA\\x94}\\x94(\\x8c\\x0breplicate_1\\x94}\\x94h\\xd5C\\x04\\x07\\xe4\\n\\r\\x94\\x85\\x94R\\x94\\x8c\\x91/shared/ngs/illumina/bloom_lab/201013_M03100_0625_000000000-JB2KP/Data/Intensities/BaseCalls/Trial2-WT-SecondInf-fluHA-A_S13_L001_R1_001.fastq.gz\\x94s\\x8c\\x0breplicate_2\\x94}\\x94h\\xd5C\\x04\\x07\\xe4\\n\\r\\x94\\x85\\x94R\\x94\\x8c\\x91/shared/ngs/illumina/bloom_lab/201013_M03100_0625_000000000-JB2KP/Data/Intensities/BaseCalls/Trial2-WT-SecondInf-fluHA-B_S14_L001_R1_001.fastq.gz\\x94su\\x8c\\x05fluNA\\x94}\\x94(\\x8c\\x0breplicate_1\\x94}\\x94h\\xd5C\\x04\\x07\\xe4\\n\\r\\x94\\x85\\x94R\\x94\\x8c\\x91/shared/ngs/illumina/bloom_lab/201013_M03100_0625_000000000-JB2KP/Data/Intensities/BaseCalls/Trial2-WT-SecondInf-fluNA-A_S29_L001_R1_001.fastq.gz\\x94s\\x8c\\x0breplicate_2\\x94}\\x94h\\xd5C\\x04\\x07\\xe4\\n\\r\\x94\\x85\\x94R\\x94\\x8c\\x91/shared/ngs/illumina/bloom_lab/201013_M03100_0625_000000000-JB2KP/Data/Intensities/BaseCalls/Trial2-WT-SecondInf-fluNA-B_S30_L001_R1_001.fastq.gz\\x94suu\\x8c\\x03syn\\x94}\\x94(\\x8c\\x05fluHA\\x94}\\x94(\\x8c\\x0breplicate_1\\x94}\\x94h\\xd5C\\x04\\x07\\xe4\\n\\r\\x94\\x85\\x94R\\x94\\x8c\\x95/shared/ngs/illumina/bloom_lab/201013_M03100_0625_000000000-JB2KP/Data/Intensities/BaseCalls/Trial2-dblSyn-SecondInf-fluHA-A_S15_L001_R1_001.fastq.gz\\x94s\\x8c\\x0breplicate_2\\x94}\\x94h\\xd5C\\x04\\x07\\xe4\\n\\r\\x94\\x85\\x94R\\x94\\x8c\\x95/shared/ngs/illumina/bloom_lab/201013_M03100_0625_000000000-JB2KP/Data/Intensities/BaseCalls/Trial2-dblSyn-SecondInf-fluHA-B_S16_L001_R1_001.fastq.gz\\x94su\\x8c\\x05fluNA\\x94}\\x94(\\x8c\\x0breplicate_1\\x94}\\x94h\\xd5C\\x04\\x07\\xe4\\n\\r\\x94\\x85\\x94R\\x94\\x8c\\x95/shared/ngs/illumina/bloom_lab/201013_M03100_0625_000000000-JB2KP/Data/Intensities/BaseCalls/Trial2-dblSyn-SecondInf-fluNA-A_S31_L001_R1_001.fastq.gz\\x94s\\x8c\\x0breplicate_2\\x94}\\x94h\\xd5C\\x04\\x07\\xe4\\n\\r\\x94\\x85\\x94R\\x94\\x8c\\x95/shared/ngs/illumina/bloom_lab/201013_M03100_0625_000000000-JB2KP/Data/Intensities/BaseCalls/Trial2-dblSyn-SecondInf-fluNA-B_S32_L001_R1_001.fastq.gz\\x94suuuuu\\x8c\\x1ascProgenyProduction_trial3\\x94}\\x94(\\x8c\\x0bdescription\\x94X\\x1b\\x01\\x00\\x00Single-cell transcriptomics performed on even lower MOI-infected sample. Innoculum volumes based on `scProgenyProduction_trial1` and `scProgenyProduction_trial2` data. Loaded all collected cells from two 24-well wells, each infected with either wildtype or dblySn viral tag variants.\\x94\\x8c\\tlab_notes\\x94\\x8c0https://benchling.com/s/etr-N4laiIAy3AUePJdig7wR\\x94\\x8c\\rexpect_ncells\\x94M\\x10'\\x8c\\x0ftranscriptomics\\x94}\\x94(h\\xd5C\\x04\\x07\\xe5\\x03\\x0c\\x94\\x85\\x94R\\x94}\\x94(\\x8c\\x05index\\x94\\x8c\\x08SI-TT-A3\\x94\\x8c\\nbcl_folder\\x94\\x8c_/shared/ngs/illumina/bloom_lab/210312_D00300_1192_BHKHNYBCX3/raw/210312_D00300_1192_BHKHNYBCX3/\\x94\\x8c\\x04lane\\x94K\\x01\\x8c\\x10index_sequencing\\x94\\x8c\\x06single\\x94uh\\xd5C\\x04\\x07\\xe5\\x04\\t\\x94\\x85\\x94R\\x94}\\x94(\\x8c\\x05index\\x94\\x8c\\x08SI-TT-A3\\x94\\x8c\\nbcl_folder\\x94\\x8c_/shared/ngs/illumina/bloom_lab/210409_D00300_1210_BHKC7KBCX3/raw/210409_D00300_1210_BHKC7KBCX3/\\x94\\x8c\\x04lane\\x94h\\xdf\\x8c\\x10index_sequencing\\x94\\x8c\\x06single\\x94uh\\xd5C\\x04\\x07\\xe5\\x08\\x19\\x94\\x85\\x94R\\x94}\\x94(\\x8c\\x05index\\x94\\x8c\\x08SI-TT-A3\\x94\\x8c\\nbcl_folder\\x94\\x8c_/shared/ngs/illumina/bloom_lab/210825_D00300_1310_BHMH5TBCX3/raw/210825_D00300_1310_BHMH5TBCX3/\\x94\\x8c\\x04lane\\x94h\\xdf\\x8c\\x10index_sequencing\\x94\\x8c\\x04none\\x94uh\\xd5C\\x04\\x07\\xe5\\t\\x0f\\x94\\x85\\x94R\\x94}\\x94(\\x8c\\x05index\\x94\\x8c\\x08SI-TT-A3\\x94\\x8c\\nbcl_folder\\x94\\x8cY/shared/ngs/illumina/bloom_lab/210915_VH00699_2_AAAMCL7M5/raw/210915_VH00699_2_AAAMCL7M5/\\x94\\x8c\\x04lane\\x94h\\xdf\\x8c\\x10index_sequencing\\x94\\x8c\\x04none\\x94uu\\x8c\\x17pacbio_viral_sequencing\\x94}\\x94\\x8c\\x1c2021-08-05_all_segments_run1\\x94\\x8cp/fh/fast/bloom_j/SR/ngs/pacbio/210730_SequelIIe/r64272e_20210730_182729/1_A01/m64272e_210730_193026.subreads.bam\\x94s\\x8c\\x0eviral_barcodes\\x94}\\x94(\\x8c\\x0bsupernatant\\x94}\\x94(\\x8c\\x02wt\\x94}\\x94(\\x8c\\x05fluHA\\x94}\\x94(\\x8c\\x0breplicate_1\\x94}\\x94h\\xd5C\\x04\\x07\\xe5\\x04\\x08\\x94\\x85\\x94R\\x94\\x8c\\x90/shared/ngs/illumina/bloom_lab/210408_M04866_0464_000000000-JL5M4_new-demux/Data/Intensities/BaseCalls/WT-sup-fluHA-rep1_S9_L001_R1_001.fastq.gz\\x94s\\x8c\\x0breplicate_2\\x94}\\x94h\\xd5C\\x04\\x07\\xe5\\x04\\x08\\x94\\x85\\x94R\\x94\\x8c\\x91/shared/ngs/illumina/bloom_lab/210408_M04866_0464_000000000-JL5M4_new-demux/Data/Intensities/BaseCalls/WT-sup-fluHA-rep2_S13_L001_R1_001.fastq.gz\\x94su\\x8c\\x05fluNA\\x94}\\x94(\\x8c\\x0breplicate_1\\x94}\\x94h\\xd5C\\x04\\x07\\xe5\\x04\\x08\\x94\\x85\\x94R\\x94\\x8c\\x90/shared/ngs/illumina/bloom_lab/210408_M04866_0464_000000000-JL5M4_new-demux/Data/Intensities/BaseCalls/WT-sup-fluNA-rep1_S1_L001_R1_001.fastq.gz\\x94s\\x8c\\x0breplicate_2\\x94}\\x94h\\xd5C\\x04\\x07\\xe5\\x05\\x11\\x94\\x85\\x94R\\x94\\x8c\\x86/shared/ngs/illumina/bloom_lab/210517_M03100_0681_000000000-JL4TM/Data/Intensities/BaseCalls/WT-sup-fluNA-rep2_S1_L001_R1_001.fastq.gz\\x94suu\\x8c\\x03syn\\x94}\\x94(\\x8c\\x05fluHA\\x94}\\x94(\\x8c\\x0breplicate_1\\x94}\\x94h\\xd5C\\x04\\x07\\xe5\\x04\\x08\\x94\\x85\\x94R\\x94\\x8c\\x95/shared/ngs/illumina/bloom_lab/210408_M04866_0464_000000000-JL5M4_new-demux/Data/Intensities/BaseCalls/dblSyn-sup-fluHA-rep1_S10_L001_R1_001.fastq.gz\\x94s\\x8c\\x0breplicate_2\\x94}\\x94h\\xd5C\\x04\\x07\\xe5\\x04\\x08\\x94\\x85\\x94R\\x94\\x8c\\x95/shared/ngs/illumina/bloom_lab/210408_M04866_0464_000000000-JL5M4_new-demux/Data/Intensities/BaseCalls/dblSyn-sup-fluHA-rep2_S14_L001_R1_001.fastq.gz\\x94su\\x8c\\x05fluNA\\x94}\\x94(\\x8c\\x0breplicate_1\\x94}\\x94h\\xd5C\\x04\\x07\\xe5\\x04\\x08\\x94\\x85\\x94R\\x94\\x8c\\x94/shared/ngs/illumina/bloom_lab/210408_M04866_0464_000000000-JL5M4_new-demux/Data/Intensities/BaseCalls/dblSyn-sup-fluNA-rep1_S2_L001_R1_001.fastq.gz\\x94s\\x8c\\x0breplicate_2\\x94}\\x94h\\xd5C\\x04\\x07\\xe5\\x04\\x08\\x94\\x85\\x94R\\x94\\x8c\\x94/shared/ngs/illumina/bloom_lab/210408_M04866_0464_000000000-JL5M4_new-demux/Data/Intensities/BaseCalls/dblSyn-sup-fluNA-rep2_S6_L001_R1_001.fastq.gz\\x94suuu\\x8c\\x10second_infection\\x94}\\x94(\\x8c\\x02wt\\x94}\\x94(\\x8c\\x05fluHA\\x94}\\x94(\\x8c\\x0breplicate_1\\x94}\\x94h\\xd5C\\x04\\x07\\xe5\\x05\\x11\\x94\\x85\\x94R\\x94\\x8c\\x85/shared/ngs/illumina/bloom_lab/210517_M03100_0681_000000000-JL4TM/Data/Intensities/BaseCalls/WT-SI-fluHA-rep1_S2_L001_R1_001.fastq.gz\\x94s\\x8c\\x0breplicate_2\\x94}\\x94h\\xd5C\\x04\\x07\\xe5\\x05\\x11\\x94\\x85\\x94R\\x94\\x8c\\x85/shared/ngs/illumina/bloom_lab/210517_M03100_0681_000000000-JL4TM/Data/Intensities/BaseCalls/WT-SI-fluHA-rep2_S3_L001_R1_001.fastq.gz\\x94su\\x8c\\x05fluNA\\x94}\\x94(\\x8c\\x0breplicate_1\\x94}\\x94h\\xd5C\\x04\\x07\\xe5\\x05\\x11\\x94\\x85\\x94R\\x94\\x8c\\x86/shared/ngs/illumina/bloom_lab/210517_M03100_0681_000000000-JL4TM/Data/Intensities/BaseCalls/WT-SI-fluNA-rep1_S11_L001_R1_001.fastq.gz\\x94s\\x8c\\x0breplicate_2\\x94}\\x94h\\xd5C\\x04\\x07\\xe5\\x05\\x11\\x94\\x85\\x94R\\x94\\x8c\\x86/shared/ngs/illumina/bloom_lab/210517_M03100_0681_000000000-JL4TM/Data/Intensities/BaseCalls/WT-SI-fluNA-rep2_S12_L001_R1_001.fastq.gz\\x94suu\\x8c\\x03syn\\x94}\\x94(\\x8c\\x05fluHA\\x94}\\x94(\\x8c\\x0breplicate_1\\x94}\\x94h\\xd5C\\x04\\x07\\xe5\\x05\\x11\\x94\\x85\\x94R\\x94\\x8c\\x89/shared/ngs/illumina/bloom_lab/210517_M03100_0681_000000000-JL4TM/Data/Intensities/BaseCalls/dblSyn-SI-fluHA-rep1_S4_L001_R1_001.fastq.gz\\x94s\\x8c\\x0breplicate_2\\x94}\\x94h\\xd5C\\x04\\x07\\xe5\\x05\\x11\\x94\\x85\\x94R\\x94\\x8c\\x89/shared/ngs/illumina/bloom_lab/210517_M03100_0681_000000000-JL4TM/Data/Intensities/BaseCalls/dblSyn-SI-fluHA-rep2_S5_L001_R1_001.fastq.gz\\x94su\\x8c\\x05fluNA\\x94}\\x94(\\x8c\\x0breplicate_1\\x94}\\x94h\\xd5C\\x04\\x07\\xe5\\x05\\x11\\x94\\x85\\x94R\\x94\\x8c\\x8a/shared/ngs/illumina/bloom_lab/210517_M03100_0681_000000000-JL4TM/Data/Intensities/BaseCalls/dblSyn-SI-fluNA-rep1_S13_L001_R1_001.fastq.gz\\x94s\\x8c\\x0breplicate_2\\x94}\\x94h\\xd5C\\x04\\x07\\xe5\\x05\\x11\\x94\\x85\\x94R\\x94\\x8c\\x8a/shared/ngs/illumina/bloom_lab/210517_M03100_0681_000000000-JL4TM/Data/Intensities/BaseCalls/dblSyn-SI-fluNA-rep2_S14_L001_R1_001.fastq.gz\\x94suuuuuuu\\x8c\\x04rule\\x94\\x8c\\x18viral_bc_background_freq\\x94\\x8c\\x0fbench_iteration\\x94N\\x8c\\tscriptdir\\x94\\x8c[/fh/fast/bloom_j/computational_notebooks/dbacsik/2019/flu_pdmH1N1_barcode_hashing/notebooks\\x94ub.\"); from snakemake.logging import logger; logger.printshellcmds = False; import os; os.chdir('/fh/fast/bloom_j/computational_notebooks/dbacsik/2019/flu_pdmH1N1_barcode_hashing');\n",
    "######## snakemake preamble end #########\n"
   ]
  },
  {
   "cell_type": "markdown",
   "metadata": {},
   "source": [
    "# Viral barcode in each cell\n",
    "This notebook filters viral barcodes in each cell in the 10X transcriptome data"
   ]
  },
  {
   "cell_type": "markdown",
   "metadata": {},
   "source": [
    "## Notebook setup\n",
    "Import python modules:"
   ]
  },
  {
   "cell_type": "code",
   "execution_count": 2,
   "metadata": {
    "execution": {
     "iopub.execute_input": "2021-11-19T19:50:34.745846Z",
     "iopub.status.busy": "2021-11-19T19:50:34.744966Z",
     "iopub.status.idle": "2021-11-19T19:50:36.948088Z",
     "shell.execute_reply": "2021-11-19T19:50:36.948729Z"
    }
   },
   "outputs": [],
   "source": [
    "from IPython.display import display\n",
    "\n",
    "from dms_variants.constants import CBPALETTE\n",
    "\n",
    "import pandas as pd\n",
    "\n",
    "import plotnine as p9\n",
    "\n",
    "import scipy\n",
    "\n",
    "import statsmodels.stats.multitest"
   ]
  },
  {
   "cell_type": "markdown",
   "metadata": {},
   "source": [
    "Get `snakemake` variables [as described here](https://snakemake.readthedocs.io/en/stable/snakefiles/rules.html#jupyter-notebook-integration):"
   ]
  },
  {
   "cell_type": "code",
   "execution_count": 3,
   "metadata": {
    "execution": {
     "iopub.execute_input": "2021-11-19T19:50:36.951990Z",
     "iopub.status.busy": "2021-11-19T19:50:36.951105Z",
     "iopub.status.idle": "2021-11-19T19:50:36.955717Z",
     "shell.execute_reply": "2021-11-19T19:50:36.956262Z"
    }
   },
   "outputs": [],
   "source": [
    "viral_tag_by_cell_csv = (snakemake\n",
    "                         .input\n",
    "                         .viral_tag_by_cell_csv)\n",
    "viral_bc_by_cell_corrected_csv = (snakemake\n",
    "                                  .input\n",
    "                                  .viral_bc_by_cell_corrected_csv)\n",
    "viral_genes_by_cell_csv = 'results/viral_fastq10x/scProgenyProduction_trial3_viral_genes_by_cell.csv.gz'\n",
    "valid_viral_barcodes_by_cell = 'results/viral_fastq10x/scProgenyProduction_trial3_viral_bc_by_cell.csv.gz'\n",
    "plot = snakemake.output.plot\n",
    "expt = snakemake.wildcards.expt\n",
    "barcoded_viral_genes = snakemake.params.barcoded_viral_genes"
   ]
  },
  {
   "cell_type": "markdown",
   "metadata": {},
   "source": [
    "Set base plot style:"
   ]
  },
  {
   "cell_type": "code",
   "execution_count": 4,
   "metadata": {
    "execution": {
     "iopub.execute_input": "2021-11-19T19:50:37.157211Z",
     "iopub.status.busy": "2021-11-19T19:50:37.156426Z",
     "iopub.status.idle": "2021-11-19T19:50:37.161287Z",
     "shell.execute_reply": "2021-11-19T19:50:37.161844Z"
    }
   },
   "outputs": [],
   "source": [
    "p9.theme_set(p9.theme_classic())"
   ]
  },
  {
   "cell_type": "markdown",
   "metadata": {},
   "source": [
    "## Organize data"
   ]
  },
  {
   "cell_type": "markdown",
   "metadata": {},
   "source": [
    "Read the viral barcode UMI counts data into a pandas dataframe:"
   ]
  },
  {
   "cell_type": "code",
   "execution_count": 5,
   "metadata": {
    "execution": {
     "iopub.execute_input": "2021-11-19T19:50:36.959014Z",
     "iopub.status.busy": "2021-11-19T19:50:36.958168Z",
     "iopub.status.idle": "2021-11-19T19:50:36.987452Z",
     "shell.execute_reply": "2021-11-19T19:50:36.987972Z"
    }
   },
   "outputs": [
    {
     "ename": "FileNotFoundError",
     "evalue": "[Errno 2] No such file or directory: 'results/viral_fastq10x/scProgenyProduction_trial3_viral_bc_by_cell_corrected.csv.gz'",
     "output_type": "error",
     "traceback": [
      "\u001b[0;31m---------------------------------------------------------------------------\u001b[0m",
      "\u001b[0;31mFileNotFoundError\u001b[0m                         Traceback (most recent call last)",
      "\u001b[0;32m<ipython-input-5-6971d07cfbb2>\u001b[0m in \u001b[0;36m<module>\u001b[0;34m\u001b[0m\n\u001b[0;32m----> 1\u001b[0;31m \u001b[0mviral_bc_counts\u001b[0m \u001b[0;34m=\u001b[0m \u001b[0mpd\u001b[0m\u001b[0;34m.\u001b[0m\u001b[0mread_csv\u001b[0m\u001b[0;34m(\u001b[0m\u001b[0mviral_bc_by_cell_corrected_csv\u001b[0m\u001b[0;34m)\u001b[0m\u001b[0;34m\u001b[0m\u001b[0;34m\u001b[0m\u001b[0m\n\u001b[0m\u001b[1;32m      2\u001b[0m viral_bc_counts = (viral_bc_counts\n\u001b[1;32m      3\u001b[0m                    .rename(columns={'count': 'viral_bc_UMIs'}))\n\u001b[1;32m      4\u001b[0m \u001b[0;32massert\u001b[0m \u001b[0mset\u001b[0m\u001b[0;34m(\u001b[0m\u001b[0mviral_bc_counts\u001b[0m\u001b[0;34m[\u001b[0m\u001b[0;34m'gene'\u001b[0m\u001b[0;34m]\u001b[0m\u001b[0;34m)\u001b[0m \u001b[0;34m==\u001b[0m \u001b[0mset\u001b[0m\u001b[0;34m(\u001b[0m\u001b[0mbarcoded_viral_genes\u001b[0m\u001b[0;34m)\u001b[0m\u001b[0;34m,\u001b[0m\u001b[0;31m \u001b[0m\u001b[0;31m\\\u001b[0m\u001b[0;34m\u001b[0m\u001b[0;34m\u001b[0m\u001b[0m\n\u001b[1;32m      5\u001b[0m        \u001b[0;34m\"Barcoded genes in barcode counts do not match expectation.\"\u001b[0m\u001b[0;34m\u001b[0m\u001b[0;34m\u001b[0m\u001b[0m\n",
      "\u001b[0;32m/fh/fast/bloom_j/software/miniconda3/envs/barcoded_flu_pdmH1N1/lib/python3.8/site-packages/pandas/io/parsers.py\u001b[0m in \u001b[0;36mread_csv\u001b[0;34m(filepath_or_buffer, sep, delimiter, header, names, index_col, usecols, squeeze, prefix, mangle_dupe_cols, dtype, engine, converters, true_values, false_values, skipinitialspace, skiprows, skipfooter, nrows, na_values, keep_default_na, na_filter, verbose, skip_blank_lines, parse_dates, infer_datetime_format, keep_date_col, date_parser, dayfirst, cache_dates, iterator, chunksize, compression, thousands, decimal, lineterminator, quotechar, quoting, doublequote, escapechar, comment, encoding, dialect, error_bad_lines, warn_bad_lines, delim_whitespace, low_memory, memory_map, float_precision)\u001b[0m\n\u001b[1;32m    684\u001b[0m     )\n\u001b[1;32m    685\u001b[0m \u001b[0;34m\u001b[0m\u001b[0m\n\u001b[0;32m--> 686\u001b[0;31m     \u001b[0;32mreturn\u001b[0m \u001b[0m_read\u001b[0m\u001b[0;34m(\u001b[0m\u001b[0mfilepath_or_buffer\u001b[0m\u001b[0;34m,\u001b[0m \u001b[0mkwds\u001b[0m\u001b[0;34m)\u001b[0m\u001b[0;34m\u001b[0m\u001b[0;34m\u001b[0m\u001b[0m\n\u001b[0m\u001b[1;32m    687\u001b[0m \u001b[0;34m\u001b[0m\u001b[0m\n\u001b[1;32m    688\u001b[0m \u001b[0;34m\u001b[0m\u001b[0m\n",
      "\u001b[0;32m/fh/fast/bloom_j/software/miniconda3/envs/barcoded_flu_pdmH1N1/lib/python3.8/site-packages/pandas/io/parsers.py\u001b[0m in \u001b[0;36m_read\u001b[0;34m(filepath_or_buffer, kwds)\u001b[0m\n\u001b[1;32m    450\u001b[0m \u001b[0;34m\u001b[0m\u001b[0m\n\u001b[1;32m    451\u001b[0m     \u001b[0;31m# Create the parser.\u001b[0m\u001b[0;34m\u001b[0m\u001b[0;34m\u001b[0m\u001b[0;34m\u001b[0m\u001b[0m\n\u001b[0;32m--> 452\u001b[0;31m     \u001b[0mparser\u001b[0m \u001b[0;34m=\u001b[0m \u001b[0mTextFileReader\u001b[0m\u001b[0;34m(\u001b[0m\u001b[0mfp_or_buf\u001b[0m\u001b[0;34m,\u001b[0m \u001b[0;34m**\u001b[0m\u001b[0mkwds\u001b[0m\u001b[0;34m)\u001b[0m\u001b[0;34m\u001b[0m\u001b[0;34m\u001b[0m\u001b[0m\n\u001b[0m\u001b[1;32m    453\u001b[0m \u001b[0;34m\u001b[0m\u001b[0m\n\u001b[1;32m    454\u001b[0m     \u001b[0;32mif\u001b[0m \u001b[0mchunksize\u001b[0m \u001b[0;32mor\u001b[0m \u001b[0miterator\u001b[0m\u001b[0;34m:\u001b[0m\u001b[0;34m\u001b[0m\u001b[0;34m\u001b[0m\u001b[0m\n",
      "\u001b[0;32m/fh/fast/bloom_j/software/miniconda3/envs/barcoded_flu_pdmH1N1/lib/python3.8/site-packages/pandas/io/parsers.py\u001b[0m in \u001b[0;36m__init__\u001b[0;34m(self, f, engine, **kwds)\u001b[0m\n\u001b[1;32m    944\u001b[0m             \u001b[0mself\u001b[0m\u001b[0;34m.\u001b[0m\u001b[0moptions\u001b[0m\u001b[0;34m[\u001b[0m\u001b[0;34m\"has_index_names\"\u001b[0m\u001b[0;34m]\u001b[0m \u001b[0;34m=\u001b[0m \u001b[0mkwds\u001b[0m\u001b[0;34m[\u001b[0m\u001b[0;34m\"has_index_names\"\u001b[0m\u001b[0;34m]\u001b[0m\u001b[0;34m\u001b[0m\u001b[0;34m\u001b[0m\u001b[0m\n\u001b[1;32m    945\u001b[0m \u001b[0;34m\u001b[0m\u001b[0m\n\u001b[0;32m--> 946\u001b[0;31m         \u001b[0mself\u001b[0m\u001b[0;34m.\u001b[0m\u001b[0m_make_engine\u001b[0m\u001b[0;34m(\u001b[0m\u001b[0mself\u001b[0m\u001b[0;34m.\u001b[0m\u001b[0mengine\u001b[0m\u001b[0;34m)\u001b[0m\u001b[0;34m\u001b[0m\u001b[0;34m\u001b[0m\u001b[0m\n\u001b[0m\u001b[1;32m    947\u001b[0m \u001b[0;34m\u001b[0m\u001b[0m\n\u001b[1;32m    948\u001b[0m     \u001b[0;32mdef\u001b[0m \u001b[0mclose\u001b[0m\u001b[0;34m(\u001b[0m\u001b[0mself\u001b[0m\u001b[0;34m)\u001b[0m\u001b[0;34m:\u001b[0m\u001b[0;34m\u001b[0m\u001b[0;34m\u001b[0m\u001b[0m\n",
      "\u001b[0;32m/fh/fast/bloom_j/software/miniconda3/envs/barcoded_flu_pdmH1N1/lib/python3.8/site-packages/pandas/io/parsers.py\u001b[0m in \u001b[0;36m_make_engine\u001b[0;34m(self, engine)\u001b[0m\n\u001b[1;32m   1176\u001b[0m     \u001b[0;32mdef\u001b[0m \u001b[0m_make_engine\u001b[0m\u001b[0;34m(\u001b[0m\u001b[0mself\u001b[0m\u001b[0;34m,\u001b[0m \u001b[0mengine\u001b[0m\u001b[0;34m=\u001b[0m\u001b[0;34m\"c\"\u001b[0m\u001b[0;34m)\u001b[0m\u001b[0;34m:\u001b[0m\u001b[0;34m\u001b[0m\u001b[0;34m\u001b[0m\u001b[0m\n\u001b[1;32m   1177\u001b[0m         \u001b[0;32mif\u001b[0m \u001b[0mengine\u001b[0m \u001b[0;34m==\u001b[0m \u001b[0;34m\"c\"\u001b[0m\u001b[0;34m:\u001b[0m\u001b[0;34m\u001b[0m\u001b[0;34m\u001b[0m\u001b[0m\n\u001b[0;32m-> 1178\u001b[0;31m             \u001b[0mself\u001b[0m\u001b[0;34m.\u001b[0m\u001b[0m_engine\u001b[0m \u001b[0;34m=\u001b[0m \u001b[0mCParserWrapper\u001b[0m\u001b[0;34m(\u001b[0m\u001b[0mself\u001b[0m\u001b[0;34m.\u001b[0m\u001b[0mf\u001b[0m\u001b[0;34m,\u001b[0m \u001b[0;34m**\u001b[0m\u001b[0mself\u001b[0m\u001b[0;34m.\u001b[0m\u001b[0moptions\u001b[0m\u001b[0;34m)\u001b[0m\u001b[0;34m\u001b[0m\u001b[0;34m\u001b[0m\u001b[0m\n\u001b[0m\u001b[1;32m   1179\u001b[0m         \u001b[0;32melse\u001b[0m\u001b[0;34m:\u001b[0m\u001b[0;34m\u001b[0m\u001b[0;34m\u001b[0m\u001b[0m\n\u001b[1;32m   1180\u001b[0m             \u001b[0;32mif\u001b[0m \u001b[0mengine\u001b[0m \u001b[0;34m==\u001b[0m \u001b[0;34m\"python\"\u001b[0m\u001b[0;34m:\u001b[0m\u001b[0;34m\u001b[0m\u001b[0;34m\u001b[0m\u001b[0m\n",
      "\u001b[0;32m/fh/fast/bloom_j/software/miniconda3/envs/barcoded_flu_pdmH1N1/lib/python3.8/site-packages/pandas/io/parsers.py\u001b[0m in \u001b[0;36m__init__\u001b[0;34m(self, src, **kwds)\u001b[0m\n\u001b[1;32m   2006\u001b[0m         \u001b[0mkwds\u001b[0m\u001b[0;34m[\u001b[0m\u001b[0;34m\"usecols\"\u001b[0m\u001b[0;34m]\u001b[0m \u001b[0;34m=\u001b[0m \u001b[0mself\u001b[0m\u001b[0;34m.\u001b[0m\u001b[0musecols\u001b[0m\u001b[0;34m\u001b[0m\u001b[0;34m\u001b[0m\u001b[0m\n\u001b[1;32m   2007\u001b[0m \u001b[0;34m\u001b[0m\u001b[0m\n\u001b[0;32m-> 2008\u001b[0;31m         \u001b[0mself\u001b[0m\u001b[0;34m.\u001b[0m\u001b[0m_reader\u001b[0m \u001b[0;34m=\u001b[0m \u001b[0mparsers\u001b[0m\u001b[0;34m.\u001b[0m\u001b[0mTextReader\u001b[0m\u001b[0;34m(\u001b[0m\u001b[0msrc\u001b[0m\u001b[0;34m,\u001b[0m \u001b[0;34m**\u001b[0m\u001b[0mkwds\u001b[0m\u001b[0;34m)\u001b[0m\u001b[0;34m\u001b[0m\u001b[0;34m\u001b[0m\u001b[0m\n\u001b[0m\u001b[1;32m   2009\u001b[0m         \u001b[0mself\u001b[0m\u001b[0;34m.\u001b[0m\u001b[0munnamed_cols\u001b[0m \u001b[0;34m=\u001b[0m \u001b[0mself\u001b[0m\u001b[0;34m.\u001b[0m\u001b[0m_reader\u001b[0m\u001b[0;34m.\u001b[0m\u001b[0munnamed_cols\u001b[0m\u001b[0;34m\u001b[0m\u001b[0;34m\u001b[0m\u001b[0m\n\u001b[1;32m   2010\u001b[0m \u001b[0;34m\u001b[0m\u001b[0m\n",
      "\u001b[0;32mpandas/_libs/parsers.pyx\u001b[0m in \u001b[0;36mpandas._libs.parsers.TextReader.__cinit__\u001b[0;34m()\u001b[0m\n",
      "\u001b[0;32mpandas/_libs/parsers.pyx\u001b[0m in \u001b[0;36mpandas._libs.parsers.TextReader._setup_parser_source\u001b[0;34m()\u001b[0m\n",
      "\u001b[0;32m/fh/fast/bloom_j/software/miniconda3/envs/barcoded_flu_pdmH1N1/lib/python3.8/gzip.py\u001b[0m in \u001b[0;36m__init__\u001b[0;34m(self, filename, mode, compresslevel, fileobj, mtime)\u001b[0m\n\u001b[1;32m    171\u001b[0m             \u001b[0mmode\u001b[0m \u001b[0;34m+=\u001b[0m \u001b[0;34m'b'\u001b[0m\u001b[0;34m\u001b[0m\u001b[0;34m\u001b[0m\u001b[0m\n\u001b[1;32m    172\u001b[0m         \u001b[0;32mif\u001b[0m \u001b[0mfileobj\u001b[0m \u001b[0;32mis\u001b[0m \u001b[0;32mNone\u001b[0m\u001b[0;34m:\u001b[0m\u001b[0;34m\u001b[0m\u001b[0;34m\u001b[0m\u001b[0m\n\u001b[0;32m--> 173\u001b[0;31m             \u001b[0mfileobj\u001b[0m \u001b[0;34m=\u001b[0m \u001b[0mself\u001b[0m\u001b[0;34m.\u001b[0m\u001b[0mmyfileobj\u001b[0m \u001b[0;34m=\u001b[0m \u001b[0mbuiltins\u001b[0m\u001b[0;34m.\u001b[0m\u001b[0mopen\u001b[0m\u001b[0;34m(\u001b[0m\u001b[0mfilename\u001b[0m\u001b[0;34m,\u001b[0m \u001b[0mmode\u001b[0m \u001b[0;32mor\u001b[0m \u001b[0;34m'rb'\u001b[0m\u001b[0;34m)\u001b[0m\u001b[0;34m\u001b[0m\u001b[0;34m\u001b[0m\u001b[0m\n\u001b[0m\u001b[1;32m    174\u001b[0m         \u001b[0;32mif\u001b[0m \u001b[0mfilename\u001b[0m \u001b[0;32mis\u001b[0m \u001b[0;32mNone\u001b[0m\u001b[0;34m:\u001b[0m\u001b[0;34m\u001b[0m\u001b[0;34m\u001b[0m\u001b[0m\n\u001b[1;32m    175\u001b[0m             \u001b[0mfilename\u001b[0m \u001b[0;34m=\u001b[0m \u001b[0mgetattr\u001b[0m\u001b[0;34m(\u001b[0m\u001b[0mfileobj\u001b[0m\u001b[0;34m,\u001b[0m \u001b[0;34m'name'\u001b[0m\u001b[0;34m,\u001b[0m \u001b[0;34m''\u001b[0m\u001b[0;34m)\u001b[0m\u001b[0;34m\u001b[0m\u001b[0;34m\u001b[0m\u001b[0m\n",
      "\u001b[0;31mFileNotFoundError\u001b[0m: [Errno 2] No such file or directory: 'results/viral_fastq10x/scProgenyProduction_trial3_viral_bc_by_cell_corrected.csv.gz'"
     ]
    }
   ],
   "source": [
    "viral_bc_counts = pd.read_csv(viral_bc_by_cell_corrected_csv)\n",
    "viral_bc_counts = (viral_bc_counts\n",
    "                   .rename(columns={'count': 'viral_bc_UMIs'}))\n",
    "assert set(viral_bc_counts['gene']) == set(barcoded_viral_genes), \\\n",
    "       \"Barcoded genes in barcode counts do not match expectation.\"\n",
    "display(viral_bc_counts)"
   ]
  },
  {
   "cell_type": "markdown",
   "metadata": {},
   "source": [
    "Read the total number of UMIs per cell into a pandas dataframe. Only keep relevant columns."
   ]
  },
  {
   "cell_type": "code",
   "execution_count": null,
   "metadata": {
    "execution": {
     "iopub.execute_input": "2021-11-19T19:50:36.990652Z",
     "iopub.status.busy": "2021-11-19T19:50:36.989780Z",
     "iopub.status.idle": "2021-11-19T19:50:37.013518Z",
     "shell.execute_reply": "2021-11-19T19:50:37.014025Z"
    }
   },
   "outputs": [],
   "source": [
    "all_cells = pd.read_csv(viral_tag_by_cell_csv)\n",
    "all_cells = all_cells[['cell_barcode',\n",
    "                       'infected',\n",
    "                       'infecting_viral_tag',\n",
    "                       'total_UMIs',\n",
    "                       'viral_UMIs',\n",
    "                       'cellular_UMIs',\n",
    "                       'frac_viral_UMIs']]\n",
    "display(all_cells)"
   ]
  },
  {
   "cell_type": "markdown",
   "metadata": {},
   "source": [
    "Sanity check that `total_UMIs` is equal to `viral_UMIs + cellular_UMIs`:"
   ]
  },
  {
   "cell_type": "code",
   "execution_count": null,
   "metadata": {
    "execution": {
     "iopub.execute_input": "2021-11-19T19:50:37.016630Z",
     "iopub.status.busy": "2021-11-19T19:50:37.015837Z",
     "iopub.status.idle": "2021-11-19T19:50:37.026901Z",
     "shell.execute_reply": "2021-11-19T19:50:37.027477Z"
    }
   },
   "outputs": [],
   "source": [
    "assert bool((all_cells['total_UMIs'] ==\n",
    "             all_cells['viral_UMIs'] +\n",
    "             all_cells['cellular_UMIs'])\n",
    "            .all()), \"UMI counts do not add up\""
   ]
  },
  {
   "cell_type": "markdown",
   "metadata": {},
   "source": [
    "Read the gene presence/absence data"
   ]
  },
  {
   "cell_type": "code",
   "execution_count": null,
   "metadata": {},
   "outputs": [],
   "source": [
    "viral_genes_by_cell = pd.read_csv(viral_genes_by_cell_csv)\n",
    "display(viral_genes_by_cell)"
   ]
  },
  {
   "cell_type": "markdown",
   "metadata": {},
   "source": [
    "Merge dataframes:"
   ]
  },
  {
   "cell_type": "code",
   "execution_count": null,
   "metadata": {
    "execution": {
     "iopub.execute_input": "2021-11-19T19:50:37.030501Z",
     "iopub.status.busy": "2021-11-19T19:50:37.029577Z",
     "iopub.status.idle": "2021-11-19T19:50:37.070493Z",
     "shell.execute_reply": "2021-11-19T19:50:37.071080Z"
    }
   },
   "outputs": [],
   "source": [
    "viral_bc_frac = pd.merge(\n",
    "    left=pd.concat([all_cells.assign(gene=gene)\n",
    "                    for gene in barcoded_viral_genes]),\n",
    "    right=viral_bc_counts,\n",
    "    how='outer',\n",
    "    on=['cell_barcode', 'gene'],\n",
    "    validate='one_to_many')\n",
    "assert (viral_bc_frac['cell_barcode'].unique() ==\n",
    "        all_cells['cell_barcode'].unique()).all(), \\\n",
    "       \"Cell barcodes in merged dataframe don't \" \\\n",
    "       \"match barcodes in source data.\"\n",
    "assert (viral_bc_frac['viral_barcode'].nunique() ==\n",
    "        viral_bc_counts['viral_barcode'].nunique()), \\\n",
    "       \"Number of viral barcodes in merged dataframe don't \" \\\n",
    "       \"match number of barcodes in source data.\"\n",
    "\n",
    "# Make `infecting_viral_tag` column ordered category\n",
    "viral_bc_frac['infecting_viral_tag'] = (viral_bc_frac['infecting_viral_tag']\n",
    "                                        .astype('category')\n",
    "                                        .cat\n",
    "                                        .reorder_categories(['none',\n",
    "                                                             'wt',\n",
    "                                                             'syn',\n",
    "                                                             'both']))\n",
    "\n",
    "viral_bc_frac = pd.merge(\n",
    "    left=viral_bc_frac,\n",
    "    right=viral_genes_by_cell,\n",
    "    on=['cell_barcode', 'gene'],\n",
    "    how='left',\n",
    "    validate='many_to_one'\n",
    ")\n",
    "\n",
    "display(viral_bc_frac)"
   ]
  },
  {
   "cell_type": "markdown",
   "metadata": {},
   "source": [
    "Calculate **each barcode's** fraction of all UMIs per cell:"
   ]
  },
  {
   "cell_type": "code",
   "execution_count": null,
   "metadata": {
    "execution": {
     "iopub.execute_input": "2021-11-19T19:50:37.073838Z",
     "iopub.status.busy": "2021-11-19T19:50:37.073033Z",
     "iopub.status.idle": "2021-11-19T19:50:37.094175Z",
     "shell.execute_reply": "2021-11-19T19:50:37.094719Z"
    }
   },
   "outputs": [],
   "source": [
    "viral_bc_frac = (\n",
    "    viral_bc_frac\n",
    "    .assign(viral_bc_UMIs=lambda x: (x['viral_bc_UMIs']\n",
    "                                     .fillna(0)\n",
    "                                     .astype(int, errors='raise'))))\n",
    "\n",
    "\n",
    "viral_bc_frac['frac_viral_bc_UMIs'] = (\n",
    "    viral_bc_frac['viral_bc_UMIs'] /\n",
    "    viral_bc_frac['total_UMIs'])\n",
    "\n",
    "display(viral_bc_frac)"
   ]
  },
  {
   "cell_type": "markdown",
   "metadata": {},
   "source": [
    "## Filtering\n",
    "Now, I will filter out viral barcodes in each infected cell. A valid viral barcode meets the following criteria:\n",
    "1. The cell is infected\n",
    "2. The cell expresses the barcoded gene\n",
    "3. There are at least 2 UMIs with the viral barcode in that cell-gene\n",
    "4. The viral barcode is present at a frequency greater than some cutoff percentile observed in uninfected cells."
   ]
  },
  {
   "cell_type": "code",
   "execution_count": null,
   "metadata": {},
   "outputs": [],
   "source": [
    "filter_query_list = list()"
   ]
  },
  {
   "cell_type": "markdown",
   "metadata": {},
   "source": [
    "### Infected cells\n",
    "Valid viral barcodes must come from infected cells:"
   ]
  },
  {
   "cell_type": "code",
   "execution_count": null,
   "metadata": {},
   "outputs": [],
   "source": [
    "infected_rank = (viral_bc_frac\n",
    "                 [['cell_barcode',\n",
    "                   'gene',\n",
    "                   'infected',\n",
    "                   'frac_viral_bc_UMIs',]]\n",
    "                 .copy()\n",
    "                 .drop_duplicates())\n",
    "infected_rank['rank'] = (infected_rank\n",
    "                         .groupby('gene')\n",
    "                         ['frac_viral_bc_UMIs']\n",
    "                         .rank(ascending=False, method='first'))\n",
    "\n",
    "fig = (p9.ggplot(infected_rank,\n",
    "                 p9.aes(x='rank',\n",
    "                        y='frac_viral_bc_UMIs',\n",
    "                        color='infected')) +\n",
    "       p9.geom_point(alpha=.3) +\n",
    "       p9.facet_grid('gene~infected') +\n",
    "       p9.scale_y_log10() +\n",
    "       p9.ggtitle('viral bc UMIs in infected and uninfected cells\\n'\n",
    "                  f'{expt}') +\n",
    "       p9.labs(x='viral bc frequency rank') +\n",
    "       p9.theme(figure_size=(6, 4),\n",
    "                plot_title=p9.element_text(size=9),\n",
    "                axis_title=p9.element_text(size=9),\n",
    "                legend_title=p9.element_text(size=9),\n",
    "                legend_title_align='center') +\n",
    "       p9.scale_color_manual(CBPALETTE[0:]))\n",
    "display(fig)"
   ]
  },
  {
   "cell_type": "markdown",
   "metadata": {},
   "source": [
    "Add infection status to filter query:"
   ]
  },
  {
   "cell_type": "code",
   "execution_count": null,
   "metadata": {},
   "outputs": [],
   "source": [
    "filter_query_list.append('(infected == \"infected\")')\n",
    "filter_query = \" and \".join(filter_query_list)\n",
    "print(\"The filter query is:  \"\n",
    "      f\"{filter_query}\")"
   ]
  },
  {
   "cell_type": "markdown",
   "metadata": {},
   "source": [
    "### Gene expression\n",
    "Plot barcode UMIs per viral barcode in infected cells, annotated with gene expression:"
   ]
  },
  {
   "cell_type": "code",
   "execution_count": null,
   "metadata": {},
   "outputs": [],
   "source": [
    "gene_expressed_rank = (viral_bc_frac\n",
    "                       .query(filter_query)\n",
    "                       [['cell_barcode',\n",
    "                         'gene',\n",
    "                         'gene_present',\n",
    "                         'frac_viral_bc_UMIs',]]\n",
    "                       .copy()\n",
    "                       .drop_duplicates())\n",
    "gene_expressed_rank['rank'] = (gene_expressed_rank\n",
    "                               .groupby('gene')\n",
    "                               ['frac_viral_bc_UMIs']\n",
    "                               .rank(ascending=False, method='first'))\n",
    "\n",
    "fig = (p9.ggplot(gene_expressed_rank,\n",
    "                 p9.aes(x='rank',\n",
    "                        y='frac_viral_bc_UMIs',\n",
    "                        color='gene_present')) +\n",
    "       p9.geom_point(alpha=0.5) +\n",
    "       p9.facet_grid('gene~') +\n",
    "       p9.scale_y_log10() +\n",
    "       p9.ggtitle('viral bc UMIs on expressed/missing genes\\n'\n",
    "                  'in infected cells\\n'\n",
    "                  f'{expt}') +\n",
    "       p9.labs(x='viral bc frequency rank') +\n",
    "       p9.theme(figure_size=(3, 4),\n",
    "                plot_title=p9.element_text(size=9),\n",
    "                axis_title=p9.element_text(size=9),\n",
    "                legend_title=p9.element_text(size=9),\n",
    "                legend_title_align='center') +\n",
    "       p9.scale_color_manual(CBPALETTE[0:]))\n",
    "display(fig)"
   ]
  },
  {
   "cell_type": "markdown",
   "metadata": {},
   "source": [
    "Add gene expression to filter query:"
   ]
  },
  {
   "cell_type": "code",
   "execution_count": null,
   "metadata": {},
   "outputs": [],
   "source": [
    "filter_query_list.append('(gene_present == True)')\n",
    "filter_query = \" and \".join(filter_query_list)\n",
    "print(\"The filter query is:  \"\n",
    "      f\"{filter_query}\")"
   ]
  },
  {
   "cell_type": "markdown",
   "metadata": {},
   "source": [
    "### Absolute abundance\n",
    "Label and remove viral barcodes with only 1 UMIs in a given cell:"
   ]
  },
  {
   "cell_type": "code",
   "execution_count": null,
   "metadata": {},
   "outputs": [],
   "source": [
    "UMI_limit = 1\n",
    "viral_bc_frac['above_UMI_limit'] = viral_bc_frac['viral_bc_UMIs'] > UMI_limit\n",
    "\n",
    "UMI_limit_rank = (viral_bc_frac\n",
    "                  .query(filter_query)\n",
    "                  [['cell_barcode',\n",
    "                    'gene',\n",
    "                    'above_UMI_limit',\n",
    "                    'viral_bc_UMIs',]]\n",
    "                  .copy()\n",
    "                  .drop_duplicates())\n",
    "UMI_limit_rank['rank'] = (UMI_limit_rank\n",
    "                          .groupby('gene')\n",
    "                          ['viral_bc_UMIs']\n",
    "                          .rank(ascending=False, method='first'))\n",
    "\n",
    "fig = (p9.ggplot(UMI_limit_rank,\n",
    "                 p9.aes(x='rank',\n",
    "                        y='viral_bc_UMIs',\n",
    "                        color='above_UMI_limit')) +\n",
    "       p9.geom_point(alpha=0.5) +\n",
    "       p9.geom_hline(yintercept=UMI_limit, linetype='dashed', color=CBPALETTE[2]) +\n",
    "       p9.facet_grid('gene~') +\n",
    "       p9.scale_y_log10() +\n",
    "       p9.ggtitle('viral barcode UMI threshold\\n'\n",
    "                  'in infected cells expressing barcoded gene\\n'\n",
    "                  f'{expt}') +\n",
    "       p9.labs(x='viral bc UMI rank') +\n",
    "       p9.theme(figure_size=(3, 4),\n",
    "                plot_title=p9.element_text(size=9),\n",
    "                axis_title=p9.element_text(size=9),\n",
    "                legend_title=p9.element_text(size=9),\n",
    "                legend_title_align='center') +\n",
    "       p9.scale_color_manual(CBPALETTE[0:]))\n",
    "display(fig)"
   ]
  },
  {
   "cell_type": "markdown",
   "metadata": {},
   "source": [
    "Add absolute abundance to filter query:"
   ]
  },
  {
   "cell_type": "code",
   "execution_count": null,
   "metadata": {},
   "outputs": [],
   "source": [
    "filter_query_list.append('(above_UMI_limit == True)')\n",
    "filter_query = \" and \".join(filter_query_list)\n",
    "print(\"The filter query is:  \"\n",
    "      f\"{filter_query}\")"
   ]
  },
  {
   "cell_type": "markdown",
   "metadata": {},
   "source": [
    "### Relative abundance\n",
    "Find the 99th percentile of individual viral barcode frequency in uninfected cells. Label and filter out viral barcodes that are less than this frequency."
   ]
  },
  {
   "cell_type": "code",
   "execution_count": null,
   "metadata": {},
   "outputs": [],
   "source": [
    "limit_percentile = 0.99\n",
    "\n",
    "uninfected_background_frac = {}\n",
    "for gene in barcoded_viral_genes:\n",
    "    limit = (viral_bc_frac\n",
    "             .query('(infecting_viral_tag == \"none\") '\n",
    "                    f'and (gene == \"{gene}\")')\n",
    "             ['frac_viral_bc_UMIs']\n",
    "             .quantile(limit_percentile))\n",
    "    uninfected_background_frac[f'{gene}'] = limit\n",
    "    print(f'The limit for a viral barcode on {gene} is {limit:.5f}.')\n",
    "    \n",
    "# Convert to DataFrame for plotting\n",
    "uninfected_background_frac = (\n",
    "    pd.DataFrame.from_dict(uninfected_background_frac,\n",
    "                           orient='index',\n",
    "                           columns=['uninf_background'])\n",
    "    .reset_index()\n",
    "    .rename(columns={'index': 'gene'}))\n",
    "\n",
    "fig = (p9.ggplot((viral_bc_frac\n",
    "                  .query('infecting_viral_tag == \"none\"')),\n",
    "                 p9.aes(x='frac_viral_bc_UMIs')) +\n",
    "       p9.geom_histogram(bins=50, fill=\"#3a3a3a\") +\n",
    "       p9.geom_vline(uninfected_background_frac,\n",
    "                     p9.aes(xintercept='uninf_background'),\n",
    "                     linetype='dashed',\n",
    "                     color='#3A3B3C',\n",
    "                     size=0.5) +\n",
    "       p9.facet_grid('infecting_viral_tag~gene') +\n",
    "       p9.ggtitle('viral barcode fraction in uninfected cells\\n'\n",
    "                  f'{expt}') +\n",
    "       p9.labs(x='viral barcode frequency',) +\n",
    "       p9.theme(figure_size=(5, 1),\n",
    "                plot_title=p9.element_text(size=10),\n",
    "                axis_title=p9.element_text(size=10),\n",
    "                axis_text=p9.element_text(rotation=45),\n",
    "                legend_title=p9.element_text(size=9),\n",
    "                legend_title_align='center'))\n",
    "display(fig)"
   ]
  },
  {
   "cell_type": "code",
   "execution_count": null,
   "metadata": {},
   "outputs": [],
   "source": [
    "viral_bc_frac = pd.merge(left=viral_bc_frac,\n",
    "                         right=uninfected_background_frac,\n",
    "                         on='gene',\n",
    "                         how='outer',\n",
    "                         validate='many_to_one')\n",
    "viral_bc_frac['above_uninf_background'] = (viral_bc_frac['frac_viral_bc_UMIs'] >\n",
    "                                           viral_bc_frac['uninf_background'])"
   ]
  },
  {
   "cell_type": "code",
   "execution_count": null,
   "metadata": {},
   "outputs": [],
   "source": [
    "background_rank = (viral_bc_frac\n",
    "                   .query(filter_query)\n",
    "                   [['cell_barcode',\n",
    "                     'gene',\n",
    "                     'above_uninf_background',\n",
    "                     'frac_viral_bc_UMIs',]]\n",
    "                   .copy()\n",
    "                   .drop_duplicates())\n",
    "background_rank['rank'] = (background_rank\n",
    "                           .groupby('gene')\n",
    "                           ['frac_viral_bc_UMIs']\n",
    "                           .rank(ascending=False, method='first'))\n",
    "\n",
    "fig = (p9.ggplot(background_rank,\n",
    "                 p9.aes(x='rank',\n",
    "                        y='frac_viral_bc_UMIs',\n",
    "                        color='above_uninf_background')) +\n",
    "       p9.geom_point(alpha=0.5) +\n",
    "       p9.geom_hline(uninfected_background_frac,\n",
    "                     p9.aes(yintercept='uninf_background'),\n",
    "                     linetype='dashed',\n",
    "                     color=CBPALETTE[2]) +\n",
    "       p9.facet_grid('gene~') +\n",
    "       p9.scale_y_log10() +\n",
    "       p9.ggtitle(f'{expt}') +\n",
    "       p9.labs(x='viral bc frequency rank') +\n",
    "       p9.theme(figure_size=(3, 4),\n",
    "                plot_title=p9.element_text(size=9),\n",
    "                axis_title=p9.element_text(size=9),\n",
    "                legend_title=p9.element_text(size=9),\n",
    "                legend_title_align='center') +\n",
    "       p9.scale_color_manual(CBPALETTE[0:]))\n",
    "display(fig)"
   ]
  },
  {
   "cell_type": "markdown",
   "metadata": {},
   "source": [
    "Add background frequency to filter query:"
   ]
  },
  {
   "cell_type": "code",
   "execution_count": null,
   "metadata": {},
   "outputs": [],
   "source": [
    "filter_query_list.append('(above_uninf_background == True)')\n",
    "filter_query = \" and \".join(filter_query_list)\n",
    "print(\"The filter query is:  \"\n",
    "      f\"{filter_query}\")"
   ]
  },
  {
   "cell_type": "markdown",
   "metadata": {},
   "source": [
    "## Assign filter status to each viral barcode"
   ]
  },
  {
   "cell_type": "code",
   "execution_count": null,
   "metadata": {},
   "outputs": [],
   "source": [
    "viral_bc_frac.loc[viral_bc_frac.eval(filter_query), 'valid_viral_bc'] = True\n",
    "viral_bc_frac['valid_viral_bc'] = viral_bc_frac['valid_viral_bc'].fillna(False)\n",
    "display(viral_bc_frac)"
   ]
  },
  {
   "cell_type": "markdown",
   "metadata": {},
   "source": [
    "## Summary visualizations\n",
    "### Valid viral barcodes in each infected cell"
   ]
  },
  {
   "cell_type": "code",
   "execution_count": null,
   "metadata": {},
   "outputs": [],
   "source": [
    "valid_rank = (viral_bc_frac\n",
    "              .query('infected == \"infected\"')\n",
    "              [['cell_barcode',\n",
    "                'gene',\n",
    "                'frac_viral_bc_UMIs',\n",
    "                'valid_viral_bc']]\n",
    "              .copy()\n",
    "              .drop_duplicates())\n",
    "valid_rank['rank'] = (valid_rank\n",
    "                      .groupby('gene')\n",
    "                      ['frac_viral_bc_UMIs']\n",
    "                      .rank(ascending=False, method='first'))\n",
    "\n",
    "fig = (p9.ggplot(valid_rank,\n",
    "                 p9.aes(x='rank',\n",
    "                        y='frac_viral_bc_UMIs',\n",
    "                        color='valid_viral_bc')) +\n",
    "       p9.geom_point(alpha=.3) +\n",
    "       p9.facet_grid('gene~') +\n",
    "       p9.scale_y_log10() +\n",
    "       p9.ggtitle('valid and filterd viral barcodes\\n'\n",
    "                  'in infected cells\\n'\n",
    "                  f'{expt}') +\n",
    "       p9.labs(x='viral bc frequency rank') +\n",
    "       p9.theme(figure_size=(3, 4),\n",
    "                plot_title=p9.element_text(size=9),\n",
    "                axis_title=p9.element_text(size=9),\n",
    "                legend_title=p9.element_text(size=9),\n",
    "                legend_title_align='center') +\n",
    "       p9.scale_color_manual(CBPALETTE[0:]))\n",
    "display(fig)"
   ]
  },
  {
   "cell_type": "markdown",
   "metadata": {},
   "source": [
    "### Valid viral barcodes in each cell\n",
    "Visualize the valid viral barcodes in each cell"
   ]
  },
  {
   "cell_type": "code",
   "execution_count": null,
   "metadata": {},
   "outputs": [],
   "source": [
    "visualization_df = (viral_bc_frac\n",
    "              .query('valid_viral_bc == True')\n",
    "              [['cell_barcode',\n",
    "                'gene',\n",
    "                'viral_barcode',\n",
    "                'frac_viral_bc_UMIs']]\n",
    "              .copy()\n",
    "              .drop_duplicates())\n",
    "visualization_df['sum_frac_cell_gene'] = (visualization_df\n",
    "                                          .groupby(['cell_barcode','gene'])\n",
    "                                          ['frac_viral_bc_UMIs']\n",
    "                                          .transform('sum'))\n",
    "visualization_df['proportion_valid_viral_bcs_cell_gene'] = (\n",
    "    visualization_df['frac_viral_bc_UMIs'] /\n",
    "    visualization_df['sum_frac_cell_gene'])\n",
    "visualization_df['cell_barcode'] = pd.Categorical(visualization_df['cell_barcode'])\n",
    "visualization_df['cell_barcode_dummy'] = visualization_df.cell_barcode.cat.codes\n",
    "visualization_df['viral_bc_rank'] = (visualization_df\n",
    "                                     .groupby(['cell_barcode','gene'])\n",
    "                                     ['proportion_valid_viral_bcs_cell_gene']\n",
    "                                     .rank(ascending=False, method='first'))\n",
    "\n",
    "display(visualization_df)"
   ]
  },
  {
   "cell_type": "code",
   "execution_count": null,
   "metadata": {},
   "outputs": [],
   "source": [
    "fig = (p9.ggplot(visualization_df,\n",
    "                 p9.aes(x='cell_barcode_dummy',\n",
    "                        y='proportion_valid_viral_bcs_cell_gene',\n",
    "                        fill='factor(viral_bc_rank)')) +\n",
    "       p9.geom_bar(stat='identity', width=1) +\n",
    "       p9.facet_grid('gene~') +\n",
    "       p9.ggtitle('valid and filterd viral barcodes\\n'\n",
    "                  'in infected cells\\n'\n",
    "                  f'{expt}') +\n",
    "       p9.labs(x='infected cell arbitrary #') +\n",
    "       p9.theme(figure_size=(6, 4),\n",
    "                plot_title=p9.element_text(size=9),\n",
    "                axis_title=p9.element_text(size=9),\n",
    "                legend_title=p9.element_text(size=9),\n",
    "                legend_title_align='center') +\n",
    "       p9.scale_fill_manual(CBPALETTE[0:]))\n",
    "display(fig)"
   ]
  },
  {
   "cell_type": "markdown",
   "metadata": {},
   "source": [
    "### Number of valid viral barcodes per cell"
   ]
  },
  {
   "cell_type": "code",
   "execution_count": null,
   "metadata": {},
   "outputs": [],
   "source": [
    "n_viral_bc = (viral_bc_frac\n",
    "             .query('(valid_viral_bc == True)',\n",
    "                    engine='python')\n",
    "             .groupby(['cell_barcode',\n",
    "                       'gene',\n",
    "                       'valid_viral_bc'])\n",
    "             ['viral_barcode']\n",
    "             .nunique()\n",
    "             .reset_index()\n",
    "             .rename(columns={'viral_barcode': 'n_viral_bc'}))"
   ]
  },
  {
   "cell_type": "code",
   "execution_count": null,
   "metadata": {},
   "outputs": [],
   "source": [
    "output_fig = (p9.ggplot(n_viral_bc) +\n",
    "              p9.geom_histogram(p9.aes(x='n_viral_bc'),\n",
    "                                       binwidth=1,\n",
    "                                       position='dodge') +\n",
    "              p9.facet_grid('~gene') +\n",
    "              p9.ggtitle('Number of valid viral barcodes per cell\\n'\n",
    "                         'in infected cells\\n'\n",
    "                         f'{expt}') +\n",
    "              p9.xlab('number of valid viral barcodes in cell') +\n",
    "              p9.ylab('number of cells') +\n",
    "              p9.theme(figure_size=(5, 2),\n",
    "                       plot_title=p9.element_text(size=11),\n",
    "                       axis_title=p9.element_text(size=10),\n",
    "                       legend_title=p9.element_text(size=10),\n",
    "                       legend_title_align='center'))\n",
    "display(output_fig)"
   ]
  },
  {
   "cell_type": "code",
   "execution_count": null,
   "metadata": {},
   "outputs": [],
   "source": [
    "print(f\"Saving plots to {plot}\")\n",
    "p9.ggsave(plot=output_fig, filename=plot, verbose=False)\n",
    "\n",
    "print(f\"Saving filtered barcodes to {valid_viral_barcodes_by_cell}\")\n",
    "\n",
    "# Export valid cell barcode-viral barcodes pairs\n",
    "(viral_bc_frac\n",
    " .query('valid_viral_bc == True')\n",
    " .to_csv(valid_viral_barcodes_by_cell,\n",
    "         columns=['cell_barcode',\n",
    "                  'gene',\n",
    "                  'viral_barcode',\n",
    "                  'valid_viral_bc'],\n",
    "         index=False))"
   ]
  }
 ],
 "metadata": {
  "kernelspec": {
   "display_name": "Python 3",
   "language": "python",
   "name": "python3"
  },
  "language_info": {
   "codemirror_mode": {
    "name": "ipython",
    "version": 3
   },
   "file_extension": ".py",
   "mimetype": "text/x-python",
   "name": "python",
   "nbconvert_exporter": "python",
   "pygments_lexer": "ipython3",
   "version": "3.8.6"
  }
 },
 "nbformat": 4,
 "nbformat_minor": 4
}
