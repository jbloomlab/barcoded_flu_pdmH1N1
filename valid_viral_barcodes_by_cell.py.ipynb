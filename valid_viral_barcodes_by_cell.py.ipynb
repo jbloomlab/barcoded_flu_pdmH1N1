{
 "cells": [
  {
   "cell_type": "code",
   "execution_count": 1,
   "metadata": {
    "execution": {
     "iopub.execute_input": "2021-12-15T00:02:59.758299Z",
     "iopub.status.busy": "2021-12-15T00:02:59.757611Z",
     "iopub.status.idle": "2021-12-15T00:02:59.800556Z",
     "shell.execute_reply": "2021-12-15T00:02:59.801262Z"
    },
    "tags": [
     "snakemake-job-properties"
    ]
   },
   "outputs": [],
   "source": [
    "\n",
    "######## snakemake preamble start (automatically inserted, do not edit) ########\n",
    "import sys; sys.path.extend(['/fh/fast/bloom_j/software/miniconda3/envs/barcoded_flu_pdmH1N1/lib/python3.8/site-packages', '/fh/fast/bloom_j/computational_notebooks/dbacsik/2019/flu_pdmH1N1_barcode_hashing/notebooks']); import pickle; snakemake = pickle.loads(b'\\x80\\x04\\x95sC\\x00\\x00\\x00\\x00\\x00\\x00\\x8c\\x10snakemake.script\\x94\\x8c\\tSnakemake\\x94\\x93\\x94)\\x81\\x94}\\x94(\\x8c\\x05input\\x94\\x8c\\x0csnakemake.io\\x94\\x8c\\nInputFiles\\x94\\x93\\x94)\\x81\\x94(\\x8c_results/viral_tags_bcs_in_cells/scProgenyProduction_trial3_cell_barcodes_with_viral_tags.csv.gz\\x94\\x8cSresults/viral_fastq10x/scProgenyProduction_trial3_viral_bc_by_cell_corrected.csv.gz\\x94\\x8cLresults/viral_fastq10x/scProgenyProduction_trial3_viral_genes_by_cell.csv.gz\\x94e}\\x94(\\x8c\\x06_names\\x94}\\x94(\\x8c\\x15viral_tag_by_cell_csv\\x94K\\x00N\\x86\\x94\\x8c\\x1eviral_bc_by_cell_corrected_csv\\x94K\\x01N\\x86\\x94\\x8c\\x17viral_genes_by_cell_csv\\x94K\\x02N\\x86\\x94u\\x8c\\x12_allowed_overrides\\x94]\\x94(\\x8c\\x05index\\x94\\x8c\\x04sort\\x94eh\\x18\\x8c\\tfunctools\\x94\\x8c\\x07partial\\x94\\x93\\x94h\\x06\\x8c\\x19Namedlist._used_attribute\\x94\\x93\\x94\\x85\\x94R\\x94(h\\x1e)}\\x94\\x8c\\x05_name\\x94h\\x18sNt\\x94bh\\x19h\\x1ch\\x1e\\x85\\x94R\\x94(h\\x1e)}\\x94h\"h\\x19sNt\\x94bh\\x10h\\nh\\x12h\\x0bh\\x14h\\x0cub\\x8c\\x06output\\x94h\\x06\\x8c\\x0bOutputFiles\\x94\\x93\\x94)\\x81\\x94(\\x8cOresults/viral_fastq10x/scProgenyProduction_trial3_valid_viral_bc_by_cell.csv.gz\\x94\\x8cRresults/viral_fastq10x/scProgenyProduction_trial3_valid_viral_barcodes_by_cell.pdf\\x94e}\\x94(h\\x0e}\\x94(\\x8c\\x18valid_viral_barcodes_csv\\x94K\\x00N\\x86\\x94\\x8c\\x04plot\\x94K\\x01N\\x86\\x94uh\\x16]\\x94(h\\x18h\\x19eh\\x18h\\x1ch\\x1e\\x85\\x94R\\x94(h\\x1e)}\\x94h\"h\\x18sNt\\x94bh\\x19h\\x1ch\\x1e\\x85\\x94R\\x94(h\\x1e)}\\x94h\"h\\x19sNt\\x94bh0h,h2h-ub\\x8c\\x06params\\x94h\\x06\\x8c\\x06Params\\x94\\x93\\x94)\\x81\\x94]\\x94(\\x8c\\x05fluHA\\x94\\x8c\\x05fluNA\\x94ea}\\x94(h\\x0e}\\x94\\x8c\\x14barcoded_viral_genes\\x94K\\x00N\\x86\\x94sh\\x16]\\x94(h\\x18h\\x19eh\\x18h\\x1ch\\x1e\\x85\\x94R\\x94(h\\x1e)}\\x94h\"h\\x18sNt\\x94bh\\x19h\\x1ch\\x1e\\x85\\x94R\\x94(h\\x1e)}\\x94h\"h\\x19sNt\\x94bhFhAub\\x8c\\twildcards\\x94h\\x06\\x8c\\tWildcards\\x94\\x93\\x94)\\x81\\x94\\x8c\\x1ascProgenyProduction_trial3\\x94a}\\x94(h\\x0e}\\x94\\x8c\\x04expt\\x94K\\x00N\\x86\\x94sh\\x16]\\x94(h\\x18h\\x19eh\\x18h\\x1ch\\x1e\\x85\\x94R\\x94(h\\x1e)}\\x94h\"h\\x18sNt\\x94bh\\x19h\\x1ch\\x1e\\x85\\x94R\\x94(h\\x1e)}\\x94h\"h\\x19sNt\\x94b\\x8c\\x04expt\\x94hUub\\x8c\\x07threads\\x94K\\x01\\x8c\\tresources\\x94h\\x06\\x8c\\tResources\\x94\\x93\\x94)\\x81\\x94(K\\x01K\\x01e}\\x94(h\\x0e}\\x94(\\x8c\\x06_cores\\x94K\\x00N\\x86\\x94\\x8c\\x06_nodes\\x94K\\x01N\\x86\\x94uh\\x16]\\x94(h\\x18h\\x19eh\\x18h\\x1ch\\x1e\\x85\\x94R\\x94(h\\x1e)}\\x94h\"h\\x18sNt\\x94bh\\x19h\\x1ch\\x1e\\x85\\x94R\\x94(h\\x1e)}\\x94h\"h\\x19sNt\\x94bhkK\\x01hmK\\x01ub\\x8c\\x03log\\x94h\\x06\\x8c\\x03Log\\x94\\x93\\x94)\\x81\\x94\\x8cJresults/logs/valid_viral_barcodes_by_cell_scProgenyProduction_trial3.ipynb\\x94a}\\x94(h\\x0e}\\x94\\x8c\\x08notebook\\x94K\\x00N\\x86\\x94sh\\x16]\\x94(h\\x18h\\x19eh\\x18h\\x1ch\\x1e\\x85\\x94R\\x94(h\\x1e)}\\x94h\"h\\x18sNt\\x94bh\\x19h\\x1ch\\x1e\\x85\\x94R\\x94(h\\x1e)}\\x94h\"h\\x19sNt\\x94bh\\x7fh|ub\\x8c\\x06config\\x94}\\x94(\\x8c\\x08max_cpus\\x94K\\x10\\x8c\\x07log_dir\\x94\\x8c\\x0cresults/logs\\x94\\x8c\\x0cfastq10x_dir\\x94\\x8c\\x10results/fastq10x\\x94\\x8c\\npacbio_dir\\x94\\x8c\\x0eresults/pacbio\\x94\\x8c\\x0emkfastq10x_dir\\x94\\x8c\\x1fresults/fastq10x/mkfastq_output\\x94\\x8c\\ngenome_dir\\x94\\x8c\\x0fresults/genomes\\x94\\x8c\\trefgenome\\x94\\x8c\\x19results/genomes/refgenome\\x94\\x8c\\x14aligned_fastq10x_dir\\x94\\x8c\\x18results/aligned_fastq10x\\x94\\x8c\\x12viral_fastq10x_dir\\x94\\x8c\\x16results/viral_fastq10x\\x94\\x8c\\x1bviral_tags_bcs_in_cells_dir\\x94\\x8c\\x1fresults/viral_tags_bcs_in_cells\\x94\\x8c\\x11viral_progeny_dir\\x94\\x8c\\x15results/viral_progeny\\x94\\x8c\\x13align_and_parse_dir\\x94\\x8c#results/pacbio/CA09_align_and_parse\\x94\\x8c\\x0fcell_genome_ftp\\x94\\x8cmftp://ftp.ensembl.org/pub/release-98/fasta/canis_familiaris/dna/Canis_familiaris.CanFam3.1.dna.toplevel.fa.gz\\x94\\x8c\\x0ccell_gtf_ftp\\x94\\x8c^ftp://ftp.ensembl.org/pub/release-98/gtf/canis_familiaris/Canis_familiaris.CanFam3.1.98.gtf.gz\\x94\\x8c\\x0cviral_genome\\x94\\x8c!data/flu_sequences/flu-CA09.fasta\\x94\\x8c\\tviral_gtf\\x94\\x8c\\x1fdata/flu_sequences/flu-CA09.gtf\\x94\\x8c\\rviral_genbank\\x94\\x8c\\x1edata/flu_sequences/flu-CA09.gb\\x94\\x8c\\x14viral_tag_identities\\x94\\x8c+data/flu_sequences/flu-CA09_viral_tags.yaml\\x94\\x8c\\x0fviral_amplicons\\x94\\x8c.data/flu_sequences/pacbio_amplicons/fluCA09.gb\\x94\\x8c\\x11amplicon_features\\x94\\x8c9data/flu_sequences/pacbio_amplicons/fluCA09_features.yaml\\x94\\x8c\\x1eamplicon_linearization_primers\\x94\\x8c=data/flu_sequences/pacbio_amplicons/linearization_primers.tsv\\x94\\x8c\\x15amplicon_to_reference\\x94\\x8c=data/flu_sequences/pacbio_amplicons/amplicon_to_reference.csv\\x94\\x8c\\x0escoreGapNoncan\\x94J\\xfc\\xff\\xff\\xff\\x8c\\x0cscoreGapGCAG\\x94J\\xfc\\xff\\xff\\xff\\x8c\\x0cscoreGapATAC\\x94J\\xfc\\xff\\xff\\xff\\x8c\\x14cb_whitelist_10x_url\\x94\\x8ckhttps://github.com/10XGenomics/cellranger/raw/master/lib/python/cellranger/barcodes/3M-february-2018.txt.gz\\x94\\x8c\\x10cb_whitelist_10x\\x94\\x8c-results/aligned_fastq10x/cb_whitelist_10x.txt\\x94\\x8c\\ncb_len_10x\\x94K\\x10\\x8c\\x0bumi_len_10x\\x94K\\x0c\\x8c\\x13infection_threshold\\x94G?\\x84z\\xe1G\\xae\\x14{\\x8c\\rviral_tag_fdr\\x94G?\\x1a6\\xe2\\xeb\\x1cC-\\x8c\\x1dviral_barcode_upstream_length\\x94K\\x1c\\x8c\\x16viral_barcode_mismatch\\x94K\\x00\\x8c\\x12viral_barcode_minq\\x94K\\x1e\\x8c\\x0cviral_bc_fdr\\x94G?\\x1a6\\xe2\\xeb\\x1cC-\\x8c\\x0eccs_min_length\\x94K2\\x8c\\x0eccs_max_length\\x94M\\x88\\x13\\x8c\\nccs_min_rq\\x94G?\\xef\\xf7\\xce\\xd9\\x16\\x87+\\x8c\\x0bexperiments\\x94}\\x94(\\x8c\\x0ehashing_lowMOI\\x94}\\x94(\\x8c\\x0bdescription\\x94X*\\x01\\x00\\x00Single-cell transcriptomics using the wildtype and dblySyn viral tag variants. Infection volume was chosen based on the results of `hashing_trial1` and flow cytometry. The incolum volume for the wildtype tag variant was about 12-fold higher, and for the dblSyn tag variant was about 24-fold higher.\\x94\\x8c\\tlab_notes\\x94\\x8c0https://benchling.com/s/etr-W8urOmOAQ7L6U4HAXMNy\\x94\\x8c\\rexpect_ncells\\x94M\\x88\\x13\\x8c\\x0ftranscriptomics\\x94}\\x94(\\x8c\\x08datetime\\x94\\x8c\\x04date\\x94\\x93\\x94C\\x04\\x07\\xe4\\x06\\x02\\x94\\x85\\x94R\\x94}\\x94(\\x8c\\x05index\\x94\\x8c\\x08SI-GA-B3\\x94\\x8c\\nbcl_folder\\x94\\x8cG/home/solexa/ngs/illumina/bloom_lab/200602_M03100_0578_000000000-J3464/\\x94\\x8c\\x04lane\\x94\\x8c\\x01*\\x94\\x8c\\x10index_sequencing\\x94\\x8c\\x06single\\x94uh\\xd6C\\x04\\x07\\xe4\\x07\\x01\\x94\\x85\\x94R\\x94}\\x94(\\x8c\\x05index\\x94\\x8c\\x08SI-GA-B3\\x94\\x8c\\nbcl_folder\\x94\\x8c^/shared/ngs/illumina/agreaney/200701_D00300_0988_BHGFGMBCX3/raw/200701_D00300_0988_BHGFGMBCX3/\\x94\\x8c\\x04lane\\x94K\\x02\\x8c\\x10index_sequencing\\x94\\x8c\\x06single\\x94uh\\xd6C\\x04\\x07\\xe4\\x08\\x1a\\x94\\x85\\x94R\\x94}\\x94(\\x8c\\x05index\\x94\\x8c\\x08SI-GA-B3\\x94\\x8c\\nbcl_folder\\x94\\x8ci/shared/ngs/illumina/bloom_lab/bloom_lab/200826_D00300_1040_BHHGLWBCX3/raw/200826_D00300_1040_BHHGLWBCX3/\\x94\\x8c\\x04lane\\x94h\\xe0\\x8c\\x10index_sequencing\\x94\\x8c\\x06single\\x94uh\\xd6C\\x04\\x07\\xe5\\x03\\x0c\\x94\\x85\\x94R\\x94}\\x94(\\x8c\\x05index\\x94\\x8c\\x08SI-GA-B3\\x94\\x8c\\nbcl_folder\\x94\\x8c_/shared/ngs/illumina/bloom_lab/210312_D00300_1192_BHKHNYBCX3/raw/210312_D00300_1192_BHKHNYBCX3/\\x94\\x8c\\x04lane\\x94K\\x01\\x8c\\x10index_sequencing\\x94\\x8c\\x06single\\x94uuu\\x8c\\x0fhashing_highMOI\\x94}\\x94(\\x8c\\x0bdescription\\x94\\x8c\\x9aSingle-cell transcriptomics using the wildtype and dblSyn viral tag variants at a high MOI. Infection volume was based on the results of `hashing_trial2`.\\x94\\x8c\\tlab_notes\\x94\\x8c0https://benchling.com/s/etr-ToK66qT0Mfmf6FsexKo4\\x94\\x8c\\rexpect_ncells\\x94M\\x88\\x13\\x8c\\x0ftranscriptomics\\x94}\\x94(h\\xd6C\\x04\\x07\\xe4\\x07\\x18\\x94\\x85\\x94R\\x94}\\x94(\\x8c\\x05index\\x94\\x8c\\x08SI-GA-B5\\x94\\x8c\\nbcl_folder\\x94\\x8cB/shared/ngs/illumina/bloom_lab/200724_M03100_0593_000000000-J33YK/\\x94\\x8c\\x04lane\\x94h\\xe0\\x8c\\x10index_sequencing\\x94\\x8c\\x06single\\x94uh\\xd6C\\x04\\x07\\xe4\\x08\\x1a\\x94\\x85\\x94R\\x94}\\x94(\\x8c\\x05index\\x94\\x8c\\x08SI-GA-B5\\x94\\x8c\\nbcl_folder\\x94\\x8ci/shared/ngs/illumina/bloom_lab/bloom_lab/200826_D00300_1040_BHHGLWBCX3/raw/200826_D00300_1040_BHHGLWBCX3/\\x94\\x8c\\x04lane\\x94h\\xe0\\x8c\\x10index_sequencing\\x94\\x8c\\x06single\\x94uh\\xd6C\\x04\\x07\\xe5\\x03\\x0c\\x94\\x85\\x94R\\x94}\\x94(\\x8c\\x05index\\x94\\x8c\\x08SI-GA-B5\\x94\\x8c\\nbcl_folder\\x94\\x8c_/shared/ngs/illumina/bloom_lab/210312_D00300_1192_BHKHNYBCX3/raw/210312_D00300_1192_BHKHNYBCX3/\\x94\\x8c\\x04lane\\x94K\\x02\\x8c\\x10index_sequencing\\x94\\x8c\\x06single\\x94uu\\x8c\\x17pacbio_viral_sequencing\\x94}\\x94\\x8c\\x1c2020-10-20_all_segments_run1\\x94\\x8cw/fh/fast/bloom_j/SR/ngs/pacbio/201019_BernadetaDadonaite/r54228_20201020_192758/1_A01/m54228_201020_194205.subreads.bam\\x94su\\x8c\\x1ascProgenyProduction_trial1\\x94}\\x94(\\x8c\\x0bdescription\\x94\\x8c\\xe7Single-cell transcriptomics performed on low MOI-infected sample. Innoculum volumes based on `hashing_trial2` data. Loaded all collected cells from two 24-well wells, each infected with either wildtype or dblySn viral tag variants.\\x94\\x8c\\tlab_notes\\x94\\x8c0https://benchling.com/s/etr-20lOO7l1FdEJJIpxV6vD\\x94\\x8c\\rexpect_ncells\\x94M\\x10\\'\\x8c\\x0ftranscriptomics\\x94}\\x94h\\xd6C\\x04\\x07\\xe4\\t\\x19\\x94\\x85\\x94R\\x94}\\x94(\\x8c\\x05index\\x94\\x8c\\x08SI-GA-B8\\x94\\x8c\\nbcl_folder\\x94\\x8c_/shared/ngs/illumina/bloom_lab/200925_D00300_1065_AHHL7NBCX3/raw/200925_D00300_1065_AHHL7NBCX3/\\x94\\x8c\\x04lane\\x94K\\x02\\x8c\\x10index_sequencing\\x94\\x8c\\x06single\\x94us\\x8c\\x0eviral_barcodes\\x94}\\x94(\\x8c\\x0bsupernatant\\x94}\\x94(\\x8c\\x02wt\\x94}\\x94(\\x8c\\x05fluHA\\x94}\\x94(\\x8c\\x0breplicate_1\\x94}\\x94h\\xd6C\\x04\\x07\\xe4\\n\\r\\x94\\x85\\x94R\\x94\\x8c\\x8a/shared/ngs/illumina/bloom_lab/201013_M03100_0625_000000000-JB2KP/Data/Intensities/BaseCalls/Trial1-WT-Sup-fluHA-A_S1_L001_R1_001.fastq.gz\\x94s\\x8c\\x0breplicate_2\\x94}\\x94h\\xd6C\\x04\\x07\\xe4\\n\\r\\x94\\x85\\x94R\\x94\\x8c\\x8a/shared/ngs/illumina/bloom_lab/201013_M03100_0625_000000000-JB2KP/Data/Intensities/BaseCalls/Trial1-WT-Sup-fluHA-B_S2_L001_R1_001.fastq.gz\\x94su\\x8c\\x05fluNA\\x94}\\x94(\\x8c\\x0breplicate_1\\x94}\\x94h\\xd6C\\x04\\x07\\xe4\\n\\r\\x94\\x85\\x94R\\x94\\x8c\\x8b/shared/ngs/illumina/bloom_lab/201013_M03100_0625_000000000-JB2KP/Data/Intensities/BaseCalls/Trial1-WT-Sup-fluNA-A_S17_L001_R1_001.fastq.gz\\x94s\\x8c\\x0breplicate_2\\x94}\\x94h\\xd6C\\x04\\x07\\xe4\\n\\r\\x94\\x85\\x94R\\x94\\x8c\\x8b/shared/ngs/illumina/bloom_lab/201013_M03100_0625_000000000-JB2KP/Data/Intensities/BaseCalls/Trial1-WT-Sup-fluNA-B_S18_L001_R1_001.fastq.gz\\x94suu\\x8c\\x03syn\\x94}\\x94(\\x8c\\x05fluHA\\x94}\\x94(\\x8c\\x0breplicate_1\\x94}\\x94h\\xd6C\\x04\\x07\\xe4\\n\\r\\x94\\x85\\x94R\\x94\\x8c\\x8e/shared/ngs/illumina/bloom_lab/201013_M03100_0625_000000000-JB2KP/Data/Intensities/BaseCalls/Trial1-dblSyn-Sup-fluHA-A_S3_L001_R1_001.fastq.gz\\x94s\\x8c\\x0breplicate_2\\x94}\\x94h\\xd6C\\x04\\x07\\xe4\\n\\r\\x94\\x85\\x94R\\x94\\x8c\\x8e/shared/ngs/illumina/bloom_lab/201013_M03100_0625_000000000-JB2KP/Data/Intensities/BaseCalls/Trial1-dblSyn-Sup-fluHA-B_S4_L001_R1_001.fastq.gz\\x94su\\x8c\\x05fluNA\\x94}\\x94(\\x8c\\x0breplicate_1\\x94}\\x94h\\xd6C\\x04\\x07\\xe4\\n\\r\\x94\\x85\\x94R\\x94\\x8c\\x8f/shared/ngs/illumina/bloom_lab/201013_M03100_0625_000000000-JB2KP/Data/Intensities/BaseCalls/Trial1-dblSyn-Sup-fluNA-A_S19_L001_R1_001.fastq.gz\\x94s\\x8c\\x0breplicate_2\\x94}\\x94h\\xd6C\\x04\\x07\\xe4\\n\\r\\x94\\x85\\x94R\\x94\\x8c\\x8f/shared/ngs/illumina/bloom_lab/201013_M03100_0625_000000000-JB2KP/Data/Intensities/BaseCalls/Trial1-dblSyn-Sup-fluNA-B_S20_L001_R1_001.fastq.gz\\x94suuu\\x8c\\x10second_infection\\x94}\\x94(\\x8c\\x02wt\\x94}\\x94(\\x8c\\x05fluHA\\x94}\\x94(\\x8c\\x0breplicate_1\\x94}\\x94h\\xd6C\\x04\\x07\\xe4\\n\\r\\x94\\x85\\x94R\\x94\\x8c\\x90/shared/ngs/illumina/bloom_lab/201013_M03100_0625_000000000-JB2KP/Data/Intensities/BaseCalls/Trial1-WT-SecondInf-fluHA-A_S5_L001_R1_001.fastq.gz\\x94s\\x8c\\x0breplicate_2\\x94}\\x94h\\xd6C\\x04\\x07\\xe4\\n\\r\\x94\\x85\\x94R\\x94\\x8c\\x90/shared/ngs/illumina/bloom_lab/201013_M03100_0625_000000000-JB2KP/Data/Intensities/BaseCalls/Trial1-WT-SecondInf-fluHA-B_S6_L001_R1_001.fastq.gz\\x94su\\x8c\\x05fluNA\\x94}\\x94(\\x8c\\x0breplicate_1\\x94}\\x94h\\xd6C\\x04\\x07\\xe4\\n\\r\\x94\\x85\\x94R\\x94\\x8c\\x91/shared/ngs/illumina/bloom_lab/201013_M03100_0625_000000000-JB2KP/Data/Intensities/BaseCalls/Trial1-WT-SecondInf-fluNA-A_S21_L001_R1_001.fastq.gz\\x94s\\x8c\\x0breplicate_2\\x94}\\x94h\\xd6C\\x04\\x07\\xe4\\n\\r\\x94\\x85\\x94R\\x94\\x8c\\x91/shared/ngs/illumina/bloom_lab/201013_M03100_0625_000000000-JB2KP/Data/Intensities/BaseCalls/Trial1-WT-SecondInf-fluNA-B_S22_L001_R1_001.fastq.gz\\x94suu\\x8c\\x03syn\\x94}\\x94(\\x8c\\x05fluHA\\x94}\\x94(\\x8c\\x0breplicate_1\\x94}\\x94h\\xd6C\\x04\\x07\\xe4\\n\\r\\x94\\x85\\x94R\\x94\\x8c\\x94/shared/ngs/illumina/bloom_lab/201013_M03100_0625_000000000-JB2KP/Data/Intensities/BaseCalls/Trial1-dblSyn-SecondInf-fluHA-A_S7_L001_R1_001.fastq.gz\\x94s\\x8c\\x0breplicate_2\\x94}\\x94h\\xd6C\\x04\\x07\\xe4\\n\\r\\x94\\x85\\x94R\\x94\\x8c\\x94/shared/ngs/illumina/bloom_lab/201013_M03100_0625_000000000-JB2KP/Data/Intensities/BaseCalls/Trial1-dblSyn-SecondInf-fluHA-B_S8_L001_R1_001.fastq.gz\\x94su\\x8c\\x05fluNA\\x94}\\x94(\\x8c\\x0breplicate_1\\x94}\\x94h\\xd6C\\x04\\x07\\xe4\\n\\r\\x94\\x85\\x94R\\x94\\x8c\\x95/shared/ngs/illumina/bloom_lab/201013_M03100_0625_000000000-JB2KP/Data/Intensities/BaseCalls/Trial1-dblSyn-SecondInf-fluNA-A_S23_L001_R1_001.fastq.gz\\x94s\\x8c\\x0breplicate_2\\x94}\\x94h\\xd6C\\x04\\x07\\xe4\\n\\r\\x94\\x85\\x94R\\x94\\x8c\\x95/shared/ngs/illumina/bloom_lab/201013_M03100_0625_000000000-JB2KP/Data/Intensities/BaseCalls/Trial1-dblSyn-SecondInf-fluNA-B_S24_L001_R1_001.fastq.gz\\x94suuuuu\\x8c\\x1ascProgenyProduction_trial2\\x94}\\x94(\\x8c\\x0bdescription\\x94\\x8c\\xe7Single-cell transcriptomics performed on low MOI-infected sample. Innoculum volumes based on `hashing_trial2` data. Loaded all collected cells from two 24-well wells, each infected with either wildtype or dblySn viral tag variants.\\x94\\x8c\\tlab_notes\\x94\\x8c0https://benchling.com/s/etr-73UD4Mx8uXn1xcxlV1ym\\x94\\x8c\\rexpect_ncells\\x94M\\x10\\'\\x8c\\x0ftranscriptomics\\x94}\\x94h\\xd6C\\x04\\x07\\xe4\\t\\x19\\x94\\x85\\x94R\\x94}\\x94(\\x8c\\x05index\\x94\\x8c\\x08SI-GA-B9\\x94\\x8c\\nbcl_folder\\x94\\x8c_/shared/ngs/illumina/bloom_lab/200925_D00300_1065_AHHL7NBCX3/raw/200925_D00300_1065_AHHL7NBCX3/\\x94\\x8c\\x04lane\\x94h\\xe0\\x8c\\x10index_sequencing\\x94\\x8c\\x06single\\x94us\\x8c\\x0eviral_barcodes\\x94}\\x94(\\x8c\\x0bsupernatant\\x94}\\x94(\\x8c\\x02wt\\x94}\\x94(\\x8c\\x05fluHA\\x94}\\x94(\\x8c\\x0breplicate_1\\x94}\\x94h\\xd6C\\x04\\x07\\xe4\\n\\r\\x94\\x85\\x94R\\x94\\x8c\\x8a/shared/ngs/illumina/bloom_lab/201013_M03100_0625_000000000-JB2KP/Data/Intensities/BaseCalls/Trial2-WT-Sup-fluHA-A_S9_L001_R1_001.fastq.gz\\x94s\\x8c\\x0breplicate_2\\x94}\\x94h\\xd6C\\x04\\x07\\xe4\\n\\r\\x94\\x85\\x94R\\x94\\x8c\\x8b/shared/ngs/illumina/bloom_lab/201013_M03100_0625_000000000-JB2KP/Data/Intensities/BaseCalls/Trial2-WT-Sup-fluHA-B_S10_L001_R1_001.fastq.gz\\x94su\\x8c\\x05fluNA\\x94}\\x94(\\x8c\\x0breplicate_1\\x94}\\x94h\\xd6C\\x04\\x07\\xe4\\n\\r\\x94\\x85\\x94R\\x94\\x8c\\x8b/shared/ngs/illumina/bloom_lab/201013_M03100_0625_000000000-JB2KP/Data/Intensities/BaseCalls/Trial2-WT-Sup-fluNA-A_S25_L001_R1_001.fastq.gz\\x94s\\x8c\\x0breplicate_2\\x94}\\x94h\\xd6C\\x04\\x07\\xe4\\n\\r\\x94\\x85\\x94R\\x94\\x8c\\x8b/shared/ngs/illumina/bloom_lab/201013_M03100_0625_000000000-JB2KP/Data/Intensities/BaseCalls/Trial2-WT-Sup-fluNA-B_S26_L001_R1_001.fastq.gz\\x94suu\\x8c\\x03syn\\x94}\\x94(\\x8c\\x05fluHA\\x94}\\x94(\\x8c\\x0breplicate_1\\x94}\\x94h\\xd6C\\x04\\x07\\xe4\\n\\r\\x94\\x85\\x94R\\x94\\x8c\\x8f/shared/ngs/illumina/bloom_lab/201013_M03100_0625_000000000-JB2KP/Data/Intensities/BaseCalls/Trial2-dblSyn-Sup-fluHA-A_S11_L001_R1_001.fastq.gz\\x94s\\x8c\\x0breplicate_2\\x94}\\x94h\\xd6C\\x04\\x07\\xe4\\n\\r\\x94\\x85\\x94R\\x94\\x8c\\x8f/shared/ngs/illumina/bloom_lab/201013_M03100_0625_000000000-JB2KP/Data/Intensities/BaseCalls/Trial2-dblSyn-Sup-fluHA-B_S12_L001_R1_001.fastq.gz\\x94su\\x8c\\x05fluNA\\x94}\\x94(\\x8c\\x0breplicate_1\\x94}\\x94h\\xd6C\\x04\\x07\\xe4\\n\\r\\x94\\x85\\x94R\\x94\\x8c\\x8f/shared/ngs/illumina/bloom_lab/201013_M03100_0625_000000000-JB2KP/Data/Intensities/BaseCalls/Trial2-dblSyn-Sup-fluNA-A_S27_L001_R1_001.fastq.gz\\x94s\\x8c\\x0breplicate_2\\x94}\\x94h\\xd6C\\x04\\x07\\xe4\\n\\r\\x94\\x85\\x94R\\x94\\x8c\\x8f/shared/ngs/illumina/bloom_lab/201013_M03100_0625_000000000-JB2KP/Data/Intensities/BaseCalls/Trial2-dblSyn-Sup-fluNA-B_S28_L001_R1_001.fastq.gz\\x94suuu\\x8c\\x10second_infection\\x94}\\x94(\\x8c\\x02wt\\x94}\\x94(\\x8c\\x05fluHA\\x94}\\x94(\\x8c\\x0breplicate_1\\x94}\\x94h\\xd6C\\x04\\x07\\xe4\\n\\r\\x94\\x85\\x94R\\x94\\x8c\\x91/shared/ngs/illumina/bloom_lab/201013_M03100_0625_000000000-JB2KP/Data/Intensities/BaseCalls/Trial2-WT-SecondInf-fluHA-A_S13_L001_R1_001.fastq.gz\\x94s\\x8c\\x0breplicate_2\\x94}\\x94h\\xd6C\\x04\\x07\\xe4\\n\\r\\x94\\x85\\x94R\\x94\\x8c\\x91/shared/ngs/illumina/bloom_lab/201013_M03100_0625_000000000-JB2KP/Data/Intensities/BaseCalls/Trial2-WT-SecondInf-fluHA-B_S14_L001_R1_001.fastq.gz\\x94su\\x8c\\x05fluNA\\x94}\\x94(\\x8c\\x0breplicate_1\\x94}\\x94h\\xd6C\\x04\\x07\\xe4\\n\\r\\x94\\x85\\x94R\\x94\\x8c\\x91/shared/ngs/illumina/bloom_lab/201013_M03100_0625_000000000-JB2KP/Data/Intensities/BaseCalls/Trial2-WT-SecondInf-fluNA-A_S29_L001_R1_001.fastq.gz\\x94s\\x8c\\x0breplicate_2\\x94}\\x94h\\xd6C\\x04\\x07\\xe4\\n\\r\\x94\\x85\\x94R\\x94\\x8c\\x91/shared/ngs/illumina/bloom_lab/201013_M03100_0625_000000000-JB2KP/Data/Intensities/BaseCalls/Trial2-WT-SecondInf-fluNA-B_S30_L001_R1_001.fastq.gz\\x94suu\\x8c\\x03syn\\x94}\\x94(\\x8c\\x05fluHA\\x94}\\x94(\\x8c\\x0breplicate_1\\x94}\\x94h\\xd6C\\x04\\x07\\xe4\\n\\r\\x94\\x85\\x94R\\x94\\x8c\\x95/shared/ngs/illumina/bloom_lab/201013_M03100_0625_000000000-JB2KP/Data/Intensities/BaseCalls/Trial2-dblSyn-SecondInf-fluHA-A_S15_L001_R1_001.fastq.gz\\x94s\\x8c\\x0breplicate_2\\x94}\\x94h\\xd6C\\x04\\x07\\xe4\\n\\r\\x94\\x85\\x94R\\x94\\x8c\\x95/shared/ngs/illumina/bloom_lab/201013_M03100_0625_000000000-JB2KP/Data/Intensities/BaseCalls/Trial2-dblSyn-SecondInf-fluHA-B_S16_L001_R1_001.fastq.gz\\x94su\\x8c\\x05fluNA\\x94}\\x94(\\x8c\\x0breplicate_1\\x94}\\x94h\\xd6C\\x04\\x07\\xe4\\n\\r\\x94\\x85\\x94R\\x94\\x8c\\x95/shared/ngs/illumina/bloom_lab/201013_M03100_0625_000000000-JB2KP/Data/Intensities/BaseCalls/Trial2-dblSyn-SecondInf-fluNA-A_S31_L001_R1_001.fastq.gz\\x94s\\x8c\\x0breplicate_2\\x94}\\x94h\\xd6C\\x04\\x07\\xe4\\n\\r\\x94\\x85\\x94R\\x94\\x8c\\x95/shared/ngs/illumina/bloom_lab/201013_M03100_0625_000000000-JB2KP/Data/Intensities/BaseCalls/Trial2-dblSyn-SecondInf-fluNA-B_S32_L001_R1_001.fastq.gz\\x94suuuuu\\x8c\\x1ascProgenyProduction_trial3\\x94}\\x94(\\x8c\\x0bdescription\\x94X\\x1b\\x01\\x00\\x00Single-cell transcriptomics performed on even lower MOI-infected sample. Innoculum volumes based on `scProgenyProduction_trial1` and `scProgenyProduction_trial2` data. Loaded all collected cells from two 24-well wells, each infected with either wildtype or dblySn viral tag variants.\\x94\\x8c\\tlab_notes\\x94\\x8c0https://benchling.com/s/etr-N4laiIAy3AUePJdig7wR\\x94\\x8c\\rexpect_ncells\\x94M\\x10\\'\\x8c\\x0ftranscriptomics\\x94}\\x94(h\\xd6C\\x04\\x07\\xe5\\x03\\x0c\\x94\\x85\\x94R\\x94}\\x94(\\x8c\\x05index\\x94\\x8c\\x08SI-TT-A3\\x94\\x8c\\nbcl_folder\\x94\\x8c_/shared/ngs/illumina/bloom_lab/210312_D00300_1192_BHKHNYBCX3/raw/210312_D00300_1192_BHKHNYBCX3/\\x94\\x8c\\x04lane\\x94K\\x01\\x8c\\x10index_sequencing\\x94\\x8c\\x06single\\x94uh\\xd6C\\x04\\x07\\xe5\\x04\\t\\x94\\x85\\x94R\\x94}\\x94(\\x8c\\x05index\\x94\\x8c\\x08SI-TT-A3\\x94\\x8c\\nbcl_folder\\x94\\x8c_/shared/ngs/illumina/bloom_lab/210409_D00300_1210_BHKC7KBCX3/raw/210409_D00300_1210_BHKC7KBCX3/\\x94\\x8c\\x04lane\\x94h\\xe0\\x8c\\x10index_sequencing\\x94\\x8c\\x06single\\x94uh\\xd6C\\x04\\x07\\xe5\\x08\\x19\\x94\\x85\\x94R\\x94}\\x94(\\x8c\\x05index\\x94\\x8c\\x08SI-TT-A3\\x94\\x8c\\nbcl_folder\\x94\\x8c_/shared/ngs/illumina/bloom_lab/210825_D00300_1310_BHMH5TBCX3/raw/210825_D00300_1310_BHMH5TBCX3/\\x94\\x8c\\x04lane\\x94h\\xe0\\x8c\\x10index_sequencing\\x94\\x8c\\x04none\\x94uh\\xd6C\\x04\\x07\\xe5\\t\\x0f\\x94\\x85\\x94R\\x94}\\x94(\\x8c\\x05index\\x94\\x8c\\x08SI-TT-A3\\x94\\x8c\\nbcl_folder\\x94\\x8cY/shared/ngs/illumina/bloom_lab/210915_VH00699_2_AAAMCL7M5/raw/210915_VH00699_2_AAAMCL7M5/\\x94\\x8c\\x04lane\\x94h\\xe0\\x8c\\x10index_sequencing\\x94\\x8c\\x04none\\x94uu\\x8c\\x17pacbio_viral_sequencing\\x94}\\x94\\x8c\\x1c2021-08-05_all_segments_run1\\x94\\x8cp/fh/fast/bloom_j/SR/ngs/pacbio/210730_SequelIIe/r64272e_20210730_182729/1_A01/m64272e_210730_193026.subreads.bam\\x94s\\x8c\\x0eviral_barcodes\\x94}\\x94(\\x8c\\x0bsupernatant\\x94}\\x94(\\x8c\\x02wt\\x94}\\x94(\\x8c\\x05fluHA\\x94}\\x94(\\x8c\\x0breplicate_1\\x94}\\x94h\\xd6C\\x04\\x07\\xe5\\x04\\x08\\x94\\x85\\x94R\\x94\\x8c\\x90/shared/ngs/illumina/bloom_lab/210408_M04866_0464_000000000-JL5M4_new-demux/Data/Intensities/BaseCalls/WT-sup-fluHA-rep1_S9_L001_R1_001.fastq.gz\\x94s\\x8c\\x0breplicate_2\\x94}\\x94h\\xd6C\\x04\\x07\\xe5\\x04\\x08\\x94\\x85\\x94R\\x94\\x8c\\x91/shared/ngs/illumina/bloom_lab/210408_M04866_0464_000000000-JL5M4_new-demux/Data/Intensities/BaseCalls/WT-sup-fluHA-rep2_S13_L001_R1_001.fastq.gz\\x94su\\x8c\\x05fluNA\\x94}\\x94(\\x8c\\x0breplicate_1\\x94}\\x94h\\xd6C\\x04\\x07\\xe5\\x04\\x08\\x94\\x85\\x94R\\x94\\x8c\\x90/shared/ngs/illumina/bloom_lab/210408_M04866_0464_000000000-JL5M4_new-demux/Data/Intensities/BaseCalls/WT-sup-fluNA-rep1_S1_L001_R1_001.fastq.gz\\x94s\\x8c\\x0breplicate_2\\x94}\\x94h\\xd6C\\x04\\x07\\xe5\\x05\\x11\\x94\\x85\\x94R\\x94\\x8c\\x86/shared/ngs/illumina/bloom_lab/210517_M03100_0681_000000000-JL4TM/Data/Intensities/BaseCalls/WT-sup-fluNA-rep2_S1_L001_R1_001.fastq.gz\\x94suu\\x8c\\x03syn\\x94}\\x94(\\x8c\\x05fluHA\\x94}\\x94(\\x8c\\x0breplicate_1\\x94}\\x94h\\xd6C\\x04\\x07\\xe5\\x04\\x08\\x94\\x85\\x94R\\x94\\x8c\\x95/shared/ngs/illumina/bloom_lab/210408_M04866_0464_000000000-JL5M4_new-demux/Data/Intensities/BaseCalls/dblSyn-sup-fluHA-rep1_S10_L001_R1_001.fastq.gz\\x94s\\x8c\\x0breplicate_2\\x94}\\x94h\\xd6C\\x04\\x07\\xe5\\x04\\x08\\x94\\x85\\x94R\\x94\\x8c\\x95/shared/ngs/illumina/bloom_lab/210408_M04866_0464_000000000-JL5M4_new-demux/Data/Intensities/BaseCalls/dblSyn-sup-fluHA-rep2_S14_L001_R1_001.fastq.gz\\x94su\\x8c\\x05fluNA\\x94}\\x94(\\x8c\\x0breplicate_1\\x94}\\x94h\\xd6C\\x04\\x07\\xe5\\x04\\x08\\x94\\x85\\x94R\\x94\\x8c\\x94/shared/ngs/illumina/bloom_lab/210408_M04866_0464_000000000-JL5M4_new-demux/Data/Intensities/BaseCalls/dblSyn-sup-fluNA-rep1_S2_L001_R1_001.fastq.gz\\x94s\\x8c\\x0breplicate_2\\x94}\\x94h\\xd6C\\x04\\x07\\xe5\\x04\\x08\\x94\\x85\\x94R\\x94\\x8c\\x94/shared/ngs/illumina/bloom_lab/210408_M04866_0464_000000000-JL5M4_new-demux/Data/Intensities/BaseCalls/dblSyn-sup-fluNA-rep2_S6_L001_R1_001.fastq.gz\\x94suuu\\x8c\\x10second_infection\\x94}\\x94(\\x8c\\x02wt\\x94}\\x94(\\x8c\\x05fluHA\\x94}\\x94(\\x8c\\x0breplicate_1\\x94}\\x94h\\xd6C\\x04\\x07\\xe5\\x05\\x11\\x94\\x85\\x94R\\x94\\x8c\\x85/shared/ngs/illumina/bloom_lab/210517_M03100_0681_000000000-JL4TM/Data/Intensities/BaseCalls/WT-SI-fluHA-rep1_S2_L001_R1_001.fastq.gz\\x94s\\x8c\\x0breplicate_2\\x94}\\x94h\\xd6C\\x04\\x07\\xe5\\x05\\x11\\x94\\x85\\x94R\\x94\\x8c\\x85/shared/ngs/illumina/bloom_lab/210517_M03100_0681_000000000-JL4TM/Data/Intensities/BaseCalls/WT-SI-fluHA-rep2_S3_L001_R1_001.fastq.gz\\x94su\\x8c\\x05fluNA\\x94}\\x94(\\x8c\\x0breplicate_1\\x94}\\x94h\\xd6C\\x04\\x07\\xe5\\x05\\x11\\x94\\x85\\x94R\\x94\\x8c\\x86/shared/ngs/illumina/bloom_lab/210517_M03100_0681_000000000-JL4TM/Data/Intensities/BaseCalls/WT-SI-fluNA-rep1_S11_L001_R1_001.fastq.gz\\x94s\\x8c\\x0breplicate_2\\x94}\\x94h\\xd6C\\x04\\x07\\xe5\\x05\\x11\\x94\\x85\\x94R\\x94\\x8c\\x86/shared/ngs/illumina/bloom_lab/210517_M03100_0681_000000000-JL4TM/Data/Intensities/BaseCalls/WT-SI-fluNA-rep2_S12_L001_R1_001.fastq.gz\\x94suu\\x8c\\x03syn\\x94}\\x94(\\x8c\\x05fluHA\\x94}\\x94(\\x8c\\x0breplicate_1\\x94}\\x94h\\xd6C\\x04\\x07\\xe5\\x05\\x11\\x94\\x85\\x94R\\x94\\x8c\\x89/shared/ngs/illumina/bloom_lab/210517_M03100_0681_000000000-JL4TM/Data/Intensities/BaseCalls/dblSyn-SI-fluHA-rep1_S4_L001_R1_001.fastq.gz\\x94s\\x8c\\x0breplicate_2\\x94}\\x94h\\xd6C\\x04\\x07\\xe5\\x05\\x11\\x94\\x85\\x94R\\x94\\x8c\\x89/shared/ngs/illumina/bloom_lab/210517_M03100_0681_000000000-JL4TM/Data/Intensities/BaseCalls/dblSyn-SI-fluHA-rep2_S5_L001_R1_001.fastq.gz\\x94su\\x8c\\x05fluNA\\x94}\\x94(\\x8c\\x0breplicate_1\\x94}\\x94h\\xd6C\\x04\\x07\\xe5\\x05\\x11\\x94\\x85\\x94R\\x94\\x8c\\x8a/shared/ngs/illumina/bloom_lab/210517_M03100_0681_000000000-JL4TM/Data/Intensities/BaseCalls/dblSyn-SI-fluNA-rep1_S13_L001_R1_001.fastq.gz\\x94s\\x8c\\x0breplicate_2\\x94}\\x94h\\xd6C\\x04\\x07\\xe5\\x05\\x11\\x94\\x85\\x94R\\x94\\x8c\\x8a/shared/ngs/illumina/bloom_lab/210517_M03100_0681_000000000-JL4TM/Data/Intensities/BaseCalls/dblSyn-SI-fluNA-rep2_S14_L001_R1_001.fastq.gz\\x94suuuuuuu\\x8c\\x04rule\\x94\\x8c\\x1cvalid_viral_barcodes_by_cell\\x94\\x8c\\x0fbench_iteration\\x94N\\x8c\\tscriptdir\\x94\\x8c[/fh/fast/bloom_j/computational_notebooks/dbacsik/2019/flu_pdmH1N1_barcode_hashing/notebooks\\x94ub.'); from snakemake.logging import logger; logger.printshellcmds = False; import os; os.chdir('/fh/fast/bloom_j/computational_notebooks/dbacsik/2019/flu_pdmH1N1_barcode_hashing');\n",
    "######## snakemake preamble end #########\n"
   ]
  },
  {
   "cell_type": "markdown",
   "metadata": {},
   "source": [
    "# Viral barcode in each cell\n",
    "This notebook filters viral barcodes in each cell in the 10X transcriptome data"
   ]
  },
  {
   "cell_type": "markdown",
   "metadata": {},
   "source": [
    "## Notebook setup\n",
    "Import python modules:"
   ]
  },
  {
   "cell_type": "code",
   "execution_count": 2,
   "metadata": {
    "execution": {
     "iopub.execute_input": "2021-12-15T00:02:59.804757Z",
     "iopub.status.busy": "2021-12-15T00:02:59.803774Z",
     "iopub.status.idle": "2021-12-15T00:03:02.313334Z",
     "shell.execute_reply": "2021-12-15T00:03:02.314212Z"
    }
   },
   "outputs": [],
   "source": [
    "from IPython.display import display\n",
    "\n",
    "from dms_variants.constants import CBPALETTE\n",
    "\n",
    "import pandas as pd\n",
    "\n",
    "import plotnine as p9\n",
    "\n",
    "import scipy\n",
    "\n",
    "import statsmodels.stats.multitest"
   ]
  },
  {
   "cell_type": "markdown",
   "metadata": {},
   "source": [
    "Get `snakemake` variables [as described here](https://snakemake.readthedocs.io/en/stable/snakefiles/rules.html#jupyter-notebook-integration):"
   ]
  },
  {
   "cell_type": "code",
   "execution_count": 3,
   "metadata": {
    "execution": {
     "iopub.execute_input": "2021-12-15T00:03:02.317795Z",
     "iopub.status.busy": "2021-12-15T00:03:02.316829Z",
     "iopub.status.idle": "2021-12-15T00:03:02.321539Z",
     "shell.execute_reply": "2021-12-15T00:03:02.322114Z"
    }
   },
   "outputs": [],
   "source": [
    "viral_tag_by_cell_csv = (snakemake\n",
    "                         .input\n",
    "                         .viral_tag_by_cell_csv)\n",
    "viral_bc_by_cell_corrected_csv = (snakemake\n",
    "                                  .input\n",
    "                                  .viral_bc_by_cell_corrected_csv)\n",
    "viral_genes_by_cell_csv = snakemake.input.viral_genes_by_cell_csv\n",
    "valid_viral_barcodes_csv = (\n",
    "    snakemake\n",
    "    .output\n",
    "    .valid_viral_barcodes_csv)\n",
    "plot = snakemake.output.plot\n",
    "expt = snakemake.wildcards.expt\n",
    "barcoded_viral_genes = snakemake.params.barcoded_viral_genes"
   ]
  },
  {
   "cell_type": "markdown",
   "metadata": {},
   "source": [
    "Set base plot style:"
   ]
  },
  {
   "cell_type": "code",
   "execution_count": 4,
   "metadata": {
    "execution": {
     "iopub.execute_input": "2021-12-15T00:03:02.325023Z",
     "iopub.status.busy": "2021-12-15T00:03:02.324109Z",
     "iopub.status.idle": "2021-12-15T00:03:02.328920Z",
     "shell.execute_reply": "2021-12-15T00:03:02.329457Z"
    }
   },
   "outputs": [],
   "source": [
    "p9.theme_set(p9.theme_classic())"
   ]
  },
  {
   "cell_type": "markdown",
   "metadata": {},
   "source": [
    "## Organize data"
   ]
  },
  {
   "cell_type": "markdown",
   "metadata": {},
   "source": [
    "Read the viral barcode UMI counts data into a pandas dataframe:"
   ]
  },
  {
   "cell_type": "code",
   "execution_count": 5,
   "metadata": {
    "execution": {
     "iopub.execute_input": "2021-12-15T00:03:02.332218Z",
     "iopub.status.busy": "2021-12-15T00:03:02.331380Z",
     "iopub.status.idle": "2021-12-15T00:03:02.360742Z",
     "shell.execute_reply": "2021-12-15T00:03:02.361295Z"
    }
   },
   "outputs": [
    {
     "data": {
      "text/html": [
       "<div>\n",
       "<style scoped>\n",
       "    .dataframe tbody tr th:only-of-type {\n",
       "        vertical-align: middle;\n",
       "    }\n",
       "\n",
       "    .dataframe tbody tr th {\n",
       "        vertical-align: top;\n",
       "    }\n",
       "\n",
       "    .dataframe thead th {\n",
       "        text-align: right;\n",
       "    }\n",
       "</style>\n",
       "<table border=\"1\" class=\"dataframe\">\n",
       "  <thead>\n",
       "    <tr style=\"text-align: right;\">\n",
       "      <th></th>\n",
       "      <th>cell_barcode</th>\n",
       "      <th>gene</th>\n",
       "      <th>viral_barcode</th>\n",
       "      <th>viral_bc_UMIs</th>\n",
       "    </tr>\n",
       "  </thead>\n",
       "  <tbody>\n",
       "    <tr>\n",
       "      <th>0</th>\n",
       "      <td>AAACCCAGTAACAAGT</td>\n",
       "      <td>fluHA</td>\n",
       "      <td>GGAGCATAGATCAGGA</td>\n",
       "      <td>1</td>\n",
       "    </tr>\n",
       "    <tr>\n",
       "      <th>1</th>\n",
       "      <td>AAACCCAGTAACAAGT</td>\n",
       "      <td>fluHA</td>\n",
       "      <td>TTTCGGTTGATTATTG</td>\n",
       "      <td>1</td>\n",
       "    </tr>\n",
       "    <tr>\n",
       "      <th>2</th>\n",
       "      <td>AAACGAAAGATGTTGA</td>\n",
       "      <td>fluHA</td>\n",
       "      <td>CACTGATCAGGAGGTG</td>\n",
       "      <td>1</td>\n",
       "    </tr>\n",
       "    <tr>\n",
       "      <th>3</th>\n",
       "      <td>AAACGAAAGATGTTGA</td>\n",
       "      <td>fluHA</td>\n",
       "      <td>TTTCGGTTGATTATTG</td>\n",
       "      <td>1</td>\n",
       "    </tr>\n",
       "    <tr>\n",
       "      <th>4</th>\n",
       "      <td>AAACGAAGTAGACGTG</td>\n",
       "      <td>fluHA</td>\n",
       "      <td>AAGTAAGCGACATGAG</td>\n",
       "      <td>251</td>\n",
       "    </tr>\n",
       "    <tr>\n",
       "      <th>...</th>\n",
       "      <td>...</td>\n",
       "      <td>...</td>\n",
       "      <td>...</td>\n",
       "      <td>...</td>\n",
       "    </tr>\n",
       "    <tr>\n",
       "      <th>6803</th>\n",
       "      <td>TTTCGATTCAATCCAG</td>\n",
       "      <td>fluNA</td>\n",
       "      <td>CGATTTCAGAACTTAA</td>\n",
       "      <td>10</td>\n",
       "    </tr>\n",
       "    <tr>\n",
       "      <th>6804</th>\n",
       "      <td>TTTGATCAGCGTCGAA</td>\n",
       "      <td>fluNA</td>\n",
       "      <td>AAAGTGTGGGCTTTTG</td>\n",
       "      <td>1</td>\n",
       "    </tr>\n",
       "    <tr>\n",
       "      <th>6805</th>\n",
       "      <td>TTTGATCGTTGTTGTG</td>\n",
       "      <td>fluNA</td>\n",
       "      <td>TTGTGAGCGAAGTGCG</td>\n",
       "      <td>1</td>\n",
       "    </tr>\n",
       "    <tr>\n",
       "      <th>6806</th>\n",
       "      <td>TTTGGAGAGTTGCCTA</td>\n",
       "      <td>fluNA</td>\n",
       "      <td>TTGTGAGCGAAGTGCG</td>\n",
       "      <td>1</td>\n",
       "    </tr>\n",
       "    <tr>\n",
       "      <th>6807</th>\n",
       "      <td>TTTGGAGGTATCGTTG</td>\n",
       "      <td>fluNA</td>\n",
       "      <td>ACATCTTATTTACACG</td>\n",
       "      <td>39</td>\n",
       "    </tr>\n",
       "  </tbody>\n",
       "</table>\n",
       "<p>6808 rows × 4 columns</p>\n",
       "</div>"
      ],
      "text/plain": [
       "          cell_barcode   gene     viral_barcode  viral_bc_UMIs\n",
       "0     AAACCCAGTAACAAGT  fluHA  GGAGCATAGATCAGGA              1\n",
       "1     AAACCCAGTAACAAGT  fluHA  TTTCGGTTGATTATTG              1\n",
       "2     AAACGAAAGATGTTGA  fluHA  CACTGATCAGGAGGTG              1\n",
       "3     AAACGAAAGATGTTGA  fluHA  TTTCGGTTGATTATTG              1\n",
       "4     AAACGAAGTAGACGTG  fluHA  AAGTAAGCGACATGAG            251\n",
       "...                ...    ...               ...            ...\n",
       "6803  TTTCGATTCAATCCAG  fluNA  CGATTTCAGAACTTAA             10\n",
       "6804  TTTGATCAGCGTCGAA  fluNA  AAAGTGTGGGCTTTTG              1\n",
       "6805  TTTGATCGTTGTTGTG  fluNA  TTGTGAGCGAAGTGCG              1\n",
       "6806  TTTGGAGAGTTGCCTA  fluNA  TTGTGAGCGAAGTGCG              1\n",
       "6807  TTTGGAGGTATCGTTG  fluNA  ACATCTTATTTACACG             39\n",
       "\n",
       "[6808 rows x 4 columns]"
      ]
     },
     "metadata": {},
     "output_type": "display_data"
    }
   ],
   "source": [
    "viral_bc_counts = pd.read_csv(viral_bc_by_cell_corrected_csv)\n",
    "viral_bc_counts = (viral_bc_counts\n",
    "                   .rename(columns={'count': 'viral_bc_UMIs'}))\n",
    "assert set(viral_bc_counts['gene']) == set(barcoded_viral_genes), \\\n",
    "       \"Barcoded genes in barcode counts do not match expectation.\"\n",
    "display(viral_bc_counts)"
   ]
  },
  {
   "cell_type": "markdown",
   "metadata": {},
   "source": [
    "Read the total number of UMIs per cell into a pandas dataframe. Only keep relevant columns."
   ]
  },
  {
   "cell_type": "code",
   "execution_count": 6,
   "metadata": {
    "execution": {
     "iopub.execute_input": "2021-12-15T00:03:02.364138Z",
     "iopub.status.busy": "2021-12-15T00:03:02.363292Z",
     "iopub.status.idle": "2021-12-15T00:03:02.535273Z",
     "shell.execute_reply": "2021-12-15T00:03:02.535826Z"
    }
   },
   "outputs": [
    {
     "data": {
      "text/html": [
       "<div>\n",
       "<style scoped>\n",
       "    .dataframe tbody tr th:only-of-type {\n",
       "        vertical-align: middle;\n",
       "    }\n",
       "\n",
       "    .dataframe tbody tr th {\n",
       "        vertical-align: top;\n",
       "    }\n",
       "\n",
       "    .dataframe thead th {\n",
       "        text-align: right;\n",
       "    }\n",
       "</style>\n",
       "<table border=\"1\" class=\"dataframe\">\n",
       "  <thead>\n",
       "    <tr style=\"text-align: right;\">\n",
       "      <th></th>\n",
       "      <th>cell_barcode</th>\n",
       "      <th>infected</th>\n",
       "      <th>infecting_viral_tag</th>\n",
       "      <th>total_UMIs</th>\n",
       "      <th>viral_UMIs</th>\n",
       "      <th>cellular_UMIs</th>\n",
       "      <th>frac_viral_UMIs</th>\n",
       "    </tr>\n",
       "  </thead>\n",
       "  <tbody>\n",
       "    <tr>\n",
       "      <th>0</th>\n",
       "      <td>AAACCCAGTAACAAGT</td>\n",
       "      <td>uninfected</td>\n",
       "      <td>none</td>\n",
       "      <td>47873</td>\n",
       "      <td>6</td>\n",
       "      <td>47867</td>\n",
       "      <td>0.000125</td>\n",
       "    </tr>\n",
       "    <tr>\n",
       "      <th>1</th>\n",
       "      <td>AAACCCATCATTGCTT</td>\n",
       "      <td>uninfected</td>\n",
       "      <td>none</td>\n",
       "      <td>90114</td>\n",
       "      <td>10</td>\n",
       "      <td>90104</td>\n",
       "      <td>0.000111</td>\n",
       "    </tr>\n",
       "    <tr>\n",
       "      <th>2</th>\n",
       "      <td>AAACGAAAGATGTTGA</td>\n",
       "      <td>uninfected</td>\n",
       "      <td>none</td>\n",
       "      <td>111630</td>\n",
       "      <td>18</td>\n",
       "      <td>111612</td>\n",
       "      <td>0.000161</td>\n",
       "    </tr>\n",
       "    <tr>\n",
       "      <th>3</th>\n",
       "      <td>AAACGAAGTACTTCCC</td>\n",
       "      <td>infected</td>\n",
       "      <td>both</td>\n",
       "      <td>56828</td>\n",
       "      <td>24082</td>\n",
       "      <td>32746</td>\n",
       "      <td>0.423770</td>\n",
       "    </tr>\n",
       "    <tr>\n",
       "      <th>4</th>\n",
       "      <td>AAACGAAGTAGACGTG</td>\n",
       "      <td>infected</td>\n",
       "      <td>wt</td>\n",
       "      <td>124341</td>\n",
       "      <td>4654</td>\n",
       "      <td>119687</td>\n",
       "      <td>0.037429</td>\n",
       "    </tr>\n",
       "    <tr>\n",
       "      <th>...</th>\n",
       "      <td>...</td>\n",
       "      <td>...</td>\n",
       "      <td>...</td>\n",
       "      <td>...</td>\n",
       "      <td>...</td>\n",
       "      <td>...</td>\n",
       "      <td>...</td>\n",
       "    </tr>\n",
       "    <tr>\n",
       "      <th>3367</th>\n",
       "      <td>TTTGATCTCCCGTTCA</td>\n",
       "      <td>uninfected</td>\n",
       "      <td>none</td>\n",
       "      <td>63150</td>\n",
       "      <td>3</td>\n",
       "      <td>63147</td>\n",
       "      <td>0.000048</td>\n",
       "    </tr>\n",
       "    <tr>\n",
       "      <th>3368</th>\n",
       "      <td>TTTGATCTCGCATTGA</td>\n",
       "      <td>infected</td>\n",
       "      <td>wt</td>\n",
       "      <td>170914</td>\n",
       "      <td>10415</td>\n",
       "      <td>160499</td>\n",
       "      <td>0.060937</td>\n",
       "    </tr>\n",
       "    <tr>\n",
       "      <th>3369</th>\n",
       "      <td>TTTGGAGAGTTGCCTA</td>\n",
       "      <td>uninfected</td>\n",
       "      <td>none</td>\n",
       "      <td>65941</td>\n",
       "      <td>12</td>\n",
       "      <td>65929</td>\n",
       "      <td>0.000182</td>\n",
       "    </tr>\n",
       "    <tr>\n",
       "      <th>3370</th>\n",
       "      <td>TTTGGAGGTATCGTTG</td>\n",
       "      <td>infected</td>\n",
       "      <td>wt</td>\n",
       "      <td>150130</td>\n",
       "      <td>3526</td>\n",
       "      <td>146604</td>\n",
       "      <td>0.023486</td>\n",
       "    </tr>\n",
       "    <tr>\n",
       "      <th>3371</th>\n",
       "      <td>TTTGTTGAGTGCAGCA</td>\n",
       "      <td>uninfected</td>\n",
       "      <td>none</td>\n",
       "      <td>135009</td>\n",
       "      <td>8</td>\n",
       "      <td>135001</td>\n",
       "      <td>0.000059</td>\n",
       "    </tr>\n",
       "  </tbody>\n",
       "</table>\n",
       "<p>3372 rows × 7 columns</p>\n",
       "</div>"
      ],
      "text/plain": [
       "          cell_barcode    infected infecting_viral_tag  total_UMIs  \\\n",
       "0     AAACCCAGTAACAAGT  uninfected                none       47873   \n",
       "1     AAACCCATCATTGCTT  uninfected                none       90114   \n",
       "2     AAACGAAAGATGTTGA  uninfected                none      111630   \n",
       "3     AAACGAAGTACTTCCC    infected                both       56828   \n",
       "4     AAACGAAGTAGACGTG    infected                  wt      124341   \n",
       "...                ...         ...                 ...         ...   \n",
       "3367  TTTGATCTCCCGTTCA  uninfected                none       63150   \n",
       "3368  TTTGATCTCGCATTGA    infected                  wt      170914   \n",
       "3369  TTTGGAGAGTTGCCTA  uninfected                none       65941   \n",
       "3370  TTTGGAGGTATCGTTG    infected                  wt      150130   \n",
       "3371  TTTGTTGAGTGCAGCA  uninfected                none      135009   \n",
       "\n",
       "      viral_UMIs  cellular_UMIs  frac_viral_UMIs  \n",
       "0              6          47867         0.000125  \n",
       "1             10          90104         0.000111  \n",
       "2             18         111612         0.000161  \n",
       "3          24082          32746         0.423770  \n",
       "4           4654         119687         0.037429  \n",
       "...          ...            ...              ...  \n",
       "3367           3          63147         0.000048  \n",
       "3368       10415         160499         0.060937  \n",
       "3369          12          65929         0.000182  \n",
       "3370        3526         146604         0.023486  \n",
       "3371           8         135001         0.000059  \n",
       "\n",
       "[3372 rows x 7 columns]"
      ]
     },
     "metadata": {},
     "output_type": "display_data"
    }
   ],
   "source": [
    "all_cells = pd.read_csv(viral_tag_by_cell_csv)\n",
    "all_cells = all_cells[['cell_barcode',\n",
    "                       'infected',\n",
    "                       'infecting_viral_tag',\n",
    "                       'total_UMIs',\n",
    "                       'viral_UMIs',\n",
    "                       'cellular_UMIs',\n",
    "                       'frac_viral_UMIs']]\n",
    "display(all_cells)"
   ]
  },
  {
   "cell_type": "markdown",
   "metadata": {},
   "source": [
    "Sanity check that `total_UMIs` is equal to `viral_UMIs + cellular_UMIs`:"
   ]
  },
  {
   "cell_type": "code",
   "execution_count": 7,
   "metadata": {
    "execution": {
     "iopub.execute_input": "2021-12-15T00:03:02.538683Z",
     "iopub.status.busy": "2021-12-15T00:03:02.537830Z",
     "iopub.status.idle": "2021-12-15T00:03:02.549877Z",
     "shell.execute_reply": "2021-12-15T00:03:02.550533Z"
    }
   },
   "outputs": [],
   "source": [
    "assert bool((all_cells['total_UMIs'] ==\n",
    "             all_cells['viral_UMIs'] +\n",
    "             all_cells['cellular_UMIs'])\n",
    "            .all()), \"UMI counts do not add up\""
   ]
  },
  {
   "cell_type": "markdown",
   "metadata": {},
   "source": [
    "Read the gene presence/absence data"
   ]
  },
  {
   "cell_type": "code",
   "execution_count": 8,
   "metadata": {
    "execution": {
     "iopub.execute_input": "2021-12-15T00:03:02.553805Z",
     "iopub.status.busy": "2021-12-15T00:03:02.552799Z",
     "iopub.status.idle": "2021-12-15T00:03:02.675902Z",
     "shell.execute_reply": "2021-12-15T00:03:02.676459Z"
    }
   },
   "outputs": [
    {
     "data": {
      "text/html": [
       "<div>\n",
       "<style scoped>\n",
       "    .dataframe tbody tr th:only-of-type {\n",
       "        vertical-align: middle;\n",
       "    }\n",
       "\n",
       "    .dataframe tbody tr th {\n",
       "        vertical-align: top;\n",
       "    }\n",
       "\n",
       "    .dataframe thead th {\n",
       "        text-align: right;\n",
       "    }\n",
       "</style>\n",
       "<table border=\"1\" class=\"dataframe\">\n",
       "  <thead>\n",
       "    <tr style=\"text-align: right;\">\n",
       "      <th></th>\n",
       "      <th>cell_barcode</th>\n",
       "      <th>gene</th>\n",
       "      <th>frac_gene_UMIs</th>\n",
       "      <th>gene_present</th>\n",
       "    </tr>\n",
       "  </thead>\n",
       "  <tbody>\n",
       "    <tr>\n",
       "      <th>0</th>\n",
       "      <td>AAACCCAGTAACAAGT</td>\n",
       "      <td>fluPB2</td>\n",
       "      <td>0.000000</td>\n",
       "      <td>False</td>\n",
       "    </tr>\n",
       "    <tr>\n",
       "      <th>1</th>\n",
       "      <td>AAACCCATCATTGCTT</td>\n",
       "      <td>fluPB2</td>\n",
       "      <td>0.000011</td>\n",
       "      <td>True</td>\n",
       "    </tr>\n",
       "    <tr>\n",
       "      <th>2</th>\n",
       "      <td>AAACGAAAGATGTTGA</td>\n",
       "      <td>fluPB2</td>\n",
       "      <td>0.000000</td>\n",
       "      <td>False</td>\n",
       "    </tr>\n",
       "    <tr>\n",
       "      <th>3</th>\n",
       "      <td>AAACGAAGTACTTCCC</td>\n",
       "      <td>fluPB2</td>\n",
       "      <td>0.002816</td>\n",
       "      <td>True</td>\n",
       "    </tr>\n",
       "    <tr>\n",
       "      <th>4</th>\n",
       "      <td>AAACGAAGTAGACGTG</td>\n",
       "      <td>fluPB2</td>\n",
       "      <td>0.000024</td>\n",
       "      <td>True</td>\n",
       "    </tr>\n",
       "    <tr>\n",
       "      <th>...</th>\n",
       "      <td>...</td>\n",
       "      <td>...</td>\n",
       "      <td>...</td>\n",
       "      <td>...</td>\n",
       "    </tr>\n",
       "    <tr>\n",
       "      <th>26971</th>\n",
       "      <td>TTTGATCTCCCGTTCA</td>\n",
       "      <td>fluNS</td>\n",
       "      <td>0.000016</td>\n",
       "      <td>False</td>\n",
       "    </tr>\n",
       "    <tr>\n",
       "      <th>26972</th>\n",
       "      <td>TTTGATCTCGCATTGA</td>\n",
       "      <td>fluNS</td>\n",
       "      <td>0.013147</td>\n",
       "      <td>True</td>\n",
       "    </tr>\n",
       "    <tr>\n",
       "      <th>26973</th>\n",
       "      <td>TTTGGAGAGTTGCCTA</td>\n",
       "      <td>fluNS</td>\n",
       "      <td>0.000061</td>\n",
       "      <td>False</td>\n",
       "    </tr>\n",
       "    <tr>\n",
       "      <th>26974</th>\n",
       "      <td>TTTGGAGGTATCGTTG</td>\n",
       "      <td>fluNS</td>\n",
       "      <td>0.008193</td>\n",
       "      <td>True</td>\n",
       "    </tr>\n",
       "    <tr>\n",
       "      <th>26975</th>\n",
       "      <td>TTTGTTGAGTGCAGCA</td>\n",
       "      <td>fluNS</td>\n",
       "      <td>0.000022</td>\n",
       "      <td>False</td>\n",
       "    </tr>\n",
       "  </tbody>\n",
       "</table>\n",
       "<p>26976 rows × 4 columns</p>\n",
       "</div>"
      ],
      "text/plain": [
       "           cell_barcode    gene  frac_gene_UMIs  gene_present\n",
       "0      AAACCCAGTAACAAGT  fluPB2        0.000000         False\n",
       "1      AAACCCATCATTGCTT  fluPB2        0.000011          True\n",
       "2      AAACGAAAGATGTTGA  fluPB2        0.000000         False\n",
       "3      AAACGAAGTACTTCCC  fluPB2        0.002816          True\n",
       "4      AAACGAAGTAGACGTG  fluPB2        0.000024          True\n",
       "...                 ...     ...             ...           ...\n",
       "26971  TTTGATCTCCCGTTCA   fluNS        0.000016         False\n",
       "26972  TTTGATCTCGCATTGA   fluNS        0.013147          True\n",
       "26973  TTTGGAGAGTTGCCTA   fluNS        0.000061         False\n",
       "26974  TTTGGAGGTATCGTTG   fluNS        0.008193          True\n",
       "26975  TTTGTTGAGTGCAGCA   fluNS        0.000022         False\n",
       "\n",
       "[26976 rows x 4 columns]"
      ]
     },
     "metadata": {},
     "output_type": "display_data"
    }
   ],
   "source": [
    "viral_genes_by_cell = pd.read_csv(viral_genes_by_cell_csv)\n",
    "display(viral_genes_by_cell)"
   ]
  },
  {
   "cell_type": "markdown",
   "metadata": {},
   "source": [
    "Merge dataframes:"
   ]
  },
  {
   "cell_type": "code",
   "execution_count": 9,
   "metadata": {
    "execution": {
     "iopub.execute_input": "2021-12-15T00:03:02.679372Z",
     "iopub.status.busy": "2021-12-15T00:03:02.678508Z",
     "iopub.status.idle": "2021-12-15T00:03:02.741482Z",
     "shell.execute_reply": "2021-12-15T00:03:02.742044Z"
    }
   },
   "outputs": [
    {
     "data": {
      "text/html": [
       "<div>\n",
       "<style scoped>\n",
       "    .dataframe tbody tr th:only-of-type {\n",
       "        vertical-align: middle;\n",
       "    }\n",
       "\n",
       "    .dataframe tbody tr th {\n",
       "        vertical-align: top;\n",
       "    }\n",
       "\n",
       "    .dataframe thead th {\n",
       "        text-align: right;\n",
       "    }\n",
       "</style>\n",
       "<table border=\"1\" class=\"dataframe\">\n",
       "  <thead>\n",
       "    <tr style=\"text-align: right;\">\n",
       "      <th></th>\n",
       "      <th>cell_barcode</th>\n",
       "      <th>infected</th>\n",
       "      <th>infecting_viral_tag</th>\n",
       "      <th>total_UMIs</th>\n",
       "      <th>viral_UMIs</th>\n",
       "      <th>cellular_UMIs</th>\n",
       "      <th>frac_viral_UMIs</th>\n",
       "      <th>gene</th>\n",
       "      <th>viral_barcode</th>\n",
       "      <th>viral_bc_UMIs</th>\n",
       "      <th>frac_gene_UMIs</th>\n",
       "      <th>gene_present</th>\n",
       "    </tr>\n",
       "  </thead>\n",
       "  <tbody>\n",
       "    <tr>\n",
       "      <th>0</th>\n",
       "      <td>AAACCCAGTAACAAGT</td>\n",
       "      <td>uninfected</td>\n",
       "      <td>none</td>\n",
       "      <td>47873</td>\n",
       "      <td>6</td>\n",
       "      <td>47867</td>\n",
       "      <td>0.000125</td>\n",
       "      <td>fluHA</td>\n",
       "      <td>GGAGCATAGATCAGGA</td>\n",
       "      <td>1.0</td>\n",
       "      <td>0.000042</td>\n",
       "      <td>False</td>\n",
       "    </tr>\n",
       "    <tr>\n",
       "      <th>1</th>\n",
       "      <td>AAACCCAGTAACAAGT</td>\n",
       "      <td>uninfected</td>\n",
       "      <td>none</td>\n",
       "      <td>47873</td>\n",
       "      <td>6</td>\n",
       "      <td>47867</td>\n",
       "      <td>0.000125</td>\n",
       "      <td>fluHA</td>\n",
       "      <td>TTTCGGTTGATTATTG</td>\n",
       "      <td>1.0</td>\n",
       "      <td>0.000042</td>\n",
       "      <td>False</td>\n",
       "    </tr>\n",
       "    <tr>\n",
       "      <th>2</th>\n",
       "      <td>AAACCCATCATTGCTT</td>\n",
       "      <td>uninfected</td>\n",
       "      <td>none</td>\n",
       "      <td>90114</td>\n",
       "      <td>10</td>\n",
       "      <td>90104</td>\n",
       "      <td>0.000111</td>\n",
       "      <td>fluHA</td>\n",
       "      <td>NaN</td>\n",
       "      <td>NaN</td>\n",
       "      <td>0.000000</td>\n",
       "      <td>False</td>\n",
       "    </tr>\n",
       "    <tr>\n",
       "      <th>3</th>\n",
       "      <td>AAACGAAAGATGTTGA</td>\n",
       "      <td>uninfected</td>\n",
       "      <td>none</td>\n",
       "      <td>111630</td>\n",
       "      <td>18</td>\n",
       "      <td>111612</td>\n",
       "      <td>0.000161</td>\n",
       "      <td>fluHA</td>\n",
       "      <td>CACTGATCAGGAGGTG</td>\n",
       "      <td>1.0</td>\n",
       "      <td>0.000027</td>\n",
       "      <td>False</td>\n",
       "    </tr>\n",
       "    <tr>\n",
       "      <th>4</th>\n",
       "      <td>AAACGAAAGATGTTGA</td>\n",
       "      <td>uninfected</td>\n",
       "      <td>none</td>\n",
       "      <td>111630</td>\n",
       "      <td>18</td>\n",
       "      <td>111612</td>\n",
       "      <td>0.000161</td>\n",
       "      <td>fluHA</td>\n",
       "      <td>TTTCGGTTGATTATTG</td>\n",
       "      <td>1.0</td>\n",
       "      <td>0.000027</td>\n",
       "      <td>False</td>\n",
       "    </tr>\n",
       "    <tr>\n",
       "      <th>...</th>\n",
       "      <td>...</td>\n",
       "      <td>...</td>\n",
       "      <td>...</td>\n",
       "      <td>...</td>\n",
       "      <td>...</td>\n",
       "      <td>...</td>\n",
       "      <td>...</td>\n",
       "      <td>...</td>\n",
       "      <td>...</td>\n",
       "      <td>...</td>\n",
       "      <td>...</td>\n",
       "      <td>...</td>\n",
       "    </tr>\n",
       "    <tr>\n",
       "      <th>10524</th>\n",
       "      <td>TTTGATCTCCCGTTCA</td>\n",
       "      <td>uninfected</td>\n",
       "      <td>none</td>\n",
       "      <td>63150</td>\n",
       "      <td>3</td>\n",
       "      <td>63147</td>\n",
       "      <td>0.000048</td>\n",
       "      <td>fluNA</td>\n",
       "      <td>NaN</td>\n",
       "      <td>NaN</td>\n",
       "      <td>0.000000</td>\n",
       "      <td>False</td>\n",
       "    </tr>\n",
       "    <tr>\n",
       "      <th>10525</th>\n",
       "      <td>TTTGATCTCGCATTGA</td>\n",
       "      <td>infected</td>\n",
       "      <td>wt</td>\n",
       "      <td>170914</td>\n",
       "      <td>10415</td>\n",
       "      <td>160499</td>\n",
       "      <td>0.060937</td>\n",
       "      <td>fluNA</td>\n",
       "      <td>NaN</td>\n",
       "      <td>NaN</td>\n",
       "      <td>0.007864</td>\n",
       "      <td>True</td>\n",
       "    </tr>\n",
       "    <tr>\n",
       "      <th>10526</th>\n",
       "      <td>TTTGGAGAGTTGCCTA</td>\n",
       "      <td>uninfected</td>\n",
       "      <td>none</td>\n",
       "      <td>65941</td>\n",
       "      <td>12</td>\n",
       "      <td>65929</td>\n",
       "      <td>0.000182</td>\n",
       "      <td>fluNA</td>\n",
       "      <td>TTGTGAGCGAAGTGCG</td>\n",
       "      <td>1.0</td>\n",
       "      <td>0.000015</td>\n",
       "      <td>True</td>\n",
       "    </tr>\n",
       "    <tr>\n",
       "      <th>10527</th>\n",
       "      <td>TTTGGAGGTATCGTTG</td>\n",
       "      <td>infected</td>\n",
       "      <td>wt</td>\n",
       "      <td>150130</td>\n",
       "      <td>3526</td>\n",
       "      <td>146604</td>\n",
       "      <td>0.023486</td>\n",
       "      <td>fluNA</td>\n",
       "      <td>ACATCTTATTTACACG</td>\n",
       "      <td>39.0</td>\n",
       "      <td>0.000300</td>\n",
       "      <td>True</td>\n",
       "    </tr>\n",
       "    <tr>\n",
       "      <th>10528</th>\n",
       "      <td>TTTGTTGAGTGCAGCA</td>\n",
       "      <td>uninfected</td>\n",
       "      <td>none</td>\n",
       "      <td>135009</td>\n",
       "      <td>8</td>\n",
       "      <td>135001</td>\n",
       "      <td>0.000059</td>\n",
       "      <td>fluNA</td>\n",
       "      <td>NaN</td>\n",
       "      <td>NaN</td>\n",
       "      <td>0.000007</td>\n",
       "      <td>True</td>\n",
       "    </tr>\n",
       "  </tbody>\n",
       "</table>\n",
       "<p>10529 rows × 12 columns</p>\n",
       "</div>"
      ],
      "text/plain": [
       "           cell_barcode    infected infecting_viral_tag  total_UMIs  \\\n",
       "0      AAACCCAGTAACAAGT  uninfected                none       47873   \n",
       "1      AAACCCAGTAACAAGT  uninfected                none       47873   \n",
       "2      AAACCCATCATTGCTT  uninfected                none       90114   \n",
       "3      AAACGAAAGATGTTGA  uninfected                none      111630   \n",
       "4      AAACGAAAGATGTTGA  uninfected                none      111630   \n",
       "...                 ...         ...                 ...         ...   \n",
       "10524  TTTGATCTCCCGTTCA  uninfected                none       63150   \n",
       "10525  TTTGATCTCGCATTGA    infected                  wt      170914   \n",
       "10526  TTTGGAGAGTTGCCTA  uninfected                none       65941   \n",
       "10527  TTTGGAGGTATCGTTG    infected                  wt      150130   \n",
       "10528  TTTGTTGAGTGCAGCA  uninfected                none      135009   \n",
       "\n",
       "       viral_UMIs  cellular_UMIs  frac_viral_UMIs   gene     viral_barcode  \\\n",
       "0               6          47867         0.000125  fluHA  GGAGCATAGATCAGGA   \n",
       "1               6          47867         0.000125  fluHA  TTTCGGTTGATTATTG   \n",
       "2              10          90104         0.000111  fluHA               NaN   \n",
       "3              18         111612         0.000161  fluHA  CACTGATCAGGAGGTG   \n",
       "4              18         111612         0.000161  fluHA  TTTCGGTTGATTATTG   \n",
       "...           ...            ...              ...    ...               ...   \n",
       "10524           3          63147         0.000048  fluNA               NaN   \n",
       "10525       10415         160499         0.060937  fluNA               NaN   \n",
       "10526          12          65929         0.000182  fluNA  TTGTGAGCGAAGTGCG   \n",
       "10527        3526         146604         0.023486  fluNA  ACATCTTATTTACACG   \n",
       "10528           8         135001         0.000059  fluNA               NaN   \n",
       "\n",
       "       viral_bc_UMIs  frac_gene_UMIs  gene_present  \n",
       "0                1.0        0.000042         False  \n",
       "1                1.0        0.000042         False  \n",
       "2                NaN        0.000000         False  \n",
       "3                1.0        0.000027         False  \n",
       "4                1.0        0.000027         False  \n",
       "...              ...             ...           ...  \n",
       "10524            NaN        0.000000         False  \n",
       "10525            NaN        0.007864          True  \n",
       "10526            1.0        0.000015          True  \n",
       "10527           39.0        0.000300          True  \n",
       "10528            NaN        0.000007          True  \n",
       "\n",
       "[10529 rows x 12 columns]"
      ]
     },
     "metadata": {},
     "output_type": "display_data"
    }
   ],
   "source": [
    "viral_bc_frac = pd.merge(\n",
    "    left=pd.concat([all_cells.assign(gene=gene)\n",
    "                    for gene in barcoded_viral_genes]),\n",
    "    right=viral_bc_counts,\n",
    "    how='outer',\n",
    "    on=['cell_barcode', 'gene'],\n",
    "    validate='one_to_many')\n",
    "assert (viral_bc_frac['cell_barcode'].unique() ==\n",
    "        all_cells['cell_barcode'].unique()).all(), \\\n",
    "       \"Cell barcodes in merged dataframe don't \" \\\n",
    "       \"match barcodes in source data.\"\n",
    "assert (viral_bc_frac['viral_barcode'].nunique() ==\n",
    "        viral_bc_counts['viral_barcode'].nunique()), \\\n",
    "       \"Number of viral barcodes in merged dataframe don't \" \\\n",
    "       \"match number of barcodes in source data.\"\n",
    "\n",
    "# Make `infecting_viral_tag` column ordered category\n",
    "viral_bc_frac['infecting_viral_tag'] = (viral_bc_frac['infecting_viral_tag']\n",
    "                                        .astype('category')\n",
    "                                        .cat\n",
    "                                        .reorder_categories(['none',\n",
    "                                                             'wt',\n",
    "                                                             'syn',\n",
    "                                                             'both']))\n",
    "\n",
    "viral_bc_frac = pd.merge(\n",
    "    left=viral_bc_frac,\n",
    "    right=viral_genes_by_cell,\n",
    "    on=['cell_barcode', 'gene'],\n",
    "    how='left',\n",
    "    validate='many_to_one'\n",
    ")\n",
    "\n",
    "display(viral_bc_frac)"
   ]
  },
  {
   "cell_type": "markdown",
   "metadata": {},
   "source": [
    "Calculate **each barcode's** fraction of all UMIs per cell:"
   ]
  },
  {
   "cell_type": "code",
   "execution_count": 10,
   "metadata": {
    "execution": {
     "iopub.execute_input": "2021-12-15T00:03:02.744886Z",
     "iopub.status.busy": "2021-12-15T00:03:02.744037Z",
     "iopub.status.idle": "2021-12-15T00:03:02.768797Z",
     "shell.execute_reply": "2021-12-15T00:03:02.769339Z"
    }
   },
   "outputs": [
    {
     "data": {
      "text/html": [
       "<div>\n",
       "<style scoped>\n",
       "    .dataframe tbody tr th:only-of-type {\n",
       "        vertical-align: middle;\n",
       "    }\n",
       "\n",
       "    .dataframe tbody tr th {\n",
       "        vertical-align: top;\n",
       "    }\n",
       "\n",
       "    .dataframe thead th {\n",
       "        text-align: right;\n",
       "    }\n",
       "</style>\n",
       "<table border=\"1\" class=\"dataframe\">\n",
       "  <thead>\n",
       "    <tr style=\"text-align: right;\">\n",
       "      <th></th>\n",
       "      <th>cell_barcode</th>\n",
       "      <th>infected</th>\n",
       "      <th>infecting_viral_tag</th>\n",
       "      <th>total_UMIs</th>\n",
       "      <th>viral_UMIs</th>\n",
       "      <th>cellular_UMIs</th>\n",
       "      <th>frac_viral_UMIs</th>\n",
       "      <th>gene</th>\n",
       "      <th>viral_barcode</th>\n",
       "      <th>viral_bc_UMIs</th>\n",
       "      <th>frac_gene_UMIs</th>\n",
       "      <th>gene_present</th>\n",
       "      <th>frac_viral_bc_UMIs</th>\n",
       "    </tr>\n",
       "  </thead>\n",
       "  <tbody>\n",
       "    <tr>\n",
       "      <th>0</th>\n",
       "      <td>AAACCCAGTAACAAGT</td>\n",
       "      <td>uninfected</td>\n",
       "      <td>none</td>\n",
       "      <td>47873</td>\n",
       "      <td>6</td>\n",
       "      <td>47867</td>\n",
       "      <td>0.000125</td>\n",
       "      <td>fluHA</td>\n",
       "      <td>GGAGCATAGATCAGGA</td>\n",
       "      <td>1</td>\n",
       "      <td>0.000042</td>\n",
       "      <td>False</td>\n",
       "      <td>0.000021</td>\n",
       "    </tr>\n",
       "    <tr>\n",
       "      <th>1</th>\n",
       "      <td>AAACCCAGTAACAAGT</td>\n",
       "      <td>uninfected</td>\n",
       "      <td>none</td>\n",
       "      <td>47873</td>\n",
       "      <td>6</td>\n",
       "      <td>47867</td>\n",
       "      <td>0.000125</td>\n",
       "      <td>fluHA</td>\n",
       "      <td>TTTCGGTTGATTATTG</td>\n",
       "      <td>1</td>\n",
       "      <td>0.000042</td>\n",
       "      <td>False</td>\n",
       "      <td>0.000021</td>\n",
       "    </tr>\n",
       "    <tr>\n",
       "      <th>2</th>\n",
       "      <td>AAACCCATCATTGCTT</td>\n",
       "      <td>uninfected</td>\n",
       "      <td>none</td>\n",
       "      <td>90114</td>\n",
       "      <td>10</td>\n",
       "      <td>90104</td>\n",
       "      <td>0.000111</td>\n",
       "      <td>fluHA</td>\n",
       "      <td>NaN</td>\n",
       "      <td>0</td>\n",
       "      <td>0.000000</td>\n",
       "      <td>False</td>\n",
       "      <td>0.000000</td>\n",
       "    </tr>\n",
       "    <tr>\n",
       "      <th>3</th>\n",
       "      <td>AAACGAAAGATGTTGA</td>\n",
       "      <td>uninfected</td>\n",
       "      <td>none</td>\n",
       "      <td>111630</td>\n",
       "      <td>18</td>\n",
       "      <td>111612</td>\n",
       "      <td>0.000161</td>\n",
       "      <td>fluHA</td>\n",
       "      <td>CACTGATCAGGAGGTG</td>\n",
       "      <td>1</td>\n",
       "      <td>0.000027</td>\n",
       "      <td>False</td>\n",
       "      <td>0.000009</td>\n",
       "    </tr>\n",
       "    <tr>\n",
       "      <th>4</th>\n",
       "      <td>AAACGAAAGATGTTGA</td>\n",
       "      <td>uninfected</td>\n",
       "      <td>none</td>\n",
       "      <td>111630</td>\n",
       "      <td>18</td>\n",
       "      <td>111612</td>\n",
       "      <td>0.000161</td>\n",
       "      <td>fluHA</td>\n",
       "      <td>TTTCGGTTGATTATTG</td>\n",
       "      <td>1</td>\n",
       "      <td>0.000027</td>\n",
       "      <td>False</td>\n",
       "      <td>0.000009</td>\n",
       "    </tr>\n",
       "    <tr>\n",
       "      <th>...</th>\n",
       "      <td>...</td>\n",
       "      <td>...</td>\n",
       "      <td>...</td>\n",
       "      <td>...</td>\n",
       "      <td>...</td>\n",
       "      <td>...</td>\n",
       "      <td>...</td>\n",
       "      <td>...</td>\n",
       "      <td>...</td>\n",
       "      <td>...</td>\n",
       "      <td>...</td>\n",
       "      <td>...</td>\n",
       "      <td>...</td>\n",
       "    </tr>\n",
       "    <tr>\n",
       "      <th>10524</th>\n",
       "      <td>TTTGATCTCCCGTTCA</td>\n",
       "      <td>uninfected</td>\n",
       "      <td>none</td>\n",
       "      <td>63150</td>\n",
       "      <td>3</td>\n",
       "      <td>63147</td>\n",
       "      <td>0.000048</td>\n",
       "      <td>fluNA</td>\n",
       "      <td>NaN</td>\n",
       "      <td>0</td>\n",
       "      <td>0.000000</td>\n",
       "      <td>False</td>\n",
       "      <td>0.000000</td>\n",
       "    </tr>\n",
       "    <tr>\n",
       "      <th>10525</th>\n",
       "      <td>TTTGATCTCGCATTGA</td>\n",
       "      <td>infected</td>\n",
       "      <td>wt</td>\n",
       "      <td>170914</td>\n",
       "      <td>10415</td>\n",
       "      <td>160499</td>\n",
       "      <td>0.060937</td>\n",
       "      <td>fluNA</td>\n",
       "      <td>NaN</td>\n",
       "      <td>0</td>\n",
       "      <td>0.007864</td>\n",
       "      <td>True</td>\n",
       "      <td>0.000000</td>\n",
       "    </tr>\n",
       "    <tr>\n",
       "      <th>10526</th>\n",
       "      <td>TTTGGAGAGTTGCCTA</td>\n",
       "      <td>uninfected</td>\n",
       "      <td>none</td>\n",
       "      <td>65941</td>\n",
       "      <td>12</td>\n",
       "      <td>65929</td>\n",
       "      <td>0.000182</td>\n",
       "      <td>fluNA</td>\n",
       "      <td>TTGTGAGCGAAGTGCG</td>\n",
       "      <td>1</td>\n",
       "      <td>0.000015</td>\n",
       "      <td>True</td>\n",
       "      <td>0.000015</td>\n",
       "    </tr>\n",
       "    <tr>\n",
       "      <th>10527</th>\n",
       "      <td>TTTGGAGGTATCGTTG</td>\n",
       "      <td>infected</td>\n",
       "      <td>wt</td>\n",
       "      <td>150130</td>\n",
       "      <td>3526</td>\n",
       "      <td>146604</td>\n",
       "      <td>0.023486</td>\n",
       "      <td>fluNA</td>\n",
       "      <td>ACATCTTATTTACACG</td>\n",
       "      <td>39</td>\n",
       "      <td>0.000300</td>\n",
       "      <td>True</td>\n",
       "      <td>0.000260</td>\n",
       "    </tr>\n",
       "    <tr>\n",
       "      <th>10528</th>\n",
       "      <td>TTTGTTGAGTGCAGCA</td>\n",
       "      <td>uninfected</td>\n",
       "      <td>none</td>\n",
       "      <td>135009</td>\n",
       "      <td>8</td>\n",
       "      <td>135001</td>\n",
       "      <td>0.000059</td>\n",
       "      <td>fluNA</td>\n",
       "      <td>NaN</td>\n",
       "      <td>0</td>\n",
       "      <td>0.000007</td>\n",
       "      <td>True</td>\n",
       "      <td>0.000000</td>\n",
       "    </tr>\n",
       "  </tbody>\n",
       "</table>\n",
       "<p>10529 rows × 13 columns</p>\n",
       "</div>"
      ],
      "text/plain": [
       "           cell_barcode    infected infecting_viral_tag  total_UMIs  \\\n",
       "0      AAACCCAGTAACAAGT  uninfected                none       47873   \n",
       "1      AAACCCAGTAACAAGT  uninfected                none       47873   \n",
       "2      AAACCCATCATTGCTT  uninfected                none       90114   \n",
       "3      AAACGAAAGATGTTGA  uninfected                none      111630   \n",
       "4      AAACGAAAGATGTTGA  uninfected                none      111630   \n",
       "...                 ...         ...                 ...         ...   \n",
       "10524  TTTGATCTCCCGTTCA  uninfected                none       63150   \n",
       "10525  TTTGATCTCGCATTGA    infected                  wt      170914   \n",
       "10526  TTTGGAGAGTTGCCTA  uninfected                none       65941   \n",
       "10527  TTTGGAGGTATCGTTG    infected                  wt      150130   \n",
       "10528  TTTGTTGAGTGCAGCA  uninfected                none      135009   \n",
       "\n",
       "       viral_UMIs  cellular_UMIs  frac_viral_UMIs   gene     viral_barcode  \\\n",
       "0               6          47867         0.000125  fluHA  GGAGCATAGATCAGGA   \n",
       "1               6          47867         0.000125  fluHA  TTTCGGTTGATTATTG   \n",
       "2              10          90104         0.000111  fluHA               NaN   \n",
       "3              18         111612         0.000161  fluHA  CACTGATCAGGAGGTG   \n",
       "4              18         111612         0.000161  fluHA  TTTCGGTTGATTATTG   \n",
       "...           ...            ...              ...    ...               ...   \n",
       "10524           3          63147         0.000048  fluNA               NaN   \n",
       "10525       10415         160499         0.060937  fluNA               NaN   \n",
       "10526          12          65929         0.000182  fluNA  TTGTGAGCGAAGTGCG   \n",
       "10527        3526         146604         0.023486  fluNA  ACATCTTATTTACACG   \n",
       "10528           8         135001         0.000059  fluNA               NaN   \n",
       "\n",
       "       viral_bc_UMIs  frac_gene_UMIs  gene_present  frac_viral_bc_UMIs  \n",
       "0                  1        0.000042         False            0.000021  \n",
       "1                  1        0.000042         False            0.000021  \n",
       "2                  0        0.000000         False            0.000000  \n",
       "3                  1        0.000027         False            0.000009  \n",
       "4                  1        0.000027         False            0.000009  \n",
       "...              ...             ...           ...                 ...  \n",
       "10524              0        0.000000         False            0.000000  \n",
       "10525              0        0.007864          True            0.000000  \n",
       "10526              1        0.000015          True            0.000015  \n",
       "10527             39        0.000300          True            0.000260  \n",
       "10528              0        0.000007          True            0.000000  \n",
       "\n",
       "[10529 rows x 13 columns]"
      ]
     },
     "metadata": {},
     "output_type": "display_data"
    }
   ],
   "source": [
    "viral_bc_frac = (\n",
    "    viral_bc_frac\n",
    "    .assign(viral_bc_UMIs=lambda x: (x['viral_bc_UMIs']\n",
    "                                     .fillna(0)\n",
    "                                     .astype(int, errors='raise'))))\n",
    "\n",
    "\n",
    "viral_bc_frac['frac_viral_bc_UMIs'] = (\n",
    "    viral_bc_frac['viral_bc_UMIs'] /\n",
    "    viral_bc_frac['total_UMIs'])\n",
    "\n",
    "display(viral_bc_frac)"
   ]
  },
  {
   "cell_type": "markdown",
   "metadata": {},
   "source": [
    "## Filtering\n",
    "Now, I will filter out viral barcodes in each infected cell. A valid viral barcode meets the following criteria:\n",
    "1. The cell is infected\n",
    "2. The cell expresses the barcoded gene\n",
    "3. There are at least 2 UMIs with the viral barcode in that cell-gene\n",
    "4. The viral barcode is present at a frequency greater than some cutoff percentile observed in uninfected cells."
   ]
  },
  {
   "cell_type": "code",
   "execution_count": 11,
   "metadata": {
    "execution": {
     "iopub.execute_input": "2021-12-15T00:03:02.772136Z",
     "iopub.status.busy": "2021-12-15T00:03:02.771318Z",
     "iopub.status.idle": "2021-12-15T00:03:02.774691Z",
     "shell.execute_reply": "2021-12-15T00:03:02.775208Z"
    }
   },
   "outputs": [],
   "source": [
    "filter_query_list = list()"
   ]
  },
  {
   "cell_type": "markdown",
   "metadata": {},
   "source": [
    "### Infected cells\n",
    "Valid viral barcodes must come from infected cells:"
   ]
  },
  {
   "cell_type": "code",
   "execution_count": 12,
   "metadata": {
    "execution": {
     "iopub.execute_input": "2021-12-15T00:03:02.777967Z",
     "iopub.status.busy": "2021-12-15T00:03:02.777117Z",
     "iopub.status.idle": "2021-12-15T00:03:04.406545Z",
     "shell.execute_reply": "2021-12-15T00:03:04.407026Z"
    }
   },
   "outputs": [
    {
     "name": "stderr",
     "output_type": "stream",
     "text": [
      "/fh/fast/bloom_j/software/miniconda3/envs/barcoded_flu_pdmH1N1/lib/python3.8/site-packages/pandas/core/series.py:726: RuntimeWarning: divide by zero encountered in log10\n"
     ]
    },
    {
     "data": {
      "image/png": "[encoded data removed]",
      "text/plain": [
       "<Figure size 600x400 with 6 Axes>"
      ]
     },
     "metadata": {},
     "output_type": "display_data"
    },
    {
     "data": {
      "text/plain": [
       "<ggplot: (8778055367030)>"
      ]
     },
     "metadata": {},
     "output_type": "display_data"
    }
   ],
   "source": [
    "infected_rank = (viral_bc_frac\n",
    "                 [['cell_barcode',\n",
    "                   'gene',\n",
    "                   'infected',\n",
    "                   'frac_viral_bc_UMIs',]]\n",
    "                 .copy()\n",
    "                 .drop_duplicates())\n",
    "infected_rank['rank'] = (infected_rank\n",
    "                         .groupby('gene')\n",
    "                         ['frac_viral_bc_UMIs']\n",
    "                         .rank(ascending=False, method='first'))\n",
    "\n",
    "fig = (p9.ggplot(infected_rank,\n",
    "                 p9.aes(x='rank',\n",
    "                        y='frac_viral_bc_UMIs',\n",
    "                        color='infected')) +\n",
    "       p9.geom_point(alpha=.3) +\n",
    "       p9.facet_grid('gene~infected') +\n",
    "       p9.scale_y_log10() +\n",
    "       p9.ggtitle('viral bc UMIs in infected and uninfected cells\\n'\n",
    "                  f'{expt}') +\n",
    "       p9.labs(x='viral bc frequency rank') +\n",
    "       p9.theme(figure_size=(6, 4),\n",
    "                plot_title=p9.element_text(size=9),\n",
    "                axis_title=p9.element_text(size=9),\n",
    "                legend_title=p9.element_text(size=9),\n",
    "                legend_title_align='center') +\n",
    "       p9.scale_color_manual(CBPALETTE[0:]))\n",
    "display(fig)"
   ]
  },
  {
   "cell_type": "markdown",
   "metadata": {},
   "source": [
    "Add infection status to filter query:"
   ]
  },
  {
   "cell_type": "code",
   "execution_count": 13,
   "metadata": {
    "execution": {
     "iopub.execute_input": "2021-12-15T00:03:04.409530Z",
     "iopub.status.busy": "2021-12-15T00:03:04.408818Z",
     "iopub.status.idle": "2021-12-15T00:03:04.413108Z",
     "shell.execute_reply": "2021-12-15T00:03:04.413531Z"
    }
   },
   "outputs": [
    {
     "name": "stdout",
     "output_type": "stream",
     "text": [
      "The filter query is:  (infected == \"infected\")\n"
     ]
    }
   ],
   "source": [
    "filter_query_list.append('(infected == \"infected\")')\n",
    "filter_query = \" and \".join(filter_query_list)\n",
    "print(\"The filter query is:  \"\n",
    "      f\"{filter_query}\")"
   ]
  },
  {
   "cell_type": "markdown",
   "metadata": {},
   "source": [
    "### Gene expression\n",
    "Plot barcode UMIs per viral barcode in infected cells, annotated with gene expression:"
   ]
  },
  {
   "cell_type": "code",
   "execution_count": 14,
   "metadata": {
    "execution": {
     "iopub.execute_input": "2021-12-15T00:03:04.416075Z",
     "iopub.status.busy": "2021-12-15T00:03:04.415232Z",
     "iopub.status.idle": "2021-12-15T00:03:05.149386Z",
     "shell.execute_reply": "2021-12-15T00:03:05.149863Z"
    }
   },
   "outputs": [
    {
     "name": "stderr",
     "output_type": "stream",
     "text": [
      "/fh/fast/bloom_j/software/miniconda3/envs/barcoded_flu_pdmH1N1/lib/python3.8/site-packages/pandas/core/series.py:726: RuntimeWarning: divide by zero encountered in log10\n"
     ]
    },
    {
     "data": {
      "image/png": "[encoded data removed]",
      "text/plain": [
       "<Figure size 300x400 with 2 Axes>"
      ]
     },
     "metadata": {},
     "output_type": "display_data"
    },
    {
     "data": {
      "text/plain": [
       "<ggplot: (8778055371783)>"
      ]
     },
     "metadata": {},
     "output_type": "display_data"
    }
   ],
   "source": [
    "gene_expressed_rank = (viral_bc_frac\n",
    "                       .query(filter_query)\n",
    "                       [['cell_barcode',\n",
    "                         'gene',\n",
    "                         'gene_present',\n",
    "                         'frac_viral_bc_UMIs',]]\n",
    "                       .copy()\n",
    "                       .drop_duplicates())\n",
    "gene_expressed_rank['rank'] = (gene_expressed_rank\n",
    "                               .groupby('gene')\n",
    "                               ['frac_viral_bc_UMIs']\n",
    "                               .rank(ascending=False, method='first'))\n",
    "\n",
    "fig = (p9.ggplot(gene_expressed_rank,\n",
    "                 p9.aes(x='rank',\n",
    "                        y='frac_viral_bc_UMIs',\n",
    "                        color='gene_present')) +\n",
    "       p9.geom_point(alpha=0.5) +\n",
    "       p9.facet_grid('gene~') +\n",
    "       p9.scale_y_log10() +\n",
    "       p9.ggtitle('viral bc UMIs on expressed/missing genes\\n'\n",
    "                  'in infected cells\\n'\n",
    "                  f'{expt}') +\n",
    "       p9.labs(x='viral bc frequency rank') +\n",
    "       p9.theme(figure_size=(3, 4),\n",
    "                plot_title=p9.element_text(size=9),\n",
    "                axis_title=p9.element_text(size=9),\n",
    "                legend_title=p9.element_text(size=9),\n",
    "                legend_title_align='center') +\n",
    "       p9.scale_color_manual(CBPALETTE[0:]))\n",
    "display(fig)"
   ]
  },
  {
   "cell_type": "markdown",
   "metadata": {},
   "source": [
    "Add gene expression to filter query:"
   ]
  },
  {
   "cell_type": "code",
   "execution_count": 15,
   "metadata": {
    "execution": {
     "iopub.execute_input": "2021-12-15T00:03:05.152362Z",
     "iopub.status.busy": "2021-12-15T00:03:05.151649Z",
     "iopub.status.idle": "2021-12-15T00:03:05.155848Z",
     "shell.execute_reply": "2021-12-15T00:03:05.156306Z"
    }
   },
   "outputs": [
    {
     "name": "stdout",
     "output_type": "stream",
     "text": [
      "The filter query is:  (infected == \"infected\") and (gene_present == True)\n"
     ]
    }
   ],
   "source": [
    "filter_query_list.append('(gene_present == True)')\n",
    "filter_query = \" and \".join(filter_query_list)\n",
    "print(\"The filter query is:  \"\n",
    "      f\"{filter_query}\")"
   ]
  },
  {
   "cell_type": "markdown",
   "metadata": {},
   "source": [
    "### Absolute abundance\n",
    "Label and remove viral barcodes with only 1 UMIs in a given cell:"
   ]
  },
  {
   "cell_type": "code",
   "execution_count": 16,
   "metadata": {
    "execution": {
     "iopub.execute_input": "2021-12-15T00:03:05.159342Z",
     "iopub.status.busy": "2021-12-15T00:03:05.158397Z",
     "iopub.status.idle": "2021-12-15T00:03:05.805413Z",
     "shell.execute_reply": "2021-12-15T00:03:05.805873Z"
    }
   },
   "outputs": [
    {
     "name": "stderr",
     "output_type": "stream",
     "text": [
      "/fh/fast/bloom_j/software/miniconda3/envs/barcoded_flu_pdmH1N1/lib/python3.8/site-packages/pandas/core/series.py:726: RuntimeWarning: divide by zero encountered in log10\n"
     ]
    },
    {
     "data": {
      "image/png": "[encoded data removed]",
      "text/plain": [
       "<Figure size 300x400 with 2 Axes>"
      ]
     },
     "metadata": {},
     "output_type": "display_data"
    },
    {
     "data": {
      "text/plain": [
       "<ggplot: (8778054903266)>"
      ]
     },
     "metadata": {},
     "output_type": "display_data"
    }
   ],
   "source": [
    "UMI_limit = 1\n",
    "viral_bc_frac['above_UMI_limit'] = viral_bc_frac['viral_bc_UMIs'] > UMI_limit\n",
    "\n",
    "UMI_limit_rank = (viral_bc_frac\n",
    "                  .query(filter_query)\n",
    "                  [['cell_barcode',\n",
    "                    'gene',\n",
    "                    'above_UMI_limit',\n",
    "                    'viral_bc_UMIs',]]\n",
    "                  .copy()\n",
    "                  .drop_duplicates())\n",
    "UMI_limit_rank['rank'] = (UMI_limit_rank\n",
    "                          .groupby('gene')\n",
    "                          ['viral_bc_UMIs']\n",
    "                          .rank(ascending=False, method='first'))\n",
    "\n",
    "fig = (p9.ggplot(UMI_limit_rank,\n",
    "                 p9.aes(x='rank',\n",
    "                        y='viral_bc_UMIs',\n",
    "                        color='above_UMI_limit')) +\n",
    "       p9.geom_point(alpha=0.5) +\n",
    "       p9.geom_hline(yintercept=UMI_limit, linetype='dashed', color=CBPALETTE[2]) +\n",
    "       p9.facet_grid('gene~') +\n",
    "       p9.scale_y_log10() +\n",
    "       p9.ggtitle('viral barcode UMI threshold\\n'\n",
    "                  'in infected cells expressing barcoded gene\\n'\n",
    "                  f'{expt}') +\n",
    "       p9.labs(x='viral bc UMI rank') +\n",
    "       p9.theme(figure_size=(3, 4),\n",
    "                plot_title=p9.element_text(size=9),\n",
    "                axis_title=p9.element_text(size=9),\n",
    "                legend_title=p9.element_text(size=9),\n",
    "                legend_title_align='center') +\n",
    "       p9.scale_color_manual(CBPALETTE[0:]))\n",
    "display(fig)"
   ]
  },
  {
   "cell_type": "markdown",
   "metadata": {},
   "source": [
    "Add absolute abundance to filter query:"
   ]
  },
  {
   "cell_type": "code",
   "execution_count": 17,
   "metadata": {
    "execution": {
     "iopub.execute_input": "2021-12-15T00:03:05.808332Z",
     "iopub.status.busy": "2021-12-15T00:03:05.807634Z",
     "iopub.status.idle": "2021-12-15T00:03:05.811899Z",
     "shell.execute_reply": "2021-12-15T00:03:05.812456Z"
    }
   },
   "outputs": [
    {
     "name": "stdout",
     "output_type": "stream",
     "text": [
      "The filter query is:  (infected == \"infected\") and (gene_present == True) and (above_UMI_limit == True)\n"
     ]
    }
   ],
   "source": [
    "filter_query_list.append('(above_UMI_limit == True)')\n",
    "filter_query = \" and \".join(filter_query_list)\n",
    "print(\"The filter query is:  \"\n",
    "      f\"{filter_query}\")"
   ]
  },
  {
   "cell_type": "markdown",
   "metadata": {},
   "source": [
    "### Relative abundance\n",
    "Find the 99th percentile of individual viral barcode frequency in uninfected cells. Label and filter out viral barcodes that are less than this frequency."
   ]
  },
  {
   "cell_type": "code",
   "execution_count": 18,
   "metadata": {
    "execution": {
     "iopub.execute_input": "2021-12-15T00:03:05.815417Z",
     "iopub.status.busy": "2021-12-15T00:03:05.814481Z",
     "iopub.status.idle": "2021-12-15T00:03:06.507002Z",
     "shell.execute_reply": "2021-12-15T00:03:06.507449Z"
    }
   },
   "outputs": [
    {
     "name": "stdout",
     "output_type": "stream",
     "text": [
      "The limit for a viral barcode on fluHA is 0.00004.\n",
      "The limit for a viral barcode on fluNA is 0.00002.\n"
     ]
    },
    {
     "data": {
      "image/png": "[encoded data removed]",
      "text/plain": [
       "<Figure size 500x100 with 2 Axes>"
      ]
     },
     "metadata": {},
     "output_type": "display_data"
    },
    {
     "data": {
      "text/plain": [
       "<ggplot: (8778054759503)>"
      ]
     },
     "metadata": {},
     "output_type": "display_data"
    }
   ],
   "source": [
    "limit_percentile = 0.99\n",
    "\n",
    "uninfected_background_frac = {}\n",
    "for gene in barcoded_viral_genes:\n",
    "    limit = (viral_bc_frac\n",
    "             .query('(infecting_viral_tag == \"none\") '\n",
    "                    f'and (gene == \"{gene}\")')\n",
    "             ['frac_viral_bc_UMIs']\n",
    "             .quantile(limit_percentile))\n",
    "    uninfected_background_frac[f'{gene}'] = limit\n",
    "    print(f'The limit for a viral barcode on {gene} is {limit:.5f}.')\n",
    "    \n",
    "# Convert to DataFrame for plotting\n",
    "uninfected_background_frac = (\n",
    "    pd.DataFrame.from_dict(uninfected_background_frac,\n",
    "                           orient='index',\n",
    "                           columns=['uninf_background'])\n",
    "    .reset_index()\n",
    "    .rename(columns={'index': 'gene'}))\n",
    "\n",
    "fig = (p9.ggplot((viral_bc_frac\n",
    "                  .query('infecting_viral_tag == \"none\"')),\n",
    "                 p9.aes(x='frac_viral_bc_UMIs')) +\n",
    "       p9.geom_histogram(bins=50, fill=\"#3a3a3a\") +\n",
    "       p9.geom_vline(uninfected_background_frac,\n",
    "                     p9.aes(xintercept='uninf_background'),\n",
    "                     linetype='dashed',\n",
    "                     color='#3A3B3C',\n",
    "                     size=0.5) +\n",
    "       p9.facet_grid('infecting_viral_tag~gene') +\n",
    "       p9.ggtitle('viral barcode fraction in uninfected cells\\n'\n",
    "                  f'{expt}') +\n",
    "       p9.labs(x='viral barcode frequency',) +\n",
    "       p9.theme(figure_size=(5, 1),\n",
    "                plot_title=p9.element_text(size=10),\n",
    "                axis_title=p9.element_text(size=10),\n",
    "                axis_text=p9.element_text(rotation=45),\n",
    "                legend_title=p9.element_text(size=9),\n",
    "                legend_title_align='center'))\n",
    "display(fig)"
   ]
  },
  {
   "cell_type": "code",
   "execution_count": 19,
   "metadata": {
    "execution": {
     "iopub.execute_input": "2021-12-15T00:03:06.509791Z",
     "iopub.status.busy": "2021-12-15T00:03:06.509100Z",
     "iopub.status.idle": "2021-12-15T00:03:06.520048Z",
     "shell.execute_reply": "2021-12-15T00:03:06.520592Z"
    }
   },
   "outputs": [],
   "source": [
    "viral_bc_frac = pd.merge(left=viral_bc_frac,\n",
    "                         right=uninfected_background_frac,\n",
    "                         on='gene',\n",
    "                         how='outer',\n",
    "                         validate='many_to_one')\n",
    "viral_bc_frac['above_uninf_background'] = (viral_bc_frac['frac_viral_bc_UMIs'] >\n",
    "                                           viral_bc_frac['uninf_background'])"
   ]
  },
  {
   "cell_type": "code",
   "execution_count": 20,
   "metadata": {
    "execution": {
     "iopub.execute_input": "2021-12-15T00:03:06.523383Z",
     "iopub.status.busy": "2021-12-15T00:03:06.522511Z",
     "iopub.status.idle": "2021-12-15T00:03:07.139899Z",
     "shell.execute_reply": "2021-12-15T00:03:07.140374Z"
    }
   },
   "outputs": [
    {
     "data": {
      "image/png": "[encoded data removed]",
      "text/plain": [
       "<Figure size 300x400 with 2 Axes>"
      ]
     },
     "metadata": {},
     "output_type": "display_data"
    },
    {
     "data": {
      "text/plain": [
       "<ggplot: (8778054784931)>"
      ]
     },
     "metadata": {},
     "output_type": "display_data"
    }
   ],
   "source": [
    "background_rank = (viral_bc_frac\n",
    "                   .query(filter_query)\n",
    "                   [['cell_barcode',\n",
    "                     'gene',\n",
    "                     'above_uninf_background',\n",
    "                     'frac_viral_bc_UMIs',]]\n",
    "                   .copy()\n",
    "                   .drop_duplicates())\n",
    "background_rank['rank'] = (background_rank\n",
    "                           .groupby('gene')\n",
    "                           ['frac_viral_bc_UMIs']\n",
    "                           .rank(ascending=False, method='first'))\n",
    "\n",
    "fig = (p9.ggplot(background_rank,\n",
    "                 p9.aes(x='rank',\n",
    "                        y='frac_viral_bc_UMIs',\n",
    "                        color='above_uninf_background')) +\n",
    "       p9.geom_point(alpha=0.5) +\n",
    "       p9.geom_hline(uninfected_background_frac,\n",
    "                     p9.aes(yintercept='uninf_background'),\n",
    "                     linetype='dashed',\n",
    "                     color=CBPALETTE[2]) +\n",
    "       p9.facet_grid('gene~') +\n",
    "       p9.scale_y_log10() +\n",
    "       p9.ggtitle(f'{expt}') +\n",
    "       p9.labs(x='viral bc frequency rank') +\n",
    "       p9.theme(figure_size=(3, 4),\n",
    "                plot_title=p9.element_text(size=9),\n",
    "                axis_title=p9.element_text(size=9),\n",
    "                legend_title=p9.element_text(size=9),\n",
    "                legend_title_align='center') +\n",
    "       p9.scale_color_manual(CBPALETTE[0:]))\n",
    "display(fig)"
   ]
  },
  {
   "cell_type": "markdown",
   "metadata": {},
   "source": [
    "Add background frequency to filter query:"
   ]
  },
  {
   "cell_type": "code",
   "execution_count": 21,
   "metadata": {
    "execution": {
     "iopub.execute_input": "2021-12-15T00:03:07.143385Z",
     "iopub.status.busy": "2021-12-15T00:03:07.142526Z",
     "iopub.status.idle": "2021-12-15T00:03:07.147545Z",
     "shell.execute_reply": "2021-12-15T00:03:07.148069Z"
    }
   },
   "outputs": [
    {
     "name": "stdout",
     "output_type": "stream",
     "text": [
      "The filter query is:  (infected == \"infected\") and (gene_present == True) and (above_UMI_limit == True) and (above_uninf_background == True)\n"
     ]
    }
   ],
   "source": [
    "filter_query_list.append('(above_uninf_background == True)')\n",
    "filter_query = \" and \".join(filter_query_list)\n",
    "print(\"The filter query is:  \"\n",
    "      f\"{filter_query}\")"
   ]
  },
  {
   "cell_type": "markdown",
   "metadata": {},
   "source": [
    "## Assign filter status to each viral barcode"
   ]
  },
  {
   "cell_type": "code",
   "execution_count": 22,
   "metadata": {
    "execution": {
     "iopub.execute_input": "2021-12-15T00:03:07.150773Z",
     "iopub.status.busy": "2021-12-15T00:03:07.149930Z",
     "iopub.status.idle": "2021-12-15T00:03:07.180956Z",
     "shell.execute_reply": "2021-12-15T00:03:07.181412Z"
    }
   },
   "outputs": [
    {
     "data": {
      "text/html": [
       "<div>\n",
       "<style scoped>\n",
       "    .dataframe tbody tr th:only-of-type {\n",
       "        vertical-align: middle;\n",
       "    }\n",
       "\n",
       "    .dataframe tbody tr th {\n",
       "        vertical-align: top;\n",
       "    }\n",
       "\n",
       "    .dataframe thead th {\n",
       "        text-align: right;\n",
       "    }\n",
       "</style>\n",
       "<table border=\"1\" class=\"dataframe\">\n",
       "  <thead>\n",
       "    <tr style=\"text-align: right;\">\n",
       "      <th></th>\n",
       "      <th>cell_barcode</th>\n",
       "      <th>infected</th>\n",
       "      <th>infecting_viral_tag</th>\n",
       "      <th>total_UMIs</th>\n",
       "      <th>viral_UMIs</th>\n",
       "      <th>cellular_UMIs</th>\n",
       "      <th>frac_viral_UMIs</th>\n",
       "      <th>gene</th>\n",
       "      <th>viral_barcode</th>\n",
       "      <th>viral_bc_UMIs</th>\n",
       "      <th>frac_gene_UMIs</th>\n",
       "      <th>gene_present</th>\n",
       "      <th>frac_viral_bc_UMIs</th>\n",
       "      <th>above_UMI_limit</th>\n",
       "      <th>uninf_background</th>\n",
       "      <th>above_uninf_background</th>\n",
       "      <th>valid_viral_bc</th>\n",
       "    </tr>\n",
       "  </thead>\n",
       "  <tbody>\n",
       "    <tr>\n",
       "      <th>0</th>\n",
       "      <td>AAACCCAGTAACAAGT</td>\n",
       "      <td>uninfected</td>\n",
       "      <td>none</td>\n",
       "      <td>47873</td>\n",
       "      <td>6</td>\n",
       "      <td>47867</td>\n",
       "      <td>0.000125</td>\n",
       "      <td>fluHA</td>\n",
       "      <td>GGAGCATAGATCAGGA</td>\n",
       "      <td>1</td>\n",
       "      <td>0.000042</td>\n",
       "      <td>False</td>\n",
       "      <td>0.000021</td>\n",
       "      <td>False</td>\n",
       "      <td>0.000037</td>\n",
       "      <td>False</td>\n",
       "      <td>False</td>\n",
       "    </tr>\n",
       "    <tr>\n",
       "      <th>1</th>\n",
       "      <td>AAACCCAGTAACAAGT</td>\n",
       "      <td>uninfected</td>\n",
       "      <td>none</td>\n",
       "      <td>47873</td>\n",
       "      <td>6</td>\n",
       "      <td>47867</td>\n",
       "      <td>0.000125</td>\n",
       "      <td>fluHA</td>\n",
       "      <td>TTTCGGTTGATTATTG</td>\n",
       "      <td>1</td>\n",
       "      <td>0.000042</td>\n",
       "      <td>False</td>\n",
       "      <td>0.000021</td>\n",
       "      <td>False</td>\n",
       "      <td>0.000037</td>\n",
       "      <td>False</td>\n",
       "      <td>False</td>\n",
       "    </tr>\n",
       "    <tr>\n",
       "      <th>2</th>\n",
       "      <td>AAACCCATCATTGCTT</td>\n",
       "      <td>uninfected</td>\n",
       "      <td>none</td>\n",
       "      <td>90114</td>\n",
       "      <td>10</td>\n",
       "      <td>90104</td>\n",
       "      <td>0.000111</td>\n",
       "      <td>fluHA</td>\n",
       "      <td>NaN</td>\n",
       "      <td>0</td>\n",
       "      <td>0.000000</td>\n",
       "      <td>False</td>\n",
       "      <td>0.000000</td>\n",
       "      <td>False</td>\n",
       "      <td>0.000037</td>\n",
       "      <td>False</td>\n",
       "      <td>False</td>\n",
       "    </tr>\n",
       "    <tr>\n",
       "      <th>3</th>\n",
       "      <td>AAACGAAAGATGTTGA</td>\n",
       "      <td>uninfected</td>\n",
       "      <td>none</td>\n",
       "      <td>111630</td>\n",
       "      <td>18</td>\n",
       "      <td>111612</td>\n",
       "      <td>0.000161</td>\n",
       "      <td>fluHA</td>\n",
       "      <td>CACTGATCAGGAGGTG</td>\n",
       "      <td>1</td>\n",
       "      <td>0.000027</td>\n",
       "      <td>False</td>\n",
       "      <td>0.000009</td>\n",
       "      <td>False</td>\n",
       "      <td>0.000037</td>\n",
       "      <td>False</td>\n",
       "      <td>False</td>\n",
       "    </tr>\n",
       "    <tr>\n",
       "      <th>4</th>\n",
       "      <td>AAACGAAAGATGTTGA</td>\n",
       "      <td>uninfected</td>\n",
       "      <td>none</td>\n",
       "      <td>111630</td>\n",
       "      <td>18</td>\n",
       "      <td>111612</td>\n",
       "      <td>0.000161</td>\n",
       "      <td>fluHA</td>\n",
       "      <td>TTTCGGTTGATTATTG</td>\n",
       "      <td>1</td>\n",
       "      <td>0.000027</td>\n",
       "      <td>False</td>\n",
       "      <td>0.000009</td>\n",
       "      <td>False</td>\n",
       "      <td>0.000037</td>\n",
       "      <td>False</td>\n",
       "      <td>False</td>\n",
       "    </tr>\n",
       "    <tr>\n",
       "      <th>...</th>\n",
       "      <td>...</td>\n",
       "      <td>...</td>\n",
       "      <td>...</td>\n",
       "      <td>...</td>\n",
       "      <td>...</td>\n",
       "      <td>...</td>\n",
       "      <td>...</td>\n",
       "      <td>...</td>\n",
       "      <td>...</td>\n",
       "      <td>...</td>\n",
       "      <td>...</td>\n",
       "      <td>...</td>\n",
       "      <td>...</td>\n",
       "      <td>...</td>\n",
       "      <td>...</td>\n",
       "      <td>...</td>\n",
       "      <td>...</td>\n",
       "    </tr>\n",
       "    <tr>\n",
       "      <th>10524</th>\n",
       "      <td>TTTGATCTCCCGTTCA</td>\n",
       "      <td>uninfected</td>\n",
       "      <td>none</td>\n",
       "      <td>63150</td>\n",
       "      <td>3</td>\n",
       "      <td>63147</td>\n",
       "      <td>0.000048</td>\n",
       "      <td>fluNA</td>\n",
       "      <td>NaN</td>\n",
       "      <td>0</td>\n",
       "      <td>0.000000</td>\n",
       "      <td>False</td>\n",
       "      <td>0.000000</td>\n",
       "      <td>False</td>\n",
       "      <td>0.000025</td>\n",
       "      <td>False</td>\n",
       "      <td>False</td>\n",
       "    </tr>\n",
       "    <tr>\n",
       "      <th>10525</th>\n",
       "      <td>TTTGATCTCGCATTGA</td>\n",
       "      <td>infected</td>\n",
       "      <td>wt</td>\n",
       "      <td>170914</td>\n",
       "      <td>10415</td>\n",
       "      <td>160499</td>\n",
       "      <td>0.060937</td>\n",
       "      <td>fluNA</td>\n",
       "      <td>NaN</td>\n",
       "      <td>0</td>\n",
       "      <td>0.007864</td>\n",
       "      <td>True</td>\n",
       "      <td>0.000000</td>\n",
       "      <td>False</td>\n",
       "      <td>0.000025</td>\n",
       "      <td>False</td>\n",
       "      <td>False</td>\n",
       "    </tr>\n",
       "    <tr>\n",
       "      <th>10526</th>\n",
       "      <td>TTTGGAGAGTTGCCTA</td>\n",
       "      <td>uninfected</td>\n",
       "      <td>none</td>\n",
       "      <td>65941</td>\n",
       "      <td>12</td>\n",
       "      <td>65929</td>\n",
       "      <td>0.000182</td>\n",
       "      <td>fluNA</td>\n",
       "      <td>TTGTGAGCGAAGTGCG</td>\n",
       "      <td>1</td>\n",
       "      <td>0.000015</td>\n",
       "      <td>True</td>\n",
       "      <td>0.000015</td>\n",
       "      <td>False</td>\n",
       "      <td>0.000025</td>\n",
       "      <td>False</td>\n",
       "      <td>False</td>\n",
       "    </tr>\n",
       "    <tr>\n",
       "      <th>10527</th>\n",
       "      <td>TTTGGAGGTATCGTTG</td>\n",
       "      <td>infected</td>\n",
       "      <td>wt</td>\n",
       "      <td>150130</td>\n",
       "      <td>3526</td>\n",
       "      <td>146604</td>\n",
       "      <td>0.023486</td>\n",
       "      <td>fluNA</td>\n",
       "      <td>ACATCTTATTTACACG</td>\n",
       "      <td>39</td>\n",
       "      <td>0.000300</td>\n",
       "      <td>True</td>\n",
       "      <td>0.000260</td>\n",
       "      <td>True</td>\n",
       "      <td>0.000025</td>\n",
       "      <td>True</td>\n",
       "      <td>True</td>\n",
       "    </tr>\n",
       "    <tr>\n",
       "      <th>10528</th>\n",
       "      <td>TTTGTTGAGTGCAGCA</td>\n",
       "      <td>uninfected</td>\n",
       "      <td>none</td>\n",
       "      <td>135009</td>\n",
       "      <td>8</td>\n",
       "      <td>135001</td>\n",
       "      <td>0.000059</td>\n",
       "      <td>fluNA</td>\n",
       "      <td>NaN</td>\n",
       "      <td>0</td>\n",
       "      <td>0.000007</td>\n",
       "      <td>True</td>\n",
       "      <td>0.000000</td>\n",
       "      <td>False</td>\n",
       "      <td>0.000025</td>\n",
       "      <td>False</td>\n",
       "      <td>False</td>\n",
       "    </tr>\n",
       "  </tbody>\n",
       "</table>\n",
       "<p>10529 rows × 17 columns</p>\n",
       "</div>"
      ],
      "text/plain": [
       "           cell_barcode    infected infecting_viral_tag  total_UMIs  \\\n",
       "0      AAACCCAGTAACAAGT  uninfected                none       47873   \n",
       "1      AAACCCAGTAACAAGT  uninfected                none       47873   \n",
       "2      AAACCCATCATTGCTT  uninfected                none       90114   \n",
       "3      AAACGAAAGATGTTGA  uninfected                none      111630   \n",
       "4      AAACGAAAGATGTTGA  uninfected                none      111630   \n",
       "...                 ...         ...                 ...         ...   \n",
       "10524  TTTGATCTCCCGTTCA  uninfected                none       63150   \n",
       "10525  TTTGATCTCGCATTGA    infected                  wt      170914   \n",
       "10526  TTTGGAGAGTTGCCTA  uninfected                none       65941   \n",
       "10527  TTTGGAGGTATCGTTG    infected                  wt      150130   \n",
       "10528  TTTGTTGAGTGCAGCA  uninfected                none      135009   \n",
       "\n",
       "       viral_UMIs  cellular_UMIs  frac_viral_UMIs   gene     viral_barcode  \\\n",
       "0               6          47867         0.000125  fluHA  GGAGCATAGATCAGGA   \n",
       "1               6          47867         0.000125  fluHA  TTTCGGTTGATTATTG   \n",
       "2              10          90104         0.000111  fluHA               NaN   \n",
       "3              18         111612         0.000161  fluHA  CACTGATCAGGAGGTG   \n",
       "4              18         111612         0.000161  fluHA  TTTCGGTTGATTATTG   \n",
       "...           ...            ...              ...    ...               ...   \n",
       "10524           3          63147         0.000048  fluNA               NaN   \n",
       "10525       10415         160499         0.060937  fluNA               NaN   \n",
       "10526          12          65929         0.000182  fluNA  TTGTGAGCGAAGTGCG   \n",
       "10527        3526         146604         0.023486  fluNA  ACATCTTATTTACACG   \n",
       "10528           8         135001         0.000059  fluNA               NaN   \n",
       "\n",
       "       viral_bc_UMIs  frac_gene_UMIs  gene_present  frac_viral_bc_UMIs  \\\n",
       "0                  1        0.000042         False            0.000021   \n",
       "1                  1        0.000042         False            0.000021   \n",
       "2                  0        0.000000         False            0.000000   \n",
       "3                  1        0.000027         False            0.000009   \n",
       "4                  1        0.000027         False            0.000009   \n",
       "...              ...             ...           ...                 ...   \n",
       "10524              0        0.000000         False            0.000000   \n",
       "10525              0        0.007864          True            0.000000   \n",
       "10526              1        0.000015          True            0.000015   \n",
       "10527             39        0.000300          True            0.000260   \n",
       "10528              0        0.000007          True            0.000000   \n",
       "\n",
       "       above_UMI_limit  uninf_background  above_uninf_background  \\\n",
       "0                False          0.000037                   False   \n",
       "1                False          0.000037                   False   \n",
       "2                False          0.000037                   False   \n",
       "3                False          0.000037                   False   \n",
       "4                False          0.000037                   False   \n",
       "...                ...               ...                     ...   \n",
       "10524            False          0.000025                   False   \n",
       "10525            False          0.000025                   False   \n",
       "10526            False          0.000025                   False   \n",
       "10527             True          0.000025                    True   \n",
       "10528            False          0.000025                   False   \n",
       "\n",
       "       valid_viral_bc  \n",
       "0               False  \n",
       "1               False  \n",
       "2               False  \n",
       "3               False  \n",
       "4               False  \n",
       "...               ...  \n",
       "10524           False  \n",
       "10525           False  \n",
       "10526           False  \n",
       "10527            True  \n",
       "10528           False  \n",
       "\n",
       "[10529 rows x 17 columns]"
      ]
     },
     "metadata": {},
     "output_type": "display_data"
    }
   ],
   "source": [
    "viral_bc_frac.loc[viral_bc_frac.eval(filter_query), 'valid_viral_bc'] = True\n",
    "viral_bc_frac['valid_viral_bc'] = viral_bc_frac['valid_viral_bc'].fillna(False)\n",
    "display(viral_bc_frac)"
   ]
  },
  {
   "cell_type": "markdown",
   "metadata": {},
   "source": [
    "## Summary visualizations\n",
    "### Valid viral barcodes in each infected cell"
   ]
  },
  {
   "cell_type": "code",
   "execution_count": 23,
   "metadata": {
    "execution": {
     "iopub.execute_input": "2021-12-15T00:03:07.183838Z",
     "iopub.status.busy": "2021-12-15T00:03:07.183126Z",
     "iopub.status.idle": "2021-12-15T00:03:07.926724Z",
     "shell.execute_reply": "2021-12-15T00:03:07.927176Z"
    }
   },
   "outputs": [
    {
     "name": "stderr",
     "output_type": "stream",
     "text": [
      "/fh/fast/bloom_j/software/miniconda3/envs/barcoded_flu_pdmH1N1/lib/python3.8/site-packages/pandas/core/series.py:726: RuntimeWarning: divide by zero encountered in log10\n"
     ]
    },
    {
     "data": {
      "image/png": "[encoded data removed]",
      "text/plain": [
       "<Figure size 300x400 with 2 Axes>"
      ]
     },
     "metadata": {},
     "output_type": "display_data"
    },
    {
     "data": {
      "text/plain": [
       "<ggplot: (8778055018340)>"
      ]
     },
     "metadata": {},
     "output_type": "display_data"
    }
   ],
   "source": [
    "valid_rank = (viral_bc_frac\n",
    "              .query('infected == \"infected\"')\n",
    "              [['cell_barcode',\n",
    "                'gene',\n",
    "                'frac_viral_bc_UMIs',\n",
    "                'valid_viral_bc']]\n",
    "              .copy()\n",
    "              .drop_duplicates())\n",
    "valid_rank['rank'] = (valid_rank\n",
    "                      .groupby('gene')\n",
    "                      ['frac_viral_bc_UMIs']\n",
    "                      .rank(ascending=False, method='first'))\n",
    "\n",
    "fig = (p9.ggplot(valid_rank,\n",
    "                 p9.aes(x='rank',\n",
    "                        y='frac_viral_bc_UMIs',\n",
    "                        color='valid_viral_bc')) +\n",
    "       p9.geom_point(alpha=.3) +\n",
    "       p9.facet_grid('gene~') +\n",
    "       p9.scale_y_log10() +\n",
    "       p9.ggtitle('valid and filterd viral barcodes\\n'\n",
    "                  'in infected cells\\n'\n",
    "                  f'{expt}') +\n",
    "       p9.labs(x='viral bc frequency rank') +\n",
    "       p9.theme(figure_size=(3, 4),\n",
    "                plot_title=p9.element_text(size=9),\n",
    "                axis_title=p9.element_text(size=9),\n",
    "                legend_title=p9.element_text(size=9),\n",
    "                legend_title_align='center') +\n",
    "       p9.scale_color_manual(CBPALETTE[0:]))\n",
    "display(fig)"
   ]
  },
  {
   "cell_type": "markdown",
   "metadata": {},
   "source": [
    "### Number of valid viral barcodes per cell"
   ]
  },
  {
   "cell_type": "code",
   "execution_count": 24,
   "metadata": {
    "execution": {
     "iopub.execute_input": "2021-12-15T00:03:09.926044Z",
     "iopub.status.busy": "2021-12-15T00:03:09.925356Z",
     "iopub.status.idle": "2021-12-15T00:03:09.935620Z",
     "shell.execute_reply": "2021-12-15T00:03:09.936152Z"
    }
   },
   "outputs": [],
   "source": [
    "n_viral_bc = (viral_bc_frac\n",
    "             .query('(valid_viral_bc == True)',\n",
    "                    engine='python')\n",
    "             .groupby(['cell_barcode',\n",
    "                       'gene',\n",
    "                       'valid_viral_bc'])\n",
    "             ['viral_barcode']\n",
    "             .nunique()\n",
    "             .reset_index()\n",
    "             .rename(columns={'viral_barcode': 'n_viral_bc'}))"
   ]
  },
  {
   "cell_type": "code",
   "execution_count": 25,
   "metadata": {
    "execution": {
     "iopub.execute_input": "2021-12-15T00:03:09.938954Z",
     "iopub.status.busy": "2021-12-15T00:03:09.938093Z",
     "iopub.status.idle": "2021-12-15T00:03:10.367423Z",
     "shell.execute_reply": "2021-12-15T00:03:10.367896Z"
    }
   },
   "outputs": [
    {
     "data": {
      "image/png": "[encoded data removed]",
      "text/plain": [
       "<Figure size 500x200 with 2 Axes>"
      ]
     },
     "metadata": {},
     "output_type": "display_data"
    },
    {
     "data": {
      "text/plain": [
       "<ggplot: (8778059719376)>"
      ]
     },
     "metadata": {},
     "output_type": "display_data"
    }
   ],
   "source": [
    "output_fig = (p9.ggplot(n_viral_bc) +\n",
    "              p9.geom_histogram(p9.aes(x='n_viral_bc'),\n",
    "                                       binwidth=1,\n",
    "                                       position='dodge') +\n",
    "              p9.facet_grid('~gene') +\n",
    "              p9.ggtitle('Number of valid viral barcodes per cell\\n'\n",
    "                         'in infected cells\\n'\n",
    "                         f'{expt}') +\n",
    "              p9.xlab('number of valid viral barcodes in cell') +\n",
    "              p9.ylab('number of cells') +\n",
    "              p9.theme(figure_size=(5, 2),\n",
    "                       plot_title=p9.element_text(size=11),\n",
    "                       axis_title=p9.element_text(size=10),\n",
    "                       legend_title=p9.element_text(size=10),\n",
    "                       legend_title_align='center'))\n",
    "display(output_fig)"
   ]
  },
  {
   "cell_type": "code",
   "execution_count": 26,
   "metadata": {
    "execution": {
     "iopub.execute_input": "2021-12-15T00:03:10.370241Z",
     "iopub.status.busy": "2021-12-15T00:03:10.369549Z",
     "iopub.status.idle": "2021-12-15T00:03:10.765155Z",
     "shell.execute_reply": "2021-12-15T00:03:10.765790Z"
    }
   },
   "outputs": [
    {
     "name": "stdout",
     "output_type": "stream",
     "text": [
      "Saving plots to results/viral_fastq10x/scProgenyProduction_trial3_valid_viral_barcodes_by_cell.pdf\n",
      "Saving filtered barcodes to results/viral_fastq10x/scProgenyProduction_trial3_valid_viral_bc_by_cell.csv.gz\n"
     ]
    }
   ],
   "source": [
    "print(f\"Saving plots to {plot}\")\n",
    "p9.ggsave(plot=output_fig, filename=plot, verbose=False)\n",
    "\n",
    "print(f\"Saving filtered barcodes to {valid_viral_barcodes_csv}\")\n",
    "\n",
    "# Export valid cell barcode-viral barcodes pairs\n",
    "(viral_bc_frac\n",
    " .query('valid_viral_bc == True')\n",
    " .to_csv(valid_viral_barcodes_csv,\n",
    "         columns=['cell_barcode',\n",
    "                  'gene',\n",
    "                  'viral_barcode',\n",
    "                  'valid_viral_bc'],\n",
    "         index=False))"
   ]
  },
  {
   "cell_type": "code",
   "execution_count": null,
   "metadata": {},
   "outputs": [],
   "source": []
  }
 ],
 "metadata": {
  "kernelspec": {
   "display_name": "Python 3",
   "language": "python",
   "name": "python3"
  },
  "language_info": {
   "codemirror_mode": {
    "name": "ipython",
    "version": 3
   },
   "file_extension": ".py",
   "mimetype": "text/x-python",
   "name": "python",
   "nbconvert_exporter": "python",
   "pygments_lexer": "ipython3",
   "version": "3.8.6"
  }
 },
 "nbformat": 4,
 "nbformat_minor": 4
}
