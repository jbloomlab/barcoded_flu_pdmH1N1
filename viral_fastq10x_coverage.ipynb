{
 "cells": [
  {
   "cell_type": "markdown",
   "metadata": {
    "papermill": {
     "duration": 0.017554,
     "end_time": "2019-12-25T01:13:57.018532",
     "exception": false,
     "start_time": "2019-12-25T01:13:57.000978",
     "status": "completed"
    },
    "tags": []
   },
   "source": [
    "# Coverage of viral tags and barcodes by Illumina 10X reads\n",
    "This Python Jupyter notebook examines where the 10X aligned FASTQ reads fall on the viral genes (coverage) with respect to viral barcodes and viral tags.\n",
    "It also writes information on the locations of the viral barcodes and tags in the viral genes."
   ]
  },
  {
   "cell_type": "markdown",
   "metadata": {
    "papermill": {
     "duration": 0.013627,
     "end_time": "2019-12-25T01:13:57.047099",
     "exception": false,
     "start_time": "2019-12-25T01:13:57.033472",
     "status": "completed"
    },
    "tags": []
   },
   "source": [
    "## Parameters\n",
    "First, set the parameters for the notebook, such as to specify the input files and output plots.\n",
    "This is done in the next cell, which is tagged as a `parameters` cell to enable [papermill parameterization](https://papermill.readthedocs.io/en/latest/usage-parameterize.html):"
   ]
  },
  {
   "cell_type": "code",
   "execution_count": 1,
   "metadata": {
    "papermill": {
     "duration": 0.020128,
     "end_time": "2019-12-25T01:13:57.081478",
     "exception": false,
     "start_time": "2019-12-25T01:13:57.061350",
     "status": "completed"
    },
    "tags": [
     "parameters"
    ]
   },
   "outputs": [],
   "source": [
    "# parameters cell; in order for notebook to run this cell must define:\n",
    "#  - samples_10x: list of 10X samples\n",
    "#  - input_fastq10x_bams: list of BAM file with alignments of 10X reads for each sample\n",
    "#  - input_fastq10x_bais: BAM indices for each file in `input_fastq10x_bam`\n",
    "#  - input_viral_genbank: Genbank file with annotated viral genes\n",
    "#  - output_viraltag_locs: output file with location of viral tags (1, ..., numbering)\n",
    "#  - output_viralbc_locs: output file with location of viral barcodes (1, ..., numbering)\n"
   ]
  },
  {
   "cell_type": "code",
   "execution_count": 2,
   "metadata": {
    "papermill": {
     "duration": 0.020337,
     "end_time": "2019-12-25T01:13:57.115611",
     "exception": false,
     "start_time": "2019-12-25T01:13:57.095274",
     "status": "completed"
    },
    "tags": [
     "injected-parameters"
    ]
   },
   "outputs": [],
   "source": [
    "# Parameters\n",
    "samples_10x = [\"wt_virus_pilot\"]\n",
    "input_fastq10x_bams = [\"results/aligned_fastq10x/wt_virus_pilot/Aligned.sortedByCoord.out.bam\"]\n",
    "input_fastq10x_bais = [\"results/aligned_fastq10x/wt_virus_pilot/Aligned.sortedByCoord.out.bam.bai\"]\n",
    "input_viral_genbank = \"data/flu_sequences/flu-CA09.gb\"\n",
    "output_viraltag_locs = \"results/viral_fastq10x/viraltag_locs.csv\"\n",
    "output_viralbc_locs = \"results/viral_fastq10x/viralbc_locs.csv\"\n"
   ]
  },
  {
   "cell_type": "markdown",
   "metadata": {
    "papermill": {
     "duration": 0.013643,
     "end_time": "2019-12-25T01:13:57.143012",
     "exception": false,
     "start_time": "2019-12-25T01:13:57.129369",
     "status": "completed"
    },
    "tags": []
   },
   "source": [
    "Check input lists all the right length, then make dicts that map sample names to BAM and BAM index files:"
   ]
  },
  {
   "cell_type": "code",
   "execution_count": 3,
   "metadata": {
    "papermill": {
     "duration": 0.020309,
     "end_time": "2019-12-25T01:13:57.177410",
     "exception": false,
     "start_time": "2019-12-25T01:13:57.157101",
     "status": "completed"
    },
    "tags": []
   },
   "outputs": [],
   "source": [
    "assert len(samples_10x) == len(input_fastq10x_bams) == len(input_fastq10x_bais)\n",
    "\n",
    "fastq10x_bams = dict(zip(samples_10x, input_fastq10x_bams))\n",
    "fastq10x_bais = dict(zip(samples_10x, input_fastq10x_bais))"
   ]
  },
  {
   "cell_type": "markdown",
   "metadata": {
    "papermill": {
     "duration": 0.014058,
     "end_time": "2019-12-25T01:13:57.206235",
     "exception": false,
     "start_time": "2019-12-25T01:13:57.192177",
     "status": "completed"
    },
    "tags": []
   },
   "source": [
    "## Import Python modules\n",
    "We use [pysam](https://pysam.readthedocs.io/) to plot process the BAM files, [dna_features_viewer](https://edinburgh-genome-foundry.github.io/DnaFeaturesViewer/) for genes, and [plotnine](https://plotnine.readthedocs.io/) for some ggplot2-style plotting:"
   ]
  },
  {
   "cell_type": "code",
   "execution_count": 4,
   "metadata": {
    "papermill": {
     "duration": 9.227394,
     "end_time": "2019-12-25T01:14:06.447638",
     "exception": false,
     "start_time": "2019-12-25T01:13:57.220244",
     "status": "completed"
    },
    "tags": []
   },
   "outputs": [],
   "source": [
    "import collections\n",
    "import itertools\n",
    "\n",
    "import Bio.SeqIO\n",
    "\n",
    "from IPython.display import display, HTML\n",
    "\n",
    "import mizani\n",
    "\n",
    "import pandas as pd\n",
    "\n",
    "from plotnine import *\n",
    "\n",
    "import pysam"
   ]
  },
  {
   "cell_type": "markdown",
   "metadata": {
    "papermill": {
     "duration": 0.013243,
     "end_time": "2019-12-25T01:14:06.475996",
     "exception": false,
     "start_time": "2019-12-25T01:14:06.462753",
     "status": "completed"
    },
    "tags": []
   },
   "source": [
    "Color-blind palette:"
   ]
  },
  {
   "cell_type": "code",
   "execution_count": 5,
   "metadata": {
    "papermill": {
     "duration": 0.018517,
     "end_time": "2019-12-25T01:14:06.508508",
     "exception": false,
     "start_time": "2019-12-25T01:14:06.489991",
     "status": "completed"
    },
    "tags": []
   },
   "outputs": [],
   "source": [
    "cbpalette = ('#999999', '#E69F00', '#56B4E9', '#009E73',\n",
    "             '#F0E442', '#0072B2', '#D55E00', '#CC79A7')"
   ]
  },
  {
   "cell_type": "markdown",
   "metadata": {
    "papermill": {
     "duration": 0.050623,
     "end_time": "2019-12-25T01:14:06.573033",
     "exception": false,
     "start_time": "2019-12-25T01:14:06.522410",
     "status": "completed"
    },
    "tags": []
   },
   "source": [
    "Set [plotnine theme](https://plotnine.readthedocs.io/en/stable/api.html#themes):"
   ]
  },
  {
   "cell_type": "code",
   "execution_count": 6,
   "metadata": {
    "papermill": {
     "duration": 0.018406,
     "end_time": "2019-12-25T01:14:06.641474",
     "exception": false,
     "start_time": "2019-12-25T01:14:06.623068",
     "status": "completed"
    },
    "tags": []
   },
   "outputs": [],
   "source": [
    "_ = theme_set(theme_classic)"
   ]
  },
  {
   "cell_type": "markdown",
   "metadata": {
    "papermill": {
     "duration": 0.013283,
     "end_time": "2019-12-25T01:14:06.668252",
     "exception": false,
     "start_time": "2019-12-25T01:14:06.654969",
     "status": "completed"
    },
    "tags": []
   },
   "source": [
    "## Read the viral genes\n",
    "Get all the viral genes as [BioPython SeqRecords](https://biopython.org/wiki/SeqRecord):"
   ]
  },
  {
   "cell_type": "code",
   "execution_count": 7,
   "metadata": {
    "papermill": {
     "duration": 0.070866,
     "end_time": "2019-12-25T01:14:06.752481",
     "exception": false,
     "start_time": "2019-12-25T01:14:06.681615",
     "status": "completed"
    },
    "tags": []
   },
   "outputs": [
    {
     "name": "stdout",
     "output_type": "stream",
     "text": [
      "Reading viral genes from data/flu_sequences/flu-CA09.gb\n",
      "Found 8 viral genes:\n",
      "\tfluPB2\n",
      "\tfluPB1\n",
      "\tfluPA\n",
      "\tfluHA\n",
      "\tfluNP\n",
      "\tfluNA\n",
      "\tfluM\n",
      "\tfluNS\n"
     ]
    }
   ],
   "source": [
    "print(f\"Reading viral genes from {input_viral_genbank}\")\n",
    "viral_genes = list(Bio.SeqIO.parse(input_viral_genbank, 'genbank'))\n",
    "viral_gene_names = [s.id for s in viral_genes]\n",
    "print(f\"Found {len(viral_gene_names)} viral genes:\\n\\t\" +\n",
    "      '\\n\\t'.join(viral_gene_names))\n",
    "assert len(viral_genes) == len(set(viral_gene_names)), 'viral gene names not unique'"
   ]
  },
  {
   "cell_type": "markdown",
   "metadata": {
    "papermill": {
     "duration": 0.014751,
     "end_time": "2019-12-25T01:14:06.781717",
     "exception": false,
     "start_time": "2019-12-25T01:14:06.766966",
     "status": "completed"
    },
    "tags": []
   },
   "source": [
    "## Get viral tag and barcode locations\n",
    "Get the locations of the viral tags and barcodes for each gene in 1-based indexing inclusive of the first and last number (so the type of numbering that Genbank files use):"
   ]
  },
  {
   "cell_type": "code",
   "execution_count": 8,
   "metadata": {
    "papermill": {
     "duration": 0.230034,
     "end_time": "2019-12-25T01:14:07.065372",
     "exception": false,
     "start_time": "2019-12-25T01:14:06.835338",
     "status": "completed"
    },
    "tags": []
   },
   "outputs": [
    {
     "name": "stdout",
     "output_type": "stream",
     "text": [
      "\n",
      "Viral tag locations; writing to results/viral_fastq10x/viraltag_locs.csv\n"
     ]
    },
    {
     "data": {
      "text/html": [
       "<table border=\"1\" class=\"dataframe\">\n",
       "  <thead>\n",
       "    <tr style=\"text-align: right;\">\n",
       "      <th>gene</th>\n",
       "      <th>tag_name</th>\n",
       "      <th>start</th>\n",
       "      <th>end</th>\n",
       "    </tr>\n",
       "  </thead>\n",
       "  <tbody>\n",
       "    <tr>\n",
       "      <td>fluPB2</td>\n",
       "      <td>viral_tag_1</td>\n",
       "      <td>201</td>\n",
       "      <td>201</td>\n",
       "    </tr>\n",
       "    <tr>\n",
       "      <td>fluPB2</td>\n",
       "      <td>viral_tag_2</td>\n",
       "      <td>2190</td>\n",
       "      <td>2190</td>\n",
       "    </tr>\n",
       "    <tr>\n",
       "      <td>fluPB1</td>\n",
       "      <td>viral_tag_1</td>\n",
       "      <td>192</td>\n",
       "      <td>192</td>\n",
       "    </tr>\n",
       "    <tr>\n",
       "      <td>fluPB1</td>\n",
       "      <td>viral_tag_2</td>\n",
       "      <td>2205</td>\n",
       "      <td>2205</td>\n",
       "    </tr>\n",
       "    <tr>\n",
       "      <td>fluPA</td>\n",
       "      <td>viral_tag_1</td>\n",
       "      <td>123</td>\n",
       "      <td>123</td>\n",
       "    </tr>\n",
       "    <tr>\n",
       "      <td>fluPA</td>\n",
       "      <td>viral_tag_2</td>\n",
       "      <td>2104</td>\n",
       "      <td>2104</td>\n",
       "    </tr>\n",
       "    <tr>\n",
       "      <td>fluHA</td>\n",
       "      <td>viral_tag_1</td>\n",
       "      <td>249</td>\n",
       "      <td>249</td>\n",
       "    </tr>\n",
       "    <tr>\n",
       "      <td>fluHA</td>\n",
       "      <td>viral_tag_2</td>\n",
       "      <td>1686</td>\n",
       "      <td>1686</td>\n",
       "    </tr>\n",
       "    <tr>\n",
       "      <td>fluNP</td>\n",
       "      <td>viral_tag_1</td>\n",
       "      <td>132</td>\n",
       "      <td>132</td>\n",
       "    </tr>\n",
       "    <tr>\n",
       "      <td>fluNP</td>\n",
       "      <td>viral_tag_2</td>\n",
       "      <td>1407</td>\n",
       "      <td>1407</td>\n",
       "    </tr>\n",
       "    <tr>\n",
       "      <td>fluNA</td>\n",
       "      <td>viral_tag_1</td>\n",
       "      <td>242</td>\n",
       "      <td>242</td>\n",
       "    </tr>\n",
       "    <tr>\n",
       "      <td>fluNA</td>\n",
       "      <td>viral_tag_2</td>\n",
       "      <td>818</td>\n",
       "      <td>818</td>\n",
       "    </tr>\n",
       "    <tr>\n",
       "      <td>fluNA</td>\n",
       "      <td>viral_tag_3</td>\n",
       "      <td>827</td>\n",
       "      <td>827</td>\n",
       "    </tr>\n",
       "    <tr>\n",
       "      <td>fluNA</td>\n",
       "      <td>viral_tag_4</td>\n",
       "      <td>828</td>\n",
       "      <td>828</td>\n",
       "    </tr>\n",
       "    <tr>\n",
       "      <td>fluNA</td>\n",
       "      <td>viral_tag_5</td>\n",
       "      <td>829</td>\n",
       "      <td>829</td>\n",
       "    </tr>\n",
       "    <tr>\n",
       "      <td>fluNA</td>\n",
       "      <td>viral_tag_6</td>\n",
       "      <td>830</td>\n",
       "      <td>830</td>\n",
       "    </tr>\n",
       "    <tr>\n",
       "      <td>fluNA</td>\n",
       "      <td>viral_tag_7</td>\n",
       "      <td>1247</td>\n",
       "      <td>1247</td>\n",
       "    </tr>\n",
       "    <tr>\n",
       "      <td>fluNA</td>\n",
       "      <td>viral_tag_8</td>\n",
       "      <td>1400</td>\n",
       "      <td>1400</td>\n",
       "    </tr>\n",
       "    <tr>\n",
       "      <td>fluM</td>\n",
       "      <td>viral_tag_1</td>\n",
       "      <td>100</td>\n",
       "      <td>100</td>\n",
       "    </tr>\n",
       "    <tr>\n",
       "      <td>fluM</td>\n",
       "      <td>viral_tag_2</td>\n",
       "      <td>950</td>\n",
       "      <td>950</td>\n",
       "    </tr>\n",
       "    <tr>\n",
       "      <td>fluNS</td>\n",
       "      <td>viral_tag_1</td>\n",
       "      <td>80</td>\n",
       "      <td>80</td>\n",
       "    </tr>\n",
       "    <tr>\n",
       "      <td>fluNS</td>\n",
       "      <td>viral_tag_2</td>\n",
       "      <td>804</td>\n",
       "      <td>804</td>\n",
       "    </tr>\n",
       "  </tbody>\n",
       "</table>"
      ],
      "text/plain": [
       "<IPython.core.display.HTML object>"
      ]
     },
     "metadata": {},
     "output_type": "display_data"
    },
    {
     "name": "stdout",
     "output_type": "stream",
     "text": [
      "\n",
      "Viral barcode locations; writing to results/viral_fastq10x/viralbc_locs.csv\n"
     ]
    },
    {
     "data": {
      "text/html": [
       "<table border=\"1\" class=\"dataframe\">\n",
       "  <thead>\n",
       "    <tr style=\"text-align: right;\">\n",
       "      <th>gene</th>\n",
       "      <th>start</th>\n",
       "      <th>end</th>\n",
       "    </tr>\n",
       "  </thead>\n",
       "  <tbody>\n",
       "    <tr>\n",
       "      <td>fluHA</td>\n",
       "      <td>1828</td>\n",
       "      <td>1843</td>\n",
       "    </tr>\n",
       "    <tr>\n",
       "      <td>fluNA</td>\n",
       "      <td>1551</td>\n",
       "      <td>1566</td>\n",
       "    </tr>\n",
       "  </tbody>\n",
       "</table>"
      ],
      "text/plain": [
       "<IPython.core.display.HTML object>"
      ]
     },
     "metadata": {},
     "output_type": "display_data"
    }
   ],
   "source": [
    "viraltag_df = []\n",
    "viralbc_df = []\n",
    "for seqrecord in viral_genes:\n",
    "    for f in seqrecord.features:\n",
    "        if f.type == 'viral_barcode':\n",
    "            viralbc_df.append([seqrecord.id, int(f.location.start) + 1, int(f.location.end)])\n",
    "        elif 'tag' in f.type:\n",
    "            viraltag_df.append((seqrecord.id, f.type, int(f.location.start) + 1, int(f.location.end)))\n",
    "            \n",
    "viraltag_df = pd.DataFrame.from_records(viraltag_df,\n",
    "                                        columns=['gene', 'tag_name', 'start', 'end'])\n",
    "assert len(viraltag_df) == len(viraltag_df.drop_duplicates())\n",
    "print(f\"\\nViral tag locations; writing to {output_viraltag_locs}\")\n",
    "viraltag_df.to_csv(output_viraltag_locs, index=False)\n",
    "display(HTML(viraltag_df.to_html(index=False)))\n",
    "\n",
    "viralbc_df = pd.DataFrame.from_records(viralbc_df,\n",
    "                                       columns=['gene', 'start', 'end'])\n",
    "assert len(viralbc_df) == len(viralbc_df.drop_duplicates())\n",
    "print(f\"\\nViral barcode locations; writing to {output_viralbc_locs}\")\n",
    "viralbc_df.to_csv(output_viralbc_locs, index=False)\n",
    "display(HTML(viralbc_df.to_html(index=False)))"
   ]
  },
  {
   "cell_type": "markdown",
   "metadata": {
    "papermill": {
     "duration": 0.015322,
     "end_time": "2019-12-25T01:14:07.095735",
     "exception": false,
     "start_time": "2019-12-25T01:14:07.080413",
     "status": "completed"
    },
    "tags": []
   },
   "source": [
    "## Get alignment statistics for each gene and sample\n",
    "Use [pysam](https://pysam.readthedocs.io/) to get the following dataframes:\n",
    " - `nreads_df`: total number of reads aligned to each gene in each sample\n",
    " - `coverage_df`: coverage at each site for each viral gene in each sample\n",
    " - `readlen_df`: distribution of lengths of the **aligned** portion of reads (not including soft-clipped bases) for each gene in each sample"
   ]
  },
  {
   "cell_type": "code",
   "execution_count": 9,
   "metadata": {
    "papermill": {
     "duration": 4.374308,
     "end_time": "2019-12-25T01:14:11.484849",
     "exception": false,
     "start_time": "2019-12-25T01:14:07.110541",
     "status": "completed"
    },
    "tags": []
   },
   "outputs": [
    {
     "name": "stdout",
     "output_type": "stream",
     "text": [
      "Getting statistics for fluPB2 in wt_virus_pilot from results/aligned_fastq10x/wt_virus_pilot/Aligned.sortedByCoord.out.bam\n",
      "Getting statistics for fluPB1 in wt_virus_pilot from results/aligned_fastq10x/wt_virus_pilot/Aligned.sortedByCoord.out.bam\n",
      "Getting statistics for fluPA in wt_virus_pilot from results/aligned_fastq10x/wt_virus_pilot/Aligned.sortedByCoord.out.bam\n",
      "Getting statistics for fluHA in wt_virus_pilot from results/aligned_fastq10x/wt_virus_pilot/Aligned.sortedByCoord.out.bam\n",
      "Getting statistics for fluNP in wt_virus_pilot from results/aligned_fastq10x/wt_virus_pilot/Aligned.sortedByCoord.out.bam\n",
      "Getting statistics for fluNA in wt_virus_pilot from results/aligned_fastq10x/wt_virus_pilot/Aligned.sortedByCoord.out.bam\n",
      "Getting statistics for fluM in wt_virus_pilot from results/aligned_fastq10x/wt_virus_pilot/Aligned.sortedByCoord.out.bam\n",
      "Getting statistics for fluNS in wt_virus_pilot from results/aligned_fastq10x/wt_virus_pilot/Aligned.sortedByCoord.out.bam\n",
      "\n",
      "First few lines of `nreads_df`:\n"
     ]
    },
    {
     "data": {
      "text/html": [
       "<table border=\"1\" class=\"dataframe\">\n",
       "  <thead>\n",
       "    <tr style=\"text-align: right;\">\n",
       "      <th>gene</th>\n",
       "      <th>sample</th>\n",
       "      <th>nreads</th>\n",
       "    </tr>\n",
       "  </thead>\n",
       "  <tbody>\n",
       "    <tr>\n",
       "      <td>fluPB2</td>\n",
       "      <td>wt_virus_pilot</td>\n",
       "      <td>2311</td>\n",
       "    </tr>\n",
       "    <tr>\n",
       "      <td>fluPB1</td>\n",
       "      <td>wt_virus_pilot</td>\n",
       "      <td>6512</td>\n",
       "    </tr>\n",
       "    <tr>\n",
       "      <td>fluPA</td>\n",
       "      <td>wt_virus_pilot</td>\n",
       "      <td>2042</td>\n",
       "    </tr>\n",
       "    <tr>\n",
       "      <td>fluHA</td>\n",
       "      <td>wt_virus_pilot</td>\n",
       "      <td>14763</td>\n",
       "    </tr>\n",
       "    <tr>\n",
       "      <td>fluNP</td>\n",
       "      <td>wt_virus_pilot</td>\n",
       "      <td>46120</td>\n",
       "    </tr>\n",
       "  </tbody>\n",
       "</table>"
      ],
      "text/plain": [
       "<IPython.core.display.HTML object>"
      ]
     },
     "metadata": {},
     "output_type": "display_data"
    },
    {
     "name": "stdout",
     "output_type": "stream",
     "text": [
      "\n",
      "First few lines of `coverage_df`:\n"
     ]
    },
    {
     "data": {
      "text/html": [
       "<table border=\"1\" class=\"dataframe\">\n",
       "  <thead>\n",
       "    <tr style=\"text-align: right;\">\n",
       "      <th>A</th>\n",
       "      <th>C</th>\n",
       "      <th>G</th>\n",
       "      <th>T</th>\n",
       "      <th>coverage</th>\n",
       "      <th>site</th>\n",
       "      <th>gene</th>\n",
       "      <th>sample</th>\n",
       "    </tr>\n",
       "  </thead>\n",
       "  <tbody>\n",
       "    <tr>\n",
       "      <td>34</td>\n",
       "      <td>0</td>\n",
       "      <td>0</td>\n",
       "      <td>0</td>\n",
       "      <td>34</td>\n",
       "      <td>1</td>\n",
       "      <td>fluPB2</td>\n",
       "      <td>wt_virus_pilot</td>\n",
       "    </tr>\n",
       "    <tr>\n",
       "      <td>0</td>\n",
       "      <td>0</td>\n",
       "      <td>90</td>\n",
       "      <td>0</td>\n",
       "      <td>90</td>\n",
       "      <td>2</td>\n",
       "      <td>fluPB2</td>\n",
       "      <td>wt_virus_pilot</td>\n",
       "    </tr>\n",
       "    <tr>\n",
       "      <td>0</td>\n",
       "      <td>87</td>\n",
       "      <td>0</td>\n",
       "      <td>0</td>\n",
       "      <td>87</td>\n",
       "      <td>3</td>\n",
       "      <td>fluPB2</td>\n",
       "      <td>wt_virus_pilot</td>\n",
       "    </tr>\n",
       "    <tr>\n",
       "      <td>0</td>\n",
       "      <td>0</td>\n",
       "      <td>91</td>\n",
       "      <td>0</td>\n",
       "      <td>91</td>\n",
       "      <td>4</td>\n",
       "      <td>fluPB2</td>\n",
       "      <td>wt_virus_pilot</td>\n",
       "    </tr>\n",
       "    <tr>\n",
       "      <td>89</td>\n",
       "      <td>0</td>\n",
       "      <td>0</td>\n",
       "      <td>0</td>\n",
       "      <td>89</td>\n",
       "      <td>5</td>\n",
       "      <td>fluPB2</td>\n",
       "      <td>wt_virus_pilot</td>\n",
       "    </tr>\n",
       "  </tbody>\n",
       "</table>"
      ],
      "text/plain": [
       "<IPython.core.display.HTML object>"
      ]
     },
     "metadata": {},
     "output_type": "display_data"
    },
    {
     "name": "stdout",
     "output_type": "stream",
     "text": [
      "\n",
      "First few lines of `readlen_df`:\n"
     ]
    },
    {
     "data": {
      "text/html": [
       "<table border=\"1\" class=\"dataframe\">\n",
       "  <thead>\n",
       "    <tr style=\"text-align: right;\">\n",
       "      <th>gene</th>\n",
       "      <th>sample</th>\n",
       "      <th>aligned_read_length</th>\n",
       "      <th>nreads</th>\n",
       "    </tr>\n",
       "  </thead>\n",
       "  <tbody>\n",
       "    <tr>\n",
       "      <td>fluPB2</td>\n",
       "      <td>wt_virus_pilot</td>\n",
       "      <td>81</td>\n",
       "      <td>31</td>\n",
       "    </tr>\n",
       "    <tr>\n",
       "      <td>fluPB2</td>\n",
       "      <td>wt_virus_pilot</td>\n",
       "      <td>82</td>\n",
       "      <td>24</td>\n",
       "    </tr>\n",
       "    <tr>\n",
       "      <td>fluPB2</td>\n",
       "      <td>wt_virus_pilot</td>\n",
       "      <td>83</td>\n",
       "      <td>17</td>\n",
       "    </tr>\n",
       "    <tr>\n",
       "      <td>fluPB2</td>\n",
       "      <td>wt_virus_pilot</td>\n",
       "      <td>84</td>\n",
       "      <td>9</td>\n",
       "    </tr>\n",
       "    <tr>\n",
       "      <td>fluPB2</td>\n",
       "      <td>wt_virus_pilot</td>\n",
       "      <td>85</td>\n",
       "      <td>8</td>\n",
       "    </tr>\n",
       "  </tbody>\n",
       "</table>"
      ],
      "text/plain": [
       "<IPython.core.display.HTML object>"
      ]
     },
     "metadata": {},
     "output_type": "display_data"
    }
   ],
   "source": [
    "coverage_list = []\n",
    "nreads_list = []\n",
    "readlen_list = []\n",
    "\n",
    "for viral_gene, sample10x in itertools.product(viral_genes, samples_10x):\n",
    "    gene_name = viral_gene.id\n",
    "    bam = fastq10x_bams[sample10x]\n",
    "    bai = fastq10x_bais[sample10x]\n",
    "    print(f\"Getting statistics for {gene_name} in {sample10x} from {bam}\")\n",
    "    \n",
    "    with pysam.AlignmentFile(bam, mode='rb', index_filename=bai) as bamfile:\n",
    "        if len(viral_gene) != bamfile.get_reference_length(gene_name):\n",
    "            raise ValueError(f\"length of {gene_name} not as expected in {bam}\")\n",
    "            \n",
    "        nreads_list.append(\n",
    "                pd.DataFrame({'gene': [gene_name],\n",
    "                              'sample': [sample10x],\n",
    "                              'nreads': [bamfile.count(contig=gene_name)],\n",
    "                              })\n",
    "                ) \n",
    "\n",
    "        coverage_list.append(\n",
    "                pd.DataFrame(dict(zip('ACGT',\n",
    "                                      bamfile.count_coverage(contig=gene_name))))\n",
    "                .assign(coverage=lambda x: x.sum(axis=1),\n",
    "                        site=lambda x: x.index + 1,\n",
    "                        gene=gene_name,\n",
    "                        sample=sample10x)\n",
    "                )\n",
    "        \n",
    "        readlens = collections.defaultdict(int)\n",
    "        for read in bamfile.fetch(contig=gene_name):\n",
    "            readlens[read.query_alignment_length] += 1\n",
    "        readlen_list.append(\n",
    "                pd.DataFrame.from_records(list(readlens.items()),\n",
    "                                          columns=['aligned_read_length', 'nreads'])\n",
    "                .assign(gene=gene_name,\n",
    "                        sample=sample10x)\n",
    "                .sort_values('aligned_read_length')\n",
    "                [['gene', 'sample', 'aligned_read_length', 'nreads']]\n",
    "                )\n",
    "        \n",
    "nreads_df = (pd.concat(nreads_list, sort=False, ignore_index=True)\n",
    "             .assign(gene=lambda x: pd.Categorical(x['gene'],\n",
    "                                                   viral_gene_names,\n",
    "                                                   ordered=True))\n",
    "             )\n",
    "print('\\nFirst few lines of `nreads_df`:')\n",
    "display(HTML(nreads_df.head().to_html(index=False)))\n",
    "        \n",
    "coverage_df = (pd.concat(coverage_list, sort=False, ignore_index=True)\n",
    "               .assign(gene=lambda x: pd.Categorical(x['gene'],\n",
    "                                                     viral_gene_names,\n",
    "                                                     ordered=True))\n",
    "               )\n",
    "print('\\nFirst few lines of `coverage_df`:')\n",
    "display(HTML(coverage_df.head().to_html(index=False)))\n",
    "\n",
    "readlen_df = (pd.concat(readlen_list, sort=False, ignore_index=True)\n",
    "              .assign(gene=lambda x: pd.Categorical(x['gene'],\n",
    "                                                    viral_gene_names,\n",
    "                                                    ordered=True))\n",
    "              )\n",
    "print('\\nFirst few lines of `readlen_df`:')\n",
    "display(HTML(readlen_df.head().to_html(index=False)))"
   ]
  },
  {
   "cell_type": "markdown",
   "metadata": {
    "papermill": {
     "duration": 0.01816,
     "end_time": "2019-12-25T01:14:11.523318",
     "exception": false,
     "start_time": "2019-12-25T01:14:11.505158",
     "status": "completed"
    },
    "tags": []
   },
   "source": [
    "Sanity check to make sure we got the right number of sites for each gene in `coverage_df`:"
   ]
  },
  {
   "cell_type": "code",
   "execution_count": 10,
   "metadata": {
    "papermill": {
     "duration": 0.08006,
     "end_time": "2019-12-25T01:14:11.621318",
     "exception": false,
     "start_time": "2019-12-25T01:14:11.541258",
     "status": "completed"
    },
    "tags": []
   },
   "outputs": [],
   "source": [
    "for viral_gene in viral_genes:\n",
    "    gene_name = viral_gene.id\n",
    "    lengths = (coverage_df\n",
    "               .query('gene == @gene_name')\n",
    "               .groupby('sample')\n",
    "               .size()\n",
    "               .values\n",
    "               )\n",
    "    if not all(lengths == len(viral_gene)):\n",
    "        raise ValueError(f\"coverage not for expected number sites for {gene_name}\")"
   ]
  },
  {
   "cell_type": "markdown",
   "metadata": {
    "papermill": {
     "duration": 0.018873,
     "end_time": "2019-12-25T01:14:11.668266",
     "exception": false,
     "start_time": "2019-12-25T01:14:11.649393",
     "status": "completed"
    },
    "tags": []
   },
   "source": [
    "Sanity check to make sure `nreads_df` and `readlen_df` have same number of reads:"
   ]
  },
  {
   "cell_type": "code",
   "execution_count": 11,
   "metadata": {
    "papermill": {
     "duration": 0.048741,
     "end_time": "2019-12-25T01:14:11.735155",
     "exception": false,
     "start_time": "2019-12-25T01:14:11.686414",
     "status": "completed"
    },
    "tags": []
   },
   "outputs": [],
   "source": [
    "nreads_n = nreads_df.sort_values(['gene', 'sample'])['nreads'].values\n",
    "readlen_n = (readlen_df\n",
    "             .groupby(['gene', 'sample'])\n",
    "             .aggregate({'nreads': 'sum'})\n",
    "             ['nreads']\n",
    "             .values\n",
    "             )\n",
    "if not all(nreads_n == readlen_n):\n",
    "    raise ValueError('nreads differ for `nreads_df` and `readlen_df`')"
   ]
  },
  {
   "cell_type": "markdown",
   "metadata": {
    "papermill": {
     "duration": 0.018131,
     "end_time": "2019-12-25T01:14:11.772389",
     "exception": false,
     "start_time": "2019-12-25T01:14:11.754258",
     "status": "completed"
    },
    "tags": []
   },
   "source": [
    "## Total reads per viral gene\n",
    "Plot the total number of aligned reads for each viral gene:"
   ]
  },
  {
   "cell_type": "code",
   "execution_count": 12,
   "metadata": {
    "papermill": {
     "duration": 5.066289,
     "end_time": "2019-12-25T01:14:16.857180",
     "exception": false,
     "start_time": "2019-12-25T01:14:11.790891",
     "status": "completed"
    },
    "tags": []
   },
   "outputs": [
    {
     "data": {
      "image/png": "[encoded data removed]",
      "text/plain": [
       "<Figure size 250x200 with 1 Axes>"
      ]
     },
     "metadata": {},
     "output_type": "display_data"
    }
   ],
   "source": [
    "p = (ggplot(nreads_df, aes('gene', 'nreads')) +\n",
    "     geom_bar(stat='identity') +\n",
    "     facet_wrap('~ sample', nrow=1) +\n",
    "     theme(figure_size=(2.5 * len(samples_10x), 2),\n",
    "           axis_text_x=element_text(angle=90)) +\n",
    "     scale_y_continuous(labels=mizani.formatters.scientific_format(),\n",
    "                        name='number aligned reads')\n",
    "     )\n",
    "\n",
    "_ = p.draw()"
   ]
  },
  {
   "cell_type": "markdown",
   "metadata": {
    "papermill": {
     "duration": 0.019039,
     "end_time": "2019-12-25T01:14:16.896868",
     "exception": false,
     "start_time": "2019-12-25T01:14:16.877829",
     "status": "completed"
    },
    "tags": []
   },
   "source": [
    "## Lengths of aligned reads for each viral gene\n",
    "Plot the distribution of the lengths of the **aligned** portions of each read for each viral gene:"
   ]
  },
  {
   "cell_type": "code",
   "execution_count": 13,
   "metadata": {
    "papermill": {
     "duration": 14.252955,
     "end_time": "2019-12-25T01:14:31.168699",
     "exception": false,
     "start_time": "2019-12-25T01:14:16.915744",
     "status": "completed"
    },
    "tags": []
   },
   "outputs": [
    {
     "data": {
      "image/png": "[encoded data removed]",
      "text/plain": [
       "<Figure size 200x800 with 8 Axes>"
      ]
     },
     "metadata": {},
     "output_type": "display_data"
    }
   ],
   "source": [
    "p = (ggplot(readlen_df, aes('aligned_read_length', 'nreads')) +\n",
    "     geom_bar(stat='identity') +\n",
    "     facet_grid('gene ~ sample', scales='free_y') +\n",
    "     theme(figure_size=(2 * len(samples_10x), 1 * len(viral_gene_names)),\n",
    "           axis_text_x=element_text(angle=90)) +\n",
    "     scale_y_continuous(labels=mizani.formatters.scientific_format())\n",
    "     )\n",
    "\n",
    "_ = p.draw()"
   ]
  },
  {
   "cell_type": "markdown",
   "metadata": {
    "papermill": {
     "duration": 0.019099,
     "end_time": "2019-12-25T01:14:31.209030",
     "exception": false,
     "start_time": "2019-12-25T01:14:31.189931",
     "status": "completed"
    },
    "tags": []
   },
   "source": [
    "## Coverage per site, including over viral tags and barcodes\n",
    "Now plot coverage per site alongside gene structure.\n",
    "In this plot, we indicate the viral tags (blue) and viral barcodes (orange):"
   ]
  },
  {
   "cell_type": "code",
   "execution_count": 14,
   "metadata": {
    "papermill": {
     "duration": 15.940943,
     "end_time": "2019-12-25T01:14:47.169076",
     "exception": false,
     "start_time": "2019-12-25T01:14:31.228133",
     "status": "completed"
    },
    "tags": []
   },
   "outputs": [],
   "source": [
    "import itertools\n",
    "import re\n",
    "\n",
    "import Bio.Data.IUPACData\n",
    "\n",
    "import dna_features_viewer\n",
    "\n",
    "import matplotlib\n",
    "import matplotlib.pyplot as plt\n",
    "\n",
    "def plot_genes_and_coverage(genes,\n",
    "                            coverage_df,\n",
    "                            *,\n",
    "                            genes_relheight=0.3,\n",
    "                            gene_features={'exon': '#999999', \n",
    "                                           'viral_barcode': '#E69F00',\n",
    "                                           'viral_tag': '#56B4E9',\n",
    "                                           },\n",
    "                            full_gene_feature='exon',\n",
    "                            site_tick_interval=250,\n",
    "                            color_mutations=False,\n",
    "                            mutation_colors={'A': '#009E73',\n",
    "                                             'C': '#F0E442',\n",
    "                                             'G': '#0072B2',\n",
    "                                             'T': '#D55E00',\n",
    "                                             },\n",
    "                            figwidth=16,\n",
    "                            ):\n",
    "    \"\"\"Plot gene structure and coverage for one or more samples.\n",
    "    \n",
    "    Parameters\n",
    "    -----------\n",
    "    genes : list\n",
    "        `BioPython SeqRecord <https://biopython.org/wiki/SeqRecord>`_ for each gene.\n",
    "    coverage_df : pandas.DataFrame\n",
    "        Gives coverage at each site. Must have columns 'gene', 'sample', 'site', and\n",
    "        'coverage'. The entries in the 'gene' column should match the `id` attributes\n",
    "        of the SeqRecords in `genes`. Sites should be in 1, ... numbering.\n",
    "    genes_relheight : float\n",
    "        Relative height of top row with genes relative to coverage plots.\n",
    "    gene_features : dict\n",
    "        Which features in `genes` to plot. Keyed by regular expressions strings that match\n",
    "        `type` attributes of the SeqRecords in `genes`; values are colors for plotting.\n",
    "        Features with types not in `gene_features` are not plotted.\n",
    "    full_gene_feature : str\n",
    "        Name of feature in each gene that represents the full gene length. Must be in\n",
    "        `gene_features` too.\n",
    "    site_tick_interval : int\n",
    "        Frequency of ticks on x-axis giving site numbers.\n",
    "    color_mutations : bool\n",
    "        If `True`, overlay coverage plot colors showing frequency of each mutation at each site.\n",
    "        Mutation colors are **not** stacked, but are simply overlaid on the overall coverage and\n",
    "        each other. This requires `coverage_df` to have columns giving number of reads at each site\n",
    "        for each nucleotide. Note it only colors **mutant** identities; coverage at nucleotides\n",
    "        that match the wildtype identity in `genes` (which can be ambiguous) are not colored.\n",
    "    mutation_colors : dict\n",
    "        Colors for mutations if using `color_mutations`.\n",
    "    figwidth : float\n",
    "        Overall figure width in inches.\n",
    "    \n",
    "    Returns\n",
    "    --------\n",
    "    matplotlib.figure.Figure, matplotlib.axes.Axes\n",
    "        The figure and axes grid.\n",
    "    \n",
    "    \"\"\"\n",
    "    # check validity of genes and coverage\n",
    "    gene_names = {gene.id for gene in genes}\n",
    "    if len(genes) != len(set(gene_names)):\n",
    "        raise ValueError('genes in `genes` do not have unique IDs')\n",
    "    if set(coverage_df['gene']) != set(gene_names):\n",
    "        raise ValueError('`coverage_df` and `genes` do not have same sets of genes')\n",
    "    \n",
    "    # set up grid of subplots\n",
    "    gene_lengths = [len(gene) for gene in genes]\n",
    "    samples = list(coverage_df['sample'].unique())\n",
    "    fig, axes = plt.subplots(\n",
    "                    nrows=1 + len(samples),\n",
    "                    ncols=len(genes),\n",
    "                    sharex='col',\n",
    "                    gridspec_kw={'width_ratios': gene_lengths,\n",
    "                                 'height_ratios': [genes_relheight] + [1] * len(samples)},\n",
    "                    figsize=(figwidth, 1.5 * (len(samples) + genes_relheight) + 1.5),\n",
    "                    squeeze=False,\n",
    "                    )\n",
    "\n",
    "    # Convert genes to plottable graphic records\n",
    "    class ViralGeneTranslator(dna_features_viewer.BiopythonTranslator):\n",
    "        \"\"\"Translate BioPython SeqRecord into GraphicRecord.\"\"\" \n",
    "        def compute_feature_color(self, feature):\n",
    "            for regex, color in gene_features.items():\n",
    "                if re.search(regex, feature.type):\n",
    "                    return color\n",
    "\n",
    "        def compute_feature_label(self, feature):\n",
    "            return None\n",
    "    \n",
    "        def compute_filtered_features(self, features):\n",
    "            return [f for f in features if\n",
    "                    any(re.search(regex, f.type) for regex in gene_features.keys())]\n",
    "    \n",
    "    # plot the genes in the first row of the subplots\n",
    "    for ax, seqrecord in zip(axes[: 1,].ravel(), genes):\n",
    "        graphic_record = ViralGeneTranslator().translate_record(seqrecord)\n",
    "        for f in graphic_record.features:\n",
    "            f.linecolor = f.color\n",
    "        graphic_record.plot(ax=ax, with_ruler=False, draw_line=False)\n",
    "        ax.set_title(seqrecord.id, fontsize=15)\n",
    "\n",
    "    # plot coverage on subplots not in first row\n",
    "    full_gene_feature_regex = [regex for regex in gene_features.keys()\n",
    "                               if re.search(regex, full_gene_feature)]\n",
    "    if len(full_gene_feature_regex) != 1:\n",
    "        raise ValueError('could not find `full_gene_feature` in `gene_features`')\n",
    "    else:\n",
    "        full_gene_feature_regex = full_gene_feature_regex[0]\n",
    "    for ax, (sample, seqrecord) in zip(axes[1:,].ravel(),\n",
    "                                  itertools.product(samples, genes)):\n",
    "        gene = seqrecord.id\n",
    "        \n",
    "        # data frame of coverage for each site by nucleotide and whether it is wildtype\n",
    "        df = (coverage_df\n",
    "              .query('(sample == @sample) & (gene == @gene)')\n",
    "              .melt(id_vars=['sample', 'gene', 'site'],\n",
    "                    var_name='nucleotide',\n",
    "                    value_name='coverage')\n",
    "              .merge(pd.DataFrame.from_records(\n",
    "                      enumerate(str(seqrecord.seq), start=1),\n",
    "                      columns=['site', 'wildtype']),\n",
    "                     on='site')\n",
    "              .assign(\n",
    "                  wildtype=lambda x: x['wildtype'].map(Bio.Data.IUPACData.ambiguous_dna_values),\n",
    "                  is_wildtype=lambda x: x.apply(lambda r: r['nucleotide'] in r['wildtype'],\n",
    "                                                axis=1)\n",
    "                  )\n",
    "              )\n",
    "        \n",
    "        # plot coverage over full gene\n",
    "        (df\n",
    "         .query('nucleotide == \"coverage\"')\n",
    "         .plot(ax=ax,\n",
    "               x='site',\n",
    "               y='coverage',\n",
    "               kind='area',\n",
    "               legend=False,\n",
    "               color=gene_features[full_gene_feature_regex],\n",
    "               )\n",
    "         )\n",
    "        \n",
    "        # optionally overlay a plot for mutations\n",
    "        if color_mutations:\n",
    "            (df\n",
    "             .query('nucleotide != \"coverage\"')\n",
    "             .query('not is_wildtype')\n",
    "             .pivot_table(index='site',\n",
    "                          columns='nucleotide',\n",
    "                          values='coverage')\n",
    "             .fillna(0)\n",
    "             [list(mutation_colors)]\n",
    "             .reset_index()\n",
    "             .plot(ax=ax,\n",
    "                   x='site',\n",
    "                   kind='area',\n",
    "                   stacked=False,\n",
    "                   color=list(mutation_colors.values()),\n",
    "                   #lw=1,\n",
    "                   legend=False,\n",
    "                   )\n",
    "             )\n",
    "            \n",
    "        # set axes formatting\n",
    "        ax.set_ylabel(None)\n",
    "        ax.set_xlabel(None)\n",
    "        ax.ticklabel_format(axis='y', style='sci', scilimits=(0, 0), useMathText=True)\n",
    "        if sample == samples[-1]:\n",
    "            xticklocs = list(range(1, int(ax.get_xlim()[1]), site_tick_interval))\n",
    "            ax.set_xticks(ticks=xticklocs)\n",
    "            ax.tick_params(axis='x', labelrotation=90)\n",
    "        else:\n",
    "            ax.set_xticklabels([])\n",
    "\n",
    "        # plot rectangles for features of interest\n",
    "        ymin, ymax = ax.get_ylim()\n",
    "        for f in seqrecord.features:\n",
    "            for regex, color in gene_features.items():\n",
    "                if re.search(regex, f.type) and regex != full_gene_feature_regex:\n",
    "                    break\n",
    "            else:\n",
    "                continue\n",
    "            start = f.location.start\n",
    "            end = f.location.end\n",
    "            rect = matplotlib.patches.Rectangle(\n",
    "                                xy=(start - 0.5, ymin),\n",
    "                                width=end - start + 1,\n",
    "                                height=ymax,\n",
    "                                color=color,\n",
    "                                zorder=4,\n",
    "                                alpha=0.4)\n",
    "            ax.add_patch(rect)\n",
    "        \n",
    "    # shared x- and y-labels following here: https://stackoverflow.com/a/53172335\n",
    "    fig.add_subplot(111, frameon=False)\n",
    "    plt.tick_params(labelcolor='none', top=False, bottom=False, left=False, right=False)\n",
    "    plt.xlabel('\\nsite', size=14)\n",
    "    plt.ylabel('coverage          ', size=14)\n",
    "    \n",
    "    # add legend for features\n",
    "    plt.legend(handles=[matplotlib.patches.Patch(facecolor=color,\n",
    "                                                 edgecolor=color,\n",
    "                                                 label=regex)\n",
    "                        for regex, color in gene_features.items()\n",
    "                        if regex != full_gene_feature_regex],\n",
    "               bbox_to_anchor=(1.005, ((len(samples) + 0.5 * genes_relheight) /\n",
    "                                       (len(samples) + genes_relheight))),\n",
    "               bbox_transform=plt.gcf().transFigure,\n",
    "               fontsize=13,\n",
    "               handlelength=0.5,\n",
    "               )\n",
    "    \n",
    "    fig.tight_layout(w_pad=0)\n",
    "    return fig, axes"
   ]
  },
  {
   "cell_type": "code",
   "execution_count": 15,
   "metadata": {},
   "outputs": [
    {
     "data": {
      "image/png": "[encoded data removed]",
      "text/plain": [
       "<Figure size 1152x248.4 with 17 Axes>"
      ]
     },
     "metadata": {},
     "output_type": "display_data"
    },
    {
     "data": {
      "image/png": "[encoded data removed]",
      "text/plain": [
       "<Figure size 1152x248.4 with 17 Axes>"
      ]
     },
     "metadata": {},
     "output_type": "display_data"
    }
   ],
   "source": [
    "fig, _ = plot_genes_and_coverage(viral_genes, coverage_df)\n",
    "display(fig)\n",
    "plt.close(fig)\n",
    "\n",
    "fig, _ = plot_genes_and_coverage(viral_genes, coverage_df, color_mutations=True)\n",
    "display(fig)\n",
    "plt.close()"
   ]
  }
 ],
 "metadata": {
  "kernelspec": {
   "display_name": "Python 3",
   "language": "python",
   "name": "python3"
  },
  "language_info": {
   "codemirror_mode": {
    "name": "ipython",
    "version": 3
   },
   "file_extension": ".py",
   "mimetype": "text/x-python",
   "name": "python",
   "nbconvert_exporter": "python",
   "pygments_lexer": "ipython3",
   "version": "3.6.7"
  },
  "papermill": {
   "duration": 54.715879,
   "end_time": "2019-12-25T01:14:47.838333",
   "environment_variables": {},
   "exception": null,
   "input_path": "notebooks/viral_fastq10x_coverage.ipynb",
   "output_path": "results/viral_fastq10x/viral_fastq10x_coverage.ipynb",
   "parameters": {
    "input_fastq10x_bais": [
     "results/aligned_fastq10x/wt_virus_pilot/Aligned.sortedByCoord.out.bam.bai"
    ],
    "input_fastq10x_bams": [
     "results/aligned_fastq10x/wt_virus_pilot/Aligned.sortedByCoord.out.bam"
    ],
    "input_viral_genbank": "data/flu_sequences/flu-CA09.gb",
    "output_viralbc_locs": "results/viral_fastq10x/viralbc_locs.csv",
    "output_viraltag_locs": "results/viral_fastq10x/viraltag_locs.csv",
    "samples_10x": [
     "wt_virus_pilot"
    ]
   },
   "start_time": "2019-12-25T01:13:53.122454",
   "version": "1.2.1"
  }
 },
 "nbformat": 4,
 "nbformat_minor": 4
}
