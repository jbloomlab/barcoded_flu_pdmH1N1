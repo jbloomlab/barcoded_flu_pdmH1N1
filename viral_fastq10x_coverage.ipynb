{
 "cells": [
  {
   "cell_type": "markdown",
   "metadata": {
    "papermill": {
     "duration": 0.017554,
     "end_time": "2019-12-25T01:13:57.018532",
     "exception": false,
     "start_time": "2019-12-25T01:13:57.000978",
     "status": "completed"
    },
    "tags": []
   },
   "source": [
    "# Coverage of viral tags and barcodes by Illumina 10X reads\n",
    "This Python Jupyter notebook examines where the 10X aligned FASTQ reads fall on the viral genes (coverage) with respect to viral barcodes and viral tags.\n",
    "It also writes information on the locations of the viral barcodes and tags in the viral genes."
   ]
  },
  {
   "cell_type": "markdown",
   "metadata": {
    "papermill": {
     "duration": 0.013627,
     "end_time": "2019-12-25T01:13:57.047099",
     "exception": false,
     "start_time": "2019-12-25T01:13:57.033472",
     "status": "completed"
    },
    "tags": []
   },
   "source": [
    "## Parameters\n",
    "First, set the parameters for the notebook, such as to specify the input files and output plots.\n",
    "This is done in the next cell, which is tagged as a `parameters` cell to enable [papermill parameterization](https://papermill.readthedocs.io/en/latest/usage-parameterize.html):"
   ]
  },
  {
   "cell_type": "code",
   "execution_count": 1,
   "metadata": {
    "papermill": {
     "duration": 0.020128,
     "end_time": "2019-12-25T01:13:57.081478",
     "exception": false,
     "start_time": "2019-12-25T01:13:57.061350",
     "status": "completed"
    },
    "tags": [
     "parameters"
    ]
   },
   "outputs": [],
   "source": [
    "# parameters cell; in order for notebook to run this cell must define:\n",
    "#  - samples_10x: list of 10X samples\n",
    "#  - input_fastq10x_bams: list of BAM file with alignments of 10X reads for each sample\n",
    "#  - input_fastq10x_bais: BAM indices for each file in `input_fastq10x_bam`\n",
    "#  - input_viral_genbank: Genbank file with annotated viral genes\n",
    "#  - output_viraltag_locs: output file with location of viral tags (1, ..., numbering)\n",
    "#  - output_viralbc_locs: output file with location of viral barcodes (1, ..., numbering)\n"
   ]
  },
  {
   "cell_type": "code",
   "execution_count": 2,
   "metadata": {
    "papermill": {
     "duration": 0.020337,
     "end_time": "2019-12-25T01:13:57.115611",
     "exception": false,
     "start_time": "2019-12-25T01:13:57.095274",
     "status": "completed"
    },
    "tags": [
     "injected-parameters"
    ]
   },
   "outputs": [],
   "source": [
    "# Parameters\n",
    "samples_10x = [\"wt_virus_pilot\"]\n",
    "input_fastq10x_bams = [\"results/aligned_fastq10x/wt_virus_pilot/Aligned.sortedByCoord.out.bam\"]\n",
    "input_fastq10x_bais = [\"results/aligned_fastq10x/wt_virus_pilot/Aligned.sortedByCoord.out.bam.bai\"]\n",
    "input_viral_genbank = \"data/flu_sequences/flu-CA09.gb\"\n",
    "output_viraltag_locs = \"results/viral_fastq10x/viraltag_locs.csv\"\n",
    "output_viralbc_locs = \"results/viral_fastq10x/viralbc_locs.csv\"\n"
   ]
  },
  {
   "cell_type": "markdown",
   "metadata": {
    "papermill": {
     "duration": 0.013643,
     "end_time": "2019-12-25T01:13:57.143012",
     "exception": false,
     "start_time": "2019-12-25T01:13:57.129369",
     "status": "completed"
    },
    "tags": []
   },
   "source": [
    "Check input lists all the right length, then make dicts that map sample names to BAM and BAM index files:"
   ]
  },
  {
   "cell_type": "code",
   "execution_count": 3,
   "metadata": {
    "papermill": {
     "duration": 0.020309,
     "end_time": "2019-12-25T01:13:57.177410",
     "exception": false,
     "start_time": "2019-12-25T01:13:57.157101",
     "status": "completed"
    },
    "tags": []
   },
   "outputs": [],
   "source": [
    "assert len(samples_10x) == len(input_fastq10x_bams) == len(input_fastq10x_bais)\n",
    "\n",
    "fastq10x_bams = dict(zip(samples_10x, input_fastq10x_bams))\n",
    "fastq10x_bais = dict(zip(samples_10x, input_fastq10x_bais))"
   ]
  },
  {
   "cell_type": "markdown",
   "metadata": {
    "papermill": {
     "duration": 0.014058,
     "end_time": "2019-12-25T01:13:57.206235",
     "exception": false,
     "start_time": "2019-12-25T01:13:57.192177",
     "status": "completed"
    },
    "tags": []
   },
   "source": [
    "## Import Python modules\n",
    "We use [pysam](https://pysam.readthedocs.io/) to plot process the BAM files, [dna_features_viewer](https://edinburgh-genome-foundry.github.io/DnaFeaturesViewer/) for genes, and [plotnine](https://plotnine.readthedocs.io/) for some ggplot2-style plotting:"
   ]
  },
  {
   "cell_type": "code",
   "execution_count": 4,
   "metadata": {
    "papermill": {
     "duration": 9.227394,
     "end_time": "2019-12-25T01:14:06.447638",
     "exception": false,
     "start_time": "2019-12-25T01:13:57.220244",
     "status": "completed"
    },
    "tags": []
   },
   "outputs": [],
   "source": [
    "import collections\n",
    "import itertools\n",
    "\n",
    "import Bio.SeqIO\n",
    "\n",
    "from IPython.display import display, HTML\n",
    "\n",
    "import mizani\n",
    "\n",
    "import pandas as pd\n",
    "\n",
    "from plotnine import *\n",
    "\n",
    "import pysam"
   ]
  },
  {
   "cell_type": "markdown",
   "metadata": {
    "papermill": {
     "duration": 0.013243,
     "end_time": "2019-12-25T01:14:06.475996",
     "exception": false,
     "start_time": "2019-12-25T01:14:06.462753",
     "status": "completed"
    },
    "tags": []
   },
   "source": [
    "Color-blind palette:"
   ]
  },
  {
   "cell_type": "code",
   "execution_count": 5,
   "metadata": {
    "papermill": {
     "duration": 0.018517,
     "end_time": "2019-12-25T01:14:06.508508",
     "exception": false,
     "start_time": "2019-12-25T01:14:06.489991",
     "status": "completed"
    },
    "tags": []
   },
   "outputs": [],
   "source": [
    "cbpalette = ('#999999', '#E69F00', '#56B4E9', '#009E73',\n",
    "             '#F0E442', '#0072B2', '#D55E00', '#CC79A7')"
   ]
  },
  {
   "cell_type": "markdown",
   "metadata": {
    "papermill": {
     "duration": 0.050623,
     "end_time": "2019-12-25T01:14:06.573033",
     "exception": false,
     "start_time": "2019-12-25T01:14:06.522410",
     "status": "completed"
    },
    "tags": []
   },
   "source": [
    "Set [plotnine theme](https://plotnine.readthedocs.io/en/stable/api.html#themes):"
   ]
  },
  {
   "cell_type": "code",
   "execution_count": 6,
   "metadata": {
    "papermill": {
     "duration": 0.018406,
     "end_time": "2019-12-25T01:14:06.641474",
     "exception": false,
     "start_time": "2019-12-25T01:14:06.623068",
     "status": "completed"
    },
    "tags": []
   },
   "outputs": [],
   "source": [
    "_ = theme_set(theme_classic)"
   ]
  },
  {
   "cell_type": "markdown",
   "metadata": {
    "papermill": {
     "duration": 0.013283,
     "end_time": "2019-12-25T01:14:06.668252",
     "exception": false,
     "start_time": "2019-12-25T01:14:06.654969",
     "status": "completed"
    },
    "tags": []
   },
   "source": [
    "## Read the viral genes\n",
    "Get all the viral genes as [BioPython SeqRecords](https://biopython.org/wiki/SeqRecord):"
   ]
  },
  {
   "cell_type": "code",
   "execution_count": 7,
   "metadata": {
    "papermill": {
     "duration": 0.070866,
     "end_time": "2019-12-25T01:14:06.752481",
     "exception": false,
     "start_time": "2019-12-25T01:14:06.681615",
     "status": "completed"
    },
    "tags": []
   },
   "outputs": [
    {
     "name": "stdout",
     "output_type": "stream",
     "text": [
      "Reading viral genes from data/flu_sequences/flu-CA09.gb\n",
      "Found 8 viral genes:\n",
      "\tfluPB2\n",
      "\tfluPB1\n",
      "\tfluPA\n",
      "\tfluHA\n",
      "\tfluNP\n",
      "\tfluNA\n",
      "\tfluM\n",
      "\tfluNS\n"
     ]
    }
   ],
   "source": [
    "print(f\"Reading viral genes from {input_viral_genbank}\")\n",
    "viral_genes = list(Bio.SeqIO.parse(input_viral_genbank, 'genbank'))\n",
    "viral_gene_names = [s.id for s in viral_genes]\n",
    "print(f\"Found {len(viral_gene_names)} viral genes:\\n\\t\" +\n",
    "      '\\n\\t'.join(viral_gene_names))\n",
    "assert len(viral_genes) == len(set(viral_gene_names)), 'viral gene names not unique'"
   ]
  },
  {
   "cell_type": "markdown",
   "metadata": {
    "papermill": {
     "duration": 0.014751,
     "end_time": "2019-12-25T01:14:06.781717",
     "exception": false,
     "start_time": "2019-12-25T01:14:06.766966",
     "status": "completed"
    },
    "tags": []
   },
   "source": [
    "## Get viral tag and barcode locations\n",
    "Get the locations of the viral tags and barcodes for each gene in 1-based indexing inclusive of the first and last number (so the type of numbering that Genbank files use):"
   ]
  },
  {
   "cell_type": "code",
   "execution_count": 8,
   "metadata": {
    "papermill": {
     "duration": 0.230034,
     "end_time": "2019-12-25T01:14:07.065372",
     "exception": false,
     "start_time": "2019-12-25T01:14:06.835338",
     "status": "completed"
    },
    "tags": []
   },
   "outputs": [
    {
     "name": "stdout",
     "output_type": "stream",
     "text": [
      "\n",
      "Viral tag locations; writing to results/viral_fastq10x/viraltag_locs.csv\n"
     ]
    },
    {
     "data": {
      "text/html": [
       "<table border=\"1\" class=\"dataframe\">\n",
       "  <thead>\n",
       "    <tr style=\"text-align: right;\">\n",
       "      <th>gene</th>\n",
       "      <th>tag_name</th>\n",
       "      <th>start</th>\n",
       "      <th>end</th>\n",
       "    </tr>\n",
       "  </thead>\n",
       "  <tbody>\n",
       "    <tr>\n",
       "      <td>fluPB2</td>\n",
       "      <td>viral_tag_1</td>\n",
       "      <td>201</td>\n",
       "      <td>201</td>\n",
       "    </tr>\n",
       "    <tr>\n",
       "      <td>fluPB2</td>\n",
       "      <td>viral_tag_2</td>\n",
       "      <td>2190</td>\n",
       "      <td>2190</td>\n",
       "    </tr>\n",
       "    <tr>\n",
       "      <td>fluPB1</td>\n",
       "      <td>viral_tag_1</td>\n",
       "      <td>192</td>\n",
       "      <td>192</td>\n",
       "    </tr>\n",
       "    <tr>\n",
       "      <td>fluPB1</td>\n",
       "      <td>viral_tag_2</td>\n",
       "      <td>2205</td>\n",
       "      <td>2205</td>\n",
       "    </tr>\n",
       "    <tr>\n",
       "      <td>fluPA</td>\n",
       "      <td>viral_tag_1</td>\n",
       "      <td>123</td>\n",
       "      <td>123</td>\n",
       "    </tr>\n",
       "    <tr>\n",
       "      <td>fluPA</td>\n",
       "      <td>viral_tag_2</td>\n",
       "      <td>2104</td>\n",
       "      <td>2104</td>\n",
       "    </tr>\n",
       "    <tr>\n",
       "      <td>fluHA</td>\n",
       "      <td>viral_tag_1</td>\n",
       "      <td>249</td>\n",
       "      <td>249</td>\n",
       "    </tr>\n",
       "    <tr>\n",
       "      <td>fluHA</td>\n",
       "      <td>viral_tag_2</td>\n",
       "      <td>1686</td>\n",
       "      <td>1686</td>\n",
       "    </tr>\n",
       "    <tr>\n",
       "      <td>fluNP</td>\n",
       "      <td>viral_tag_1</td>\n",
       "      <td>132</td>\n",
       "      <td>132</td>\n",
       "    </tr>\n",
       "    <tr>\n",
       "      <td>fluNP</td>\n",
       "      <td>viral_tag_2</td>\n",
       "      <td>1407</td>\n",
       "      <td>1407</td>\n",
       "    </tr>\n",
       "    <tr>\n",
       "      <td>fluNA</td>\n",
       "      <td>viral_tag_1</td>\n",
       "      <td>242</td>\n",
       "      <td>242</td>\n",
       "    </tr>\n",
       "    <tr>\n",
       "      <td>fluNA</td>\n",
       "      <td>viral_tag_2</td>\n",
       "      <td>818</td>\n",
       "      <td>818</td>\n",
       "    </tr>\n",
       "    <tr>\n",
       "      <td>fluNA</td>\n",
       "      <td>viral_tag_3</td>\n",
       "      <td>827</td>\n",
       "      <td>827</td>\n",
       "    </tr>\n",
       "    <tr>\n",
       "      <td>fluNA</td>\n",
       "      <td>viral_tag_4</td>\n",
       "      <td>828</td>\n",
       "      <td>828</td>\n",
       "    </tr>\n",
       "    <tr>\n",
       "      <td>fluNA</td>\n",
       "      <td>viral_tag_5</td>\n",
       "      <td>829</td>\n",
       "      <td>829</td>\n",
       "    </tr>\n",
       "    <tr>\n",
       "      <td>fluNA</td>\n",
       "      <td>viral_tag_6</td>\n",
       "      <td>830</td>\n",
       "      <td>830</td>\n",
       "    </tr>\n",
       "    <tr>\n",
       "      <td>fluNA</td>\n",
       "      <td>viral_tag_7</td>\n",
       "      <td>1247</td>\n",
       "      <td>1247</td>\n",
       "    </tr>\n",
       "    <tr>\n",
       "      <td>fluNA</td>\n",
       "      <td>viral_tag_8</td>\n",
       "      <td>1400</td>\n",
       "      <td>1400</td>\n",
       "    </tr>\n",
       "    <tr>\n",
       "      <td>fluM</td>\n",
       "      <td>viral_tag_1</td>\n",
       "      <td>100</td>\n",
       "      <td>100</td>\n",
       "    </tr>\n",
       "    <tr>\n",
       "      <td>fluM</td>\n",
       "      <td>viral_tag_2</td>\n",
       "      <td>950</td>\n",
       "      <td>950</td>\n",
       "    </tr>\n",
       "    <tr>\n",
       "      <td>fluNS</td>\n",
       "      <td>viral_tag_1</td>\n",
       "      <td>80</td>\n",
       "      <td>80</td>\n",
       "    </tr>\n",
       "    <tr>\n",
       "      <td>fluNS</td>\n",
       "      <td>viral_tag_2</td>\n",
       "      <td>804</td>\n",
       "      <td>804</td>\n",
       "    </tr>\n",
       "  </tbody>\n",
       "</table>"
      ],
      "text/plain": [
       "<IPython.core.display.HTML object>"
      ]
     },
     "metadata": {},
     "output_type": "display_data"
    },
    {
     "name": "stdout",
     "output_type": "stream",
     "text": [
      "\n",
      "Viral barcode locations; writing to results/viral_fastq10x/viralbc_locs.csv\n"
     ]
    },
    {
     "data": {
      "text/html": [
       "<table border=\"1\" class=\"dataframe\">\n",
       "  <thead>\n",
       "    <tr style=\"text-align: right;\">\n",
       "      <th>gene</th>\n",
       "      <th>start</th>\n",
       "      <th>end</th>\n",
       "    </tr>\n",
       "  </thead>\n",
       "  <tbody>\n",
       "    <tr>\n",
       "      <td>fluHA</td>\n",
       "      <td>1828</td>\n",
       "      <td>1843</td>\n",
       "    </tr>\n",
       "    <tr>\n",
       "      <td>fluNA</td>\n",
       "      <td>1551</td>\n",
       "      <td>1566</td>\n",
       "    </tr>\n",
       "  </tbody>\n",
       "</table>"
      ],
      "text/plain": [
       "<IPython.core.display.HTML object>"
      ]
     },
     "metadata": {},
     "output_type": "display_data"
    }
   ],
   "source": [
    "viraltag_df = []\n",
    "viralbc_df = []\n",
    "for seqrecord in viral_genes:\n",
    "    for f in seqrecord.features:\n",
    "        if f.type == 'viral_barcode':\n",
    "            viralbc_df.append([seqrecord.id, int(f.location.start) + 1, int(f.location.end)])\n",
    "        elif 'tag' in f.type:\n",
    "            viraltag_df.append((seqrecord.id, f.type, int(f.location.start) + 1, int(f.location.end)))\n",
    "            \n",
    "viraltag_df = pd.DataFrame.from_records(viraltag_df,\n",
    "                                        columns=['gene', 'tag_name', 'start', 'end'])\n",
    "assert len(viraltag_df) == len(viraltag_df.drop_duplicates())\n",
    "print(f\"\\nViral tag locations; writing to {output_viraltag_locs}\")\n",
    "viraltag_df.to_csv(output_viraltag_locs, index=False)\n",
    "display(HTML(viraltag_df.to_html(index=False)))\n",
    "\n",
    "viralbc_df = pd.DataFrame.from_records(viralbc_df,\n",
    "                                       columns=['gene', 'start', 'end'])\n",
    "assert len(viralbc_df) == len(viralbc_df.drop_duplicates())\n",
    "print(f\"\\nViral barcode locations; writing to {output_viralbc_locs}\")\n",
    "viralbc_df.to_csv(output_viralbc_locs, index=False)\n",
    "display(HTML(viralbc_df.to_html(index=False)))"
   ]
  },
  {
   "cell_type": "markdown",
   "metadata": {
    "papermill": {
     "duration": 0.015322,
     "end_time": "2019-12-25T01:14:07.095735",
     "exception": false,
     "start_time": "2019-12-25T01:14:07.080413",
     "status": "completed"
    },
    "tags": []
   },
   "source": [
    "## Get alignment statistics for each gene and sample\n",
    "Use [pysam](https://pysam.readthedocs.io/) to get the following dataframes:\n",
    " - `nreads_df`: total number of reads aligned to each gene in each sample\n",
    " - `coverage_df`: coverage at each site for each viral gene in each sample\n",
    " - `readlen_df`: distribution of lengths of the **aligned** portion of reads (not including soft-clipped bases) for each gene in each sample"
   ]
  },
  {
   "cell_type": "code",
   "execution_count": 9,
   "metadata": {
    "papermill": {
     "duration": 4.374308,
     "end_time": "2019-12-25T01:14:11.484849",
     "exception": false,
     "start_time": "2019-12-25T01:14:07.110541",
     "status": "completed"
    },
    "tags": []
   },
   "outputs": [
    {
     "name": "stdout",
     "output_type": "stream",
     "text": [
      "Getting statistics for fluPB2 in wt_virus_pilot from results/aligned_fastq10x/wt_virus_pilot/Aligned.sortedByCoord.out.bam\n",
      "Getting statistics for fluPB1 in wt_virus_pilot from results/aligned_fastq10x/wt_virus_pilot/Aligned.sortedByCoord.out.bam\n",
      "Getting statistics for fluPA in wt_virus_pilot from results/aligned_fastq10x/wt_virus_pilot/Aligned.sortedByCoord.out.bam\n",
      "Getting statistics for fluHA in wt_virus_pilot from results/aligned_fastq10x/wt_virus_pilot/Aligned.sortedByCoord.out.bam\n",
      "Getting statistics for fluNP in wt_virus_pilot from results/aligned_fastq10x/wt_virus_pilot/Aligned.sortedByCoord.out.bam\n",
      "Getting statistics for fluNA in wt_virus_pilot from results/aligned_fastq10x/wt_virus_pilot/Aligned.sortedByCoord.out.bam\n",
      "Getting statistics for fluM in wt_virus_pilot from results/aligned_fastq10x/wt_virus_pilot/Aligned.sortedByCoord.out.bam\n",
      "Getting statistics for fluNS in wt_virus_pilot from results/aligned_fastq10x/wt_virus_pilot/Aligned.sortedByCoord.out.bam\n",
      "\n",
      "First few lines of `nreads_df`:\n"
     ]
    },
    {
     "data": {
      "text/html": [
       "<table border=\"1\" class=\"dataframe\">\n",
       "  <thead>\n",
       "    <tr style=\"text-align: right;\">\n",
       "      <th>gene</th>\n",
       "      <th>sample</th>\n",
       "      <th>nreads</th>\n",
       "    </tr>\n",
       "  </thead>\n",
       "  <tbody>\n",
       "    <tr>\n",
       "      <td>fluPB2</td>\n",
       "      <td>wt_virus_pilot</td>\n",
       "      <td>2311</td>\n",
       "    </tr>\n",
       "    <tr>\n",
       "      <td>fluPB1</td>\n",
       "      <td>wt_virus_pilot</td>\n",
       "      <td>6512</td>\n",
       "    </tr>\n",
       "    <tr>\n",
       "      <td>fluPA</td>\n",
       "      <td>wt_virus_pilot</td>\n",
       "      <td>2042</td>\n",
       "    </tr>\n",
       "    <tr>\n",
       "      <td>fluHA</td>\n",
       "      <td>wt_virus_pilot</td>\n",
       "      <td>14763</td>\n",
       "    </tr>\n",
       "    <tr>\n",
       "      <td>fluNP</td>\n",
       "      <td>wt_virus_pilot</td>\n",
       "      <td>46120</td>\n",
       "    </tr>\n",
       "  </tbody>\n",
       "</table>"
      ],
      "text/plain": [
       "<IPython.core.display.HTML object>"
      ]
     },
     "metadata": {},
     "output_type": "display_data"
    },
    {
     "name": "stdout",
     "output_type": "stream",
     "text": [
      "\n",
      "First few lines of `coverage_df`:\n"
     ]
    },
    {
     "data": {
      "text/html": [
       "<table border=\"1\" class=\"dataframe\">\n",
       "  <thead>\n",
       "    <tr style=\"text-align: right;\">\n",
       "      <th>gene</th>\n",
       "      <th>sample</th>\n",
       "      <th>site</th>\n",
       "      <th>coverage</th>\n",
       "    </tr>\n",
       "  </thead>\n",
       "  <tbody>\n",
       "    <tr>\n",
       "      <td>fluPB2</td>\n",
       "      <td>wt_virus_pilot</td>\n",
       "      <td>1</td>\n",
       "      <td>34</td>\n",
       "    </tr>\n",
       "    <tr>\n",
       "      <td>fluPB2</td>\n",
       "      <td>wt_virus_pilot</td>\n",
       "      <td>2</td>\n",
       "      <td>90</td>\n",
       "    </tr>\n",
       "    <tr>\n",
       "      <td>fluPB2</td>\n",
       "      <td>wt_virus_pilot</td>\n",
       "      <td>3</td>\n",
       "      <td>87</td>\n",
       "    </tr>\n",
       "    <tr>\n",
       "      <td>fluPB2</td>\n",
       "      <td>wt_virus_pilot</td>\n",
       "      <td>4</td>\n",
       "      <td>91</td>\n",
       "    </tr>\n",
       "    <tr>\n",
       "      <td>fluPB2</td>\n",
       "      <td>wt_virus_pilot</td>\n",
       "      <td>5</td>\n",
       "      <td>89</td>\n",
       "    </tr>\n",
       "  </tbody>\n",
       "</table>"
      ],
      "text/plain": [
       "<IPython.core.display.HTML object>"
      ]
     },
     "metadata": {},
     "output_type": "display_data"
    },
    {
     "name": "stdout",
     "output_type": "stream",
     "text": [
      "\n",
      "First few lines of `readlen_df`:\n"
     ]
    },
    {
     "data": {
      "text/html": [
       "<table border=\"1\" class=\"dataframe\">\n",
       "  <thead>\n",
       "    <tr style=\"text-align: right;\">\n",
       "      <th>gene</th>\n",
       "      <th>sample</th>\n",
       "      <th>aligned_read_length</th>\n",
       "      <th>nreads</th>\n",
       "    </tr>\n",
       "  </thead>\n",
       "  <tbody>\n",
       "    <tr>\n",
       "      <td>fluPB2</td>\n",
       "      <td>wt_virus_pilot</td>\n",
       "      <td>81</td>\n",
       "      <td>31</td>\n",
       "    </tr>\n",
       "    <tr>\n",
       "      <td>fluPB2</td>\n",
       "      <td>wt_virus_pilot</td>\n",
       "      <td>82</td>\n",
       "      <td>24</td>\n",
       "    </tr>\n",
       "    <tr>\n",
       "      <td>fluPB2</td>\n",
       "      <td>wt_virus_pilot</td>\n",
       "      <td>83</td>\n",
       "      <td>17</td>\n",
       "    </tr>\n",
       "    <tr>\n",
       "      <td>fluPB2</td>\n",
       "      <td>wt_virus_pilot</td>\n",
       "      <td>84</td>\n",
       "      <td>9</td>\n",
       "    </tr>\n",
       "    <tr>\n",
       "      <td>fluPB2</td>\n",
       "      <td>wt_virus_pilot</td>\n",
       "      <td>85</td>\n",
       "      <td>8</td>\n",
       "    </tr>\n",
       "  </tbody>\n",
       "</table>"
      ],
      "text/plain": [
       "<IPython.core.display.HTML object>"
      ]
     },
     "metadata": {},
     "output_type": "display_data"
    }
   ],
   "source": [
    "coverage_list = []\n",
    "nreads_list = []\n",
    "readlen_list = []\n",
    "\n",
    "for viral_gene, sample10x in itertools.product(viral_genes, samples_10x):\n",
    "    gene_name = viral_gene.id\n",
    "    bam = fastq10x_bams[sample10x]\n",
    "    bai = fastq10x_bais[sample10x]\n",
    "    print(f\"Getting statistics for {gene_name} in {sample10x} from {bam}\")\n",
    "    \n",
    "    with pysam.AlignmentFile(bam, mode='rb', index_filename=bai) as bamfile:\n",
    "        if len(viral_gene) != bamfile.get_reference_length(gene_name):\n",
    "            raise ValueError(f\"length of {gene_name} not as expected in {bam}\")\n",
    "            \n",
    "        nreads_list.append(\n",
    "                pd.DataFrame({'gene': [gene_name],\n",
    "                              'sample': [sample10x],\n",
    "                              'nreads': [bamfile.count(contig=gene_name)],\n",
    "                              })\n",
    "                ) \n",
    "\n",
    "        coverage_list.append(\n",
    "                pd.DataFrame(dict(zip('ACGT',\n",
    "                                      bamfile.count_coverage(contig=gene_name))))\n",
    "                .assign(coverage=lambda x: x.sum(axis=1),\n",
    "                        site=lambda x: x.index + 1,\n",
    "                        gene=gene_name,\n",
    "                        sample=sample10x)\n",
    "                [['gene', 'sample', 'site', 'coverage']]\n",
    "                )\n",
    "        \n",
    "        readlens = collections.defaultdict(int)\n",
    "        for read in bamfile.fetch(contig=gene_name):\n",
    "            readlens[read.query_alignment_length] += 1\n",
    "        readlen_list.append(\n",
    "                pd.DataFrame.from_records(list(readlens.items()),\n",
    "                                          columns=['aligned_read_length', 'nreads'])\n",
    "                .assign(gene=gene_name,\n",
    "                        sample=sample10x)\n",
    "                .sort_values('aligned_read_length')\n",
    "                [['gene', 'sample', 'aligned_read_length', 'nreads']]\n",
    "                )\n",
    "        \n",
    "nreads_df = (pd.concat(nreads_list, sort=False, ignore_index=True)\n",
    "             .assign(gene=lambda x: pd.Categorical(x['gene'],\n",
    "                                                   viral_gene_names,\n",
    "                                                   ordered=True))\n",
    "             )\n",
    "print('\\nFirst few lines of `nreads_df`:')\n",
    "display(HTML(nreads_df.head().to_html(index=False)))\n",
    "        \n",
    "coverage_df = (pd.concat(coverage_list, sort=False, ignore_index=True)\n",
    "               .assign(gene=lambda x: pd.Categorical(x['gene'],\n",
    "                                                     viral_gene_names,\n",
    "                                                     ordered=True))\n",
    "               )\n",
    "print('\\nFirst few lines of `coverage_df`:')\n",
    "display(HTML(coverage_df.head().to_html(index=False)))\n",
    "\n",
    "readlen_df = (pd.concat(readlen_list, sort=False, ignore_index=True)\n",
    "              .assign(gene=lambda x: pd.Categorical(x['gene'],\n",
    "                                                    viral_gene_names,\n",
    "                                                    ordered=True))\n",
    "              )\n",
    "print('\\nFirst few lines of `readlen_df`:')\n",
    "display(HTML(readlen_df.head().to_html(index=False)))"
   ]
  },
  {
   "cell_type": "markdown",
   "metadata": {
    "papermill": {
     "duration": 0.01816,
     "end_time": "2019-12-25T01:14:11.523318",
     "exception": false,
     "start_time": "2019-12-25T01:14:11.505158",
     "status": "completed"
    },
    "tags": []
   },
   "source": [
    "Sanity check to make sure we got the right number of sites for each gene in `coverage_df`:"
   ]
  },
  {
   "cell_type": "code",
   "execution_count": 10,
   "metadata": {
    "papermill": {
     "duration": 0.08006,
     "end_time": "2019-12-25T01:14:11.621318",
     "exception": false,
     "start_time": "2019-12-25T01:14:11.541258",
     "status": "completed"
    },
    "tags": []
   },
   "outputs": [],
   "source": [
    "for viral_gene in viral_genes:\n",
    "    gene_name = viral_gene.id\n",
    "    lengths = (coverage_df\n",
    "               .query('gene == @gene_name')\n",
    "               .groupby('sample')\n",
    "               .size()\n",
    "               .values\n",
    "               )\n",
    "    if not all(lengths == len(viral_gene)):\n",
    "        raise ValueError(f\"coverage not for expected number sites for {gene_name}\")"
   ]
  },
  {
   "cell_type": "markdown",
   "metadata": {
    "papermill": {
     "duration": 0.018873,
     "end_time": "2019-12-25T01:14:11.668266",
     "exception": false,
     "start_time": "2019-12-25T01:14:11.649393",
     "status": "completed"
    },
    "tags": []
   },
   "source": [
    "Sanity check to make sure `nreads_df` and `readlen_df` have same number of reads:"
   ]
  },
  {
   "cell_type": "code",
   "execution_count": 11,
   "metadata": {
    "papermill": {
     "duration": 0.048741,
     "end_time": "2019-12-25T01:14:11.735155",
     "exception": false,
     "start_time": "2019-12-25T01:14:11.686414",
     "status": "completed"
    },
    "tags": []
   },
   "outputs": [],
   "source": [
    "nreads_n = nreads_df.sort_values(['gene', 'sample'])['nreads'].values\n",
    "readlen_n = (readlen_df\n",
    "             .groupby(['gene', 'sample'])\n",
    "             .aggregate({'nreads': 'sum'})\n",
    "             ['nreads']\n",
    "             .values\n",
    "             )\n",
    "if not all(nreads_n == readlen_n):\n",
    "    raise ValueError('nreads differ for `nreads_df` and `readlen_df`')"
   ]
  },
  {
   "cell_type": "markdown",
   "metadata": {
    "papermill": {
     "duration": 0.018131,
     "end_time": "2019-12-25T01:14:11.772389",
     "exception": false,
     "start_time": "2019-12-25T01:14:11.754258",
     "status": "completed"
    },
    "tags": []
   },
   "source": [
    "## Total reads per viral gene\n",
    "Plot the total number of aligned reads for each viral gene:"
   ]
  },
  {
   "cell_type": "code",
   "execution_count": 12,
   "metadata": {
    "papermill": {
     "duration": 5.066289,
     "end_time": "2019-12-25T01:14:16.857180",
     "exception": false,
     "start_time": "2019-12-25T01:14:11.790891",
     "status": "completed"
    },
    "tags": []
   },
   "outputs": [
    {
     "data": {
      "image/png": "[encoded data removed]",
      "text/plain": [
       "<Figure size 250x200 with 1 Axes>"
      ]
     },
     "metadata": {},
     "output_type": "display_data"
    }
   ],
   "source": [
    "p = (ggplot(nreads_df, aes('gene', 'nreads')) +\n",
    "     geom_bar(stat='identity') +\n",
    "     facet_wrap('~ sample', nrow=1) +\n",
    "     theme(figure_size=(2.5 * len(samples_10x), 2),\n",
    "           axis_text_x=element_text(angle=90)) +\n",
    "     scale_y_continuous(labels=mizani.formatters.scientific_format(),\n",
    "                        name='number aligned reads')\n",
    "     )\n",
    "\n",
    "_ = p.draw()"
   ]
  },
  {
   "cell_type": "markdown",
   "metadata": {
    "papermill": {
     "duration": 0.019039,
     "end_time": "2019-12-25T01:14:16.896868",
     "exception": false,
     "start_time": "2019-12-25T01:14:16.877829",
     "status": "completed"
    },
    "tags": []
   },
   "source": [
    "## Lengths of aligned reads for each viral gene\n",
    "Plot the distribution of the lengths of the **aligned** portions of each read for each viral gene:"
   ]
  },
  {
   "cell_type": "code",
   "execution_count": 13,
   "metadata": {
    "papermill": {
     "duration": 14.252955,
     "end_time": "2019-12-25T01:14:31.168699",
     "exception": false,
     "start_time": "2019-12-25T01:14:16.915744",
     "status": "completed"
    },
    "tags": []
   },
   "outputs": [
    {
     "data": {
      "image/png": "[encoded data removed]",
      "text/plain": [
       "<Figure size 200x800 with 8 Axes>"
      ]
     },
     "metadata": {},
     "output_type": "display_data"
    }
   ],
   "source": [
    "p = (ggplot(readlen_df, aes('aligned_read_length', 'nreads')) +\n",
    "     geom_bar(stat='identity') +\n",
    "     facet_grid('gene ~ sample', scales='free_y') +\n",
    "     theme(figure_size=(2 * len(samples_10x), 1 * len(viral_gene_names)),\n",
    "           axis_text_x=element_text(angle=90)) +\n",
    "     scale_y_continuous(labels=mizani.formatters.scientific_format())\n",
    "     )\n",
    "\n",
    "_ = p.draw()"
   ]
  },
  {
   "cell_type": "markdown",
   "metadata": {
    "papermill": {
     "duration": 0.019099,
     "end_time": "2019-12-25T01:14:31.209030",
     "exception": false,
     "start_time": "2019-12-25T01:14:31.189931",
     "status": "completed"
    },
    "tags": []
   },
   "source": [
    "## Coverage per site, including over viral tags and barcodes\n",
    "Now plot coverage per site alongside gene structure.\n",
    "In this plot, we indicate the viral tags (blue) and viral barcodes (orange):"
   ]
  },
  {
   "cell_type": "code",
   "execution_count": 57,
   "metadata": {
    "papermill": {
     "duration": 15.940943,
     "end_time": "2019-12-25T01:14:47.169076",
     "exception": false,
     "start_time": "2019-12-25T01:14:31.228133",
     "status": "completed"
    },
    "tags": []
   },
   "outputs": [],
   "source": [
    "import itertools\n",
    "import re\n",
    "\n",
    "import dna_features_viewer\n",
    "\n",
    "import matplotlib\n",
    "import matplotlib.pyplot as plt\n",
    "\n",
    "cbpalette = ('#999999', '#E69F00', '#56B4E9', '#009E73',\n",
    "             '#F0E442', '#0072B2', '#D55E00', '#CC79A7')\n",
    "\n",
    "def plot_genes_and_coverage(genes,\n",
    "                            coverage_df,\n",
    "                            *,\n",
    "                            genes_relheight=0.3,\n",
    "                            gene_features={'exon': '#999999', \n",
    "                                           'viral_barcode': '#E69F00',\n",
    "                                           'viral_tag': '#56B4E9',\n",
    "                                           },\n",
    "                            full_gene_feature='exon',\n",
    "                            site_tick_interval=250,\n",
    "                            ):\n",
    "    \"\"\"Plot gene structure and coverage for one or more samples.\n",
    "    \n",
    "    Parameters\n",
    "    -----------\n",
    "    genes : list\n",
    "        `BioPython SeqRecord <https://biopython.org/wiki/SeqRecord>`_ for each gene.\n",
    "    coverage_df : pandas.DataFrame\n",
    "        Gives coverage at each site. Must have columns 'gene', 'sample', 'site', and\n",
    "        'coverage'. The entries in the 'gene' column should match the `id` attributes\n",
    "        of the SeqRecords in `genes`. Sites should be in 1, ... numbering.\n",
    "    genes_relheight : float\n",
    "        Relative height of top row with genes relative to coverage plots.\n",
    "    gene_features : dict\n",
    "        Which features in `genes` to plot. Keyed by regular expressions strings that match\n",
    "        `type` attributes of the SeqRecords in `genes`; values are colors for plotting.\n",
    "        Features with types not in `gene_features` are not plotted.\n",
    "    full_gene_feature : str\n",
    "        Name of feature in each gene that represents the full gene length. Must be in\n",
    "        `gene_features` too.\n",
    "    site_tick_interval : int\n",
    "        Frequency of ticks on x-axis giving site numbers.\n",
    "    \n",
    "    Returns\n",
    "    --------\n",
    "    matplotlib.figure.Figure, matplotlib.axes.Axes\n",
    "        The figure and axes grid.\n",
    "    \n",
    "    \"\"\"\n",
    "    # check validity of genes and coverage\n",
    "    gene_names = {gene.id for gene in genes}\n",
    "    if len(genes) != len(set(gene_names)):\n",
    "        raise ValueError('genes in `genes` do not have unique IDs')\n",
    "    if set(coverage_df['gene']) != set(gene_names):\n",
    "        raise ValueError('`coverage_df` and `genes` do not have same sets of genes')\n",
    "    \n",
    "    # set up grid of subplots\n",
    "    gene_lengths = [len(gene) for gene in genes]\n",
    "    samples = list(coverage_df['sample'].unique())\n",
    "    fig, axes = plt.subplots(\n",
    "                    nrows=1 + len(samples),\n",
    "                    ncols=len(genes),\n",
    "                    sharex='col',\n",
    "                    gridspec_kw={'width_ratios': gene_lengths,\n",
    "                                 'height_ratios': [genes_relheight] + [1] * len(samples)},\n",
    "                    figsize=(16, 1.5 * (len(samples) + genes_relheight) + 1.5),\n",
    "                    squeeze=False,\n",
    "                    )\n",
    "\n",
    "    # Convert genes to plottable graphic records\n",
    "    class ViralGeneTranslator(dna_features_viewer.BiopythonTranslator):\n",
    "        \"\"\"Translate BioPython SeqRecord into GraphicRecord.\"\"\" \n",
    "        def compute_feature_color(self, feature):\n",
    "            for regex, color in gene_features.items():\n",
    "                if re.search(regex, feature.type):\n",
    "                    return color\n",
    "\n",
    "        def compute_feature_label(self, feature):\n",
    "            return None\n",
    "    \n",
    "        def compute_filtered_features(self, features):\n",
    "            return [f for f in features if\n",
    "                    any(re.search(regex, f.type) for regex in gene_features.keys())]\n",
    "    \n",
    "    # plot the genes in the first row of the subplots\n",
    "    for ax, seqrecord in zip(axes[: 1,].ravel(), genes):\n",
    "        graphic_record = ViralGeneTranslator().translate_record(seqrecord)\n",
    "        for f in graphic_record.features:\n",
    "            f.linecolor = f.color\n",
    "        graphic_record.plot(ax=ax, with_ruler=False, draw_line=False)\n",
    "        ax.set_title(seqrecord.id, fontsize=15)\n",
    "\n",
    "    # plot coverage on subplots not in first row\n",
    "    full_gene_feature_regex = [regex for regex in gene_features.keys()\n",
    "                               if re.search(regex, full_gene_feature)]\n",
    "    if len(full_gene_feature_regex) != 1:\n",
    "        raise ValueError('could not find `full_gene_feature` in `gene_features`')\n",
    "    else:\n",
    "        full_gene_feature_regex = full_gene_feature_regex[0]\n",
    "    for ax, (sample, seqrecord) in zip(axes[1:,].ravel(),\n",
    "                                  itertools.product(samples, genes)):\n",
    "    \n",
    "        gene = seqrecord.id\n",
    "        # plot coverage over full gene\n",
    "        df = coverage_df.query('(sample == @sample) & (gene == @gene)')\n",
    "        df.plot(ax=ax,\n",
    "                x='site',\n",
    "                y='coverage',\n",
    "                kind='area',\n",
    "                legend=False,\n",
    "                color=gene_features[full_gene_feature_regex],\n",
    "                )\n",
    "        ax.set_ylabel(None)\n",
    "        ax.set_xlabel(None)\n",
    "        ax.ticklabel_format(axis='y', style='sci', scilimits=(0, 0), useMathText=True)\n",
    "        if sample == samples[-1]:\n",
    "            xticklocs = list(range(1, int(ax.get_xlim()[1]), site_tick_interval))\n",
    "            ax.set_xticks(ticks=xticklocs)\n",
    "            ax.tick_params(axis='x', labelrotation=90)\n",
    "        else:\n",
    "            ax.set_xticklabels([])\n",
    "\n",
    "        # plot rectangles for features of interest\n",
    "        ymin, ymax = ax.get_ylim()\n",
    "        for f in seqrecord.features:\n",
    "            for regex, color in gene_features.items():\n",
    "                if re.search(regex, f.type) and regex != full_gene_feature_regex:\n",
    "                    break\n",
    "            else:\n",
    "                continue\n",
    "            start = f.location.start\n",
    "            end = f.location.end\n",
    "            rect = matplotlib.patches.Rectangle(\n",
    "                                xy=(start - 0.5, ymin),\n",
    "                                width=end - start + 1,\n",
    "                                height=ymax,\n",
    "                                color=color,\n",
    "                                zorder=4,\n",
    "                                alpha=0.4)\n",
    "            ax.add_patch(rect)\n",
    "        \n",
    "    # shared x- and y-labels following here: https://stackoverflow.com/a/53172335\n",
    "    fig.add_subplot(111, frameon=False)\n",
    "    plt.tick_params(labelcolor='none', top=False, bottom=False, left=False, right=False)\n",
    "    plt.xlabel('\\nsite', size=14)\n",
    "    plt.ylabel('coverage          ', size=14)\n",
    "    \n",
    "    # add legend for features\n",
    "    plt.legend(handles=[matplotlib.patches.Patch(facecolor=color,\n",
    "                                                 edgecolor=color,\n",
    "                                                 label=regex)\n",
    "                        for regex, color in gene_features.items()\n",
    "                        if regex != full_gene_feature_regex],\n",
    "               bbox_to_anchor=(1.005, ((len(samples) + 0.5 * genes_relheight) /\n",
    "                                       (len(samples) + genes_relheight))),\n",
    "               bbox_transform=plt.gcf().transFigure,\n",
    "               fontsize=13,\n",
    "               handlelength=0.5,\n",
    "               )\n",
    "    \n",
    "    fig.tight_layout(w_pad=0)\n",
    "    return fig, axes"
   ]
  },
  {
   "cell_type": "code",
   "execution_count": 58,
   "metadata": {},
   "outputs": [
    {
     "data": {
      "image/png": "[encoded data removed]",
      "text/plain": [
       "<Figure size 1152x248.4 with 17 Axes>"
      ]
     },
     "metadata": {},
     "output_type": "display_data"
    }
   ],
   "source": [
    "fig, _ = plot_genes_and_coverage(viral_genes, coverage_df)\n",
    "display(fig)\n",
    "plt.close(fig)"
   ]
  },
  {
   "cell_type": "code",
   "execution_count": 17,
   "metadata": {
    "papermill": {
     "duration": 0.020074,
     "end_time": "2019-12-25T01:14:47.211303",
     "exception": false,
     "start_time": "2019-12-25T01:14:47.191229",
     "status": "completed"
    },
    "tags": []
   },
   "outputs": [
    {
     "data": {
      "text/plain": [
       "\u001b[0;31mSignature:\u001b[0m \u001b[0mplt\u001b[0m\u001b[0;34m.\u001b[0m\u001b[0mlegend\u001b[0m\u001b[0;34m(\u001b[0m\u001b[0;34m*\u001b[0m\u001b[0margs\u001b[0m\u001b[0;34m,\u001b[0m \u001b[0;34m**\u001b[0m\u001b[0mkwargs\u001b[0m\u001b[0;34m)\u001b[0m\u001b[0;34m\u001b[0m\u001b[0;34m\u001b[0m\u001b[0m\n",
       "\u001b[0;31mDocstring:\u001b[0m\n",
       "Place a legend on the axes.\n",
       "\n",
       "Call signatures::\n",
       "\n",
       "    legend()\n",
       "    legend(labels)\n",
       "    legend(handles, labels)\n",
       "\n",
       "The call signatures correspond to three different ways how to use\n",
       "this method.\n",
       "\n",
       "**1. Automatic detection of elements to be shown in the legend**\n",
       "\n",
       "The elements to be added to the legend are automatically determined,\n",
       "when you do not pass in any extra arguments.\n",
       "\n",
       "In this case, the labels are taken from the artist. You can specify\n",
       "them either at artist creation or by calling the\n",
       ":meth:`~.Artist.set_label` method on the artist::\n",
       "\n",
       "    line, = ax.plot([1, 2, 3], label='Inline label')\n",
       "    ax.legend()\n",
       "\n",
       "or::\n",
       "\n",
       "    line, = ax.plot([1, 2, 3])\n",
       "    line.set_label('Label via method')\n",
       "    ax.legend()\n",
       "\n",
       "Specific lines can be excluded from the automatic legend element\n",
       "selection by defining a label starting with an underscore.\n",
       "This is default for all artists, so calling `Axes.legend` without\n",
       "any arguments and without setting the labels manually will result in\n",
       "no legend being drawn.\n",
       "\n",
       "\n",
       "**2. Labeling existing plot elements**\n",
       "\n",
       "To make a legend for lines which already exist on the axes\n",
       "(via plot for instance), simply call this function with an iterable\n",
       "of strings, one for each legend item. For example::\n",
       "\n",
       "    ax.plot([1, 2, 3])\n",
       "    ax.legend(['A simple line'])\n",
       "\n",
       "Note: This way of using is discouraged, because the relation between\n",
       "plot elements and labels is only implicit by their order and can\n",
       "easily be mixed up.\n",
       "\n",
       "\n",
       "**3. Explicitly defining the elements in the legend**\n",
       "\n",
       "For full control of which artists have a legend entry, it is possible\n",
       "to pass an iterable of legend artists followed by an iterable of\n",
       "legend labels respectively::\n",
       "\n",
       "    legend((line1, line2, line3), ('label1', 'label2', 'label3'))\n",
       "\n",
       "Parameters\n",
       "----------\n",
       "\n",
       "handles : sequence of `.Artist`, optional\n",
       "    A list of Artists (lines, patches) to be added to the legend.\n",
       "    Use this together with *labels*, if you need full control on what\n",
       "    is shown in the legend and the automatic mechanism described above\n",
       "    is not sufficient.\n",
       "\n",
       "    The length of handles and labels should be the same in this\n",
       "    case. If they are not, they are truncated to the smaller length.\n",
       "\n",
       "labels : sequence of strings, optional\n",
       "    A list of labels to show next to the artists.\n",
       "    Use this together with *handles*, if you need full control on what\n",
       "    is shown in the legend and the automatic mechanism described above\n",
       "    is not sufficient.\n",
       "\n",
       "Other Parameters\n",
       "----------------\n",
       "\n",
       "\n",
       "loc : str or pair of floats, default: :rc:`legend.loc` ('best' for axes, 'upper right' for figures)\n",
       "    The location of the legend.\n",
       "\n",
       "    The strings\n",
       "    ``'upper left', 'upper right', 'lower left', 'lower right'``\n",
       "    place the legend at the corresponding corner of the axes/figure.\n",
       "\n",
       "    The strings\n",
       "    ``'upper center', 'lower center', 'center left', 'center right'``\n",
       "    place the legend at the center of the corresponding edge of the\n",
       "    axes/figure.\n",
       "\n",
       "    The string ``'center'`` places the legend at the center of the axes/figure.\n",
       "\n",
       "    The string ``'best'`` places the legend at the location, among the nine\n",
       "    locations defined so far, with the minimum overlap with other drawn\n",
       "    artists.  This option can be quite slow for plots with large amounts of\n",
       "    data; your plotting speed may benefit from providing a specific location.\n",
       "\n",
       "    The location can also be a 2-tuple giving the coordinates of the lower-left\n",
       "    corner of the legend in axes coordinates (in which case *bbox_to_anchor*\n",
       "    will be ignored).\n",
       "\n",
       "    For back-compatibility, ``'center right'`` (but no other location) can also\n",
       "    be spelled ``'right'``, and each \"string\" locations can also be given as a\n",
       "    numeric value:\n",
       "\n",
       "        ===============   =============\n",
       "        Location String   Location Code\n",
       "        ===============   =============\n",
       "        'best'            0\n",
       "        'upper right'     1\n",
       "        'upper left'      2\n",
       "        'lower left'      3\n",
       "        'lower right'     4\n",
       "        'right'           5\n",
       "        'center left'     6\n",
       "        'center right'    7\n",
       "        'lower center'    8\n",
       "        'upper center'    9\n",
       "        'center'          10\n",
       "        ===============   =============\n",
       "\n",
       "bbox_to_anchor : `.BboxBase`, 2-tuple, or 4-tuple of floats\n",
       "    Box that is used to position the legend in conjunction with *loc*.\n",
       "    Defaults to `axes.bbox` (if called as a method to `.Axes.legend`) or\n",
       "    `figure.bbox` (if `.Figure.legend`).  This argument allows arbitrary\n",
       "    placement of the legend.\n",
       "\n",
       "    Bbox coordinates are interpreted in the coordinate system given by\n",
       "    `bbox_transform`, with the default transform\n",
       "    Axes or Figure coordinates, depending on which ``legend`` is called.\n",
       "\n",
       "    If a 4-tuple or `.BboxBase` is given, then it specifies the bbox\n",
       "    ``(x, y, width, height)`` that the legend is placed in.\n",
       "    To put the legend in the best location in the bottom right\n",
       "    quadrant of the axes (or figure)::\n",
       "\n",
       "        loc='best', bbox_to_anchor=(0.5, 0., 0.5, 0.5)\n",
       "\n",
       "    A 2-tuple ``(x, y)`` places the corner of the legend specified by *loc* at\n",
       "    x, y.  For example, to put the legend's upper right-hand corner in the\n",
       "    center of the axes (or figure) the following keywords can be used::\n",
       "\n",
       "        loc='upper right', bbox_to_anchor=(0.5, 0.5)\n",
       "\n",
       "ncol : integer\n",
       "    The number of columns that the legend has. Default is 1.\n",
       "\n",
       "prop : None or :class:`matplotlib.font_manager.FontProperties` or dict\n",
       "    The font properties of the legend. If None (default), the current\n",
       "    :data:`matplotlib.rcParams` will be used.\n",
       "\n",
       "fontsize : int or float or {'xx-small', 'x-small', 'small', 'medium', 'large', 'x-large', 'xx-large'}\n",
       "    Controls the font size of the legend. If the value is numeric the\n",
       "    size will be the absolute font size in points. String values are\n",
       "    relative to the current default font size. This argument is only\n",
       "    used if `prop` is not specified.\n",
       "\n",
       "numpoints : None or int\n",
       "    The number of marker points in the legend when creating a legend\n",
       "    entry for a `.Line2D` (line).\n",
       "    Default is ``None``, which will take the value from\n",
       "    :rc:`legend.numpoints`.\n",
       "\n",
       "scatterpoints : None or int\n",
       "    The number of marker points in the legend when creating\n",
       "    a legend entry for a `.PathCollection` (scatter plot).\n",
       "    Default is ``None``, which will take the value from\n",
       "    :rc:`legend.scatterpoints`.\n",
       "\n",
       "scatteryoffsets : iterable of floats\n",
       "    The vertical offset (relative to the font size) for the markers\n",
       "    created for a scatter plot legend entry. 0.0 is at the base the\n",
       "    legend text, and 1.0 is at the top. To draw all markers at the\n",
       "    same height, set to ``[0.5]``. Default is ``[0.375, 0.5, 0.3125]``.\n",
       "\n",
       "markerscale : None or int or float\n",
       "    The relative size of legend markers compared with the originally\n",
       "    drawn ones.\n",
       "    Default is ``None``, which will take the value from\n",
       "    :rc:`legend.markerscale`.\n",
       "\n",
       "markerfirst : bool\n",
       "    If *True*, legend marker is placed to the left of the legend label.\n",
       "    If *False*, legend marker is placed to the right of the legend\n",
       "    label.\n",
       "    Default is *True*.\n",
       "\n",
       "frameon : None or bool\n",
       "    Control whether the legend should be drawn on a patch\n",
       "    (frame).\n",
       "    Default is ``None``, which will take the value from\n",
       "    :rc:`legend.frameon`.\n",
       "\n",
       "fancybox : None or bool\n",
       "    Control whether round edges should be enabled around the\n",
       "    :class:`~matplotlib.patches.FancyBboxPatch` which makes up the\n",
       "    legend's background.\n",
       "    Default is ``None``, which will take the value from\n",
       "    :rc:`legend.fancybox`.\n",
       "\n",
       "shadow : None or bool\n",
       "    Control whether to draw a shadow behind the legend.\n",
       "    Default is ``None``, which will take the value from\n",
       "    :rc:`legend.shadow`.\n",
       "\n",
       "framealpha : None or float\n",
       "    Control the alpha transparency of the legend's background.\n",
       "    Default is ``None``, which will take the value from\n",
       "    :rc:`legend.framealpha`.  If shadow is activated and\n",
       "    *framealpha* is ``None``, the default value is ignored.\n",
       "\n",
       "facecolor : None or \"inherit\" or a color spec\n",
       "    Control the legend's background color.\n",
       "    Default is ``None``, which will take the value from\n",
       "    :rc:`legend.facecolor`.  If ``\"inherit\"``, it will take\n",
       "    :rc:`axes.facecolor`.\n",
       "\n",
       "edgecolor : None or \"inherit\" or a color spec\n",
       "    Control the legend's background patch edge color.\n",
       "    Default is ``None``, which will take the value from\n",
       "    :rc:`legend.edgecolor` If ``\"inherit\"``, it will take\n",
       "    :rc:`axes.edgecolor`.\n",
       "\n",
       "mode : {\"expand\", None}\n",
       "    If `mode` is set to ``\"expand\"`` the legend will be horizontally\n",
       "    expanded to fill the axes area (or `bbox_to_anchor` if defines\n",
       "    the legend's size).\n",
       "\n",
       "bbox_transform : None or :class:`matplotlib.transforms.Transform`\n",
       "    The transform for the bounding box (`bbox_to_anchor`). For a value\n",
       "    of ``None`` (default) the Axes'\n",
       "    :data:`~matplotlib.axes.Axes.transAxes` transform will be used.\n",
       "\n",
       "title : str or None\n",
       "    The legend's title. Default is no title (``None``).\n",
       "\n",
       "title_fontsize: str or None\n",
       "    The fontsize of the legend's title.  Default is the default fontsize.\n",
       "\n",
       "borderpad : float or None\n",
       "    The fractional whitespace inside the legend border.\n",
       "    Measured in font-size units.\n",
       "    Default is ``None``, which will take the value from\n",
       "    :rc:`legend.borderpad`.\n",
       "\n",
       "labelspacing : float or None\n",
       "    The vertical space between the legend entries.\n",
       "    Measured in font-size units.\n",
       "    Default is ``None``, which will take the value from\n",
       "    :rc:`legend.labelspacing`.\n",
       "\n",
       "handlelength : float or None\n",
       "    The length of the legend handles.\n",
       "    Measured in font-size units.\n",
       "    Default is ``None``, which will take the value from\n",
       "    :rc:`legend.handlelength`.\n",
       "\n",
       "handletextpad : float or None\n",
       "    The pad between the legend handle and text.\n",
       "    Measured in font-size units.\n",
       "    Default is ``None``, which will take the value from\n",
       "    :rc:`legend.handletextpad`.\n",
       "\n",
       "borderaxespad : float or None\n",
       "    The pad between the axes and legend border.\n",
       "    Measured in font-size units.\n",
       "    Default is ``None``, which will take the value from\n",
       "    :rc:`legend.borderaxespad`.\n",
       "\n",
       "columnspacing : float or None\n",
       "    The spacing between columns.\n",
       "    Measured in font-size units.\n",
       "    Default is ``None``, which will take the value from\n",
       "    :rc:`legend.columnspacing`.\n",
       "\n",
       "handler_map : dict or None\n",
       "    The custom dictionary mapping instances or types to a legend\n",
       "    handler. This `handler_map` updates the default handler map\n",
       "    found at :func:`matplotlib.legend.Legend.get_legend_handler_map`.\n",
       "\n",
       "\n",
       "\n",
       "Returns\n",
       "-------\n",
       "\n",
       ":class:`matplotlib.legend.Legend` instance\n",
       "\n",
       "Notes\n",
       "-----\n",
       "\n",
       "Not all kinds of artist are supported by the legend command. See\n",
       ":doc:`/tutorials/intermediate/legend_guide` for details.\n",
       "\n",
       "Examples\n",
       "--------\n",
       "\n",
       ".. plot:: gallery/text_labels_and_annotations/legend.py\n",
       "\u001b[0;31mFile:\u001b[0m      /fh/fast/bloom_j/software/conda_v2/envs/BloomLab/lib/python3.6/site-packages/matplotlib/pyplot.py\n",
       "\u001b[0;31mType:\u001b[0m      function\n"
      ]
     },
     "metadata": {},
     "output_type": "display_data"
    }
   ],
   "source": [
    "?plt.legend"
   ]
  },
  {
   "cell_type": "code",
   "execution_count": null,
   "metadata": {},
   "outputs": [],
   "source": []
  }
 ],
 "metadata": {
  "kernelspec": {
   "display_name": "Python 3",
   "language": "python",
   "name": "python3"
  },
  "language_info": {
   "codemirror_mode": {
    "name": "ipython",
    "version": 3
   },
   "file_extension": ".py",
   "mimetype": "text/x-python",
   "name": "python",
   "nbconvert_exporter": "python",
   "pygments_lexer": "ipython3",
   "version": "3.6.7"
  },
  "papermill": {
   "duration": 54.715879,
   "end_time": "2019-12-25T01:14:47.838333",
   "environment_variables": {},
   "exception": null,
   "input_path": "notebooks/viral_fastq10x_coverage.ipynb",
   "output_path": "results/viral_fastq10x/viral_fastq10x_coverage.ipynb",
   "parameters": {
    "input_fastq10x_bais": [
     "results/aligned_fastq10x/wt_virus_pilot/Aligned.sortedByCoord.out.bam.bai"
    ],
    "input_fastq10x_bams": [
     "results/aligned_fastq10x/wt_virus_pilot/Aligned.sortedByCoord.out.bam"
    ],
    "input_viral_genbank": "data/flu_sequences/flu-CA09.gb",
    "output_viralbc_locs": "results/viral_fastq10x/viralbc_locs.csv",
    "output_viraltag_locs": "results/viral_fastq10x/viraltag_locs.csv",
    "samples_10x": [
     "wt_virus_pilot"
    ]
   },
   "start_time": "2019-12-25T01:13:53.122454",
   "version": "1.2.1"
  }
 },
 "nbformat": 4,
 "nbformat_minor": 4
}
