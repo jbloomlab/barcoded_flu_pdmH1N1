{
 "cells": [
  {
   "cell_type": "markdown",
   "metadata": {},
   "source": [
    "# Call consensus sequences for viral barcodes in each cell\n",
    "This Python Jupyter notebook corrects/calls consensus viral barcodes in each cell. Viral barcodes are input as UMI count data, assigned to a cell barcode and gene. The notebook uses UMI tools to correct the viral barcodes for each cell; this provides a set of consensus viral barcodes within each cell. The notebo as well as a whitelist of all viral barcodes identified on each segment for each tag.\n",
    "\n",
    "## Notes about UMI_tools\n",
    "* Using directional adjacency method. This has [been demonstrated on simulated data](https://cgatoxford.wordpress.com/2015/08/14/unique-molecular-identifiers-the-problem-the-solution-and-the-proof/) to produce a more accurate estimate of true UMI number than other heuristics.\n",
    "* Sequence must be input as byte. See definition here: https://stackoverflow.com/questions/6269765/what-does-the-b-character-do-in-front-of-a-string-literal\n",
    "* The corrected barcode is returned as the first barcode in the group list. See umi_tools API documentation: https://umi-tools.readthedocs.io/en/latest/API.html\n",
    "\n",
    "Import Python modules:"
   ]
  }
 ],
 "metadata": {
  "kernelspec": {
   "display_name": "Python 3",
   "language": "python",
   "name": "python3"
  },
  "language_info": {
   "codemirror_mode": {
    "name": "ipython",
    "version": 3
   },
   "file_extension": ".py",
   "mimetype": "text/x-python",
   "name": "python",
   "nbconvert_exporter": "python",
   "pygments_lexer": "ipython3",
   "version": "3.8.6"
  }
 },
 "nbformat": 4,
 "nbformat_minor": 4
}
