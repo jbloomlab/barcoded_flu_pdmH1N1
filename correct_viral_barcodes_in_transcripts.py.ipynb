{
 "cells": [
  {
   "cell_type": "markdown",
   "metadata": {},
   "source": [
    "# Correct transcript viral barcodes within each cell\n",
    "This Python Jupyter notebook corrects viral barcodes within each cell. Viral barcodes are input as UMI count data extracted from the transcriptome. Each viral barcode is associated with a cell barcode and a gene.\n",
    "\n",
    "The notebook uses `UMI tools` to correct the viral barcodes for each cell. UMI tools outputs a set of corrected viral barcodes for each cell. The notebook then associates each original viral barcode with it corrected viral barcodes and aggregates the counts for each corrected viral barcodes. Finally, the notebook outputs the corrected viral barcode count.\n",
    "\n",
    "**Notes about UMI_tools**\n",
    "* Using directional adjacency method. This has [been demonstrated on simulated data](https://cgatoxford.wordpress.com/2015/08/14/unique-molecular-identifiers-the-problem-the-solution-and-the-proof/) to produce a more accurate estimate of true UMI number than other heuristics.\n",
    "* Sequence must be input as byte. See definition here: https://stackoverflow.com/questions/6269765/what-does-the-b-character-do-in-front-of-a-string-literal\n",
    "* The corrected barcode is returned as the first barcode in the group list. See umi_tools API documentation: https://umi-tools.readthedocs.io/en/latest/API.html\n",
    "\n",
    "## Notebook setup\n",
    "\n",
    "Import Python modules:"
   ]
  },
  {
   "cell_type": "code",
   "execution_count": 1,
   "metadata": {},
   "outputs": [],
   "source": [
    "import gzip\n",
    "\n",
    "from IPython.display import display\n",
    "\n",
    "from dms_variants.constants import CBPALETTE\n",
    "\n",
    "import numpy as np\n",
    "\n",
    "import pandas as pd\n",
    "\n",
    "import plotnine as p9\n",
    "\n",
    "from umi_tools import UMIClusterer"
   ]
  },
  {
   "cell_type": "markdown",
   "metadata": {},
   "source": [
    "Get `snakemake` variables [as described here](https://snakemake.readthedocs.io/en/stable/snakefiles/rules.html#jupyter-notebook-integration):"
   ]
  },
  {
   "cell_type": "code",
   "execution_count": 2,
   "metadata": {},
   "outputs": [],
   "source": [
    "viral_bc_by_cell = 'results/viral_fastq10x/scProgenyProduction_trial2_viral_bc_by_cell.csv.gz'\n",
    "expt = 'scProgenyProduction_trial2'\n",
    "viral_bc_in_transcripts_corrected_csv = 'scProgenyProduction_trial2_viral_bc_by_cell_corrected.csv.gz'"
   ]
  },
  {
   "cell_type": "markdown",
   "metadata": {},
   "source": [
    "Set plot style"
   ]
  },
  {
   "cell_type": "code",
   "execution_count": 3,
   "metadata": {},
   "outputs": [],
   "source": [
    "p9.theme_set(p9.theme_classic())"
   ]
  },
  {
   "cell_type": "markdown",
   "metadata": {},
   "source": [
    "Import barcode frequency data"
   ]
  },
  {
   "cell_type": "code",
   "execution_count": 4,
   "metadata": {},
   "outputs": [
    {
     "data": {
      "text/html": [
       "<div>\n",
       "<style scoped>\n",
       "    .dataframe tbody tr th:only-of-type {\n",
       "        vertical-align: middle;\n",
       "    }\n",
       "\n",
       "    .dataframe tbody tr th {\n",
       "        vertical-align: top;\n",
       "    }\n",
       "\n",
       "    .dataframe thead th {\n",
       "        text-align: right;\n",
       "    }\n",
       "</style>\n",
       "<table border=\"1\" class=\"dataframe\">\n",
       "  <thead>\n",
       "    <tr style=\"text-align: right;\">\n",
       "      <th></th>\n",
       "      <th>gene</th>\n",
       "      <th>cell_barcode</th>\n",
       "      <th>viral_barcode</th>\n",
       "      <th>count</th>\n",
       "    </tr>\n",
       "  </thead>\n",
       "  <tbody>\n",
       "    <tr>\n",
       "      <th>0</th>\n",
       "      <td>fluHA</td>\n",
       "      <td>AAACCCAAGTAGGTTA</td>\n",
       "      <td>ACGTTATTGATTGAGA</td>\n",
       "      <td>1</td>\n",
       "    </tr>\n",
       "    <tr>\n",
       "      <th>1</th>\n",
       "      <td>fluHA</td>\n",
       "      <td>AAACCCAAGTAGGTTA</td>\n",
       "      <td>AGAATCGACACATGTC</td>\n",
       "      <td>14</td>\n",
       "    </tr>\n",
       "    <tr>\n",
       "      <th>2</th>\n",
       "      <td>fluHA</td>\n",
       "      <td>AAACCCAAGTAGGTTA</td>\n",
       "      <td>AGCCATAGTCTAAAGG</td>\n",
       "      <td>7</td>\n",
       "    </tr>\n",
       "    <tr>\n",
       "      <th>3</th>\n",
       "      <td>fluHA</td>\n",
       "      <td>AAACCCAAGTAGGTTA</td>\n",
       "      <td>AGCCATAGTCTACAGG</td>\n",
       "      <td>1</td>\n",
       "    </tr>\n",
       "    <tr>\n",
       "      <th>4</th>\n",
       "      <td>fluHA</td>\n",
       "      <td>AAACCCAAGTAGGTTA</td>\n",
       "      <td>AGGATGATTTTTTTAT</td>\n",
       "      <td>1</td>\n",
       "    </tr>\n",
       "    <tr>\n",
       "      <th>...</th>\n",
       "      <td>...</td>\n",
       "      <td>...</td>\n",
       "      <td>...</td>\n",
       "      <td>...</td>\n",
       "    </tr>\n",
       "    <tr>\n",
       "      <th>94893</th>\n",
       "      <td>fluNA</td>\n",
       "      <td>TTTGTTGTCTAGGAAA</td>\n",
       "      <td>GAACCCGAAGGGGAAT</td>\n",
       "      <td>1</td>\n",
       "    </tr>\n",
       "    <tr>\n",
       "      <th>94894</th>\n",
       "      <td>fluNA</td>\n",
       "      <td>TTTGTTGTCTAGGAAA</td>\n",
       "      <td>GAACCCGATGGGGAAT</td>\n",
       "      <td>25</td>\n",
       "    </tr>\n",
       "    <tr>\n",
       "      <th>94895</th>\n",
       "      <td>fluNA</td>\n",
       "      <td>TTTGTTGTCTAGGAAA</td>\n",
       "      <td>TAAGGTAAAATAATAG</td>\n",
       "      <td>1</td>\n",
       "    </tr>\n",
       "    <tr>\n",
       "      <th>94896</th>\n",
       "      <td>fluNA</td>\n",
       "      <td>TTTGTTGTCTAGGAAA</td>\n",
       "      <td>TAAGGTATAATTCTAG</td>\n",
       "      <td>4</td>\n",
       "    </tr>\n",
       "    <tr>\n",
       "      <th>94897</th>\n",
       "      <td>fluNA</td>\n",
       "      <td>TTTGTTGTCTAGGAAA</td>\n",
       "      <td>TGTTGGGCTTTAAGCA</td>\n",
       "      <td>5</td>\n",
       "    </tr>\n",
       "  </tbody>\n",
       "</table>\n",
       "<p>94898 rows × 4 columns</p>\n",
       "</div>"
      ],
      "text/plain": [
       "        gene      cell_barcode     viral_barcode  count\n",
       "0      fluHA  AAACCCAAGTAGGTTA  ACGTTATTGATTGAGA      1\n",
       "1      fluHA  AAACCCAAGTAGGTTA  AGAATCGACACATGTC     14\n",
       "2      fluHA  AAACCCAAGTAGGTTA  AGCCATAGTCTAAAGG      7\n",
       "3      fluHA  AAACCCAAGTAGGTTA  AGCCATAGTCTACAGG      1\n",
       "4      fluHA  AAACCCAAGTAGGTTA  AGGATGATTTTTTTAT      1\n",
       "...      ...               ...               ...    ...\n",
       "94893  fluNA  TTTGTTGTCTAGGAAA  GAACCCGAAGGGGAAT      1\n",
       "94894  fluNA  TTTGTTGTCTAGGAAA  GAACCCGATGGGGAAT     25\n",
       "94895  fluNA  TTTGTTGTCTAGGAAA  TAAGGTAAAATAATAG      1\n",
       "94896  fluNA  TTTGTTGTCTAGGAAA  TAAGGTATAATTCTAG      4\n",
       "94897  fluNA  TTTGTTGTCTAGGAAA  TGTTGGGCTTTAAGCA      5\n",
       "\n",
       "[94898 rows x 4 columns]"
      ]
     },
     "metadata": {},
     "output_type": "display_data"
    }
   ],
   "source": [
    "viral_bc_df = pd.read_csv(gzip.open(viral_bc_by_cell))\n",
    "display(viral_bc_df)"
   ]
  },
  {
   "cell_type": "markdown",
   "metadata": {},
   "source": [
    "## Data processing"
   ]
  },
  {
   "cell_type": "code",
   "execution_count": null,
   "metadata": {},
   "outputs": [],
   "source": []
  }
 ],
 "metadata": {
  "kernelspec": {
   "display_name": "Python 3",
   "language": "python",
   "name": "python3"
  },
  "language_info": {
   "codemirror_mode": {
    "name": "ipython",
    "version": 3
   },
   "file_extension": ".py",
   "mimetype": "text/x-python",
   "name": "python",
   "nbconvert_exporter": "python",
   "pygments_lexer": "ipython3",
   "version": "3.8.6"
  }
 },
 "nbformat": 4,
 "nbformat_minor": 4
}
