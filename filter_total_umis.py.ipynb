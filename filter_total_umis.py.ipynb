{
 "cells": [
  {
   "cell_type": "code",
   "execution_count": 1,
   "metadata": {
    "execution": {
     "iopub.execute_input": "2022-01-13T21:11:46.746902Z",
     "iopub.status.busy": "2022-01-13T21:11:46.746185Z",
     "iopub.status.idle": "2022-01-13T21:11:46.809991Z",
     "shell.execute_reply": "2022-01-13T21:11:46.810801Z"
    },
    "tags": [
     "snakemake-job-properties"
    ]
   },
   "outputs": [],
   "source": [
    "\n",
    "######## snakemake preamble start (automatically inserted, do not edit) ########\n",
    "import sys; sys.path.extend(['/fh/fast/bloom_j/software/miniconda3/envs/barcoded_flu_pdmH1N1/lib/python3.8/site-packages', '/fh/fast/bloom_j/computational_notebooks/dbacsik/2019/flu_pdmH1N1_barcode_hashing/notebooks']); import pickle; snakemake = pickle.loads(b'\\x80\\x04\\x95\\xf5\\x1e\\x00\\x00\\x00\\x00\\x00\\x00\\x8c\\x10snakemake.script\\x94\\x8c\\tSnakemake\\x94\\x93\\x94)\\x81\\x94}\\x94(\\x8c\\x05input\\x94\\x8c\\x0csnakemake.io\\x94\\x8c\\nInputFiles\\x94\\x93\\x94)\\x81\\x94(\\x8cYresults/aligned_fastq10x/scProgenyProduction_trial3/Solo.out/GeneFull/filtered/matrix.mtx\\x94\\x8c[results/aligned_fastq10x/scProgenyProduction_trial3/Solo.out/GeneFull/filtered/features.tsv\\x94\\x8c[results/aligned_fastq10x/scProgenyProduction_trial3/Solo.out/GeneFull/filtered/barcodes.tsv\\x94e}\\x94(\\x8c\\x06_names\\x94}\\x94(\\x8c\\x06matrix\\x94K\\x00N\\x86\\x94\\x8c\\x08features\\x94K\\x01N\\x86\\x94\\x8c\\rcell_barcodes\\x94K\\x02N\\x86\\x94u\\x8c\\x12_allowed_overrides\\x94]\\x94(\\x8c\\x05index\\x94\\x8c\\x04sort\\x94eh\\x18\\x8c\\tfunctools\\x94\\x8c\\x07partial\\x94\\x93\\x94h\\x06\\x8c\\x19Namedlist._used_attribute\\x94\\x93\\x94\\x85\\x94R\\x94(h\\x1e)}\\x94\\x8c\\x05_name\\x94h\\x18sNt\\x94bh\\x19h\\x1ch\\x1e\\x85\\x94R\\x94(h\\x1e)}\\x94h\"h\\x19sNt\\x94bh\\x10h\\nh\\x12h\\x0bh\\x14h\\x0cub\\x8c\\x06output\\x94h\\x06\\x8c\\x0bOutputFiles\\x94\\x93\\x94)\\x81\\x94(\\x8ccresults/aligned_fastq10x/scProgenyProduction_trial3/Solo.out/GenFull/filtered/barcodes_filtered.tsv\\x94\\x8cIresults/aligned_fastq10x/scProgenyProduction_trial3/filter_total_umis.pdf\\x94e}\\x94(h\\x0e}\\x94(\\x8c\\x16cell_barcodes_filtered\\x94K\\x00N\\x86\\x94\\x8c\\x04plot\\x94K\\x01N\\x86\\x94uh\\x16]\\x94(h\\x18h\\x19eh\\x18h\\x1ch\\x1e\\x85\\x94R\\x94(h\\x1e)}\\x94h\"h\\x18sNt\\x94bh\\x19h\\x1ch\\x1e\\x85\\x94R\\x94(h\\x1e)}\\x94h\"h\\x19sNt\\x94bh0h,h2h-ub\\x8c\\x06params\\x94h\\x06\\x8c\\x06Params\\x94\\x93\\x94)\\x81\\x94G@\\x04\\x00\\x00\\x00\\x00\\x00\\x00a}\\x94(h\\x0e}\\x94\\x8c\\x14total_UMI_deviations\\x94K\\x00N\\x86\\x94sh\\x16]\\x94(h\\x18h\\x19eh\\x18h\\x1ch\\x1e\\x85\\x94R\\x94(h\\x1e)}\\x94h\"h\\x18sNt\\x94bh\\x19h\\x1ch\\x1e\\x85\\x94R\\x94(h\\x1e)}\\x94h\"h\\x19sNt\\x94bhCG@\\x04\\x00\\x00\\x00\\x00\\x00\\x00ub\\x8c\\twildcards\\x94h\\x06\\x8c\\tWildcards\\x94\\x93\\x94)\\x81\\x94\\x8c\\x1ascProgenyProduction_trial3\\x94a}\\x94(h\\x0e}\\x94\\x8c\\x04expt\\x94K\\x00N\\x86\\x94sh\\x16]\\x94(h\\x18h\\x19eh\\x18h\\x1ch\\x1e\\x85\\x94R\\x94(h\\x1e)}\\x94h\"h\\x18sNt\\x94bh\\x19h\\x1ch\\x1e\\x85\\x94R\\x94(h\\x1e)}\\x94h\"h\\x19sNt\\x94b\\x8c\\x04expt\\x94hRub\\x8c\\x07threads\\x94K\\x01\\x8c\\tresources\\x94h\\x06\\x8c\\tResources\\x94\\x93\\x94)\\x81\\x94(K\\x01K\\x01e}\\x94(h\\x0e}\\x94(\\x8c\\x06_cores\\x94K\\x00N\\x86\\x94\\x8c\\x06_nodes\\x94K\\x01N\\x86\\x94uh\\x16]\\x94(h\\x18h\\x19eh\\x18h\\x1ch\\x1e\\x85\\x94R\\x94(h\\x1e)}\\x94h\"h\\x18sNt\\x94bh\\x19h\\x1ch\\x1e\\x85\\x94R\\x94(h\\x1e)}\\x94h\"h\\x19sNt\\x94bhhK\\x01hjK\\x01ub\\x8c\\x03log\\x94h\\x06\\x8c\\x03Log\\x94\\x93\\x94)\\x81\\x94\\x8c?results/logs/filter_total_umis_scProgenyProduction_trial3.ipynb\\x94a}\\x94(h\\x0e}\\x94\\x8c\\x08notebook\\x94K\\x00N\\x86\\x94sh\\x16]\\x94(h\\x18h\\x19eh\\x18h\\x1ch\\x1e\\x85\\x94R\\x94(h\\x1e)}\\x94h\"h\\x18sNt\\x94bh\\x19h\\x1ch\\x1e\\x85\\x94R\\x94(h\\x1e)}\\x94h\"h\\x19sNt\\x94bh|hyub\\x8c\\x06config\\x94}\\x94(\\x8c\\x08max_cpus\\x94K\\x10\\x8c\\x07log_dir\\x94\\x8c\\x0cresults/logs\\x94\\x8c\\x0cfastq10x_dir\\x94\\x8c\\x10results/fastq10x\\x94\\x8c\\npacbio_dir\\x94\\x8c\\x0eresults/pacbio\\x94\\x8c\\x0emkfastq10x_dir\\x94\\x8c\\x1fresults/fastq10x/mkfastq_output\\x94\\x8c\\ngenome_dir\\x94\\x8c\\x0fresults/genomes\\x94\\x8c\\trefgenome\\x94\\x8c\\x19results/genomes/refgenome\\x94\\x8c\\x14aligned_fastq10x_dir\\x94\\x8c\\x18results/aligned_fastq10x\\x94\\x8c\\x12viral_fastq10x_dir\\x94\\x8c\\x16results/viral_fastq10x\\x94\\x8c\\x1bviral_tags_bcs_in_cells_dir\\x94\\x8c\\x1fresults/viral_tags_bcs_in_cells\\x94\\x8c\\x11viral_progeny_dir\\x94\\x8c\\x15results/viral_progeny\\x94\\x8c\\x13align_and_parse_dir\\x94\\x8c#results/pacbio/CA09_align_and_parse\\x94\\x8c\\x0fcell_genome_ftp\\x94\\x8cmftp://ftp.ensembl.org/pub/release-98/fasta/canis_familiaris/dna/Canis_familiaris.CanFam3.1.dna.toplevel.fa.gz\\x94\\x8c\\x0ccell_gtf_ftp\\x94\\x8c^ftp://ftp.ensembl.org/pub/release-98/gtf/canis_familiaris/Canis_familiaris.CanFam3.1.98.gtf.gz\\x94\\x8c\\x0cviral_genome\\x94\\x8c!data/flu_sequences/flu-CA09.fasta\\x94\\x8c\\tviral_gtf\\x94\\x8c\\x1fdata/flu_sequences/flu-CA09.gtf\\x94\\x8c\\rviral_genbank\\x94\\x8c\\x1edata/flu_sequences/flu-CA09.gb\\x94\\x8c\\x14viral_tag_identities\\x94\\x8c+data/flu_sequences/flu-CA09_viral_tags.yaml\\x94\\x8c\\x0fviral_amplicons\\x94\\x8c.data/flu_sequences/pacbio_amplicons/fluCA09.gb\\x94\\x8c\\x11amplicon_features\\x94\\x8c9data/flu_sequences/pacbio_amplicons/fluCA09_features.yaml\\x94\\x8c\\x1eamplicon_linearization_primers\\x94\\x8c=data/flu_sequences/pacbio_amplicons/linearization_primers.tsv\\x94\\x8c\\x15amplicon_to_reference\\x94\\x8c=data/flu_sequences/pacbio_amplicons/amplicon_to_reference.csv\\x94\\x8c\\x0escoreGapNoncan\\x94J\\xfc\\xff\\xff\\xff\\x8c\\x0cscoreGapGCAG\\x94J\\xfc\\xff\\xff\\xff\\x8c\\x0cscoreGapATAC\\x94J\\xfc\\xff\\xff\\xff\\x8c\\x14cb_whitelist_10x_url\\x94\\x8ckhttps://github.com/10XGenomics/cellranger/raw/master/lib/python/cellranger/barcodes/3M-february-2018.txt.gz\\x94\\x8c\\x10cb_whitelist_10x\\x94\\x8c-results/aligned_fastq10x/cb_whitelist_10x.txt\\x94\\x8c\\ncb_len_10x\\x94K\\x10\\x8c\\x0bumi_len_10x\\x94K\\x0c\\x8c\\x14total_UMI_deviations\\x94G@\\x04\\x00\\x00\\x00\\x00\\x00\\x00\\x8c\\x13infection_threshold\\x94G?\\x84z\\xe1G\\xae\\x14{\\x8c\\rviral_tag_fdr\\x94G?\\x1a6\\xe2\\xeb\\x1cC-\\x8c\\x1dviral_barcode_upstream_length\\x94K\\x1c\\x8c\\x16viral_barcode_mismatch\\x94K\\x00\\x8c\\x12viral_barcode_minq\\x94K\\x1e\\x8c\\x17progeny_detection_limit\\x94\\x8c\\x041e-5\\x94\\x8c\\x0cviral_bc_fdr\\x94G?\\x1a6\\xe2\\xeb\\x1cC-\\x8c\\x0eccs_min_length\\x94K2\\x8c\\x0eccs_max_length\\x94M\\x88\\x13\\x8c\\nccs_min_rq\\x94G?\\xef\\xf7\\xce\\xd9\\x16\\x87+\\x8c\\x0bexperiments\\x94}\\x94\\x8c\\x1ascProgenyProduction_trial3\\x94}\\x94(\\x8c\\x0bdescription\\x94X\\x1b\\x01\\x00\\x00Single-cell transcriptomics performed on even lower MOI-infected sample. Innoculum volumes based on `scProgenyProduction_trial1` and `scProgenyProduction_trial2` data. Loaded all collected cells from two 24-well wells, each infected with either wildtype or dblySn viral tag variants.\\x94\\x8c\\tlab_notes\\x94\\x8c0https://benchling.com/s/etr-N4laiIAy3AUePJdig7wR\\x94\\x8c\\rexpect_ncells\\x94M\\x10\\'\\x8c\\x0ftranscriptomics\\x94}\\x94(\\x8c\\x08datetime\\x94\\x8c\\x04date\\x94\\x93\\x94C\\x04\\x07\\xe5\\x03\\x0c\\x94\\x85\\x94R\\x94}\\x94(\\x8c\\x05index\\x94\\x8c\\x08SI-TT-A3\\x94\\x8c\\nbcl_folder\\x94\\x8c_/shared/ngs/illumina/bloom_lab/210312_D00300_1192_BHKHNYBCX3/raw/210312_D00300_1192_BHKHNYBCX3/\\x94\\x8c\\x04lane\\x94K\\x01\\x8c\\x10index_sequencing\\x94\\x8c\\x06single\\x94uh\\xd6C\\x04\\x07\\xe5\\x04\\t\\x94\\x85\\x94R\\x94}\\x94(\\x8c\\x05index\\x94\\x8c\\x08SI-TT-A3\\x94\\x8c\\nbcl_folder\\x94\\x8c_/shared/ngs/illumina/bloom_lab/210409_D00300_1210_BHKC7KBCX3/raw/210409_D00300_1210_BHKC7KBCX3/\\x94\\x8c\\x04lane\\x94\\x8c\\x01*\\x94\\x8c\\x10index_sequencing\\x94\\x8c\\x06single\\x94uh\\xd6C\\x04\\x07\\xe5\\x08\\x19\\x94\\x85\\x94R\\x94}\\x94(\\x8c\\x05index\\x94\\x8c\\x08SI-TT-A3\\x94\\x8c\\nbcl_folder\\x94\\x8c_/shared/ngs/illumina/bloom_lab/210825_D00300_1310_BHMH5TBCX3/raw/210825_D00300_1310_BHMH5TBCX3/\\x94\\x8c\\x04lane\\x94h\\xeb\\x8c\\x10index_sequencing\\x94\\x8c\\x04none\\x94uh\\xd6C\\x04\\x07\\xe5\\t\\x0f\\x94\\x85\\x94R\\x94}\\x94(\\x8c\\x05index\\x94\\x8c\\x08SI-TT-A3\\x94\\x8c\\nbcl_folder\\x94\\x8cY/shared/ngs/illumina/bloom_lab/210915_VH00699_2_AAAMCL7M5/raw/210915_VH00699_2_AAAMCL7M5/\\x94\\x8c\\x04lane\\x94h\\xeb\\x8c\\x10index_sequencing\\x94\\x8c\\x04none\\x94uu\\x8c\\x17pacbio_viral_sequencing\\x94}\\x94\\x8c\\x1c2021-08-05_all_segments_run1\\x94\\x8cp/fh/fast/bloom_j/SR/ngs/pacbio/210730_SequelIIe/r64272e_20210730_182729/1_A01/m64272e_210730_193026.subreads.bam\\x94s\\x8c\\x0eviral_barcodes\\x94}\\x94(\\x8c\\x0bsupernatant\\x94}\\x94(\\x8c\\x02wt\\x94}\\x94(\\x8c\\x05fluHA\\x94}\\x94(\\x8c\\x0breplicate_1\\x94}\\x94h\\xd6C\\x04\\x07\\xe5\\x04\\x08\\x94\\x85\\x94R\\x94\\x8c\\x90/shared/ngs/illumina/bloom_lab/210408_M04866_0464_000000000-JL5M4_new-demux/Data/Intensities/BaseCalls/WT-sup-fluHA-rep1_S9_L001_R1_001.fastq.gz\\x94s\\x8c\\x0breplicate_2\\x94}\\x94h\\xd6C\\x04\\x07\\xe5\\x04\\x08\\x94\\x85\\x94R\\x94\\x8c\\x91/shared/ngs/illumina/bloom_lab/210408_M04866_0464_000000000-JL5M4_new-demux/Data/Intensities/BaseCalls/WT-sup-fluHA-rep2_S13_L001_R1_001.fastq.gz\\x94su\\x8c\\x05fluNA\\x94}\\x94(\\x8c\\x0breplicate_1\\x94}\\x94h\\xd6C\\x04\\x07\\xe5\\x04\\x08\\x94\\x85\\x94R\\x94\\x8c\\x90/shared/ngs/illumina/bloom_lab/210408_M04866_0464_000000000-JL5M4_new-demux/Data/Intensities/BaseCalls/WT-sup-fluNA-rep1_S1_L001_R1_001.fastq.gz\\x94s\\x8c\\x0breplicate_2\\x94}\\x94h\\xd6C\\x04\\x07\\xe5\\x05\\x11\\x94\\x85\\x94R\\x94\\x8c\\x86/shared/ngs/illumina/bloom_lab/210517_M03100_0681_000000000-JL4TM/Data/Intensities/BaseCalls/WT-sup-fluNA-rep2_S1_L001_R1_001.fastq.gz\\x94suu\\x8c\\x03syn\\x94}\\x94(\\x8c\\x05fluHA\\x94}\\x94(\\x8c\\x0breplicate_1\\x94}\\x94h\\xd6C\\x04\\x07\\xe5\\x04\\x08\\x94\\x85\\x94R\\x94\\x8c\\x95/shared/ngs/illumina/bloom_lab/210408_M04866_0464_000000000-JL5M4_new-demux/Data/Intensities/BaseCalls/dblSyn-sup-fluHA-rep1_S10_L001_R1_001.fastq.gz\\x94s\\x8c\\x0breplicate_2\\x94}\\x94h\\xd6C\\x04\\x07\\xe5\\x04\\x08\\x94\\x85\\x94R\\x94\\x8c\\x95/shared/ngs/illumina/bloom_lab/210408_M04866_0464_000000000-JL5M4_new-demux/Data/Intensities/BaseCalls/dblSyn-sup-fluHA-rep2_S14_L001_R1_001.fastq.gz\\x94su\\x8c\\x05fluNA\\x94}\\x94(\\x8c\\x0breplicate_1\\x94}\\x94h\\xd6C\\x04\\x07\\xe5\\x04\\x08\\x94\\x85\\x94R\\x94\\x8c\\x94/shared/ngs/illumina/bloom_lab/210408_M04866_0464_000000000-JL5M4_new-demux/Data/Intensities/BaseCalls/dblSyn-sup-fluNA-rep1_S2_L001_R1_001.fastq.gz\\x94s\\x8c\\x0breplicate_2\\x94}\\x94h\\xd6C\\x04\\x07\\xe5\\x04\\x08\\x94\\x85\\x94R\\x94\\x8c\\x94/shared/ngs/illumina/bloom_lab/210408_M04866_0464_000000000-JL5M4_new-demux/Data/Intensities/BaseCalls/dblSyn-sup-fluNA-rep2_S6_L001_R1_001.fastq.gz\\x94suuu\\x8c\\x10second_infection\\x94}\\x94(\\x8c\\x02wt\\x94}\\x94(\\x8c\\x05fluHA\\x94}\\x94(\\x8c\\x0breplicate_1\\x94}\\x94h\\xd6C\\x04\\x07\\xe5\\x05\\x11\\x94\\x85\\x94R\\x94\\x8c\\x85/shared/ngs/illumina/bloom_lab/210517_M03100_0681_000000000-JL4TM/Data/Intensities/BaseCalls/WT-SI-fluHA-rep1_S2_L001_R1_001.fastq.gz\\x94s\\x8c\\x0breplicate_2\\x94}\\x94h\\xd6C\\x04\\x07\\xe5\\x05\\x11\\x94\\x85\\x94R\\x94\\x8c\\x85/shared/ngs/illumina/bloom_lab/210517_M03100_0681_000000000-JL4TM/Data/Intensities/BaseCalls/WT-SI-fluHA-rep2_S3_L001_R1_001.fastq.gz\\x94su\\x8c\\x05fluNA\\x94}\\x94(\\x8c\\x0breplicate_1\\x94}\\x94h\\xd6C\\x04\\x07\\xe5\\x05\\x11\\x94\\x85\\x94R\\x94\\x8c\\x86/shared/ngs/illumina/bloom_lab/210517_M03100_0681_000000000-JL4TM/Data/Intensities/BaseCalls/WT-SI-fluNA-rep1_S11_L001_R1_001.fastq.gz\\x94s\\x8c\\x0breplicate_2\\x94}\\x94h\\xd6C\\x04\\x07\\xe5\\x05\\x11\\x94\\x85\\x94R\\x94\\x8c\\x86/shared/ngs/illumina/bloom_lab/210517_M03100_0681_000000000-JL4TM/Data/Intensities/BaseCalls/WT-SI-fluNA-rep2_S12_L001_R1_001.fastq.gz\\x94suu\\x8c\\x03syn\\x94}\\x94(\\x8c\\x05fluHA\\x94}\\x94(\\x8c\\x0breplicate_1\\x94}\\x94h\\xd6C\\x04\\x07\\xe5\\x05\\x11\\x94\\x85\\x94R\\x94\\x8c\\x89/shared/ngs/illumina/bloom_lab/210517_M03100_0681_000000000-JL4TM/Data/Intensities/BaseCalls/dblSyn-SI-fluHA-rep1_S4_L001_R1_001.fastq.gz\\x94s\\x8c\\x0breplicate_2\\x94}\\x94h\\xd6C\\x04\\x07\\xe5\\x05\\x11\\x94\\x85\\x94R\\x94\\x8c\\x89/shared/ngs/illumina/bloom_lab/210517_M03100_0681_000000000-JL4TM/Data/Intensities/BaseCalls/dblSyn-SI-fluHA-rep2_S5_L001_R1_001.fastq.gz\\x94su\\x8c\\x05fluNA\\x94}\\x94(\\x8c\\x0breplicate_1\\x94}\\x94h\\xd6C\\x04\\x07\\xe5\\x05\\x11\\x94\\x85\\x94R\\x94\\x8c\\x8a/shared/ngs/illumina/bloom_lab/210517_M03100_0681_000000000-JL4TM/Data/Intensities/BaseCalls/dblSyn-SI-fluNA-rep1_S13_L001_R1_001.fastq.gz\\x94s\\x8c\\x0breplicate_2\\x94}\\x94h\\xd6C\\x04\\x07\\xe5\\x05\\x11\\x94\\x85\\x94R\\x94\\x8c\\x8a/shared/ngs/illumina/bloom_lab/210517_M03100_0681_000000000-JL4TM/Data/Intensities/BaseCalls/dblSyn-SI-fluNA-rep2_S14_L001_R1_001.fastq.gz\\x94suuuuusu\\x8c\\x04rule\\x94\\x8c\\x11filter_total_umis\\x94\\x8c\\x0fbench_iteration\\x94N\\x8c\\tscriptdir\\x94\\x8c[/fh/fast/bloom_j/computational_notebooks/dbacsik/2019/flu_pdmH1N1_barcode_hashing/notebooks\\x94ub.'); from snakemake.logging import logger; logger.printshellcmds = False; import os; os.chdir('/fh/fast/bloom_j/computational_notebooks/dbacsik/2019/flu_pdmH1N1_barcode_hashing');\n",
    "######## snakemake preamble end #########\n"
   ]
  },
  {
   "cell_type": "markdown",
   "metadata": {},
   "source": [
    "# Filter total UMIs\n",
    "This Python Jupyter notebook uses the total number UMIs to exclude low quality cells and suspected doublets.\n",
    "\n",
    "Import Python modules:"
   ]
  },
  {
   "cell_type": "code",
   "execution_count": 2,
   "metadata": {
    "execution": {
     "iopub.execute_input": "2022-01-13T21:11:46.816627Z",
     "iopub.status.busy": "2022-01-13T21:11:46.815894Z",
     "iopub.status.idle": "2022-01-13T21:11:50.886087Z",
     "shell.execute_reply": "2022-01-13T21:11:50.885213Z"
    }
   },
   "outputs": [],
   "source": [
    "from IPython.display import display\n",
    "\n",
    "from dms_variants.constants import CBPALETTE\n",
    "\n",
    "import numpy\n",
    "\n",
    "import pandas as pd\n",
    "\n",
    "import plotnine as p9\n",
    "\n",
    "import scanpy"
   ]
  },
  {
   "cell_type": "markdown",
   "metadata": {},
   "source": [
    "Get `snakemake` variables [as described here](https://snakemake.readthedocs.io/en/stable/snakefiles/rules.html#jupyter-notebook-integration):"
   ]
  },
  {
   "cell_type": "code",
   "execution_count": 3,
   "metadata": {
    "execution": {
     "iopub.execute_input": "2022-01-13T21:11:50.892275Z",
     "iopub.status.busy": "2022-01-13T21:11:50.891416Z",
     "iopub.status.idle": "2022-01-13T21:11:50.893250Z",
     "shell.execute_reply": "2022-01-13T21:11:50.894074Z"
    }
   },
   "outputs": [],
   "source": [
    "matrix = snakemake.input.matrix\n",
    "features = snakemake.input.features\n",
    "cell_barcodes = snakemake.input.cell_barcodes\n",
    "total_UMI_deviations = float(snakemake.params.total_UMI_deviations)\n",
    "expt = snakemake.wildcards.expt\n",
    "plot = snakemake.output.plot\n",
    "cell_barcodes_filtered = snakemake.output.cell_barcodes_filtered"
   ]
  },
  {
   "cell_type": "markdown",
   "metadata": {},
   "source": [
    "Style parameters:"
   ]
  },
  {
   "cell_type": "code",
   "execution_count": 4,
   "metadata": {
    "execution": {
     "iopub.execute_input": "2022-01-13T21:11:50.900910Z",
     "iopub.status.busy": "2022-01-13T21:11:50.900077Z",
     "iopub.status.idle": "2022-01-13T21:11:50.903073Z",
     "shell.execute_reply": "2022-01-13T21:11:50.902123Z"
    }
   },
   "outputs": [],
   "source": [
    "p9.theme_set(p9.theme_classic())"
   ]
  },
  {
   "cell_type": "markdown",
   "metadata": {},
   "source": [
    "Read the cell-gene matrix into an [AnnData](https://anndata.readthedocs.io/) object:"
   ]
  },
  {
   "cell_type": "code",
   "execution_count": 5,
   "metadata": {
    "execution": {
     "iopub.execute_input": "2022-01-13T21:11:50.908823Z",
     "iopub.status.busy": "2022-01-13T21:11:50.907929Z",
     "iopub.status.idle": "2022-01-13T21:12:22.575692Z",
     "shell.execute_reply": "2022-01-13T21:12:22.576363Z"
    }
   },
   "outputs": [
    {
     "name": "stdout",
     "output_type": "stream",
     "text": [
      "Read cell-gene matrix of 3372 cells and 30959 genes\n"
     ]
    }
   ],
   "source": [
    "adata = scanpy.read_mtx(matrix)\n",
    "adata.var = pd.read_csv(cell_barcodes,\n",
    "                        names=['cell_barcode'])\n",
    "adata.obs = pd.read_csv(features,\n",
    "                        sep='\\t',\n",
    "                        names=['ensemble_id', 'gene', 'feature_type'])\n",
    "\n",
    "print(f\"Read cell-gene matrix of {adata.n_vars} cells and {adata.n_obs} genes\")"
   ]
  },
  {
   "cell_type": "markdown",
   "metadata": {},
   "source": [
    "Now for each cell get the total UMIs."
   ]
  },
  {
   "cell_type": "code",
   "execution_count": 6,
   "metadata": {
    "execution": {
     "iopub.execute_input": "2022-01-13T21:12:22.583722Z",
     "iopub.status.busy": "2022-01-13T21:12:22.583167Z",
     "iopub.status.idle": "2022-01-13T21:12:22.625508Z",
     "shell.execute_reply": "2022-01-13T21:12:22.626126Z"
    }
   },
   "outputs": [
    {
     "data": {
      "text/html": [
       "<div>\n",
       "<style scoped>\n",
       "    .dataframe tbody tr th:only-of-type {\n",
       "        vertical-align: middle;\n",
       "    }\n",
       "\n",
       "    .dataframe tbody tr th {\n",
       "        vertical-align: top;\n",
       "    }\n",
       "\n",
       "    .dataframe thead th {\n",
       "        text-align: right;\n",
       "    }\n",
       "</style>\n",
       "<table border=\"1\" class=\"dataframe\">\n",
       "  <thead>\n",
       "    <tr style=\"text-align: right;\">\n",
       "      <th></th>\n",
       "      <th>cell_barcode</th>\n",
       "      <th>total_UMIs</th>\n",
       "    </tr>\n",
       "  </thead>\n",
       "  <tbody>\n",
       "    <tr>\n",
       "      <th>0</th>\n",
       "      <td>AAACCCAGTAACAAGT</td>\n",
       "      <td>47873</td>\n",
       "    </tr>\n",
       "    <tr>\n",
       "      <th>1</th>\n",
       "      <td>AAACCCATCATTGCTT</td>\n",
       "      <td>90114</td>\n",
       "    </tr>\n",
       "    <tr>\n",
       "      <th>2</th>\n",
       "      <td>AAACGAAAGATGTTGA</td>\n",
       "      <td>111630</td>\n",
       "    </tr>\n",
       "    <tr>\n",
       "      <th>3</th>\n",
       "      <td>AAACGAAGTACTTCCC</td>\n",
       "      <td>56828</td>\n",
       "    </tr>\n",
       "    <tr>\n",
       "      <th>4</th>\n",
       "      <td>AAACGAAGTAGACGTG</td>\n",
       "      <td>124341</td>\n",
       "    </tr>\n",
       "    <tr>\n",
       "      <th>...</th>\n",
       "      <td>...</td>\n",
       "      <td>...</td>\n",
       "    </tr>\n",
       "    <tr>\n",
       "      <th>3367</th>\n",
       "      <td>TTTGATCTCCCGTTCA</td>\n",
       "      <td>63150</td>\n",
       "    </tr>\n",
       "    <tr>\n",
       "      <th>3368</th>\n",
       "      <td>TTTGATCTCGCATTGA</td>\n",
       "      <td>170914</td>\n",
       "    </tr>\n",
       "    <tr>\n",
       "      <th>3369</th>\n",
       "      <td>TTTGGAGAGTTGCCTA</td>\n",
       "      <td>65941</td>\n",
       "    </tr>\n",
       "    <tr>\n",
       "      <th>3370</th>\n",
       "      <td>TTTGGAGGTATCGTTG</td>\n",
       "      <td>150130</td>\n",
       "    </tr>\n",
       "    <tr>\n",
       "      <th>3371</th>\n",
       "      <td>TTTGTTGAGTGCAGCA</td>\n",
       "      <td>135009</td>\n",
       "    </tr>\n",
       "  </tbody>\n",
       "</table>\n",
       "<p>3372 rows × 2 columns</p>\n",
       "</div>"
      ],
      "text/plain": [
       "          cell_barcode  total_UMIs\n",
       "0     AAACCCAGTAACAAGT       47873\n",
       "1     AAACCCATCATTGCTT       90114\n",
       "2     AAACGAAAGATGTTGA      111630\n",
       "3     AAACGAAGTACTTCCC       56828\n",
       "4     AAACGAAGTAGACGTG      124341\n",
       "...                ...         ...\n",
       "3367  TTTGATCTCCCGTTCA       63150\n",
       "3368  TTTGATCTCGCATTGA      170914\n",
       "3369  TTTGGAGAGTTGCCTA       65941\n",
       "3370  TTTGGAGGTATCGTTG      150130\n",
       "3371  TTTGTTGAGTGCAGCA      135009\n",
       "\n",
       "[3372 rows x 2 columns]"
      ]
     },
     "metadata": {},
     "output_type": "display_data"
    }
   ],
   "source": [
    "umi_counts = (\n",
    "    adata.var\n",
    "    .assign(total_UMIs=numpy.sum(adata.X, axis=0).A1.astype(int)))\n",
    "display(umi_counts)"
   ]
  },
  {
   "cell_type": "markdown",
   "metadata": {},
   "source": [
    "Log transform the UMIs:"
   ]
  },
  {
   "cell_type": "code",
   "execution_count": 7,
   "metadata": {
    "execution": {
     "iopub.execute_input": "2022-01-13T21:12:22.630540Z",
     "iopub.status.busy": "2022-01-13T21:12:22.629989Z",
     "iopub.status.idle": "2022-01-13T21:12:22.641070Z",
     "shell.execute_reply": "2022-01-13T21:12:22.640476Z"
    }
   },
   "outputs": [
    {
     "data": {
      "text/html": [
       "<div>\n",
       "<style scoped>\n",
       "    .dataframe tbody tr th:only-of-type {\n",
       "        vertical-align: middle;\n",
       "    }\n",
       "\n",
       "    .dataframe tbody tr th {\n",
       "        vertical-align: top;\n",
       "    }\n",
       "\n",
       "    .dataframe thead th {\n",
       "        text-align: right;\n",
       "    }\n",
       "</style>\n",
       "<table border=\"1\" class=\"dataframe\">\n",
       "  <thead>\n",
       "    <tr style=\"text-align: right;\">\n",
       "      <th></th>\n",
       "      <th>cell_barcode</th>\n",
       "      <th>total_UMIs</th>\n",
       "      <th>log_total_UMIs</th>\n",
       "    </tr>\n",
       "  </thead>\n",
       "  <tbody>\n",
       "    <tr>\n",
       "      <th>0</th>\n",
       "      <td>AAACCCAGTAACAAGT</td>\n",
       "      <td>47873</td>\n",
       "      <td>4.680091</td>\n",
       "    </tr>\n",
       "    <tr>\n",
       "      <th>1</th>\n",
       "      <td>AAACCCATCATTGCTT</td>\n",
       "      <td>90114</td>\n",
       "      <td>4.954792</td>\n",
       "    </tr>\n",
       "    <tr>\n",
       "      <th>2</th>\n",
       "      <td>AAACGAAAGATGTTGA</td>\n",
       "      <td>111630</td>\n",
       "      <td>5.047781</td>\n",
       "    </tr>\n",
       "    <tr>\n",
       "      <th>3</th>\n",
       "      <td>AAACGAAGTACTTCCC</td>\n",
       "      <td>56828</td>\n",
       "      <td>4.754562</td>\n",
       "    </tr>\n",
       "    <tr>\n",
       "      <th>4</th>\n",
       "      <td>AAACGAAGTAGACGTG</td>\n",
       "      <td>124341</td>\n",
       "      <td>5.094614</td>\n",
       "    </tr>\n",
       "    <tr>\n",
       "      <th>...</th>\n",
       "      <td>...</td>\n",
       "      <td>...</td>\n",
       "      <td>...</td>\n",
       "    </tr>\n",
       "    <tr>\n",
       "      <th>3367</th>\n",
       "      <td>TTTGATCTCCCGTTCA</td>\n",
       "      <td>63150</td>\n",
       "      <td>4.800373</td>\n",
       "    </tr>\n",
       "    <tr>\n",
       "      <th>3368</th>\n",
       "      <td>TTTGATCTCGCATTGA</td>\n",
       "      <td>170914</td>\n",
       "      <td>5.232778</td>\n",
       "    </tr>\n",
       "    <tr>\n",
       "      <th>3369</th>\n",
       "      <td>TTTGGAGAGTTGCCTA</td>\n",
       "      <td>65941</td>\n",
       "      <td>4.819156</td>\n",
       "    </tr>\n",
       "    <tr>\n",
       "      <th>3370</th>\n",
       "      <td>TTTGGAGGTATCGTTG</td>\n",
       "      <td>150130</td>\n",
       "      <td>5.176467</td>\n",
       "    </tr>\n",
       "    <tr>\n",
       "      <th>3371</th>\n",
       "      <td>TTTGTTGAGTGCAGCA</td>\n",
       "      <td>135009</td>\n",
       "      <td>5.130363</td>\n",
       "    </tr>\n",
       "  </tbody>\n",
       "</table>\n",
       "<p>3372 rows × 3 columns</p>\n",
       "</div>"
      ],
      "text/plain": [
       "          cell_barcode  total_UMIs  log_total_UMIs\n",
       "0     AAACCCAGTAACAAGT       47873        4.680091\n",
       "1     AAACCCATCATTGCTT       90114        4.954792\n",
       "2     AAACGAAAGATGTTGA      111630        5.047781\n",
       "3     AAACGAAGTACTTCCC       56828        4.754562\n",
       "4     AAACGAAGTAGACGTG      124341        5.094614\n",
       "...                ...         ...             ...\n",
       "3367  TTTGATCTCCCGTTCA       63150        4.800373\n",
       "3368  TTTGATCTCGCATTGA      170914        5.232778\n",
       "3369  TTTGGAGAGTTGCCTA       65941        4.819156\n",
       "3370  TTTGGAGGTATCGTTG      150130        5.176467\n",
       "3371  TTTGTTGAGTGCAGCA      135009        5.130363\n",
       "\n",
       "[3372 rows x 3 columns]"
      ]
     },
     "metadata": {},
     "output_type": "display_data"
    }
   ],
   "source": [
    "umi_counts['log_total_UMIs'] = numpy.log10(umi_counts['total_UMIs'])\n",
    "display(umi_counts)"
   ]
  },
  {
   "cell_type": "code",
   "execution_count": 8,
   "metadata": {
    "execution": {
     "iopub.execute_input": "2022-01-13T21:12:22.653301Z",
     "iopub.status.busy": "2022-01-13T21:12:22.652736Z",
     "iopub.status.idle": "2022-01-13T21:12:22.950715Z",
     "shell.execute_reply": "2022-01-13T21:12:22.950159Z"
    }
   },
   "outputs": [
    {
     "name": "stderr",
     "output_type": "stream",
     "text": [
      "/fh/fast/bloom_j/software/miniconda3/envs/barcoded_flu_pdmH1N1/lib/python3.8/site-packages/plotnine/guides/guides.py:197: PlotnineWarning: Cannot generate legend for the 'color' aesthetic. Make sure you have mapped a variable to it\n"
     ]
    },
    {
     "data": {
      "image/png": "[encoded data removed]",
      "text/plain": [
       "<Figure size 400x200 with 1 Axes>"
      ]
     },
     "metadata": {},
     "output_type": "display_data"
    },
    {
     "data": {
      "text/plain": [
       "<ggplot: (8754660621505)>"
      ]
     },
     "metadata": {},
     "output_type": "display_data"
    }
   ],
   "source": [
    "total_UMI_histogram = (\n",
    "    p9.ggplot(\n",
    "        (umi_counts),\n",
    "        p9.aes(x='total_UMIs',)) +\n",
    "    p9.geom_histogram(bins=25) +\n",
    "    p9.ggtitle('total_UMIs per cell\\n'\n",
    "               f'{expt}') +\n",
    "    p9.theme(figure_size=(4, 2),\n",
    "             plot_title=p9.element_text(size=9),\n",
    "             axis_title=p9.element_text(size=9),\n",
    "             legend_title=p9.element_text(size=9),\n",
    "             legend_title_align='center') +\n",
    "    p9.scale_color_manual(CBPALETTE)\n",
    ")\n",
    "display(total_UMI_histogram)"
   ]
  },
  {
   "cell_type": "code",
   "execution_count": 9,
   "metadata": {
    "execution": {
     "iopub.execute_input": "2022-01-13T21:12:22.964377Z",
     "iopub.status.busy": "2022-01-13T21:12:22.961620Z",
     "iopub.status.idle": "2022-01-13T21:12:23.273465Z",
     "shell.execute_reply": "2022-01-13T21:12:23.273941Z"
    }
   },
   "outputs": [
    {
     "name": "stderr",
     "output_type": "stream",
     "text": [
      "/fh/fast/bloom_j/software/miniconda3/envs/barcoded_flu_pdmH1N1/lib/python3.8/site-packages/plotnine/guides/guides.py:197: PlotnineWarning: Cannot generate legend for the 'color' aesthetic. Make sure you have mapped a variable to it\n"
     ]
    },
    {
     "data": {
      "image/png": "[encoded data removed]",
      "text/plain": [
       "<Figure size 400x200 with 1 Axes>"
      ]
     },
     "metadata": {},
     "output_type": "display_data"
    },
    {
     "data": {
      "text/plain": [
       "<ggplot: (8754651781105)>"
      ]
     },
     "metadata": {},
     "output_type": "display_data"
    }
   ],
   "source": [
    "log_total_UMI_histogram = (\n",
    "    p9.ggplot(\n",
    "        (umi_counts),\n",
    "        p9.aes(x='log_total_UMIs',)) +\n",
    "    p9.geom_histogram(bins=25) +\n",
    "    p9.ggtitle('log total_UMIs per cell\\n'\n",
    "               f'{expt}') +\n",
    "    p9.theme(figure_size=(4, 2),\n",
    "             plot_title=p9.element_text(size=9),\n",
    "             axis_title=p9.element_text(size=9),\n",
    "             legend_title=p9.element_text(size=9),\n",
    "             legend_title_align='center') +\n",
    "    p9.scale_color_manual(CBPALETTE)\n",
    ")\n",
    "display(log_total_UMI_histogram)"
   ]
  },
  {
   "cell_type": "markdown",
   "metadata": {},
   "source": [
    "Calculate the median and median absolute deviation of the log-transformed values:"
   ]
  },
  {
   "cell_type": "code",
   "execution_count": 10,
   "metadata": {
    "execution": {
     "iopub.execute_input": "2022-01-13T21:12:23.280717Z",
     "iopub.status.busy": "2022-01-13T21:12:23.280168Z",
     "iopub.status.idle": "2022-01-13T21:12:23.285067Z",
     "shell.execute_reply": "2022-01-13T21:12:23.285585Z"
    }
   },
   "outputs": [
    {
     "name": "stdout",
     "output_type": "stream",
     "text": [
      "The median value of the log transformed UMI counts is: 4.903987505236364\n",
      "The median absolute deviation of the log transformed UMI counts is: 0.12912756360589883\n"
     ]
    }
   ],
   "source": [
    "def median_absolute_deviation(input_series):\n",
    "    median = numpy.median(input_series)\n",
    "    d = numpy.absolute(input_series - median)\n",
    "    mad = numpy.median(d)\n",
    "    output_dict = {'median': median,\n",
    "                   'mad': mad}\n",
    "    return(output_dict)\n",
    "\n",
    "log_total_UMIs_stats = median_absolute_deviation(umi_counts['log_total_UMIs'])\n",
    "print(f'The median value of the log transformed UMI counts is: {log_total_UMIs_stats[\"median\"]}')\n",
    "print(f'The median absolute deviation of the log transformed UMI counts is: {log_total_UMIs_stats[\"mad\"]}')"
   ]
  },
  {
   "cell_type": "markdown",
   "metadata": {},
   "source": [
    "Set the limits for filtering at 3 times the median absolute deviation:"
   ]
  },
  {
   "cell_type": "code",
   "execution_count": 11,
   "metadata": {
    "execution": {
     "iopub.execute_input": "2022-01-13T21:12:23.291442Z",
     "iopub.status.busy": "2022-01-13T21:12:23.290892Z",
     "iopub.status.idle": "2022-01-13T21:12:23.294086Z",
     "shell.execute_reply": "2022-01-13T21:12:23.294511Z"
    }
   },
   "outputs": [
    {
     "name": "stdout",
     "output_type": "stream",
     "text": [
      "The lower limit of the log transformed UMI counts is: 4.581168596221617\n",
      "The upper imit of the log transformed UMI counts is: 5.226806414251111\n"
     ]
    }
   ],
   "source": [
    "log_total_UMIs_stats['lower_limit'] = (log_total_UMIs_stats['median'] - \n",
    "                                       (total_UMI_deviations * log_total_UMIs_stats['mad']))\n",
    "log_total_UMIs_stats['upper_limit'] = (log_total_UMIs_stats['median'] + \n",
    "                                       (total_UMI_deviations * log_total_UMIs_stats['mad']))\n",
    "print(f'The lower limit of the log transformed UMI counts is: {log_total_UMIs_stats[\"lower_limit\"]}')\n",
    "print(f'The upper imit of the log transformed UMI counts is: {log_total_UMIs_stats[\"upper_limit\"]}')"
   ]
  },
  {
   "cell_type": "markdown",
   "metadata": {},
   "source": [
    "Annotate excluded cells:"
   ]
  },
  {
   "cell_type": "code",
   "execution_count": 12,
   "metadata": {
    "execution": {
     "iopub.execute_input": "2022-01-13T21:12:23.303576Z",
     "iopub.status.busy": "2022-01-13T21:12:23.301702Z",
     "iopub.status.idle": "2022-01-13T21:12:23.315201Z",
     "shell.execute_reply": "2022-01-13T21:12:23.315719Z"
    }
   },
   "outputs": [
    {
     "data": {
      "text/html": [
       "<div>\n",
       "<style scoped>\n",
       "    .dataframe tbody tr th:only-of-type {\n",
       "        vertical-align: middle;\n",
       "    }\n",
       "\n",
       "    .dataframe tbody tr th {\n",
       "        vertical-align: top;\n",
       "    }\n",
       "\n",
       "    .dataframe thead th {\n",
       "        text-align: right;\n",
       "    }\n",
       "</style>\n",
       "<table border=\"1\" class=\"dataframe\">\n",
       "  <thead>\n",
       "    <tr style=\"text-align: right;\">\n",
       "      <th></th>\n",
       "      <th>cell_barcode</th>\n",
       "      <th>total_UMIs</th>\n",
       "      <th>log_total_UMIs</th>\n",
       "      <th>filtered</th>\n",
       "    </tr>\n",
       "  </thead>\n",
       "  <tbody>\n",
       "    <tr>\n",
       "      <th>0</th>\n",
       "      <td>AAACCCAGTAACAAGT</td>\n",
       "      <td>47873</td>\n",
       "      <td>4.680091</td>\n",
       "      <td>False</td>\n",
       "    </tr>\n",
       "    <tr>\n",
       "      <th>1</th>\n",
       "      <td>AAACCCATCATTGCTT</td>\n",
       "      <td>90114</td>\n",
       "      <td>4.954792</td>\n",
       "      <td>False</td>\n",
       "    </tr>\n",
       "    <tr>\n",
       "      <th>2</th>\n",
       "      <td>AAACGAAAGATGTTGA</td>\n",
       "      <td>111630</td>\n",
       "      <td>5.047781</td>\n",
       "      <td>False</td>\n",
       "    </tr>\n",
       "    <tr>\n",
       "      <th>3</th>\n",
       "      <td>AAACGAAGTACTTCCC</td>\n",
       "      <td>56828</td>\n",
       "      <td>4.754562</td>\n",
       "      <td>False</td>\n",
       "    </tr>\n",
       "    <tr>\n",
       "      <th>4</th>\n",
       "      <td>AAACGAAGTAGACGTG</td>\n",
       "      <td>124341</td>\n",
       "      <td>5.094614</td>\n",
       "      <td>False</td>\n",
       "    </tr>\n",
       "    <tr>\n",
       "      <th>...</th>\n",
       "      <td>...</td>\n",
       "      <td>...</td>\n",
       "      <td>...</td>\n",
       "      <td>...</td>\n",
       "    </tr>\n",
       "    <tr>\n",
       "      <th>3367</th>\n",
       "      <td>TTTGATCTCCCGTTCA</td>\n",
       "      <td>63150</td>\n",
       "      <td>4.800373</td>\n",
       "      <td>False</td>\n",
       "    </tr>\n",
       "    <tr>\n",
       "      <th>3368</th>\n",
       "      <td>TTTGATCTCGCATTGA</td>\n",
       "      <td>170914</td>\n",
       "      <td>5.232778</td>\n",
       "      <td>True</td>\n",
       "    </tr>\n",
       "    <tr>\n",
       "      <th>3369</th>\n",
       "      <td>TTTGGAGAGTTGCCTA</td>\n",
       "      <td>65941</td>\n",
       "      <td>4.819156</td>\n",
       "      <td>False</td>\n",
       "    </tr>\n",
       "    <tr>\n",
       "      <th>3370</th>\n",
       "      <td>TTTGGAGGTATCGTTG</td>\n",
       "      <td>150130</td>\n",
       "      <td>5.176467</td>\n",
       "      <td>False</td>\n",
       "    </tr>\n",
       "    <tr>\n",
       "      <th>3371</th>\n",
       "      <td>TTTGTTGAGTGCAGCA</td>\n",
       "      <td>135009</td>\n",
       "      <td>5.130363</td>\n",
       "      <td>False</td>\n",
       "    </tr>\n",
       "  </tbody>\n",
       "</table>\n",
       "<p>3372 rows × 4 columns</p>\n",
       "</div>"
      ],
      "text/plain": [
       "          cell_barcode  total_UMIs  log_total_UMIs  filtered\n",
       "0     AAACCCAGTAACAAGT       47873        4.680091     False\n",
       "1     AAACCCATCATTGCTT       90114        4.954792     False\n",
       "2     AAACGAAAGATGTTGA      111630        5.047781     False\n",
       "3     AAACGAAGTACTTCCC       56828        4.754562     False\n",
       "4     AAACGAAGTAGACGTG      124341        5.094614     False\n",
       "...                ...         ...             ...       ...\n",
       "3367  TTTGATCTCCCGTTCA       63150        4.800373     False\n",
       "3368  TTTGATCTCGCATTGA      170914        5.232778      True\n",
       "3369  TTTGGAGAGTTGCCTA       65941        4.819156     False\n",
       "3370  TTTGGAGGTATCGTTG      150130        5.176467     False\n",
       "3371  TTTGTTGAGTGCAGCA      135009        5.130363     False\n",
       "\n",
       "[3372 rows x 4 columns]"
      ]
     },
     "metadata": {},
     "output_type": "display_data"
    }
   ],
   "source": [
    "umi_counts['filtered'] = ((umi_counts['log_total_UMIs'] < log_total_UMIs_stats['lower_limit']) |\n",
    "                          (umi_counts['log_total_UMIs'] > log_total_UMIs_stats['upper_limit']))\n",
    "display(umi_counts)"
   ]
  },
  {
   "cell_type": "markdown",
   "metadata": {},
   "source": [
    "Plot number of excluded cells:"
   ]
  },
  {
   "cell_type": "code",
   "execution_count": 13,
   "metadata": {
    "execution": {
     "iopub.execute_input": "2022-01-13T21:12:23.325376Z",
     "iopub.status.busy": "2022-01-13T21:12:23.324064Z",
     "iopub.status.idle": "2022-01-13T21:12:23.594215Z",
     "shell.execute_reply": "2022-01-13T21:12:23.593665Z"
    }
   },
   "outputs": [
    {
     "data": {
      "image/png": "[encoded data removed]",
      "text/plain": [
       "<Figure size 200x200 with 1 Axes>"
      ]
     },
     "metadata": {},
     "output_type": "display_data"
    },
    {
     "data": {
      "text/plain": [
       "<ggplot: (8754651787773)>"
      ]
     },
     "metadata": {},
     "output_type": "display_data"
    }
   ],
   "source": [
    "outcome_plot = (\n",
    "    p9.ggplot(\n",
    "        (umi_counts),\n",
    "        p9.aes(x='filtered',\n",
    "               fill='filtered')) +\n",
    "    p9.geom_bar(stat='count') +\n",
    "    p9.ggtitle('Number of cells filtered on total UMIs\\n'\n",
    "               f'{expt}') +\n",
    "    p9.theme(figure_size=(2, 2),\n",
    "             plot_title=p9.element_text(size=9),\n",
    "             axis_title=p9.element_text(size=9),\n",
    "             legend_title=p9.element_text(size=9),\n",
    "             legend_title_align='center') +\n",
    "    p9.scale_fill_manual(CBPALETTE)\n",
    ")\n",
    "display(outcome_plot)"
   ]
  },
  {
   "cell_type": "markdown",
   "metadata": {},
   "source": [
    "Plot histogram with limits:"
   ]
  },
  {
   "cell_type": "code",
   "execution_count": 14,
   "metadata": {
    "execution": {
     "iopub.execute_input": "2022-01-13T21:12:23.607852Z",
     "iopub.status.busy": "2022-01-13T21:12:23.606593Z",
     "iopub.status.idle": "2022-01-13T21:12:23.991376Z",
     "shell.execute_reply": "2022-01-13T21:12:23.990735Z"
    }
   },
   "outputs": [
    {
     "data": {
      "image/png": "[encoded data removed]",
      "text/plain": [
       "<Figure size 400x200 with 1 Axes>"
      ]
     },
     "metadata": {},
     "output_type": "display_data"
    },
    {
     "data": {
      "text/plain": [
       "<ggplot: (8754660278203)>"
      ]
     },
     "metadata": {},
     "output_type": "display_data"
    }
   ],
   "source": [
    "filtered_log_histogram = (\n",
    "    p9.ggplot(\n",
    "        (umi_counts),\n",
    "        p9.aes(x='log_total_UMIs',\n",
    "               fill='filtered')) +\n",
    "    p9.geom_histogram(bins=25) +\n",
    "    p9.geom_vline(xintercept=[log_total_UMIs_stats['lower_limit'],\n",
    "                              log_total_UMIs_stats['upper_limit']],\n",
    "                  linetype='dashed',\n",
    "                  color='green') +\n",
    "    p9.ggtitle('log total_UMIs per cell\\n'\n",
    "               f'{expt}\\n'\n",
    "               f'limit set at {total_UMI_deviations} deviations from median') +\n",
    "    p9.theme(figure_size=(4, 2),\n",
    "             plot_title=p9.element_text(size=9),\n",
    "             axis_title=p9.element_text(size=9),\n",
    "             legend_title=p9.element_text(size=9),\n",
    "             legend_title_align='center') +\n",
    "    p9.scale_fill_manual(CBPALETTE)\n",
    ")\n",
    "display(filtered_log_histogram)"
   ]
  },
  {
   "cell_type": "markdown",
   "metadata": {},
   "source": [
    "Plot histgrom on linear scale annotated with filter status:"
   ]
  },
  {
   "cell_type": "code",
   "execution_count": 15,
   "metadata": {
    "execution": {
     "iopub.execute_input": "2022-01-13T21:12:24.005640Z",
     "iopub.status.busy": "2022-01-13T21:12:24.005137Z",
     "iopub.status.idle": "2022-01-13T21:12:24.403160Z",
     "shell.execute_reply": "2022-01-13T21:12:24.402529Z"
    }
   },
   "outputs": [
    {
     "data": {
      "image/png": "[encoded data removed]",
      "text/plain": [
       "<Figure size 600x200 with 1 Axes>"
      ]
     },
     "metadata": {},
     "output_type": "display_data"
    },
    {
     "data": {
      "text/plain": [
       "<ggplot: (8754651787027)>"
      ]
     },
     "metadata": {},
     "output_type": "display_data"
    }
   ],
   "source": [
    "filtered_total_UMI_histgoram = (\n",
    "    p9.ggplot(\n",
    "        (umi_counts),\n",
    "        p9.aes(x='total_UMIs',\n",
    "               fill='filtered')) +\n",
    "    p9.geom_histogram(bins=25) +\n",
    "    p9.ggtitle('total UMIs per cell\\n'\n",
    "               f'{expt}') +\n",
    "    p9.scale_x_continuous(breaks=list(range(0,max(umi_counts['total_UMIs']),50000))) +\n",
    "    p9.theme(figure_size=(6, 2),\n",
    "             plot_title=p9.element_text(size=9),\n",
    "             axis_title=p9.element_text(size=9),\n",
    "             legend_title=p9.element_text(size=9),\n",
    "             legend_title_align='center') +\n",
    "    p9.scale_fill_manual(CBPALETTE)\n",
    ")\n",
    "display(filtered_total_UMI_histgoram)"
   ]
  },
  {
   "cell_type": "markdown",
   "metadata": {},
   "source": [
    "Export log-scale histogram"
   ]
  },
  {
   "cell_type": "code",
   "execution_count": 16,
   "metadata": {
    "execution": {
     "iopub.execute_input": "2022-01-13T21:12:24.413262Z",
     "iopub.status.busy": "2022-01-13T21:12:24.411149Z",
     "iopub.status.idle": "2022-01-13T21:12:24.851544Z",
     "shell.execute_reply": "2022-01-13T21:12:24.850714Z"
    }
   },
   "outputs": [
    {
     "name": "stdout",
     "output_type": "stream",
     "text": [
      "Saving histogram to results/aligned_fastq10x/scProgenyProduction_trial3/filter_total_umis.pdf\n"
     ]
    },
    {
     "name": "stderr",
     "output_type": "stream",
     "text": [
      "/fh/fast/bloom_j/software/miniconda3/envs/barcoded_flu_pdmH1N1/lib/python3.8/site-packages/plotnine/ggplot.py:727: PlotnineWarning: Saving 4 x 2 in image.\n",
      "/fh/fast/bloom_j/software/miniconda3/envs/barcoded_flu_pdmH1N1/lib/python3.8/site-packages/plotnine/ggplot.py:730: PlotnineWarning: Filename: results/aligned_fastq10x/scProgenyProduction_trial3/filter_total_umis.pdf\n"
     ]
    }
   ],
   "source": [
    "print(f\"Saving histogram to {plot}\")\n",
    "filtered_log_histogram.save(plot)"
   ]
  },
  {
   "cell_type": "markdown",
   "metadata": {},
   "source": [
    "Export filtered list of cell barcodes:"
   ]
  },
  {
   "cell_type": "code",
   "execution_count": 17,
   "metadata": {
    "execution": {
     "iopub.execute_input": "2022-01-13T21:12:24.862173Z",
     "iopub.status.busy": "2022-01-13T21:12:24.859222Z",
     "iopub.status.idle": "2022-01-13T21:12:24.882206Z",
     "shell.execute_reply": "2022-01-13T21:12:24.881623Z"
    }
   },
   "outputs": [
    {
     "data": {
      "text/plain": [
       "0       AAACCCAGTAACAAGT\n",
       "1       AAACCCATCATTGCTT\n",
       "2       AAACGAAAGATGTTGA\n",
       "3       AAACGAAGTACTTCCC\n",
       "4       AAACGAAGTAGACGTG\n",
       "              ...       \n",
       "3124    TTTGATCTCAGTCATG\n",
       "3125    TTTGATCTCCCGTTCA\n",
       "3126    TTTGGAGAGTTGCCTA\n",
       "3127    TTTGGAGGTATCGTTG\n",
       "3128    TTTGTTGAGTGCAGCA\n",
       "Name: cell_barcode, Length: 3129, dtype: object"
      ]
     },
     "metadata": {},
     "output_type": "display_data"
    },
    {
     "name": "stdout",
     "output_type": "stream",
     "text": [
      "Saving filtered cell barcodes to results/aligned_fastq10x/scProgenyProduction_trial3/Solo.out/GenFull/filtered/barcodes_filtered.tsv\n"
     ]
    }
   ],
   "source": [
    "cell_barcodes_filtered_list = (\n",
    "    umi_counts.query('filtered == False')\n",
    "    ['cell_barcode']\n",
    "    .reset_index(drop=True)\n",
    "    )\n",
    "\n",
    "display(cell_barcodes_filtered_list)\n",
    "\n",
    "print(f\"Saving filtered cell barcodes to {cell_barcodes_filtered}\")\n",
    "cell_barcodes_filtered_list.to_csv(cell_barcodes_filtered,\n",
    "                                   index=False)"
   ]
  },
  {
   "cell_type": "code",
   "execution_count": null,
   "metadata": {},
   "outputs": [],
   "source": []
  }
 ],
 "metadata": {
  "kernelspec": {
   "display_name": "Python 3",
   "language": "python",
   "name": "python3"
  },
  "language_info": {
   "codemirror_mode": {
    "name": "ipython",
    "version": 3
   },
   "file_extension": ".py",
   "mimetype": "text/x-python",
   "name": "python",
   "nbconvert_exporter": "python",
   "pygments_lexer": "ipython3",
   "version": "3.8.6"
  }
 },
 "nbformat": 4,
 "nbformat_minor": 4
}
