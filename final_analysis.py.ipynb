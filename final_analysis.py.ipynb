{
 "cells": [
  {
   "cell_type": "markdown",
   "metadata": {},
   "source": [
    "# final_analysis.py.ipynb\n",
    "This notebook plots the figures for the manuscript. It starts with a single source of input data (`integrate_data.csv`). We restrict the analysis to our sample of interest (cells infected by a WT virus). Then, we calculate the necessary outcome metrics and plot the outcomes of infection."
   ]
  },
  {
   "cell_type": "markdown",
   "metadata": {},
   "source": [
    "## Notebook setup\n",
    "Import Python modules:"
   ]
  },
  {
   "cell_type": "code",
   "execution_count": null,
   "metadata": {},
   "outputs": [],
   "source": [
    "from IPython.display import display\n",
    "from pymodules.gini import *\n",
    "from scipy import stats\n",
    "from svgutils.compose import *\n",
    "import altair as alt\n",
    "import itertools\n",
    "import matplotlib.pyplot as plt\n",
    "import numpy as np\n",
    "import os\n",
    "import pandas as pd\n",
    "import plotnine as p9\n",
    "import scikit_posthocs as sp\n",
    "import seaborn as sns\n",
    "import subprocess"
   ]
  },
  {
   "cell_type": "markdown",
   "metadata": {},
   "source": [
    "Set the theme for plots:"
   ]
  },
  {
   "cell_type": "code",
   "execution_count": null,
   "metadata": {},
   "outputs": [],
   "source": [
    "p9.theme_set(p9.theme_classic())\n",
    "CBPALETTE = [\"#999999\", \"#E69F00\", \"#56B4E9\", \"#009E73\", \"#F0E442\", \"#0072B2\", \"#D55E00\", \"#CC79A7\"]"
   ]
  },
  {
   "cell_type": "markdown",
   "metadata": {},
   "source": [
    "Set output folder for figures:"
   ]
  },
  {
   "cell_type": "code",
   "execution_count": null,
   "metadata": {},
   "outputs": [],
   "source": [
    "figure_dir = 'results/figures'\n",
    "if not os.path.exists(figure_dir):\n",
    "    # Create a new directory because it does not exist \n",
    "    os.makedirs(figure_dir)\n",
    "    print(f\"Made `{figure_dir}` directory \")\n",
    "else:\n",
    "    print(f\"Directory `{figure_dir}` already exists.\")"
   ]
  },
  {
   "cell_type": "markdown",
   "metadata": {},
   "source": [
    "## Input data\n",
    "### Read input data\n",
    "The general structure of the `integrated_data_csv` file is that each cell barcode is listed on a row, and features of that cell are listed in columns. Cells that have more than one valid viral barcode identified may have multiple rows--one for each valid viral barcode."
   ]
  },
  {
   "cell_type": "code",
   "execution_count": null,
   "metadata": {},
   "outputs": [],
   "source": [
    "integrated_data_csv = 'results/viral_fastq10x/all_samples.csv'\n",
    "integrated_data = pd.read_csv(integrated_data_csv)\n",
    "integrated_data"
   ]
  },
  {
   "cell_type": "markdown",
   "metadata": {},
   "source": [
    "### Combine data for each cell into single row\n",
    "Process the dataframe so that each cell becomes a single row. Progeny contributions are summed for each cell, source, and barcoded gene (e.g. supernatant_freq_fluHA) and listed in a column."
   ]
  },
  {
   "cell_type": "code",
   "execution_count": null,
   "metadata": {},
   "outputs": [],
   "source": [
    "min_viral_barcode_freq = 1e-5  # value assigned to unobserved viral barcodes\n",
    "\n",
    "# aggregate observed viral barcodes for each gene and cell\n",
    "processed_data = (\n",
    "    integrated_data\n",
    "    .groupby([\"cell_barcode\", \"barcoded_gene\"], as_index=False)\n",
    "    .aggregate(\n",
    "        n_viral_barcodes=pd.NamedAgg(\"viral_barcode\", lambda v: v.astype(bool).astype(int).sum()),\n",
    "        viral_barcodes=pd.NamedAgg(\"viral_barcode\", \"; \".join),\n",
    "        freq_supernatant=pd.NamedAgg(\"freq_supernatant\", \"sum\"),\n",
    "        freq_second_infection=pd.NamedAgg(\"freq_second_infection\", \"sum\"),\n",
    "    )\n",
    ")\n",
    "assert processed_data.notnull().all().all()\n",
    "\n",
    "# get barcoded viral genes\n",
    "barcoded_genes = processed_data[\"barcoded_gene\"].unique().tolist()\n",
    "\n",
    "# now pivot so just one row per cell\n",
    "pivoted_dfs = []\n",
    "for col_to_pivot, fill_value in [\n",
    "    (\"n_viral_barcodes\", 0),\n",
    "    (\"viral_barcodes\", \"\"),\n",
    "    (\"freq_supernatant\", pd.NA),\n",
    "    (\"freq_second_infection\", pd.NA),\n",
    "]:\n",
    "    pivoted_dfs.append(\n",
    "        processed_data\n",
    "        .pivot_table(\n",
    "            index=\"cell_barcode\",\n",
    "            columns=\"barcoded_gene\",\n",
    "            values=col_to_pivot,\n",
    "            fill_value=fill_value,\n",
    "            aggfunc='sum',\n",
    "        )\n",
    "        .rename_axis(None, axis=1)\n",
    "        .rename(columns={gene: f\"{col_to_pivot}_{gene}\" for gene in barcoded_genes})\n",
    "    )\n",
    "assert all((pivoted_dfs[0].index == df.index).all() for df in pivoted_dfs)\n",
    "processed_data = pd.concat(pivoted_dfs, axis=1).reset_index()\n",
    "\n",
    "# now add back in cell-specific information\n",
    "# Require infected cells since the above measurements only make sense for\n",
    "# infected cells.\n",
    "cell_info = (\n",
    "    integrated_data\n",
    "    [['cell_barcode', 'infected', 'infecting_viral_tag', 'total_UMIs',\n",
    "       'viral_UMIs', 'frac_viral_UMIs', 'n_viral_genes'] +\n",
    "     [c for c in integrated_data.columns\n",
    "      if re.match(\"transcriptome_UMIs_flu|frac_UMIs_flu|present_flu|pacbio_UMIs|mutations_|mutation_support_\", c)]\n",
    "    ]\n",
    "    .drop_duplicates()\n",
    ")\n",
    "\n",
    "assert set(processed_data[\"cell_barcode\"]).issubset(cell_info[\"cell_barcode\"])\n",
    "processed_data = (\n",
    "    cell_info.query('infected == \"infected\"')\n",
    "    .merge(processed_data, on=\"cell_barcode\", how=\"left\", validate=\"one_to_one\")\n",
    ")\n",
    "\n",
    "# add columns explaining missing genes\n",
    "present_columns = {c: c.replace(\"present_flu\", \"\") for c in processed_data.columns\n",
    "                   if re.match(\"present_flu\", c)}\n",
    "\n",
    "processed_data = (\n",
    "    processed_data\n",
    "    .assign(\n",
    "        all_viral_genes=lambda x: x['n_viral_genes'] == len(present_columns),\n",
    "        missing_viral_genes=lambda x: x.apply(lambda row:\n",
    "            \"; \".join(val for (key, val) in present_columns.items() if not row[key]),\n",
    "            axis=1)\n",
    "    )\n",
    ")\n",
    "\n",
    "# check for complete pacbio data for all expressed viral genes\n",
    "def virus_fully_sequenced(row):\n",
    "    row_dict = row.to_dict()\n",
    "    for key, val in row_dict.items():\n",
    "        if re.fullmatch(\"present_flu\\w+\", key) and val:\n",
    "            gene = key.split(\"_\")[1]\n",
    "            if row_dict[f\"pacbio_UMIs_{gene}\"] < 2:\n",
    "                return False\n",
    "    else:\n",
    "        return True\n",
    "\n",
    "processed_data = (\n",
    "    processed_data\n",
    "    .assign(virus_fully_sequenced=lambda x: x.apply(virus_fully_sequenced, axis=1))\n",
    ")\n",
    "\n",
    "# check to see if cell expresses both barcoded viral genes\n",
    "processed_data[\"all_barcoded_genes\"] = np.logical_and.reduce(\n",
    "    [processed_data[f\"present_{gene}\"] for gene in barcoded_genes] +\n",
    "    [processed_data[f\"freq_supernatant_{gene}\"].notnull() for gene in barcoded_genes] +\n",
    "    [processed_data[f\"freq_second_infection_{gene}\"].notnull() for gene in barcoded_genes]\n",
    ")\n",
    "\n",
    "# annotate cells with both complete pacbio data and both barcoded viral genes\n",
    "def sequenced_and_barcoded(row):\n",
    "    if row['virus_fully_sequenced'] and row['all_barcoded_genes']:\n",
    "        return \"sequenced and barcoded\"\n",
    "    elif row['virus_fully_sequenced']:\n",
    "        return \"sequenced\"\n",
    "    elif row['all_barcoded_genes']:\n",
    "        return \"barcoded\"\n",
    "    else:\n",
    "        return \"not sequenced or barcoded\"\n",
    "processed_data[\"sequenced_and_barcoded\"] = (\n",
    "    processed_data.apply(sequenced_and_barcoded, axis=1)\n",
    ")\n",
    "\n",
    "display(processed_data)"
   ]
  },
  {
   "cell_type": "markdown",
   "metadata": {},
   "source": [
    "### Restrict analysis to WT infected cells\n",
    "We only want to plot our sample of interest, which is made up of cells infected by a WT virus. We will exclude uninfected cells, infected multiplets (transcriptomes derived from both WT and dblSyn cells), and infected dblSyn cells."
   ]
  },
  {
   "cell_type": "code",
   "execution_count": null,
   "metadata": {},
   "outputs": [],
   "source": [
    "wt_infected_cells = (\n",
    "    processed_data\n",
    "    .query('infected == \"infected\" and infecting_viral_tag == \"wt\"'))\n",
    "wt_infected_cells"
   ]
  },
  {
   "cell_type": "code",
   "execution_count": null,
   "metadata": {},
   "outputs": [],
   "source": [
    "n_wt_infected_cells = wt_infected_cells[\"cell_barcode\"].nunique()\n",
    "print(f'There are {n_wt_infected_cells} cells in the dataset.')"
   ]
  },
  {
   "cell_type": "markdown",
   "metadata": {},
   "source": [
    "## General transcriptional outcomes of infection\n",
    "### Plot viral transcription\n",
    "I will plot the histogram of viral transcription. I need to know where to set the limits and bins, so I will look up the maximum viral transcription fraction for these data."
   ]
  },
  {
   "cell_type": "code",
   "execution_count": null,
   "metadata": {},
   "outputs": [],
   "source": [
    "print(f'The maximum fraction of viral transcription '\n",
    "      f'in an infected cells is {wt_infected_cells[\"frac_viral_UMIs\"].max()}')"
   ]
  },
  {
   "cell_type": "code",
   "execution_count": null,
   "metadata": {},
   "outputs": [],
   "source": [
    "viral_transcription_file = figure_dir+'/'+'viral_transcription.svg'\n",
    "\n",
    "viral_transcription_plot = (\n",
    "    p9.ggplot(\n",
    "        wt_infected_cells,\n",
    "        p9.aes(x='frac_viral_UMIs')) +\n",
    "    p9.geom_histogram(breaks=[0,0.05,0.1,0.15,0.2,0.25,0.3,0.35,\n",
    "                              0.4,0.45,0.5,0.55,0.6,0.65,0.7]) +\n",
    "    p9.ggtitle(f'Viral transcription in infected cells') +\n",
    "    p9.labs(x='fraction of mRNA from virus',\n",
    "            y='# of cells') +\n",
    "    p9.theme(figure_size=(4, 1.5),\n",
    "             plot_title=p9.element_text(size=12),\n",
    "             axis_title=p9.element_text(size=12),\n",
    "             axis_text=p9.element_text(size=12, color=\"black\")))\n",
    "viral_transcription_plot.save(filename = viral_transcription_file)\n",
    "display(viral_transcription_plot)"
   ]
  },
  {
   "cell_type": "markdown",
   "metadata": {},
   "source": [
    "### Plot viral genes per infected cell"
   ]
  },
  {
   "cell_type": "code",
   "execution_count": null,
   "metadata": {},
   "outputs": [],
   "source": [
    "genes_per_cell_file = figure_dir+'/'+'genes_per_cell.svg'\n",
    "\n",
    "genes_per_cell_plot = (\n",
    "    p9.ggplot(\n",
    "        wt_infected_cells[['cell_barcode', 'n_viral_genes']].drop_duplicates(),\n",
    "        p9.aes(x='n_viral_genes')) +\n",
    "    p9.geom_bar(stat='count', position='dodge') +\n",
    "    p9.ggtitle('Number of viral genes per cell') +\n",
    "    p9.labs(x='# of viral genes detected',\n",
    "            y='# of cells') +\n",
    "    p9.scale_y_continuous(limits=[0,175], breaks=[0,50,100,150]) +\n",
    "    p9.theme(figure_size=(3, 1.5),\n",
    "                plot_title=p9.element_text(size=12),\n",
    "                axis_title=p9.element_text(size=12),\n",
    "                axis_text=p9.element_text(size=12, color=\"black\")))\n",
    "genes_per_cell_plot.save(filename = genes_per_cell_file)\n",
    "display(genes_per_cell_plot)"
   ]
  },
  {
   "cell_type": "markdown",
   "metadata": {},
   "source": [
    "### Plot viral gene presence or absence"
   ]
  },
  {
   "cell_type": "markdown",
   "metadata": {},
   "source": [
    "To generate this plot, I need to tabulate how many cells express or do not express each viral gene. I will make a new dataframe with cell barcode, frac_viral_UMIs, and gene as columns. For each cell, I will list whether the gene is present and the fraction of gene UMIs in the cell."
   ]
  },
  {
   "cell_type": "code",
   "execution_count": null,
   "metadata": {},
   "outputs": [],
   "source": [
    "gene_present_by_cell = (\n",
    "    wt_infected_cells\n",
    "    [['cell_barcode',\n",
    "      'present_fluPB2', 'present_fluPB1',\n",
    "      'present_fluPA', 'present_fluHA',\n",
    "      'present_fluNP', 'present_fluNA',\n",
    "      'present_fluM', 'present_fluNS']]\n",
    "    .drop_duplicates()\n",
    "    .melt(\n",
    "        id_vars=['cell_barcode'],\n",
    "        var_name='gene',\n",
    "        value_name='gene_present')\n",
    ")\n",
    "gene_present_by_cell['gene'] = (\n",
    "    gene_present_by_cell['gene']\n",
    "    .str.split('_').str[-1])\n",
    "\n",
    "gene_frac_by_cell = (\n",
    "    wt_infected_cells\n",
    "    [['cell_barcode', 'frac_viral_UMIs',\n",
    "      'frac_UMIs_fluPB2', 'frac_UMIs_fluPB1',\n",
    "      'frac_UMIs_fluPA', 'frac_UMIs_fluHA',\n",
    "      'frac_UMIs_fluNP', 'frac_UMIs_fluNA',\n",
    "      'frac_UMIs_fluM', 'frac_UMIs_fluNS']]\n",
    "    .drop_duplicates()\n",
    "    .melt(\n",
    "        id_vars=['cell_barcode', 'frac_viral_UMIs'],\n",
    "        var_name='gene',\n",
    "        value_name='frac_gene_UMIs')\n",
    ")\n",
    "gene_frac_by_cell['gene'] = (\n",
    "    gene_frac_by_cell['gene']\n",
    "    .str.split('_').str[-1])\n",
    "\n",
    "viral_genes_by_cell = pd.merge(\n",
    "    left=gene_present_by_cell,\n",
    "    right=gene_frac_by_cell,\n",
    "    on=['cell_barcode','gene'],\n",
    "    how='outer'\n",
    ")\n",
    "viral_genes_by_cell['gene'] = (\n",
    "    viral_genes_by_cell['gene']\n",
    "    .replace(['fluPB2', 'fluPB1', 'fluPA', 'fluHA',\n",
    "              'fluNP', 'fluNA', 'fluM', 'fluNS'],\n",
    "             ['PB2', 'PB1', 'PA', 'HA',\n",
    "              'NP', 'NA', 'M', 'NS']))\n",
    "viral_genes_by_cell['gene'] = (\n",
    "    viral_genes_by_cell['gene'].astype('category'))\n",
    "viral_genes_by_cell['gene'] = (\n",
    "    viral_genes_by_cell['gene']\n",
    "    .cat.reorder_categories(\n",
    "        ['PB2', 'PB1', 'PA', 'HA',\n",
    "         'NP', 'NA', 'M', 'NS']))\n",
    "viral_genes_by_cell['gene_present'] = (\n",
    "    viral_genes_by_cell['gene_present']\n",
    "    .replace([True,False],\n",
    "             [\"Gene present\", \"Gene absent\"]))\n",
    "\n",
    "assert((viral_genes_by_cell['cell_barcode'].unique() == \\\n",
    "        wt_infected_cells['cell_barcode'].unique()).all())\n",
    "\n",
    "display(viral_genes_by_cell)\n",
    "\n",
    "gene_absence_rate = pd.DataFrame(\n",
    "    viral_genes_by_cell\n",
    "    .groupby(['gene'])\n",
    "    ['gene_present']\n",
    "    .value_counts(normalize=True)\n",
    "    .reset_index(name='fraction_cells'))\n",
    "\n",
    "\n",
    "assert(gene_absence_rate['gene'].nunique() == 8)\n",
    "\n",
    "display(gene_absence_rate)"
   ]
  },
  {
   "cell_type": "markdown",
   "metadata": {},
   "source": [
    "Plot the fraction of infected cells missing each viral gene."
   ]
  },
  {
   "cell_type": "code",
   "execution_count": null,
   "metadata": {},
   "outputs": [],
   "source": [
    "gene_absence_file = figure_dir+'/'+'gene_absence_plot.svg'\n",
    "\n",
    "gene_absence_plot = (\n",
    "    p9.ggplot(gene_absence_rate,\n",
    "              p9.aes(x='gene',\n",
    "                     y='fraction_cells',\n",
    "                     fill='gene_present')) +\n",
    "    p9.geom_bar(stat='identity') +\n",
    "    p9.geom_text(data=gene_absence_rate.query('gene_present == \"Gene absent\"'),\n",
    "           mapping=p9.aes(x='gene',\n",
    "                          y=1.1,\n",
    "                          label='fraction_cells'),\n",
    "                          format_string='{:.2f}',\n",
    "                          size=10,\n",
    "                          color=CBPALETTE[6]) +\n",
    "    p9.ggtitle('Viral gene presence in infected cells') +\n",
    "    p9.labs(x = '', y='fraction of cells') +\n",
    "    p9.scale_y_continuous(limits=[0,1.15],\n",
    "                          breaks=[0,0.25,0.5,0.75,1])+\n",
    "    p9.theme(figure_size=(4, 1.5),\n",
    "       plot_title=p9.element_text(size=12),\n",
    "       axis_title=p9.element_text(size=10),\n",
    "       axis_text=p9.element_text(size=10, color=\"black\"),\n",
    "       legend_position='bottom',\n",
    "       legend_box_spacing=0.2,\n",
    "       legend_title=p9.element_blank(),\n",
    "       legend_text=p9.element_text(size=10)) +\n",
    "    p9.scale_fill_manual([CBPALETTE[6],CBPALETTE[0]]))\n",
    "\n",
    "gene_absence_plot.save(filename = gene_absence_file)\n",
    "display(gene_absence_plot)"
   ]
  },
  {
   "cell_type": "markdown",
   "metadata": {},
   "source": [
    "### Make composite Fig 2\n",
    "Make a composite figure showing viral transcription, number of viral genes per cell, and rate of viral gene absence.\n",
    "\n",
    "**N.b. For some reason this cell and the ones immediatebly above need to be run manually to generate a correct figure. When run automatically, panel A is oversized.**"
   ]
  },
  {
   "cell_type": "code",
   "execution_count": null,
   "metadata": {},
   "outputs": [],
   "source": [
    "fig2_file = figure_dir+'/'+'fig2.svg'\n",
    "\n",
    "fig2 = (Figure(\"27cm\", \"16cm\",\n",
    "       Panel(\n",
    "#            Grid(20, 20),\n",
    "           SVG(viral_transcription_file),\n",
    "           Text(\"A\", 5, 15, size=14)).scale(2),\n",
    "       Panel(\n",
    "           SVG(genes_per_cell_file),\n",
    "           Text(\"B\", 5, 15, size=14)).scale(2).move(560,0),\n",
    "       Panel(\n",
    "           SVG(gene_absence_file),\n",
    "           Text(\"C\", 5, 15, size=14)).scale(2).move(0,300),\n",
    "       ))\n",
    "display(fig2)\n",
    "fig2.save(fig2_file)"
   ]
  },
  {
   "cell_type": "markdown",
   "metadata": {},
   "source": [
    "### Plot viral gene presence or absence raw data\n",
    "For each single infected cell, plot the expression of each viral gene relative to total viral expression. Color by whether gene was called as present or absent."
   ]
  },
  {
   "cell_type": "code",
   "execution_count": null,
   "metadata": {},
   "outputs": [],
   "source": [
    "gene_expression_file = figure_dir+'/'+'gene_expression_plot.svg'\n",
    "\n",
    "gene_expression_plot = (\n",
    "    p9.ggplot(viral_genes_by_cell,\n",
    "               p9.aes(x='frac_viral_UMIs',\n",
    "                      y='frac_gene_UMIs',\n",
    "                      color='gene_present')) +\n",
    "    p9.geom_point(alpha=0.3, size=3) +\n",
    "    p9.facet_wrap('~gene', ncol=4) +\n",
    "    p9.labs(x='fraction of mRNA from virus',\n",
    "            y='fraction of mRNA\\nfrom specific viral gene') +\n",
    "    p9.scale_x_log10(breaks=[0.01,0.03,0.1,0.3]) +\n",
    "    p9.scale_y_log10(breaks=[1e-4,1e-2,1]) +\n",
    "    p9.theme(figure_size=(8, 4),\n",
    "             plot_title=p9.element_text(size=12),\n",
    "             axis_title=p9.element_text(size=12),\n",
    "             axis_text=p9.element_text(size=12, color=\"black\"),\n",
    "             axis_text_x=p9.element_text(rotation=90),\n",
    "             legend_position='top',\n",
    "             legend_box_spacing=0,\n",
    "             legend_title=p9.element_blank(),\n",
    "             legend_text=p9.element_text(size=12),\n",
    "             strip_text=p9.element_text(size=12)) +\n",
    "    p9.scale_color_manual([CBPALETTE[6],CBPALETTE[0]]))\n",
    "\n",
    "gene_expression_plot.save(filename = gene_expression_file)\n",
    "display(gene_expression_plot)"
   ]
  },
  {
   "cell_type": "markdown",
   "metadata": {},
   "source": [
    "## Viral genome sequencing\n",
    "### Plot viral transcription in fully-sequenced cells\n",
    "For later analyses, I will require the cells to have PacBio sequencing information for all expressed viral genes, so that we can call consensus genomes. I want to see how viral transcription activity is associated with our ability to fully sequence a viral genome.\n"
   ]
  },
  {
   "cell_type": "code",
   "execution_count": null,
   "metadata": {},
   "outputs": [],
   "source": [
    "fully_sequenced_file = figure_dir+'/'+'fully_sequenced_plot.svg'\n",
    "\n",
    "fully_sequenced_plot = (\n",
    "    p9.ggplot(wt_infected_cells,\n",
    "               p9.aes(x='virus_fully_sequenced',\n",
    "                      y='frac_viral_UMIs')) +\n",
    "    p9.geom_jitter(alpha=0.3, size=3, width=0.2) +\n",
    "    p9.stat_summary(fun_y=np.mean, \n",
    "                    fun_ymin=np.mean,\n",
    "                    fun_ymax=np.mean,\n",
    "                    geom='crossbar',\n",
    "                    width=0.9,\n",
    "                    color=CBPALETTE[2]) +\n",
    "    p9.geom_text(data=wt_infected_cells.groupby('virus_fully_sequenced').nunique().reset_index(),\n",
    "                 mapping=p9.aes(y=0.74,\n",
    "                                label='cell_barcode'),\n",
    "                 size=12) +\n",
    "    p9.coord_flip() +\n",
    "    p9.labs(x='',\n",
    "            y='fraction mRNA from virus') +\n",
    "    p9.scale_y_continuous(limits=[0,0.75], breaks=[0,0.25,0.5,0.75]) +\n",
    "    p9.scale_x_discrete(labels=['Incomplete sequencing', 'Complete sequencing']) +\n",
    "    p9.theme(figure_size=(3.5, 1.75),\n",
    "             plot_title=p9.element_text(size=12),\n",
    "             axis_title=p9.element_text(size=12),\n",
    "             axis_text=p9.element_text(size=12, color=\"black\")))\n",
    "\n",
    "fully_sequenced_plot.save(filename = fully_sequenced_file)\n",
    "display(fully_sequenced_plot)"
   ]
  },
  {
   "cell_type": "markdown",
   "metadata": {},
   "source": [
    "Now, generate a dataframe that is a subset of `wt_infected_cells`, containing just cells with complete PacBio sequencing of all expressed viral genes."
   ]
  },
  {
   "cell_type": "code",
   "execution_count": null,
   "metadata": {},
   "outputs": [],
   "source": [
    "fully_sequenced_cells = (\n",
    "    wt_infected_cells\n",
    "    .query('virus_fully_sequenced == True'))\n",
    "display(fully_sequenced_cells)"
   ]
  },
  {
   "cell_type": "markdown",
   "metadata": {},
   "source": [
    "### Aggregate mutation information\n",
    "Viral mutation information from the PacBio sequencing is currently spread across many columns (one for each gene). I want to aggregate all viral mutaiton information into a single column so that I can display this on plots in the future. I will also annotate cells by whether they have non-synonymous mutations."
   ]
  },
  {
   "cell_type": "code",
   "execution_count": null,
   "metadata": {},
   "outputs": [],
   "source": [
    "def viral_mutations(row):\n",
    "    row_dict = row.to_dict()\n",
    "    mutations = []\n",
    "    for key, val in row_dict.items():\n",
    "        if re.fullmatch(\"mutations_flu\\w+\", key) and val:\n",
    "            gene = key.replace(\"mutations_flu\", \"\")\n",
    "            if val == \"Not Detected\":\n",
    "                assert not row_dict[f\"present_flu{gene}\"]\n",
    "            elif val != \"WT\":\n",
    "                mutations.append(f\"{gene}: {val}\")\n",
    "    return \", \".join(mutations)\n",
    "\n",
    "def nonsynonymous_mutations(row):\n",
    "    row_dict = row.to_dict()\n",
    "    nonsynonymous_mutations = []\n",
    "    for key, val in row_dict.items():\n",
    "        if re.fullmatch(\"mutations_flu\\w+\", key) and val:\n",
    "            gene = key.replace(\"mutations_flu\", \"\")\n",
    "            if val == \"Not Detected\":\n",
    "                assert not row_dict[f\"present_flu{gene}\"]\n",
    "            elif val != \"WT\":\n",
    "                for x in val.split(' '):\n",
    "                    if \"synonymous\" in x:\n",
    "                        pass\n",
    "                    elif \"noncoding\" in x:\n",
    "                        pass\n",
    "                    else:\n",
    "                        nonsynonymous_mutations.append(f\"{gene}: {x}\")\n",
    "    return \", \".join(nonsynonymous_mutations)\n",
    "\n",
    "def nonsynonymous_mutation_count(row):\n",
    "    row_dict = row.to_dict()\n",
    "    nonsynonymous_mutation_count = 0\n",
    "    for key, val in row_dict.items():\n",
    "        if re.fullmatch(\"mutations_flu\\w+\", key) and val:\n",
    "            gene = key.replace(\"mutations_flu\", \"\")\n",
    "            if val == \"Not Detected\":\n",
    "                assert not row_dict[f\"present_flu{gene}\"]\n",
    "            elif val != \"WT\":\n",
    "                for x in val.split(' '):\n",
    "                    if \"synonymous\" in x:\n",
    "                        pass\n",
    "                    elif \"noncoding\" in x:\n",
    "                        pass\n",
    "                    else:\n",
    "                        nonsynonymous_mutation_count += 1\n",
    "    return nonsynonymous_mutation_count\n",
    "\n",
    "def mutation_support(row):\n",
    "    row_dict = row.to_dict()\n",
    "    support_vals = []\n",
    "    for key, val in row_dict.items():\n",
    "        if re.fullmatch(\"mutation_support_flu\\w+\", key) and val:\n",
    "            gene = key.replace(\"mutation_support_flu\", \"\")\n",
    "            if val != \"Not Applicable\":\n",
    "                support_vals.append(f\"{gene}: {val}\")\n",
    "    return \", \".join(support_vals)\n",
    "\n",
    "def mutated_genes(row):\n",
    "    row_dict = row.to_dict()\n",
    "    mutated_genes = []\n",
    "    for key, val in row_dict.items():\n",
    "        if re.fullmatch(\"mutations_flu\\w+\", key) and val:\n",
    "            gene = key.replace(\"mutations_flu\", \"\")\n",
    "            if val == \"Not Detected\":\n",
    "                assert not row_dict[f\"present_flu{gene}\"]\n",
    "            elif val != \"WT\":\n",
    "                mutated_genes.append(gene)\n",
    "    return \", \".join(mutated_genes)\n",
    "\n",
    "def label_cells(row):\n",
    "    cell_label = None\n",
    "    if row['all_viral_genes'] == True:\n",
    "        if row['has_nonsynonymous_mutations'] == False:\n",
    "            cell_label = \"Complete unmutated genome\"\n",
    "        else:\n",
    "            cell_label = \"Complete mutated genome\"\n",
    "    elif row['all_viral_genes'] == False:\n",
    "        if row['has_nonsynonymous_mutations'] == False:\n",
    "            cell_label = \"Missing viral gene(s)\"\n",
    "        else:\n",
    "            cell_label = \"Missing viral gene(s) and\\nnon-synonymous mutations\"\n",
    "    return cell_label\n",
    "\n",
    "fully_sequenced_cells = (\n",
    "    fully_sequenced_cells\n",
    "    .assign(\n",
    "        viral_mutations=lambda x: x.apply(viral_mutations, axis=1),\n",
    "        nonsynonymous_mutations=lambda x: x.apply(nonsynonymous_mutations, axis=1),\n",
    "        mutation_support=lambda x: x.apply(mutation_support, axis=1),\n",
    "        mutated_genes=lambda x: x.apply(mutated_genes, axis=1),\n",
    "        has_mutations=lambda x: x[\"mutated_genes\"].astype(bool),\n",
    "        has_nonsynonymous_mutations=lambda x: x[\"nonsynonymous_mutations\"].astype(bool),\n",
    "        nonsynonymous_mutation_count=lambda x: x.apply(nonsynonymous_mutation_count, axis=1),\n",
    "        cell_label=lambda x: x.apply(label_cells, axis=1).astype('category')\n",
    "    )\n",
    ")\n",
    "display(fully_sequenced_cells)"
   ]
  },
  {
   "cell_type": "markdown",
   "metadata": {},
   "source": [
    "### Viral genotype statistics\n",
    "Calculate how many infected cells we characterized, how many conensus viral sequences have mutations, and what kinds of mutations they carry."
   ]
  },
  {
   "cell_type": "code",
   "execution_count": null,
   "metadata": {},
   "outputs": [],
   "source": [
    "mutated_cell_counts = (\n",
    "    pd.DataFrame(\n",
    "        fully_sequenced_cells.groupby(['cell_label'])\n",
    "        ['cell_barcode'].nunique()).reset_index()\n",
    "    .rename(columns={'cell_barcode': 'n_cells'}))\n",
    "\n",
    "mutated_cell_counts['cell_label'] = (\n",
    "    mutated_cell_counts['cell_label']\n",
    "    .cat.reorder_categories(\n",
    "        ['Missing viral gene(s) and\\nnon-synonymous mutations', 'Missing viral gene(s)', \n",
    "        'Complete mutated genome', 'Complete unmutated genome']))\n",
    "\n",
    "display(mutated_cell_counts)"
   ]
  },
  {
   "cell_type": "markdown",
   "metadata": {},
   "source": [
    "### Plot viral genotype statistics"
   ]
  },
  {
   "cell_type": "code",
   "execution_count": null,
   "metadata": {},
   "outputs": [],
   "source": [
    "mutated_cell_counts_file = figure_dir+'/'+'mutated_cell_counts_plot.svg'\n",
    "\n",
    "mutated_cell_counts_plot = (\n",
    "    p9.ggplot(mutated_cell_counts,\n",
    "              p9.aes(x='cell_label',\n",
    "                     y='n_cells',\n",
    "                     width=0.85)) +\n",
    "    p9.geom_bar(stat='identity') +\n",
    "    p9.coord_flip() +\n",
    "    p9.ggtitle('Consensus viral genome sequences                                 ') +\n",
    "    p9.labs(x = '', y='# of infected cells') +\n",
    "    p9.ylim([0,45]) +\n",
    "    p9.theme(figure_size=(3, 2),\n",
    "       plot_title=p9.element_text(size=12),\n",
    "       axis_title=p9.element_text(size=12),\n",
    "       axis_text=p9.element_text(size=11, color=\"black\")))\n",
    "\n",
    "mutated_cell_counts_plot.save(filename = mutated_cell_counts_file)\n",
    "display(mutated_cell_counts_plot)"
   ]
  },
  {
   "cell_type": "markdown",
   "metadata": {},
   "source": [
    "### Plot number of non-synonymous mutations per cell."
   ]
  },
  {
   "cell_type": "code",
   "execution_count": null,
   "metadata": {},
   "outputs": [],
   "source": [
    "mutations_per_cell_file = figure_dir+'/'+'mutations_per_cell.svg'\n",
    "\n",
    "mutations_per_cell_plot = (\n",
    "    p9.ggplot(\n",
    "        fully_sequenced_cells,\n",
    "        p9.aes(x='nonsynonymous_mutation_count')) +\n",
    "    p9.geom_bar() +\n",
    "    p9.ggtitle(f'Number of mutations per viral genome') +\n",
    "    p9.labs(x='# of non-synonymous\\nmutations',\n",
    "            y='# of cells') +\n",
    "    p9.scale_y_continuous(limits=[0,75], breaks=[0,25,50,75]) +\n",
    "    p9.theme(figure_size=(3, 2),\n",
    "             plot_title=p9.element_text(size=12),\n",
    "             axis_title=p9.element_text(size=12),\n",
    "             axis_text=p9.element_text(size=11, color=\"black\"),\n",
    "             legend_box_spacing=0.2,\n",
    "             legend_title=p9.element_blank()))\n",
    "mutations_per_cell_plot.save(filename = mutations_per_cell_file)\n",
    "display(mutations_per_cell_plot)"
   ]
  },
  {
   "cell_type": "markdown",
   "metadata": {},
   "source": [
    "### Make composite Fig 3\n",
    "Make a composite figure showing viral genotypes and number of mutations per genome."
   ]
  },
  {
   "cell_type": "code",
   "execution_count": null,
   "metadata": {
    "scrolled": true
   },
   "outputs": [],
   "source": [
    "fig3_file = figure_dir+'/'+'fig3.svg'\n",
    "\n",
    "fig3 = (Figure(\"25cm\", \"7cm\",\n",
    "       Panel(\n",
    "#           Grid(20, 20),\n",
    "           SVG(mutated_cell_counts_file),\n",
    "           Text(\"A\", 5, 15, size=14)).scale(1.5),\n",
    "       Panel(\n",
    "           SVG(mutations_per_cell_file).move(15,0),\n",
    "           Text(\"B\", 5, 15, size=14)).scale(1.5).move(500,0),\n",
    "       ))\n",
    "display(fig3)\n",
    "fig3.save(fig3_file)"
   ]
  },
  {
   "cell_type": "markdown",
   "metadata": {},
   "source": [
    "## Progeny production measurements\n",
    "### Plot viral transcription in cells that express both barcoded genes\n",
    "How does total viral transcription correlate with expressing both viral genes needed for progeny contribution meausrements?"
   ]
  },
  {
   "cell_type": "code",
   "execution_count": null,
   "metadata": {},
   "outputs": [],
   "source": [
    "barcoded_cells = wt_infected_cells.query(\"all_barcoded_genes\")\n",
    "display(barcoded_cells)"
   ]
  },
  {
   "cell_type": "code",
   "execution_count": null,
   "metadata": {},
   "outputs": [],
   "source": [
    "barcoded_cells_file = figure_dir+'/'+'barcoded_cells_plot.svg'\n",
    "\n",
    "barcoded_cells_plot = (\n",
    "    p9.ggplot(wt_infected_cells,\n",
    "               p9.aes(x='all_barcoded_genes',\n",
    "                      y='frac_viral_UMIs')) +\n",
    "    p9.geom_jitter(alpha=0.3, size=3, width=0.2) +\n",
    "    p9.stat_summary(fun_y=np.mean, \n",
    "                    fun_ymin=np.mean,\n",
    "                    fun_ymax=np.mean,\n",
    "                    geom='crossbar',\n",
    "                    width=0.9,\n",
    "                    color=CBPALETTE[2]) +\n",
    "    p9.geom_text(data=wt_infected_cells.groupby('all_barcoded_genes').nunique().reset_index(),\n",
    "                 mapping=p9.aes(y=0.74,\n",
    "                                label='cell_barcode'),\n",
    "                 size=12) +\n",
    "    p9.coord_flip() +\n",
    "    p9.labs(x='',\n",
    "            y='fraction mRNA from virus') +\n",
    "    p9.scale_y_continuous(limits=[0,0.75], breaks=[0,0.25,0.5,0.75]) +\n",
    "    p9.scale_x_discrete(labels=['Missing barcoded gene(s)', 'Both barcoded genes']) +\n",
    "    p9.theme(figure_size=(3.5, 1.75),\n",
    "             plot_title=p9.element_text(size=12),\n",
    "             axis_title=p9.element_text(size=12),\n",
    "             axis_text=p9.element_text(size=12, color=\"black\")))\n",
    "\n",
    "barcoded_cells_plot.save(filename = barcoded_cells_file)\n",
    "display(barcoded_cells_plot)"
   ]
  },
  {
   "cell_type": "markdown",
   "metadata": {},
   "source": [
    "## Cells with all measurements\n",
    "### Select subset of cells with complete sequencing and both barcoded viral genes\n",
    "In the next section, I will calculate progeny contributions for cells that have complete long-read sequencing and express both barcoded viral genes. I want to count how many cells meet these criteria, and how many fail one or both of these criteria."
   ]
  },
  {
   "cell_type": "code",
   "execution_count": null,
   "metadata": {},
   "outputs": [],
   "source": [
    "sequenced_barcoded_cell_counts = (wt_infected_cells\n",
    "        .groupby(\"sequenced_and_barcoded\")\n",
    "        .aggregate(n_cells=pd.NamedAgg(\"cell_barcode\", \"count\"))\n",
    "        .reset_index()\n",
    ")\n",
    "sequenced_barcoded_cell_counts['sequenced_and_barcoded'] = (\n",
    "    sequenced_barcoded_cell_counts['sequenced_and_barcoded']\n",
    "    .astype('category')\n",
    "    .cat\n",
    "    .reorder_categories(['not sequenced or barcoded',\n",
    "              'barcoded',\n",
    "              'sequenced',\n",
    "              'sequenced and barcoded'])\n",
    ")\n",
    "sequenced_barcoded_cell_counts['selected_cells'] = (\n",
    "    sequenced_barcoded_cell_counts['sequenced_and_barcoded'] == \\\n",
    "    \"sequenced and barcoded\"\n",
    ")\n",
    "sequenced_barcoded_cells = fully_sequenced_cells.query('sequenced_and_barcoded == \"sequenced and barcoded\"')\n",
    "display(sequenced_barcoded_cells)"
   ]
  },
  {
   "cell_type": "markdown",
   "metadata": {},
   "source": [
    "### Plot number of cells with or without complete sequencing and both barcoded genes"
   ]
  },
  {
   "cell_type": "code",
   "execution_count": null,
   "metadata": {},
   "outputs": [],
   "source": [
    "selected_cells_file = figure_dir+'/'+'selected_cells_plot.svg'\n",
    "\n",
    "selected_cells_plot = (\n",
    "    p9.ggplot(sequenced_barcoded_cell_counts,\n",
    "               p9.aes(x='sequenced_and_barcoded',\n",
    "                      y='n_cells',\n",
    "                      width=0.85)) +\n",
    "    p9.geom_bar(stat='identity', position='dodge') +\n",
    "    p9.geom_text(p9.aes(y=98, label='n_cells'), size=11) +\n",
    "    p9.labs(x='',\n",
    "            y='# of cells') +\n",
    "    p9.coord_flip() +\n",
    "    p9.scale_y_continuous(limits=[0,98], breaks=[0,20,40,60,80]) +\n",
    "    p9.scale_x_discrete(labels=[\"Incomplete sequencing and\\nmissing barcoded gene(s)\",\n",
    "                                \"Both barcoded genes\",\n",
    "                                \"Complete sequencing\",\n",
    "                                \"Complete sequencing and\\nboth barcoded genes\"]) +\n",
    "    p9.theme(figure_size=(3.6, 1.75),\n",
    "       plot_title=p9.element_text(size=12),\n",
    "       axis_title=p9.element_text(size=12),\n",
    "       axis_text=p9.element_text(size=11, color=\"black\")))\n",
    "\n",
    "selected_cells_plot.save(filename = selected_cells_file)\n",
    "display(selected_cells_plot)"
   ]
  },
  {
   "cell_type": "markdown",
   "metadata": {},
   "source": [
    "### Plot viral transcription in cells with complete sequencing and both barcoded viral genes\n",
    "Do the cells that meet these criteria have a different distribution of viral transcription, or are we subsampling the data in a fairly non-biased way?"
   ]
  },
  {
   "cell_type": "code",
   "execution_count": null,
   "metadata": {},
   "outputs": [],
   "source": [
    "sequenced_and_barcoded_file = figure_dir+'/'+'sequenced_and_barcoded_plot.svg'\n",
    "\n",
    "sequenced_and_barcoded_plot = (\n",
    "    p9.ggplot(wt_infected_cells,\n",
    "               p9.aes(x='factor(sequenced_and_barcoded == \"sequenced and barcoded\")',\n",
    "                      y='frac_viral_UMIs')) +\n",
    "    p9.geom_jitter(alpha=0.3, size=3, width=0.2) +\n",
    "    p9.stat_summary(fun_y=np.mean, \n",
    "                    fun_ymin=np.mean,\n",
    "                    fun_ymax=np.mean,\n",
    "                    geom='crossbar',\n",
    "                    width=0.9,\n",
    "                    color=CBPALETTE[2]) +\n",
    "    p9.geom_text(data=pd.DataFrame(sequenced_barcoded_cell_counts.groupby('selected_cells')['n_cells'].sum().reset_index()),\n",
    "                 mapping=p9.aes(\n",
    "                     x='selected_cells',\n",
    "                     y=0.74,\n",
    "                     label='n_cells'),\n",
    "                 size=12) +\n",
    "    p9.coord_flip() +\n",
    "    p9.labs(x='',\n",
    "            y='fraction mRNA from virus') +\n",
    "    p9.scale_y_continuous(limits=[0,0.75], breaks=[0,0.25,0.5,0.75]) +\n",
    "    p9.scale_x_discrete(labels=['Incomplete sequencing or\\nmissing barcoded gene(s)', 'Complete sequencing and\\nboth barcoded genes']) +\n",
    "    p9.theme(figure_size=(3.5, 1.75),\n",
    "             plot_title=p9.element_text(size=12),\n",
    "             axis_title=p9.element_text(size=12),\n",
    "             axis_text=p9.element_text(size=12, color=\"black\")))\n",
    "\n",
    "sequenced_and_barcoded_plot.save(filename = sequenced_and_barcoded_file)\n",
    "display(sequenced_and_barcoded_plot)"
   ]
  },
  {
   "cell_type": "markdown",
   "metadata": {},
   "source": [
    "### Make composite Fig S4\n",
    "Assemble a composite figure showing how many cells are sequenced completely, have both barcoded viral genes, and the relationship of these criteria to total viral transcription."
   ]
  },
  {
   "cell_type": "code",
   "execution_count": null,
   "metadata": {},
   "outputs": [],
   "source": [
    "figS4_file = figure_dir+'/'+'figS4.svg'\n",
    "\n",
    "figS4 = (Figure(\"27cm\", \"11cm\",\n",
    "       Panel(\n",
    "#           Grid(20, 20),\n",
    "           SVG(fully_sequenced_file).move(15,10),\n",
    "           Text(\"A\", 0, 20, size=18)),\n",
    "       Panel(\n",
    "           SVG(barcoded_cells_file).move(0,10),\n",
    "           Text(\"B\", 0, 20, size=18)).move(380,0),\n",
    "       Panel(\n",
    "           SVG(selected_cells_file).move(0,20),\n",
    "           Text(\"C\", 0, 20, size=18)).move(0,150),\n",
    "       Panel(\n",
    "           SVG(sequenced_and_barcoded_file).move(10,20),\n",
    "           Text(\"D\", 0, 20, size=18)).move(380,150),\n",
    "       )).scale(1.3)\n",
    "display(figS4)\n",
    "figS4.save(figS4_file)"
   ]
  },
  {
   "cell_type": "markdown",
   "metadata": {},
   "source": [
    "### How many cells are contributing progeny?\n",
    "With these data, we can ask a simple question about the progeny population. Among the sequenced, barcoded cells, how many contribute any progeny?"
   ]
  },
  {
   "cell_type": "code",
   "execution_count": null,
   "metadata": {},
   "outputs": [],
   "source": [
    "n_sequenced_barcoded_cells = (sequenced_barcoded_cells['cell_barcode'].nunique())\n",
    "print(f'There are {n_sequenced_barcoded_cells} in the final dataset with complete progeny measurements and complete sequencing.')"
   ]
  },
  {
   "cell_type": "code",
   "execution_count": null,
   "metadata": {},
   "outputs": [],
   "source": [
    "(integrated_data[integrated_data['cell_barcode']\n",
    "                 .isin(sequenced_barcoded_cells[\"cell_barcode\"].to_list())]\n",
    " .groupby(['contributes_progeny_supernatant', 'contributes_progeny_second_infection'])\n",
    " ['cell_barcode']\n",
    " .nunique())"
   ]
  },
  {
   "cell_type": "markdown",
   "metadata": {},
   "source": [
    "### Calculate progeny contribution of cells with complete sequencing and both barcoded viral genes\n",
    "Next, I will calculate the contribution of each infected cell to the progeny population. I will normalize the the progeny viral barcode frequences among source and gene (e.g. 'supernatant fluHA'). Then, I will take the geometric mean of both barcoded genes to estimate the progeny contribution for each infected cell:"
   ]
  },
  {
   "cell_type": "code",
   "execution_count": null,
   "metadata": {},
   "outputs": [],
   "source": [
    "for condition in [\"supernatant\", \"second_infection\"]:\n",
    "    for gene in barcoded_genes:\n",
    "        # normalize among selected cells and within barcoded gene\n",
    "        col = f\"freq_{condition}_{gene}\"\n",
    "        sequenced_barcoded_cells[col] = (\n",
    "            sequenced_barcoded_cells[col] /\n",
    "            sequenced_barcoded_cells[col].sum()\n",
    "        ).astype(float)\n",
    "    # calculate geometric mean of normalized values\n",
    "    mean_col = f\"freq_{condition}\"\n",
    "    sequenced_barcoded_cells[mean_col] = (\n",
    "        sequenced_barcoded_cells[f\"{mean_col}_fluHA\"]\n",
    "        * sequenced_barcoded_cells[f\"{mean_col}_fluNA\"]\n",
    "    )**(1 / 2)\n",
    "    sequenced_barcoded_cells[mean_col] = (\n",
    "        sequenced_barcoded_cells[mean_col] /\n",
    "        sequenced_barcoded_cells[mean_col].sum()\n",
    "    ).astype(float)\n",
    "\n",
    "display(sequenced_barcoded_cells)"
   ]
  },
  {
   "cell_type": "markdown",
   "metadata": {},
   "source": [
    "### Export CSV of cells with complete sequencing data\n",
    "To generate this plot, we needed to provide progeny contribution measurements where possible. This is why this task is performed **after** estimating progeny contributions. Cells with complete PacBio data without progeny contribution measurements will have null value."
   ]
  },
  {
   "cell_type": "code",
   "execution_count": null,
   "metadata": {},
   "outputs": [],
   "source": [
    "# Bring in progeny production measurements when available\n",
    "fully_sequenced_cells_CSV = 'results/pacbio/fully_sequenced_cells.csv'\n",
    "\n",
    "fully_sequenced_cells = pd.merge(\n",
    "    left=fully_sequenced_cells,\n",
    "    right=sequenced_barcoded_cells[['cell_barcode', 'freq_supernatant', 'freq_second_infection']],\n",
    "    on='cell_barcode',\n",
    "    how='left',\n",
    "    validate='one_to_one'\n",
    ")\n",
    "display(fully_sequenced_cells)\n",
    "print(f\"Writing fully sequenced cells data to CSV: {fully_sequenced_cells_CSV}\")\n",
    "fully_sequenced_cells.to_csv(fully_sequenced_cells_CSV)"
   ]
  },
  {
   "cell_type": "markdown",
   "metadata": {},
   "source": [
    "### Generate viral genome plot using R script\n",
    "There is an R script that generates the viral genomes plot using `gggenes`. We call that here using `subprocess.call`."
   ]
  },
  {
   "cell_type": "code",
   "execution_count": null,
   "metadata": {},
   "outputs": [],
   "source": [
    "# call R script to generate viral genomes plot\n",
    "viral_genomes_file = figure_dir+'/'+'viral_genomes_plot.pdf'\n",
    "rscript_file = \"scripts/viral_genomes_plot.R\"\n",
    "subprocess.call(\" \".join([\"Rscript\", rscript_file, fully_sequenced_cells_CSV, viral_genomes_file]), shell = True)"
   ]
  },
  {
   "cell_type": "markdown",
   "metadata": {},
   "source": [
    "## Heterogeneity in viral products\n",
    "### Calculate Gini coefficients\n",
    "Calculate Gini coefficient for viral transcription, physical progeny production, and infectious progeny production."
   ]
  },
  {
   "cell_type": "code",
   "execution_count": null,
   "metadata": {},
   "outputs": [],
   "source": [
    "total_array = wt_infected_cells['frac_viral_UMIs'].to_numpy()\n",
    "total_gini = gini(total_array)\n",
    "print(f\"The Gini coefficient for viral transcription in all {n_wt_infected_cells} infected cells is {total_gini:0f}\\n\")\n",
    "\n",
    "\n",
    "distributions = {'viral_transcription': 'frac_viral_UMIs',\n",
    "                 'physical_progeny_virions': 'freq_supernatant',\n",
    "                 'infectious_progeny_virions': 'freq_second_infection'}\n",
    "gini_coeffs = {'viral_transcription': None,\n",
    "               'physical_progeny_virions': None,\n",
    "               'infectious_progeny_virions': None,}\n",
    "\n",
    "print(f\"For the {n_sequenced_barcoded_cells} cells with complete progeny measurements and complete sequencing:\")\n",
    "for distribution, variable in distributions.items():\n",
    "    dist_array = sequenced_barcoded_cells[variable].to_numpy()\n",
    "    gini_coeff = gini(dist_array)\n",
    "    gini_coeffs[distribution] = gini_coeff\n",
    "    print(f\"{distribution} has a Gini coefficient of {gini_coeff:0f}\")"
   ]
  },
  {
   "cell_type": "markdown",
   "metadata": {},
   "source": [
    "### Plot histograms of viral transcription, physical progeny (supernatant), and infectious progeny (second infection) frequency"
   ]
  },
  {
   "cell_type": "code",
   "execution_count": null,
   "metadata": {},
   "outputs": [],
   "source": [
    "physical_progeny_file = figure_dir+'/'+'physical_progeny_plot.svg'\n",
    "\n",
    "physical_progeny_plot = (\n",
    "    p9.ggplot(\n",
    "        sequenced_barcoded_cells,\n",
    "        p9.aes(x='freq_supernatant')) +\n",
    "    p9.geom_histogram(breaks=[0,0.02,0.04,0.06,0.08,0.1,0.12,0.14,\n",
    "                              0.16,0.18,0.2,0.22,0.24,0.26,0.28]) +\n",
    "    p9.ylim(0,85) +\n",
    "    p9.ggtitle(f'Physical progeny production') +\n",
    "    p9.labs(x='fraction physical virions',\n",
    "            y='# of cells') +\n",
    "    p9.annotate('text',\n",
    "                label=f'Gini={round(gini_coeffs[\"physical_progeny_virions\"], 2)}',\n",
    "                x=0.24, y=75,\n",
    "                size=12) +\n",
    "    p9.theme(figure_size=(3, 2.5),\n",
    "             plot_title=p9.element_text(size=12),\n",
    "             axis_title=p9.element_text(size=12),\n",
    "             axis_text=p9.element_text(size=10, color=\"black\"),\n",
    "             legend_title=p9.element_text(size=12),\n",
    "             legend_title_align='center'))\n",
    "physical_progeny_plot.save(filename = physical_progeny_file)\n",
    "display(physical_progeny_plot)"
   ]
  },
  {
   "cell_type": "code",
   "execution_count": null,
   "metadata": {},
   "outputs": [],
   "source": [
    "infectious_progeny_file = figure_dir+'/'+'infectious_progeny_plot.svg'\n",
    "\n",
    "infectious_progeny_plot = (\n",
    "    p9.ggplot(\n",
    "        sequenced_barcoded_cells,\n",
    "        p9.aes(x='freq_second_infection')) +\n",
    "    p9.geom_histogram(breaks=[0,0.02,0.04,0.06,0.08,0.1,0.12,0.14,\n",
    "                              0.16,0.18,0.2,0.22,0.24,0.26,0.28]) +\n",
    "    p9.ylim(0,85) +\n",
    "    p9.ggtitle(f'Infectious progeny production') +\n",
    "    p9.labs(x='fraction infectious virions',\n",
    "            y='') +\n",
    "    p9.annotate('text',\n",
    "                label=f'Gini={round(gini_coeffs[\"infectious_progeny_virions\"], 2)}',\n",
    "                x=0.24, y=75,\n",
    "                size=12) +\n",
    "    p9.theme(figure_size=(3, 2.5),\n",
    "             plot_title=p9.element_text(size=12),\n",
    "             axis_title=p9.element_text(size=12),\n",
    "             axis_text=p9.element_text(size=10, color=\"black\"),\n",
    "             legend_title=p9.element_text(size=12),\n",
    "             legend_title_align='center'))\n",
    "infectious_progeny_plot.save(filename = infectious_progeny_file)\n",
    "display(infectious_progeny_plot)"
   ]
  },
  {
   "cell_type": "code",
   "execution_count": null,
   "metadata": {},
   "outputs": [],
   "source": [
    "transcription_selected_cells_file = figure_dir+'/'+'transcription_selected_cells_plot.svg'\n",
    "\n",
    "transcription_selected_cells_plot = (\n",
    "    p9.ggplot(\n",
    "        sequenced_barcoded_cells,\n",
    "        p9.aes(x='frac_viral_UMIs')) +\n",
    "    p9.geom_histogram(breaks=[0,0.05,0.1,0.15,0.2,0.25,0.3,0.35,\n",
    "                              0.4,0.45,0.5,0.55,0.6,0.65,0.7]) +\n",
    "    p9.ylim(0,85) +\n",
    "    p9.ggtitle(f'Viral transcription') +\n",
    "    p9.labs(x='fraction mRNA from virus',\n",
    "            y='') +\n",
    "    p9.annotate('text',\n",
    "                label=f'Gini={round(gini_coeffs[\"viral_transcription\"], 2)}',\n",
    "                x=0.6, y=75,\n",
    "                size=12) +\n",
    "    p9.theme(figure_size=(3, 2.5),\n",
    "             plot_title=p9.element_text(size=12),\n",
    "             axis_title=p9.element_text(size=12),\n",
    "             axis_text=p9.element_text(size=10, color=\"black\"),\n",
    "             legend_title=p9.element_text(size=12),\n",
    "             legend_title_align='center'))\n",
    "transcription_selected_cells_plot.save(filename = transcription_selected_cells_file)\n",
    "display(transcription_selected_cells_plot)"
   ]
  },
  {
   "cell_type": "markdown",
   "metadata": {},
   "source": [
    "### Make composite Fig 4\n",
    "Make composite figure of viral transcription, physical progeny production, and infectious progeny production."
   ]
  },
  {
   "cell_type": "code",
   "execution_count": null,
   "metadata": {},
   "outputs": [],
   "source": [
    "fig4_file = figure_dir+'/'+'fig4.svg'\n",
    "\n",
    "fig4 = (Figure(\"33cm\", \"12cm\",\n",
    "       Panel(\n",
    "#           Grid(20, 20),\n",
    "           SVG(physical_progeny_file).move(0,15),\n",
    "           Text(\"A\", 5, 15, size=14)).scale(2),\n",
    "       Panel(\n",
    "           SVG(infectious_progeny_file).move(0,15),\n",
    "           Text(\"B\", 5, 15, size=14)).scale(2).move(420,0),\n",
    "       Panel(\n",
    "           SVG(transcription_selected_cells_file).move(0,15),\n",
    "           Text(\"C\", 5, 15, size=14)).scale(2).move(820,0),\n",
    "       ))\n",
    "display(fig4)\n",
    "fig4.save(fig4_file)"
   ]
  },
  {
   "cell_type": "markdown",
   "metadata": {},
   "source": [
    "### Calculate cumulative sum of viral products\n",
    "How many cells does it take to contribute half of the transcripts or progeny? Note that in this dataframe I will calculate the cumulative sum on the absolute number of viral UMIs across all cells, rather than the fraction of viral UMIs within a cell (which is the metric I use for other plots)."
   ]
  },
  {
   "cell_type": "code",
   "execution_count": null,
   "metadata": {},
   "outputs": [],
   "source": [
    "cumulative_df = sequenced_barcoded_cells[['cell_barcode', 'viral_UMIs', 'freq_supernatant', 'freq_second_infection']]\n",
    "cumulative_df['viral_UMIs'] = (\n",
    "    cumulative_df['viral_UMIs'] /\n",
    "    cumulative_df['viral_UMIs'].sum())\n",
    "cumsum_list = list()\n",
    "for var in cumulative_df.columns:\n",
    "    if var == 'cell_barcode':\n",
    "        pass\n",
    "    else:\n",
    "        cumsum_list.append(\n",
    "            pd.DataFrame(cumulative_df\n",
    "                         .sort_values(by=var, ascending=False)\n",
    "                         .reset_index()\n",
    "                         [var]\n",
    "                         .cumsum()))\n",
    "cumsum_df = (\n",
    "    pd.melt(pd.concat(cumsum_list, axis=1).reset_index(),\n",
    "            id_vars='index',\n",
    "            var_name='source',\n",
    "            value_name='cumulative_sum'))\n",
    "cumsum_df['index'] = cumsum_df['index'] + 1 # 1-base indexing for cell number\n",
    "cumsum_df['source'] = (\n",
    "    cumsum_df['source']\n",
    "    .astype('category')\n",
    "    .cat\n",
    "    .reorder_categories(['viral_UMIs',\n",
    "                         'freq_supernatant',\n",
    "                         'freq_second_infection'])\n",
    ")\n",
    "display(cumsum_df.query('cumulative_sum > 0.45 and cumulative_sum < 0.6'))"
   ]
  },
  {
   "cell_type": "markdown",
   "metadata": {},
   "source": [
    "### Plot cumulative sum curves"
   ]
  },
  {
   "cell_type": "code",
   "execution_count": null,
   "metadata": {},
   "outputs": [],
   "source": [
    "cumulative_sum_file = figure_dir+'/'+'cumulative_sum_plot.svg'\n",
    "\n",
    "cumulative_sum_plot = (\n",
    "    p9.ggplot() +\n",
    "    p9.geom_point(cumsum_df,\n",
    "                  p9.aes(x='index',\n",
    "                         y='cumulative_sum',\n",
    "                         color='source'),\n",
    "                  alpha=0.5,\n",
    "                  size=3) +\n",
    "    p9.geom_hline(yintercept=0.5, linetype='dashed') +\n",
    "    p9.labs(x='cell rank',\n",
    "            y='cumulative fraction',\n",
    "            color='Viral product') +\n",
    "    p9.scale_x_continuous(breaks=[0,20,40,60,80]) +\n",
    "    p9.scale_color_manual(values=CBPALETTE,\n",
    "                          labels=['Viral mRNA',\n",
    "                                  'Physical progeny virions',\n",
    "                                  'Infectious progeny virions']) +\n",
    "    p9.theme(figure_size=(6, 4),\n",
    "             legend_position='right',\n",
    "             legend_title=p9.element_text(size=14),\n",
    "             legend_text=p9.element_text(size=14),\n",
    "             axis_title=p9.element_text(size=14),\n",
    "             axis_text=p9.element_text(size=14, color=\"black\")))\n",
    "cumulative_sum_plot.save(filename = cumulative_sum_file)\n",
    "display(cumulative_sum_plot)"
   ]
  },
  {
   "cell_type": "markdown",
   "metadata": {},
   "source": [
    "## Transcription-progeny production relationships\n",
    "### Modify df with sequenced and barcoded cells data for better plotting\n",
    "I will make modifications to a copy of the dataframe with sequenced and barcoded cells for optimal plotting. Specifically, I will manually adjust the viral transcription values of a few cells by a small amount (jitter) so that they can be plot without overlaying each other."
   ]
  },
  {
   "cell_type": "code",
   "execution_count": null,
   "metadata": {},
   "outputs": [],
   "source": [
    "transcription_progeny_df = sequenced_barcoded_cells.copy()\n",
    "transcription_progeny_df['frac_viral_UMIs_adjusted'] = (\n",
    "    transcription_progeny_df['frac_viral_UMIs']\n",
    ")\n",
    "# Jitter two cells right around 0.3\n",
    "transcription_progeny_df.loc[261, 'frac_viral_UMIs_adjusted'] = (\n",
    "    transcription_progeny_df.loc[261]['frac_viral_UMIs'] * 1.02\n",
    ")\n",
    "transcription_progeny_df.loc[315, 'frac_viral_UMIs_adjusted'] = (\n",
    "    transcription_progeny_df.loc[261]['frac_viral_UMIs'] * 0.98\n",
    ")\n",
    "\n",
    "display(transcription_progeny_df[['cell_barcode',\n",
    "                                  'frac_viral_UMIs',\n",
    "                                  'frac_viral_UMIs_adjusted',\n",
    "                                  'present_fluNS']]\n",
    "        .sort_values(by='frac_viral_UMIs', ascending=False)\n",
    "        .head(12))"
   ]
  },
  {
   "cell_type": "markdown",
   "metadata": {},
   "source": [
    "I will also add annotations that I will use for future plots that label the viral genotypes and whether or not the cells express the influenza NS gene."
   ]
  },
  {
   "cell_type": "code",
   "execution_count": null,
   "metadata": {},
   "outputs": [],
   "source": [
    "def label_genome_plot(row):\n",
    "    if row['cell_label'] == \"Complete unmutated genome\":\n",
    "        return row['cell_label']\n",
    "    elif row['cell_label'] == \"Complete mutated genome\":\n",
    "        return row['cell_label']\n",
    "    else:\n",
    "        return \"Missing viral gene(s)\"\n",
    "\n",
    "transcription_progeny_df = (\n",
    "    transcription_progeny_df\n",
    "    .assign(genome_label=lambda x: x.apply(label_genome_plot, axis=1))\n",
    ")\n",
    "transcription_progeny_df['genome_label'] = (\n",
    "    transcription_progeny_df['genome_label']\n",
    "    .astype('category')\n",
    "    .cat\n",
    "    .reorder_categories(['Complete unmutated genome',\n",
    "                         'Complete mutated genome',\n",
    "                         'Missing viral gene(s)'])\n",
    ")\n",
    "display(transcription_progeny_df['genome_label'].value_counts())"
   ]
  },
  {
   "cell_type": "markdown",
   "metadata": {},
   "source": [
    "I will copy the `present_fluNS` column with descriptive strings instead of True/False:"
   ]
  },
  {
   "cell_type": "code",
   "execution_count": null,
   "metadata": {},
   "outputs": [],
   "source": [
    "def present_fluNS_string(row):\n",
    "    if row['present_fluNS'] == True:\n",
    "        return \"Expresses NS\"\n",
    "    else:\n",
    "        return \"Does not express NS\"\n",
    "\n",
    "transcription_progeny_df = (\n",
    "    transcription_progeny_df\n",
    "    .assign(present_fluNS_string=lambda x: x.apply(present_fluNS_string, axis = 1))\n",
    ")\n",
    "\n",
    "transcription_progeny_df.groupby(['present_fluNS', 'present_fluNS_string'])['cell_barcode'].nunique()"
   ]
  },
  {
   "cell_type": "markdown",
   "metadata": {},
   "source": [
    "### Plot transcription-progeny production relationship\n",
    "Plot the relationship between viral transcription and progeny produciton. I will produce both an SVG version for the manuscript and an HTML version for uploading to the web.\n",
    "\n",
    "**I need to add [altair_saver](https://github.com/altair-viz/altair_saver/) to the environment to save an SVG version of this plot. For now, I will manually download one and add to the results folder.**"
   ]
  },
  {
   "cell_type": "code",
   "execution_count": null,
   "metadata": {},
   "outputs": [],
   "source": [
    "# Files and variables\n",
    "transcription_progeny_file = figure_dir+'/'+'transcription_progeny_plot.svg'\n",
    "transcription_progeny_interactive_file = 'docs/_includes/transcription_progeny_interactive.html'\n",
    "\n",
    "freq_cols = [f\"freq_{condition}\" for condition in [\"supernatant\", \"second_infection\"]]\n",
    "y_label = {\"freq_supernatant\": \"fraction physical progeny\",\n",
    "           \"freq_second_infection\": \"fraction infectious progeny\"}\n",
    "\n",
    "cell_selector = alt.selection_single(on='mouseover', empty='none')\n",
    "\n",
    "# Colors and shapes\n",
    "genome_label_values = [\"Complete unmutated genome\",\n",
    "                 \"Complete mutated genome\",\n",
    "                 \"Missing viral gene(s)\"]\n",
    "genome_label_colors = [\"#0072B2\", \"#999999\", \"#FF5349\"] # Verified cb-readable\n",
    "\n",
    "present_fluNS_values = [\"Does not express NS\", \"Expresses NS\"]\n",
    "present_fluNS_shapes = [\"triangle\", \"circle\"]\n",
    "\n",
    "# Selectors\n",
    "genotype_selector = alt.selection_single(\n",
    "    fields=[\"genome_label\"],\n",
    "    bind=alt.binding_select(\n",
    "        name=\"Viral genotype\\t\",\n",
    "        options=[None,\n",
    "                 \"Complete unmutated genome\",\n",
    "                 \"Complete mutated genome\",\n",
    "                 \"Missing viral gene(s)\"],\n",
    "        labels=[\"All genomes\",\n",
    "                \"Complete unmutated genome\",\n",
    "                \"Complete mutated genome\",\n",
    "                \"Missing viral gene(s)\"]\n",
    "    ),\n",
    ")\n",
    "\n",
    "NS_selector = alt.selection_single(\n",
    "    fields=[\"present_fluNS_string\"],\n",
    "    bind=alt.binding_select(\n",
    "        name=\"Expresses NS\\t\",\n",
    "        options=[None,\n",
    "                 \"Does not express NS\",\n",
    "                 \"Expresses NS\"],\n",
    "        labels=[\"All\",\n",
    "                \"Does not express NS\",\n",
    "                \"Expresses NS\"]\n",
    "    ),\n",
    ")\n",
    "\n",
    "# Build charts\n",
    "transcription_progeny_charts = []\n",
    "for freq_col in freq_cols:\n",
    "    transcription_progeny_charts.append(\n",
    "        alt.Chart(transcription_progeny_df)\n",
    "        .encode(\n",
    "            x=alt.X(\"frac_viral_UMIs_adjusted\",\n",
    "                    scale=alt.Scale(domain=(0, 0.65)),\n",
    "                    axis=alt.Axis(title='fraction mRNA from virus')),\n",
    "            y=alt.Y(freq_col,\n",
    "                    sort=[False, True],\n",
    "                    scale=alt.Scale(domain=(0, 0.22), bins=[0,0.05,0.1,0.15,0.2]),\n",
    "                    axis=alt.Axis(title=f'{y_label[freq_col]}')),\n",
    "            tooltip=[\"cell_barcode\", alt.Tooltip(\"frac_viral_UMIs\", format='.2g'),\n",
    "                     \"total_UMIs\", \"missing_viral_genes\", \"mutated_genes\",\n",
    "                     *[alt.Tooltip(c, format='.2g') for c in freq_cols],\n",
    "                     \"viral_mutations\", \"mutation_support\",\n",
    "                    ],\n",
    "            color=alt.Color(\"genome_label\",\n",
    "                            legend=alt.Legend(title=\"Viral genotype\",\n",
    "                                              orient='none',\n",
    "                                              legendX=-80,\n",
    "                                              legendY=-45,\n",
    "                                              direction='horizontal',\n",
    "                                              titleFontSize=18,\n",
    "                                              titleFontWeight=\"normal\",\n",
    "                                              titleAnchor='start',\n",
    "                                              labelFontSize=14,\n",
    "                                              symbolStrokeWidth=0,\n",
    "                                              symbolSize=120,\n",
    "                                              labelLimit=200),\n",
    "                            scale=alt.Scale(domain=genome_label_values,\n",
    "                                            range=genome_label_colors)),\n",
    "            shape=alt.Shape(\"present_fluNS_string\",\n",
    "                            legend=alt.Legend(title=\"Expresses NS\",\n",
    "                                              orient='none',\n",
    "                                              legendX=520,\n",
    "                                              legendY=-45,\n",
    "                                              direction='horizontal',\n",
    "                                              titleFontSize=18,\n",
    "                                              titleFontWeight=\"normal\",\n",
    "                                              titleAnchor='start',\n",
    "                                              labelFontSize=14,\n",
    "                                              symbolStrokeWidth=0,\n",
    "                                              symbolSize=120),\n",
    "                            scale=alt.Scale(domain=present_fluNS_values,\n",
    "                                            range=present_fluNS_shapes)),\n",
    "            strokeWidth=alt.condition(cell_selector, alt.value(2), alt.value(0)),\n",
    "            opacity=alt.condition(\n",
    "                cell_selector,\n",
    "                alt.value(1),\n",
    "                alt.value(0.75),\n",
    "            ),\n",
    "            size=alt.value(100),\n",
    "        )\n",
    "        .mark_point(filled=True, stroke=\"black\")\n",
    "        .properties(width=300, height=300)\n",
    "    )\n",
    "\n",
    "transcription_progeny_plot = (\n",
    "    alt.hconcat(*transcription_progeny_charts, spacing=60)\n",
    "    .configure_view(strokeWidth=0)\n",
    "    .add_selection(\n",
    "        cell_selector,\n",
    "        genotype_selector,\n",
    "        NS_selector\n",
    "    )\n",
    "    .transform_filter(genotype_selector)\n",
    "    .transform_filter(NS_selector)\n",
    "    .configure_axis(grid=False,\n",
    "                    titleFontSize=16,\n",
    "                    titleFontWeight=\"normal\",\n",
    "                    labelFontSize=14,\n",
    "                    titlePadding=10)\n",
    ")\n",
    "\n",
    "display(transcription_progeny_plot)\n",
    "#transcription_progeny_plot.save(transcription_progeny_file)\n",
    "transcription_progeny_plot.save(transcription_progeny_interactive_file)"
   ]
  },
  {
   "cell_type": "markdown",
   "metadata": {},
   "source": [
    "## Examine effect of missing viral genes on transcription and progeny production\n",
    "### Label cells based on missing viral genes\n",
    "Simplify missing viral gene information. Categorize cells as expressing all viral genes, missing NS, or missing another gene(s)."
   ]
  },
  {
   "cell_type": "code",
   "execution_count": null,
   "metadata": {},
   "outputs": [],
   "source": [
    "def label_missing_NS(row):\n",
    "    if row['all_viral_genes'] == True:\n",
    "        return \"All viral genes\"\n",
    "    elif row['present_fluNS'] == False:\n",
    "        return \"Missing NS gene\"\n",
    "    else:\n",
    "        return \"Missing other viral gene(s)\"\n",
    "\n",
    "transcription_progeny_df = (\n",
    "    transcription_progeny_df\n",
    "    .assign(\n",
    "        missing_NS=lambda x: x.apply(label_missing_NS, axis=1)))\n",
    "\n",
    "transcription_progeny_df['missing_NS'] = (\n",
    "    transcription_progeny_df['missing_NS']\n",
    "    .astype('category')\n",
    "    .cat\n",
    "    .reorder_categories(['Missing other viral gene(s)',\n",
    "                         'Missing NS gene',\n",
    "                         'All viral genes'])\n",
    ")\n",
    "\n",
    "display(transcription_progeny_df.groupby('missing_NS')['cell_barcode'].nunique())"
   ]
  },
  {
   "cell_type": "markdown",
   "metadata": {},
   "source": [
    "### Plot the viral transcription based on missing viral genes"
   ]
  },
  {
   "cell_type": "code",
   "execution_count": null,
   "metadata": {},
   "outputs": [],
   "source": [
    "missing_NS_transcription_file = figure_dir+'/'+'missing_NS_transcription_plot.svg'\n",
    "\n",
    "missing_NS_transcription_plot = (\n",
    "    p9.ggplot(transcription_progeny_df,\n",
    "               p9.aes(x='missing_NS',\n",
    "                      y='frac_viral_UMIs',)) +\n",
    "    p9.geom_jitter(alpha=0.4, size=3, width=0.15) +\n",
    "    p9.stat_summary(fun_y=np.mean, \n",
    "                    fun_ymin=np.mean,\n",
    "                    fun_ymax=np.mean,\n",
    "                    geom='crossbar',\n",
    "                    width=0.9,\n",
    "                    color=CBPALETTE[2]) +\n",
    "    p9.ggtitle('Viral transcription') +\n",
    "    p9.coord_flip() +\n",
    "    p9.labs(x='',\n",
    "            y='fraction mRNA from virus') +\n",
    "    p9.theme(figure_size=(3.5, 1.75),\n",
    "             plot_title=p9.element_text(size=12),\n",
    "             axis_title=p9.element_text(size=12),\n",
    "             axis_text=p9.element_text(size=12, color=\"black\")))\n",
    "\n",
    "missing_NS_transcription_plot.save(filename = missing_NS_transcription_file)\n",
    "display(missing_NS_transcription_plot)"
   ]
  },
  {
   "cell_type": "code",
   "execution_count": null,
   "metadata": {},
   "outputs": [],
   "source": [
    "missing_NS_transcription_swarm_file = figure_dir+'/'+'missing_NS_transcription_swarm_plot.svg'\n",
    "\n",
    "# Figure theme\n",
    "fig, ax = plt.subplots()\n",
    "fig.set_size_inches(5, 2.2)\n",
    "\n",
    "missing_NS_transcription_swarm_plot = (\n",
    "    sns.swarmplot(data=transcription_progeny_df,\n",
    "                  x='frac_viral_UMIs',\n",
    "                  y='missing_NS',\n",
    "                  order=['All viral genes', 'Missing NS gene', 'Missing other viral gene(s)'],\n",
    "                  palette=['#4F4F4F', '#4F4F4F', '#4F4F4F'],\n",
    "                  size=4))\n",
    "# Add mean lines\n",
    "sns.boxplot(\n",
    "    ax=missing_NS_transcription_swarm_plot,\n",
    "    data=transcription_progeny_df,\n",
    "    x=\"frac_viral_UMIs\",\n",
    "    y=\"missing_NS\",\n",
    "    order=['All viral genes', 'Missing NS gene', 'Missing other viral gene(s)'],\n",
    "    showmeans=True,\n",
    "    meanline=True,\n",
    "    meanprops={'color': CBPALETTE[2], 'ls': '-', 'lw': 1},\n",
    "    medianprops={'visible': False},\n",
    "    whiskerprops={'visible': False},\n",
    "    zorder=10,\n",
    "    showfliers=False,\n",
    "    showbox=False,\n",
    "    showcaps=False,)\n",
    "\n",
    "# Figure theme\n",
    "(missing_NS_transcription_swarm_plot\n",
    " .set(ylabel=None,\n",
    "      title='Viral transcription'))\n",
    "sns.despine()\n",
    "\n",
    "plt.tight_layout()\n",
    "fig.savefig(fname = missing_NS_transcription_swarm_file)\n",
    "display(missing_NS_transcription_swarm_plot)"
   ]
  },
  {
   "cell_type": "markdown",
   "metadata": {},
   "source": [
    "### Calculate statistical significance of missing viral genes on viral transcription\n",
    "Check whether cells missing NS have statistically significant difference in viral transcription.  \n",
    "Since these data are not normally distributed, I will use a non-parametric test. First, I will perform a [Kruskal-Wallis test](http://www.biostathandbook.com/kruskalwallis.html) to see if any of the three groups come from a different distribution."
   ]
  },
  {
   "cell_type": "code",
   "execution_count": null,
   "metadata": {},
   "outputs": [],
   "source": [
    "np_arrays = list()\n",
    "for group in transcription_progeny_df['missing_NS'].unique():\n",
    "    np_arrays.append(\n",
    "        transcription_progeny_df\n",
    "        .query(f'missing_NS == \"{group}\"')\n",
    "        ['frac_viral_UMIs']\n",
    "        .to_numpy())\n",
    "stats.kruskal(np_arrays[0], np_arrays[1], np_arrays[2])"
   ]
  },
  {
   "cell_type": "markdown",
   "metadata": {},
   "source": [
    "The result is significant. Now, I will perform pairwise comparisons of each group using a post-hoc [Dunn's test](https://rpkgs.datanovia.com/rstatix/reference/dunn_test.html) to see which group(s) have statistically signifcant difference in medians. I believe Dunn's test is preferred to the unpaired t-test because Dunn's test accounts for pooled variance calculated across all samples, while the unpaired t-test does not.\n",
    "\n",
    "Use Bonferroni correction as a conservative way of accounting for multiple hypothesis testing."
   ]
  },
  {
   "cell_type": "code",
   "execution_count": null,
   "metadata": {},
   "outputs": [],
   "source": [
    "sp.posthoc_dunn(transcription_progeny_df[['missing_NS', 'frac_viral_UMIs']],\n",
    "                group_col='missing_NS',\n",
    "                val_col='frac_viral_UMIs',\n",
    "                p_adjust='bonferroni')"
   ]
  },
  {
   "cell_type": "markdown",
   "metadata": {},
   "source": [
    "### Plot the progeny production based on missing viral genes"
   ]
  },
  {
   "cell_type": "code",
   "execution_count": null,
   "metadata": {},
   "outputs": [],
   "source": [
    "missing_NS_progeny_file = figure_dir+'/'+'missing_NS_progeny_plot.svg'\n",
    "\n",
    "missing_NS_progeny_plot = (\n",
    "    p9.ggplot(transcription_progeny_df,\n",
    "               p9.aes(x='missing_NS',\n",
    "                      y='freq_supernatant',)) +\n",
    "    p9.geom_jitter(alpha=0.4, size=3, width=0.15) +\n",
    "    p9.stat_summary(fun_y=np.mean, \n",
    "                    fun_ymin=np.mean,\n",
    "                    fun_ymax=np.mean,\n",
    "                    geom='crossbar',\n",
    "                    width=0.9,\n",
    "                    color=CBPALETTE[2]) +\n",
    "    p9.ggtitle('Viral progeny production') +\n",
    "    p9.coord_flip() +\n",
    "    p9.labs(x='',\n",
    "            y='fraction physical progeny') +\n",
    "    p9.theme(figure_size=(3.5, 1.75),\n",
    "             plot_title=p9.element_text(size=12),\n",
    "             axis_title=p9.element_text(size=12),\n",
    "             axis_text_x=p9.element_text(size=12, color=\"black\"),\n",
    "             axis_text_y=p9.element_blank()))\n",
    "\n",
    "missing_NS_progeny_plot.save(filename = missing_NS_progeny_file)\n",
    "display(missing_NS_progeny_plot)"
   ]
  },
  {
   "cell_type": "code",
   "execution_count": null,
   "metadata": {},
   "outputs": [],
   "source": [
    "missing_NS_progeny_swarm_file = figure_dir+'/'+'missing_NS_progeny_swarm_plot.svg'\n",
    "\n",
    "# Figure theme\n",
    "fig, ax = plt.subplots()\n",
    "fig.set_size_inches(3.1, 2.2)\n",
    "\n",
    "missing_NS_progeny_swarm_plot = (\n",
    "    sns.swarmplot(data=transcription_progeny_df,\n",
    "                  x='freq_supernatant',\n",
    "                  y='missing_NS',\n",
    "                  order=['All viral genes', 'Missing NS gene', 'Missing other viral gene(s)'],\n",
    "                  palette=['#4F4F4F', '#4F4F4F', '#4F4F4F'],\n",
    "                  size=4))\n",
    "# Add mean lines\n",
    "sns.boxplot(\n",
    "    ax=missing_NS_progeny_swarm_plot,\n",
    "    data=transcription_progeny_df,\n",
    "    x=\"freq_supernatant\",\n",
    "    y=\"missing_NS\",\n",
    "    order=['All viral genes', 'Missing NS gene', 'Missing other viral gene(s)'],\n",
    "    showmeans=True,\n",
    "    meanline=True,\n",
    "    meanprops={'color': CBPALETTE[2], 'ls': '-', 'lw': 1},\n",
    "    medianprops={'visible': False},\n",
    "    whiskerprops={'visible': False},\n",
    "    zorder=10,\n",
    "    showfliers=False,\n",
    "    showbox=False,\n",
    "    showcaps=False,)\n",
    "\n",
    "# Figure theme\n",
    "(missing_NS_progeny_swarm_plot\n",
    " .set(ylabel=None,\n",
    "      yticklabels=[],\n",
    "      title='Viral progeny production'))\n",
    "sns.despine()\n",
    "\n",
    "plt.tight_layout()\n",
    "fig.savefig(fname = missing_NS_progeny_swarm_file)\n",
    "display(missing_NS_progeny_swarm_plot)"
   ]
  },
  {
   "cell_type": "markdown",
   "metadata": {},
   "source": [
    "## Compare the progeny production distributions of all infected cells to cells with complete, unmutated viral genomes\n",
    "### Calculate Gini coefficients for cells with complete, unmuated viral genomes"
   ]
  },
  {
   "cell_type": "code",
   "execution_count": null,
   "metadata": {},
   "outputs": [],
   "source": [
    "unmutated_distributions = {'viral_transcription': 'frac_viral_UMIs',\n",
    "                 'physical_progeny_virions': 'freq_supernatant',\n",
    "                 'infectious_progeny_virions': 'freq_second_infection'}\n",
    "unmutated_gini_coeffs = {'viral_transcription': None,\n",
    "               'physical_progeny_virions': None,\n",
    "               'infectious_progeny_virions': None,}\n",
    "\n",
    "print(\"For the \"+str(transcription_progeny_df.query('genome_label == \"Complete unmutated genome\"')['cell_barcode'].nunique())+\" unmutated cells with complete progeny measurements and complete sequencing:\")\n",
    "for distribution, variable in distributions.items():\n",
    "    dist_array = (transcription_progeny_df\n",
    "                  .query('genome_label == \"Complete unmutated genome\"')\n",
    "                  [variable]\n",
    "                  .to_numpy())\n",
    "    gini_coeff = gini(dist_array)\n",
    "    unmutated_gini_coeffs[distribution] = gini_coeff\n",
    "    print(f\"{distribution} has a Gini coefficient of {gini_coeff:0f}\")"
   ]
  },
  {
   "cell_type": "markdown",
   "metadata": {},
   "source": [
    "### Plot physical progeny production in all infected cells\n",
    "Make another plot of progeny production in infected cells, formatted for use in a composite figure. This is the same information that is displayed in figure 4."
   ]
  },
  {
   "cell_type": "code",
   "execution_count": null,
   "metadata": {},
   "outputs": [],
   "source": [
    "all_physical_progeny_file = figure_dir+'/'+'all_physical_progeny_plot.svg'\n",
    "\n",
    "all_physical_progeny_plot = (\n",
    "    p9.ggplot(transcription_progeny_df,\n",
    "              p9.aes(x='freq_supernatant')) +\n",
    "    p9.geom_histogram(breaks=[0,0.02,0.04,0.06,0.08,0.1,0.12,0.14,\n",
    "                              0.16,0.18,0.2,0.22,0.24,0.26,0.28]) +\n",
    "    p9.ylim(0,85) +\n",
    "    p9.ggtitle(f'All viral genomes') +\n",
    "    p9.labs(x='fraction physical virions',\n",
    "            y='# of cells') +\n",
    "    p9.annotate('text',\n",
    "                label=f'Gini={round(gini_coeffs[\"physical_progeny_virions\"], 2)}',\n",
    "                x=0.22, y=75,\n",
    "                size=16) +\n",
    "    p9.theme(figure_size=(3, 2.5),\n",
    "             plot_title=p9.element_text(size=16),\n",
    "             axis_title=p9.element_text(size=16),\n",
    "             axis_text=p9.element_text(size=16, color=\"black\"),\n",
    "             legend_title=p9.element_text(size=16),\n",
    "             legend_title_align='center'))\n",
    "all_physical_progeny_plot.save(filename = all_physical_progeny_file)\n",
    "display(all_physical_progeny_plot)"
   ]
  },
  {
   "cell_type": "markdown",
   "metadata": {},
   "source": [
    "### Plot physical progeny produciton in cells with complete, unmutated viral genomes"
   ]
  },
  {
   "cell_type": "code",
   "execution_count": null,
   "metadata": {},
   "outputs": [],
   "source": [
    "unmutated_physical_progeny_file = figure_dir+'/'+'unmutated_physical_progeny_plot.svg'\n",
    "\n",
    "unmutated_physical_progeny_plot = (\n",
    "    p9.ggplot(transcription_progeny_df.query('genome_label == \"Complete unmutated genome\"'),\n",
    "              p9.aes(x='freq_supernatant')) +\n",
    "    p9.geom_histogram(breaks=[0,0.02,0.04,0.06,0.08,0.1,0.12,0.14,\n",
    "                              0.16,0.18,0.2,0.22,0.24,0.26,0.28],\n",
    "                      fill=\"#0072B2\") +\n",
    "    p9.ylim(0,35) +\n",
    "    p9.ggtitle(f'Complete unmutated genomes') +\n",
    "    p9.labs(x='fraction physical virions',\n",
    "            y='') +\n",
    "    p9.annotate('text',\n",
    "                label=f'Gini={round(unmutated_gini_coeffs[\"physical_progeny_virions\"], 2)}',\n",
    "                x=0.22, y=29,\n",
    "                size=16) +\n",
    "    p9.theme(figure_size=(3, 2.5),\n",
    "             plot_title=p9.element_text(size=16),\n",
    "             axis_title=p9.element_text(size=16),\n",
    "             axis_text=p9.element_text(size=16, color=\"black\"),\n",
    "             legend_title=p9.element_text(size=16),\n",
    "             legend_title_align='center'))\n",
    "unmutated_physical_progeny_plot.save(filename = unmutated_physical_progeny_file)\n",
    "display(unmutated_physical_progeny_plot)"
   ]
  },
  {
   "cell_type": "markdown",
   "metadata": {},
   "source": [
    "### Plot infectious progeny production in all infected cells\n",
    "Make another plot of progeny production in infected cells, formatted for use in a composite figure. This is the same information that is displayed in figure 4."
   ]
  },
  {
   "cell_type": "code",
   "execution_count": null,
   "metadata": {},
   "outputs": [],
   "source": [
    "all_infectious_progeny_file = figure_dir+'/'+'all_infectious_progeny_plot.svg'\n",
    "\n",
    "all_infectious_progeny_plot = (\n",
    "    p9.ggplot(transcription_progeny_df,\n",
    "              p9.aes(x='freq_second_infection')) +\n",
    "    p9.geom_histogram(breaks=[0,0.02,0.04,0.06,0.08,0.1,0.12,0.14,\n",
    "                              0.16,0.18,0.2,0.22,0.24,0.26,0.28]) +\n",
    "    p9.ylim(0,85) +\n",
    "    p9.ggtitle(f'All viral genomes') +\n",
    "    p9.labs(x='fraction infectious virions',\n",
    "            y='# of cells') +\n",
    "    p9.annotate('text',\n",
    "                label=f'Gini={round(gini_coeffs[\"infectious_progeny_virions\"], 2)}',\n",
    "                x=0.22, y=75,\n",
    "                size=16) +\n",
    "    p9.theme(figure_size=(3, 2.5),\n",
    "             plot_title=p9.element_text(size=16),\n",
    "             axis_title=p9.element_text(size=16),\n",
    "             axis_text=p9.element_text(size=16, color=\"black\"),\n",
    "             legend_title=p9.element_text(size=16),\n",
    "             legend_title_align='center'))\n",
    "all_infectious_progeny_plot.save(filename = all_infectious_progeny_file)\n",
    "display(all_infectious_progeny_plot)"
   ]
  },
  {
   "cell_type": "markdown",
   "metadata": {},
   "source": [
    "### Plot infectious progeny produciton in cells with complete, unmutated viral genomes"
   ]
  },
  {
   "cell_type": "code",
   "execution_count": null,
   "metadata": {},
   "outputs": [],
   "source": [
    "unmutated_infectious_progeny_file = figure_dir+'/'+'unmutated_infectious_progeny_plot.svg'\n",
    "\n",
    "unmutated_infectious_progeny_plot = (\n",
    "    p9.ggplot(transcription_progeny_df.query('genome_label == \"Complete unmutated genome\"'),\n",
    "              p9.aes(x='freq_second_infection')) +\n",
    "    p9.geom_histogram(breaks=[0,0.02,0.04,0.06,0.08,0.1,0.12,0.14,\n",
    "                              0.16,0.18,0.2,0.22,0.24,0.26,0.28],\n",
    "                      fill=\"#0072B2\") +\n",
    "    p9.ylim(0,35) +\n",
    "    p9.ggtitle(f'Complete unmutated genomes') +\n",
    "    p9.labs(x='fraction infectious virions',\n",
    "            y='') +\n",
    "    p9.annotate('text',\n",
    "                label=f'Gini={round(unmutated_gini_coeffs[\"infectious_progeny_virions\"], 2)}',\n",
    "                x=0.22, y=29,\n",
    "                size=16) +\n",
    "    p9.theme(figure_size=(3, 2.5),\n",
    "             plot_title=p9.element_text(size=16),\n",
    "             axis_title=p9.element_text(size=16),\n",
    "             axis_text=p9.element_text(size=16, color=\"black\"),\n",
    "             legend_title=p9.element_text(size=16),\n",
    "             legend_title_align='center'))\n",
    "unmutated_infectious_progeny_plot.save(filename = unmutated_infectious_progeny_file)\n",
    "display(unmutated_infectious_progeny_plot)"
   ]
  },
  {
   "cell_type": "markdown",
   "metadata": {},
   "source": [
    "### Make composite Fig 5\n",
    "Make composite figure showing viral transcription and progeny production, the effect of missing viral genes, and the heterogeneity of progeny production in cells with complete, unmutated viral genomes."
   ]
  },
  {
   "cell_type": "code",
   "execution_count": null,
   "metadata": {},
   "outputs": [],
   "source": [
    "fig5_file = figure_dir+'/'+'fig5.svg'\n",
    "\n",
    "fig5 = (Figure(\"26cm\", \"25cm\",\n",
    "       Panel(\n",
    "#           Grid(20, 20),\n",
    "           SVG(transcription_progeny_file).scale(1.1).move(0,30),\n",
    "           Text(\"A\", 5, 15, size=18).scale(1.3)),\n",
    "       Panel(\n",
    "           SVG(missing_NS_transcription_swarm_file),\n",
    "           Text(\"B\", 5, 15, size=18)\n",
    "       ).scale(1.3).move(0,495),\n",
    "       Panel(\n",
    "           SVG(missing_NS_progeny_swarm_file),\n",
    "       ).scale(1.3).move(500,495),\n",
    "       Panel(\n",
    "           SVG(all_physical_progeny_file).scale(0.95).move(0,20),\n",
    "           Text(\"C\", 5, 15, size=18).scale(1.3),\n",
    "           Text(\"Physical progeny production\", 120, 15, size=16)\n",
    "       ).move(0,720),\n",
    "       Panel(\n",
    "           SVG(unmutated_physical_progeny_file).scale(0.95).move(0,20),\n",
    "       ).move(225,720),\n",
    "       Panel(\n",
    "           SVG(all_infectious_progeny_file).scale(0.95).move(0,20),\n",
    "           Text(\"D\", 5, 15, size=18).scale(1.3),\n",
    "           Text(\"Infectious progeny production\", 120, 15, size=16)\n",
    "       ).move(480,720),\n",
    "       Panel(\n",
    "           SVG(unmutated_infectious_progeny_file).scale(0.95).move(0,20),\n",
    "       ).move(710,720),\n",
    "       ))\n",
    "display(fig5)\n",
    "fig5.save(fig5_file)"
   ]
  },
  {
   "cell_type": "markdown",
   "metadata": {},
   "source": [
    "## Plot effect of viral mutations of physical and infectious progeny production\n",
    "Plot correlation between physical progeny virion (supernatant) frequency and infectious progeny virion (second infection) frequency. Annotate by genome labels used in transcription-progeny plot above."
   ]
  },
  {
   "cell_type": "code",
   "execution_count": null,
   "metadata": {
    "scrolled": true
   },
   "outputs": [],
   "source": [
    "progeny_freq_corr_file = figure_dir+'/'+'progeny_freq_corr_plot.svg'\n",
    "\n",
    "progeny_freq_corr_plot = (\n",
    "    p9.ggplot(transcription_progeny_df,\n",
    "               p9.aes(x='freq_supernatant',\n",
    "                      y='freq_second_infection',\n",
    "                      color='genome_label')) +\n",
    "    p9.geom_point(alpha=0.4, size=4) +\n",
    "    p9.ggtitle('Progeny associated with\\nsingle infected cells') +\n",
    "    p9.labs(x='fraction physical progeny',\n",
    "            y='fraction \\ninfectious progeny') +\n",
    "    p9.scale_x_continuous(limits=[0,0.22], breaks=[0,0.1,0.2]) +\n",
    "    p9.scale_y_continuous(limits=[0,0.22], breaks=[0,0.1,0.2]) +\n",
    "    p9.theme(figure_size=(3, 3),\n",
    "             plot_title=p9.element_text(size=12),\n",
    "             axis_title=p9.element_text(size=12),\n",
    "             axis_text=p9.element_text(size=12, color=\"black\"),) +\n",
    "    p9.scale_color_manual(genome_label_colors, name=\"Viral mutations\"))\n",
    "\n",
    "progeny_freq_corr_plot.save(filename = progeny_freq_corr_file)\n",
    "display(progeny_freq_corr_plot)"
   ]
  },
  {
   "cell_type": "markdown",
   "metadata": {},
   "source": [
    "## Assess correlations\n",
    "### What is the correlation of transcription and progeny production?\n",
    "I will calculate a Pearson's R value of transcription and physical progeny production, an R value of transcription and physical progeny production, and an R value of physical progeny production and infectious progeny production."
   ]
  },
  {
   "cell_type": "code",
   "execution_count": null,
   "metadata": {},
   "outputs": [],
   "source": [
    "correlation_df = (\n",
    "    transcription_progeny_df[['frac_viral_UMIs', 'freq_supernatant', 'freq_second_infection']]\n",
    "    .corr())\n",
    "display(correlation_df)\n",
    "\n",
    "print(f'The R value between viral transcription and physical progeny production is {correlation_df.iloc[0,1]:2g}')\n",
    "print(f'The R value between viral transcription and infectious progeny production is {correlation_df.iloc[0,2]:2g}')\n",
    "print(f'The R value between physical progeny prodcution and infectious progeny production is {correlation_df.iloc[1,2]:2g}')"
   ]
  },
  {
   "cell_type": "markdown",
   "metadata": {},
   "source": [
    "## Export processed data to CSV\n",
    "Export dataframe with information for 92 infected cells with long-read sequencing for all expressed viral genes and both barcoded viral genes expressed."
   ]
  },
  {
   "cell_type": "code",
   "execution_count": null,
   "metadata": {},
   "outputs": [],
   "source": [
    "complete_measurement_cells_data_CSV = (\n",
    "    'results/viral_fastq10x/scProgenyProduction_trial3_complete_measurements_cells_data.csv')\n",
    "sequenced_barcoded_cells.to_csv(complete_measurement_cells_data_CSV)"
   ]
  }
 ],
 "metadata": {
  "kernelspec": {
   "display_name": "Python 3",
   "language": "python",
   "name": "python3"
  },
  "language_info": {
   "codemirror_mode": {
    "name": "ipython",
    "version": 3
   },
   "file_extension": ".py",
   "mimetype": "text/x-python",
   "name": "python",
   "nbconvert_exporter": "python",
   "pygments_lexer": "ipython3",
   "version": "3.8.6"
  }
 },
 "nbformat": 4,
 "nbformat_minor": 4
}
