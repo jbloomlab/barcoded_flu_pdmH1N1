{
 "cells": [
  {
   "cell_type": "markdown",
   "metadata": {},
   "source": [
    "# parse_barcodes\n",
    "This notebook attempts to parse cell barcodes, UMIs, and viral barcodes from *only VIRAL reads*. It uses Read1 data to do this."
   ]
  },
  {
   "cell_type": "code",
   "execution_count": 1,
   "metadata": {},
   "outputs": [],
   "source": [
    "# Import\n",
    "import glob\n",
    "import os\n",
    "import gzip\n",
    "import pandas as pd\n",
    "from Bio import SeqIO"
   ]
  },
  {
   "cell_type": "code",
   "execution_count": 2,
   "metadata": {},
   "outputs": [],
   "source": [
    "# Constants\n",
    "sample_file = 'samples.csv'\n",
    "\n",
    "out_folder = 'outs/'"
   ]
  },
  {
   "cell_type": "code",
   "execution_count": 3,
   "metadata": {},
   "outputs": [
    {
     "data": {
      "text/html": [
       "<div>\n",
       "<style scoped>\n",
       "    .dataframe tbody tr th:only-of-type {\n",
       "        vertical-align: middle;\n",
       "    }\n",
       "\n",
       "    .dataframe tbody tr th {\n",
       "        vertical-align: top;\n",
       "    }\n",
       "\n",
       "    .dataframe thead th {\n",
       "        text-align: right;\n",
       "    }\n",
       "</style>\n",
       "<table border=\"1\" class=\"dataframe\">\n",
       "  <thead>\n",
       "    <tr style=\"text-align: right;\">\n",
       "      <th></th>\n",
       "      <th>sample</th>\n",
       "      <th>data_type</th>\n",
       "      <th>index</th>\n",
       "      <th>data_file</th>\n",
       "    </tr>\n",
       "  </thead>\n",
       "  <tbody>\n",
       "    <tr>\n",
       "      <td>0</td>\n",
       "      <td>HUNDREDuM_primer</td>\n",
       "      <td>transcripts</td>\n",
       "      <td>A1</td>\n",
       "      <td>out/virus_hashing/outs/fastq_path/CL3WR/HUNDRE...</td>\n",
       "    </tr>\n",
       "    <tr>\n",
       "      <td>1</td>\n",
       "      <td>TENuM_primer</td>\n",
       "      <td>transcripts</td>\n",
       "      <td>A2</td>\n",
       "      <td>out/virus_hashing/outs/fastq_path/CL3WR/TENuM_...</td>\n",
       "    </tr>\n",
       "  </tbody>\n",
       "</table>\n",
       "</div>"
      ],
      "text/plain": [
       "             sample    data_type index  \\\n",
       "0  HUNDREDuM_primer  transcripts    A1   \n",
       "1      TENuM_primer  transcripts    A2   \n",
       "\n",
       "                                           data_file  \n",
       "0  out/virus_hashing/outs/fastq_path/CL3WR/HUNDRE...  \n",
       "1  out/virus_hashing/outs/fastq_path/CL3WR/TENuM_...  "
      ]
     },
     "execution_count": 3,
     "metadata": {},
     "output_type": "execute_result"
    }
   ],
   "source": [
    "# Load samples\n",
    "samples = pd.read_csv(sample_file, comment='#')\n",
    "\n",
    "samples"
   ]
  },
  {
   "cell_type": "markdown",
   "metadata": {},
   "source": [
    "## Handle Read 1 Data\n",
    "\n",
    "### Split features based on position in Read 1\n",
    "Now, I must parse out the features I expect to be present in each of these reads. For this, I will simply split out the sequence based on position, since each feature should be some exact length. The lengths I anticipate are designated in a cell below.\n",
    "\n",
    "The order of the features looks like this, depending on whether the adapter was appended in a way that retained the Cell Barcode and UMI or not:  \n",
    "With Cell Barcode/UMI = `TruSeq Read 1 - Cell Barcode - UMI - PolyA`  \n",
    "Without Cell Barcode/UMI = `TruSeq Read 1 - Viral Barcode - CDS`; an important note: if the molecule looks like this, the CDS will be `GCGGCCGCCT`.\n",
    "\n",
    "I will parse the `TruSeq Read 1` feature as the first `22 bp`.  \n",
    "I will parse the `Cell Barcode` OR `Viral Barcode` as the next `16 bp`.  \n",
    "Finally, I will parse the `UMI` OR `CDS` as the final `12 bp`.\n"
   ]
  },
  {
   "cell_type": "code",
   "execution_count": 4,
   "metadata": {},
   "outputs": [],
   "source": [
    "# Feature Lengths\n",
    "truseq_len = 22\n",
    "bc_len = 16\n",
    "umi_cds_len = 12\n",
    "\n",
    "#HA and NA CDS sequences\n",
    "virus_constant = 'GCGGCCGCCT'"
   ]
  },
  {
   "cell_type": "code",
   "execution_count": 5,
   "metadata": {},
   "outputs": [
    {
     "name": "stdout",
     "output_type": "stream",
     "text": [
      "Processing reads for sample \"HUNDREDuM_primer\"\n",
      "Parsing file out/virus_hashing/outs/fastq_path/CL3WR/HUNDREDuM_primer/HUNDREDuM_primer_S1_L001_R1_001.fastq.gz\n",
      "Done.\n",
      "\n",
      "Processing reads for sample \"TENuM_primer\"\n",
      "Parsing file out/virus_hashing/outs/fastq_path/CL3WR/TENuM_primer/TENuM_primer_S2_L001_R1_001.fastq.gz\n",
      "Done.\n",
      "\n",
      "Done loading FASTQ files.\n",
      "\n"
     ]
    }
   ],
   "source": [
    "record_dict = {'record_id': [],\n",
    "               'primer': [],\n",
    "               'truseq': [],\n",
    "               'bc': [],\n",
    "               'umi_or_cds': [],\n",
    "               'has_cell_bc': []\n",
    "              }\n",
    "# Load Read 1 Files\n",
    "for tup in samples.itertuples(index=False):\n",
    "    print(f'Processing reads for sample \"{tup.sample}\"')\n",
    "    r1files = glob.glob(os.path.join(tup.data_file, '*R1*.fastq.gz'))\n",
    "    for file in r1files:\n",
    "        print(f'Parsing file {file}')\n",
    "        with gzip.open(file, \"rt\") as gunzip_file:\n",
    "            for record in SeqIO.parse(gunzip_file, \"fastq\"):\n",
    "                # Start parsing features\n",
    "                record_dict['record_id'].append(record.id)\n",
    "                record_dict['primer'].append(tup.sample)\n",
    "                record_dict['truseq'].append(str(record.seq[0:22]))\n",
    "                record_dict['bc'].append(str(record.seq[22:38]))\n",
    "                record_dict['umi_or_cds'].append(str(record.seq[38:48]))\n",
    "                if (str(record.seq[38:48]) in virus_constant):\n",
    "                    record_dict['has_cell_bc'].append(False)\n",
    "                else:\n",
    "                    record_dict['has_cell_bc'].append(True)\n",
    "        print('Done.\\n')\n",
    "\n",
    "print('Done loading FASTQ files.\\n')"
   ]
  },
  {
   "cell_type": "code",
   "execution_count": 6,
   "metadata": {},
   "outputs": [
    {
     "name": "stdout",
     "output_type": "stream",
     "text": [
      "Converting to dataframe.\n",
      "Dataframe head:\n"
     ]
    },
    {
     "data": {
      "text/html": [
       "<div>\n",
       "<style scoped>\n",
       "    .dataframe tbody tr th:only-of-type {\n",
       "        vertical-align: middle;\n",
       "    }\n",
       "\n",
       "    .dataframe tbody tr th {\n",
       "        vertical-align: top;\n",
       "    }\n",
       "\n",
       "    .dataframe thead th {\n",
       "        text-align: right;\n",
       "    }\n",
       "</style>\n",
       "<table border=\"1\" class=\"dataframe\">\n",
       "  <thead>\n",
       "    <tr style=\"text-align: right;\">\n",
       "      <th></th>\n",
       "      <th>record_id</th>\n",
       "      <th>primer</th>\n",
       "      <th>truseq</th>\n",
       "      <th>bc</th>\n",
       "      <th>umi_or_cds</th>\n",
       "      <th>has_cell_bc</th>\n",
       "    </tr>\n",
       "  </thead>\n",
       "  <tbody>\n",
       "    <tr>\n",
       "      <td>0</td>\n",
       "      <td>M03100:474:000000000-CL3WR:1:2116:16081:1664</td>\n",
       "      <td>HUNDREDuM_primer</td>\n",
       "      <td>CTACACGACGCTCTTCNGATCT</td>\n",
       "      <td>ACGACCGCGTCCTCTT</td>\n",
       "      <td>CCTCTTCCCC</td>\n",
       "      <td>True</td>\n",
       "    </tr>\n",
       "    <tr>\n",
       "      <td>1</td>\n",
       "      <td>M03100:474:000000000-CL3WR:1:2116:21218:1667</td>\n",
       "      <td>HUNDREDuM_primer</td>\n",
       "      <td>CTACACGACGCTCTTCNGATCT</td>\n",
       "      <td>CTCTCCTTCCTCCCTC</td>\n",
       "      <td>CCCTCTCCCC</td>\n",
       "      <td>True</td>\n",
       "    </tr>\n",
       "    <tr>\n",
       "      <td>2</td>\n",
       "      <td>M03100:474:000000000-CL3WR:1:2116:17297:1672</td>\n",
       "      <td>HUNDREDuM_primer</td>\n",
       "      <td>CTACACGACGCTCTTCNGATCT</td>\n",
       "      <td>CTCTGCCTCCCGTGTA</td>\n",
       "      <td>CAAACATTTC</td>\n",
       "      <td>True</td>\n",
       "    </tr>\n",
       "    <tr>\n",
       "      <td>3</td>\n",
       "      <td>M03100:474:000000000-CL3WR:1:2116:21080:1736</td>\n",
       "      <td>HUNDREDuM_primer</td>\n",
       "      <td>CTACACGACGCTCTTCNGATCT</td>\n",
       "      <td>TCAACGATCGCCATTA</td>\n",
       "      <td>TTCCAACCTG</td>\n",
       "      <td>True</td>\n",
       "    </tr>\n",
       "    <tr>\n",
       "      <td>4</td>\n",
       "      <td>M03100:474:000000000-CL3WR:1:2116:15840:1750</td>\n",
       "      <td>HUNDREDuM_primer</td>\n",
       "      <td>CTACACGACGCTCTTCNGATCT</td>\n",
       "      <td>AACCGCCTCCCGTTTC</td>\n",
       "      <td>CCCCTCCCTC</td>\n",
       "      <td>True</td>\n",
       "    </tr>\n",
       "  </tbody>\n",
       "</table>\n",
       "</div>"
      ],
      "text/plain": [
       "                                      record_id            primer  \\\n",
       "0  M03100:474:000000000-CL3WR:1:2116:16081:1664  HUNDREDuM_primer   \n",
       "1  M03100:474:000000000-CL3WR:1:2116:21218:1667  HUNDREDuM_primer   \n",
       "2  M03100:474:000000000-CL3WR:1:2116:17297:1672  HUNDREDuM_primer   \n",
       "3  M03100:474:000000000-CL3WR:1:2116:21080:1736  HUNDREDuM_primer   \n",
       "4  M03100:474:000000000-CL3WR:1:2116:15840:1750  HUNDREDuM_primer   \n",
       "\n",
       "                   truseq                bc  umi_or_cds  has_cell_bc  \n",
       "0  CTACACGACGCTCTTCNGATCT  ACGACCGCGTCCTCTT  CCTCTTCCCC         True  \n",
       "1  CTACACGACGCTCTTCNGATCT  CTCTCCTTCCTCCCTC  CCCTCTCCCC         True  \n",
       "2  CTACACGACGCTCTTCNGATCT  CTCTGCCTCCCGTGTA  CAAACATTTC         True  \n",
       "3  CTACACGACGCTCTTCNGATCT  TCAACGATCGCCATTA  TTCCAACCTG         True  \n",
       "4  CTACACGACGCTCTTCNGATCT  AACCGCCTCCCGTTTC  CCCCTCCCTC         True  "
      ]
     },
     "execution_count": 6,
     "metadata": {},
     "output_type": "execute_result"
    }
   ],
   "source": [
    "print('Converting to dataframe.')\n",
    "r1_reads = pd.DataFrame.from_dict(record_dict)\n",
    "print('Dataframe head:')\n",
    "r1_reads.head()"
   ]
  },
  {
   "cell_type": "markdown",
   "metadata": {},
   "source": [
    "As a check, I just want to see that the reads being called as missing a cell barcode have the appropriate constant sequence:"
   ]
  },
  {
   "cell_type": "code",
   "execution_count": 7,
   "metadata": {},
   "outputs": [
    {
     "data": {
      "text/html": [
       "<div>\n",
       "<style scoped>\n",
       "    .dataframe tbody tr th:only-of-type {\n",
       "        vertical-align: middle;\n",
       "    }\n",
       "\n",
       "    .dataframe tbody tr th {\n",
       "        vertical-align: top;\n",
       "    }\n",
       "\n",
       "    .dataframe thead th {\n",
       "        text-align: right;\n",
       "    }\n",
       "</style>\n",
       "<table border=\"1\" class=\"dataframe\">\n",
       "  <thead>\n",
       "    <tr style=\"text-align: right;\">\n",
       "      <th></th>\n",
       "      <th>record_id</th>\n",
       "      <th>primer</th>\n",
       "      <th>truseq</th>\n",
       "      <th>bc</th>\n",
       "      <th>umi_or_cds</th>\n",
       "      <th>has_cell_bc</th>\n",
       "    </tr>\n",
       "  </thead>\n",
       "  <tbody>\n",
       "    <tr>\n",
       "      <td>4676</td>\n",
       "      <td>M03100:474:000000000-CL3WR:1:2116:8072:7817</td>\n",
       "      <td>HUNDREDuM_primer</td>\n",
       "      <td>CTACACGACGCTCTTCNGATCT</td>\n",
       "      <td>TAAGGCCCTGATATTC</td>\n",
       "      <td>GCGGCCGCCT</td>\n",
       "      <td>False</td>\n",
       "    </tr>\n",
       "    <tr>\n",
       "      <td>8246</td>\n",
       "      <td>M03100:474:000000000-CL3WR:1:2116:17775:9854</td>\n",
       "      <td>HUNDREDuM_primer</td>\n",
       "      <td>CTACACGACGCTCTTCNGATCT</td>\n",
       "      <td>GATGGTGGTACCTGCC</td>\n",
       "      <td>GCGGCCGCCT</td>\n",
       "      <td>False</td>\n",
       "    </tr>\n",
       "    <tr>\n",
       "      <td>8947</td>\n",
       "      <td>M03100:474:000000000-CL3WR:1:2116:20841:10190</td>\n",
       "      <td>HUNDREDuM_primer</td>\n",
       "      <td>CTACACGACGCTCTTCNGATCT</td>\n",
       "      <td>GATGGTGGTACCTGCC</td>\n",
       "      <td>GCGGCCGCCT</td>\n",
       "      <td>False</td>\n",
       "    </tr>\n",
       "    <tr>\n",
       "      <td>9054</td>\n",
       "      <td>M03100:474:000000000-CL3WR:1:2116:15390:10235</td>\n",
       "      <td>HUNDREDuM_primer</td>\n",
       "      <td>CTACACGACGCTCTTCNGATCT</td>\n",
       "      <td>GAAATTTGCGGTTCCG</td>\n",
       "      <td>GCGGCCGCCT</td>\n",
       "      <td>False</td>\n",
       "    </tr>\n",
       "    <tr>\n",
       "      <td>9510</td>\n",
       "      <td>M03100:474:000000000-CL3WR:1:2116:24188:10470</td>\n",
       "      <td>HUNDREDuM_primer</td>\n",
       "      <td>CTACACGACGCTCTTCNGATCT</td>\n",
       "      <td>GATGGCTGTACCTGCC</td>\n",
       "      <td>GCGGCCGCCT</td>\n",
       "      <td>False</td>\n",
       "    </tr>\n",
       "  </tbody>\n",
       "</table>\n",
       "</div>"
      ],
      "text/plain": [
       "                                          record_id            primer  \\\n",
       "4676    M03100:474:000000000-CL3WR:1:2116:8072:7817  HUNDREDuM_primer   \n",
       "8246   M03100:474:000000000-CL3WR:1:2116:17775:9854  HUNDREDuM_primer   \n",
       "8947  M03100:474:000000000-CL3WR:1:2116:20841:10190  HUNDREDuM_primer   \n",
       "9054  M03100:474:000000000-CL3WR:1:2116:15390:10235  HUNDREDuM_primer   \n",
       "9510  M03100:474:000000000-CL3WR:1:2116:24188:10470  HUNDREDuM_primer   \n",
       "\n",
       "                      truseq                bc  umi_or_cds  has_cell_bc  \n",
       "4676  CTACACGACGCTCTTCNGATCT  TAAGGCCCTGATATTC  GCGGCCGCCT        False  \n",
       "8246  CTACACGACGCTCTTCNGATCT  GATGGTGGTACCTGCC  GCGGCCGCCT        False  \n",
       "8947  CTACACGACGCTCTTCNGATCT  GATGGTGGTACCTGCC  GCGGCCGCCT        False  \n",
       "9054  CTACACGACGCTCTTCNGATCT  GAAATTTGCGGTTCCG  GCGGCCGCCT        False  \n",
       "9510  CTACACGACGCTCTTCNGATCT  GATGGCTGTACCTGCC  GCGGCCGCCT        False  "
      ]
     },
     "execution_count": 7,
     "metadata": {},
     "output_type": "execute_result"
    }
   ],
   "source": [
    "r1_reads[r1_reads['has_cell_bc']==False].head()"
   ]
  },
  {
   "cell_type": "markdown",
   "metadata": {},
   "source": [
    "### How many molecules are missing their cell barcode?\n",
    "\n",
    "Now, I want to ask how many reads from each sample are missing the cell barcode? This will be indicated by having the expected constant region from the virus CDS."
   ]
  },
  {
   "cell_type": "code",
   "execution_count": 8,
   "metadata": {},
   "outputs": [
    {
     "data": {
      "text/html": [
       "<div>\n",
       "<style scoped>\n",
       "    .dataframe tbody tr th:only-of-type {\n",
       "        vertical-align: middle;\n",
       "    }\n",
       "\n",
       "    .dataframe tbody tr th {\n",
       "        vertical-align: top;\n",
       "    }\n",
       "\n",
       "    .dataframe thead th {\n",
       "        text-align: right;\n",
       "    }\n",
       "</style>\n",
       "<table border=\"1\" class=\"dataframe\">\n",
       "  <thead>\n",
       "    <tr style=\"text-align: right;\">\n",
       "      <th></th>\n",
       "      <th></th>\n",
       "      <th>record_id</th>\n",
       "      <th>truseq</th>\n",
       "      <th>bc</th>\n",
       "      <th>umi_or_cds</th>\n",
       "    </tr>\n",
       "    <tr>\n",
       "      <th>primer</th>\n",
       "      <th>has_cell_bc</th>\n",
       "      <th></th>\n",
       "      <th></th>\n",
       "      <th></th>\n",
       "      <th></th>\n",
       "    </tr>\n",
       "  </thead>\n",
       "  <tbody>\n",
       "    <tr>\n",
       "      <td rowspan=\"2\" valign=\"top\">HUNDREDuM_primer</td>\n",
       "      <td>False</td>\n",
       "      <td>274</td>\n",
       "      <td>274</td>\n",
       "      <td>274</td>\n",
       "      <td>274</td>\n",
       "    </tr>\n",
       "    <tr>\n",
       "      <td>True</td>\n",
       "      <td>300039</td>\n",
       "      <td>300039</td>\n",
       "      <td>300039</td>\n",
       "      <td>300039</td>\n",
       "    </tr>\n",
       "    <tr>\n",
       "      <td rowspan=\"2\" valign=\"top\">TENuM_primer</td>\n",
       "      <td>False</td>\n",
       "      <td>265</td>\n",
       "      <td>265</td>\n",
       "      <td>265</td>\n",
       "      <td>265</td>\n",
       "    </tr>\n",
       "    <tr>\n",
       "      <td>True</td>\n",
       "      <td>237063</td>\n",
       "      <td>237063</td>\n",
       "      <td>237063</td>\n",
       "      <td>237063</td>\n",
       "    </tr>\n",
       "  </tbody>\n",
       "</table>\n",
       "</div>"
      ],
      "text/plain": [
       "                              record_id  truseq      bc  umi_or_cds\n",
       "primer           has_cell_bc                                       \n",
       "HUNDREDuM_primer False              274     274     274         274\n",
       "                 True            300039  300039  300039      300039\n",
       "TENuM_primer     False              265     265     265         265\n",
       "                 True            237063  237063  237063      237063"
      ]
     },
     "execution_count": 8,
     "metadata": {},
     "output_type": "execute_result"
    }
   ],
   "source": [
    "r1_reads.groupby(['primer','has_cell_bc']).count()"
   ]
  },
  {
   "cell_type": "markdown",
   "metadata": {},
   "source": [
    "About ~270 reads of each sample appear to be missing a cell barcode. To know what proportion of the viral reads this is, we'll have to map each read to virus or host."
   ]
  },
  {
   "cell_type": "markdown",
   "metadata": {},
   "source": [
    "## Handle Read 2 Data\n",
    "\n",
    "### Call a read as viral/not viral\n",
    "The fastest way to figure out how many of our viral reads retain their cell barcode is just to search for a snippet of read 2 in the viral genome.\n",
    "\n",
    "First, I will define the viral genome.  I have directly copied a script which automatically generates FASTA files for this from another project (see [here](https://github.com/jbloomlab/pdmH1N1_flu_single_cell/tree/master/data/flu_sequences)). \n",
    "Then, I will trim Read 2 back to ~50 bp.\n",
    "Finally, I will check to see if each read is in the viral genome. These will be called viral molecules, and all others will be assumed to be host."
   ]
  },
  {
   "cell_type": "code",
   "execution_count": 10,
   "metadata": {},
   "outputs": [],
   "source": [
    "flu_genome_folder = 'flu_sequences'\n",
    "flu_files = ['flu-CA09.fasta', 'flu-CA09-dblSyn.fasta']"
   ]
  },
  {
   "cell_type": "code",
   "execution_count": 17,
   "metadata": {},
   "outputs": [
    {
     "name": "stdout",
     "output_type": "stream",
     "text": [
      "Reading in flu genome from file: flu-CA09.fasta\n",
      "Reading in sequence for fluPB2.\n",
      "Reading in sequence for fluPB1.\n",
      "Reading in sequence for fluPA.\n",
      "Reading in sequence for fluHA.\n",
      "Reading in sequence for fluNP.\n",
      "Reading in sequence for fluNA.\n",
      "Reading in sequence for fluM.\n",
      "Reading in sequence for fluNS.\n",
      "Done with file.\n",
      "\n",
      "Reading in flu genome from file: flu-CA09-dblSyn.fasta\n",
      "Reading in sequence for fluPB2.\n",
      "Reading in sequence for fluPB1.\n",
      "Reading in sequence for fluPA.\n",
      "Reading in sequence for fluHA.\n",
      "Reading in sequence for fluNP.\n",
      "Reading in sequence for fluNA.\n",
      "Reading in sequence for fluM.\n",
      "Reading in sequence for fluNS.\n",
      "Done with file.\n",
      "\n",
      "Finished loading flu genomes.\n",
      "There were 16 sequences loaded from 2 files.\n"
     ]
    }
   ],
   "source": [
    "# Load in viral genomes and make into a single string that can be searched\n",
    "seqs = list()\n",
    "\n",
    "for file in flu_files:\n",
    "    print(f'Reading in flu genome from file: {file}')\n",
    "    file_path = flu_genome_folder + '/' + file\n",
    "    with open(file_path) as open_file:\n",
    "        for record in SeqIO.parse(open_file, \"fasta\"):\n",
    "            print(f\"Reading in sequence for {record.id}.\")\n",
    "            seqs.append(str(record.seq))\n",
    "    print('Done with file.\\n')\n",
    "\n",
    "print(\"Finished loading flu genomes.\")\n",
    "print(f\"There were {len(seqs)} sequences loaded from {len(flu_files)} files.\")"
   ]
  },
  {
   "cell_type": "code",
   "execution_count": null,
   "metadata": {},
   "outputs": [],
   "source": []
  }
 ],
 "metadata": {
  "kernelspec": {
   "display_name": "Python 3",
   "language": "python",
   "name": "python3"
  },
  "language_info": {
   "codemirror_mode": {
    "name": "ipython",
    "version": 3
   },
   "file_extension": ".py",
   "mimetype": "text/x-python",
   "name": "python",
   "nbconvert_exporter": "python",
   "pygments_lexer": "ipython3",
   "version": "3.6.7"
  }
 },
 "nbformat": 4,
 "nbformat_minor": 2
}
