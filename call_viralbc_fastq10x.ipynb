{
 "cells": [
  {
   "cell_type": "markdown",
   "metadata": {},
   "source": [
    "# Call viral barcodes from 10X Illumina reads\n",
    "This Python Jupyter notebook process the aligned 10X FASTQ reads to call viral barcodes in reads that align to a barcoded viral gene in droplets that have already been called as cells."
   ]
  },
  {
   "cell_type": "markdown",
   "metadata": {},
   "source": [
    "## Parameters\n",
    "First, set the parameters for the notebook, such as to specify the input files and output plots.\n",
    "This is done in the next cell, which is tagged as a `parameters` cell to enable [papermill parameterization](https://papermill.readthedocs.io/en/latest/usage-parameterize.html):"
   ]
  },
  {
   "cell_type": "code",
   "execution_count": 33,
   "metadata": {
    "tags": [
     "parameters"
    ]
   },
   "outputs": [],
   "source": [
    "# parameters cell; in order for notebook to run this cell must define:\n",
    "#  - bc_viral_gene: name of barcoded viral gene being parsed\n",
    "#  - input_cell_barcodes: list of cell barcodes (for called cells) from `STARsolo`\n",
    "#  - input_aligned_fastq10x_bam: BAM file with `STARsolo` alignments of 10X FASTQ reads\n",
    "#  - input_aligned_fastq10x_bam_index: index for `input_aligned_fastq10x_bam`\n",
    "#  - input_viral_genome: Genbank file with viral genes, with `viral_barcode` feature annotations\n",
    "#  - input_viral_tags: YAML file giving identities of viral tag for each tag variant\n",
    "#  - output_viral_reads: .fastq.gz of 10X reads that aligned to viral gene with valid cell barcode\n",
    "#  - output_viral_reads_realigned_sam: SAM file of `output_viral_reads` re-aligned to viral gene\n",
    "#  - output_viral_reads_realigned_bam: BAM of `output_viral_reads_realigned_sam`\n",
    "bc_viral_gene = 'fluHA'\n",
    "input_cell_barcodes = 'results/aligned_fastq10x/wt_virus_pilot/Solo.out/Gene/filtered/barcodes.tsv'\n",
    "input_aligned_fastq10x_bam = 'results/aligned_fastq10x/wt_virus_pilot/Aligned.sortedByCoord.out.bam'\n",
    "input_aligned_fastq10x_bam_index = 'results/aligned_fastq10x/wt_virus_pilot/Aligned.sortedByCoord.out.bam.bai'\n",
    "input_viral_genome = 'data/flu_sequences/flu-CA09.gb'\n",
    "input_viral_tags = 'data/flu_sequences/flu-CA09_viral_tags.yaml'\n",
    "output_viral_reads = 'results/viralbc_fastq10x/wt_virus_pilot_fluHA_reads.fastq.gz'\n",
    "output_viral_reads_realigned_sam = 'results/viralbc_fastq10x/wt_virus_pilot_fluHA_realigned.sam'\n",
    "output_viral_reads_realigned_bam = 'results/viralbc_fastq10x/wt_virus_pilot_fluHA_realigned.bam'"
   ]
  },
  {
   "cell_type": "markdown",
   "metadata": {},
   "source": [
    "## Import Python modules\n",
    "We use [alignparse](https://jbloomlab.github.io/alignparse) to parse alignments, [anndata](https://anndata.readthedocs.io/) to handle the matrix of cells and viral barcode counts, and [plotnine](https://plotnine.readthedocs.io/) for ggplot2-style plotting:"
   ]
  },
  {
   "cell_type": "code",
   "execution_count": 31,
   "metadata": {},
   "outputs": [],
   "source": [
    "import contextlib\n",
    "import gzip\n",
    "import os\n",
    "import subprocess\n",
    "\n",
    "import alignparse.minimap2\n",
    "import alignparse.targets\n",
    "\n",
    "import anndata\n",
    "\n",
    "from IPython.display import display, HTML\n",
    "\n",
    "import numpy\n",
    "\n",
    "import pandas as pd\n",
    "\n",
    "from plotnine import *\n",
    "\n",
    "import pysam\n",
    "\n",
    "import yaml"
   ]
  },
  {
   "cell_type": "markdown",
   "metadata": {},
   "source": [
    "Color-blind palette:"
   ]
  },
  {
   "cell_type": "code",
   "execution_count": 3,
   "metadata": {},
   "outputs": [],
   "source": [
    "cbpalette = ('#999999', '#E69F00', '#56B4E9', '#009E73',\n",
    "             '#F0E442', '#0072B2', '#D55E00', '#CC79A7')"
   ]
  },
  {
   "cell_type": "markdown",
   "metadata": {},
   "source": [
    "Set [plotnine theme](https://plotnine.readthedocs.io/en/stable/api.html#themes):"
   ]
  },
  {
   "cell_type": "code",
   "execution_count": 4,
   "metadata": {},
   "outputs": [],
   "source": [
    "_ = theme_set(theme_classic)"
   ]
  },
  {
   "cell_type": "markdown",
   "metadata": {},
   "source": [
    "## Get reads that align to barcoded viral genes\n",
    "Extract from the BAM file of aligned 10X Illumina reads all those reads that meet the following criteria:\n",
    "  1. They align to the barcoded viral gene of interest\n",
    "  2. They correspond to a cell barcode that was called as \"valid (non-empty droplet)\n",
    "  \n",
    "First, get the set of valid cell barcodes:"
   ]
  },
  {
   "cell_type": "code",
   "execution_count": 5,
   "metadata": {},
   "outputs": [
    {
     "name": "stdout",
     "output_type": "stream",
     "text": [
      "Read 3633 valid cell barcodes from results/aligned_fastq10x/wt_virus_pilot/Solo.out/Gene/filtered/barcodes.tsv\n"
     ]
    }
   ],
   "source": [
    "cell_barcodes = set(pd.read_csv(input_cell_barcodes, sep='\\t', header=None)[0])\n",
    "print(f\"Read {len(cell_barcodes)} valid cell barcodes from {input_cell_barcodes}\")"
   ]
  },
  {
   "cell_type": "markdown",
   "metadata": {},
   "source": [
    "Iterate over reads in the BAM file of aligned 10X reads, filtering for (in order):\n",
    " 1. Reads that align to the viral gene of interest.\n",
    " 2. Reads that have a cell barcode (`CB` tag in BAM).\n",
    " 3. Reads that have a UMI (`UB` tag in BAM).\n",
    " 4. Reads for which the cell barcode is in the list of valid cells."
   ]
  },
  {
   "cell_type": "code",
   "execution_count": 6,
   "metadata": {},
   "outputs": [
    {
     "name": "stdout",
     "output_type": "stream",
     "text": [
      "Getting reads in results/aligned_fastq10x/wt_virus_pilot/Aligned.sortedByCoord.out.bam that align to fluHA and have valid cell barcodes; writing to results/viralbc_fastq10x/wt_virus_pilot_fluHA_reads.fastq.gz...\n",
      "Stats on reads:\n"
     ]
    },
    {
     "data": {
      "text/html": [
       "<table border=\"1\" class=\"dataframe\">\n",
       "  <thead>\n",
       "    <tr style=\"text-align: right;\">\n",
       "      <th></th>\n",
       "      <th>number of reads</th>\n",
       "    </tr>\n",
       "  </thead>\n",
       "  <tbody>\n",
       "    <tr>\n",
       "      <th>total</th>\n",
       "      <td>14763</td>\n",
       "    </tr>\n",
       "    <tr>\n",
       "      <th>has_cell_barcode</th>\n",
       "      <td>14389</td>\n",
       "    </tr>\n",
       "    <tr>\n",
       "      <th>has_UMI</th>\n",
       "      <td>14389</td>\n",
       "    </tr>\n",
       "    <tr>\n",
       "      <th>valid_cell_barcode</th>\n",
       "      <td>13496</td>\n",
       "    </tr>\n",
       "  </tbody>\n",
       "</table>"
      ],
      "text/plain": [
       "<IPython.core.display.HTML object>"
      ]
     },
     "metadata": {},
     "output_type": "display_data"
    }
   ],
   "source": [
    "print(f\"Getting reads in {input_aligned_fastq10x_bam} that align to {bc_viral_gene}\"\n",
    "      f\" and have valid cell barcodes; writing to {output_viral_reads}...\")\n",
    "\n",
    "os.makedirs(os.path.dirname(output_viral_reads), exist_ok=True)\n",
    "\n",
    "with contextlib.ExitStack() as stack:\n",
    "    # callback to delete `output_viral_reads` on error\n",
    "    # https://docs.python.org/3/library/contextlib.html#replacing-any-use-of-try-finally-and-flag-variables\n",
    "    @stack.callback\n",
    "    def delete_output_viral_reads_on_err():\n",
    "        if os.path.isfile(output_viral_reads):\n",
    "            os.remove(output_viral_reads)\n",
    "    \n",
    "    samfile = stack.enter_context(\n",
    "                pysam.AlignmentFile(input_aligned_fastq10x_bam,\n",
    "                                    mode='rb',\n",
    "                                    index_filename=input_aligned_fastq10x_bam_index\n",
    "                                    )\n",
    "                )\n",
    "    \n",
    "    fastqfile = stack.enter_context(gzip.open(output_viral_reads, 'wt'))\n",
    "    \n",
    "    n = n_cellbc = n_umi = n_valid_cellbc = 0\n",
    "    for r in samfile.fetch(contig=bc_viral_gene):\n",
    "        n += 1\n",
    "        if r.has_tag('CB'):\n",
    "            n_cellbc += 1\n",
    "            if r.has_tag('UB'):\n",
    "                n_umi += 1\n",
    "                if r.get_tag('CB') in cell_barcodes:\n",
    "                    n_valid_cellbc += 1\n",
    "                    qual_str = ''.join(map(lambda x: chr(x + 33), r.query_qualities))\n",
    "                    assert len(qual_str) == len(r.query_sequence)\n",
    "                    fastqfile.write(\n",
    "                        f\"@{r.query_name} CB={r.get_tag('CB')} UB={r.get_tag('UB')}\\n\"\n",
    "                        f\"{r.query_sequence}\\n+\\n{qual_str}\\n\"\n",
    "                        )\n",
    "    fastqfile.flush()\n",
    "                    \n",
    "    stack.pop_all()\n",
    "\n",
    "stats = {'total': n,\n",
    "         'has_cell_barcode': n_cellbc,\n",
    "         'has_UMI': n_umi,\n",
    "         'valid_cell_barcode': n_valid_cellbc}\n",
    "\n",
    "print('Stats on reads:')\n",
    "display(HTML(\n",
    "    pd.Series(stats)\n",
    "    .rename('number of reads')\n",
    "    .to_frame()\n",
    "    .to_html()\n",
    "    ))"
   ]
  },
  {
   "cell_type": "markdown",
   "metadata": {},
   "source": [
    "## Re-align the reads and parse viral barcodes / tags\n",
    "Now we use [minimap2](https://lh3.github.io/minimap2/) to re-align the reads extracted above to the viral gene, and then parse out viral barcodes and tags using [alignparse](https://jbloomlab.github.io/alignparse/)."
   ]
  },
  {
   "cell_type": "markdown",
   "metadata": {},
   "source": [
    "### Create alignment target\n",
    "We need to create an alignparse alignment [Targets](https://jbloomlab.github.io/alignparse/alignparse.targets.html#alignparse.targets.Targets) that contains the features of interest (the viral barcode and an viral tags).\n",
    "\n",
    "To do this, first get a dictionary listing the viral tags:"
   ]
  },
  {
   "cell_type": "code",
   "execution_count": 7,
   "metadata": {},
   "outputs": [
    {
     "name": "stdout",
     "output_type": "stream",
     "text": [
      "Parsing viral tags for fluHA from data/flu_sequences/flu-CA09_viral_tags.yaml\n"
     ]
    },
    {
     "data": {
      "text/plain": [
       "{'tag_1': {'syn': 'T', 'wt': 'C'}, 'tag_2': {'syn': 'C', 'wt': 'T'}}"
      ]
     },
     "execution_count": 7,
     "metadata": {},
     "output_type": "execute_result"
    }
   ],
   "source": [
    "print(f\"Parsing viral tags for {bc_viral_gene} from {input_viral_tags}\")\n",
    "with open(input_viral_tags) as f:\n",
    "    viral_tags = yaml.safe_load(f)[bc_viral_gene]\n",
    "viral_tags"
   ]
  },
  {
   "cell_type": "markdown",
   "metadata": {},
   "source": [
    "Now create the `feature_parse_specs` dict that will be used to create the [Targets](https://jbloomlab.github.io/alignparse/alignparse.targets.html#alignparse.targets.Targets).\n",
    "We require:\n",
    " - the viral barcode to be present with no \"mutations\" (since it is encoded as `N` nucleotides, this means no indels), and to be returned.\n",
    " - the read (query) to be clipped by no more than five nucleotides on each end\n",
    " - we don't make requirements about the tags, but specify that they should be returned if present"
   ]
  },
  {
   "cell_type": "code",
   "execution_count": 8,
   "metadata": {},
   "outputs": [
    {
     "data": {
      "text/plain": [
       "{'fluHA': {'query_clip5': 5,\n",
       "  'query_clip3': 5,\n",
       "  'viral_barcode': {'return': 'sequence'},\n",
       "  'tag_1': {'return': 'sequence',\n",
       "   'filter': {'clip5': 1,\n",
       "    'clip3': 1,\n",
       "    'mutation_nt_count': 1,\n",
       "    'mutation_op_count': 1}},\n",
       "  'tag_2': {'return': 'sequence',\n",
       "   'filter': {'clip5': 1,\n",
       "    'clip3': 1,\n",
       "    'mutation_nt_count': 1,\n",
       "    'mutation_op_count': 1}}}}"
      ]
     },
     "execution_count": 8,
     "metadata": {},
     "output_type": "execute_result"
    }
   ],
   "source": [
    "# start by specifying amount of allowed query (read clipping) at each end\n",
    "feature_parse_specs = {bc_viral_gene: {'query_clip5': 5,\n",
    "                                       'query_clip3': 5}\n",
    "                       }\n",
    "\n",
    "# Add `viral_barcode`. \n",
    "# Specify to return sequence.\n",
    "# No filter, which means no clipping or mutations allowed.\n",
    "feature_parse_specs[bc_viral_gene]['viral_barcode'] = {'return': 'sequence'}\n",
    "\n",
    "# Add each viral tag.\n",
    "# Specify to return sequence (will be empty if tag not present)\n",
    "# The filter allows clipping or mutations of 1, which means the tag can be\n",
    "# absent since tags are of length 1.\n",
    "for tag in viral_tags:\n",
    "    feature_parse_specs[bc_viral_gene][tag] = {'return': 'sequence',\n",
    "                                               'filter': {'clip5': 1,\n",
    "                                                          'clip3': 1,\n",
    "                                                          'mutation_nt_count': 1,\n",
    "                                                          'mutation_op_count': 1}\n",
    "                                               }\n",
    "    \n",
    "feature_parse_specs"
   ]
  },
  {
   "cell_type": "markdown",
   "metadata": {},
   "source": [
    "Next create the [Targets](https://jbloomlab.github.io/alignparse/alignparse.targets.html#alignparse.targets.Targets) for just our gene of interest.\n",
    "We also plot the targets and print the feature parse specs:"
   ]
  },
  {
   "cell_type": "code",
   "execution_count": 9,
   "metadata": {},
   "outputs": [
    {
     "name": "stdout",
     "output_type": "stream",
     "text": [
      "Here are the feature-parse specs: fluHA:\n",
      "  query_clip5: 5\n",
      "  query_clip3: 5\n",
      "  viral_barcode:\n",
      "    return:\n",
      "    - sequence\n",
      "    filter:\n",
      "      clip5: 0\n",
      "      clip3: 0\n",
      "      mutation_nt_count: 0\n",
      "      mutation_op_count: 0\n",
      "  tag_1:\n",
      "    return:\n",
      "    - sequence\n",
      "    filter:\n",
      "      clip5: 1\n",
      "      clip3: 1\n",
      "      mutation_nt_count: 1\n",
      "      mutation_op_count: 1\n",
      "  tag_2:\n",
      "    return:\n",
      "    - sequence\n",
      "    filter:\n",
      "      clip5: 1\n",
      "      clip3: 1\n",
      "      mutation_nt_count: 1\n",
      "      mutation_op_count: 1\n",
      "\n",
      "Here is a drawing of the Targets:\n"
     ]
    },
    {
     "data": {
      "image/png": "[encoded data removed]",
      "text/plain": [
       "<Figure size 720x216 with 1 Axes>"
      ]
     },
     "metadata": {
      "needs_background": "light"
     },
     "output_type": "display_data"
    }
   ],
   "source": [
    "targets = alignparse.targets.Targets(\n",
    "            seqsfile='data/flu_sequences/flu-CA09.gb',\n",
    "            feature_parse_specs=feature_parse_specs,\n",
    "            allow_extra_features=True,  # Genbank may have features not in parse specs\n",
    "            allow_clipped_muts_seqs=True,  # viral tags may be clipped\n",
    "            select_target_names=[bc_viral_gene],  # we only want this viral gene in targets\n",
    "            )\n",
    "\n",
    "print('Here are the feature-parse specs: ' + targets.feature_parse_specs('yaml'))\n",
    "\n",
    "print('Here is a drawing of the Targets:')\n",
    "_ = targets.plot(ax_width=10)"
   ]
  },
  {
   "cell_type": "markdown",
   "metadata": {},
   "source": [
    "### Create `minimap2` mapper\n",
    "Create an [alignparse Mapper](https://jbloomlab.github.io/alignparse/alignparse.minimap2.html#alignparse.minimap2.Mapper) to run [minimap2](https://lh3.github.io/minimap2/):"
   ]
  },
  {
   "cell_type": "code",
   "execution_count": 10,
   "metadata": {},
   "outputs": [
    {
     "name": "stdout",
     "output_type": "stream",
     "text": [
      "Using `minimap2` 2.17-r941 with these options:\n",
      "-xsplice:hq -un -C0 --splice-flank=no -M=1 --for-only --end-seed-pen=2 --end-bonus=2 --secondary=no --cs\n"
     ]
    }
   ],
   "source": [
    "mapper = alignparse.minimap2.Mapper(alignparse.minimap2.OPTIONS_VIRUS_W_DEL)\n",
    "\n",
    "print(f\"Using `minimap2` {mapper.version} with these options:\\n\" +\n",
    "      ' '.join(mapper.options))"
   ]
  },
  {
   "cell_type": "markdown",
   "metadata": {},
   "source": [
    "### Align and parse the reads\n",
    "Use [Targets.align_and_parse](https://jbloomlab.github.io/alignparse/alignparse.targets.html#alignparse.targets.Targets.align_and_parse) to..."
   ]
  },
  {
   "cell_type": "code",
   "execution_count": 11,
   "metadata": {},
   "outputs": [],
   "source": [
    "targets.align(queryfile=output_viral_reads,\n",
    "              alignmentfile=output_viral_reads_realigned,\n",
    "              mapper=mapper)\n"
   ]
  },
  {
   "cell_type": "code",
   "execution_count": 36,
   "metadata": {},
   "outputs": [
    {
     "ename": "CalledProcessError",
     "evalue": "Command '['samtools', 'index', 'results/viralbc_fastq10x/wt_virus_pilot_fluHA_realigned.bam']' returned non-zero exit status 1.",
     "output_type": "error",
     "traceback": [
      "\u001b[0;31m---------------------------------------------------------------------------\u001b[0m",
      "\u001b[0;31mCalledProcessError\u001b[0m                        Traceback (most recent call last)",
      "\u001b[0;32m<ipython-input-36-70590695badd>\u001b[0m in \u001b[0;36m<module>\u001b[0;34m\u001b[0m\n\u001b[1;32m      2\u001b[0m                        \u001b[0moutput_viral_reads_realigned_sam\u001b[0m\u001b[0;34m,\u001b[0m\u001b[0;34m\u001b[0m\u001b[0;34m\u001b[0m\u001b[0m\n\u001b[1;32m      3\u001b[0m                        '-o', output_viral_reads_realigned_bam])\n\u001b[0;32m----> 4\u001b[0;31m \u001b[0msubprocess\u001b[0m\u001b[0;34m.\u001b[0m\u001b[0mcheck_call\u001b[0m\u001b[0;34m(\u001b[0m\u001b[0;34m[\u001b[0m\u001b[0;34m'samtools'\u001b[0m\u001b[0;34m,\u001b[0m \u001b[0;34m'index'\u001b[0m\u001b[0;34m,\u001b[0m \u001b[0moutput_viral_reads_realigned_bam\u001b[0m\u001b[0;34m]\u001b[0m\u001b[0;34m)\u001b[0m\u001b[0;34m\u001b[0m\u001b[0;34m\u001b[0m\u001b[0m\n\u001b[0m\u001b[1;32m      5\u001b[0m \u001b[0;34m\u001b[0m\u001b[0m\n\u001b[1;32m      6\u001b[0m \u001b[0;32mwith\u001b[0m \u001b[0mpysam\u001b[0m\u001b[0;34m.\u001b[0m\u001b[0mAlignmentFile\u001b[0m\u001b[0;34m(\u001b[0m\u001b[0moutput_viral_reads_realigned_bam\u001b[0m\u001b[0;34m,\u001b[0m \u001b[0;34m'rb'\u001b[0m\u001b[0;34m)\u001b[0m \u001b[0;32mas\u001b[0m \u001b[0msamfile\u001b[0m\u001b[0;34m:\u001b[0m\u001b[0;34m\u001b[0m\u001b[0;34m\u001b[0m\u001b[0m\n",
      "\u001b[0;32m/fh/fast/bloom_j/software/conda_v2/envs/BloomLab/lib/python3.6/subprocess.py\u001b[0m in \u001b[0;36mcheck_call\u001b[0;34m(*popenargs, **kwargs)\u001b[0m\n\u001b[1;32m    289\u001b[0m         \u001b[0;32mif\u001b[0m \u001b[0mcmd\u001b[0m \u001b[0;32mis\u001b[0m \u001b[0;32mNone\u001b[0m\u001b[0;34m:\u001b[0m\u001b[0;34m\u001b[0m\u001b[0;34m\u001b[0m\u001b[0m\n\u001b[1;32m    290\u001b[0m             \u001b[0mcmd\u001b[0m \u001b[0;34m=\u001b[0m \u001b[0mpopenargs\u001b[0m\u001b[0;34m[\u001b[0m\u001b[0;36m0\u001b[0m\u001b[0;34m]\u001b[0m\u001b[0;34m\u001b[0m\u001b[0;34m\u001b[0m\u001b[0m\n\u001b[0;32m--> 291\u001b[0;31m         \u001b[0;32mraise\u001b[0m \u001b[0mCalledProcessError\u001b[0m\u001b[0;34m(\u001b[0m\u001b[0mretcode\u001b[0m\u001b[0;34m,\u001b[0m \u001b[0mcmd\u001b[0m\u001b[0;34m)\u001b[0m\u001b[0;34m\u001b[0m\u001b[0;34m\u001b[0m\u001b[0m\n\u001b[0m\u001b[1;32m    292\u001b[0m     \u001b[0;32mreturn\u001b[0m \u001b[0;36m0\u001b[0m\u001b[0;34m\u001b[0m\u001b[0;34m\u001b[0m\u001b[0m\n\u001b[1;32m    293\u001b[0m \u001b[0;34m\u001b[0m\u001b[0m\n",
      "\u001b[0;31mCalledProcessError\u001b[0m: Command '['samtools', 'index', 'results/viralbc_fastq10x/wt_virus_pilot_fluHA_realigned.bam']' returned non-zero exit status 1."
     ]
    }
   ],
   "source": [
    "subprocess.check_call(['samtools', 'view', '-S', '-b',\n",
    "                       output_viral_reads_realigned_sam,\n",
    "                       '-o', output_viral_reads_realigned_bam])\n",
    "subprocess.check_call(['samtools', 'index', output_viral_reads_realigned_bam])\n",
    "\n",
    "with pysam.AlignmentFile(output_viral_reads_realigned_bam, 'rb') as samfile:\n",
    "    print(samfile.pileup())"
   ]
  },
  {
   "cell_type": "code",
   "execution_count": 25,
   "metadata": {},
   "outputs": [],
   "source": [
    "readstats, aligned, filtered = targets.parse_alignment(\n",
    "                    samfile=output_viral_reads_realigned)"
   ]
  },
  {
   "cell_type": "code",
   "execution_count": 18,
   "metadata": {},
   "outputs": [
    {
     "data": {
      "text/plain": [
       "filter_reason\n",
       "query_clip3                        1140\n",
       "query_clip5                        1660\n",
       "viral_barcode clip3                9542\n",
       "viral_barcode clip5                 572\n",
       "viral_barcode mutation_nt_count     198\n",
       "dtype: int64"
      ]
     },
     "execution_count": 18,
     "metadata": {},
     "output_type": "execute_result"
    }
   ],
   "source": [
    "filtered['fluHA'].groupby('filter_reason').size()"
   ]
  },
  {
   "cell_type": "code",
   "execution_count": 13,
   "metadata": {},
   "outputs": [],
   "source": [
    "targets.write_fasta(os.path.join(os.path.dirname(output_viral_reads), 'target.fasta'))"
   ]
  },
  {
   "cell_type": "code",
   "execution_count": 22,
   "metadata": {},
   "outputs": [
    {
     "data": {
      "text/plain": [
       "tag_2_sequence\n",
       "    175\n",
       "dtype: int64"
      ]
     },
     "execution_count": 22,
     "metadata": {},
     "output_type": "execute_result"
    }
   ],
   "source": [
    "aligned['fluHA'].groupby('tag_2_sequence').size()"
   ]
  },
  {
   "cell_type": "code",
   "execution_count": 23,
   "metadata": {},
   "outputs": [
    {
     "data": {
      "text/html": [
       "<div>\n",
       "<style scoped>\n",
       "    .dataframe tbody tr th:only-of-type {\n",
       "        vertical-align: middle;\n",
       "    }\n",
       "\n",
       "    .dataframe tbody tr th {\n",
       "        vertical-align: top;\n",
       "    }\n",
       "\n",
       "    .dataframe thead th {\n",
       "        text-align: right;\n",
       "    }\n",
       "</style>\n",
       "<table border=\"1\" class=\"dataframe\">\n",
       "  <thead>\n",
       "    <tr style=\"text-align: right;\">\n",
       "      <th></th>\n",
       "      <th>category</th>\n",
       "      <th>count</th>\n",
       "    </tr>\n",
       "  </thead>\n",
       "  <tbody>\n",
       "    <tr>\n",
       "      <th>0</th>\n",
       "      <td>aligned fluHA</td>\n",
       "      <td>175</td>\n",
       "    </tr>\n",
       "    <tr>\n",
       "      <th>1</th>\n",
       "      <td>filtered fluHA</td>\n",
       "      <td>13112</td>\n",
       "    </tr>\n",
       "    <tr>\n",
       "      <th>2</th>\n",
       "      <td>unmapped</td>\n",
       "      <td>209</td>\n",
       "    </tr>\n",
       "  </tbody>\n",
       "</table>\n",
       "</div>"
      ],
      "text/plain": [
       "         category  count\n",
       "0   aligned fluHA    175\n",
       "1  filtered fluHA  13112\n",
       "2        unmapped    209"
      ]
     },
     "execution_count": 23,
     "metadata": {},
     "output_type": "execute_result"
    }
   ],
   "source": [
    "readstats"
   ]
  },
  {
   "cell_type": "code",
   "execution_count": 24,
   "metadata": {},
   "outputs": [
    {
     "data": {
      "text/plain": [
       "13496"
      ]
     },
     "execution_count": 24,
     "metadata": {},
     "output_type": "execute_result"
    }
   ],
   "source": [
    "175 + 13112 + 209"
   ]
  },
  {
   "cell_type": "code",
   "execution_count": null,
   "metadata": {},
   "outputs": [],
   "source": []
  }
 ],
 "metadata": {
  "kernelspec": {
   "display_name": "Python 3",
   "language": "python",
   "name": "python3"
  },
  "language_info": {
   "codemirror_mode": {
    "name": "ipython",
    "version": 3
   },
   "file_extension": ".py",
   "mimetype": "text/x-python",
   "name": "python",
   "nbconvert_exporter": "python",
   "pygments_lexer": "ipython3",
   "version": "3.6.7"
  }
 },
 "nbformat": 4,
 "nbformat_minor": 4
}
