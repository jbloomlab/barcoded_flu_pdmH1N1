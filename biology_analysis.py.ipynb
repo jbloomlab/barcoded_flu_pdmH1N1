{
 "cells": [
  {
   "cell_type": "markdown",
   "metadata": {},
   "source": [
    "# Biology analysis\n",
    "This notebook provides a central place to integrate and analyze transcriptome and progeny production data."
   ]
  },
  {
   "cell_type": "markdown",
   "metadata": {},
   "source": [
    "## Notebook setup\n",
    "Import python modules:"
   ]
  },
  {
   "cell_type": "code",
   "execution_count": 1,
   "metadata": {},
   "outputs": [],
   "source": [
    "from IPython.display import display\n",
    "\n",
    "from dms_variants.constants import CBPALETTE\n",
    "\n",
    "import pandas as pd\n",
    "\n",
    "import plotnine as p9\n",
    "\n",
    "import scipy\n",
    "\n",
    "import statsmodels.stats.multitest"
   ]
  },
  {
   "cell_type": "markdown",
   "metadata": {},
   "source": [
    "Get `snakemake` variables [as described here](https://snakemake.readthedocs.io/en/stable/snakefiles/rules.html#jupyter-notebook-integration):"
   ]
  },
  {
   "cell_type": "code",
   "execution_count": 2,
   "metadata": {},
   "outputs": [],
   "source": [
    "# Hardcoded for now\n",
    "viral_tag_by_cell_csv = 'results/viral_tags_bcs_in_cells/scProgenyProduction_trial3_cell_barcodes_with_viral_tags.csv.gz'\n",
    "viral_bc_background_freq_csv = 'results/viral_fastq10x/scProgenyProduction_trial3_viral_bc_background_freq.csv.gz'\n",
    "viral_bc_in_progeny_freq_csv = 'results/viral_progeny/scProgenyProduction_trial3_viral_bc_in_progeny_freq.csv.gz'\n",
    "expt = 'scProgenyProduction_trial3'\n",
    "plot = 'results/viral_fastq10x/scProgenyProduction_trial3_viral_bc_correlations.pdf'\n",
    "barcoded_viral_genes = ['fluHA', 'fluNA']"
   ]
  },
  {
   "cell_type": "markdown",
   "metadata": {},
   "source": [
    "Set plotnine theme"
   ]
  },
  {
   "cell_type": "code",
   "execution_count": 3,
   "metadata": {},
   "outputs": [],
   "source": [
    "p9.theme_set(p9.theme_classic())"
   ]
  },
  {
   "cell_type": "markdown",
   "metadata": {},
   "source": [
    "## Correlation between transcripts and progeny\n",
    "This section plots the correlation between viral barcode expression in the transcriptome and viral barcode fraction in the progeny datasets (supernatant or second infection).\n",
    "\n",
    "### Organize data\n",
    "First, read the cell barcodes and tags into a pandas dataframe. Only keep relevant columns."
   ]
  },
  {
   "cell_type": "code",
   "execution_count": 4,
   "metadata": {},
   "outputs": [
    {
     "data": {
      "text/html": [
       "<div>\n",
       "<style scoped>\n",
       "    .dataframe tbody tr th:only-of-type {\n",
       "        vertical-align: middle;\n",
       "    }\n",
       "\n",
       "    .dataframe tbody tr th {\n",
       "        vertical-align: top;\n",
       "    }\n",
       "\n",
       "    .dataframe thead th {\n",
       "        text-align: right;\n",
       "    }\n",
       "</style>\n",
       "<table border=\"1\" class=\"dataframe\">\n",
       "  <thead>\n",
       "    <tr style=\"text-align: right;\">\n",
       "      <th></th>\n",
       "      <th>cell_barcode</th>\n",
       "      <th>infected</th>\n",
       "      <th>infecting_viral_tag</th>\n",
       "    </tr>\n",
       "  </thead>\n",
       "  <tbody>\n",
       "    <tr>\n",
       "      <th>0</th>\n",
       "      <td>AAACCCAGTAACAAGT</td>\n",
       "      <td>False</td>\n",
       "      <td>none</td>\n",
       "    </tr>\n",
       "    <tr>\n",
       "      <th>1</th>\n",
       "      <td>AAACCCATCATTGCTT</td>\n",
       "      <td>False</td>\n",
       "      <td>none</td>\n",
       "    </tr>\n",
       "    <tr>\n",
       "      <th>2</th>\n",
       "      <td>AAACGAAAGATGTTGA</td>\n",
       "      <td>False</td>\n",
       "      <td>none</td>\n",
       "    </tr>\n",
       "    <tr>\n",
       "      <th>3</th>\n",
       "      <td>AAACGAAGTACTTCCC</td>\n",
       "      <td>True</td>\n",
       "      <td>wt</td>\n",
       "    </tr>\n",
       "    <tr>\n",
       "      <th>4</th>\n",
       "      <td>AAACGAAGTAGACGTG</td>\n",
       "      <td>True</td>\n",
       "      <td>wt</td>\n",
       "    </tr>\n",
       "    <tr>\n",
       "      <th>...</th>\n",
       "      <td>...</td>\n",
       "      <td>...</td>\n",
       "      <td>...</td>\n",
       "    </tr>\n",
       "    <tr>\n",
       "      <th>3360</th>\n",
       "      <td>TTTGATCTCCCGTTCA</td>\n",
       "      <td>False</td>\n",
       "      <td>none</td>\n",
       "    </tr>\n",
       "    <tr>\n",
       "      <th>3361</th>\n",
       "      <td>TTTGATCTCGCATTGA</td>\n",
       "      <td>True</td>\n",
       "      <td>wt</td>\n",
       "    </tr>\n",
       "    <tr>\n",
       "      <th>3362</th>\n",
       "      <td>TTTGGAGAGTTGCCTA</td>\n",
       "      <td>False</td>\n",
       "      <td>none</td>\n",
       "    </tr>\n",
       "    <tr>\n",
       "      <th>3363</th>\n",
       "      <td>TTTGGAGGTATCGTTG</td>\n",
       "      <td>True</td>\n",
       "      <td>wt</td>\n",
       "    </tr>\n",
       "    <tr>\n",
       "      <th>3364</th>\n",
       "      <td>TTTGTTGAGTGCAGCA</td>\n",
       "      <td>False</td>\n",
       "      <td>none</td>\n",
       "    </tr>\n",
       "  </tbody>\n",
       "</table>\n",
       "<p>3365 rows × 3 columns</p>\n",
       "</div>"
      ],
      "text/plain": [
       "          cell_barcode  infected infecting_viral_tag\n",
       "0     AAACCCAGTAACAAGT     False                none\n",
       "1     AAACCCATCATTGCTT     False                none\n",
       "2     AAACGAAAGATGTTGA     False                none\n",
       "3     AAACGAAGTACTTCCC      True                  wt\n",
       "4     AAACGAAGTAGACGTG      True                  wt\n",
       "...                ...       ...                 ...\n",
       "3360  TTTGATCTCCCGTTCA     False                none\n",
       "3361  TTTGATCTCGCATTGA      True                  wt\n",
       "3362  TTTGGAGAGTTGCCTA     False                none\n",
       "3363  TTTGGAGGTATCGTTG      True                  wt\n",
       "3364  TTTGTTGAGTGCAGCA     False                none\n",
       "\n",
       "[3365 rows x 3 columns]"
      ]
     },
     "metadata": {},
     "output_type": "display_data"
    }
   ],
   "source": [
    "all_cells = pd.read_csv(viral_tag_by_cell_csv)\n",
    "all_cells = all_cells[['cell_barcode',\n",
    "                       'infected',\n",
    "                       'infecting_viral_tag']]\n",
    "display(all_cells)"
   ]
  },
  {
   "cell_type": "markdown",
   "metadata": {},
   "source": [
    "Next, read the viral barcode frequencies from the transcriptome."
   ]
  },
  {
   "cell_type": "code",
   "execution_count": 5,
   "metadata": {},
   "outputs": [
    {
     "data": {
      "text/html": [
       "<div>\n",
       "<style scoped>\n",
       "    .dataframe tbody tr th:only-of-type {\n",
       "        vertical-align: middle;\n",
       "    }\n",
       "\n",
       "    .dataframe tbody tr th {\n",
       "        vertical-align: top;\n",
       "    }\n",
       "\n",
       "    .dataframe thead th {\n",
       "        text-align: right;\n",
       "    }\n",
       "</style>\n",
       "<table border=\"1\" class=\"dataframe\">\n",
       "  <thead>\n",
       "    <tr style=\"text-align: right;\">\n",
       "      <th></th>\n",
       "      <th>cell_barcode</th>\n",
       "      <th>infected</th>\n",
       "      <th>infecting_viral_tag</th>\n",
       "      <th>gene</th>\n",
       "      <th>viral_barcode</th>\n",
       "      <th>frac_viral_bc_UMIs</th>\n",
       "      <th>reject_uninfected</th>\n",
       "    </tr>\n",
       "  </thead>\n",
       "  <tbody>\n",
       "    <tr>\n",
       "      <th>0</th>\n",
       "      <td>AAACCCAGTAACAAGT</td>\n",
       "      <td>False</td>\n",
       "      <td>none</td>\n",
       "      <td>fluHA</td>\n",
       "      <td>NaN</td>\n",
       "      <td>0.000000</td>\n",
       "      <td>False</td>\n",
       "    </tr>\n",
       "    <tr>\n",
       "      <th>1</th>\n",
       "      <td>AAACCCATCATTGCTT</td>\n",
       "      <td>False</td>\n",
       "      <td>none</td>\n",
       "      <td>fluHA</td>\n",
       "      <td>NaN</td>\n",
       "      <td>0.000000</td>\n",
       "      <td>False</td>\n",
       "    </tr>\n",
       "    <tr>\n",
       "      <th>2</th>\n",
       "      <td>AAACGAAAGATGTTGA</td>\n",
       "      <td>False</td>\n",
       "      <td>none</td>\n",
       "      <td>fluHA</td>\n",
       "      <td>NaN</td>\n",
       "      <td>0.000000</td>\n",
       "      <td>False</td>\n",
       "    </tr>\n",
       "    <tr>\n",
       "      <th>3</th>\n",
       "      <td>AAACGAAGTACTTCCC</td>\n",
       "      <td>True</td>\n",
       "      <td>wt</td>\n",
       "      <td>fluHA</td>\n",
       "      <td>NaN</td>\n",
       "      <td>0.000000</td>\n",
       "      <td>False</td>\n",
       "    </tr>\n",
       "    <tr>\n",
       "      <th>4</th>\n",
       "      <td>AAACGAAGTAGACGTG</td>\n",
       "      <td>True</td>\n",
       "      <td>wt</td>\n",
       "      <td>fluHA</td>\n",
       "      <td>AAGTAAGCGACATGAG</td>\n",
       "      <td>0.001271</td>\n",
       "      <td>True</td>\n",
       "    </tr>\n",
       "    <tr>\n",
       "      <th>...</th>\n",
       "      <td>...</td>\n",
       "      <td>...</td>\n",
       "      <td>...</td>\n",
       "      <td>...</td>\n",
       "      <td>...</td>\n",
       "      <td>...</td>\n",
       "      <td>...</td>\n",
       "    </tr>\n",
       "    <tr>\n",
       "      <th>7706</th>\n",
       "      <td>TTTGATCTCCCGTTCA</td>\n",
       "      <td>False</td>\n",
       "      <td>none</td>\n",
       "      <td>fluNA</td>\n",
       "      <td>NaN</td>\n",
       "      <td>0.000000</td>\n",
       "      <td>True</td>\n",
       "    </tr>\n",
       "    <tr>\n",
       "      <th>7707</th>\n",
       "      <td>TTTGATCTCGCATTGA</td>\n",
       "      <td>True</td>\n",
       "      <td>wt</td>\n",
       "      <td>fluNA</td>\n",
       "      <td>NaN</td>\n",
       "      <td>0.000000</td>\n",
       "      <td>True</td>\n",
       "    </tr>\n",
       "    <tr>\n",
       "      <th>7708</th>\n",
       "      <td>TTTGGAGAGTTGCCTA</td>\n",
       "      <td>False</td>\n",
       "      <td>none</td>\n",
       "      <td>fluNA</td>\n",
       "      <td>NaN</td>\n",
       "      <td>0.000000</td>\n",
       "      <td>True</td>\n",
       "    </tr>\n",
       "    <tr>\n",
       "      <th>7709</th>\n",
       "      <td>TTTGGAGGTATCGTTG</td>\n",
       "      <td>True</td>\n",
       "      <td>wt</td>\n",
       "      <td>fluNA</td>\n",
       "      <td>ACATCTTATTTACACG</td>\n",
       "      <td>0.000349</td>\n",
       "      <td>True</td>\n",
       "    </tr>\n",
       "    <tr>\n",
       "      <th>7710</th>\n",
       "      <td>TTTGTTGAGTGCAGCA</td>\n",
       "      <td>False</td>\n",
       "      <td>none</td>\n",
       "      <td>fluNA</td>\n",
       "      <td>NaN</td>\n",
       "      <td>0.000000</td>\n",
       "      <td>True</td>\n",
       "    </tr>\n",
       "  </tbody>\n",
       "</table>\n",
       "<p>7711 rows × 7 columns</p>\n",
       "</div>"
      ],
      "text/plain": [
       "          cell_barcode  infected infecting_viral_tag   gene     viral_barcode  \\\n",
       "0     AAACCCAGTAACAAGT     False                none  fluHA               NaN   \n",
       "1     AAACCCATCATTGCTT     False                none  fluHA               NaN   \n",
       "2     AAACGAAAGATGTTGA     False                none  fluHA               NaN   \n",
       "3     AAACGAAGTACTTCCC      True                  wt  fluHA               NaN   \n",
       "4     AAACGAAGTAGACGTG      True                  wt  fluHA  AAGTAAGCGACATGAG   \n",
       "...                ...       ...                 ...    ...               ...   \n",
       "7706  TTTGATCTCCCGTTCA     False                none  fluNA               NaN   \n",
       "7707  TTTGATCTCGCATTGA      True                  wt  fluNA               NaN   \n",
       "7708  TTTGGAGAGTTGCCTA     False                none  fluNA               NaN   \n",
       "7709  TTTGGAGGTATCGTTG      True                  wt  fluNA  ACATCTTATTTACACG   \n",
       "7710  TTTGTTGAGTGCAGCA     False                none  fluNA               NaN   \n",
       "\n",
       "      frac_viral_bc_UMIs  reject_uninfected  \n",
       "0               0.000000              False  \n",
       "1               0.000000              False  \n",
       "2               0.000000              False  \n",
       "3               0.000000              False  \n",
       "4               0.001271               True  \n",
       "...                  ...                ...  \n",
       "7706            0.000000               True  \n",
       "7707            0.000000               True  \n",
       "7708            0.000000               True  \n",
       "7709            0.000349               True  \n",
       "7710            0.000000               True  \n",
       "\n",
       "[7711 rows x 7 columns]"
      ]
     },
     "metadata": {},
     "output_type": "display_data"
    }
   ],
   "source": [
    "transcriptome_viral_bc_freqs = pd.read_csv(viral_bc_background_freq_csv)\n",
    "assert set(transcriptome_viral_bc_freqs['gene']) == set(barcoded_viral_genes), \\\n",
    "       \"Barcoded genes in barcode counts do not match expectation.\"\n",
    "display(transcriptome_viral_bc_freqs)"
   ]
  },
  {
   "cell_type": "markdown",
   "metadata": {},
   "source": [
    "Read the viral barcode frequencies from the progeny. **For now just work with supernatant data. Remove second_infection frequencies.**"
   ]
  },
  {
   "cell_type": "code",
   "execution_count": 6,
   "metadata": {},
   "outputs": [
    {
     "data": {
      "text/html": [
       "<div>\n",
       "<style scoped>\n",
       "    .dataframe tbody tr th:only-of-type {\n",
       "        vertical-align: middle;\n",
       "    }\n",
       "\n",
       "    .dataframe tbody tr th {\n",
       "        vertical-align: top;\n",
       "    }\n",
       "\n",
       "    .dataframe thead th {\n",
       "        text-align: right;\n",
       "    }\n",
       "</style>\n",
       "<table border=\"1\" class=\"dataframe\">\n",
       "  <thead>\n",
       "    <tr style=\"text-align: right;\">\n",
       "      <th></th>\n",
       "      <th>infecting_viral_tag</th>\n",
       "      <th>gene</th>\n",
       "      <th>viral_barcode</th>\n",
       "      <th>freq_progeny</th>\n",
       "    </tr>\n",
       "  </thead>\n",
       "  <tbody>\n",
       "    <tr>\n",
       "      <th>0</th>\n",
       "      <td>syn</td>\n",
       "      <td>fluHA</td>\n",
       "      <td>AAAAAAGCACGAGCAG</td>\n",
       "      <td>2.507618e-07</td>\n",
       "    </tr>\n",
       "    <tr>\n",
       "      <th>1</th>\n",
       "      <td>syn</td>\n",
       "      <td>fluHA</td>\n",
       "      <td>AAAAAATCCTTCAGCA</td>\n",
       "      <td>2.574453e-07</td>\n",
       "    </tr>\n",
       "    <tr>\n",
       "      <th>2</th>\n",
       "      <td>syn</td>\n",
       "      <td>fluHA</td>\n",
       "      <td>AAAAAATGGCGACGCT</td>\n",
       "      <td>2.574453e-07</td>\n",
       "    </tr>\n",
       "    <tr>\n",
       "      <th>3</th>\n",
       "      <td>syn</td>\n",
       "      <td>fluHA</td>\n",
       "      <td>AAAAAATTGGTTTACT</td>\n",
       "      <td>2.574453e-07</td>\n",
       "    </tr>\n",
       "    <tr>\n",
       "      <th>4</th>\n",
       "      <td>syn</td>\n",
       "      <td>fluHA</td>\n",
       "      <td>AAAAACACTCACAAGT</td>\n",
       "      <td>2.574453e-07</td>\n",
       "    </tr>\n",
       "    <tr>\n",
       "      <th>...</th>\n",
       "      <td>...</td>\n",
       "      <td>...</td>\n",
       "      <td>...</td>\n",
       "      <td>...</td>\n",
       "    </tr>\n",
       "    <tr>\n",
       "      <th>57485</th>\n",
       "      <td>wt</td>\n",
       "      <td>fluNA</td>\n",
       "      <td>TTTTTCCCTTACATAT</td>\n",
       "      <td>4.799773e-07</td>\n",
       "    </tr>\n",
       "    <tr>\n",
       "      <th>57486</th>\n",
       "      <td>wt</td>\n",
       "      <td>fluNA</td>\n",
       "      <td>TTTTTCTTACGATCAC</td>\n",
       "      <td>4.799773e-07</td>\n",
       "    </tr>\n",
       "    <tr>\n",
       "      <th>57487</th>\n",
       "      <td>wt</td>\n",
       "      <td>fluNA</td>\n",
       "      <td>TTTTTCTTCGAGATAG</td>\n",
       "      <td>4.799773e-06</td>\n",
       "    </tr>\n",
       "    <tr>\n",
       "      <th>57488</th>\n",
       "      <td>wt</td>\n",
       "      <td>fluNA</td>\n",
       "      <td>TTTTTGGGATCATTGC</td>\n",
       "      <td>9.599545e-07</td>\n",
       "    </tr>\n",
       "    <tr>\n",
       "      <th>57489</th>\n",
       "      <td>wt</td>\n",
       "      <td>fluNA</td>\n",
       "      <td>TTTTTTTACTCAGAAT</td>\n",
       "      <td>9.599545e-07</td>\n",
       "    </tr>\n",
       "  </tbody>\n",
       "</table>\n",
       "<p>57490 rows × 4 columns</p>\n",
       "</div>"
      ],
      "text/plain": [
       "      infecting_viral_tag   gene     viral_barcode  freq_progeny\n",
       "0                     syn  fluHA  AAAAAAGCACGAGCAG  2.507618e-07\n",
       "1                     syn  fluHA  AAAAAATCCTTCAGCA  2.574453e-07\n",
       "2                     syn  fluHA  AAAAAATGGCGACGCT  2.574453e-07\n",
       "3                     syn  fluHA  AAAAAATTGGTTTACT  2.574453e-07\n",
       "4                     syn  fluHA  AAAAACACTCACAAGT  2.574453e-07\n",
       "...                   ...    ...               ...           ...\n",
       "57485                  wt  fluNA  TTTTTCCCTTACATAT  4.799773e-07\n",
       "57486                  wt  fluNA  TTTTTCTTACGATCAC  4.799773e-07\n",
       "57487                  wt  fluNA  TTTTTCTTCGAGATAG  4.799773e-06\n",
       "57488                  wt  fluNA  TTTTTGGGATCATTGC  9.599545e-07\n",
       "57489                  wt  fluNA  TTTTTTTACTCAGAAT  9.599545e-07\n",
       "\n",
       "[57490 rows x 4 columns]"
      ]
     },
     "metadata": {},
     "output_type": "display_data"
    }
   ],
   "source": [
    "progeny_viral_bc_freqs = pd.read_csv(viral_bc_in_progeny_freq_csv)\n",
    "assert set(progeny_viral_bc_freqs['gene']) == set(barcoded_viral_genes), \\\n",
    "       \"Barcoded genes in barcode counts do not match expectation.\"\n",
    "progeny_viral_bc_freqs = (progeny_viral_bc_freqs\n",
    "                          .rename(columns={'barcode': 'viral_barcode',\n",
    "                                           'tag': 'infecting_viral_tag',\n",
    "                                           'mean_freq': 'freq_progeny'}))\n",
    "progeny_viral_bc_freqs = (progeny_viral_bc_freqs\n",
    "                          .query('source == \"supernatant\"'))\n",
    "progeny_viral_bc_freqs = progeny_viral_bc_freqs.drop(columns = 'source')\n",
    "display(progeny_viral_bc_freqs)"
   ]
  },
  {
   "cell_type": "markdown",
   "metadata": {},
   "source": [
    "Merge dataframes to one. This will be done in two steps. First, merge transcriptome frequencies with all cells tag info.  Then, merge supernatant frequencies into this dataframe.\n",
    "\n",
    "Structure of the final dataframe should be as follows:\n",
    "1. Cell barcode\n",
    "2. Infected\n",
    "3. Infecting viral tag\n",
    "4. Gene\n",
    "5. Viral barcode\n",
    "6. Frequency in transcriptome (`frac_viral_bc_UMIs`)\n",
    "7. Frequency in supernatant sequencing (`freq_progeny`)"
   ]
  },
  {
   "cell_type": "code",
   "execution_count": 7,
   "metadata": {},
   "outputs": [
    {
     "data": {
      "text/html": [
       "<div>\n",
       "<style scoped>\n",
       "    .dataframe tbody tr th:only-of-type {\n",
       "        vertical-align: middle;\n",
       "    }\n",
       "\n",
       "    .dataframe tbody tr th {\n",
       "        vertical-align: top;\n",
       "    }\n",
       "\n",
       "    .dataframe thead th {\n",
       "        text-align: right;\n",
       "    }\n",
       "</style>\n",
       "<table border=\"1\" class=\"dataframe\">\n",
       "  <thead>\n",
       "    <tr style=\"text-align: right;\">\n",
       "      <th></th>\n",
       "      <th>cell_barcode</th>\n",
       "      <th>infected</th>\n",
       "      <th>infecting_viral_tag</th>\n",
       "      <th>gene</th>\n",
       "      <th>viral_barcode</th>\n",
       "      <th>frac_viral_bc_UMIs</th>\n",
       "      <th>reject_uninfected</th>\n",
       "      <th>freq_progeny</th>\n",
       "    </tr>\n",
       "  </thead>\n",
       "  <tbody>\n",
       "    <tr>\n",
       "      <th>0</th>\n",
       "      <td>AAACCCAGTAACAAGT</td>\n",
       "      <td>False</td>\n",
       "      <td>none</td>\n",
       "      <td>fluHA</td>\n",
       "      <td>NaN</td>\n",
       "      <td>0.0</td>\n",
       "      <td>False</td>\n",
       "      <td>NaN</td>\n",
       "    </tr>\n",
       "    <tr>\n",
       "      <th>1</th>\n",
       "      <td>AAACCCATCATTGCTT</td>\n",
       "      <td>False</td>\n",
       "      <td>none</td>\n",
       "      <td>fluHA</td>\n",
       "      <td>NaN</td>\n",
       "      <td>0.0</td>\n",
       "      <td>False</td>\n",
       "      <td>NaN</td>\n",
       "    </tr>\n",
       "    <tr>\n",
       "      <th>2</th>\n",
       "      <td>AAACGAAAGATGTTGA</td>\n",
       "      <td>False</td>\n",
       "      <td>none</td>\n",
       "      <td>fluHA</td>\n",
       "      <td>NaN</td>\n",
       "      <td>0.0</td>\n",
       "      <td>False</td>\n",
       "      <td>NaN</td>\n",
       "    </tr>\n",
       "    <tr>\n",
       "      <th>3</th>\n",
       "      <td>AAACGAAGTGATAGAT</td>\n",
       "      <td>False</td>\n",
       "      <td>none</td>\n",
       "      <td>fluHA</td>\n",
       "      <td>NaN</td>\n",
       "      <td>0.0</td>\n",
       "      <td>False</td>\n",
       "      <td>NaN</td>\n",
       "    </tr>\n",
       "    <tr>\n",
       "      <th>4</th>\n",
       "      <td>AAACGCTCAAATGATG</td>\n",
       "      <td>False</td>\n",
       "      <td>none</td>\n",
       "      <td>fluHA</td>\n",
       "      <td>NaN</td>\n",
       "      <td>0.0</td>\n",
       "      <td>False</td>\n",
       "      <td>NaN</td>\n",
       "    </tr>\n",
       "    <tr>\n",
       "      <th>...</th>\n",
       "      <td>...</td>\n",
       "      <td>...</td>\n",
       "      <td>...</td>\n",
       "      <td>...</td>\n",
       "      <td>...</td>\n",
       "      <td>...</td>\n",
       "      <td>...</td>\n",
       "      <td>...</td>\n",
       "    </tr>\n",
       "    <tr>\n",
       "      <th>64902</th>\n",
       "      <td>NaN</td>\n",
       "      <td>NaN</td>\n",
       "      <td>wt</td>\n",
       "      <td>fluNA</td>\n",
       "      <td>TTTTTCCCTTACATAT</td>\n",
       "      <td>NaN</td>\n",
       "      <td>NaN</td>\n",
       "      <td>4.799773e-07</td>\n",
       "    </tr>\n",
       "    <tr>\n",
       "      <th>64903</th>\n",
       "      <td>NaN</td>\n",
       "      <td>NaN</td>\n",
       "      <td>wt</td>\n",
       "      <td>fluNA</td>\n",
       "      <td>TTTTTCTTACGATCAC</td>\n",
       "      <td>NaN</td>\n",
       "      <td>NaN</td>\n",
       "      <td>4.799773e-07</td>\n",
       "    </tr>\n",
       "    <tr>\n",
       "      <th>64904</th>\n",
       "      <td>NaN</td>\n",
       "      <td>NaN</td>\n",
       "      <td>wt</td>\n",
       "      <td>fluNA</td>\n",
       "      <td>TTTTTCTTCGAGATAG</td>\n",
       "      <td>NaN</td>\n",
       "      <td>NaN</td>\n",
       "      <td>4.799773e-06</td>\n",
       "    </tr>\n",
       "    <tr>\n",
       "      <th>64905</th>\n",
       "      <td>NaN</td>\n",
       "      <td>NaN</td>\n",
       "      <td>wt</td>\n",
       "      <td>fluNA</td>\n",
       "      <td>TTTTTGGGATCATTGC</td>\n",
       "      <td>NaN</td>\n",
       "      <td>NaN</td>\n",
       "      <td>9.599545e-07</td>\n",
       "    </tr>\n",
       "    <tr>\n",
       "      <th>64906</th>\n",
       "      <td>NaN</td>\n",
       "      <td>NaN</td>\n",
       "      <td>wt</td>\n",
       "      <td>fluNA</td>\n",
       "      <td>TTTTTTTACTCAGAAT</td>\n",
       "      <td>NaN</td>\n",
       "      <td>NaN</td>\n",
       "      <td>9.599545e-07</td>\n",
       "    </tr>\n",
       "  </tbody>\n",
       "</table>\n",
       "<p>64907 rows × 8 columns</p>\n",
       "</div>"
      ],
      "text/plain": [
       "           cell_barcode infected infecting_viral_tag   gene     viral_barcode  \\\n",
       "0      AAACCCAGTAACAAGT    False                none  fluHA               NaN   \n",
       "1      AAACCCATCATTGCTT    False                none  fluHA               NaN   \n",
       "2      AAACGAAAGATGTTGA    False                none  fluHA               NaN   \n",
       "3      AAACGAAGTGATAGAT    False                none  fluHA               NaN   \n",
       "4      AAACGCTCAAATGATG    False                none  fluHA               NaN   \n",
       "...                 ...      ...                 ...    ...               ...   \n",
       "64902               NaN      NaN                  wt  fluNA  TTTTTCCCTTACATAT   \n",
       "64903               NaN      NaN                  wt  fluNA  TTTTTCTTACGATCAC   \n",
       "64904               NaN      NaN                  wt  fluNA  TTTTTCTTCGAGATAG   \n",
       "64905               NaN      NaN                  wt  fluNA  TTTTTGGGATCATTGC   \n",
       "64906               NaN      NaN                  wt  fluNA  TTTTTTTACTCAGAAT   \n",
       "\n",
       "       frac_viral_bc_UMIs reject_uninfected  freq_progeny  \n",
       "0                     0.0             False           NaN  \n",
       "1                     0.0             False           NaN  \n",
       "2                     0.0             False           NaN  \n",
       "3                     0.0             False           NaN  \n",
       "4                     0.0             False           NaN  \n",
       "...                   ...               ...           ...  \n",
       "64902                 NaN               NaN  4.799773e-07  \n",
       "64903                 NaN               NaN  4.799773e-07  \n",
       "64904                 NaN               NaN  4.799773e-06  \n",
       "64905                 NaN               NaN  9.599545e-07  \n",
       "64906                 NaN               NaN  9.599545e-07  \n",
       "\n",
       "[64907 rows x 8 columns]"
      ]
     },
     "metadata": {},
     "output_type": "display_data"
    }
   ],
   "source": [
    "viral_bc_freqs = pd.merge(\n",
    "    left=pd.concat([all_cells.assign(gene=gene)\n",
    "                    for gene in barcoded_viral_genes]),\n",
    "    right=transcriptome_viral_bc_freqs,\n",
    "    how='outer',\n",
    "    on=['cell_barcode', 'gene', 'infected', 'infecting_viral_tag'],\n",
    "    validate='one_to_many')\n",
    "\n",
    "assert (viral_bc_freqs['cell_barcode'].unique() ==\n",
    "        all_cells['cell_barcode'].unique()).all(), \\\n",
    "       \"Cell barcodes in merged dataframe don't \" \\\n",
    "       \"match barcodes in source data.\"\n",
    "assert (viral_bc_freqs['viral_barcode'].nunique() ==\n",
    "        transcriptome_viral_bc_freqs['viral_barcode'].nunique()), \\\n",
    "       \"Number of viral barcodes in merged dataframe doesn't \" \\\n",
    "       \"match number of barcodes in source data.\"\n",
    "\n",
    "viral_bc_freqs = pd.merge(\n",
    "    left=viral_bc_freqs,\n",
    "    right=progeny_viral_bc_freqs,\n",
    "    how='outer',\n",
    "    on=['viral_barcode', 'gene', 'infecting_viral_tag'])\n",
    "# Need to think of what asserts to include here\n",
    "\n",
    "display(viral_bc_freqs)"
   ]
  },
  {
   "cell_type": "markdown",
   "metadata": {},
   "source": [
    "## Filtering\n",
    "**I am not doing any filtering on this data yet. I will plot the data in its raw form first.**\n",
    "\n",
    "*Potential filtering strategy in future:*\n",
    ">I will need to filter these data further before plotting. Here are the parameters I am using:\n",
    ">1. Only look at cells called as infected.\n",
    ">2. Only keep viral barcodes found in the transcriptome data, since these are the ones we can probe further in the transcriptome.\n",
    ">3. Only look at viral barcodes called as significantly higher frequency than background (`reject_uninfected == True`)"
   ]
  },
  {
   "cell_type": "code",
   "execution_count": 8,
   "metadata": {},
   "outputs": [],
   "source": [
    "# viral_bc_freqs = viral_bc_freqs.query('infected == True')\n",
    "# viral_bc_freqs = viral_bc_freqs.query('frac_viral_bc_UMIs.notnull()', engine='python')\n",
    "# viral_bc_freqs = viral_bc_freqs.query('reject_uninfected == True')\n",
    "# viral_bc_freqs"
   ]
  },
  {
   "cell_type": "markdown",
   "metadata": {},
   "source": [
    "### Plots"
   ]
  },
  {
   "cell_type": "markdown",
   "metadata": {},
   "source": [
    "#### Viral transcription\n",
    "***Note:*** `NA` values (0 counts) in the transcriptome data are plotted on the far left side of this graph at `1e-8`."
   ]
  },
  {
   "cell_type": "code",
   "execution_count": 13,
   "metadata": {},
   "outputs": [
    {
     "name": "stderr",
     "output_type": "stream",
     "text": [
      "/fh/fast/bloom_j/software/miniconda3/envs/barcoded_flu_pdmH1N1/lib/python3.8/site-packages/pandas/core/series.py:726: RuntimeWarning: divide by zero encountered in log10\n",
      "/fh/fast/bloom_j/software/miniconda3/envs/barcoded_flu_pdmH1N1/lib/python3.8/site-packages/plotnine/layer.py:372: PlotnineWarning: stat_bin : Removed 5596 rows containing non-finite values.\n",
      "/fh/fast/bloom_j/software/miniconda3/envs/barcoded_flu_pdmH1N1/lib/python3.8/site-packages/plotnine/guides/guides.py:197: PlotnineWarning: Cannot generate legend for the 'fill' aesthetic. Make sure you have mapped a variable to it\n"
     ]
    },
    {
     "data": {
      "image/png": "[encoded data removed]",
      "text/plain": [
       "<Figure size 600x300 with 2 Axes>"
      ]
     },
     "metadata": {},
     "output_type": "display_data"
    },
    {
     "data": {
      "text/plain": [
       "<ggplot: (8743155660776)>"
      ]
     },
     "metadata": {},
     "output_type": "display_data"
    }
   ],
   "source": [
    "fig = (p9.ggplot(viral_bc_freqs.fillna(1e-8),\n",
    "                 p9.aes(x='frac_viral_bc_UMIs')) +\n",
    "       p9.geom_histogram(bins=30) +\n",
    "       p9.facet_grid('~gene') +\n",
    "       p9.ggtitle(f'Viral barcode transcription') +\n",
    "       p9.scale_x_log10() +\n",
    "       p9.labs(x='fraction of total UMIs in cell') +\n",
    "       p9.theme(figure_size=(6, 3),\n",
    "                plot_title=p9.element_text(size=12),\n",
    "                axis_title=p9.element_text(size=10),\n",
    "                legend_title=p9.element_text(size=10),\n",
    "                legend_title_align='center') +\n",
    "       p9.scale_fill_manual(CBPALETTE[0:]))\n",
    "display(fig)"
   ]
  },
  {
   "cell_type": "markdown",
   "metadata": {},
   "source": [
    "Without the `NA` values:"
   ]
  },
  {
   "cell_type": "code",
   "execution_count": 16,
   "metadata": {},
   "outputs": [
    {
     "name": "stderr",
     "output_type": "stream",
     "text": [
      "/fh/fast/bloom_j/software/miniconda3/envs/barcoded_flu_pdmH1N1/lib/python3.8/site-packages/pandas/core/series.py:726: RuntimeWarning: divide by zero encountered in log10\n",
      "/fh/fast/bloom_j/software/miniconda3/envs/barcoded_flu_pdmH1N1/lib/python3.8/site-packages/plotnine/layer.py:372: PlotnineWarning: stat_bin : Removed 5596 rows containing non-finite values.\n",
      "/fh/fast/bloom_j/software/miniconda3/envs/barcoded_flu_pdmH1N1/lib/python3.8/site-packages/plotnine/guides/guides.py:197: PlotnineWarning: Cannot generate legend for the 'fill' aesthetic. Make sure you have mapped a variable to it\n"
     ]
    },
    {
     "data": {
      "image/png": "[encoded data removed]",
      "text/plain": [
       "<Figure size 600x300 with 2 Axes>"
      ]
     },
     "metadata": {},
     "output_type": "display_data"
    },
    {
     "data": {
      "text/plain": [
       "<ggplot: (8743155660773)>"
      ]
     },
     "metadata": {},
     "output_type": "display_data"
    }
   ],
   "source": [
    "fig = (p9.ggplot(viral_bc_freqs.query('frac_viral_bc_UMIs.notnull()', engine='python'),\n",
    "                 p9.aes(x='frac_viral_bc_UMIs')) +\n",
    "       p9.geom_histogram(bins=30) +\n",
    "       p9.facet_grid('~gene') +\n",
    "       p9.ggtitle(f'Viral barcode transcription') +\n",
    "       p9.scale_x_log10() +\n",
    "       p9.labs(x='fraction of total UMIs in cell') +\n",
    "       p9.theme(figure_size=(6, 3),\n",
    "                plot_title=p9.element_text(size=12),\n",
    "                axis_title=p9.element_text(size=10),\n",
    "                legend_title=p9.element_text(size=10),\n",
    "                legend_title_align='center') +\n",
    "       p9.scale_fill_manual(CBPALETTE[0:]))\n",
    "display(fig)"
   ]
  },
  {
   "cell_type": "markdown",
   "metadata": {},
   "source": [
    "#### Supernatant progeny production\n",
    "***Note:*** `NA` values (0 counts) in the supernatant data are plotted on the far left side of this graph at `1e-8`."
   ]
  },
  {
   "cell_type": "code",
   "execution_count": 17,
   "metadata": {},
   "outputs": [
    {
     "data": {
      "image/png": "[encoded data removed]",
      "text/plain": [
       "<Figure size 600x300 with 2 Axes>"
      ]
     },
     "metadata": {},
     "output_type": "display_data"
    },
    {
     "data": {
      "text/plain": [
       "<ggplot: (8743151528412)>"
      ]
     },
     "metadata": {},
     "output_type": "display_data"
    }
   ],
   "source": [
    "fig = (p9.ggplot(viral_bc_freqs.fillna(1e-8),\n",
    "                 p9.aes(x='freq_progeny')) +\n",
    "       p9.geom_histogram(bins=40) +\n",
    "       p9.facet_grid('~gene') +\n",
    "       p9.ggtitle(f'Viral barcode progeny production') +\n",
    "       p9.labs(x='fraction of total reads in supernatant') +\n",
    "       p9.theme(figure_size=(6, 3),\n",
    "                plot_title=p9.element_text(size=12),\n",
    "                axis_title=p9.element_text(size=10),\n",
    "                legend_title=p9.element_text(size=10),\n",
    "                legend_title_align='center') +\n",
    "       p9.scale_x_log10())\n",
    "display(fig)"
   ]
  },
  {
   "cell_type": "markdown",
   "metadata": {},
   "source": [
    "Without the 0 values:"
   ]
  },
  {
   "cell_type": "code",
   "execution_count": 18,
   "metadata": {},
   "outputs": [
    {
     "data": {
      "image/png": "[encoded data removed]",
      "text/plain": [
       "<Figure size 600x300 with 2 Axes>"
      ]
     },
     "metadata": {},
     "output_type": "display_data"
    },
    {
     "data": {
      "text/plain": [
       "<ggplot: (8743151464711)>"
      ]
     },
     "metadata": {},
     "output_type": "display_data"
    }
   ],
   "source": [
    "fig = (p9.ggplot(viral_bc_freqs.query('freq_progeny.notnull()', engine='python'),\n",
    "                 p9.aes(x='freq_progeny')) +\n",
    "       p9.geom_histogram(bins=20) +\n",
    "       p9.facet_grid('~gene') +\n",
    "       p9.ggtitle(f'Viral barcode progeny production') +\n",
    "       p9.labs(x='fraction of total reads in supernatant') +\n",
    "       p9.theme(figure_size=(6, 3),\n",
    "                plot_title=p9.element_text(size=12),\n",
    "                axis_title=p9.element_text(size=10),\n",
    "                legend_title=p9.element_text(size=10),\n",
    "                legend_title_align='center') +\n",
    "       p9.scale_x_log10())\n",
    "display(fig)"
   ]
  },
  {
   "cell_type": "markdown",
   "metadata": {},
   "source": [
    "#### Correlation of viral transcription and progeny production"
   ]
  },
  {
   "cell_type": "code",
   "execution_count": 19,
   "metadata": {},
   "outputs": [
    {
     "name": "stderr",
     "output_type": "stream",
     "text": [
      "/fh/fast/bloom_j/software/miniconda3/envs/barcoded_flu_pdmH1N1/lib/python3.8/site-packages/pandas/core/series.py:726: RuntimeWarning: divide by zero encountered in log10\n"
     ]
    },
    {
     "data": {
      "image/png": "[encoded data removed]",
      "text/plain": [
       "<Figure size 600x300 with 2 Axes>"
      ]
     },
     "metadata": {},
     "output_type": "display_data"
    },
    {
     "data": {
      "text/plain": [
       "<ggplot: (8743151355853)>"
      ]
     },
     "metadata": {},
     "output_type": "display_data"
    }
   ],
   "source": [
    "fig = (p9.ggplot(viral_bc_freqs.fillna(0),\n",
    "                 p9.aes(x='frac_viral_bc_UMIs',\n",
    "                        y='freq_progeny')) +\n",
    "       p9.geom_point(alpha=0.3) +\n",
    "       p9.facet_grid('~gene') +\n",
    "       p9.ggtitle(f'{expt}') +\n",
    "       p9.scale_x_log10() +\n",
    "       p9.scale_y_log10() +\n",
    "       p9.labs(x='fraction of total UMIs in cell',\n",
    "               y='fraction of total reads in supernatant') +\n",
    "       p9.theme(figure_size=(6, 3),\n",
    "                plot_title=p9.element_text(size=9),\n",
    "                axis_title=p9.element_text(size=9),\n",
    "                legend_title=p9.element_text(size=9),\n",
    "                legend_title_align='center'))\n",
    "display(fig)"
   ]
  },
  {
   "cell_type": "code",
   "execution_count": null,
   "metadata": {},
   "outputs": [],
   "source": []
  }
 ],
 "metadata": {
  "kernelspec": {
   "display_name": "Python 3",
   "language": "python",
   "name": "python3"
  },
  "language_info": {
   "codemirror_mode": {
    "name": "ipython",
    "version": 3
   },
   "file_extension": ".py",
   "mimetype": "text/x-python",
   "name": "python",
   "nbconvert_exporter": "python",
   "pygments_lexer": "ipython3",
   "version": "3.8.6"
  }
 },
 "nbformat": 4,
 "nbformat_minor": 4
}
