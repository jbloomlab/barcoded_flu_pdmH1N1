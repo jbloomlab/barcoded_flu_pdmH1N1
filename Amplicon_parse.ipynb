{
 "cells": [
  {
   "cell_type": "code",
   "execution_count": 8,
   "metadata": {},
   "outputs": [],
   "source": [
    "import os\n",
    "import warnings\n",
    "\n",
    "import numpy\n",
    "\n",
    "import pandas as pd\n",
    "\n",
    "from plotnine import *\n",
    "\n",
    "import alignparse.ccs\n",
    "import alignparse.consensus\n",
    "import alignparse.minimap2\n",
    "import alignparse.targets\n",
    "from alignparse.constants import CBPALETTE\n",
    "\n",
    "import dms_variants.plotnine_themes\n",
    "import dms_variants.utils"
   ]
  },
  {
   "cell_type": "code",
   "execution_count": 9,
   "metadata": {},
   "outputs": [],
   "source": [
    "warnings.simplefilter('ignore')"
   ]
  },
  {
   "cell_type": "code",
   "execution_count": 10,
   "metadata": {},
   "outputs": [
    {
     "data": {
      "text/plain": [
       "<dms_variants.plotnine_themes.theme_graygrid at 0x7ff2d41a3460>"
      ]
     },
     "execution_count": 10,
     "metadata": {},
     "output_type": "execute_result"
    }
   ],
   "source": [
    "theme_set(dms_variants.plotnine_themes.theme_graygrid())\n"
   ]
  },
  {
   "cell_type": "code",
   "execution_count": 11,
   "metadata": {},
   "outputs": [],
   "source": [
    "outdir = './output_files/'\n",
    "os.makedirs(outdir, exist_ok=True)"
   ]
  },
  {
   "cell_type": "code",
   "execution_count": 22,
   "metadata": {},
   "outputs": [
    {
     "name": "stdout",
     "output_type": "stream",
     "text": [
      "LOCUS       \tfluPB2mid                2432 bp\tDNA\n",
      "DEFINITION  \tfluPB2mid.\n",
      "ACCESSION   \tfluPB2mid\n",
      "VERSION     \tfluPB2mid\n",
      "KEYWORDS    .\n",
      "SOURCE      \t.\n",
      "  ORGANISM  \t.\n",
      "\t\t      \t.\n",
      "FEATURES             Location/Qualifiers\n",
      "     sequenced_mRNA_1\t1..1182\n",
      "     termini5\t1..26\n",
      "     viral_tag_2\t1052\n",
      "     final_mRNA_nts\t1179..1182\n",
      "     polyA\t1183..1212\n",
      "     UMI \t1213..1224\n",
      "     cellbarcode\t1225..1240\n",
      "     sequenced_mRNA_2\t1264..2426\n",
      "     viral_tag_1\t1463\n",
      "     termini3\t2401..2426\n",
      "ORIGIN\n",
      "        1 cagctattct cagaaaggca accaggagat tgatccagtt gatagtaagc gggagagatg\n",
      "       61 agcagtcaat tgctgaggca ataattgtgg ccatggtatt ctcacaggag gattgcatga\n",
      "      121 tcaaggcagt taggggcgat ctgaactttg tcaatagggc aaaccagcga ctgaacccca\n",
      "      181 tgcaccaact cttgaggcat ttccaaaaag atgcaaaagt gcttttccag aactggggaa\n",
      "      241 ttgaatccat cgacaatgtg atgggaatga tcggaatact gcccgacatg accccaagca\n",
      "      301 cggagatgtc gctgagaggg ataagagtca gcaaaatggg agtagatgaa tactccagca\n",
      "      361 cggagagagt ggtagtgagt attgaccgat ttttaagggt tagagatcaa agagggaacg\n",
      "      421 tactattgtc tcccgaagaa gtcagtgaaa cgcaaggaac tgagaagttg acaataactt\n",
      "      481 attcgtcatc aatgatgtgg gagatcaatg gccctgagtc agtgctagtc aacacttatc\n",
      "      541 aatggataat caggaactgg gaaattgtga aaattcaatg gtcacaagat cccacaatgt\n",
      "      601 tatacaacaa aatggaattt gaaccatttc agtctcttgt ccctaaggca accagaagcc\n",
      "      661 ggtacagtgg attcgtaagg acactgttcc agcaaatgcg ggatgtgctt gggacatttg\n",
      "      721 acactgtcca aataataaaa cttctcccct ttgctgctgc cccaccagaa cagagtagga\n",
      "      781 tgcaattttc ctcattgact gtgaatgtga gaggatcagg gttgaggata ctggtaagag\n",
      "      841 gcaattctcc agtattcaat tacaacaagg caaccaaacg acttacagtt cttggaaagg\n",
      "      901 atgcaggtgc attgactgaa gatccagatg aaggcacatc tggggtggag tctgctgtcc\n",
      "      961 tgagaggatt tctcattttg ggcaaagaag acaagagata tggcccagca ttaagcatca\n",
      "     1021 atgaactgag caatcttgca aaaggagaga argctaatgt gctaattggg caaggggacg\n",
      "     1081 tagtgttggt aatgaaacga aaacgggact ctagcatact tactgacagc cagacagcga\n",
      "     1141 ccaaaagaat tcggatggcc atcaattagt gtcgaatagt ttaaaaaaaa aaaaaaaaaa\n",
      "     1201 aaaaaaaaaa aannnnnnnn nnnnnnnnnn nnnnnnnnnn agatcggaag agcgtcgtgt\n",
      "     1261 agagcgaaag caggtcaatt atattcaata tggagagaat aaaagaactg agagatctaa\n",
      "     1321 tgtcgcagtc ccgcactcgc gagatactca ctaagaccac tgtggaccat atggccataa\n",
      "     1381 tcaaaaagta cacatcagga aggcaagaga agaaccccgc actcagaatg aagtggatga\n",
      "     1441 tggcaatgag atacccaatt acrgcagaca agagaataat ggacatgatt ccagagagga\n",
      "     1501 atgaacaagg acaaaccctc tggagcaaaa caaacgatgc tggatcagac cgagtgatgg\n",
      "     1561 tatcacctct ggccgtaaca tggtggaata ggaatggccc aacaacaagt acagttcatt\n",
      "     1621 accctaaggt atataaaact tatttcgaaa aggtcgaaag gttgaaacat ggtaccttcg\n",
      "     1681 gccctgtcca cttcagaaat caagttaaaa taaggaggag agttgataca aaccctggcc\n",
      "     1741 atgcagatct cagtgccaag gaggcacagg atgtgattat ggaagttgtt ttcccaaatg\n",
      "     1801 aagtgggggc aagaatactg acatcagagt cacagctggc aataacaaaa gagaagaaag\n",
      "     1861 aagagctcca ggattgtaaa attgctccct tgatggtggc gtacatgcta gaaagagaat\n",
      "     1921 tggtccgtaa aacaaggttt ctcccagtag ccggcggaac aggcagtgtt tatattgaag\n",
      "     1981 tgttgcactt aacccaaggg acgtgctggg agcagatgta cactccagga ggagaagtga\n",
      "     2041 gaaatgatga tgttgaccaa agtttgatta tcgctgctag aaacatagta agaagagcag\n",
      "     2101 cagtgtcagc agacccatta gcatctctct tggaaatgtg ccacagcaca cagattggag\n",
      "     2161 gagtaaggat ggtggacatc cttagacaga atccaactga ggaacaagcc gtagacatat\n",
      "     2221 gcaaggcagc aatagggttg aggattagct catctttcag ttttggtggg ttcactttca\n",
      "     2281 aaaggacaag cggatcatca gtcaagaaag aagaagaagt gctaacgggc aacctccaaa\n",
      "     2341 cactgaaaat aagagtacat gaagggtatg aagaattcac aatggttggg agaagagcaa\n",
      "     2401 cagctattct cagaaaggca accagg\n",
      "//\n",
      "LOCUS       \tfluPB2termini                2432 bp\tDNA\n",
      "DEFINITION  \tfluPB2termini.\n",
      "ACCESSION   \tfluPB2termini\n",
      "VERSION     \tfluPB2mid\n",
      "KEYWORDS    .\n",
      "SOURCE      \t.\n",
      "  ORGANISM \t.\n",
      "\t\t\t.\n",
      "FEATURES             Location/Qualifiers\n",
      "     sequenced_mRNA_1\t1..2288\n",
      "     termini5\t1..32\n",
      "     viral_tag_1\t169\n",
      "     viral_tag_2\t2158\n",
      "     final_mRNA_nts\t2285..2288\n",
      "     UM\t2319..2330\n",
      "     cellbarcode\t2331..2346\n",
      "     sequenced_mRNA_2\t2370..2432\n",
      "     termini3\t2401..2432\n",
      "ORIGIN\n",
      "        1 gagaataaaa gaactgagag atctaatgtc gcagtcccgc actcgcgaga tactcactaa\n",
      "       61 gaccactgtg gaccatatgg ccataatcaa aaagtacaca tcaggaaggc aagagaagaa\n",
      "      121 ccccgcactc agaatgaagt ggatgatggc aatgagatac ccaattacrg cagacaagag\n",
      "      181 aataatggac atgattccag agaggaatga acaaggacaa accctctgga gcaaaacaaa\n",
      "\n"
     ]
    }
   ],
   "source": [
    "targetfile = 'data/flu_sequences/pacbio_amplicons/fluPB2_amplicons.gb'\n",
    "\n",
    "nlines_to_show = 85\n",
    "with open(targetfile) as f:\n",
    "    print(''.join(next(f) for _ in range(nlines_to_show)))"
   ]
  },
  {
   "cell_type": "code",
   "execution_count": 23,
   "metadata": {},
   "outputs": [
    {
     "name": "stdout",
     "output_type": "stream",
     "text": [
      "# default for genes with two variant tags\n",
      "default_2tags: &default_2tags\n",
      "  query_clip5: 4\n",
      "  query_clip3: 4\n",
      "  termini5:\n",
      "    filter:\n",
      "      clip5: 4\n",
      "      mutation_nt_count: 1\n",
      "      mutation_op_count: null\n",
      "  sequenced_mRNA_1:\n",
      "    filter:\n",
      "      mutation_nt_count: null\n",
      "      mutation_op_count: 10\n",
      "    return: [mutations, accuracy]\n",
      "  sequenced_mRNA_2:\n",
      "    filter:\n",
      "      mutation_nt_count: null\n",
      "      mutation_op_count: 10\n",
      "    return: [mutations, accuracy]  \n",
      "  final_mRNA_nts:\n",
      "    filter:\n",
      "      mutation_nt_count: null\n",
      "      mutation_op_count: 2\n",
      "  polyA:\n",
      "    filter:\n",
      "      mutation_nt_count: 12\n",
      "      mutation_op_count: 4\n",
      "  UMI:\n",
      "    return: [sequence, accuracy]\n",
      "  cellbarcode:\n",
      "    return: [sequence, accuracy]\n",
      "  termini3:\n",
      "    filter:\n",
      "      clip5: 4\n",
      "      mutation_nt_count: 1\n",
      "      mutation_op_count: null\n",
      "  variant_tag_1:\n",
      "    filter:\n",
      "      mutation_nt_count: 1\n",
      "      mutation_op_count: null\n",
      "    return: sequence\n",
      "  variant_tag_2:\n",
      "    filter:\n",
      "      mutation_nt_count: 1\n",
      "      mutation_op_count: null\n",
      "    return: sequence\n",
      "\n",
      "# use defaults to define specs for actual genes\n",
      "fluPB2mid:\n",
      "  <<: *default_2tags\n",
      "\n",
      "fluPB2termini:\n",
      "  <<: *default_2tags\n"
     ]
    }
   ],
   "source": [
    "feature_parse_specs_file = 'data/flu_sequences/pacbio_amplicons/fluCA09_features.yaml'\n",
    "with open(feature_parse_specs_file) as f:\n",
    "    print(f.read())"
   ]
  },
  {
   "cell_type": "code",
   "execution_count": 24,
   "metadata": {},
   "outputs": [
    {
     "ename": "IndexError",
     "evalue": "string index out of range",
     "output_type": "error",
     "traceback": [
      "\u001b[0;31m---------------------------------------------------------------------------\u001b[0m",
      "\u001b[0;31mIndexError\u001b[0m                                Traceback (most recent call last)",
      "\u001b[0;32m<ipython-input-24-9c6472958a0d>\u001b[0m in \u001b[0;36m<module>\u001b[0;34m\u001b[0m\n\u001b[0;32m----> 1\u001b[0;31m targets = alignparse.targets.Targets(\n\u001b[0m\u001b[1;32m      2\u001b[0m                 \u001b[0mseqsfile\u001b[0m\u001b[0;34m=\u001b[0m\u001b[0mtargetfile\u001b[0m\u001b[0;34m,\u001b[0m\u001b[0;34m\u001b[0m\u001b[0;34m\u001b[0m\u001b[0m\n\u001b[1;32m      3\u001b[0m                 \u001b[0mfeature_parse_specs\u001b[0m\u001b[0;34m=\u001b[0m\u001b[0mfeature_parse_specs_file\u001b[0m\u001b[0;34m,\u001b[0m\u001b[0;34m\u001b[0m\u001b[0;34m\u001b[0m\u001b[0m\n\u001b[1;32m      4\u001b[0m                 \u001b[0mignore_feature_parse_specs_keys\u001b[0m\u001b[0;34m=\u001b[0m\u001b[0;34m[\u001b[0m\u001b[0;34m'default_2tags'\u001b[0m\u001b[0;34m]\u001b[0m\u001b[0;34m,\u001b[0m\u001b[0;34m\u001b[0m\u001b[0;34m\u001b[0m\u001b[0m\n\u001b[1;32m      5\u001b[0m                 allow_extra_features=True)\n",
      "\u001b[0;32m/fh/fast/bloom_j/software/miniconda3/envs/barcoded_flu_pdmH1N1/lib/python3.8/site-packages/alignparse/targets.py\u001b[0m in \u001b[0;36m__init__\u001b[0;34m(self, seqsfile, feature_parse_specs, allow_extra_features, seqsfileformat, allow_clipped_muts_seqs, ignore_feature_parse_specs_keys, select_target_names)\u001b[0m\n\u001b[1;32m    405\u001b[0m                                  'non-empty list')\n\u001b[1;32m    406\u001b[0m         \u001b[0;32mif\u001b[0m \u001b[0misinstance\u001b[0m\u001b[0;34m(\u001b[0m\u001b[0mseqsfile\u001b[0m\u001b[0;34m,\u001b[0m \u001b[0mstr\u001b[0m\u001b[0;34m)\u001b[0m\u001b[0;34m:\u001b[0m\u001b[0;34m\u001b[0m\u001b[0;34m\u001b[0m\u001b[0m\n\u001b[0;32m--> 407\u001b[0;31m             \u001b[0mseqrecords\u001b[0m \u001b[0;34m=\u001b[0m \u001b[0mlist\u001b[0m\u001b[0;34m(\u001b[0m\u001b[0mBio\u001b[0m\u001b[0;34m.\u001b[0m\u001b[0mSeqIO\u001b[0m\u001b[0;34m.\u001b[0m\u001b[0mparse\u001b[0m\u001b[0;34m(\u001b[0m\u001b[0mseqsfile\u001b[0m\u001b[0;34m,\u001b[0m \u001b[0mformat\u001b[0m\u001b[0;34m=\u001b[0m\u001b[0mseqsfileformat\u001b[0m\u001b[0;34m)\u001b[0m\u001b[0;34m)\u001b[0m\u001b[0;34m\u001b[0m\u001b[0;34m\u001b[0m\u001b[0m\n\u001b[0m\u001b[1;32m    408\u001b[0m         \u001b[0;32melse\u001b[0m\u001b[0;34m:\u001b[0m\u001b[0;34m\u001b[0m\u001b[0;34m\u001b[0m\u001b[0m\n\u001b[1;32m    409\u001b[0m             \u001b[0mseqrecords\u001b[0m \u001b[0;34m=\u001b[0m \u001b[0;34m[\u001b[0m\u001b[0;34m]\u001b[0m\u001b[0;34m\u001b[0m\u001b[0;34m\u001b[0m\u001b[0m\n",
      "\u001b[0;32m/fh/fast/bloom_j/software/miniconda3/envs/barcoded_flu_pdmH1N1/lib/python3.8/site-packages/Bio/SeqIO/Interfaces.py\u001b[0m in \u001b[0;36m__next__\u001b[0;34m(self)\u001b[0m\n\u001b[1;32m     71\u001b[0m     \u001b[0;32mdef\u001b[0m \u001b[0m__next__\u001b[0m\u001b[0;34m(\u001b[0m\u001b[0mself\u001b[0m\u001b[0;34m)\u001b[0m\u001b[0;34m:\u001b[0m\u001b[0;34m\u001b[0m\u001b[0;34m\u001b[0m\u001b[0m\n\u001b[1;32m     72\u001b[0m         \u001b[0;32mtry\u001b[0m\u001b[0;34m:\u001b[0m\u001b[0;34m\u001b[0m\u001b[0;34m\u001b[0m\u001b[0m\n\u001b[0;32m---> 73\u001b[0;31m             \u001b[0;32mreturn\u001b[0m \u001b[0mnext\u001b[0m\u001b[0;34m(\u001b[0m\u001b[0mself\u001b[0m\u001b[0;34m.\u001b[0m\u001b[0mrecords\u001b[0m\u001b[0;34m)\u001b[0m\u001b[0;34m\u001b[0m\u001b[0;34m\u001b[0m\u001b[0m\n\u001b[0m\u001b[1;32m     74\u001b[0m         \u001b[0;32mexcept\u001b[0m \u001b[0mException\u001b[0m\u001b[0;34m:\u001b[0m\u001b[0;34m\u001b[0m\u001b[0;34m\u001b[0m\u001b[0m\n\u001b[1;32m     75\u001b[0m             \u001b[0;32mif\u001b[0m \u001b[0mself\u001b[0m\u001b[0;34m.\u001b[0m\u001b[0mshould_close_stream\u001b[0m\u001b[0;34m:\u001b[0m\u001b[0;34m\u001b[0m\u001b[0;34m\u001b[0m\u001b[0m\n",
      "\u001b[0;32m/fh/fast/bloom_j/software/miniconda3/envs/barcoded_flu_pdmH1N1/lib/python3.8/site-packages/Bio/GenBank/Scanner.py\u001b[0m in \u001b[0;36mparse_records\u001b[0;34m(self, handle, do_features)\u001b[0m\n\u001b[1;32m    514\u001b[0m         \u001b[0;32mwith\u001b[0m \u001b[0mas_handle\u001b[0m\u001b[0;34m(\u001b[0m\u001b[0mhandle\u001b[0m\u001b[0;34m)\u001b[0m \u001b[0;32mas\u001b[0m \u001b[0mhandle\u001b[0m\u001b[0;34m:\u001b[0m\u001b[0;34m\u001b[0m\u001b[0;34m\u001b[0m\u001b[0m\n\u001b[1;32m    515\u001b[0m             \u001b[0;32mwhile\u001b[0m \u001b[0;32mTrue\u001b[0m\u001b[0;34m:\u001b[0m\u001b[0;34m\u001b[0m\u001b[0;34m\u001b[0m\u001b[0m\n\u001b[0;32m--> 516\u001b[0;31m                 \u001b[0mrecord\u001b[0m \u001b[0;34m=\u001b[0m \u001b[0mself\u001b[0m\u001b[0;34m.\u001b[0m\u001b[0mparse\u001b[0m\u001b[0;34m(\u001b[0m\u001b[0mhandle\u001b[0m\u001b[0;34m,\u001b[0m \u001b[0mdo_features\u001b[0m\u001b[0;34m)\u001b[0m\u001b[0;34m\u001b[0m\u001b[0;34m\u001b[0m\u001b[0m\n\u001b[0m\u001b[1;32m    517\u001b[0m                 \u001b[0;32mif\u001b[0m \u001b[0mrecord\u001b[0m \u001b[0;32mis\u001b[0m \u001b[0;32mNone\u001b[0m\u001b[0;34m:\u001b[0m\u001b[0;34m\u001b[0m\u001b[0;34m\u001b[0m\u001b[0m\n\u001b[1;32m    518\u001b[0m                     \u001b[0;32mbreak\u001b[0m\u001b[0;34m\u001b[0m\u001b[0;34m\u001b[0m\u001b[0m\n",
      "\u001b[0;32m/fh/fast/bloom_j/software/miniconda3/envs/barcoded_flu_pdmH1N1/lib/python3.8/site-packages/Bio/GenBank/Scanner.py\u001b[0m in \u001b[0;36mparse\u001b[0;34m(self, handle, do_features)\u001b[0m\n\u001b[1;32m    497\u001b[0m         )\n\u001b[1;32m    498\u001b[0m \u001b[0;34m\u001b[0m\u001b[0m\n\u001b[0;32m--> 499\u001b[0;31m         \u001b[0;32mif\u001b[0m \u001b[0mself\u001b[0m\u001b[0;34m.\u001b[0m\u001b[0mfeed\u001b[0m\u001b[0;34m(\u001b[0m\u001b[0mhandle\u001b[0m\u001b[0;34m,\u001b[0m \u001b[0mconsumer\u001b[0m\u001b[0;34m,\u001b[0m \u001b[0mdo_features\u001b[0m\u001b[0;34m)\u001b[0m\u001b[0;34m:\u001b[0m\u001b[0;34m\u001b[0m\u001b[0;34m\u001b[0m\u001b[0m\n\u001b[0m\u001b[1;32m    500\u001b[0m             \u001b[0;32mreturn\u001b[0m \u001b[0mconsumer\u001b[0m\u001b[0;34m.\u001b[0m\u001b[0mdata\u001b[0m\u001b[0;34m\u001b[0m\u001b[0;34m\u001b[0m\u001b[0m\n\u001b[1;32m    501\u001b[0m         \u001b[0;32melse\u001b[0m\u001b[0;34m:\u001b[0m\u001b[0;34m\u001b[0m\u001b[0;34m\u001b[0m\u001b[0m\n",
      "\u001b[0;32m/fh/fast/bloom_j/software/miniconda3/envs/barcoded_flu_pdmH1N1/lib/python3.8/site-packages/Bio/GenBank/Scanner.py\u001b[0m in \u001b[0;36mfeed\u001b[0;34m(self, handle, consumer, do_features)\u001b[0m\n\u001b[1;32m    468\u001b[0m         \u001b[0;31m# Features (common to both EMBL and GenBank):\u001b[0m\u001b[0;34m\u001b[0m\u001b[0;34m\u001b[0m\u001b[0;34m\u001b[0m\u001b[0m\n\u001b[1;32m    469\u001b[0m         \u001b[0;32mif\u001b[0m \u001b[0mdo_features\u001b[0m\u001b[0;34m:\u001b[0m\u001b[0;34m\u001b[0m\u001b[0;34m\u001b[0m\u001b[0m\n\u001b[0;32m--> 470\u001b[0;31m             \u001b[0mself\u001b[0m\u001b[0;34m.\u001b[0m\u001b[0m_feed_feature_table\u001b[0m\u001b[0;34m(\u001b[0m\u001b[0mconsumer\u001b[0m\u001b[0;34m,\u001b[0m \u001b[0mself\u001b[0m\u001b[0;34m.\u001b[0m\u001b[0mparse_features\u001b[0m\u001b[0;34m(\u001b[0m\u001b[0mskip\u001b[0m\u001b[0;34m=\u001b[0m\u001b[0;32mFalse\u001b[0m\u001b[0;34m)\u001b[0m\u001b[0;34m)\u001b[0m\u001b[0;34m\u001b[0m\u001b[0;34m\u001b[0m\u001b[0m\n\u001b[0m\u001b[1;32m    471\u001b[0m         \u001b[0;32melse\u001b[0m\u001b[0;34m:\u001b[0m\u001b[0;34m\u001b[0m\u001b[0;34m\u001b[0m\u001b[0m\n\u001b[1;32m    472\u001b[0m             \u001b[0mself\u001b[0m\u001b[0;34m.\u001b[0m\u001b[0mparse_features\u001b[0m\u001b[0;34m(\u001b[0m\u001b[0mskip\u001b[0m\u001b[0;34m=\u001b[0m\u001b[0;32mTrue\u001b[0m\u001b[0;34m)\u001b[0m  \u001b[0;31m# ignore the data\u001b[0m\u001b[0;34m\u001b[0m\u001b[0;34m\u001b[0m\u001b[0m\n",
      "\u001b[0;32m/fh/fast/bloom_j/software/miniconda3/envs/barcoded_flu_pdmH1N1/lib/python3.8/site-packages/Bio/GenBank/Scanner.py\u001b[0m in \u001b[0;36mparse_features\u001b[0;34m(self, skip)\u001b[0m\n\u001b[1;32m    203\u001b[0m                 \u001b[0;31m# Build up a list of the lines making up this feature:\u001b[0m\u001b[0;34m\u001b[0m\u001b[0;34m\u001b[0m\u001b[0;34m\u001b[0m\u001b[0m\n\u001b[1;32m    204\u001b[0m                 if (\n\u001b[0;32m--> 205\u001b[0;31m                     \u001b[0mline\u001b[0m\u001b[0;34m[\u001b[0m\u001b[0mself\u001b[0m\u001b[0;34m.\u001b[0m\u001b[0mFEATURE_QUALIFIER_INDENT\u001b[0m\u001b[0;34m]\u001b[0m \u001b[0;34m!=\u001b[0m \u001b[0;34m\" \"\u001b[0m\u001b[0;34m\u001b[0m\u001b[0;34m\u001b[0m\u001b[0m\n\u001b[0m\u001b[1;32m    206\u001b[0m                     \u001b[0;32mand\u001b[0m \u001b[0;34m\" \"\u001b[0m \u001b[0;32min\u001b[0m \u001b[0mline\u001b[0m\u001b[0;34m[\u001b[0m\u001b[0mself\u001b[0m\u001b[0;34m.\u001b[0m\u001b[0mFEATURE_QUALIFIER_INDENT\u001b[0m \u001b[0;34m:\u001b[0m\u001b[0;34m]\u001b[0m\u001b[0;34m\u001b[0m\u001b[0;34m\u001b[0m\u001b[0m\n\u001b[1;32m    207\u001b[0m                 ):\n",
      "\u001b[0;31mIndexError\u001b[0m: string index out of range"
     ]
    }
   ],
   "source": [
    "targets = alignparse.targets.Targets(\n",
    "                seqsfile=targetfile,\n",
    "                feature_parse_specs=feature_parse_specs_file,\n",
    "                ignore_feature_parse_specs_keys=['default_2tags'],\n",
    "                allow_extra_features=True)"
   ]
  }
 ],
 "metadata": {
  "kernelspec": {
   "display_name": "Python 3",
   "language": "python",
   "name": "python3"
  },
  "language_info": {
   "codemirror_mode": {
    "name": "ipython",
    "version": 3
   },
   "file_extension": ".py",
   "mimetype": "text/x-python",
   "name": "python",
   "nbconvert_exporter": "python",
   "pygments_lexer": "ipython3",
   "version": "3.8.6"
  }
 },
 "nbformat": 4,
 "nbformat_minor": 4
}
