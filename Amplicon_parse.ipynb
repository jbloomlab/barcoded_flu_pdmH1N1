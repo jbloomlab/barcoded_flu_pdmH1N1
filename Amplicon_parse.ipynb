{
 "cells": [
  {
   "cell_type": "code",
   "execution_count": 1,
   "metadata": {},
   "outputs": [],
   "source": [
    "import os\n",
    "import warnings\n",
    "\n",
    "import numpy\n",
    "\n",
    "import pandas as pd\n",
    "\n",
    "from plotnine import *\n",
    "\n",
    "import alignparse.ccs\n",
    "import alignparse.consensus\n",
    "import alignparse.minimap2\n",
    "import alignparse.targets\n",
    "from alignparse.constants import CBPALETTE\n",
    "\n",
    "import dms_variants.plotnine_themes\n",
    "import dms_variants.utils"
   ]
  },
  {
   "cell_type": "code",
   "execution_count": 2,
   "metadata": {},
   "outputs": [],
   "source": [
    "warnings.simplefilter('ignore')"
   ]
  },
  {
   "cell_type": "code",
   "execution_count": 3,
   "metadata": {},
   "outputs": [],
   "source": [
    "theme_set(dms_variants.plotnine_themes.theme_graygrid())\n"
   ]
  },
  {
   "cell_type": "code",
   "execution_count": 4,
   "metadata": {},
   "outputs": [],
   "source": [
    "outdir = './output_files/'\n",
    "os.makedirs(outdir, exist_ok=True)"
   ]
  },
  {
   "cell_type": "code",
   "execution_count": 12,
   "metadata": {},
   "outputs": [
    {
     "name": "stdout",
     "output_type": "stream",
     "text": [
      "LOCUS       fluPB2mid                2432 bp\tDNA\n",
      "DEFINITION  fluPB2mid.\n",
      "ACCESSION   fluPB2mid\n",
      "VERSION     fluPB2mid\n",
      "KEYWORDS    .\n",
      "SOURCE      \t.\n",
      "  ORGANISM  \t.\n",
      "\t\t      \t.\n",
      "FEATURES             Location/Qualifiers\n",
      "     sequenced_mRNA_1            1..1182\n",
      "     termini5    1..26\n",
      "     viral_tag_2    1052\n",
      "     final_mRNA_nts    1179..1182\n",
      "     polyA    1183..1212\n",
      "     UMI             1213..1224\n",
      "     cellbarcode             1225..1240\n",
      "     Read1    1241..1262\n",
      "     sequenced_mRNA_2            1264..2426\n",
      "     viral_tag_1    1463\n",
      "     termini3    2401..2426\n",
      "ORIGIN\n",
      "        1 cagctattct cagaaaggca accaggagat tgatccagtt gatagtaagc gggagagatg\n",
      "       61 agcagtcaat tgctgaggca ataattgtgg ccatggtatt ctcacaggag gattgcatga\n",
      "      121 tcaaggcagt taggggcgat ctgaactttg tcaatagggc aaaccagcga ctgaacccca\n",
      "      181 tgcaccaact cttgaggcat ttccaaaaag atgcaaaagt gcttttccag aactggggaa\n",
      "      241 ttgaatccat cgacaatgtg atgggaatga tcggaatact gcccgacatg accccaagca\n",
      "      301 cggagatgtc gctgagaggg ataagagtca gcaaaatggg agtagatgaa tactccagca\n",
      "      361 cggagagagt ggtagtgagt attgaccgat ttttaagggt tagagatcaa agagggaacg\n",
      "      421 tactattgtc tcccgaagaa gtcagtgaaa cgcaaggaac tgagaagttg acaataactt\n",
      "      481 attcgtcatc aatgatgtgg gagatcaatg gccctgagtc agtgctagtc aacacttatc\n",
      "      541 aatggataat caggaactgg gaaattgtga aaattcaatg gtcacaagat cccacaatgt\n",
      "      601 tatacaacaa aatggaattt gaaccatttc agtctcttgt ccctaaggca accagaagcc\n",
      "      661 ggtacagtgg attcgtaagg acactgttcc agcaaatgcg ggatgtgctt gggacatttg\n",
      "      721 acactgtcca aataataaaa cttctcccct ttgctgctgc cccaccagaa cagagtagga\n",
      "      781 tgcaattttc ctcattgact gtgaatgtga gaggatcagg gttgaggata ctggtaagag\n",
      "      841 gcaattctcc agtattcaat tacaacaagg caaccaaacg acttacagtt cttggaaagg\n",
      "      901 atgcaggtgc attgactgaa gatccagatg aaggcacatc tggggtggag tctgctgtcc\n",
      "      961 tgagaggatt tctcattttg ggcaaagaag acaagagata tggcccagca ttaagcatca\n",
      "     1021 atgaactgag caatcttgca aaaggagaga argctaatgt gctaattggg caaggggacg\n",
      "     1081 tagtgttggt aatgaaacga aaacgggact ctagcatact tactgacagc cagacagcga\n",
      "     1141 ccaaaagaat tcggatggcc atcaattagt gtcgaatagt ttaaaaaaaa aaaaaaaaaa\n",
      "     1201 aaaaaaaaaa aannnnnnnn nnnnnnnnnn nnnnnnnnnn agatcggaag agcgtcgtgt\n",
      "     1261 agagcgaaag caggtcaatt atattcaata tggagagaat aaaagaactg agagatctaa\n",
      "     1321 tgtcgcagtc ccgcactcgc gagatactca ctaagaccac tgtggaccat atggccataa\n",
      "     1381 tcaaaaagta cacatcagga aggcaagaga agaaccccgc actcagaatg aagtggatga\n",
      "     1441 tggcaatgag atacccaatt acrgcagaca agagaataat ggacatgatt ccagagagga\n",
      "     1501 atgaacaagg acaaaccctc tggagcaaaa caaacgatgc tggatcagac cgagtgatgg\n",
      "     1561 tatcacctct ggccgtaaca tggtggaata ggaatggccc aacaacaagt acagttcatt\n",
      "     1621 accctaaggt atataaaact tatttcgaaa aggtcgaaag gttgaaacat ggtaccttcg\n",
      "     1681 gccctgtcca cttcagaaat caagttaaaa taaggaggag agttgataca aaccctggcc\n",
      "\n"
     ]
    }
   ],
   "source": [
    "targetfile = 'data/flu_sequences/pacbio_amplicons/fluPB2.gb'\n",
    "\n",
    "nlines_to_show = 50\n",
    "with open(targetfile) as f:\n",
    "    print(''.join(next(f) for _ in range(nlines_to_show)))"
   ]
  },
  {
   "cell_type": "code",
   "execution_count": 13,
   "metadata": {},
   "outputs": [
    {
     "name": "stdout",
     "output_type": "stream",
     "text": [
      "# default for genes with two variant tags\n",
      "default_2tags: &default_2tags\n",
      "  query_clip5: 4\n",
      "  query_clip3: 4\n",
      "  termini5:\n",
      "    filter:\n",
      "      clip5: 4\n",
      "      mutation_nt_count: 1\n",
      "      mutation_op_count: null\n",
      "  sequenced_mRNA_1:\n",
      "    filter:\n",
      "      mutation_nt_count: null\n",
      "      mutation_op_count: 10\n",
      "    return: [mutations, accuracy]\n",
      "  sequenced_mRNA_2:\n",
      "    filter:\n",
      "      mutation_nt_count: null\n",
      "      mutation_op_count: 10\n",
      "    return: [mutations, accuracy]  \n",
      "  final_mRNA_nts:\n",
      "    filter:\n",
      "      mutation_nt_count: null\n",
      "      mutation_op_count: 2\n",
      "  polyA:\n",
      "    filter:\n",
      "      mutation_nt_count: 12\n",
      "      mutation_op_count: 4\n",
      "  UMI:\n",
      "    return: [sequence, accuracy]\n",
      "  cellbarcode:\n",
      "    return: [sequence, accuracy]\n",
      "  termini3:\n",
      "    filter:\n",
      "      clip5: 4\n",
      "      mutation_nt_count: 1\n",
      "      mutation_op_count: null\n",
      "  variant_tag_1:\n",
      "    filter:\n",
      "      mutation_nt_count: 1\n",
      "      mutation_op_count: null\n",
      "    return: sequence\n",
      "  variant_tag_2:\n",
      "    filter:\n",
      "      mutation_nt_count: 1\n",
      "      mutation_op_count: null\n",
      "    return: sequence\n",
      "\n",
      "# use defaults to define specs for actual genes\n",
      "fluPB2mid:\n",
      "  <<: *default_2tags\n"
     ]
    }
   ],
   "source": [
    "feature_parse_specs_file = 'data/flu_sequences/pacbio_amplicons/fluCA09_features.yaml'\n",
    "with open(feature_parse_specs_file) as f:\n",
    "    print(f.read())"
   ]
  },
  {
   "cell_type": "code",
   "execution_count": 14,
   "metadata": {},
   "outputs": [
    {
     "ename": "AttributeError",
     "evalue": "'NoneType' object has no attribute 'nofuzzy_start'",
     "output_type": "error",
     "traceback": [
      "\u001b[0;31m---------------------------------------------------------------------------\u001b[0m",
      "\u001b[0;31mAttributeError\u001b[0m                            Traceback (most recent call last)",
      "\u001b[0;32m<ipython-input-14-9c6472958a0d>\u001b[0m in \u001b[0;36m<module>\u001b[0;34m\u001b[0m\n\u001b[0;32m----> 1\u001b[0;31m targets = alignparse.targets.Targets(\n\u001b[0m\u001b[1;32m      2\u001b[0m                 \u001b[0mseqsfile\u001b[0m\u001b[0;34m=\u001b[0m\u001b[0mtargetfile\u001b[0m\u001b[0;34m,\u001b[0m\u001b[0;34m\u001b[0m\u001b[0;34m\u001b[0m\u001b[0m\n\u001b[1;32m      3\u001b[0m                 \u001b[0mfeature_parse_specs\u001b[0m\u001b[0;34m=\u001b[0m\u001b[0mfeature_parse_specs_file\u001b[0m\u001b[0;34m,\u001b[0m\u001b[0;34m\u001b[0m\u001b[0;34m\u001b[0m\u001b[0m\n\u001b[1;32m      4\u001b[0m                 \u001b[0mignore_feature_parse_specs_keys\u001b[0m\u001b[0;34m=\u001b[0m\u001b[0;34m[\u001b[0m\u001b[0;34m'default_2tags'\u001b[0m\u001b[0;34m]\u001b[0m\u001b[0;34m,\u001b[0m\u001b[0;34m\u001b[0m\u001b[0;34m\u001b[0m\u001b[0m\n\u001b[1;32m      5\u001b[0m                 allow_extra_features=True)\n",
      "\u001b[0;32m/fh/fast/bloom_j/software/miniconda3/envs/barcoded_flu_pdmH1N1/lib/python3.8/site-packages/alignparse/targets.py\u001b[0m in \u001b[0;36m__init__\u001b[0;34m(self, seqsfile, feature_parse_specs, allow_extra_features, seqsfileformat, allow_clipped_muts_seqs, ignore_feature_parse_specs_keys, select_target_names)\u001b[0m\n\u001b[1;32m    416\u001b[0m             \u001b[0;32mif\u001b[0m \u001b[0mselect_target_names\u001b[0m \u001b[0;32mand\u001b[0m \u001b[0;34m(\u001b[0m\u001b[0mtname\u001b[0m \u001b[0;32mnot\u001b[0m \u001b[0;32min\u001b[0m \u001b[0mselect_target_names\u001b[0m\u001b[0;34m)\u001b[0m\u001b[0;34m:\u001b[0m\u001b[0;34m\u001b[0m\u001b[0;34m\u001b[0m\u001b[0m\n\u001b[1;32m    417\u001b[0m                 \u001b[0;32mcontinue\u001b[0m\u001b[0;34m\u001b[0m\u001b[0;34m\u001b[0m\u001b[0m\n\u001b[0;32m--> 418\u001b[0;31m             target = Target(seqrecord=seqrecord,\n\u001b[0m\u001b[1;32m    419\u001b[0m                             \u001b[0mreq_features\u001b[0m\u001b[0;34m=\u001b[0m\u001b[0mself\u001b[0m\u001b[0;34m.\u001b[0m\u001b[0mfeatures_to_parse\u001b[0m\u001b[0;34m(\u001b[0m\u001b[0mtname\u001b[0m\u001b[0;34m,\u001b[0m \u001b[0;34m'name'\u001b[0m\u001b[0;34m)\u001b[0m\u001b[0;34m,\u001b[0m\u001b[0;34m\u001b[0m\u001b[0;34m\u001b[0m\u001b[0m\n\u001b[1;32m    420\u001b[0m                             \u001b[0mallow_extra_features\u001b[0m\u001b[0;34m=\u001b[0m\u001b[0mallow_extra_features\u001b[0m\u001b[0;34m,\u001b[0m\u001b[0;34m\u001b[0m\u001b[0;34m\u001b[0m\u001b[0m\n",
      "\u001b[0;32m/fh/fast/bloom_j/software/miniconda3/envs/barcoded_flu_pdmH1N1/lib/python3.8/site-packages/alignparse/targets.py\u001b[0m in \u001b[0;36m__init__\u001b[0;34m(self, seqrecord, req_features, opt_features, allow_extra_features)\u001b[0m\n\u001b[1;32m    151\u001b[0m                 raise ValueError(f\"feature {feature_name} of {self.name} is - \"\n\u001b[1;32m    152\u001b[0m                                  'strand, but only + strand features handled')\n\u001b[0;32m--> 153\u001b[0;31m             \u001b[0mfeature_seq\u001b[0m \u001b[0;34m=\u001b[0m \u001b[0mstr\u001b[0m\u001b[0;34m(\u001b[0m\u001b[0mbio_feature\u001b[0m\u001b[0;34m.\u001b[0m\u001b[0mlocation\u001b[0m\u001b[0;34m.\u001b[0m\u001b[0mextract\u001b[0m\u001b[0;34m(\u001b[0m\u001b[0mseqrecord\u001b[0m\u001b[0;34m)\u001b[0m\u001b[0;34m.\u001b[0m\u001b[0mseq\u001b[0m\u001b[0;34m)\u001b[0m\u001b[0;34m\u001b[0m\u001b[0;34m\u001b[0m\u001b[0m\n\u001b[0m\u001b[1;32m    154\u001b[0m             feature = Feature(name=feature_name,\n\u001b[1;32m    155\u001b[0m                               \u001b[0mseq\u001b[0m\u001b[0;34m=\u001b[0m\u001b[0mfeature_seq\u001b[0m\u001b[0;34m,\u001b[0m\u001b[0;34m\u001b[0m\u001b[0;34m\u001b[0m\u001b[0m\n",
      "\u001b[0;32m/fh/fast/bloom_j/software/miniconda3/envs/barcoded_flu_pdmH1N1/lib/python3.8/site-packages/Bio/SeqFeature.py\u001b[0m in \u001b[0;36mextract\u001b[0;34m(self, parent_sequence, references)\u001b[0m\n\u001b[1;32m   1139\u001b[0m             \u001b[0;31m# (the MutableSeq reverse complement acts in situ)\u001b[0m\u001b[0;34m\u001b[0m\u001b[0;34m\u001b[0m\u001b[0;34m\u001b[0m\u001b[0m\n\u001b[1;32m   1140\u001b[0m             \u001b[0mparent_sequence\u001b[0m \u001b[0;34m=\u001b[0m \u001b[0mparent_sequence\u001b[0m\u001b[0;34m.\u001b[0m\u001b[0mtoseq\u001b[0m\u001b[0;34m(\u001b[0m\u001b[0;34m)\u001b[0m\u001b[0;34m\u001b[0m\u001b[0;34m\u001b[0m\u001b[0m\n\u001b[0;32m-> 1141\u001b[0;31m         \u001b[0mf_seq\u001b[0m \u001b[0;34m=\u001b[0m \u001b[0mparent_sequence\u001b[0m\u001b[0;34m[\u001b[0m\u001b[0mself\u001b[0m\u001b[0;34m.\u001b[0m\u001b[0mnofuzzy_start\u001b[0m \u001b[0;34m:\u001b[0m \u001b[0mself\u001b[0m\u001b[0;34m.\u001b[0m\u001b[0mnofuzzy_end\u001b[0m\u001b[0;34m]\u001b[0m\u001b[0;34m\u001b[0m\u001b[0;34m\u001b[0m\u001b[0m\n\u001b[0m\u001b[1;32m   1142\u001b[0m         \u001b[0;32mif\u001b[0m \u001b[0mself\u001b[0m\u001b[0;34m.\u001b[0m\u001b[0mstrand\u001b[0m \u001b[0;34m==\u001b[0m \u001b[0;34m-\u001b[0m\u001b[0;36m1\u001b[0m\u001b[0;34m:\u001b[0m\u001b[0;34m\u001b[0m\u001b[0;34m\u001b[0m\u001b[0m\n\u001b[1;32m   1143\u001b[0m             \u001b[0;32mtry\u001b[0m\u001b[0;34m:\u001b[0m\u001b[0;34m\u001b[0m\u001b[0;34m\u001b[0m\u001b[0m\n",
      "\u001b[0;32m/fh/fast/bloom_j/software/miniconda3/envs/barcoded_flu_pdmH1N1/lib/python3.8/site-packages/Bio/SeqRecord.py\u001b[0m in \u001b[0;36m__getitem__\u001b[0;34m(self, index)\u001b[0m\n\u001b[1;32m    507\u001b[0m                         \u001b[0;32mcontinue\u001b[0m\u001b[0;34m\u001b[0m\u001b[0;34m\u001b[0m\u001b[0m\n\u001b[1;32m    508\u001b[0m                     if (\n\u001b[0;32m--> 509\u001b[0;31m                         \u001b[0mstart\u001b[0m \u001b[0;34m<=\u001b[0m \u001b[0mf\u001b[0m\u001b[0;34m.\u001b[0m\u001b[0mlocation\u001b[0m\u001b[0;34m.\u001b[0m\u001b[0mnofuzzy_start\u001b[0m\u001b[0;34m\u001b[0m\u001b[0;34m\u001b[0m\u001b[0m\n\u001b[0m\u001b[1;32m    510\u001b[0m                         \u001b[0;32mand\u001b[0m \u001b[0mf\u001b[0m\u001b[0;34m.\u001b[0m\u001b[0mlocation\u001b[0m\u001b[0;34m.\u001b[0m\u001b[0mnofuzzy_end\u001b[0m \u001b[0;34m<=\u001b[0m \u001b[0mstop\u001b[0m\u001b[0;34m\u001b[0m\u001b[0;34m\u001b[0m\u001b[0m\n\u001b[1;32m    511\u001b[0m                     ):\n",
      "\u001b[0;31mAttributeError\u001b[0m: 'NoneType' object has no attribute 'nofuzzy_start'"
     ]
    }
   ],
   "source": [
    "targets = alignparse.targets.Targets(\n",
    "                seqsfile=targetfile,\n",
    "                feature_parse_specs=feature_parse_specs_file,\n",
    "                ignore_feature_parse_specs_keys=['default_2tags'],\n",
    "                allow_extra_features=True)"
   ]
  },
  {
   "cell_type": "code",
   "execution_count": null,
   "metadata": {},
   "outputs": [],
   "source": []
  }
 ],
 "metadata": {
  "kernelspec": {
   "display_name": "Python 3",
   "language": "python",
   "name": "python3"
  },
  "language_info": {
   "codemirror_mode": {
    "name": "ipython",
    "version": 3
   },
   "file_extension": ".py",
   "mimetype": "text/x-python",
   "name": "python",
   "nbconvert_exporter": "python",
   "pygments_lexer": "ipython3",
   "version": "3.8.6"
  }
 },
 "nbformat": 4,
 "nbformat_minor": 4
}
