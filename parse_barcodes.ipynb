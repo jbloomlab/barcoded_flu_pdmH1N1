{
 "cells": [
  {
   "cell_type": "markdown",
   "metadata": {},
   "source": [
    "# parse_barcodes\n",
    "This notebook attempts to parse cell barcodes, UMIs, and viral barcodes from *only VIRAL reads*. It uses Read1 data to do this."
   ]
  },
  {
   "cell_type": "code",
   "execution_count": 11,
   "metadata": {},
   "outputs": [],
   "source": [
    "# Import\n",
    "import glob\n",
    "import os\n",
    "import gzip\n",
    "import pandas as pd\n",
    "from Bio import SeqIO"
   ]
  },
  {
   "cell_type": "code",
   "execution_count": 2,
   "metadata": {},
   "outputs": [],
   "source": [
    "# Constants\n",
    "sample_file = 'samples.csv'\n",
    "\n",
    "out_folder = 'outs/'"
   ]
  },
  {
   "cell_type": "code",
   "execution_count": 3,
   "metadata": {},
   "outputs": [
    {
     "data": {
      "text/html": [
       "<div>\n",
       "<style scoped>\n",
       "    .dataframe tbody tr th:only-of-type {\n",
       "        vertical-align: middle;\n",
       "    }\n",
       "\n",
       "    .dataframe tbody tr th {\n",
       "        vertical-align: top;\n",
       "    }\n",
       "\n",
       "    .dataframe thead th {\n",
       "        text-align: right;\n",
       "    }\n",
       "</style>\n",
       "<table border=\"1\" class=\"dataframe\">\n",
       "  <thead>\n",
       "    <tr style=\"text-align: right;\">\n",
       "      <th></th>\n",
       "      <th>sample</th>\n",
       "      <th>data_type</th>\n",
       "      <th>index</th>\n",
       "      <th>data_file</th>\n",
       "    </tr>\n",
       "  </thead>\n",
       "  <tbody>\n",
       "    <tr>\n",
       "      <td>0</td>\n",
       "      <td>HUNDREDuM_primer</td>\n",
       "      <td>transcripts</td>\n",
       "      <td>A1</td>\n",
       "      <td>out/virus_hashing/outs/fastq_path/CL3WR/HUNDRE...</td>\n",
       "    </tr>\n",
       "    <tr>\n",
       "      <td>1</td>\n",
       "      <td>TENuM_primer</td>\n",
       "      <td>transcripts</td>\n",
       "      <td>A2</td>\n",
       "      <td>out/virus_hashing/outs/fastq_path/CL3WR/TENuM_...</td>\n",
       "    </tr>\n",
       "  </tbody>\n",
       "</table>\n",
       "</div>"
      ],
      "text/plain": [
       "             sample    data_type index  \\\n",
       "0  HUNDREDuM_primer  transcripts    A1   \n",
       "1      TENuM_primer  transcripts    A2   \n",
       "\n",
       "                                           data_file  \n",
       "0  out/virus_hashing/outs/fastq_path/CL3WR/HUNDRE...  \n",
       "1  out/virus_hashing/outs/fastq_path/CL3WR/TENuM_...  "
      ]
     },
     "execution_count": 3,
     "metadata": {},
     "output_type": "execute_result"
    }
   ],
   "source": [
    "# Load samples\n",
    "samples = pd.read_csv(sample_file, comment='#')\n",
    "\n",
    "samples"
   ]
  },
  {
   "cell_type": "markdown",
   "metadata": {},
   "source": [
    "## Split features based on position in read\n",
    "Now, I must parse out the features I expect to be present in each of these reads. For this, I will simply split out the sequence based on position, since each feature should be some exact length. The lengths I anticipate are designated in a cell below.\n",
    "\n",
    "The order of the features looks like this, depending on whether the adapter was appended in a way that retained the Cell Barcode and UMI or not:  \n",
    "With Cell Barcode/UMI = `TruSeq Read 1 - Cell Barcode - UMI - PolyA`  \n",
    "Without Cell Barcode/UMI = `TruSeq Read 1 - Viral Barcode - CDS`; an important note: if the molecule looks like this, the CDS will either be `GCGGCCGCCTATG (HA)` or `GCGGCCGCCTAT (NA)`.\n",
    "\n",
    "I will parse the `TruSeq Read 1` feature as the first `22 bp`.  \n",
    "I will parse the `Cell Barcode` OR `Viral Barcode` as the next `16 bp`.  \n",
    "Finally, I will parse the `UMI` OR `CDS` as the final `12 bp`.\n"
   ]
  },
  {
   "cell_type": "code",
   "execution_count": 30,
   "metadata": {},
   "outputs": [],
   "source": [
    "# Feature Lengths\n",
    "truseq_len = 22\n",
    "bc_len = 16\n",
    "umi_cds_len = 12\n",
    "\n",
    "#HA and NA CDS sequences\n",
    "ha_constant = 'GCGGCCGCCTATG'\n",
    "na_constant = 'GCGGCCGCCTAT'"
   ]
  },
  {
   "cell_type": "code",
   "execution_count": 32,
   "metadata": {},
   "outputs": [
    {
     "name": "stdout",
     "output_type": "stream",
     "text": [
      "Processing reads for sample \"HUNDREDuM_primer\"\n",
      "Parsing file out/virus_hashing/outs/fastq_path/CL3WR/HUNDREDuM_primer/HUNDREDuM_primer_S1_L001_R1_001.fastq.gz\n",
      "Done.\n",
      "\n",
      "Processing reads for sample \"TENuM_primer\"\n",
      "Parsing file out/virus_hashing/outs/fastq_path/CL3WR/TENuM_primer/TENuM_primer_S2_L001_R1_001.fastq.gz\n",
      "Done.\n",
      "\n",
      "Done loading FASTQ files.\n",
      "\n"
     ]
    }
   ],
   "source": [
    "record_dict = {'record_id': [],\n",
    "               'primer': [],\n",
    "               'truseq': [],\n",
    "               'bc': [],\n",
    "               'umi_cds': [],\n",
    "               'has_cell_bc': []\n",
    "              }\n",
    "# Load Read 1 Files\n",
    "for tup in samples.itertuples(index=False):\n",
    "    print(f'Processing reads for sample \"{tup.sample}\"')\n",
    "    r1files = glob.glob(os.path.join(tup.data_file, '*R1*.fastq.gz'))\n",
    "    for file in r1files:\n",
    "        print(f'Parsing file {file}')\n",
    "        with gzip.open(file, \"rt\") as gunzip_file:\n",
    "            for record in SeqIO.parse(gunzip_file, \"fastq\"):\n",
    "                record_dict['record_id'].append(record.id)\n",
    "                record_dict['primer'].append(tup.sample)\n",
    "                record_dict['truseq'].append(str(record.seq[0:21]))\n",
    "                record_dict['bc'].append(str(record.seq[22:37]))\n",
    "                record_dict['umi_cds'].append(str(record.seq[37:49]))\n",
    "                if (str(record.seq[37:49]) == ha_constant) or (str(record.seq[37:49]) == na_constant):\n",
    "                    record_dict['has_cell_bc'].append(False)\n",
    "                else:\n",
    "                    record_dict['has_cell_bc'].append(True)\n",
    "        print('Done.\\n')\n",
    "\n",
    "print('Done loading FASTQ files.\\n')\n",
    "\n",
    "\n"
   ]
  },
  {
   "cell_type": "code",
   "execution_count": 33,
   "metadata": {},
   "outputs": [
    {
     "name": "stdout",
     "output_type": "stream",
     "text": [
      "Converting to dataframe.\n",
      "Dataframe head:\n"
     ]
    },
    {
     "data": {
      "text/html": [
       "<div>\n",
       "<style scoped>\n",
       "    .dataframe tbody tr th:only-of-type {\n",
       "        vertical-align: middle;\n",
       "    }\n",
       "\n",
       "    .dataframe tbody tr th {\n",
       "        vertical-align: top;\n",
       "    }\n",
       "\n",
       "    .dataframe thead th {\n",
       "        text-align: right;\n",
       "    }\n",
       "</style>\n",
       "<table border=\"1\" class=\"dataframe\">\n",
       "  <thead>\n",
       "    <tr style=\"text-align: right;\">\n",
       "      <th></th>\n",
       "      <th>record_id</th>\n",
       "      <th>primer</th>\n",
       "      <th>truseq</th>\n",
       "      <th>bc</th>\n",
       "      <th>umi_cds</th>\n",
       "      <th>has_cell_bc</th>\n",
       "    </tr>\n",
       "  </thead>\n",
       "  <tbody>\n",
       "    <tr>\n",
       "      <td>0</td>\n",
       "      <td>M03100:474:000000000-CL3WR:1:2116:16081:1664</td>\n",
       "      <td>HUNDREDuM_primer</td>\n",
       "      <td>CTACACGACGCTCTTCNGATC</td>\n",
       "      <td>ACGACCGCGTCCTCT</td>\n",
       "      <td>TCCTCTTCCCCG</td>\n",
       "      <td>True</td>\n",
       "    </tr>\n",
       "    <tr>\n",
       "      <td>1</td>\n",
       "      <td>M03100:474:000000000-CL3WR:1:2116:21218:1667</td>\n",
       "      <td>HUNDREDuM_primer</td>\n",
       "      <td>CTACACGACGCTCTTCNGATC</td>\n",
       "      <td>CTCTCCTTCCTCCCT</td>\n",
       "      <td>CCCCTCTCCCCC</td>\n",
       "      <td>True</td>\n",
       "    </tr>\n",
       "    <tr>\n",
       "      <td>2</td>\n",
       "      <td>M03100:474:000000000-CL3WR:1:2116:17297:1672</td>\n",
       "      <td>HUNDREDuM_primer</td>\n",
       "      <td>CTACACGACGCTCTTCNGATC</td>\n",
       "      <td>CTCTGCCTCCCGTGT</td>\n",
       "      <td>ACAAACATTTCT</td>\n",
       "      <td>True</td>\n",
       "    </tr>\n",
       "    <tr>\n",
       "      <td>3</td>\n",
       "      <td>M03100:474:000000000-CL3WR:1:2116:21080:1736</td>\n",
       "      <td>HUNDREDuM_primer</td>\n",
       "      <td>CTACACGACGCTCTTCNGATC</td>\n",
       "      <td>TCAACGATCGCCATT</td>\n",
       "      <td>ATTCCAACCTGT</td>\n",
       "      <td>True</td>\n",
       "    </tr>\n",
       "    <tr>\n",
       "      <td>4</td>\n",
       "      <td>M03100:474:000000000-CL3WR:1:2116:15840:1750</td>\n",
       "      <td>HUNDREDuM_primer</td>\n",
       "      <td>CTACACGACGCTCTTCNGATC</td>\n",
       "      <td>AACCGCCTCCCGTTT</td>\n",
       "      <td>CCCCCTCCCTCT</td>\n",
       "      <td>True</td>\n",
       "    </tr>\n",
       "  </tbody>\n",
       "</table>\n",
       "</div>"
      ],
      "text/plain": [
       "                                      record_id            primer  \\\n",
       "0  M03100:474:000000000-CL3WR:1:2116:16081:1664  HUNDREDuM_primer   \n",
       "1  M03100:474:000000000-CL3WR:1:2116:21218:1667  HUNDREDuM_primer   \n",
       "2  M03100:474:000000000-CL3WR:1:2116:17297:1672  HUNDREDuM_primer   \n",
       "3  M03100:474:000000000-CL3WR:1:2116:21080:1736  HUNDREDuM_primer   \n",
       "4  M03100:474:000000000-CL3WR:1:2116:15840:1750  HUNDREDuM_primer   \n",
       "\n",
       "                  truseq               bc       umi_cds  has_cell_bc  \n",
       "0  CTACACGACGCTCTTCNGATC  ACGACCGCGTCCTCT  TCCTCTTCCCCG         True  \n",
       "1  CTACACGACGCTCTTCNGATC  CTCTCCTTCCTCCCT  CCCCTCTCCCCC         True  \n",
       "2  CTACACGACGCTCTTCNGATC  CTCTGCCTCCCGTGT  ACAAACATTTCT         True  \n",
       "3  CTACACGACGCTCTTCNGATC  TCAACGATCGCCATT  ATTCCAACCTGT         True  \n",
       "4  CTACACGACGCTCTTCNGATC  AACCGCCTCCCGTTT  CCCCCTCCCTCT         True  "
      ]
     },
     "execution_count": 33,
     "metadata": {},
     "output_type": "execute_result"
    }
   ],
   "source": [
    "print('Converting to dataframe.')\n",
    "r1_reads = pd.DataFrame.from_dict(record_dict)\n",
    "print('Dataframe head:')\n",
    "r1_reads.head()"
   ]
  },
  {
   "cell_type": "code",
   "execution_count": 38,
   "metadata": {
    "scrolled": true
   },
   "outputs": [
    {
     "data": {
      "text/html": [
       "<div>\n",
       "<style scoped>\n",
       "    .dataframe tbody tr th:only-of-type {\n",
       "        vertical-align: middle;\n",
       "    }\n",
       "\n",
       "    .dataframe tbody tr th {\n",
       "        vertical-align: top;\n",
       "    }\n",
       "\n",
       "    .dataframe thead th {\n",
       "        text-align: right;\n",
       "    }\n",
       "</style>\n",
       "<table border=\"1\" class=\"dataframe\">\n",
       "  <thead>\n",
       "    <tr style=\"text-align: right;\">\n",
       "      <th></th>\n",
       "      <th>record_id</th>\n",
       "      <th>truseq</th>\n",
       "      <th>bc</th>\n",
       "      <th>umi_cds</th>\n",
       "      <th>has_cell_bc</th>\n",
       "    </tr>\n",
       "    <tr>\n",
       "      <th>primer</th>\n",
       "      <th></th>\n",
       "      <th></th>\n",
       "      <th></th>\n",
       "      <th></th>\n",
       "      <th></th>\n",
       "    </tr>\n",
       "  </thead>\n",
       "  <tbody>\n",
       "    <tr>\n",
       "      <td>HUNDREDuM_primer</td>\n",
       "      <td>300313</td>\n",
       "      <td>300313</td>\n",
       "      <td>300313</td>\n",
       "      <td>300313</td>\n",
       "      <td>300313</td>\n",
       "    </tr>\n",
       "    <tr>\n",
       "      <td>TENuM_primer</td>\n",
       "      <td>237328</td>\n",
       "      <td>237328</td>\n",
       "      <td>237328</td>\n",
       "      <td>237328</td>\n",
       "      <td>237328</td>\n",
       "    </tr>\n",
       "  </tbody>\n",
       "</table>\n",
       "</div>"
      ],
      "text/plain": [
       "                  record_id  truseq      bc  umi_cds  has_cell_bc\n",
       "primer                                                           \n",
       "HUNDREDuM_primer     300313  300313  300313   300313       300313\n",
       "TENuM_primer         237328  237328  237328   237328       237328"
      ]
     },
     "execution_count": 38,
     "metadata": {},
     "output_type": "execute_result"
    }
   ],
   "source": [
    "r1_reads.groupby('primer').count()"
   ]
  },
  {
   "cell_type": "code",
   "execution_count": null,
   "metadata": {},
   "outputs": [],
   "source": []
  }
 ],
 "metadata": {
  "kernelspec": {
   "display_name": "Python 3",
   "language": "python",
   "name": "python3"
  },
  "language_info": {
   "codemirror_mode": {
    "name": "ipython",
    "version": 3
   },
   "file_extension": ".py",
   "mimetype": "text/x-python",
   "name": "python",
   "nbconvert_exporter": "python",
   "pygments_lexer": "ipython3",
   "version": "3.6.7"
  }
 },
 "nbformat": 4,
 "nbformat_minor": 2
}
