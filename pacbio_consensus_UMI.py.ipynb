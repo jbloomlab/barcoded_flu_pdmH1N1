{
 "cells": [
  {
   "cell_type": "code",
   "execution_count": null,
   "metadata": {
    "execution": {
     "iopub.execute_input": "2022-01-19T01:52:45.287072Z",
     "iopub.status.busy": "2022-01-19T01:52:45.282820Z",
     "iopub.status.idle": "2022-01-19T01:52:45.335649Z",
     "shell.execute_reply": "2022-01-19T01:52:45.334678Z"
    },
    "tags": [
     "snakemake-job-properties"
    ]
   },
   "outputs": [],
   "source": [
    "\n",
    "######## snakemake preamble start (automatically inserted, do not edit) ########\n",
    "import sys; sys.path.extend(['/fh/fast/bloom_j/software/miniconda3/envs/barcoded_flu_pdmH1N1/lib/python3.8/site-packages', '/fh/fast/bloom_j/computational_notebooks/dbacsik/2019/flu_pdmH1N1_barcode_hashing/notebooks']); import pickle; snakemake = pickle.loads(b\"\\x80\\x04\\x95F\\x1d\\x00\\x00\\x00\\x00\\x00\\x00\\x8c\\x10snakemake.script\\x94\\x8c\\tSnakemake\\x94\\x93\\x94)\\x81\\x94}\\x94(\\x8c\\x05input\\x94\\x8c\\x0csnakemake.io\\x94\\x8c\\nInputFiles\\x94\\x93\\x94)\\x81\\x94\\x8c>results/pacbio/scProgenyProduction_trial3_UMI_mutations.csv.gz\\x94a}\\x94(\\x8c\\x06_names\\x94}\\x94\\x8c\\x11UMI_mutations_csv\\x94K\\x00N\\x86\\x94s\\x8c\\x12_allowed_overrides\\x94]\\x94(\\x8c\\x05index\\x94\\x8c\\x04sort\\x94eh\\x12\\x8c\\tfunctools\\x94\\x8c\\x07partial\\x94\\x93\\x94h\\x06\\x8c\\x19Namedlist._used_attribute\\x94\\x93\\x94\\x85\\x94R\\x94(h\\x18)}\\x94\\x8c\\x05_name\\x94h\\x12sNt\\x94bh\\x13h\\x16h\\x18\\x85\\x94R\\x94(h\\x18)}\\x94h\\x1ch\\x13sNt\\x94bh\\x0eh\\nub\\x8c\\x06output\\x94h\\x06\\x8c\\x0bOutputFiles\\x94\\x93\\x94)\\x81\\x94\\x8c>results/pacbio/scProgenyProduction_trial3_consensus_UMI.csv.gz\\x94a}\\x94(h\\x0c}\\x94\\x8c\\x11consensus_UMI_csv\\x94K\\x00N\\x86\\x94sh\\x10]\\x94(h\\x12h\\x13eh\\x12h\\x16h\\x18\\x85\\x94R\\x94(h\\x18)}\\x94h\\x1ch\\x12sNt\\x94bh\\x13h\\x16h\\x18\\x85\\x94R\\x94(h\\x18)}\\x94h\\x1ch\\x13sNt\\x94bh)h&ub\\x8c\\x06params\\x94h\\x06\\x8c\\x06Params\\x94\\x93\\x94)\\x81\\x94}\\x94(h\\x0c}\\x94h\\x10]\\x94(h\\x12h\\x13eh\\x12h\\x16h\\x18\\x85\\x94R\\x94(h\\x18)}\\x94h\\x1ch\\x12sNt\\x94bh\\x13h\\x16h\\x18\\x85\\x94R\\x94(h\\x18)}\\x94h\\x1ch\\x13sNt\\x94bub\\x8c\\twildcards\\x94h\\x06\\x8c\\tWildcards\\x94\\x93\\x94)\\x81\\x94\\x8c\\x1ascProgenyProduction_trial3\\x94a}\\x94(h\\x0c}\\x94\\x8c\\x04expt\\x94K\\x00N\\x86\\x94sh\\x10]\\x94(h\\x12h\\x13eh\\x12h\\x16h\\x18\\x85\\x94R\\x94(h\\x18)}\\x94h\\x1ch\\x12sNt\\x94bh\\x13h\\x16h\\x18\\x85\\x94R\\x94(h\\x18)}\\x94h\\x1ch\\x13sNt\\x94b\\x8c\\x04expt\\x94hGub\\x8c\\x07threads\\x94K\\x01\\x8c\\tresources\\x94h\\x06\\x8c\\tResources\\x94\\x93\\x94)\\x81\\x94(K\\x01K\\x01e}\\x94(h\\x0c}\\x94(\\x8c\\x06_cores\\x94K\\x00N\\x86\\x94\\x8c\\x06_nodes\\x94K\\x01N\\x86\\x94uh\\x10]\\x94(h\\x12h\\x13eh\\x12h\\x16h\\x18\\x85\\x94R\\x94(h\\x18)}\\x94h\\x1ch\\x12sNt\\x94bh\\x13h\\x16h\\x18\\x85\\x94R\\x94(h\\x18)}\\x94h\\x1ch\\x13sNt\\x94bh]K\\x01h_K\\x01ub\\x8c\\x03log\\x94h\\x06\\x8c\\x03Log\\x94\\x93\\x94)\\x81\\x94\\x8cBresults/logs/pacbio_consensus_UMI_scProgenyProduction_trial3.ipynb\\x94a}\\x94(h\\x0c}\\x94\\x8c\\x08notebook\\x94K\\x00N\\x86\\x94sh\\x10]\\x94(h\\x12h\\x13eh\\x12h\\x16h\\x18\\x85\\x94R\\x94(h\\x18)}\\x94h\\x1ch\\x12sNt\\x94bh\\x13h\\x16h\\x18\\x85\\x94R\\x94(h\\x18)}\\x94h\\x1ch\\x13sNt\\x94bhqhnub\\x8c\\x06config\\x94}\\x94(\\x8c\\x08max_cpus\\x94K\\x10\\x8c\\x07log_dir\\x94\\x8c\\x0cresults/logs\\x94\\x8c\\x0cfastq10x_dir\\x94\\x8c\\x10results/fastq10x\\x94\\x8c\\npacbio_dir\\x94\\x8c\\x0eresults/pacbio\\x94\\x8c\\x0emkfastq10x_dir\\x94\\x8c\\x1fresults/fastq10x/mkfastq_output\\x94\\x8c\\ngenome_dir\\x94\\x8c\\x0fresults/genomes\\x94\\x8c\\trefgenome\\x94\\x8c\\x19results/genomes/refgenome\\x94\\x8c\\x14aligned_fastq10x_dir\\x94\\x8c\\x18results/aligned_fastq10x\\x94\\x8c\\x12viral_fastq10x_dir\\x94\\x8c\\x16results/viral_fastq10x\\x94\\x8c\\x1bviral_tags_bcs_in_cells_dir\\x94\\x8c\\x1fresults/viral_tags_bcs_in_cells\\x94\\x8c\\x11viral_progeny_dir\\x94\\x8c\\x15results/viral_progeny\\x94\\x8c\\x13align_and_parse_dir\\x94\\x8c#results/pacbio/CA09_align_and_parse\\x94\\x8c\\x0fcell_genome_ftp\\x94\\x8cmftp://ftp.ensembl.org/pub/release-98/fasta/canis_familiaris/dna/Canis_familiaris.CanFam3.1.dna.toplevel.fa.gz\\x94\\x8c\\x0ccell_gtf_ftp\\x94\\x8c^ftp://ftp.ensembl.org/pub/release-98/gtf/canis_familiaris/Canis_familiaris.CanFam3.1.98.gtf.gz\\x94\\x8c\\x0cviral_genome\\x94\\x8c!data/flu_sequences/flu-CA09.fasta\\x94\\x8c\\tviral_gtf\\x94\\x8c\\x1fdata/flu_sequences/flu-CA09.gtf\\x94\\x8c\\rviral_genbank\\x94\\x8c\\x1edata/flu_sequences/flu-CA09.gb\\x94\\x8c\\x14viral_tag_identities\\x94\\x8c+data/flu_sequences/flu-CA09_viral_tags.yaml\\x94\\x8c\\x0fviral_amplicons\\x94\\x8c.data/flu_sequences/pacbio_amplicons/fluCA09.gb\\x94\\x8c\\x11amplicon_features\\x94\\x8c9data/flu_sequences/pacbio_amplicons/fluCA09_features.yaml\\x94\\x8c\\x1eamplicon_linearization_primers\\x94\\x8c=data/flu_sequences/pacbio_amplicons/linearization_primers.tsv\\x94\\x8c\\x15amplicon_to_reference\\x94\\x8c=data/flu_sequences/pacbio_amplicons/amplicon_to_reference.csv\\x94\\x8c\\x0escoreGapNoncan\\x94J\\xfc\\xff\\xff\\xff\\x8c\\x0cscoreGapGCAG\\x94J\\xfc\\xff\\xff\\xff\\x8c\\x0cscoreGapATAC\\x94J\\xfc\\xff\\xff\\xff\\x8c\\x14cb_whitelist_10x_url\\x94\\x8ckhttps://github.com/10XGenomics/cellranger/raw/master/lib/python/cellranger/barcodes/3M-february-2018.txt.gz\\x94\\x8c\\x10cb_whitelist_10x\\x94\\x8c-results/aligned_fastq10x/cb_whitelist_10x.txt\\x94\\x8c\\ncb_len_10x\\x94K\\x10\\x8c\\x0bumi_len_10x\\x94K\\x0c\\x8c\\x14total_UMI_deviations\\x94G@\\x04\\x00\\x00\\x00\\x00\\x00\\x00\\x8c\\x13infection_threshold\\x94G?\\x84z\\xe1G\\xae\\x14{\\x8c\\rviral_tag_fdr\\x94G?\\x1a6\\xe2\\xeb\\x1cC-\\x8c\\x1dviral_barcode_upstream_length\\x94K\\x1c\\x8c\\x16viral_barcode_mismatch\\x94K\\x00\\x8c\\x12viral_barcode_minq\\x94K\\x1e\\x8c\\x17progeny_detection_limit\\x94\\x8c\\x041e-5\\x94\\x8c\\x0cviral_bc_fdr\\x94G?\\x1a6\\xe2\\xeb\\x1cC-\\x8c\\x0eccs_min_length\\x94K2\\x8c\\x0eccs_max_length\\x94M\\x88\\x13\\x8c\\nccs_min_rq\\x94G?\\xef\\xf7\\xce\\xd9\\x16\\x87+\\x8c\\x0bexperiments\\x94}\\x94\\x8c\\x1ascProgenyProduction_trial3\\x94}\\x94(\\x8c\\x0bdescription\\x94X\\x1b\\x01\\x00\\x00Single-cell transcriptomics performed on even lower MOI-infected sample. Innoculum volumes based on `scProgenyProduction_trial1` and `scProgenyProduction_trial2` data. Loaded all collected cells from two 24-well wells, each infected with either wildtype or dblySn viral tag variants.\\x94\\x8c\\tlab_notes\\x94\\x8c0https://benchling.com/s/etr-N4laiIAy3AUePJdig7wR\\x94\\x8c\\rexpect_ncells\\x94M\\x10'\\x8c\\x0ftranscriptomics\\x94}\\x94(\\x8c\\x08datetime\\x94\\x8c\\x04date\\x94\\x93\\x94C\\x04\\x07\\xe5\\x03\\x0c\\x94\\x85\\x94R\\x94}\\x94(\\x8c\\x05index\\x94\\x8c\\x08SI-TT-A3\\x94\\x8c\\nbcl_folder\\x94\\x8c_/shared/ngs/illumina/bloom_lab/210312_D00300_1192_BHKHNYBCX3/raw/210312_D00300_1192_BHKHNYBCX3/\\x94\\x8c\\x04lane\\x94K\\x01\\x8c\\x10index_sequencing\\x94\\x8c\\x06single\\x94uh\\xcbC\\x04\\x07\\xe5\\x04\\t\\x94\\x85\\x94R\\x94}\\x94(\\x8c\\x05index\\x94\\x8c\\x08SI-TT-A3\\x94\\x8c\\nbcl_folder\\x94\\x8c_/shared/ngs/illumina/bloom_lab/210409_D00300_1210_BHKC7KBCX3/raw/210409_D00300_1210_BHKC7KBCX3/\\x94\\x8c\\x04lane\\x94\\x8c\\x01*\\x94\\x8c\\x10index_sequencing\\x94\\x8c\\x06single\\x94uh\\xcbC\\x04\\x07\\xe5\\x08\\x19\\x94\\x85\\x94R\\x94}\\x94(\\x8c\\x05index\\x94\\x8c\\x08SI-TT-A3\\x94\\x8c\\nbcl_folder\\x94\\x8c_/shared/ngs/illumina/bloom_lab/210825_D00300_1310_BHMH5TBCX3/raw/210825_D00300_1310_BHMH5TBCX3/\\x94\\x8c\\x04lane\\x94h\\xe0\\x8c\\x10index_sequencing\\x94\\x8c\\x04none\\x94uh\\xcbC\\x04\\x07\\xe5\\t\\x0f\\x94\\x85\\x94R\\x94}\\x94(\\x8c\\x05index\\x94\\x8c\\x08SI-TT-A3\\x94\\x8c\\nbcl_folder\\x94\\x8cY/shared/ngs/illumina/bloom_lab/210915_VH00699_2_AAAMCL7M5/raw/210915_VH00699_2_AAAMCL7M5/\\x94\\x8c\\x04lane\\x94h\\xe0\\x8c\\x10index_sequencing\\x94\\x8c\\x04none\\x94uu\\x8c\\x17pacbio_viral_sequencing\\x94}\\x94\\x8c\\x1c2021-08-05_all_segments_run1\\x94\\x8cp/fh/fast/bloom_j/SR/ngs/pacbio/210730_SequelIIe/r64272e_20210730_182729/1_A01/m64272e_210730_193026.subreads.bam\\x94s\\x8c\\x0eviral_barcodes\\x94}\\x94(\\x8c\\x0bsupernatant\\x94}\\x94(\\x8c\\x02wt\\x94}\\x94(\\x8c\\x05fluHA\\x94}\\x94(\\x8c\\x0breplicate_1\\x94}\\x94h\\xcbC\\x04\\x07\\xe5\\x04\\x08\\x94\\x85\\x94R\\x94\\x8c\\x90/shared/ngs/illumina/bloom_lab/210408_M04866_0464_000000000-JL5M4_new-demux/Data/Intensities/BaseCalls/WT-sup-fluHA-rep1_S9_L001_R1_001.fastq.gz\\x94s\\x8c\\x0breplicate_2\\x94}\\x94h\\xcbC\\x04\\x07\\xe5\\x04\\x08\\x94\\x85\\x94R\\x94\\x8c\\x91/shared/ngs/illumina/bloom_lab/210408_M04866_0464_000000000-JL5M4_new-demux/Data/Intensities/BaseCalls/WT-sup-fluHA-rep2_S13_L001_R1_001.fastq.gz\\x94su\\x8c\\x05fluNA\\x94}\\x94(\\x8c\\x0breplicate_1\\x94}\\x94h\\xcbC\\x04\\x07\\xe5\\x04\\x08\\x94\\x85\\x94R\\x94\\x8c\\x90/shared/ngs/illumina/bloom_lab/210408_M04866_0464_000000000-JL5M4_new-demux/Data/Intensities/BaseCalls/WT-sup-fluNA-rep1_S1_L001_R1_001.fastq.gz\\x94s\\x8c\\x0breplicate_2\\x94}\\x94h\\xcbC\\x04\\x07\\xe5\\x05\\x11\\x94\\x85\\x94R\\x94\\x8c\\x86/shared/ngs/illumina/bloom_lab/210517_M03100_0681_000000000-JL4TM/Data/Intensities/BaseCalls/WT-sup-fluNA-rep2_S1_L001_R1_001.fastq.gz\\x94suu\\x8c\\x03syn\\x94}\\x94(\\x8c\\x05fluHA\\x94}\\x94(\\x8c\\x0breplicate_1\\x94}\\x94h\\xcbC\\x04\\x07\\xe5\\x04\\x08\\x94\\x85\\x94R\\x94\\x8c\\x95/shared/ngs/illumina/bloom_lab/210408_M04866_0464_000000000-JL5M4_new-demux/Data/Intensities/BaseCalls/dblSyn-sup-fluHA-rep1_S10_L001_R1_001.fastq.gz\\x94s\\x8c\\x0breplicate_2\\x94}\\x94h\\xcbC\\x04\\x07\\xe5\\x04\\x08\\x94\\x85\\x94R\\x94\\x8c\\x95/shared/ngs/illumina/bloom_lab/210408_M04866_0464_000000000-JL5M4_new-demux/Data/Intensities/BaseCalls/dblSyn-sup-fluHA-rep2_S14_L001_R1_001.fastq.gz\\x94su\\x8c\\x05fluNA\\x94}\\x94(\\x8c\\x0breplicate_1\\x94}\\x94h\\xcbC\\x04\\x07\\xe5\\x04\\x08\\x94\\x85\\x94R\\x94\\x8c\\x94/shared/ngs/illumina/bloom_lab/210408_M04866_0464_000000000-JL5M4_new-demux/Data/Intensities/BaseCalls/dblSyn-sup-fluNA-rep1_S2_L001_R1_001.fastq.gz\\x94s\\x8c\\x0breplicate_2\\x94}\\x94h\\xcbC\\x04\\x07\\xe5\\x04\\x08\\x94\\x85\\x94R\\x94\\x8c\\x94/shared/ngs/illumina/bloom_lab/210408_M04866_0464_000000000-JL5M4_new-demux/Data/Intensities/BaseCalls/dblSyn-sup-fluNA-rep2_S6_L001_R1_001.fastq.gz\\x94suuu\\x8c\\x10second_infection\\x94}\\x94(\\x8c\\x02wt\\x94}\\x94(\\x8c\\x05fluHA\\x94}\\x94(\\x8c\\x0breplicate_1\\x94}\\x94h\\xcbC\\x04\\x07\\xe5\\x05\\x11\\x94\\x85\\x94R\\x94\\x8c\\x85/shared/ngs/illumina/bloom_lab/210517_M03100_0681_000000000-JL4TM/Data/Intensities/BaseCalls/WT-SI-fluHA-rep1_S2_L001_R1_001.fastq.gz\\x94s\\x8c\\x0breplicate_2\\x94}\\x94h\\xcbC\\x04\\x07\\xe5\\x05\\x11\\x94\\x85\\x94R\\x94\\x8c\\x85/shared/ngs/illumina/bloom_lab/210517_M03100_0681_000000000-JL4TM/Data/Intensities/BaseCalls/WT-SI-fluHA-rep2_S3_L001_R1_001.fastq.gz\\x94su\\x8c\\x05fluNA\\x94}\\x94(\\x8c\\x0breplicate_1\\x94}\\x94h\\xcbC\\x04\\x07\\xe5\\x05\\x11\\x94\\x85\\x94R\\x94\\x8c\\x86/shared/ngs/illumina/bloom_lab/210517_M03100_0681_000000000-JL4TM/Data/Intensities/BaseCalls/WT-SI-fluNA-rep1_S11_L001_R1_001.fastq.gz\\x94s\\x8c\\x0breplicate_2\\x94}\\x94h\\xcbC\\x04\\x07\\xe5\\x05\\x11\\x94\\x85\\x94R\\x94\\x8c\\x86/shared/ngs/illumina/bloom_lab/210517_M03100_0681_000000000-JL4TM/Data/Intensities/BaseCalls/WT-SI-fluNA-rep2_S12_L001_R1_001.fastq.gz\\x94suu\\x8c\\x03syn\\x94}\\x94(\\x8c\\x05fluHA\\x94}\\x94(\\x8c\\x0breplicate_1\\x94}\\x94h\\xcbC\\x04\\x07\\xe5\\x05\\x11\\x94\\x85\\x94R\\x94\\x8c\\x89/shared/ngs/illumina/bloom_lab/210517_M03100_0681_000000000-JL4TM/Data/Intensities/BaseCalls/dblSyn-SI-fluHA-rep1_S4_L001_R1_001.fastq.gz\\x94s\\x8c\\x0breplicate_2\\x94}\\x94h\\xcbC\\x04\\x07\\xe5\\x05\\x11\\x94\\x85\\x94R\\x94\\x8c\\x89/shared/ngs/illumina/bloom_lab/210517_M03100_0681_000000000-JL4TM/Data/Intensities/BaseCalls/dblSyn-SI-fluHA-rep2_S5_L001_R1_001.fastq.gz\\x94su\\x8c\\x05fluNA\\x94}\\x94(\\x8c\\x0breplicate_1\\x94}\\x94h\\xcbC\\x04\\x07\\xe5\\x05\\x11\\x94\\x85\\x94R\\x94\\x8c\\x8a/shared/ngs/illumina/bloom_lab/210517_M03100_0681_000000000-JL4TM/Data/Intensities/BaseCalls/dblSyn-SI-fluNA-rep1_S13_L001_R1_001.fastq.gz\\x94s\\x8c\\x0breplicate_2\\x94}\\x94h\\xcbC\\x04\\x07\\xe5\\x05\\x11\\x94\\x85\\x94R\\x94\\x8c\\x8a/shared/ngs/illumina/bloom_lab/210517_M03100_0681_000000000-JL4TM/Data/Intensities/BaseCalls/dblSyn-SI-fluNA-rep2_S14_L001_R1_001.fastq.gz\\x94suuuuusu\\x8c\\x04rule\\x94\\x8c\\x14pacbio_consensus_UMI\\x94\\x8c\\x0fbench_iteration\\x94N\\x8c\\tscriptdir\\x94\\x8c[/fh/fast/bloom_j/computational_notebooks/dbacsik/2019/flu_pdmH1N1_barcode_hashing/notebooks\\x94ub.\"); from snakemake.logging import logger; logger.printshellcmds = False; import os; os.chdir('/fh/fast/bloom_j/computational_notebooks/dbacsik/2019/flu_pdmH1N1_barcode_hashing');\n",
    "######## snakemake preamble end #########\n"
   ]
  },
  {
   "cell_type": "markdown",
   "metadata": {},
   "source": [
    "# Pacbio consensus UMI\n",
    "This notebook calls consensus muations on PacBio data grouped by by cell_barcode, gene, and UMI. Then, it exports a processed CSV with the following columns:\n",
    "* cell_barcode\n",
    "* gene\n",
    "* UMI\n",
    "* mutation\n",
    "* mutation_CCS"
   ]
  },
  {
   "cell_type": "code",
   "execution_count": null,
   "metadata": {
    "execution": {
     "iopub.execute_input": "2022-01-19T01:52:45.339916Z",
     "iopub.status.busy": "2022-01-19T01:52:45.339257Z",
     "iopub.status.idle": "2022-01-19T01:52:48.297071Z",
     "shell.execute_reply": "2022-01-19T01:52:48.297814Z"
    }
   },
   "outputs": [],
   "source": [
    "from IPython.display import display\n",
    "\n",
    "from dms_variants.constants import CBPALETTE\n",
    "\n",
    "import pandas as pd\n",
    "\n",
    "import plotnine as p9"
   ]
  },
  {
   "cell_type": "code",
   "execution_count": null,
   "metadata": {
    "execution": {
     "iopub.execute_input": "2022-01-19T01:52:48.306749Z",
     "iopub.status.busy": "2022-01-19T01:52:48.302275Z",
     "iopub.status.idle": "2022-01-19T01:52:48.311788Z",
     "shell.execute_reply": "2022-01-19T01:52:48.312672Z"
    }
   },
   "outputs": [],
   "source": [
    "CCS_mutations_csv = snakemake.input.CCS_mutations_csv\n",
    "expt = snakemake.wildcards.expt\n",
    "consensus_UMI_csv = snakemake.output.consensus_UMI_csv"
   ]
  },
  {
   "cell_type": "markdown",
   "metadata": {},
   "source": [
    "Style parameters:"
   ]
  },
  {
   "cell_type": "code",
   "execution_count": null,
   "metadata": {
    "execution": {
     "iopub.execute_input": "2022-01-19T01:52:48.319988Z",
     "iopub.status.busy": "2022-01-19T01:52:48.319546Z",
     "iopub.status.idle": "2022-01-19T01:52:48.322205Z",
     "shell.execute_reply": "2022-01-19T01:52:48.321805Z"
    }
   },
   "outputs": [],
   "source": [
    "p9.theme_set(p9.theme_classic())"
   ]
  },
  {
   "cell_type": "markdown",
   "metadata": {},
   "source": [
    "## Load Data"
   ]
  },
  {
   "cell_type": "code",
   "execution_count": null,
   "metadata": {
    "execution": {
     "iopub.execute_input": "2022-01-19T01:52:48.326345Z",
     "iopub.status.busy": "2022-01-19T01:52:48.325806Z",
     "iopub.status.idle": "2022-01-19T01:52:50.509426Z",
     "shell.execute_reply": "2022-01-19T01:52:50.510400Z"
    }
   },
   "outputs": [],
   "source": [
    "UMI_mutations = pd.read_csv(UMI_mutations_csv)\n",
    "display(UMI_mutations)"
   ]
  },
  {
   "cell_type": "markdown",
   "metadata": {},
   "source": [
    "## Process Data"
   ]
  },
  {
   "cell_type": "markdown",
   "metadata": {},
   "source": [
    "Generate list of all cell_barcode-gene-UMI:"
   ]
  },
  {
   "cell_type": "code",
   "execution_count": null,
   "metadata": {},
   "outputs": [],
   "source": [
    "cb_gene_UMI = (\n",
    "    UMI_mutations\n",
    "    [['cell_barcode',\n",
    "      'gene',\n",
    "      'UMI']]\n",
    "    .drop_duplicates()\n",
    ")\n",
    "display(cb_gene_UMI)"
   ]
  },
  {
   "cell_type": "markdown",
   "metadata": {},
   "source": [
    "Count total CCS for cell_barcode-gene-UMI:"
   ]
  },
  {
   "cell_type": "code",
   "execution_count": null,
   "metadata": {},
   "outputs": [],
   "source": [
    "total_CCS_df = (\n",
    "    UMI_mutations\n",
    "    .groupby(['cell_barcode', 'gene', 'UMI'])\n",
    "    ['query_name']\n",
    "    .nunique()\n",
    "    .reset_index()\n",
    "    .rename(columns={'query_name': 'total_CCS'}))\n",
    "display(total_CCS_df)"
   ]
  },
  {
   "cell_type": "markdown",
   "metadata": {},
   "source": [
    "Ignore WT CCS and split each mutation into its own row:"
   ]
  },
  {
   "cell_type": "code",
   "execution_count": null,
   "metadata": {
    "execution": {
     "iopub.execute_input": "2022-01-19T01:52:50.516297Z",
     "iopub.status.busy": "2022-01-19T01:52:50.515324Z",
     "iopub.status.idle": "2022-01-19T01:52:54.615223Z",
     "shell.execute_reply": "2022-01-19T01:52:54.616114Z"
    }
   },
   "outputs": [],
   "source": [
    "UMI_mutations_noWT = UMI_mutations.query('mutations.notnull()', engine='python')\n",
    "UMI_mutations_noWT['muts_split'] = (UMI_mutations_noWT['mutations']\n",
    "                                    .apply(lambda x: str(x).split(' ')))\n",
    "UMI_mutations_noWT = UMI_mutations_noWT.explode('muts_split')\n",
    "\n",
    "display(UMI_mutations_noWT)"
   ]
  },
  {
   "cell_type": "markdown",
   "metadata": {},
   "source": [
    "Count number of CCS supporting each mutation for cell_barcode-gene-UMI:"
   ]
  },
  {
   "cell_type": "code",
   "execution_count": null,
   "metadata": {
    "execution": {
     "iopub.execute_input": "2022-01-19T01:52:54.646753Z",
     "iopub.status.busy": "2022-01-19T01:52:54.645863Z",
     "iopub.status.idle": "2022-01-19T01:52:59.659924Z",
     "shell.execute_reply": "2022-01-19T01:52:59.660782Z"
    }
   },
   "outputs": [],
   "source": [
    "mutation_CCS_df = (\n",
    "    UMI_mutations_noWT\n",
    "    .query()\n",
    "    .groupby(['cell_barcode', 'gene', 'UMI', 'muts_split'])\n",
    "    ['query_name']\n",
    "    .nunique()\n",
    "    .reset_index()\n",
    "    .rename(columns={'query_name': 'mutation_CCS'}))"
   ]
  },
  {
   "cell_type": "markdown",
   "metadata": {},
   "source": [
    "Merge into UMI_mutations df:"
   ]
  },
  {
   "cell_type": "code",
   "execution_count": null,
   "metadata": {
    "execution": {
     "iopub.execute_input": "2022-01-19T01:52:59.667398Z",
     "iopub.status.busy": "2022-01-19T01:52:59.666495Z",
     "iopub.status.idle": "2022-01-19T01:53:09.165708Z",
     "shell.execute_reply": "2022-01-19T01:53:09.166449Z"
    }
   },
   "outputs": [],
   "source": [
    "UMI_mutations = pd.merge(\n",
    "    left=UMI_mutations,\n",
    "    right=mutation_CCS_df,\n",
    "    on=['cell_barcode', 'gene', 'UMI', 'muts_split'],\n",
    "    how='left',\n",
    "    validate='many_to_one'\n",
    ")\n",
    "UMI_mutations = pd.merge(\n",
    "    left=UMI_mutations,\n",
    "    right=total_CCS_df,\n",
    "    on=['cell_barcode', 'gene', 'UMI'],\n",
    "    how='left',\n",
    "    validate='many_to_one'\n",
    ")\n",
    "display(UMI_mutations)"
   ]
  },
  {
   "cell_type": "markdown",
   "metadata": {},
   "source": [
    "Calculate fraction of total CCS with mutation:"
   ]
  },
  {
   "cell_type": "code",
   "execution_count": null,
   "metadata": {
    "execution": {
     "iopub.execute_input": "2022-01-19T01:53:09.172395Z",
     "iopub.status.busy": "2022-01-19T01:53:09.171457Z",
     "iopub.status.idle": "2022-01-19T01:53:09.207283Z",
     "shell.execute_reply": "2022-01-19T01:53:09.208069Z"
    }
   },
   "outputs": [],
   "source": [
    "UMI_mutations['frac_CCS'] = (\n",
    "    UMI_mutations['mutation_CCS'] /\n",
    "    UMI_mutations['total_CCS']\n",
    ")\n",
    "display(UMI_mutations)"
   ]
  },
  {
   "cell_type": "markdown",
   "metadata": {},
   "source": [
    "## Call consensus\n",
    "Label consensus mutations if found in >50% of CCS. This corresponds to `frac_CCS > 0.5` in our dataframe."
   ]
  },
  {
   "cell_type": "code",
   "execution_count": null,
   "metadata": {
    "execution": {
     "iopub.execute_input": "2022-01-19T01:53:09.213031Z",
     "iopub.status.busy": "2022-01-19T01:53:09.212290Z",
     "iopub.status.idle": "2022-01-19T01:53:09.230275Z",
     "shell.execute_reply": "2022-01-19T01:53:09.229583Z"
    }
   },
   "outputs": [],
   "source": [
    "UMI_mutations['consensus'] = (\n",
    "    UMI_mutations['frac_CCS'] > 0.5\n",
    ")\n",
    "display(UMI_mutations)"
   ]
  },
  {
   "cell_type": "markdown",
   "metadata": {},
   "source": [
    "## Plot outcomes"
   ]
  },
  {
   "cell_type": "markdown",
   "metadata": {},
   "source": [
    "Plot distribution of total CCS per cell_barcode-gene-UMI:"
   ]
  },
  {
   "cell_type": "code",
   "execution_count": null,
   "metadata": {
    "execution": {
     "iopub.execute_input": "2022-01-19T01:53:09.236505Z",
     "iopub.status.busy": "2022-01-19T01:53:09.235839Z",
     "iopub.status.idle": "2022-01-19T01:53:10.550673Z",
     "shell.execute_reply": "2022-01-19T01:53:10.551630Z"
    }
   },
   "outputs": [],
   "source": [
    "total_CCS_histo = (\n",
    "    p9.ggplot(\n",
    "        (UMI_mutations\n",
    "         [['cell_barcode', 'gene', 'UMI', 'total_CCS']]\n",
    "         .drop_duplicates()),\n",
    "         p9.aes(x='total_CCS')) +\n",
    "    p9.geom_histogram(stat='count') +\n",
    "    p9.ggtitle('n CCS per cell_barcode-gene-UMI\\n'\n",
    "               f'{expt}') +\n",
    "    p9.labs(x='n CCS',\n",
    "            y='n cell_barcode-gene-UMI') +\n",
    "    p9.theme(figure_size=(4, 3),\n",
    "             plot_title=p9.element_text(size=9),\n",
    "             axis_title=p9.element_text(size=9),\n",
    "             legend_title=p9.element_text(size=9),\n",
    "             legend_title_align='center'))\n",
    "\n",
    "display(total_CCS_histo)"
   ]
  },
  {
   "cell_type": "markdown",
   "metadata": {},
   "source": [
    "Plot distribution of CCS per mutation:"
   ]
  },
  {
   "cell_type": "code",
   "execution_count": null,
   "metadata": {
    "execution": {
     "iopub.execute_input": "2022-01-19T01:53:10.558899Z",
     "iopub.status.busy": "2022-01-19T01:53:10.557999Z",
     "iopub.status.idle": "2022-01-19T01:53:12.736430Z",
     "shell.execute_reply": "2022-01-19T01:53:12.737364Z"
    }
   },
   "outputs": [],
   "source": [
    "mutation_CCS_histo = (\n",
    "    p9.ggplot(\n",
    "        (UMI_mutations\n",
    "         [['cell_barcode', 'gene', 'UMI', 'muts_split', 'mutation_CCS']]\n",
    "         .drop_duplicates()),\n",
    "         p9.aes(x='mutation_CCS')) +\n",
    "    p9.geom_histogram(stat='count') +\n",
    "    p9.ggtitle('n CCS per mutation\\n'\n",
    "               f'{expt}') +\n",
    "    p9.labs(x='n CCS',\n",
    "            y='n cell_barcode-gene-UMI-mutation') +\n",
    "    p9.theme(figure_size=(4, 3),\n",
    "             plot_title=p9.element_text(size=9),\n",
    "             axis_title=p9.element_text(size=9),\n",
    "             legend_title=p9.element_text(size=9),\n",
    "             legend_title_align='center'))\n",
    "\n",
    "display(mutation_CCS_histo)"
   ]
  },
  {
   "cell_type": "markdown",
   "metadata": {},
   "source": [
    "Plot relationship between the two:"
   ]
  },
  {
   "cell_type": "code",
   "execution_count": null,
   "metadata": {
    "execution": {
     "iopub.execute_input": "2022-01-19T01:53:12.744970Z",
     "iopub.status.busy": "2022-01-19T01:53:12.744032Z",
     "iopub.status.idle": "2022-01-19T01:53:47.793788Z",
     "shell.execute_reply": "2022-01-19T01:53:47.794724Z"
    }
   },
   "outputs": [],
   "source": [
    "consensus_mutations_scatter = (\n",
    "    p9.ggplot(\n",
    "        (UMI_mutations\n",
    "         [['cell_barcode', 'gene', 'UMI', 'muts_split', 'mutation_CCS', 'total_CCS', 'consensus']]\n",
    "         .drop_duplicates()),\n",
    "         p9.aes(x='total_CCS',\n",
    "                y='mutation_CCS',\n",
    "                color='consensus')) +\n",
    "    p9.geom_point(alpha=0.1) +\n",
    "    p9.ggtitle('Consensus mutations \\n'\n",
    "               f'{expt}') +\n",
    "    p9.theme(figure_size=(4, 3),\n",
    "             plot_title=p9.element_text(size=9),\n",
    "             axis_title=p9.element_text(size=9),\n",
    "             legend_title=p9.element_text(size=9),\n",
    "             legend_title_align='center') +\n",
    "    p9.scale_color_manual([CBPALETTE[1], CBPALETTE[0]]))\n",
    "\n",
    "display(consensus_mutations_scatter)"
   ]
  },
  {
   "cell_type": "code",
   "execution_count": null,
   "metadata": {
    "execution": {
     "iopub.execute_input": "2022-01-19T01:53:47.800248Z",
     "iopub.status.busy": "2022-01-19T01:53:47.799632Z",
     "iopub.status.idle": "2022-01-19T01:54:00.584386Z",
     "shell.execute_reply": "2022-01-19T01:54:00.585172Z"
    }
   },
   "outputs": [],
   "source": [
    "output_df = (\n",
    "    UMI_mutations\n",
    "    .query('consensus==True')\n",
    "    [['cell_barcode', 'gene', 'UMI', 'muts_split']]\n",
    "    .rename(columns={'muts_split': 'mutation'})\n",
    ")\n",
    "display(output_df)\n",
    "\n",
    "print(f'Saving UMI consensus mutations to {consensus_UMI_csv}')\n",
    "output_df.to_csv(consensus_UMI_csv, index=False)"
   ]
  },
  {
   "cell_type": "code",
   "execution_count": null,
   "metadata": {},
   "outputs": [],
   "source": []
  }
 ],
 "metadata": {
  "kernelspec": {
   "display_name": "Python 3",
   "language": "python",
   "name": "python3"
  },
  "language_info": {
   "codemirror_mode": {
    "name": "ipython",
    "version": 3
   },
   "file_extension": ".py",
   "mimetype": "text/x-python",
   "name": "python",
   "nbconvert_exporter": "python",
   "pygments_lexer": "ipython3",
   "version": "3.8.6"
  }
 },
 "nbformat": 4,
 "nbformat_minor": 4
}
