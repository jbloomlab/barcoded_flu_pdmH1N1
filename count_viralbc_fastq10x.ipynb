{
 "cells": [
  {
   "cell_type": "markdown",
   "metadata": {},
   "source": [
    "# Count viral barcodes from aligned Illumina 10X reads\n",
    "This Python Jupyter notebook counts the viral barcodes from aligned Illumina 10X data and outputs the counts of each viral barcode for each cell barcode and barcoded gene into a CSV."
   ]
  },
  {
   "cell_type": "markdown",
   "metadata": {},
   "source": [
    "## Parameters for notebook\n",
    "First, set the parameters for the notebook.\n",
    "That should be done in the next cell, which is tagged as a `parameters` cell to enable [papermill parameterization](https://papermill.readthedocs.io/en/latest/usage-parameterize.html):"
   ]
  },
  {
   "cell_type": "code",
   "execution_count": null,
   "metadata": {
    "tags": [
     "parameters"
    ]
   },
   "outputs": [],
   "source": [
    "# parameters cell; in order for notebook to run this cell must define:\n",
    "#  - input_fastq10x_bam: BAM file with aligned FASTQ 10X reads\n",
    "#  - input_fastq10x_bai: BAM index file for `input_fastq10x_bai`\n",
    "#  - input_viraltag_locs: CSV file giving the location of the viral tags\n",
    "#  - input_viraltag_identities: YAML file giving expected identity of each tag for each tag variant\n",
    "#  - input_cellbarcodes: TSV file giving valid cell barcodes\n",
    "#  - output_viraltag_counts: created CSV file with the counts of each tag variant for each gene"
   ]
  },
  {
   "cell_type": "code",
   "execution_count": null,
   "metadata": {},
   "outputs": [],
   "source": [
    "# Parameters\n",
    "input_fastq10x_bam = \"results/aligned_fastq10x/wt_virus_pilot/Aligned.sortedByCoord.out.bam\"\n",
    "input_fastq10x_bai = \"results/aligned_fastq10x/wt_virus_pilot/Aligned.sortedByCoord.out.bam.bai\"\n",
    "input_viralbc_locs = \"results/viral_fastq10x/viralbc_locs.csv\"\n",
    "input_cellbarcodes = \"results/aligned_fastq10x/wt_virus_pilot/Solo.out/Gene/filtered/barcodes.tsv\"\n",
    "output_viralbc_counts = \"results/viral_fastq10x/wt_virus_pilot_viralbc_counts.csv\""
   ]
  },
  {
   "cell_type": "markdown",
   "metadata": {},
   "source": [
    "## Import Python modules"
   ]
  },
  {
   "cell_type": "code",
   "execution_count": null,
   "metadata": {},
   "outputs": [],
   "source": [
    "import pandas as pd\n",
    "\n",
    "from plotnine import *\n",
    "\n",
    "from pymodules.tags_and_barcodes import extract_tags\n",
    "\n",
    "import pysam"
   ]
  },
  {
   "cell_type": "markdown",
   "metadata": {},
   "source": [
    "## Read viral barcode locations"
   ]
  },
  {
   "cell_type": "markdown",
   "metadata": {},
   "source": [
    "Read the viral tag locations:"
   ]
  },
  {
   "cell_type": "code",
   "execution_count": null,
   "metadata": {},
   "outputs": [],
   "source": [
    "print(f\"Reading viral barcode locations from {input_viralbc_locs}\")\n",
    "viralbc_locs_df = pd.read_csv(input_viralbc_locs)\n",
    "viralbc_locs_df"
   ]
  },
  {
   "cell_type": "markdown",
   "metadata": {},
   "source": [
    "Get names of the barcoded viral genes:"
   ]
  },
  {
   "cell_type": "code",
   "execution_count": null,
   "metadata": {},
   "outputs": [],
   "source": [
    "bc_viral_genes = viralbc_locs_df['gene'].unique()\n",
    "\n",
    "assert len(bc_viral_genes) == len(viralbc_locs_df), 'currently on support on barcode per gene'"
   ]
  },
  {
   "cell_type": "markdown",
   "metadata": {},
   "source": [
    "## Get set of valid cell barcodes"
   ]
  },
  {
   "cell_type": "code",
   "execution_count": null,
   "metadata": {},
   "outputs": [],
   "source": [
    "print(f\"Reading valid cell barcodes from {input_cellbarcodes}\")\n",
    "\n",
    "cellbarcodes = set(pd.read_csv(input_cellbarcodes, header=None)[0])\n",
    "\n",
    "print(f\"Read {len(cellbarcodes)} valid barcodes.\")"
   ]
  },
  {
   "cell_type": "markdown",
   "metadata": {},
   "source": [
    "## Count viral barcodes\n",
    "For each cell barcode and each viral gene, we count the number of unique reads for each viral tag variant.\n",
    "\n",
    "For each viral barcode, we parse the barcode identity for all reads that cover that barcode.\n",
    "The reads are grouped by UMI and cell barcode, and the viral barcode is labeled as `ambiguous` if there is not a majority consensus (>50%) nucleotide at any site in the viral barcode.\n",
    "    \n",
    "The output of this process is the tidy data frame `viralbc_counts`:"
   ]
  },
  {
   "cell_type": "code",
   "execution_count": null,
   "metadata": {},
   "outputs": [],
   "source": [
    "print(f\"Parsing reads from {input_fastq10x_bam} (index {input_fastq10x_bai}):\\n\")\n",
    "\n",
    "with pysam.AlignmentFile(input_fastq10x_bam, index_filename=input_fastq10x_bai) as bamfile:\n",
    "    \n",
    "    viralbc_counts = pd.DataFrame({},\n",
    "                                  columns=['gene', 'cell_barcode', 'viral_barcode', 'count'])\n",
    "    \n",
    "    assert len(viralbc_locs_df) == viralbc_locs_df['gene'].nunique()\n",
    "    for tup in viralbc_locs_df.itertuples():\n",
    "        print(f\"Processing viral barcodes for {tup.gene}...\", end=' ')\n",
    "        \n",
    "        readiterator = bamfile.fetch(contig=tup.gene,\n",
    "                                     start=tup.start - 1,  # convert 1- to 0-based indexing\n",
    "                                     end=tup.end,\n",
    "                                     )\n",
    "        gene_counts_df = (\n",
    "                extract_tags(readiterator, cellbarcodes, tup.start - 1, tup.end)\n",
    "                .rename(columns={'tag': 'viral_barcode'})\n",
    "                [['cell_barcode', 'UMI', 'viral_barcode']]\n",
    "                )\n",
    "        print(f\"parsed viral barcodes for {len(gene_counts_df)} UMIs.\")\n",
    "            \n",
    "        # aggregate viral barcode counts by gene and cell barcode\n",
    "        viralbc_counts = viralbc_counts.append(\n",
    "            gene_counts_df\n",
    "            .groupby(['cell_barcode', 'viral_barcode'])\n",
    "            .aggregate(count=pd.NamedAgg('UMI', 'count'))\n",
    "            .reset_index()\n",
    "            .assign(gene=tup.gene,\n",
    "                    is_ambiguous=lambda x: x['viral_barcode'] == 'ambiguous')\n",
    "            [['gene', 'cell_barcode', 'viral_barcode', 'count', 'is_ambiguous']],\n",
    "            ignore_index=True, sort=False\n",
    "            )     "
   ]
  },
  {
   "cell_type": "markdown",
   "metadata": {},
   "source": [
    "The results are now in the data frame `viralbc_counts`:"
   ]
  },
  {
   "cell_type": "code",
   "execution_count": null,
   "metadata": {},
   "outputs": [],
   "source": [
    "viralbc_counts"
   ]
  },
  {
   "cell_type": "markdown",
   "metadata": {},
   "source": [
    "## Number of called viral barcodes\n",
    "Tabulate and plot the total number of UMIs with called viral barcodes for each gene, indicating the ones that are ambiguous as well.\n",
    "\n",
    "First tabulate:"
   ]
  },
  {
   "cell_type": "code",
   "execution_count": null,
   "metadata": {},
   "outputs": [],
   "source": [
    "summary_df = (viralbc_counts\n",
    "              .groupby(['gene', 'is_ambiguous'])\n",
    "              .aggregate({'count': 'sum'})\n",
    "              .reset_index()\n",
    "              )\n",
    "\n",
    "summary_df"
   ]
  },
  {
   "cell_type": "markdown",
   "metadata": {},
   "source": [
    "Now plot:"
   ]
  },
  {
   "cell_type": "code",
   "execution_count": null,
   "metadata": {},
   "outputs": [],
   "source": [
    "p = (ggplot(summary_df, aes('gene', 'count', fill='is_ambiguous')) +\n",
    "     geom_bar(stat='identity', position='dodge') +\n",
    "     theme(figure_size=(1 * len(bc_viral_genes), 2.2),\n",
    "           axis_text_x=element_text(angle=90)) +\n",
    "     ylab('UMIs with viral barcode') +\n",
    "     scale_fill_manual(values=('#E69F00', '#56B4E9'))\n",
    "     )\n",
    "\n",
    "_ = p.draw()"
   ]
  },
  {
   "cell_type": "markdown",
   "metadata": {},
   "source": [
    "## Distribution of UMIs per viral barcode\n",
    "Plot the number of UMIs per viral barcode (aggregated over all cell barcodes) in a [knee plot](https://liorpachter.wordpress.com/tag/knee-plot), excluding ambiguous barcodes:"
   ]
  },
  {
   "cell_type": "code",
   "execution_count": null,
   "metadata": {},
   "outputs": [],
   "source": [
    "n_umis = (\n",
    "    viralbc_counts\n",
    "    .query('is_ambiguous == False')\n",
    "    .groupby(['gene', 'viral_barcode'])\n",
    "    .aggregate({'count': 'sum'})\n",
    "    .reset_index()\n",
    "    .sort_values('count', ascending=False)\n",
    "    .assign(rank=lambda x: x.groupby('gene').cumcount() + 1)\n",
    "    )\n",
    "\n",
    "p = (ggplot(n_umis, aes('rank', 'count')) +\n",
    "     geom_path() +\n",
    "     facet_wrap('~ gene', nrow=1) +\n",
    "     theme(figure_size=(3 * len(bc_viral_genes), 2.5)) +\n",
    "     scale_x_log10(name='viral barcode rank') +\n",
    "     scale_y_log10(name='number UMIs (across all cells)')\n",
    "     )\n",
    "\n",
    "_ = p.draw()"
   ]
  },
  {
   "cell_type": "markdown",
   "metadata": {},
   "source": [
    "## Write viral barcodes to file\n",
    "We write a CSV file giving the count of each viral barcode for each gene and cell, excluding ambiguous viral barcodes:"
   ]
  },
  {
   "cell_type": "code",
   "execution_count": null,
   "metadata": {},
   "outputs": [],
   "source": [
    "print(f\"Writing counts to {output_viralbc_counts}\")\n",
    "\n",
    "(viralbc_counts\n",
    " .query('is_ambiguous == False')\n",
    " [['gene', 'cell_barcode', 'viral_barcode', 'count']]\n",
    " .to_csv(output_viralbc_counts, index=False)\n",
    " )"
   ]
  }
 ],
 "metadata": {
  "kernelspec": {
   "display_name": "Python 3",
   "language": "python",
   "name": "python3"
  },
  "language_info": {
   "codemirror_mode": {
    "name": "ipython",
    "version": 3
   },
   "file_extension": ".py",
   "mimetype": "text/x-python",
   "name": "python",
   "nbconvert_exporter": "python",
   "pygments_lexer": "ipython3",
   "version": "3.6.7"
  }
 },
 "nbformat": 4,
 "nbformat_minor": 4
}
