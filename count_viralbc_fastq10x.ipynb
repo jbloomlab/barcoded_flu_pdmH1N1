{
 "cells": [
  {
   "cell_type": "markdown",
   "metadata": {},
   "source": [
    "# Count viral barcodes from aligned Illumina 10X reads\n",
    "This Python Jupyter notebook counts the viral barcodes from aligned Illumina 10X data and outputs the counts of each viral barcode for each cell barcode and barcoded gene into a CSV."
   ]
  },
  {
   "cell_type": "markdown",
   "metadata": {},
   "source": [
    "## Parameters for notebook\n",
    "First, set the parameters for the notebook.\n",
    "That should be done in the next cell, which is tagged as a `parameters` cell to enable [papermill parameterization](https://papermill.readthedocs.io/en/latest/usage-parameterize.html):"
   ]
  },
  {
   "cell_type": "code",
   "execution_count": 1,
   "metadata": {
    "tags": [
     "parameters"
    ]
   },
   "outputs": [],
   "source": [
    "# parameters cell; in order for notebook to run this cell must define:\n",
    "#  - input_fastq10x_bam: BAM file with aligned FASTQ 10X reads\n",
    "#  - input_fastq10x_bai: BAM index file for `input_fastq10x_bai`\n",
    "#  - input_viraltag_locs: CSV file giving the location of the viral tags\n",
    "#  - input_viraltag_identities: YAML file giving expected identity of each tag for each tag variant\n",
    "#  - input_cellbarcodes: TSV file giving valid cell barcodes\n",
    "#  - output_viraltag_counts: created CSV file with the counts of each tag variant for each gene"
   ]
  },
  {
   "cell_type": "code",
   "execution_count": 2,
   "metadata": {},
   "outputs": [],
   "source": [
    "# Parameters\n",
    "input_fastq10x_bam = \"results/aligned_fastq10x/wt_virus_pilot/Aligned.sortedByCoord.out.bam\"\n",
    "input_fastq10x_bai = \"results/aligned_fastq10x/wt_virus_pilot/Aligned.sortedByCoord.out.bam.bai\"\n",
    "input_viralbc_locs = \"results/viral_fastq10x/viralbc_locs.csv\"\n",
    "input_cellbarcodes = \"results/aligned_fastq10x/wt_virus_pilot/Solo.out/Gene/filtered/barcodes.tsv\"\n",
    "output_viralbc_counts = \"results/viral_fastq10x/wt_virus_pilot_viralbc_counts.csv\""
   ]
  },
  {
   "cell_type": "markdown",
   "metadata": {},
   "source": [
    "## Import Python modules"
   ]
  },
  {
   "cell_type": "code",
   "execution_count": 3,
   "metadata": {},
   "outputs": [],
   "source": [
    "import pandas as pd\n",
    "\n",
    "from plotnine import *\n",
    "\n",
    "from pymodules.tags_and_barcodes import extract_tags\n",
    "\n",
    "import pysam"
   ]
  },
  {
   "cell_type": "markdown",
   "metadata": {},
   "source": [
    "## Read viral barcode locations"
   ]
  },
  {
   "cell_type": "markdown",
   "metadata": {},
   "source": [
    "Read the viral tag locations:"
   ]
  },
  {
   "cell_type": "code",
   "execution_count": 4,
   "metadata": {},
   "outputs": [
    {
     "name": "stdout",
     "output_type": "stream",
     "text": [
      "Reading viral barcode locations from results/viral_fastq10x/viralbc_locs.csv\n"
     ]
    },
    {
     "data": {
      "text/html": [
       "<div>\n",
       "<style scoped>\n",
       "    .dataframe tbody tr th:only-of-type {\n",
       "        vertical-align: middle;\n",
       "    }\n",
       "\n",
       "    .dataframe tbody tr th {\n",
       "        vertical-align: top;\n",
       "    }\n",
       "\n",
       "    .dataframe thead th {\n",
       "        text-align: right;\n",
       "    }\n",
       "</style>\n",
       "<table border=\"1\" class=\"dataframe\">\n",
       "  <thead>\n",
       "    <tr style=\"text-align: right;\">\n",
       "      <th></th>\n",
       "      <th>gene</th>\n",
       "      <th>start</th>\n",
       "      <th>end</th>\n",
       "    </tr>\n",
       "  </thead>\n",
       "  <tbody>\n",
       "    <tr>\n",
       "      <th>0</th>\n",
       "      <td>fluHA</td>\n",
       "      <td>1828</td>\n",
       "      <td>1843</td>\n",
       "    </tr>\n",
       "    <tr>\n",
       "      <th>1</th>\n",
       "      <td>fluNA</td>\n",
       "      <td>1551</td>\n",
       "      <td>1566</td>\n",
       "    </tr>\n",
       "  </tbody>\n",
       "</table>\n",
       "</div>"
      ],
      "text/plain": [
       "    gene  start   end\n",
       "0  fluHA   1828  1843\n",
       "1  fluNA   1551  1566"
      ]
     },
     "execution_count": 4,
     "metadata": {},
     "output_type": "execute_result"
    }
   ],
   "source": [
    "print(f\"Reading viral barcode locations from {input_viralbc_locs}\")\n",
    "viralbc_locs_df = pd.read_csv(input_viralbc_locs)\n",
    "viralbc_locs_df"
   ]
  },
  {
   "cell_type": "markdown",
   "metadata": {},
   "source": [
    "Get names of the barcoded viral genes:"
   ]
  },
  {
   "cell_type": "code",
   "execution_count": 5,
   "metadata": {},
   "outputs": [],
   "source": [
    "bc_viral_genes = viralbc_locs_df['gene'].unique()\n",
    "\n",
    "assert len(bc_viral_genes) == len(viralbc_locs_df), 'currently on support on barcode per gene'"
   ]
  },
  {
   "cell_type": "markdown",
   "metadata": {},
   "source": [
    "## Get set of valid cell barcodes"
   ]
  },
  {
   "cell_type": "code",
   "execution_count": 6,
   "metadata": {},
   "outputs": [
    {
     "name": "stdout",
     "output_type": "stream",
     "text": [
      "Reading valid cell barcodes from results/aligned_fastq10x/wt_virus_pilot/Solo.out/Gene/filtered/barcodes.tsv\n",
      "Read 3607 valid barcodes.\n"
     ]
    }
   ],
   "source": [
    "print(f\"Reading valid cell barcodes from {input_cellbarcodes}\")\n",
    "\n",
    "cellbarcodes = set(pd.read_csv(input_cellbarcodes, header=None)[0])\n",
    "\n",
    "print(f\"Read {len(cellbarcodes)} valid barcodes.\")"
   ]
  },
  {
   "cell_type": "markdown",
   "metadata": {},
   "source": [
    "## Count viral barcodes\n",
    "For each cell barcode and each viral gene, we count the number of unique reads for each viral tag variant.\n",
    "\n",
    "For each viral barcode, we parse the barcode identity for all reads that cover that barcode.\n",
    "The reads are grouped by UMI and cell barcode, and the viral barcode is labeled as `ambiguous` if there is not a majority consensus (>50%) nucleotide at any site in the viral barcode.\n",
    "    \n",
    "The output of this process is the tidy data frame `viralbc_counts`:"
   ]
  },
  {
   "cell_type": "code",
   "execution_count": 7,
   "metadata": {},
   "outputs": [
    {
     "name": "stdout",
     "output_type": "stream",
     "text": [
      "Parsing reads from results/aligned_fastq10x/wt_virus_pilot/Aligned.sortedByCoord.out.bam (index results/aligned_fastq10x/wt_virus_pilot/Aligned.sortedByCoord.out.bam.bai):\n",
      "\n",
      "Processing viral barcodes for fluHA... parsed viral barcodes for 289 UMIs.\n",
      "Processing viral barcodes for fluNA... parsed viral barcodes for 178 UMIs.\n"
     ]
    }
   ],
   "source": [
    "print(f\"Parsing reads from {input_fastq10x_bam} (index {input_fastq10x_bai}):\\n\")\n",
    "\n",
    "with pysam.AlignmentFile(input_fastq10x_bam, index_filename=input_fastq10x_bai) as bamfile:\n",
    "    \n",
    "    viralbc_counts = pd.DataFrame({},\n",
    "                                  columns=['gene', 'cell_barcode', 'viral_barcode', 'count'])\n",
    "    \n",
    "    assert len(viralbc_locs_df) == viralbc_locs_df['gene'].nunique()\n",
    "    for tup in viralbc_locs_df.itertuples():\n",
    "        print(f\"Processing viral barcodes for {tup.gene}...\", end=' ')\n",
    "        \n",
    "        readiterator = bamfile.fetch(contig=tup.gene,\n",
    "                                     start=tup.start - 1,  # convert 1- to 0-based indexing\n",
    "                                     end=tup.end,\n",
    "                                     )\n",
    "        gene_counts_df = (\n",
    "                extract_tags(readiterator, cellbarcodes, tup.start - 1, tup.end)\n",
    "                .rename(columns={'tag': 'viral_barcode'})\n",
    "                [['cell_barcode', 'UMI', 'viral_barcode']]\n",
    "                )\n",
    "        print(f\"parsed viral barcodes for {len(gene_counts_df)} UMIs.\")\n",
    "            \n",
    "        # aggregate viral barcode counts by gene and cell barcode\n",
    "        viralbc_counts = viralbc_counts.append(\n",
    "            gene_counts_df\n",
    "            .groupby(['cell_barcode', 'viral_barcode'])\n",
    "            .aggregate(count=pd.NamedAgg('UMI', 'count'))\n",
    "            .reset_index()\n",
    "            .assign(gene=tup.gene)\n",
    "            [['gene', 'cell_barcode', 'viral_barcode', 'count']],\n",
    "            ignore_index=True, sort=False\n",
    "            )     "
   ]
  },
  {
   "cell_type": "markdown",
   "metadata": {},
   "source": [
    "The results are now in the data frame `viralbc_counts`:"
   ]
  },
  {
   "cell_type": "code",
   "execution_count": 8,
   "metadata": {},
   "outputs": [
    {
     "data": {
      "text/html": [
       "<div>\n",
       "<style scoped>\n",
       "    .dataframe tbody tr th:only-of-type {\n",
       "        vertical-align: middle;\n",
       "    }\n",
       "\n",
       "    .dataframe tbody tr th {\n",
       "        vertical-align: top;\n",
       "    }\n",
       "\n",
       "    .dataframe thead th {\n",
       "        text-align: right;\n",
       "    }\n",
       "</style>\n",
       "<table border=\"1\" class=\"dataframe\">\n",
       "  <thead>\n",
       "    <tr style=\"text-align: right;\">\n",
       "      <th></th>\n",
       "      <th>gene</th>\n",
       "      <th>cell_barcode</th>\n",
       "      <th>viral_barcode</th>\n",
       "      <th>count</th>\n",
       "    </tr>\n",
       "  </thead>\n",
       "  <tbody>\n",
       "    <tr>\n",
       "      <th>0</th>\n",
       "      <td>fluHA</td>\n",
       "      <td>AAACGCTCACCGAATT</td>\n",
       "      <td>GAGACGGAAGAGTCAA</td>\n",
       "      <td>1</td>\n",
       "    </tr>\n",
       "    <tr>\n",
       "      <th>1</th>\n",
       "      <td>fluHA</td>\n",
       "      <td>AAAGTGAAGGAGATAG</td>\n",
       "      <td>CGATACAGGGATCCCG</td>\n",
       "      <td>3</td>\n",
       "    </tr>\n",
       "    <tr>\n",
       "      <th>2</th>\n",
       "      <td>fluHA</td>\n",
       "      <td>AAAGTGAAGGAGATAG</td>\n",
       "      <td>GATACAGGGATCCCAT</td>\n",
       "      <td>1</td>\n",
       "    </tr>\n",
       "    <tr>\n",
       "      <th>3</th>\n",
       "      <td>fluHA</td>\n",
       "      <td>AAAGTGAGTAACATCC</td>\n",
       "      <td>ATGCTGATTCAACTCA</td>\n",
       "      <td>1</td>\n",
       "    </tr>\n",
       "    <tr>\n",
       "      <th>4</th>\n",
       "      <td>fluHA</td>\n",
       "      <td>AAAGTGAGTAACATCC</td>\n",
       "      <td>GTGGAACGGGCCCCAT</td>\n",
       "      <td>1</td>\n",
       "    </tr>\n",
       "    <tr>\n",
       "      <th>...</th>\n",
       "      <td>...</td>\n",
       "      <td>...</td>\n",
       "      <td>...</td>\n",
       "      <td>...</td>\n",
       "    </tr>\n",
       "    <tr>\n",
       "      <th>351</th>\n",
       "      <td>fluNA</td>\n",
       "      <td>TTGTTTGCAGCGCGTT</td>\n",
       "      <td>AGAAGCTTCTCCCCAT</td>\n",
       "      <td>1</td>\n",
       "    </tr>\n",
       "    <tr>\n",
       "      <th>352</th>\n",
       "      <td>fluNA</td>\n",
       "      <td>TTTCACACAACGAGGT</td>\n",
       "      <td>AGGAGGCGTTGCGCAT</td>\n",
       "      <td>1</td>\n",
       "    </tr>\n",
       "    <tr>\n",
       "      <th>353</th>\n",
       "      <td>fluNA</td>\n",
       "      <td>TTTCACAGTCCGTACG</td>\n",
       "      <td>TAGGGGGGACTGGAAC</td>\n",
       "      <td>1</td>\n",
       "    </tr>\n",
       "    <tr>\n",
       "      <th>354</th>\n",
       "      <td>fluNA</td>\n",
       "      <td>TTTCACATCGCACGAC</td>\n",
       "      <td>ATATCGAGATAAAAAG</td>\n",
       "      <td>1</td>\n",
       "    </tr>\n",
       "    <tr>\n",
       "      <th>355</th>\n",
       "      <td>fluNA</td>\n",
       "      <td>TTTCACATCGCACGAC</td>\n",
       "      <td>TTCGCAGCACTCCCAT</td>\n",
       "      <td>1</td>\n",
       "    </tr>\n",
       "  </tbody>\n",
       "</table>\n",
       "<p>356 rows × 4 columns</p>\n",
       "</div>"
      ],
      "text/plain": [
       "      gene      cell_barcode     viral_barcode count\n",
       "0    fluHA  AAACGCTCACCGAATT  GAGACGGAAGAGTCAA     1\n",
       "1    fluHA  AAAGTGAAGGAGATAG  CGATACAGGGATCCCG     3\n",
       "2    fluHA  AAAGTGAAGGAGATAG  GATACAGGGATCCCAT     1\n",
       "3    fluHA  AAAGTGAGTAACATCC  ATGCTGATTCAACTCA     1\n",
       "4    fluHA  AAAGTGAGTAACATCC  GTGGAACGGGCCCCAT     1\n",
       "..     ...               ...               ...   ...\n",
       "351  fluNA  TTGTTTGCAGCGCGTT  AGAAGCTTCTCCCCAT     1\n",
       "352  fluNA  TTTCACACAACGAGGT  AGGAGGCGTTGCGCAT     1\n",
       "353  fluNA  TTTCACAGTCCGTACG  TAGGGGGGACTGGAAC     1\n",
       "354  fluNA  TTTCACATCGCACGAC  ATATCGAGATAAAAAG     1\n",
       "355  fluNA  TTTCACATCGCACGAC  TTCGCAGCACTCCCAT     1\n",
       "\n",
       "[356 rows x 4 columns]"
      ]
     },
     "execution_count": 8,
     "metadata": {},
     "output_type": "execute_result"
    }
   ],
   "source": [
    "viralbc_counts"
   ]
  },
  {
   "cell_type": "markdown",
   "metadata": {},
   "source": [
    "**Recall that some might be `ambiguous`**"
   ]
  },
  {
   "cell_type": "code",
   "execution_count": 10,
   "metadata": {},
   "outputs": [
    {
     "data": {
      "text/html": [
       "<div>\n",
       "<style scoped>\n",
       "    .dataframe tbody tr th:only-of-type {\n",
       "        vertical-align: middle;\n",
       "    }\n",
       "\n",
       "    .dataframe tbody tr th {\n",
       "        vertical-align: top;\n",
       "    }\n",
       "\n",
       "    .dataframe thead th {\n",
       "        text-align: right;\n",
       "    }\n",
       "</style>\n",
       "<table border=\"1\" class=\"dataframe\">\n",
       "  <thead>\n",
       "    <tr style=\"text-align: right;\">\n",
       "      <th></th>\n",
       "      <th>gene</th>\n",
       "      <th>cell_barcode</th>\n",
       "      <th>viral_barcode</th>\n",
       "      <th>count</th>\n",
       "    </tr>\n",
       "  </thead>\n",
       "  <tbody>\n",
       "    <tr>\n",
       "      <th>198</th>\n",
       "      <td>fluHA</td>\n",
       "      <td>TTGAGTGGTTGTAGCT</td>\n",
       "      <td>ambiguous</td>\n",
       "      <td>1</td>\n",
       "    </tr>\n",
       "  </tbody>\n",
       "</table>\n",
       "</div>"
      ],
      "text/plain": [
       "      gene      cell_barcode viral_barcode count\n",
       "198  fluHA  TTGAGTGGTTGTAGCT     ambiguous     1"
      ]
     },
     "execution_count": 10,
     "metadata": {},
     "output_type": "execute_result"
    }
   ],
   "source": [
    "viralbc_counts.query('viral_barcode == \"ambiguous\"')"
   ]
  },
  {
   "cell_type": "code",
   "execution_count": null,
   "metadata": {},
   "outputs": [],
   "source": []
  }
 ],
 "metadata": {
  "kernelspec": {
   "display_name": "Python 3",
   "language": "python",
   "name": "python3"
  },
  "language_info": {
   "codemirror_mode": {
    "name": "ipython",
    "version": 3
   },
   "file_extension": ".py",
   "mimetype": "text/x-python",
   "name": "python",
   "nbconvert_exporter": "python",
   "pygments_lexer": "ipython3",
   "version": "3.6.7"
  }
 },
 "nbformat": 4,
 "nbformat_minor": 4
}
